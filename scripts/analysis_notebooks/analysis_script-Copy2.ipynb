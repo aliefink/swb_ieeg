{
 "cells": [
  {
   "cell_type": "markdown",
   "id": "8e484438",
   "metadata": {},
   "source": [
    "# Example analysis notebook"
   ]
  },
  {
   "cell_type": "markdown",
   "id": "6a15007b",
   "metadata": {},
   "source": [
    "In this notebook, we will go through the basics of: \n",
    "\n",
    "1. Load pre-processed data\n",
    "\n",
    "2. Synchronize to behavioral data\n",
    "\n",
    "3. Process the behavioral data \n",
    "\n",
    "4. Create epochs\n",
    "\n",
    "5. Downsample the epoched data \n",
    "\n",
    "6. Look for IEDs (**automatic** or manual) \n",
    "\n",
    "7. Save the epoched data \n",
    "\n",
    "8. Compute TFR and drop IED trials if you care about low frequencies. \n",
    "\n",
    "9. Plot\n",
    "\n",
    "10. Example of statistical analyses (TODO)"
   ]
  },
  {
   "cell_type": "markdown",
   "id": "487ed4af",
   "metadata": {},
   "source": [
    "The main point of this notebook is to make epoched data **CORRECTLY** as this will be the crux of many, many analyses in the future, and to provide tools for IED detection in epochs (both automatic and manual)."
   ]
  },
  {
   "cell_type": "markdown",
   "id": "dd473976",
   "metadata": {},
   "source": [
    "On IEDS: \n",
    "\n",
    "- Great images of interictal and ictal spiking: \n",
    "\n",
    "    1. https://pubmed.ncbi.nlm.nih.gov/32007920/\n",
    "    \n",
    "    2. https://www.sciencedirect.com/science/article/pii/S1059131119304200\n",
    "\n",
    "- More on IEDs: \n",
    "\n",
    "    1. https://www.frontiersin.org/articles/10.3389/fnhum.2020.00044/full\n",
    "\n",
    "    2. Why removing trials with IEDs might be important for generalizable conclusions about behavior: \n",
    "    \n",
    "    https://www.ncbi.nlm.nih.gov/pmc/articles/PMC3770206/\n",
    "    \n",
    "    https://academic.oup.com/cercorcomms/article/2/2/tgab019/6179205\n",
    "    \n",
    "- Especially for low frequencies (sub-gamma) this is important! \"Low-frequency power remained elevated for several seconds following the IED... Low-frequency power was elevated and high-frequency power suppressed in pre-IED epochs compared with non-IED epochs.\"\n"
   ]
  },
  {
   "cell_type": "code",
   "execution_count": 1,
   "id": "af2e6b18",
   "metadata": {},
   "outputs": [],
   "source": [
    "%matplotlib inline\n",
    "%reload_ext autoreload\n",
    "%autoreload 2"
   ]
  },
  {
   "cell_type": "code",
   "execution_count": 2,
   "id": "f908b254",
   "metadata": {},
   "outputs": [],
   "source": [
    "import numpy as np\n",
    "import mne\n",
    "from glob import glob\n",
    "import matplotlib.pyplot as plt\n",
    "from matplotlib.backends.backend_pdf import PdfPages\n",
    "import seaborn as sns\n",
    "import scipy\n",
    "from scipy.stats import zscore, linregress\n",
    "import pandas as pd\n",
    "from mne.preprocessing.bads import _find_outliers\n",
    "import numpy as np \n",
    "import os \n",
    "from scipy.stats import norm, zscore, linregress\n",
    "import scipy\n",
    "\n",
    "import warnings\n",
    "warnings.filterwarnings('ignore')"
   ]
  },
  {
   "cell_type": "code",
   "execution_count": 3,
   "id": "2bdeb510",
   "metadata": {},
   "outputs": [],
   "source": [
    "import sys\n",
    "sys.path.append('/Users/christinamaher/Documents/Github/LFPAnalysis')\n"
   ]
  },
  {
   "cell_type": "code",
   "execution_count": 4,
   "id": "e3b0bfd9",
   "metadata": {},
   "outputs": [],
   "source": [
    "from LFPAnalysis import lfp_preprocess_utils, sync_utils, analysis_utils\n"
   ]
  },
  {
   "cell_type": "code",
   "execution_count": 5,
   "id": "ee98d7fa",
   "metadata": {},
   "outputs": [],
   "source": [
    "subject = 'MS012'"
   ]
  },
  {
   "cell_type": "markdown",
   "id": "6d9cb133",
   "metadata": {},
   "source": [
    "## Loading pre-processed data"
   ]
  },
  {
   "cell_type": "markdown",
   "id": "bbac595c",
   "metadata": {},
   "source": [
    "It's a good idea to setup a sensible directory structure like below. Note that all my data lives on '/sc/arion' which is Minerva. \n",
    "\n"
   ]
  },
  {
   "cell_type": "code",
   "execution_count": 6,
   "id": "11d44bff",
   "metadata": {},
   "outputs": [],
   "source": [
    "base_dir = '/Users/christinamaher/Desktop/ieeg_data' # this is the root directory for most un-archived data and results \n",
    "\n",
    "save_dir = f'{base_dir}/{subject}'  # save intermediate results in the 'work' directory\n",
    "    \n",
    "# I have saved most of my raw data in the 'projects directory'\n",
    "behav_dir = f'{base_dir}/{subject}/Behavior'\n",
    "neural_dir = f'{base_dir}/{subject}/Ephys'\n",
    "anat_dir = f'{base_dir}/{subject}/Anat'"
   ]
  },
  {
   "cell_type": "markdown",
   "id": "886316a7",
   "metadata": {},
   "source": [
    "Let's load in the re-referenced data, the photodiode data for synchronization, and the electrode dataframe"
   ]
  },
  {
   "cell_type": "code",
   "execution_count": 7,
   "id": "916bdb27",
   "metadata": {},
   "outputs": [
    {
     "name": "stdout",
     "output_type": "stream",
     "text": [
      "Opening raw data file /Users/christinamaher/Desktop/ieeg_data/MS012/Ephys/wm_ref_ieeg.fif...\n",
      "    Range : 0 ... 826187 =      0.000 ...  1652.374 secs\n",
      "Ready.\n",
      "Reading 0 ... 826187  =      0.000 ...  1652.374 secs...\n"
     ]
    }
   ],
   "source": [
    "wm_ref_data = mne.io.read_raw_fif(f'/Users/christinamaher/Desktop/ieeg_data/{subject}/Ephys/wm_ref_ieeg.fif', preload=True)\n",
    "anode_list = [x.split('-')[0] for x in wm_ref_data.ch_names]"
   ]
  },
  {
   "cell_type": "code",
   "execution_count": 8,
   "id": "222f1d93",
   "metadata": {},
   "outputs": [
    {
     "name": "stdout",
     "output_type": "stream",
     "text": [
      "Opening raw data file /Users/christinamaher/Desktop/ieeg_data/MS012/Ephys/wm_ref_ieeg.fif...\n",
      "    Range : 0 ... 826187 =      0.000 ...  1652.374 secs\n",
      "Ready.\n",
      "Reading 0 ... 826187  =      0.000 ...  1652.374 secs...\n",
      "Opening raw data file /Users/christinamaher/Desktop/ieeg_data/MS012/Ephys/photodiode.fif...\n",
      "Isotrak not found\n",
      "    Range : 0 ... 1692031 =      0.000 ...  1652.374 secs\n",
      "Ready.\n",
      "Reading 0 ... 1692031  =      0.000 ...  1652.374 secs...\n"
     ]
    }
   ],
   "source": [
    "wm_ref_data = mne.io.read_raw_fif(f'{base_dir}/{subject}/Ephys/wm_ref_ieeg.fif', preload=True)\n",
    "anode_list = [x.split('-')[0] for x in wm_ref_data.ch_names]\n",
    "photodiode = mne.io.read_raw_fif(f'{base_dir}/{subject}/Ephys/photodiode.fif', preload=True)\n",
    "\n",
    "csv_files = glob(f'{anat_dir}/{subject}_labels.csv')\n",
    "elec_locs = pd.read_csv(csv_files[0])\n",
    "\n",
    "# Sometimes there's extra columns with no entries: \n",
    "elec_locs = elec_locs[elec_locs.columns.drop(list(elec_locs.filter(regex='Unnamed')))]\n",
    "\n",
    "elec_df = elec_locs[elec_locs.NMMlabel.str.lower().isin(anode_list)]\n",
    "\n",
    "elec_df['NMMlabel'] = wm_ref_data.ch_names"
   ]
  },
  {
   "cell_type": "code",
   "execution_count": null,
   "id": "43a36152",
   "metadata": {},
   "outputs": [],
   "source": [
    "#resample photodiode\n",
    "resample_sr = 500\n",
    "photodiode.resample(sfreq=resample_sr, npad='auto', n_jobs=-1)"
   ]
  },
  {
   "cell_type": "code",
   "execution_count": 9,
   "id": "cb22d089",
   "metadata": {},
   "outputs": [],
   "source": [
    "# load behavior data and save timestamp(s) of interest as variable \n",
    "behavior = pd.read_csv(f'{base_dir}/{subject}/Behavior/{subject}_clean.csv')\n",
    "choice_ts = np.array(behavior['choice_ts'])\n",
    "#choice_ts = choice_ts / (1024/500) # we didn't resample, the photodiode \n",
    "#choice_ts = choice_ts/2.048"
   ]
  },
  {
   "cell_type": "code",
   "execution_count": 10,
   "id": "73b7fd69",
   "metadata": {},
   "outputs": [
    {
     "data": {
      "text/plain": [
       "array([ 841510.184,  845208.381,  847990.467,  851422.351,  854870.729,\n",
       "        858619.087,  861817.575,  865615.915,  868564.586,  871496.611,\n",
       "        875661.385,  879243.113,  883357.873,  886777.745,  890404.691,\n",
       "        893869.759,  897684.593,  900616.746,  916242.866,  920757.635,\n",
       "        924372.514,  927387.916,  930503.245,  933351.786,  936100.66 ,\n",
       "        939365.856,  942947.588,  946062.784,  949377.974,  953009.65 ,\n",
       "        957674.248,  960589.583,  963504.92 ,  966120.376,  969425.086,\n",
       "        972872.876,  988810.136,  992358.469,  995523.733,  999455.292,\n",
       "       1002782.624, 1005935.681, 1009917.248, 1012682.705, 1015847.895,\n",
       "       1019712.779, 1023694.32 , 1026926.222, 1030357.906, 1033473.202,\n",
       "       1036455.206, 1040320.158, 1043935.102, 1047850.126, 1064509.186,\n",
       "       1068257.575, 1071655.922, 1074754.537, 1077719.87 , 1081118.275,\n",
       "       1084333.589, 1087115.672, 1090447.337, 1093812.617, 1096877.802,\n",
       "       1099876.518, 1103075.093, 1105790.538, 1108922.444, 1112170.985,\n",
       "       1115486.19 , 1118817.859, 1134127.716, 1136859.76 , 1140757.933,\n",
       "       1144439.695, 1147904.677, 1150803.519, 1154651.627, 1157666.982,\n",
       "       1161032.21 , 1163998.363, 1167845.777, 1170944.371, 1174708.012,\n",
       "       1178074.471, 1181223.   , 1184571.487, 1187986.646, 1191485.035,\n",
       "       1206544.927, 1209926.657, 1213175.142, 1216407.112, 1219222.48 ,\n",
       "       1222304.433, 1225956.848, 1228934.639, 1232683.023, 1236014.928,\n",
       "       1239646.605, 1242928.382, 1246543.445, 1249442.13 , 1252507.447,\n",
       "       1256255.776, 1260154.038, 1263585.625, 1279561.908, 1282943.655,\n",
       "       1287708.175, 1290623.368, 1293788.708, 1297020.541, 1300718.921,\n",
       "       1303667.619, 1306799.461, 1310081.338, 1313313.265, 1317911.126,\n",
       "       1321292.977, 1324758.078, 1328406.438, 1331521.595, 1335736.382,\n",
       "       1340251.017, 1355377.554, 1358309.521, 1361841.234, 1364806.639,\n",
       "       1367488.665, 1370070.797, 1373785.871, 1376984.37 , 1380166.218,\n",
       "       1382948.452, 1386030.302, 1389295.467, 1392727.311, 1396109.117,\n",
       "       1399041.057, 1402472.882, 1405588.146, 1409636.334, 1425312.552,\n",
       "       1429160.794, 1432092.843, 1435191.396, 1438206.582, 1441205.357,\n",
       "       1444120.628, 1447185.912, 1450434.476, 1454266.107, 1457481.264,\n",
       "       1461079.649, 1464461.496, 1467360.083, 1471474.919, 1474923.458,\n",
       "       1477672.198, 1481170.554, 1497713.14 , 1500928.331, 1503793.661,\n",
       "       1506692.32 , 1510007.504, 1513389.298, 1516188.012, 1519353.342,\n",
       "       1522052.05 , 1525183.956, 1528532.463, 1531397.756, 1534479.697,\n",
       "       1538044.853, 1540760.173, 1543558.966, 1546674.28 , 1549672.942,\n",
       "       1564599.449, 1568031.292, 1571279.742, 1574195.122, 1577043.867,\n",
       "       1580525.537, 1584657.07 , 1588438.736, 1592236.952, 1595202.248,\n",
       "       1598983.884, 1602348.975, 1605897.457, 1608829.411, 1611894.699,\n",
       "       1614959.883, 1618674.908, 1622456.659, 1637982.952, 1641231.508,\n",
       "       1644413.307, 1647445.267, 1650677.087, 1653775.746, 1656757.661,\n",
       "       1660139.533, 1663571.354, 1667369.641, 1670701.447, 1674233.22 ,\n",
       "       1677081.912, 1680363.683, 1683878.784, 1687366.607, 1690725.641,\n",
       "       1693641.053])"
      ]
     },
     "execution_count": 10,
     "metadata": {},
     "output_type": "execute_result"
    }
   ],
   "source": [
    "choice_ts"
   ]
  },
  {
   "cell_type": "code",
   "execution_count": 11,
   "id": "0269afc1",
   "metadata": {},
   "outputs": [
    {
     "data": {
      "image/png": "[encoded data removed]",
      "text/plain": [
       "<Figure size 640x480 with 1 Axes>"
      ]
     },
     "metadata": {},
     "output_type": "display_data"
    }
   ],
   "source": [
    "# plot photodiode\n",
    "plt.plot(photodiode._data[0])\n",
    "plt.xlabel(\"Time\")\n",
    "plt.ylabel(\"V\")\n",
    "plt.title(\"Photodiode\")\n",
    "\n",
    "zeros = np.array([0.05] * len(choice_ts))\n",
    "x_ts = choice_ts\n",
    "y_ts = zeros.T\n",
    "plt.scatter(x_ts,y_ts,color='red')\n",
    "\n",
    "plt.show()"
   ]
  },
  {
   "cell_type": "code",
   "execution_count": null,
   "id": "f6d9f152",
   "metadata": {},
   "outputs": [],
   "source": [
    "# photodiode = mne.io.read_raw_fif(f'{base_dir}/{subject}/Ephys/photodiode.fif', preload=True)\n",
    "# resample_sr = 500\n",
    "# photodiode.resample(sfreq=resample_sr, npad='auto', n_jobs=-1)"
   ]
  },
  {
   "cell_type": "code",
   "execution_count": null,
   "id": "9c4e1ae1",
   "metadata": {},
   "outputs": [],
   "source": [
    "#photodiode troubleshooting\n",
    "\n",
    "#https://docs.scipy.org/doc/scipy/reference/generated/scipy.signal.find_peaks.html\n",
    "#step one - use find peaks to remove block peaks DONE\n",
    "#step two - need to remove iti start \n",
    "    #option 1 - use find peaks again and remove every other peak (kinda sloppy but easier and might work)\n",
    "    #option 2 - find width of each peak and pair them up and remove the one that has a smaller peak width (potentially with find peaks)\n",
    "    #WIDTH COULD HELP WITH STEP 2\n",
    "    \n",
    "\n",
    "#potentially need to remove training  "
   ]
  },
  {
   "cell_type": "code",
   "execution_count": 12,
   "id": "9434acaf",
   "metadata": {},
   "outputs": [],
   "source": [
    "#things to make more general for other patients \n",
    "block_heights = 0.015\n"
   ]
  },
  {
   "cell_type": "code",
   "execution_count": 13,
   "id": "0d7ebabf",
   "metadata": {},
   "outputs": [],
   "source": [
    "#remove trial block peaks!!!!\n",
    "block_peaks = np.where(photodiode._data[0]>block_heights)[0]\n",
    "new_diode = photodiode._data[0].copy()\n",
    "new_diode[block_peaks] = np.min(photodiode._data[0])"
   ]
  },
  {
   "cell_type": "code",
   "execution_count": 14,
   "id": "ca8227bb",
   "metadata": {},
   "outputs": [],
   "source": [
    "photodiode_copy = photodiode.copy()\n",
    "photodiode_copy._data[0] = new_diode"
   ]
  },
  {
   "cell_type": "code",
   "execution_count": 15,
   "id": "7a3b1f18",
   "metadata": {},
   "outputs": [
    {
     "data": {
      "image/png": "[encoded data removed]",
      "text/plain": [
       "<Figure size 640x480 with 1 Axes>"
      ]
     },
     "metadata": {},
     "output_type": "display_data"
    }
   ],
   "source": [
    "# plot photodiode\n",
    "plt.plot(photodiode_copy._data[0])\n",
    "plt.xlabel(\"Time\")\n",
    "plt.ylabel(\"V\")\n",
    "plt.title(\"Photodiode\")\n",
    "\n",
    "\n",
    "# zeros = np.array([0] * len(choice_peaks))\n",
    "# x_ts = choice_peaks\n",
    "# y_ts = zeros.T\n",
    "# plt.scatter(x_ts,y_ts,color='red')\n",
    "\n",
    "plt.show()"
   ]
  },
  {
   "cell_type": "markdown",
   "id": "40323ee6",
   "metadata": {},
   "source": [
    "remove iti peaks\n",
    "min ITI is 501.9493, max is 1495.82\n",
    "387420 - 386680\n",
    "ITI PEAK WIDTH IS ALWAYS 244"
   ]
  },
  {
   "cell_type": "code",
   "execution_count": 16,
   "id": "dee79f72",
   "metadata": {},
   "outputs": [],
   "source": [
    "\n",
    "iti = scipy.signal.find_peaks(photodiode_copy._data[0],height=[0,block_heights], width = [200,300])[1]\n",
    "iti_start = iti['left_bases']\n",
    "\n",
    "#iti_end = iti['right_bases']\n",
    "# ch = scipy.signal.find_peaks(photodiode_copy._data[0],height = [0,0.02], width = [475, 515])[1]\n",
    "# choice_peaks = ch['left_bases']\n"
   ]
  },
  {
   "cell_type": "code",
   "execution_count": 17,
   "id": "297dd175",
   "metadata": {},
   "outputs": [
    {
     "data": {
      "text/plain": [
       "0"
      ]
     },
     "execution_count": 17,
     "metadata": {},
     "output_type": "execute_result"
    }
   ],
   "source": [
    "len(iti_start)"
   ]
  },
  {
   "cell_type": "code",
   "execution_count": 18,
   "id": "16475a95",
   "metadata": {},
   "outputs": [],
   "source": [
    "all_itis = []\n",
    "\n",
    "for s in iti_start:\n",
    "    start = s \n",
    "    end = start + 300\n",
    "    iti = np.arange(start, end)\n",
    "    all_itis += list(iti)"
   ]
  },
  {
   "cell_type": "code",
   "execution_count": 19,
   "id": "00a4a9f1",
   "metadata": {},
   "outputs": [
    {
     "data": {
      "text/plain": [
       "0"
      ]
     },
     "execution_count": 19,
     "metadata": {},
     "output_type": "execute_result"
    }
   ],
   "source": [
    "len(all_itis)"
   ]
  },
  {
   "cell_type": "code",
   "execution_count": 20,
   "id": "5b3baf76",
   "metadata": {},
   "outputs": [],
   "source": [
    "choices = photodiode_copy._data[0].copy()\n",
    "choices[all_itis] = np.min(photodiode_copy._data[0])\n",
    "photodiode_final = photodiode_copy.copy()\n",
    "photodiode_final._data[0] = choices"
   ]
  },
  {
   "cell_type": "code",
   "execution_count": 21,
   "id": "69bae097",
   "metadata": {},
   "outputs": [
    {
     "data": {
      "image/png": "[encoded data removed]",
      "text/plain": [
       "<Figure size 640x480 with 1 Axes>"
      ]
     },
     "metadata": {},
     "output_type": "display_data"
    }
   ],
   "source": [
    "# plot photodiode\n",
    "plt.plot(photodiode_final._data[0])\n",
    "plt.xlabel(\"Time\")\n",
    "plt.ylabel(\"V\")\n",
    "plt.title(\"Photodiode\")\n",
    "plt.show()"
   ]
  },
  {
   "cell_type": "code",
   "execution_count": 22,
   "id": "a46e7e1e",
   "metadata": {},
   "outputs": [],
   "source": [
    "#noise height could change\n",
    "noise = scipy.signal.find_peaks(photodiode_final._data[0],height=-0.01, width = 300)[1]\n",
    "noise_start = noise['left_bases']\n"
   ]
  },
  {
   "cell_type": "code",
   "execution_count": 23,
   "id": "74c733fe",
   "metadata": {},
   "outputs": [],
   "source": [
    "all_noise = []\n",
    "\n",
    "for s in noise_start:\n",
    "    start = s\n",
    "    end = start + 100\n",
    "    noise = np.arange(start, end)\n",
    "    all_noise += list(noise)"
   ]
  },
  {
   "cell_type": "code",
   "execution_count": 24,
   "id": "4df521cb",
   "metadata": {},
   "outputs": [],
   "source": [
    "final = photodiode_final._data[0].copy()\n",
    "final[all_noise] = np.min(photodiode_copy._data[0])\n",
    "photodiode_last = photodiode_final.copy()\n",
    "photodiode_last._data[0] = final"
   ]
  },
  {
   "cell_type": "code",
   "execution_count": 25,
   "id": "9232bc92",
   "metadata": {},
   "outputs": [
    {
     "name": "stdout",
     "output_type": "stream",
     "text": [
      "52 blocks\n",
      "....................................................\n",
      "\n",
      "found matches for 40 of 523 pulses\n",
      "34 blocks\n",
      "..................................\n",
      "\n",
      "found matches for 60 of 523 pulses\n",
      "26 blocks\n",
      "..........................\n",
      "\n",
      "found matches for 0 of 523 pulses\n"
     ]
    },
    {
     "ename": "IndexError",
     "evalue": "index 0 is out of bounds for axis 0 with size 0",
     "output_type": "error",
     "traceback": [
      "\u001b[0;31m---------------------------------------------------------------------------\u001b[0m",
      "\u001b[0;31mIndexError\u001b[0m                                Traceback (most recent call last)",
      "Cell \u001b[0;32mIn [25], line 1\u001b[0m\n\u001b[0;32m----> 1\u001b[0m slope, offset \u001b[38;5;241m=\u001b[39m \u001b[43msync_utils\u001b[49m\u001b[38;5;241;43m.\u001b[39;49m\u001b[43msynchronize_data\u001b[49m\u001b[43m(\u001b[49m\u001b[43mchoice_ts\u001b[49m\u001b[43m,\u001b[49m\u001b[43m \u001b[49m\n\u001b[1;32m      2\u001b[0m \u001b[43m                                            \u001b[49m\u001b[43mphotodiode_last\u001b[49m\u001b[43m,\u001b[49m\u001b[43m \u001b[49m\n\u001b[1;32m      3\u001b[0m \u001b[43m                                            \u001b[49m\u001b[43msmoothSize\u001b[49m\u001b[38;5;241;43m=\u001b[39;49m\u001b[38;5;241;43m11\u001b[39;49m\u001b[43m,\u001b[49m\u001b[43m \u001b[49m\u001b[43mwindSize\u001b[49m\u001b[38;5;241;43m=\u001b[39;49m\u001b[38;5;241;43m10\u001b[39;49m\u001b[43m,\u001b[49m\u001b[43m \u001b[49m\u001b[43mheight\u001b[49m\u001b[38;5;241;43m=\u001b[39;49m\u001b[38;5;241;43m0.7\u001b[39;49m\u001b[43m)\u001b[49m\n",
      "File \u001b[0;32m~/Documents/Github/LFPAnalysis/LFPAnalysis/sync_utils.py:178\u001b[0m, in \u001b[0;36msynchronize_data\u001b[0;34m(beh_ts, mne_sync, smoothSize, windSize, height)\u001b[0m\n\u001b[1;32m    176\u001b[0m \u001b[38;5;28;01mif\u001b[39;00m \u001b[38;5;28mlen\u001b[39m(beh_ts)\u001b[38;5;241m!=\u001b[39m\u001b[38;5;28mlen\u001b[39m(neural_ts):\n\u001b[1;32m    177\u001b[0m     good_beh_ts, good_neural_ts \u001b[38;5;241m=\u001b[39m pulsealign(beh_ts, neural_ts, windSize\u001b[38;5;241m=\u001b[39mwindSize)\n\u001b[0;32m--> 178\u001b[0m     slope, offset, rval \u001b[38;5;241m=\u001b[39m \u001b[43msync_matched_pulses\u001b[49m\u001b[43m(\u001b[49m\u001b[43mgood_beh_ts\u001b[49m\u001b[43m,\u001b[49m\u001b[43m \u001b[49m\u001b[43mgood_neural_ts\u001b[49m\u001b[43m)\u001b[49m\n\u001b[1;32m    179\u001b[0m \u001b[38;5;28;01melse\u001b[39;00m:\n\u001b[1;32m    180\u001b[0m     slope, offset, rval \u001b[38;5;241m=\u001b[39m sync_matched_pulses(beh_ts, neural_ts)\n",
      "File \u001b[0;32m~/Documents/Github/LFPAnalysis/LFPAnalysis/sync_utils.py:122\u001b[0m, in \u001b[0;36msync_matched_pulses\u001b[0;34m(beh_pulse, neural_pulse)\u001b[0m\n\u001b[1;32m    108\u001b[0m \u001b[38;5;28;01mdef\u001b[39;00m \u001b[38;5;21msync_matched_pulses\u001b[39m(beh_pulse, neural_pulse):\n\u001b[1;32m    109\u001b[0m     \u001b[38;5;124;03m\"\"\"\u001b[39;00m\n\u001b[1;32m    110\u001b[0m \u001b[38;5;124;03m    Compute the slope and offset of the linear regression between two sets of pulse timestamps.\u001b[39;00m\n\u001b[1;32m    111\u001b[0m \n\u001b[0;32m   (...)\u001b[0m\n\u001b[1;32m    120\u001b[0m \n\u001b[1;32m    121\u001b[0m \u001b[38;5;124;03m    \"\"\"\u001b[39;00m\n\u001b[0;32m--> 122\u001b[0m     bfix \u001b[38;5;241m=\u001b[39m \u001b[43mbeh_pulse\u001b[49m\u001b[43m[\u001b[49m\u001b[38;5;241;43m0\u001b[39;49m\u001b[43m]\u001b[49m\n\u001b[1;32m    123\u001b[0m     res \u001b[38;5;241m=\u001b[39m scipy\u001b[38;5;241m.\u001b[39mstats\u001b[38;5;241m.\u001b[39mlinregress(beh_pulse\u001b[38;5;241m-\u001b[39mbfix, neural_pulse)\n\u001b[1;32m    124\u001b[0m     slope \u001b[38;5;241m=\u001b[39m res[\u001b[38;5;241m0\u001b[39m]\n",
      "\u001b[0;31mIndexError\u001b[0m: index 0 is out of bounds for axis 0 with size 0"
     ]
    }
   ],
   "source": [
    "slope, offset = sync_utils.synchronize_data(choice_ts, \n",
    "                                            photodiode_last, \n",
    "                                            smoothSize=11, windSize=10, height=0.7)"
   ]
  },
  {
   "cell_type": "code",
   "execution_count": null,
   "id": "4f6087ef",
   "metadata": {},
   "outputs": [],
   "source": [
    "print(slope,offset)"
   ]
  },
  {
   "cell_type": "code",
   "execution_count": null,
   "id": "07ca2f12",
   "metadata": {},
   "outputs": [],
   "source": [
    "choice_ts = ((choice_ts * 1000) * (1024/500))/1000"
   ]
  },
  {
   "cell_type": "code",
   "execution_count": null,
   "id": "c40915ee",
   "metadata": {},
   "outputs": [],
   "source": [
    "choice_ts = choice_ts - offset"
   ]
  },
  {
   "cell_type": "code",
   "execution_count": null,
   "id": "e4163589",
   "metadata": {},
   "outputs": [],
   "source": [
    "%matplotlib qt\n",
    "plt.plot(photodiode_last._data[0])\n",
    "plt.xlabel(\"Time\")\n",
    "plt.ylabel(\"V\")\n",
    "plt.title(\"Photodiode\")\n",
    "\n",
    "zeros = np.array([0.02] * len(choice_ts))\n",
    "x_ts = choice_ts\n",
    "y_ts = zeros.T\n",
    "plt.scatter(x_ts,y_ts,color='red')\n",
    "\n",
    "plt.show()"
   ]
  },
  {
   "cell_type": "code",
   "execution_count": null,
   "id": "52c09898",
   "metadata": {},
   "outputs": [],
   "source": [
    "# plot photodiode\n",
    "plt.plot(new_diode)\n",
    "plt.xlabel(\"Time\")\n",
    "plt.ylabel(\"V\")\n",
    "plt.title(\"Photodiode\")\n",
    "plt.show()"
   ]
  },
  {
   "cell_type": "code",
   "execution_count": null,
   "id": "44df2f49",
   "metadata": {},
   "outputs": [],
   "source": [
    "len(photodiode._data[0])"
   ]
  },
  {
   "cell_type": "code",
   "execution_count": null,
   "id": "9ec0d535",
   "metadata": {},
   "outputs": [],
   "source": [
    "block_peaks = scipy.signal.find_peaks(photodiode._data[0],height=[0.025,0.04])\n",
    "print(len(block_peaks[0]))"
   ]
  },
  {
   "cell_type": "code",
   "execution_count": null,
   "id": "ab3cd620",
   "metadata": {},
   "outputs": [],
   "source": [
    "# Compute offset between ts and photodiode and replot to verify alignment \n",
    "button_press = choice_ts[0]\n",
    "#photodiode_deflection =  #--> MS025\n",
    "#photodiode_deflection =  #--> MS023\n",
    "#photodiode_deflection =  #--> MS022\n",
    "#photodiode_deflection =  #--> MS020\n",
    "#photodiode_deflection =  #--> MS016\n",
    "#photodiode_deflection =  #--> MS015\n",
    "#photodiode_deflection =  #--> MS011\n",
    "#photodiode_deflection =  #--> MS036\n",
    "#photodiode_deflection =  #--> MS035\n",
    "#photodiode_deflection =  #--> MS033\n",
    "#photodiode_deflection =  #--> MS030\n",
    "#photodiode_deflection = 1.787e+05 #--> MS028\n",
    "#photodiode_deflection = 2.493e+05 #--> MS027\n",
    "#photodiode_deflection = 2.16493e+06 #--> MS026\n",
    "#photodiode_deflection = 1.51902e+06 #--> MS024\n",
    "# photodiode_deflection = 2.1747e+06 #--> MS019\n",
    "#photodiode_deflection = 1.15661e06 #--> MS017\n",
    "# photodiode_deflection = 7.9698e+05 #--> MS014\n",
    "#photodiode_deflection = 7.3975e+05 # --> MS012\n",
    "photodiode_deflection = 7.8683e+05 # --> MS009\n",
    "offset = button_press - photodiode_deflection\n",
    "choice_ts = choice_ts + offset\n",
    "x_ts = choice_ts"
   ]
  },
  {
   "cell_type": "code",
   "execution_count": null,
   "id": "8276019b",
   "metadata": {},
   "outputs": [],
   "source": [
    "plt.close()\n",
    "plt.plot(photodiode._data[0])\n",
    "plt.scatter(x_ts,y_ts,color='green')\n",
    "plt.show()"
   ]
  },
  {
   "cell_type": "code",
   "execution_count": null,
   "id": "7b5ea375",
   "metadata": {},
   "outputs": [],
   "source": [
    "# automatically align photodiode and behavioral timestamps - WIP \n"
   ]
  },
  {
   "cell_type": "code",
   "execution_count": null,
   "id": "e176a004",
   "metadata": {},
   "outputs": [],
   "source": [
    "# set some windows of interest \n",
    "\n",
    "buf = 1.0 # this is the buffer before and after that we use to limit edge effects for TFRs\n",
    "\n",
    "feedback_post = 1.5 # this is the time the feedback is present \n",
    "\n",
    "choice_pre = 1.0 # this is the choice deliberation period\n",
    "choice_post = 1.0"
   ]
  },
  {
   "cell_type": "code",
   "execution_count": null,
   "id": "60288772",
   "metadata": {},
   "outputs": [],
   "source": [
    "# Create a dictionary with your event name (matching your dataframe), and the time-window for the event\n",
    "evs = {'choice_ts': [-1.0, 1.0],\n",
    "       'iti_ts': [0, 0.5]}\n",
    "\n",
    "epochs_all_evs = {f'{x}': np.nan for x in evs}"
   ]
  },
  {
   "cell_type": "code",
   "execution_count": null,
   "id": "1ff16f2c",
   "metadata": {},
   "outputs": [],
   "source": [
    "# Example - make feedback events \n",
    "evs = (choice_ts / (resample_sr/1000)) / 1000 # timestamps in samples  \n",
    "\n",
    "durs = np.zeros_like(choice_ts).tolist()\n",
    "\n",
    "descriptions = ['choice_ts']*len(choice_ts)\n",
    "\n",
    "# Make mne annotations based on these descriptions\n",
    "annot = mne.Annotations(onset=evs,\n",
    "                          duration=durs,\n",
    "                          description=descriptions)\n",
    "\n",
    "wm_ref_data.set_annotations(annot)\n",
    "\n",
    "events_from_annot, event_dict = mne.events_from_annotations(wm_ref_data)\n",
    "\n",
    "epochs = mne.Epochs(wm_ref_data, \n",
    "                    events_from_annot, \n",
    "                    event_id=event_dict, \n",
    "                    baseline = None, # never baseline within mne functions\n",
    "                    tmin=-(buf + choice_pre), \n",
    "                    tmax=buf + choice_post, \n",
    "                    reject=None, \n",
    "                    reject_by_annotation=False,\n",
    "                    preload=True)\n",
    "\n",
    "new_metadata = pd.DataFrame(data=['complete'] * len(epochs), columns=['bar'],\n",
    "                            index=range(len(epochs)))\n",
    "epochs.metadata = new_metadata\n",
    "\n",
    "epochs_all_evs['choice_ts'] = epochs"
   ]
  },
  {
   "cell_type": "code",
   "execution_count": null,
   "id": "8dd41068",
   "metadata": {},
   "outputs": [],
   "source": [
    "evs = ((choice_ts / (sr/1000)) / 1000) + feedback_post # this is the start of the inter-trial interval. \n",
    "\n",
    "durs = np.zeros_like(choice_ts).tolist()\n",
    "\n",
    "descriptions = ['iti_ts']*len(choice_ts)\n",
    "\n",
    "# Make mne annotations based on these descriptions\n",
    "annot_baseline = mne.Annotations(onset=evs,\n",
    "                          duration=durs,\n",
    "                          description=descriptions)\n",
    "\n",
    "wm_ref_data.set_annotations(annot_baseline)\n",
    "\n",
    "events_from_annot, event_dict = mne.events_from_annotations(wm_ref_data)\n",
    "events_from_annot\n",
    "\n",
    "baseline_epochs = mne.Epochs(wm_ref_data, \n",
    "                    events_from_annot, \n",
    "                    event_id=event_dict, \n",
    "                    tmin=-(buf+0), \n",
    "                    tmax=(buf+0.50), \n",
    "                    reject=None, \n",
    "                    reject_by_annotation=False,\n",
    "                    preload=True)\n",
    "\n",
    "new_metadata = pd.DataFrame(data=['complete'] * len(epochs), columns=['bar'],\n",
    "                            index=range(len(epochs))) # you have to add metadata \n",
    "\n",
    "baseline_epochs.metadata = new_metadata\n",
    "\n",
    "epochs_all_evs['iti_ts'] = baseline_epochs"
   ]
  },
  {
   "cell_type": "code",
   "execution_count": null,
   "id": "47bf0779",
   "metadata": {},
   "outputs": [],
   "source": [
    "choice_metadata = epochs_all_evs['choice_ts'].metadata.copy()\n",
    "choice_metadata['reward'] = behavior['r'].tolist()\n",
    "choice_metadata['ev'] = behavior['ev'].tolist()\n",
    "choice_metadata['relevant_dimension'] = behavior['rd_numeric'].tolist()\n",
    "choice_metadata['acquired'] = behavior['acquired'].tolist()\n",
    "choice_metadata['rpe'] = behavior['rpe'].tolist()\n",
    "choice_metadata['condition'] = behavior['condition'].tolist()\n",
    "choice_metadata['all_epochs'] = behavior['all_epochs'].tolist() - need to manually add this column to everyone after MS009\n",
    "epochs_all_evs['choice_ts'].metadata = choice_metadata\n",
    "\n",
    "iti_metadata = epochs_all_evs['iti_ts'].metadata.copy()\n",
    "iti_metadata['reward'] = behavior['r'].tolist()\n",
    "iti_metadata['ev'] = behavior['ev'].tolist()\n",
    "iti_metadata['relevant_dimension'] = behavior['rd_numeric'].tolist()\n",
    "iti_metadata['acquired'] = behavior['acquired'].tolist()\n",
    "iti_metadata['rpe'] = behavior['rpe'].tolist()\n",
    "choice_metadata['condition'] = behavior['condition'].tolist()\n",
    "epochs_all_evs['iti_ts'].metadata = iti_metadata"
   ]
  },
  {
   "cell_type": "code",
   "execution_count": null,
   "id": "39a09162",
   "metadata": {},
   "outputs": [],
   "source": [
    "epochs_all_evs['iti_ts'].resample(sfreq=wm_ref_data.info['sfreq']/2)\n",
    "epochs_all_evs['choice_ts'].resample(sfreq=wm_ref_data.info['sfreq']/2)"
   ]
  },
  {
   "cell_type": "code",
   "execution_count": null,
   "id": "ca83e8a3",
   "metadata": {},
   "outputs": [],
   "source": [
    "# manually anotate interictal discharges\n",
    "fig = epochs_all_evs['choice_ts'].plot(n_epochs=1, n_channels= 25)  "
   ]
  },
  {
   "cell_type": "code",
   "execution_count": null,
   "id": "6133ff52",
   "metadata": {},
   "outputs": [],
   "source": [
    "# Need this following line to save the annotations to the epochs object \n",
    "fig.fake_keypress('a')"
   ]
  },
  {
   "cell_type": "code",
   "execution_count": null,
   "id": "9846f159",
   "metadata": {},
   "outputs": [],
   "source": [
    "# Check the epoch annotations \n",
    "epochs_all_evs['choice_ts'].get_annotations_per_epoch\n",
    "epochs_all_evs['choice_ts'].drop_log"
   ]
  },
  {
   "cell_type": "code",
   "execution_count": null,
   "id": "ef5e33b8",
   "metadata": {},
   "outputs": [],
   "source": [
    "# MS009 DROPPED EPOCHS\n",
    "epochs_all_evs['iti_ts'].drop(np.array([54, 60, 66, 70, 71, 78, 84, 85, 100, 136, 147, 148, 151, 155, 167, 192, 196, 197]), reason='USER', verbose=None)\n",
    "epochs_all_evs['choice_ts'].drop(np.array([54, 60, 66, 70, 71, 78, 84, 85, 100, 136, 147, 148, 151, 155, 167, 192, 196, 197]), reason='USER', verbose=None)"
   ]
  },
  {
   "cell_type": "code",
   "execution_count": null,
   "id": "7da8ec3a",
   "metadata": {},
   "outputs": [],
   "source": [
    "# MS012 DROPPED EPOCHS\n",
    "epochs_all_evs['iti_ts'].drop(np.array([211]), reason='USER', verbose=None)\n",
    "epochs_all_evs['choice_ts'].drop(np.array([211]), reason='USER', verbose=None)"
   ]
  },
  {
   "cell_type": "code",
   "execution_count": null,
   "id": "8da63598",
   "metadata": {},
   "outputs": [],
   "source": [
    "# MS014 DROPPED EPOCHS\n",
    "epochs_all_evs['iti_ts'].drop(np.array([196, 197, 198, 199]), reason='USER', verbose=None)"
   ]
  },
  {
   "cell_type": "code",
   "execution_count": null,
   "id": "a74a1d63",
   "metadata": {},
   "outputs": [],
   "source": [
    "# MS017 DROPPED EPOCHS\n",
    "epochs_all_evs['iti_ts'].drop(np.array([14, 18, 37, 38, 65, 66, 67, 80, 82, 83, 96, 97, 98, 108, 110, 111, 122, 123, 126, 127, 132, 134, 135, 136, 137, 160, 161, 183, 184, 185, 198, 199, 200]), reason='USER', verbose=None)"
   ]
  },
  {
   "cell_type": "code",
   "execution_count": null,
   "id": "b2694d92",
   "metadata": {},
   "outputs": [],
   "source": [
    "# MS019 DROPPED EPOCHS\n",
    "epochs_all_evs['iti_ts'].drop(np.array([7, 11, 27, 38, 47, 48, 52, 61, 73, 88, 97, 124, 125, 130, 168, 169, 174]), reason='USER', verbose=None)\n"
   ]
  },
  {
   "cell_type": "code",
   "execution_count": null,
   "id": "afdf5c75",
   "metadata": {},
   "outputs": [],
   "source": [
    "# MS024 DROPPED EPOCHS\n",
    "\n",
    "epochs_all_evs['iti_ts'].drop(np.array([132, 139, 148, 170, 190, 208, 210, 213]), reason='USER', verbose=None)\n",
    "\n"
   ]
  },
  {
   "cell_type": "code",
   "execution_count": null,
   "id": "2b7263d8",
   "metadata": {},
   "outputs": [],
   "source": [
    "# MS026 DROPPED EPOCHS\n",
    "epochs_all_evs['iti_ts'].drop(np.array([1, 2, 3, 4, 18, 39, 41, 44, 45, 51, 55, 68, 104, 123, 128]), reason='USER', verbose=None)"
   ]
  },
  {
   "cell_type": "code",
   "execution_count": null,
   "id": "7aa2b366",
   "metadata": {},
   "outputs": [],
   "source": [
    "#MS027 DROPPED EPOCHS\n",
    "epochs_all_evs['iti_ts'].drop(np.array([32, 43, 53, 67, 81, 97, 99, 125, 137, 138, 152, 153, 167, 168, 176, 184, 205, 208, 214, 215]), reason='USER', verbose=None)\n"
   ]
  },
  {
   "cell_type": "code",
   "execution_count": null,
   "id": "e3419f9c",
   "metadata": {},
   "outputs": [],
   "source": [
    "#MS028 DROPPED EPOCHS\n",
    "epochs_all_evs['iti_ts'].drop(np.array([]), reason='USER', verbose=None)\n"
   ]
  },
  {
   "cell_type": "code",
   "execution_count": null,
   "id": "c188fda7",
   "metadata": {},
   "outputs": [],
   "source": [
    "# save epochs for later plotting/stats\n",
    "epochs_all_evs.save(f'{save_dir}/epoch.fif', overwrite=True)"
   ]
  },
  {
   "cell_type": "markdown",
   "id": "e284d792",
   "metadata": {},
   "source": [
    "Wavelet TFR"
   ]
  },
  {
   "cell_type": "code",
   "execution_count": null,
   "id": "24b1f044",
   "metadata": {},
   "outputs": [],
   "source": [
    "# Explicitly define a list of analysis events and the baseline event. Should correspond to the dict\n",
    "analysis_evs = ['choice_ts']\n",
    "baseline_ev = ['iti_ts']\n",
    "evs = {'choice_ts': [-1.0, 1.0],\n",
    "       'iti_ts': [0, 0.5]}\n",
    "for i in analysis_evs: \n",
    "    if i not in evs.keys(): \n",
    "        raise ValueError('This analysis event is not in the dictionary')"
   ]
  },
  {
   "cell_type": "code",
   "execution_count": null,
   "id": "0eafdb22",
   "metadata": {},
   "outputs": [],
   "source": [
    "# Set some spectrogram parameters \n",
    "subj_ids = [subject]\n",
    "\n",
    "freqs  = np.logspace(*np.log10([4,200]),num=40)\n",
    "\n",
    "n_cycles = 4\n",
    "sr = epochs_all_evs[baseline_ev].info['sfreq']\n",
    "buf = 1.0\n",
    "buf_ix = int(buf*sr)\n",
    "\n",
    "baseline_power_epochs = {f'{a}': {f'{b}': np.nan for b in evs.keys()} for a in subj_ids}\n",
    "\n",
    "power_epochs = {f'{a}': {f'{b}': np.nan for b in evs.keys()} for a in subj_ids}"
   ]
  },
  {
   "cell_type": "code",
   "execution_count": null,
   "id": "46b12950",
   "metadata": {},
   "outputs": [],
   "source": [
    "# Compute baseline_power\n",
    "for subj_id in subj_ids:\n",
    "    event = 'iti_ts'\n",
    "    epochs = epochs_all_evs[event]\n",
    "        \n",
    "    # Let's make sure we only do this for good channels\n",
    "    good_chans = [x for x in epochs.ch_names if x not in epochs.info['bads']]\n",
    "    picks = [x for x in good_chans]\n",
    "\n",
    "    pow_struct = np.nan * np.ones([epochs._data.shape[0], \n",
    "                           epochs._data.shape[1], len(freqs), \n",
    "                           epochs._data.shape[-1]])\n",
    "\n",
    "    for ch_ix in np.arange(epochs._data.shape[1]): \n",
    "        ch_data = epochs._data[:, ch_ix:ch_ix+1, :]\n",
    "        good_epochs = np.arange(0,epochs._data.shape[0],1)\n",
    "        ch_pow = mne.time_frequency.tfr_array_morlet(ch_data, sfreq=epochs.info['sfreq'], \n",
    "                                            freqs=freqs, n_cycles=n_cycles, zero_mean=False, \n",
    "                                            use_fft=True, output='power', n_jobs=1)\n",
    "\n",
    "        pow_struct[good_epochs, ch_ix, :, :] = ch_pow[:, 0, :, :]\n",
    "\n",
    "    temp_pow = mne.time_frequency.EpochsTFR(epochs.info, pow_struct, \n",
    "                                            epochs.times, freqs)\n",
    "    temp_pow.crop(tmin=evs[event][0], tmax=evs[event][1])\n",
    "    \n",
    "    baseline_power_epochs[event] = temp_pow  \n"
   ]
  },
  {
   "cell_type": "code",
   "execution_count": null,
   "id": "23e75a00",
   "metadata": {},
   "outputs": [],
   "source": [
    "for subj_id in subj_ids:\n",
    "    for event in analysis_evs:\n",
    "                \n",
    "        epochs = epochs_all_evs[event]\n",
    "            \n",
    "        # Let's make sure we only do this for good channels\n",
    "        good_chans = [x for x in epochs.ch_names if x not in epochs.info['bads']]\n",
    "        picks = [x for x in good_chans]\n",
    "        \n",
    "        pow_struct = np.nan * np.ones([epochs._data.shape[0], \n",
    "                               epochs._data.shape[1], len(freqs), \n",
    "                               epochs._data.shape[-1]])\n",
    "\n",
    "        for ch_ix in np.arange(epochs._data.shape[1]): \n",
    "            ch_data = epochs._data[:, ch_ix:ch_ix+1, :]\n",
    "            good_epochs = np.arange(0,epochs._data.shape[0],1)\n",
    "            ch_pow = mne.time_frequency.tfr_array_morlet(ch_data, sfreq=epochs.info['sfreq'], \n",
    "                                                freqs=freqs, n_cycles=n_cycles, zero_mean=False, \n",
    "                                                use_fft=True, output='power', n_jobs=1)\n",
    "\n",
    "            pow_struct[good_epochs, ch_ix, :, :] = ch_pow[:, 0, :, :]\n",
    "        \n",
    "        temp_pow = mne.time_frequency.EpochsTFR(epochs.info, pow_struct, \n",
    "                                                epochs.times, freqs)\n",
    "        \n",
    "        temp_pow.crop(tmin=evs[event][0], tmax=evs[event][1])\n",
    "        \n",
    "        baseline_corrected_power = lfp_preprocess_utils.zscore_TFR_across_trials(temp_pow.data, \n",
    "                                      baseline_power_epochs['iti_ts'], mode='zscore',baseline_only=False)\n",
    "        \n",
    "        zpow = mne.time_frequency.EpochsTFR(epochs.info, baseline_corrected_power, \n",
    "                                        temp_pow.times, freqs)\n",
    "        \n",
    "        zpow.metadata = epochs_all_evs[event].metadata\n",
    "        \n",
    "        power_epochs[event] = zpow\n",
    "        "
   ]
  },
  {
   "cell_type": "code",
   "execution_count": null,
   "id": "9b6dcfcd",
   "metadata": {},
   "outputs": [],
   "source": [
    "region = 'middle frontal'\n",
    "picks = analysis_utils.select_picks_rois(elec_df, region)\n",
    "picks"
   ]
  },
  {
   "cell_type": "code",
   "execution_count": null,
   "id": "1d7ba4d8",
   "metadata": {},
   "outputs": [],
   "source": [
    "#rois = ['hippocampus', 'amygdala', 'insula', 'cingulate' ,'frontal']\n",
    "#region = 'frontal orbital'\n",
    "region = 'frontal orbital'\n",
    "\n",
    "# band definitions for y-axis\n",
    "#yticks =  [70, 100, 125, 150, 175] \n",
    "yticks =  [4, 30, 60, 120, 180] \n",
    "\n",
    "# task condition to contrast \n",
    "#conditions = [\"(all_epochs == 1)\"]\n",
    "conditions = [\"(acquired == 1)\" and \"(reward == 1)\",\n",
    "             \"(acquired == 0)\"]\n",
    "\n",
    "\n",
    "# Define your conditions as lambda functions\n",
    "conditions = [\n",
    "    lambda acquired, reward: acquired == 1 and reward == 1,\n",
    "    lambda acquired: acquired == 0\n",
    "]\n",
    "\n",
    "cond_name = 'acquired'\n",
    "\n",
    "\n",
    "for subj_id in subj_ids:\n",
    "    #save_path = f'{base_dir}/work/qasims01/MemoryBanditData/EMU/Subjects/{subj_id}'\n",
    "    # Get electrode df \n",
    "    # electrode files could either be csv or excel\n",
    "    elec_files = glob(f'{anat_dir}/*.csv') + glob(f'{anat_dir}/*.xlsx')\n",
    "    # There should really only be one \n",
    "    elec_file = elec_files[0]\n",
    "    elec_data = lfp_preprocess_utils.load_elec(elec_file)\n",
    "\n",
    "    anode_list = [x.split('-')[0] for x in epochs_all_evs[event].ch_names]\n",
    "    elec_df = elec_data[elec_data.label.str.lower().isin(anode_list)]\n",
    "    elec_df['label'] = epochs_all_evs[event].ch_names\n",
    "\n",
    "    picks = analysis_utils.select_picks_rois(elec_df, region)\n",
    "    print(picks)\n",
    "    #picks = ['lmoif1-lmoif8'] #- plot just a single electrode \n",
    "    \n",
    "    for event in analysis_evs:\n",
    "        fig, ax = plt.subplots(1, 2, figsize=(10,3))\n",
    "        for ix, cond in enumerate(conditions):\n",
    "            # Set the times for \n",
    "            times = power_epochs[event].times\n",
    "            plot_data = np.nanmean(np.nanmean(power_epochs[event][cond].copy().pick_channels(picks).data, axis=0), axis=0)\n",
    "\n",
    "            im = ax[ix].imshow(plot_data,\n",
    "                      extent=[times[0], times[-1], freqs[0], freqs[-1]], interpolation=None,\n",
    "                      aspect='auto', origin='lower', cmap='RdBu_r', vmin = -np.nanmax(np.abs(plot_data)), vmax = np.nanmax(np.abs(plot_data)))\n",
    "            ax[ix].set(yticks=yticks, xlabel='Time (s)', ylabel='Frequency', title=f'{subj_id}_{region}_{cond}_{event}')\n",
    "            fig.colorbar(im, ax=ax[ix])"
   ]
  },
  {
   "cell_type": "code",
   "execution_count": null,
   "id": "9aa45b0d",
   "metadata": {},
   "outputs": [],
   "source": [
    "########### UP TO HERE FOR TFRS ##################"
   ]
  },
  {
   "cell_type": "markdown",
   "id": "b46c6563",
   "metadata": {},
   "source": [
    "Save as dataframe for regression analysis and run encoding vs non encoding script"
   ]
  },
  {
   "cell_type": "code",
   "execution_count": null,
   "id": "5dfd9bd2",
   "metadata": {},
   "outputs": [],
   "source": [
    "# subset just the hinted blocks so far\n",
    "event = 'choice_ts'\n",
    "data = power_epochs['choice_ts']['condition == \"hint\"'].to_data_frame()\n",
    "#data.to_csv('/Users/christinamaher/Desktop/MS009/MS009_ephys_data.csv') # subset high gamma and take the average, grouping by time. \n",
    "data"
   ]
  },
  {
   "cell_type": "code",
   "execution_count": null,
   "id": "3b1a59ca",
   "metadata": {},
   "outputs": [],
   "source": [
    "# includes binning for t-tests/regression\n",
    "df2 = data.iloc[::100]\n",
    "df2"
   ]
  },
  {
   "cell_type": "code",
   "execution_count": null,
   "id": "eae8db50",
   "metadata": {},
   "outputs": [],
   "source": [
    "df3 = df2.loc[data['freq'] >= 70]\n",
    "df3"
   ]
  },
  {
   "cell_type": "code",
   "execution_count": null,
   "id": "406437b7",
   "metadata": {},
   "outputs": [],
   "source": [
    "# use this for taking continuous sampling of data - skips binning for permutation cluster testing\n",
    "df3 = data.loc[data['freq'] >= 70]"
   ]
  },
  {
   "cell_type": "code",
   "execution_count": null,
   "id": "f4d0ba8b",
   "metadata": {},
   "outputs": [],
   "source": [
    "df4 = pd.melt(df3, id_vars=[\"time\", \"freq\",\"epoch\",\"condition\"],var_name=\"electrode\", value_name=\"power\")\n",
    "df4"
   ]
  },
  {
   "cell_type": "code",
   "execution_count": null,
   "id": "1c8bbb12",
   "metadata": {},
   "outputs": [],
   "source": [
    "df4 = df4.drop('condition', axis=1)"
   ]
  },
  {
   "cell_type": "code",
   "execution_count": null,
   "id": "c219d220",
   "metadata": {},
   "outputs": [],
   "source": [
    "df4 = df4.drop('freq', axis=1)"
   ]
  },
  {
   "cell_type": "code",
   "execution_count": null,
   "id": "ae035990",
   "metadata": {},
   "outputs": [],
   "source": [
    "df4 = df4.loc[df4['electrode'] != 'research']\n",
    "df4"
   ]
  },
  {
   "cell_type": "code",
   "execution_count": null,
   "id": "fba72e4a",
   "metadata": {},
   "outputs": [],
   "source": [
    "unique_names = df4['electrode'].nunique()\n",
    "print(unique_names)  # output: 4"
   ]
  },
  {
   "cell_type": "code",
   "execution_count": null,
   "id": "e5f8455a",
   "metadata": {},
   "outputs": [],
   "source": [
    "average_by_epoch = df4.groupby(['time','epoch','electrode'])['power'].mean()"
   ]
  },
  {
   "cell_type": "code",
   "execution_count": null,
   "id": "b5ff25e6",
   "metadata": {},
   "outputs": [],
   "source": [
    "# save data\n",
    "#average_by_epoch.to_csv('/Users/christinamaher/Desktop/MS028/average_by_epoch.csv')"
   ]
  },
  {
   "cell_type": "code",
   "execution_count": null,
   "id": "4f6b94e3",
   "metadata": {},
   "outputs": [],
   "source": [
    "# save anatomical info\n",
    "#elec_df.to_csv('/Users/christinamaher/Desktop/MS028/elec_df.csv')"
   ]
  },
  {
   "cell_type": "code",
   "execution_count": null,
   "id": "c09f7c37",
   "metadata": {},
   "outputs": [],
   "source": [
    "# save regressor data \n",
    "#regressors = power_epochs['choice_ts']['condition == \"hint\"'].metadata\n",
    "#regressors.to_csv('/Users/christinamaher/Desktop/MS028/regressors.csv')"
   ]
  },
  {
   "cell_type": "markdown",
   "id": "95b4fdc6",
   "metadata": {},
   "source": [
    "Determine encoding electrodes by region"
   ]
  },
  {
   "cell_type": "code",
   "execution_count": null,
   "id": "c96d99fe",
   "metadata": {},
   "outputs": [],
   "source": [
    "import pandas as pd\n",
    "data = pd.read_csv('/Users/christinamaher/Desktop/MS014/average_by_epoch.csv')\n",
    "elec = pd.read_csv('/Users/christinamaher/Desktop/MS014/elec_df.csv')"
   ]
  },
  {
   "cell_type": "code",
   "execution_count": null,
   "id": "fa987fad",
   "metadata": {},
   "outputs": [],
   "source": [
    "merged_df = pd.merge(data, elec, on='electrode')"
   ]
  },
  {
   "cell_type": "code",
   "execution_count": null,
   "id": "602b9f2d",
   "metadata": {},
   "outputs": [],
   "source": [
    "merged_df"
   ]
  },
  {
   "cell_type": "code",
   "execution_count": null,
   "id": "8e95a2f7",
   "metadata": {},
   "outputs": [],
   "source": [
    "merged_df = merged_df.loc[merged_df['Bins'] != 'wm']"
   ]
  },
  {
   "cell_type": "code",
   "execution_count": null,
   "id": "422693ed",
   "metadata": {},
   "outputs": [],
   "source": [
    "merged_df"
   ]
  },
  {
   "cell_type": "code",
   "execution_count": null,
   "id": "a4b7756b",
   "metadata": {},
   "outputs": [],
   "source": [
    "merged_df.to_csv('/Users/christinamaher/Desktop/MS014/merged_df.csv')"
   ]
  },
  {
   "cell_type": "code",
   "execution_count": null,
   "id": "256976dc",
   "metadata": {},
   "outputs": [],
   "source": [
    "patient_data"
   ]
  },
  {
   "cell_type": "code",
   "execution_count": null,
   "id": "dc05808f",
   "metadata": {},
   "outputs": [],
   "source": [
    "import mne\n",
    "import pandas as pd\n",
    "patient_data = pd.read_csv('/Users/christinamaher/Desktop/MS009/merged_df.csv')\n",
    "encoding_elec = []\n",
    "electrode_name = []\n",
    "patient_name = []"
   ]
  },
  {
   "cell_type": "code",
   "execution_count": null,
   "id": "754e0b8d",
   "metadata": {},
   "outputs": [],
   "source": [
    "#average_by_epoch.to_csv('/Users/christinamaher/Desktop/MS012/permutation_df.csv')\n",
    "average_by_epoch = pd.read_csv('/Users/christinamaher/Desktop/MS012/permutation_df.csv')\n",
    "electrode_list = average_by_epoch['electrode'].unique()\n",
    "electrode_list"
   ]
  },
  {
   "cell_type": "code",
   "execution_count": null,
   "id": "d097540f",
   "metadata": {},
   "outputs": [],
   "source": [
    "### RUN THE PERMUTATION CLUSTER TEST - adapt so this runs as a loop\n",
    "elec_num = np.where(electrode_list == 'rmolf11-rmolf9')[0][0]\n",
    "e = electrode_list[elec_num]\n",
    "electrode_data = average_by_epoch[average_by_epoch[\"electrode\"] == e]\n",
    "data_temp = (electrode_data.pivot(index='epoch', columns='time', values='power')).to_numpy()\n",
    "F_obs, clusters, cluster_p_values, H0 = mne.stats.permutation_cluster_1samp_test(data_temp,tail=0)\n",
    "cluster_p_values"
   ]
  },
  {
   "cell_type": "code",
   "execution_count": null,
   "id": "e2418813",
   "metadata": {},
   "outputs": [],
   "source": [
    "np.where(cluster_p_values<0.05)"
   ]
  },
  {
   "cell_type": "code",
   "execution_count": null,
   "id": "806a2d86",
   "metadata": {},
   "outputs": [],
   "source": [
    "clusters[34]"
   ]
  },
  {
   "cell_type": "markdown",
   "id": "f7f7fa06",
   "metadata": {},
   "source": [
    "clusters[41]"
   ]
  },
  {
   "cell_type": "code",
   "execution_count": null,
   "id": "84bc2597",
   "metadata": {},
   "outputs": [],
   "source": [
    "mean_values = electrode_data.groupby('time')['power'].mean()\n",
    "mean_values = mean_values.to_frame()\n",
    "mean_values.reset_index(level=0, inplace=True)\n",
    "mean_values"
   ]
  },
  {
   "cell_type": "code",
   "execution_count": null,
   "id": "7bf93067",
   "metadata": {},
   "outputs": [],
   "source": [
    "plt.plot(mean_values['time'],mean_values['power'])\n"
   ]
  },
  {
   "cell_type": "code",
   "execution_count": null,
   "id": "e7db6af7",
   "metadata": {},
   "outputs": [],
   "source": [
    "# Define the x-values and the y-limits for shading\n",
    "x_shade = indices\n",
    "y_lower = np.zeros_like(x_shade)\n",
    "y_upper = mean_values['power'][indices]\n",
    "y_lower\n",
    "#y_upper"
   ]
  },
  {
   "cell_type": "code",
   "execution_count": null,
   "id": "cd5bf89e",
   "metadata": {},
   "outputs": [],
   "source": [
    "plt.plot(mean_values['time'],mean_values['power'])\n",
    "\n",
    "indices = [557, 558, 559, 560, 561, 562, 563, 564, 565, 566, 567, 568, 569,\n",
    "        570, 571, 572, 573, 574, 575, 576, 577, 578, 579, 580, 581,453, 454, 455, 456, 457, 458, 459, 460, 461, 462, 463, 464, 465,\n",
    "        466, 467, 468, 469, 470,683, 684, 685, 686, 687, 688, 689, 690, 691, 692, 693, 694,936, 937, 938, 939, 940, 941, 942, 943, 944]\n",
    "plt.title('Average power in 1 OFC electrode (N=1)')\n",
    "plt.scatter(mean_values['time'][indices],mean_values['power'][indices], color=\"red\")"
   ]
  },
  {
   "cell_type": "code",
   "execution_count": null,
   "id": "c0a4958c",
   "metadata": {},
   "outputs": [],
   "source": [
    "# average across epochs for plottings\n",
    "avg_power = electrode_data.groupby('time').agg({'power': 'mean'})\n",
    "avg_power = avg_power['power']"
   ]
  },
  {
   "cell_type": "code",
   "execution_count": null,
   "id": "c15fe6ee",
   "metadata": {},
   "outputs": [],
   "source": [
    "# RUN PERMUTATION TEST AS A LOOP\n",
    "#import mne\n",
    "#patient_data = pd.read_csv('/Users/christinamaher/Desktop/MS028/merged_df.csv')\n",
    "#encoding_elec = []\n",
    "#electrode_name = []\n",
    "#patient_name = []\n",
    "\n",
    "#electrode_list = patient_data.electrode.unique()\n",
    "for e in electrode_list:\n",
    "    electrode_data = patient_data[patient_data[\"electrode\"] == e]\n",
    "    data_temp = (electrode_data.pivot(index='epoch', columns='time', values='power')).to_numpy()\n",
    "    F_obs, clusters, cluster_p_values, H0 = mne.stats.permutation_cluster_test(data_temp, out_type='mask', tail=0)\n",
    "    if len(clusters) > 0:\n",
    "        encoding = 1\n",
    "    else:\n",
    "        encoding = 0\n",
    "        \n",
    "    encoding_elec.append(encoding) # save data so that encoding versus non-encoding electrodes can be subset\n",
    "    electrode_name.append(e)"
   ]
  },
  {
   "cell_type": "code",
   "execution_count": null,
   "id": "e8b37c4b",
   "metadata": {},
   "outputs": [],
   "source": [
    "encoding_results = pd.DataFrame({'encoding': encoding_elec, 'elec': electrode_name})"
   ]
  },
  {
   "cell_type": "code",
   "execution_count": null,
   "id": "7e14f09d",
   "metadata": {},
   "outputs": [],
   "source": [
    "encoding_results.to_csv('/Users/christinamaher/Desktop/MS028/encoding_results.csv')"
   ]
  },
  {
   "cell_type": "code",
   "execution_count": null,
   "id": "904b2a74",
   "metadata": {},
   "outputs": [],
   "source": [
    "import pandas as pd"
   ]
  },
  {
   "cell_type": "code",
   "execution_count": null,
   "id": "8217677f",
   "metadata": {},
   "outputs": [],
   "source": [
    "encoding = pd.read_csv('/Users/christinamaher/Desktop/MS012/encoding_results.csv')\n",
    "merged = pd.read_csv('/Users/christinamaher/Desktop/MS012/merged_df.csv')\n",
    "repeat_number = len(merged[merged[\"electrode\"] == merged[\"electrode\"][0]])\n",
    "\n",
    "n_repeats = repeat_number\n",
    "x = encoding['encoding'].repeat(n_repeats).reset_index(drop=True)\n",
    "\n",
    "merged['encoding'] = x\n",
    "merged.to_csv('/Users/christinamaher/Desktop/MS012/merged_encoding.csv')"
   ]
  },
  {
   "cell_type": "code",
   "execution_count": null,
   "id": "9feb1b6a",
   "metadata": {},
   "outputs": [],
   "source": [
    "data = pd.read_csv('/Users/christinamaher/Desktop/MS028/merged_encoding.csv')\n",
    "data"
   ]
  },
  {
   "cell_type": "code",
   "execution_count": null,
   "id": "a179e844",
   "metadata": {},
   "outputs": [],
   "source": [
    "ofc_df = data.loc[(data['Bins'] == 'OFC') & (data['encoding'] == 1)]\n",
    "pfc_df = data.loc[(data['Bins'] == 'lPFC') & (data['encoding'] == 1)]"
   ]
  },
  {
   "cell_type": "code",
   "execution_count": null,
   "id": "e9cf6088",
   "metadata": {},
   "outputs": [],
   "source": [
    "regressors = pd.read_csv('/Users/christinamaher/Desktop/MS012/regressors.csv')\n",
    "regressors\n",
    "regressors = regressors.drop('Unnamed: 0', axis=1)"
   ]
  },
  {
   "cell_type": "code",
   "execution_count": null,
   "id": "acf816d0",
   "metadata": {},
   "outputs": [],
   "source": [
    "repeated_df_ofc = pd.concat([regressors]*int(ofc_df.shape[0]/regressors.shape[0]),ignore_index=True)\n",
    "repeated_df_pfc = pd.concat([regressors]*int(pfc_df.shape[0]/regressors.shape[0]),ignore_index=True)"
   ]
  },
  {
   "cell_type": "code",
   "execution_count": null,
   "id": "06818f01",
   "metadata": {},
   "outputs": [],
   "source": [
    "repeated_df_ofc"
   ]
  },
  {
   "cell_type": "code",
   "execution_count": null,
   "id": "f406357d",
   "metadata": {},
   "outputs": [],
   "source": [
    "ofc_df.to_csv('/Users/christinamaher/Desktop/MS012/ofc_df_beta.csv')\n",
    "pfc_df.to_csv('/Users/christinamaher/Desktop/MS012/pfc_df_beta.csv')\n",
    "repeated_df_ofc.to_csv('/Users/christinamaher/Desktop/MS012/repeated_df_ofc_beta.csv')\n",
    "repeated_df_pfc.to_csv('/Users/christinamaher/Desktop/MS012/repeated_df_pfc_beta.csv')"
   ]
  },
  {
   "cell_type": "code",
   "execution_count": null,
   "id": "62e7a5df",
   "metadata": {},
   "outputs": [],
   "source": []
  }
 ],
 "metadata": {
  "kernelspec": {
   "display_name": "Python 3 (ipykernel)",
   "language": "python",
   "name": "python3"
  },
  "language_info": {
   "codemirror_mode": {
    "name": "ipython",
    "version": 3
   },
   "file_extension": ".py",
   "mimetype": "text/x-python",
   "name": "python",
   "nbconvert_exporter": "python",
   "pygments_lexer": "ipython3",
   "version": "3.9.16"
  },
  "vscode": {
   "interpreter": {
    "hash": "aee8b7b246df8f9039afb4144a1f6fd8d2ca17a180786b69acc140d282b71a49"
   }
  }
 },
 "nbformat": 4,
 "nbformat_minor": 5
}
