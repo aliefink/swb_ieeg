{
 "cells": [
  {
   "cell_type": "code",
   "execution_count": 1,
   "id": "8a05af70",
   "metadata": {},
   "outputs": [
    {
     "name": "stderr",
     "output_type": "stream",
     "text": [
      "OMP: Info #276: omp_set_nested routine deprecated, please use omp_set_max_active_levels instead.\n"
     ]
    }
   ],
   "source": [
    "import numpy as np\n",
    "import mne\n",
    "from glob import glob\n",
    "import matplotlib.pyplot as plt\n",
    "from matplotlib.backends.backend_pdf import PdfPages\n",
    "import seaborn as sns\n",
    "from scipy.stats import zscore, linregress, ttest_ind, ttest_rel, ttest_1samp\n",
    "import pandas as pd\n",
    "from mne.preprocessing.bads import _find_outliers\n",
    "import os \n",
    "import joblib\n",
    "import emd\n",
    "import re\n",
    "\n",
    "import warnings\n",
    "warnings.filterwarnings('ignore')"
   ]
  },
  {
   "cell_type": "code",
   "execution_count": 2,
   "id": "ca1aab69",
   "metadata": {},
   "outputs": [],
   "source": [
    "import sys\n",
    "sys.path.append('/Users/alexandrafink/Documents/GraduateSchool/SaezLab/SWB/ephys_analysis/scripts/saez_python_pipeline/LFPAnalysis/')"
   ]
  },
  {
   "cell_type": "code",
   "execution_count": 3,
   "id": "5e222554",
   "metadata": {},
   "outputs": [],
   "source": [
    "from LFPAnalysis import lfp_preprocess_utils, sync_utils, analysis_utils, nlx_utils"
   ]
  },
  {
   "cell_type": "code",
   "execution_count": null,
   "id": "5a6eac2c",
   "metadata": {},
   "outputs": [],
   "source": []
  },
  {
   "cell_type": "code",
   "execution_count": 4,
   "id": "694053c9",
   "metadata": {},
   "outputs": [],
   "source": [
    "# Specify root directory for un-archived data and results \n",
    "base_dir = '/Users/alexandrafink/Documents/GraduateSchool/SaezLab/SWB/ephys_analysis/'\n",
    "anat_dir = '/Users/alexandrafink/Documents/GraduateSchool/SaezLab/SWB/anat_recons/recon_labels/'\n",
    "neural_dir = '/Users/alexandrafink/Documents/GraduateSchool/SaezLab/SWB/ephys_analysis/data/'\n",
    "behav_dir = '/Users/alexandrafink/Documents/GraduateSchool/SaezLab/SWB/behavior_analysis/behavior_preprocessed/'\n",
    "\n",
    "subj_id = 'DA11'\n",
    "subj_format = ['nlx']\n",
    "subj_site = ['UCD']"
   ]
  },
  {
   "cell_type": "code",
   "execution_count": 5,
   "id": "6d67b98e",
   "metadata": {},
   "outputs": [],
   "source": [
    "load_path = f'{neural_dir}{subj_id}/raw_nlx/'\n"
   ]
  },
  {
   "cell_type": "code",
   "execution_count": 6,
   "id": "a95f5e1a",
   "metadata": {},
   "outputs": [],
   "source": [
    "ncs_files = [x for x in glob(f'{load_path}/*.ncs')]"
   ]
  },
  {
   "cell_type": "code",
   "execution_count": 7,
   "id": "a9b85072",
   "metadata": {},
   "outputs": [
    {
     "data": {
      "text/plain": [
       "['/Users/alexandrafink/Documents/GraduateSchool/SaezLab/SWB/ephys_analysis/data/DA11/raw_nlx/RIA7_0007.ncs',\n",
       " '/Users/alexandrafink/Documents/GraduateSchool/SaezLab/SWB/ephys_analysis/data/DA11/raw_nlx/LAM9_0007.ncs',\n",
       " '/Users/alexandrafink/Documents/GraduateSchool/SaezLab/SWB/ephys_analysis/data/DA11/raw_nlx/RIA6_0007.ncs',\n",
       " '/Users/alexandrafink/Documents/GraduateSchool/SaezLab/SWB/ephys_analysis/data/DA11/raw_nlx/LAM8_0007.ncs',\n",
       " '/Users/alexandrafink/Documents/GraduateSchool/SaezLab/SWB/ephys_analysis/data/DA11/raw_nlx/LHB9_0005.ncs',\n",
       " '/Users/alexandrafink/Documents/GraduateSchool/SaezLab/SWB/ephys_analysis/data/DA11/raw_nlx/LHB8_0005.ncs',\n",
       " '/Users/alexandrafink/Documents/GraduateSchool/SaezLab/SWB/ephys_analysis/data/DA11/raw_nlx/RSM3_0005.ncs',\n",
       " '/Users/alexandrafink/Documents/GraduateSchool/SaezLab/SWB/ephys_analysis/data/DA11/raw_nlx/RAC4_0005.ncs',\n",
       " '/Users/alexandrafink/Documents/GraduateSchool/SaezLab/SWB/ephys_analysis/data/DA11/raw_nlx/RSM2_0005.ncs',\n",
       " '/Users/alexandrafink/Documents/GraduateSchool/SaezLab/SWB/ephys_analysis/data/DA11/raw_nlx/RAC5_0005.ncs',\n",
       " '/Users/alexandrafink/Documents/GraduateSchool/SaezLab/SWB/ephys_analysis/data/DA11/raw_nlx/RHB1_0006.ncs',\n",
       " '/Users/alexandrafink/Documents/GraduateSchool/SaezLab/SWB/ephys_analysis/data/DA11/raw_nlx/RIP5_0005.ncs',\n",
       " '/Users/alexandrafink/Documents/GraduateSchool/SaezLab/SWB/ephys_analysis/data/DA11/raw_nlx/LHB2_0006.ncs',\n",
       " '/Users/alexandrafink/Documents/GraduateSchool/SaezLab/SWB/ephys_analysis/data/DA11/raw_nlx/LHB3_0006.ncs',\n",
       " '/Users/alexandrafink/Documents/GraduateSchool/SaezLab/SWB/ephys_analysis/data/DA11/raw_nlx/RIP4_0005.ncs',\n",
       " '/Users/alexandrafink/Documents/GraduateSchool/SaezLab/SWB/ephys_analysis/data/DA11/raw_nlx/RHH7_0005.ncs',\n",
       " '/Users/alexandrafink/Documents/GraduateSchool/SaezLab/SWB/ephys_analysis/data/DA11/raw_nlx/RHH6_0005.ncs',\n",
       " '/Users/alexandrafink/Documents/GraduateSchool/SaezLab/SWB/ephys_analysis/data/DA11/raw_nlx/LHB3_0007.ncs',\n",
       " '/Users/alexandrafink/Documents/GraduateSchool/SaezLab/SWB/ephys_analysis/data/DA11/raw_nlx/LHB2_0007.ncs',\n",
       " '/Users/alexandrafink/Documents/GraduateSchool/SaezLab/SWB/ephys_analysis/data/DA11/raw_nlx/LAM3_0005.ncs',\n",
       " '/Users/alexandrafink/Documents/GraduateSchool/SaezLab/SWB/ephys_analysis/data/DA11/raw_nlx/LAM2_0005.ncs',\n",
       " '/Users/alexandrafink/Documents/GraduateSchool/SaezLab/SWB/ephys_analysis/data/DA11/raw_nlx/RAM1_0005.ncs',\n",
       " '/Users/alexandrafink/Documents/GraduateSchool/SaezLab/SWB/ephys_analysis/data/DA11/raw_nlx/RHB1_0007.ncs',\n",
       " '/Users/alexandrafink/Documents/GraduateSchool/SaezLab/SWB/ephys_analysis/data/DA11/raw_nlx/LHH5_0005.ncs',\n",
       " '/Users/alexandrafink/Documents/GraduateSchool/SaezLab/SWB/ephys_analysis/data/DA11/raw_nlx/LHH4_0005.ncs',\n",
       " '/Users/alexandrafink/Documents/GraduateSchool/SaezLab/SWB/ephys_analysis/data/DA11/raw_nlx/LAM8_0006.ncs',\n",
       " '/Users/alexandrafink/Documents/GraduateSchool/SaezLab/SWB/ephys_analysis/data/DA11/raw_nlx/RIA6_0006.ncs',\n",
       " '/Users/alexandrafink/Documents/GraduateSchool/SaezLab/SWB/ephys_analysis/data/DA11/raw_nlx/LAM9_0006.ncs',\n",
       " '/Users/alexandrafink/Documents/GraduateSchool/SaezLab/SWB/ephys_analysis/data/DA11/raw_nlx/RIA7_0006.ncs',\n",
       " '/Users/alexandrafink/Documents/GraduateSchool/SaezLab/SWB/ephys_analysis/data/DA11/raw_nlx/LHB8_0006.ncs',\n",
       " '/Users/alexandrafink/Documents/GraduateSchool/SaezLab/SWB/ephys_analysis/data/DA11/raw_nlx/LHB9_0006.ncs',\n",
       " '/Users/alexandrafink/Documents/GraduateSchool/SaezLab/SWB/ephys_analysis/data/DA11/raw_nlx/LHH5_0007.ncs',\n",
       " '/Users/alexandrafink/Documents/GraduateSchool/SaezLab/SWB/ephys_analysis/data/DA11/raw_nlx/LHH4_0007.ncs',\n",
       " '/Users/alexandrafink/Documents/GraduateSchool/SaezLab/SWB/ephys_analysis/data/DA11/raw_nlx/RAC5_0006.ncs',\n",
       " '/Users/alexandrafink/Documents/GraduateSchool/SaezLab/SWB/ephys_analysis/data/DA11/raw_nlx/RHB1_0005.ncs',\n",
       " '/Users/alexandrafink/Documents/GraduateSchool/SaezLab/SWB/ephys_analysis/data/DA11/raw_nlx/RSM2_0006.ncs',\n",
       " '/Users/alexandrafink/Documents/GraduateSchool/SaezLab/SWB/ephys_analysis/data/DA11/raw_nlx/RAC4_0006.ncs',\n",
       " '/Users/alexandrafink/Documents/GraduateSchool/SaezLab/SWB/ephys_analysis/data/DA11/raw_nlx/RSM3_0006.ncs',\n",
       " '/Users/alexandrafink/Documents/GraduateSchool/SaezLab/SWB/ephys_analysis/data/DA11/raw_nlx/RAM1_0007.ncs',\n",
       " '/Users/alexandrafink/Documents/GraduateSchool/SaezLab/SWB/ephys_analysis/data/DA11/raw_nlx/LAM3_0007.ncs',\n",
       " '/Users/alexandrafink/Documents/GraduateSchool/SaezLab/SWB/ephys_analysis/data/DA11/raw_nlx/LAM2_0007.ncs',\n",
       " '/Users/alexandrafink/Documents/GraduateSchool/SaezLab/SWB/ephys_analysis/data/DA11/raw_nlx/LHB3_0005.ncs',\n",
       " '/Users/alexandrafink/Documents/GraduateSchool/SaezLab/SWB/ephys_analysis/data/DA11/raw_nlx/RIP4_0006.ncs',\n",
       " '/Users/alexandrafink/Documents/GraduateSchool/SaezLab/SWB/ephys_analysis/data/DA11/raw_nlx/RIP5_0006.ncs',\n",
       " '/Users/alexandrafink/Documents/GraduateSchool/SaezLab/SWB/ephys_analysis/data/DA11/raw_nlx/LHB2_0005.ncs',\n",
       " '/Users/alexandrafink/Documents/GraduateSchool/SaezLab/SWB/ephys_analysis/data/DA11/raw_nlx/RHH7_0007.ncs',\n",
       " '/Users/alexandrafink/Documents/GraduateSchool/SaezLab/SWB/ephys_analysis/data/DA11/raw_nlx/RHH6_0007.ncs',\n",
       " '/Users/alexandrafink/Documents/GraduateSchool/SaezLab/SWB/ephys_analysis/data/DA11/raw_nlx/RHH6_0006.ncs',\n",
       " '/Users/alexandrafink/Documents/GraduateSchool/SaezLab/SWB/ephys_analysis/data/DA11/raw_nlx/RHH7_0006.ncs',\n",
       " '/Users/alexandrafink/Documents/GraduateSchool/SaezLab/SWB/ephys_analysis/data/DA11/raw_nlx/RIP5_0007.ncs',\n",
       " '/Users/alexandrafink/Documents/GraduateSchool/SaezLab/SWB/ephys_analysis/data/DA11/raw_nlx/RIP4_0007.ncs',\n",
       " '/Users/alexandrafink/Documents/GraduateSchool/SaezLab/SWB/ephys_analysis/data/DA11/raw_nlx/LAM2_0006.ncs',\n",
       " '/Users/alexandrafink/Documents/GraduateSchool/SaezLab/SWB/ephys_analysis/data/DA11/raw_nlx/LAM3_0006.ncs',\n",
       " '/Users/alexandrafink/Documents/GraduateSchool/SaezLab/SWB/ephys_analysis/data/DA11/raw_nlx/RAM1_0006.ncs',\n",
       " '/Users/alexandrafink/Documents/GraduateSchool/SaezLab/SWB/ephys_analysis/data/DA11/raw_nlx/RAC4_0007.ncs',\n",
       " '/Users/alexandrafink/Documents/GraduateSchool/SaezLab/SWB/ephys_analysis/data/DA11/raw_nlx/RSM3_0007.ncs',\n",
       " '/Users/alexandrafink/Documents/GraduateSchool/SaezLab/SWB/ephys_analysis/data/DA11/raw_nlx/RAC5_0007.ncs',\n",
       " '/Users/alexandrafink/Documents/GraduateSchool/SaezLab/SWB/ephys_analysis/data/DA11/raw_nlx/RSM2_0007.ncs',\n",
       " '/Users/alexandrafink/Documents/GraduateSchool/SaezLab/SWB/ephys_analysis/data/DA11/raw_nlx/LHH4_0006.ncs',\n",
       " '/Users/alexandrafink/Documents/GraduateSchool/SaezLab/SWB/ephys_analysis/data/DA11/raw_nlx/LHH5_0006.ncs',\n",
       " '/Users/alexandrafink/Documents/GraduateSchool/SaezLab/SWB/ephys_analysis/data/DA11/raw_nlx/LHB9_0007.ncs',\n",
       " '/Users/alexandrafink/Documents/GraduateSchool/SaezLab/SWB/ephys_analysis/data/DA11/raw_nlx/LHB8_0007.ncs',\n",
       " '/Users/alexandrafink/Documents/GraduateSchool/SaezLab/SWB/ephys_analysis/data/DA11/raw_nlx/RIA7_0005.ncs',\n",
       " '/Users/alexandrafink/Documents/GraduateSchool/SaezLab/SWB/ephys_analysis/data/DA11/raw_nlx/LAM9_0005.ncs',\n",
       " '/Users/alexandrafink/Documents/GraduateSchool/SaezLab/SWB/ephys_analysis/data/DA11/raw_nlx/RIA6_0005.ncs',\n",
       " '/Users/alexandrafink/Documents/GraduateSchool/SaezLab/SWB/ephys_analysis/data/DA11/raw_nlx/LAM8_0005.ncs',\n",
       " '/Users/alexandrafink/Documents/GraduateSchool/SaezLab/SWB/ephys_analysis/data/DA11/raw_nlx/RTT9_0006.ncs',\n",
       " '/Users/alexandrafink/Documents/GraduateSchool/SaezLab/SWB/ephys_analysis/data/DA11/raw_nlx/RTT8_0006.ncs',\n",
       " '/Users/alexandrafink/Documents/GraduateSchool/SaezLab/SWB/ephys_analysis/data/DA11/raw_nlx/LTT1_0005.ncs',\n",
       " '/Users/alexandrafink/Documents/GraduateSchool/SaezLab/SWB/ephys_analysis/data/DA11/raw_nlx/RTT10_0006.ncs',\n",
       " '/Users/alexandrafink/Documents/GraduateSchool/SaezLab/SWB/ephys_analysis/data/DA11/raw_nlx/RFP3_0007.ncs',\n",
       " '/Users/alexandrafink/Documents/GraduateSchool/SaezLab/SWB/ephys_analysis/data/DA11/raw_nlx/RFP2_0007.ncs',\n",
       " '/Users/alexandrafink/Documents/GraduateSchool/SaezLab/SWB/ephys_analysis/data/DA11/raw_nlx/RIA10_0007.ncs',\n",
       " '/Users/alexandrafink/Documents/GraduateSchool/SaezLab/SWB/ephys_analysis/data/DA11/raw_nlx/RTT2_0005.ncs',\n",
       " '/Users/alexandrafink/Documents/GraduateSchool/SaezLab/SWB/ephys_analysis/data/DA11/raw_nlx/RTT3_0005.ncs',\n",
       " '/Users/alexandrafink/Documents/GraduateSchool/SaezLab/SWB/ephys_analysis/data/DA11/raw_nlx/RIA10_0006.ncs',\n",
       " '/Users/alexandrafink/Documents/GraduateSchool/SaezLab/SWB/ephys_analysis/data/DA11/raw_nlx/RFP2_0006.ncs',\n",
       " '/Users/alexandrafink/Documents/GraduateSchool/SaezLab/SWB/ephys_analysis/data/DA11/raw_nlx/RFP3_0006.ncs',\n",
       " '/Users/alexandrafink/Documents/GraduateSchool/SaezLab/SWB/ephys_analysis/data/DA11/raw_nlx/RTT10_0007.ncs',\n",
       " '/Users/alexandrafink/Documents/GraduateSchool/SaezLab/SWB/ephys_analysis/data/DA11/raw_nlx/RFP9_0005.ncs',\n",
       " '/Users/alexandrafink/Documents/GraduateSchool/SaezLab/SWB/ephys_analysis/data/DA11/raw_nlx/RFP8_0005.ncs',\n",
       " '/Users/alexandrafink/Documents/GraduateSchool/SaezLab/SWB/ephys_analysis/data/DA11/raw_nlx/RTT8_0007.ncs',\n",
       " '/Users/alexandrafink/Documents/GraduateSchool/SaezLab/SWB/ephys_analysis/data/DA11/raw_nlx/RTT9_0007.ncs',\n",
       " '/Users/alexandrafink/Documents/GraduateSchool/SaezLab/SWB/ephys_analysis/data/DA11/raw_nlx/RTT8_0005.ncs',\n",
       " '/Users/alexandrafink/Documents/GraduateSchool/SaezLab/SWB/ephys_analysis/data/DA11/raw_nlx/RTT9_0005.ncs',\n",
       " '/Users/alexandrafink/Documents/GraduateSchool/SaezLab/SWB/ephys_analysis/data/DA11/raw_nlx/RFP9_0007.ncs',\n",
       " '/Users/alexandrafink/Documents/GraduateSchool/SaezLab/SWB/ephys_analysis/data/DA11/raw_nlx/RFP8_0007.ncs',\n",
       " '/Users/alexandrafink/Documents/GraduateSchool/SaezLab/SWB/ephys_analysis/data/DA11/raw_nlx/LTT1_0006.ncs',\n",
       " '/Users/alexandrafink/Documents/GraduateSchool/SaezLab/SWB/ephys_analysis/data/DA11/raw_nlx/RTT10_0005.ncs',\n",
       " '/Users/alexandrafink/Documents/GraduateSchool/SaezLab/SWB/ephys_analysis/data/DA11/raw_nlx/RTT3_0006.ncs',\n",
       " '/Users/alexandrafink/Documents/GraduateSchool/SaezLab/SWB/ephys_analysis/data/DA11/raw_nlx/RTT2_0006.ncs',\n",
       " '/Users/alexandrafink/Documents/GraduateSchool/SaezLab/SWB/ephys_analysis/data/DA11/raw_nlx/RTT2_0007.ncs',\n",
       " '/Users/alexandrafink/Documents/GraduateSchool/SaezLab/SWB/ephys_analysis/data/DA11/raw_nlx/RTT3_0007.ncs',\n",
       " '/Users/alexandrafink/Documents/GraduateSchool/SaezLab/SWB/ephys_analysis/data/DA11/raw_nlx/RIA10_0005.ncs',\n",
       " '/Users/alexandrafink/Documents/GraduateSchool/SaezLab/SWB/ephys_analysis/data/DA11/raw_nlx/RFP3_0005.ncs',\n",
       " '/Users/alexandrafink/Documents/GraduateSchool/SaezLab/SWB/ephys_analysis/data/DA11/raw_nlx/RFP2_0005.ncs',\n",
       " '/Users/alexandrafink/Documents/GraduateSchool/SaezLab/SWB/ephys_analysis/data/DA11/raw_nlx/LTT1_0007.ncs',\n",
       " '/Users/alexandrafink/Documents/GraduateSchool/SaezLab/SWB/ephys_analysis/data/DA11/raw_nlx/RFP8_0006.ncs',\n",
       " '/Users/alexandrafink/Documents/GraduateSchool/SaezLab/SWB/ephys_analysis/data/DA11/raw_nlx/RFP9_0006.ncs',\n",
       " '/Users/alexandrafink/Documents/GraduateSchool/SaezLab/SWB/ephys_analysis/data/DA11/raw_nlx/RTT5_0005.ncs',\n",
       " '/Users/alexandrafink/Documents/GraduateSchool/SaezLab/SWB/ephys_analysis/data/DA11/raw_nlx/RTT4_0005.ncs',\n",
       " '/Users/alexandrafink/Documents/GraduateSchool/SaezLab/SWB/ephys_analysis/data/DA11/raw_nlx/LTT7_0005.ncs',\n",
       " '/Users/alexandrafink/Documents/GraduateSchool/SaezLab/SWB/ephys_analysis/data/DA11/raw_nlx/LTT6_0005.ncs',\n",
       " '/Users/alexandrafink/Documents/GraduateSchool/SaezLab/SWB/ephys_analysis/data/DA11/raw_nlx/Photodiode_0007.ncs',\n",
       " '/Users/alexandrafink/Documents/GraduateSchool/SaezLab/SWB/ephys_analysis/data/DA11/raw_nlx/RFP4_0007.ncs',\n",
       " '/Users/alexandrafink/Documents/GraduateSchool/SaezLab/SWB/ephys_analysis/data/DA11/raw_nlx/RFP5_0007.ncs',\n",
       " '/Users/alexandrafink/Documents/GraduateSchool/SaezLab/SWB/ephys_analysis/data/DA11/raw_nlx/RFP5_0006.ncs',\n",
       " '/Users/alexandrafink/Documents/GraduateSchool/SaezLab/SWB/ephys_analysis/data/DA11/raw_nlx/RFP4_0006.ncs',\n",
       " '/Users/alexandrafink/Documents/GraduateSchool/SaezLab/SWB/ephys_analysis/data/DA11/raw_nlx/Photodiode_0006.ncs',\n",
       " '/Users/alexandrafink/Documents/GraduateSchool/SaezLab/SWB/ephys_analysis/data/DA11/raw_nlx/RTT4_0006.ncs',\n",
       " '/Users/alexandrafink/Documents/GraduateSchool/SaezLab/SWB/ephys_analysis/data/DA11/raw_nlx/RTT5_0006.ncs',\n",
       " '/Users/alexandrafink/Documents/GraduateSchool/SaezLab/SWB/ephys_analysis/data/DA11/raw_nlx/LTT6_0006.ncs',\n",
       " '/Users/alexandrafink/Documents/GraduateSchool/SaezLab/SWB/ephys_analysis/data/DA11/raw_nlx/LTT7_0006.ncs',\n",
       " '/Users/alexandrafink/Documents/GraduateSchool/SaezLab/SWB/ephys_analysis/data/DA11/raw_nlx/RFP4_0005.ncs',\n",
       " '/Users/alexandrafink/Documents/GraduateSchool/SaezLab/SWB/ephys_analysis/data/DA11/raw_nlx/RFP5_0005.ncs',\n",
       " '/Users/alexandrafink/Documents/GraduateSchool/SaezLab/SWB/ephys_analysis/data/DA11/raw_nlx/Photodiode_0005.ncs',\n",
       " '/Users/alexandrafink/Documents/GraduateSchool/SaezLab/SWB/ephys_analysis/data/DA11/raw_nlx/LTT7_0007.ncs',\n",
       " '/Users/alexandrafink/Documents/GraduateSchool/SaezLab/SWB/ephys_analysis/data/DA11/raw_nlx/LTT6_0007.ncs',\n",
       " '/Users/alexandrafink/Documents/GraduateSchool/SaezLab/SWB/ephys_analysis/data/DA11/raw_nlx/RTT5_0007.ncs',\n",
       " '/Users/alexandrafink/Documents/GraduateSchool/SaezLab/SWB/ephys_analysis/data/DA11/raw_nlx/RTT4_0007.ncs',\n",
       " '/Users/alexandrafink/Documents/GraduateSchool/SaezLab/SWB/ephys_analysis/data/DA11/raw_nlx/RAC8_0006.ncs',\n",
       " '/Users/alexandrafink/Documents/GraduateSchool/SaezLab/SWB/ephys_analysis/data/DA11/raw_nlx/RAC9_0006.ncs',\n",
       " '/Users/alexandrafink/Documents/GraduateSchool/SaezLab/SWB/ephys_analysis/data/DA11/raw_nlx/LHH8_0007.ncs',\n",
       " '/Users/alexandrafink/Documents/GraduateSchool/SaezLab/SWB/ephys_analysis/data/DA11/raw_nlx/LHH9_0007.ncs',\n",
       " '/Users/alexandrafink/Documents/GraduateSchool/SaezLab/SWB/ephys_analysis/data/DA11/raw_nlx/RIA1_0007.ncs',\n",
       " '/Users/alexandrafink/Documents/GraduateSchool/SaezLab/SWB/ephys_analysis/data/DA11/raw_nlx/RIP9_0006.ncs',\n",
       " '/Users/alexandrafink/Documents/GraduateSchool/SaezLab/SWB/ephys_analysis/data/DA11/raw_nlx/RIP8_0006.ncs',\n",
       " '/Users/alexandrafink/Documents/GraduateSchool/SaezLab/SWB/ephys_analysis/data/DA11/raw_nlx/LHB5_0006.ncs',\n",
       " '/Users/alexandrafink/Documents/GraduateSchool/SaezLab/SWB/ephys_analysis/data/DA11/raw_nlx/RIP2_0005.ncs',\n",
       " '/Users/alexandrafink/Documents/GraduateSchool/SaezLab/SWB/ephys_analysis/data/DA11/raw_nlx/RIP3_0005.ncs',\n",
       " '/Users/alexandrafink/Documents/GraduateSchool/SaezLab/SWB/ephys_analysis/data/DA11/raw_nlx/LHB4_0006.ncs',\n",
       " '/Users/alexandrafink/Documents/GraduateSchool/SaezLab/SWB/ephys_analysis/data/DA11/raw_nlx/RSM4_0005.ncs',\n",
       " '/Users/alexandrafink/Documents/GraduateSchool/SaezLab/SWB/ephys_analysis/data/DA11/raw_nlx/RAC3_0005.ncs',\n",
       " '/Users/alexandrafink/Documents/GraduateSchool/SaezLab/SWB/ephys_analysis/data/DA11/raw_nlx/RHB7_0006.ncs',\n",
       " '/Users/alexandrafink/Documents/GraduateSchool/SaezLab/SWB/ephys_analysis/data/DA11/raw_nlx/RSM5_0005.ncs',\n",
       " '/Users/alexandrafink/Documents/GraduateSchool/SaezLab/SWB/ephys_analysis/data/DA11/raw_nlx/RHB6_0006.ncs',\n",
       " '/Users/alexandrafink/Documents/GraduateSchool/SaezLab/SWB/ephys_analysis/data/DA11/raw_nlx/RAC2_0005.ncs',\n",
       " '/Users/alexandrafink/Documents/GraduateSchool/SaezLab/SWB/ephys_analysis/data/DA11/raw_nlx/RAM6_0005.ncs',\n",
       " '/Users/alexandrafink/Documents/GraduateSchool/SaezLab/SWB/ephys_analysis/data/DA11/raw_nlx/RAM7_0005.ncs',\n",
       " '/Users/alexandrafink/Documents/GraduateSchool/SaezLab/SWB/ephys_analysis/data/DA11/raw_nlx/RHB6_0007.ncs',\n",
       " '/Users/alexandrafink/Documents/GraduateSchool/SaezLab/SWB/ephys_analysis/data/DA11/raw_nlx/RHB7_0007.ncs',\n",
       " '/Users/alexandrafink/Documents/GraduateSchool/SaezLab/SWB/ephys_analysis/data/DA11/raw_nlx/LHH2_0005.ncs',\n",
       " '/Users/alexandrafink/Documents/GraduateSchool/SaezLab/SWB/ephys_analysis/data/DA11/raw_nlx/LHH3_0005.ncs',\n",
       " '/Users/alexandrafink/Documents/GraduateSchool/SaezLab/SWB/ephys_analysis/data/DA11/raw_nlx/RIP10_0005.ncs',\n",
       " '/Users/alexandrafink/Documents/GraduateSchool/SaezLab/SWB/ephys_analysis/data/DA11/raw_nlx/RHH1_0005.ncs',\n",
       " '/Users/alexandrafink/Documents/GraduateSchool/SaezLab/SWB/ephys_analysis/data/DA11/raw_nlx/LHB4_0007.ncs',\n",
       " '/Users/alexandrafink/Documents/GraduateSchool/SaezLab/SWB/ephys_analysis/data/DA11/raw_nlx/LHB5_0007.ncs',\n",
       " '/Users/alexandrafink/Documents/GraduateSchool/SaezLab/SWB/ephys_analysis/data/DA11/raw_nlx/LAM4_0005.ncs',\n",
       " '/Users/alexandrafink/Documents/GraduateSchool/SaezLab/SWB/ephys_analysis/data/DA11/raw_nlx/LAM5_0005.ncs',\n",
       " '/Users/alexandrafink/Documents/GraduateSchool/SaezLab/SWB/ephys_analysis/data/DA11/raw_nlx/RIP8_0007.ncs',\n",
       " '/Users/alexandrafink/Documents/GraduateSchool/SaezLab/SWB/ephys_analysis/data/DA11/raw_nlx/RIP9_0007.ncs',\n",
       " '/Users/alexandrafink/Documents/GraduateSchool/SaezLab/SWB/ephys_analysis/data/DA11/raw_nlx/RIA1_0006.ncs',\n",
       " '/Users/alexandrafink/Documents/GraduateSchool/SaezLab/SWB/ephys_analysis/data/DA11/raw_nlx/LHH9_0006.ncs',\n",
       " '/Users/alexandrafink/Documents/GraduateSchool/SaezLab/SWB/ephys_analysis/data/DA11/raw_nlx/LHH8_0006.ncs',\n",
       " '/Users/alexandrafink/Documents/GraduateSchool/SaezLab/SWB/ephys_analysis/data/DA11/raw_nlx/RAC9_0007.ncs',\n",
       " '/Users/alexandrafink/Documents/GraduateSchool/SaezLab/SWB/ephys_analysis/data/DA11/raw_nlx/RAC8_0007.ncs',\n",
       " '/Users/alexandrafink/Documents/GraduateSchool/SaezLab/SWB/ephys_analysis/data/DA11/raw_nlx/RAC9_0005.ncs',\n",
       " '/Users/alexandrafink/Documents/GraduateSchool/SaezLab/SWB/ephys_analysis/data/DA11/raw_nlx/RAC8_0005.ncs',\n",
       " '/Users/alexandrafink/Documents/GraduateSchool/SaezLab/SWB/ephys_analysis/data/DA11/raw_nlx/RIP8_0005.ncs',\n",
       " '/Users/alexandrafink/Documents/GraduateSchool/SaezLab/SWB/ephys_analysis/data/DA11/raw_nlx/RIP9_0005.ncs',\n",
       " '/Users/alexandrafink/Documents/GraduateSchool/SaezLab/SWB/ephys_analysis/data/DA11/raw_nlx/LAM4_0007.ncs',\n",
       " '/Users/alexandrafink/Documents/GraduateSchool/SaezLab/SWB/ephys_analysis/data/DA11/raw_nlx/LAM5_0007.ncs',\n",
       " '/Users/alexandrafink/Documents/GraduateSchool/SaezLab/SWB/ephys_analysis/data/DA11/raw_nlx/RIP3_0006.ncs',\n",
       " '/Users/alexandrafink/Documents/GraduateSchool/SaezLab/SWB/ephys_analysis/data/DA11/raw_nlx/LHB4_0005.ncs',\n",
       " '/Users/alexandrafink/Documents/GraduateSchool/SaezLab/SWB/ephys_analysis/data/DA11/raw_nlx/LHB5_0005.ncs',\n",
       " '/Users/alexandrafink/Documents/GraduateSchool/SaezLab/SWB/ephys_analysis/data/DA11/raw_nlx/RIP2_0006.ncs',\n",
       " '/Users/alexandrafink/Documents/GraduateSchool/SaezLab/SWB/ephys_analysis/data/DA11/raw_nlx/RHH1_0007.ncs',\n",
       " '/Users/alexandrafink/Documents/GraduateSchool/SaezLab/SWB/ephys_analysis/data/DA11/raw_nlx/RIP10_0007.ncs',\n",
       " '/Users/alexandrafink/Documents/GraduateSchool/SaezLab/SWB/ephys_analysis/data/DA11/raw_nlx/LHH2_0007.ncs',\n",
       " '/Users/alexandrafink/Documents/GraduateSchool/SaezLab/SWB/ephys_analysis/data/DA11/raw_nlx/LHH3_0007.ncs',\n",
       " '/Users/alexandrafink/Documents/GraduateSchool/SaezLab/SWB/ephys_analysis/data/DA11/raw_nlx/RHB6_0005.ncs',\n",
       " '/Users/alexandrafink/Documents/GraduateSchool/SaezLab/SWB/ephys_analysis/data/DA11/raw_nlx/RAC2_0006.ncs',\n",
       " '/Users/alexandrafink/Documents/GraduateSchool/SaezLab/SWB/ephys_analysis/data/DA11/raw_nlx/RSM5_0006.ncs',\n",
       " '/Users/alexandrafink/Documents/GraduateSchool/SaezLab/SWB/ephys_analysis/data/DA11/raw_nlx/RAC3_0006.ncs',\n",
       " '/Users/alexandrafink/Documents/GraduateSchool/SaezLab/SWB/ephys_analysis/data/DA11/raw_nlx/RHB7_0005.ncs',\n",
       " '/Users/alexandrafink/Documents/GraduateSchool/SaezLab/SWB/ephys_analysis/data/DA11/raw_nlx/RSM4_0006.ncs',\n",
       " '/Users/alexandrafink/Documents/GraduateSchool/SaezLab/SWB/ephys_analysis/data/DA11/raw_nlx/RAM6_0007.ncs',\n",
       " '/Users/alexandrafink/Documents/GraduateSchool/SaezLab/SWB/ephys_analysis/data/DA11/raw_nlx/RAM7_0007.ncs',\n",
       " '/Users/alexandrafink/Documents/GraduateSchool/SaezLab/SWB/ephys_analysis/data/DA11/raw_nlx/RAM7_0006.ncs',\n",
       " '/Users/alexandrafink/Documents/GraduateSchool/SaezLab/SWB/ephys_analysis/data/DA11/raw_nlx/RAM6_0006.ncs',\n",
       " '/Users/alexandrafink/Documents/GraduateSchool/SaezLab/SWB/ephys_analysis/data/DA11/raw_nlx/RAC3_0007.ncs',\n",
       " '/Users/alexandrafink/Documents/GraduateSchool/SaezLab/SWB/ephys_analysis/data/DA11/raw_nlx/RSM4_0007.ncs',\n",
       " '/Users/alexandrafink/Documents/GraduateSchool/SaezLab/SWB/ephys_analysis/data/DA11/raw_nlx/RAC2_0007.ncs',\n",
       " '/Users/alexandrafink/Documents/GraduateSchool/SaezLab/SWB/ephys_analysis/data/DA11/raw_nlx/RSM5_0007.ncs',\n",
       " '/Users/alexandrafink/Documents/GraduateSchool/SaezLab/SWB/ephys_analysis/data/DA11/raw_nlx/LHH3_0006.ncs',\n",
       " '/Users/alexandrafink/Documents/GraduateSchool/SaezLab/SWB/ephys_analysis/data/DA11/raw_nlx/LHH2_0006.ncs',\n",
       " '/Users/alexandrafink/Documents/GraduateSchool/SaezLab/SWB/ephys_analysis/data/DA11/raw_nlx/RIP10_0006.ncs',\n",
       " '/Users/alexandrafink/Documents/GraduateSchool/SaezLab/SWB/ephys_analysis/data/DA11/raw_nlx/RHH1_0006.ncs',\n",
       " '/Users/alexandrafink/Documents/GraduateSchool/SaezLab/SWB/ephys_analysis/data/DA11/raw_nlx/RIP2_0007.ncs',\n",
       " '/Users/alexandrafink/Documents/GraduateSchool/SaezLab/SWB/ephys_analysis/data/DA11/raw_nlx/RIP3_0007.ncs',\n",
       " '/Users/alexandrafink/Documents/GraduateSchool/SaezLab/SWB/ephys_analysis/data/DA11/raw_nlx/LAM5_0006.ncs',\n",
       " '/Users/alexandrafink/Documents/GraduateSchool/SaezLab/SWB/ephys_analysis/data/DA11/raw_nlx/LAM4_0006.ncs',\n",
       " '/Users/alexandrafink/Documents/GraduateSchool/SaezLab/SWB/ephys_analysis/data/DA11/raw_nlx/RIA1_0005.ncs',\n",
       " '/Users/alexandrafink/Documents/GraduateSchool/SaezLab/SWB/ephys_analysis/data/DA11/raw_nlx/LHH8_0005.ncs',\n",
       " '/Users/alexandrafink/Documents/GraduateSchool/SaezLab/SWB/ephys_analysis/data/DA11/raw_nlx/LHH9_0005.ncs',\n",
       " '/Users/alexandrafink/Documents/GraduateSchool/SaezLab/SWB/ephys_analysis/data/DA11/raw_nlx/LTT9_0005.ncs',\n",
       " '/Users/alexandrafink/Documents/GraduateSchool/SaezLab/SWB/ephys_analysis/data/DA11/raw_nlx/LTT8_0005.ncs',\n",
       " '/Users/alexandrafink/Documents/GraduateSchool/SaezLab/SWB/ephys_analysis/data/DA11/raw_nlx/LTT2_0006.ncs',\n",
       " '/Users/alexandrafink/Documents/GraduateSchool/SaezLab/SWB/ephys_analysis/data/DA11/raw_nlx/LTT3_0006.ncs',\n",
       " '/Users/alexandrafink/Documents/GraduateSchool/SaezLab/SWB/ephys_analysis/data/DA11/raw_nlx/RTT1_0006.ncs',\n",
       " '/Users/alexandrafink/Documents/GraduateSchool/SaezLab/SWB/ephys_analysis/data/DA11/raw_nlx/RTT1_0007.ncs',\n",
       " '/Users/alexandrafink/Documents/GraduateSchool/SaezLab/SWB/ephys_analysis/data/DA11/raw_nlx/LTT3_0007.ncs',\n",
       " '/Users/alexandrafink/Documents/GraduateSchool/SaezLab/SWB/ephys_analysis/data/DA11/raw_nlx/LTT2_0007.ncs',\n",
       " '/Users/alexandrafink/Documents/GraduateSchool/SaezLab/SWB/ephys_analysis/data/DA11/raw_nlx/RFP1_0005.ncs',\n",
       " '/Users/alexandrafink/Documents/GraduateSchool/SaezLab/SWB/ephys_analysis/data/DA11/raw_nlx/LTT8_0006.ncs',\n",
       " '/Users/alexandrafink/Documents/GraduateSchool/SaezLab/SWB/ephys_analysis/data/DA11/raw_nlx/LTT9_0006.ncs',\n",
       " '/Users/alexandrafink/Documents/GraduateSchool/SaezLab/SWB/ephys_analysis/data/DA11/raw_nlx/RFP1_0007.ncs',\n",
       " '/Users/alexandrafink/Documents/GraduateSchool/SaezLab/SWB/ephys_analysis/data/DA11/raw_nlx/LTT3_0005.ncs',\n",
       " '/Users/alexandrafink/Documents/GraduateSchool/SaezLab/SWB/ephys_analysis/data/DA11/raw_nlx/LTT2_0005.ncs',\n",
       " '/Users/alexandrafink/Documents/GraduateSchool/SaezLab/SWB/ephys_analysis/data/DA11/raw_nlx/RTT1_0005.ncs',\n",
       " '/Users/alexandrafink/Documents/GraduateSchool/SaezLab/SWB/ephys_analysis/data/DA11/raw_nlx/RFP1_0006.ncs',\n",
       " '/Users/alexandrafink/Documents/GraduateSchool/SaezLab/SWB/ephys_analysis/data/DA11/raw_nlx/LTT9_0007.ncs',\n",
       " '/Users/alexandrafink/Documents/GraduateSchool/SaezLab/SWB/ephys_analysis/data/DA11/raw_nlx/LTT8_0007.ncs',\n",
       " '/Users/alexandrafink/Documents/GraduateSchool/SaezLab/SWB/ephys_analysis/data/DA11/raw_nlx/RHB9_0006.ncs',\n",
       " '/Users/alexandrafink/Documents/GraduateSchool/SaezLab/SWB/ephys_analysis/data/DA11/raw_nlx/RHB8_0006.ncs',\n",
       " '/Users/alexandrafink/Documents/GraduateSchool/SaezLab/SWB/ephys_analysis/data/DA11/raw_nlx/RSM1_0006.ncs',\n",
       " '/Users/alexandrafink/Documents/GraduateSchool/SaezLab/SWB/ephys_analysis/data/DA11/raw_nlx/RAC6_0006.ncs',\n",
       " '/Users/alexandrafink/Documents/GraduateSchool/SaezLab/SWB/ephys_analysis/data/DA11/raw_nlx/RHB2_0005.ncs',\n",
       " '/Users/alexandrafink/Documents/GraduateSchool/SaezLab/SWB/ephys_analysis/data/DA11/raw_nlx/RHB3_0005.ncs',\n",
       " '/Users/alexandrafink/Documents/GraduateSchool/SaezLab/SWB/ephys_analysis/data/DA11/raw_nlx/RAC7_0006.ncs',\n",
       " '/Users/alexandrafink/Documents/GraduateSchool/SaezLab/SWB/ephys_analysis/data/DA11/raw_nlx/RAM2_0007.ncs',\n",
       " '/Users/alexandrafink/Documents/GraduateSchool/SaezLab/SWB/ephys_analysis/data/DA11/raw_nlx/RAM3_0007.ncs',\n",
       " '/Users/alexandrafink/Documents/GraduateSchool/SaezLab/SWB/ephys_analysis/data/DA11/raw_nlx/LHH6_0007.ncs',\n",
       " '/Users/alexandrafink/Documents/GraduateSchool/SaezLab/SWB/ephys_analysis/data/DA11/raw_nlx/LHH7_0007.ncs',\n",
       " '/Users/alexandrafink/Documents/GraduateSchool/SaezLab/SWB/ephys_analysis/data/DA11/raw_nlx/RHH4_0007.ncs',\n",
       " '/Users/alexandrafink/Documents/GraduateSchool/SaezLab/SWB/ephys_analysis/data/DA11/raw_nlx/RHH5_0007.ncs',\n",
       " '/Users/alexandrafink/Documents/GraduateSchool/SaezLab/SWB/ephys_analysis/data/DA11/raw_nlx/LAM1_0007.ncs',\n",
       " '/Users/alexandrafink/Documents/GraduateSchool/SaezLab/SWB/ephys_analysis/data/DA11/raw_nlx/RIP7_0006.ncs',\n",
       " '/Users/alexandrafink/Documents/GraduateSchool/SaezLab/SWB/ephys_analysis/data/DA11/raw_nlx/RIP6_0006.ncs',\n",
       " '/Users/alexandrafink/Documents/GraduateSchool/SaezLab/SWB/ephys_analysis/data/DA11/raw_nlx/LHB1_0005.ncs',\n",
       " '/Users/alexandrafink/Documents/GraduateSchool/SaezLab/SWB/ephys_analysis/data/DA11/raw_nlx/RIP6_0007.ncs',\n",
       " '/Users/alexandrafink/Documents/GraduateSchool/SaezLab/SWB/ephys_analysis/data/DA11/raw_nlx/RIP7_0007.ncs',\n",
       " '/Users/alexandrafink/Documents/GraduateSchool/SaezLab/SWB/ephys_analysis/data/DA11/raw_nlx/LAM1_0006.ncs',\n",
       " '/Users/alexandrafink/Documents/GraduateSchool/SaezLab/SWB/ephys_analysis/data/DA11/raw_nlx/RHH5_0006.ncs',\n",
       " '/Users/alexandrafink/Documents/GraduateSchool/SaezLab/SWB/ephys_analysis/data/DA11/raw_nlx/RHH4_0006.ncs',\n",
       " '/Users/alexandrafink/Documents/GraduateSchool/SaezLab/SWB/ephys_analysis/data/DA11/raw_nlx/LHH7_0006.ncs',\n",
       " '/Users/alexandrafink/Documents/GraduateSchool/SaezLab/SWB/ephys_analysis/data/DA11/raw_nlx/LHH6_0006.ncs',\n",
       " '/Users/alexandrafink/Documents/GraduateSchool/SaezLab/SWB/ephys_analysis/data/DA11/raw_nlx/RAM3_0006.ncs',\n",
       " '/Users/alexandrafink/Documents/GraduateSchool/SaezLab/SWB/ephys_analysis/data/DA11/raw_nlx/RAM2_0006.ncs',\n",
       " '/Users/alexandrafink/Documents/GraduateSchool/SaezLab/SWB/ephys_analysis/data/DA11/raw_nlx/RAC7_0007.ncs',\n",
       " '/Users/alexandrafink/Documents/GraduateSchool/SaezLab/SWB/ephys_analysis/data/DA11/raw_nlx/RSM1_0007.ncs',\n",
       " '/Users/alexandrafink/Documents/GraduateSchool/SaezLab/SWB/ephys_analysis/data/DA11/raw_nlx/RAC6_0007.ncs',\n",
       " '/Users/alexandrafink/Documents/GraduateSchool/SaezLab/SWB/ephys_analysis/data/DA11/raw_nlx/RAM8_0005.ncs',\n",
       " '/Users/alexandrafink/Documents/GraduateSchool/SaezLab/SWB/ephys_analysis/data/DA11/raw_nlx/RAM9_0005.ncs',\n",
       " '/Users/alexandrafink/Documents/GraduateSchool/SaezLab/SWB/ephys_analysis/data/DA11/raw_nlx/RHB8_0007.ncs',\n",
       " '/Users/alexandrafink/Documents/GraduateSchool/SaezLab/SWB/ephys_analysis/data/DA11/raw_nlx/RHB9_0007.ncs',\n",
       " '/Users/alexandrafink/Documents/GraduateSchool/SaezLab/SWB/ephys_analysis/data/DA11/raw_nlx/RIA4_0005.ncs',\n",
       " '/Users/alexandrafink/Documents/GraduateSchool/SaezLab/SWB/ephys_analysis/data/DA11/raw_nlx/RIA5_0005.ncs',\n",
       " '/Users/alexandrafink/Documents/GraduateSchool/SaezLab/SWB/ephys_analysis/data/DA11/raw_nlx/RIA4_0007.ncs',\n",
       " '/Users/alexandrafink/Documents/GraduateSchool/SaezLab/SWB/ephys_analysis/data/DA11/raw_nlx/RIA5_0007.ncs',\n",
       " '/Users/alexandrafink/Documents/GraduateSchool/SaezLab/SWB/ephys_analysis/data/DA11/raw_nlx/RHB8_0005.ncs',\n",
       " '/Users/alexandrafink/Documents/GraduateSchool/SaezLab/SWB/ephys_analysis/data/DA11/raw_nlx/RHB9_0005.ncs',\n",
       " '/Users/alexandrafink/Documents/GraduateSchool/SaezLab/SWB/ephys_analysis/data/DA11/raw_nlx/RAM8_0007.ncs',\n",
       " '/Users/alexandrafink/Documents/GraduateSchool/SaezLab/SWB/ephys_analysis/data/DA11/raw_nlx/RAM9_0007.ncs',\n",
       " '/Users/alexandrafink/Documents/GraduateSchool/SaezLab/SWB/ephys_analysis/data/DA11/raw_nlx/RHB3_0006.ncs',\n",
       " '/Users/alexandrafink/Documents/GraduateSchool/SaezLab/SWB/ephys_analysis/data/DA11/raw_nlx/RAC7_0005.ncs',\n",
       " '/Users/alexandrafink/Documents/GraduateSchool/SaezLab/SWB/ephys_analysis/data/DA11/raw_nlx/RAC6_0005.ncs',\n",
       " '/Users/alexandrafink/Documents/GraduateSchool/SaezLab/SWB/ephys_analysis/data/DA11/raw_nlx/RHB2_0006.ncs',\n",
       " '/Users/alexandrafink/Documents/GraduateSchool/SaezLab/SWB/ephys_analysis/data/DA11/raw_nlx/RSM1_0005.ncs',\n",
       " '/Users/alexandrafink/Documents/GraduateSchool/SaezLab/SWB/ephys_analysis/data/DA11/raw_nlx/RIP6_0005.ncs',\n",
       " '/Users/alexandrafink/Documents/GraduateSchool/SaezLab/SWB/ephys_analysis/data/DA11/raw_nlx/LHB1_0006.ncs',\n",
       " '/Users/alexandrafink/Documents/GraduateSchool/SaezLab/SWB/ephys_analysis/data/DA11/raw_nlx/RIP7_0005.ncs',\n",
       " '/Users/alexandrafink/Documents/GraduateSchool/SaezLab/SWB/ephys_analysis/data/DA11/raw_nlx/LHB1_0007.ncs',\n",
       " '/Users/alexandrafink/Documents/GraduateSchool/SaezLab/SWB/ephys_analysis/data/DA11/raw_nlx/LAM1_0005.ncs',\n",
       " '/Users/alexandrafink/Documents/GraduateSchool/SaezLab/SWB/ephys_analysis/data/DA11/raw_nlx/RHH4_0005.ncs',\n",
       " '/Users/alexandrafink/Documents/GraduateSchool/SaezLab/SWB/ephys_analysis/data/DA11/raw_nlx/RHH5_0005.ncs',\n",
       " '/Users/alexandrafink/Documents/GraduateSchool/SaezLab/SWB/ephys_analysis/data/DA11/raw_nlx/LHH6_0005.ncs',\n",
       " '/Users/alexandrafink/Documents/GraduateSchool/SaezLab/SWB/ephys_analysis/data/DA11/raw_nlx/LHH7_0005.ncs',\n",
       " '/Users/alexandrafink/Documents/GraduateSchool/SaezLab/SWB/ephys_analysis/data/DA11/raw_nlx/RAM2_0005.ncs',\n",
       " '/Users/alexandrafink/Documents/GraduateSchool/SaezLab/SWB/ephys_analysis/data/DA11/raw_nlx/RAM3_0005.ncs',\n",
       " '/Users/alexandrafink/Documents/GraduateSchool/SaezLab/SWB/ephys_analysis/data/DA11/raw_nlx/RHB2_0007.ncs',\n",
       " '/Users/alexandrafink/Documents/GraduateSchool/SaezLab/SWB/ephys_analysis/data/DA11/raw_nlx/RHB3_0007.ncs',\n",
       " '/Users/alexandrafink/Documents/GraduateSchool/SaezLab/SWB/ephys_analysis/data/DA11/raw_nlx/RAM9_0006.ncs',\n",
       " '/Users/alexandrafink/Documents/GraduateSchool/SaezLab/SWB/ephys_analysis/data/DA11/raw_nlx/RAM8_0006.ncs',\n",
       " '/Users/alexandrafink/Documents/GraduateSchool/SaezLab/SWB/ephys_analysis/data/DA11/raw_nlx/RIA5_0006.ncs',\n",
       " '/Users/alexandrafink/Documents/GraduateSchool/SaezLab/SWB/ephys_analysis/data/DA11/raw_nlx/RIA4_0006.ncs',\n",
       " '/Users/alexandrafink/Documents/GraduateSchool/SaezLab/SWB/ephys_analysis/data/DA11/raw_nlx/RHH3_0007.ncs',\n",
       " '/Users/alexandrafink/Documents/GraduateSchool/SaezLab/SWB/ephys_analysis/data/DA11/raw_nlx/RHH2_0007.ncs',\n",
       " '/Users/alexandrafink/Documents/GraduateSchool/SaezLab/SWB/ephys_analysis/data/DA11/raw_nlx/RIA9_0007.ncs',\n",
       " '/Users/alexandrafink/Documents/GraduateSchool/SaezLab/SWB/ephys_analysis/data/DA11/raw_nlx/LAM7_0007.ncs',\n",
       " '/Users/alexandrafink/Documents/GraduateSchool/SaezLab/SWB/ephys_analysis/data/DA11/raw_nlx/RIA8_0007.ncs',\n",
       " '/Users/alexandrafink/Documents/GraduateSchool/SaezLab/SWB/ephys_analysis/data/DA11/raw_nlx/LAM6_0007.ncs',\n",
       " '/Users/alexandrafink/Documents/GraduateSchool/SaezLab/SWB/ephys_analysis/data/DA11/raw_nlx/LHB7_0005.ncs',\n",
       " '/Users/alexandrafink/Documents/GraduateSchool/SaezLab/SWB/ephys_analysis/data/DA11/raw_nlx/LHB6_0005.ncs',\n",
       " '/Users/alexandrafink/Documents/GraduateSchool/SaezLab/SWB/ephys_analysis/data/DA11/raw_nlx/RIP1_0006.ncs',\n",
       " '/Users/alexandrafink/Documents/GraduateSchool/SaezLab/SWB/ephys_analysis/data/DA11/raw_nlx/RSM6_0006.ncs',\n",
       " '/Users/alexandrafink/Documents/GraduateSchool/SaezLab/SWB/ephys_analysis/data/DA11/raw_nlx/RHB5_0005.ncs',\n",
       " '/Users/alexandrafink/Documents/GraduateSchool/SaezLab/SWB/ephys_analysis/data/DA11/raw_nlx/RAC1_0006.ncs',\n",
       " '/Users/alexandrafink/Documents/GraduateSchool/SaezLab/SWB/ephys_analysis/data/DA11/raw_nlx/RHB4_0005.ncs',\n",
       " '/Users/alexandrafink/Documents/GraduateSchool/SaezLab/SWB/ephys_analysis/data/DA11/raw_nlx/RAM5_0007.ncs',\n",
       " '/Users/alexandrafink/Documents/GraduateSchool/SaezLab/SWB/ephys_analysis/data/DA11/raw_nlx/RAM4_0007.ncs',\n",
       " '/Users/alexandrafink/Documents/GraduateSchool/SaezLab/SWB/ephys_analysis/data/DA11/raw_nlx/LHH1_0007.ncs',\n",
       " '/Users/alexandrafink/Documents/GraduateSchool/SaezLab/SWB/ephys_analysis/data/DA11/raw_nlx/RAC10_0007.ncs',\n",
       " '/Users/alexandrafink/Documents/GraduateSchool/SaezLab/SWB/ephys_analysis/data/DA11/raw_nlx/RAC10_0006.ncs',\n",
       " '/Users/alexandrafink/Documents/GraduateSchool/SaezLab/SWB/ephys_analysis/data/DA11/raw_nlx/LHH1_0006.ncs',\n",
       " '/Users/alexandrafink/Documents/GraduateSchool/SaezLab/SWB/ephys_analysis/data/DA11/raw_nlx/RAM4_0006.ncs',\n",
       " '/Users/alexandrafink/Documents/GraduateSchool/SaezLab/SWB/ephys_analysis/data/DA11/raw_nlx/RAM5_0006.ncs',\n",
       " '/Users/alexandrafink/Documents/GraduateSchool/SaezLab/SWB/ephys_analysis/data/DA11/raw_nlx/RSM6_0007.ncs',\n",
       " '/Users/alexandrafink/Documents/GraduateSchool/SaezLab/SWB/ephys_analysis/data/DA11/raw_nlx/RAC1_0007.ncs',\n",
       " '/Users/alexandrafink/Documents/GraduateSchool/SaezLab/SWB/ephys_analysis/data/DA11/raw_nlx/RIP1_0007.ncs',\n",
       " '/Users/alexandrafink/Documents/GraduateSchool/SaezLab/SWB/ephys_analysis/data/DA11/raw_nlx/LAM6_0006.ncs',\n",
       " '/Users/alexandrafink/Documents/GraduateSchool/SaezLab/SWB/ephys_analysis/data/DA11/raw_nlx/RIA8_0006.ncs',\n",
       " '/Users/alexandrafink/Documents/GraduateSchool/SaezLab/SWB/ephys_analysis/data/DA11/raw_nlx/LAM7_0006.ncs',\n",
       " '/Users/alexandrafink/Documents/GraduateSchool/SaezLab/SWB/ephys_analysis/data/DA11/raw_nlx/RIA9_0006.ncs',\n",
       " '/Users/alexandrafink/Documents/GraduateSchool/SaezLab/SWB/ephys_analysis/data/DA11/raw_nlx/RHH2_0006.ncs',\n",
       " '/Users/alexandrafink/Documents/GraduateSchool/SaezLab/SWB/ephys_analysis/data/DA11/raw_nlx/RHH3_0006.ncs',\n",
       " '/Users/alexandrafink/Documents/GraduateSchool/SaezLab/SWB/ephys_analysis/data/DA11/raw_nlx/RHH9_0005.ncs',\n",
       " '/Users/alexandrafink/Documents/GraduateSchool/SaezLab/SWB/ephys_analysis/data/DA11/raw_nlx/RHH8_0005.ncs',\n",
       " '/Users/alexandrafink/Documents/GraduateSchool/SaezLab/SWB/ephys_analysis/data/DA11/raw_nlx/RIA3_0005.ncs',\n",
       " '/Users/alexandrafink/Documents/GraduateSchool/SaezLab/SWB/ephys_analysis/data/DA11/raw_nlx/RIA2_0005.ncs',\n",
       " '/Users/alexandrafink/Documents/GraduateSchool/SaezLab/SWB/ephys_analysis/data/DA11/raw_nlx/RIA3_0007.ncs',\n",
       " '/Users/alexandrafink/Documents/GraduateSchool/SaezLab/SWB/ephys_analysis/data/DA11/raw_nlx/RIA2_0007.ncs',\n",
       " '/Users/alexandrafink/Documents/GraduateSchool/SaezLab/SWB/ephys_analysis/data/DA11/raw_nlx/RHH9_0007.ncs',\n",
       " '/Users/alexandrafink/Documents/GraduateSchool/SaezLab/SWB/ephys_analysis/data/DA11/raw_nlx/RHH8_0007.ncs',\n",
       " '/Users/alexandrafink/Documents/GraduateSchool/SaezLab/SWB/ephys_analysis/data/DA11/raw_nlx/LHB6_0006.ncs',\n",
       " '/Users/alexandrafink/Documents/GraduateSchool/SaezLab/SWB/ephys_analysis/data/DA11/raw_nlx/RIP1_0005.ncs',\n",
       " '/Users/alexandrafink/Documents/GraduateSchool/SaezLab/SWB/ephys_analysis/data/DA11/raw_nlx/LHB7_0006.ncs',\n",
       " '/Users/alexandrafink/Documents/GraduateSchool/SaezLab/SWB/ephys_analysis/data/DA11/raw_nlx/RHB4_0006.ncs',\n",
       " '/Users/alexandrafink/Documents/GraduateSchool/SaezLab/SWB/ephys_analysis/data/DA11/raw_nlx/RHB5_0006.ncs',\n",
       " '/Users/alexandrafink/Documents/GraduateSchool/SaezLab/SWB/ephys_analysis/data/DA11/raw_nlx/RAC1_0005.ncs',\n",
       " '/Users/alexandrafink/Documents/GraduateSchool/SaezLab/SWB/ephys_analysis/data/DA11/raw_nlx/RSM6_0005.ncs',\n",
       " '/Users/alexandrafink/Documents/GraduateSchool/SaezLab/SWB/ephys_analysis/data/DA11/raw_nlx/LHH1_0005.ncs',\n",
       " '/Users/alexandrafink/Documents/GraduateSchool/SaezLab/SWB/ephys_analysis/data/DA11/raw_nlx/RAC10_0005.ncs',\n",
       " '/Users/alexandrafink/Documents/GraduateSchool/SaezLab/SWB/ephys_analysis/data/DA11/raw_nlx/RAM5_0005.ncs',\n",
       " '/Users/alexandrafink/Documents/GraduateSchool/SaezLab/SWB/ephys_analysis/data/DA11/raw_nlx/RAM4_0005.ncs',\n",
       " '/Users/alexandrafink/Documents/GraduateSchool/SaezLab/SWB/ephys_analysis/data/DA11/raw_nlx/RHB5_0007.ncs',\n",
       " '/Users/alexandrafink/Documents/GraduateSchool/SaezLab/SWB/ephys_analysis/data/DA11/raw_nlx/RHB4_0007.ncs',\n",
       " '/Users/alexandrafink/Documents/GraduateSchool/SaezLab/SWB/ephys_analysis/data/DA11/raw_nlx/LHB7_0007.ncs',\n",
       " '/Users/alexandrafink/Documents/GraduateSchool/SaezLab/SWB/ephys_analysis/data/DA11/raw_nlx/LHB6_0007.ncs',\n",
       " '/Users/alexandrafink/Documents/GraduateSchool/SaezLab/SWB/ephys_analysis/data/DA11/raw_nlx/RIA9_0005.ncs',\n",
       " '/Users/alexandrafink/Documents/GraduateSchool/SaezLab/SWB/ephys_analysis/data/DA11/raw_nlx/LAM7_0005.ncs',\n",
       " '/Users/alexandrafink/Documents/GraduateSchool/SaezLab/SWB/ephys_analysis/data/DA11/raw_nlx/RIA8_0005.ncs',\n",
       " '/Users/alexandrafink/Documents/GraduateSchool/SaezLab/SWB/ephys_analysis/data/DA11/raw_nlx/LAM6_0005.ncs',\n",
       " '/Users/alexandrafink/Documents/GraduateSchool/SaezLab/SWB/ephys_analysis/data/DA11/raw_nlx/RHH3_0005.ncs',\n",
       " '/Users/alexandrafink/Documents/GraduateSchool/SaezLab/SWB/ephys_analysis/data/DA11/raw_nlx/RHH2_0005.ncs',\n",
       " '/Users/alexandrafink/Documents/GraduateSchool/SaezLab/SWB/ephys_analysis/data/DA11/raw_nlx/RHH8_0006.ncs',\n",
       " '/Users/alexandrafink/Documents/GraduateSchool/SaezLab/SWB/ephys_analysis/data/DA11/raw_nlx/RHH9_0006.ncs',\n",
       " '/Users/alexandrafink/Documents/GraduateSchool/SaezLab/SWB/ephys_analysis/data/DA11/raw_nlx/RIA2_0006.ncs',\n",
       " '/Users/alexandrafink/Documents/GraduateSchool/SaezLab/SWB/ephys_analysis/data/DA11/raw_nlx/RIA3_0006.ncs',\n",
       " '/Users/alexandrafink/Documents/GraduateSchool/SaezLab/SWB/ephys_analysis/data/DA11/raw_nlx/RTT7_0006.ncs',\n",
       " '/Users/alexandrafink/Documents/GraduateSchool/SaezLab/SWB/ephys_analysis/data/DA11/raw_nlx/RTT6_0006.ncs',\n",
       " '/Users/alexandrafink/Documents/GraduateSchool/SaezLab/SWB/ephys_analysis/data/DA11/raw_nlx/LTT5_0006.ncs',\n",
       " '/Users/alexandrafink/Documents/GraduateSchool/SaezLab/SWB/ephys_analysis/data/DA11/raw_nlx/LTT4_0006.ncs',\n",
       " '/Users/alexandrafink/Documents/GraduateSchool/SaezLab/SWB/ephys_analysis/data/DA11/raw_nlx/LTT4_0007.ncs',\n",
       " '/Users/alexandrafink/Documents/GraduateSchool/SaezLab/SWB/ephys_analysis/data/DA11/raw_nlx/LTT5_0007.ncs',\n",
       " '/Users/alexandrafink/Documents/GraduateSchool/SaezLab/SWB/ephys_analysis/data/DA11/raw_nlx/RFP7_0005.ncs',\n",
       " '/Users/alexandrafink/Documents/GraduateSchool/SaezLab/SWB/ephys_analysis/data/DA11/raw_nlx/RFP6_0005.ncs',\n",
       " '/Users/alexandrafink/Documents/GraduateSchool/SaezLab/SWB/ephys_analysis/data/DA11/raw_nlx/RTT6_0007.ncs',\n",
       " '/Users/alexandrafink/Documents/GraduateSchool/SaezLab/SWB/ephys_analysis/data/DA11/raw_nlx/RTT7_0007.ncs',\n",
       " '/Users/alexandrafink/Documents/GraduateSchool/SaezLab/SWB/ephys_analysis/data/DA11/raw_nlx/RTT6_0005.ncs',\n",
       " '/Users/alexandrafink/Documents/GraduateSchool/SaezLab/SWB/ephys_analysis/data/DA11/raw_nlx/RTT7_0005.ncs',\n",
       " '/Users/alexandrafink/Documents/GraduateSchool/SaezLab/SWB/ephys_analysis/data/DA11/raw_nlx/RFP7_0007.ncs',\n",
       " '/Users/alexandrafink/Documents/GraduateSchool/SaezLab/SWB/ephys_analysis/data/DA11/raw_nlx/RFP6_0007.ncs',\n",
       " '/Users/alexandrafink/Documents/GraduateSchool/SaezLab/SWB/ephys_analysis/data/DA11/raw_nlx/LTT4_0005.ncs',\n",
       " '/Users/alexandrafink/Documents/GraduateSchool/SaezLab/SWB/ephys_analysis/data/DA11/raw_nlx/LTT5_0005.ncs',\n",
       " '/Users/alexandrafink/Documents/GraduateSchool/SaezLab/SWB/ephys_analysis/data/DA11/raw_nlx/RFP6_0006.ncs',\n",
       " '/Users/alexandrafink/Documents/GraduateSchool/SaezLab/SWB/ephys_analysis/data/DA11/raw_nlx/RFP7_0006.ncs']"
      ]
     },
     "execution_count": 7,
     "metadata": {},
     "output_type": "execute_result"
    }
   ],
   "source": [
    "ncs_files"
   ]
  },
  {
   "cell_type": "code",
   "execution_count": 8,
   "id": "0e598c3e",
   "metadata": {},
   "outputs": [],
   "source": [
    "ch_names = []\n",
    "\n",
    "for chan_path in ncs_files:\n",
    "    chan_name = chan_path.split('/')[-1].replace('.ncs','')\n",
    "    # strip the file type off the end if needed \n",
    "    if '_' in chan_name:\n",
    "        chan_name = chan_name.split('_')[0]\n",
    "    ch_names.append(chan_name)\n",
    "\n",
    "ch_file_dict = {} #dictionary mapping electrode name to the its 2 corresponding data files \n",
    "\n",
    "for ch in ch_names:\n",
    "    ch_files = [f for f in ncs_files if ch == f.split('/')[-1].replace('.ncs','').split('_')[0]] #was saving ch 10 with ch 1 before\n",
    "    ch_file_dict[ch]=ch_files\n",
    "    \n",
    "ch_file_dict\n",
    "\n",
    "ch_file_counts = {}\n",
    "\n",
    "for ch in ch_file_dict:\n",
    "    ch_file_counts[ch] = len(ch_file_dict[ch])"
   ]
  },
  {
   "cell_type": "code",
   "execution_count": 9,
   "id": "f32629ac",
   "metadata": {},
   "outputs": [
    {
     "data": {
      "text/plain": [
       "{'RIA7': 3,\n",
       " 'LAM9': 3,\n",
       " 'RIA6': 3,\n",
       " 'LAM8': 3,\n",
       " 'LHB9': 3,\n",
       " 'LHB8': 3,\n",
       " 'RSM3': 3,\n",
       " 'RAC4': 3,\n",
       " 'RSM2': 3,\n",
       " 'RAC5': 3,\n",
       " 'RHB1': 3,\n",
       " 'RIP5': 3,\n",
       " 'LHB2': 3,\n",
       " 'LHB3': 3,\n",
       " 'RIP4': 3,\n",
       " 'RHH7': 3,\n",
       " 'RHH6': 3,\n",
       " 'LAM3': 3,\n",
       " 'LAM2': 3,\n",
       " 'RAM1': 3,\n",
       " 'LHH5': 3,\n",
       " 'LHH4': 3,\n",
       " 'RTT9': 3,\n",
       " 'RTT8': 3,\n",
       " 'LTT1': 3,\n",
       " 'RTT10': 3,\n",
       " 'RFP3': 3,\n",
       " 'RFP2': 3,\n",
       " 'RIA10': 3,\n",
       " 'RTT2': 3,\n",
       " 'RTT3': 3,\n",
       " 'RFP9': 3,\n",
       " 'RFP8': 3,\n",
       " 'RTT5': 3,\n",
       " 'RTT4': 3,\n",
       " 'LTT7': 3,\n",
       " 'LTT6': 3,\n",
       " 'Photodiode': 3,\n",
       " 'RFP4': 3,\n",
       " 'RFP5': 3,\n",
       " 'RAC8': 3,\n",
       " 'RAC9': 3,\n",
       " 'LHH8': 3,\n",
       " 'LHH9': 3,\n",
       " 'RIA1': 3,\n",
       " 'RIP9': 3,\n",
       " 'RIP8': 3,\n",
       " 'LHB5': 3,\n",
       " 'RIP2': 3,\n",
       " 'RIP3': 3,\n",
       " 'LHB4': 3,\n",
       " 'RSM4': 3,\n",
       " 'RAC3': 3,\n",
       " 'RHB7': 3,\n",
       " 'RSM5': 3,\n",
       " 'RHB6': 3,\n",
       " 'RAC2': 3,\n",
       " 'RAM6': 3,\n",
       " 'RAM7': 3,\n",
       " 'LHH2': 3,\n",
       " 'LHH3': 3,\n",
       " 'RIP10': 3,\n",
       " 'RHH1': 3,\n",
       " 'LAM4': 3,\n",
       " 'LAM5': 3,\n",
       " 'LTT9': 3,\n",
       " 'LTT8': 3,\n",
       " 'LTT2': 3,\n",
       " 'LTT3': 3,\n",
       " 'RTT1': 3,\n",
       " 'RFP1': 3,\n",
       " 'RHB9': 3,\n",
       " 'RHB8': 3,\n",
       " 'RSM1': 3,\n",
       " 'RAC6': 3,\n",
       " 'RHB2': 3,\n",
       " 'RHB3': 3,\n",
       " 'RAC7': 3,\n",
       " 'RAM2': 3,\n",
       " 'RAM3': 3,\n",
       " 'LHH6': 3,\n",
       " 'LHH7': 3,\n",
       " 'RHH4': 3,\n",
       " 'RHH5': 3,\n",
       " 'LAM1': 3,\n",
       " 'RIP7': 3,\n",
       " 'RIP6': 3,\n",
       " 'LHB1': 3,\n",
       " 'RAM8': 3,\n",
       " 'RAM9': 3,\n",
       " 'RIA4': 3,\n",
       " 'RIA5': 3,\n",
       " 'RHH3': 3,\n",
       " 'RHH2': 3,\n",
       " 'RIA9': 3,\n",
       " 'LAM7': 3,\n",
       " 'RIA8': 3,\n",
       " 'LAM6': 3,\n",
       " 'LHB7': 3,\n",
       " 'LHB6': 3,\n",
       " 'RIP1': 3,\n",
       " 'RSM6': 3,\n",
       " 'RHB5': 3,\n",
       " 'RAC1': 3,\n",
       " 'RHB4': 3,\n",
       " 'RAM5': 3,\n",
       " 'RAM4': 3,\n",
       " 'LHH1': 3,\n",
       " 'RAC10': 3,\n",
       " 'RHH9': 3,\n",
       " 'RHH8': 3,\n",
       " 'RIA3': 3,\n",
       " 'RIA2': 3,\n",
       " 'RTT7': 3,\n",
       " 'RTT6': 3,\n",
       " 'LTT5': 3,\n",
       " 'LTT4': 3,\n",
       " 'RFP7': 3,\n",
       " 'RFP6': 3}"
      ]
     },
     "execution_count": 9,
     "metadata": {},
     "output_type": "execute_result"
    }
   ],
   "source": [
    "ch_file_counts"
   ]
  },
  {
   "cell_type": "code",
   "execution_count": null,
   "id": "b4b4a866",
   "metadata": {},
   "outputs": [],
   "source": []
  },
  {
   "cell_type": "code",
   "execution_count": 8,
   "id": "36dab982",
   "metadata": {},
   "outputs": [],
   "source": [
    "name = 'RSM1'"
   ]
  },
  {
   "cell_type": "code",
   "execution_count": 10,
   "id": "932a714e",
   "metadata": {},
   "outputs": [
    {
     "data": {
      "text/plain": [
       "['/Users/alexandrafink/Documents/GraduateSchool/SaezLab/SWB/ephys_analysis/data/DA11/raw_nlx/RSM1_0006.ncs',\n",
       " '/Users/alexandrafink/Documents/GraduateSchool/SaezLab/SWB/ephys_analysis/data/DA11/raw_nlx/RSM1_0007.ncs']"
      ]
     },
     "execution_count": 10,
     "metadata": {},
     "output_type": "execute_result"
    }
   ],
   "source": [
    "files = [f for f in ncs_files if name in f]\n",
    "files"
   ]
  },
  {
   "cell_type": "code",
   "execution_count": 11,
   "id": "a88f381b",
   "metadata": {},
   "outputs": [],
   "source": [
    "data1 = nlx_utils.load_ncs(files[0])\n",
    "data2 = nlx_utils.load_ncs(files[1])\n",
    "data2 = nlx_utils.load_ncs(files[1])"
   ]
  },
  {
   "cell_type": "code",
   "execution_count": 13,
   "id": "4806dae6",
   "metadata": {},
   "outputs": [
    {
     "data": {
      "text/plain": [
       "11581440"
      ]
     },
     "execution_count": 13,
     "metadata": {},
     "output_type": "execute_result"
    }
   ],
   "source": [
    "len(data1['data'])"
   ]
  },
  {
   "cell_type": "code",
   "execution_count": 16,
   "id": "e37b68f2",
   "metadata": {},
   "outputs": [
    {
     "data": {
      "text/plain": [
       "{'file_path': '/Users/alexandrafink/Documents/GraduateSchool/SaezLab/SWB/ephys_analysis/data/DA11/raw_nlx/RSM1_0006.ncs',\n",
       " 'raw_header': b'######## Neuralynx Data File Header\\r\\n-FileType NCS\\r\\n-FileVersion 3.4\\r\\n-FileUUID 5082628e-b772-4307-bb37-7af6b1fe7085\\r\\n-SessionUUID 0c890e78-dcfb-4649-be9b-bcb0997c5f0c\\r\\n-ProbeName \\r\\n-OriginalFileName \"D:\\\\PegasusData\\\\DA11\\\\2021-06-18_17-01-21\\\\RSM1_0006.ncs\"\\r\\n-TimeCreated 2021/06/19 09:14:00\\r\\n-TimeClosed 2021/06/19 10:04:17\\r\\n\\r\\n-RecordSize 1044\\r\\n-ApplicationName Pegasus \"2.2.0 \"\\r\\n-AcquisitionSystem AcqSystem1 ATLAS\\r\\n-ReferenceChannel \"AD Channel 0081\"\\r\\n-SamplingFrequency 4000\\r\\n-ADMaxValue 32767\\r\\n-ADBitVolts 0.000000030517578125000001\\r\\n-AcqEntName RSM1\\r\\n-NumADChannels 1\\r\\n-ADChannel 46\\r\\n-InputRange 1000\\r\\n-InputInverted True\\r\\n\\r\\n-DSPLowCutFilterEnabled True\\r\\n-DspLowCutFrequency 0.1\\r\\n-DspLowCutNumTaps 0\\r\\n-DspLowCutFilterType DCO\\r\\n-DSPHighCutFilterEnabled True\\r\\n-DspHighCutFrequency 1000\\r\\n-DspHighCutNumTaps 256\\r\\n-DspHighCutFilterType FIR\\r\\n-DspDelayCompensation Enabled\\r\\n-DspFilterDelay_\\xb5s 3984\\r\\n',\n",
       " 'header': {'TimeOpened': 'leVersion 3.4',\n",
       "  'TimeOpened_dt': None,\n",
       "  'TimeClosed': 'leUUID 5082628e-b772-4307-bb37-7af6b1fe7085',\n",
       "  'TimeClosed_dt': None,\n",
       "  'SessionUUID': '0c890e78-dcfb-4649-be9b-bcb0997c5f0c'},\n",
       " 'data': array([-2038, -1865, -2081, ...,   270,   247, -1049], dtype=int16),\n",
       " 'data_units': 'ADC counts',\n",
       " 'sampling_rate': 4000,\n",
       " 'channel_number': 46,\n",
       " 'timestamp': array([1624094168212534, 1624094168340534, 1624094168468534, ...,\n",
       "        1624097063187371, 1624097063315371, 1624097063443371], dtype=uint64),\n",
       " 'time': array([1624094168212534, 1624094168212784, 1624094168213034, ...,\n",
       "        1624097063443371, 1624097063443371, 1624097063443371], dtype=uint64),\n",
       " 'time_units': 'µs'}"
      ]
     },
     "execution_count": 16,
     "metadata": {},
     "output_type": "execute_result"
    }
   ],
   "source": [
    "data1"
   ]
  },
  {
   "cell_type": "code",
   "execution_count": 15,
   "id": "7bcfdcb2",
   "metadata": {},
   "outputs": [
    {
     "data": {
      "text/plain": [
       "{'file_path': '/Users/alexandrafink/Documents/GraduateSchool/SaezLab/SWB/ephys_analysis/data/DA11/raw_nlx/RSM1_0007.ncs',\n",
       " 'raw_header': b'######## Neuralynx Data File Header\\r\\n-FileType NCS\\r\\n-FileVersion 3.4\\r\\n-FileUUID dc6bb7fa-0eff-4601-b603-cdaea9dbe759\\r\\n-SessionUUID 0c890e78-dcfb-4649-be9b-bcb0997c5f0c\\r\\n-ProbeName \\r\\n-OriginalFileName \"D:\\\\PegasusData\\\\DA11\\\\2021-06-18_17-01-21\\\\RSM1_0007.ncs\"\\r\\n-TimeCreated 2021/06/19 10:04:17\\r\\n-TimeClosed 2021/06/19 10:38:52\\r\\n\\r\\n-RecordSize 1044\\r\\n-ApplicationName Pegasus \"2.2.0 \"\\r\\n-AcquisitionSystem AcqSystem1 ATLAS\\r\\n-ReferenceChannel \"AD Channel 0081\"\\r\\n-SamplingFrequency 4000\\r\\n-ADMaxValue 32767\\r\\n-ADBitVolts 0.000000030517578125000001\\r\\n-AcqEntName RSM1\\r\\n-NumADChannels 1\\r\\n-ADChannel 46\\r\\n-InputRange 1000\\r\\n-InputInverted True\\r\\n\\r\\n-DSPLowCutFilterEnabled True\\r\\n-DspLowCutFrequency 0.1\\r\\n-DspLowCutNumTaps 0\\r\\n-DspLowCutFilterType DCO\\r\\n-DSPHighCutFilterEnabled True\\r\\n-DspHighCutFrequency 1000\\r\\n-DspHighCutNumTaps 256\\r\\n-DspHighCutFilterType FIR\\r\\n-DspDelayCompensation Enabled\\r\\n-DspFilterDelay_\\xb5s 3984\\r\\n',\n",
       " 'header': {'TimeOpened': 'leVersion 3.4',\n",
       "  'TimeOpened_dt': None,\n",
       "  'TimeClosed': 'leUUID dc6bb7fa-0eff-4601-b603-cdaea9dbe759',\n",
       "  'TimeClosed_dt': None,\n",
       "  'SessionUUID': '0c890e78-dcfb-4649-be9b-bcb0997c5f0c'},\n",
       " 'data': array([-12724, -11804, -12840, ...,  20910,  25467,  29114], dtype=int16),\n",
       " 'data_units': 'ADC counts',\n",
       " 'sampling_rate': 4000,\n",
       " 'channel_number': 46,\n",
       " 'timestamp': array([1624097575852166, 1624097575980166, 1624097576108166, ...,\n",
       "        1624099138859538, 1624099138987538, 1624099139115538], dtype=uint64),\n",
       " 'time': array([1624097575852166, 1624097575852416, 1624097575852666, ...,\n",
       "        1624099139115538, 1624099139115538, 1624099139115538], dtype=uint64),\n",
       " 'time_units': 'µs'}"
      ]
     },
     "execution_count": 15,
     "metadata": {},
     "output_type": "execute_result"
    }
   ],
   "source": [
    "data2"
   ]
  },
  {
   "cell_type": "code",
   "execution_count": 14,
   "id": "a17ff0c2",
   "metadata": {},
   "outputs": [
    {
     "data": {
      "text/plain": [
       "6253568"
      ]
     },
     "execution_count": 14,
     "metadata": {},
     "output_type": "execute_result"
    }
   ],
   "source": [
    "len(data2['data'])"
   ]
  },
  {
   "cell_type": "code",
   "execution_count": null,
   "id": "604274ee",
   "metadata": {},
   "outputs": [],
   "source": []
  },
  {
   "cell_type": "code",
   "execution_count": 17,
   "id": "1d28c500",
   "metadata": {},
   "outputs": [],
   "source": [
    "depth_name = 'LAM1'\n",
    "photo_name = 'Photodiode'"
   ]
  },
  {
   "cell_type": "code",
   "execution_count": 18,
   "id": "583156aa",
   "metadata": {},
   "outputs": [
    {
     "data": {
      "text/plain": [
       "['/Users/alexandrafink/Documents/GraduateSchool/SaezLab/SWB/ephys_analysis/data/DA11/raw_nlx/LAM1_0007.ncs',\n",
       " '/Users/alexandrafink/Documents/GraduateSchool/SaezLab/SWB/ephys_analysis/data/DA11/raw_nlx/LAM1_0005.ncs']"
      ]
     },
     "execution_count": 18,
     "metadata": {},
     "output_type": "execute_result"
    }
   ],
   "source": [
    "depth_files = [f for f in ncs_files if depth_name in f]\n",
    "depth_files"
   ]
  },
  {
   "cell_type": "code",
   "execution_count": 9,
   "id": "50048c3e",
   "metadata": {},
   "outputs": [
    {
     "data": {
      "text/plain": [
       "['/Users/alexandrafink/Documents/GraduateSchool/SaezLab/SWB/ephys_analysis/data/DA11/raw_nlx/Photodiode_0007.ncs',\n",
       " '/Users/alexandrafink/Documents/GraduateSchool/SaezLab/SWB/ephys_analysis/data/DA11/raw_nlx/Photodiode_0005.ncs']"
      ]
     },
     "execution_count": 9,
     "metadata": {},
     "output_type": "execute_result"
    }
   ],
   "source": [
    "photo_files = [f for f in ncs_files if photo_name in f]\n",
    "photo_files"
   ]
  },
  {
   "cell_type": "code",
   "execution_count": 19,
   "id": "32b1ffc2",
   "metadata": {},
   "outputs": [],
   "source": [
    "depth_data1 = nlx_utils.load_ncs(depth_files[0])\n",
    "depth_data2 = nlx_utils.load_ncs(depth_files[1])"
   ]
  },
  {
   "cell_type": "code",
   "execution_count": 21,
   "id": "8fbf90ce",
   "metadata": {},
   "outputs": [
    {
     "data": {
      "text/plain": [
       "{'file_path': '/Users/alexandrafink/Documents/GraduateSchool/SaezLab/SWB/ephys_analysis/data/DA11/raw_nlx/LAM1_0005.ncs',\n",
       " 'raw_header': b'######## Neuralynx Data File Header\\r\\n-FileType NCS\\r\\n-FileVersion 3.4\\r\\n-FileUUID 3c88f4f4-3cc2-4f4e-af74-a24843ed1700\\r\\n-SessionUUID 0c890e78-dcfb-4649-be9b-bcb0997c5f0c\\r\\n-ProbeName \\r\\n-OriginalFileName \"D:\\\\PegasusData\\\\DA11\\\\2021-06-18_17-01-21\\\\LAM1_0005.ncs\"\\r\\n-TimeCreated 2021/06/19 08:57:54\\r\\n-TimeClosed 2021/06/19 09:14:01\\r\\n\\r\\n-RecordSize 1044\\r\\n-ApplicationName Pegasus \"2.2.0 \"\\r\\n-AcquisitionSystem AcqSystem1 ATLAS\\r\\n-ReferenceChannel \"AD Channel 0081\"\\r\\n-SamplingFrequency 4000\\r\\n-ADMaxValue 32767\\r\\n-ADBitVolts 0.000000030517578125000001\\r\\n-AcqEntName LAM1\\r\\n-NumADChannels 1\\r\\n-ADChannel 82\\r\\n-InputRange 1000\\r\\n-InputInverted True\\r\\n\\r\\n-DSPLowCutFilterEnabled True\\r\\n-DspLowCutFrequency 0.1\\r\\n-DspLowCutNumTaps 0\\r\\n-DspLowCutFilterType DCO\\r\\n-DSPHighCutFilterEnabled True\\r\\n-DspHighCutFrequency 1000\\r\\n-DspHighCutNumTaps 256\\r\\n-DspHighCutFilterType FIR\\r\\n-DspDelayCompensation Enabled\\r\\n-DspFilterDelay_\\xb5s 3984\\r\\n',\n",
       " 'header': {'TimeOpened': 'leVersion 3.4',\n",
       "  'TimeOpened_dt': None,\n",
       "  'TimeClosed': 'leUUID 3c88f4f4-3cc2-4f4e-af74-a24843ed1700',\n",
       "  'TimeClosed_dt': None,\n",
       "  'SessionUUID': '0c890e78-dcfb-4649-be9b-bcb0997c5f0c'},\n",
       " 'data': array([-5453, -6021, -6473, ...,  -507, -1384, -2078], dtype=int16),\n",
       " 'data_units': 'ADC counts',\n",
       " 'sampling_rate': 4000,\n",
       " 'channel_number': 82,\n",
       " 'timestamp': array([1624093285607138, 1624093285735138, 1624093285863138, ...,\n",
       "        1624094045926833, 1624094046054833, 1624094046182833], dtype=uint64),\n",
       " 'time': array([1624093285607138, 1624093285607388, 1624093285607638, ...,\n",
       "        1624094046182833, 1624094046182833, 1624094046182833], dtype=uint64),\n",
       " 'time_units': 'µs'}"
      ]
     },
     "execution_count": 21,
     "metadata": {},
     "output_type": "execute_result"
    }
   ],
   "source": [
    "depth_data2"
   ]
  },
  {
   "cell_type": "code",
   "execution_count": 35,
   "id": "b64e8f3b",
   "metadata": {},
   "outputs": [
    {
     "data": {
      "text/plain": [
       "dict_keys(['file_path', 'raw_header', 'header', 'data', 'data_units', 'sampling_rate', 'channel_number', 'timestamp', 'time', 'time_units'])"
      ]
     },
     "execution_count": 35,
     "metadata": {},
     "output_type": "execute_result"
    }
   ],
   "source": [
    "depth_data1.keys()"
   ]
  },
  {
   "cell_type": "code",
   "execution_count": 91,
   "id": "28dcb0a1",
   "metadata": {},
   "outputs": [
    {
     "data": {
      "text/plain": [
       "-26033"
      ]
     },
     "execution_count": 91,
     "metadata": {},
     "output_type": "execute_result"
    }
   ],
   "source": [
    "depth_data1['data'][-1]"
   ]
  },
  {
   "cell_type": "code",
   "execution_count": 90,
   "id": "cb490e91",
   "metadata": {},
   "outputs": [
    {
     "data": {
      "text/plain": [
       "-5453"
      ]
     },
     "execution_count": 90,
     "metadata": {},
     "output_type": "execute_result"
    }
   ],
   "source": [
    "depth_data2['data'][0]"
   ]
  },
  {
   "cell_type": "code",
   "execution_count": null,
   "id": "122b68f5",
   "metadata": {},
   "outputs": [],
   "source": [
    "1624097575852166"
   ]
  },
  {
   "cell_type": "code",
   "execution_count": 40,
   "id": "69a13506",
   "metadata": {},
   "outputs": [
    {
     "data": {
      "text/plain": [
       "1624094046182833"
      ]
     },
     "execution_count": 40,
     "metadata": {},
     "output_type": "execute_result"
    }
   ],
   "source": [
    "depth_data2['timestamp'][-1]"
   ]
  },
  {
   "cell_type": "code",
   "execution_count": 14,
   "id": "e88f6d33",
   "metadata": {},
   "outputs": [
    {
     "data": {
      "text/plain": [
       "{'file_path': '/Users/alexandrafink/Documents/GraduateSchool/SaezLab/SWB/ephys_analysis/data/DA11/raw_nlx/LAM1_0005.ncs',\n",
       " 'raw_header': b'######## Neuralynx Data File Header\\r\\n-FileType NCS\\r\\n-FileVersion 3.4\\r\\n-FileUUID 3c88f4f4-3cc2-4f4e-af74-a24843ed1700\\r\\n-SessionUUID 0c890e78-dcfb-4649-be9b-bcb0997c5f0c\\r\\n-ProbeName \\r\\n-OriginalFileName \"D:\\\\PegasusData\\\\DA11\\\\2021-06-18_17-01-21\\\\LAM1_0005.ncs\"\\r\\n-TimeCreated 2021/06/19 08:57:54\\r\\n-TimeClosed 2021/06/19 09:14:01\\r\\n\\r\\n-RecordSize 1044\\r\\n-ApplicationName Pegasus \"2.2.0 \"\\r\\n-AcquisitionSystem AcqSystem1 ATLAS\\r\\n-ReferenceChannel \"AD Channel 0081\"\\r\\n-SamplingFrequency 4000\\r\\n-ADMaxValue 32767\\r\\n-ADBitVolts 0.000000030517578125000001\\r\\n-AcqEntName LAM1\\r\\n-NumADChannels 1\\r\\n-ADChannel 82\\r\\n-InputRange 1000\\r\\n-InputInverted True\\r\\n\\r\\n-DSPLowCutFilterEnabled True\\r\\n-DspLowCutFrequency 0.1\\r\\n-DspLowCutNumTaps 0\\r\\n-DspLowCutFilterType DCO\\r\\n-DSPHighCutFilterEnabled True\\r\\n-DspHighCutFrequency 1000\\r\\n-DspHighCutNumTaps 256\\r\\n-DspHighCutFilterType FIR\\r\\n-DspDelayCompensation Enabled\\r\\n-DspFilterDelay_\\xb5s 3984\\r\\n',\n",
       " 'header': {'TimeOpened': 'leVersion 3.4',\n",
       "  'TimeOpened_dt': None,\n",
       "  'TimeClosed': 'leUUID 3c88f4f4-3cc2-4f4e-af74-a24843ed1700',\n",
       "  'TimeClosed_dt': None,\n",
       "  'SessionUUID': '0c890e78-dcfb-4649-be9b-bcb0997c5f0c'},\n",
       " 'data': array([-5453, -6021, -6473, ...,  -507, -1384, -2078], dtype=int16),\n",
       " 'data_units': 'ADC counts',\n",
       " 'sampling_rate': 4000,\n",
       " 'channel_number': 82,\n",
       " 'timestamp': array([1624093285607138, 1624093285735138, 1624093285863138, ...,\n",
       "        1624094045926833, 1624094046054833, 1624094046182833], dtype=uint64),\n",
       " 'time': array([1624093285607138, 1624093285607388, 1624093285607638, ...,\n",
       "        1624094046182833, 1624094046182833, 1624094046182833], dtype=uint64),\n",
       " 'time_units': 'µs'}"
      ]
     },
     "execution_count": 14,
     "metadata": {},
     "output_type": "execute_result"
    }
   ],
   "source": [
    "depth_data2"
   ]
  },
  {
   "cell_type": "code",
   "execution_count": 69,
   "id": "89b21171",
   "metadata": {},
   "outputs": [
    {
     "data": {
      "text/plain": [
       "3529.669333"
      ]
     },
     "execution_count": 69,
     "metadata": {},
     "output_type": "execute_result"
    }
   ],
   "source": [
    "(depth_data1['time'][0]-depth_data2['time'][-1])*(1*10**(-6))"
   ]
  },
  {
   "cell_type": "code",
   "execution_count": 82,
   "id": "1781c84c",
   "metadata": {},
   "outputs": [
    {
     "data": {
      "text/plain": [
       "3042816"
      ]
     },
     "execution_count": 82,
     "metadata": {},
     "output_type": "execute_result"
    }
   ],
   "source": [
    "len(depth_data2['time'])"
   ]
  },
  {
   "cell_type": "code",
   "execution_count": 73,
   "id": "1cff193e",
   "metadata": {},
   "outputs": [
    {
     "data": {
      "text/plain": [
       "6253568"
      ]
     },
     "execution_count": 73,
     "metadata": {},
     "output_type": "execute_result"
    }
   ],
   "source": [
    "len(depth_data1['time'])"
   ]
  },
  {
   "cell_type": "code",
   "execution_count": 83,
   "id": "ef7cef71",
   "metadata": {},
   "outputs": [
    {
     "data": {
      "text/plain": [
       "9296384"
      ]
     },
     "execution_count": 83,
     "metadata": {},
     "output_type": "execute_result"
    }
   ],
   "source": [
    "3042816 +6253568"
   ]
  },
  {
   "cell_type": "code",
   "execution_count": 85,
   "id": "157b8eed",
   "metadata": {},
   "outputs": [
    {
     "data": {
      "text/plain": [
       "(9296384,)"
      ]
     },
     "execution_count": 85,
     "metadata": {},
     "output_type": "execute_result"
    }
   ],
   "source": [
    "np.hstack((depth_data2['time'],depth_data1['time']))"
   ]
  },
  {
   "cell_type": "code",
   "execution_count": 86,
   "id": "98c2676e",
   "metadata": {},
   "outputs": [],
   "source": [
    "depth_time_array = np.hstack((depth_data2['time'],depth_data1['time']))"
   ]
  },
  {
   "cell_type": "code",
   "execution_count": 87,
   "id": "9caffe2d",
   "metadata": {},
   "outputs": [],
   "source": [
    "depth_data_array = np.hstack((depth_data2['data'],depth_data1['data']))"
   ]
  },
  {
   "cell_type": "code",
   "execution_count": 92,
   "id": "2ef6ee87",
   "metadata": {},
   "outputs": [
    {
     "data": {
      "text/plain": [
       "-26033"
      ]
     },
     "execution_count": 92,
     "metadata": {},
     "output_type": "execute_result"
    }
   ],
   "source": [
    "depth_data_array[-1]"
   ]
  },
  {
   "cell_type": "code",
   "execution_count": 15,
   "id": "deed57be",
   "metadata": {},
   "outputs": [],
   "source": [
    "photo_data1 = nlx_utils.load_ncs(photo_files[0]) #4000\n",
    "photo_data2 = nlx_utils.load_ncs(photo_files[1]) #4000"
   ]
  },
  {
   "cell_type": "code",
   "execution_count": 16,
   "id": "5728c164",
   "metadata": {},
   "outputs": [
    {
     "data": {
      "text/plain": [
       "{'file_path': '/Users/alexandrafink/Documents/GraduateSchool/SaezLab/SWB/ephys_analysis/data/DA11/raw_nlx/Photodiode_0007.ncs',\n",
       " 'raw_header': b'######## Neuralynx Data File Header\\r\\n-FileType NCS\\r\\n-FileVersion 3.4\\r\\n-FileUUID 5bb4d6ae-2075-4606-8dcd-aafc2e28a7c0\\r\\n-SessionUUID 0c890e78-dcfb-4649-be9b-bcb0997c5f0c\\r\\n-ProbeName \\r\\n-OriginalFileName \"D:\\\\PegasusData\\\\DA11\\\\2021-06-18_17-01-21\\\\Photodiode_0007.ncs\"\\r\\n-TimeCreated 2021/06/19 10:04:20\\r\\n-TimeClosed 2021/06/19 10:38:56\\r\\n\\r\\n-RecordSize 1044\\r\\n-ApplicationName Pegasus \"2.2.0 \"\\r\\n-AcquisitionSystem AcqSystem1 ATLAS\\r\\n-ReferenceChannel \"Source 05 Panel Ground\"\\r\\n-SamplingFrequency 4000\\r\\n-ADMaxValue 32767\\r\\n-ADBitVolts 0.000000030517578125000001\\r\\n-AcqEntName Photodiode\\r\\n-NumADChannels 1\\r\\n-ADChannel 129\\r\\n-InputRange 1000\\r\\n-InputInverted True\\r\\n\\r\\n-DSPLowCutFilterEnabled True\\r\\n-DspLowCutFrequency 0.1\\r\\n-DspLowCutNumTaps 0\\r\\n-DspLowCutFilterType DCO\\r\\n-DSPHighCutFilterEnabled True\\r\\n-DspHighCutFrequency 1000\\r\\n-DspHighCutNumTaps 256\\r\\n-DspHighCutFilterType FIR\\r\\n-DspDelayCompensation Enabled\\r\\n-DspFilterDelay_\\xb5s 3984\\r\\n',\n",
       " 'header': {'TimeOpened': 'leVersion 3.4',\n",
       "  'TimeOpened_dt': None,\n",
       "  'TimeClosed': 'leUUID 5bb4d6ae-2075-4606-8dcd-aafc2e28a7c0',\n",
       "  'TimeClosed_dt': None,\n",
       "  'SessionUUID': '0c890e78-dcfb-4649-be9b-bcb0997c5f0c'},\n",
       " 'data': array([32767, 32767, 32767, ...,  -269,  -258,  -173], dtype=int16),\n",
       " 'data_units': 'ADC counts',\n",
       " 'sampling_rate': 4000,\n",
       " 'channel_number': 128,\n",
       " 'timestamp': array([1624097575852166, 1624097575980166, 1624097576108166, ...,\n",
       "        1624099138859538, 1624099138987538, 1624099139115538], dtype=uint64),\n",
       " 'time': array([1624097575852166, 1624097575852416, 1624097575852666, ...,\n",
       "        1624099139115538, 1624099139115538, 1624099139115538], dtype=uint64),\n",
       " 'time_units': 'µs'}"
      ]
     },
     "execution_count": 16,
     "metadata": {},
     "output_type": "execute_result"
    }
   ],
   "source": [
    "photo_data1"
   ]
  },
  {
   "cell_type": "code",
   "execution_count": 17,
   "id": "2f91e143",
   "metadata": {},
   "outputs": [
    {
     "data": {
      "text/plain": [
       "{'file_path': '/Users/alexandrafink/Documents/GraduateSchool/SaezLab/SWB/ephys_analysis/data/DA11/raw_nlx/Photodiode_0005.ncs',\n",
       " 'raw_header': b'######## Neuralynx Data File Header\\r\\n-FileType NCS\\r\\n-FileVersion 3.4\\r\\n-FileUUID a338a65e-ddb1-459b-b836-c22f5952aa99\\r\\n-SessionUUID 0c890e78-dcfb-4649-be9b-bcb0997c5f0c\\r\\n-ProbeName \\r\\n-OriginalFileName \"D:\\\\PegasusData\\\\DA11\\\\2021-06-18_17-01-21\\\\Photodiode_0005.ncs\"\\r\\n-TimeCreated 2021/06/19 08:57:08\\r\\n-TimeClosed 2021/06/19 09:14:03\\r\\n\\r\\n-RecordSize 1044\\r\\n-ApplicationName Pegasus \"2.2.0 \"\\r\\n-AcquisitionSystem AcqSystem1 ATLAS\\r\\n-ReferenceChannel \"AD Channel 0009\"\\r\\n-SamplingFrequency 4000\\r\\n-ADMaxValue 32767\\r\\n-ADBitVolts 0.000000030517578125000001\\r\\n-AcqEntName Photodiode\\r\\n-NumADChannels 1\\r\\n-ADChannel 129\\r\\n-InputRange 1000\\r\\n-InputInverted True\\r\\n\\r\\n-DSPLowCutFilterEnabled True\\r\\n-DspLowCutFrequency 0.1\\r\\n-DspLowCutNumTaps 0\\r\\n-DspLowCutFilterType DCO\\r\\n-DSPHighCutFilterEnabled True\\r\\n-DspHighCutFrequency 1000\\r\\n-DspHighCutNumTaps 256\\r\\n-DspHighCutFilterType FIR\\r\\n-DspDelayCompensation Enabled\\r\\n-DspFilterDelay_\\xb5s 3984\\r\\n',\n",
       " 'header': {'TimeOpened': 'leVersion 3.4',\n",
       "  'TimeOpened_dt': None,\n",
       "  'TimeClosed': 'leUUID a338a65e-ddb1-459b-b836-c22f5952aa99',\n",
       "  'TimeClosed_dt': None,\n",
       "  'SessionUUID': '0c890e78-dcfb-4649-be9b-bcb0997c5f0c'},\n",
       " 'data': array([-1404, -1691, -2213, ...,  1711,  3399,  4207], dtype=int16),\n",
       " 'data_units': 'ADC counts',\n",
       " 'sampling_rate': 4000,\n",
       " 'channel_number': 128,\n",
       " 'timestamp': array([1624093285607138, 1624093285735138, 1624093285863138, ...,\n",
       "        1624094045926833, 1624094046054833, 1624094046182833], dtype=uint64),\n",
       " 'time': array([1624093285607138, 1624093285607388, 1624093285607638, ...,\n",
       "        1624094046182833, 1624094046182833, 1624094046182833], dtype=uint64),\n",
       " 'time_units': 'µs'}"
      ]
     },
     "execution_count": 17,
     "metadata": {},
     "output_type": "execute_result"
    }
   ],
   "source": [
    "photo_data2"
   ]
  },
  {
   "cell_type": "code",
   "execution_count": 110,
   "id": "39dd9f33",
   "metadata": {},
   "outputs": [
    {
     "data": {
      "text/plain": [
       "3529669333"
      ]
     },
     "execution_count": 110,
     "metadata": {},
     "output_type": "execute_result"
    }
   ],
   "source": [
    "photo_data1['time'][0] - photo_data2['time'][-1]"
   ]
  },
  {
   "cell_type": "code",
   "execution_count": 111,
   "id": "04b593b5",
   "metadata": {},
   "outputs": [
    {
     "data": {
      "text/plain": [
       "18446744067856043216"
      ]
     },
     "execution_count": 111,
     "metadata": {},
     "output_type": "execute_result"
    }
   ],
   "source": [
    "photo_data2['time'][0] - photo_data1['time'][-1]"
   ]
  },
  {
   "cell_type": "code",
   "execution_count": 103,
   "id": "274d3bb2",
   "metadata": {},
   "outputs": [],
   "source": [
    "photo_data_array = np.hstack((photo_data2['data'],photo_data1['data']))"
   ]
  },
  {
   "cell_type": "code",
   "execution_count": 104,
   "id": "e7a26225",
   "metadata": {},
   "outputs": [],
   "source": [
    "photo_data_array = np.hstack((photo_data2['data'],photo_data1['data']))"
   ]
  },
  {
   "cell_type": "code",
   "execution_count": null,
   "id": "32fd1604",
   "metadata": {},
   "outputs": [],
   "source": []
  },
  {
   "cell_type": "code",
   "execution_count": 105,
   "id": "9c9f41f4",
   "metadata": {},
   "outputs": [],
   "source": [
    "sr = 4000 #for all files"
   ]
  },
  {
   "cell_type": "code",
   "execution_count": 106,
   "id": "4530dffa",
   "metadata": {},
   "outputs": [
    {
     "data": {
      "text/html": [
       "<table class=\"table table-hover table-striped table-sm table-responsive small\">\n",
       "    <tr>\n",
       "        <th>Measurement date</th>\n",
       "        \n",
       "        <td>Unknown</td>\n",
       "        \n",
       "    </tr>\n",
       "    <tr>\n",
       "        <th>Experimenter</th>\n",
       "        \n",
       "        <td>Unknown</td>\n",
       "        \n",
       "    </tr>\n",
       "        <th>Participant</th>\n",
       "        \n",
       "        <td>Unknown</td>\n",
       "        \n",
       "    </tr>\n",
       "    <tr>\n",
       "        <th>Digitized points</th>\n",
       "        \n",
       "        <td>Not available</td>\n",
       "        \n",
       "    </tr>\n",
       "    <tr>\n",
       "        <th>Good channels</th>\n",
       "        <td>1 misc</td>\n",
       "    </tr>\n",
       "    <tr>\n",
       "        <th>Bad channels</th>\n",
       "        <td>None</td>\n",
       "    </tr>\n",
       "    <tr>\n",
       "        <th>EOG channels</th>\n",
       "        <td>Not available</td>\n",
       "    </tr>\n",
       "    <tr>\n",
       "        <th>ECG channels</th>\n",
       "        <td>Not available</td>\n",
       "    \n",
       "    <tr>\n",
       "        <th>Sampling frequency</th>\n",
       "        <td>4000.00 Hz</td>\n",
       "    </tr>\n",
       "    \n",
       "    \n",
       "    <tr>\n",
       "        <th>Highpass</th>\n",
       "        <td>0.00 Hz</td>\n",
       "    </tr>\n",
       "    \n",
       "    \n",
       "    <tr>\n",
       "        <th>Lowpass</th>\n",
       "        <td>2000.00 Hz</td>\n",
       "    </tr>\n",
       "    \n",
       "    \n",
       "</table>"
      ],
      "text/plain": [
       "<Info | 7 non-empty values\n",
       " bads: []\n",
       " ch_names: ...\n",
       " chs: 1 misc\n",
       " custom_ref_applied: False\n",
       " highpass: 0.0 Hz\n",
       " lowpass: 2000.0 Hz\n",
       " meas_date: unspecified\n",
       " nchan: 1\n",
       " projs: []\n",
       " sfreq: 4000.0 Hz\n",
       ">"
      ]
     },
     "execution_count": 106,
     "metadata": {},
     "output_type": "execute_result"
    }
   ],
   "source": [
    "photo_info1 = mne.create_info([photo_files[0]],sr)\n",
    "photo_info1\n",
    "               "
   ]
  },
  {
   "cell_type": "code",
   "execution_count": 107,
   "id": "12802f08",
   "metadata": {},
   "outputs": [
    {
     "data": {
      "text/html": [
       "<table class=\"table table-hover table-striped table-sm table-responsive small\">\n",
       "    <tr>\n",
       "        <th>Measurement date</th>\n",
       "        \n",
       "        <td>Unknown</td>\n",
       "        \n",
       "    </tr>\n",
       "    <tr>\n",
       "        <th>Experimenter</th>\n",
       "        \n",
       "        <td>Unknown</td>\n",
       "        \n",
       "    </tr>\n",
       "        <th>Participant</th>\n",
       "        \n",
       "        <td>Unknown</td>\n",
       "        \n",
       "    </tr>\n",
       "    <tr>\n",
       "        <th>Digitized points</th>\n",
       "        \n",
       "        <td>Not available</td>\n",
       "        \n",
       "    </tr>\n",
       "    <tr>\n",
       "        <th>Good channels</th>\n",
       "        <td>1 misc</td>\n",
       "    </tr>\n",
       "    <tr>\n",
       "        <th>Bad channels</th>\n",
       "        <td>None</td>\n",
       "    </tr>\n",
       "    <tr>\n",
       "        <th>EOG channels</th>\n",
       "        <td>Not available</td>\n",
       "    </tr>\n",
       "    <tr>\n",
       "        <th>ECG channels</th>\n",
       "        <td>Not available</td>\n",
       "    \n",
       "    <tr>\n",
       "        <th>Sampling frequency</th>\n",
       "        <td>4000.00 Hz</td>\n",
       "    </tr>\n",
       "    \n",
       "    \n",
       "    <tr>\n",
       "        <th>Highpass</th>\n",
       "        <td>0.00 Hz</td>\n",
       "    </tr>\n",
       "    \n",
       "    \n",
       "    <tr>\n",
       "        <th>Lowpass</th>\n",
       "        <td>2000.00 Hz</td>\n",
       "    </tr>\n",
       "    \n",
       "    \n",
       "    \n",
       "    <tr>\n",
       "        <th>Duration</th>\n",
       "        <td>00:38:45 (HH:MM:SS)</td>\n",
       "    </tr>\n",
       "</table>"
      ],
      "text/plain": [
       "<RawArray | 1 x 9296384 (2324.1 s), ~70.9 MB, data loaded>"
      ]
     },
     "execution_count": 107,
     "metadata": {},
     "output_type": "execute_result"
    }
   ],
   "source": [
    "photo_mne1 = mne.io.RawArray([photo_data_array], photo_info1)\n",
    "photo_mne1\n"
   ]
  },
  {
   "cell_type": "code",
   "execution_count": 108,
   "id": "91d589da",
   "metadata": {},
   "outputs": [
    {
     "data": {
      "image/png": "[encoded data removed]",
      "text/plain": [
       "<Figure size 640x480 with 1 Axes>"
      ]
     },
     "metadata": {},
     "output_type": "display_data"
    }
   ],
   "source": [
    "plt.plot(photo_mne1._data[0,]) #hopefully \n",
    "plt.title(\"Photodiode\")\n",
    "plt.show()"
   ]
  },
  {
   "cell_type": "code",
   "execution_count": 28,
   "id": "8e0ef2ef",
   "metadata": {},
   "outputs": [
    {
     "data": {
      "text/html": [
       "<table class=\"table table-hover table-striped table-sm table-responsive small\">\n",
       "    <tr>\n",
       "        <th>Measurement date</th>\n",
       "        \n",
       "        <td>Unknown</td>\n",
       "        \n",
       "    </tr>\n",
       "    <tr>\n",
       "        <th>Experimenter</th>\n",
       "        \n",
       "        <td>Unknown</td>\n",
       "        \n",
       "    </tr>\n",
       "        <th>Participant</th>\n",
       "        \n",
       "        <td>Unknown</td>\n",
       "        \n",
       "    </tr>\n",
       "    <tr>\n",
       "        <th>Digitized points</th>\n",
       "        \n",
       "        <td>Not available</td>\n",
       "        \n",
       "    </tr>\n",
       "    <tr>\n",
       "        <th>Good channels</th>\n",
       "        <td>1 misc</td>\n",
       "    </tr>\n",
       "    <tr>\n",
       "        <th>Bad channels</th>\n",
       "        <td>None</td>\n",
       "    </tr>\n",
       "    <tr>\n",
       "        <th>EOG channels</th>\n",
       "        <td>Not available</td>\n",
       "    </tr>\n",
       "    <tr>\n",
       "        <th>ECG channels</th>\n",
       "        <td>Not available</td>\n",
       "    \n",
       "    <tr>\n",
       "        <th>Sampling frequency</th>\n",
       "        <td>4000.00 Hz</td>\n",
       "    </tr>\n",
       "    \n",
       "    \n",
       "    <tr>\n",
       "        <th>Highpass</th>\n",
       "        <td>0.00 Hz</td>\n",
       "    </tr>\n",
       "    \n",
       "    \n",
       "    <tr>\n",
       "        <th>Lowpass</th>\n",
       "        <td>2000.00 Hz</td>\n",
       "    </tr>\n",
       "    \n",
       "    \n",
       "</table>"
      ],
      "text/plain": [
       "<Info | 7 non-empty values\n",
       " bads: []\n",
       " ch_names: ...\n",
       " chs: 1 misc\n",
       " custom_ref_applied: False\n",
       " highpass: 0.0 Hz\n",
       " lowpass: 2000.0 Hz\n",
       " meas_date: unspecified\n",
       " nchan: 1\n",
       " projs: []\n",
       " sfreq: 4000.0 Hz\n",
       ">"
      ]
     },
     "execution_count": 28,
     "metadata": {},
     "output_type": "execute_result"
    }
   ],
   "source": [
    "photo_info2 = mne.create_info([photo_files[1]],photo_data2['sampling_rate'])\n",
    "photo_info2\n",
    "                 "
   ]
  },
  {
   "cell_type": "code",
   "execution_count": 29,
   "id": "59b80c3e",
   "metadata": {},
   "outputs": [
    {
     "data": {
      "text/html": [
       "<table class=\"table table-hover table-striped table-sm table-responsive small\">\n",
       "    <tr>\n",
       "        <th>Measurement date</th>\n",
       "        \n",
       "        <td>Unknown</td>\n",
       "        \n",
       "    </tr>\n",
       "    <tr>\n",
       "        <th>Experimenter</th>\n",
       "        \n",
       "        <td>Unknown</td>\n",
       "        \n",
       "    </tr>\n",
       "        <th>Participant</th>\n",
       "        \n",
       "        <td>Unknown</td>\n",
       "        \n",
       "    </tr>\n",
       "    <tr>\n",
       "        <th>Digitized points</th>\n",
       "        \n",
       "        <td>Not available</td>\n",
       "        \n",
       "    </tr>\n",
       "    <tr>\n",
       "        <th>Good channels</th>\n",
       "        <td>1 misc</td>\n",
       "    </tr>\n",
       "    <tr>\n",
       "        <th>Bad channels</th>\n",
       "        <td>None</td>\n",
       "    </tr>\n",
       "    <tr>\n",
       "        <th>EOG channels</th>\n",
       "        <td>Not available</td>\n",
       "    </tr>\n",
       "    <tr>\n",
       "        <th>ECG channels</th>\n",
       "        <td>Not available</td>\n",
       "    \n",
       "    <tr>\n",
       "        <th>Sampling frequency</th>\n",
       "        <td>4000.00 Hz</td>\n",
       "    </tr>\n",
       "    \n",
       "    \n",
       "    <tr>\n",
       "        <th>Highpass</th>\n",
       "        <td>0.00 Hz</td>\n",
       "    </tr>\n",
       "    \n",
       "    \n",
       "    <tr>\n",
       "        <th>Lowpass</th>\n",
       "        <td>2000.00 Hz</td>\n",
       "    </tr>\n",
       "    \n",
       "    \n",
       "</table>"
      ],
      "text/plain": [
       "<Info | 7 non-empty values\n",
       " bads: []\n",
       " ch_names: ...\n",
       " chs: 1 misc\n",
       " custom_ref_applied: False\n",
       " highpass: 0.0 Hz\n",
       " lowpass: 2000.0 Hz\n",
       " meas_date: unspecified\n",
       " nchan: 1\n",
       " projs: []\n",
       " sfreq: 4000.0 Hz\n",
       ">"
      ]
     },
     "execution_count": 29,
     "metadata": {},
     "output_type": "execute_result"
    }
   ],
   "source": [
    "depth_info1 = mne.create_info([depth_files[0]],depth_data1['sampling_rate'])\n",
    "depth_info1\n",
    "             "
   ]
  },
  {
   "cell_type": "code",
   "execution_count": 30,
   "id": "05f6eb89",
   "metadata": {},
   "outputs": [
    {
     "data": {
      "text/html": [
       "<table class=\"table table-hover table-striped table-sm table-responsive small\">\n",
       "    <tr>\n",
       "        <th>Measurement date</th>\n",
       "        \n",
       "        <td>Unknown</td>\n",
       "        \n",
       "    </tr>\n",
       "    <tr>\n",
       "        <th>Experimenter</th>\n",
       "        \n",
       "        <td>Unknown</td>\n",
       "        \n",
       "    </tr>\n",
       "        <th>Participant</th>\n",
       "        \n",
       "        <td>Unknown</td>\n",
       "        \n",
       "    </tr>\n",
       "    <tr>\n",
       "        <th>Digitized points</th>\n",
       "        \n",
       "        <td>Not available</td>\n",
       "        \n",
       "    </tr>\n",
       "    <tr>\n",
       "        <th>Good channels</th>\n",
       "        <td>1 misc</td>\n",
       "    </tr>\n",
       "    <tr>\n",
       "        <th>Bad channels</th>\n",
       "        <td>None</td>\n",
       "    </tr>\n",
       "    <tr>\n",
       "        <th>EOG channels</th>\n",
       "        <td>Not available</td>\n",
       "    </tr>\n",
       "    <tr>\n",
       "        <th>ECG channels</th>\n",
       "        <td>Not available</td>\n",
       "    \n",
       "    <tr>\n",
       "        <th>Sampling frequency</th>\n",
       "        <td>4000.00 Hz</td>\n",
       "    </tr>\n",
       "    \n",
       "    \n",
       "    <tr>\n",
       "        <th>Highpass</th>\n",
       "        <td>0.00 Hz</td>\n",
       "    </tr>\n",
       "    \n",
       "    \n",
       "    <tr>\n",
       "        <th>Lowpass</th>\n",
       "        <td>2000.00 Hz</td>\n",
       "    </tr>\n",
       "    \n",
       "    \n",
       "</table>"
      ],
      "text/plain": [
       "<Info | 7 non-empty values\n",
       " bads: []\n",
       " ch_names: ...\n",
       " chs: 1 misc\n",
       " custom_ref_applied: False\n",
       " highpass: 0.0 Hz\n",
       " lowpass: 2000.0 Hz\n",
       " meas_date: unspecified\n",
       " nchan: 1\n",
       " projs: []\n",
       " sfreq: 4000.0 Hz\n",
       ">"
      ]
     },
     "execution_count": 30,
     "metadata": {},
     "output_type": "execute_result"
    }
   ],
   "source": [
    "depth_info2 = mne.create_info([depth_files[1]],depth_data2['sampling_rate'])\n",
    "depth_info2"
   ]
  },
  {
   "cell_type": "code",
   "execution_count": 31,
   "id": "746a3961",
   "metadata": {},
   "outputs": [
    {
     "data": {
      "text/html": [
       "<table class=\"table table-hover table-striped table-sm table-responsive small\">\n",
       "    <tr>\n",
       "        <th>Measurement date</th>\n",
       "        \n",
       "        <td>Unknown</td>\n",
       "        \n",
       "    </tr>\n",
       "    <tr>\n",
       "        <th>Experimenter</th>\n",
       "        \n",
       "        <td>Unknown</td>\n",
       "        \n",
       "    </tr>\n",
       "        <th>Participant</th>\n",
       "        \n",
       "        <td>Unknown</td>\n",
       "        \n",
       "    </tr>\n",
       "    <tr>\n",
       "        <th>Digitized points</th>\n",
       "        \n",
       "        <td>Not available</td>\n",
       "        \n",
       "    </tr>\n",
       "    <tr>\n",
       "        <th>Good channels</th>\n",
       "        <td>1 misc</td>\n",
       "    </tr>\n",
       "    <tr>\n",
       "        <th>Bad channels</th>\n",
       "        <td>None</td>\n",
       "    </tr>\n",
       "    <tr>\n",
       "        <th>EOG channels</th>\n",
       "        <td>Not available</td>\n",
       "    </tr>\n",
       "    <tr>\n",
       "        <th>ECG channels</th>\n",
       "        <td>Not available</td>\n",
       "    \n",
       "    <tr>\n",
       "        <th>Sampling frequency</th>\n",
       "        <td>4000.00 Hz</td>\n",
       "    </tr>\n",
       "    \n",
       "    \n",
       "    <tr>\n",
       "        <th>Highpass</th>\n",
       "        <td>0.00 Hz</td>\n",
       "    </tr>\n",
       "    \n",
       "    \n",
       "    <tr>\n",
       "        <th>Lowpass</th>\n",
       "        <td>2000.00 Hz</td>\n",
       "    </tr>\n",
       "    \n",
       "    \n",
       "    \n",
       "    <tr>\n",
       "        <th>Duration</th>\n",
       "        <td>00:26:04 (HH:MM:SS)</td>\n",
       "    </tr>\n",
       "</table>"
      ],
      "text/plain": [
       "<RawArray | 1 x 6253568 (1563.4 s), ~47.7 MB, data loaded>"
      ]
     },
     "execution_count": 31,
     "metadata": {},
     "output_type": "execute_result"
    }
   ],
   "source": [
    "photo_mne1 = mne.io.RawArray([photo_data1['data']], photo_info1)\n",
    "photo_mne1\n"
   ]
  },
  {
   "cell_type": "code",
   "execution_count": 32,
   "id": "0e320c50",
   "metadata": {},
   "outputs": [
    {
     "data": {
      "text/html": [
       "<table class=\"table table-hover table-striped table-sm table-responsive small\">\n",
       "    <tr>\n",
       "        <th>Measurement date</th>\n",
       "        \n",
       "        <td>Unknown</td>\n",
       "        \n",
       "    </tr>\n",
       "    <tr>\n",
       "        <th>Experimenter</th>\n",
       "        \n",
       "        <td>Unknown</td>\n",
       "        \n",
       "    </tr>\n",
       "        <th>Participant</th>\n",
       "        \n",
       "        <td>Unknown</td>\n",
       "        \n",
       "    </tr>\n",
       "    <tr>\n",
       "        <th>Digitized points</th>\n",
       "        \n",
       "        <td>Not available</td>\n",
       "        \n",
       "    </tr>\n",
       "    <tr>\n",
       "        <th>Good channels</th>\n",
       "        <td>1 misc</td>\n",
       "    </tr>\n",
       "    <tr>\n",
       "        <th>Bad channels</th>\n",
       "        <td>None</td>\n",
       "    </tr>\n",
       "    <tr>\n",
       "        <th>EOG channels</th>\n",
       "        <td>Not available</td>\n",
       "    </tr>\n",
       "    <tr>\n",
       "        <th>ECG channels</th>\n",
       "        <td>Not available</td>\n",
       "    \n",
       "    <tr>\n",
       "        <th>Sampling frequency</th>\n",
       "        <td>4000.00 Hz</td>\n",
       "    </tr>\n",
       "    \n",
       "    \n",
       "    <tr>\n",
       "        <th>Highpass</th>\n",
       "        <td>0.00 Hz</td>\n",
       "    </tr>\n",
       "    \n",
       "    \n",
       "    <tr>\n",
       "        <th>Lowpass</th>\n",
       "        <td>2000.00 Hz</td>\n",
       "    </tr>\n",
       "    \n",
       "    \n",
       "    \n",
       "    <tr>\n",
       "        <th>Duration</th>\n",
       "        <td>00:12:41 (HH:MM:SS)</td>\n",
       "    </tr>\n",
       "</table>"
      ],
      "text/plain": [
       "<RawArray | 1 x 3042816 (760.7 s), ~23.2 MB, data loaded>"
      ]
     },
     "execution_count": 32,
     "metadata": {},
     "output_type": "execute_result"
    }
   ],
   "source": [
    "photo_mne2 = mne.io.RawArray([photo_data2['data']], photo_info2)\n",
    "photo_mne2"
   ]
  },
  {
   "cell_type": "code",
   "execution_count": 33,
   "id": "a0a5cd4c",
   "metadata": {},
   "outputs": [
    {
     "data": {
      "text/html": [
       "<table class=\"table table-hover table-striped table-sm table-responsive small\">\n",
       "    <tr>\n",
       "        <th>Measurement date</th>\n",
       "        \n",
       "        <td>Unknown</td>\n",
       "        \n",
       "    </tr>\n",
       "    <tr>\n",
       "        <th>Experimenter</th>\n",
       "        \n",
       "        <td>Unknown</td>\n",
       "        \n",
       "    </tr>\n",
       "        <th>Participant</th>\n",
       "        \n",
       "        <td>Unknown</td>\n",
       "        \n",
       "    </tr>\n",
       "    <tr>\n",
       "        <th>Digitized points</th>\n",
       "        \n",
       "        <td>Not available</td>\n",
       "        \n",
       "    </tr>\n",
       "    <tr>\n",
       "        <th>Good channels</th>\n",
       "        <td>1 misc</td>\n",
       "    </tr>\n",
       "    <tr>\n",
       "        <th>Bad channels</th>\n",
       "        <td>None</td>\n",
       "    </tr>\n",
       "    <tr>\n",
       "        <th>EOG channels</th>\n",
       "        <td>Not available</td>\n",
       "    </tr>\n",
       "    <tr>\n",
       "        <th>ECG channels</th>\n",
       "        <td>Not available</td>\n",
       "    \n",
       "    <tr>\n",
       "        <th>Sampling frequency</th>\n",
       "        <td>4000.00 Hz</td>\n",
       "    </tr>\n",
       "    \n",
       "    \n",
       "    <tr>\n",
       "        <th>Highpass</th>\n",
       "        <td>0.00 Hz</td>\n",
       "    </tr>\n",
       "    \n",
       "    \n",
       "    <tr>\n",
       "        <th>Lowpass</th>\n",
       "        <td>2000.00 Hz</td>\n",
       "    </tr>\n",
       "    \n",
       "    \n",
       "    \n",
       "    <tr>\n",
       "        <th>Duration</th>\n",
       "        <td>00:26:04 (HH:MM:SS)</td>\n",
       "    </tr>\n",
       "</table>"
      ],
      "text/plain": [
       "<RawArray | 1 x 6253568 (1563.4 s), ~47.7 MB, data loaded>"
      ]
     },
     "execution_count": 33,
     "metadata": {},
     "output_type": "execute_result"
    }
   ],
   "source": [
    "depth_mne1 = mne.io.RawArray([depth_data1['data']], depth_info1)\n",
    "depth_mne1"
   ]
  },
  {
   "cell_type": "code",
   "execution_count": 34,
   "id": "d4225050",
   "metadata": {},
   "outputs": [
    {
     "data": {
      "text/html": [
       "<table class=\"table table-hover table-striped table-sm table-responsive small\">\n",
       "    <tr>\n",
       "        <th>Measurement date</th>\n",
       "        \n",
       "        <td>Unknown</td>\n",
       "        \n",
       "    </tr>\n",
       "    <tr>\n",
       "        <th>Experimenter</th>\n",
       "        \n",
       "        <td>Unknown</td>\n",
       "        \n",
       "    </tr>\n",
       "        <th>Participant</th>\n",
       "        \n",
       "        <td>Unknown</td>\n",
       "        \n",
       "    </tr>\n",
       "    <tr>\n",
       "        <th>Digitized points</th>\n",
       "        \n",
       "        <td>Not available</td>\n",
       "        \n",
       "    </tr>\n",
       "    <tr>\n",
       "        <th>Good channels</th>\n",
       "        <td>1 misc</td>\n",
       "    </tr>\n",
       "    <tr>\n",
       "        <th>Bad channels</th>\n",
       "        <td>None</td>\n",
       "    </tr>\n",
       "    <tr>\n",
       "        <th>EOG channels</th>\n",
       "        <td>Not available</td>\n",
       "    </tr>\n",
       "    <tr>\n",
       "        <th>ECG channels</th>\n",
       "        <td>Not available</td>\n",
       "    \n",
       "    <tr>\n",
       "        <th>Sampling frequency</th>\n",
       "        <td>4000.00 Hz</td>\n",
       "    </tr>\n",
       "    \n",
       "    \n",
       "    <tr>\n",
       "        <th>Highpass</th>\n",
       "        <td>0.00 Hz</td>\n",
       "    </tr>\n",
       "    \n",
       "    \n",
       "    <tr>\n",
       "        <th>Lowpass</th>\n",
       "        <td>2000.00 Hz</td>\n",
       "    </tr>\n",
       "    \n",
       "    \n",
       "    \n",
       "    <tr>\n",
       "        <th>Duration</th>\n",
       "        <td>00:12:41 (HH:MM:SS)</td>\n",
       "    </tr>\n",
       "</table>"
      ],
      "text/plain": [
       "<RawArray | 1 x 3042816 (760.7 s), ~23.2 MB, data loaded>"
      ]
     },
     "execution_count": 34,
     "metadata": {},
     "output_type": "execute_result"
    }
   ],
   "source": [
    "depth_mne2 = mne.io.RawArray([depth_data2['data']], depth_info2)\n",
    "depth_mne2"
   ]
  },
  {
   "cell_type": "code",
   "execution_count": null,
   "id": "dc889f57",
   "metadata": {},
   "outputs": [],
   "source": [
    "file1 = nlx_utils.load_ncs(ch_file_dict[ch][0])\n",
    "file2 = nlx_utils.load_ncs(ch_file_dict[ch][1])"
   ]
  },
  {
   "cell_type": "code",
   "execution_count": null,
   "id": "81b11c1c",
   "metadata": {},
   "outputs": [],
   "source": [
    "if (file1['time'][0] - file2['time'][-1]) > (file2['time'][0] - file1['time'][-1]): #if first difference larger - file 1 comes first, if second difference is larger file 2 comes first \n",
    "    first_file = file1\n",
    "    second_file = file2\n",
    "    print(first_file['file_path'])\n",
    "elif (file1['time'][0] - file2['time'][-1]) < (file2['time'][0] - file1['time'][-1]):\n",
    "        first_file = file2\n",
    "        second_file = file1\n",
    "        print(first_file['file_path'])"
   ]
  },
  {
   "cell_type": "code",
   "execution_count": null,
   "id": "4653ab03",
   "metadata": {},
   "outputs": [],
   "source": [
    "(file1['time'][0] - file2['time'][-1]) > (file2['time'][0] - file1['time'][-1]) #if first difference larger - file 1 comes first, if second difference is larger file 2 comes first "
   ]
  },
  {
   "cell_type": "code",
   "execution_count": null,
   "id": "92083007",
   "metadata": {},
   "outputs": [],
   "source": [
    "### some channels have 3 files not just 2 "
   ]
  },
  {
   "cell_type": "code",
   "execution_count": null,
   "id": "15fa39dd",
   "metadata": {},
   "outputs": [],
   "source": [
    "ch_names = []\n",
    "\n",
    "for chan_path in ncs_files:\n",
    "    chan_name = chan_path.split('/')[-1].replace('.ncs','')\n",
    "    # strip the file type off the end if needed \n",
    "    if '_' in chan_name:\n",
    "        chan_name = chan_name.split('_')[0]\n",
    "    ch_names.append(chan_name)\n",
    "\n",
    "ch_file_dict = {} #dictionary mapping electrode name to the its 2 corresponding data files \n",
    "\n",
    "for ch in ch_names:\n",
    "    ch_files = [f for f in ncs_files if ch == f.split('/')[-1].replace('.ncs','').split('_')[0]] #was saving ch 10 with ch 1 before\n",
    "    ch_file_dict[ch]=ch_files\n",
    "    \n",
    "ch_file_dict\n",
    "\n",
    "ch_file_counts = {}\n",
    "\n",
    "for ch in ch_file_dict:\n",
    "    ch_file_counts[ch] = len(ch_file_dict[ch])\n",
    "\n",
    "    "
   ]
  },
  {
   "cell_type": "code",
   "execution_count": 18,
   "id": "e1a1df2c",
   "metadata": {},
   "outputs": [],
   "source": [
    "ch_names = []\n",
    "\n",
    "for chan_path in ncs_files:\n",
    "    chan_name = chan_path.split('/')[-1].replace('.ncs','')\n",
    "    # strip the file type off the end if needed \n",
    "    if '_' in chan_name:\n",
    "        chan_name = chan_name.split('_')[0]\n",
    "    ch_names.append(chan_name)"
   ]
  },
  {
   "cell_type": "code",
   "execution_count": 19,
   "id": "1350da05",
   "metadata": {},
   "outputs": [
    {
     "data": {
      "text/plain": [
       "{'RIA7': ['/Users/alexandrafink/Documents/GraduateSchool/SaezLab/SWB/ephys_analysis/data/DA11/raw_nlx/RIA7_0007.ncs',\n",
       "  '/Users/alexandrafink/Documents/GraduateSchool/SaezLab/SWB/ephys_analysis/data/DA11/raw_nlx/RIA7_0006.ncs'],\n",
       " 'LAM9': ['/Users/alexandrafink/Documents/GraduateSchool/SaezLab/SWB/ephys_analysis/data/DA11/raw_nlx/LAM9_0007.ncs',\n",
       "  '/Users/alexandrafink/Documents/GraduateSchool/SaezLab/SWB/ephys_analysis/data/DA11/raw_nlx/LAM9_0005.ncs'],\n",
       " 'RIA6': ['/Users/alexandrafink/Documents/GraduateSchool/SaezLab/SWB/ephys_analysis/data/DA11/raw_nlx/RIA6_0007.ncs',\n",
       "  '/Users/alexandrafink/Documents/GraduateSchool/SaezLab/SWB/ephys_analysis/data/DA11/raw_nlx/RIA6_0006.ncs'],\n",
       " 'LAM8': ['/Users/alexandrafink/Documents/GraduateSchool/SaezLab/SWB/ephys_analysis/data/DA11/raw_nlx/LAM8_0007.ncs',\n",
       "  '/Users/alexandrafink/Documents/GraduateSchool/SaezLab/SWB/ephys_analysis/data/DA11/raw_nlx/LAM8_0005.ncs'],\n",
       " 'LHB9': ['/Users/alexandrafink/Documents/GraduateSchool/SaezLab/SWB/ephys_analysis/data/DA11/raw_nlx/LHB9_0005.ncs',\n",
       "  '/Users/alexandrafink/Documents/GraduateSchool/SaezLab/SWB/ephys_analysis/data/DA11/raw_nlx/LHB9_0007.ncs'],\n",
       " 'LHB8': ['/Users/alexandrafink/Documents/GraduateSchool/SaezLab/SWB/ephys_analysis/data/DA11/raw_nlx/LHB8_0005.ncs',\n",
       "  '/Users/alexandrafink/Documents/GraduateSchool/SaezLab/SWB/ephys_analysis/data/DA11/raw_nlx/LHB8_0007.ncs'],\n",
       " 'RAC4': ['/Users/alexandrafink/Documents/GraduateSchool/SaezLab/SWB/ephys_analysis/data/DA11/raw_nlx/RAC4_0005.ncs',\n",
       "  '/Users/alexandrafink/Documents/GraduateSchool/SaezLab/SWB/ephys_analysis/data/DA11/raw_nlx/RAC4_0007.ncs'],\n",
       " 'RAC5': ['/Users/alexandrafink/Documents/GraduateSchool/SaezLab/SWB/ephys_analysis/data/DA11/raw_nlx/RAC5_0005.ncs',\n",
       "  '/Users/alexandrafink/Documents/GraduateSchool/SaezLab/SWB/ephys_analysis/data/DA11/raw_nlx/RAC5_0007.ncs'],\n",
       " 'RHB1': ['/Users/alexandrafink/Documents/GraduateSchool/SaezLab/SWB/ephys_analysis/data/DA11/raw_nlx/RHB1_0006.ncs',\n",
       "  '/Users/alexandrafink/Documents/GraduateSchool/SaezLab/SWB/ephys_analysis/data/DA11/raw_nlx/RHB1_0007.ncs',\n",
       "  '/Users/alexandrafink/Documents/GraduateSchool/SaezLab/SWB/ephys_analysis/data/DA11/raw_nlx/RHB1_0005.ncs'],\n",
       " 'LHB3': ['/Users/alexandrafink/Documents/GraduateSchool/SaezLab/SWB/ephys_analysis/data/DA11/raw_nlx/LHB3_0007.ncs',\n",
       "  '/Users/alexandrafink/Documents/GraduateSchool/SaezLab/SWB/ephys_analysis/data/DA11/raw_nlx/LHB3_0005.ncs'],\n",
       " 'LHB2': ['/Users/alexandrafink/Documents/GraduateSchool/SaezLab/SWB/ephys_analysis/data/DA11/raw_nlx/LHB2_0007.ncs',\n",
       "  '/Users/alexandrafink/Documents/GraduateSchool/SaezLab/SWB/ephys_analysis/data/DA11/raw_nlx/LHB2_0005.ncs'],\n",
       " 'LAM3': ['/Users/alexandrafink/Documents/GraduateSchool/SaezLab/SWB/ephys_analysis/data/DA11/raw_nlx/LAM3_0005.ncs',\n",
       "  '/Users/alexandrafink/Documents/GraduateSchool/SaezLab/SWB/ephys_analysis/data/DA11/raw_nlx/LAM3_0007.ncs'],\n",
       " 'LAM2': ['/Users/alexandrafink/Documents/GraduateSchool/SaezLab/SWB/ephys_analysis/data/DA11/raw_nlx/LAM2_0005.ncs',\n",
       "  '/Users/alexandrafink/Documents/GraduateSchool/SaezLab/SWB/ephys_analysis/data/DA11/raw_nlx/LAM2_0007.ncs'],\n",
       " 'RAM1': ['/Users/alexandrafink/Documents/GraduateSchool/SaezLab/SWB/ephys_analysis/data/DA11/raw_nlx/RAM1_0005.ncs',\n",
       "  '/Users/alexandrafink/Documents/GraduateSchool/SaezLab/SWB/ephys_analysis/data/DA11/raw_nlx/RAM1_0007.ncs'],\n",
       " 'LHH5': ['/Users/alexandrafink/Documents/GraduateSchool/SaezLab/SWB/ephys_analysis/data/DA11/raw_nlx/LHH5_0005.ncs',\n",
       "  '/Users/alexandrafink/Documents/GraduateSchool/SaezLab/SWB/ephys_analysis/data/DA11/raw_nlx/LHH5_0007.ncs'],\n",
       " 'LHH4': ['/Users/alexandrafink/Documents/GraduateSchool/SaezLab/SWB/ephys_analysis/data/DA11/raw_nlx/LHH4_0005.ncs',\n",
       "  '/Users/alexandrafink/Documents/GraduateSchool/SaezLab/SWB/ephys_analysis/data/DA11/raw_nlx/LHH4_0007.ncs'],\n",
       " 'RSM2': ['/Users/alexandrafink/Documents/GraduateSchool/SaezLab/SWB/ephys_analysis/data/DA11/raw_nlx/RSM2_0006.ncs',\n",
       "  '/Users/alexandrafink/Documents/GraduateSchool/SaezLab/SWB/ephys_analysis/data/DA11/raw_nlx/RSM2_0007.ncs'],\n",
       " 'RSM3': ['/Users/alexandrafink/Documents/GraduateSchool/SaezLab/SWB/ephys_analysis/data/DA11/raw_nlx/RSM3_0006.ncs',\n",
       "  '/Users/alexandrafink/Documents/GraduateSchool/SaezLab/SWB/ephys_analysis/data/DA11/raw_nlx/RSM3_0007.ncs'],\n",
       " 'RIP4': ['/Users/alexandrafink/Documents/GraduateSchool/SaezLab/SWB/ephys_analysis/data/DA11/raw_nlx/RIP4_0006.ncs',\n",
       "  '/Users/alexandrafink/Documents/GraduateSchool/SaezLab/SWB/ephys_analysis/data/DA11/raw_nlx/RIP4_0007.ncs'],\n",
       " 'RIP5': ['/Users/alexandrafink/Documents/GraduateSchool/SaezLab/SWB/ephys_analysis/data/DA11/raw_nlx/RIP5_0006.ncs',\n",
       "  '/Users/alexandrafink/Documents/GraduateSchool/SaezLab/SWB/ephys_analysis/data/DA11/raw_nlx/RIP5_0007.ncs'],\n",
       " 'RHH7': ['/Users/alexandrafink/Documents/GraduateSchool/SaezLab/SWB/ephys_analysis/data/DA11/raw_nlx/RHH7_0007.ncs',\n",
       "  '/Users/alexandrafink/Documents/GraduateSchool/SaezLab/SWB/ephys_analysis/data/DA11/raw_nlx/RHH7_0006.ncs'],\n",
       " 'RHH6': ['/Users/alexandrafink/Documents/GraduateSchool/SaezLab/SWB/ephys_analysis/data/DA11/raw_nlx/RHH6_0007.ncs',\n",
       "  '/Users/alexandrafink/Documents/GraduateSchool/SaezLab/SWB/ephys_analysis/data/DA11/raw_nlx/RHH6_0006.ncs'],\n",
       " 'RTT9': ['/Users/alexandrafink/Documents/GraduateSchool/SaezLab/SWB/ephys_analysis/data/DA11/raw_nlx/RTT9_0006.ncs',\n",
       "  '/Users/alexandrafink/Documents/GraduateSchool/SaezLab/SWB/ephys_analysis/data/DA11/raw_nlx/RTT9_0007.ncs'],\n",
       " 'RTT8': ['/Users/alexandrafink/Documents/GraduateSchool/SaezLab/SWB/ephys_analysis/data/DA11/raw_nlx/RTT8_0006.ncs',\n",
       "  '/Users/alexandrafink/Documents/GraduateSchool/SaezLab/SWB/ephys_analysis/data/DA11/raw_nlx/RTT8_0007.ncs'],\n",
       " 'LTT1': ['/Users/alexandrafink/Documents/GraduateSchool/SaezLab/SWB/ephys_analysis/data/DA11/raw_nlx/LTT1_0005.ncs',\n",
       "  '/Users/alexandrafink/Documents/GraduateSchool/SaezLab/SWB/ephys_analysis/data/DA11/raw_nlx/LTT1_0007.ncs'],\n",
       " 'RTT10': ['/Users/alexandrafink/Documents/GraduateSchool/SaezLab/SWB/ephys_analysis/data/DA11/raw_nlx/RTT10_0006.ncs',\n",
       "  '/Users/alexandrafink/Documents/GraduateSchool/SaezLab/SWB/ephys_analysis/data/DA11/raw_nlx/RTT10_0007.ncs'],\n",
       " 'RFP3': ['/Users/alexandrafink/Documents/GraduateSchool/SaezLab/SWB/ephys_analysis/data/DA11/raw_nlx/RFP3_0007.ncs',\n",
       "  '/Users/alexandrafink/Documents/GraduateSchool/SaezLab/SWB/ephys_analysis/data/DA11/raw_nlx/RFP3_0006.ncs',\n",
       "  '/Users/alexandrafink/Documents/GraduateSchool/SaezLab/SWB/ephys_analysis/data/DA11/raw_nlx/RFP3_0005.ncs'],\n",
       " 'RFP2': ['/Users/alexandrafink/Documents/GraduateSchool/SaezLab/SWB/ephys_analysis/data/DA11/raw_nlx/RFP2_0007.ncs',\n",
       "  '/Users/alexandrafink/Documents/GraduateSchool/SaezLab/SWB/ephys_analysis/data/DA11/raw_nlx/RFP2_0006.ncs',\n",
       "  '/Users/alexandrafink/Documents/GraduateSchool/SaezLab/SWB/ephys_analysis/data/DA11/raw_nlx/RFP2_0005.ncs'],\n",
       " 'RIA10': ['/Users/alexandrafink/Documents/GraduateSchool/SaezLab/SWB/ephys_analysis/data/DA11/raw_nlx/RIA10_0007.ncs',\n",
       "  '/Users/alexandrafink/Documents/GraduateSchool/SaezLab/SWB/ephys_analysis/data/DA11/raw_nlx/RIA10_0006.ncs'],\n",
       " 'RFP9': ['/Users/alexandrafink/Documents/GraduateSchool/SaezLab/SWB/ephys_analysis/data/DA11/raw_nlx/RFP9_0005.ncs',\n",
       "  '/Users/alexandrafink/Documents/GraduateSchool/SaezLab/SWB/ephys_analysis/data/DA11/raw_nlx/RFP9_0007.ncs',\n",
       "  '/Users/alexandrafink/Documents/GraduateSchool/SaezLab/SWB/ephys_analysis/data/DA11/raw_nlx/RFP9_0006.ncs'],\n",
       " 'RFP8': ['/Users/alexandrafink/Documents/GraduateSchool/SaezLab/SWB/ephys_analysis/data/DA11/raw_nlx/RFP8_0005.ncs',\n",
       "  '/Users/alexandrafink/Documents/GraduateSchool/SaezLab/SWB/ephys_analysis/data/DA11/raw_nlx/RFP8_0007.ncs',\n",
       "  '/Users/alexandrafink/Documents/GraduateSchool/SaezLab/SWB/ephys_analysis/data/DA11/raw_nlx/RFP8_0006.ncs'],\n",
       " 'RTT3': ['/Users/alexandrafink/Documents/GraduateSchool/SaezLab/SWB/ephys_analysis/data/DA11/raw_nlx/RTT3_0006.ncs',\n",
       "  '/Users/alexandrafink/Documents/GraduateSchool/SaezLab/SWB/ephys_analysis/data/DA11/raw_nlx/RTT3_0007.ncs'],\n",
       " 'RTT2': ['/Users/alexandrafink/Documents/GraduateSchool/SaezLab/SWB/ephys_analysis/data/DA11/raw_nlx/RTT2_0006.ncs',\n",
       "  '/Users/alexandrafink/Documents/GraduateSchool/SaezLab/SWB/ephys_analysis/data/DA11/raw_nlx/RTT2_0007.ncs'],\n",
       " 'LTT7': ['/Users/alexandrafink/Documents/GraduateSchool/SaezLab/SWB/ephys_analysis/data/DA11/raw_nlx/LTT7_0005.ncs',\n",
       "  '/Users/alexandrafink/Documents/GraduateSchool/SaezLab/SWB/ephys_analysis/data/DA11/raw_nlx/LTT7_0007.ncs'],\n",
       " 'LTT6': ['/Users/alexandrafink/Documents/GraduateSchool/SaezLab/SWB/ephys_analysis/data/DA11/raw_nlx/LTT6_0005.ncs',\n",
       "  '/Users/alexandrafink/Documents/GraduateSchool/SaezLab/SWB/ephys_analysis/data/DA11/raw_nlx/LTT6_0007.ncs'],\n",
       " 'Photodiode': ['/Users/alexandrafink/Documents/GraduateSchool/SaezLab/SWB/ephys_analysis/data/DA11/raw_nlx/Photodiode_0007.ncs',\n",
       "  '/Users/alexandrafink/Documents/GraduateSchool/SaezLab/SWB/ephys_analysis/data/DA11/raw_nlx/Photodiode_0005.ncs'],\n",
       " 'RFP4': ['/Users/alexandrafink/Documents/GraduateSchool/SaezLab/SWB/ephys_analysis/data/DA11/raw_nlx/RFP4_0007.ncs',\n",
       "  '/Users/alexandrafink/Documents/GraduateSchool/SaezLab/SWB/ephys_analysis/data/DA11/raw_nlx/RFP4_0006.ncs',\n",
       "  '/Users/alexandrafink/Documents/GraduateSchool/SaezLab/SWB/ephys_analysis/data/DA11/raw_nlx/RFP4_0005.ncs'],\n",
       " 'RFP5': ['/Users/alexandrafink/Documents/GraduateSchool/SaezLab/SWB/ephys_analysis/data/DA11/raw_nlx/RFP5_0007.ncs',\n",
       "  '/Users/alexandrafink/Documents/GraduateSchool/SaezLab/SWB/ephys_analysis/data/DA11/raw_nlx/RFP5_0006.ncs',\n",
       "  '/Users/alexandrafink/Documents/GraduateSchool/SaezLab/SWB/ephys_analysis/data/DA11/raw_nlx/RFP5_0005.ncs'],\n",
       " 'RTT4': ['/Users/alexandrafink/Documents/GraduateSchool/SaezLab/SWB/ephys_analysis/data/DA11/raw_nlx/RTT4_0006.ncs',\n",
       "  '/Users/alexandrafink/Documents/GraduateSchool/SaezLab/SWB/ephys_analysis/data/DA11/raw_nlx/RTT4_0007.ncs'],\n",
       " 'RTT5': ['/Users/alexandrafink/Documents/GraduateSchool/SaezLab/SWB/ephys_analysis/data/DA11/raw_nlx/RTT5_0006.ncs',\n",
       "  '/Users/alexandrafink/Documents/GraduateSchool/SaezLab/SWB/ephys_analysis/data/DA11/raw_nlx/RTT5_0007.ncs'],\n",
       " 'LHH8': ['/Users/alexandrafink/Documents/GraduateSchool/SaezLab/SWB/ephys_analysis/data/DA11/raw_nlx/LHH8_0007.ncs',\n",
       "  '/Users/alexandrafink/Documents/GraduateSchool/SaezLab/SWB/ephys_analysis/data/DA11/raw_nlx/LHH8_0005.ncs'],\n",
       " 'LHH9': ['/Users/alexandrafink/Documents/GraduateSchool/SaezLab/SWB/ephys_analysis/data/DA11/raw_nlx/LHH9_0007.ncs',\n",
       "  '/Users/alexandrafink/Documents/GraduateSchool/SaezLab/SWB/ephys_analysis/data/DA11/raw_nlx/LHH9_0005.ncs'],\n",
       " 'RIA1': ['/Users/alexandrafink/Documents/GraduateSchool/SaezLab/SWB/ephys_analysis/data/DA11/raw_nlx/RIA1_0007.ncs',\n",
       "  '/Users/alexandrafink/Documents/GraduateSchool/SaezLab/SWB/ephys_analysis/data/DA11/raw_nlx/RIA1_0006.ncs'],\n",
       " 'RIP9': ['/Users/alexandrafink/Documents/GraduateSchool/SaezLab/SWB/ephys_analysis/data/DA11/raw_nlx/RIP9_0006.ncs',\n",
       "  '/Users/alexandrafink/Documents/GraduateSchool/SaezLab/SWB/ephys_analysis/data/DA11/raw_nlx/RIP9_0007.ncs'],\n",
       " 'RIP8': ['/Users/alexandrafink/Documents/GraduateSchool/SaezLab/SWB/ephys_analysis/data/DA11/raw_nlx/RIP8_0006.ncs',\n",
       "  '/Users/alexandrafink/Documents/GraduateSchool/SaezLab/SWB/ephys_analysis/data/DA11/raw_nlx/RIP8_0007.ncs'],\n",
       " 'RAC3': ['/Users/alexandrafink/Documents/GraduateSchool/SaezLab/SWB/ephys_analysis/data/DA11/raw_nlx/RAC3_0005.ncs',\n",
       "  '/Users/alexandrafink/Documents/GraduateSchool/SaezLab/SWB/ephys_analysis/data/DA11/raw_nlx/RAC3_0007.ncs'],\n",
       " 'RHB7': ['/Users/alexandrafink/Documents/GraduateSchool/SaezLab/SWB/ephys_analysis/data/DA11/raw_nlx/RHB7_0006.ncs',\n",
       "  '/Users/alexandrafink/Documents/GraduateSchool/SaezLab/SWB/ephys_analysis/data/DA11/raw_nlx/RHB7_0007.ncs',\n",
       "  '/Users/alexandrafink/Documents/GraduateSchool/SaezLab/SWB/ephys_analysis/data/DA11/raw_nlx/RHB7_0005.ncs'],\n",
       " 'RHB6': ['/Users/alexandrafink/Documents/GraduateSchool/SaezLab/SWB/ephys_analysis/data/DA11/raw_nlx/RHB6_0006.ncs',\n",
       "  '/Users/alexandrafink/Documents/GraduateSchool/SaezLab/SWB/ephys_analysis/data/DA11/raw_nlx/RHB6_0007.ncs',\n",
       "  '/Users/alexandrafink/Documents/GraduateSchool/SaezLab/SWB/ephys_analysis/data/DA11/raw_nlx/RHB6_0005.ncs'],\n",
       " 'RAC2': ['/Users/alexandrafink/Documents/GraduateSchool/SaezLab/SWB/ephys_analysis/data/DA11/raw_nlx/RAC2_0005.ncs',\n",
       "  '/Users/alexandrafink/Documents/GraduateSchool/SaezLab/SWB/ephys_analysis/data/DA11/raw_nlx/RAC2_0007.ncs'],\n",
       " 'RAM6': ['/Users/alexandrafink/Documents/GraduateSchool/SaezLab/SWB/ephys_analysis/data/DA11/raw_nlx/RAM6_0005.ncs',\n",
       "  '/Users/alexandrafink/Documents/GraduateSchool/SaezLab/SWB/ephys_analysis/data/DA11/raw_nlx/RAM6_0007.ncs'],\n",
       " 'RAM7': ['/Users/alexandrafink/Documents/GraduateSchool/SaezLab/SWB/ephys_analysis/data/DA11/raw_nlx/RAM7_0005.ncs',\n",
       "  '/Users/alexandrafink/Documents/GraduateSchool/SaezLab/SWB/ephys_analysis/data/DA11/raw_nlx/RAM7_0007.ncs'],\n",
       " 'LHH2': ['/Users/alexandrafink/Documents/GraduateSchool/SaezLab/SWB/ephys_analysis/data/DA11/raw_nlx/LHH2_0005.ncs',\n",
       "  '/Users/alexandrafink/Documents/GraduateSchool/SaezLab/SWB/ephys_analysis/data/DA11/raw_nlx/LHH2_0007.ncs'],\n",
       " 'LHH3': ['/Users/alexandrafink/Documents/GraduateSchool/SaezLab/SWB/ephys_analysis/data/DA11/raw_nlx/LHH3_0005.ncs',\n",
       "  '/Users/alexandrafink/Documents/GraduateSchool/SaezLab/SWB/ephys_analysis/data/DA11/raw_nlx/LHH3_0007.ncs'],\n",
       " 'LHB4': ['/Users/alexandrafink/Documents/GraduateSchool/SaezLab/SWB/ephys_analysis/data/DA11/raw_nlx/LHB4_0007.ncs',\n",
       "  '/Users/alexandrafink/Documents/GraduateSchool/SaezLab/SWB/ephys_analysis/data/DA11/raw_nlx/LHB4_0005.ncs'],\n",
       " 'LHB5': ['/Users/alexandrafink/Documents/GraduateSchool/SaezLab/SWB/ephys_analysis/data/DA11/raw_nlx/LHB5_0007.ncs',\n",
       "  '/Users/alexandrafink/Documents/GraduateSchool/SaezLab/SWB/ephys_analysis/data/DA11/raw_nlx/LHB5_0005.ncs'],\n",
       " 'LAM4': ['/Users/alexandrafink/Documents/GraduateSchool/SaezLab/SWB/ephys_analysis/data/DA11/raw_nlx/LAM4_0005.ncs',\n",
       "  '/Users/alexandrafink/Documents/GraduateSchool/SaezLab/SWB/ephys_analysis/data/DA11/raw_nlx/LAM4_0007.ncs'],\n",
       " 'LAM5': ['/Users/alexandrafink/Documents/GraduateSchool/SaezLab/SWB/ephys_analysis/data/DA11/raw_nlx/LAM5_0005.ncs',\n",
       "  '/Users/alexandrafink/Documents/GraduateSchool/SaezLab/SWB/ephys_analysis/data/DA11/raw_nlx/LAM5_0007.ncs'],\n",
       " 'RAC9': ['/Users/alexandrafink/Documents/GraduateSchool/SaezLab/SWB/ephys_analysis/data/DA11/raw_nlx/RAC9_0007.ncs',\n",
       "  '/Users/alexandrafink/Documents/GraduateSchool/SaezLab/SWB/ephys_analysis/data/DA11/raw_nlx/RAC9_0005.ncs'],\n",
       " 'RAC8': ['/Users/alexandrafink/Documents/GraduateSchool/SaezLab/SWB/ephys_analysis/data/DA11/raw_nlx/RAC8_0007.ncs',\n",
       "  '/Users/alexandrafink/Documents/GraduateSchool/SaezLab/SWB/ephys_analysis/data/DA11/raw_nlx/RAC8_0005.ncs'],\n",
       " 'RIP3': ['/Users/alexandrafink/Documents/GraduateSchool/SaezLab/SWB/ephys_analysis/data/DA11/raw_nlx/RIP3_0006.ncs',\n",
       "  '/Users/alexandrafink/Documents/GraduateSchool/SaezLab/SWB/ephys_analysis/data/DA11/raw_nlx/RIP3_0007.ncs'],\n",
       " 'RIP2': ['/Users/alexandrafink/Documents/GraduateSchool/SaezLab/SWB/ephys_analysis/data/DA11/raw_nlx/RIP2_0006.ncs',\n",
       "  '/Users/alexandrafink/Documents/GraduateSchool/SaezLab/SWB/ephys_analysis/data/DA11/raw_nlx/RIP2_0007.ncs'],\n",
       " 'RHH1': ['/Users/alexandrafink/Documents/GraduateSchool/SaezLab/SWB/ephys_analysis/data/DA11/raw_nlx/RHH1_0007.ncs',\n",
       "  '/Users/alexandrafink/Documents/GraduateSchool/SaezLab/SWB/ephys_analysis/data/DA11/raw_nlx/RHH1_0006.ncs'],\n",
       " 'RIP10': ['/Users/alexandrafink/Documents/GraduateSchool/SaezLab/SWB/ephys_analysis/data/DA11/raw_nlx/RIP10_0007.ncs',\n",
       "  '/Users/alexandrafink/Documents/GraduateSchool/SaezLab/SWB/ephys_analysis/data/DA11/raw_nlx/RIP10_0006.ncs'],\n",
       " 'RSM5': ['/Users/alexandrafink/Documents/GraduateSchool/SaezLab/SWB/ephys_analysis/data/DA11/raw_nlx/RSM5_0006.ncs',\n",
       "  '/Users/alexandrafink/Documents/GraduateSchool/SaezLab/SWB/ephys_analysis/data/DA11/raw_nlx/RSM5_0007.ncs'],\n",
       " 'RSM4': ['/Users/alexandrafink/Documents/GraduateSchool/SaezLab/SWB/ephys_analysis/data/DA11/raw_nlx/RSM4_0006.ncs',\n",
       "  '/Users/alexandrafink/Documents/GraduateSchool/SaezLab/SWB/ephys_analysis/data/DA11/raw_nlx/RSM4_0007.ncs'],\n",
       " 'LTT9': ['/Users/alexandrafink/Documents/GraduateSchool/SaezLab/SWB/ephys_analysis/data/DA11/raw_nlx/LTT9_0005.ncs',\n",
       "  '/Users/alexandrafink/Documents/GraduateSchool/SaezLab/SWB/ephys_analysis/data/DA11/raw_nlx/LTT9_0007.ncs'],\n",
       " 'LTT8': ['/Users/alexandrafink/Documents/GraduateSchool/SaezLab/SWB/ephys_analysis/data/DA11/raw_nlx/LTT8_0005.ncs',\n",
       "  '/Users/alexandrafink/Documents/GraduateSchool/SaezLab/SWB/ephys_analysis/data/DA11/raw_nlx/LTT8_0007.ncs'],\n",
       " 'RTT1': ['/Users/alexandrafink/Documents/GraduateSchool/SaezLab/SWB/ephys_analysis/data/DA11/raw_nlx/RTT1_0006.ncs',\n",
       "  '/Users/alexandrafink/Documents/GraduateSchool/SaezLab/SWB/ephys_analysis/data/DA11/raw_nlx/RTT1_0007.ncs'],\n",
       " 'LTT3': ['/Users/alexandrafink/Documents/GraduateSchool/SaezLab/SWB/ephys_analysis/data/DA11/raw_nlx/LTT3_0007.ncs',\n",
       "  '/Users/alexandrafink/Documents/GraduateSchool/SaezLab/SWB/ephys_analysis/data/DA11/raw_nlx/LTT3_0005.ncs'],\n",
       " 'LTT2': ['/Users/alexandrafink/Documents/GraduateSchool/SaezLab/SWB/ephys_analysis/data/DA11/raw_nlx/LTT2_0007.ncs',\n",
       "  '/Users/alexandrafink/Documents/GraduateSchool/SaezLab/SWB/ephys_analysis/data/DA11/raw_nlx/LTT2_0005.ncs'],\n",
       " 'RFP1': ['/Users/alexandrafink/Documents/GraduateSchool/SaezLab/SWB/ephys_analysis/data/DA11/raw_nlx/RFP1_0005.ncs',\n",
       "  '/Users/alexandrafink/Documents/GraduateSchool/SaezLab/SWB/ephys_analysis/data/DA11/raw_nlx/RFP1_0007.ncs',\n",
       "  '/Users/alexandrafink/Documents/GraduateSchool/SaezLab/SWB/ephys_analysis/data/DA11/raw_nlx/RFP1_0006.ncs'],\n",
       " 'RHB9': ['/Users/alexandrafink/Documents/GraduateSchool/SaezLab/SWB/ephys_analysis/data/DA11/raw_nlx/RHB9_0006.ncs',\n",
       "  '/Users/alexandrafink/Documents/GraduateSchool/SaezLab/SWB/ephys_analysis/data/DA11/raw_nlx/RHB9_0007.ncs',\n",
       "  '/Users/alexandrafink/Documents/GraduateSchool/SaezLab/SWB/ephys_analysis/data/DA11/raw_nlx/RHB9_0005.ncs'],\n",
       " 'RHB8': ['/Users/alexandrafink/Documents/GraduateSchool/SaezLab/SWB/ephys_analysis/data/DA11/raw_nlx/RHB8_0006.ncs',\n",
       "  '/Users/alexandrafink/Documents/GraduateSchool/SaezLab/SWB/ephys_analysis/data/DA11/raw_nlx/RHB8_0007.ncs',\n",
       "  '/Users/alexandrafink/Documents/GraduateSchool/SaezLab/SWB/ephys_analysis/data/DA11/raw_nlx/RHB8_0005.ncs'],\n",
       " 'RSM1': ['/Users/alexandrafink/Documents/GraduateSchool/SaezLab/SWB/ephys_analysis/data/DA11/raw_nlx/RSM1_0006.ncs',\n",
       "  '/Users/alexandrafink/Documents/GraduateSchool/SaezLab/SWB/ephys_analysis/data/DA11/raw_nlx/RSM1_0007.ncs'],\n",
       " 'RHB2': ['/Users/alexandrafink/Documents/GraduateSchool/SaezLab/SWB/ephys_analysis/data/DA11/raw_nlx/RHB2_0005.ncs',\n",
       "  '/Users/alexandrafink/Documents/GraduateSchool/SaezLab/SWB/ephys_analysis/data/DA11/raw_nlx/RHB2_0006.ncs',\n",
       "  '/Users/alexandrafink/Documents/GraduateSchool/SaezLab/SWB/ephys_analysis/data/DA11/raw_nlx/RHB2_0007.ncs'],\n",
       " 'RHB3': ['/Users/alexandrafink/Documents/GraduateSchool/SaezLab/SWB/ephys_analysis/data/DA11/raw_nlx/RHB3_0005.ncs',\n",
       "  '/Users/alexandrafink/Documents/GraduateSchool/SaezLab/SWB/ephys_analysis/data/DA11/raw_nlx/RHB3_0006.ncs',\n",
       "  '/Users/alexandrafink/Documents/GraduateSchool/SaezLab/SWB/ephys_analysis/data/DA11/raw_nlx/RHB3_0007.ncs'],\n",
       " 'RAM2': ['/Users/alexandrafink/Documents/GraduateSchool/SaezLab/SWB/ephys_analysis/data/DA11/raw_nlx/RAM2_0007.ncs',\n",
       "  '/Users/alexandrafink/Documents/GraduateSchool/SaezLab/SWB/ephys_analysis/data/DA11/raw_nlx/RAM2_0005.ncs'],\n",
       " 'RAM3': ['/Users/alexandrafink/Documents/GraduateSchool/SaezLab/SWB/ephys_analysis/data/DA11/raw_nlx/RAM3_0007.ncs',\n",
       "  '/Users/alexandrafink/Documents/GraduateSchool/SaezLab/SWB/ephys_analysis/data/DA11/raw_nlx/RAM3_0005.ncs'],\n",
       " 'LHH6': ['/Users/alexandrafink/Documents/GraduateSchool/SaezLab/SWB/ephys_analysis/data/DA11/raw_nlx/LHH6_0007.ncs',\n",
       "  '/Users/alexandrafink/Documents/GraduateSchool/SaezLab/SWB/ephys_analysis/data/DA11/raw_nlx/LHH6_0005.ncs'],\n",
       " 'LHH7': ['/Users/alexandrafink/Documents/GraduateSchool/SaezLab/SWB/ephys_analysis/data/DA11/raw_nlx/LHH7_0007.ncs',\n",
       "  '/Users/alexandrafink/Documents/GraduateSchool/SaezLab/SWB/ephys_analysis/data/DA11/raw_nlx/LHH7_0005.ncs'],\n",
       " 'RHH4': ['/Users/alexandrafink/Documents/GraduateSchool/SaezLab/SWB/ephys_analysis/data/DA11/raw_nlx/RHH4_0007.ncs',\n",
       "  '/Users/alexandrafink/Documents/GraduateSchool/SaezLab/SWB/ephys_analysis/data/DA11/raw_nlx/RHH4_0006.ncs'],\n",
       " 'RHH5': ['/Users/alexandrafink/Documents/GraduateSchool/SaezLab/SWB/ephys_analysis/data/DA11/raw_nlx/RHH5_0007.ncs',\n",
       "  '/Users/alexandrafink/Documents/GraduateSchool/SaezLab/SWB/ephys_analysis/data/DA11/raw_nlx/RHH5_0006.ncs'],\n",
       " 'LAM1': ['/Users/alexandrafink/Documents/GraduateSchool/SaezLab/SWB/ephys_analysis/data/DA11/raw_nlx/LAM1_0007.ncs',\n",
       "  '/Users/alexandrafink/Documents/GraduateSchool/SaezLab/SWB/ephys_analysis/data/DA11/raw_nlx/LAM1_0005.ncs'],\n",
       " 'RIP7': ['/Users/alexandrafink/Documents/GraduateSchool/SaezLab/SWB/ephys_analysis/data/DA11/raw_nlx/RIP7_0006.ncs',\n",
       "  '/Users/alexandrafink/Documents/GraduateSchool/SaezLab/SWB/ephys_analysis/data/DA11/raw_nlx/RIP7_0007.ncs'],\n",
       " 'RIP6': ['/Users/alexandrafink/Documents/GraduateSchool/SaezLab/SWB/ephys_analysis/data/DA11/raw_nlx/RIP6_0006.ncs',\n",
       "  '/Users/alexandrafink/Documents/GraduateSchool/SaezLab/SWB/ephys_analysis/data/DA11/raw_nlx/RIP6_0007.ncs'],\n",
       " 'LHB1': ['/Users/alexandrafink/Documents/GraduateSchool/SaezLab/SWB/ephys_analysis/data/DA11/raw_nlx/LHB1_0005.ncs',\n",
       "  '/Users/alexandrafink/Documents/GraduateSchool/SaezLab/SWB/ephys_analysis/data/DA11/raw_nlx/LHB1_0007.ncs'],\n",
       " 'RAC7': ['/Users/alexandrafink/Documents/GraduateSchool/SaezLab/SWB/ephys_analysis/data/DA11/raw_nlx/RAC7_0007.ncs',\n",
       "  '/Users/alexandrafink/Documents/GraduateSchool/SaezLab/SWB/ephys_analysis/data/DA11/raw_nlx/RAC7_0005.ncs'],\n",
       " 'RAC6': ['/Users/alexandrafink/Documents/GraduateSchool/SaezLab/SWB/ephys_analysis/data/DA11/raw_nlx/RAC6_0007.ncs',\n",
       "  '/Users/alexandrafink/Documents/GraduateSchool/SaezLab/SWB/ephys_analysis/data/DA11/raw_nlx/RAC6_0005.ncs'],\n",
       " 'RAM8': ['/Users/alexandrafink/Documents/GraduateSchool/SaezLab/SWB/ephys_analysis/data/DA11/raw_nlx/RAM8_0005.ncs',\n",
       "  '/Users/alexandrafink/Documents/GraduateSchool/SaezLab/SWB/ephys_analysis/data/DA11/raw_nlx/RAM8_0007.ncs'],\n",
       " 'RAM9': ['/Users/alexandrafink/Documents/GraduateSchool/SaezLab/SWB/ephys_analysis/data/DA11/raw_nlx/RAM9_0005.ncs',\n",
       "  '/Users/alexandrafink/Documents/GraduateSchool/SaezLab/SWB/ephys_analysis/data/DA11/raw_nlx/RAM9_0007.ncs'],\n",
       " 'RIA4': ['/Users/alexandrafink/Documents/GraduateSchool/SaezLab/SWB/ephys_analysis/data/DA11/raw_nlx/RIA4_0007.ncs',\n",
       "  '/Users/alexandrafink/Documents/GraduateSchool/SaezLab/SWB/ephys_analysis/data/DA11/raw_nlx/RIA4_0006.ncs'],\n",
       " 'RIA5': ['/Users/alexandrafink/Documents/GraduateSchool/SaezLab/SWB/ephys_analysis/data/DA11/raw_nlx/RIA5_0007.ncs',\n",
       "  '/Users/alexandrafink/Documents/GraduateSchool/SaezLab/SWB/ephys_analysis/data/DA11/raw_nlx/RIA5_0006.ncs'],\n",
       " 'RHH3': ['/Users/alexandrafink/Documents/GraduateSchool/SaezLab/SWB/ephys_analysis/data/DA11/raw_nlx/RHH3_0007.ncs',\n",
       "  '/Users/alexandrafink/Documents/GraduateSchool/SaezLab/SWB/ephys_analysis/data/DA11/raw_nlx/RHH3_0006.ncs'],\n",
       " 'RHH2': ['/Users/alexandrafink/Documents/GraduateSchool/SaezLab/SWB/ephys_analysis/data/DA11/raw_nlx/RHH2_0007.ncs',\n",
       "  '/Users/alexandrafink/Documents/GraduateSchool/SaezLab/SWB/ephys_analysis/data/DA11/raw_nlx/RHH2_0006.ncs'],\n",
       " 'RIA9': ['/Users/alexandrafink/Documents/GraduateSchool/SaezLab/SWB/ephys_analysis/data/DA11/raw_nlx/RIA9_0007.ncs',\n",
       "  '/Users/alexandrafink/Documents/GraduateSchool/SaezLab/SWB/ephys_analysis/data/DA11/raw_nlx/RIA9_0006.ncs'],\n",
       " 'LAM7': ['/Users/alexandrafink/Documents/GraduateSchool/SaezLab/SWB/ephys_analysis/data/DA11/raw_nlx/LAM7_0007.ncs',\n",
       "  '/Users/alexandrafink/Documents/GraduateSchool/SaezLab/SWB/ephys_analysis/data/DA11/raw_nlx/LAM7_0005.ncs'],\n",
       " 'RIA8': ['/Users/alexandrafink/Documents/GraduateSchool/SaezLab/SWB/ephys_analysis/data/DA11/raw_nlx/RIA8_0007.ncs',\n",
       "  '/Users/alexandrafink/Documents/GraduateSchool/SaezLab/SWB/ephys_analysis/data/DA11/raw_nlx/RIA8_0006.ncs'],\n",
       " 'LAM6': ['/Users/alexandrafink/Documents/GraduateSchool/SaezLab/SWB/ephys_analysis/data/DA11/raw_nlx/LAM6_0007.ncs',\n",
       "  '/Users/alexandrafink/Documents/GraduateSchool/SaezLab/SWB/ephys_analysis/data/DA11/raw_nlx/LAM6_0005.ncs'],\n",
       " 'LHB7': ['/Users/alexandrafink/Documents/GraduateSchool/SaezLab/SWB/ephys_analysis/data/DA11/raw_nlx/LHB7_0005.ncs',\n",
       "  '/Users/alexandrafink/Documents/GraduateSchool/SaezLab/SWB/ephys_analysis/data/DA11/raw_nlx/LHB7_0007.ncs'],\n",
       " 'LHB6': ['/Users/alexandrafink/Documents/GraduateSchool/SaezLab/SWB/ephys_analysis/data/DA11/raw_nlx/LHB6_0005.ncs',\n",
       "  '/Users/alexandrafink/Documents/GraduateSchool/SaezLab/SWB/ephys_analysis/data/DA11/raw_nlx/LHB6_0007.ncs'],\n",
       " 'RIP1': ['/Users/alexandrafink/Documents/GraduateSchool/SaezLab/SWB/ephys_analysis/data/DA11/raw_nlx/RIP1_0006.ncs',\n",
       "  '/Users/alexandrafink/Documents/GraduateSchool/SaezLab/SWB/ephys_analysis/data/DA11/raw_nlx/RIP1_0007.ncs'],\n",
       " 'RSM6': ['/Users/alexandrafink/Documents/GraduateSchool/SaezLab/SWB/ephys_analysis/data/DA11/raw_nlx/RSM6_0006.ncs',\n",
       "  '/Users/alexandrafink/Documents/GraduateSchool/SaezLab/SWB/ephys_analysis/data/DA11/raw_nlx/RSM6_0007.ncs'],\n",
       " 'RHB5': ['/Users/alexandrafink/Documents/GraduateSchool/SaezLab/SWB/ephys_analysis/data/DA11/raw_nlx/RHB5_0005.ncs',\n",
       "  '/Users/alexandrafink/Documents/GraduateSchool/SaezLab/SWB/ephys_analysis/data/DA11/raw_nlx/RHB5_0006.ncs',\n",
       "  '/Users/alexandrafink/Documents/GraduateSchool/SaezLab/SWB/ephys_analysis/data/DA11/raw_nlx/RHB5_0007.ncs'],\n",
       " 'RHB4': ['/Users/alexandrafink/Documents/GraduateSchool/SaezLab/SWB/ephys_analysis/data/DA11/raw_nlx/RHB4_0005.ncs',\n",
       "  '/Users/alexandrafink/Documents/GraduateSchool/SaezLab/SWB/ephys_analysis/data/DA11/raw_nlx/RHB4_0006.ncs',\n",
       "  '/Users/alexandrafink/Documents/GraduateSchool/SaezLab/SWB/ephys_analysis/data/DA11/raw_nlx/RHB4_0007.ncs'],\n",
       " 'RAM5': ['/Users/alexandrafink/Documents/GraduateSchool/SaezLab/SWB/ephys_analysis/data/DA11/raw_nlx/RAM5_0007.ncs',\n",
       "  '/Users/alexandrafink/Documents/GraduateSchool/SaezLab/SWB/ephys_analysis/data/DA11/raw_nlx/RAM5_0005.ncs'],\n",
       " 'RAM4': ['/Users/alexandrafink/Documents/GraduateSchool/SaezLab/SWB/ephys_analysis/data/DA11/raw_nlx/RAM4_0007.ncs',\n",
       "  '/Users/alexandrafink/Documents/GraduateSchool/SaezLab/SWB/ephys_analysis/data/DA11/raw_nlx/RAM4_0005.ncs'],\n",
       " 'LHH1': ['/Users/alexandrafink/Documents/GraduateSchool/SaezLab/SWB/ephys_analysis/data/DA11/raw_nlx/LHH1_0007.ncs',\n",
       "  '/Users/alexandrafink/Documents/GraduateSchool/SaezLab/SWB/ephys_analysis/data/DA11/raw_nlx/LHH1_0005.ncs'],\n",
       " 'RAC10': ['/Users/alexandrafink/Documents/GraduateSchool/SaezLab/SWB/ephys_analysis/data/DA11/raw_nlx/RAC10_0007.ncs',\n",
       "  '/Users/alexandrafink/Documents/GraduateSchool/SaezLab/SWB/ephys_analysis/data/DA11/raw_nlx/RAC10_0005.ncs'],\n",
       " 'RAC1': ['/Users/alexandrafink/Documents/GraduateSchool/SaezLab/SWB/ephys_analysis/data/DA11/raw_nlx/RAC1_0007.ncs',\n",
       "  '/Users/alexandrafink/Documents/GraduateSchool/SaezLab/SWB/ephys_analysis/data/DA11/raw_nlx/RAC1_0005.ncs'],\n",
       " 'RIA3': ['/Users/alexandrafink/Documents/GraduateSchool/SaezLab/SWB/ephys_analysis/data/DA11/raw_nlx/RIA3_0007.ncs',\n",
       "  '/Users/alexandrafink/Documents/GraduateSchool/SaezLab/SWB/ephys_analysis/data/DA11/raw_nlx/RIA3_0006.ncs'],\n",
       " 'RIA2': ['/Users/alexandrafink/Documents/GraduateSchool/SaezLab/SWB/ephys_analysis/data/DA11/raw_nlx/RIA2_0007.ncs',\n",
       "  '/Users/alexandrafink/Documents/GraduateSchool/SaezLab/SWB/ephys_analysis/data/DA11/raw_nlx/RIA2_0006.ncs'],\n",
       " 'RHH9': ['/Users/alexandrafink/Documents/GraduateSchool/SaezLab/SWB/ephys_analysis/data/DA11/raw_nlx/RHH9_0007.ncs',\n",
       "  '/Users/alexandrafink/Documents/GraduateSchool/SaezLab/SWB/ephys_analysis/data/DA11/raw_nlx/RHH9_0006.ncs'],\n",
       " 'RHH8': ['/Users/alexandrafink/Documents/GraduateSchool/SaezLab/SWB/ephys_analysis/data/DA11/raw_nlx/RHH8_0007.ncs',\n",
       "  '/Users/alexandrafink/Documents/GraduateSchool/SaezLab/SWB/ephys_analysis/data/DA11/raw_nlx/RHH8_0006.ncs'],\n",
       " 'RTT7': ['/Users/alexandrafink/Documents/GraduateSchool/SaezLab/SWB/ephys_analysis/data/DA11/raw_nlx/RTT7_0006.ncs',\n",
       "  '/Users/alexandrafink/Documents/GraduateSchool/SaezLab/SWB/ephys_analysis/data/DA11/raw_nlx/RTT7_0007.ncs'],\n",
       " 'RTT6': ['/Users/alexandrafink/Documents/GraduateSchool/SaezLab/SWB/ephys_analysis/data/DA11/raw_nlx/RTT6_0006.ncs',\n",
       "  '/Users/alexandrafink/Documents/GraduateSchool/SaezLab/SWB/ephys_analysis/data/DA11/raw_nlx/RTT6_0007.ncs'],\n",
       " 'LTT4': ['/Users/alexandrafink/Documents/GraduateSchool/SaezLab/SWB/ephys_analysis/data/DA11/raw_nlx/LTT4_0007.ncs',\n",
       "  '/Users/alexandrafink/Documents/GraduateSchool/SaezLab/SWB/ephys_analysis/data/DA11/raw_nlx/LTT4_0005.ncs'],\n",
       " 'LTT5': ['/Users/alexandrafink/Documents/GraduateSchool/SaezLab/SWB/ephys_analysis/data/DA11/raw_nlx/LTT5_0007.ncs',\n",
       "  '/Users/alexandrafink/Documents/GraduateSchool/SaezLab/SWB/ephys_analysis/data/DA11/raw_nlx/LTT5_0005.ncs'],\n",
       " 'RFP7': ['/Users/alexandrafink/Documents/GraduateSchool/SaezLab/SWB/ephys_analysis/data/DA11/raw_nlx/RFP7_0005.ncs',\n",
       "  '/Users/alexandrafink/Documents/GraduateSchool/SaezLab/SWB/ephys_analysis/data/DA11/raw_nlx/RFP7_0007.ncs',\n",
       "  '/Users/alexandrafink/Documents/GraduateSchool/SaezLab/SWB/ephys_analysis/data/DA11/raw_nlx/RFP7_0006.ncs'],\n",
       " 'RFP6': ['/Users/alexandrafink/Documents/GraduateSchool/SaezLab/SWB/ephys_analysis/data/DA11/raw_nlx/RFP6_0005.ncs',\n",
       "  '/Users/alexandrafink/Documents/GraduateSchool/SaezLab/SWB/ephys_analysis/data/DA11/raw_nlx/RFP6_0007.ncs',\n",
       "  '/Users/alexandrafink/Documents/GraduateSchool/SaezLab/SWB/ephys_analysis/data/DA11/raw_nlx/RFP6_0006.ncs']}"
      ]
     },
     "execution_count": 19,
     "metadata": {},
     "output_type": "execute_result"
    }
   ],
   "source": [
    "ch_file_dict = {} #dictionary mapping electrode name to the its 2 corresponding data files \n",
    "\n",
    "for ch in ch_names:\n",
    "    ch_files = [f for f in ncs_files if ch == f.split('/')[-1].replace('.ncs','').split('_')[0]] #was saving ch 10 with ch 1 before\n",
    "    ch_file_dict[ch]=ch_files\n",
    "    \n",
    "ch_file_dict"
   ]
  },
  {
   "cell_type": "code",
   "execution_count": 20,
   "id": "2a0dbaea",
   "metadata": {},
   "outputs": [],
   "source": [
    "ch_file_counts = {}\n",
    "\n",
    "for ch in ch_file_dict:\n",
    "    ch_file_counts[ch] = len(ch_file_dict[ch])"
   ]
  },
  {
   "cell_type": "code",
   "execution_count": 21,
   "id": "6f5400db",
   "metadata": {},
   "outputs": [
    {
     "data": {
      "text/plain": [
       "{'RIA7': 2,\n",
       " 'LAM9': 2,\n",
       " 'RIA6': 2,\n",
       " 'LAM8': 2,\n",
       " 'LHB9': 2,\n",
       " 'LHB8': 2,\n",
       " 'RAC4': 2,\n",
       " 'RAC5': 2,\n",
       " 'RHB1': 3,\n",
       " 'LHB3': 2,\n",
       " 'LHB2': 2,\n",
       " 'LAM3': 2,\n",
       " 'LAM2': 2,\n",
       " 'RAM1': 2,\n",
       " 'LHH5': 2,\n",
       " 'LHH4': 2,\n",
       " 'RSM2': 2,\n",
       " 'RSM3': 2,\n",
       " 'RIP4': 2,\n",
       " 'RIP5': 2,\n",
       " 'RHH7': 2,\n",
       " 'RHH6': 2,\n",
       " 'RTT9': 2,\n",
       " 'RTT8': 2,\n",
       " 'LTT1': 2,\n",
       " 'RTT10': 2,\n",
       " 'RFP3': 3,\n",
       " 'RFP2': 3,\n",
       " 'RIA10': 2,\n",
       " 'RFP9': 3,\n",
       " 'RFP8': 3,\n",
       " 'RTT3': 2,\n",
       " 'RTT2': 2,\n",
       " 'LTT7': 2,\n",
       " 'LTT6': 2,\n",
       " 'Photodiode': 2,\n",
       " 'RFP4': 3,\n",
       " 'RFP5': 3,\n",
       " 'RTT4': 2,\n",
       " 'RTT5': 2,\n",
       " 'LHH8': 2,\n",
       " 'LHH9': 2,\n",
       " 'RIA1': 2,\n",
       " 'RIP9': 2,\n",
       " 'RIP8': 2,\n",
       " 'RAC3': 2,\n",
       " 'RHB7': 3,\n",
       " 'RHB6': 3,\n",
       " 'RAC2': 2,\n",
       " 'RAM6': 2,\n",
       " 'RAM7': 2,\n",
       " 'LHH2': 2,\n",
       " 'LHH3': 2,\n",
       " 'LHB4': 2,\n",
       " 'LHB5': 2,\n",
       " 'LAM4': 2,\n",
       " 'LAM5': 2,\n",
       " 'RAC9': 2,\n",
       " 'RAC8': 2,\n",
       " 'RIP3': 2,\n",
       " 'RIP2': 2,\n",
       " 'RHH1': 2,\n",
       " 'RIP10': 2,\n",
       " 'RSM5': 2,\n",
       " 'RSM4': 2,\n",
       " 'LTT9': 2,\n",
       " 'LTT8': 2,\n",
       " 'RTT1': 2,\n",
       " 'LTT3': 2,\n",
       " 'LTT2': 2,\n",
       " 'RFP1': 3,\n",
       " 'RHB9': 3,\n",
       " 'RHB8': 3,\n",
       " 'RSM1': 2,\n",
       " 'RHB2': 3,\n",
       " 'RHB3': 3,\n",
       " 'RAM2': 2,\n",
       " 'RAM3': 2,\n",
       " 'LHH6': 2,\n",
       " 'LHH7': 2,\n",
       " 'RHH4': 2,\n",
       " 'RHH5': 2,\n",
       " 'LAM1': 2,\n",
       " 'RIP7': 2,\n",
       " 'RIP6': 2,\n",
       " 'LHB1': 2,\n",
       " 'RAC7': 2,\n",
       " 'RAC6': 2,\n",
       " 'RAM8': 2,\n",
       " 'RAM9': 2,\n",
       " 'RIA4': 2,\n",
       " 'RIA5': 2,\n",
       " 'RHH3': 2,\n",
       " 'RHH2': 2,\n",
       " 'RIA9': 2,\n",
       " 'LAM7': 2,\n",
       " 'RIA8': 2,\n",
       " 'LAM6': 2,\n",
       " 'LHB7': 2,\n",
       " 'LHB6': 2,\n",
       " 'RIP1': 2,\n",
       " 'RSM6': 2,\n",
       " 'RHB5': 3,\n",
       " 'RHB4': 3,\n",
       " 'RAM5': 2,\n",
       " 'RAM4': 2,\n",
       " 'LHH1': 2,\n",
       " 'RAC10': 2,\n",
       " 'RAC1': 2,\n",
       " 'RIA3': 2,\n",
       " 'RIA2': 2,\n",
       " 'RHH9': 2,\n",
       " 'RHH8': 2,\n",
       " 'RTT7': 2,\n",
       " 'RTT6': 2,\n",
       " 'LTT4': 2,\n",
       " 'LTT5': 2,\n",
       " 'RFP7': 3,\n",
       " 'RFP6': 3}"
      ]
     },
     "execution_count": 21,
     "metadata": {},
     "output_type": "execute_result"
    }
   ],
   "source": [
    "ch_file_counts"
   ]
  },
  {
   "cell_type": "code",
   "execution_count": null,
   "id": "59ecc6c0",
   "metadata": {},
   "outputs": [],
   "source": []
  },
  {
   "cell_type": "code",
   "execution_count": 9,
   "id": "9b3b76d3",
   "metadata": {},
   "outputs": [
    {
     "data": {
      "text/plain": [
       "['/Users/alexandrafink/Documents/GraduateSchool/SaezLab/SWB/ephys_analysis/data/DA11/raw_nlx/RFP9_0005.ncs',\n",
       " '/Users/alexandrafink/Documents/GraduateSchool/SaezLab/SWB/ephys_analysis/data/DA11/raw_nlx/RFP9_0007.ncs',\n",
       " '/Users/alexandrafink/Documents/GraduateSchool/SaezLab/SWB/ephys_analysis/data/DA11/raw_nlx/RFP9_0006.ncs']"
      ]
     },
     "execution_count": 9,
     "metadata": {},
     "output_type": "execute_result"
    }
   ],
   "source": [
    "files = [f for f in ncs_files if 'RFP9' in f]\n",
    "files"
   ]
  },
  {
   "cell_type": "code",
   "execution_count": 10,
   "id": "653b8c8e",
   "metadata": {},
   "outputs": [],
   "source": [
    "file1 = nlx_utils.load_ncs(files[0]) \n",
    "file2 = nlx_utils.load_ncs(files[1]) \n",
    "file3 = nlx_utils.load_ncs(files[2]) \n",
    " "
   ]
  },
  {
   "cell_type": "code",
   "execution_count": 11,
   "id": "3a20e688",
   "metadata": {},
   "outputs": [
    {
     "data": {
      "text/plain": [
       "{'file_path': '/Users/alexandrafink/Documents/GraduateSchool/SaezLab/SWB/ephys_analysis/data/DA11/raw_nlx/RFP9_0005.ncs',\n",
       " 'raw_header': b'######## Neuralynx Data File Header\\r\\n-FileType NCS\\r\\n-FileVersion 3.4\\r\\n-FileUUID 5df36647-2ad8-45b8-803a-dbe3b2628a2d\\r\\n-SessionUUID 0c890e78-dcfb-4649-be9b-bcb0997c5f0c\\r\\n-ProbeName \\r\\n-OriginalFileName \"D:\\\\PegasusData\\\\DA11\\\\2021-06-18_17-01-21\\\\RFP9_0005.ncs\"\\r\\n-TimeCreated 2021/06/19 08:58:31\\r\\n-TimeClosed 2021/06/19 09:14:00\\r\\n\\r\\n-RecordSize 1044\\r\\n-ApplicationName Pegasus \"2.2.0 \"\\r\\n-AcquisitionSystem AcqSystem1 ATLAS\\r\\n-ReferenceChannel \"AD Channel 0081\"\\r\\n-SamplingFrequency 4000\\r\\n-ADMaxValue 32767\\r\\n-ADBitVolts 0.000000030517578125000001\\r\\n-AcqEntName RFP9\\r\\n-NumADChannels 1\\r\\n-ADChannel 45\\r\\n-InputRange 1000\\r\\n-InputInverted True\\r\\n\\r\\n-DSPLowCutFilterEnabled True\\r\\n-DspLowCutFrequency 0.1\\r\\n-DspLowCutNumTaps 0\\r\\n-DspLowCutFilterType DCO\\r\\n-DSPHighCutFilterEnabled True\\r\\n-DspHighCutFrequency 1000\\r\\n-DspHighCutNumTaps 256\\r\\n-DspHighCutFilterType FIR\\r\\n-DspDelayCompensation Enabled\\r\\n-DspFilterDelay_\\xb5s 3984\\r\\n',\n",
       " 'header': {'TimeOpened': 'leVersion 3.4',\n",
       "  'TimeOpened_dt': None,\n",
       "  'TimeClosed': 'leUUID 5df36647-2ad8-45b8-803a-dbe3b2628a2d',\n",
       "  'TimeClosed_dt': None,\n",
       "  'SessionUUID': '0c890e78-dcfb-4649-be9b-bcb0997c5f0c'},\n",
       " 'data': array([ 6100,  6654,  7311, ..., -3080, -4215, -4629], dtype=int16),\n",
       " 'data_units': 'ADC counts',\n",
       " 'sampling_rate': 4000,\n",
       " 'channel_number': 45,\n",
       " 'timestamp': array([1624093285607138, 1624093285735138, 1624093285863138, ...,\n",
       "        1624094045926833, 1624094046054833, 1624094046182833], dtype=uint64),\n",
       " 'time': array([1624093285607138, 1624093285607388, 1624093285607638, ...,\n",
       "        1624094046182833, 1624094046182833, 1624094046182833], dtype=uint64),\n",
       " 'time_units': 'µs'}"
      ]
     },
     "execution_count": 11,
     "metadata": {},
     "output_type": "execute_result"
    }
   ],
   "source": [
    "file1"
   ]
  },
  {
   "cell_type": "code",
   "execution_count": 12,
   "id": "4a5a0f0b",
   "metadata": {},
   "outputs": [
    {
     "data": {
      "text/plain": [
       "{'file_path': '/Users/alexandrafink/Documents/GraduateSchool/SaezLab/SWB/ephys_analysis/data/DA11/raw_nlx/RFP9_0007.ncs',\n",
       " 'raw_header': b'######## Neuralynx Data File Header\\r\\n-FileType NCS\\r\\n-FileVersion 3.4\\r\\n-FileUUID 1097cf78-ad57-4935-88bc-7cd752630541\\r\\n-SessionUUID 0c890e78-dcfb-4649-be9b-bcb0997c5f0c\\r\\n-ProbeName \\r\\n-OriginalFileName \"D:\\\\PegasusData\\\\DA11\\\\2021-06-18_17-01-21\\\\RFP9_0007.ncs\"\\r\\n-TimeCreated 2021/06/19 10:04:17\\r\\n-TimeClosed 2021/06/19 10:38:52\\r\\n\\r\\n-RecordSize 1044\\r\\n-ApplicationName Pegasus \"2.2.0 \"\\r\\n-AcquisitionSystem AcqSystem1 ATLAS\\r\\n-ReferenceChannel \"AD Channel 0081\"\\r\\n-SamplingFrequency 4000\\r\\n-ADMaxValue 32767\\r\\n-ADBitVolts 0.000000030517578125000001\\r\\n-AcqEntName RFP9\\r\\n-NumADChannels 1\\r\\n-ADChannel 45\\r\\n-InputRange 1000\\r\\n-InputInverted True\\r\\n\\r\\n-DSPLowCutFilterEnabled True\\r\\n-DspLowCutFrequency 0.1\\r\\n-DspLowCutNumTaps 0\\r\\n-DspLowCutFilterType DCO\\r\\n-DSPHighCutFilterEnabled True\\r\\n-DspHighCutFrequency 1000\\r\\n-DspHighCutNumTaps 256\\r\\n-DspHighCutFilterType FIR\\r\\n-DspDelayCompensation Enabled\\r\\n-DspFilterDelay_\\xb5s 3984\\r\\n',\n",
       " 'header': {'TimeOpened': 'leVersion 3.4',\n",
       "  'TimeOpened_dt': None,\n",
       "  'TimeClosed': 'leUUID 1097cf78-ad57-4935-88bc-7cd752630541',\n",
       "  'TimeClosed_dt': None,\n",
       "  'SessionUUID': '0c890e78-dcfb-4649-be9b-bcb0997c5f0c'},\n",
       " 'data': array([-13703, -12766, -13827, ...,  23197,  27807,  31500], dtype=int16),\n",
       " 'data_units': 'ADC counts',\n",
       " 'sampling_rate': 4000,\n",
       " 'channel_number': 45,\n",
       " 'timestamp': array([1624097575852166, 1624097575980166, 1624097576108166, ...,\n",
       "        1624099138859538, 1624099138987538, 1624099139115538], dtype=uint64),\n",
       " 'time': array([1624097575852166, 1624097575852416, 1624097575852666, ...,\n",
       "        1624099139115538, 1624099139115538, 1624099139115538], dtype=uint64),\n",
       " 'time_units': 'µs'}"
      ]
     },
     "execution_count": 12,
     "metadata": {},
     "output_type": "execute_result"
    }
   ],
   "source": [
    "file2"
   ]
  },
  {
   "cell_type": "code",
   "execution_count": 13,
   "id": "dc053c26",
   "metadata": {},
   "outputs": [
    {
     "data": {
      "text/plain": [
       "{'file_path': '/Users/alexandrafink/Documents/GraduateSchool/SaezLab/SWB/ephys_analysis/data/DA11/raw_nlx/RFP9_0006.ncs',\n",
       " 'raw_header': b'######## Neuralynx Data File Header\\r\\n-FileType NCS\\r\\n-FileVersion 3.4\\r\\n-FileUUID 163bfef3-17cc-43b7-aea0-b9677ac20158\\r\\n-SessionUUID 0c890e78-dcfb-4649-be9b-bcb0997c5f0c\\r\\n-ProbeName \\r\\n-OriginalFileName \"D:\\\\PegasusData\\\\DA11\\\\2021-06-18_17-01-21\\\\RFP9_0006.ncs\"\\r\\n-TimeCreated 2021/06/19 09:14:00\\r\\n-TimeClosed 2021/06/19 10:04:17\\r\\n\\r\\n-RecordSize 1044\\r\\n-ApplicationName Pegasus \"2.2.0 \"\\r\\n-AcquisitionSystem AcqSystem1 ATLAS\\r\\n-ReferenceChannel \"AD Channel 0081\"\\r\\n-SamplingFrequency 4000\\r\\n-ADMaxValue 32767\\r\\n-ADBitVolts 0.000000030517578125000001\\r\\n-AcqEntName RFP9\\r\\n-NumADChannels 1\\r\\n-ADChannel 45\\r\\n-InputRange 1000\\r\\n-InputInverted True\\r\\n\\r\\n-DSPLowCutFilterEnabled True\\r\\n-DspLowCutFrequency 0.1\\r\\n-DspLowCutNumTaps 0\\r\\n-DspLowCutFilterType DCO\\r\\n-DSPHighCutFilterEnabled True\\r\\n-DspHighCutFrequency 1000\\r\\n-DspHighCutNumTaps 256\\r\\n-DspHighCutFilterType FIR\\r\\n-DspDelayCompensation Enabled\\r\\n-DspFilterDelay_\\xb5s 3984\\r\\n',\n",
       " 'header': {'TimeOpened': 'leVersion 3.4',\n",
       "  'TimeOpened_dt': None,\n",
       "  'TimeClosed': 'leUUID 163bfef3-17cc-43b7-aea0-b9677ac20158',\n",
       "  'TimeClosed_dt': None,\n",
       "  'SessionUUID': '0c890e78-dcfb-4649-be9b-bcb0997c5f0c'},\n",
       " 'data': array([-4945, -4817, -5099, ...,  2299,  2264,   947], dtype=int16),\n",
       " 'data_units': 'ADC counts',\n",
       " 'sampling_rate': 4000,\n",
       " 'channel_number': 45,\n",
       " 'timestamp': array([1624094168212534, 1624094168340534, 1624094168468534, ...,\n",
       "        1624097063187371, 1624097063315371, 1624097063443371], dtype=uint64),\n",
       " 'time': array([1624094168212534, 1624094168212784, 1624094168213034, ...,\n",
       "        1624097063443371, 1624097063443371, 1624097063443371], dtype=uint64),\n",
       " 'time_units': 'µs'}"
      ]
     },
     "execution_count": 13,
     "metadata": {},
     "output_type": "execute_result"
    }
   ],
   "source": [
    "file3"
   ]
  },
  {
   "cell_type": "code",
   "execution_count": 14,
   "id": "aface3a9",
   "metadata": {},
   "outputs": [
    {
     "data": {
      "text/plain": [
       "(array([0]),)"
      ]
     },
     "execution_count": 14,
     "metadata": {},
     "output_type": "execute_result"
    }
   ],
   "source": [
    "start_times = [file1['time'][0],file2['time'][0],file3['time'][0]]\n",
    "np.where(min(start_times))"
   ]
  },
  {
   "cell_type": "code",
   "execution_count": 15,
   "id": "952c7ec6",
   "metadata": {},
   "outputs": [],
   "source": [
    "remove_index = np.argmin(start_times)"
   ]
  },
  {
   "cell_type": "code",
   "execution_count": 16,
   "id": "bddae4ee",
   "metadata": {},
   "outputs": [
    {
     "data": {
      "text/plain": [
       "0"
      ]
     },
     "execution_count": 16,
     "metadata": {},
     "output_type": "execute_result"
    }
   ],
   "source": [
    "remove_index"
   ]
  },
  {
   "cell_type": "code",
   "execution_count": 22,
   "id": "0ba4554d",
   "metadata": {},
   "outputs": [
    {
     "data": {
      "text/plain": [
       "['/Users/alexandrafink/Documents/GraduateSchool/SaezLab/SWB/ephys_analysis/data/DA11/raw_nlx/RFP9_0005.ncs',\n",
       " '/Users/alexandrafink/Documents/GraduateSchool/SaezLab/SWB/ephys_analysis/data/DA11/raw_nlx/RFP9_0007.ncs',\n",
       " '/Users/alexandrafink/Documents/GraduateSchool/SaezLab/SWB/ephys_analysis/data/DA11/raw_nlx/RFP9_0006.ncs']"
      ]
     },
     "execution_count": 22,
     "metadata": {},
     "output_type": "execute_result"
    }
   ],
   "source": [
    "ch_file_dict['RFP9']"
   ]
  },
  {
   "cell_type": "code",
   "execution_count": 23,
   "id": "a585a4a0",
   "metadata": {},
   "outputs": [],
   "source": [
    "test = ch_file_dict['RFP9']"
   ]
  },
  {
   "cell_type": "code",
   "execution_count": 24,
   "id": "7972789d",
   "metadata": {},
   "outputs": [
    {
     "data": {
      "text/plain": [
       "['/Users/alexandrafink/Documents/GraduateSchool/SaezLab/SWB/ephys_analysis/data/DA11/raw_nlx/RFP9_0007.ncs',\n",
       " '/Users/alexandrafink/Documents/GraduateSchool/SaezLab/SWB/ephys_analysis/data/DA11/raw_nlx/RFP9_0006.ncs']"
      ]
     },
     "execution_count": 24,
     "metadata": {},
     "output_type": "execute_result"
    }
   ],
   "source": [
    "test.pop(remove_index)\n",
    "test"
   ]
  },
  {
   "cell_type": "code",
   "execution_count": null,
   "id": "81599163",
   "metadata": {},
   "outputs": [],
   "source": []
  },
  {
   "cell_type": "code",
   "execution_count": null,
   "id": "4a4e27cf",
   "metadata": {},
   "outputs": [],
   "source": []
  },
  {
   "cell_type": "code",
   "execution_count": null,
   "id": "14e45e4f",
   "metadata": {},
   "outputs": [],
   "source": []
  },
  {
   "cell_type": "code",
   "execution_count": null,
   "id": "88dff08e",
   "metadata": {},
   "outputs": [],
   "source": []
  }
 ],
 "metadata": {
  "kernelspec": {
   "display_name": "Python [conda env:LFPAnalysis]",
   "language": "python",
   "name": "conda-env-LFPAnalysis-py"
  },
  "language_info": {
   "codemirror_mode": {
    "name": "ipython",
    "version": 3
   },
   "file_extension": ".py",
   "mimetype": "text/x-python",
   "name": "python",
   "nbconvert_exporter": "python",
   "pygments_lexer": "ipython3",
   "version": "3.10.11"
  }
 },
 "nbformat": 4,
 "nbformat_minor": 5
}
