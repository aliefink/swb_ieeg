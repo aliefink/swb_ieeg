{
 "cells": [
  {
   "cell_type": "markdown",
   "metadata": {},
   "source": [
    "# MS025 Preprocess\n",
    "06/28/2023"
   ]
  },
  {
   "cell_type": "code",
   "execution_count": 27,
   "metadata": {},
   "outputs": [],
   "source": [
    "%matplotlib inline\n",
    "%reload_ext autoreload\n",
    "%autoreload 2"
   ]
  },
  {
   "cell_type": "code",
   "execution_count": 1,
   "metadata": {},
   "outputs": [
    {
     "name": "stderr",
     "output_type": "stream",
     "text": [
      "OMP: Info #276: omp_set_nested routine deprecated, please use omp_set_max_active_levels instead.\n"
     ]
    }
   ],
   "source": [
    "import numpy as np\n",
    "import mne\n",
    "from glob import glob\n",
    "import matplotlib.pyplot as plt\n",
    "from matplotlib.backends.backend_pdf import PdfPages\n",
    "import seaborn as sns\n",
    "from scipy.stats import zscore, linregress, ttest_ind, ttest_rel, ttest_1samp\n",
    "import pandas as pd\n",
    "from mne.preprocessing.bads import _find_outliers\n",
    "import os \n",
    "import joblib\n",
    "import emd\n",
    "import re\n",
    "\n",
    "import warnings\n",
    "warnings.filterwarnings('ignore')"
   ]
  },
  {
   "cell_type": "code",
   "execution_count": 2,
   "metadata": {},
   "outputs": [],
   "source": [
    "import sys\n",
    "sys.path.append('/Users/alexandrafink/Documents/GraduateSchool/SaezLab/SWB/ephys_analysis/scripts/saez_python_pipeline/LFPAnalysis/')"
   ]
  },
  {
   "cell_type": "code",
   "execution_count": 3,
   "metadata": {},
   "outputs": [],
   "source": [
    "from LFPAnalysis import lfp_preprocess_utils, sync_utils, analysis_utils, nlx_utils"
   ]
  },
  {
   "cell_type": "code",
   "execution_count": 4,
   "metadata": {},
   "outputs": [],
   "source": [
    "# Specify root directory for un-archived data and results \n",
    "base_dir = '/Users/alexandrafink/Documents/GraduateSchool/SaezLab/SWB/ephys_analysis/'\n",
    "anat_dir = '/Users/alexandrafink/Documents/GraduateSchool/SaezLab/SWB/anat_recons/recon_labels/'\n",
    "neural_dir = '/Users/alexandrafink/Documents/GraduateSchool/SaezLab/SWB/ephys_analysis/data/'\n",
    "behav_dir = '/Users/alexandrafink/Documents/GraduateSchool/SaezLab/SWB/behavior_analysis/behavior_preprocessed/'\n",
    "\n",
    "subj_id = 'MS025'\n",
    "subj_format = ['nlx']\n",
    "subj_site = ['MSSM']\n"
   ]
  },
  {
   "cell_type": "markdown",
   "metadata": {},
   "source": [
    "## Load raw nlx data \n"
   ]
  },
  {
   "cell_type": "code",
   "execution_count": 5,
   "metadata": {},
   "outputs": [],
   "source": [
    "load_path = f'{neural_dir}{subj_id}/raw_nlx/'\n",
    "seeg_names = None\n",
    "resp_names = None\n",
    "ekg_names = None\n",
    "eeg_names = None"
   ]
  },
  {
   "cell_type": "code",
   "execution_count": 6,
   "metadata": {},
   "outputs": [],
   "source": [
    "### removing extraneous numbering from channel names \n",
    "\n",
    "# per Shawn, MSSM data seems to sometime have a \"_0000.ncs\" to \"_9999.ncs\" appended to the end of real data\n",
    "pattern = re.compile(r\"_\\d{4}\\.ncs\")  # regex pattern to match \"_0000.ncs\" to \"_9999.ncs\"\n",
    "ncs_files = [x for x in glob(f'{load_path}/*.ncs') if re.search(pattern, x)]\n",
    "# just in case this changes in the future: \n",
    "if len(ncs_files) == 0: \n",
    "    ncs_files = glob(f'{load_path}/*.ncs')\n",
    "    if not seeg_names:\n",
    "        seeg_names = [x.split('/')[-1].replace('.ncs','') for x in glob(f'{load_path}/[R,L]*.ncs')]\n",
    "else:\n",
    "    if not seeg_names:\n",
    "        seeg_names = [x.split('/')[-1].replace('.ncs','').split('_')[0] for x in glob(f'{load_path}/[R,L]*.ncs') if re.search(pattern, x)]"
   ]
  },
  {
   "cell_type": "code",
   "execution_count": 7,
   "metadata": {},
   "outputs": [],
   "source": [
    "seeg_names = [x.lower() for x in seeg_names] "
   ]
  },
  {
   "cell_type": "code",
   "execution_count": 8,
   "metadata": {},
   "outputs": [],
   "source": [
    "### empty vecs to load data into \n",
    "\n",
    "signals = [] #data\n",
    "srs = [] #sampling rate\n",
    "ch_name = [] #channel name\n",
    "ch_type = [] #channel type (seeg, eeg etc.)"
   ]
  },
  {
   "cell_type": "code",
   "execution_count": 9,
   "metadata": {},
   "outputs": [
    {
     "name": "stdout",
     "output_type": "stream",
     "text": [
      "Unidentified data type in Photodiode\n"
     ]
    }
   ],
   "source": [
    "for chan_path in ncs_files:\n",
    "    chan_name = chan_path.split('/')[-1].replace('.ncs','')\n",
    "    # strip the file type off the end if needed \n",
    "    if '_' in chan_name:\n",
    "        chan_name = chan_name.split('_')[0]\n",
    "    try:\n",
    "        fdata = nlx_utils.load_ncs(chan_path)\n",
    "    except IndexError: \n",
    "        print(f'No data in channel {chan_name}')\n",
    "        continue\n",
    "    if eeg_names:\n",
    "        if chan_name.lower() in eeg_names:\n",
    "            ch_type.append('eeg')\n",
    "    if resp_names:\n",
    "        if chan_name.lower() in resp_names:\n",
    "            ch_type.append('bio')\n",
    "    if ekg_names:\n",
    "        if chan_name.lower() in ekg_names: \n",
    "            ch_type.append('ecg') \n",
    "    if seeg_names: \n",
    "        if chan_name.lower() in seeg_names:\n",
    "            ch_type.append('seeg')  \n",
    "        elif chan_name.lower()[0] == 'u':\n",
    "            # microwire data\n",
    "            ch_type.append('seeg')  \n",
    "    signals.append(fdata['data'])\n",
    "    srs.append(fdata['sampling_rate'])\n",
    "    ch_name.append(chan_name)\n",
    "    if len(ch_type) < len(ch_name):\n",
    "        ch_type.append('misc')\n",
    "        print(f'Unidentified data type in {chan_name}')"
   ]
  },
  {
   "cell_type": "code",
   "execution_count": 10,
   "metadata": {},
   "outputs": [
    {
     "data": {
      "text/plain": [
       "['RAglT6',\n",
       " 'RAglT7',\n",
       " 'RPVNH4',\n",
       " 'RPVNH5',\n",
       " 'LCMiP14',\n",
       " 'LmOlF6',\n",
       " 'LmOlF7',\n",
       " 'RmCmS6',\n",
       " 'RmCmS7',\n",
       " 'RHplT6',\n",
       " 'RHplT7',\n",
       " 'LaCaS1',\n",
       " 'RCMiP7',\n",
       " 'RCMiP6',\n",
       " 'LHplT10',\n",
       " 'LHplT11',\n",
       " 'LCMiP5',\n",
       " 'LCMiP4',\n",
       " 'LpTpT1',\n",
       " 'RaCaS3',\n",
       " 'RaCaS2',\n",
       " 'LmCmS4',\n",
       " 'LmCmS5',\n",
       " 'LHplT4',\n",
       " 'LHplT5',\n",
       " 'RmOlF4',\n",
       " 'RmOlF5',\n",
       " 'RaCaS9',\n",
       " 'RaCaS8',\n",
       " 'LPVNH6',\n",
       " 'LPVNH7',\n",
       " 'LAglT4',\n",
       " 'LAglT5',\n",
       " 'LPVNH14',\n",
       " 'LaCaS12',\n",
       " 'LCMiP2',\n",
       " 'LCMiP3',\n",
       " 'RaCaS4',\n",
       " 'RaCaS5',\n",
       " 'LpTpT7',\n",
       " 'LpTpT6',\n",
       " 'LHplT3',\n",
       " 'LHplT2',\n",
       " 'Photodiode',\n",
       " 'LAglT9',\n",
       " 'LAglT8',\n",
       " 'LmCmS3',\n",
       " 'LmCmS2',\n",
       " 'RmOlF3',\n",
       " 'RmOlF2',\n",
       " 'RCMiP10',\n",
       " 'RCMiP11',\n",
       " 'LCMiP8',\n",
       " 'LCMiP9',\n",
       " 'LPVNH1',\n",
       " 'RmOlF9',\n",
       " 'RmOlF8',\n",
       " 'LmCmS9',\n",
       " 'LmCmS8',\n",
       " 'LAglT3',\n",
       " 'LAglT2',\n",
       " 'LHplT9',\n",
       " 'LHplT8',\n",
       " 'LPVNH13',\n",
       " 'LPVNH12',\n",
       " 'RAglT1',\n",
       " 'RPVNH10',\n",
       " 'RPVNH11',\n",
       " 'RPVNH3',\n",
       " 'RPVNH2',\n",
       " 'LCMiP13',\n",
       " 'LCMiP12',\n",
       " 'LmOlF1',\n",
       " 'RHplT1',\n",
       " 'RmCmS1',\n",
       " 'LmCmS10',\n",
       " 'LmCmS11',\n",
       " 'RaCaS10',\n",
       " 'RaCaS11',\n",
       " 'LaCaS6',\n",
       " 'LaCaS7',\n",
       " 'RCMiP1',\n",
       " 'RPVNH9',\n",
       " 'RPVNH8',\n",
       " 'LpTpT9',\n",
       " 'LpTpT8',\n",
       " 'LPVNH5',\n",
       " 'LPVNH4',\n",
       " 'RCMiP14',\n",
       " 'LAglT7',\n",
       " 'LAglT6',\n",
       " 'LCMiP6',\n",
       " 'LCMiP7',\n",
       " 'LpTpT3',\n",
       " 'LpTpT2',\n",
       " 'RHplT10',\n",
       " 'RaCaS1',\n",
       " 'LmCmS7',\n",
       " 'LmCmS6',\n",
       " 'LHplT7',\n",
       " 'LHplT6',\n",
       " 'RmOlF7',\n",
       " 'RmOlF6',\n",
       " 'LmOlF5',\n",
       " 'LmOlF4',\n",
       " 'RmCmS5',\n",
       " 'RmCmS4',\n",
       " 'RHplT5',\n",
       " 'RHplT4',\n",
       " 'LaCaS2',\n",
       " 'LaCaS3',\n",
       " 'LHplT12',\n",
       " 'RCMiP4',\n",
       " 'RCMiP5',\n",
       " 'RAglT5',\n",
       " 'RAglT4',\n",
       " 'RPVNH7',\n",
       " 'RPVNH6',\n",
       " 'LaCaS8',\n",
       " 'LaCaS9',\n",
       " 'LmOlF2',\n",
       " 'LmOlF3',\n",
       " 'RHplT2',\n",
       " 'RHplT3',\n",
       " 'RAglT8',\n",
       " 'RAglT9',\n",
       " 'RmCmS2',\n",
       " 'RmCmS3',\n",
       " 'LaCaS5',\n",
       " 'LaCaS4',\n",
       " 'LmCmS12',\n",
       " 'RaCaS12',\n",
       " 'RCMiP3',\n",
       " 'RCMiP2',\n",
       " 'RmCmS8',\n",
       " 'RmCmS9',\n",
       " 'RAglT2',\n",
       " 'RAglT3',\n",
       " 'RHplT8',\n",
       " 'RHplT9',\n",
       " 'RPVNH12',\n",
       " 'LmOlF8',\n",
       " 'LmOlF9',\n",
       " 'RCMiP9',\n",
       " 'RCMiP8',\n",
       " 'RPVNH1',\n",
       " 'LCMiP10',\n",
       " 'LCMiP11',\n",
       " 'RCMiP13',\n",
       " 'RCMiP12',\n",
       " 'LPVNH2',\n",
       " 'LPVNH3',\n",
       " 'LPVNH10',\n",
       " 'LPVNH11',\n",
       " 'LAglT1',\n",
       " 'LCMiP1',\n",
       " 'LPVNH8',\n",
       " 'RmCmS10',\n",
       " 'LPVNH9',\n",
       " 'LaCaS10',\n",
       " 'LaCaS11',\n",
       " 'RaCaS7',\n",
       " 'RaCaS6',\n",
       " 'LpTpT4',\n",
       " 'LpTpT5',\n",
       " 'LHplT1',\n",
       " 'LmCmS1',\n",
       " 'RmOlF1',\n",
       " 'LpTpT10']"
      ]
     },
     "execution_count": 10,
     "metadata": {},
     "output_type": "execute_result"
    }
   ],
   "source": [
    "ch_name"
   ]
  },
  {
   "cell_type": "code",
   "execution_count": 11,
   "metadata": {},
   "outputs": [
    {
     "name": "stdout",
     "output_type": "stream",
     "text": [
      "['LAglT' 'LCMiP' 'LHplT' 'LPVNH' 'LaCaS' 'LmCmS' 'LmOlF' 'LpTpT'\n",
      " 'Photodiode' 'RAglT' 'RCMiP' 'RHplT' 'RPVNH' 'RaCaS' 'RmCmS' 'RmOlF']\n"
     ]
    }
   ],
   "source": [
    "ch_names = list(ch_name)\n",
    "pattern = '[0-9]'\n",
    "ch_names_no_num = [re.sub(pattern, '', i) for i in ch_names]\n",
    "probe_names = np.unique(ch_names_no_num)\n",
    "print(probe_names)"
   ]
  },
  {
   "cell_type": "code",
   "execution_count": 12,
   "metadata": {},
   "outputs": [
    {
     "data": {
      "text/plain": [
       "[2000,\n",
       " 2000,\n",
       " 2000,\n",
       " 2000,\n",
       " 2000,\n",
       " 2000,\n",
       " 2000,\n",
       " 2000,\n",
       " 2000,\n",
       " 2000,\n",
       " 2000,\n",
       " 2000,\n",
       " 2000,\n",
       " 2000,\n",
       " 2000,\n",
       " 2000,\n",
       " 2000,\n",
       " 2000,\n",
       " 2000,\n",
       " 2000,\n",
       " 2000,\n",
       " 2000,\n",
       " 2000,\n",
       " 2000,\n",
       " 2000,\n",
       " 2000,\n",
       " 2000,\n",
       " 2000,\n",
       " 2000,\n",
       " 2000,\n",
       " 2000,\n",
       " 2000,\n",
       " 2000,\n",
       " 2000,\n",
       " 2000,\n",
       " 2000,\n",
       " 2000,\n",
       " 2000,\n",
       " 2000,\n",
       " 2000,\n",
       " 2000,\n",
       " 2000,\n",
       " 2000,\n",
       " 2000,\n",
       " 2000,\n",
       " 2000,\n",
       " 2000,\n",
       " 2000,\n",
       " 2000,\n",
       " 2000,\n",
       " 2000,\n",
       " 2000,\n",
       " 2000,\n",
       " 2000,\n",
       " 2000,\n",
       " 2000,\n",
       " 2000,\n",
       " 2000,\n",
       " 2000,\n",
       " 2000,\n",
       " 2000,\n",
       " 2000,\n",
       " 2000,\n",
       " 2000,\n",
       " 2000,\n",
       " 2000,\n",
       " 2000,\n",
       " 2000,\n",
       " 2000,\n",
       " 2000,\n",
       " 2000,\n",
       " 2000,\n",
       " 2000,\n",
       " 2000,\n",
       " 2000,\n",
       " 2000,\n",
       " 2000,\n",
       " 2000,\n",
       " 2000,\n",
       " 2000,\n",
       " 2000,\n",
       " 2000,\n",
       " 2000,\n",
       " 2000,\n",
       " 2000,\n",
       " 2000,\n",
       " 2000,\n",
       " 2000,\n",
       " 2000,\n",
       " 2000,\n",
       " 2000,\n",
       " 2000,\n",
       " 2000,\n",
       " 2000,\n",
       " 2000,\n",
       " 2000,\n",
       " 2000,\n",
       " 2000,\n",
       " 2000,\n",
       " 2000,\n",
       " 2000,\n",
       " 2000,\n",
       " 2000,\n",
       " 2000,\n",
       " 2000,\n",
       " 2000,\n",
       " 2000,\n",
       " 2000,\n",
       " 2000,\n",
       " 2000,\n",
       " 2000,\n",
       " 2000,\n",
       " 2000,\n",
       " 2000,\n",
       " 2000,\n",
       " 2000,\n",
       " 2000,\n",
       " 2000,\n",
       " 2000,\n",
       " 2000,\n",
       " 2000,\n",
       " 2000,\n",
       " 2000,\n",
       " 2000,\n",
       " 2000,\n",
       " 2000,\n",
       " 2000,\n",
       " 2000,\n",
       " 2000,\n",
       " 2000,\n",
       " 2000,\n",
       " 2000,\n",
       " 2000,\n",
       " 2000,\n",
       " 2000,\n",
       " 2000,\n",
       " 2000,\n",
       " 2000,\n",
       " 2000,\n",
       " 2000,\n",
       " 2000,\n",
       " 2000,\n",
       " 2000,\n",
       " 2000,\n",
       " 2000,\n",
       " 2000,\n",
       " 2000,\n",
       " 2000,\n",
       " 2000,\n",
       " 2000,\n",
       " 2000,\n",
       " 2000,\n",
       " 2000,\n",
       " 2000,\n",
       " 2000,\n",
       " 2000,\n",
       " 2000,\n",
       " 2000,\n",
       " 2000,\n",
       " 2000,\n",
       " 2000,\n",
       " 2000,\n",
       " 2000,\n",
       " 2000,\n",
       " 2000,\n",
       " 2000,\n",
       " 2000,\n",
       " 2000,\n",
       " 2000]"
      ]
     },
     "execution_count": 12,
     "metadata": {},
     "output_type": "execute_result"
    }
   ],
   "source": [
    "srs"
   ]
  },
  {
   "cell_type": "code",
   "execution_count": 13,
   "metadata": {},
   "outputs": [],
   "source": [
    "target_sr = 500 #downsampling to 500 to be consistent with other data - alternative = np.min(srs)\n",
    "mne_data_resampled = []"
   ]
  },
  {
   "cell_type": "code",
   "execution_count": 14,
   "metadata": {},
   "outputs": [
    {
     "name": "stderr",
     "output_type": "stream",
     "text": [
      "[Parallel(n_jobs=-1)]: Using backend LokyBackend with 8 concurrent workers.\n",
      "[Parallel(n_jobs=-1)]: Done  10 tasks      | elapsed:    2.7s\n",
      "[Parallel(n_jobs=-1)]: Done  64 tasks      | elapsed:    9.0s\n",
      "[Parallel(n_jobs=-1)]: Done 154 tasks      | elapsed:   19.4s\n",
      "[Parallel(n_jobs=-1)]: Done 169 out of 169 | elapsed:   21.1s finished\n"
     ]
    }
   ],
   "source": [
    "### resampling to 500Hz\n",
    "\n",
    "for sr in np.unique(srs):\n",
    "    ch_ix = np.where(srs==sr)[0].astype(int)\n",
    "    info = mne.create_info([x for ix, x in enumerate(ch_name) if ix in ch_ix], sr, [x for ix, x in enumerate(ch_type) if ix in ch_ix])\n",
    "    mne_data_temp = mne.io.RawArray([x for ix, x in enumerate(signals) if ix in ch_ix], info)\n",
    "    if sr != target_sr:\n",
    "        # resample down to one sample rate \n",
    "        mne_data_temp.resample(sfreq=target_sr, npad='auto', n_jobs=-1)\n",
    "        mne_data_resampled.append(mne_data_temp)\n",
    "    else: \n",
    "        mne_data = mne_data_temp\n",
    "        "
   ]
  },
  {
   "cell_type": "code",
   "execution_count": 15,
   "metadata": {},
   "outputs": [],
   "source": [
    "### make sure timing is aligned post resampling --- check this \n",
    "\n",
    "#Because of the resampling, the end timings might not match perfectly:https://github.com/mne-tools/mne-python/issues/8257\n",
    "\n",
    "if mne_data_resampled[0].tmax > mne_data_temp.tmax:\n",
    "    mne_data_resampled[0].crop(tmin=0, tmax=mne_data_temp.tmax)\n",
    "elif mne_data_resampled[0].tmax < mne_data_temp.tmax:\n",
    "    mne_data_temp.crop(tmin=0, tmax=mne_data_resampled[0].tmax)\n",
    "    "
   ]
  },
  {
   "cell_type": "code",
   "execution_count": 16,
   "metadata": {},
   "outputs": [
    {
     "data": {
      "text/html": [
       "<table class=\"table table-hover table-striped table-sm table-responsive small\">\n",
       "    <tr>\n",
       "        <th>Measurement date</th>\n",
       "        \n",
       "        <td>Unknown</td>\n",
       "        \n",
       "    </tr>\n",
       "    <tr>\n",
       "        <th>Experimenter</th>\n",
       "        \n",
       "        <td>Unknown</td>\n",
       "        \n",
       "    </tr>\n",
       "        <th>Participant</th>\n",
       "        \n",
       "        <td>Unknown</td>\n",
       "        \n",
       "    </tr>\n",
       "    <tr>\n",
       "        <th>Digitized points</th>\n",
       "        \n",
       "        <td>Not available</td>\n",
       "        \n",
       "    </tr>\n",
       "    <tr>\n",
       "        <th>Good channels</th>\n",
       "        <td>168 sEEG, 1 misc</td>\n",
       "    </tr>\n",
       "    <tr>\n",
       "        <th>Bad channels</th>\n",
       "        <td>None</td>\n",
       "    </tr>\n",
       "    <tr>\n",
       "        <th>EOG channels</th>\n",
       "        <td>Not available</td>\n",
       "    </tr>\n",
       "    <tr>\n",
       "        <th>ECG channels</th>\n",
       "        <td>Not available</td>\n",
       "    \n",
       "    <tr>\n",
       "        <th>Sampling frequency</th>\n",
       "        <td>500.00 Hz</td>\n",
       "    </tr>\n",
       "    \n",
       "    \n",
       "    <tr>\n",
       "        <th>Highpass</th>\n",
       "        <td>0.00 Hz</td>\n",
       "    </tr>\n",
       "    \n",
       "    \n",
       "    <tr>\n",
       "        <th>Lowpass</th>\n",
       "        <td>250.00 Hz</td>\n",
       "    </tr>\n",
       "    \n",
       "    \n",
       "    \n",
       "    <tr>\n",
       "        <th>Duration</th>\n",
       "        <td>00:42:20 (HH:MM:SS)</td>\n",
       "    </tr>\n",
       "</table>"
      ],
      "text/plain": [
       "<RawArray | 169 x 1269504 (2539.0 s), ~1.60 GB, data loaded>"
      ]
     },
     "execution_count": 16,
     "metadata": {},
     "output_type": "execute_result"
    }
   ],
   "source": [
    "mne_data_resampled[0]"
   ]
  },
  {
   "cell_type": "code",
   "execution_count": 17,
   "metadata": {},
   "outputs": [
    {
     "data": {
      "text/html": [
       "<table class=\"table table-hover table-striped table-sm table-responsive small\">\n",
       "    <tr>\n",
       "        <th>Measurement date</th>\n",
       "        \n",
       "        <td>Unknown</td>\n",
       "        \n",
       "    </tr>\n",
       "    <tr>\n",
       "        <th>Experimenter</th>\n",
       "        \n",
       "        <td>Unknown</td>\n",
       "        \n",
       "    </tr>\n",
       "        <th>Participant</th>\n",
       "        \n",
       "        <td>Unknown</td>\n",
       "        \n",
       "    </tr>\n",
       "    <tr>\n",
       "        <th>Digitized points</th>\n",
       "        \n",
       "        <td>Not available</td>\n",
       "        \n",
       "    </tr>\n",
       "    <tr>\n",
       "        <th>Good channels</th>\n",
       "        <td>168 sEEG, 1 misc</td>\n",
       "    </tr>\n",
       "    <tr>\n",
       "        <th>Bad channels</th>\n",
       "        <td>None</td>\n",
       "    </tr>\n",
       "    <tr>\n",
       "        <th>EOG channels</th>\n",
       "        <td>Not available</td>\n",
       "    </tr>\n",
       "    <tr>\n",
       "        <th>ECG channels</th>\n",
       "        <td>Not available</td>\n",
       "    \n",
       "    <tr>\n",
       "        <th>Sampling frequency</th>\n",
       "        <td>500.00 Hz</td>\n",
       "    </tr>\n",
       "    \n",
       "    \n",
       "    <tr>\n",
       "        <th>Highpass</th>\n",
       "        <td>0.00 Hz</td>\n",
       "    </tr>\n",
       "    \n",
       "    \n",
       "    <tr>\n",
       "        <th>Lowpass</th>\n",
       "        <td>250.00 Hz</td>\n",
       "    </tr>\n",
       "    \n",
       "    \n",
       "    \n",
       "    <tr>\n",
       "        <th>Duration</th>\n",
       "        <td>00:42:20 (HH:MM:SS)</td>\n",
       "    </tr>\n",
       "</table>"
      ],
      "text/plain": [
       "<RawArray | 169 x 1269504 (2539.0 s), ~1.60 GB, data loaded>"
      ]
     },
     "execution_count": 17,
     "metadata": {},
     "output_type": "execute_result"
    }
   ],
   "source": [
    "mne_data = mne_data_resampled[0]  #mne_data.add_channels([mne_data_temp]) to add more channels input mne object as list\n",
    "#mne_data.add_channels([mne_data_resampled[0]])\n",
    "mne_data"
   ]
  },
  {
   "cell_type": "code",
   "execution_count": 18,
   "metadata": {},
   "outputs": [
    {
     "data": {
      "text/html": [
       "<table class=\"table table-hover table-striped table-sm table-responsive small\">\n",
       "    <tr>\n",
       "        <th>Measurement date</th>\n",
       "        \n",
       "        <td>Unknown</td>\n",
       "        \n",
       "    </tr>\n",
       "    <tr>\n",
       "        <th>Experimenter</th>\n",
       "        \n",
       "        <td>Unknown</td>\n",
       "        \n",
       "    </tr>\n",
       "        <th>Participant</th>\n",
       "        \n",
       "        <td>Unknown</td>\n",
       "        \n",
       "    </tr>\n",
       "    <tr>\n",
       "        <th>Digitized points</th>\n",
       "        \n",
       "        <td>Not available</td>\n",
       "        \n",
       "    </tr>\n",
       "    <tr>\n",
       "        <th>Good channels</th>\n",
       "        <td>168 sEEG, 1 misc</td>\n",
       "    </tr>\n",
       "    <tr>\n",
       "        <th>Bad channels</th>\n",
       "        <td>None</td>\n",
       "    </tr>\n",
       "    <tr>\n",
       "        <th>EOG channels</th>\n",
       "        <td>Not available</td>\n",
       "    </tr>\n",
       "    <tr>\n",
       "        <th>ECG channels</th>\n",
       "        <td>Not available</td>\n",
       "    \n",
       "    <tr>\n",
       "        <th>Sampling frequency</th>\n",
       "        <td>500.00 Hz</td>\n",
       "    </tr>\n",
       "    \n",
       "    \n",
       "    <tr>\n",
       "        <th>Highpass</th>\n",
       "        <td>0.00 Hz</td>\n",
       "    </tr>\n",
       "    \n",
       "    \n",
       "    <tr>\n",
       "        <th>Lowpass</th>\n",
       "        <td>250.00 Hz</td>\n",
       "    </tr>\n",
       "    \n",
       "    \n",
       "    \n",
       "    <tr>\n",
       "        <th>Duration</th>\n",
       "        <td>00:42:20 (HH:MM:SS)</td>\n",
       "    </tr>\n",
       "</table>"
      ],
      "text/plain": [
       "<RawArray | 169 x 1269504 (2539.0 s), ~1.60 GB, data loaded>"
      ]
     },
     "execution_count": 18,
     "metadata": {},
     "output_type": "execute_result"
    }
   ],
   "source": [
    "#make channel names lowercase \n",
    "new_name_dict = {x:x.replace(\" \", \"\").lower() for x in mne_data.ch_names}\n",
    "mne_data.rename_channels(new_name_dict)"
   ]
  },
  {
   "cell_type": "markdown",
   "metadata": {},
   "source": [
    "## Notch filter line noise"
   ]
  },
  {
   "cell_type": "code",
   "execution_count": 19,
   "metadata": {},
   "outputs": [
    {
     "name": "stderr",
     "output_type": "stream",
     "text": [
      "[Parallel(n_jobs=1)]: Using backend SequentialBackend with 1 concurrent workers.\n",
      "[Parallel(n_jobs=1)]: Done   1 out of   1 | elapsed:    0.0s remaining:    0.0s\n",
      "[Parallel(n_jobs=1)]: Done   2 out of   2 | elapsed:    0.1s remaining:    0.0s\n",
      "[Parallel(n_jobs=1)]: Done   3 out of   3 | elapsed:    0.1s remaining:    0.0s\n",
      "[Parallel(n_jobs=1)]: Done   4 out of   4 | elapsed:    0.1s remaining:    0.0s\n",
      "[Parallel(n_jobs=1)]: Done 168 out of 168 | elapsed:    4.3s finished\n"
     ]
    },
    {
     "data": {
      "text/html": [
       "<table class=\"table table-hover table-striped table-sm table-responsive small\">\n",
       "    <tr>\n",
       "        <th>Measurement date</th>\n",
       "        \n",
       "        <td>Unknown</td>\n",
       "        \n",
       "    </tr>\n",
       "    <tr>\n",
       "        <th>Experimenter</th>\n",
       "        \n",
       "        <td>Unknown</td>\n",
       "        \n",
       "    </tr>\n",
       "        <th>Participant</th>\n",
       "        \n",
       "        <td>Unknown</td>\n",
       "        \n",
       "    </tr>\n",
       "    <tr>\n",
       "        <th>Digitized points</th>\n",
       "        \n",
       "        <td>Not available</td>\n",
       "        \n",
       "    </tr>\n",
       "    <tr>\n",
       "        <th>Good channels</th>\n",
       "        <td>168 sEEG, 1 misc</td>\n",
       "    </tr>\n",
       "    <tr>\n",
       "        <th>Bad channels</th>\n",
       "        <td>None</td>\n",
       "    </tr>\n",
       "    <tr>\n",
       "        <th>EOG channels</th>\n",
       "        <td>Not available</td>\n",
       "    </tr>\n",
       "    <tr>\n",
       "        <th>ECG channels</th>\n",
       "        <td>Not available</td>\n",
       "    \n",
       "    <tr>\n",
       "        <th>Sampling frequency</th>\n",
       "        <td>500.00 Hz</td>\n",
       "    </tr>\n",
       "    \n",
       "    \n",
       "    <tr>\n",
       "        <th>Highpass</th>\n",
       "        <td>0.00 Hz</td>\n",
       "    </tr>\n",
       "    \n",
       "    \n",
       "    <tr>\n",
       "        <th>Lowpass</th>\n",
       "        <td>250.00 Hz</td>\n",
       "    </tr>\n",
       "    \n",
       "    \n",
       "    \n",
       "    <tr>\n",
       "        <th>Duration</th>\n",
       "        <td>00:42:20 (HH:MM:SS)</td>\n",
       "    </tr>\n",
       "</table>"
      ],
      "text/plain": [
       "<RawArray | 169 x 1269504 (2539.0 s), ~1.60 GB, data loaded>"
      ]
     },
     "execution_count": 19,
     "metadata": {},
     "output_type": "execute_result"
    }
   ],
   "source": [
    "\n",
    "mne_data.info['line_freq'] = 60\n",
    "# Notch out 60 Hz noise and harmonics \n",
    "mne_data.notch_filter(freqs=(60, 120, 180, 240))"
   ]
  },
  {
   "cell_type": "markdown",
   "metadata": {},
   "source": [
    "## Examine photodiode"
   ]
  },
  {
   "cell_type": "code",
   "execution_count": 20,
   "metadata": {},
   "outputs": [
    {
     "data": {
      "image/png": "[encoded data removed]",
      "text/plain": [
       "<Figure size 640x480 with 1 Axes>"
      ]
     },
     "metadata": {},
     "output_type": "display_data"
    }
   ],
   "source": [
    "# Sanity check the photodiode\n",
    "trig_ix = mne_data.ch_names.index('photodiode')\n",
    "plt.plot(mne_data._data[trig_ix])\n",
    "plt.title(\"Photodiode\")\n",
    "plt.show()"
   ]
  },
  {
   "cell_type": "markdown",
   "metadata": {},
   "source": [
    "Save out photodiode data (after resampling/filtering)"
   ]
  },
  {
   "cell_type": "code",
   "execution_count": 21,
   "metadata": {},
   "outputs": [],
   "source": [
    "mne_data.save(f'{neural_dir}{subj_id}/photodiode.fif', picks='photodiode', overwrite=True)"
   ]
  },
  {
   "cell_type": "markdown",
   "metadata": {},
   "source": [
    "## Add in anat recon info\n"
   ]
  },
  {
   "cell_type": "code",
   "execution_count": 30,
   "metadata": {},
   "outputs": [
    {
     "data": {
      "text/html": [
       "<div>\n",
       "<style scoped>\n",
       "    .dataframe tbody tr th:only-of-type {\n",
       "        vertical-align: middle;\n",
       "    }\n",
       "\n",
       "    .dataframe tbody tr th {\n",
       "        vertical-align: top;\n",
       "    }\n",
       "\n",
       "    .dataframe thead th {\n",
       "        text-align: right;\n",
       "    }\n",
       "</style>\n",
       "<table border=\"1\" class=\"dataframe\">\n",
       "  <thead>\n",
       "    <tr style=\"text-align: right;\">\n",
       "      <th></th>\n",
       "      <th>label</th>\n",
       "      <th>BN246label</th>\n",
       "      <th>x</th>\n",
       "      <th>y</th>\n",
       "      <th>z</th>\n",
       "      <th>mni_x</th>\n",
       "      <th>mni_y</th>\n",
       "      <th>mni_z</th>\n",
       "      <th>gm</th>\n",
       "      <th>NMM</th>\n",
       "      <th>Anat</th>\n",
       "      <th>AnatMacro</th>\n",
       "      <th>BN246</th>\n",
       "      <th>YBA_1</th>\n",
       "      <th>ManualExamination</th>\n",
       "      <th>notes</th>\n",
       "    </tr>\n",
       "  </thead>\n",
       "  <tbody>\n",
       "    <tr>\n",
       "      <th>0</th>\n",
       "      <td>LaCaS1</td>\n",
       "      <td>A32sg_L</td>\n",
       "      <td>-8.551953</td>\n",
       "      <td>47.560752</td>\n",
       "      <td>20.574440</td>\n",
       "      <td>-7.364096</td>\n",
       "      <td>42.879442</td>\n",
       "      <td>7.816402</td>\n",
       "      <td>Gray</td>\n",
       "      <td>Left ACgG anterior cingulate gyrus</td>\n",
       "      <td>Unknown</td>\n",
       "      <td>L ACC</td>\n",
       "      <td>L CG</td>\n",
       "      <td>Left cingulate gyrus F</td>\n",
       "      <td>NaN</td>\n",
       "      <td>NaN</td>\n",
       "    </tr>\n",
       "    <tr>\n",
       "      <th>1</th>\n",
       "      <td>LaCaS10</td>\n",
       "      <td>Unknown</td>\n",
       "      <td>-17.348071</td>\n",
       "      <td>64.346899</td>\n",
       "      <td>55.331263</td>\n",
       "      <td>-15.943065</td>\n",
       "      <td>67.827566</td>\n",
       "      <td>42.142829</td>\n",
       "      <td>Unknown</td>\n",
       "      <td>Unknown</td>\n",
       "      <td>Unknown</td>\n",
       "      <td>Unknown</td>\n",
       "      <td>Unknown</td>\n",
       "      <td>Unknown</td>\n",
       "      <td>OOB</td>\n",
       "      <td>NaN</td>\n",
       "    </tr>\n",
       "    <tr>\n",
       "      <th>2</th>\n",
       "      <td>LaCaS11</td>\n",
       "      <td>Unknown</td>\n",
       "      <td>-17.747895</td>\n",
       "      <td>65.545910</td>\n",
       "      <td>58.127789</td>\n",
       "      <td>-16.252304</td>\n",
       "      <td>69.749974</td>\n",
       "      <td>44.950649</td>\n",
       "      <td>Unknown</td>\n",
       "      <td>Unknown</td>\n",
       "      <td>Unknown</td>\n",
       "      <td>Unknown</td>\n",
       "      <td>Unknown</td>\n",
       "      <td>Unknown</td>\n",
       "      <td>OOB</td>\n",
       "      <td>NaN</td>\n",
       "    </tr>\n",
       "    <tr>\n",
       "      <th>3</th>\n",
       "      <td>LaCaS12</td>\n",
       "      <td>Unknown</td>\n",
       "      <td>-17.747895</td>\n",
       "      <td>65.945580</td>\n",
       "      <td>59.725803</td>\n",
       "      <td>-16.193126</td>\n",
       "      <td>70.554453</td>\n",
       "      <td>46.641912</td>\n",
       "      <td>Unknown</td>\n",
       "      <td>Unknown</td>\n",
       "      <td>Unknown</td>\n",
       "      <td>Unknown</td>\n",
       "      <td>Unknown</td>\n",
       "      <td>Unknown</td>\n",
       "      <td>OOB</td>\n",
       "      <td>NaN</td>\n",
       "    </tr>\n",
       "    <tr>\n",
       "      <th>4</th>\n",
       "      <td>LaCaS2</td>\n",
       "      <td>A32p_L</td>\n",
       "      <td>-9.751424</td>\n",
       "      <td>49.559103</td>\n",
       "      <td>24.968981</td>\n",
       "      <td>-8.600387</td>\n",
       "      <td>46.074869</td>\n",
       "      <td>12.332196</td>\n",
       "      <td>Gray</td>\n",
       "      <td>Left MSFG superior frontal gyrus medial segment</td>\n",
       "      <td>Unknown</td>\n",
       "      <td>L ACC</td>\n",
       "      <td>L CG</td>\n",
       "      <td>Left frontal pole 4 A</td>\n",
       "      <td>NaN</td>\n",
       "      <td>NaN</td>\n",
       "    </tr>\n",
       "    <tr>\n",
       "      <th>...</th>\n",
       "      <td>...</td>\n",
       "      <td>...</td>\n",
       "      <td>...</td>\n",
       "      <td>...</td>\n",
       "      <td>...</td>\n",
       "      <td>...</td>\n",
       "      <td>...</td>\n",
       "      <td>...</td>\n",
       "      <td>...</td>\n",
       "      <td>...</td>\n",
       "      <td>...</td>\n",
       "      <td>...</td>\n",
       "      <td>...</td>\n",
       "      <td>...</td>\n",
       "      <td>...</td>\n",
       "      <td>...</td>\n",
       "    </tr>\n",
       "    <tr>\n",
       "      <th>167</th>\n",
       "      <td>RPVNH9</td>\n",
       "      <td>mOccG_R</td>\n",
       "      <td>29.431284</td>\n",
       "      <td>-69.942282</td>\n",
       "      <td>-4.993797</td>\n",
       "      <td>29.084658</td>\n",
       "      <td>-86.459783</td>\n",
       "      <td>9.976051</td>\n",
       "      <td>White</td>\n",
       "      <td>Right Cerebral White Matter</td>\n",
       "      <td>Area hOc4lp</td>\n",
       "      <td>R Middle Occipital Gyrus</td>\n",
       "      <td>R LOcC</td>\n",
       "      <td>Right superior middle occipital gyrus D</td>\n",
       "      <td>NaN</td>\n",
       "      <td>NaN</td>\n",
       "    </tr>\n",
       "    <tr>\n",
       "      <th>168</th>\n",
       "      <td>uLAglT</td>\n",
       "      <td>rHipp_L</td>\n",
       "      <td>-16.148600</td>\n",
       "      <td>10.391424</td>\n",
       "      <td>-14.981390</td>\n",
       "      <td>-16.594453</td>\n",
       "      <td>-3.626931</td>\n",
       "      <td>-23.761121</td>\n",
       "      <td>Gray</td>\n",
       "      <td>Left Amygdala</td>\n",
       "      <td>Amygdala (LB)</td>\n",
       "      <td>L ParaHippocampal Gyrus</td>\n",
       "      <td>L Hipp</td>\n",
       "      <td>Left parahippocampal gyrus A</td>\n",
       "      <td>Left amygdala inferior</td>\n",
       "      <td>NaN</td>\n",
       "    </tr>\n",
       "    <tr>\n",
       "      <th>169</th>\n",
       "      <td>uLmOlF</td>\n",
       "      <td>A11m_L</td>\n",
       "      <td>-8.951776</td>\n",
       "      <td>61.549208</td>\n",
       "      <td>-4.594294</td>\n",
       "      <td>-7.639574</td>\n",
       "      <td>50.840300</td>\n",
       "      <td>-25.038950</td>\n",
       "      <td>Gray</td>\n",
       "      <td>Left MOrG medial orbital gyrus</td>\n",
       "      <td>Area Fo1</td>\n",
       "      <td>L Superior Orbital Gyrus</td>\n",
       "      <td>L OrG</td>\n",
       "      <td>Left frontal orbital 2 B</td>\n",
       "      <td>NaN</td>\n",
       "      <td>NaN</td>\n",
       "    </tr>\n",
       "    <tr>\n",
       "      <th>170</th>\n",
       "      <td>uRAglT</td>\n",
       "      <td>rHipp_R</td>\n",
       "      <td>15.037636</td>\n",
       "      <td>10.391424</td>\n",
       "      <td>-14.182383</td>\n",
       "      <td>17.162481</td>\n",
       "      <td>-3.723941</td>\n",
       "      <td>-23.243948</td>\n",
       "      <td>Gray</td>\n",
       "      <td>Right Amygdala</td>\n",
       "      <td>Amygdala (LB)</td>\n",
       "      <td>R ParaHippocampal Gyrus</td>\n",
       "      <td>R Hipp</td>\n",
       "      <td>Right amygdala inferior</td>\n",
       "      <td>NaN</td>\n",
       "      <td>NaN</td>\n",
       "    </tr>\n",
       "    <tr>\n",
       "      <th>171</th>\n",
       "      <td>uRmOlF</td>\n",
       "      <td>A11m_R</td>\n",
       "      <td>4.242401</td>\n",
       "      <td>55.554155</td>\n",
       "      <td>-6.991316</td>\n",
       "      <td>6.858142</td>\n",
       "      <td>44.058306</td>\n",
       "      <td>-26.465903</td>\n",
       "      <td>Gray</td>\n",
       "      <td>Right GRe gyrus rectus</td>\n",
       "      <td>Area Fo1</td>\n",
       "      <td>R Rectal Gyrus</td>\n",
       "      <td>R OrG</td>\n",
       "      <td>Right frontal orbital 3 A</td>\n",
       "      <td>NaN</td>\n",
       "      <td>NaN</td>\n",
       "    </tr>\n",
       "  </tbody>\n",
       "</table>\n",
       "<p>172 rows × 16 columns</p>\n",
       "</div>"
      ],
      "text/plain": [
       "       label BN246label          x          y          z      mni_x  \\\n",
       "0     LaCaS1    A32sg_L  -8.551953  47.560752  20.574440  -7.364096   \n",
       "1    LaCaS10    Unknown -17.348071  64.346899  55.331263 -15.943065   \n",
       "2    LaCaS11    Unknown -17.747895  65.545910  58.127789 -16.252304   \n",
       "3    LaCaS12    Unknown -17.747895  65.945580  59.725803 -16.193126   \n",
       "4     LaCaS2     A32p_L  -9.751424  49.559103  24.968981  -8.600387   \n",
       "..       ...        ...        ...        ...        ...        ...   \n",
       "167   RPVNH9    mOccG_R  29.431284 -69.942282  -4.993797  29.084658   \n",
       "168   uLAglT    rHipp_L -16.148600  10.391424 -14.981390 -16.594453   \n",
       "169   uLmOlF     A11m_L  -8.951776  61.549208  -4.594294  -7.639574   \n",
       "170   uRAglT    rHipp_R  15.037636  10.391424 -14.182383  17.162481   \n",
       "171   uRmOlF     A11m_R   4.242401  55.554155  -6.991316   6.858142   \n",
       "\n",
       "         mni_y      mni_z       gm  \\\n",
       "0    42.879442   7.816402     Gray   \n",
       "1    67.827566  42.142829  Unknown   \n",
       "2    69.749974  44.950649  Unknown   \n",
       "3    70.554453  46.641912  Unknown   \n",
       "4    46.074869  12.332196     Gray   \n",
       "..         ...        ...      ...   \n",
       "167 -86.459783   9.976051    White   \n",
       "168  -3.626931 -23.761121     Gray   \n",
       "169  50.840300 -25.038950     Gray   \n",
       "170  -3.723941 -23.243948     Gray   \n",
       "171  44.058306 -26.465903     Gray   \n",
       "\n",
       "                                                 NMM           Anat  \\\n",
       "0                 Left ACgG anterior cingulate gyrus        Unknown   \n",
       "1                                            Unknown        Unknown   \n",
       "2                                            Unknown        Unknown   \n",
       "3                                            Unknown        Unknown   \n",
       "4    Left MSFG superior frontal gyrus medial segment        Unknown   \n",
       "..                                               ...            ...   \n",
       "167                      Right Cerebral White Matter    Area hOc4lp   \n",
       "168                                    Left Amygdala  Amygdala (LB)   \n",
       "169                   Left MOrG medial orbital gyrus       Area Fo1   \n",
       "170                                   Right Amygdala  Amygdala (LB)   \n",
       "171                           Right GRe gyrus rectus       Area Fo1   \n",
       "\n",
       "                    AnatMacro    BN246  \\\n",
       "0                       L ACC     L CG   \n",
       "1                     Unknown  Unknown   \n",
       "2                     Unknown  Unknown   \n",
       "3                     Unknown  Unknown   \n",
       "4                       L ACC     L CG   \n",
       "..                        ...      ...   \n",
       "167  R Middle Occipital Gyrus   R LOcC   \n",
       "168   L ParaHippocampal Gyrus   L Hipp   \n",
       "169  L Superior Orbital Gyrus    L OrG   \n",
       "170   R ParaHippocampal Gyrus   R Hipp   \n",
       "171            R Rectal Gyrus    R OrG   \n",
       "\n",
       "                                       YBA_1       ManualExamination notes  \n",
       "0                     Left cingulate gyrus F                     NaN   NaN  \n",
       "1                                    Unknown                     OOB   NaN  \n",
       "2                                    Unknown                     OOB   NaN  \n",
       "3                                    Unknown                     OOB   NaN  \n",
       "4                      Left frontal pole 4 A                     NaN   NaN  \n",
       "..                                       ...                     ...   ...  \n",
       "167  Right superior middle occipital gyrus D                     NaN   NaN  \n",
       "168             Left parahippocampal gyrus A  Left amygdala inferior   NaN  \n",
       "169                 Left frontal orbital 2 B                     NaN   NaN  \n",
       "170                  Right amygdala inferior                     NaN   NaN  \n",
       "171                Right frontal orbital 3 A                     NaN   NaN  \n",
       "\n",
       "[172 rows x 16 columns]"
      ]
     },
     "execution_count": 30,
     "metadata": {},
     "output_type": "execute_result"
    }
   ],
   "source": [
    "# Load the electrode localization data\n",
    "anat_file = glob(f'{anat_dir}{subj_id}_labels.csv')[0]\n",
    "elec_locs = pd.read_csv(anat_file)\n",
    "# Sometimes there's extra columns with no entries: \n",
    "elec_locs = elec_locs[elec_locs.columns.drop(list(elec_locs.filter(regex='Unnamed')))]\n",
    "\n",
    "elec_locs"
   ]
  },
  {
   "cell_type": "code",
   "execution_count": 31,
   "metadata": {},
   "outputs": [
    {
     "name": "stdout",
     "output_type": "stream",
     "text": [
      "['photodiode']\n"
     ]
    }
   ],
   "source": [
    "anat_names = list(elec_locs.label.str.lower())\n",
    "sum([ch not in mne_data.ch_names for ch in anat_names]) #if there are no missing channels, sum = 0. if sum >0, find the missing elecs\n",
    "print([ch for ch in mne_data.ch_names if ch not in anat_names ]) #print extra channels in mne_data.ch_names and make sure none of them are neural channels (will be EEG etc.)"
   ]
  },
  {
   "cell_type": "code",
   "execution_count": 32,
   "metadata": {},
   "outputs": [],
   "source": [
    "new_mne_names, unmatched_names, unmatched_seeg = lfp_preprocess_utils.match_elec_names(mne_data.ch_names, elec_locs.label)\n",
    "\n",
    "\n"
   ]
  },
  {
   "cell_type": "code",
   "execution_count": 33,
   "metadata": {},
   "outputs": [
    {
     "data": {
      "text/plain": [
       "['ulaglt', 'urmolf', 'uraglt', 'ulmolf']"
      ]
     },
     "execution_count": 33,
     "metadata": {},
     "output_type": "execute_result"
    }
   ],
   "source": [
    "unmatched_names"
   ]
  },
  {
   "cell_type": "code",
   "execution_count": 34,
   "metadata": {},
   "outputs": [
    {
     "data": {
      "text/plain": [
       "[]"
      ]
     },
     "execution_count": 34,
     "metadata": {},
     "output_type": "execute_result"
    }
   ],
   "source": [
    "unmatched_seeg"
   ]
  },
  {
   "cell_type": "code",
   "execution_count": 35,
   "metadata": {},
   "outputs": [
    {
     "name": "stdout",
     "output_type": "stream",
     "text": [
      "We have a total of 92 left sEEG and 76 right sEEG electrodes\n",
      "We have a total of 168 sEEG electrodes\n"
     ]
    }
   ],
   "source": [
    "right_seeg_names = [i for i in mne_data.ch_names if i.startswith('r')]\n",
    "left_seeg_names = [i for i in mne_data.ch_names if i.startswith('l')]\n",
    "print(f'We have a total of {len(left_seeg_names)} left sEEG and {len(right_seeg_names)} right sEEG electrodes')\n",
    "print(f'We have a total of {len(left_seeg_names) + len(right_seeg_names)} sEEG electrodes')\n",
    "\n"
   ]
  },
  {
   "cell_type": "code",
   "execution_count": 36,
   "metadata": {},
   "outputs": [
    {
     "data": {
      "text/html": [
       "<table class=\"table table-hover table-striped table-sm table-responsive small\">\n",
       "    <tr>\n",
       "        <th>Measurement date</th>\n",
       "        \n",
       "        <td>Unknown</td>\n",
       "        \n",
       "    </tr>\n",
       "    <tr>\n",
       "        <th>Experimenter</th>\n",
       "        \n",
       "        <td>Unknown</td>\n",
       "        \n",
       "    </tr>\n",
       "        <th>Participant</th>\n",
       "        \n",
       "        <td>Unknown</td>\n",
       "        \n",
       "    </tr>\n",
       "    <tr>\n",
       "        <th>Digitized points</th>\n",
       "        \n",
       "        <td>Not available</td>\n",
       "        \n",
       "    </tr>\n",
       "    <tr>\n",
       "        <th>Good channels</th>\n",
       "        <td>168 sEEG, 1 Stimulus</td>\n",
       "    </tr>\n",
       "    <tr>\n",
       "        <th>Bad channels</th>\n",
       "        <td>None</td>\n",
       "    </tr>\n",
       "    <tr>\n",
       "        <th>EOG channels</th>\n",
       "        <td>Not available</td>\n",
       "    </tr>\n",
       "    <tr>\n",
       "        <th>ECG channels</th>\n",
       "        <td>Not available</td>\n",
       "    \n",
       "    <tr>\n",
       "        <th>Sampling frequency</th>\n",
       "        <td>500.00 Hz</td>\n",
       "    </tr>\n",
       "    \n",
       "    \n",
       "    <tr>\n",
       "        <th>Highpass</th>\n",
       "        <td>0.00 Hz</td>\n",
       "    </tr>\n",
       "    \n",
       "    \n",
       "    <tr>\n",
       "        <th>Lowpass</th>\n",
       "        <td>250.00 Hz</td>\n",
       "    </tr>\n",
       "    \n",
       "    \n",
       "    \n",
       "    <tr>\n",
       "        <th>Duration</th>\n",
       "        <td>00:42:20 (HH:MM:SS)</td>\n",
       "    </tr>\n",
       "</table>"
      ],
      "text/plain": [
       "<RawArray | 169 x 1269504 (2539.0 s), ~1.60 GB, data loaded>"
      ]
     },
     "execution_count": 36,
     "metadata": {},
     "output_type": "execute_result"
    }
   ],
   "source": [
    "sEEG_mapping_dict = {f'{x}':'seeg' for x in left_seeg_names+right_seeg_names}\n",
    "trig_mapping_dict = {'photodiode':'stim'}\n",
    "mne_data.set_channel_types(sEEG_mapping_dict)\n",
    "mne_data.set_channel_types(trig_mapping_dict)"
   ]
  },
  {
   "cell_type": "code",
   "execution_count": 37,
   "metadata": {},
   "outputs": [
    {
     "data": {
      "text/html": [
       "<table class=\"table table-hover table-striped table-sm table-responsive small\">\n",
       "    <tr>\n",
       "        <th>Measurement date</th>\n",
       "        \n",
       "        <td>Unknown</td>\n",
       "        \n",
       "    </tr>\n",
       "    <tr>\n",
       "        <th>Experimenter</th>\n",
       "        \n",
       "        <td>Unknown</td>\n",
       "        \n",
       "    </tr>\n",
       "        <th>Participant</th>\n",
       "        \n",
       "        <td>Unknown</td>\n",
       "        \n",
       "    </tr>\n",
       "    <tr>\n",
       "        <th>Digitized points</th>\n",
       "        \n",
       "        <td>168 points</td>\n",
       "        \n",
       "    </tr>\n",
       "    <tr>\n",
       "        <th>Good channels</th>\n",
       "        <td>168 sEEG, 1 Stimulus</td>\n",
       "    </tr>\n",
       "    <tr>\n",
       "        <th>Bad channels</th>\n",
       "        <td>None</td>\n",
       "    </tr>\n",
       "    <tr>\n",
       "        <th>EOG channels</th>\n",
       "        <td>Not available</td>\n",
       "    </tr>\n",
       "    <tr>\n",
       "        <th>ECG channels</th>\n",
       "        <td>Not available</td>\n",
       "    \n",
       "    <tr>\n",
       "        <th>Sampling frequency</th>\n",
       "        <td>500.00 Hz</td>\n",
       "    </tr>\n",
       "    \n",
       "    \n",
       "    <tr>\n",
       "        <th>Highpass</th>\n",
       "        <td>0.00 Hz</td>\n",
       "    </tr>\n",
       "    \n",
       "    \n",
       "    <tr>\n",
       "        <th>Lowpass</th>\n",
       "        <td>250.00 Hz</td>\n",
       "    </tr>\n",
       "    \n",
       "    \n",
       "    \n",
       "    <tr>\n",
       "        <th>Duration</th>\n",
       "        <td>00:42:20 (HH:MM:SS)</td>\n",
       "    </tr>\n",
       "</table>"
      ],
      "text/plain": [
       "<RawArray | 169 x 1269504 (2539.0 s), ~1.60 GB, data loaded>"
      ]
     },
     "execution_count": 37,
     "metadata": {},
     "output_type": "execute_result"
    }
   ],
   "source": [
    "# make montage (convert mm to m)\n",
    "\n",
    "montage = mne.channels.make_dig_montage(ch_pos=dict(zip(elec_locs.label, \n",
    "                                                        elec_locs[['mni_x', 'mni_y', 'mni_z']].to_numpy(dtype=float)/1000)),\n",
    "                                        coord_frame='mni_tal')\n",
    "\n",
    "mne_data.set_montage(montage, match_case=False, on_missing='warn')"
   ]
  },
  {
   "cell_type": "markdown",
   "metadata": {},
   "source": [
    "### Detect bad channels - detect_bad_elecs function auto detects, then we validate manually "
   ]
  },
  {
   "cell_type": "code",
   "execution_count": null,
   "metadata": {},
   "outputs": [],
   "source": [
    "bads = lfp_preprocess_utils.detect_bad_elecs(mne_data, sEEG_mapping_dict)\n",
    "mne_data.info['bads'] = bads"
   ]
  },
  {
   "cell_type": "code",
   "execution_count": null,
   "metadata": {},
   "outputs": [],
   "source": [
    "bads"
   ]
  },
  {
   "cell_type": "code",
   "execution_count": null,
   "metadata": {},
   "outputs": [],
   "source": [
    "ch_names = list(elec_locs.label.str.lower())\n",
    "pattern = '[0-9]'\n",
    "ch_names_no_num = [re.sub(pattern, '', i) for i in ch_names]\n",
    "probe_names = np.unique(ch_names_no_num)"
   ]
  },
  {
   "cell_type": "code",
   "execution_count": null,
   "metadata": {},
   "outputs": [],
   "source": [
    "probe_names"
   ]
  },
  {
   "cell_type": "code",
   "execution_count": null,
   "metadata": {},
   "outputs": [],
   "source": [
    "probe_ch_counts = {} #need this to select channel number for visualization\n",
    "for p in probe_names:\n",
    "    c = ch_names_no_num.count(p)\n",
    "    probe_ch_counts[p] = c"
   ]
  },
  {
   "cell_type": "code",
   "execution_count": null,
   "metadata": {},
   "outputs": [],
   "source": [
    "probe_ch_counts"
   ]
  },
  {
   "cell_type": "code",
   "execution_count": null,
   "metadata": {},
   "outputs": [],
   "source": []
  },
  {
   "cell_type": "code",
   "execution_count": null,
   "metadata": {},
   "outputs": [],
   "source": []
  },
  {
   "cell_type": "code",
   "execution_count": null,
   "metadata": {
    "scrolled": false
   },
   "outputs": [],
   "source": [
    "%matplotlib notebook \n",
    "fig = mne_data.plot(start=0, duration=500, n_channels=10, scalings=mne_data._data.max()/5)\n",
    "fig.fake_keypress('a')"
   ]
  },
  {
   "cell_type": "code",
   "execution_count": null,
   "metadata": {},
   "outputs": [],
   "source": [
    "mne_data.info['bads']"
   ]
  },
  {
   "cell_type": "code",
   "execution_count": 38,
   "metadata": {},
   "outputs": [],
   "source": [
    "##save info in SWB_electrode_info spreadsheet!\n",
    "bad_ch = ['lmcms7',\n",
    " 'racas7',\n",
    " 'racas9',\n",
    " 'laglt5',\n",
    " 'lacas12',\n",
    " 'lhplt2',\n",
    " 'lmcms2',\n",
    " 'lcmip8',\n",
    " 'rmolf8',\n",
    " 'lmcms8',\n",
    " 'rmolf9',\n",
    " 'racas10',\n",
    " 'lmcms6',\n",
    " 'lmcms12',\n",
    " 'laglt1',\n",
    " 'lhplt1',\n",
    " 'lmcms1']"
   ]
  },
  {
   "cell_type": "code",
   "execution_count": 39,
   "metadata": {},
   "outputs": [],
   "source": [
    "mne_data.info['bads'] = bad_ch"
   ]
  },
  {
   "cell_type": "code",
   "execution_count": 40,
   "metadata": {
    "scrolled": true
   },
   "outputs": [
    {
     "data": {
      "text/html": [
       "<table class=\"table table-hover table-striped table-sm table-responsive small\">\n",
       "    <tr>\n",
       "        <th>Measurement date</th>\n",
       "        \n",
       "        <td>Unknown</td>\n",
       "        \n",
       "    </tr>\n",
       "    <tr>\n",
       "        <th>Experimenter</th>\n",
       "        \n",
       "        <td>Unknown</td>\n",
       "        \n",
       "    </tr>\n",
       "        <th>Participant</th>\n",
       "        \n",
       "        <td>Unknown</td>\n",
       "        \n",
       "    </tr>\n",
       "    <tr>\n",
       "        <th>Digitized points</th>\n",
       "        \n",
       "        <td>168 points</td>\n",
       "        \n",
       "    </tr>\n",
       "    <tr>\n",
       "        <th>Good channels</th>\n",
       "        <td>168 sEEG, 1 Stimulus</td>\n",
       "    </tr>\n",
       "    <tr>\n",
       "        <th>Bad channels</th>\n",
       "        <td>lmcms7, racas7, racas9, laglt5, lacas12, lhplt2, lmcms2, lcmip8, rmolf8, lmcms8, rmolf9, racas10, lmcms6, lmcms12, laglt1, lhplt1, lmcms1</td>\n",
       "    </tr>\n",
       "    <tr>\n",
       "        <th>EOG channels</th>\n",
       "        <td>Not available</td>\n",
       "    </tr>\n",
       "    <tr>\n",
       "        <th>ECG channels</th>\n",
       "        <td>Not available</td>\n",
       "    \n",
       "    <tr>\n",
       "        <th>Sampling frequency</th>\n",
       "        <td>500.00 Hz</td>\n",
       "    </tr>\n",
       "    \n",
       "    \n",
       "    <tr>\n",
       "        <th>Highpass</th>\n",
       "        <td>0.00 Hz</td>\n",
       "    </tr>\n",
       "    \n",
       "    \n",
       "    <tr>\n",
       "        <th>Lowpass</th>\n",
       "        <td>250.00 Hz</td>\n",
       "    </tr>\n",
       "    \n",
       "    \n",
       "</table>"
      ],
      "text/plain": [
       "<Info | 10 non-empty values\n",
       " bads: 17 items (lmcms7, racas7, racas9, laglt5, lacas12, lhplt2, ...)\n",
       " ch_names: raglt6, raglt7, rpvnh4, rpvnh5, lcmip14, lmolf6, lmolf7, rmcms6, ...\n",
       " chs: 168 sEEG, 1 Stimulus\n",
       " custom_ref_applied: False\n",
       " dig: 168 items (168 EEG)\n",
       " highpass: 0.0 Hz\n",
       " line_freq: 60.0\n",
       " lowpass: 250.0 Hz\n",
       " meas_date: unspecified\n",
       " nchan: 169\n",
       " projs: []\n",
       " sfreq: 500.0 Hz\n",
       ">"
      ]
     },
     "execution_count": 40,
     "metadata": {},
     "output_type": "execute_result"
    }
   ],
   "source": [
    "mne_data.info #sanity check that bads info saved"
   ]
  },
  {
   "cell_type": "markdown",
   "metadata": {},
   "source": [
    "### Rereference data to wm electrodes"
   ]
  },
  {
   "cell_type": "code",
   "execution_count": 41,
   "metadata": {},
   "outputs": [],
   "source": [
    "unmatched_seeg = [] #need this to run script, also need site = 'MSSM' because davis site specificity hasn't been implemented yet "
   ]
  },
  {
   "cell_type": "code",
   "execution_count": 42,
   "metadata": {},
   "outputs": [],
   "source": [
    "anode_list, cathode_list, drop_wm_channels, oob_channels = lfp_preprocess_utils.wm_ref(mne_data=mne_data, \n",
    "                                                                                elec_path=anat_file, \n",
    "                                                                                unmatched_seeg = unmatched_seeg,\n",
    "                                                                                bad_channels=mne_data.info['bads'],\n",
    "                                                                                      site = 'MSSM')"
   ]
  },
  {
   "cell_type": "code",
   "execution_count": 43,
   "metadata": {},
   "outputs": [
    {
     "data": {
      "text/plain": [
       "['lacas10',\n",
       " 'lacas11',\n",
       " 'lacas12',\n",
       " 'lacas7',\n",
       " 'lacas8',\n",
       " 'lacas9',\n",
       " 'lhplt12',\n",
       " 'lmcms10',\n",
       " 'lmcms11',\n",
       " 'lmcms12',\n",
       " 'lpvnh14',\n",
       " 'racas11',\n",
       " 'racas12',\n",
       " 'rmcms10',\n",
       " 'rmcms9',\n",
       " 'rpvnh12']"
      ]
     },
     "execution_count": 43,
     "metadata": {},
     "output_type": "execute_result"
    }
   ],
   "source": [
    "oob_channels"
   ]
  },
  {
   "cell_type": "code",
   "execution_count": 44,
   "metadata": {},
   "outputs": [],
   "source": [
    "#need to distinguish between wm channels and oob channels \n",
    "\n",
    "#add oob channels to bad channels list\n",
    "bad_ch = bad_ch + oob_channels\n",
    "bad_ch = list(np.unique(bad_ch))\n",
    "mne_data.info['bads'] = bad_ch"
   ]
  },
  {
   "cell_type": "code",
   "execution_count": 45,
   "metadata": {},
   "outputs": [
    {
     "data": {
      "text/plain": [
       "['lacas10',\n",
       " 'lacas11',\n",
       " 'lacas12',\n",
       " 'lacas7',\n",
       " 'lacas8',\n",
       " 'lacas9',\n",
       " 'laglt1',\n",
       " 'laglt5',\n",
       " 'lcmip8',\n",
       " 'lhplt1',\n",
       " 'lhplt12',\n",
       " 'lhplt2',\n",
       " 'lmcms1',\n",
       " 'lmcms10',\n",
       " 'lmcms11',\n",
       " 'lmcms12',\n",
       " 'lmcms2',\n",
       " 'lmcms6',\n",
       " 'lmcms7',\n",
       " 'lmcms8',\n",
       " 'lpvnh14',\n",
       " 'racas10',\n",
       " 'racas11',\n",
       " 'racas12',\n",
       " 'racas7',\n",
       " 'racas9',\n",
       " 'rmcms10',\n",
       " 'rmcms9',\n",
       " 'rmolf8',\n",
       " 'rmolf9',\n",
       " 'rpvnh12']"
      ]
     },
     "execution_count": 45,
     "metadata": {},
     "output_type": "execute_result"
    }
   ],
   "source": [
    "mne_data.info['bads'] #needed to rerun plotting function to find this again?"
   ]
  },
  {
   "cell_type": "code",
   "execution_count": 46,
   "metadata": {},
   "outputs": [],
   "source": [
    "mne_data.save(f'{neural_dir}{subj_id}/lfp_data.fif',overwrite=True)"
   ]
  },
  {
   "cell_type": "code",
   "execution_count": 47,
   "metadata": {},
   "outputs": [],
   "source": [
    "mne_data_reref = mne.set_bipolar_reference(mne_data, \n",
    "                      anode=anode_list, \n",
    "                      cathode=cathode_list,\n",
    "                      copy=True)"
   ]
  },
  {
   "cell_type": "code",
   "execution_count": 48,
   "metadata": {},
   "outputs": [
    {
     "data": {
      "text/html": [
       "<table class=\"table table-hover table-striped table-sm table-responsive small\">\n",
       "    <tr>\n",
       "        <th>Measurement date</th>\n",
       "        \n",
       "        <td>Unknown</td>\n",
       "        \n",
       "    </tr>\n",
       "    <tr>\n",
       "        <th>Experimenter</th>\n",
       "        \n",
       "        <td>Unknown</td>\n",
       "        \n",
       "    </tr>\n",
       "        <th>Participant</th>\n",
       "        \n",
       "        <td>Unknown</td>\n",
       "        \n",
       "    </tr>\n",
       "    <tr>\n",
       "        <th>Digitized points</th>\n",
       "        \n",
       "        <td>168 points</td>\n",
       "        \n",
       "    </tr>\n",
       "    <tr>\n",
       "        <th>Good channels</th>\n",
       "        <td>130 sEEG, 1 Stimulus</td>\n",
       "    </tr>\n",
       "    <tr>\n",
       "        <th>Bad channels</th>\n",
       "        <td>lacas10, lacas11, lacas12, lacas7, lacas8, lacas9, lhplt12, lmcms10, lmcms11, lmcms12, lpvnh14, racas11, racas12, rmcms10, rmcms9, rpvnh12, laglt1-lhplt5, laglt5-lhplt5, lcmip8-lcmip5, lhplt1-lhplt5, lhplt2-lhplt6, lmcms1-lcmip4, lmcms2-lcmip4, lmcms6-lmcms5, lmcms7-lmcms5, lmcms8-lmcms5, racas10-racas4, racas7-rmcms5, racas9-rmcms6, rmolf8-rmcms4, rmolf9-raglt5</td>\n",
       "    </tr>\n",
       "    <tr>\n",
       "        <th>EOG channels</th>\n",
       "        <td>Not available</td>\n",
       "    </tr>\n",
       "    <tr>\n",
       "        <th>ECG channels</th>\n",
       "        <td>Not available</td>\n",
       "    \n",
       "    <tr>\n",
       "        <th>Sampling frequency</th>\n",
       "        <td>500.00 Hz</td>\n",
       "    </tr>\n",
       "    \n",
       "    \n",
       "    <tr>\n",
       "        <th>Highpass</th>\n",
       "        <td>0.00 Hz</td>\n",
       "    </tr>\n",
       "    \n",
       "    \n",
       "    <tr>\n",
       "        <th>Lowpass</th>\n",
       "        <td>250.00 Hz</td>\n",
       "    </tr>\n",
       "    \n",
       "    \n",
       "    \n",
       "    <tr>\n",
       "        <th>Duration</th>\n",
       "        <td>00:42:20 (HH:MM:SS)</td>\n",
       "    </tr>\n",
       "</table>"
      ],
      "text/plain": [
       "<RawArray | 131 x 1269504 (2539.0 s), ~1.24 GB, data loaded>"
      ]
     },
     "execution_count": 48,
     "metadata": {},
     "output_type": "execute_result"
    }
   ],
   "source": [
    "mne_data_reref"
   ]
  },
  {
   "cell_type": "code",
   "execution_count": 50,
   "metadata": {},
   "outputs": [],
   "source": [
    "mne_data_reref.save(f'{neural_dir}{subj_id}/wm_ref_ieeg.fif',overwrite=True)"
   ]
  },
  {
   "cell_type": "code",
   "execution_count": null,
   "metadata": {},
   "outputs": [],
   "source": []
  }
 ],
 "metadata": {
  "kernelspec": {
   "display_name": "Python [conda env:swb_ephys]",
   "language": "python",
   "name": "conda-env-swb_ephys-py"
  },
  "language_info": {
   "codemirror_mode": {
    "name": "ipython",
    "version": 3
   },
   "file_extension": ".py",
   "mimetype": "text/x-python",
   "name": "python",
   "nbconvert_exporter": "python",
   "pygments_lexer": "ipython3",
   "version": "3.10.11"
  }
 },
 "nbformat": 4,
 "nbformat_minor": 2
}
