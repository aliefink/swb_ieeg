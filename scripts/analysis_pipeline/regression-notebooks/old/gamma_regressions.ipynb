{
 "cells": [
  {
   "cell_type": "markdown",
   "id": "58a19e33",
   "metadata": {},
   "source": [
    "# Gamma Mixed Effects Models\n",
    "Created: 08/08/24 \\\n",
    "Updated: //2024 \\\n"
   ]
  },
  {
   "cell_type": "code",
   "execution_count": 1,
   "id": "a53ac954",
   "metadata": {},
   "outputs": [],
   "source": [
    "import numpy as np\n",
    "import mne\n",
    "from glob import glob\n",
    "import matplotlib.pyplot as plt\n",
    "from matplotlib.backends.backend_pdf import PdfPages\n",
    "import seaborn as sns\n",
    "from scipy.stats import zscore, linregress, ttest_ind, ttest_rel, ttest_1samp, pearsonr, spearmanr\n",
    "import pandas as pd\n",
    "from mne.preprocessing.bads import _find_outliers\n",
    "import os \n",
    "import joblib\n",
    "import re\n",
    "import datetime\n",
    "import scipy\n",
    "import random\n",
    "import statsmodels.api as sm\n",
    "import statsmodels.formula.api as smf\n",
    "from statsmodels.stats.outliers_influence import variance_inflation_factor\n",
    "from statsmodels.regression.mixed_linear_model import MixedLM \n",
    "from joblib import Parallel, delayed\n",
    "import pickle\n",
    "import itertools\n",
    "import time \n",
    "from matplotlib.ticker import StrMethodFormatter\n",
    "from matplotlib.colors import ListedColormap,LinearSegmentedColormap\n",
    "import matplotlib as mpl\n",
    "from matplotlib import cm\n",
    "\n",
    "\n",
    "\n",
    "import warnings\n",
    "warnings.filterwarnings('ignore')\n",
    "\n",
    "\n"
   ]
  },
  {
   "cell_type": "code",
   "execution_count": 2,
   "id": "e826d540",
   "metadata": {},
   "outputs": [],
   "source": [
    "%load_ext autoreload\n",
    "%autoreload 2"
   ]
  },
  {
   "cell_type": "code",
   "execution_count": 3,
   "id": "7cdeb07a",
   "metadata": {},
   "outputs": [
    {
     "name": "stdout",
     "output_type": "stream",
     "text": [
      "08082024\n"
     ]
    }
   ],
   "source": [
    "# Specify root directory for un-archived data and results \n",
    "base_dir   = '/sc/arion/projects/guLab/Alie/SWB/'\n",
    "anat_dir   = f'{base_dir}ephys_analysis/recon_labels/'\n",
    "neural_dir = f'{base_dir}ephys_analysis/data/'\n",
    "behav_dir  = f'{base_dir}swb_behav_models/data/behavior_preprocessed/'\n",
    "save_dir   = f'{base_dir}ephys_analysis/results/regression_data/'\n",
    "script_dir = '/hpc/users/finka03/swb_ephys_analysis/scripts/'\n",
    "\n",
    "date = datetime.date.today().strftime('%m%d%Y')\n",
    "print(date)"
   ]
  },
  {
   "cell_type": "code",
   "execution_count": 4,
   "id": "56649f93",
   "metadata": {},
   "outputs": [],
   "source": [
    "import sys\n",
    "sys.path.append(f'{base_dir}ephys_analysis/LFPAnalysis/')\n",
    "\n",
    "from LFPAnalysis import analysis_utils\n",
    "\n",
    "sys.path.append(f'{script_dir}analysis_notebooks/')\n",
    "\n",
    "from ieeg_tools import *"
   ]
  },
  {
   "cell_type": "code",
   "execution_count": 5,
   "id": "80e6cdea",
   "metadata": {},
   "outputs": [],
   "source": [
    "subj_ids = list(pd.read_excel(f'{base_dir}ephys_analysis/subj_info/SWB_subjects.xlsx', sheet_name='Usable_Subjects', usecols=[0]).PatientID)\n",
    "n_subj = len(subj_ids)\n",
    "# subj_ids\n"
   ]
  },
  {
   "cell_type": "code",
   "execution_count": 6,
   "id": "5d12e57a",
   "metadata": {},
   "outputs": [
    {
     "data": {
      "text/html": [
       "<div>\n",
       "<style scoped>\n",
       "    .dataframe tbody tr th:only-of-type {\n",
       "        vertical-align: middle;\n",
       "    }\n",
       "\n",
       "    .dataframe tbody tr th {\n",
       "        vertical-align: top;\n",
       "    }\n",
       "\n",
       "    .dataframe thead th {\n",
       "        text-align: right;\n",
       "    }\n",
       "</style>\n",
       "<table border=\"1\" class=\"dataframe\">\n",
       "  <thead>\n",
       "    <tr style=\"text-align: right;\">\n",
       "      <th></th>\n",
       "      <th>subj_id</th>\n",
       "      <th>bdi</th>\n",
       "    </tr>\n",
       "  </thead>\n",
       "  <tbody>\n",
       "    <tr>\n",
       "      <th>0</th>\n",
       "      <td>MS002</td>\n",
       "      <td>14</td>\n",
       "    </tr>\n",
       "    <tr>\n",
       "      <th>1</th>\n",
       "      <td>MS003</td>\n",
       "      <td>8</td>\n",
       "    </tr>\n",
       "    <tr>\n",
       "      <th>2</th>\n",
       "      <td>MS009</td>\n",
       "      <td>16</td>\n",
       "    </tr>\n",
       "    <tr>\n",
       "      <th>3</th>\n",
       "      <td>MS011</td>\n",
       "      <td>13</td>\n",
       "    </tr>\n",
       "    <tr>\n",
       "      <th>4</th>\n",
       "      <td>MS015</td>\n",
       "      <td>26</td>\n",
       "    </tr>\n",
       "    <tr>\n",
       "      <th>5</th>\n",
       "      <td>MS016</td>\n",
       "      <td>10</td>\n",
       "    </tr>\n",
       "    <tr>\n",
       "      <th>6</th>\n",
       "      <td>MS017</td>\n",
       "      <td>26</td>\n",
       "    </tr>\n",
       "    <tr>\n",
       "      <th>7</th>\n",
       "      <td>MS019</td>\n",
       "      <td>12</td>\n",
       "    </tr>\n",
       "    <tr>\n",
       "      <th>8</th>\n",
       "      <td>MS022</td>\n",
       "      <td>10</td>\n",
       "    </tr>\n",
       "    <tr>\n",
       "      <th>9</th>\n",
       "      <td>MS024</td>\n",
       "      <td>16</td>\n",
       "    </tr>\n",
       "    <tr>\n",
       "      <th>10</th>\n",
       "      <td>MS025</td>\n",
       "      <td>10</td>\n",
       "    </tr>\n",
       "    <tr>\n",
       "      <th>11</th>\n",
       "      <td>MS026</td>\n",
       "      <td>9</td>\n",
       "    </tr>\n",
       "    <tr>\n",
       "      <th>12</th>\n",
       "      <td>MS027</td>\n",
       "      <td>22</td>\n",
       "    </tr>\n",
       "    <tr>\n",
       "      <th>13</th>\n",
       "      <td>MS028</td>\n",
       "      <td>13</td>\n",
       "    </tr>\n",
       "    <tr>\n",
       "      <th>14</th>\n",
       "      <td>MS029</td>\n",
       "      <td>32</td>\n",
       "    </tr>\n",
       "    <tr>\n",
       "      <th>15</th>\n",
       "      <td>MS030</td>\n",
       "      <td>19</td>\n",
       "    </tr>\n",
       "    <tr>\n",
       "      <th>16</th>\n",
       "      <td>MS033</td>\n",
       "      <td>39</td>\n",
       "    </tr>\n",
       "    <tr>\n",
       "      <th>17</th>\n",
       "      <td>MS035</td>\n",
       "      <td>15</td>\n",
       "    </tr>\n",
       "    <tr>\n",
       "      <th>18</th>\n",
       "      <td>MS041</td>\n",
       "      <td>10</td>\n",
       "    </tr>\n",
       "    <tr>\n",
       "      <th>19</th>\n",
       "      <td>MS043</td>\n",
       "      <td>23</td>\n",
       "    </tr>\n",
       "    <tr>\n",
       "      <th>20</th>\n",
       "      <td>MS048</td>\n",
       "      <td>19</td>\n",
       "    </tr>\n",
       "    <tr>\n",
       "      <th>21</th>\n",
       "      <td>MS050</td>\n",
       "      <td>9</td>\n",
       "    </tr>\n",
       "    <tr>\n",
       "      <th>22</th>\n",
       "      <td>DA8</td>\n",
       "      <td>13</td>\n",
       "    </tr>\n",
       "    <tr>\n",
       "      <th>23</th>\n",
       "      <td>DA023</td>\n",
       "      <td>14</td>\n",
       "    </tr>\n",
       "    <tr>\n",
       "      <th>24</th>\n",
       "      <td>DA026</td>\n",
       "      <td>19</td>\n",
       "    </tr>\n",
       "    <tr>\n",
       "      <th>25</th>\n",
       "      <td>DA037</td>\n",
       "      <td>4</td>\n",
       "    </tr>\n",
       "    <tr>\n",
       "      <th>26</th>\n",
       "      <td>DA039</td>\n",
       "      <td>22</td>\n",
       "    </tr>\n",
       "  </tbody>\n",
       "</table>\n",
       "</div>"
      ],
      "text/plain": [
       "   subj_id  bdi\n",
       "0    MS002   14\n",
       "1    MS003    8\n",
       "2    MS009   16\n",
       "3    MS011   13\n",
       "4    MS015   26\n",
       "5    MS016   10\n",
       "6    MS017   26\n",
       "7    MS019   12\n",
       "8    MS022   10\n",
       "9    MS024   16\n",
       "10   MS025   10\n",
       "11   MS026    9\n",
       "12   MS027   22\n",
       "13   MS028   13\n",
       "14   MS029   32\n",
       "15   MS030   19\n",
       "16   MS033   39\n",
       "17   MS035   15\n",
       "18   MS041   10\n",
       "19   MS043   23\n",
       "20   MS048   19\n",
       "21   MS050    9\n",
       "22     DA8   13\n",
       "23   DA023   14\n",
       "24   DA026   19\n",
       "25   DA037    4\n",
       "26   DA039   22"
      ]
     },
     "execution_count": 6,
     "metadata": {},
     "output_type": "execute_result"
    }
   ],
   "source": [
    "bdi_list = pd.read_excel(f'{base_dir}ephys_analysis/subj_info/SWB_subjects.xlsx', sheet_name='Usable_Subjects', usecols=[3])\n",
    "bdi_list = list(bdi_list.SWB_BDI)\n",
    "subj_info_df = pd.DataFrame({'subj_id':subj_ids,'bdi':bdi_list})\n",
    "subj_info_df\n",
    "\n"
   ]
  },
  {
   "cell_type": "code",
   "execution_count": 7,
   "id": "268ae3c0",
   "metadata": {},
   "outputs": [],
   "source": [
    "#### set theme for all plots\n",
    "# %matplotlib inline\n",
    "# from matplotlib import rc\n",
    "# rc('text', usetex=False)\n",
    "\n",
    "sns.set_theme(style='ticks') \n",
    "sns.set_context(\"poster\")\n",
    "\n"
   ]
  },
  {
   "cell_type": "code",
   "execution_count": 8,
   "id": "a8d55d85",
   "metadata": {},
   "outputs": [],
   "source": [
    "from matplotlib.colors import ListedColormap,LinearSegmentedColormap\n",
    "import matplotlib as mpl\n",
    "from matplotlib import cm\n",
    "\n",
    "\n",
    "# saez_cmap colors = org,yellow, sagegreen, darker green, blue, purple \n",
    "\n",
    "# 671351\n",
    "saez_colors    = ['#ffb243','#FCE27C','#6a9752','#1d5d2a','#00467e','#561C46']\n",
    "saez_hex_cmap  = ListedColormap(saez_colors)\n",
    "saez_rgb       = [mpl.colors.to_rgb(hex) for hex in saez_colors]\n",
    "saez_full_cmap = LinearSegmentedColormap.from_list('saez_full_cmap',saez_rgb,N=10)\n",
    "#plot_palette = saez_linear_cmap.resampled(lutsize=30)\n",
    "expanded_cmap  = [mpl.colors.rgb2hex(saez_full_cmap(c)[:3]) for c in range(saez_full_cmap.N)]\n"
   ]
  },
  {
   "cell_type": "code",
   "execution_count": 9,
   "id": "f8253f35",
   "metadata": {},
   "outputs": [
    {
     "data": {
      "image/png": "[encoded data removed]",
      "text/html": [
       "<div style=\"vertical-align: middle;\"><strong>saez_full_cmap</strong> </div><div class=\"cmap\"><img alt=\"saez_full_cmap colormap\" title=\"saez_full_cmap\" style=\"border: 1px solid #555;\" src=\"data:image/png;base64,iVBORw0KGgoAAAANSUhEUgAAAgAAAABACAYAAABsv8+/AAAAHXRFWHRUaXRsZQBzYWV6X2Z1bGxfY21hcCBjb2xvcm1hcL+a5QQAAAAjdEVYdERlc2NyaXB0aW9uAHNhZXpfZnVsbF9jbWFwIGNvbG9ybWFwubEA9QAAADB0RVh0QXV0aG9yAE1hdHBsb3RsaWIgdjMuOC4yLCBodHRwczovL21hdHBsb3RsaWIub3JnDxXeEgAAADJ0RVh0U29mdHdhcmUATWF0cGxvdGxpYiB2My44LjIsIGh0dHBzOi8vbWF0cGxvdGxpYi5vcmchs0E1AAABdklEQVR4nO3WsUmDUQCFUbVPJTY2KTKA7uDAAQdwDIU0IYVFMASDvXGJhw/+75wJ7u2+2+vry/VmQX4f17MnDHNePcyeMMz24zh7wjBvu+V8ed8v58vn6X72hGG+f55mTxhm83WZPWGY5+Nh9oSh7mYPAAD+nwAAgCABAABBAgAAggQAAAQJAAAIEgAAECQAACBIAABAkAAAgCABAABBAgAAggQAAAQJAAAIEgAAECQAACBIAABAkAAAgCABAABBAgAAggQAAAQJAAAIEgAAECQAACBIAABAkAAAgCABAABBAgAAggQAAAQJAAAIEgAAECQAACBIAABAkAAAgCABAABBAgAAggQAAAQJAAAIEgAAECQAACBIAABAkAAAgCABAABBAgAAggQAAAQJAAAIEgAAECQAACBIAABAkAAAgCABAABBAgAAggQAAAQJAAAIEgAAECQAACBIAABAkAAAgCABAABBAgAAggQAAAQJAAAIEgAAEPQH3iAVN3GnBgsAAAAASUVORK5CYII=\"></div><div style=\"vertical-align: middle; max-width: 514px; display: flex; justify-content: space-between;\"><div style=\"float: left;\"><div title=\"#ffb243ff\" style=\"display: inline-block; width: 1em; height: 1em; margin: 0; vertical-align: middle; border: 1px solid #555; background-color: #ffb243ff;\"></div> under</div><div style=\"margin: 0 auto; display: inline-block;\">bad <div title=\"#00000000\" style=\"display: inline-block; width: 1em; height: 1em; margin: 0; vertical-align: middle; border: 1px solid #555; background-color: #00000000;\"></div></div><div style=\"float: right;\">over <div title=\"#561c46ff\" style=\"display: inline-block; width: 1em; height: 1em; margin: 0; vertical-align: middle; border: 1px solid #555; background-color: #561c46ff;\"></div></div>"
      ],
      "text/plain": [
       "<matplotlib.colors.LinearSegmentedColormap at 0x2b6484ed7b50>"
      ]
     },
     "execution_count": 9,
     "metadata": {},
     "output_type": "execute_result"
    }
   ],
   "source": [
    "saez_full_cmap"
   ]
  },
  {
   "cell_type": "markdown",
   "id": "0b76da87",
   "metadata": {},
   "source": [
    "# Load Regression DF"
   ]
  },
  {
   "cell_type": "code",
   "execution_count": 10,
   "id": "8a4551ed",
   "metadata": {},
   "outputs": [],
   "source": [
    "band = 'gamma'"
   ]
  },
  {
   "cell_type": "code",
   "execution_count": 11,
   "id": "83718196",
   "metadata": {},
   "outputs": [
    {
     "data": {
      "text/plain": [
       "array(['MS002', 'MS003', 'MS009', 'MS011', 'MS015', 'MS016', 'MS017',\n",
       "       'MS019', 'MS022', 'MS024', 'MS025', 'MS026', 'MS027', 'MS028',\n",
       "       'MS029', 'MS030', 'MS033', 'MS035', 'MS041', 'MS043', 'MS048',\n",
       "       'MS050', 'DA8', 'DA023', 'DA026', 'DA037', 'DA039'], dtype=object)"
      ]
     },
     "execution_count": 11,
     "metadata": {},
     "output_type": "execute_result"
    }
   ],
   "source": [
    "band_df = pd.read_csv(f'{save_dir}{band}_master_df.csv')\n",
    "band_df.subj_id.unique()"
   ]
  },
  {
   "cell_type": "code",
   "execution_count": 12,
   "id": "95fc6641",
   "metadata": {},
   "outputs": [],
   "source": [
    "roi_reref_labels_master_df = pd.read_csv(glob(f'{base_dir}ephys_analysis/results/roi_info/roi_reref_labels_master.csv')[0])\n",
    "roi_reref_labels_master_df = roi_reref_labels_master_df.drop(columns=['Unnamed: 0'])\n",
    "\n",
    "\n"
   ]
  },
  {
   "cell_type": "code",
   "execution_count": 13,
   "id": "911c782f",
   "metadata": {},
   "outputs": [
    {
     "data": {
      "text/plain": [
       "dmpfc            216\n",
       "ofc              202\n",
       "acc              193\n",
       "sts              155\n",
       "hpc              135\n",
       "amy              113\n",
       "dlpfc            107\n",
       "stg              105\n",
       "vlpfc             82\n",
       "ains              71\n",
       "smg               66\n",
       "pins              60\n",
       "thalamus          58\n",
       "mtg               57\n",
       "temporal pole     31\n",
       "mcc               28\n",
       "motor             25\n",
       "phg               25\n",
       "parietal          24\n",
       "vmpfc             23\n",
       "fusiform          19\n",
       "occipital         19\n",
       "itg               15\n",
       "angular           14\n",
       "somat             11\n",
       "premotor           9\n",
       "caudate            8\n",
       "pcc                1\n",
       "Name: roi, dtype: int64"
      ]
     },
     "execution_count": 13,
     "metadata": {},
     "output_type": "execute_result"
    }
   ],
   "source": [
    "roi_reref_labels_master_df.roi.value_counts()"
   ]
  },
  {
   "cell_type": "code",
   "execution_count": null,
   "id": "09b7d682",
   "metadata": {},
   "outputs": [],
   "source": []
  },
  {
   "cell_type": "code",
   "execution_count": 14,
   "id": "0a83a574",
   "metadata": {},
   "outputs": [
    {
     "data": {
      "text/plain": [
       "['dmpfc',\n",
       " 'ofc',\n",
       " 'acc',\n",
       " 'sts',\n",
       " 'hpc',\n",
       " 'amy',\n",
       " 'dlpfc',\n",
       " 'stg',\n",
       " 'vlpfc',\n",
       " 'ains',\n",
       " 'smg',\n",
       " 'pins',\n",
       " 'thalamus',\n",
       " 'mtg',\n",
       " 'temporal pole',\n",
       " 'mcc',\n",
       " 'motor',\n",
       " 'phg',\n",
       " 'parietal',\n",
       " 'vmpfc']"
      ]
     },
     "execution_count": 14,
     "metadata": {},
     "output_type": "execute_result"
    }
   ],
   "source": [
    "#### filter df by rois with electrode counts >= 50 *** updated to >15\n",
    "keep_rois = roi_reref_labels_master_df.roi.value_counts().index[roi_reref_labels_master_df.roi.value_counts(\n",
    ").values>=20].tolist()\n",
    "\n",
    "# keep_rois = roi_reref_labels_master_df.roi.value_counts().index[\n",
    "#     roi_reref_labels_master_df.roi.value_counts().values>=50].tolist()\n",
    "# keep_rois = ['dlpfc','vlpfc','dmpfc','ofc','ains','pins','acc','hpc','amy','mtg']     \n",
    "keep_rois\n"
   ]
  },
  {
   "cell_type": "code",
   "execution_count": 15,
   "id": "b070b09c",
   "metadata": {},
   "outputs": [
    {
     "data": {
      "text/plain": [
       "244136"
      ]
     },
     "execution_count": 15,
     "metadata": {},
     "output_type": "execute_result"
    }
   ],
   "source": [
    "####### NEW DATA FRAME \n",
    "reg_df = band_df.copy()\n",
    "reg_df = reg_df[reg_df.roi.isin(keep_rois)]\n",
    "len(reg_df)"
   ]
  },
  {
   "cell_type": "code",
   "execution_count": 16,
   "id": "83064f7f",
   "metadata": {
    "scrolled": true
   },
   "outputs": [
    {
     "data": {
      "text/plain": [
       "3.83982303452732"
      ]
     },
     "execution_count": 16,
     "metadata": {},
     "output_type": "execute_result"
    }
   ],
   "source": [
    "np.max(reg_df.band_pow)"
   ]
  },
  {
   "cell_type": "code",
   "execution_count": 17,
   "id": "b1f52041",
   "metadata": {},
   "outputs": [
    {
     "data": {
      "text/plain": [
       "-0.9263426271969608"
      ]
     },
     "execution_count": 17,
     "metadata": {},
     "output_type": "execute_result"
    }
   ],
   "source": [
    "np.min(reg_df.band_pow)"
   ]
  },
  {
   "cell_type": "markdown",
   "id": "b10cafdd",
   "metadata": {},
   "source": [
    "# POW ~ Outcome Vars Regressions"
   ]
  },
  {
   "cell_type": "code",
   "execution_count": 18,
   "id": "709a65f9",
   "metadata": {},
   "outputs": [],
   "source": [
    "outcome_var  = 'band_pow'\n",
    "rand_eff_var = 'unique_reref_ch'"
   ]
  },
  {
   "cell_type": "code",
   "execution_count": 19,
   "id": "1ee247bf",
   "metadata": {},
   "outputs": [
    {
     "name": "stdout",
     "output_type": "stream",
     "text": [
      "               Mixed Linear Model Regression Results\n",
      "===================================================================\n",
      "Model:                MixedLM    Dependent Variable:    band_pow   \n",
      "No. Observations:     244112     Method:                ML         \n",
      "No. Groups:           1776       Scale:                 0.0229     \n",
      "Min. group size:      65         Log-Likelihood:        110950.0227\n",
      "Max. group size:      148        Converged:             Yes        \n",
      "Mean group size:      137.5                                        \n",
      "-------------------------------------------------------------------\n",
      "                        Coef.  Std.Err.    z    P>|z| [0.025 0.975]\n",
      "-------------------------------------------------------------------\n",
      "Intercept               -0.032    0.002 -15.469 0.000 -0.036 -0.028\n",
      "decisionCPE              0.007    0.001   9.402 0.000  0.005  0.008\n",
      "Group Var                0.008    0.002                            \n",
      "Group x decisionCPE Cov  0.000    0.000                            \n",
      "decisionCPE Var          0.000    0.000                            \n",
      "===================================================================\n",
      "\n"
     ]
    },
    {
     "data": {
      "text/plain": [
       "-221825.6131141917"
      ]
     },
     "execution_count": 19,
     "metadata": {},
     "output_type": "execute_result"
    }
   ],
   "source": [
    "final_vars   = ['decisionCPE']\n",
    "final_fit = fit_mixed_model(reg_df,final_vars,outcome_var,rand_eff_var,reml=False)\n",
    "print(final_fit.summary())\n",
    "final_fit.bic  "
   ]
  },
  {
   "cell_type": "code",
   "execution_count": 20,
   "id": "2efd153c",
   "metadata": {},
   "outputs": [
    {
     "name": "stdout",
     "output_type": "stream",
     "text": [
      "               Mixed Linear Model Regression Results\n",
      "===================================================================\n",
      "Model:                MixedLM    Dependent Variable:    band_pow   \n",
      "No. Observations:     244112     Method:                ML         \n",
      "No. Groups:           1776       Scale:                 0.0228     \n",
      "Min. group size:      65         Log-Likelihood:        111058.4656\n",
      "Max. group size:      148        Converged:             Yes        \n",
      "Mean group size:      137.5                                        \n",
      "-------------------------------------------------------------------\n",
      "                        Coef.  Std.Err.    z    P>|z| [0.025 0.975]\n",
      "-------------------------------------------------------------------\n",
      "Intercept               -0.032    0.002 -15.469 0.000 -0.036 -0.028\n",
      "RPE                      0.002    0.001   1.786 0.074 -0.000  0.004\n",
      "decisionCPE              0.005    0.001   5.995 0.000  0.004  0.007\n",
      "Group Var                0.008    0.002                            \n",
      "Group x RPE Cov         -0.000    0.001                            \n",
      "RPE Var                  0.001    0.000                            \n",
      "Group x decisionCPE Cov  0.000    0.001                            \n",
      "RPE x decisionCPE Cov   -0.000    0.000                            \n",
      "decisionCPE Var          0.000    0.000                            \n",
      "===================================================================\n",
      "\n"
     ]
    },
    {
     "data": {
      "text/plain": [
       "-221992.87738089144"
      ]
     },
     "execution_count": 20,
     "metadata": {},
     "output_type": "execute_result"
    }
   ],
   "source": [
    "final_vars   = ['RPE','decisionCPE']\n",
    "final_fit = fit_mixed_model(reg_df,final_vars,outcome_var,rand_eff_var,reml=False)\n",
    "print(final_fit.summary())\n",
    "final_fit.bic  "
   ]
  },
  {
   "cell_type": "code",
   "execution_count": 21,
   "id": "1955df2f",
   "metadata": {},
   "outputs": [
    {
     "name": "stdout",
     "output_type": "stream",
     "text": [
      "                Mixed Linear Model Regression Results\n",
      "=====================================================================\n",
      "Model:                MixedLM     Dependent Variable:     band_pow   \n",
      "No. Observations:     244112      Method:                 ML         \n",
      "No. Groups:           1776        Scale:                  0.0227     \n",
      "Min. group size:      65          Log-Likelihood:         111179.1156\n",
      "Max. group size:      148         Converged:              Yes        \n",
      "Mean group size:      137.5                                          \n",
      "---------------------------------------------------------------------\n",
      "                          Coef.  Std.Err.    z    P>|z| [0.025 0.975]\n",
      "---------------------------------------------------------------------\n",
      "Intercept                 -0.032    0.002 -15.472 0.000 -0.036 -0.028\n",
      "TrialEV                    0.003    0.001   3.950 0.000  0.001  0.004\n",
      "RPE                        0.001    0.001   1.441 0.150 -0.001  0.004\n",
      "decisionCPE                0.006    0.001   6.258 0.000  0.004  0.008\n",
      "Group Var                  0.008    0.002                            \n",
      "Group x TrialEV Cov       -0.000    0.000                            \n",
      "TrialEV Var                0.000    0.000                            \n",
      "Group x RPE Cov           -0.000    0.001                            \n",
      "TrialEV x RPE Cov          0.000    0.000                            \n",
      "RPE Var                    0.001    0.000                            \n",
      "Group x decisionCPE Cov    0.000    0.001                            \n",
      "TrialEV x decisionCPE Cov -0.000    0.000                            \n",
      "RPE x decisionCPE Cov     -0.000    0.000                            \n",
      "decisionCPE Var            0.000    0.000                            \n",
      "=====================================================================\n",
      "\n"
     ]
    },
    {
     "data": {
      "text/plain": [
       "-222172.1504862372"
      ]
     },
     "execution_count": 21,
     "metadata": {},
     "output_type": "execute_result"
    }
   ],
   "source": [
    "final_vars   = ['TrialEV','RPE','decisionCPE']\n",
    "final_fit = fit_mixed_model(reg_df,final_vars,outcome_var,rand_eff_var,reml=False)\n",
    "print(final_fit.summary())\n",
    "final_fit.bic  "
   ]
  },
  {
   "cell_type": "code",
   "execution_count": 22,
   "id": "a0e7453d",
   "metadata": {},
   "outputs": [
    {
     "name": "stdout",
     "output_type": "stream",
     "text": [
      "                        Mixed Linear Model Regression Results\n",
      "=====================================================================================\n",
      "Model:                      MixedLM          Dependent Variable:          band_pow   \n",
      "No. Observations:           244112           Method:                      ML         \n",
      "No. Groups:                 1776             Scale:                       0.0222     \n",
      "Min. group size:            65               Log-Likelihood:              112892.3020\n",
      "Max. group size:            148              Converged:                   Yes        \n",
      "Mean group size:            137.5                                                    \n",
      "-------------------------------------------------------------------------------------\n",
      "                                          Coef.  Std.Err.    z    P>|z| [0.025 0.975]\n",
      "-------------------------------------------------------------------------------------\n",
      "Intercept                                 -0.033    0.002 -15.231 0.000 -0.037 -0.028\n",
      "C(GambleChoice)[T.safe]                    0.002    0.001   1.975 0.048  0.000  0.004\n",
      "TotalProfit                               -0.001    0.001  -0.996 0.319 -0.004  0.001\n",
      "decisionCPE                                0.006    0.001   9.085 0.000  0.005  0.008\n",
      "Group Var                                  0.008    0.002                            \n",
      "Group x C(GambleChoice)[T.safe] Cov       -0.000    0.001                            \n",
      "C(GambleChoice)[T.safe] Var                0.001    0.000                            \n",
      "Group x TotalProfit Cov                   -0.000    0.001                            \n",
      "C(GambleChoice)[T.safe] x TotalProfit Cov  0.000    0.000                            \n",
      "TotalProfit Var                            0.002    0.001                            \n",
      "Group x decisionCPE Cov                    0.000    0.000                            \n",
      "C(GambleChoice)[T.safe] x decisionCPE Cov -0.000    0.000                            \n",
      "TotalProfit x decisionCPE Cov              0.000    0.000                            \n",
      "decisionCPE Var                            0.000    0.000                            \n",
      "=====================================================================================\n",
      "\n"
     ]
    },
    {
     "data": {
      "text/plain": [
       "-225598.52330754307"
      ]
     },
     "execution_count": 22,
     "metadata": {},
     "output_type": "execute_result"
    }
   ],
   "source": [
    "final_vars   = ['C(GambleChoice)', 'TotalProfit', 'decisionCPE']\n",
    "final_fit = fit_mixed_model(reg_df,final_vars,outcome_var,rand_eff_var,reml=False)\n",
    "print(final_fit.summary())\n",
    "final_fit.bic  "
   ]
  },
  {
   "cell_type": "code",
   "execution_count": 23,
   "id": "867371b4",
   "metadata": {},
   "outputs": [
    {
     "name": "stdout",
     "output_type": "stream",
     "text": [
      "                          Mixed Linear Model Regression Results\n",
      "==========================================================================================\n",
      "Model:                       MixedLM            Dependent Variable:            band_pow   \n",
      "No. Observations:            244112             Method:                        ML         \n",
      "No. Groups:                  1776               Scale:                         0.0222     \n",
      "Min. group size:             65                 Log-Likelihood:                112611.8353\n",
      "Max. group size:             148                Converged:                     Yes        \n",
      "Mean group size:             137.5                                                        \n",
      "------------------------------------------------------------------------------------------\n",
      "                                               Coef.  Std.Err.    z    P>|z| [0.025 0.975]\n",
      "------------------------------------------------------------------------------------------\n",
      "Intercept                                      -0.029    0.002 -13.337 0.000 -0.033 -0.025\n",
      "C(TrialType)[T.loss]                           -0.005    0.001  -4.980 0.000 -0.007 -0.003\n",
      "C(TrialType)[T.mix]                            -0.005    0.001  -5.531 0.000 -0.007 -0.003\n",
      "TrialEV                                         0.001    0.001   0.921 0.357 -0.001  0.003\n",
      "TotalProfit                                    -0.002    0.001  -1.323 0.186 -0.004  0.001\n",
      "decisionCPE                                     0.007    0.001   9.330 0.000  0.005  0.008\n",
      "Group Var                                       0.008    0.002                            \n",
      "Group x C(TrialType)[T.loss] Cov               -0.000    0.001                            \n",
      "C(TrialType)[T.loss] Var                        0.001    0.000                            \n",
      "Group x C(TrialType)[T.mix] Cov                -0.000    0.001                            \n",
      "C(TrialType)[T.loss] x C(TrialType)[T.mix] Cov  0.000    0.000                            \n",
      "C(TrialType)[T.mix] Var                         0.000    0.000                            \n",
      "Group x TrialEV Cov                            -0.000    0.001                            \n",
      "C(TrialType)[T.loss] x TrialEV Cov              0.000    0.000                            \n",
      "C(TrialType)[T.mix] x TrialEV Cov               0.000    0.000                            \n",
      "TrialEV Var                                     0.000    0.000                            \n",
      "Group x TotalProfit Cov                        -0.000    0.001                            \n",
      "C(TrialType)[T.loss] x TotalProfit Cov          0.000    0.000                            \n",
      "C(TrialType)[T.mix] x TotalProfit Cov           0.000    0.000                            \n",
      "TrialEV x TotalProfit Cov                      -0.000    0.000                            \n",
      "TotalProfit Var                                 0.002    0.001                            \n",
      "Group x decisionCPE Cov                         0.000    0.000                            \n",
      "C(TrialType)[T.loss] x decisionCPE Cov         -0.000    0.000                            \n",
      "C(TrialType)[T.mix] x decisionCPE Cov           0.000    0.000                            \n",
      "TrialEV x decisionCPE Cov                      -0.000    0.000                            \n",
      "TotalProfit x decisionCPE Cov                   0.000    0.000                            \n",
      "decisionCPE Var                                 0.000    0.000                            \n",
      "==========================================================================================\n",
      "\n"
     ]
    },
    {
     "data": {
      "text/plain": [
       "-224876.31988056592"
      ]
     },
     "execution_count": 23,
     "metadata": {},
     "output_type": "execute_result"
    }
   ],
   "source": [
    "final_vars   = ['C(TrialType)','TrialEV', 'TotalProfit', 'decisionCPE']\n",
    "final_fit = fit_mixed_model(reg_df,final_vars,outcome_var,rand_eff_var,reml=False)\n",
    "print(final_fit.summary())\n",
    "final_fit.bic    "
   ]
  },
  {
   "cell_type": "code",
   "execution_count": 24,
   "id": "9cfa698e",
   "metadata": {
    "scrolled": false
   },
   "outputs": [
    {
     "name": "stdout",
     "output_type": "stream",
     "text": [
      "                        Mixed Linear Model Regression Results\n",
      "=====================================================================================\n",
      "Model:                      MixedLM          Dependent Variable:          band_pow   \n",
      "No. Observations:           244112           Method:                      ML         \n",
      "No. Groups:                 1776             Scale:                       0.0221     \n",
      "Min. group size:            65               Log-Likelihood:              112961.7918\n",
      "Max. group size:            148              Converged:                   Yes        \n",
      "Mean group size:            137.5                                                    \n",
      "-------------------------------------------------------------------------------------\n",
      "                                          Coef.  Std.Err.    z    P>|z| [0.025 0.975]\n",
      "-------------------------------------------------------------------------------------\n",
      "Intercept                                 -0.033    0.002 -15.538 0.000 -0.038 -0.029\n",
      "C(GambleChoice)[T.safe]                    0.004    0.001   3.490 0.000  0.002  0.005\n",
      "TrialEV                                    0.005    0.001   6.670 0.000  0.003  0.006\n",
      "TotalProfit                               -0.001    0.001  -1.186 0.236 -0.004  0.001\n",
      "decisionCPE                                0.006    0.001   9.033 0.000  0.005  0.008\n",
      "Group Var                                  0.008    0.002                            \n",
      "Group x C(GambleChoice)[T.safe] Cov       -0.000    0.001                            \n",
      "C(GambleChoice)[T.safe] Var                0.001    0.000                            \n",
      "Group x TrialEV Cov                       -0.000    0.000                            \n",
      "C(GambleChoice)[T.safe] x TrialEV Cov     -0.000    0.000                            \n",
      "TrialEV Var                                0.000    0.000                            \n",
      "Group x TotalProfit Cov                   -0.000    0.001                            \n",
      "C(GambleChoice)[T.safe] x TotalProfit Cov  0.000    0.000                            \n",
      "TrialEV x TotalProfit Cov                 -0.000    0.000                            \n",
      "TotalProfit Var                            0.002    0.001                            \n",
      "Group x decisionCPE Cov                    0.000    0.000                            \n",
      "C(GambleChoice)[T.safe] x decisionCPE Cov -0.000    0.000                            \n",
      "TrialEV x decisionCPE Cov                  0.000    0.000                            \n",
      "TotalProfit x decisionCPE Cov              0.000    0.000                            \n",
      "decisionCPE Var                            0.000    0.000                            \n",
      "=====================================================================================\n",
      "\n"
     ]
    },
    {
     "data": {
      "text/plain": [
       "-225663.07065107286"
      ]
     },
     "execution_count": 24,
     "metadata": {},
     "output_type": "execute_result"
    }
   ],
   "source": [
    "final_vars   = ['C(GambleChoice)', 'TrialEV','TotalProfit', 'decisionCPE']\n",
    "final_fit = fit_mixed_model(reg_df,final_vars,outcome_var,rand_eff_var,reml=False)\n",
    "print(final_fit.summary())\n",
    "final_fit.bic  "
   ]
  },
  {
   "cell_type": "code",
   "execution_count": 25,
   "id": "63284933",
   "metadata": {},
   "outputs": [
    {
     "name": "stdout",
     "output_type": "stream",
     "text": [
      "                        Mixed Linear Model Regression Results\n",
      "=====================================================================================\n",
      "Model:                      MixedLM          Dependent Variable:          band_pow   \n",
      "No. Observations:           244112           Method:                      ML         \n",
      "No. Groups:                 1776             Scale:                       0.0226     \n",
      "Min. group size:            65               Log-Likelihood:              111506.7948\n",
      "Max. group size:            148              Converged:                   Yes        \n",
      "Mean group size:            137.5                                                    \n",
      "-------------------------------------------------------------------------------------\n",
      "                                          Coef.  Std.Err.    z    P>|z| [0.025 0.975]\n",
      "-------------------------------------------------------------------------------------\n",
      "Intercept                                 -0.034    0.002 -15.588 0.000 -0.038 -0.029\n",
      "C(GambleChoice)[T.safe]                    0.004    0.001   3.793 0.000  0.002  0.006\n",
      "TrialEV                                    0.005    0.001   6.470 0.000  0.003  0.006\n",
      "decisionCPE                                0.006    0.001   9.131 0.000  0.005  0.008\n",
      "Group Var                                  0.008    0.002                            \n",
      "Group x C(GambleChoice)[T.safe] Cov       -0.000    0.001                            \n",
      "C(GambleChoice)[T.safe] Var                0.001    0.000                            \n",
      "Group x TrialEV Cov                       -0.000    0.000                            \n",
      "C(GambleChoice)[T.safe] x TrialEV Cov     -0.000    0.000                            \n",
      "TrialEV Var                                0.000    0.000                            \n",
      "Group x decisionCPE Cov                    0.000    0.000                            \n",
      "C(GambleChoice)[T.safe] x decisionCPE Cov  0.000    0.000                            \n",
      "TrialEV x decisionCPE Cov                  0.000    0.000                            \n",
      "decisionCPE Var                            0.000    0.000                            \n",
      "=====================================================================================\n",
      "\n"
     ]
    },
    {
     "data": {
      "text/plain": [
       "-222827.508890549"
      ]
     },
     "execution_count": 25,
     "metadata": {},
     "output_type": "execute_result"
    }
   ],
   "source": [
    "final_vars   = ['C(GambleChoice)', 'TrialEV', 'decisionCPE']\n",
    "final_fit = fit_mixed_model(reg_df,final_vars,outcome_var,rand_eff_var,reml=False)\n",
    "print(final_fit.summary())\n",
    "final_fit.bic  "
   ]
  },
  {
   "cell_type": "code",
   "execution_count": 26,
   "id": "dd3f78f0",
   "metadata": {},
   "outputs": [
    {
     "name": "stdout",
     "output_type": "stream",
     "text": [
      "                  Mixed Linear Model Regression Results\n",
      "=========================================================================\n",
      "Model:                  MixedLM      Dependent Variable:      band_pow   \n",
      "No. Observations:       244112       Method:                  ML         \n",
      "No. Groups:             1776         Scale:                   0.0223     \n",
      "Min. group size:        65           Log-Likelihood:          112478.8841\n",
      "Max. group size:        148          Converged:               Yes        \n",
      "Mean group size:        137.5                                            \n",
      "-------------------------------------------------------------------------\n",
      "                              Coef.  Std.Err.    z    P>|z| [0.025 0.975]\n",
      "-------------------------------------------------------------------------\n",
      "Intercept                     -0.032    0.002 -15.472 0.000 -0.036 -0.028\n",
      "TrialEV                        0.003    0.001   4.317 0.000  0.002  0.005\n",
      "TotalProfit                   -0.001    0.001  -1.167 0.243 -0.004  0.001\n",
      "decisionCPE                    0.007    0.001   9.263 0.000  0.005  0.008\n",
      "Group Var                      0.008    0.002                            \n",
      "Group x TrialEV Cov           -0.000    0.000                            \n",
      "TrialEV Var                    0.000    0.000                            \n",
      "Group x TotalProfit Cov       -0.000    0.001                            \n",
      "TrialEV x TotalProfit Cov     -0.000    0.000                            \n",
      "TotalProfit Var                0.002    0.001                            \n",
      "Group x decisionCPE Cov        0.000    0.000                            \n",
      "TrialEV x decisionCPE Cov      0.000    0.000                            \n",
      "TotalProfit x decisionCPE Cov  0.000    0.000                            \n",
      "decisionCPE Var                0.000    0.000                            \n",
      "=========================================================================\n",
      "\n"
     ]
    },
    {
     "data": {
      "text/plain": [
       "-224771.6873856092"
      ]
     },
     "execution_count": 26,
     "metadata": {},
     "output_type": "execute_result"
    }
   ],
   "source": [
    "final_vars   = ['TrialEV', 'TotalProfit', 'decisionCPE']\n",
    "final_fit = fit_mixed_model(reg_df,final_vars,outcome_var,rand_eff_var,reml=False)\n",
    "print(final_fit.summary())\n",
    "final_fit.bic  "
   ]
  },
  {
   "cell_type": "code",
   "execution_count": 27,
   "id": "12ef5916",
   "metadata": {},
   "outputs": [
    {
     "name": "stdout",
     "output_type": "stream",
     "text": [
      "                        Mixed Linear Model Regression Results\n",
      "=====================================================================================\n",
      "Model:                      MixedLM          Dependent Variable:          band_pow   \n",
      "No. Observations:           244112           Method:                      ML         \n",
      "No. Groups:                 1776             Scale:                       0.0226     \n",
      "Min. group size:            65               Log-Likelihood:              111453.9818\n",
      "Max. group size:            148              Converged:                   Yes        \n",
      "Mean group size:            137.5                                                    \n",
      "-------------------------------------------------------------------------------------\n",
      "                                          Coef.  Std.Err.    z    P>|z| [0.025 0.975]\n",
      "-------------------------------------------------------------------------------------\n",
      "Intercept                                 -0.033    0.002 -15.310 0.000 -0.037 -0.029\n",
      "C(GambleChoice)[T.safe]                    0.002    0.001   2.357 0.018  0.000  0.004\n",
      "decisionCPE                                0.006    0.001   9.199 0.000  0.005  0.008\n",
      "Group Var                                  0.008    0.002                            \n",
      "Group x C(GambleChoice)[T.safe] Cov       -0.000    0.001                            \n",
      "C(GambleChoice)[T.safe] Var                0.001    0.000                            \n",
      "Group x decisionCPE Cov                    0.000    0.000                            \n",
      "C(GambleChoice)[T.safe] x decisionCPE Cov -0.000    0.000                            \n",
      "decisionCPE Var                            0.000    0.000                            \n",
      "=====================================================================================\n",
      "\n"
     ]
    },
    {
     "data": {
      "text/plain": [
       "-222783.9098229997"
      ]
     },
     "execution_count": 27,
     "metadata": {},
     "output_type": "execute_result"
    }
   ],
   "source": [
    "final_vars   = ['C(GambleChoice)', 'decisionCPE']\n",
    "final_fit = fit_mixed_model(reg_df,final_vars,outcome_var,rand_eff_var,reml=False)\n",
    "print(final_fit.summary())\n",
    "final_fit.bic  "
   ]
  },
  {
   "cell_type": "code",
   "execution_count": 28,
   "id": "1d4c9909",
   "metadata": {},
   "outputs": [
    {
     "name": "stdout",
     "output_type": "stream",
     "text": [
      "                  Mixed Linear Model Regression Results\n",
      "=========================================================================\n",
      "Model:                  MixedLM      Dependent Variable:      band_pow   \n",
      "No. Observations:       244112       Method:                  ML         \n",
      "No. Groups:             1776         Scale:                   0.0224     \n",
      "Min. group size:        65           Log-Likelihood:          112360.8930\n",
      "Max. group size:        148          Converged:               Yes        \n",
      "Mean group size:        137.5                                            \n",
      "-------------------------------------------------------------------------\n",
      "                              Coef.  Std.Err.    z    P>|z| [0.025 0.975]\n",
      "-------------------------------------------------------------------------\n",
      "Intercept                     -0.032    0.002 -15.467 0.000 -0.036 -0.028\n",
      "TotalProfit                   -0.001    0.001  -1.034 0.301 -0.004  0.001\n",
      "decisionCPE                    0.007    0.001   9.299 0.000  0.005  0.008\n",
      "Group Var                      0.008    0.002                            \n",
      "Group x TotalProfit Cov       -0.000    0.001                            \n",
      "TotalProfit Var                0.002    0.001                            \n",
      "Group x decisionCPE Cov        0.000    0.000                            \n",
      "TotalProfit x decisionCPE Cov  0.000    0.000                            \n",
      "decisionCPE Var                0.000    0.000                            \n",
      "=========================================================================\n",
      "\n"
     ]
    },
    {
     "data": {
      "text/plain": [
       "-224597.73219346508"
      ]
     },
     "execution_count": 28,
     "metadata": {},
     "output_type": "execute_result"
    }
   ],
   "source": [
    "final_vars   = ['TotalProfit', 'decisionCPE']\n",
    "final_fit = fit_mixed_model(reg_df,final_vars,outcome_var,rand_eff_var,reml=False)\n",
    "print(final_fit.summary())\n",
    "final_fit.bic  "
   ]
  },
  {
   "cell_type": "code",
   "execution_count": 29,
   "id": "07eca761",
   "metadata": {},
   "outputs": [
    {
     "name": "stdout",
     "output_type": "stream",
     "text": [
      "                Mixed Linear Model Regression Results\n",
      "=====================================================================\n",
      "Model:                MixedLM     Dependent Variable:     band_pow   \n",
      "No. Observations:     244112      Method:                 ML         \n",
      "No. Groups:           1776        Scale:                  0.0228     \n",
      "Min. group size:      65          Log-Likelihood:         111042.7843\n",
      "Max. group size:      148         Converged:              Yes        \n",
      "Mean group size:      137.5                                          \n",
      "---------------------------------------------------------------------\n",
      "                          Coef.  Std.Err.    z    P>|z| [0.025 0.975]\n",
      "---------------------------------------------------------------------\n",
      "Intercept                 -0.032    0.002 -15.476 0.000 -0.036 -0.028\n",
      "TrialEV                    0.003    0.001   4.004 0.000  0.002  0.004\n",
      "decisionCPE                0.007    0.001   9.386 0.000  0.005  0.008\n",
      "Group Var                  0.008    0.002                            \n",
      "Group x TrialEV Cov       -0.000    0.000                            \n",
      "TrialEV Var                0.000    0.000                            \n",
      "Group x decisionCPE Cov    0.000    0.000                            \n",
      "TrialEV x decisionCPE Cov  0.000    0.000                            \n",
      "decisionCPE Var            0.000    0.000                            \n",
      "=====================================================================\n",
      "\n"
     ]
    },
    {
     "data": {
      "text/plain": [
       "-221961.5147740177"
      ]
     },
     "execution_count": 29,
     "metadata": {},
     "output_type": "execute_result"
    }
   ],
   "source": [
    "final_vars   = ['TrialEV', 'decisionCPE']\n",
    "final_fit = fit_mixed_model(reg_df,final_vars,outcome_var,rand_eff_var,reml=False)\n",
    "print(final_fit.summary())\n",
    "final_fit.bic  "
   ]
  },
  {
   "cell_type": "code",
   "execution_count": 30,
   "id": "373051aa",
   "metadata": {},
   "outputs": [
    {
     "name": "stdout",
     "output_type": "stream",
     "text": [
      "                          Mixed Linear Model Regression Results\n",
      "==========================================================================================\n",
      "Model:                       MixedLM            Dependent Variable:            band_pow   \n",
      "No. Observations:            244112             Method:                        ML         \n",
      "No. Groups:                  1776               Scale:                         0.0228     \n",
      "Min. group size:             65                 Log-Likelihood:                111052.3759\n",
      "Max. group size:             148                Converged:                     Yes        \n",
      "Mean group size:             137.5                                                        \n",
      "------------------------------------------------------------------------------------------\n",
      "                                               Coef.  Std.Err.    z    P>|z| [0.025 0.975]\n",
      "------------------------------------------------------------------------------------------\n",
      "Intercept                                      -0.029    0.002 -13.566 0.000 -0.033 -0.025\n",
      "C(TrialType)[T.loss]                           -0.005    0.001  -6.009 0.000 -0.007 -0.004\n",
      "C(TrialType)[T.mix]                            -0.005    0.001  -6.157 0.000 -0.007 -0.003\n",
      "decisionCPE                                     0.007    0.001   9.226 0.000  0.005  0.008\n",
      "Group Var                                       0.008    0.002                            \n",
      "Group x C(TrialType)[T.loss] Cov                0.000    0.001                            \n",
      "C(TrialType)[T.loss] Var                        0.000    0.000                            \n",
      "Group x C(TrialType)[T.mix] Cov                -0.000    0.000                            \n",
      "C(TrialType)[T.loss] x C(TrialType)[T.mix] Cov  0.000    0.000                            \n",
      "C(TrialType)[T.mix] Var                         0.000    0.000                            \n",
      "Group x decisionCPE Cov                         0.000    0.000                            \n",
      "C(TrialType)[T.loss] x decisionCPE Cov         -0.000    0.000                            \n",
      "C(TrialType)[T.mix] x decisionCPE Cov           0.000    0.000                            \n",
      "decisionCPE Var                                 0.000    0.000                            \n",
      "==========================================================================================\n",
      "\n"
     ]
    },
    {
     "data": {
      "text/plain": [
       "-221918.67102764436"
      ]
     },
     "execution_count": 30,
     "metadata": {},
     "output_type": "execute_result"
    }
   ],
   "source": [
    "final_vars   = ['C(TrialType)','decisionCPE']\n",
    "final_fit = fit_mixed_model(reg_df,final_vars,outcome_var,rand_eff_var,reml=False)\n",
    "print(final_fit.summary())\n",
    "final_fit.bic    "
   ]
  },
  {
   "cell_type": "code",
   "execution_count": 31,
   "id": "f9522296",
   "metadata": {},
   "outputs": [
    {
     "name": "stdout",
     "output_type": "stream",
     "text": [
      "                          Mixed Linear Model Regression Results\n",
      "==========================================================================================\n",
      "Model:                       MixedLM            Dependent Variable:            band_pow   \n",
      "No. Observations:            244112             Method:                        ML         \n",
      "No. Groups:                  1776               Scale:                         0.0223     \n",
      "Min. group size:             65                 Log-Likelihood:                112510.1846\n",
      "Max. group size:             148                Converged:                     Yes        \n",
      "Mean group size:             137.5                                                        \n",
      "------------------------------------------------------------------------------------------\n",
      "                                               Coef.  Std.Err.    z    P>|z| [0.025 0.975]\n",
      "------------------------------------------------------------------------------------------\n",
      "Intercept                                      -0.029    0.002 -13.465 0.000 -0.033 -0.025\n",
      "C(TrialType)[T.loss]                           -0.006    0.001  -6.325 0.000 -0.007 -0.004\n",
      "C(TrialType)[T.mix]                            -0.005    0.001  -6.680 0.000 -0.007 -0.004\n",
      "TotalProfit                                    -0.002    0.001  -1.360 0.174 -0.004  0.001\n",
      "decisionCPE                                     0.006    0.001   9.120 0.000  0.005  0.008\n",
      "Group Var                                       0.008    0.002                            \n",
      "Group x C(TrialType)[T.loss] Cov                0.000    0.001                            \n",
      "C(TrialType)[T.loss] Var                        0.000    0.000                            \n",
      "Group x C(TrialType)[T.mix] Cov                -0.000    0.001                            \n",
      "C(TrialType)[T.loss] x C(TrialType)[T.mix] Cov  0.000    0.000                            \n",
      "C(TrialType)[T.mix] Var                         0.000    0.000                            \n",
      "Group x TotalProfit Cov                        -0.000    0.001                            \n",
      "C(TrialType)[T.loss] x TotalProfit Cov          0.000    0.000                            \n",
      "C(TrialType)[T.mix] x TotalProfit Cov           0.000    0.000                            \n",
      "TotalProfit Var                                 0.002    0.001                            \n",
      "Group x decisionCPE Cov                         0.000    0.000                            \n",
      "C(TrialType)[T.loss] x decisionCPE Cov         -0.000    0.000                            \n",
      "C(TrialType)[T.mix] x decisionCPE Cov           0.000    0.000                            \n",
      "TotalProfit x decisionCPE Cov                   0.000    0.000                            \n",
      "decisionCPE Var                                 0.000    0.000                            \n",
      "==========================================================================================\n",
      "\n"
     ]
    },
    {
     "data": {
      "text/plain": [
       "-224759.85620015473"
      ]
     },
     "execution_count": 31,
     "metadata": {},
     "output_type": "execute_result"
    }
   ],
   "source": [
    "final_vars   = ['C(TrialType)','TotalProfit', 'decisionCPE']\n",
    "final_fit = fit_mixed_model(reg_df,final_vars,outcome_var,rand_eff_var,reml=False)\n",
    "print(final_fit.summary())\n",
    "final_fit.bic    "
   ]
  },
  {
   "cell_type": "code",
   "execution_count": 32,
   "id": "7fb47161",
   "metadata": {},
   "outputs": [
    {
     "name": "stdout",
     "output_type": "stream",
     "text": [
      "                          Mixed Linear Model Regression Results\n",
      "==========================================================================================\n",
      "Model:                       MixedLM            Dependent Variable:            band_pow   \n",
      "No. Observations:            244112             Method:                        ML         \n",
      "No. Groups:                  1776               Scale:                         0.0227     \n",
      "Min. group size:             65                 Log-Likelihood:                111143.6040\n",
      "Max. group size:             148                Converged:                     Yes        \n",
      "Mean group size:             137.5                                                        \n",
      "------------------------------------------------------------------------------------------\n",
      "                                               Coef.  Std.Err.    z    P>|z| [0.025 0.975]\n",
      "------------------------------------------------------------------------------------------\n",
      "Intercept                                      -0.029    0.002 -13.406 0.000 -0.033 -0.025\n",
      "C(TrialType)[T.loss]                           -0.005    0.001  -4.809 0.000 -0.007 -0.003\n",
      "C(TrialType)[T.mix]                            -0.005    0.001  -5.160 0.000 -0.006 -0.003\n",
      "TrialEV                                         0.001    0.001   0.706 0.480 -0.001  0.002\n",
      "decisionCPE                                     0.007    0.001   9.448 0.000  0.005  0.008\n",
      "Group Var                                       0.008    0.002                            \n",
      "Group x C(TrialType)[T.loss] Cov               -0.000    0.001                            \n",
      "C(TrialType)[T.loss] Var                        0.001    0.000                            \n",
      "Group x C(TrialType)[T.mix] Cov                -0.000    0.001                            \n",
      "C(TrialType)[T.loss] x C(TrialType)[T.mix] Cov  0.000    0.000                            \n",
      "C(TrialType)[T.mix] Var                         0.000    0.000                            \n",
      "Group x TrialEV Cov                            -0.000    0.001                            \n",
      "C(TrialType)[T.loss] x TrialEV Cov              0.000    0.000                            \n",
      "C(TrialType)[T.mix] x TrialEV Cov               0.000    0.000                            \n",
      "TrialEV Var                                     0.000    0.000                            \n",
      "Group x decisionCPE Cov                         0.000    0.000                            \n",
      "C(TrialType)[T.loss] x decisionCPE Cov         -0.000    0.000                            \n",
      "C(TrialType)[T.mix] x decisionCPE Cov           0.000    0.000                            \n",
      "TrialEV x decisionCPE Cov                      -0.000    0.000                            \n",
      "decisionCPE Var                                 0.000    0.000                            \n",
      "==========================================================================================\n",
      "\n"
     ]
    },
    {
     "data": {
      "text/plain": [
       "-222026.69495317465"
      ]
     },
     "execution_count": 32,
     "metadata": {},
     "output_type": "execute_result"
    }
   ],
   "source": [
    "final_vars   = ['C(TrialType)','TrialEV',  'decisionCPE']\n",
    "final_fit = fit_mixed_model(reg_df,final_vars,outcome_var,rand_eff_var,reml=False)\n",
    "print(final_fit.summary())\n",
    "final_fit.bic    "
   ]
  },
  {
   "cell_type": "markdown",
   "id": "2684e598",
   "metadata": {},
   "source": [
    "\n",
    "## ROI REGRESSIONS\n"
   ]
  },
  {
   "cell_type": "code",
   "execution_count": null,
   "id": "70b21e54",
   "metadata": {},
   "outputs": [],
   "source": [
    "# test_rois = ['dlpfc','vlpfc','dmpfc','ofc','ains','pins', 'acc','hpc','amy','motor']\n"
   ]
  },
  {
   "cell_type": "code",
   "execution_count": 61,
   "id": "fe32cee2",
   "metadata": {},
   "outputs": [],
   "source": [
    "outcome_var  = 'band_pow'\n",
    "rand_eff_var = 'unique_reref_ch'\n",
    "# final_vars   = ['C(GambleChoice)','TotalProfit','decisionCPE']\n",
    "final_vars   = ['C(GambleChoice)','TrialEV','TotalProfit','decisionCPE']"
   ]
  },
  {
   "cell_type": "code",
   "execution_count": 62,
   "id": "d4010256",
   "metadata": {},
   "outputs": [],
   "source": [
    "roi_fit_dict = {f'{roi}':fit_mixed_model(reg_df[reg_df.roi==roi],\n",
    "                                        final_vars,outcome_var,rand_eff_var,reml=False) \n",
    "                for roi in reg_df.roi.unique().tolist()}\n",
    "\n",
    "roi_fit_results = []\n",
    "\n",
    "for roi in list(roi_fit_dict.keys()):\n",
    "    roi_fit = mixed_eff_results_df(roi_fit_dict[roi],reg_df[reg_df.roi==roi])\n",
    "    roi_fit_results.append(roi_fit)\n",
    "    \n",
    "roi_fit_results = pd.concat(roi_fit_results).reset_index(drop=True)\n",
    "\n"
   ]
  },
  {
   "cell_type": "code",
   "execution_count": 63,
   "id": "03cab245",
   "metadata": {},
   "outputs": [
    {
     "data": {
      "text/html": [
       "<div>\n",
       "<style scoped>\n",
       "    .dataframe tbody tr th:only-of-type {\n",
       "        vertical-align: middle;\n",
       "    }\n",
       "\n",
       "    .dataframe tbody tr th {\n",
       "        vertical-align: top;\n",
       "    }\n",
       "\n",
       "    .dataframe thead th {\n",
       "        text-align: right;\n",
       "    }\n",
       "</style>\n",
       "<table border=\"1\" class=\"dataframe\">\n",
       "  <thead>\n",
       "    <tr style=\"text-align: right;\">\n",
       "      <th></th>\n",
       "      <th>unique_reref_ch</th>\n",
       "      <th>subj_id</th>\n",
       "      <th>roi</th>\n",
       "      <th>bdi</th>\n",
       "      <th>raw_Intercept</th>\n",
       "      <th>raw_GambleChoice</th>\n",
       "      <th>raw_TrialEV</th>\n",
       "      <th>raw_TotalProfit</th>\n",
       "      <th>raw_decisionCPE</th>\n",
       "      <th>Intercept</th>\n",
       "      <th>GambleChoice</th>\n",
       "      <th>TrialEV</th>\n",
       "      <th>TotalProfit</th>\n",
       "      <th>decisionCPE</th>\n",
       "    </tr>\n",
       "  </thead>\n",
       "  <tbody>\n",
       "    <tr>\n",
       "      <th>0</th>\n",
       "      <td>MS025_lcmip1-lcmip2</td>\n",
       "      <td>MS025</td>\n",
       "      <td>thalamus</td>\n",
       "      <td>10</td>\n",
       "      <td>-0.041922</td>\n",
       "      <td>-0.004963</td>\n",
       "      <td>0.006384</td>\n",
       "      <td>0.003467</td>\n",
       "      <td>-0.001334</td>\n",
       "      <td>-0.050603</td>\n",
       "      <td>-0.006667</td>\n",
       "      <td>0.012756</td>\n",
       "      <td>0.003826</td>\n",
       "      <td>0.007244</td>\n",
       "    </tr>\n",
       "    <tr>\n",
       "      <th>1</th>\n",
       "      <td>MS025_lcmip2-lcmip3</td>\n",
       "      <td>MS025</td>\n",
       "      <td>thalamus</td>\n",
       "      <td>10</td>\n",
       "      <td>-0.055986</td>\n",
       "      <td>0.008029</td>\n",
       "      <td>0.002798</td>\n",
       "      <td>-0.005047</td>\n",
       "      <td>-0.012606</td>\n",
       "      <td>-0.064667</td>\n",
       "      <td>0.006324</td>\n",
       "      <td>0.009169</td>\n",
       "      <td>-0.004689</td>\n",
       "      <td>-0.004028</td>\n",
       "    </tr>\n",
       "    <tr>\n",
       "      <th>2</th>\n",
       "      <td>MS025_lcmip3-lcmip4</td>\n",
       "      <td>MS025</td>\n",
       "      <td>thalamus</td>\n",
       "      <td>10</td>\n",
       "      <td>-0.156567</td>\n",
       "      <td>0.000332</td>\n",
       "      <td>0.016193</td>\n",
       "      <td>-0.010816</td>\n",
       "      <td>-0.014807</td>\n",
       "      <td>-0.165248</td>\n",
       "      <td>-0.001372</td>\n",
       "      <td>0.022565</td>\n",
       "      <td>-0.010457</td>\n",
       "      <td>-0.006229</td>\n",
       "    </tr>\n",
       "    <tr>\n",
       "      <th>3</th>\n",
       "      <td>MS025_lcmip4-lcmip5</td>\n",
       "      <td>MS025</td>\n",
       "      <td>thalamus</td>\n",
       "      <td>10</td>\n",
       "      <td>-0.068655</td>\n",
       "      <td>0.002167</td>\n",
       "      <td>0.009130</td>\n",
       "      <td>-0.000231</td>\n",
       "      <td>-0.009384</td>\n",
       "      <td>-0.077336</td>\n",
       "      <td>0.000463</td>\n",
       "      <td>0.015501</td>\n",
       "      <td>0.000128</td>\n",
       "      <td>-0.000806</td>\n",
       "    </tr>\n",
       "    <tr>\n",
       "      <th>4</th>\n",
       "      <td>MS025_lcmip5-lcmip6</td>\n",
       "      <td>MS025</td>\n",
       "      <td>thalamus</td>\n",
       "      <td>10</td>\n",
       "      <td>-0.022672</td>\n",
       "      <td>-0.014433</td>\n",
       "      <td>-0.004102</td>\n",
       "      <td>-0.005920</td>\n",
       "      <td>0.010347</td>\n",
       "      <td>-0.031353</td>\n",
       "      <td>-0.016138</td>\n",
       "      <td>0.002270</td>\n",
       "      <td>-0.005562</td>\n",
       "      <td>0.018925</td>\n",
       "    </tr>\n",
       "    <tr>\n",
       "      <th>5</th>\n",
       "      <td>MS025_rcmip1-rcmip2</td>\n",
       "      <td>MS025</td>\n",
       "      <td>thalamus</td>\n",
       "      <td>10</td>\n",
       "      <td>0.014058</td>\n",
       "      <td>0.001088</td>\n",
       "      <td>0.001301</td>\n",
       "      <td>-0.003475</td>\n",
       "      <td>0.002781</td>\n",
       "      <td>0.005377</td>\n",
       "      <td>-0.000617</td>\n",
       "      <td>0.007673</td>\n",
       "      <td>-0.003116</td>\n",
       "      <td>0.011359</td>\n",
       "    </tr>\n",
       "    <tr>\n",
       "      <th>6</th>\n",
       "      <td>MS025_rcmip2-rcmip3</td>\n",
       "      <td>MS025</td>\n",
       "      <td>thalamus</td>\n",
       "      <td>10</td>\n",
       "      <td>0.000316</td>\n",
       "      <td>0.003808</td>\n",
       "      <td>0.002802</td>\n",
       "      <td>-0.004582</td>\n",
       "      <td>-0.000799</td>\n",
       "      <td>-0.008365</td>\n",
       "      <td>0.002103</td>\n",
       "      <td>0.009173</td>\n",
       "      <td>-0.004223</td>\n",
       "      <td>0.007779</td>\n",
       "    </tr>\n",
       "    <tr>\n",
       "      <th>7</th>\n",
       "      <td>MS025_rcmip3-rcmip4</td>\n",
       "      <td>MS025</td>\n",
       "      <td>thalamus</td>\n",
       "      <td>10</td>\n",
       "      <td>0.014386</td>\n",
       "      <td>-0.002828</td>\n",
       "      <td>-0.002669</td>\n",
       "      <td>-0.000395</td>\n",
       "      <td>0.003989</td>\n",
       "      <td>0.005706</td>\n",
       "      <td>-0.004533</td>\n",
       "      <td>0.003703</td>\n",
       "      <td>-0.000037</td>\n",
       "      <td>0.012567</td>\n",
       "    </tr>\n",
       "    <tr>\n",
       "      <th>8</th>\n",
       "      <td>MS025_rcmip4-rcmip5</td>\n",
       "      <td>MS025</td>\n",
       "      <td>thalamus</td>\n",
       "      <td>10</td>\n",
       "      <td>0.017604</td>\n",
       "      <td>-0.004096</td>\n",
       "      <td>-0.003901</td>\n",
       "      <td>-0.002547</td>\n",
       "      <td>0.006017</td>\n",
       "      <td>0.008923</td>\n",
       "      <td>-0.005801</td>\n",
       "      <td>0.002471</td>\n",
       "      <td>-0.002188</td>\n",
       "      <td>0.014595</td>\n",
       "    </tr>\n",
       "    <tr>\n",
       "      <th>9</th>\n",
       "      <td>MS025_rcmip5-rcmip6</td>\n",
       "      <td>MS025</td>\n",
       "      <td>thalamus</td>\n",
       "      <td>10</td>\n",
       "      <td>0.018533</td>\n",
       "      <td>0.000242</td>\n",
       "      <td>-0.004049</td>\n",
       "      <td>0.001687</td>\n",
       "      <td>0.000748</td>\n",
       "      <td>0.009852</td>\n",
       "      <td>-0.001463</td>\n",
       "      <td>0.002323</td>\n",
       "      <td>0.002045</td>\n",
       "      <td>0.009326</td>\n",
       "    </tr>\n",
       "    <tr>\n",
       "      <th>10</th>\n",
       "      <td>MS028_lcmmm1-lcmmm2</td>\n",
       "      <td>MS028</td>\n",
       "      <td>thalamus</td>\n",
       "      <td>13</td>\n",
       "      <td>-0.092305</td>\n",
       "      <td>0.009459</td>\n",
       "      <td>0.006738</td>\n",
       "      <td>-0.012848</td>\n",
       "      <td>-0.015185</td>\n",
       "      <td>-0.100986</td>\n",
       "      <td>0.007754</td>\n",
       "      <td>0.013110</td>\n",
       "      <td>-0.012489</td>\n",
       "      <td>-0.006607</td>\n",
       "    </tr>\n",
       "    <tr>\n",
       "      <th>11</th>\n",
       "      <td>MS028_lcmmm2-lcmmm3</td>\n",
       "      <td>MS028</td>\n",
       "      <td>thalamus</td>\n",
       "      <td>13</td>\n",
       "      <td>0.000647</td>\n",
       "      <td>0.006300</td>\n",
       "      <td>-0.003678</td>\n",
       "      <td>0.010469</td>\n",
       "      <td>-0.010333</td>\n",
       "      <td>-0.008034</td>\n",
       "      <td>0.004595</td>\n",
       "      <td>0.002694</td>\n",
       "      <td>0.010828</td>\n",
       "      <td>-0.001755</td>\n",
       "    </tr>\n",
       "    <tr>\n",
       "      <th>12</th>\n",
       "      <td>MS028_lcmmm3-lcmmm4</td>\n",
       "      <td>MS028</td>\n",
       "      <td>thalamus</td>\n",
       "      <td>13</td>\n",
       "      <td>-0.004859</td>\n",
       "      <td>0.002776</td>\n",
       "      <td>0.001539</td>\n",
       "      <td>-0.001426</td>\n",
       "      <td>-0.002182</td>\n",
       "      <td>-0.013540</td>\n",
       "      <td>0.001071</td>\n",
       "      <td>0.007910</td>\n",
       "      <td>-0.001067</td>\n",
       "      <td>0.006396</td>\n",
       "    </tr>\n",
       "    <tr>\n",
       "      <th>13</th>\n",
       "      <td>MS028_lcmmm4-lcmmm5</td>\n",
       "      <td>MS028</td>\n",
       "      <td>thalamus</td>\n",
       "      <td>13</td>\n",
       "      <td>0.013859</td>\n",
       "      <td>-0.002977</td>\n",
       "      <td>-0.004890</td>\n",
       "      <td>0.018590</td>\n",
       "      <td>-0.003630</td>\n",
       "      <td>0.005178</td>\n",
       "      <td>-0.004682</td>\n",
       "      <td>0.001482</td>\n",
       "      <td>0.018949</td>\n",
       "      <td>0.004948</td>\n",
       "    </tr>\n",
       "    <tr>\n",
       "      <th>14</th>\n",
       "      <td>MS028_rcmmm1-rcmmm2</td>\n",
       "      <td>MS028</td>\n",
       "      <td>thalamus</td>\n",
       "      <td>13</td>\n",
       "      <td>-0.004049</td>\n",
       "      <td>0.000161</td>\n",
       "      <td>0.003603</td>\n",
       "      <td>-0.003116</td>\n",
       "      <td>0.001410</td>\n",
       "      <td>-0.012730</td>\n",
       "      <td>-0.001544</td>\n",
       "      <td>0.009975</td>\n",
       "      <td>-0.002757</td>\n",
       "      <td>0.009988</td>\n",
       "    </tr>\n",
       "    <tr>\n",
       "      <th>15</th>\n",
       "      <td>MS028_rcmmm2-rcmmm3</td>\n",
       "      <td>MS028</td>\n",
       "      <td>thalamus</td>\n",
       "      <td>13</td>\n",
       "      <td>-0.072591</td>\n",
       "      <td>0.012320</td>\n",
       "      <td>0.007126</td>\n",
       "      <td>0.000788</td>\n",
       "      <td>-0.019773</td>\n",
       "      <td>-0.081272</td>\n",
       "      <td>0.010616</td>\n",
       "      <td>0.013498</td>\n",
       "      <td>0.001147</td>\n",
       "      <td>-0.011195</td>\n",
       "    </tr>\n",
       "    <tr>\n",
       "      <th>16</th>\n",
       "      <td>MS028_rcmmm3-rcmmm4</td>\n",
       "      <td>MS028</td>\n",
       "      <td>thalamus</td>\n",
       "      <td>13</td>\n",
       "      <td>-0.012421</td>\n",
       "      <td>0.009833</td>\n",
       "      <td>0.002994</td>\n",
       "      <td>0.011136</td>\n",
       "      <td>-0.013743</td>\n",
       "      <td>-0.021102</td>\n",
       "      <td>0.008128</td>\n",
       "      <td>0.009366</td>\n",
       "      <td>0.011495</td>\n",
       "      <td>-0.005165</td>\n",
       "    </tr>\n",
       "    <tr>\n",
       "      <th>17</th>\n",
       "      <td>MS028_rcmmm4-rcmmm5</td>\n",
       "      <td>MS028</td>\n",
       "      <td>thalamus</td>\n",
       "      <td>13</td>\n",
       "      <td>-0.014720</td>\n",
       "      <td>0.002279</td>\n",
       "      <td>-0.004867</td>\n",
       "      <td>0.005779</td>\n",
       "      <td>-0.007655</td>\n",
       "      <td>-0.023401</td>\n",
       "      <td>0.000574</td>\n",
       "      <td>0.001504</td>\n",
       "      <td>0.006138</td>\n",
       "      <td>0.000923</td>\n",
       "    </tr>\n",
       "    <tr>\n",
       "      <th>18</th>\n",
       "      <td>MS030_lcmmf1-lcmmf2</td>\n",
       "      <td>MS030</td>\n",
       "      <td>thalamus</td>\n",
       "      <td>19</td>\n",
       "      <td>0.008293</td>\n",
       "      <td>0.007030</td>\n",
       "      <td>-0.005139</td>\n",
       "      <td>-0.007021</td>\n",
       "      <td>-0.003732</td>\n",
       "      <td>-0.000388</td>\n",
       "      <td>0.005325</td>\n",
       "      <td>0.001233</td>\n",
       "      <td>-0.006662</td>\n",
       "      <td>0.004846</td>\n",
       "    </tr>\n",
       "    <tr>\n",
       "      <th>19</th>\n",
       "      <td>MS030_lcmmf2-lcmmf3</td>\n",
       "      <td>MS030</td>\n",
       "      <td>thalamus</td>\n",
       "      <td>19</td>\n",
       "      <td>-0.001049</td>\n",
       "      <td>0.005286</td>\n",
       "      <td>0.002464</td>\n",
       "      <td>-0.016226</td>\n",
       "      <td>0.001947</td>\n",
       "      <td>-0.009730</td>\n",
       "      <td>0.003581</td>\n",
       "      <td>0.008836</td>\n",
       "      <td>-0.015867</td>\n",
       "      <td>0.010525</td>\n",
       "    </tr>\n",
       "    <tr>\n",
       "      <th>20</th>\n",
       "      <td>MS030_lcmmf3-lcmmf4</td>\n",
       "      <td>MS030</td>\n",
       "      <td>thalamus</td>\n",
       "      <td>19</td>\n",
       "      <td>0.023841</td>\n",
       "      <td>-0.007530</td>\n",
       "      <td>-0.000441</td>\n",
       "      <td>-0.025701</td>\n",
       "      <td>0.019535</td>\n",
       "      <td>0.015160</td>\n",
       "      <td>-0.009234</td>\n",
       "      <td>0.005931</td>\n",
       "      <td>-0.025342</td>\n",
       "      <td>0.028113</td>\n",
       "    </tr>\n",
       "    <tr>\n",
       "      <th>21</th>\n",
       "      <td>MS030_lcmmf4-lcmmf5</td>\n",
       "      <td>MS030</td>\n",
       "      <td>thalamus</td>\n",
       "      <td>19</td>\n",
       "      <td>0.014940</td>\n",
       "      <td>-0.006406</td>\n",
       "      <td>-0.006338</td>\n",
       "      <td>-0.014732</td>\n",
       "      <td>0.011526</td>\n",
       "      <td>0.006259</td>\n",
       "      <td>-0.008111</td>\n",
       "      <td>0.000034</td>\n",
       "      <td>-0.014373</td>\n",
       "      <td>0.020104</td>\n",
       "    </tr>\n",
       "    <tr>\n",
       "      <th>22</th>\n",
       "      <td>MS030_lcmmf5-lcmmf6</td>\n",
       "      <td>MS030</td>\n",
       "      <td>thalamus</td>\n",
       "      <td>19</td>\n",
       "      <td>0.017383</td>\n",
       "      <td>-0.009721</td>\n",
       "      <td>-0.010338</td>\n",
       "      <td>-0.011498</td>\n",
       "      <td>0.012470</td>\n",
       "      <td>0.008702</td>\n",
       "      <td>-0.011426</td>\n",
       "      <td>-0.003966</td>\n",
       "      <td>-0.011139</td>\n",
       "      <td>0.021048</td>\n",
       "    </tr>\n",
       "    <tr>\n",
       "      <th>23</th>\n",
       "      <td>MS033_lcmag1-lcmag2</td>\n",
       "      <td>MS033</td>\n",
       "      <td>thalamus</td>\n",
       "      <td>39</td>\n",
       "      <td>-0.016655</td>\n",
       "      <td>0.001304</td>\n",
       "      <td>-0.003494</td>\n",
       "      <td>-0.001336</td>\n",
       "      <td>-0.004060</td>\n",
       "      <td>-0.025336</td>\n",
       "      <td>-0.000401</td>\n",
       "      <td>0.002878</td>\n",
       "      <td>-0.000977</td>\n",
       "      <td>0.004518</td>\n",
       "    </tr>\n",
       "    <tr>\n",
       "      <th>24</th>\n",
       "      <td>MS033_lcmag2-lcmag3</td>\n",
       "      <td>MS033</td>\n",
       "      <td>thalamus</td>\n",
       "      <td>39</td>\n",
       "      <td>-0.010981</td>\n",
       "      <td>0.003247</td>\n",
       "      <td>0.001248</td>\n",
       "      <td>0.000155</td>\n",
       "      <td>-0.004178</td>\n",
       "      <td>-0.019662</td>\n",
       "      <td>0.001542</td>\n",
       "      <td>0.007620</td>\n",
       "      <td>0.000514</td>\n",
       "      <td>0.004400</td>\n",
       "    </tr>\n",
       "    <tr>\n",
       "      <th>25</th>\n",
       "      <td>MS033_lcmag3-lcmag4</td>\n",
       "      <td>MS033</td>\n",
       "      <td>thalamus</td>\n",
       "      <td>39</td>\n",
       "      <td>-0.019790</td>\n",
       "      <td>0.006746</td>\n",
       "      <td>0.003576</td>\n",
       "      <td>-0.002095</td>\n",
       "      <td>-0.007038</td>\n",
       "      <td>-0.028470</td>\n",
       "      <td>0.005041</td>\n",
       "      <td>0.009948</td>\n",
       "      <td>-0.001737</td>\n",
       "      <td>0.001540</td>\n",
       "    </tr>\n",
       "    <tr>\n",
       "      <th>26</th>\n",
       "      <td>MS033_lcmag4-lcmag5</td>\n",
       "      <td>MS033</td>\n",
       "      <td>thalamus</td>\n",
       "      <td>39</td>\n",
       "      <td>-0.009372</td>\n",
       "      <td>0.033693</td>\n",
       "      <td>0.013798</td>\n",
       "      <td>0.004159</td>\n",
       "      <td>-0.028546</td>\n",
       "      <td>-0.018053</td>\n",
       "      <td>0.031988</td>\n",
       "      <td>0.020170</td>\n",
       "      <td>0.004517</td>\n",
       "      <td>-0.019968</td>\n",
       "    </tr>\n",
       "    <tr>\n",
       "      <th>27</th>\n",
       "      <td>MS033_lcmag5-lcmag6</td>\n",
       "      <td>MS033</td>\n",
       "      <td>thalamus</td>\n",
       "      <td>39</td>\n",
       "      <td>-0.010089</td>\n",
       "      <td>0.011025</td>\n",
       "      <td>0.011785</td>\n",
       "      <td>0.012126</td>\n",
       "      <td>-0.012369</td>\n",
       "      <td>-0.018770</td>\n",
       "      <td>0.009320</td>\n",
       "      <td>0.018157</td>\n",
       "      <td>0.012484</td>\n",
       "      <td>-0.003791</td>\n",
       "    </tr>\n",
       "    <tr>\n",
       "      <th>28</th>\n",
       "      <td>MS035_lcmip1-lcmip2</td>\n",
       "      <td>MS035</td>\n",
       "      <td>thalamus</td>\n",
       "      <td>15</td>\n",
       "      <td>0.032818</td>\n",
       "      <td>0.006160</td>\n",
       "      <td>-0.001979</td>\n",
       "      <td>0.024745</td>\n",
       "      <td>-0.010308</td>\n",
       "      <td>0.024137</td>\n",
       "      <td>0.004455</td>\n",
       "      <td>0.004393</td>\n",
       "      <td>0.025104</td>\n",
       "      <td>-0.001730</td>\n",
       "    </tr>\n",
       "    <tr>\n",
       "      <th>29</th>\n",
       "      <td>MS035_lcmip2-lcmip3</td>\n",
       "      <td>MS035</td>\n",
       "      <td>thalamus</td>\n",
       "      <td>15</td>\n",
       "      <td>0.055655</td>\n",
       "      <td>-0.013190</td>\n",
       "      <td>-0.010596</td>\n",
       "      <td>0.032498</td>\n",
       "      <td>0.004655</td>\n",
       "      <td>0.046974</td>\n",
       "      <td>-0.014895</td>\n",
       "      <td>-0.004225</td>\n",
       "      <td>0.032857</td>\n",
       "      <td>0.013233</td>\n",
       "    </tr>\n",
       "    <tr>\n",
       "      <th>30</th>\n",
       "      <td>MS035_lcmip3-lcmip4</td>\n",
       "      <td>MS035</td>\n",
       "      <td>thalamus</td>\n",
       "      <td>15</td>\n",
       "      <td>0.010751</td>\n",
       "      <td>0.016236</td>\n",
       "      <td>0.002739</td>\n",
       "      <td>0.026307</td>\n",
       "      <td>-0.021646</td>\n",
       "      <td>0.002070</td>\n",
       "      <td>0.014531</td>\n",
       "      <td>0.009110</td>\n",
       "      <td>0.026666</td>\n",
       "      <td>-0.013068</td>\n",
       "    </tr>\n",
       "    <tr>\n",
       "      <th>31</th>\n",
       "      <td>MS035_lcmip4-lcmip5</td>\n",
       "      <td>MS035</td>\n",
       "      <td>thalamus</td>\n",
       "      <td>15</td>\n",
       "      <td>0.002133</td>\n",
       "      <td>0.001483</td>\n",
       "      <td>-0.007365</td>\n",
       "      <td>0.008128</td>\n",
       "      <td>-0.006062</td>\n",
       "      <td>-0.006548</td>\n",
       "      <td>-0.000222</td>\n",
       "      <td>-0.000993</td>\n",
       "      <td>0.008487</td>\n",
       "      <td>0.002516</td>\n",
       "    </tr>\n",
       "    <tr>\n",
       "      <th>32</th>\n",
       "      <td>MS035_rcmip1-rcmip2</td>\n",
       "      <td>MS035</td>\n",
       "      <td>thalamus</td>\n",
       "      <td>15</td>\n",
       "      <td>0.071917</td>\n",
       "      <td>-0.026824</td>\n",
       "      <td>-0.021016</td>\n",
       "      <td>0.014216</td>\n",
       "      <td>0.022911</td>\n",
       "      <td>0.063237</td>\n",
       "      <td>-0.028529</td>\n",
       "      <td>-0.014645</td>\n",
       "      <td>0.014575</td>\n",
       "      <td>0.031489</td>\n",
       "    </tr>\n",
       "    <tr>\n",
       "      <th>33</th>\n",
       "      <td>MS035_rcmip2-rcmip3</td>\n",
       "      <td>MS035</td>\n",
       "      <td>thalamus</td>\n",
       "      <td>15</td>\n",
       "      <td>0.045802</td>\n",
       "      <td>-0.011479</td>\n",
       "      <td>-0.011910</td>\n",
       "      <td>0.026407</td>\n",
       "      <td>0.003632</td>\n",
       "      <td>0.037121</td>\n",
       "      <td>-0.013184</td>\n",
       "      <td>-0.005538</td>\n",
       "      <td>0.026766</td>\n",
       "      <td>0.012210</td>\n",
       "    </tr>\n",
       "    <tr>\n",
       "      <th>34</th>\n",
       "      <td>MS035_rcmip3-rcmip4</td>\n",
       "      <td>MS035</td>\n",
       "      <td>thalamus</td>\n",
       "      <td>15</td>\n",
       "      <td>0.030264</td>\n",
       "      <td>-0.006150</td>\n",
       "      <td>-0.009628</td>\n",
       "      <td>0.010940</td>\n",
       "      <td>0.003085</td>\n",
       "      <td>0.021583</td>\n",
       "      <td>-0.007855</td>\n",
       "      <td>-0.003256</td>\n",
       "      <td>0.011299</td>\n",
       "      <td>0.011663</td>\n",
       "    </tr>\n",
       "    <tr>\n",
       "      <th>35</th>\n",
       "      <td>MS035_rcmip4-rcmip5</td>\n",
       "      <td>MS035</td>\n",
       "      <td>thalamus</td>\n",
       "      <td>15</td>\n",
       "      <td>0.000891</td>\n",
       "      <td>0.005522</td>\n",
       "      <td>-0.002129</td>\n",
       "      <td>0.021427</td>\n",
       "      <td>-0.013249</td>\n",
       "      <td>-0.007790</td>\n",
       "      <td>0.003817</td>\n",
       "      <td>0.004243</td>\n",
       "      <td>0.021786</td>\n",
       "      <td>-0.004671</td>\n",
       "    </tr>\n",
       "    <tr>\n",
       "      <th>36</th>\n",
       "      <td>MS041_lcm1-lcm2</td>\n",
       "      <td>MS041</td>\n",
       "      <td>thalamus</td>\n",
       "      <td>10</td>\n",
       "      <td>0.013660</td>\n",
       "      <td>0.006154</td>\n",
       "      <td>0.000965</td>\n",
       "      <td>0.008233</td>\n",
       "      <td>-0.006161</td>\n",
       "      <td>0.004979</td>\n",
       "      <td>0.004449</td>\n",
       "      <td>0.007336</td>\n",
       "      <td>0.008592</td>\n",
       "      <td>0.002417</td>\n",
       "    </tr>\n",
       "    <tr>\n",
       "      <th>37</th>\n",
       "      <td>MS041_lcm2-lcm3</td>\n",
       "      <td>MS041</td>\n",
       "      <td>thalamus</td>\n",
       "      <td>10</td>\n",
       "      <td>0.015090</td>\n",
       "      <td>-0.007407</td>\n",
       "      <td>-0.001301</td>\n",
       "      <td>0.005979</td>\n",
       "      <td>0.006098</td>\n",
       "      <td>0.006409</td>\n",
       "      <td>-0.009112</td>\n",
       "      <td>0.005071</td>\n",
       "      <td>0.006338</td>\n",
       "      <td>0.014676</td>\n",
       "    </tr>\n",
       "    <tr>\n",
       "      <th>38</th>\n",
       "      <td>MS041_lcm3-lcm4</td>\n",
       "      <td>MS041</td>\n",
       "      <td>thalamus</td>\n",
       "      <td>10</td>\n",
       "      <td>0.017692</td>\n",
       "      <td>-0.001460</td>\n",
       "      <td>-0.001333</td>\n",
       "      <td>0.007531</td>\n",
       "      <td>0.000680</td>\n",
       "      <td>0.009011</td>\n",
       "      <td>-0.003165</td>\n",
       "      <td>0.005039</td>\n",
       "      <td>0.007889</td>\n",
       "      <td>0.009259</td>\n",
       "    </tr>\n",
       "    <tr>\n",
       "      <th>39</th>\n",
       "      <td>MS041_lcm4-lcm5</td>\n",
       "      <td>MS041</td>\n",
       "      <td>thalamus</td>\n",
       "      <td>10</td>\n",
       "      <td>0.010198</td>\n",
       "      <td>-0.000013</td>\n",
       "      <td>0.001340</td>\n",
       "      <td>-0.005001</td>\n",
       "      <td>0.003746</td>\n",
       "      <td>0.001517</td>\n",
       "      <td>-0.001718</td>\n",
       "      <td>0.007712</td>\n",
       "      <td>-0.004643</td>\n",
       "      <td>0.012324</td>\n",
       "    </tr>\n",
       "    <tr>\n",
       "      <th>40</th>\n",
       "      <td>MS041_rcm1-rcm2</td>\n",
       "      <td>MS041</td>\n",
       "      <td>thalamus</td>\n",
       "      <td>10</td>\n",
       "      <td>0.019172</td>\n",
       "      <td>0.004389</td>\n",
       "      <td>0.004805</td>\n",
       "      <td>0.009875</td>\n",
       "      <td>-0.003358</td>\n",
       "      <td>0.010491</td>\n",
       "      <td>0.002685</td>\n",
       "      <td>0.011177</td>\n",
       "      <td>0.010234</td>\n",
       "      <td>0.005220</td>\n",
       "    </tr>\n",
       "    <tr>\n",
       "      <th>41</th>\n",
       "      <td>MS041_rcm2-rcm3</td>\n",
       "      <td>MS041</td>\n",
       "      <td>thalamus</td>\n",
       "      <td>10</td>\n",
       "      <td>0.014216</td>\n",
       "      <td>0.002530</td>\n",
       "      <td>-0.001328</td>\n",
       "      <td>0.017260</td>\n",
       "      <td>-0.006912</td>\n",
       "      <td>0.005535</td>\n",
       "      <td>0.000825</td>\n",
       "      <td>0.005044</td>\n",
       "      <td>0.017619</td>\n",
       "      <td>0.001666</td>\n",
       "    </tr>\n",
       "    <tr>\n",
       "      <th>42</th>\n",
       "      <td>MS041_rcm3-rcm4</td>\n",
       "      <td>MS041</td>\n",
       "      <td>thalamus</td>\n",
       "      <td>10</td>\n",
       "      <td>0.016410</td>\n",
       "      <td>0.000627</td>\n",
       "      <td>0.005004</td>\n",
       "      <td>0.010921</td>\n",
       "      <td>-0.000796</td>\n",
       "      <td>0.007729</td>\n",
       "      <td>-0.001078</td>\n",
       "      <td>0.011376</td>\n",
       "      <td>0.011280</td>\n",
       "      <td>0.007782</td>\n",
       "    </tr>\n",
       "    <tr>\n",
       "      <th>43</th>\n",
       "      <td>MS041_rcm4-rcm5</td>\n",
       "      <td>MS041</td>\n",
       "      <td>thalamus</td>\n",
       "      <td>10</td>\n",
       "      <td>0.003621</td>\n",
       "      <td>0.000774</td>\n",
       "      <td>-0.001784</td>\n",
       "      <td>-0.001672</td>\n",
       "      <td>-0.000024</td>\n",
       "      <td>-0.005060</td>\n",
       "      <td>-0.000931</td>\n",
       "      <td>0.004588</td>\n",
       "      <td>-0.001314</td>\n",
       "      <td>0.008554</td>\n",
       "    </tr>\n",
       "    <tr>\n",
       "      <th>44</th>\n",
       "      <td>MS048_lcmang1-lcmang2</td>\n",
       "      <td>MS048</td>\n",
       "      <td>thalamus</td>\n",
       "      <td>19</td>\n",
       "      <td>0.016081</td>\n",
       "      <td>0.004434</td>\n",
       "      <td>-0.003960</td>\n",
       "      <td>-0.000829</td>\n",
       "      <td>-0.002281</td>\n",
       "      <td>0.007400</td>\n",
       "      <td>0.002729</td>\n",
       "      <td>0.002411</td>\n",
       "      <td>-0.000470</td>\n",
       "      <td>0.006297</td>\n",
       "    </tr>\n",
       "    <tr>\n",
       "      <th>45</th>\n",
       "      <td>MS048_lcmang2-lcmang3</td>\n",
       "      <td>MS048</td>\n",
       "      <td>thalamus</td>\n",
       "      <td>19</td>\n",
       "      <td>-0.007118</td>\n",
       "      <td>-0.009452</td>\n",
       "      <td>0.009198</td>\n",
       "      <td>-0.012762</td>\n",
       "      <td>0.014513</td>\n",
       "      <td>-0.015799</td>\n",
       "      <td>-0.011156</td>\n",
       "      <td>0.015569</td>\n",
       "      <td>-0.012404</td>\n",
       "      <td>0.023091</td>\n",
       "    </tr>\n",
       "    <tr>\n",
       "      <th>46</th>\n",
       "      <td>MS048_lcmang3-lcmang4</td>\n",
       "      <td>MS048</td>\n",
       "      <td>thalamus</td>\n",
       "      <td>19</td>\n",
       "      <td>0.014163</td>\n",
       "      <td>-0.006648</td>\n",
       "      <td>0.004813</td>\n",
       "      <td>0.002926</td>\n",
       "      <td>0.008159</td>\n",
       "      <td>0.005482</td>\n",
       "      <td>-0.008353</td>\n",
       "      <td>0.011185</td>\n",
       "      <td>0.003285</td>\n",
       "      <td>0.016737</td>\n",
       "    </tr>\n",
       "    <tr>\n",
       "      <th>47</th>\n",
       "      <td>MS048_rcmang1-rcmang2</td>\n",
       "      <td>MS048</td>\n",
       "      <td>thalamus</td>\n",
       "      <td>19</td>\n",
       "      <td>0.023120</td>\n",
       "      <td>0.002510</td>\n",
       "      <td>-0.005355</td>\n",
       "      <td>-0.008541</td>\n",
       "      <td>0.002918</td>\n",
       "      <td>0.014439</td>\n",
       "      <td>0.000805</td>\n",
       "      <td>0.001017</td>\n",
       "      <td>-0.008183</td>\n",
       "      <td>0.011496</td>\n",
       "    </tr>\n",
       "    <tr>\n",
       "      <th>48</th>\n",
       "      <td>MS048_rcmang2-rcmang3</td>\n",
       "      <td>MS048</td>\n",
       "      <td>thalamus</td>\n",
       "      <td>19</td>\n",
       "      <td>0.044468</td>\n",
       "      <td>-0.031829</td>\n",
       "      <td>-0.003089</td>\n",
       "      <td>-0.021630</td>\n",
       "      <td>0.041555</td>\n",
       "      <td>0.035787</td>\n",
       "      <td>-0.033533</td>\n",
       "      <td>0.003283</td>\n",
       "      <td>-0.021271</td>\n",
       "      <td>0.050133</td>\n",
       "    </tr>\n",
       "    <tr>\n",
       "      <th>49</th>\n",
       "      <td>MS048_rcmang3-rcmang4</td>\n",
       "      <td>MS048</td>\n",
       "      <td>thalamus</td>\n",
       "      <td>19</td>\n",
       "      <td>0.027543</td>\n",
       "      <td>0.003419</td>\n",
       "      <td>-0.004907</td>\n",
       "      <td>-0.008592</td>\n",
       "      <td>0.002915</td>\n",
       "      <td>0.018862</td>\n",
       "      <td>0.001714</td>\n",
       "      <td>0.001465</td>\n",
       "      <td>-0.008233</td>\n",
       "      <td>0.011493</td>\n",
       "    </tr>\n",
       "    <tr>\n",
       "      <th>50</th>\n",
       "      <td>MS048_rcmang4-rcmang5</td>\n",
       "      <td>MS048</td>\n",
       "      <td>thalamus</td>\n",
       "      <td>19</td>\n",
       "      <td>0.039168</td>\n",
       "      <td>-0.007350</td>\n",
       "      <td>0.003817</td>\n",
       "      <td>0.008170</td>\n",
       "      <td>0.010205</td>\n",
       "      <td>0.030487</td>\n",
       "      <td>-0.009055</td>\n",
       "      <td>0.010188</td>\n",
       "      <td>0.008529</td>\n",
       "      <td>0.018783</td>\n",
       "    </tr>\n",
       "    <tr>\n",
       "      <th>51</th>\n",
       "      <td>MS050_lcmang1-lcmang2</td>\n",
       "      <td>MS050</td>\n",
       "      <td>thalamus</td>\n",
       "      <td>9</td>\n",
       "      <td>-0.006631</td>\n",
       "      <td>-0.003491</td>\n",
       "      <td>0.001219</td>\n",
       "      <td>-0.016228</td>\n",
       "      <td>0.008448</td>\n",
       "      <td>-0.015312</td>\n",
       "      <td>-0.005196</td>\n",
       "      <td>0.007591</td>\n",
       "      <td>-0.015870</td>\n",
       "      <td>0.017026</td>\n",
       "    </tr>\n",
       "    <tr>\n",
       "      <th>52</th>\n",
       "      <td>MS050_lcmang2-lcmang3</td>\n",
       "      <td>MS050</td>\n",
       "      <td>thalamus</td>\n",
       "      <td>9</td>\n",
       "      <td>-0.004637</td>\n",
       "      <td>-0.009331</td>\n",
       "      <td>0.003077</td>\n",
       "      <td>-0.016789</td>\n",
       "      <td>0.014572</td>\n",
       "      <td>-0.013318</td>\n",
       "      <td>-0.011036</td>\n",
       "      <td>0.009448</td>\n",
       "      <td>-0.016430</td>\n",
       "      <td>0.023150</td>\n",
       "    </tr>\n",
       "    <tr>\n",
       "      <th>53</th>\n",
       "      <td>MS050_lcmang3-lcmang4</td>\n",
       "      <td>MS050</td>\n",
       "      <td>thalamus</td>\n",
       "      <td>9</td>\n",
       "      <td>-0.000124</td>\n",
       "      <td>-0.005131</td>\n",
       "      <td>-0.003611</td>\n",
       "      <td>-0.024015</td>\n",
       "      <td>0.012411</td>\n",
       "      <td>-0.008805</td>\n",
       "      <td>-0.006836</td>\n",
       "      <td>0.002761</td>\n",
       "      <td>-0.023656</td>\n",
       "      <td>0.020989</td>\n",
       "    </tr>\n",
       "    <tr>\n",
       "      <th>54</th>\n",
       "      <td>MS050_lcmang4-lcmang5</td>\n",
       "      <td>MS050</td>\n",
       "      <td>thalamus</td>\n",
       "      <td>9</td>\n",
       "      <td>-0.028154</td>\n",
       "      <td>-0.002956</td>\n",
       "      <td>-0.000938</td>\n",
       "      <td>-0.022478</td>\n",
       "      <td>0.006560</td>\n",
       "      <td>-0.036835</td>\n",
       "      <td>-0.004661</td>\n",
       "      <td>0.005434</td>\n",
       "      <td>-0.022119</td>\n",
       "      <td>0.015138</td>\n",
       "    </tr>\n",
       "    <tr>\n",
       "      <th>55</th>\n",
       "      <td>MS050_rcmsmg1-rcmsmg2</td>\n",
       "      <td>MS050</td>\n",
       "      <td>thalamus</td>\n",
       "      <td>9</td>\n",
       "      <td>-0.003792</td>\n",
       "      <td>0.012292</td>\n",
       "      <td>0.012838</td>\n",
       "      <td>-0.020690</td>\n",
       "      <td>-0.000039</td>\n",
       "      <td>-0.012473</td>\n",
       "      <td>0.010588</td>\n",
       "      <td>0.019210</td>\n",
       "      <td>-0.020331</td>\n",
       "      <td>0.008539</td>\n",
       "    </tr>\n",
       "    <tr>\n",
       "      <th>56</th>\n",
       "      <td>MS050_rcmsmg2-rcmsmg3</td>\n",
       "      <td>MS050</td>\n",
       "      <td>thalamus</td>\n",
       "      <td>9</td>\n",
       "      <td>0.008141</td>\n",
       "      <td>-0.002234</td>\n",
       "      <td>-0.001519</td>\n",
       "      <td>0.004890</td>\n",
       "      <td>0.000918</td>\n",
       "      <td>-0.000540</td>\n",
       "      <td>-0.003939</td>\n",
       "      <td>0.004853</td>\n",
       "      <td>0.005249</td>\n",
       "      <td>0.009496</td>\n",
       "    </tr>\n",
       "    <tr>\n",
       "      <th>57</th>\n",
       "      <td>MS050_rcmsmg3-rcmsmg4</td>\n",
       "      <td>MS050</td>\n",
       "      <td>thalamus</td>\n",
       "      <td>9</td>\n",
       "      <td>-0.011691</td>\n",
       "      <td>0.004242</td>\n",
       "      <td>0.004361</td>\n",
       "      <td>-0.020569</td>\n",
       "      <td>0.003440</td>\n",
       "      <td>-0.020372</td>\n",
       "      <td>0.002537</td>\n",
       "      <td>0.010733</td>\n",
       "      <td>-0.020210</td>\n",
       "      <td>0.012018</td>\n",
       "    </tr>\n",
       "  </tbody>\n",
       "</table>\n",
       "</div>"
      ],
      "text/plain": [
       "          unique_reref_ch subj_id       roi  bdi  raw_Intercept  \\\n",
       "0     MS025_lcmip1-lcmip2   MS025  thalamus   10      -0.041922   \n",
       "1     MS025_lcmip2-lcmip3   MS025  thalamus   10      -0.055986   \n",
       "2     MS025_lcmip3-lcmip4   MS025  thalamus   10      -0.156567   \n",
       "3     MS025_lcmip4-lcmip5   MS025  thalamus   10      -0.068655   \n",
       "4     MS025_lcmip5-lcmip6   MS025  thalamus   10      -0.022672   \n",
       "5     MS025_rcmip1-rcmip2   MS025  thalamus   10       0.014058   \n",
       "6     MS025_rcmip2-rcmip3   MS025  thalamus   10       0.000316   \n",
       "7     MS025_rcmip3-rcmip4   MS025  thalamus   10       0.014386   \n",
       "8     MS025_rcmip4-rcmip5   MS025  thalamus   10       0.017604   \n",
       "9     MS025_rcmip5-rcmip6   MS025  thalamus   10       0.018533   \n",
       "10    MS028_lcmmm1-lcmmm2   MS028  thalamus   13      -0.092305   \n",
       "11    MS028_lcmmm2-lcmmm3   MS028  thalamus   13       0.000647   \n",
       "12    MS028_lcmmm3-lcmmm4   MS028  thalamus   13      -0.004859   \n",
       "13    MS028_lcmmm4-lcmmm5   MS028  thalamus   13       0.013859   \n",
       "14    MS028_rcmmm1-rcmmm2   MS028  thalamus   13      -0.004049   \n",
       "15    MS028_rcmmm2-rcmmm3   MS028  thalamus   13      -0.072591   \n",
       "16    MS028_rcmmm3-rcmmm4   MS028  thalamus   13      -0.012421   \n",
       "17    MS028_rcmmm4-rcmmm5   MS028  thalamus   13      -0.014720   \n",
       "18    MS030_lcmmf1-lcmmf2   MS030  thalamus   19       0.008293   \n",
       "19    MS030_lcmmf2-lcmmf3   MS030  thalamus   19      -0.001049   \n",
       "20    MS030_lcmmf3-lcmmf4   MS030  thalamus   19       0.023841   \n",
       "21    MS030_lcmmf4-lcmmf5   MS030  thalamus   19       0.014940   \n",
       "22    MS030_lcmmf5-lcmmf6   MS030  thalamus   19       0.017383   \n",
       "23    MS033_lcmag1-lcmag2   MS033  thalamus   39      -0.016655   \n",
       "24    MS033_lcmag2-lcmag3   MS033  thalamus   39      -0.010981   \n",
       "25    MS033_lcmag3-lcmag4   MS033  thalamus   39      -0.019790   \n",
       "26    MS033_lcmag4-lcmag5   MS033  thalamus   39      -0.009372   \n",
       "27    MS033_lcmag5-lcmag6   MS033  thalamus   39      -0.010089   \n",
       "28    MS035_lcmip1-lcmip2   MS035  thalamus   15       0.032818   \n",
       "29    MS035_lcmip2-lcmip3   MS035  thalamus   15       0.055655   \n",
       "30    MS035_lcmip3-lcmip4   MS035  thalamus   15       0.010751   \n",
       "31    MS035_lcmip4-lcmip5   MS035  thalamus   15       0.002133   \n",
       "32    MS035_rcmip1-rcmip2   MS035  thalamus   15       0.071917   \n",
       "33    MS035_rcmip2-rcmip3   MS035  thalamus   15       0.045802   \n",
       "34    MS035_rcmip3-rcmip4   MS035  thalamus   15       0.030264   \n",
       "35    MS035_rcmip4-rcmip5   MS035  thalamus   15       0.000891   \n",
       "36        MS041_lcm1-lcm2   MS041  thalamus   10       0.013660   \n",
       "37        MS041_lcm2-lcm3   MS041  thalamus   10       0.015090   \n",
       "38        MS041_lcm3-lcm4   MS041  thalamus   10       0.017692   \n",
       "39        MS041_lcm4-lcm5   MS041  thalamus   10       0.010198   \n",
       "40        MS041_rcm1-rcm2   MS041  thalamus   10       0.019172   \n",
       "41        MS041_rcm2-rcm3   MS041  thalamus   10       0.014216   \n",
       "42        MS041_rcm3-rcm4   MS041  thalamus   10       0.016410   \n",
       "43        MS041_rcm4-rcm5   MS041  thalamus   10       0.003621   \n",
       "44  MS048_lcmang1-lcmang2   MS048  thalamus   19       0.016081   \n",
       "45  MS048_lcmang2-lcmang3   MS048  thalamus   19      -0.007118   \n",
       "46  MS048_lcmang3-lcmang4   MS048  thalamus   19       0.014163   \n",
       "47  MS048_rcmang1-rcmang2   MS048  thalamus   19       0.023120   \n",
       "48  MS048_rcmang2-rcmang3   MS048  thalamus   19       0.044468   \n",
       "49  MS048_rcmang3-rcmang4   MS048  thalamus   19       0.027543   \n",
       "50  MS048_rcmang4-rcmang5   MS048  thalamus   19       0.039168   \n",
       "51  MS050_lcmang1-lcmang2   MS050  thalamus    9      -0.006631   \n",
       "52  MS050_lcmang2-lcmang3   MS050  thalamus    9      -0.004637   \n",
       "53  MS050_lcmang3-lcmang4   MS050  thalamus    9      -0.000124   \n",
       "54  MS050_lcmang4-lcmang5   MS050  thalamus    9      -0.028154   \n",
       "55  MS050_rcmsmg1-rcmsmg2   MS050  thalamus    9      -0.003792   \n",
       "56  MS050_rcmsmg2-rcmsmg3   MS050  thalamus    9       0.008141   \n",
       "57  MS050_rcmsmg3-rcmsmg4   MS050  thalamus    9      -0.011691   \n",
       "\n",
       "    raw_GambleChoice  raw_TrialEV  raw_TotalProfit  raw_decisionCPE  \\\n",
       "0          -0.004963     0.006384         0.003467        -0.001334   \n",
       "1           0.008029     0.002798        -0.005047        -0.012606   \n",
       "2           0.000332     0.016193        -0.010816        -0.014807   \n",
       "3           0.002167     0.009130        -0.000231        -0.009384   \n",
       "4          -0.014433    -0.004102        -0.005920         0.010347   \n",
       "5           0.001088     0.001301        -0.003475         0.002781   \n",
       "6           0.003808     0.002802        -0.004582        -0.000799   \n",
       "7          -0.002828    -0.002669        -0.000395         0.003989   \n",
       "8          -0.004096    -0.003901        -0.002547         0.006017   \n",
       "9           0.000242    -0.004049         0.001687         0.000748   \n",
       "10          0.009459     0.006738        -0.012848        -0.015185   \n",
       "11          0.006300    -0.003678         0.010469        -0.010333   \n",
       "12          0.002776     0.001539        -0.001426        -0.002182   \n",
       "13         -0.002977    -0.004890         0.018590        -0.003630   \n",
       "14          0.000161     0.003603        -0.003116         0.001410   \n",
       "15          0.012320     0.007126         0.000788        -0.019773   \n",
       "16          0.009833     0.002994         0.011136        -0.013743   \n",
       "17          0.002279    -0.004867         0.005779        -0.007655   \n",
       "18          0.007030    -0.005139        -0.007021        -0.003732   \n",
       "19          0.005286     0.002464        -0.016226         0.001947   \n",
       "20         -0.007530    -0.000441        -0.025701         0.019535   \n",
       "21         -0.006406    -0.006338        -0.014732         0.011526   \n",
       "22         -0.009721    -0.010338        -0.011498         0.012470   \n",
       "23          0.001304    -0.003494        -0.001336        -0.004060   \n",
       "24          0.003247     0.001248         0.000155        -0.004178   \n",
       "25          0.006746     0.003576        -0.002095        -0.007038   \n",
       "26          0.033693     0.013798         0.004159        -0.028546   \n",
       "27          0.011025     0.011785         0.012126        -0.012369   \n",
       "28          0.006160    -0.001979         0.024745        -0.010308   \n",
       "29         -0.013190    -0.010596         0.032498         0.004655   \n",
       "30          0.016236     0.002739         0.026307        -0.021646   \n",
       "31          0.001483    -0.007365         0.008128        -0.006062   \n",
       "32         -0.026824    -0.021016         0.014216         0.022911   \n",
       "33         -0.011479    -0.011910         0.026407         0.003632   \n",
       "34         -0.006150    -0.009628         0.010940         0.003085   \n",
       "35          0.005522    -0.002129         0.021427        -0.013249   \n",
       "36          0.006154     0.000965         0.008233        -0.006161   \n",
       "37         -0.007407    -0.001301         0.005979         0.006098   \n",
       "38         -0.001460    -0.001333         0.007531         0.000680   \n",
       "39         -0.000013     0.001340        -0.005001         0.003746   \n",
       "40          0.004389     0.004805         0.009875        -0.003358   \n",
       "41          0.002530    -0.001328         0.017260        -0.006912   \n",
       "42          0.000627     0.005004         0.010921        -0.000796   \n",
       "43          0.000774    -0.001784        -0.001672        -0.000024   \n",
       "44          0.004434    -0.003960        -0.000829        -0.002281   \n",
       "45         -0.009452     0.009198        -0.012762         0.014513   \n",
       "46         -0.006648     0.004813         0.002926         0.008159   \n",
       "47          0.002510    -0.005355        -0.008541         0.002918   \n",
       "48         -0.031829    -0.003089        -0.021630         0.041555   \n",
       "49          0.003419    -0.004907        -0.008592         0.002915   \n",
       "50         -0.007350     0.003817         0.008170         0.010205   \n",
       "51         -0.003491     0.001219        -0.016228         0.008448   \n",
       "52         -0.009331     0.003077        -0.016789         0.014572   \n",
       "53         -0.005131    -0.003611        -0.024015         0.012411   \n",
       "54         -0.002956    -0.000938        -0.022478         0.006560   \n",
       "55          0.012292     0.012838        -0.020690        -0.000039   \n",
       "56         -0.002234    -0.001519         0.004890         0.000918   \n",
       "57          0.004242     0.004361        -0.020569         0.003440   \n",
       "\n",
       "    Intercept  GambleChoice   TrialEV  TotalProfit  decisionCPE  \n",
       "0   -0.050603     -0.006667  0.012756     0.003826     0.007244  \n",
       "1   -0.064667      0.006324  0.009169    -0.004689    -0.004028  \n",
       "2   -0.165248     -0.001372  0.022565    -0.010457    -0.006229  \n",
       "3   -0.077336      0.000463  0.015501     0.000128    -0.000806  \n",
       "4   -0.031353     -0.016138  0.002270    -0.005562     0.018925  \n",
       "5    0.005377     -0.000617  0.007673    -0.003116     0.011359  \n",
       "6   -0.008365      0.002103  0.009173    -0.004223     0.007779  \n",
       "7    0.005706     -0.004533  0.003703    -0.000037     0.012567  \n",
       "8    0.008923     -0.005801  0.002471    -0.002188     0.014595  \n",
       "9    0.009852     -0.001463  0.002323     0.002045     0.009326  \n",
       "10  -0.100986      0.007754  0.013110    -0.012489    -0.006607  \n",
       "11  -0.008034      0.004595  0.002694     0.010828    -0.001755  \n",
       "12  -0.013540      0.001071  0.007910    -0.001067     0.006396  \n",
       "13   0.005178     -0.004682  0.001482     0.018949     0.004948  \n",
       "14  -0.012730     -0.001544  0.009975    -0.002757     0.009988  \n",
       "15  -0.081272      0.010616  0.013498     0.001147    -0.011195  \n",
       "16  -0.021102      0.008128  0.009366     0.011495    -0.005165  \n",
       "17  -0.023401      0.000574  0.001504     0.006138     0.000923  \n",
       "18  -0.000388      0.005325  0.001233    -0.006662     0.004846  \n",
       "19  -0.009730      0.003581  0.008836    -0.015867     0.010525  \n",
       "20   0.015160     -0.009234  0.005931    -0.025342     0.028113  \n",
       "21   0.006259     -0.008111  0.000034    -0.014373     0.020104  \n",
       "22   0.008702     -0.011426 -0.003966    -0.011139     0.021048  \n",
       "23  -0.025336     -0.000401  0.002878    -0.000977     0.004518  \n",
       "24  -0.019662      0.001542  0.007620     0.000514     0.004400  \n",
       "25  -0.028470      0.005041  0.009948    -0.001737     0.001540  \n",
       "26  -0.018053      0.031988  0.020170     0.004517    -0.019968  \n",
       "27  -0.018770      0.009320  0.018157     0.012484    -0.003791  \n",
       "28   0.024137      0.004455  0.004393     0.025104    -0.001730  \n",
       "29   0.046974     -0.014895 -0.004225     0.032857     0.013233  \n",
       "30   0.002070      0.014531  0.009110     0.026666    -0.013068  \n",
       "31  -0.006548     -0.000222 -0.000993     0.008487     0.002516  \n",
       "32   0.063237     -0.028529 -0.014645     0.014575     0.031489  \n",
       "33   0.037121     -0.013184 -0.005538     0.026766     0.012210  \n",
       "34   0.021583     -0.007855 -0.003256     0.011299     0.011663  \n",
       "35  -0.007790      0.003817  0.004243     0.021786    -0.004671  \n",
       "36   0.004979      0.004449  0.007336     0.008592     0.002417  \n",
       "37   0.006409     -0.009112  0.005071     0.006338     0.014676  \n",
       "38   0.009011     -0.003165  0.005039     0.007889     0.009259  \n",
       "39   0.001517     -0.001718  0.007712    -0.004643     0.012324  \n",
       "40   0.010491      0.002685  0.011177     0.010234     0.005220  \n",
       "41   0.005535      0.000825  0.005044     0.017619     0.001666  \n",
       "42   0.007729     -0.001078  0.011376     0.011280     0.007782  \n",
       "43  -0.005060     -0.000931  0.004588    -0.001314     0.008554  \n",
       "44   0.007400      0.002729  0.002411    -0.000470     0.006297  \n",
       "45  -0.015799     -0.011156  0.015569    -0.012404     0.023091  \n",
       "46   0.005482     -0.008353  0.011185     0.003285     0.016737  \n",
       "47   0.014439      0.000805  0.001017    -0.008183     0.011496  \n",
       "48   0.035787     -0.033533  0.003283    -0.021271     0.050133  \n",
       "49   0.018862      0.001714  0.001465    -0.008233     0.011493  \n",
       "50   0.030487     -0.009055  0.010188     0.008529     0.018783  \n",
       "51  -0.015312     -0.005196  0.007591    -0.015870     0.017026  \n",
       "52  -0.013318     -0.011036  0.009448    -0.016430     0.023150  \n",
       "53  -0.008805     -0.006836  0.002761    -0.023656     0.020989  \n",
       "54  -0.036835     -0.004661  0.005434    -0.022119     0.015138  \n",
       "55  -0.012473      0.010588  0.019210    -0.020331     0.008539  \n",
       "56  -0.000540     -0.003939  0.004853     0.005249     0.009496  \n",
       "57  -0.020372      0.002537  0.010733    -0.020210     0.012018  "
      ]
     },
     "execution_count": 63,
     "metadata": {},
     "output_type": "execute_result"
    }
   ],
   "source": [
    "roi_fit"
   ]
  },
  {
   "cell_type": "code",
   "execution_count": 64,
   "id": "c6bf272f",
   "metadata": {},
   "outputs": [
    {
     "data": {
      "text/html": [
       "<div>\n",
       "<style scoped>\n",
       "    .dataframe tbody tr th:only-of-type {\n",
       "        vertical-align: middle;\n",
       "    }\n",
       "\n",
       "    .dataframe tbody tr th {\n",
       "        vertical-align: top;\n",
       "    }\n",
       "\n",
       "    .dataframe thead th {\n",
       "        text-align: right;\n",
       "    }\n",
       "</style>\n",
       "<table border=\"1\" class=\"dataframe\">\n",
       "  <thead>\n",
       "    <tr style=\"text-align: right;\">\n",
       "      <th></th>\n",
       "      <th>unique_reref_ch</th>\n",
       "      <th>subj_id</th>\n",
       "      <th>roi</th>\n",
       "      <th>bdi</th>\n",
       "      <th>raw_Intercept</th>\n",
       "      <th>raw_GambleChoice</th>\n",
       "      <th>raw_TrialEV</th>\n",
       "      <th>raw_TotalProfit</th>\n",
       "      <th>raw_decisionCPE</th>\n",
       "      <th>Intercept</th>\n",
       "      <th>GambleChoice</th>\n",
       "      <th>TrialEV</th>\n",
       "      <th>TotalProfit</th>\n",
       "      <th>decisionCPE</th>\n",
       "    </tr>\n",
       "  </thead>\n",
       "  <tbody>\n",
       "    <tr>\n",
       "      <th>0</th>\n",
       "      <td>DA023_lac1-lac2</td>\n",
       "      <td>DA023</td>\n",
       "      <td>acc</td>\n",
       "      <td>14</td>\n",
       "      <td>-0.002726</td>\n",
       "      <td>0.009389</td>\n",
       "      <td>-0.004393</td>\n",
       "      <td>-0.013368</td>\n",
       "      <td>-0.001285</td>\n",
       "      <td>-0.010328</td>\n",
       "      <td>0.000528</td>\n",
       "      <td>-0.000100</td>\n",
       "      <td>-0.019090</td>\n",
       "      <td>0.009592</td>\n",
       "    </tr>\n",
       "    <tr>\n",
       "      <th>1</th>\n",
       "      <td>DA023_lac2-lac3</td>\n",
       "      <td>DA023</td>\n",
       "      <td>acc</td>\n",
       "      <td>14</td>\n",
       "      <td>0.004485</td>\n",
       "      <td>0.003838</td>\n",
       "      <td>0.000036</td>\n",
       "      <td>-0.007406</td>\n",
       "      <td>-0.001002</td>\n",
       "      <td>-0.003116</td>\n",
       "      <td>-0.005024</td>\n",
       "      <td>0.004329</td>\n",
       "      <td>-0.013128</td>\n",
       "      <td>0.009875</td>\n",
       "    </tr>\n",
       "    <tr>\n",
       "      <th>2</th>\n",
       "      <td>DA023_lac3-lac4</td>\n",
       "      <td>DA023</td>\n",
       "      <td>acc</td>\n",
       "      <td>14</td>\n",
       "      <td>0.004275</td>\n",
       "      <td>0.005640</td>\n",
       "      <td>-0.010043</td>\n",
       "      <td>0.022508</td>\n",
       "      <td>-0.012744</td>\n",
       "      <td>-0.003327</td>\n",
       "      <td>-0.003222</td>\n",
       "      <td>-0.005750</td>\n",
       "      <td>0.016786</td>\n",
       "      <td>-0.001867</td>\n",
       "    </tr>\n",
       "    <tr>\n",
       "      <th>3</th>\n",
       "      <td>MS002_lacas1-lacas2</td>\n",
       "      <td>MS002</td>\n",
       "      <td>acc</td>\n",
       "      <td>14</td>\n",
       "      <td>0.018989</td>\n",
       "      <td>-0.020967</td>\n",
       "      <td>0.023306</td>\n",
       "      <td>-0.026256</td>\n",
       "      <td>0.013551</td>\n",
       "      <td>0.011387</td>\n",
       "      <td>-0.029829</td>\n",
       "      <td>0.027600</td>\n",
       "      <td>-0.031978</td>\n",
       "      <td>0.024428</td>\n",
       "    </tr>\n",
       "    <tr>\n",
       "      <th>4</th>\n",
       "      <td>MS002_lacas2-lacas3</td>\n",
       "      <td>MS002</td>\n",
       "      <td>acc</td>\n",
       "      <td>14</td>\n",
       "      <td>0.010909</td>\n",
       "      <td>-0.005187</td>\n",
       "      <td>0.011731</td>\n",
       "      <td>0.001862</td>\n",
       "      <td>0.009921</td>\n",
       "      <td>0.003307</td>\n",
       "      <td>-0.014049</td>\n",
       "      <td>0.016024</td>\n",
       "      <td>-0.003860</td>\n",
       "      <td>0.020798</td>\n",
       "    </tr>\n",
       "    <tr>\n",
       "      <th>...</th>\n",
       "      <td>...</td>\n",
       "      <td>...</td>\n",
       "      <td>...</td>\n",
       "      <td>...</td>\n",
       "      <td>...</td>\n",
       "      <td>...</td>\n",
       "      <td>...</td>\n",
       "      <td>...</td>\n",
       "      <td>...</td>\n",
       "      <td>...</td>\n",
       "      <td>...</td>\n",
       "      <td>...</td>\n",
       "      <td>...</td>\n",
       "      <td>...</td>\n",
       "    </tr>\n",
       "    <tr>\n",
       "      <th>1771</th>\n",
       "      <td>MS050_lcmang3-lcmang4</td>\n",
       "      <td>MS050</td>\n",
       "      <td>thalamus</td>\n",
       "      <td>9</td>\n",
       "      <td>-0.000124</td>\n",
       "      <td>-0.005131</td>\n",
       "      <td>-0.003611</td>\n",
       "      <td>-0.024015</td>\n",
       "      <td>0.012411</td>\n",
       "      <td>-0.008805</td>\n",
       "      <td>-0.006836</td>\n",
       "      <td>0.002761</td>\n",
       "      <td>-0.023656</td>\n",
       "      <td>0.020989</td>\n",
       "    </tr>\n",
       "    <tr>\n",
       "      <th>1772</th>\n",
       "      <td>MS050_lcmang4-lcmang5</td>\n",
       "      <td>MS050</td>\n",
       "      <td>thalamus</td>\n",
       "      <td>9</td>\n",
       "      <td>-0.028154</td>\n",
       "      <td>-0.002956</td>\n",
       "      <td>-0.000938</td>\n",
       "      <td>-0.022478</td>\n",
       "      <td>0.006560</td>\n",
       "      <td>-0.036835</td>\n",
       "      <td>-0.004661</td>\n",
       "      <td>0.005434</td>\n",
       "      <td>-0.022119</td>\n",
       "      <td>0.015138</td>\n",
       "    </tr>\n",
       "    <tr>\n",
       "      <th>1773</th>\n",
       "      <td>MS050_rcmsmg1-rcmsmg2</td>\n",
       "      <td>MS050</td>\n",
       "      <td>thalamus</td>\n",
       "      <td>9</td>\n",
       "      <td>-0.003792</td>\n",
       "      <td>0.012292</td>\n",
       "      <td>0.012838</td>\n",
       "      <td>-0.020690</td>\n",
       "      <td>-0.000039</td>\n",
       "      <td>-0.012473</td>\n",
       "      <td>0.010588</td>\n",
       "      <td>0.019210</td>\n",
       "      <td>-0.020331</td>\n",
       "      <td>0.008539</td>\n",
       "    </tr>\n",
       "    <tr>\n",
       "      <th>1774</th>\n",
       "      <td>MS050_rcmsmg2-rcmsmg3</td>\n",
       "      <td>MS050</td>\n",
       "      <td>thalamus</td>\n",
       "      <td>9</td>\n",
       "      <td>0.008141</td>\n",
       "      <td>-0.002234</td>\n",
       "      <td>-0.001519</td>\n",
       "      <td>0.004890</td>\n",
       "      <td>0.000918</td>\n",
       "      <td>-0.000540</td>\n",
       "      <td>-0.003939</td>\n",
       "      <td>0.004853</td>\n",
       "      <td>0.005249</td>\n",
       "      <td>0.009496</td>\n",
       "    </tr>\n",
       "    <tr>\n",
       "      <th>1775</th>\n",
       "      <td>MS050_rcmsmg3-rcmsmg4</td>\n",
       "      <td>MS050</td>\n",
       "      <td>thalamus</td>\n",
       "      <td>9</td>\n",
       "      <td>-0.011691</td>\n",
       "      <td>0.004242</td>\n",
       "      <td>0.004361</td>\n",
       "      <td>-0.020569</td>\n",
       "      <td>0.003440</td>\n",
       "      <td>-0.020372</td>\n",
       "      <td>0.002537</td>\n",
       "      <td>0.010733</td>\n",
       "      <td>-0.020210</td>\n",
       "      <td>0.012018</td>\n",
       "    </tr>\n",
       "  </tbody>\n",
       "</table>\n",
       "<p>1776 rows × 14 columns</p>\n",
       "</div>"
      ],
      "text/plain": [
       "            unique_reref_ch subj_id       roi  bdi  raw_Intercept  \\\n",
       "0           DA023_lac1-lac2   DA023       acc   14      -0.002726   \n",
       "1           DA023_lac2-lac3   DA023       acc   14       0.004485   \n",
       "2           DA023_lac3-lac4   DA023       acc   14       0.004275   \n",
       "3       MS002_lacas1-lacas2   MS002       acc   14       0.018989   \n",
       "4       MS002_lacas2-lacas3   MS002       acc   14       0.010909   \n",
       "...                     ...     ...       ...  ...            ...   \n",
       "1771  MS050_lcmang3-lcmang4   MS050  thalamus    9      -0.000124   \n",
       "1772  MS050_lcmang4-lcmang5   MS050  thalamus    9      -0.028154   \n",
       "1773  MS050_rcmsmg1-rcmsmg2   MS050  thalamus    9      -0.003792   \n",
       "1774  MS050_rcmsmg2-rcmsmg3   MS050  thalamus    9       0.008141   \n",
       "1775  MS050_rcmsmg3-rcmsmg4   MS050  thalamus    9      -0.011691   \n",
       "\n",
       "      raw_GambleChoice  raw_TrialEV  raw_TotalProfit  raw_decisionCPE  \\\n",
       "0             0.009389    -0.004393        -0.013368        -0.001285   \n",
       "1             0.003838     0.000036        -0.007406        -0.001002   \n",
       "2             0.005640    -0.010043         0.022508        -0.012744   \n",
       "3            -0.020967     0.023306        -0.026256         0.013551   \n",
       "4            -0.005187     0.011731         0.001862         0.009921   \n",
       "...                ...          ...              ...              ...   \n",
       "1771         -0.005131    -0.003611        -0.024015         0.012411   \n",
       "1772         -0.002956    -0.000938        -0.022478         0.006560   \n",
       "1773          0.012292     0.012838        -0.020690        -0.000039   \n",
       "1774         -0.002234    -0.001519         0.004890         0.000918   \n",
       "1775          0.004242     0.004361        -0.020569         0.003440   \n",
       "\n",
       "      Intercept  GambleChoice   TrialEV  TotalProfit  decisionCPE  \n",
       "0     -0.010328      0.000528 -0.000100    -0.019090     0.009592  \n",
       "1     -0.003116     -0.005024  0.004329    -0.013128     0.009875  \n",
       "2     -0.003327     -0.003222 -0.005750     0.016786    -0.001867  \n",
       "3      0.011387     -0.029829  0.027600    -0.031978     0.024428  \n",
       "4      0.003307     -0.014049  0.016024    -0.003860     0.020798  \n",
       "...         ...           ...       ...          ...          ...  \n",
       "1771  -0.008805     -0.006836  0.002761    -0.023656     0.020989  \n",
       "1772  -0.036835     -0.004661  0.005434    -0.022119     0.015138  \n",
       "1773  -0.012473      0.010588  0.019210    -0.020331     0.008539  \n",
       "1774  -0.000540     -0.003939  0.004853     0.005249     0.009496  \n",
       "1775  -0.020372      0.002537  0.010733    -0.020210     0.012018  \n",
       "\n",
       "[1776 rows x 14 columns]"
      ]
     },
     "execution_count": 64,
     "metadata": {},
     "output_type": "execute_result"
    }
   ],
   "source": [
    "roi_fit_results"
   ]
  },
  {
   "cell_type": "code",
   "execution_count": 65,
   "id": "7918a2ca",
   "metadata": {},
   "outputs": [],
   "source": [
    "fe_params_results = {f'{roi}':roi_fit_dict[roi].fe_params for roi in list(roi_fit_dict.keys())}\n",
    "# fe_params_pvals = {f'{roi}':roi_fit_dict[roi].pvalues for roi in list(roi_fit_dict.keys())}\n"
   ]
  },
  {
   "cell_type": "code",
   "execution_count": 66,
   "id": "20a84de8",
   "metadata": {
    "scrolled": true
   },
   "outputs": [],
   "source": [
    "# fe_params_results"
   ]
  },
  {
   "cell_type": "code",
   "execution_count": 67,
   "id": "a9a1f245",
   "metadata": {},
   "outputs": [],
   "source": [
    "fe_results = []\n",
    "for fe_res in fe_params_results:\n",
    "    \n",
    "    fe_results.append(pd.DataFrame({**dict(fe_params_results[fe_res]),**{'roi':fe_res}},index=[0]))\n"
   ]
  },
  {
   "cell_type": "code",
   "execution_count": 68,
   "id": "0d637ccc",
   "metadata": {},
   "outputs": [],
   "source": [
    "fe_results = pd.concat(fe_results).reset_index(drop=True)"
   ]
  },
  {
   "cell_type": "code",
   "execution_count": 69,
   "id": "2647169e",
   "metadata": {},
   "outputs": [],
   "source": [
    "fe_results['roi_cpe_pval'] = [np.round(roi_fit_dict[roi].pvalues['decisionCPE'],4) for roi in fe_results.roi.tolist()]"
   ]
  },
  {
   "cell_type": "code",
   "execution_count": 70,
   "id": "cc5f3cae",
   "metadata": {},
   "outputs": [
    {
     "data": {
      "text/html": [
       "<div>\n",
       "<style scoped>\n",
       "    .dataframe tbody tr th:only-of-type {\n",
       "        vertical-align: middle;\n",
       "    }\n",
       "\n",
       "    .dataframe tbody tr th {\n",
       "        vertical-align: top;\n",
       "    }\n",
       "\n",
       "    .dataframe thead th {\n",
       "        text-align: right;\n",
       "    }\n",
       "</style>\n",
       "<table border=\"1\" class=\"dataframe\">\n",
       "  <thead>\n",
       "    <tr style=\"text-align: right;\">\n",
       "      <th></th>\n",
       "      <th>Intercept</th>\n",
       "      <th>C(GambleChoice)[T.safe]</th>\n",
       "      <th>TrialEV</th>\n",
       "      <th>TotalProfit</th>\n",
       "      <th>decisionCPE</th>\n",
       "      <th>roi</th>\n",
       "      <th>roi_cpe_pval</th>\n",
       "    </tr>\n",
       "  </thead>\n",
       "  <tbody>\n",
       "    <tr>\n",
       "      <th>0</th>\n",
       "      <td>-0.007602</td>\n",
       "      <td>-0.008862</td>\n",
       "      <td>0.004293</td>\n",
       "      <td>-0.005722</td>\n",
       "      <td>0.010877</td>\n",
       "      <td>acc</td>\n",
       "      <td>0.0000</td>\n",
       "    </tr>\n",
       "    <tr>\n",
       "      <th>1</th>\n",
       "      <td>-0.022587</td>\n",
       "      <td>0.001481</td>\n",
       "      <td>0.007129</td>\n",
       "      <td>-0.010946</td>\n",
       "      <td>0.001704</td>\n",
       "      <td>dmpfc</td>\n",
       "      <td>0.3845</td>\n",
       "    </tr>\n",
       "    <tr>\n",
       "      <th>2</th>\n",
       "      <td>-0.061151</td>\n",
       "      <td>0.008435</td>\n",
       "      <td>0.003369</td>\n",
       "      <td>0.004929</td>\n",
       "      <td>0.012775</td>\n",
       "      <td>amy</td>\n",
       "      <td>0.0000</td>\n",
       "    </tr>\n",
       "    <tr>\n",
       "      <th>3</th>\n",
       "      <td>-0.041715</td>\n",
       "      <td>-0.001656</td>\n",
       "      <td>0.008527</td>\n",
       "      <td>-0.002837</td>\n",
       "      <td>-0.000010</td>\n",
       "      <td>sts</td>\n",
       "      <td>0.9967</td>\n",
       "    </tr>\n",
       "    <tr>\n",
       "      <th>4</th>\n",
       "      <td>0.010935</td>\n",
       "      <td>0.001540</td>\n",
       "      <td>0.003932</td>\n",
       "      <td>0.012062</td>\n",
       "      <td>0.010648</td>\n",
       "      <td>ains</td>\n",
       "      <td>0.0084</td>\n",
       "    </tr>\n",
       "    <tr>\n",
       "      <th>5</th>\n",
       "      <td>-0.007979</td>\n",
       "      <td>0.009476</td>\n",
       "      <td>-0.000279</td>\n",
       "      <td>-0.004208</td>\n",
       "      <td>0.008089</td>\n",
       "      <td>vlpfc</td>\n",
       "      <td>0.0398</td>\n",
       "    </tr>\n",
       "    <tr>\n",
       "      <th>6</th>\n",
       "      <td>-0.082264</td>\n",
       "      <td>0.007581</td>\n",
       "      <td>0.006616</td>\n",
       "      <td>0.005753</td>\n",
       "      <td>0.004941</td>\n",
       "      <td>hpc</td>\n",
       "      <td>0.0825</td>\n",
       "    </tr>\n",
       "    <tr>\n",
       "      <th>7</th>\n",
       "      <td>-0.054147</td>\n",
       "      <td>0.007831</td>\n",
       "      <td>0.009189</td>\n",
       "      <td>0.000605</td>\n",
       "      <td>0.003140</td>\n",
       "      <td>mtg</td>\n",
       "      <td>0.4469</td>\n",
       "    </tr>\n",
       "    <tr>\n",
       "      <th>8</th>\n",
       "      <td>-0.028459</td>\n",
       "      <td>0.016876</td>\n",
       "      <td>0.003401</td>\n",
       "      <td>-0.004953</td>\n",
       "      <td>0.015306</td>\n",
       "      <td>ofc</td>\n",
       "      <td>0.0000</td>\n",
       "    </tr>\n",
       "    <tr>\n",
       "      <th>9</th>\n",
       "      <td>-0.053926</td>\n",
       "      <td>0.003631</td>\n",
       "      <td>-0.001342</td>\n",
       "      <td>0.018895</td>\n",
       "      <td>0.004329</td>\n",
       "      <td>pins</td>\n",
       "      <td>0.2565</td>\n",
       "    </tr>\n",
       "    <tr>\n",
       "      <th>10</th>\n",
       "      <td>-0.024203</td>\n",
       "      <td>0.015064</td>\n",
       "      <td>0.012379</td>\n",
       "      <td>-0.002466</td>\n",
       "      <td>-0.000551</td>\n",
       "      <td>dlpfc</td>\n",
       "      <td>0.8498</td>\n",
       "    </tr>\n",
       "    <tr>\n",
       "      <th>11</th>\n",
       "      <td>-0.026860</td>\n",
       "      <td>0.012370</td>\n",
       "      <td>-0.005021</td>\n",
       "      <td>0.009645</td>\n",
       "      <td>0.013507</td>\n",
       "      <td>motor</td>\n",
       "      <td>0.0416</td>\n",
       "    </tr>\n",
       "    <tr>\n",
       "      <th>12</th>\n",
       "      <td>-0.140652</td>\n",
       "      <td>-0.009444</td>\n",
       "      <td>0.009930</td>\n",
       "      <td>-0.005046</td>\n",
       "      <td>0.017452</td>\n",
       "      <td>vmpfc</td>\n",
       "      <td>0.0002</td>\n",
       "    </tr>\n",
       "    <tr>\n",
       "      <th>13</th>\n",
       "      <td>-0.000171</td>\n",
       "      <td>-0.014931</td>\n",
       "      <td>0.003057</td>\n",
       "      <td>-0.014469</td>\n",
       "      <td>-0.001050</td>\n",
       "      <td>phg</td>\n",
       "      <td>0.8489</td>\n",
       "    </tr>\n",
       "    <tr>\n",
       "      <th>14</th>\n",
       "      <td>-0.027978</td>\n",
       "      <td>0.003344</td>\n",
       "      <td>0.000933</td>\n",
       "      <td>-0.005843</td>\n",
       "      <td>0.002488</td>\n",
       "      <td>smg</td>\n",
       "      <td>0.4861</td>\n",
       "    </tr>\n",
       "    <tr>\n",
       "      <th>15</th>\n",
       "      <td>-0.030403</td>\n",
       "      <td>-0.006106</td>\n",
       "      <td>0.000318</td>\n",
       "      <td>0.016588</td>\n",
       "      <td>-0.001008</td>\n",
       "      <td>stg</td>\n",
       "      <td>0.7269</td>\n",
       "    </tr>\n",
       "    <tr>\n",
       "      <th>16</th>\n",
       "      <td>-0.048487</td>\n",
       "      <td>-0.004005</td>\n",
       "      <td>0.004974</td>\n",
       "      <td>-0.021205</td>\n",
       "      <td>0.013856</td>\n",
       "      <td>mcc</td>\n",
       "      <td>0.0270</td>\n",
       "    </tr>\n",
       "    <tr>\n",
       "      <th>17</th>\n",
       "      <td>-0.069349</td>\n",
       "      <td>0.012735</td>\n",
       "      <td>0.001371</td>\n",
       "      <td>-0.010459</td>\n",
       "      <td>-0.003530</td>\n",
       "      <td>temporal pole</td>\n",
       "      <td>0.4748</td>\n",
       "    </tr>\n",
       "    <tr>\n",
       "      <th>18</th>\n",
       "      <td>-0.045400</td>\n",
       "      <td>0.007047</td>\n",
       "      <td>-0.000228</td>\n",
       "      <td>-0.016378</td>\n",
       "      <td>-0.002271</td>\n",
       "      <td>parietal</td>\n",
       "      <td>0.7038</td>\n",
       "    </tr>\n",
       "    <tr>\n",
       "      <th>19</th>\n",
       "      <td>-0.008681</td>\n",
       "      <td>-0.001705</td>\n",
       "      <td>0.006372</td>\n",
       "      <td>0.000359</td>\n",
       "      <td>0.008578</td>\n",
       "      <td>thalamus</td>\n",
       "      <td>0.0099</td>\n",
       "    </tr>\n",
       "  </tbody>\n",
       "</table>\n",
       "</div>"
      ],
      "text/plain": [
       "    Intercept  C(GambleChoice)[T.safe]   TrialEV  TotalProfit  decisionCPE  \\\n",
       "0   -0.007602                -0.008862  0.004293    -0.005722     0.010877   \n",
       "1   -0.022587                 0.001481  0.007129    -0.010946     0.001704   \n",
       "2   -0.061151                 0.008435  0.003369     0.004929     0.012775   \n",
       "3   -0.041715                -0.001656  0.008527    -0.002837    -0.000010   \n",
       "4    0.010935                 0.001540  0.003932     0.012062     0.010648   \n",
       "5   -0.007979                 0.009476 -0.000279    -0.004208     0.008089   \n",
       "6   -0.082264                 0.007581  0.006616     0.005753     0.004941   \n",
       "7   -0.054147                 0.007831  0.009189     0.000605     0.003140   \n",
       "8   -0.028459                 0.016876  0.003401    -0.004953     0.015306   \n",
       "9   -0.053926                 0.003631 -0.001342     0.018895     0.004329   \n",
       "10  -0.024203                 0.015064  0.012379    -0.002466    -0.000551   \n",
       "11  -0.026860                 0.012370 -0.005021     0.009645     0.013507   \n",
       "12  -0.140652                -0.009444  0.009930    -0.005046     0.017452   \n",
       "13  -0.000171                -0.014931  0.003057    -0.014469    -0.001050   \n",
       "14  -0.027978                 0.003344  0.000933    -0.005843     0.002488   \n",
       "15  -0.030403                -0.006106  0.000318     0.016588    -0.001008   \n",
       "16  -0.048487                -0.004005  0.004974    -0.021205     0.013856   \n",
       "17  -0.069349                 0.012735  0.001371    -0.010459    -0.003530   \n",
       "18  -0.045400                 0.007047 -0.000228    -0.016378    -0.002271   \n",
       "19  -0.008681                -0.001705  0.006372     0.000359     0.008578   \n",
       "\n",
       "              roi  roi_cpe_pval  \n",
       "0             acc        0.0000  \n",
       "1           dmpfc        0.3845  \n",
       "2             amy        0.0000  \n",
       "3             sts        0.9967  \n",
       "4            ains        0.0084  \n",
       "5           vlpfc        0.0398  \n",
       "6             hpc        0.0825  \n",
       "7             mtg        0.4469  \n",
       "8             ofc        0.0000  \n",
       "9            pins        0.2565  \n",
       "10          dlpfc        0.8498  \n",
       "11          motor        0.0416  \n",
       "12          vmpfc        0.0002  \n",
       "13            phg        0.8489  \n",
       "14            smg        0.4861  \n",
       "15            stg        0.7269  \n",
       "16            mcc        0.0270  \n",
       "17  temporal pole        0.4748  \n",
       "18       parietal        0.7038  \n",
       "19       thalamus        0.0099  "
      ]
     },
     "execution_count": 70,
     "metadata": {},
     "output_type": "execute_result"
    }
   ],
   "source": [
    "fe_results"
   ]
  },
  {
   "cell_type": "code",
   "execution_count": 55,
   "id": "312c098a",
   "metadata": {},
   "outputs": [
    {
     "data": {
      "text/html": [
       "<div>\n",
       "<style scoped>\n",
       "    .dataframe tbody tr th:only-of-type {\n",
       "        vertical-align: middle;\n",
       "    }\n",
       "\n",
       "    .dataframe tbody tr th {\n",
       "        vertical-align: top;\n",
       "    }\n",
       "\n",
       "    .dataframe thead th {\n",
       "        text-align: right;\n",
       "    }\n",
       "</style>\n",
       "<table border=\"1\" class=\"dataframe\">\n",
       "  <thead>\n",
       "    <tr style=\"text-align: right;\">\n",
       "      <th></th>\n",
       "      <th>Intercept</th>\n",
       "      <th>C(GambleChoice)[T.safe]</th>\n",
       "      <th>TotalProfit</th>\n",
       "      <th>decisionCPE</th>\n",
       "      <th>roi</th>\n",
       "      <th>roi_cpe_pval</th>\n",
       "    </tr>\n",
       "  </thead>\n",
       "  <tbody>\n",
       "    <tr>\n",
       "      <th>0</th>\n",
       "      <td>-0.006639</td>\n",
       "      <td>-0.010650</td>\n",
       "      <td>-0.005460</td>\n",
       "      <td>0.010991</td>\n",
       "      <td>acc</td>\n",
       "      <td>1.000000e-10</td>\n",
       "    </tr>\n",
       "    <tr>\n",
       "      <th>1</th>\n",
       "      <td>-0.021553</td>\n",
       "      <td>-0.000675</td>\n",
       "      <td>-0.010544</td>\n",
       "      <td>0.002224</td>\n",
       "      <td>dmpfc</td>\n",
       "      <td>2.549589e-01</td>\n",
       "    </tr>\n",
       "    <tr>\n",
       "      <th>2</th>\n",
       "      <td>-0.060471</td>\n",
       "      <td>0.007477</td>\n",
       "      <td>0.005206</td>\n",
       "      <td>0.012131</td>\n",
       "      <td>amy</td>\n",
       "      <td>1.331280e-05</td>\n",
       "    </tr>\n",
       "    <tr>\n",
       "      <th>3</th>\n",
       "      <td>-0.040161</td>\n",
       "      <td>-0.004734</td>\n",
       "      <td>-0.002706</td>\n",
       "      <td>0.000258</td>\n",
       "      <td>sts</td>\n",
       "      <td>9.162264e-01</td>\n",
       "    </tr>\n",
       "    <tr>\n",
       "      <th>4</th>\n",
       "      <td>0.011500</td>\n",
       "      <td>0.000393</td>\n",
       "      <td>0.012253</td>\n",
       "      <td>0.010158</td>\n",
       "      <td>ains</td>\n",
       "      <td>1.275728e-02</td>\n",
       "    </tr>\n",
       "    <tr>\n",
       "      <th>5</th>\n",
       "      <td>-0.008139</td>\n",
       "      <td>0.010334</td>\n",
       "      <td>-0.003690</td>\n",
       "      <td>0.007988</td>\n",
       "      <td>vlpfc</td>\n",
       "      <td>4.393738e-02</td>\n",
       "    </tr>\n",
       "    <tr>\n",
       "      <th>6</th>\n",
       "      <td>-0.081145</td>\n",
       "      <td>0.005385</td>\n",
       "      <td>0.006147</td>\n",
       "      <td>0.004963</td>\n",
       "      <td>hpc</td>\n",
       "      <td>7.312061e-02</td>\n",
       "    </tr>\n",
       "    <tr>\n",
       "      <th>7</th>\n",
       "      <td>-0.052687</td>\n",
       "      <td>0.004734</td>\n",
       "      <td>0.000575</td>\n",
       "      <td>0.003428</td>\n",
       "      <td>mtg</td>\n",
       "      <td>4.188887e-01</td>\n",
       "    </tr>\n",
       "    <tr>\n",
       "      <th>8</th>\n",
       "      <td>-0.027739</td>\n",
       "      <td>0.015319</td>\n",
       "      <td>-0.005054</td>\n",
       "      <td>0.015146</td>\n",
       "      <td>ofc</td>\n",
       "      <td>0.000000e+00</td>\n",
       "    </tr>\n",
       "    <tr>\n",
       "      <th>9</th>\n",
       "      <td>-0.054050</td>\n",
       "      <td>0.003830</td>\n",
       "      <td>0.019004</td>\n",
       "      <td>0.004468</td>\n",
       "      <td>pins</td>\n",
       "      <td>2.386900e-01</td>\n",
       "    </tr>\n",
       "    <tr>\n",
       "      <th>10</th>\n",
       "      <td>-0.022638</td>\n",
       "      <td>0.011428</td>\n",
       "      <td>-0.002419</td>\n",
       "      <td>0.000412</td>\n",
       "      <td>dlpfc</td>\n",
       "      <td>8.891014e-01</td>\n",
       "    </tr>\n",
       "    <tr>\n",
       "      <th>11</th>\n",
       "      <td>-0.027991</td>\n",
       "      <td>0.014504</td>\n",
       "      <td>0.010060</td>\n",
       "      <td>0.013795</td>\n",
       "      <td>motor</td>\n",
       "      <td>3.617479e-02</td>\n",
       "    </tr>\n",
       "    <tr>\n",
       "      <th>12</th>\n",
       "      <td>-0.139395</td>\n",
       "      <td>-0.012601</td>\n",
       "      <td>-0.006047</td>\n",
       "      <td>0.018374</td>\n",
       "      <td>vmpfc</td>\n",
       "      <td>3.091680e-03</td>\n",
       "    </tr>\n",
       "    <tr>\n",
       "      <th>13</th>\n",
       "      <td>0.000692</td>\n",
       "      <td>-0.016296</td>\n",
       "      <td>-0.013991</td>\n",
       "      <td>-0.001591</td>\n",
       "      <td>phg</td>\n",
       "      <td>7.630235e-01</td>\n",
       "    </tr>\n",
       "    <tr>\n",
       "      <th>14</th>\n",
       "      <td>-0.027703</td>\n",
       "      <td>0.003160</td>\n",
       "      <td>-0.005656</td>\n",
       "      <td>0.002040</td>\n",
       "      <td>smg</td>\n",
       "      <td>5.658213e-01</td>\n",
       "    </tr>\n",
       "    <tr>\n",
       "      <th>15</th>\n",
       "      <td>-0.030371</td>\n",
       "      <td>-0.006209</td>\n",
       "      <td>0.016626</td>\n",
       "      <td>-0.000922</td>\n",
       "      <td>stg</td>\n",
       "      <td>7.491229e-01</td>\n",
       "    </tr>\n",
       "    <tr>\n",
       "      <th>16</th>\n",
       "      <td>-0.048225</td>\n",
       "      <td>-0.006377</td>\n",
       "      <td>-0.020956</td>\n",
       "      <td>0.015216</td>\n",
       "      <td>mcc</td>\n",
       "      <td>8.899535e-03</td>\n",
       "    </tr>\n",
       "    <tr>\n",
       "      <th>17</th>\n",
       "      <td>-0.068683</td>\n",
       "      <td>0.011280</td>\n",
       "      <td>-0.010670</td>\n",
       "      <td>-0.003147</td>\n",
       "      <td>temporal pole</td>\n",
       "      <td>5.137580e-01</td>\n",
       "    </tr>\n",
       "    <tr>\n",
       "      <th>18</th>\n",
       "      <td>-0.045360</td>\n",
       "      <td>0.007102</td>\n",
       "      <td>-0.016525</td>\n",
       "      <td>-0.002336</td>\n",
       "      <td>parietal</td>\n",
       "      <td>6.798573e-01</td>\n",
       "    </tr>\n",
       "    <tr>\n",
       "      <th>19</th>\n",
       "      <td>-0.007472</td>\n",
       "      <td>-0.004336</td>\n",
       "      <td>0.000980</td>\n",
       "      <td>0.008772</td>\n",
       "      <td>thalamus</td>\n",
       "      <td>7.148038e-03</td>\n",
       "    </tr>\n",
       "  </tbody>\n",
       "</table>\n",
       "</div>"
      ],
      "text/plain": [
       "    Intercept  C(GambleChoice)[T.safe]  TotalProfit  decisionCPE  \\\n",
       "0   -0.006639                -0.010650    -0.005460     0.010991   \n",
       "1   -0.021553                -0.000675    -0.010544     0.002224   \n",
       "2   -0.060471                 0.007477     0.005206     0.012131   \n",
       "3   -0.040161                -0.004734    -0.002706     0.000258   \n",
       "4    0.011500                 0.000393     0.012253     0.010158   \n",
       "5   -0.008139                 0.010334    -0.003690     0.007988   \n",
       "6   -0.081145                 0.005385     0.006147     0.004963   \n",
       "7   -0.052687                 0.004734     0.000575     0.003428   \n",
       "8   -0.027739                 0.015319    -0.005054     0.015146   \n",
       "9   -0.054050                 0.003830     0.019004     0.004468   \n",
       "10  -0.022638                 0.011428    -0.002419     0.000412   \n",
       "11  -0.027991                 0.014504     0.010060     0.013795   \n",
       "12  -0.139395                -0.012601    -0.006047     0.018374   \n",
       "13   0.000692                -0.016296    -0.013991    -0.001591   \n",
       "14  -0.027703                 0.003160    -0.005656     0.002040   \n",
       "15  -0.030371                -0.006209     0.016626    -0.000922   \n",
       "16  -0.048225                -0.006377    -0.020956     0.015216   \n",
       "17  -0.068683                 0.011280    -0.010670    -0.003147   \n",
       "18  -0.045360                 0.007102    -0.016525    -0.002336   \n",
       "19  -0.007472                -0.004336     0.000980     0.008772   \n",
       "\n",
       "              roi  roi_cpe_pval  \n",
       "0             acc  1.000000e-10  \n",
       "1           dmpfc  2.549589e-01  \n",
       "2             amy  1.331280e-05  \n",
       "3             sts  9.162264e-01  \n",
       "4            ains  1.275728e-02  \n",
       "5           vlpfc  4.393738e-02  \n",
       "6             hpc  7.312061e-02  \n",
       "7             mtg  4.188887e-01  \n",
       "8             ofc  0.000000e+00  \n",
       "9            pins  2.386900e-01  \n",
       "10          dlpfc  8.891014e-01  \n",
       "11          motor  3.617479e-02  \n",
       "12          vmpfc  3.091680e-03  \n",
       "13            phg  7.630235e-01  \n",
       "14            smg  5.658213e-01  \n",
       "15            stg  7.491229e-01  \n",
       "16            mcc  8.899535e-03  \n",
       "17  temporal pole  5.137580e-01  \n",
       "18       parietal  6.798573e-01  \n",
       "19       thalamus  7.148038e-03  "
      ]
     },
     "execution_count": 55,
     "metadata": {},
     "output_type": "execute_result"
    }
   ],
   "source": [
    "fe_results"
   ]
  },
  {
   "cell_type": "code",
   "execution_count": 57,
   "id": "918dbdc3",
   "metadata": {},
   "outputs": [
    {
     "data": {
      "text/html": [
       "<table class=\"simpletable\">\n",
       "<tr>\n",
       "       <td>Model:</td>       <td>MixedLM</td> <td>Dependent Variable:</td>  <td>band_pow</td> \n",
       "</tr>\n",
       "<tr>\n",
       "  <td>No. Observations:</td>  <td>27836</td>        <td>Method:</td>           <td>ML</td>    \n",
       "</tr>\n",
       "<tr>\n",
       "     <td>No. Groups:</td>      <td>202</td>         <td>Scale:</td>          <td>0.0242</td>  \n",
       "</tr>\n",
       "<tr>\n",
       "  <td>Min. group size:</td>    <td>65</td>      <td>Log-Likelihood:</td>   <td>11668.0208</td>\n",
       "</tr>\n",
       "<tr>\n",
       "  <td>Max. group size:</td>    <td>148</td>       <td>Converged:</td>          <td>Yes</td>   \n",
       "</tr>\n",
       "<tr>\n",
       "  <td>Mean group size:</td>   <td>137.8</td>           <td></td>                <td></td>     \n",
       "</tr>\n",
       "</table>\n",
       "<table class=\"simpletable\">\n",
       "<tr>\n",
       "                      <td></td>                       <th>Coef.</th> <th>Std.Err.</th>    <th>z</th>   <th>P>|z|</th> <th>[0.025</th> <th>0.975]</th>\n",
       "</tr>\n",
       "<tr>\n",
       "  <th>Intercept</th>                                 <td>-0.028</td>   <td>0.008</td>  <td>-3.536</td> <td>0.000</td> <td>-0.043</td> <td>-0.012</td>\n",
       "</tr>\n",
       "<tr>\n",
       "  <th>C(GambleChoice)[T.safe]</th>                    <td>0.015</td>   <td>0.003</td>   <td>4.499</td> <td>0.000</td>  <td>0.009</td>  <td>0.022</td>\n",
       "</tr>\n",
       "<tr>\n",
       "  <th>TotalProfit</th>                               <td>-0.005</td>   <td>0.003</td>  <td>-1.955</td> <td>0.051</td> <td>-0.010</td>  <td>0.000</td>\n",
       "</tr>\n",
       "<tr>\n",
       "  <th>decisionCPE</th>                                <td>0.015</td>   <td>0.002</td>   <td>6.731</td> <td>0.000</td>  <td>0.011</td>  <td>0.020</td>\n",
       "</tr>\n",
       "<tr>\n",
       "  <th>Group Var</th>                                  <td>0.012</td>   <td>0.008</td>     <td></td>      <td></td>       <td></td>       <td></td>   \n",
       "</tr>\n",
       "<tr>\n",
       "  <th>Group x C(GambleChoice)[T.safe] Cov</th>        <td>0.000</td>   <td>0.002</td>     <td></td>      <td></td>       <td></td>       <td></td>   \n",
       "</tr>\n",
       "<tr>\n",
       "  <th>C(GambleChoice)[T.safe] Var</th>                <td>0.002</td>   <td>0.002</td>     <td></td>      <td></td>       <td></td>       <td></td>   \n",
       "</tr>\n",
       "<tr>\n",
       "  <th>Group x TotalProfit Cov</th>                    <td>0.000</td>   <td>0.002</td>     <td></td>      <td></td>       <td></td>       <td></td>   \n",
       "</tr>\n",
       "<tr>\n",
       "  <th>C(GambleChoice)[T.safe] x TotalProfit Cov</th>  <td>0.000</td>   <td>0.001</td>     <td></td>      <td></td>       <td></td>       <td></td>   \n",
       "</tr>\n",
       "<tr>\n",
       "  <th>TotalProfit Var</th>                            <td>0.001</td>   <td>0.001</td>     <td></td>      <td></td>       <td></td>       <td></td>   \n",
       "</tr>\n",
       "<tr>\n",
       "  <th>Group x decisionCPE Cov</th>                   <td>-0.000</td>   <td>0.002</td>     <td></td>      <td></td>       <td></td>       <td></td>   \n",
       "</tr>\n",
       "<tr>\n",
       "  <th>C(GambleChoice)[T.safe] x decisionCPE Cov</th>  <td>0.000</td>   <td>0.001</td>     <td></td>      <td></td>       <td></td>       <td></td>   \n",
       "</tr>\n",
       "<tr>\n",
       "  <th>TotalProfit x decisionCPE Cov</th>              <td>0.000</td>   <td>0.001</td>     <td></td>      <td></td>       <td></td>       <td></td>   \n",
       "</tr>\n",
       "<tr>\n",
       "  <th>decisionCPE Var</th>                            <td>0.000</td>   <td>0.001</td>     <td></td>      <td></td>       <td></td>       <td></td>   \n",
       "</tr>\n",
       "</table>"
      ],
      "text/plain": [
       "<class 'statsmodels.iolib.summary2.Summary'>\n",
       "\"\"\"\n",
       "                       Mixed Linear Model Regression Results\n",
       "====================================================================================\n",
       "Model:                      MixedLM          Dependent Variable:          band_pow  \n",
       "No. Observations:           27836            Method:                      ML        \n",
       "No. Groups:                 202              Scale:                       0.0242    \n",
       "Min. group size:            65               Log-Likelihood:              11668.0208\n",
       "Max. group size:            148              Converged:                   Yes       \n",
       "Mean group size:            137.8                                                   \n",
       "------------------------------------------------------------------------------------\n",
       "                                          Coef.  Std.Err.   z    P>|z| [0.025 0.975]\n",
       "------------------------------------------------------------------------------------\n",
       "Intercept                                 -0.028    0.008 -3.536 0.000 -0.043 -0.012\n",
       "C(GambleChoice)[T.safe]                    0.015    0.003  4.499 0.000  0.009  0.022\n",
       "TotalProfit                               -0.005    0.003 -1.955 0.051 -0.010  0.000\n",
       "decisionCPE                                0.015    0.002  6.731 0.000  0.011  0.020\n",
       "Group Var                                  0.012    0.008                           \n",
       "Group x C(GambleChoice)[T.safe] Cov        0.000    0.002                           \n",
       "C(GambleChoice)[T.safe] Var                0.002    0.002                           \n",
       "Group x TotalProfit Cov                    0.000    0.002                           \n",
       "C(GambleChoice)[T.safe] x TotalProfit Cov  0.000    0.001                           \n",
       "TotalProfit Var                            0.001    0.001                           \n",
       "Group x decisionCPE Cov                   -0.000    0.002                           \n",
       "C(GambleChoice)[T.safe] x decisionCPE Cov  0.000    0.001                           \n",
       "TotalProfit x decisionCPE Cov              0.000    0.001                           \n",
       "decisionCPE Var                            0.000    0.001                           \n",
       "====================================================================================\n",
       "\n",
       "\"\"\""
      ]
     },
     "execution_count": 57,
     "metadata": {},
     "output_type": "execute_result"
    }
   ],
   "source": [
    "ofc_fit = fit_mixed_model(reg_df[reg_df.roi=='ofc'],\n",
    "                                        final_vars,outcome_var,rand_eff_var,reml=False) \n",
    "ofc_fit.summary()"
   ]
  },
  {
   "cell_type": "code",
   "execution_count": 59,
   "id": "926929a9",
   "metadata": {},
   "outputs": [
    {
     "data": {
      "text/plain": [
       "Intercept                                    4.066084e-04\n",
       "C(GambleChoice)[T.safe]                      6.840260e-06\n",
       "TotalProfit                                  5.062433e-02\n",
       "decisionCPE                                  1.680687e-11\n",
       "Group Var                                    2.338770e-22\n",
       "Group x C(GambleChoice)[T.safe] Cov          9.680822e-01\n",
       "C(GambleChoice)[T.safe] Var                  6.060462e-11\n",
       "Group x TotalProfit Cov                      5.882490e-01\n",
       "C(GambleChoice)[T.safe] x TotalProfit Cov    7.511020e-01\n",
       "TotalProfit Var                              3.397954e-06\n",
       "Group x decisionCPE Cov                      2.993190e-01\n",
       "C(GambleChoice)[T.safe] x decisionCPE Cov    1.823343e-01\n",
       "TotalProfit x decisionCPE Cov                3.374314e-02\n",
       "decisionCPE Var                              2.573911e-03\n",
       "dtype: float64"
      ]
     },
     "execution_count": 59,
     "metadata": {},
     "output_type": "execute_result"
    }
   ],
   "source": [
    "ofc_fit.pvalues"
   ]
  },
  {
   "cell_type": "code",
   "execution_count": 58,
   "id": "b54bf533",
   "metadata": {},
   "outputs": [
    {
     "data": {
      "text/html": [
       "<table class=\"simpletable\">\n",
       "<tr>\n",
       "       <td>Model:</td>       <td>MixedLM</td> <td>Dependent Variable:</td>  <td>band_pow</td> \n",
       "</tr>\n",
       "<tr>\n",
       "  <td>No. Observations:</td>  <td>26558</td>        <td>Method:</td>           <td>ML</td>    \n",
       "</tr>\n",
       "<tr>\n",
       "     <td>No. Groups:</td>      <td>193</td>         <td>Scale:</td>          <td>0.0139</td>  \n",
       "</tr>\n",
       "<tr>\n",
       "  <td>Min. group size:</td>    <td>65</td>      <td>Log-Likelihood:</td>   <td>18821.7025</td>\n",
       "</tr>\n",
       "<tr>\n",
       "  <td>Max. group size:</td>    <td>148</td>       <td>Converged:</td>          <td>Yes</td>   \n",
       "</tr>\n",
       "<tr>\n",
       "  <td>Mean group size:</td>   <td>137.6</td>           <td></td>                <td></td>     \n",
       "</tr>\n",
       "</table>\n",
       "<table class=\"simpletable\">\n",
       "<tr>\n",
       "                      <td></td>                       <th>Coef.</th> <th>Std.Err.</th>    <th>z</th>   <th>P>|z|</th> <th>[0.025</th> <th>0.975]</th>\n",
       "</tr>\n",
       "<tr>\n",
       "  <th>Intercept</th>                                 <td>-0.007</td>   <td>0.002</td>  <td>-3.761</td> <td>0.000</td> <td>-0.010</td> <td>-0.003</td>\n",
       "</tr>\n",
       "<tr>\n",
       "  <th>C(GambleChoice)[T.safe]</th>                   <td>-0.011</td>   <td>0.002</td>  <td>-4.812</td> <td>0.000</td> <td>-0.015</td> <td>-0.006</td>\n",
       "</tr>\n",
       "<tr>\n",
       "  <th>TotalProfit</th>                               <td>-0.005</td>   <td>0.002</td>  <td>-2.185</td> <td>0.029</td> <td>-0.010</td> <td>-0.001</td>\n",
       "</tr>\n",
       "<tr>\n",
       "  <th>decisionCPE</th>                                <td>0.011</td>   <td>0.002</td>   <td>6.485</td> <td>0.000</td>  <td>0.008</td>  <td>0.014</td>\n",
       "</tr>\n",
       "<tr>\n",
       "  <th>Group Var</th>                                  <td>0.000</td>   <td>0.001</td>     <td></td>      <td></td>       <td></td>       <td></td>   \n",
       "</tr>\n",
       "<tr>\n",
       "  <th>Group x C(GambleChoice)[T.safe] Cov</th>       <td>-0.000</td>   <td>0.001</td>     <td></td>      <td></td>       <td></td>       <td></td>   \n",
       "</tr>\n",
       "<tr>\n",
       "  <th>C(GambleChoice)[T.safe] Var</th>                <td>0.001</td>   <td>0.001</td>     <td></td>      <td></td>       <td></td>       <td></td>   \n",
       "</tr>\n",
       "<tr>\n",
       "  <th>Group x TotalProfit Cov</th>                    <td>0.000</td>   <td>0.001</td>     <td></td>      <td></td>       <td></td>       <td></td>   \n",
       "</tr>\n",
       "<tr>\n",
       "  <th>C(GambleChoice)[T.safe] x TotalProfit Cov</th>  <td>0.000</td>   <td>0.001</td>     <td></td>      <td></td>       <td></td>       <td></td>   \n",
       "</tr>\n",
       "<tr>\n",
       "  <th>TotalProfit Var</th>                            <td>0.001</td>   <td>0.001</td>     <td></td>      <td></td>       <td></td>       <td></td>   \n",
       "</tr>\n",
       "<tr>\n",
       "  <th>Group x decisionCPE Cov</th>                    <td>0.000</td>   <td>0.000</td>     <td></td>      <td></td>       <td></td>       <td></td>   \n",
       "</tr>\n",
       "<tr>\n",
       "  <th>C(GambleChoice)[T.safe] x decisionCPE Cov</th> <td>-0.000</td>   <td>0.000</td>     <td></td>      <td></td>       <td></td>       <td></td>   \n",
       "</tr>\n",
       "<tr>\n",
       "  <th>TotalProfit x decisionCPE Cov</th>             <td>-0.000</td>   <td>0.001</td>     <td></td>      <td></td>       <td></td>       <td></td>   \n",
       "</tr>\n",
       "<tr>\n",
       "  <th>decisionCPE Var</th>                            <td>0.000</td>   <td>0.000</td>     <td></td>      <td></td>       <td></td>       <td></td>   \n",
       "</tr>\n",
       "</table>"
      ],
      "text/plain": [
       "<class 'statsmodels.iolib.summary2.Summary'>\n",
       "\"\"\"\n",
       "                       Mixed Linear Model Regression Results\n",
       "====================================================================================\n",
       "Model:                      MixedLM          Dependent Variable:          band_pow  \n",
       "No. Observations:           26558            Method:                      ML        \n",
       "No. Groups:                 193              Scale:                       0.0139    \n",
       "Min. group size:            65               Log-Likelihood:              18821.7025\n",
       "Max. group size:            148              Converged:                   Yes       \n",
       "Mean group size:            137.6                                                   \n",
       "------------------------------------------------------------------------------------\n",
       "                                          Coef.  Std.Err.   z    P>|z| [0.025 0.975]\n",
       "------------------------------------------------------------------------------------\n",
       "Intercept                                 -0.007    0.002 -3.761 0.000 -0.010 -0.003\n",
       "C(GambleChoice)[T.safe]                   -0.011    0.002 -4.812 0.000 -0.015 -0.006\n",
       "TotalProfit                               -0.005    0.002 -2.185 0.029 -0.010 -0.001\n",
       "decisionCPE                                0.011    0.002  6.485 0.000  0.008  0.014\n",
       "Group Var                                  0.000    0.001                           \n",
       "Group x C(GambleChoice)[T.safe] Cov       -0.000    0.001                           \n",
       "C(GambleChoice)[T.safe] Var                0.001    0.001                           \n",
       "Group x TotalProfit Cov                    0.000    0.001                           \n",
       "C(GambleChoice)[T.safe] x TotalProfit Cov  0.000    0.001                           \n",
       "TotalProfit Var                            0.001    0.001                           \n",
       "Group x decisionCPE Cov                    0.000    0.000                           \n",
       "C(GambleChoice)[T.safe] x decisionCPE Cov -0.000    0.000                           \n",
       "TotalProfit x decisionCPE Cov             -0.000    0.001                           \n",
       "decisionCPE Var                            0.000    0.000                           \n",
       "====================================================================================\n",
       "\n",
       "\"\"\""
      ]
     },
     "execution_count": 58,
     "metadata": {},
     "output_type": "execute_result"
    }
   ],
   "source": [
    "acc_fit = fit_mixed_model(reg_df[reg_df.roi=='acc'],\n",
    "                                        final_vars,outcome_var,rand_eff_var,reml=False) \n",
    "acc_fit.summary()"
   ]
  },
  {
   "cell_type": "code",
   "execution_count": 60,
   "id": "504d617e",
   "metadata": {},
   "outputs": [
    {
     "data": {
      "text/plain": [
       "Intercept                                    1.693959e-04\n",
       "C(GambleChoice)[T.safe]                      1.497019e-06\n",
       "TotalProfit                                  2.889127e-02\n",
       "decisionCPE                                  8.853343e-11\n",
       "Group Var                                    4.233588e-09\n",
       "Group x C(GambleChoice)[T.safe] Cov          1.025548e-05\n",
       "C(GambleChoice)[T.safe] Var                  9.719440e-08\n",
       "Group x TotalProfit Cov                      2.676891e-01\n",
       "C(GambleChoice)[T.safe] x TotalProfit Cov    3.909127e-03\n",
       "TotalProfit Var                              1.715671e-10\n",
       "Group x decisionCPE Cov                      2.888112e-01\n",
       "C(GambleChoice)[T.safe] x decisionCPE Cov    1.425919e-01\n",
       "TotalProfit x decisionCPE Cov                1.284158e-01\n",
       "decisionCPE Var                              9.346204e-03\n",
       "dtype: float64"
      ]
     },
     "execution_count": 60,
     "metadata": {},
     "output_type": "execute_result"
    }
   ],
   "source": [
    "acc_fit.pvalues"
   ]
  },
  {
   "cell_type": "code",
   "execution_count": 37,
   "id": "0b566bb9",
   "metadata": {},
   "outputs": [],
   "source": [
    "\n",
    "# sns.set_context(\"talk\",rc={'axes.linewidth': 1.5})\n",
    "\n",
    "# for roi in roi_plot_data.roi.unique().tolist()[:-1]:\n",
    "#     roi_temp_data = roi_plot_data[roi_plot_data.roi==roi]\n",
    "\n",
    "#     rho   = rho_data[rho_data.roi == roi].round_rho.values[0]\n",
    "#     rho_p = rho_data[rho_data.roi == roi].round_p.values[0]\n",
    "    \n",
    "        \n",
    "#     fig,ax = plt.subplots(1,1,figsize=(5,3.5),dpi=300)\n",
    "\n",
    "#     sns.regplot(data=roi_temp_data,x='bdi',y='elec_bCPE',scatter=False,ci=95,\n",
    "#                 fit_reg=True,color = '#00467e') #034975\n",
    "    \n",
    "#     sns.scatterplot(data = roi_temp_data.groupby(['subj_id']).agg('mean'),x='bdi',\n",
    "#                     y='raw_decisionCPE',color = '#00467e',edgecolor=None,alpha=0.8)\n",
    "    \n",
    "# #     plt.gca().yaxis.set_major_formatter(StrMethodFormatter('{x:,.2f}')) \n",
    "#     plt.xlabel('BDI-II')\n",
    "# #     plt.xlim([0,40])\n",
    "    \n",
    "#     plt.tick_params(length=0) \n",
    "# #     plt.ylabel('beta'+r'$beta_{{{zpow}}}$'+' cpe encoding')\n",
    "#     plt.ylabel(fr'${band}_{{{zpow}}} \\sim cpe$')\n",
    "\n",
    "#     plt.text(np.max(roi_temp_data.bdi)-8,\n",
    "#              np.round(np.max(roi_temp_data.groupby(['subj_id']).agg('mean').elec_bCPE),3)-0.003,\n",
    "#              r'$rho$ = '+f'{rho} \\n'+ fr'$p \\approxeq $ {rho_p}',color='k',fontsize=12)\n",
    "# #              color='#00467e',fontsize=16)\n",
    "# #     plt.text(0.8,0.8,r'$rho$ = '+f'{rho} \\n'+ fr'$p \\approxeq $ {rho_p}',\n",
    "# #             verticalalignment='top', horizontalalignment='right',\n",
    "# #             color='k',fontsize=16)\n",
    "\n",
    "#     plt.title(f'{roi}',fontsize=20)\n",
    "#     plt.tight_layout()\n",
    "\n",
    "\n",
    "    \n",
    "#     sns.despine()\n",
    "    \n",
    "# #     plt.savefig(f'{fig_save_dir}/{roi}_{rho}_{rho_p}_roi_bdi_beta-cpe-slope.pdf', format='pdf', metadata=None,\n",
    "# #         bbox_inches='tight', pad_inches=0.1,dpi=300,\n",
    "# #         facecolor='auto', edgecolor='auto',\n",
    "# #         backend=None)\n",
    "    "
   ]
  },
  {
   "cell_type": "code",
   "execution_count": null,
   "id": "87a6e4c6",
   "metadata": {},
   "outputs": [],
   "source": []
  },
  {
   "cell_type": "code",
   "execution_count": null,
   "id": "a1976f04",
   "metadata": {},
   "outputs": [],
   "source": []
  },
  {
   "cell_type": "code",
   "execution_count": null,
   "id": "9c087ca8",
   "metadata": {},
   "outputs": [],
   "source": []
  },
  {
   "cell_type": "code",
   "execution_count": null,
   "id": "93e45e8e",
   "metadata": {},
   "outputs": [],
   "source": [
    "sig_roi_fit_results"
   ]
  },
  {
   "cell_type": "code",
   "execution_count": null,
   "id": "ea61be68",
   "metadata": {},
   "outputs": [],
   "source": [
    "roi_fit_results"
   ]
  },
  {
   "cell_type": "code",
   "execution_count": null,
   "id": "b39a83c3",
   "metadata": {},
   "outputs": [],
   "source": [
    "bonferr_alpha = 0.05/len(test_rois)"
   ]
  },
  {
   "cell_type": "code",
   "execution_count": null,
   "id": "5531a1a5",
   "metadata": {},
   "outputs": [],
   "source": [
    "bonferr_alpha"
   ]
  },
  {
   "cell_type": "code",
   "execution_count": null,
   "id": "ab2b9306",
   "metadata": {},
   "outputs": [],
   "source": [
    "fe_results.roi[fe_results.roi_cpe_pval <= bonferr_alpha]"
   ]
  },
  {
   "cell_type": "code",
   "execution_count": null,
   "id": "487bd75c",
   "metadata": {},
   "outputs": [],
   "source": [
    "sig_roi_fit_results = roi_fit_results[roi_fit_results.decisionCPE <= 0.05]"
   ]
  },
  {
   "cell_type": "code",
   "execution_count": null,
   "id": "abc62010",
   "metadata": {},
   "outputs": [],
   "source": [
    "sig_roi_fit_results.roi.value_counts()"
   ]
  },
  {
   "cell_type": "code",
   "execution_count": null,
   "id": "c9900c62",
   "metadata": {},
   "outputs": [],
   "source": [
    "sig_roi_fit_results"
   ]
  },
  {
   "cell_type": "code",
   "execution_count": null,
   "id": "8cbed870",
   "metadata": {},
   "outputs": [],
   "source": [
    "plot_roi_model_results(sig_data,'roi','Z_Score_decisionCPE',bar_order=bar_order,color='#135546',figsize=(10,4))"
   ]
  },
  {
   "cell_type": "code",
   "execution_count": null,
   "id": "46d6ffe3",
   "metadata": {},
   "outputs": [],
   "source": []
  },
  {
   "cell_type": "code",
   "execution_count": null,
   "id": "322eb831",
   "metadata": {
    "scrolled": true
   },
   "outputs": [],
   "source": [
    "final_fit.pvalues['decisionCPE']"
   ]
  },
  {
   "cell_type": "code",
   "execution_count": null,
   "id": "dbff50be",
   "metadata": {},
   "outputs": [],
   "source": [
    "# final_fit.t_test_pairwise('C(TrialType)',\n",
    "#                           factor_labels=[ 'TrialEV', 'TotalProfit', 'decisionCPE'])\n",
    "# final_fit.model.data.design_info.term_names.index(term_name)"
   ]
  },
  {
   "cell_type": "code",
   "execution_count": null,
   "id": "dcb04c4b",
   "metadata": {},
   "outputs": [],
   "source": [
    "mixed_effects_ftest_ttest(final_fit)"
   ]
  },
  {
   "cell_type": "code",
   "execution_count": null,
   "id": "e215fd34",
   "metadata": {},
   "outputs": [],
   "source": [
    "fe_param_names = list(final_fit.fe_params.index[1:])\n",
    "fe_param_names"
   ]
  },
  {
   "cell_type": "code",
   "execution_count": null,
   "id": "ae6e3385",
   "metadata": {},
   "outputs": [],
   "source": [
    "plot_data = pd.concat([pd.DataFrame(\n",
    "    {**{'subj_id':elec_id.split('_')[0],'reref_ch_names':elec_id.split('_')[1]},'unique_reref_ch':elec_id,\n",
    "     **{f'raw_{param}':final_fit.random_effects[elec_id][param] for param in list(\n",
    "            final_fit.random_effects[elec_id].index)}},index=[range(len(fe_param_names))])\n",
    "        \n",
    "    for elec_id in final_fit.random_effects.keys()]).reset_index(drop=True)\n",
    "\n",
    "plot_data['roi'] = [reg_df.roi[reg_df.unique_reref_ch == row.unique_reref_ch].values[0]\n",
    "                                for idx,row in plot_data.iterrows()]\n",
    "\n",
    "plot_data['bdi'] = [subj_info_df.bdi[subj_info_df.subj_id == subj_id].values[0]\n",
    "                                for subj_id in plot_data.subj_id]"
   ]
  },
  {
   "cell_type": "code",
   "execution_count": null,
   "id": "f059ced9",
   "metadata": {},
   "outputs": [],
   "source": [
    "plot_data"
   ]
  },
  {
   "cell_type": "code",
   "execution_count": null,
   "id": "c43b2a75",
   "metadata": {},
   "outputs": [],
   "source": [
    "#### Get all results for Figs!!!!\n",
    "\n",
    "fe_intercept   = final_fit.params['Intercept']\n",
    "fe_cpe_beta    = final_fit.params['decisionCPE']\n",
    "fe_cpe_beta\n"
   ]
  },
  {
   "cell_type": "code",
   "execution_count": null,
   "id": "a228b003",
   "metadata": {},
   "outputs": [],
   "source": [
    "#### add fixed effects data to all_elec_plot_data\n",
    "plot_data['elec_b0']   = np.add(plot_data.raw_Group,fe_intercept)\n",
    "plot_data['elec_bCPE'] = np.add(plot_data.raw_decisionCPE,fe_cpe_beta)\n",
    "plot_data = plot_data[~plot_data.roi.isnull()]"
   ]
  },
  {
   "cell_type": "code",
   "execution_count": null,
   "id": "16ab40f2",
   "metadata": {},
   "outputs": [],
   "source": [
    "plot_data"
   ]
  },
  {
   "cell_type": "code",
   "execution_count": null,
   "id": "0991b521",
   "metadata": {},
   "outputs": [],
   "source": [
    "raw_roi_stats = {f'{roi}':ttest_1samp(plot_data.raw_decisionCPE[plot_data.roi == roi].unique(),\n",
    "                 popmean=0) for roi in plot_data.roi.unique().tolist()}\n",
    "raw_roi_stats"
   ]
  },
  {
   "cell_type": "code",
   "execution_count": null,
   "id": "407b0f52",
   "metadata": {},
   "outputs": [],
   "source": [
    "roi_stats = {f'{roi}':ttest_1samp(plot_data.elec_bCPE[plot_data.roi == roi].unique(),\n",
    "                 popmean=0) for roi in plot_data.roi.unique().tolist()}\n",
    "roi_stats"
   ]
  },
  {
   "cell_type": "code",
   "execution_count": null,
   "id": "b7b7046c",
   "metadata": {},
   "outputs": [],
   "source": [
    "pairwise_ains_vals = plot_data.elec_bCPE[plot_data.roi == 'ains'].unique()\n",
    "\n",
    "pairwise_roi_stats = {f'ains={roi}':ttest_ind(pairwise_ains_vals,plot_data.elec_bCPE[plot_data.roi == roi].unique(),\n",
    "                 ) for roi in plot_data.roi.unique().tolist()}\n",
    "pairwise_roi_stats\n"
   ]
  },
  {
   "cell_type": "code",
   "execution_count": null,
   "id": "e6648b2d",
   "metadata": {
    "scrolled": true
   },
   "outputs": [],
   "source": [
    "pairwise_ains_vals = plot_data.elec_bCPE[plot_data.roi == 'ains'].unique()\n",
    "\n",
    "pairwise_roi_stats_greater = {f'ains={roi}':ttest_ind(pairwise_ains_vals,plot_data.elec_bCPE[plot_data.roi == roi].unique(),\n",
    "                 alternative='greater') for roi in plot_data.roi.unique().tolist()}\n",
    "pairwise_roi_stats_greater"
   ]
  },
  {
   "cell_type": "code",
   "execution_count": null,
   "id": "766a4a33",
   "metadata": {},
   "outputs": [],
   "source": [
    "pairwise_ains_vals = plot_data.elec_bCPE[plot_data.roi == 'ains'].unique()\n",
    "\n",
    "pairwise_roi_stats_less = {f'ains={roi}':ttest_ind(pairwise_ains_vals,plot_data.elec_bCPE[plot_data.roi == roi].unique(),\n",
    "                 alternative='less') for roi in plot_data.roi.unique().tolist()}\n",
    "pairwise_roi_stats_less"
   ]
  },
  {
   "cell_type": "code",
   "execution_count": null,
   "id": "d9deb2ab",
   "metadata": {},
   "outputs": [],
   "source": [
    "bonferr_alpha = 0.05/(len(plot_data.roi.unique().tolist()))\n",
    "bonferr_alpha"
   ]
  },
  {
   "cell_type": "code",
   "execution_count": null,
   "id": "7397e76e",
   "metadata": {},
   "outputs": [],
   "source": [
    "print('sig ROIs after multiple comp correction: ',[(roi,raw_roi_stats[roi].pvalue) for roi in raw_roi_stats.keys()\n",
    "                                                   if raw_roi_stats[roi].pvalue< bonferr_alpha])\n",
    "# print('sig ROI pvals: ',roi_stats.roi_cpe_pval[roi_beta_results.roi_cpe_pval<=bonferr_alpha].unique().tolist())\n",
    "\n",
    "sig_raw = [(roi,raw_roi_stats[roi].pvalue) for roi in raw_roi_stats.keys()\n",
    "                                                   if raw_roi_stats[roi].pvalue< bonferr_alpha]\n",
    "\n",
    "sig_raw_rois = list(zip(*sig_raw))[0]"
   ]
  },
  {
   "cell_type": "code",
   "execution_count": null,
   "id": "1573145b",
   "metadata": {},
   "outputs": [],
   "source": [
    "sig_raw_rois"
   ]
  },
  {
   "cell_type": "code",
   "execution_count": null,
   "id": "3dd56571",
   "metadata": {},
   "outputs": [],
   "source": [
    "print('sig ROIs after multiple comp correction: ',[(roi,roi_stats[roi].pvalue) for roi in roi_stats.keys()\n",
    "                                                   if roi_stats[roi].pvalue< bonferr_alpha])\n",
    "# print('sig ROI pvals: ',roi_stats.roi_cpe_pval[roi_beta_results.roi_cpe_pval<=bonferr_alpha].unique().tolist())\n",
    "sig_bcpe = [(roi,roi_stats[roi].pvalue) for roi in roi_stats.keys()\n",
    "                                                   if roi_stats[roi].pvalue< bonferr_alpha]\n",
    "\n",
    "sig_bcpe_rois = list(zip(*sig_bcpe))[0]"
   ]
  },
  {
   "cell_type": "code",
   "execution_count": null,
   "id": "593daa85",
   "metadata": {},
   "outputs": [],
   "source": [
    "list(zip(*sig_bcpe))[0]"
   ]
  },
  {
   "cell_type": "code",
   "execution_count": null,
   "id": "168acf81",
   "metadata": {},
   "outputs": [],
   "source": [
    "print('sig ROIs after multiple comp correction: ',[(roi,pairwise_roi_stats_greater[roi].pvalue) for \n",
    "                                                   roi in pairwise_roi_stats_greater.keys()\n",
    "                                                   if pairwise_roi_stats_greater[roi].pvalue< bonferr_alpha])\n",
    "# print('sig ROI pvals: ',roi_stats.roi_cpe_pval[roi_beta_results.roi_cpe_pval<=bonferr_alpha].unique().tolist())\n",
    "sig_bcpe = [(roi,pairwise_roi_stats_greater[roi].pvalue) for roi in pairwise_roi_stats_greater.keys()\n",
    "                                                   if pairwise_roi_stats_greater[roi].pvalue< bonferr_alpha]\n",
    "\n",
    "sig_bcpe_rois = list(zip(*sig_bcpe))[0]"
   ]
  },
  {
   "cell_type": "code",
   "execution_count": null,
   "id": "ba69aafc",
   "metadata": {},
   "outputs": [],
   "source": [
    "sig_bcpe_rois "
   ]
  },
  {
   "cell_type": "code",
   "execution_count": null,
   "id": "a86819a8",
   "metadata": {},
   "outputs": [],
   "source": [
    "print('sig ROIs after multiple comp correction: ',[(roi,pairwise_roi_stats_less[roi].pvalue) for \n",
    "                                                   roi in pairwise_roi_stats_less.keys()\n",
    "                                                   if pairwise_roi_stats_less[roi].pvalue< bonferr_alpha])\n",
    "# print('sig ROI pvals: ',roi_stats.roi_cpe_pval[roi_beta_results.roi_cpe_pval<=bonferr_alpha].unique().tolist())\n",
    "# sig_bcpe = [(roi,pairwise_roi_stats_less[roi].pvalue) for roi in pairwise_roi_stats_less.keys()\n",
    "#                                                    if pairwise_roi_stats_less[roi].pvalue< bonferr_alpha]\n",
    "\n",
    "# sig_bcpe_rois = list(zip(*sig_bcpe))[0]"
   ]
  },
  {
   "cell_type": "code",
   "execution_count": null,
   "id": "fe564d88",
   "metadata": {},
   "outputs": [],
   "source": [
    "print('sig ROIs after multiple comp correction: ',[(roi,pairwise_roi_stats[roi].pvalue) for \n",
    "                                                   roi in pairwise_roi_stats.keys()\n",
    "                                                   if pairwise_roi_stats[roi].pvalue< bonferr_alpha])\n",
    "\n",
    "sig_bcpe = [(roi,pairwise_roi_stats[roi].pvalue) for roi in pairwise_roi_stats.keys()\n",
    "                                                   if pairwise_roi_stats[roi].pvalue< bonferr_alpha]\n",
    "\n",
    "sig_bcpe_rois = list(zip(*sig_bcpe))[0]"
   ]
  },
  {
   "cell_type": "code",
   "execution_count": null,
   "id": "a0f7379d",
   "metadata": {},
   "outputs": [],
   "source": [
    "sig_bcpe_rois"
   ]
  },
  {
   "cell_type": "code",
   "execution_count": null,
   "id": "083a9a35",
   "metadata": {},
   "outputs": [],
   "source": [
    "len([(roi,roi_stats[roi].pvalue) for roi in roi_stats.keys()\n",
    "                                                   if roi_stats[roi].pvalue< bonferr_alpha])"
   ]
  },
  {
   "cell_type": "code",
   "execution_count": null,
   "id": "a6615af1",
   "metadata": {},
   "outputs": [],
   "source": [
    "roi_stats.keys()"
   ]
  },
  {
   "cell_type": "code",
   "execution_count": null,
   "id": "22a0392e",
   "metadata": {},
   "outputs": [],
   "source": [
    "# roi_order = ['dlpfc','vlpfc','dmpfc','ofc','ains','pins','acc','hpc','amy','mtg','motor','thalamus']\n",
    "roi_order = ['dlpfc','vlpfc','ofc','ains','pins','acc','hpc','amy']"
   ]
  },
  {
   "cell_type": "code",
   "execution_count": null,
   "id": "d7d906ed",
   "metadata": {},
   "outputs": [],
   "source": [
    "roi_plot_data = plot_data.copy()\n",
    "roi_plot_data = roi_plot_data[roi_plot_data.roi.isin(roi_order)]\n",
    "\n",
    "# roi_plot_names = {'thalamus':'THAL','hpc':'HPC','amy':'AMY','acc':'ACC','ofc':'OFC','ains':'aINS',\n",
    "#                   'pins':'pINS','dmpfc':'dmPFC','dlpfc':'dlPFC','vlpfc':'vlPFC'}\n"
   ]
  },
  {
   "cell_type": "code",
   "execution_count": null,
   "id": "e418d9f0",
   "metadata": {},
   "outputs": [],
   "source": [
    "sns.set_context(\"poster\",rc={'axes.linewidth': 1.5})\n",
    "fig,ax = plt.subplots(figsize=(10, 4),dpi=500)\n",
    "\n",
    "fig_save_dir = f'{base_dir}ephys_analysis/figs/beta_regressions/'\n",
    "os.makedirs(fig_save_dir,exist_ok=True)\n",
    "\n",
    "sns.barplot(data = roi_plot_data,\n",
    "            x = 'roi',\n",
    "            y = 'elec_bCPE',\n",
    "#             y='raw_decisionCPE',\n",
    "#             color = '#561C46',\n",
    "#             color = '#00467e',\n",
    "#             color = '#346a97',\n",
    "            color = '#346a97',\n",
    "            saturation=1,\n",
    "            order=roi_order,\n",
    "            errorbar=None) \n",
    "\n",
    "\n",
    "sns.stripplot(data = roi_plot_data,\n",
    "            x = 'roi',\n",
    "            y = 'elec_bCPE',\n",
    "#               y='raw_decisionCPE',\n",
    "#               color='#78496b', \n",
    "              color = '#00467e',\n",
    "              alpha=.4,\n",
    "              dodge=True,\n",
    "              order=roi_order,\n",
    "              size = 6)\n",
    "\n",
    "ax.axhline(y=0,color='#00467e',linewidth=2)\n",
    "plt.tick_params(length=0 )#,grid_linewidth=1)\n",
    "\n",
    "plt.ylim([-0.05,0.05])\n",
    "ax.set(xlabel=None)\n",
    "# plt.ylabel('CPE Encoding in Beta Power (z)')\n",
    "# plt.ylabel('beta(z) cpe encoding')\n",
    "# plt.ylabel(r'$beta_{{{zpow}}}$'+ ' cpe encoding')\n",
    "# plt.ylabel(r'$beta_{{{zpow}}}$'+ ' cpe encoding')\n",
    "plt.ylabel(r'$beta_{{{zpow}}} \\sim cpe$')\n",
    "# plt.gca().yaxis.set_major_formatter(StrMethodFormatter('{x:,.3f}')) \n",
    "# plt.locator_params(axis='y', nbins=5,tight=True)\n",
    "\n",
    "\n",
    "sns.despine()\n",
    "    \n",
    "plt.savefig(f'{fig_save_dir}/Bpow_CPE_barplot_{date}.pdf', format='pdf', metadata=None,\n",
    "bbox_inches=None, pad_inches=0.1,dpi=500,\n",
    "facecolor='auto', edgecolor='auto',\n",
    "backend=None)\n"
   ]
  },
  {
   "cell_type": "code",
   "execution_count": null,
   "id": "bfcc1cc3",
   "metadata": {},
   "outputs": [],
   "source": [
    "roi_plot_data.roi.unique().tolist()"
   ]
  },
  {
   "cell_type": "code",
   "execution_count": null,
   "id": "7e1d3f5b",
   "metadata": {},
   "outputs": [],
   "source": [
    "bonferr_alpha"
   ]
  },
  {
   "cell_type": "code",
   "execution_count": null,
   "id": "53710b85",
   "metadata": {},
   "outputs": [],
   "source": [
    "rho_data = []\n",
    "sig_rho = []\n",
    "\n",
    "# bonferr_alpha = 0.05/len(roi_plot_data.roi.unique().tolist())\n",
    "# bonferr_alpha = 0.05/9\n",
    "bonferr_alpha = 0.01\n",
    "\n",
    "# BDI CORRELATIONS\n",
    "for roi in roi_plot_data.roi.unique().tolist()[:]:\n",
    "    roi_temp_data = roi_plot_data[roi_plot_data.roi==roi]\n",
    "    rho,rho_p     = spearmanr(roi_temp_data.bdi,roi_temp_data.elec_bCPE)\n",
    "#     rho,rho_p     = pearsonr(roi_temp_data.bdi,roi_temp_data.elec_bCPE)\n",
    "#     print(f'{roi} pearsonr',rho,rho_p)\n",
    "    rho_data.append(pd.DataFrame({'roi':roi,'rho':rho,'rho_p':rho_p},index=[0]))\n",
    "#     if rho_p <= bonferr_alpha:\n",
    "#         sig_bdi_rois.append(roi)\n",
    "#     if rho_p < bonferr_alpha:\n",
    "    if rho_p < 0.05:\n",
    "        sig_rho.append((roi,rho,rho_p))\n",
    "    print(f'{roi} pearsonr',rho,rho_p)\n",
    "rho_data = pd.concat(rho_data).reset_index(drop=True)\n"
   ]
  },
  {
   "cell_type": "code",
   "execution_count": null,
   "id": "6b177a6d",
   "metadata": {},
   "outputs": [],
   "source": [
    "rho_data"
   ]
  },
  {
   "cell_type": "code",
   "execution_count": null,
   "id": "1a31f5e4",
   "metadata": {},
   "outputs": [],
   "source": [
    "sig_rho"
   ]
  },
  {
   "cell_type": "code",
   "execution_count": null,
   "id": "6a4991d6",
   "metadata": {},
   "outputs": [],
   "source": [
    "rho_data['round_rho'] = np.round(rho_data.rho,2)\n",
    "rho_data['round_p']   = np.round(rho_data.rho_p,2)\n",
    "rho_data['round_p'][rho_data.roi == 'acc'] = 0.01\n",
    "rho_data['round_p'][rho_data.roi == 'ofc'] = 0.01\n",
    "rho_data"
   ]
  },
  {
   "cell_type": "code",
   "execution_count": null,
   "id": "b481458d",
   "metadata": {
    "scrolled": false
   },
   "outputs": [],
   "source": [
    "\n",
    "sns.set_context(\"talk\",rc={'axes.linewidth': 1.5})\n",
    "\n",
    "for roi in roi_plot_data.roi.unique().tolist()[:-1]:\n",
    "    roi_temp_data = roi_plot_data[roi_plot_data.roi==roi]\n",
    "\n",
    "    rho   = rho_data[rho_data.roi == roi].round_rho.values[0]\n",
    "    rho_p = rho_data[rho_data.roi == roi].round_p.values[0]\n",
    "    \n",
    "        \n",
    "    fig,ax = plt.subplots(1,1,figsize=(5,3.5),dpi=300)\n",
    "\n",
    "    sns.regplot(data=roi_temp_data,x='bdi',y='elec_bCPE',scatter=False,ci=95,\n",
    "                fit_reg=True,color = '#00467e') #034975\n",
    "    \n",
    "    sns.scatterplot(data = roi_temp_data.groupby(['subj_id']).agg('mean'),x='bdi',\n",
    "                    y='raw_decisionCPE',color = '#00467e',edgecolor=None,alpha=0.8)\n",
    "    \n",
    "#     plt.gca().yaxis.set_major_formatter(StrMethodFormatter('{x:,.2f}')) \n",
    "    plt.xlabel('BDI-II')\n",
    "#     plt.xlim([0,40])\n",
    "    \n",
    "    plt.tick_params(length=0) \n",
    "#     plt.ylabel('beta'+r'$beta_{{{zpow}}}$'+' cpe encoding')\n",
    "    plt.ylabel(r'$beta_{{{zpow}}} \\sim cpe$')\n",
    "\n",
    "    plt.text(np.max(roi_temp_data.bdi)-8,\n",
    "             np.round(np.max(roi_temp_data.groupby(['subj_id']).agg('mean').elec_bCPE),3)-0.003,\n",
    "             r'$rho$ = '+f'{rho} \\n'+ fr'$p \\approxeq $ {rho_p}',color='k',fontsize=12)\n",
    "#              color='#00467e',fontsize=16)\n",
    "#     plt.text(0.8,0.8,r'$rho$ = '+f'{rho} \\n'+ fr'$p \\approxeq $ {rho_p}',\n",
    "#             verticalalignment='top', horizontalalignment='right',\n",
    "#             color='k',fontsize=16)\n",
    "\n",
    "    plt.title(f'{roi}',fontsize=20)\n",
    "    plt.tight_layout()\n",
    "\n",
    "\n",
    "    \n",
    "    sns.despine()\n",
    "    \n",
    "    plt.savefig(f'{fig_save_dir}/{roi}_{rho}_{rho_p}_roi_bdi_beta-cpe-slope.pdf', format='pdf', metadata=None,\n",
    "        bbox_inches='tight', pad_inches=0.1,dpi=300,\n",
    "        facecolor='auto', edgecolor='auto',\n",
    "        backend=None)\n",
    "    "
   ]
  },
  {
   "cell_type": "code",
   "execution_count": null,
   "id": "f4a67d86",
   "metadata": {},
   "outputs": [],
   "source": []
  },
  {
   "cell_type": "markdown",
   "id": "1ed7ce33",
   "metadata": {},
   "source": [
    "# Band x BDI Interaction\n",
    "- Rerun final mixed effects model on each ROI separately\n",
    "- Correlate random effects slopes for each regressor with BDI"
   ]
  },
  {
   "cell_type": "code",
   "execution_count": null,
   "id": "17371f36",
   "metadata": {},
   "outputs": [],
   "source": [
    "rand_eff_var = 'unique_reref_ch'\n"
   ]
  },
  {
   "cell_type": "code",
   "execution_count": null,
   "id": "0003c6a2",
   "metadata": {
    "scrolled": false
   },
   "outputs": [],
   "source": [
    "reg_df"
   ]
  },
  {
   "cell_type": "code",
   "execution_count": null,
   "id": "c925e4d6",
   "metadata": {},
   "outputs": [],
   "source": [
    "bdi_vars    = ['decisionCPE','bdi','decisionCPE:bdi']\n",
    "outcome_var = 'band_pow'\n",
    "\n",
    "bdi_fit = fit_mixed_model(reg_df,bdi_vars,outcome_var,rand_eff_var,reml=False)\n",
    "print(bdi_fit.summary())\n",
    "    "
   ]
  },
  {
   "cell_type": "code",
   "execution_count": null,
   "id": "85148564",
   "metadata": {},
   "outputs": [],
   "source": []
  },
  {
   "cell_type": "code",
   "execution_count": null,
   "id": "eefc788b",
   "metadata": {},
   "outputs": [],
   "source": [
    "fe_param_names = list(bdi_fit.fe_params.index[1:])\n",
    "fe_param_names"
   ]
  },
  {
   "cell_type": "code",
   "execution_count": null,
   "id": "6d996891",
   "metadata": {},
   "outputs": [],
   "source": [
    "bdi_plot_data = pd.concat([pd.DataFrame(\n",
    "    {**{'subj_id':elec_id.split('_')[0],'reref_ch_names':elec_id.split('_')[1]},'unique_reref_ch':elec_id,\n",
    "     **{f'raw_{param}':bdi_fit.random_effects[elec_id][param] for param in list(\n",
    "            bdi_fit.random_effects[elec_id].index)}},index=[range(len(fe_param_names))])\n",
    "        \n",
    "    for elec_id in bdi_fit.random_effects.keys()]).reset_index(drop=True)\n",
    "\n",
    "bdi_plot_data['roi'] = [reg_df.roi[reg_df.unique_reref_ch == row.unique_reref_ch].values[0]\n",
    "                                for idx,row in bdi_plot_data.iterrows()]\n",
    "\n",
    "bdi_plot_data['bdi'] = [subj_info_df.bdi[subj_info_df.subj_id == subj_id].values[0]\n",
    "                                for subj_id in bdi_plot_data.subj_id]"
   ]
  },
  {
   "cell_type": "code",
   "execution_count": null,
   "id": "e4a167c4",
   "metadata": {},
   "outputs": [],
   "source": [
    "bdi_plot_data"
   ]
  },
  {
   "cell_type": "code",
   "execution_count": null,
   "id": "c7f03ae9",
   "metadata": {},
   "outputs": [],
   "source": [
    "#### Get all results for Figs!!!!\n",
    "\n",
    "fe_intercept   = bdi_fit.params['Intercept']\n",
    "fe_cpe_beta    = bdi_fit.params['decisionCPE:bdi']\n",
    "fe_cpe_beta\n"
   ]
  },
  {
   "cell_type": "code",
   "execution_count": null,
   "id": "c05db4f3",
   "metadata": {},
   "outputs": [],
   "source": [
    "#### add fixed effects data to all_elec_plot_data\n",
    "bdi_plot_data['elec_b0']   = np.add(bdi_plot_data.raw_Group,fe_intercept)\n",
    "bdi_plot_data['elec_bCPE'] = np.add(bdi_plot_data['raw_decisionCPE:bdi'],fe_cpe_beta)\n",
    "bdi_plot_data = bdi_plot_data[~bdi_plot_data.roi.isnull()]"
   ]
  },
  {
   "cell_type": "code",
   "execution_count": null,
   "id": "3aa60412",
   "metadata": {},
   "outputs": [],
   "source": [
    "bdi_plot_data"
   ]
  },
  {
   "cell_type": "code",
   "execution_count": null,
   "id": "55d2ed17",
   "metadata": {},
   "outputs": [],
   "source": [
    "# raw_bdi\n",
    "\n",
    "raw_roi_stats = {f'{roi}':ttest_1samp(bdi_plot_data['raw_bdi'][bdi_plot_data.roi == roi].unique(),\n",
    "                 popmean=0) for roi in bdi_plot_data.roi.unique().tolist()}\n",
    "raw_roi_stats"
   ]
  },
  {
   "cell_type": "code",
   "execution_count": null,
   "id": "2962d880",
   "metadata": {},
   "outputs": [],
   "source": [
    "raw_roi_stats = {f'{roi}':ttest_1samp(bdi_plot_data['raw_decisionCPE:bdi'][bdi_plot_data.roi == roi].unique(),\n",
    "                 popmean=0) for roi in bdi_plot_data.roi.unique().tolist()}\n",
    "raw_roi_stats"
   ]
  },
  {
   "cell_type": "code",
   "execution_count": null,
   "id": "0c6e3b91",
   "metadata": {},
   "outputs": [],
   "source": [
    "roi_stats = {f'{roi}':ttest_1samp(bdi_plot_data.elec_bCPE[bdi_plot_data.roi == roi].unique(),\n",
    "                 popmean=0) for roi in bdi_plot_data.roi.unique().tolist()}\n",
    "roi_stats"
   ]
  },
  {
   "cell_type": "code",
   "execution_count": null,
   "id": "29595352",
   "metadata": {},
   "outputs": [],
   "source": [
    "pairwise_ains_vals = bdi_plot_data.elec_bCPE[plot_data.roi == 'ains'].unique()\n",
    "\n",
    "pairwise_roi_stats = {f'ains={roi}':ttest_ind(pairwise_ains_vals,bdi_plot_data.elec_bCPE[bdi_plot_data.roi == roi].unique(),\n",
    "                 ) for roi in bdi_plot_data.roi.unique().tolist()}\n",
    "pairwise_roi_stats\n"
   ]
  },
  {
   "cell_type": "code",
   "execution_count": null,
   "id": "26d331d4",
   "metadata": {
    "scrolled": true
   },
   "outputs": [],
   "source": [
    "pairwise_ains_vals = bdi_plot_data.elec_bCPE[plot_data.roi == 'ains'].unique()\n",
    "\n",
    "pairwise_roi_stats_greater = {f'ains={roi}':ttest_ind(pairwise_ains_vals,bdi_plot_data.elec_bCPE[bdi_plot_data.roi == roi].unique(),\n",
    "                 alternative='greater') for roi in bdi_plot_data.roi.unique().tolist()}\n",
    "pairwise_roi_stats_greater"
   ]
  },
  {
   "cell_type": "code",
   "execution_count": null,
   "id": "38db0153",
   "metadata": {},
   "outputs": [],
   "source": [
    "pairwise_ains_vals = bdi_plot_data.elec_bCPE[bdi_plot_data.roi == 'ains'].unique()\n",
    "\n",
    "pairwise_roi_stats_less = {f'ains={roi}':ttest_ind(pairwise_ains_vals,bdi_plot_data.elec_bCPE[bdi_plot_data.roi == roi].unique(),\n",
    "                 alternative='less') for roi in bdi_plot_data.roi.unique().tolist()}\n",
    "pairwise_roi_stats_less"
   ]
  },
  {
   "cell_type": "code",
   "execution_count": null,
   "id": "91972a41",
   "metadata": {},
   "outputs": [],
   "source": [
    "bonferr_alpha = 0.05/len(roi_order)\n",
    "bonferr_alpha"
   ]
  },
  {
   "cell_type": "code",
   "execution_count": null,
   "id": "f11b5a94",
   "metadata": {},
   "outputs": [],
   "source": [
    "print('sig ROIs after multiple comp correction: ',[(roi,raw_roi_stats[roi].pvalue) for roi in raw_roi_stats.keys()\n",
    "                                                   if raw_roi_stats[roi].pvalue< bonferr_alpha])\n",
    "# print('sig ROI pvals: ',roi_stats.roi_cpe_pval[roi_beta_results.roi_cpe_pval<=bonferr_alpha].unique().tolist())\n",
    "\n",
    "sig_raw = [(roi,raw_roi_stats[roi].pvalue) for roi in raw_roi_stats.keys()\n",
    "                                                   if raw_roi_stats[roi].pvalue< bonferr_alpha]\n",
    "\n",
    "sig_raw_rois = list(zip(*sig_raw))[0]"
   ]
  },
  {
   "cell_type": "code",
   "execution_count": null,
   "id": "d60277b6",
   "metadata": {},
   "outputs": [],
   "source": [
    "sig_raw_rois"
   ]
  },
  {
   "cell_type": "code",
   "execution_count": null,
   "id": "2fadf781",
   "metadata": {},
   "outputs": [],
   "source": [
    "print('sig ROIs after multiple comp correction: ',[(roi,roi_stats[roi].pvalue) for roi in roi_stats.keys()\n",
    "                                                   if roi_stats[roi].pvalue< bonferr_alpha])\n",
    "# print('sig ROI pvals: ',roi_stats.roi_cpe_pval[roi_beta_results.roi_cpe_pval<=bonferr_alpha].unique().tolist())\n",
    "sig_bcpe = [(roi,roi_stats[roi].pvalue) for roi in roi_stats.keys()\n",
    "                                                   if roi_stats[roi].pvalue< bonferr_alpha]\n",
    "\n",
    "sig_bcpe_rois = list(zip(*sig_bcpe))[0]"
   ]
  },
  {
   "cell_type": "code",
   "execution_count": null,
   "id": "6f10029c",
   "metadata": {},
   "outputs": [],
   "source": [
    "list(zip(*sig_bcpe))[0]"
   ]
  },
  {
   "cell_type": "code",
   "execution_count": null,
   "id": "0282b1a4",
   "metadata": {},
   "outputs": [],
   "source": [
    "print('sig ROIs after multiple comp correction: ',[(roi,pairwise_roi_stats_greater[roi].pvalue) for \n",
    "                                                   roi in pairwise_roi_stats_greater.keys()\n",
    "                                                   if pairwise_roi_stats_greater[roi].pvalue< bonferr_alpha])\n",
    "# print('sig ROI pvals: ',roi_stats.roi_cpe_pval[roi_beta_results.roi_cpe_pval<=bonferr_alpha].unique().tolist())\n",
    "sig_bcpe = [(roi,pairwise_roi_stats_greater[roi].pvalue) for roi in pairwise_roi_stats_greater.keys()\n",
    "                                                   if pairwise_roi_stats_greater[roi].pvalue< bonferr_alpha]\n",
    "\n",
    "# sig_bcpe_rois = list(zip(*sig_bcpe))[0]"
   ]
  },
  {
   "cell_type": "code",
   "execution_count": null,
   "id": "d16614ad",
   "metadata": {},
   "outputs": [],
   "source": [
    "# sig_bcpe_rois "
   ]
  },
  {
   "cell_type": "code",
   "execution_count": null,
   "id": "d38e217f",
   "metadata": {},
   "outputs": [],
   "source": [
    "print('sig ROIs after multiple comp correction: ',[(roi,pairwise_roi_stats_less[roi].pvalue) for \n",
    "                                                   roi in pairwise_roi_stats_less.keys()\n",
    "                                                   if pairwise_roi_stats_less[roi].pvalue< bonferr_alpha])\n",
    "# print('sig ROI pvals: ',roi_stats.roi_cpe_pval[roi_beta_results.roi_cpe_pval<=bonferr_alpha].unique().tolist())\n",
    "sig_bcpe = [(roi,pairwise_roi_stats_less[roi].pvalue) for roi in pairwise_roi_stats_less.keys()\n",
    "                                                   if pairwise_roi_stats_less[roi].pvalue< bonferr_alpha]\n",
    "\n",
    "sig_bcpe_rois = list(zip(*sig_bcpe))[0]"
   ]
  },
  {
   "cell_type": "code",
   "execution_count": null,
   "id": "ce84a345",
   "metadata": {},
   "outputs": [],
   "source": [
    "print('sig ROIs after multiple comp correction: ',[(roi,pairwise_roi_stats[roi].pvalue) for \n",
    "                                                   roi in pairwise_roi_stats.keys()\n",
    "                                                   if pairwise_roi_stats[roi].pvalue< bonferr_alpha])\n",
    "\n",
    "sig_bcpe = [(roi,pairwise_roi_stats[roi].pvalue) for roi in pairwise_roi_stats.keys()\n",
    "                                                   if pairwise_roi_stats[roi].pvalue< bonferr_alpha]\n",
    "\n",
    "sig_bcpe_rois = list(zip(*sig_bcpe))[0]"
   ]
  },
  {
   "cell_type": "code",
   "execution_count": null,
   "id": "d4687297",
   "metadata": {},
   "outputs": [],
   "source": [
    "sig_bcpe_rois"
   ]
  },
  {
   "cell_type": "code",
   "execution_count": null,
   "id": "4ce6196e",
   "metadata": {},
   "outputs": [],
   "source": [
    "len([(roi,roi_stats[roi].pvalue) for roi in roi_stats.keys()\n",
    "                                                   if roi_stats[roi].pvalue< bonferr_alpha])"
   ]
  },
  {
   "cell_type": "code",
   "execution_count": null,
   "id": "786ac923",
   "metadata": {},
   "outputs": [],
   "source": [
    "roi_stats.keys()"
   ]
  },
  {
   "cell_type": "code",
   "execution_count": null,
   "id": "8432eea7",
   "metadata": {},
   "outputs": [],
   "source": [
    "# roi_order = ['dlpfc','vlpfc','dmpfc','ofc','ains','pins','acc','hpc','amy','mtg','motor','thalamus']\n",
    "roi_order = ['dlpfc','vlpfc','ofc','ains','pins','acc','hpc','amy']"
   ]
  },
  {
   "cell_type": "code",
   "execution_count": null,
   "id": "6e9900b3",
   "metadata": {},
   "outputs": [],
   "source": [
    "roi_plot_data = bdi_plot_data.copy()\n",
    "roi_plot_data = roi_plot_data[roi_plot_data.roi.isin(roi_order)]\n",
    "\n",
    "# roi_plot_names = {'thalamus':'THAL','hpc':'HPC','amy':'AMY','acc':'ACC','ofc':'OFC','ains':'aINS',\n",
    "#                   'pins':'pINS','dmpfc':'dmPFC','dlpfc':'dlPFC','vlpfc':'vlPFC'}\n"
   ]
  },
  {
   "cell_type": "code",
   "execution_count": null,
   "id": "80dfb2c0",
   "metadata": {},
   "outputs": [],
   "source": [
    "bdi_plot_data.roi.unique()"
   ]
  },
  {
   "cell_type": "code",
   "execution_count": null,
   "id": "e5fd780b",
   "metadata": {},
   "outputs": [],
   "source": [
    "sns.set_context(\"poster\",rc={'axes.linewidth': 1.5})\n",
    "fig,ax = plt.subplots(figsize=(10, 4),dpi=500)\n",
    "\n",
    "fig_save_dir = f'{base_dir}ephys_analysis/figs/{band}_regressions/'\n",
    "os.makedirs(fig_save_dir,exist_ok=True)\n",
    "\n",
    "sns.barplot(data = bdi_plot_data,\n",
    "            x = 'roi',\n",
    "            y = 'elec_bCPE',\n",
    "#             y='raw_decisionCPE',\n",
    "#             color = '#561C46',\n",
    "#             color = '#00467e',\n",
    "#             color = '#346a97',\n",
    "            color = '#173b6f',\n",
    "            saturation=1,\n",
    "            order=roi_order,\n",
    "            errorbar=None) \n",
    "\n",
    "\n",
    "sns.stripplot(data = bdi_plot_data,\n",
    "            x = 'roi',\n",
    "            y = 'elec_bCPE',\n",
    "#               y='raw_decisionCPE',\n",
    "#               color='#78496b', \n",
    "              color = '#173b6f',\n",
    "              alpha=.4,\n",
    "              dodge=True,\n",
    "              order=roi_order,\n",
    "              size = 6)\n",
    "\n",
    "ax.axhline(y=0,color='#173b6f',linewidth=2)\n",
    "plt.tick_params(length=0 )#,grid_linewidth=1)\n",
    "\n",
    "# plt.ylim([-0.05,0.05])\n",
    "ax.set(xlabel=None)\n",
    "# plt.ylabel('CPE Encoding in Beta Power (z)')\n",
    "# plt.ylabel('beta(z) cpe encoding')\n",
    "# plt.ylabel(r'$beta_{{{zpow}}}$'+ ' cpe encoding')\n",
    "# plt.ylabel(r'$beta_{{{zpow}}}$'+ ' cpe encoding')\n",
    "plt.ylabel(fr'${band}_{{{zpow}}} \\sim cpe:bdi$')\n",
    "# plt.gca().yaxis.set_major_formatter(StrMethodFormatter('{x:,.3f}')) \n",
    "# plt.locator_params(axis='y', nbins=5,tight=True)\n",
    "\n",
    "\n",
    "sns.despine()\n",
    "    \n",
    "plt.savefig(f'{fig_save_dir}/Bpow_CPE:BDI_barplot_{date}.pdf', format='pdf', metadata=None,\n",
    "bbox_inches=None, pad_inches=0.1,dpi=500,\n",
    "facecolor='auto', edgecolor='auto',\n",
    "backend=None)\n"
   ]
  },
  {
   "cell_type": "code",
   "execution_count": null,
   "id": "c28acb87",
   "metadata": {},
   "outputs": [],
   "source": [
    "bdi_plot_data.roi.unique().tolist()"
   ]
  },
  {
   "cell_type": "code",
   "execution_count": null,
   "id": "e343460a",
   "metadata": {},
   "outputs": [],
   "source": [
    "bonferr_alpha"
   ]
  },
  {
   "cell_type": "code",
   "execution_count": null,
   "id": "bb308466",
   "metadata": {},
   "outputs": [],
   "source": [
    "rho_data = []\n",
    "sig_rho = []\n",
    "\n",
    "# bonferr_alpha = 0.05/len(roi_plot_data.roi.unique().tolist())\n",
    "# bonferr_alpha = 0.05/9\n",
    "bonferr_alpha = 0.01\n",
    "\n",
    "# BDI CORRELATIONS\n",
    "for roi in roi_plot_data.roi.unique().tolist()[:]:\n",
    "    roi_temp_data = roi_plot_data[roi_plot_data.roi==roi]\n",
    "    rho,rho_p     = spearmanr(roi_temp_data.bdi,roi_temp_data.elec_bCPE)\n",
    "#     rho,rho_p     = pearsonr(roi_temp_data.bdi,roi_temp_data.elec_bCPE)\n",
    "#     print(f'{roi} pearsonr',rho,rho_p)\n",
    "    rho_data.append(pd.DataFrame({'roi':roi,'rho':rho,'rho_p':rho_p},index=[0]))\n",
    "#     if rho_p <= bonferr_alpha:\n",
    "#         sig_bdi_rois.append(roi)\n",
    "#     if rho_p < bonferr_alpha:\n",
    "    if rho_p < 0.05:\n",
    "        sig_rho.append((roi,rho,rho_p))\n",
    "    print(f'{roi} pearsonr',rho,rho_p)\n",
    "rho_data = pd.concat(rho_data).reset_index(drop=True)\n"
   ]
  },
  {
   "cell_type": "code",
   "execution_count": null,
   "id": "074dac83",
   "metadata": {},
   "outputs": [],
   "source": [
    "rho_data"
   ]
  },
  {
   "cell_type": "code",
   "execution_count": null,
   "id": "7f111345",
   "metadata": {},
   "outputs": [],
   "source": [
    "sig_rho"
   ]
  },
  {
   "cell_type": "code",
   "execution_count": null,
   "id": "fb8b1439",
   "metadata": {},
   "outputs": [],
   "source": [
    "rho_data['round_rho'] = np.round(rho_data.rho,2)\n",
    "rho_data['round_p']   = np.round(rho_data.rho_p,3)\n",
    "# rho_data['round_p'][rho_data.roi == 'acc'] = 0.01\n",
    "# rho_data['round_p'][rho_data.roi == 'ofc'] = 0.01\n",
    "rho_data"
   ]
  },
  {
   "cell_type": "code",
   "execution_count": null,
   "id": "3073da36",
   "metadata": {
    "scrolled": false
   },
   "outputs": [],
   "source": [
    "\n",
    "sns.set_context(\"talk\",rc={'axes.linewidth': 1.5})\n",
    "\n",
    "for roi in roi_plot_data.roi.unique().tolist()[:-1]:\n",
    "    roi_temp_data = roi_plot_data[roi_plot_data.roi==roi]\n",
    "\n",
    "    rho   = rho_data[rho_data.roi == roi].round_rho.values[0]\n",
    "    rho_p = rho_data[rho_data.roi == roi].round_p.values[0]\n",
    "    \n",
    "        \n",
    "    fig,ax = plt.subplots(1,1,figsize=(5,3.5),dpi=300)\n",
    "\n",
    "    sns.regplot(data=roi_temp_data,x='bdi',y='raw_decisionCPE',scatter=False,ci=95,\n",
    "                fit_reg=True,color = '#173b6f') #034975\n",
    "    \n",
    "    sns.scatterplot(data = roi_temp_data.groupby(['subj_id']).agg('mean'),x='bdi',\n",
    "                    y='raw_decisionCPE',color = '#173b6f',edgecolor=None,alpha=0.8)\n",
    "    \n",
    "#     plt.gca().yaxis.set_major_formatter(StrMethodFormatter('{x:,.2f}')) \n",
    "    plt.xlabel('BDI-II')\n",
    "#     plt.xlim([0,40])\n",
    "    \n",
    "    plt.tick_params(length=0) \n",
    "#     plt.ylabel('beta'+r'$beta_{{{zpow}}}$'+' cpe encoding')\n",
    "    plt.ylabel(fr'${band}_{{{zpow}}} \\sim cpe:bdi$')\n",
    "\n",
    "    plt.text(np.max(roi_temp_data.bdi)-8,\n",
    "             np.round(np.max(roi_temp_data.groupby(['subj_id']).agg('mean').raw_decisionCPE),3)-0.003,\n",
    "             r'$rho$ = '+f'{rho} \\n'+ fr'$p \\approxeq $ {rho_p}',color='k',fontsize=12)\n",
    "#              color='#00467e',fontsize=16)\n",
    "#     plt.text(0.8,0.8,r'$rho$ = '+f'{rho} \\n'+ fr'$p \\approxeq $ {rho_p}',\n",
    "#             verticalalignment='top', horizontalalignment='right',\n",
    "#             color='k',fontsize=16)\n",
    "\n",
    "    plt.title(f'{roi}',fontsize=20)\n",
    "    plt.tight_layout()\n",
    "    \n",
    "\n",
    "\n",
    "    \n",
    "    sns.despine()\n",
    "    \n",
    "    plt.savefig(f'{fig_save_dir}/{roi}_{rho}_{rho_p}_roi_bdi_{band}-cpe:bdi-slope.pdf', format='pdf', metadata=None,\n",
    "        bbox_inches='tight', pad_inches=0.1,dpi=300,\n",
    "        facecolor='auto', edgecolor='auto',\n",
    "        backend=None)\n",
    "    "
   ]
  },
  {
   "cell_type": "code",
   "execution_count": null,
   "id": "1908c3fb",
   "metadata": {},
   "outputs": [],
   "source": [
    "reg_df"
   ]
  },
  {
   "cell_type": "code",
   "execution_count": null,
   "id": "0864d5ed",
   "metadata": {},
   "outputs": [],
   "source": [
    "reg_df['Depressed'] = ['High BDI' if bdi >=20 else 'Low BDI' for bdi in reg_df.bdi.tolist()]"
   ]
  },
  {
   "cell_type": "code",
   "execution_count": null,
   "id": "4e0f2e6e",
   "metadata": {},
   "outputs": [],
   "source": [
    "## X plot attempt \n",
    "\n",
    "sns.set_theme(style='ticks') \n",
    "sns.set_context(\"poster\")\n",
    "\n",
    "# from matplotlib import rc\n",
    "# rc('text', usetex=False)\n",
    "\n",
    "\n",
    "fig,ax = plt.subplots(figsize=(8,5))\n",
    "# sns.set_context(\"poster\",rc={'axes.linewidth': 2})\n",
    "# sns.set_theme(style='ticks') \n",
    "\n",
    "# palette={'depression':\"#3f2755\",'no depression':\"#054a6f\"}\n",
    "\n",
    "# palette={'high BDI':\"#0b4e5f\",'low BDI':\"#824973\"}\n",
    "\n",
    "\n",
    "# ax = sns.lmplot(data=reg_df,x='decisionCPE',y='band_pow',hue='Depression',scatter=False,ci=95,palette=palette)\n",
    "# sns.move_legend(ax, loc='lower center', bbox_to_anchor=(0.1, 1),bbox_to_anchor=(-1, 0), ncol=2)\n",
    "\n",
    "# sns.move_legend(ax,\"upper center\", bbox_to_anchor=(0.5, 1), borderaxespad=0.1,frameon=False,framealpha=0,\n",
    "#                 fontsize='x-small',shadow=None,title=None,columnspacing=0.5,edgecolor=None,markerfirst=True,\n",
    "#                 markerscale=4,labelcolor=None, ncol=2)\n",
    "\n",
    "\n",
    "sns.regplot(data=reg_df[reg_df.Depressed=='Low BDI'],x='decisionCPE',y='band_pow',scatter=True,\n",
    "           ci=95,color = '#824973',label='Low BDI',x_jitter = 0.15,scatter_kws={'s':5})\n",
    "sns.regplot(data=reg_df[reg_df.Depressed=='High BDI'],x='decisionCPE',y='band_pow',scatter=True,\n",
    "           ci=95,color='#0b4e5f',label='High BDI',x_jitter = 0.15,scatter_kws={'s':5})\n",
    "\n",
    "plt.legend(fontsize=10)\n",
    "# borderaxespad=0,frameon=False,framealpha=0,\n",
    "sns.move_legend(ax,\"upper center\", bbox_to_anchor=(0.5, 1.1), frameon=False,framealpha=0,\n",
    "                fontsize='small',shadow=None,\n",
    "                columnspacing=2,ncol=2)\n",
    "\n",
    "\n",
    "plt.gca().yaxis.set_major_formatter(StrMethodFormatter('{x:,.2f}')) \n",
    "plt.tight_layout()\n",
    "plt.ylabel(fr'${band}_{{{zpow}}}$')\n",
    "plt.xlabel(r'$cpe(z)$')\n",
    "sns.despine()\n",
    "plt.tick_params(length=0)\n",
    "# plt.text(7.25,0.07,f'rho: {np.round(r,3)} \\n p: {np.round(p_r,6)}',fontsize=16)\n",
    "\n",
    "\n",
    "# plt.savefig(f'{fig_save_dir}/all_lmplot_cpe_bpow_bdi_{date}.pdf', format='pdf', metadata=None,\n",
    "# bbox_inches='tight', pad_inches=0.1,dpi=500,\n",
    "# facecolor='auto', edgecolor='auto',\n",
    "# backend=None)"
   ]
  },
  {
   "cell_type": "code",
   "execution_count": null,
   "id": "e52b89ea",
   "metadata": {},
   "outputs": [],
   "source": [
    "reg_df['Depressed'] = ['High BDI' if bdi >=20 else 'Low BDI' for bdi in reg_df.bdi.tolist()]"
   ]
  },
  {
   "cell_type": "code",
   "execution_count": null,
   "id": "9b1cd8c3",
   "metadata": {},
   "outputs": [],
   "source": [
    "## X plot attempt \n",
    "\n",
    "sns.set_theme(style='ticks') \n",
    "sns.set_context(\"poster\")\n",
    "\n",
    "# from matplotlib import rc\n",
    "# rc('text', usetex=False)\n",
    "\n",
    "\n",
    "fig,ax = plt.subplots(figsize=(8,5))\n",
    "# sns.set_context(\"poster\",rc={'axes.linewidth': 2})\n",
    "# sns.set_theme(style='ticks') \n",
    "\n",
    "# palette={'depression':\"#3f2755\",'no depression':\"#054a6f\"}\n",
    "\n",
    "# palette={'high BDI':\"#0b4e5f\",'low BDI':\"#824973\"}\n",
    "\n",
    "\n",
    "# ax = sns.lmplot(data=reg_df,x='decisionCPE',y='band_pow',hue='Depression',scatter=False,ci=95,palette=palette)\n",
    "# sns.move_legend(ax, loc='lower center', bbox_to_anchor=(0.1, 1),bbox_to_anchor=(-1, 0), ncol=2)\n",
    "\n",
    "# sns.move_legend(ax,\"upper center\", bbox_to_anchor=(0.5, 1), borderaxespad=0.1,frameon=False,framealpha=0,\n",
    "#                 fontsize='x-small',shadow=None,title=None,columnspacing=0.5,edgecolor=None,markerfirst=True,\n",
    "#                 markerscale=4,labelcolor=None, ncol=2)\n",
    "\n",
    "\n",
    "sns.regplot(data=reg_df[reg_df.Depressed=='Low BDI'],x='decisionCPE',y='band_pow',scatter=False,\n",
    "           ci=95,color = '#824973',label='Low BDI')\n",
    "sns.regplot(data=reg_df[reg_df.Depressed=='High BDI'],x='decisionCPE',y='band_pow',scatter=False,\n",
    "           ci=95,color='#0b4e5f',label='High BDI')\n",
    "\n",
    "plt.legend(fontsize=10)\n",
    "# borderaxespad=0,frameon=False,framealpha=0,\n",
    "sns.move_legend(ax,\"upper center\", bbox_to_anchor=(0.5, 1.1), frameon=False,framealpha=0,\n",
    "                fontsize='small',shadow=None,\n",
    "                columnspacing=2,ncol=2)\n",
    "\n",
    "\n",
    "plt.gca().yaxis.set_major_formatter(StrMethodFormatter('{x:,.2f}')) \n",
    "plt.tight_layout()\n",
    "plt.ylabel(fr'${band}_{{{zpow}}}$')\n",
    "plt.xlabel(r'$cpe(z)$')\n",
    "sns.despine()\n",
    "plt.tick_params(length=0)\n",
    "# plt.text(7.25,0.07,f'rho: {np.round(r,3)} \\n p: {np.round(p_r,6)}',fontsize=16)\n",
    "\n",
    "\n",
    "# plt.savefig(f'{fig_save_dir}/all_lmplot_cpe_bpow_bdi_{date}.pdf', format='pdf', metadata=None,\n",
    "# bbox_inches='tight', pad_inches=0.1,dpi=500,\n",
    "# facecolor='auto', edgecolor='auto',\n",
    "# backend=None)"
   ]
  },
  {
   "cell_type": "code",
   "execution_count": null,
   "id": "38eb7dc5",
   "metadata": {
    "scrolled": true
   },
   "outputs": [],
   "source": [
    "for roi in reg_df.roi.unique().tolist():\n",
    "    roi_reg_plot = reg_df[reg_df.roi== roi]\n",
    "    fig,ax = plt.subplots(figsize=(8,5))\n",
    "\n",
    "    sns.regplot(data=roi_reg_plot[roi_reg_plot.Depressed=='Low BDI'],x='decisionCPE',y='band_pow',scatter=False,\n",
    "               ci=95,color = '#824973',label='Low BDI')#,scatter_kws={'s':2})\n",
    "    sns.regplot(data=roi_reg_plot[roi_reg_plot.Depressed=='High BDI'],x='decisionCPE',y='band_pow',scatter=False,\n",
    "               ci=95,color='#0b4e5f',label='High BDI')#,scatter_kws={'s':2})\n",
    "\n",
    "    plt.legend(fontsize=10)\n",
    "    # borderaxespad=0,frameon=False,framealpha=0,\n",
    "    sns.move_legend(ax,\"upper center\", bbox_to_anchor=(0.5, 1.1), frameon=False,framealpha=0,\n",
    "                    fontsize='small',shadow=None,\n",
    "                    columnspacing=2,ncol=2)\n",
    "\n",
    "\n",
    "    plt.gca().yaxis.set_major_formatter(StrMethodFormatter('{x:,.2f}')) \n",
    "    plt.tight_layout()\n",
    "    plt.ylabel(fr'${band}_{{{zpow}}}$')\n",
    "    plt.xlabel(r'$cpe(z)$')\n",
    "    plt.title(f'{roi}')\n",
    "    sns.despine()\n",
    "    plt.tick_params(length=0)\n",
    "    \n",
    "    "
   ]
  },
  {
   "cell_type": "code",
   "execution_count": null,
   "id": "718b4a51",
   "metadata": {
    "scrolled": true
   },
   "outputs": [],
   "source": [
    "for roi in reg_df.roi.unique().tolist():\n",
    "    roi_reg_plot = reg_df[reg_df.roi== roi]\n",
    "    fig,ax = plt.subplots(figsize=(8,5))\n",
    "\n",
    "    sns.regplot(data=roi_reg_plot[roi_reg_plot.Depressed=='Low BDI'],x='decisionCPE',y='band_pow',scatter=True,\n",
    "               ci=95,color = '#824973',label='Low BDI',x_jitter = 0.15,scatter_kws={'s':5})\n",
    "    sns.regplot(data=roi_reg_plot[roi_reg_plot.Depressed=='High BDI'],x='decisionCPE',y='band_pow',scatter=True,\n",
    "               ci=95,color='#0b4e5f',label='High BDI',x_jitter = 0.15,scatter_kws={'s':5})\n",
    "\n",
    "    plt.legend(fontsize=10)\n",
    "    # borderaxespad=0,frameon=False,framealpha=0,\n",
    "    sns.move_legend(ax,\"upper center\", bbox_to_anchor=(0.5, 1.1), frameon=False,framealpha=0,\n",
    "                    fontsize='small',shadow=None,\n",
    "                    columnspacing=2,ncol=2)\n",
    "\n",
    "\n",
    "    plt.gca().yaxis.set_major_formatter(StrMethodFormatter('{x:,.2f}')) \n",
    "    plt.tight_layout()\n",
    "    plt.ylabel(fr'${band}_{{{zpow}}}$')\n",
    "    plt.xlabel(r'$cpe(z)$')\n",
    "    plt.title(f'{roi}')\n",
    "    sns.despine()\n",
    "    plt.tick_params(length=0)\n",
    "    \n",
    "    "
   ]
  },
  {
   "cell_type": "code",
   "execution_count": null,
   "id": "d1b32dcf",
   "metadata": {
    "scrolled": false
   },
   "outputs": [],
   "source": [
    "# for roi in reg_df.roi.unique().tolist():\n",
    "#     roi_reg_plot = reg_df[reg_df.roi== roi]\n",
    "#     fig,ax = plt.subplots(figsize=(8,5),dpi=500)\n",
    "\n",
    "#     sns.regplot(data=roi_reg_plot[roi_reg_plot.Depressed=='Low BDI'],x='decisionCPE',y='band_pow',scatter=True,\n",
    "#                ci=95,color = '#824973',label='Low BDI',x_jitter = 0.15)#,scatter_kws={'s':2})\n",
    "#     sns.regplot(data=roi_reg_plot[roi_reg_plot.Depressed=='High BDI'],x='decisionCPE',y='band_pow',scatter=True,\n",
    "#                ci=95,color='#0b4e5f',label='High BDI',x_jitter = 0.15)#,scatter_kws={'s':2})\n",
    "\n",
    "#     plt.legend(fontsize=10)\n",
    "#     # borderaxespad=0,frameon=False,framealpha=0,\n",
    "#     sns.move_legend(ax,\"upper center\", bbox_to_anchor=(0.5, 1.1), frameon=False,framealpha=0,\n",
    "#                     fontsize='small',shadow=None,\n",
    "#                     columnspacing=2,ncol=2)\n",
    "\n",
    "\n",
    "#     plt.gca().yaxis.set_major_formatter(StrMethodFormatter('{x:,.2f}')) \n",
    "\n",
    "#     plt.ylabel(r'$beta_{{{zpow}}}$')\n",
    "#     plt.xlabel(r'$cpe(z)$')\n",
    "#     plt.title(f'{roi}')\n",
    "#     sns.despine()\n",
    "#     plt.tick_params(length=0)\n",
    "    \n",
    "    "
   ]
  },
  {
   "cell_type": "code",
   "execution_count": null,
   "id": "d22c2696",
   "metadata": {},
   "outputs": [],
   "source": [
    "fig,ax = plt.subplots(figsize=(8,5),dpi=500)\n",
    "# sns.set_context(\"poster\",rc={'axes.linewidth': 2})\n",
    "# sns.set_theme(style='ticks') \n",
    "\n",
    "# palette={'depression':\"#3f2755\",'no depression':\"#054a6f\"}\n",
    "\n",
    "# palette={'high BDI':\"#0b4e5f\",'low BDI':\"#824973\"}\n",
    "\n",
    "\n",
    "# ax = sns.lmplot(data=reg_df,x='decisionCPE',y='band_pow',hue='Depression',scatter=False,ci=95,palette=palette)\n",
    "# sns.move_legend(ax, loc='lower center', bbox_to_anchor=(0.1, 1),bbox_to_anchor=(-1, 0), ncol=2)\n",
    "\n",
    "# sns.move_legend(ax,\"upper center\", bbox_to_anchor=(0.5, 1), borderaxespad=0.1,frameon=False,framealpha=0,\n",
    "#                 fontsize='x-small',shadow=None,title=None,columnspacing=0.5,edgecolor=None,markerfirst=True,\n",
    "#                 markerscale=4,labelcolor=None, ncol=2)\n",
    "\n",
    "\n",
    "sns.regplot(data=reg_df[reg_df.Depressed=='Low BDI'],x='decisionCPE',y='band_pow',scatter=True,\n",
    "           ci=95,color = '#824973',label='Low BDI',x_jitter = 0.15,scatter_kws={'s':2})\n",
    "sns.regplot(data=reg_df[reg_df.Depressed=='High BDI'],x='decisionCPE',y='band_pow',scatter=True,\n",
    "           ci=95,color='#0b4e5f',label='High BDI',x_jitter = 0.15,scatter_kws={'s':2})\n",
    "\n",
    "plt.legend(fontsize=10)\n",
    "# borderaxespad=0,frameon=False,framealpha=0,\n",
    "sns.move_legend(ax,\"upper center\", bbox_to_anchor=(0.5, 1.1), frameon=False,framealpha=0,\n",
    "                fontsize='small',shadow=None,\n",
    "                columnspacing=2,ncol=2)\n",
    "\n",
    "\n",
    "plt.gca().yaxis.set_major_formatter(StrMethodFormatter('{x:,.2f}')) \n",
    "\n",
    "plt.ylabel(fr'${band}_{{{zpow}}}$')\n",
    "plt.xlabel(r'$cpe(z)$')\n",
    "sns.despine()\n",
    "plt.tick_params(length=0)\n",
    "# plt.text(7.25,0.07,f'rho: {np.round(r,3)} \\n p: {np.round(p_r,6)}',fontsize=16)\n",
    "\n"
   ]
  },
  {
   "cell_type": "code",
   "execution_count": null,
   "id": "0ba79036",
   "metadata": {},
   "outputs": [],
   "source": []
  },
  {
   "cell_type": "code",
   "execution_count": null,
   "id": "c4864820",
   "metadata": {},
   "outputs": [],
   "source": []
  },
  {
   "cell_type": "code",
   "execution_count": null,
   "id": "0f3fbbc0",
   "metadata": {},
   "outputs": [],
   "source": [
    "palette=dict(Low=\"#3f2755\", High=\"#054a6f\")\n",
    "# sns.move_legend(ax, \"lower center\", bbox_to_anchor=(.5, 1), ncol=3, title=None, frameon=False)\n"
   ]
  },
  {
   "cell_type": "code",
   "execution_count": null,
   "id": "49c8123e",
   "metadata": {},
   "outputs": [],
   "source": [
    "from scipy import stats\n",
    "# slope, intercept, r_value, p_value, std_err = stats.linregress(df.x,df.y)"
   ]
  },
  {
   "cell_type": "code",
   "execution_count": null,
   "id": "eb334420",
   "metadata": {},
   "outputs": [],
   "source": [
    "reg_df['Depression'] = ['High BDI' if bdi >=20 else 'Low BDI' for bdi in reg_df.bdi.tolist()]"
   ]
  },
  {
   "cell_type": "code",
   "execution_count": null,
   "id": "f4257b26",
   "metadata": {},
   "outputs": [],
   "source": [
    "# edgecolor=None,markerfirst=True,title=None,#title_fontsize='x-small',\n",
    "#                 markerscale=0.2,labelcolor=None"
   ]
  },
  {
   "cell_type": "code",
   "execution_count": null,
   "id": "a50002cc",
   "metadata": {},
   "outputs": [],
   "source": [
    "roi_order = ['dlpfc','vlpfc','ofc','ains','pins','acc','hpc','amy']"
   ]
  },
  {
   "cell_type": "code",
   "execution_count": null,
   "id": "e1f5bbab",
   "metadata": {},
   "outputs": [],
   "source": [
    "lmplot"
   ]
  },
  {
   "cell_type": "code",
   "execution_count": null,
   "id": "d83ccb07",
   "metadata": {},
   "outputs": [],
   "source": [
    "reg_df"
   ]
  },
  {
   "cell_type": "code",
   "execution_count": null,
   "id": "ed965db8",
   "metadata": {},
   "outputs": [],
   "source": [
    "lmplot = reg_df.copy()\n",
    "lmplot = lmplot.groupby('unique_reref_ch').agg('mean').reset_index()\n",
    "\n",
    "# beta_lmplot['Depressed'] = ['Low BDI' if bdi =< 20 else 'High BDI' for bdi in beta_lmplot.bdi]\n",
    "\n",
    "\n",
    "# beta_lmplot['raw_rt_coeff']  = [roi_bdi_plot_data[roi_bdi_plot_data.unique_reref_ch == elec][\n",
    "#     'raw_decisionCPE:band_pow'].values[0] for elec in beta_lmplot.unique_reref_ch]\n",
    "\n",
    "# beta_lmplot['elec_bCPE']  = [roi_bdi_plot_data[roi_bdi_plot_data.unique_reref_ch == elec][\n",
    "#     'elec_bCPE'].values[0] for elec in beta_lmplot.unique_reref_ch]\n",
    "\n",
    "lmplot['roi']  = [reg_df[reg_df.unique_reref_ch == elec][\n",
    "    'roi'].values[0] for elec in reg_df.unique_reref_ch]\n",
    "\n",
    "lmplot = lmplot[lmplot.roi.isin(roi_order)]\n",
    "\n",
    "lmplot"
   ]
  },
  {
   "cell_type": "code",
   "execution_count": null,
   "id": "ce3da504",
   "metadata": {},
   "outputs": [],
   "source": [
    "roi_not_ains = ['notIns' if roi != 'ains' else 'ains' for roi in reg_df.roi.tolist()]\n",
    "roi_not_ains"
   ]
  },
  {
   "cell_type": "code",
   "execution_count": null,
   "id": "33a97c4b",
   "metadata": {},
   "outputs": [],
   "source": [
    "reg_df['roi_not_ains'] = roi_not_ains"
   ]
  },
  {
   "cell_type": "code",
   "execution_count": null,
   "id": "76e6a7a7",
   "metadata": {},
   "outputs": [],
   "source": [
    "final_vars = ['C(GambleChoice)', 'TotalProfit', 'decisionCPE']\n"
   ]
  },
  {
   "cell_type": "code",
   "execution_count": null,
   "id": "c1ebde85",
   "metadata": {},
   "outputs": [],
   "source": [
    "\n",
    "final_fit = fit_mixed_model(reg_df,final_vars,outcome_var,rand_eff_var,reml=False)\n",
    "print(final_fit.summary())\n",
    "    "
   ]
  },
  {
   "cell_type": "code",
   "execution_count": null,
   "id": "0514d810",
   "metadata": {
    "scrolled": true
   },
   "outputs": [],
   "source": [
    "final_fit.pvalues['decisionCPE']"
   ]
  },
  {
   "cell_type": "code",
   "execution_count": null,
   "id": "8492928e",
   "metadata": {},
   "outputs": [],
   "source": [
    "mixed_effects_ftest_ttest(final_fit)"
   ]
  },
  {
   "cell_type": "code",
   "execution_count": null,
   "id": "c807ae1e",
   "metadata": {},
   "outputs": [],
   "source": [
    "fe_param_names = list(final_fit.fe_params.index[1:])\n",
    "fe_param_names"
   ]
  },
  {
   "cell_type": "code",
   "execution_count": null,
   "id": "e455378a",
   "metadata": {},
   "outputs": [],
   "source": [
    "plot_data = pd.concat([pd.DataFrame(\n",
    "    {**{'subj_id':elec_id.split('_')[0],'reref_ch_names':elec_id.split('_')[1]},'unique_reref_ch':elec_id,\n",
    "     **{f'raw_{param}':final_fit.random_effects[elec_id][param] for param in list(\n",
    "            final_fit.random_effects[elec_id].index)}},index=[range(len(fe_param_names))])\n",
    "        \n",
    "    for elec_id in final_fit.random_effects.keys()]).reset_index(drop=True)\n",
    "\n",
    "plot_data['roi'] = [reg_df.roi[reg_df.unique_reref_ch == row.unique_reref_ch].values[0]\n",
    "                                for idx,row in plot_data.iterrows()]\n",
    "\n",
    "plot_data['bdi'] = [subj_info_df.bdi[subj_info_df.subj_id == subj_id].values[0]\n",
    "                                for subj_id in plot_data.subj_id]"
   ]
  },
  {
   "cell_type": "code",
   "execution_count": null,
   "id": "3f839a88",
   "metadata": {},
   "outputs": [],
   "source": [
    "plot_data"
   ]
  },
  {
   "cell_type": "code",
   "execution_count": null,
   "id": "e9ebf197",
   "metadata": {},
   "outputs": [],
   "source": [
    "#### Get all results for Figs!!!!\n",
    "\n",
    "fe_intercept   = final_fit.params['Intercept']\n",
    "fe_cpe_beta    = final_fit.params['decisionCPE']\n",
    "fe_cpe_beta\n"
   ]
  },
  {
   "cell_type": "code",
   "execution_count": null,
   "id": "b2cf1d9f",
   "metadata": {},
   "outputs": [],
   "source": [
    "#### add fixed effects data to all_elec_plot_data\n",
    "plot_data['elec_b0']   = np.add(plot_data.raw_Group,fe_intercept)\n",
    "plot_data['elec_bCPE'] = np.add(plot_data.raw_decisionCPE,fe_cpe_beta)\n",
    "plot_data = plot_data[~plot_data.roi.isnull()]"
   ]
  },
  {
   "cell_type": "code",
   "execution_count": null,
   "id": "49d4f1e5",
   "metadata": {},
   "outputs": [],
   "source": [
    "plot_data"
   ]
  },
  {
   "cell_type": "code",
   "execution_count": null,
   "id": "1ce350fb",
   "metadata": {},
   "outputs": [],
   "source": [
    "raw_roi_stats = {f'{roi}':ttest_1samp(plot_data.raw_decisionCPE[plot_data.roi == roi].unique(),\n",
    "                 popmean=0) for roi in plot_data.roi.unique().tolist()}\n",
    "raw_roi_stats"
   ]
  },
  {
   "cell_type": "code",
   "execution_count": null,
   "id": "5c29f33c",
   "metadata": {},
   "outputs": [],
   "source": [
    "roi_stats = {f'{roi}':ttest_1samp(plot_data.elec_bCPE[plot_data.roi == roi].unique(),\n",
    "                 popmean=0) for roi in plot_data.roi.unique().tolist()}\n",
    "roi_stats"
   ]
  },
  {
   "cell_type": "code",
   "execution_count": null,
   "id": "dc23124a",
   "metadata": {},
   "outputs": [],
   "source": [
    "bonferr_alpha = 0.05/(len(plot_data.roi.unique().tolist()))\n",
    "bonferr_alpha"
   ]
  },
  {
   "cell_type": "code",
   "execution_count": null,
   "id": "28548e98",
   "metadata": {},
   "outputs": [],
   "source": [
    "print('sig ROIs after multiple comp correction: ',[(roi,raw_roi_stats[roi].pvalue) for roi in raw_roi_stats.keys()\n",
    "                                                   if raw_roi_stats[roi].pvalue< bonferr_alpha])\n",
    "# print('sig ROI pvals: ',roi_stats.roi_cpe_pval[roi_beta_results.roi_cpe_pval<=bonferr_alpha].unique().tolist())\n"
   ]
  },
  {
   "cell_type": "code",
   "execution_count": null,
   "id": "e750ec62",
   "metadata": {},
   "outputs": [],
   "source": [
    "print('sig ROIs after multiple comp correction: ',[(roi,roi_stats[roi].pvalue) for roi in roi_stats.keys()\n",
    "                                                   if roi_stats[roi].pvalue< bonferr_alpha])\n",
    "# print('sig ROI pvals: ',roi_stats.roi_cpe_pval[roi_beta_results.roi_cpe_pval<=bonferr_alpha].unique().tolist())\n",
    "\n",
    "\n"
   ]
  },
  {
   "cell_type": "code",
   "execution_count": null,
   "id": "c60f8481",
   "metadata": {},
   "outputs": [],
   "source": [
    "roi_stats.keys()"
   ]
  },
  {
   "cell_type": "code",
   "execution_count": null,
   "id": "30b16acd",
   "metadata": {},
   "outputs": [],
   "source": [
    "# roi_order = ['dlpfc','vlpfc','dmpfc','ofc','ains','pins','acc','hpc','amy','mtg','motor','thalamus']\n",
    "roi_order = ['dlpfc','vlpfc','dmpfc','ofc','ains','pins','acc','hpc','amy','mtg']"
   ]
  },
  {
   "cell_type": "code",
   "execution_count": null,
   "id": "b8d968cc",
   "metadata": {},
   "outputs": [],
   "source": [
    "roi_plot_data = plot_data.copy()\n",
    "roi_plot_data = roi_plot_data[roi_plot_data.roi.isin(roi_order)]\n",
    "\n",
    "# roi_plot_names = {'thalamus':'THAL','hpc':'HPC','amy':'AMY','acc':'ACC','ofc':'OFC','ains':'aINS',\n",
    "#                   'pins':'pINS','dmpfc':'dmPFC','dlpfc':'dlPFC','vlpfc':'vlPFC'}\n"
   ]
  },
  {
   "cell_type": "code",
   "execution_count": null,
   "id": "36ab9389",
   "metadata": {
    "scrolled": false
   },
   "outputs": [],
   "source": [
    "# roi_plot_data"
   ]
  },
  {
   "cell_type": "code",
   "execution_count": null,
   "id": "036d54f7",
   "metadata": {},
   "outputs": [],
   "source": [
    "sns.set_context(\"poster\",rc={'axes.linewidth': 1.5})\n",
    "fig,ax = plt.subplots(figsize=(15, 6),dpi=500)\n",
    "\n",
    "fig_save_dir = f'{base_dir}ephys_analysis/figs/{band}_regressions/'\n",
    "os.makedirs(fig_save_dir,exist_ok=True)\n",
    "\n",
    "sns.barplot(data = roi_plot_data,\n",
    "            x = 'roi',\n",
    "#             y = 'elec_bCPE',\n",
    "            y='raw_decisionCPE',\n",
    "#             color = '#561C46',\n",
    "#             color = '#00467e',\n",
    "#             color = '#346a97',\n",
    "            color = '#346a97',\n",
    "            saturation=1,\n",
    "            order=roi_order,\n",
    "            errorbar=None) \n",
    "\n",
    "\n",
    "sns.stripplot(data = roi_plot_data,\n",
    "            x = 'roi',\n",
    "#             y = 'elec_bCPE',\n",
    "              y='raw_decisionCPE',\n",
    "#               color='#78496b', \n",
    "              color = '#00467e',\n",
    "              alpha=.4,\n",
    "              dodge=True,\n",
    "              order=roi_order,\n",
    "              size = 8)\n",
    "\n",
    "ax.axhline(y=0,color='#00467e',linewidth=1.5)\n",
    "plt.tick_params(length=0 )#,grid_linewidth=1)\n",
    "\n",
    "# plt.ylim([-0.05,0.05])\n",
    "ax.set(xlabel=None)\n",
    "# plt.ylabel('CPE Encoding in Beta Power (z)')\n",
    "# plt.ylabel('beta(z) cpe encoding')\n",
    "plt.ylabel(fr'${band}_{{{zpow}}}$'+ ' cpe encoding')\n",
    "# plt.gca().yaxis.set_major_formatter(StrMethodFormatter('{x:,.3f}')) \n",
    "# plt.locator_params(axis='y', nbins=5,tight=True)\n",
    "\n",
    "\n",
    "sns.despine()\n",
    "    \n",
    "plt.savefig(f'{fig_save_dir}/Bpow_CPE_barplot_{date}.pdf', format='pdf', metadata=None,\n",
    "bbox_inches=None, pad_inches=0.1,dpi=500,\n",
    "facecolor='auto', edgecolor='auto',\n",
    "backend=None)\n"
   ]
  },
  {
   "cell_type": "code",
   "execution_count": null,
   "id": "6d426e85",
   "metadata": {},
   "outputs": [],
   "source": [
    "rho_data = []\n",
    "sig_rho = []\n",
    "\n",
    "# BDI CORRELATIONS\n",
    "for roi in plot_data.roi.unique().tolist()[:-1]:\n",
    "    roi_temp_data = plot_data[plot_data.roi==roi]\n",
    "    rho,rho_p     = pearsonr(roi_temp_data.bdi,roi_temp_data.raw_decisionCPE)\n",
    "#     rho,rho_p     = pearsonr(roi_temp_data.bdi,roi_temp_data.elec_bCPE)\n",
    "#     print(f'{roi} pearsonr',rho,rho_p)\n",
    "    rho_data.append(pd.DataFrame({'roi':roi,'rho':rho,'rho_p':rho_p},index=[0]))\n",
    "#     if rho_p <= bonferr_alpha:\n",
    "#         sig_bdi_rois.append(roi)\n",
    "    if rho_p < bonferr_alpha: \n",
    "        sig_rho.append((roi,rho,rho_p))\n",
    "    print(f'{roi} pearsonr',rho,rho_p)\n",
    "rho_data = pd.concat(rho_data).reset_index(drop=True)\n"
   ]
  },
  {
   "cell_type": "code",
   "execution_count": null,
   "id": "a961a06c",
   "metadata": {},
   "outputs": [],
   "source": [
    "sig_rho"
   ]
  },
  {
   "cell_type": "code",
   "execution_count": null,
   "id": "e57580e7",
   "metadata": {},
   "outputs": [],
   "source": [
    "rho_data['plot_p'] = [0.001 if roi.rho_p < 0.001 else np.round(roi.rho_p,4) for ix,roi in rho_data.iterrows()]"
   ]
  },
  {
   "cell_type": "code",
   "execution_count": null,
   "id": "66c97818",
   "metadata": {
    "scrolled": true
   },
   "outputs": [],
   "source": [
    "new_plot_ps = []\n",
    "for p in rho_data['plot_p']:\n",
    "    new_p = 0\n",
    "    \n",
    "    for ix,val in enumerate(str(p)):\n",
    "        if val == '0':\n",
    "            continue\n",
    "        elif val == '.':\n",
    "            continue\n",
    "        else: \n",
    "#             print(ix,val)\n",
    "            new_p = str(p)[:ix+1]\n",
    "            break\n",
    "            \n",
    "            \n",
    "\n",
    "    new_plot_ps.append(float(new_p))\n",
    "#         print(val)"
   ]
  },
  {
   "cell_type": "code",
   "execution_count": null,
   "id": "3912a60f",
   "metadata": {},
   "outputs": [],
   "source": [
    "rho_data['round_p']   = new_plot_ps\n",
    "rho_data['round_rho'] = np.round(rho_data.rho,2)\n",
    "rho_data"
   ]
  },
  {
   "cell_type": "code",
   "execution_count": null,
   "id": "e93fa32a",
   "metadata": {},
   "outputs": [],
   "source": []
  },
  {
   "cell_type": "code",
   "execution_count": null,
   "id": "e8712d81",
   "metadata": {
    "scrolled": false
   },
   "outputs": [],
   "source": [
    "\n",
    "sns.set_context(\"poster\",rc={'axes.linewidth': 1.5})\n",
    "\n",
    "for roi in plot_data.roi.unique().tolist()[:-1]:\n",
    "    roi_temp_data = plot_data[plot_data.roi==roi]\n",
    "\n",
    "    rho   = rho_data[rho_data.roi == roi].round_rho.values[0]\n",
    "    rho_p = rho_data[rho_data.roi == roi].round_p.values[0]\n",
    "    \n",
    "        \n",
    "    fig = plt.figure(figsize=(7,5),dpi=300)\n",
    "\n",
    "    sns.regplot(data=roi_temp_data,x='bdi',y='raw_decisionCPE',scatter=False,ci=95,\n",
    "                fit_reg=True,color = '#00467e') #034975\n",
    "    \n",
    "    sns.scatterplot(data = roi_temp_data.groupby(['subj_id']).agg('mean'),x='bdi',\n",
    "                    y='raw_decisionCPE',color = '#00467e',edgecolor=None,alpha=0.8)\n",
    "    \n",
    "#     plt.gca().yaxis.set_major_formatter(StrMethodFormatter('{x:,.2f}')) \n",
    "    plt.xlabel('BDI-II')\n",
    "    \n",
    "    plt.tick_params(length=0) \n",
    "    plt.ylabel(band+r'$_{{{zpow}}}$'+' cpe encoding')\n",
    "\n",
    "    plt.text(np.max(roi_temp_data.bdi)-8,\n",
    "             np.round(np.max(roi_temp_data.groupby(['subj_id']).agg('mean').raw_decisionCPE),3)-0.003,\n",
    "             r'$rho$ = '+f'{rho} '+'\\n '+r'$p < $'+f'{rho_p}',\n",
    "             color='#00467e',fontsize=16)\n",
    "\n",
    "    plt.title(f'{roi}',fontsize=24)\n",
    "\n",
    "\n",
    "    \n",
    "    sns.despine()\n",
    "    \n",
    "    plt.savefig(f'{fig_save_dir}/{roi}_{rho}_{rho_p}_roi_bdi_{band}-cpe-slope.pdf', format='pdf', metadata=None,\n",
    "        bbox_inches='tight', pad_inches=0.1,dpi=300,\n",
    "        facecolor='auto', edgecolor='auto',\n",
    "        backend=None)\n",
    "    "
   ]
  },
  {
   "cell_type": "code",
   "execution_count": null,
   "id": "31231b35",
   "metadata": {},
   "outputs": [],
   "source": []
  },
  {
   "cell_type": "markdown",
   "id": "548a813f",
   "metadata": {},
   "source": [
    "# BDI Interaction\n",
    "- Rerun final mixed effects model on each ROI separately\n",
    "- Correlate random effects slopes for each regressor with BDI"
   ]
  },
  {
   "cell_type": "code",
   "execution_count": null,
   "id": "45125515",
   "metadata": {},
   "outputs": [],
   "source": [
    "rand_eff_var = 'unique_reref_ch'\n"
   ]
  },
  {
   "cell_type": "code",
   "execution_count": null,
   "id": "fc3f279e",
   "metadata": {
    "scrolled": false
   },
   "outputs": [],
   "source": [
    "reg_df"
   ]
  },
  {
   "cell_type": "code",
   "execution_count": null,
   "id": "403b63d6",
   "metadata": {},
   "outputs": [],
   "source": [
    "bdi_vars    = ['decisionCPE','bdi','decisionCPE:bdi']\n",
    "outcome_var = 'band_pow'\n",
    "\n",
    "bdi_fit = fit_mixed_model(reg_df,bdi_vars,outcome_var,rand_eff_var,reml=False)\n",
    "print(bdi_fit.summary())\n",
    "    "
   ]
  },
  {
   "cell_type": "code",
   "execution_count": null,
   "id": "0be82922",
   "metadata": {},
   "outputs": [],
   "source": []
  },
  {
   "cell_type": "code",
   "execution_count": null,
   "id": "5c3ea595",
   "metadata": {},
   "outputs": [],
   "source": [
    "fe_param_names = list(bdi_fit.fe_params.index[1:])\n",
    "fe_param_names"
   ]
  },
  {
   "cell_type": "code",
   "execution_count": null,
   "id": "b9809e28",
   "metadata": {},
   "outputs": [],
   "source": [
    "bdi_plot_data = pd.concat([pd.DataFrame(\n",
    "    {**{'subj_id':elec_id.split('_')[0],'reref_ch_names':elec_id.split('_')[1]},'unique_reref_ch':elec_id,\n",
    "     **{f'raw_{param}':bdi_fit.random_effects[elec_id][param] for param in list(\n",
    "            bdi_fit.random_effects[elec_id].index)}},index=[range(len(fe_param_names))])\n",
    "        \n",
    "    for elec_id in bdi_fit.random_effects.keys()]).reset_index(drop=True)\n",
    "\n",
    "bdi_plot_data['roi'] = [reg_df.roi[reg_df.unique_reref_ch == row.unique_reref_ch].values[0]\n",
    "                                for idx,row in bdi_plot_data.iterrows()]\n",
    "\n",
    "bdi_plot_data['bdi'] = [subj_info_df.bdi[subj_info_df.subj_id == subj_id].values[0]\n",
    "                                for subj_id in bdi_plot_data.subj_id]"
   ]
  },
  {
   "cell_type": "code",
   "execution_count": null,
   "id": "6f4ae250",
   "metadata": {},
   "outputs": [],
   "source": [
    "bdi_plot_data"
   ]
  },
  {
   "cell_type": "code",
   "execution_count": null,
   "id": "a02df551",
   "metadata": {},
   "outputs": [],
   "source": [
    "#### Get all results for Figs!!!!\n",
    "\n",
    "fe_intercept   = bdi_fit.params['Intercept']\n",
    "fe_cpe_beta    = bdi_fit.params['decisionCPE:bdi']\n",
    "fe_cpe_beta\n"
   ]
  },
  {
   "cell_type": "code",
   "execution_count": null,
   "id": "0bdada99",
   "metadata": {},
   "outputs": [],
   "source": [
    "#### add fixed effects data to all_elec_plot_data\n",
    "bdi_plot_data['elec_b0']   = np.add(bdi_plot_data.raw_Group,fe_intercept)\n",
    "bdi_plot_data['elec_bCPE'] = np.add(bdi_plot_data['raw_decisionCPE:bdi'],fe_cpe_beta)\n",
    "bdi_plot_data = bdi_plot_data[~bdi_plot_data.roi.isnull()]"
   ]
  },
  {
   "cell_type": "code",
   "execution_count": null,
   "id": "523a0be6",
   "metadata": {},
   "outputs": [],
   "source": [
    "bdi_plot_data"
   ]
  },
  {
   "cell_type": "code",
   "execution_count": null,
   "id": "6e5966db",
   "metadata": {},
   "outputs": [],
   "source": [
    "# raw_bdi\n",
    "\n",
    "raw_roi_stats = {f'{roi}':ttest_1samp(bdi_plot_data['raw_bdi'][bdi_plot_data.roi == roi].unique(),\n",
    "                 popmean=0) for roi in bdi_plot_data.roi.unique().tolist()}\n",
    "raw_roi_stats"
   ]
  },
  {
   "cell_type": "code",
   "execution_count": null,
   "id": "4da8352e",
   "metadata": {},
   "outputs": [],
   "source": [
    "raw_roi_stats = {f'{roi}':ttest_1samp(bdi_plot_data['raw_decisionCPE:bdi'][bdi_plot_data.roi == roi].unique(),\n",
    "                 popmean=0) for roi in bdi_plot_data.roi.unique().tolist()}\n",
    "raw_roi_stats"
   ]
  },
  {
   "cell_type": "code",
   "execution_count": null,
   "id": "7bb53c9e",
   "metadata": {},
   "outputs": [],
   "source": [
    "roi_stats = {f'{roi}':ttest_1samp(bdi_plot_data.elec_bCPE[bdi_plot_data.roi == roi].unique(),\n",
    "                 popmean=0) for roi in bdi_plot_data.roi.unique().tolist()}\n",
    "roi_stats"
   ]
  },
  {
   "cell_type": "code",
   "execution_count": null,
   "id": "30dcad6d",
   "metadata": {},
   "outputs": [],
   "source": [
    "bonferr_alpha = 0.05/len(roi_stats)\n",
    "# bonferr_alpha = 0.05/len(bdi_plot_data.roi.unique().tolist())\n",
    "bonferr_alpha"
   ]
  },
  {
   "cell_type": "code",
   "execution_count": null,
   "id": "2dc9c1ba",
   "metadata": {},
   "outputs": [],
   "source": [
    "print('sig ROIs after multiple comp correction: ',[(roi,raw_roi_stats[roi].pvalue) for roi in raw_roi_stats.keys()\n",
    "                                                   if raw_roi_stats[roi].pvalue< bonferr_alpha])\n",
    "# print('sig ROI pvals: ',roi_stats.roi_cpe_pval[roi_beta_results.roi_cpe_pval<=bonferr_alpha].unique().tolist())\n"
   ]
  },
  {
   "cell_type": "code",
   "execution_count": null,
   "id": "965f4f44",
   "metadata": {},
   "outputs": [],
   "source": [
    "print('sig ROIs after multiple comp correction: ',[(roi,roi_stats[roi].pvalue) for roi in roi_stats.keys()\n",
    "                                                   if roi_stats[roi].pvalue< bonferr_alpha])\n",
    "# print('sig ROI pvals: ',roi_stats.roi_cpe_pval[roi_beta_results.roi_cpe_pval<=bonferr_alpha].unique().tolist())\n",
    "\n",
    "\n"
   ]
  },
  {
   "cell_type": "code",
   "execution_count": null,
   "id": "c5243c2c",
   "metadata": {},
   "outputs": [],
   "source": [
    "roi_stats"
   ]
  },
  {
   "cell_type": "code",
   "execution_count": null,
   "id": "609a0c44",
   "metadata": {},
   "outputs": [],
   "source": [
    "roi_stats.keys()"
   ]
  },
  {
   "cell_type": "code",
   "execution_count": null,
   "id": "364b9733",
   "metadata": {},
   "outputs": [],
   "source": [
    "# roi_order = ['dlpfc','vlpfc','dmpfc','ofc','ains','pins','acc','hpc','amy','mtg','motor','thalamus']\n",
    "roi_order = ['dlpfc','vlpfc','dmpfc','ofc','ains','pins','acc','hpc','amy']"
   ]
  },
  {
   "cell_type": "code",
   "execution_count": null,
   "id": "b9a6bce9",
   "metadata": {},
   "outputs": [],
   "source": [
    "roi_bdi_plot_data = bdi_plot_data.copy()\n",
    "roi_bdi_plot_data = roi_bdi_plot_data[roi_bdi_plot_data.roi.isin(roi_order)]\n",
    "\n",
    "# roi_plot_names = {'thalamus':'THAL','hpc':'HPC','amy':'AMY','acc':'ACC','ofc':'OFC','ains':'aINS',\n",
    "#                   'pins':'pINS','dmpfc':'dmPFC','dlpfc':'dlPFC','vlpfc':'vlPFC'}\n"
   ]
  },
  {
   "cell_type": "code",
   "execution_count": null,
   "id": "72fe9dd5",
   "metadata": {},
   "outputs": [],
   "source": [
    "roi_bdi_plot_data['raw_decisionCPE:bdi']"
   ]
  },
  {
   "cell_type": "code",
   "execution_count": null,
   "id": "94a25e08",
   "metadata": {},
   "outputs": [],
   "source": [
    "sns.set_context(\"poster\")\n",
    "fig,ax = plt.subplots(figsize=(15, 6),dpi=500)\n",
    "\n",
    "fig_save_dir = f'{base_dir}ephys_analysis/figs/{band}_regressions/'\n",
    "os.makedirs(fig_save_dir,exist_ok=True)\n",
    "\n",
    "sns.barplot(data = roi_bdi_plot_data,\n",
    "            x = 'roi',\n",
    "            y = 'raw_decisionCPE:bdi',\n",
    "#             y='elec_bCPE',\n",
    "            color = '#561C46', #173b6f\n",
    "            saturation=0.8,\n",
    "            order=roi_order,\n",
    "            errorbar=None) \n",
    "\n",
    "\n",
    "sns.stripplot(data = roi_bdi_plot_data,\n",
    "            x = 'roi',\n",
    "            y = 'raw_decisionCPE:bdi',\n",
    "              color = '#561C46',\n",
    "              alpha=.4,\n",
    "              dodge=True,\n",
    "              order=roi_order,\n",
    "              size = 8)\n",
    "\n",
    "ax.axhline(y=0,color='#561C46',linewidth=1.5)\n",
    "plt.tick_params(length=0 )#,grid_linewidth=1)\n",
    "\n",
    "# plt.ylim([-0.02,0.017])\n",
    "ax.set(xlabel=None)\n",
    "\n",
    "plt.ylabel(fr'${band}_{{{zpow}}} \\sim cpe:bdi$')\n",
    "# plt.gca().yaxis.set_major_formatter(StrMethodFormatter('{x:,.3f}')) \n",
    "plt.locator_params(axis='y', nbins=6,tight=True)\n",
    "\n",
    "\n",
    "\n",
    "sns.despine()\n",
    "    \n",
    "plt.savefig(f'{fig_save_dir}/{band}pow_CPEBDIINT{date}.pdf', format='pdf', metadata=None,\n",
    "bbox_inches=None, pad_inches=0.1,dpi=500,\n",
    "facecolor='auto', edgecolor='auto',\n",
    "backend=None)"
   ]
  },
  {
   "cell_type": "code",
   "execution_count": null,
   "id": "87e08260",
   "metadata": {},
   "outputs": [],
   "source": [
    "####### BDI ~ BPOW SIG FOR THESE ROIS!!!"
   ]
  },
  {
   "cell_type": "code",
   "execution_count": null,
   "id": "e88238b6",
   "metadata": {},
   "outputs": [],
   "source": [
    "print('sig ROIs after multiple comp correction: ',[(roi,raw_roi_stats[roi].pvalue) for roi in raw_roi_stats.keys()\n",
    "                                                   if raw_roi_stats[roi].pvalue< bonferr_alpha])\n",
    "# print('sig ROI pvals: ',roi_stats.roi_cpe_pval[roi_beta_results.roi_cpe_pval<=bonferr_alpha].unique().tolist())\n"
   ]
  },
  {
   "cell_type": "code",
   "execution_count": null,
   "id": "c9a8a7cd",
   "metadata": {},
   "outputs": [],
   "source": [
    "roi_bdi_plot_data"
   ]
  },
  {
   "cell_type": "code",
   "execution_count": null,
   "id": "38e9e2c7",
   "metadata": {},
   "outputs": [],
   "source": [
    "print('sig ROIs after multiple comp correction: ',[(roi,ttest_1samp(roi_bdi_plot_data[\n",
    "    roi_bdi_plot_data.roi == roi]['raw_decisionCPE:bdi'].to_numpy(),\n",
    "                                     popmean=0).pvalue) for roi in roi_bdi_plot_data.roi.unique().tolist()\n",
    "                                                  if ttest_1samp(roi_bdi_plot_data[\n",
    "    roi_bdi_plot_data.roi == roi]['raw_decisionCPE:bdi'].to_numpy(),\n",
    "                                     popmean=0).pvalue < bonferr_alpha])\n",
    "\n",
    "\n"
   ]
  },
  {
   "cell_type": "code",
   "execution_count": null,
   "id": "09f548d1",
   "metadata": {},
   "outputs": [],
   "source": [
    "print('sig ROIs after multiple comp correction: ',[(roi,ttest_1samp(roi_bdi_plot_data[\n",
    "    roi_bdi_plot_data.roi == roi]['raw_bdi'].to_numpy(),\n",
    "                                     popmean=0).pvalue) for roi in roi_bdi_plot_data.roi.unique().tolist()\n",
    "                                                  if ttest_1samp(roi_bdi_plot_data[\n",
    "    roi_bdi_plot_data.roi == roi]['raw_bdi'].to_numpy(),\n",
    "                                     popmean=0).pvalue < bonferr_alpha])\n",
    "\n",
    "\n"
   ]
  },
  {
   "cell_type": "code",
   "execution_count": null,
   "id": "f1dd4136",
   "metadata": {},
   "outputs": [],
   "source": [
    "sns.set_context(\"poster\")\n",
    "fig,ax = plt.subplots(figsize=(15, 6),dpi=500)\n",
    "\n",
    "fig_save_dir = f'{base_dir}ephys_analysis/figs/{band}_regressions/'\n",
    "os.makedirs(fig_save_dir,exist_ok=True)\n",
    "\n",
    "sns.barplot(data = roi_bdi_plot_data,\n",
    "            x = 'roi',\n",
    "            y = 'raw_bdi',\n",
    "#             y='elec_bCPE',\n",
    "            color = '#173b6f', #173b6f\n",
    "            saturation=0.8,\n",
    "            order=roi_order,\n",
    "            errorbar=None) \n",
    "\n",
    "\n",
    "sns.stripplot(data = roi_bdi_plot_data,\n",
    "            x = 'roi',\n",
    "            y = 'raw_bdi',\n",
    "              color = '#173b6f',\n",
    "              alpha=.4,\n",
    "              dodge=True,\n",
    "              order=roi_order,\n",
    "              size = 8)\n",
    "\n",
    "ax.axhline(y=0,color='#173b6f',linewidth=1.5)\n",
    "plt.tick_params(length=0 )#,grid_linewidth=1)\n",
    "\n",
    "# plt.ylim([-0.02,0.017])\n",
    "ax.set(xlabel=None)\n",
    "\n",
    "# plt.ylabel(r'$beta_{{{zpow}}} \\sim cpe:bdi$')\n",
    "plt.ylabel(fr'${band}_{{{zpow}}} \\sim bdi$')\n",
    "# plt.gca().yaxis.set_major_formatter(StrMethodFormatter('{x:,.3f}')) \n",
    "plt.locator_params(axis='y', nbins=6,tight=True)\n",
    "\n",
    "\n",
    "\n",
    "sns.despine()\n",
    "    \n",
    "plt.savefig(f'{fig_save_dir}/{band}POW~BDIbyROI{date}.pdf', format='pdf', metadata=None,\n",
    "bbox_inches=None, pad_inches=0.1,dpi=500,\n",
    "facecolor='auto', edgecolor='auto',\n",
    "backend=None)"
   ]
  },
  {
   "cell_type": "code",
   "execution_count": null,
   "id": "aeade1f2",
   "metadata": {},
   "outputs": [],
   "source": []
  },
  {
   "cell_type": "code",
   "execution_count": null,
   "id": "3e4336a0",
   "metadata": {},
   "outputs": [],
   "source": []
  },
  {
   "cell_type": "code",
   "execution_count": null,
   "id": "f2d93add",
   "metadata": {},
   "outputs": [],
   "source": []
  },
  {
   "cell_type": "code",
   "execution_count": null,
   "id": "e91fc596",
   "metadata": {
    "scrolled": false
   },
   "outputs": [],
   "source": [
    "roi_bdi_plot_data"
   ]
  },
  {
   "cell_type": "code",
   "execution_count": null,
   "id": "4076584e",
   "metadata": {},
   "outputs": [],
   "source": [
    "# roi_order = ['dlpfc','vlpfc','dmpfc','ofc','ains','pins','acc','hpc','amy']"
   ]
  },
  {
   "cell_type": "code",
   "execution_count": null,
   "id": "fb705f53",
   "metadata": {},
   "outputs": [],
   "source": [
    "reg_df.groupby('roi')"
   ]
  },
  {
   "cell_type": "code",
   "execution_count": null,
   "id": "996ee4b8",
   "metadata": {
    "scrolled": true
   },
   "outputs": [],
   "source": [
    "reg_df['BDI-II'] = ['Low' if bdi<20 else 'High' for bdi in reg_df.bdi]\n",
    "reg_df"
   ]
  },
  {
   "cell_type": "code",
   "execution_count": null,
   "id": "7d9e1740",
   "metadata": {},
   "outputs": [],
   "source": [
    "palette=dict(Low=\"#3f2755\", High=\"#054a6f\")\n",
    "# sns.move_legend(ax, \"lower center\", bbox_to_anchor=(.5, 1), ncol=3, title=None, frameon=False)\n"
   ]
  },
  {
   "cell_type": "code",
   "execution_count": null,
   "id": "859789ea",
   "metadata": {},
   "outputs": [],
   "source": [
    "from scipy import stats\n",
    "slope, intercept, r_value, p_value, std_err = stats.linregress(df.x,df.y)"
   ]
  },
  {
   "cell_type": "code",
   "execution_count": null,
   "id": "d58c90f0",
   "metadata": {},
   "outputs": [],
   "source": [
    "# reg_df['Depression'] = ['depressed' if bdi >=20 else 'not depressed' for bdi in reg_df.bdi.tolist()]\n",
    "reg_df['Depression'] = ['high BDI' if bdi >=20 else 'low BDI' for bdi in reg_df.bdi.tolist()]"
   ]
  },
  {
   "cell_type": "code",
   "execution_count": null,
   "id": "1813cfbb",
   "metadata": {},
   "outputs": [],
   "source": [
    "# edgecolor=None,markerfirst=True,title=None,#title_fontsize='x-small',\n",
    "#                 markerscale=0.2,labelcolor=None"
   ]
  },
  {
   "cell_type": "code",
   "execution_count": null,
   "id": "275e1a06",
   "metadata": {},
   "outputs": [],
   "source": []
  },
  {
   "cell_type": "code",
   "execution_count": null,
   "id": "9e9f2f7d",
   "metadata": {},
   "outputs": [],
   "source": [
    "reg_df.roi.unique().tolist()"
   ]
  },
  {
   "cell_type": "markdown",
   "id": "e4d7f782",
   "metadata": {},
   "source": [
    "# INTERACTION FEATURE SELECTION"
   ]
  },
  {
   "cell_type": "code",
   "execution_count": null,
   "id": "ea4fdaf5",
   "metadata": {},
   "outputs": [],
   "source": [
    "######## make all possible variable combinations for regressions \n",
    "main_var  = ['decisionCPE','band_pow','decisionCPE:band_pow']\n",
    "\n",
    "### iter vars for RT prediction dfs > \n",
    "iter_vars = ['C(GambleChoice)','TrialEV','TotalProfit',\n",
    "             'C(GambleChoice_t1)','TrialEV_t1']\n"
   ]
  },
  {
   "cell_type": "code",
   "execution_count": null,
   "id": "78a8d854",
   "metadata": {},
   "outputs": [],
   "source": [
    "iter_vars"
   ]
  },
  {
   "cell_type": "code",
   "execution_count": null,
   "id": "d5be8f86",
   "metadata": {},
   "outputs": [],
   "source": [
    "var_combos = [[v]+main_var for v in iter_vars]\n",
    "\n",
    "for i in range(1,len(iter_vars)-1):\n",
    "    iter_list = [list(tup)+main_var for tup in list(itertools.combinations(iter_vars,i+1))]\n",
    "    var_combos.extend(iter_list)\n",
    "\n",
    "# remove var combos that contain Choice + Trial Type for the *same trial* only bc they are collinear\n",
    "var_combos = [combo for combo in var_combos if ('C(GambleChoice_t1)' in combo and 'C(TrialType_t1)' not in combo)|\n",
    "              ('C(GambleChoice_t1)' not in combo and 'C(TrialType_t1)' in combo)|('C(GambleChoice_t1)'not in combo and 'C(TrialType_t1)' not in combo)]\n",
    "\n",
    "var_combos = [combo for combo in var_combos if ('C(GambleChoice)' in combo and 'C(TrialType)' not in combo)|\n",
    "              ('C(GambleChoice)' not in combo and 'C(TrialType)' in combo)|('C(GambleChoice)'not in combo and 'C(TrialType)' not in combo)]\n",
    "\n",
    "\n",
    "var_combos = [combo for combo in var_combos if ('C(GambleChoice)' in combo and 'TrialEV' not in combo)|\n",
    "              ('C(GambleChoice)' not in combo and 'TrialEV' in combo)|('C(GambleChoice)'not in combo and 'TrialEV' not in combo)]\n",
    "\n",
    "\n",
    "var_combos = [combo for combo in var_combos if ('TrialEV' in combo and 'C(TrialType)' not in combo)|\n",
    "              ('TrialEV' not in combo and 'C(TrialType)' in combo)|('TrialEV'not in combo and 'C(TrialType)' not in combo)]\n",
    "\n",
    "var_combos = [combo for combo in var_combos if ('C(GambleChoice_t1)' in combo and 'TrialEV_t1' not in combo)|\n",
    "              ('C(GambleChoice_t1)' not in combo and 'TrialEV_t1' in combo)|('C(GambleChoice_t1)'not in combo and 'TrialEV_t1' not in combo)]\n",
    "\n",
    "var_combos = [combo for combo in var_combos if ('TrialEV_t1' in combo and 'C(TrialType_t1)' not in combo)|\n",
    "              ('TrialEV_t1' not in combo and 'C(TrialType_t1)' in combo)|('TrialEV_t1'not in combo and 'C(TrialType_t1)' not in combo)]\n",
    "var_combos"
   ]
  },
  {
   "cell_type": "code",
   "execution_count": null,
   "id": "87eed292",
   "metadata": {},
   "outputs": [],
   "source": [
    "len(var_combos)"
   ]
  },
  {
   "cell_type": "code",
   "execution_count": null,
   "id": "5a8a5edd",
   "metadata": {
    "scrolled": false
   },
   "outputs": [],
   "source": [
    "# import time \n",
    "start = time.time() # start timer\n",
    "\n",
    "all_models = {}\n",
    "all_rsq    = {}\n",
    "all_stats  = {}\n",
    "all_keys   = {}\n",
    "no_conv    = []\n",
    "\n",
    "for test_vars in var_combos:\n",
    "    model_key = ''.join(test_vars[:-1]) ### make string of covariate var names to use as dict key\n",
    "    model_fit = fit_mixed_model(reg_df,test_vars,outcome_var,rand_eff_var,reml=False)\n",
    "    # check if model converged\n",
    "    if model_fit.converged:\n",
    "        \n",
    "        print(model_key,' converged!')\n",
    "        \n",
    "        all_models[model_key] = model_fit\n",
    "        all_rsq[model_key]    = compute_marginal_rsq(model_fit)\n",
    "        all_stats[model_key]  = mixed_effects_ftest_ttest(model_fit)\n",
    "        all_keys[model_key]   = test_vars\n",
    "        \n",
    "    else:\n",
    "        print(model_key,' did not converge :(')\n",
    "        no_conv.append(model_key)\n",
    "    del model_fit\n",
    "\n",
    "end = time.time()\n",
    "print('{:.4f} s'.format(end-start)) # print time elapsed for computation (approx 20 seconds per channel)    "
   ]
  },
  {
   "cell_type": "code",
   "execution_count": null,
   "id": "14488cf7",
   "metadata": {},
   "outputs": [],
   "source": [
    "no_conv"
   ]
  },
  {
   "cell_type": "code",
   "execution_count": null,
   "id": "00ae0057",
   "metadata": {},
   "outputs": [],
   "source": [
    "list(all_models.keys())"
   ]
  },
  {
   "cell_type": "code",
   "execution_count": null,
   "id": "41339324",
   "metadata": {},
   "outputs": [],
   "source": [
    "all_models['TrialEVdecisionCPEband_pow'].bic"
   ]
  },
  {
   "cell_type": "code",
   "execution_count": null,
   "id": "65c6371a",
   "metadata": {},
   "outputs": [],
   "source": [
    "model_summary = {key:all_models[key].bic for key in all_models.keys()}\n",
    "model_summary"
   ]
  },
  {
   "cell_type": "code",
   "execution_count": null,
   "id": "9ed46759",
   "metadata": {},
   "outputs": [],
   "source": [
    "bic_list = [model_summary[key] for key in model_summary.keys()]\n",
    "bic_list.sort()\n",
    "\n",
    "ordered_list = [list(model_summary.keys())[np.where(list(model_summary.values()) == bic)[0][0]] for bic in bic_list]\n",
    "list(zip(ordered_list,bic_list))\n"
   ]
  },
  {
   "cell_type": "code",
   "execution_count": null,
   "id": "08055686",
   "metadata": {},
   "outputs": [],
   "source": [
    "all_models['TotalProfitTrialEV_t1decisionCPEband_pow'].pvalues"
   ]
  },
  {
   "cell_type": "code",
   "execution_count": null,
   "id": "e725e449",
   "metadata": {},
   "outputs": [],
   "source": [
    "[(key,bic,all_models[key].pvalues['decisionCPE:band_pow']) for key,bic in list(zip(ordered_list,bic_list))]  \n"
   ]
  },
  {
   "cell_type": "code",
   "execution_count": null,
   "id": "bf5b6eba",
   "metadata": {},
   "outputs": [],
   "source": [
    "print('worst bic model: ',list(model_summary.keys())[np.where(list(model_summary.values())==np.max(list(model_summary.values())))[0][0]])\n"
   ]
  },
  {
   "cell_type": "code",
   "execution_count": null,
   "id": "bc355cdc",
   "metadata": {},
   "outputs": [],
   "source": [
    "print('best bic model: ',list(model_summary.keys())[np.where(list(model_summary.values())==np.min(list(model_summary.values())))[0][0]])\n"
   ]
  },
  {
   "cell_type": "code",
   "execution_count": null,
   "id": "c31cf512",
   "metadata": {
    "scrolled": false
   },
   "outputs": [],
   "source": [
    "print(list(model_summary.keys())[np.where(list(model_summary.values())==np.min(list(model_summary.values())))[0][0]])\n",
    "print(np.min(list(model_summary.values())))\n",
    "      \n",
    "      "
   ]
  },
  {
   "cell_type": "code",
   "execution_count": null,
   "id": "d8def74c",
   "metadata": {},
   "outputs": [],
   "source": [
    "[(key,all_models[key].pvalues['decisionCPE:band_pow']) for key in ordered_list if all_models[key].pvalues['decisionCPE:band_pow'] < 0.05]  \n",
    "\n"
   ]
  },
  {
   "cell_type": "code",
   "execution_count": null,
   "id": "79b41c35",
   "metadata": {},
   "outputs": [],
   "source": [
    "[(key,all_models[key].pvalues['decisionCPE:band_pow']) for key in ordered_list if all_models[key].pvalues['decisionCPE:band_pow'] > 0.05]  \n"
   ]
  },
  {
   "cell_type": "code",
   "execution_count": null,
   "id": "792371ec",
   "metadata": {},
   "outputs": [],
   "source": [
    "all_models['TrialEVTotalProfitdecisionCPEband_pow'].pvalues"
   ]
  },
  {
   "cell_type": "code",
   "execution_count": null,
   "id": "b1a9138c",
   "metadata": {},
   "outputs": [],
   "source": [
    "all_models['TrialEVTotalProfitdecisionCPEband_pow'].params"
   ]
  },
  {
   "cell_type": "code",
   "execution_count": null,
   "id": "0b0871c0",
   "metadata": {},
   "outputs": [],
   "source": [
    "all_models['TotalProfitTrialEV_t1decisionCPEband_pow'].summary()"
   ]
  },
  {
   "cell_type": "code",
   "execution_count": null,
   "id": "18b5a324",
   "metadata": {},
   "outputs": [],
   "source": [
    "all_rsq"
   ]
  },
  {
   "cell_type": "code",
   "execution_count": null,
   "id": "4da0e562",
   "metadata": {},
   "outputs": [],
   "source": [
    "all_models"
   ]
  },
  {
   "cell_type": "code",
   "execution_count": null,
   "id": "8ecf9c45",
   "metadata": {},
   "outputs": [],
   "source": [
    "all_stats['TrialEVdecisionCPEband_pow']"
   ]
  },
  {
   "cell_type": "code",
   "execution_count": null,
   "id": "8a98dd34",
   "metadata": {},
   "outputs": [],
   "source": [
    "all_stats"
   ]
  },
  {
   "cell_type": "code",
   "execution_count": null,
   "id": "a8f98921",
   "metadata": {},
   "outputs": [],
   "source": [
    "#### FOR NOW JUST SAVE CPE STATS!\n",
    "t_test_results_summary = [pd.DataFrame({'ttest_fe_tval':stats[0].t.tolist()[-1],\n",
    "                                        'ttest_fe_coef' :stats[0].coef.tolist()[-1],\n",
    "                                        'ttest_fe_pval':stats[0]['P>|t|'].tolist()[-1],\n",
    "                                        'model_id':idx},index=[0]) \n",
    "                          for idx,stats in all_stats.items()]\n",
    "\n",
    "\n",
    "t_test_results_summary = pd.concat(t_test_results_summary).reset_index(drop=True)\n",
    "t_test_results_summary\n",
    "\n"
   ]
  },
  {
   "cell_type": "code",
   "execution_count": null,
   "id": "d80377a0",
   "metadata": {
    "scrolled": true
   },
   "outputs": [],
   "source": [
    "f_test_results_summary = [pd.DataFrame({'ftest_fvalue':stats[1].fvalue,\n",
    "                                        'ftest_re_df':stats[1].df_num,\n",
    "                                        'ftest_f_pval':stats[1].pvalue,\n",
    "                                        'model_id':idx},index=[0]) \n",
    "                          for idx,stats in all_stats.items()]\n",
    "\n",
    "f_test_results_summary = pd.concat(f_test_results_summary).reset_index(drop=True)\n",
    "f_test_results_summary"
   ]
  },
  {
   "cell_type": "code",
   "execution_count": null,
   "id": "3e12462d",
   "metadata": {},
   "outputs": [],
   "source": [
    "tstat_fstat_df = pd.merge(t_test_results_summary,f_test_results_summary,left_on=['model_id'],\n",
    "                          right_on=['model_id']).reset_index(drop=True)\n",
    "\n",
    "tstat_fstat_df = tstat_fstat_df[['model_id','ttest_fe_tval', 'ttest_fe_coef', 'ttest_fe_pval',\n",
    "                                 'ftest_fvalue', 'ftest_re_df', 'ftest_f_pval']]\n",
    "tstat_fstat_df\n",
    "\n"
   ]
  },
  {
   "cell_type": "code",
   "execution_count": null,
   "id": "bc8e8dc9",
   "metadata": {},
   "outputs": [],
   "source": [
    "tstat_fstat_df['rsq'] = [val for key,val in all_rsq.items()]"
   ]
  },
  {
   "cell_type": "code",
   "execution_count": null,
   "id": "1a70098a",
   "metadata": {},
   "outputs": [],
   "source": [
    "tstat_fstat_df"
   ]
  },
  {
   "cell_type": "code",
   "execution_count": null,
   "id": "f7df78a0",
   "metadata": {
    "scrolled": true
   },
   "outputs": [],
   "source": [
    "all_rsq"
   ]
  },
  {
   "cell_type": "code",
   "execution_count": null,
   "id": "244c6bc3",
   "metadata": {},
   "outputs": [],
   "source": []
  },
  {
   "cell_type": "code",
   "execution_count": null,
   "id": "bea3178a",
   "metadata": {},
   "outputs": [],
   "source": [
    "\n",
    "tstat_fstat_df['bic']         = [all_models[key].bic for key in all_models.keys()]\n"
   ]
  },
  {
   "cell_type": "code",
   "execution_count": null,
   "id": "1be55975",
   "metadata": {},
   "outputs": [],
   "source": [
    "tstat_fstat_df"
   ]
  },
  {
   "cell_type": "code",
   "execution_count": null,
   "id": "e1875990",
   "metadata": {},
   "outputs": [],
   "source": [
    "tstat_fstat_df['fe_cpe_est'] = [all_models[key].params['decisionCPE:band_pow'] for key in all_models.keys()]"
   ]
  },
  {
   "cell_type": "code",
   "execution_count": null,
   "id": "7ed0c708",
   "metadata": {},
   "outputs": [],
   "source": [
    "tstat_fstat_df['fe_cpe_pval'] = [all_models[key].pvalues['decisionCPE:band_pow'] for key in all_models.keys()]"
   ]
  },
  {
   "cell_type": "code",
   "execution_count": null,
   "id": "fa5be2c1",
   "metadata": {},
   "outputs": [],
   "source": [
    "tstat_fstat_df\n",
    "\n"
   ]
  },
  {
   "cell_type": "code",
   "execution_count": null,
   "id": "e88e6fc1",
   "metadata": {},
   "outputs": [],
   "source": [
    "#### multiple comparisons correction!!!!\n",
    "bonferr_alpha = 0.05/len(tstat_fstat_df)\n",
    "bonferr_alpha"
   ]
  },
  {
   "cell_type": "code",
   "execution_count": null,
   "id": "02fd0fab",
   "metadata": {},
   "outputs": [],
   "source": [
    "\n",
    "tstat_fstat_df.sort_values(by='fe_cpe_pval')"
   ]
  },
  {
   "cell_type": "code",
   "execution_count": null,
   "id": "6465f022",
   "metadata": {},
   "outputs": [],
   "source": [
    "# tstat_fstat_df = tstat_fstat_df[tstat_fstat_df.fe_cpe_pval < bonferr_alpha]\n",
    "tstat_fstat_df.sort_values(by='ttest_fe_pval')"
   ]
  },
  {
   "cell_type": "code",
   "execution_count": null,
   "id": "b02bff2d",
   "metadata": {},
   "outputs": [],
   "source": [
    "save_df = tstat_fstat_df.copy()"
   ]
  },
  {
   "cell_type": "code",
   "execution_count": null,
   "id": "35e1bb53",
   "metadata": {},
   "outputs": [],
   "source": [
    "tstat_fstat_df.sort_values(by='ttest_fe_pval')"
   ]
  },
  {
   "cell_type": "code",
   "execution_count": null,
   "id": "614c1090",
   "metadata": {},
   "outputs": [],
   "source": [
    "tstat_fstat_df.ttest_fe_pval"
   ]
  },
  {
   "cell_type": "code",
   "execution_count": null,
   "id": "caf0ff43",
   "metadata": {},
   "outputs": [],
   "source": [
    "print('Best BIC model: ',tstat_fstat_df.model_id[tstat_fstat_df.bic == np.min(tstat_fstat_df.bic)].values[0])\n"
   ]
  },
  {
   "cell_type": "code",
   "execution_count": null,
   "id": "f0476530",
   "metadata": {},
   "outputs": [],
   "source": [
    "print('Best fe_cpe_pval model: ',tstat_fstat_df.model_id[tstat_fstat_df.fe_cpe_pval == np.min(tstat_fstat_df.fe_cpe_pval)].values[0])\n"
   ]
  },
  {
   "cell_type": "code",
   "execution_count": null,
   "id": "3741a435",
   "metadata": {},
   "outputs": [],
   "source": [
    "print('Best rsq model: ',tstat_fstat_df.model_id[tstat_fstat_df.rsq == np.max(tstat_fstat_df.rsq)].values[0])\n"
   ]
  },
  {
   "cell_type": "code",
   "execution_count": null,
   "id": "668e599d",
   "metadata": {},
   "outputs": [],
   "source": [
    "print('Best ttest pval: ',tstat_fstat_df.model_id[tstat_fstat_df.ttest_fe_pval == \n",
    "                                                  np.min(tstat_fstat_df.ttest_fe_pval)].values[0])\n"
   ]
  },
  {
   "cell_type": "code",
   "execution_count": null,
   "id": "ec357e18",
   "metadata": {},
   "outputs": [],
   "source": [
    "print('Best tstat: ',tstat_fstat_df.model_id[tstat_fstat_df.ttest_fe_tval == \n",
    "                                                  np.max(tstat_fstat_df.ttest_fe_tval)].values[0])\n"
   ]
  },
  {
   "cell_type": "code",
   "execution_count": null,
   "id": "a6bca23e",
   "metadata": {},
   "outputs": [],
   "source": [
    "print('Best ftest pval: ',tstat_fstat_df.model_id[tstat_fstat_df.ftest_f_pval == \n",
    "                                                  np.min(tstat_fstat_df.ftest_f_pval)].values[0])"
   ]
  },
  {
   "cell_type": "code",
   "execution_count": null,
   "id": "ed161d39",
   "metadata": {},
   "outputs": [],
   "source": [
    "print('Best Fstat model: ',tstat_fstat_df.model_id[tstat_fstat_df.ftest_fvalue == \n",
    "                                                  np.max(tstat_fstat_df.ftest_fvalue)].values[0])"
   ]
  },
  {
   "cell_type": "code",
   "execution_count": null,
   "id": "03a98d05",
   "metadata": {},
   "outputs": [],
   "source": [
    "all_models_fe_data   = {}\n",
    "\n",
    "for key in all_models.keys():\n",
    "#     model_unique_elecs = all_models[key].random_effects.keys()\n",
    "    model_fe_params = {f'{param}':all_models[key].fe_params[param] for param in all_models[key].fe_params.index}\n",
    "    model_fe_params['model_id'] = key\n",
    "    all_models_fe_data[key] = model_fe_params\n",
    "\n"
   ]
  },
  {
   "cell_type": "code",
   "execution_count": null,
   "id": "8b980942",
   "metadata": {},
   "outputs": [],
   "source": [
    "all_models_fe_data"
   ]
  },
  {
   "cell_type": "code",
   "execution_count": null,
   "id": "d729b3ed",
   "metadata": {},
   "outputs": [],
   "source": [
    "model_plot_data = {}\n",
    "\n",
    "for key in all_models.keys():\n",
    "    fe_param_names = list(all_models[key].fe_params.index)\n",
    "    \n",
    "    plot_data = pd.concat([pd.DataFrame(\n",
    "    {**{'subj_id':elec_id.split('_')[0],'reref_ch_names':elec_id.split('_')[1]},'unique_reref_ch':elec_id,\n",
    "     **{f'raw_{param}':all_models[key].random_effects[elec_id][param] for param in list(\n",
    "            all_models[key].random_effects[elec_id].index)}},index=[range(len(fe_param_names))])\n",
    "    for elec_id in all_models[key].random_effects.keys()]).reset_index(drop=True)\n",
    "    \n",
    "    plot_data['roi'] = [reg_df.roi[reg_df.unique_reref_ch == row.unique_reref_ch].values[0]\n",
    "                                for idx,row in plot_data.iterrows()]\n",
    "\n",
    "    plot_data['bdi'] = [subj_info_df.bdi[subj_info_df.subj_id == subj_id].values[0]\n",
    "                                for subj_id in plot_data.subj_id]\n",
    "    model_plot_data[key] = plot_data\n",
    "\n"
   ]
  }
 ],
 "metadata": {
  "kernelspec": {
   "display_name": "lfp_env",
   "language": "python",
   "name": "lfp_env"
  },
  "language_info": {
   "codemirror_mode": {
    "name": "ipython",
    "version": 3
   },
   "file_extension": ".py",
   "mimetype": "text/x-python",
   "name": "python",
   "nbconvert_exporter": "python",
   "pygments_lexer": "ipython3",
   "version": "3.10.4"
  }
 },
 "nbformat": 4,
 "nbformat_minor": 5
}
