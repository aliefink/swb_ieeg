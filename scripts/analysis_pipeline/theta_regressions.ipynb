{
 "cells": [
  {
   "cell_type": "markdown",
   "id": "58a19e33",
   "metadata": {},
   "source": [
    "# Theta Mixed Effects Models\n",
    "Created: 08/08/24 \\\n",
    "Updated: //2024 \\\n"
   ]
  },
  {
   "cell_type": "code",
   "execution_count": 1,
   "id": "a53ac954",
   "metadata": {},
   "outputs": [],
   "source": [
    "import numpy as np\n",
    "import mne\n",
    "from glob import glob\n",
    "import matplotlib.pyplot as plt\n",
    "from matplotlib.backends.backend_pdf import PdfPages\n",
    "import seaborn as sns\n",
    "from scipy.stats import zscore, linregress, ttest_ind, ttest_rel, ttest_1samp, pearsonr, spearmanr\n",
    "import pandas as pd\n",
    "from mne.preprocessing.bads import _find_outliers\n",
    "import os \n",
    "import joblib\n",
    "import re\n",
    "import datetime\n",
    "import scipy\n",
    "import random\n",
    "import statsmodels.api as sm\n",
    "import statsmodels.formula.api as smf\n",
    "from statsmodels.stats.outliers_influence import variance_inflation_factor\n",
    "from statsmodels.regression.mixed_linear_model import MixedLM \n",
    "from joblib import Parallel, delayed\n",
    "import pickle\n",
    "import itertools\n",
    "import time \n",
    "from matplotlib.ticker import StrMethodFormatter\n",
    "from matplotlib.colors import ListedColormap,LinearSegmentedColormap\n",
    "import matplotlib as mpl\n",
    "from matplotlib import cm\n",
    "\n",
    "\n",
    "\n",
    "import warnings\n",
    "warnings.filterwarnings('ignore')\n",
    "\n",
    "\n"
   ]
  },
  {
   "cell_type": "code",
   "execution_count": 2,
   "id": "e826d540",
   "metadata": {},
   "outputs": [],
   "source": [
    "%load_ext autoreload\n",
    "%autoreload 2"
   ]
  },
  {
   "cell_type": "code",
   "execution_count": 3,
   "id": "7cdeb07a",
   "metadata": {},
   "outputs": [
    {
     "name": "stdout",
     "output_type": "stream",
     "text": [
      "08082024\n"
     ]
    }
   ],
   "source": [
    "# Specify root directory for un-archived data and results \n",
    "base_dir   = '/sc/arion/projects/guLab/Alie/SWB/'\n",
    "anat_dir   = f'{base_dir}ephys_analysis/recon_labels/'\n",
    "neural_dir = f'{base_dir}ephys_analysis/data/'\n",
    "behav_dir  = f'{base_dir}swb_behav_models/data/behavior_preprocessed/'\n",
    "save_dir   = f'{base_dir}ephys_analysis/results/regression_data/'\n",
    "script_dir = '/hpc/users/finka03/swb_ephys_analysis/scripts/'\n",
    "\n",
    "date = datetime.date.today().strftime('%m%d%Y')\n",
    "print(date)"
   ]
  },
  {
   "cell_type": "code",
   "execution_count": 4,
   "id": "56649f93",
   "metadata": {},
   "outputs": [],
   "source": [
    "import sys\n",
    "sys.path.append(f'{base_dir}ephys_analysis/LFPAnalysis/')\n",
    "\n",
    "from LFPAnalysis import analysis_utils\n",
    "\n",
    "sys.path.append(f'{script_dir}analysis_notebooks/')\n",
    "\n",
    "from ieeg_tools import *"
   ]
  },
  {
   "cell_type": "code",
   "execution_count": 5,
   "id": "80e6cdea",
   "metadata": {},
   "outputs": [],
   "source": [
    "subj_ids = list(pd.read_excel(f'{base_dir}ephys_analysis/subj_info/SWB_subjects.xlsx', sheet_name='Usable_Subjects', usecols=[0]).PatientID)\n",
    "n_subj = len(subj_ids)\n",
    "# subj_ids\n"
   ]
  },
  {
   "cell_type": "code",
   "execution_count": 6,
   "id": "5d12e57a",
   "metadata": {},
   "outputs": [
    {
     "data": {
      "text/html": [
       "<div>\n",
       "<style scoped>\n",
       "    .dataframe tbody tr th:only-of-type {\n",
       "        vertical-align: middle;\n",
       "    }\n",
       "\n",
       "    .dataframe tbody tr th {\n",
       "        vertical-align: top;\n",
       "    }\n",
       "\n",
       "    .dataframe thead th {\n",
       "        text-align: right;\n",
       "    }\n",
       "</style>\n",
       "<table border=\"1\" class=\"dataframe\">\n",
       "  <thead>\n",
       "    <tr style=\"text-align: right;\">\n",
       "      <th></th>\n",
       "      <th>subj_id</th>\n",
       "      <th>bdi</th>\n",
       "    </tr>\n",
       "  </thead>\n",
       "  <tbody>\n",
       "    <tr>\n",
       "      <th>0</th>\n",
       "      <td>MS002</td>\n",
       "      <td>14</td>\n",
       "    </tr>\n",
       "    <tr>\n",
       "      <th>1</th>\n",
       "      <td>MS003</td>\n",
       "      <td>8</td>\n",
       "    </tr>\n",
       "    <tr>\n",
       "      <th>2</th>\n",
       "      <td>MS009</td>\n",
       "      <td>16</td>\n",
       "    </tr>\n",
       "    <tr>\n",
       "      <th>3</th>\n",
       "      <td>MS011</td>\n",
       "      <td>13</td>\n",
       "    </tr>\n",
       "    <tr>\n",
       "      <th>4</th>\n",
       "      <td>MS015</td>\n",
       "      <td>26</td>\n",
       "    </tr>\n",
       "    <tr>\n",
       "      <th>5</th>\n",
       "      <td>MS016</td>\n",
       "      <td>10</td>\n",
       "    </tr>\n",
       "    <tr>\n",
       "      <th>6</th>\n",
       "      <td>MS017</td>\n",
       "      <td>26</td>\n",
       "    </tr>\n",
       "    <tr>\n",
       "      <th>7</th>\n",
       "      <td>MS019</td>\n",
       "      <td>12</td>\n",
       "    </tr>\n",
       "    <tr>\n",
       "      <th>8</th>\n",
       "      <td>MS022</td>\n",
       "      <td>10</td>\n",
       "    </tr>\n",
       "    <tr>\n",
       "      <th>9</th>\n",
       "      <td>MS024</td>\n",
       "      <td>16</td>\n",
       "    </tr>\n",
       "    <tr>\n",
       "      <th>10</th>\n",
       "      <td>MS025</td>\n",
       "      <td>10</td>\n",
       "    </tr>\n",
       "    <tr>\n",
       "      <th>11</th>\n",
       "      <td>MS026</td>\n",
       "      <td>9</td>\n",
       "    </tr>\n",
       "    <tr>\n",
       "      <th>12</th>\n",
       "      <td>MS027</td>\n",
       "      <td>22</td>\n",
       "    </tr>\n",
       "    <tr>\n",
       "      <th>13</th>\n",
       "      <td>MS028</td>\n",
       "      <td>13</td>\n",
       "    </tr>\n",
       "    <tr>\n",
       "      <th>14</th>\n",
       "      <td>MS029</td>\n",
       "      <td>32</td>\n",
       "    </tr>\n",
       "    <tr>\n",
       "      <th>15</th>\n",
       "      <td>MS030</td>\n",
       "      <td>19</td>\n",
       "    </tr>\n",
       "    <tr>\n",
       "      <th>16</th>\n",
       "      <td>MS033</td>\n",
       "      <td>39</td>\n",
       "    </tr>\n",
       "    <tr>\n",
       "      <th>17</th>\n",
       "      <td>MS035</td>\n",
       "      <td>15</td>\n",
       "    </tr>\n",
       "    <tr>\n",
       "      <th>18</th>\n",
       "      <td>MS041</td>\n",
       "      <td>10</td>\n",
       "    </tr>\n",
       "    <tr>\n",
       "      <th>19</th>\n",
       "      <td>MS043</td>\n",
       "      <td>23</td>\n",
       "    </tr>\n",
       "    <tr>\n",
       "      <th>20</th>\n",
       "      <td>MS048</td>\n",
       "      <td>19</td>\n",
       "    </tr>\n",
       "    <tr>\n",
       "      <th>21</th>\n",
       "      <td>MS050</td>\n",
       "      <td>9</td>\n",
       "    </tr>\n",
       "    <tr>\n",
       "      <th>22</th>\n",
       "      <td>DA8</td>\n",
       "      <td>13</td>\n",
       "    </tr>\n",
       "    <tr>\n",
       "      <th>23</th>\n",
       "      <td>DA023</td>\n",
       "      <td>14</td>\n",
       "    </tr>\n",
       "    <tr>\n",
       "      <th>24</th>\n",
       "      <td>DA026</td>\n",
       "      <td>19</td>\n",
       "    </tr>\n",
       "    <tr>\n",
       "      <th>25</th>\n",
       "      <td>DA037</td>\n",
       "      <td>4</td>\n",
       "    </tr>\n",
       "    <tr>\n",
       "      <th>26</th>\n",
       "      <td>DA039</td>\n",
       "      <td>22</td>\n",
       "    </tr>\n",
       "  </tbody>\n",
       "</table>\n",
       "</div>"
      ],
      "text/plain": [
       "   subj_id  bdi\n",
       "0    MS002   14\n",
       "1    MS003    8\n",
       "2    MS009   16\n",
       "3    MS011   13\n",
       "4    MS015   26\n",
       "5    MS016   10\n",
       "6    MS017   26\n",
       "7    MS019   12\n",
       "8    MS022   10\n",
       "9    MS024   16\n",
       "10   MS025   10\n",
       "11   MS026    9\n",
       "12   MS027   22\n",
       "13   MS028   13\n",
       "14   MS029   32\n",
       "15   MS030   19\n",
       "16   MS033   39\n",
       "17   MS035   15\n",
       "18   MS041   10\n",
       "19   MS043   23\n",
       "20   MS048   19\n",
       "21   MS050    9\n",
       "22     DA8   13\n",
       "23   DA023   14\n",
       "24   DA026   19\n",
       "25   DA037    4\n",
       "26   DA039   22"
      ]
     },
     "execution_count": 6,
     "metadata": {},
     "output_type": "execute_result"
    }
   ],
   "source": [
    "bdi_list = pd.read_excel(f'{base_dir}ephys_analysis/subj_info/SWB_subjects.xlsx', sheet_name='Usable_Subjects', usecols=[3])\n",
    "bdi_list = list(bdi_list.SWB_BDI)\n",
    "subj_info_df = pd.DataFrame({'subj_id':subj_ids,'bdi':bdi_list})\n",
    "subj_info_df\n",
    "\n"
   ]
  },
  {
   "cell_type": "code",
   "execution_count": 7,
   "id": "268ae3c0",
   "metadata": {},
   "outputs": [],
   "source": [
    "#### set theme for all plots\n",
    "# %matplotlib inline\n",
    "# from matplotlib import rc\n",
    "# rc('text', usetex=False)\n",
    "\n",
    "sns.set_theme(style='ticks') \n",
    "sns.set_context(\"poster\")\n",
    "\n"
   ]
  },
  {
   "cell_type": "code",
   "execution_count": 8,
   "id": "a8d55d85",
   "metadata": {},
   "outputs": [],
   "source": [
    "from matplotlib.colors import ListedColormap,LinearSegmentedColormap\n",
    "import matplotlib as mpl\n",
    "from matplotlib import cm\n",
    "\n",
    "\n",
    "# saez_cmap colors = org,yellow, sagegreen, darker green, blue, purple \n",
    "\n",
    "# 671351\n",
    "saez_colors    = ['#ffb243','#FCE27C','#6a9752','#1d5d2a','#00467e','#561C46']\n",
    "saez_hex_cmap  = ListedColormap(saez_colors)\n",
    "saez_rgb       = [mpl.colors.to_rgb(hex) for hex in saez_colors]\n",
    "saez_full_cmap = LinearSegmentedColormap.from_list('saez_full_cmap',saez_rgb,N=10)\n",
    "#plot_palette = saez_linear_cmap.resampled(lutsize=30)\n",
    "expanded_cmap  = [mpl.colors.rgb2hex(saez_full_cmap(c)[:3]) for c in range(saez_full_cmap.N)]\n"
   ]
  },
  {
   "cell_type": "code",
   "execution_count": 9,
   "id": "f8253f35",
   "metadata": {},
   "outputs": [
    {
     "data": {
      "image/png": "[encoded data removed]",
      "text/html": [
       "<div style=\"vertical-align: middle;\"><strong>saez_full_cmap</strong> </div><div class=\"cmap\"><img alt=\"saez_full_cmap colormap\" title=\"saez_full_cmap\" style=\"border: 1px solid #555;\" src=\"data:image/png;base64,iVBORw0KGgoAAAANSUhEUgAAAgAAAABACAYAAABsv8+/AAAAHXRFWHRUaXRsZQBzYWV6X2Z1bGxfY21hcCBjb2xvcm1hcL+a5QQAAAAjdEVYdERlc2NyaXB0aW9uAHNhZXpfZnVsbF9jbWFwIGNvbG9ybWFwubEA9QAAADB0RVh0QXV0aG9yAE1hdHBsb3RsaWIgdjMuOC4yLCBodHRwczovL21hdHBsb3RsaWIub3JnDxXeEgAAADJ0RVh0U29mdHdhcmUATWF0cGxvdGxpYiB2My44LjIsIGh0dHBzOi8vbWF0cGxvdGxpYi5vcmchs0E1AAABdklEQVR4nO3WsUmDUQCFUbVPJTY2KTKA7uDAAQdwDIU0IYVFMASDvXGJhw/+75wJ7u2+2+vry/VmQX4f17MnDHNePcyeMMz24zh7wjBvu+V8ed8v58vn6X72hGG+f55mTxhm83WZPWGY5+Nh9oSh7mYPAAD+nwAAgCABAABBAgAAggQAAAQJAAAIEgAAECQAACBIAABAkAAAgCABAABBAgAAggQAAAQJAAAIEgAAECQAACBIAABAkAAAgCABAABBAgAAggQAAAQJAAAIEgAAECQAACBIAABAkAAAgCABAABBAgAAggQAAAQJAAAIEgAAECQAACBIAABAkAAAgCABAABBAgAAggQAAAQJAAAIEgAAECQAACBIAABAkAAAgCABAABBAgAAggQAAAQJAAAIEgAAECQAACBIAABAkAAAgCABAABBAgAAggQAAAQJAAAIEgAAECQAACBIAABAkAAAgCABAABBAgAAggQAAAQJAAAIEgAAEPQH3iAVN3GnBgsAAAAASUVORK5CYII=\"></div><div style=\"vertical-align: middle; max-width: 514px; display: flex; justify-content: space-between;\"><div style=\"float: left;\"><div title=\"#ffb243ff\" style=\"display: inline-block; width: 1em; height: 1em; margin: 0; vertical-align: middle; border: 1px solid #555; background-color: #ffb243ff;\"></div> under</div><div style=\"margin: 0 auto; display: inline-block;\">bad <div title=\"#00000000\" style=\"display: inline-block; width: 1em; height: 1em; margin: 0; vertical-align: middle; border: 1px solid #555; background-color: #00000000;\"></div></div><div style=\"float: right;\">over <div title=\"#561c46ff\" style=\"display: inline-block; width: 1em; height: 1em; margin: 0; vertical-align: middle; border: 1px solid #555; background-color: #561c46ff;\"></div></div>"
      ],
      "text/plain": [
       "<matplotlib.colors.LinearSegmentedColormap at 0x2b3cc078b820>"
      ]
     },
     "execution_count": 9,
     "metadata": {},
     "output_type": "execute_result"
    }
   ],
   "source": [
    "saez_full_cmap"
   ]
  },
  {
   "cell_type": "markdown",
   "id": "0b76da87",
   "metadata": {},
   "source": [
    "# Load Regression DF"
   ]
  },
  {
   "cell_type": "code",
   "execution_count": 10,
   "id": "8a4551ed",
   "metadata": {},
   "outputs": [],
   "source": [
    "band = 'theta'"
   ]
  },
  {
   "cell_type": "code",
   "execution_count": 11,
   "id": "83718196",
   "metadata": {},
   "outputs": [
    {
     "data": {
      "text/plain": [
       "array(['MS002', 'MS003', 'MS009', 'MS011', 'MS015', 'MS016', 'MS017',\n",
       "       'MS019', 'MS022', 'MS024', 'MS025', 'MS026', 'MS027', 'MS028',\n",
       "       'MS029', 'MS030', 'MS033', 'MS035', 'MS041', 'MS043', 'MS048',\n",
       "       'MS050', 'DA8', 'DA023', 'DA026', 'DA037', 'DA039'], dtype=object)"
      ]
     },
     "execution_count": 11,
     "metadata": {},
     "output_type": "execute_result"
    }
   ],
   "source": [
    "band_df = pd.read_csv(f'{save_dir}{band}_master_df.csv')\n",
    "band_df.subj_id.unique()"
   ]
  },
  {
   "cell_type": "code",
   "execution_count": 12,
   "id": "95fc6641",
   "metadata": {},
   "outputs": [],
   "source": [
    "roi_reref_labels_master_df = pd.read_csv(glob(f'{base_dir}ephys_analysis/results/roi_info/roi_reref_labels_master.csv')[0])\n",
    "roi_reref_labels_master_df = roi_reref_labels_master_df.drop(columns=['Unnamed: 0'])\n",
    "\n",
    "\n"
   ]
  },
  {
   "cell_type": "code",
   "execution_count": 13,
   "id": "911c782f",
   "metadata": {},
   "outputs": [
    {
     "data": {
      "text/plain": [
       "dmpfc            216\n",
       "ofc              202\n",
       "acc              193\n",
       "sts              155\n",
       "hpc              135\n",
       "amy              113\n",
       "dlpfc            107\n",
       "stg              105\n",
       "vlpfc             82\n",
       "ains              71\n",
       "smg               66\n",
       "pins              60\n",
       "thalamus          58\n",
       "mtg               57\n",
       "temporal pole     31\n",
       "mcc               28\n",
       "motor             25\n",
       "phg               25\n",
       "parietal          24\n",
       "vmpfc             23\n",
       "fusiform          19\n",
       "occipital         19\n",
       "itg               15\n",
       "angular           14\n",
       "somat             11\n",
       "premotor           9\n",
       "caudate            8\n",
       "pcc                1\n",
       "Name: roi, dtype: int64"
      ]
     },
     "execution_count": 13,
     "metadata": {},
     "output_type": "execute_result"
    }
   ],
   "source": [
    "roi_reref_labels_master_df.roi.value_counts()"
   ]
  },
  {
   "cell_type": "code",
   "execution_count": null,
   "id": "09b7d682",
   "metadata": {},
   "outputs": [],
   "source": []
  },
  {
   "cell_type": "code",
   "execution_count": 14,
   "id": "0a83a574",
   "metadata": {},
   "outputs": [
    {
     "data": {
      "text/plain": [
       "['dmpfc',\n",
       " 'ofc',\n",
       " 'acc',\n",
       " 'sts',\n",
       " 'hpc',\n",
       " 'amy',\n",
       " 'dlpfc',\n",
       " 'stg',\n",
       " 'vlpfc',\n",
       " 'ains',\n",
       " 'smg',\n",
       " 'pins',\n",
       " 'thalamus',\n",
       " 'mtg',\n",
       " 'temporal pole',\n",
       " 'mcc',\n",
       " 'motor',\n",
       " 'phg',\n",
       " 'parietal',\n",
       " 'vmpfc']"
      ]
     },
     "execution_count": 14,
     "metadata": {},
     "output_type": "execute_result"
    }
   ],
   "source": [
    "#### filter df by rois with electrode counts >= 50 *** updated to >15\n",
    "keep_rois = roi_reref_labels_master_df.roi.value_counts().index[roi_reref_labels_master_df.roi.value_counts(\n",
    ").values>=20].tolist()\n",
    "\n",
    "# keep_rois = roi_reref_labels_master_df.roi.value_counts().index[\n",
    "#     roi_reref_labels_master_df.roi.value_counts().values>=50].tolist()\n",
    "# keep_rois = ['dlpfc','vlpfc','dmpfc','ofc','ains','pins','acc','hpc','amy','mtg']     \n",
    "keep_rois\n"
   ]
  },
  {
   "cell_type": "code",
   "execution_count": 15,
   "id": "b070b09c",
   "metadata": {},
   "outputs": [
    {
     "data": {
      "text/plain": [
       "244136"
      ]
     },
     "execution_count": 15,
     "metadata": {},
     "output_type": "execute_result"
    }
   ],
   "source": [
    "####### NEW DATA FRAME \n",
    "reg_df = band_df.copy()\n",
    "reg_df = reg_df[reg_df.roi.isin(keep_rois)]\n",
    "len(reg_df)"
   ]
  },
  {
   "cell_type": "code",
   "execution_count": 16,
   "id": "83064f7f",
   "metadata": {
    "scrolled": true
   },
   "outputs": [
    {
     "data": {
      "text/plain": [
       "4.890339474040927"
      ]
     },
     "execution_count": 16,
     "metadata": {},
     "output_type": "execute_result"
    }
   ],
   "source": [
    "np.max(reg_df.band_pow)"
   ]
  },
  {
   "cell_type": "code",
   "execution_count": 17,
   "id": "b1f52041",
   "metadata": {},
   "outputs": [
    {
     "data": {
      "text/plain": [
       "-0.9728674349574576"
      ]
     },
     "execution_count": 17,
     "metadata": {},
     "output_type": "execute_result"
    }
   ],
   "source": [
    "np.min(reg_df.band_pow)"
   ]
  },
  {
   "cell_type": "markdown",
   "id": "b10cafdd",
   "metadata": {},
   "source": [
    "# POW ~ Outcome Vars Regressions"
   ]
  },
  {
   "cell_type": "code",
   "execution_count": 18,
   "id": "709a65f9",
   "metadata": {},
   "outputs": [],
   "source": [
    "outcome_var  = 'band_pow'\n",
    "rand_eff_var = 'unique_reref_ch'"
   ]
  },
  {
   "cell_type": "code",
   "execution_count": 19,
   "id": "1ee247bf",
   "metadata": {},
   "outputs": [
    {
     "name": "stdout",
     "output_type": "stream",
     "text": [
      "               Mixed Linear Model Regression Results\n",
      "===================================================================\n",
      "Model:                MixedLM    Dependent Variable:    band_pow   \n",
      "No. Observations:     244112     Method:                ML         \n",
      "No. Groups:           1776       Scale:                 0.1216     \n",
      "Min. group size:      65         Log-Likelihood:        -91437.6916\n",
      "Max. group size:      148        Converged:             Yes        \n",
      "Mean group size:      137.5                                        \n",
      "-------------------------------------------------------------------\n",
      "                        Coef.  Std.Err.    z    P>|z| [0.025 0.975]\n",
      "-------------------------------------------------------------------\n",
      "Intercept               -0.044    0.002 -21.149 0.000 -0.048 -0.040\n",
      "decisionCPE             -0.003    0.002  -1.592 0.111 -0.006  0.001\n",
      "Group Var                0.007    0.001                            \n",
      "Group x decisionCPE Cov  0.000    0.000                            \n",
      "decisionCPE Var          0.001    0.000                            \n",
      "===================================================================\n",
      "\n"
     ]
    },
    {
     "data": {
      "text/plain": [
       "182949.81548285435"
      ]
     },
     "execution_count": 19,
     "metadata": {},
     "output_type": "execute_result"
    }
   ],
   "source": [
    "final_vars   = ['decisionCPE']\n",
    "final_fit = fit_mixed_model(reg_df,final_vars,outcome_var,rand_eff_var,reml=False)\n",
    "print(final_fit.summary())\n",
    "final_fit.bic  "
   ]
  },
  {
   "cell_type": "code",
   "execution_count": 20,
   "id": "2efd153c",
   "metadata": {},
   "outputs": [
    {
     "name": "stdout",
     "output_type": "stream",
     "text": [
      "               Mixed Linear Model Regression Results\n",
      "===================================================================\n",
      "Model:                MixedLM    Dependent Variable:    band_pow   \n",
      "No. Observations:     244112     Method:                ML         \n",
      "No. Groups:           1776       Scale:                 0.1214     \n",
      "Min. group size:      65         Log-Likelihood:        -91364.6600\n",
      "Max. group size:      148        Converged:             Yes        \n",
      "Mean group size:      137.5                                        \n",
      "-------------------------------------------------------------------\n",
      "                        Coef.  Std.Err.    z    P>|z| [0.025 0.975]\n",
      "-------------------------------------------------------------------\n",
      "Intercept               -0.044    0.002 -21.146 0.000 -0.048 -0.040\n",
      "RPE                     -0.002    0.002  -0.778 0.436 -0.006  0.003\n",
      "decisionCPE             -0.001    0.002  -0.527 0.598 -0.005  0.003\n",
      "Group Var                0.007    0.001                            \n",
      "Group x RPE Cov         -0.001    0.001                            \n",
      "RPE Var                  0.002    0.001                            \n",
      "Group x decisionCPE Cov  0.001    0.001                            \n",
      "RPE x decisionCPE Cov   -0.000    0.001                            \n",
      "decisionCPE Var          0.001    0.001                            \n",
      "===================================================================\n",
      "\n"
     ]
    },
    {
     "data": {
      "text/plain": [
       "182853.37388038056"
      ]
     },
     "execution_count": 20,
     "metadata": {},
     "output_type": "execute_result"
    }
   ],
   "source": [
    "final_vars   = ['RPE','decisionCPE']\n",
    "final_fit = fit_mixed_model(reg_df,final_vars,outcome_var,rand_eff_var,reml=False)\n",
    "print(final_fit.summary())\n",
    "final_fit.bic  "
   ]
  },
  {
   "cell_type": "code",
   "execution_count": 21,
   "id": "1955df2f",
   "metadata": {},
   "outputs": [
    {
     "name": "stdout",
     "output_type": "stream",
     "text": [
      "                Mixed Linear Model Regression Results\n",
      "=====================================================================\n",
      "Model:                MixedLM     Dependent Variable:     band_pow   \n",
      "No. Observations:     244112      Method:                 ML         \n",
      "No. Groups:           1776        Scale:                  0.1212     \n",
      "Min. group size:      65          Log-Likelihood:         -91314.8485\n",
      "Max. group size:      148         Converged:              Yes        \n",
      "Mean group size:      137.5                                          \n",
      "---------------------------------------------------------------------\n",
      "                          Coef.  Std.Err.    z    P>|z| [0.025 0.975]\n",
      "---------------------------------------------------------------------\n",
      "Intercept                 -0.044    0.002 -21.140 0.000 -0.048 -0.040\n",
      "TrialEV                   -0.007    0.002  -4.295 0.000 -0.010 -0.004\n",
      "RPE                       -0.002    0.002  -0.686 0.493 -0.006  0.003\n",
      "decisionCPE               -0.001    0.002  -0.653 0.514 -0.005  0.003\n",
      "Group Var                  0.007    0.001                            \n",
      "Group x TrialEV Cov       -0.000    0.000                            \n",
      "TrialEV Var                0.001    0.000                            \n",
      "Group x RPE Cov           -0.001    0.001                            \n",
      "TrialEV x RPE Cov          0.001    0.000                            \n",
      "RPE Var                    0.002    0.001                            \n",
      "Group x decisionCPE Cov    0.001    0.001                            \n",
      "TrialEV x decisionCPE Cov -0.001    0.000                            \n",
      "RPE x decisionCPE Cov     -0.000    0.001                            \n",
      "decisionCPE Var            0.001    0.001                            \n",
      "=====================================================================\n",
      "\n"
     ]
    },
    {
     "data": {
      "text/plain": [
       "182815.7776770072"
      ]
     },
     "execution_count": 21,
     "metadata": {},
     "output_type": "execute_result"
    }
   ],
   "source": [
    "final_vars   = ['TrialEV','RPE','decisionCPE']\n",
    "final_fit = fit_mixed_model(reg_df,final_vars,outcome_var,rand_eff_var,reml=False)\n",
    "print(final_fit.summary())\n",
    "final_fit.bic  "
   ]
  },
  {
   "cell_type": "code",
   "execution_count": 22,
   "id": "a0e7453d",
   "metadata": {},
   "outputs": [
    {
     "name": "stdout",
     "output_type": "stream",
     "text": [
      "                        Mixed Linear Model Regression Results\n",
      "=====================================================================================\n",
      "Model:                      MixedLM          Dependent Variable:          band_pow   \n",
      "No. Observations:           244112           Method:                      ML         \n",
      "No. Groups:                 1776             Scale:                       0.1193     \n",
      "Min. group size:            65               Log-Likelihood:              -90567.0336\n",
      "Max. group size:            148              Converged:                   Yes        \n",
      "Mean group size:            137.5                                                    \n",
      "-------------------------------------------------------------------------------------\n",
      "                                          Coef.  Std.Err.    z    P>|z| [0.025 0.975]\n",
      "-------------------------------------------------------------------------------------\n",
      "Intercept                                 -0.046    0.002 -20.682 0.000 -0.050 -0.042\n",
      "C(GambleChoice)[T.safe]                   -0.000    0.002  -0.064 0.949 -0.004  0.004\n",
      "TotalProfit                                0.004    0.002   1.627 0.104 -0.001  0.008\n",
      "decisionCPE                               -0.003    0.002  -1.598 0.110 -0.006  0.001\n",
      "Group Var                                  0.007    0.001                            \n",
      "Group x C(GambleChoice)[T.safe] Cov       -0.001    0.001                            \n",
      "C(GambleChoice)[T.safe] Var                0.004    0.001                            \n",
      "Group x TotalProfit Cov                   -0.001    0.001                            \n",
      "C(GambleChoice)[T.safe] x TotalProfit Cov -0.000    0.001                            \n",
      "TotalProfit Var                            0.005    0.001                            \n",
      "Group x decisionCPE Cov                    0.000    0.000                            \n",
      "C(GambleChoice)[T.safe] x decisionCPE Cov  0.000    0.000                            \n",
      "TotalProfit x decisionCPE Cov             -0.001    0.000                            \n",
      "decisionCPE Var                            0.001    0.000                            \n",
      "=====================================================================================\n",
      "\n"
     ]
    },
    {
     "data": {
      "text/plain": [
       "181320.14792638336"
      ]
     },
     "execution_count": 22,
     "metadata": {},
     "output_type": "execute_result"
    }
   ],
   "source": [
    "final_vars   = ['C(GambleChoice)', 'TotalProfit', 'decisionCPE']\n",
    "final_fit = fit_mixed_model(reg_df,final_vars,outcome_var,rand_eff_var,reml=False)\n",
    "print(final_fit.summary())\n",
    "final_fit.bic  "
   ]
  },
  {
   "cell_type": "code",
   "execution_count": 23,
   "id": "867371b4",
   "metadata": {},
   "outputs": [
    {
     "name": "stdout",
     "output_type": "stream",
     "text": [
      "                          Mixed Linear Model Regression Results\n",
      "==========================================================================================\n",
      "Model:                       MixedLM            Dependent Variable:            band_pow   \n",
      "No. Observations:            244112             Method:                        ML         \n",
      "No. Groups:                  1776               Scale:                         0.1197     \n",
      "Min. group size:             65                 Log-Likelihood:                -90744.6200\n",
      "Max. group size:             148                Converged:                     Yes        \n",
      "Mean group size:             137.5                                                        \n",
      "------------------------------------------------------------------------------------------\n",
      "                                               Coef.  Std.Err.    z    P>|z| [0.025 0.975]\n",
      "------------------------------------------------------------------------------------------\n",
      "Intercept                                      -0.038    0.002 -15.538 0.000 -0.043 -0.033\n",
      "C(TrialType)[T.loss]                           -0.007    0.002  -3.201 0.001 -0.011 -0.003\n",
      "C(TrialType)[T.mix]                            -0.011    0.002  -5.326 0.000 -0.015 -0.007\n",
      "TrialEV                                        -0.010    0.002  -5.288 0.000 -0.013 -0.006\n",
      "TotalProfit                                     0.003    0.002   1.501 0.133 -0.001  0.008\n",
      "decisionCPE                                    -0.003    0.002  -1.800 0.072 -0.006  0.000\n",
      "Group Var                                       0.007    0.001                            \n",
      "Group x C(TrialType)[T.loss] Cov               -0.001    0.001                            \n",
      "C(TrialType)[T.loss] Var                        0.001    0.001                            \n",
      "Group x C(TrialType)[T.mix] Cov                -0.001    0.001                            \n",
      "C(TrialType)[T.loss] x C(TrialType)[T.mix] Cov  0.001    0.001                            \n",
      "C(TrialType)[T.mix] Var                         0.002    0.001                            \n",
      "Group x TrialEV Cov                            -0.001    0.001                            \n",
      "C(TrialType)[T.loss] x TrialEV Cov              0.000    0.001                            \n",
      "C(TrialType)[T.mix] x TrialEV Cov               0.000    0.000                            \n",
      "TrialEV Var                                     0.001    0.001                            \n",
      "Group x TotalProfit Cov                        -0.001    0.001                            \n",
      "C(TrialType)[T.loss] x TotalProfit Cov          0.001    0.001                            \n",
      "C(TrialType)[T.mix] x TotalProfit Cov           0.001    0.001                            \n",
      "TrialEV x TotalProfit Cov                      -0.000    0.001                            \n",
      "TotalProfit Var                                 0.006    0.001                            \n",
      "Group x decisionCPE Cov                         0.001    0.001                            \n",
      "C(TrialType)[T.loss] x decisionCPE Cov         -0.001    0.000                            \n",
      "C(TrialType)[T.mix] x decisionCPE Cov          -0.001    0.000                            \n",
      "TrialEV x decisionCPE Cov                      -0.000    0.000                            \n",
      "TotalProfit x decisionCPE Cov                  -0.001    0.000                            \n",
      "decisionCPE Var                                 0.001    0.000                            \n",
      "==========================================================================================\n",
      "\n"
     ]
    },
    {
     "data": {
      "text/plain": [
       "181836.5907498339"
      ]
     },
     "execution_count": 23,
     "metadata": {},
     "output_type": "execute_result"
    }
   ],
   "source": [
    "final_vars   = ['C(TrialType)','TrialEV', 'TotalProfit', 'decisionCPE']\n",
    "final_fit = fit_mixed_model(reg_df,final_vars,outcome_var,rand_eff_var,reml=False)\n",
    "print(final_fit.summary())\n",
    "final_fit.bic    "
   ]
  },
  {
   "cell_type": "code",
   "execution_count": 24,
   "id": "9cfa698e",
   "metadata": {
    "scrolled": false
   },
   "outputs": [
    {
     "name": "stdout",
     "output_type": "stream",
     "text": [
      "                        Mixed Linear Model Regression Results\n",
      "=====================================================================================\n",
      "Model:                      MixedLM          Dependent Variable:          band_pow   \n",
      "No. Observations:           244112           Method:                      ML         \n",
      "No. Groups:                 1776             Scale:                       0.1193     \n",
      "Min. group size:            65               Log-Likelihood:              -90519.5891\n",
      "Max. group size:            148              Converged:                   Yes        \n",
      "Mean group size:            137.5                                                    \n",
      "-------------------------------------------------------------------------------------\n",
      "                                          Coef.  Std.Err.    z    P>|z| [0.025 0.975]\n",
      "-------------------------------------------------------------------------------------\n",
      "Intercept                                 -0.045    0.002 -20.015 0.000 -0.049 -0.040\n",
      "C(GambleChoice)[T.safe]                   -0.002    0.002  -1.174 0.240 -0.007  0.002\n",
      "TrialEV                                   -0.007    0.002  -4.473 0.000 -0.010 -0.004\n",
      "TotalProfit                                0.004    0.002   1.853 0.064 -0.000  0.009\n",
      "decisionCPE                               -0.003    0.002  -1.714 0.087 -0.006  0.000\n",
      "Group Var                                  0.007    0.001                            \n",
      "Group x C(GambleChoice)[T.safe] Cov       -0.001    0.001                            \n",
      "C(GambleChoice)[T.safe] Var                0.004    0.001                            \n",
      "Group x TrialEV Cov                        0.000    0.000                            \n",
      "C(GambleChoice)[T.safe] x TrialEV Cov     -0.001    0.000                            \n",
      "TrialEV Var                                0.000    0.000                            \n",
      "Group x TotalProfit Cov                   -0.000    0.001                            \n",
      "C(GambleChoice)[T.safe] x TotalProfit Cov -0.000    0.001                            \n",
      "TrialEV x TotalProfit Cov                 -0.001    0.000                            \n",
      "TotalProfit Var                            0.006    0.001                            \n",
      "Group x decisionCPE Cov                    0.000    0.000                            \n",
      "C(GambleChoice)[T.safe] x decisionCPE Cov  0.000    0.000                            \n",
      "TrialEV x decisionCPE Cov                  0.000    0.000                            \n",
      "TotalProfit x decisionCPE Cov             -0.001    0.000                            \n",
      "decisionCPE Var                            0.001    0.000                            \n",
      "=====================================================================================\n",
      "\n"
     ]
    },
    {
     "data": {
      "text/plain": [
       "181299.69131093347"
      ]
     },
     "execution_count": 24,
     "metadata": {},
     "output_type": "execute_result"
    }
   ],
   "source": [
    "final_vars   = ['C(GambleChoice)', 'TrialEV','TotalProfit', 'decisionCPE']\n",
    "final_fit = fit_mixed_model(reg_df,final_vars,outcome_var,rand_eff_var,reml=False)\n",
    "print(final_fit.summary())\n",
    "final_fit.bic  "
   ]
  },
  {
   "cell_type": "code",
   "execution_count": 25,
   "id": "63284933",
   "metadata": {},
   "outputs": [
    {
     "name": "stdout",
     "output_type": "stream",
     "text": [
      "                        Mixed Linear Model Regression Results\n",
      "=====================================================================================\n",
      "Model:                      MixedLM          Dependent Variable:          band_pow   \n",
      "No. Observations:           244112           Method:                      ML         \n",
      "No. Groups:                 1776             Scale:                       0.1206     \n",
      "Min. group size:            65               Log-Likelihood:              -91095.0638\n",
      "Max. group size:            148              Converged:                   Yes        \n",
      "Mean group size:            137.5                                                    \n",
      "-------------------------------------------------------------------------------------\n",
      "                                          Coef.  Std.Err.    z    P>|z| [0.025 0.975]\n",
      "-------------------------------------------------------------------------------------\n",
      "Intercept                                 -0.045    0.002 -20.117 0.000 -0.050 -0.041\n",
      "C(GambleChoice)[T.safe]                   -0.002    0.002  -0.804 0.421 -0.006  0.002\n",
      "TrialEV                                   -0.007    0.002  -4.748 0.000 -0.010 -0.004\n",
      "decisionCPE                               -0.002    0.002  -1.511 0.131 -0.006  0.001\n",
      "Group Var                                  0.007    0.001                            \n",
      "Group x C(GambleChoice)[T.safe] Cov       -0.001    0.001                            \n",
      "C(GambleChoice)[T.safe] Var                0.004    0.001                            \n",
      "Group x TrialEV Cov                        0.000    0.000                            \n",
      "C(GambleChoice)[T.safe] x TrialEV Cov     -0.001    0.000                            \n",
      "TrialEV Var                                0.000    0.000                            \n",
      "Group x decisionCPE Cov                    0.000    0.000                            \n",
      "C(GambleChoice)[T.safe] x decisionCPE Cov  0.000    0.000                            \n",
      "TrialEV x decisionCPE Cov                  0.000    0.000                            \n",
      "decisionCPE Var                            0.001    0.000                            \n",
      "=====================================================================================\n",
      "\n"
     ]
    },
    {
     "data": {
      "text/plain": [
       "182376.20825127763"
      ]
     },
     "execution_count": 25,
     "metadata": {},
     "output_type": "execute_result"
    }
   ],
   "source": [
    "final_vars   = ['C(GambleChoice)', 'TrialEV', 'decisionCPE']\n",
    "final_fit = fit_mixed_model(reg_df,final_vars,outcome_var,rand_eff_var,reml=False)\n",
    "print(final_fit.summary())\n",
    "final_fit.bic  "
   ]
  },
  {
   "cell_type": "code",
   "execution_count": 26,
   "id": "dd3f78f0",
   "metadata": {},
   "outputs": [
    {
     "name": "stdout",
     "output_type": "stream",
     "text": [
      "                  Mixed Linear Model Regression Results\n",
      "=========================================================================\n",
      "Model:                  MixedLM      Dependent Variable:      band_pow   \n",
      "No. Observations:       244112       Method:                  ML         \n",
      "No. Groups:             1776         Scale:                   0.1200     \n",
      "Min. group size:        65           Log-Likelihood:          -90833.3067\n",
      "Max. group size:        148          Converged:               Yes        \n",
      "Mean group size:        137.5                                            \n",
      "-------------------------------------------------------------------------\n",
      "                              Coef.  Std.Err.    z    P>|z| [0.025 0.975]\n",
      "-------------------------------------------------------------------------\n",
      "Intercept                     -0.044    0.002 -21.129 0.000 -0.048 -0.040\n",
      "TrialEV                       -0.006    0.002  -3.675 0.000 -0.009 -0.003\n",
      "TotalProfit                    0.004    0.002   1.718 0.086 -0.001  0.008\n",
      "decisionCPE                   -0.003    0.002  -1.833 0.067 -0.006  0.000\n",
      "Group Var                      0.007    0.001                            \n",
      "Group x TrialEV Cov           -0.000    0.000                            \n",
      "TrialEV Var                    0.001    0.000                            \n",
      "Group x TotalProfit Cov       -0.001    0.001                            \n",
      "TrialEV x TotalProfit Cov     -0.001    0.000                            \n",
      "TotalProfit Var                0.005    0.001                            \n",
      "Group x decisionCPE Cov        0.000    0.000                            \n",
      "TrialEV x decisionCPE Cov      0.000    0.000                            \n",
      "TotalProfit x decisionCPE Cov -0.001    0.000                            \n",
      "decisionCPE Var                0.001    0.000                            \n",
      "=========================================================================\n",
      "\n"
     ]
    },
    {
     "data": {
      "text/plain": [
       "181852.69422766072"
      ]
     },
     "execution_count": 26,
     "metadata": {},
     "output_type": "execute_result"
    }
   ],
   "source": [
    "final_vars   = ['TrialEV', 'TotalProfit', 'decisionCPE']\n",
    "final_fit = fit_mixed_model(reg_df,final_vars,outcome_var,rand_eff_var,reml=False)\n",
    "print(final_fit.summary())\n",
    "final_fit.bic  "
   ]
  },
  {
   "cell_type": "code",
   "execution_count": 27,
   "id": "12ef5916",
   "metadata": {},
   "outputs": [
    {
     "name": "stdout",
     "output_type": "stream",
     "text": [
      "                        Mixed Linear Model Regression Results\n",
      "=====================================================================================\n",
      "Model:                      MixedLM          Dependent Variable:          band_pow   \n",
      "No. Observations:           244112           Method:                      ML         \n",
      "No. Groups:                 1776             Scale:                       0.1207     \n",
      "Min. group size:            65               Log-Likelihood:              -91122.5559\n",
      "Max. group size:            148              Converged:                   Yes        \n",
      "Mean group size:            137.5                                                    \n",
      "-------------------------------------------------------------------------------------\n",
      "                                          Coef.  Std.Err.    z    P>|z| [0.025 0.975]\n",
      "-------------------------------------------------------------------------------------\n",
      "Intercept                                 -0.046    0.002 -20.725 0.000 -0.051 -0.042\n",
      "C(GambleChoice)[T.safe]                    0.000    0.002   0.199 0.842 -0.004  0.005\n",
      "decisionCPE                               -0.002    0.002  -1.405 0.160 -0.006  0.001\n",
      "Group Var                                  0.007    0.001                            \n",
      "Group x C(GambleChoice)[T.safe] Cov       -0.001    0.001                            \n",
      "C(GambleChoice)[T.safe] Var                0.004    0.001                            \n",
      "Group x decisionCPE Cov                    0.000    0.000                            \n",
      "C(GambleChoice)[T.safe] x decisionCPE Cov  0.000    0.000                            \n",
      "decisionCPE Var                            0.001    0.000                            \n",
      "=====================================================================================\n",
      "\n"
     ]
    },
    {
     "data": {
      "text/plain": [
       "182369.16567922643"
      ]
     },
     "execution_count": 27,
     "metadata": {},
     "output_type": "execute_result"
    }
   ],
   "source": [
    "final_vars   = ['C(GambleChoice)', 'decisionCPE']\n",
    "final_fit = fit_mixed_model(reg_df,final_vars,outcome_var,rand_eff_var,reml=False)\n",
    "print(final_fit.summary())\n",
    "final_fit.bic  "
   ]
  },
  {
   "cell_type": "code",
   "execution_count": 28,
   "id": "1d4c9909",
   "metadata": {},
   "outputs": [
    {
     "name": "stdout",
     "output_type": "stream",
     "text": [
      "                  Mixed Linear Model Regression Results\n",
      "=========================================================================\n",
      "Model:                  MixedLM      Dependent Variable:      band_pow   \n",
      "No. Observations:       244112       Method:                  ML         \n",
      "No. Groups:             1776         Scale:                   0.1203     \n",
      "Min. group size:        65           Log-Likelihood:          -90891.4254\n",
      "Max. group size:        148          Converged:               Yes        \n",
      "Mean group size:        137.5                                            \n",
      "-------------------------------------------------------------------------\n",
      "                              Coef.  Std.Err.    z    P>|z| [0.025 0.975]\n",
      "-------------------------------------------------------------------------\n",
      "Intercept                     -0.044    0.002 -21.144 0.000 -0.048 -0.040\n",
      "TotalProfit                    0.003    0.002   1.519 0.129 -0.001  0.008\n",
      "decisionCPE                   -0.003    0.002  -1.772 0.076 -0.006  0.000\n",
      "Group Var                      0.007    0.001                            \n",
      "Group x TotalProfit Cov       -0.001    0.001                            \n",
      "TotalProfit Var                0.005    0.001                            \n",
      "Group x decisionCPE Cov        0.000    0.000                            \n",
      "TotalProfit x decisionCPE Cov -0.001    0.000                            \n",
      "decisionCPE Var                0.001    0.000                            \n",
      "=========================================================================\n",
      "\n"
     ]
    },
    {
     "data": {
      "text/plain": [
       "181906.9046624422"
      ]
     },
     "execution_count": 28,
     "metadata": {},
     "output_type": "execute_result"
    }
   ],
   "source": [
    "final_vars   = ['TotalProfit', 'decisionCPE']\n",
    "final_fit = fit_mixed_model(reg_df,final_vars,outcome_var,rand_eff_var,reml=False)\n",
    "print(final_fit.summary())\n",
    "final_fit.bic  "
   ]
  },
  {
   "cell_type": "code",
   "execution_count": 29,
   "id": "07eca761",
   "metadata": {},
   "outputs": [
    {
     "name": "stdout",
     "output_type": "stream",
     "text": [
      "                Mixed Linear Model Regression Results\n",
      "=====================================================================\n",
      "Model:                MixedLM     Dependent Variable:     band_pow   \n",
      "No. Observations:     244112      Method:                 ML         \n",
      "No. Groups:           1776        Scale:                  0.1214     \n",
      "Min. group size:      65          Log-Likelihood:         -91397.0900\n",
      "Max. group size:      148         Converged:              Yes        \n",
      "Mean group size:      137.5                                          \n",
      "---------------------------------------------------------------------\n",
      "                          Coef.  Std.Err.    z    P>|z| [0.025 0.975]\n",
      "---------------------------------------------------------------------\n",
      "Intercept                 -0.044    0.002 -21.134 0.000 -0.048 -0.040\n",
      "TrialEV                   -0.006    0.002  -4.073 0.000 -0.010 -0.003\n",
      "decisionCPE               -0.003    0.002  -1.627 0.104 -0.006  0.001\n",
      "Group Var                  0.007    0.001                            \n",
      "Group x TrialEV Cov       -0.000    0.000                            \n",
      "TrialEV Var                0.001    0.000                            \n",
      "Group x decisionCPE Cov    0.000    0.000                            \n",
      "TrialEV x decisionCPE Cov -0.000    0.000                            \n",
      "decisionCPE Var            0.001    0.000                            \n",
      "=====================================================================\n",
      "\n"
     ]
    },
    {
     "data": {
      "text/plain": [
       "182918.23383503433"
      ]
     },
     "execution_count": 29,
     "metadata": {},
     "output_type": "execute_result"
    }
   ],
   "source": [
    "final_vars   = ['TrialEV', 'decisionCPE']\n",
    "final_fit = fit_mixed_model(reg_df,final_vars,outcome_var,rand_eff_var,reml=False)\n",
    "print(final_fit.summary())\n",
    "final_fit.bic  "
   ]
  },
  {
   "cell_type": "code",
   "execution_count": 30,
   "id": "373051aa",
   "metadata": {},
   "outputs": [
    {
     "name": "stdout",
     "output_type": "stream",
     "text": [
      "                          Mixed Linear Model Regression Results\n",
      "==========================================================================================\n",
      "Model:                       MixedLM            Dependent Variable:            band_pow   \n",
      "No. Observations:            244112             Method:                        ML         \n",
      "No. Groups:                  1776               Scale:                         0.1214     \n",
      "Min. group size:             65                 Log-Likelihood:                -91382.1371\n",
      "Max. group size:             148                Converged:                     Yes        \n",
      "Mean group size:             137.5                                                        \n",
      "------------------------------------------------------------------------------------------\n",
      "                                               Coef.  Std.Err.    z    P>|z| [0.025 0.975]\n",
      "------------------------------------------------------------------------------------------\n",
      "Intercept                                      -0.042    0.002 -18.036 0.000 -0.047 -0.037\n",
      "C(TrialType)[T.loss]                           -0.000    0.002  -0.238 0.811 -0.004  0.003\n",
      "C(TrialType)[T.mix]                            -0.006    0.002  -2.942 0.003 -0.009 -0.002\n",
      "decisionCPE                                    -0.003    0.002  -1.545 0.122 -0.006  0.001\n",
      "Group Var                                       0.007    0.001                            \n",
      "Group x C(TrialType)[T.loss] Cov               -0.000    0.001                            \n",
      "C(TrialType)[T.loss] Var                        0.001    0.001                            \n",
      "Group x C(TrialType)[T.mix] Cov                -0.001    0.001                            \n",
      "C(TrialType)[T.loss] x C(TrialType)[T.mix] Cov  0.001    0.001                            \n",
      "C(TrialType)[T.mix] Var                         0.001    0.001                            \n",
      "Group x decisionCPE Cov                         0.001    0.000                            \n",
      "C(TrialType)[T.loss] x decisionCPE Cov         -0.001    0.000                            \n",
      "C(TrialType)[T.mix] x decisionCPE Cov          -0.000    0.000                            \n",
      "decisionCPE Var                                 0.001    0.000                            \n",
      "==========================================================================================\n",
      "\n"
     ]
    },
    {
     "data": {
      "text/plain": [
       "182950.35499375145"
      ]
     },
     "execution_count": 30,
     "metadata": {},
     "output_type": "execute_result"
    }
   ],
   "source": [
    "final_vars   = ['C(TrialType)','decisionCPE']\n",
    "final_fit = fit_mixed_model(reg_df,final_vars,outcome_var,rand_eff_var,reml=False)\n",
    "print(final_fit.summary())\n",
    "final_fit.bic    "
   ]
  },
  {
   "cell_type": "code",
   "execution_count": 31,
   "id": "f9522296",
   "metadata": {},
   "outputs": [
    {
     "name": "stdout",
     "output_type": "stream",
     "text": [
      "                          Mixed Linear Model Regression Results\n",
      "==========================================================================================\n",
      "Model:                       MixedLM            Dependent Variable:            band_pow   \n",
      "No. Observations:            244112             Method:                        ML         \n",
      "No. Groups:                  1776               Scale:                         0.1199     \n",
      "Min. group size:             65                 Log-Likelihood:                -90788.9585\n",
      "Max. group size:             148                Converged:                     Yes        \n",
      "Mean group size:             137.5                                                        \n",
      "------------------------------------------------------------------------------------------\n",
      "                                               Coef.  Std.Err.    z    P>|z| [0.025 0.975]\n",
      "------------------------------------------------------------------------------------------\n",
      "Intercept                                      -0.041    0.002 -17.611 0.000 -0.046 -0.037\n",
      "C(TrialType)[T.loss]                           -0.001    0.002  -0.620 0.535 -0.005  0.003\n",
      "C(TrialType)[T.mix]                            -0.007    0.002  -3.613 0.000 -0.011 -0.003\n",
      "TotalProfit                                     0.003    0.002   1.379 0.168 -0.001  0.008\n",
      "decisionCPE                                    -0.003    0.002  -1.684 0.092 -0.006  0.000\n",
      "Group Var                                       0.007    0.001                            \n",
      "Group x C(TrialType)[T.loss] Cov               -0.000    0.001                            \n",
      "C(TrialType)[T.loss] Var                        0.001    0.001                            \n",
      "Group x C(TrialType)[T.mix] Cov                -0.001    0.001                            \n",
      "C(TrialType)[T.loss] x C(TrialType)[T.mix] Cov  0.001    0.001                            \n",
      "C(TrialType)[T.mix] Var                         0.002    0.001                            \n",
      "Group x TotalProfit Cov                        -0.002    0.001                            \n",
      "C(TrialType)[T.loss] x TotalProfit Cov          0.001    0.001                            \n",
      "C(TrialType)[T.mix] x TotalProfit Cov           0.001    0.001                            \n",
      "TotalProfit Var                                 0.006    0.001                            \n",
      "Group x decisionCPE Cov                         0.001    0.000                            \n",
      "C(TrialType)[T.loss] x decisionCPE Cov         -0.001    0.000                            \n",
      "C(TrialType)[T.mix] x decisionCPE Cov          -0.001    0.000                            \n",
      "TotalProfit x decisionCPE Cov                  -0.001    0.000                            \n",
      "decisionCPE Var                                 0.001    0.000                            \n",
      "==========================================================================================\n",
      "\n"
     ]
    },
    {
     "data": {
      "text/plain": [
       "181838.4299835946"
      ]
     },
     "execution_count": 31,
     "metadata": {},
     "output_type": "execute_result"
    }
   ],
   "source": [
    "final_vars   = ['C(TrialType)','TotalProfit', 'decisionCPE']\n",
    "final_fit = fit_mixed_model(reg_df,final_vars,outcome_var,rand_eff_var,reml=False)\n",
    "print(final_fit.summary())\n",
    "final_fit.bic    "
   ]
  },
  {
   "cell_type": "code",
   "execution_count": 32,
   "id": "7fb47161",
   "metadata": {},
   "outputs": [
    {
     "name": "stdout",
     "output_type": "stream",
     "text": [
      "                          Mixed Linear Model Regression Results\n",
      "==========================================================================================\n",
      "Model:                       MixedLM            Dependent Variable:            band_pow   \n",
      "No. Observations:            244112             Method:                        ML         \n",
      "No. Groups:                  1776               Scale:                         0.1212     \n",
      "Min. group size:             65                 Log-Likelihood:                -91339.8689\n",
      "Max. group size:             148                Converged:                     Yes        \n",
      "Mean group size:             137.5                                                        \n",
      "------------------------------------------------------------------------------------------\n",
      "                                               Coef.  Std.Err.    z    P>|z| [0.025 0.975]\n",
      "------------------------------------------------------------------------------------------\n",
      "Intercept                                      -0.039    0.002 -15.878 0.000 -0.043 -0.034\n",
      "C(TrialType)[T.loss]                           -0.007    0.002  -3.031 0.002 -0.011 -0.002\n",
      "C(TrialType)[T.mix]                            -0.010    0.002  -4.824 0.000 -0.014 -0.006\n",
      "TrialEV                                        -0.010    0.002  -5.525 0.000 -0.013 -0.006\n",
      "decisionCPE                                    -0.003    0.002  -1.650 0.099 -0.006  0.001\n",
      "Group Var                                       0.007    0.001                            \n",
      "Group x C(TrialType)[T.loss] Cov               -0.001    0.001                            \n",
      "C(TrialType)[T.loss] Var                        0.001    0.001                            \n",
      "Group x C(TrialType)[T.mix] Cov                -0.001    0.001                            \n",
      "C(TrialType)[T.loss] x C(TrialType)[T.mix] Cov  0.001    0.001                            \n",
      "C(TrialType)[T.mix] Var                         0.001    0.001                            \n",
      "Group x TrialEV Cov                            -0.000    0.001                            \n",
      "C(TrialType)[T.loss] x TrialEV Cov              0.000    0.001                            \n",
      "C(TrialType)[T.mix] x TrialEV Cov               0.000    0.000                            \n",
      "TrialEV Var                                     0.001    0.001                            \n",
      "Group x decisionCPE Cov                         0.001    0.000                            \n",
      "C(TrialType)[T.loss] x decisionCPE Cov         -0.001    0.000                            \n",
      "C(TrialType)[T.mix] x decisionCPE Cov          -0.001    0.000                            \n",
      "TrialEV x decisionCPE Cov                      -0.000    0.000                            \n",
      "decisionCPE Var                                 0.001    0.000                            \n",
      "==========================================================================================\n",
      "\n"
     ]
    },
    {
     "data": {
      "text/plain": [
       "182940.25087158583"
      ]
     },
     "execution_count": 32,
     "metadata": {},
     "output_type": "execute_result"
    }
   ],
   "source": [
    "final_vars   = ['C(TrialType)','TrialEV',  'decisionCPE']\n",
    "final_fit = fit_mixed_model(reg_df,final_vars,outcome_var,rand_eff_var,reml=False)\n",
    "print(final_fit.summary())\n",
    "final_fit.bic    "
   ]
  },
  {
   "cell_type": "markdown",
   "id": "2684e598",
   "metadata": {},
   "source": [
    "\n",
    "## ROI REGRESSIONS\n"
   ]
  },
  {
   "cell_type": "code",
   "execution_count": null,
   "id": "70b21e54",
   "metadata": {},
   "outputs": [],
   "source": [
    "# test_rois = ['dlpfc','vlpfc','dmpfc','ofc','ains','pins', 'acc','hpc','amy','motor']\n"
   ]
  },
  {
   "cell_type": "code",
   "execution_count": 45,
   "id": "fe32cee2",
   "metadata": {},
   "outputs": [],
   "source": [
    "outcome_var  = 'band_pow'\n",
    "rand_eff_var = 'unique_reref_ch'\n",
    "final_vars   = ['C(GambleChoice)','TrialEV','TotalProfit','decisionCPE']\n",
    "# final_vars   = ['C(GambleChoice)','TotalProfit','decisionCPE']"
   ]
  },
  {
   "cell_type": "code",
   "execution_count": 46,
   "id": "d4010256",
   "metadata": {},
   "outputs": [],
   "source": [
    "roi_fit_dict = {f'{roi}':fit_mixed_model(reg_df[reg_df.roi==roi],\n",
    "                                        final_vars,outcome_var,rand_eff_var,reml=False) for roi in reg_df.roi.unique().tolist()}\n",
    "\n",
    "roi_fit_results = []\n",
    "\n",
    "for roi in list(roi_fit_dict.keys()):\n",
    "    roi_fit = mixed_eff_results_df(roi_fit_dict[roi],reg_df[reg_df.roi==roi])\n",
    "    roi_fit_results.append(roi_fit)\n",
    "    \n",
    "roi_fit_results = pd.concat(roi_fit_results).reset_index(drop=True)\n",
    "\n"
   ]
  },
  {
   "cell_type": "code",
   "execution_count": 47,
   "id": "03cab245",
   "metadata": {},
   "outputs": [
    {
     "data": {
      "text/html": [
       "<div>\n",
       "<style scoped>\n",
       "    .dataframe tbody tr th:only-of-type {\n",
       "        vertical-align: middle;\n",
       "    }\n",
       "\n",
       "    .dataframe tbody tr th {\n",
       "        vertical-align: top;\n",
       "    }\n",
       "\n",
       "    .dataframe thead th {\n",
       "        text-align: right;\n",
       "    }\n",
       "</style>\n",
       "<table border=\"1\" class=\"dataframe\">\n",
       "  <thead>\n",
       "    <tr style=\"text-align: right;\">\n",
       "      <th></th>\n",
       "      <th>unique_reref_ch</th>\n",
       "      <th>subj_id</th>\n",
       "      <th>roi</th>\n",
       "      <th>bdi</th>\n",
       "      <th>raw_Intercept</th>\n",
       "      <th>raw_GambleChoice</th>\n",
       "      <th>raw_TrialEV</th>\n",
       "      <th>raw_TotalProfit</th>\n",
       "      <th>raw_decisionCPE</th>\n",
       "      <th>Intercept</th>\n",
       "      <th>GambleChoice</th>\n",
       "      <th>TrialEV</th>\n",
       "      <th>TotalProfit</th>\n",
       "      <th>decisionCPE</th>\n",
       "    </tr>\n",
       "  </thead>\n",
       "  <tbody>\n",
       "    <tr>\n",
       "      <th>0</th>\n",
       "      <td>MS025_lcmip1-lcmip2</td>\n",
       "      <td>MS025</td>\n",
       "      <td>thalamus</td>\n",
       "      <td>10</td>\n",
       "      <td>-0.033780</td>\n",
       "      <td>0.067196</td>\n",
       "      <td>0.018343</td>\n",
       "      <td>0.016774</td>\n",
       "      <td>-0.007281</td>\n",
       "      <td>-0.066885</td>\n",
       "      <td>0.040399</td>\n",
       "      <td>0.013401</td>\n",
       "      <td>0.036728</td>\n",
       "      <td>-0.017459</td>\n",
       "    </tr>\n",
       "    <tr>\n",
       "      <th>1</th>\n",
       "      <td>MS025_lcmip2-lcmip3</td>\n",
       "      <td>MS025</td>\n",
       "      <td>thalamus</td>\n",
       "      <td>10</td>\n",
       "      <td>-0.060736</td>\n",
       "      <td>0.082541</td>\n",
       "      <td>0.022075</td>\n",
       "      <td>-0.001485</td>\n",
       "      <td>-0.018864</td>\n",
       "      <td>-0.093841</td>\n",
       "      <td>0.055744</td>\n",
       "      <td>0.017133</td>\n",
       "      <td>0.018469</td>\n",
       "      <td>-0.029041</td>\n",
       "    </tr>\n",
       "    <tr>\n",
       "      <th>2</th>\n",
       "      <td>MS025_lcmip3-lcmip4</td>\n",
       "      <td>MS025</td>\n",
       "      <td>thalamus</td>\n",
       "      <td>10</td>\n",
       "      <td>-0.127052</td>\n",
       "      <td>0.021855</td>\n",
       "      <td>0.000525</td>\n",
       "      <td>-0.000737</td>\n",
       "      <td>-0.018905</td>\n",
       "      <td>-0.160157</td>\n",
       "      <td>-0.004942</td>\n",
       "      <td>-0.004417</td>\n",
       "      <td>0.019217</td>\n",
       "      <td>-0.029083</td>\n",
       "    </tr>\n",
       "    <tr>\n",
       "      <th>3</th>\n",
       "      <td>MS025_lcmip4-lcmip5</td>\n",
       "      <td>MS025</td>\n",
       "      <td>thalamus</td>\n",
       "      <td>10</td>\n",
       "      <td>-0.112102</td>\n",
       "      <td>0.066562</td>\n",
       "      <td>0.015255</td>\n",
       "      <td>0.040612</td>\n",
       "      <td>-0.010352</td>\n",
       "      <td>-0.145207</td>\n",
       "      <td>0.039765</td>\n",
       "      <td>0.010313</td>\n",
       "      <td>0.060566</td>\n",
       "      <td>-0.020530</td>\n",
       "    </tr>\n",
       "    <tr>\n",
       "      <th>4</th>\n",
       "      <td>MS025_lcmip5-lcmip6</td>\n",
       "      <td>MS025</td>\n",
       "      <td>thalamus</td>\n",
       "      <td>10</td>\n",
       "      <td>-0.069541</td>\n",
       "      <td>0.050937</td>\n",
       "      <td>0.012234</td>\n",
       "      <td>0.020482</td>\n",
       "      <td>-0.009011</td>\n",
       "      <td>-0.102646</td>\n",
       "      <td>0.024140</td>\n",
       "      <td>0.007291</td>\n",
       "      <td>0.040436</td>\n",
       "      <td>-0.019188</td>\n",
       "    </tr>\n",
       "    <tr>\n",
       "      <th>5</th>\n",
       "      <td>MS025_rcmip1-rcmip2</td>\n",
       "      <td>MS025</td>\n",
       "      <td>thalamus</td>\n",
       "      <td>10</td>\n",
       "      <td>0.081463</td>\n",
       "      <td>0.033199</td>\n",
       "      <td>0.013663</td>\n",
       "      <td>-0.016615</td>\n",
       "      <td>0.000857</td>\n",
       "      <td>0.048358</td>\n",
       "      <td>0.006401</td>\n",
       "      <td>0.008721</td>\n",
       "      <td>0.003339</td>\n",
       "      <td>-0.009321</td>\n",
       "    </tr>\n",
       "    <tr>\n",
       "      <th>6</th>\n",
       "      <td>MS025_rcmip2-rcmip3</td>\n",
       "      <td>MS025</td>\n",
       "      <td>thalamus</td>\n",
       "      <td>10</td>\n",
       "      <td>-0.010787</td>\n",
       "      <td>0.006843</td>\n",
       "      <td>0.001023</td>\n",
       "      <td>0.008576</td>\n",
       "      <td>0.001074</td>\n",
       "      <td>-0.043892</td>\n",
       "      <td>-0.019954</td>\n",
       "      <td>-0.003920</td>\n",
       "      <td>0.028530</td>\n",
       "      <td>-0.009104</td>\n",
       "    </tr>\n",
       "    <tr>\n",
       "      <th>7</th>\n",
       "      <td>MS025_rcmip3-rcmip4</td>\n",
       "      <td>MS025</td>\n",
       "      <td>thalamus</td>\n",
       "      <td>10</td>\n",
       "      <td>-0.180468</td>\n",
       "      <td>-0.047311</td>\n",
       "      <td>-0.023923</td>\n",
       "      <td>-0.023558</td>\n",
       "      <td>-0.022674</td>\n",
       "      <td>-0.213573</td>\n",
       "      <td>-0.074108</td>\n",
       "      <td>-0.028865</td>\n",
       "      <td>-0.003604</td>\n",
       "      <td>-0.032852</td>\n",
       "    </tr>\n",
       "    <tr>\n",
       "      <th>8</th>\n",
       "      <td>MS025_rcmip4-rcmip5</td>\n",
       "      <td>MS025</td>\n",
       "      <td>thalamus</td>\n",
       "      <td>10</td>\n",
       "      <td>-0.033321</td>\n",
       "      <td>-0.003496</td>\n",
       "      <td>-0.002590</td>\n",
       "      <td>0.001925</td>\n",
       "      <td>-0.003164</td>\n",
       "      <td>-0.066426</td>\n",
       "      <td>-0.030293</td>\n",
       "      <td>-0.007532</td>\n",
       "      <td>0.021879</td>\n",
       "      <td>-0.013341</td>\n",
       "    </tr>\n",
       "    <tr>\n",
       "      <th>9</th>\n",
       "      <td>MS025_rcmip5-rcmip6</td>\n",
       "      <td>MS025</td>\n",
       "      <td>thalamus</td>\n",
       "      <td>10</td>\n",
       "      <td>0.049230</td>\n",
       "      <td>-0.001133</td>\n",
       "      <td>0.001485</td>\n",
       "      <td>-0.007412</td>\n",
       "      <td>0.004528</td>\n",
       "      <td>0.016125</td>\n",
       "      <td>-0.027930</td>\n",
       "      <td>-0.003457</td>\n",
       "      <td>0.012542</td>\n",
       "      <td>-0.005649</td>\n",
       "    </tr>\n",
       "    <tr>\n",
       "      <th>10</th>\n",
       "      <td>MS028_lcmmm1-lcmmm2</td>\n",
       "      <td>MS028</td>\n",
       "      <td>thalamus</td>\n",
       "      <td>13</td>\n",
       "      <td>-0.278014</td>\n",
       "      <td>-0.049133</td>\n",
       "      <td>-0.029486</td>\n",
       "      <td>-0.041935</td>\n",
       "      <td>-0.040065</td>\n",
       "      <td>-0.311119</td>\n",
       "      <td>-0.075931</td>\n",
       "      <td>-0.034428</td>\n",
       "      <td>-0.021981</td>\n",
       "      <td>-0.050242</td>\n",
       "    </tr>\n",
       "    <tr>\n",
       "      <th>11</th>\n",
       "      <td>MS028_lcmmm2-lcmmm3</td>\n",
       "      <td>MS028</td>\n",
       "      <td>thalamus</td>\n",
       "      <td>13</td>\n",
       "      <td>-0.026639</td>\n",
       "      <td>-0.014181</td>\n",
       "      <td>-0.006367</td>\n",
       "      <td>-0.040333</td>\n",
       "      <td>-0.013336</td>\n",
       "      <td>-0.059744</td>\n",
       "      <td>-0.040978</td>\n",
       "      <td>-0.011310</td>\n",
       "      <td>-0.020378</td>\n",
       "      <td>-0.023514</td>\n",
       "    </tr>\n",
       "    <tr>\n",
       "      <th>12</th>\n",
       "      <td>MS028_lcmmm3-lcmmm4</td>\n",
       "      <td>MS028</td>\n",
       "      <td>thalamus</td>\n",
       "      <td>13</td>\n",
       "      <td>-0.067504</td>\n",
       "      <td>-0.015123</td>\n",
       "      <td>-0.008583</td>\n",
       "      <td>-0.030421</td>\n",
       "      <td>-0.015189</td>\n",
       "      <td>-0.100609</td>\n",
       "      <td>-0.041920</td>\n",
       "      <td>-0.013525</td>\n",
       "      <td>-0.010467</td>\n",
       "      <td>-0.025367</td>\n",
       "    </tr>\n",
       "    <tr>\n",
       "      <th>13</th>\n",
       "      <td>MS028_lcmmm4-lcmmm5</td>\n",
       "      <td>MS028</td>\n",
       "      <td>thalamus</td>\n",
       "      <td>13</td>\n",
       "      <td>-0.026434</td>\n",
       "      <td>-0.026372</td>\n",
       "      <td>-0.009559</td>\n",
       "      <td>-0.014158</td>\n",
       "      <td>-0.003999</td>\n",
       "      <td>-0.059539</td>\n",
       "      <td>-0.053169</td>\n",
       "      <td>-0.014501</td>\n",
       "      <td>0.005796</td>\n",
       "      <td>-0.014177</td>\n",
       "    </tr>\n",
       "    <tr>\n",
       "      <th>14</th>\n",
       "      <td>MS028_rcmmm1-rcmmm2</td>\n",
       "      <td>MS028</td>\n",
       "      <td>thalamus</td>\n",
       "      <td>13</td>\n",
       "      <td>-0.054647</td>\n",
       "      <td>-0.022506</td>\n",
       "      <td>-0.010110</td>\n",
       "      <td>-0.024716</td>\n",
       "      <td>-0.010953</td>\n",
       "      <td>-0.087752</td>\n",
       "      <td>-0.049303</td>\n",
       "      <td>-0.015053</td>\n",
       "      <td>-0.004762</td>\n",
       "      <td>-0.021131</td>\n",
       "    </tr>\n",
       "    <tr>\n",
       "      <th>15</th>\n",
       "      <td>MS028_rcmmm2-rcmmm3</td>\n",
       "      <td>MS028</td>\n",
       "      <td>thalamus</td>\n",
       "      <td>13</td>\n",
       "      <td>-0.357371</td>\n",
       "      <td>-0.029768</td>\n",
       "      <td>-0.027903</td>\n",
       "      <td>-0.046022</td>\n",
       "      <td>-0.053267</td>\n",
       "      <td>-0.390476</td>\n",
       "      <td>-0.056565</td>\n",
       "      <td>-0.032846</td>\n",
       "      <td>-0.026068</td>\n",
       "      <td>-0.063445</td>\n",
       "    </tr>\n",
       "    <tr>\n",
       "      <th>16</th>\n",
       "      <td>MS028_rcmmm3-rcmmm4</td>\n",
       "      <td>MS028</td>\n",
       "      <td>thalamus</td>\n",
       "      <td>13</td>\n",
       "      <td>-0.102290</td>\n",
       "      <td>-0.032917</td>\n",
       "      <td>-0.015803</td>\n",
       "      <td>-0.039798</td>\n",
       "      <td>-0.020009</td>\n",
       "      <td>-0.135395</td>\n",
       "      <td>-0.059714</td>\n",
       "      <td>-0.020745</td>\n",
       "      <td>-0.019843</td>\n",
       "      <td>-0.030187</td>\n",
       "    </tr>\n",
       "    <tr>\n",
       "      <th>17</th>\n",
       "      <td>MS028_rcmmm4-rcmmm5</td>\n",
       "      <td>MS028</td>\n",
       "      <td>thalamus</td>\n",
       "      <td>13</td>\n",
       "      <td>-0.130000</td>\n",
       "      <td>-0.017590</td>\n",
       "      <td>-0.012540</td>\n",
       "      <td>-0.024344</td>\n",
       "      <td>-0.020513</td>\n",
       "      <td>-0.163105</td>\n",
       "      <td>-0.044387</td>\n",
       "      <td>-0.017482</td>\n",
       "      <td>-0.004390</td>\n",
       "      <td>-0.030691</td>\n",
       "    </tr>\n",
       "    <tr>\n",
       "      <th>18</th>\n",
       "      <td>MS030_lcmmf1-lcmmf2</td>\n",
       "      <td>MS030</td>\n",
       "      <td>thalamus</td>\n",
       "      <td>19</td>\n",
       "      <td>0.026838</td>\n",
       "      <td>-0.007099</td>\n",
       "      <td>-0.000364</td>\n",
       "      <td>0.013506</td>\n",
       "      <td>0.007975</td>\n",
       "      <td>-0.006267</td>\n",
       "      <td>-0.033896</td>\n",
       "      <td>-0.005306</td>\n",
       "      <td>0.033460</td>\n",
       "      <td>-0.002203</td>\n",
       "    </tr>\n",
       "    <tr>\n",
       "      <th>19</th>\n",
       "      <td>MS030_lcmmf2-lcmmf3</td>\n",
       "      <td>MS030</td>\n",
       "      <td>thalamus</td>\n",
       "      <td>19</td>\n",
       "      <td>0.049388</td>\n",
       "      <td>0.017179</td>\n",
       "      <td>0.007416</td>\n",
       "      <td>-0.002140</td>\n",
       "      <td>0.003387</td>\n",
       "      <td>0.016283</td>\n",
       "      <td>-0.009618</td>\n",
       "      <td>0.002474</td>\n",
       "      <td>0.017814</td>\n",
       "      <td>-0.006791</td>\n",
       "    </tr>\n",
       "    <tr>\n",
       "      <th>20</th>\n",
       "      <td>MS030_lcmmf3-lcmmf4</td>\n",
       "      <td>MS030</td>\n",
       "      <td>thalamus</td>\n",
       "      <td>19</td>\n",
       "      <td>0.096005</td>\n",
       "      <td>-0.020079</td>\n",
       "      <td>-0.001729</td>\n",
       "      <td>-0.006368</td>\n",
       "      <td>0.012843</td>\n",
       "      <td>0.062900</td>\n",
       "      <td>-0.046876</td>\n",
       "      <td>-0.006671</td>\n",
       "      <td>0.013587</td>\n",
       "      <td>0.002665</td>\n",
       "    </tr>\n",
       "    <tr>\n",
       "      <th>21</th>\n",
       "      <td>MS030_lcmmf4-lcmmf5</td>\n",
       "      <td>MS030</td>\n",
       "      <td>thalamus</td>\n",
       "      <td>19</td>\n",
       "      <td>0.062089</td>\n",
       "      <td>-0.030164</td>\n",
       "      <td>-0.006072</td>\n",
       "      <td>-0.013702</td>\n",
       "      <td>0.007223</td>\n",
       "      <td>0.028984</td>\n",
       "      <td>-0.056962</td>\n",
       "      <td>-0.011014</td>\n",
       "      <td>0.006252</td>\n",
       "      <td>-0.002954</td>\n",
       "    </tr>\n",
       "    <tr>\n",
       "      <th>22</th>\n",
       "      <td>MS030_lcmmf5-lcmmf6</td>\n",
       "      <td>MS030</td>\n",
       "      <td>thalamus</td>\n",
       "      <td>19</td>\n",
       "      <td>-0.003190</td>\n",
       "      <td>-0.005430</td>\n",
       "      <td>-0.001308</td>\n",
       "      <td>0.018974</td>\n",
       "      <td>0.005775</td>\n",
       "      <td>-0.036295</td>\n",
       "      <td>-0.032227</td>\n",
       "      <td>-0.006250</td>\n",
       "      <td>0.038928</td>\n",
       "      <td>-0.004403</td>\n",
       "    </tr>\n",
       "    <tr>\n",
       "      <th>23</th>\n",
       "      <td>MS033_lcmag1-lcmag2</td>\n",
       "      <td>MS033</td>\n",
       "      <td>thalamus</td>\n",
       "      <td>39</td>\n",
       "      <td>0.046325</td>\n",
       "      <td>0.073438</td>\n",
       "      <td>0.023751</td>\n",
       "      <td>-0.018662</td>\n",
       "      <td>-0.008977</td>\n",
       "      <td>0.013220</td>\n",
       "      <td>0.046641</td>\n",
       "      <td>0.018809</td>\n",
       "      <td>0.001292</td>\n",
       "      <td>-0.019155</td>\n",
       "    </tr>\n",
       "    <tr>\n",
       "      <th>24</th>\n",
       "      <td>MS033_lcmag2-lcmag3</td>\n",
       "      <td>MS033</td>\n",
       "      <td>thalamus</td>\n",
       "      <td>39</td>\n",
       "      <td>0.064457</td>\n",
       "      <td>-0.014032</td>\n",
       "      <td>-0.000839</td>\n",
       "      <td>-0.002744</td>\n",
       "      <td>0.008677</td>\n",
       "      <td>0.031352</td>\n",
       "      <td>-0.040829</td>\n",
       "      <td>-0.005781</td>\n",
       "      <td>0.017210</td>\n",
       "      <td>-0.001501</td>\n",
       "    </tr>\n",
       "    <tr>\n",
       "      <th>25</th>\n",
       "      <td>MS033_lcmag3-lcmag4</td>\n",
       "      <td>MS033</td>\n",
       "      <td>thalamus</td>\n",
       "      <td>39</td>\n",
       "      <td>0.015758</td>\n",
       "      <td>0.081754</td>\n",
       "      <td>0.025786</td>\n",
       "      <td>0.020520</td>\n",
       "      <td>-0.002553</td>\n",
       "      <td>-0.017347</td>\n",
       "      <td>0.054957</td>\n",
       "      <td>0.020844</td>\n",
       "      <td>0.040474</td>\n",
       "      <td>-0.012731</td>\n",
       "    </tr>\n",
       "    <tr>\n",
       "      <th>26</th>\n",
       "      <td>MS033_lcmag4-lcmag5</td>\n",
       "      <td>MS033</td>\n",
       "      <td>thalamus</td>\n",
       "      <td>39</td>\n",
       "      <td>-0.010225</td>\n",
       "      <td>0.114448</td>\n",
       "      <td>0.034387</td>\n",
       "      <td>0.026013</td>\n",
       "      <td>-0.008299</td>\n",
       "      <td>-0.043330</td>\n",
       "      <td>0.087651</td>\n",
       "      <td>0.029445</td>\n",
       "      <td>0.045968</td>\n",
       "      <td>-0.018477</td>\n",
       "    </tr>\n",
       "    <tr>\n",
       "      <th>27</th>\n",
       "      <td>MS033_lcmag5-lcmag6</td>\n",
       "      <td>MS033</td>\n",
       "      <td>thalamus</td>\n",
       "      <td>39</td>\n",
       "      <td>-0.042207</td>\n",
       "      <td>0.111617</td>\n",
       "      <td>0.031182</td>\n",
       "      <td>-0.002639</td>\n",
       "      <td>-0.020079</td>\n",
       "      <td>-0.075312</td>\n",
       "      <td>0.084820</td>\n",
       "      <td>0.026240</td>\n",
       "      <td>0.017315</td>\n",
       "      <td>-0.030257</td>\n",
       "    </tr>\n",
       "    <tr>\n",
       "      <th>28</th>\n",
       "      <td>MS035_lcmip1-lcmip2</td>\n",
       "      <td>MS035</td>\n",
       "      <td>thalamus</td>\n",
       "      <td>15</td>\n",
       "      <td>0.117251</td>\n",
       "      <td>-0.003173</td>\n",
       "      <td>0.005919</td>\n",
       "      <td>0.046604</td>\n",
       "      <td>0.028365</td>\n",
       "      <td>0.084146</td>\n",
       "      <td>-0.029970</td>\n",
       "      <td>0.000977</td>\n",
       "      <td>0.066558</td>\n",
       "      <td>0.018187</td>\n",
       "    </tr>\n",
       "    <tr>\n",
       "      <th>29</th>\n",
       "      <td>MS035_lcmip2-lcmip3</td>\n",
       "      <td>MS035</td>\n",
       "      <td>thalamus</td>\n",
       "      <td>15</td>\n",
       "      <td>0.131644</td>\n",
       "      <td>-0.008209</td>\n",
       "      <td>0.004893</td>\n",
       "      <td>0.040803</td>\n",
       "      <td>0.029213</td>\n",
       "      <td>0.098539</td>\n",
       "      <td>-0.035006</td>\n",
       "      <td>-0.000049</td>\n",
       "      <td>0.060757</td>\n",
       "      <td>0.019035</td>\n",
       "    </tr>\n",
       "    <tr>\n",
       "      <th>30</th>\n",
       "      <td>MS035_lcmip3-lcmip4</td>\n",
       "      <td>MS035</td>\n",
       "      <td>thalamus</td>\n",
       "      <td>15</td>\n",
       "      <td>0.030796</td>\n",
       "      <td>-0.034503</td>\n",
       "      <td>-0.008293</td>\n",
       "      <td>0.035813</td>\n",
       "      <td>0.018965</td>\n",
       "      <td>-0.002309</td>\n",
       "      <td>-0.061300</td>\n",
       "      <td>-0.013235</td>\n",
       "      <td>0.055767</td>\n",
       "      <td>0.008787</td>\n",
       "    </tr>\n",
       "    <tr>\n",
       "      <th>31</th>\n",
       "      <td>MS035_lcmip4-lcmip5</td>\n",
       "      <td>MS035</td>\n",
       "      <td>thalamus</td>\n",
       "      <td>15</td>\n",
       "      <td>-0.008631</td>\n",
       "      <td>-0.073410</td>\n",
       "      <td>-0.021374</td>\n",
       "      <td>0.061147</td>\n",
       "      <td>0.026552</td>\n",
       "      <td>-0.041736</td>\n",
       "      <td>-0.100207</td>\n",
       "      <td>-0.026317</td>\n",
       "      <td>0.081101</td>\n",
       "      <td>0.016374</td>\n",
       "    </tr>\n",
       "    <tr>\n",
       "      <th>32</th>\n",
       "      <td>MS035_rcmip1-rcmip2</td>\n",
       "      <td>MS035</td>\n",
       "      <td>thalamus</td>\n",
       "      <td>15</td>\n",
       "      <td>0.108385</td>\n",
       "      <td>0.008403</td>\n",
       "      <td>0.008011</td>\n",
       "      <td>0.012500</td>\n",
       "      <td>0.016046</td>\n",
       "      <td>0.075280</td>\n",
       "      <td>-0.018394</td>\n",
       "      <td>0.003069</td>\n",
       "      <td>0.032454</td>\n",
       "      <td>0.005868</td>\n",
       "    </tr>\n",
       "    <tr>\n",
       "      <th>33</th>\n",
       "      <td>MS035_rcmip2-rcmip3</td>\n",
       "      <td>MS035</td>\n",
       "      <td>thalamus</td>\n",
       "      <td>15</td>\n",
       "      <td>0.058331</td>\n",
       "      <td>-0.000841</td>\n",
       "      <td>0.002524</td>\n",
       "      <td>0.013793</td>\n",
       "      <td>0.011779</td>\n",
       "      <td>0.025226</td>\n",
       "      <td>-0.027638</td>\n",
       "      <td>-0.002418</td>\n",
       "      <td>0.033747</td>\n",
       "      <td>0.001601</td>\n",
       "    </tr>\n",
       "    <tr>\n",
       "      <th>34</th>\n",
       "      <td>MS035_rcmip3-rcmip4</td>\n",
       "      <td>MS035</td>\n",
       "      <td>thalamus</td>\n",
       "      <td>15</td>\n",
       "      <td>0.017155</td>\n",
       "      <td>-0.011079</td>\n",
       "      <td>-0.002203</td>\n",
       "      <td>0.047638</td>\n",
       "      <td>0.018328</td>\n",
       "      <td>-0.015950</td>\n",
       "      <td>-0.037876</td>\n",
       "      <td>-0.007145</td>\n",
       "      <td>0.067592</td>\n",
       "      <td>0.008150</td>\n",
       "    </tr>\n",
       "    <tr>\n",
       "      <th>35</th>\n",
       "      <td>MS035_rcmip4-rcmip5</td>\n",
       "      <td>MS035</td>\n",
       "      <td>thalamus</td>\n",
       "      <td>15</td>\n",
       "      <td>-0.107508</td>\n",
       "      <td>-0.023435</td>\n",
       "      <td>-0.011906</td>\n",
       "      <td>0.060213</td>\n",
       "      <td>0.008370</td>\n",
       "      <td>-0.140613</td>\n",
       "      <td>-0.050232</td>\n",
       "      <td>-0.016848</td>\n",
       "      <td>0.080168</td>\n",
       "      <td>-0.001807</td>\n",
       "    </tr>\n",
       "    <tr>\n",
       "      <th>36</th>\n",
       "      <td>MS041_lcm1-lcm2</td>\n",
       "      <td>MS041</td>\n",
       "      <td>thalamus</td>\n",
       "      <td>10</td>\n",
       "      <td>0.068922</td>\n",
       "      <td>-0.039625</td>\n",
       "      <td>-0.008419</td>\n",
       "      <td>-0.008908</td>\n",
       "      <td>0.010647</td>\n",
       "      <td>0.035817</td>\n",
       "      <td>-0.066423</td>\n",
       "      <td>-0.013361</td>\n",
       "      <td>0.011046</td>\n",
       "      <td>0.000469</td>\n",
       "    </tr>\n",
       "    <tr>\n",
       "      <th>37</th>\n",
       "      <td>MS041_lcm2-lcm3</td>\n",
       "      <td>MS041</td>\n",
       "      <td>thalamus</td>\n",
       "      <td>10</td>\n",
       "      <td>0.059826</td>\n",
       "      <td>-0.043643</td>\n",
       "      <td>-0.009676</td>\n",
       "      <td>-0.004308</td>\n",
       "      <td>0.011060</td>\n",
       "      <td>0.026721</td>\n",
       "      <td>-0.070440</td>\n",
       "      <td>-0.014618</td>\n",
       "      <td>0.015646</td>\n",
       "      <td>0.000883</td>\n",
       "    </tr>\n",
       "    <tr>\n",
       "      <th>38</th>\n",
       "      <td>MS041_lcm3-lcm4</td>\n",
       "      <td>MS041</td>\n",
       "      <td>thalamus</td>\n",
       "      <td>10</td>\n",
       "      <td>0.045144</td>\n",
       "      <td>-0.069879</td>\n",
       "      <td>-0.018968</td>\n",
       "      <td>-0.018166</td>\n",
       "      <td>0.009000</td>\n",
       "      <td>0.012039</td>\n",
       "      <td>-0.096676</td>\n",
       "      <td>-0.023910</td>\n",
       "      <td>0.001788</td>\n",
       "      <td>-0.001178</td>\n",
       "    </tr>\n",
       "    <tr>\n",
       "      <th>39</th>\n",
       "      <td>MS041_lcm4-lcm5</td>\n",
       "      <td>MS041</td>\n",
       "      <td>thalamus</td>\n",
       "      <td>10</td>\n",
       "      <td>0.047559</td>\n",
       "      <td>-0.043354</td>\n",
       "      <td>-0.010552</td>\n",
       "      <td>-0.017361</td>\n",
       "      <td>0.005788</td>\n",
       "      <td>0.014454</td>\n",
       "      <td>-0.070151</td>\n",
       "      <td>-0.015494</td>\n",
       "      <td>0.002593</td>\n",
       "      <td>-0.004390</td>\n",
       "    </tr>\n",
       "    <tr>\n",
       "      <th>40</th>\n",
       "      <td>MS041_rcm1-rcm2</td>\n",
       "      <td>MS041</td>\n",
       "      <td>thalamus</td>\n",
       "      <td>10</td>\n",
       "      <td>0.028051</td>\n",
       "      <td>-0.017520</td>\n",
       "      <td>-0.003956</td>\n",
       "      <td>-0.015796</td>\n",
       "      <td>0.000800</td>\n",
       "      <td>-0.005054</td>\n",
       "      <td>-0.044317</td>\n",
       "      <td>-0.008898</td>\n",
       "      <td>0.004159</td>\n",
       "      <td>-0.009378</td>\n",
       "    </tr>\n",
       "    <tr>\n",
       "      <th>41</th>\n",
       "      <td>MS041_rcm2-rcm3</td>\n",
       "      <td>MS041</td>\n",
       "      <td>thalamus</td>\n",
       "      <td>10</td>\n",
       "      <td>0.058599</td>\n",
       "      <td>-0.027748</td>\n",
       "      <td>-0.005497</td>\n",
       "      <td>-0.012686</td>\n",
       "      <td>0.006807</td>\n",
       "      <td>0.025494</td>\n",
       "      <td>-0.054545</td>\n",
       "      <td>-0.010439</td>\n",
       "      <td>0.007268</td>\n",
       "      <td>-0.003371</td>\n",
       "    </tr>\n",
       "    <tr>\n",
       "      <th>42</th>\n",
       "      <td>MS041_rcm3-rcm4</td>\n",
       "      <td>MS041</td>\n",
       "      <td>thalamus</td>\n",
       "      <td>10</td>\n",
       "      <td>0.043579</td>\n",
       "      <td>-0.032185</td>\n",
       "      <td>-0.007538</td>\n",
       "      <td>-0.026574</td>\n",
       "      <td>0.001085</td>\n",
       "      <td>0.010474</td>\n",
       "      <td>-0.058982</td>\n",
       "      <td>-0.012481</td>\n",
       "      <td>-0.006620</td>\n",
       "      <td>-0.009092</td>\n",
       "    </tr>\n",
       "    <tr>\n",
       "      <th>43</th>\n",
       "      <td>MS041_rcm4-rcm5</td>\n",
       "      <td>MS041</td>\n",
       "      <td>thalamus</td>\n",
       "      <td>10</td>\n",
       "      <td>0.042938</td>\n",
       "      <td>0.007374</td>\n",
       "      <td>0.004230</td>\n",
       "      <td>-0.015223</td>\n",
       "      <td>-0.000378</td>\n",
       "      <td>0.009833</td>\n",
       "      <td>-0.019423</td>\n",
       "      <td>-0.000712</td>\n",
       "      <td>0.004731</td>\n",
       "      <td>-0.010556</td>\n",
       "    </tr>\n",
       "    <tr>\n",
       "      <th>44</th>\n",
       "      <td>MS048_lcmang1-lcmang2</td>\n",
       "      <td>MS048</td>\n",
       "      <td>thalamus</td>\n",
       "      <td>19</td>\n",
       "      <td>0.078885</td>\n",
       "      <td>-0.022796</td>\n",
       "      <td>-0.003156</td>\n",
       "      <td>-0.023237</td>\n",
       "      <td>0.005509</td>\n",
       "      <td>0.045780</td>\n",
       "      <td>-0.049593</td>\n",
       "      <td>-0.008099</td>\n",
       "      <td>-0.003282</td>\n",
       "      <td>-0.004668</td>\n",
       "    </tr>\n",
       "    <tr>\n",
       "      <th>45</th>\n",
       "      <td>MS048_lcmang2-lcmang3</td>\n",
       "      <td>MS048</td>\n",
       "      <td>thalamus</td>\n",
       "      <td>19</td>\n",
       "      <td>0.107143</td>\n",
       "      <td>-0.047838</td>\n",
       "      <td>-0.008515</td>\n",
       "      <td>-0.004190</td>\n",
       "      <td>0.017386</td>\n",
       "      <td>0.074038</td>\n",
       "      <td>-0.074635</td>\n",
       "      <td>-0.013457</td>\n",
       "      <td>0.015764</td>\n",
       "      <td>0.007209</td>\n",
       "    </tr>\n",
       "    <tr>\n",
       "      <th>46</th>\n",
       "      <td>MS048_lcmang3-lcmang4</td>\n",
       "      <td>MS048</td>\n",
       "      <td>thalamus</td>\n",
       "      <td>19</td>\n",
       "      <td>0.043485</td>\n",
       "      <td>-0.025381</td>\n",
       "      <td>-0.005412</td>\n",
       "      <td>0.019932</td>\n",
       "      <td>0.014850</td>\n",
       "      <td>0.010380</td>\n",
       "      <td>-0.052178</td>\n",
       "      <td>-0.010354</td>\n",
       "      <td>0.039886</td>\n",
       "      <td>0.004672</td>\n",
       "    </tr>\n",
       "    <tr>\n",
       "      <th>47</th>\n",
       "      <td>MS048_rcmang1-rcmang2</td>\n",
       "      <td>MS048</td>\n",
       "      <td>thalamus</td>\n",
       "      <td>19</td>\n",
       "      <td>0.041991</td>\n",
       "      <td>-0.015814</td>\n",
       "      <td>-0.002900</td>\n",
       "      <td>-0.035321</td>\n",
       "      <td>-0.003753</td>\n",
       "      <td>0.008886</td>\n",
       "      <td>-0.042611</td>\n",
       "      <td>-0.007842</td>\n",
       "      <td>-0.015367</td>\n",
       "      <td>-0.013930</td>\n",
       "    </tr>\n",
       "    <tr>\n",
       "      <th>48</th>\n",
       "      <td>MS048_rcmang2-rcmang3</td>\n",
       "      <td>MS048</td>\n",
       "      <td>thalamus</td>\n",
       "      <td>19</td>\n",
       "      <td>-0.079473</td>\n",
       "      <td>0.000582</td>\n",
       "      <td>-0.003398</td>\n",
       "      <td>-0.000888</td>\n",
       "      <td>-0.010520</td>\n",
       "      <td>-0.112578</td>\n",
       "      <td>-0.026215</td>\n",
       "      <td>-0.008340</td>\n",
       "      <td>0.019067</td>\n",
       "      <td>-0.020698</td>\n",
       "    </tr>\n",
       "    <tr>\n",
       "      <th>49</th>\n",
       "      <td>MS048_rcmang3-rcmang4</td>\n",
       "      <td>MS048</td>\n",
       "      <td>thalamus</td>\n",
       "      <td>19</td>\n",
       "      <td>-0.051231</td>\n",
       "      <td>-0.006626</td>\n",
       "      <td>-0.004614</td>\n",
       "      <td>0.000041</td>\n",
       "      <td>-0.005329</td>\n",
       "      <td>-0.084336</td>\n",
       "      <td>-0.033423</td>\n",
       "      <td>-0.009557</td>\n",
       "      <td>0.019995</td>\n",
       "      <td>-0.015506</td>\n",
       "    </tr>\n",
       "    <tr>\n",
       "      <th>50</th>\n",
       "      <td>MS048_rcmang4-rcmang5</td>\n",
       "      <td>MS048</td>\n",
       "      <td>thalamus</td>\n",
       "      <td>19</td>\n",
       "      <td>-0.044710</td>\n",
       "      <td>-0.037183</td>\n",
       "      <td>-0.013568</td>\n",
       "      <td>-0.024979</td>\n",
       "      <td>-0.008431</td>\n",
       "      <td>-0.077815</td>\n",
       "      <td>-0.063980</td>\n",
       "      <td>-0.018510</td>\n",
       "      <td>-0.005025</td>\n",
       "      <td>-0.018609</td>\n",
       "    </tr>\n",
       "    <tr>\n",
       "      <th>51</th>\n",
       "      <td>MS050_lcmang1-lcmang2</td>\n",
       "      <td>MS050</td>\n",
       "      <td>thalamus</td>\n",
       "      <td>9</td>\n",
       "      <td>0.060536</td>\n",
       "      <td>0.037542</td>\n",
       "      <td>0.014880</td>\n",
       "      <td>0.008832</td>\n",
       "      <td>0.004721</td>\n",
       "      <td>0.027431</td>\n",
       "      <td>0.010745</td>\n",
       "      <td>0.009937</td>\n",
       "      <td>0.028786</td>\n",
       "      <td>-0.005457</td>\n",
       "    </tr>\n",
       "    <tr>\n",
       "      <th>52</th>\n",
       "      <td>MS050_lcmang2-lcmang3</td>\n",
       "      <td>MS050</td>\n",
       "      <td>thalamus</td>\n",
       "      <td>9</td>\n",
       "      <td>0.055183</td>\n",
       "      <td>0.015397</td>\n",
       "      <td>0.007886</td>\n",
       "      <td>0.018287</td>\n",
       "      <td>0.010017</td>\n",
       "      <td>0.022078</td>\n",
       "      <td>-0.011400</td>\n",
       "      <td>0.002944</td>\n",
       "      <td>0.038242</td>\n",
       "      <td>-0.000160</td>\n",
       "    </tr>\n",
       "    <tr>\n",
       "      <th>53</th>\n",
       "      <td>MS050_lcmang3-lcmang4</td>\n",
       "      <td>MS050</td>\n",
       "      <td>thalamus</td>\n",
       "      <td>9</td>\n",
       "      <td>0.066089</td>\n",
       "      <td>0.020722</td>\n",
       "      <td>0.009952</td>\n",
       "      <td>-0.002443</td>\n",
       "      <td>0.004170</td>\n",
       "      <td>0.032984</td>\n",
       "      <td>-0.006076</td>\n",
       "      <td>0.005010</td>\n",
       "      <td>0.017511</td>\n",
       "      <td>-0.006008</td>\n",
       "    </tr>\n",
       "    <tr>\n",
       "      <th>54</th>\n",
       "      <td>MS050_lcmang4-lcmang5</td>\n",
       "      <td>MS050</td>\n",
       "      <td>thalamus</td>\n",
       "      <td>9</td>\n",
       "      <td>0.058381</td>\n",
       "      <td>-0.001702</td>\n",
       "      <td>0.002510</td>\n",
       "      <td>0.011566</td>\n",
       "      <td>0.010930</td>\n",
       "      <td>0.025276</td>\n",
       "      <td>-0.028499</td>\n",
       "      <td>-0.002432</td>\n",
       "      <td>0.031521</td>\n",
       "      <td>0.000753</td>\n",
       "    </tr>\n",
       "    <tr>\n",
       "      <th>55</th>\n",
       "      <td>MS050_rcmsmg1-rcmsmg2</td>\n",
       "      <td>MS050</td>\n",
       "      <td>thalamus</td>\n",
       "      <td>9</td>\n",
       "      <td>0.070393</td>\n",
       "      <td>0.044789</td>\n",
       "      <td>0.016943</td>\n",
       "      <td>0.017944</td>\n",
       "      <td>0.008582</td>\n",
       "      <td>0.037288</td>\n",
       "      <td>0.017992</td>\n",
       "      <td>0.012001</td>\n",
       "      <td>0.037899</td>\n",
       "      <td>-0.001596</td>\n",
       "    </tr>\n",
       "    <tr>\n",
       "      <th>56</th>\n",
       "      <td>MS050_rcmsmg2-rcmsmg3</td>\n",
       "      <td>MS050</td>\n",
       "      <td>thalamus</td>\n",
       "      <td>9</td>\n",
       "      <td>0.050588</td>\n",
       "      <td>0.023119</td>\n",
       "      <td>0.009753</td>\n",
       "      <td>0.006299</td>\n",
       "      <td>0.004898</td>\n",
       "      <td>0.017483</td>\n",
       "      <td>-0.003679</td>\n",
       "      <td>0.004811</td>\n",
       "      <td>0.026253</td>\n",
       "      <td>-0.005279</td>\n",
       "    </tr>\n",
       "    <tr>\n",
       "      <th>57</th>\n",
       "      <td>MS050_rcmsmg3-rcmsmg4</td>\n",
       "      <td>MS050</td>\n",
       "      <td>thalamus</td>\n",
       "      <td>9</td>\n",
       "      <td>0.035454</td>\n",
       "      <td>0.036785</td>\n",
       "      <td>0.012493</td>\n",
       "      <td>-0.000923</td>\n",
       "      <td>-0.000307</td>\n",
       "      <td>0.002349</td>\n",
       "      <td>0.009988</td>\n",
       "      <td>0.007551</td>\n",
       "      <td>0.019031</td>\n",
       "      <td>-0.010485</td>\n",
       "    </tr>\n",
       "  </tbody>\n",
       "</table>\n",
       "</div>"
      ],
      "text/plain": [
       "          unique_reref_ch subj_id       roi  bdi  raw_Intercept  \\\n",
       "0     MS025_lcmip1-lcmip2   MS025  thalamus   10      -0.033780   \n",
       "1     MS025_lcmip2-lcmip3   MS025  thalamus   10      -0.060736   \n",
       "2     MS025_lcmip3-lcmip4   MS025  thalamus   10      -0.127052   \n",
       "3     MS025_lcmip4-lcmip5   MS025  thalamus   10      -0.112102   \n",
       "4     MS025_lcmip5-lcmip6   MS025  thalamus   10      -0.069541   \n",
       "5     MS025_rcmip1-rcmip2   MS025  thalamus   10       0.081463   \n",
       "6     MS025_rcmip2-rcmip3   MS025  thalamus   10      -0.010787   \n",
       "7     MS025_rcmip3-rcmip4   MS025  thalamus   10      -0.180468   \n",
       "8     MS025_rcmip4-rcmip5   MS025  thalamus   10      -0.033321   \n",
       "9     MS025_rcmip5-rcmip6   MS025  thalamus   10       0.049230   \n",
       "10    MS028_lcmmm1-lcmmm2   MS028  thalamus   13      -0.278014   \n",
       "11    MS028_lcmmm2-lcmmm3   MS028  thalamus   13      -0.026639   \n",
       "12    MS028_lcmmm3-lcmmm4   MS028  thalamus   13      -0.067504   \n",
       "13    MS028_lcmmm4-lcmmm5   MS028  thalamus   13      -0.026434   \n",
       "14    MS028_rcmmm1-rcmmm2   MS028  thalamus   13      -0.054647   \n",
       "15    MS028_rcmmm2-rcmmm3   MS028  thalamus   13      -0.357371   \n",
       "16    MS028_rcmmm3-rcmmm4   MS028  thalamus   13      -0.102290   \n",
       "17    MS028_rcmmm4-rcmmm5   MS028  thalamus   13      -0.130000   \n",
       "18    MS030_lcmmf1-lcmmf2   MS030  thalamus   19       0.026838   \n",
       "19    MS030_lcmmf2-lcmmf3   MS030  thalamus   19       0.049388   \n",
       "20    MS030_lcmmf3-lcmmf4   MS030  thalamus   19       0.096005   \n",
       "21    MS030_lcmmf4-lcmmf5   MS030  thalamus   19       0.062089   \n",
       "22    MS030_lcmmf5-lcmmf6   MS030  thalamus   19      -0.003190   \n",
       "23    MS033_lcmag1-lcmag2   MS033  thalamus   39       0.046325   \n",
       "24    MS033_lcmag2-lcmag3   MS033  thalamus   39       0.064457   \n",
       "25    MS033_lcmag3-lcmag4   MS033  thalamus   39       0.015758   \n",
       "26    MS033_lcmag4-lcmag5   MS033  thalamus   39      -0.010225   \n",
       "27    MS033_lcmag5-lcmag6   MS033  thalamus   39      -0.042207   \n",
       "28    MS035_lcmip1-lcmip2   MS035  thalamus   15       0.117251   \n",
       "29    MS035_lcmip2-lcmip3   MS035  thalamus   15       0.131644   \n",
       "30    MS035_lcmip3-lcmip4   MS035  thalamus   15       0.030796   \n",
       "31    MS035_lcmip4-lcmip5   MS035  thalamus   15      -0.008631   \n",
       "32    MS035_rcmip1-rcmip2   MS035  thalamus   15       0.108385   \n",
       "33    MS035_rcmip2-rcmip3   MS035  thalamus   15       0.058331   \n",
       "34    MS035_rcmip3-rcmip4   MS035  thalamus   15       0.017155   \n",
       "35    MS035_rcmip4-rcmip5   MS035  thalamus   15      -0.107508   \n",
       "36        MS041_lcm1-lcm2   MS041  thalamus   10       0.068922   \n",
       "37        MS041_lcm2-lcm3   MS041  thalamus   10       0.059826   \n",
       "38        MS041_lcm3-lcm4   MS041  thalamus   10       0.045144   \n",
       "39        MS041_lcm4-lcm5   MS041  thalamus   10       0.047559   \n",
       "40        MS041_rcm1-rcm2   MS041  thalamus   10       0.028051   \n",
       "41        MS041_rcm2-rcm3   MS041  thalamus   10       0.058599   \n",
       "42        MS041_rcm3-rcm4   MS041  thalamus   10       0.043579   \n",
       "43        MS041_rcm4-rcm5   MS041  thalamus   10       0.042938   \n",
       "44  MS048_lcmang1-lcmang2   MS048  thalamus   19       0.078885   \n",
       "45  MS048_lcmang2-lcmang3   MS048  thalamus   19       0.107143   \n",
       "46  MS048_lcmang3-lcmang4   MS048  thalamus   19       0.043485   \n",
       "47  MS048_rcmang1-rcmang2   MS048  thalamus   19       0.041991   \n",
       "48  MS048_rcmang2-rcmang3   MS048  thalamus   19      -0.079473   \n",
       "49  MS048_rcmang3-rcmang4   MS048  thalamus   19      -0.051231   \n",
       "50  MS048_rcmang4-rcmang5   MS048  thalamus   19      -0.044710   \n",
       "51  MS050_lcmang1-lcmang2   MS050  thalamus    9       0.060536   \n",
       "52  MS050_lcmang2-lcmang3   MS050  thalamus    9       0.055183   \n",
       "53  MS050_lcmang3-lcmang4   MS050  thalamus    9       0.066089   \n",
       "54  MS050_lcmang4-lcmang5   MS050  thalamus    9       0.058381   \n",
       "55  MS050_rcmsmg1-rcmsmg2   MS050  thalamus    9       0.070393   \n",
       "56  MS050_rcmsmg2-rcmsmg3   MS050  thalamus    9       0.050588   \n",
       "57  MS050_rcmsmg3-rcmsmg4   MS050  thalamus    9       0.035454   \n",
       "\n",
       "    raw_GambleChoice  raw_TrialEV  raw_TotalProfit  raw_decisionCPE  \\\n",
       "0           0.067196     0.018343         0.016774        -0.007281   \n",
       "1           0.082541     0.022075        -0.001485        -0.018864   \n",
       "2           0.021855     0.000525        -0.000737        -0.018905   \n",
       "3           0.066562     0.015255         0.040612        -0.010352   \n",
       "4           0.050937     0.012234         0.020482        -0.009011   \n",
       "5           0.033199     0.013663        -0.016615         0.000857   \n",
       "6           0.006843     0.001023         0.008576         0.001074   \n",
       "7          -0.047311    -0.023923        -0.023558        -0.022674   \n",
       "8          -0.003496    -0.002590         0.001925        -0.003164   \n",
       "9          -0.001133     0.001485        -0.007412         0.004528   \n",
       "10         -0.049133    -0.029486        -0.041935        -0.040065   \n",
       "11         -0.014181    -0.006367        -0.040333        -0.013336   \n",
       "12         -0.015123    -0.008583        -0.030421        -0.015189   \n",
       "13         -0.026372    -0.009559        -0.014158        -0.003999   \n",
       "14         -0.022506    -0.010110        -0.024716        -0.010953   \n",
       "15         -0.029768    -0.027903        -0.046022        -0.053267   \n",
       "16         -0.032917    -0.015803        -0.039798        -0.020009   \n",
       "17         -0.017590    -0.012540        -0.024344        -0.020513   \n",
       "18         -0.007099    -0.000364         0.013506         0.007975   \n",
       "19          0.017179     0.007416        -0.002140         0.003387   \n",
       "20         -0.020079    -0.001729        -0.006368         0.012843   \n",
       "21         -0.030164    -0.006072        -0.013702         0.007223   \n",
       "22         -0.005430    -0.001308         0.018974         0.005775   \n",
       "23          0.073438     0.023751        -0.018662        -0.008977   \n",
       "24         -0.014032    -0.000839        -0.002744         0.008677   \n",
       "25          0.081754     0.025786         0.020520        -0.002553   \n",
       "26          0.114448     0.034387         0.026013        -0.008299   \n",
       "27          0.111617     0.031182        -0.002639        -0.020079   \n",
       "28         -0.003173     0.005919         0.046604         0.028365   \n",
       "29         -0.008209     0.004893         0.040803         0.029213   \n",
       "30         -0.034503    -0.008293         0.035813         0.018965   \n",
       "31         -0.073410    -0.021374         0.061147         0.026552   \n",
       "32          0.008403     0.008011         0.012500         0.016046   \n",
       "33         -0.000841     0.002524         0.013793         0.011779   \n",
       "34         -0.011079    -0.002203         0.047638         0.018328   \n",
       "35         -0.023435    -0.011906         0.060213         0.008370   \n",
       "36         -0.039625    -0.008419        -0.008908         0.010647   \n",
       "37         -0.043643    -0.009676        -0.004308         0.011060   \n",
       "38         -0.069879    -0.018968        -0.018166         0.009000   \n",
       "39         -0.043354    -0.010552        -0.017361         0.005788   \n",
       "40         -0.017520    -0.003956        -0.015796         0.000800   \n",
       "41         -0.027748    -0.005497        -0.012686         0.006807   \n",
       "42         -0.032185    -0.007538        -0.026574         0.001085   \n",
       "43          0.007374     0.004230        -0.015223        -0.000378   \n",
       "44         -0.022796    -0.003156        -0.023237         0.005509   \n",
       "45         -0.047838    -0.008515        -0.004190         0.017386   \n",
       "46         -0.025381    -0.005412         0.019932         0.014850   \n",
       "47         -0.015814    -0.002900        -0.035321        -0.003753   \n",
       "48          0.000582    -0.003398        -0.000888        -0.010520   \n",
       "49         -0.006626    -0.004614         0.000041        -0.005329   \n",
       "50         -0.037183    -0.013568        -0.024979        -0.008431   \n",
       "51          0.037542     0.014880         0.008832         0.004721   \n",
       "52          0.015397     0.007886         0.018287         0.010017   \n",
       "53          0.020722     0.009952        -0.002443         0.004170   \n",
       "54         -0.001702     0.002510         0.011566         0.010930   \n",
       "55          0.044789     0.016943         0.017944         0.008582   \n",
       "56          0.023119     0.009753         0.006299         0.004898   \n",
       "57          0.036785     0.012493        -0.000923        -0.000307   \n",
       "\n",
       "    Intercept  GambleChoice   TrialEV  TotalProfit  decisionCPE  \n",
       "0   -0.066885      0.040399  0.013401     0.036728    -0.017459  \n",
       "1   -0.093841      0.055744  0.017133     0.018469    -0.029041  \n",
       "2   -0.160157     -0.004942 -0.004417     0.019217    -0.029083  \n",
       "3   -0.145207      0.039765  0.010313     0.060566    -0.020530  \n",
       "4   -0.102646      0.024140  0.007291     0.040436    -0.019188  \n",
       "5    0.048358      0.006401  0.008721     0.003339    -0.009321  \n",
       "6   -0.043892     -0.019954 -0.003920     0.028530    -0.009104  \n",
       "7   -0.213573     -0.074108 -0.028865    -0.003604    -0.032852  \n",
       "8   -0.066426     -0.030293 -0.007532     0.021879    -0.013341  \n",
       "9    0.016125     -0.027930 -0.003457     0.012542    -0.005649  \n",
       "10  -0.311119     -0.075931 -0.034428    -0.021981    -0.050242  \n",
       "11  -0.059744     -0.040978 -0.011310    -0.020378    -0.023514  \n",
       "12  -0.100609     -0.041920 -0.013525    -0.010467    -0.025367  \n",
       "13  -0.059539     -0.053169 -0.014501     0.005796    -0.014177  \n",
       "14  -0.087752     -0.049303 -0.015053    -0.004762    -0.021131  \n",
       "15  -0.390476     -0.056565 -0.032846    -0.026068    -0.063445  \n",
       "16  -0.135395     -0.059714 -0.020745    -0.019843    -0.030187  \n",
       "17  -0.163105     -0.044387 -0.017482    -0.004390    -0.030691  \n",
       "18  -0.006267     -0.033896 -0.005306     0.033460    -0.002203  \n",
       "19   0.016283     -0.009618  0.002474     0.017814    -0.006791  \n",
       "20   0.062900     -0.046876 -0.006671     0.013587     0.002665  \n",
       "21   0.028984     -0.056962 -0.011014     0.006252    -0.002954  \n",
       "22  -0.036295     -0.032227 -0.006250     0.038928    -0.004403  \n",
       "23   0.013220      0.046641  0.018809     0.001292    -0.019155  \n",
       "24   0.031352     -0.040829 -0.005781     0.017210    -0.001501  \n",
       "25  -0.017347      0.054957  0.020844     0.040474    -0.012731  \n",
       "26  -0.043330      0.087651  0.029445     0.045968    -0.018477  \n",
       "27  -0.075312      0.084820  0.026240     0.017315    -0.030257  \n",
       "28   0.084146     -0.029970  0.000977     0.066558     0.018187  \n",
       "29   0.098539     -0.035006 -0.000049     0.060757     0.019035  \n",
       "30  -0.002309     -0.061300 -0.013235     0.055767     0.008787  \n",
       "31  -0.041736     -0.100207 -0.026317     0.081101     0.016374  \n",
       "32   0.075280     -0.018394  0.003069     0.032454     0.005868  \n",
       "33   0.025226     -0.027638 -0.002418     0.033747     0.001601  \n",
       "34  -0.015950     -0.037876 -0.007145     0.067592     0.008150  \n",
       "35  -0.140613     -0.050232 -0.016848     0.080168    -0.001807  \n",
       "36   0.035817     -0.066423 -0.013361     0.011046     0.000469  \n",
       "37   0.026721     -0.070440 -0.014618     0.015646     0.000883  \n",
       "38   0.012039     -0.096676 -0.023910     0.001788    -0.001178  \n",
       "39   0.014454     -0.070151 -0.015494     0.002593    -0.004390  \n",
       "40  -0.005054     -0.044317 -0.008898     0.004159    -0.009378  \n",
       "41   0.025494     -0.054545 -0.010439     0.007268    -0.003371  \n",
       "42   0.010474     -0.058982 -0.012481    -0.006620    -0.009092  \n",
       "43   0.009833     -0.019423 -0.000712     0.004731    -0.010556  \n",
       "44   0.045780     -0.049593 -0.008099    -0.003282    -0.004668  \n",
       "45   0.074038     -0.074635 -0.013457     0.015764     0.007209  \n",
       "46   0.010380     -0.052178 -0.010354     0.039886     0.004672  \n",
       "47   0.008886     -0.042611 -0.007842    -0.015367    -0.013930  \n",
       "48  -0.112578     -0.026215 -0.008340     0.019067    -0.020698  \n",
       "49  -0.084336     -0.033423 -0.009557     0.019995    -0.015506  \n",
       "50  -0.077815     -0.063980 -0.018510    -0.005025    -0.018609  \n",
       "51   0.027431      0.010745  0.009937     0.028786    -0.005457  \n",
       "52   0.022078     -0.011400  0.002944     0.038242    -0.000160  \n",
       "53   0.032984     -0.006076  0.005010     0.017511    -0.006008  \n",
       "54   0.025276     -0.028499 -0.002432     0.031521     0.000753  \n",
       "55   0.037288      0.017992  0.012001     0.037899    -0.001596  \n",
       "56   0.017483     -0.003679  0.004811     0.026253    -0.005279  \n",
       "57   0.002349      0.009988  0.007551     0.019031    -0.010485  "
      ]
     },
     "execution_count": 47,
     "metadata": {},
     "output_type": "execute_result"
    }
   ],
   "source": [
    "roi_fit"
   ]
  },
  {
   "cell_type": "code",
   "execution_count": 48,
   "id": "c6bf272f",
   "metadata": {},
   "outputs": [
    {
     "data": {
      "text/html": [
       "<div>\n",
       "<style scoped>\n",
       "    .dataframe tbody tr th:only-of-type {\n",
       "        vertical-align: middle;\n",
       "    }\n",
       "\n",
       "    .dataframe tbody tr th {\n",
       "        vertical-align: top;\n",
       "    }\n",
       "\n",
       "    .dataframe thead th {\n",
       "        text-align: right;\n",
       "    }\n",
       "</style>\n",
       "<table border=\"1\" class=\"dataframe\">\n",
       "  <thead>\n",
       "    <tr style=\"text-align: right;\">\n",
       "      <th></th>\n",
       "      <th>unique_reref_ch</th>\n",
       "      <th>subj_id</th>\n",
       "      <th>roi</th>\n",
       "      <th>bdi</th>\n",
       "      <th>raw_Intercept</th>\n",
       "      <th>raw_GambleChoice</th>\n",
       "      <th>raw_TrialEV</th>\n",
       "      <th>raw_TotalProfit</th>\n",
       "      <th>raw_decisionCPE</th>\n",
       "      <th>Intercept</th>\n",
       "      <th>GambleChoice</th>\n",
       "      <th>TrialEV</th>\n",
       "      <th>TotalProfit</th>\n",
       "      <th>decisionCPE</th>\n",
       "    </tr>\n",
       "  </thead>\n",
       "  <tbody>\n",
       "    <tr>\n",
       "      <th>0</th>\n",
       "      <td>DA023_lac1-lac2</td>\n",
       "      <td>DA023</td>\n",
       "      <td>acc</td>\n",
       "      <td>14</td>\n",
       "      <td>0.017687</td>\n",
       "      <td>-0.046280</td>\n",
       "      <td>0.017984</td>\n",
       "      <td>0.027602</td>\n",
       "      <td>-0.005929</td>\n",
       "      <td>0.011201</td>\n",
       "      <td>-0.039348</td>\n",
       "      <td>0.007260</td>\n",
       "      <td>0.046019</td>\n",
       "      <td>-0.003616</td>\n",
       "    </tr>\n",
       "    <tr>\n",
       "      <th>1</th>\n",
       "      <td>DA023_lac2-lac3</td>\n",
       "      <td>DA023</td>\n",
       "      <td>acc</td>\n",
       "      <td>14</td>\n",
       "      <td>0.026688</td>\n",
       "      <td>-0.053133</td>\n",
       "      <td>0.016662</td>\n",
       "      <td>0.050138</td>\n",
       "      <td>-0.005194</td>\n",
       "      <td>0.020203</td>\n",
       "      <td>-0.046201</td>\n",
       "      <td>0.005938</td>\n",
       "      <td>0.068555</td>\n",
       "      <td>-0.002880</td>\n",
       "    </tr>\n",
       "    <tr>\n",
       "      <th>2</th>\n",
       "      <td>DA023_lac3-lac4</td>\n",
       "      <td>DA023</td>\n",
       "      <td>acc</td>\n",
       "      <td>14</td>\n",
       "      <td>0.012371</td>\n",
       "      <td>-0.012553</td>\n",
       "      <td>0.001783</td>\n",
       "      <td>0.027540</td>\n",
       "      <td>-0.008144</td>\n",
       "      <td>0.005885</td>\n",
       "      <td>-0.005621</td>\n",
       "      <td>-0.008941</td>\n",
       "      <td>0.045956</td>\n",
       "      <td>-0.005831</td>\n",
       "    </tr>\n",
       "    <tr>\n",
       "      <th>3</th>\n",
       "      <td>MS002_lacas1-lacas2</td>\n",
       "      <td>MS002</td>\n",
       "      <td>acc</td>\n",
       "      <td>14</td>\n",
       "      <td>0.001480</td>\n",
       "      <td>0.021288</td>\n",
       "      <td>-0.024196</td>\n",
       "      <td>0.056819</td>\n",
       "      <td>-0.003150</td>\n",
       "      <td>-0.005006</td>\n",
       "      <td>0.028219</td>\n",
       "      <td>-0.034920</td>\n",
       "      <td>0.075236</td>\n",
       "      <td>-0.000837</td>\n",
       "    </tr>\n",
       "    <tr>\n",
       "      <th>4</th>\n",
       "      <td>MS002_lacas2-lacas3</td>\n",
       "      <td>MS002</td>\n",
       "      <td>acc</td>\n",
       "      <td>14</td>\n",
       "      <td>-0.014460</td>\n",
       "      <td>0.042730</td>\n",
       "      <td>-0.028556</td>\n",
       "      <td>0.025129</td>\n",
       "      <td>-0.002796</td>\n",
       "      <td>-0.020946</td>\n",
       "      <td>0.049662</td>\n",
       "      <td>-0.039280</td>\n",
       "      <td>0.043545</td>\n",
       "      <td>-0.000483</td>\n",
       "    </tr>\n",
       "    <tr>\n",
       "      <th>...</th>\n",
       "      <td>...</td>\n",
       "      <td>...</td>\n",
       "      <td>...</td>\n",
       "      <td>...</td>\n",
       "      <td>...</td>\n",
       "      <td>...</td>\n",
       "      <td>...</td>\n",
       "      <td>...</td>\n",
       "      <td>...</td>\n",
       "      <td>...</td>\n",
       "      <td>...</td>\n",
       "      <td>...</td>\n",
       "      <td>...</td>\n",
       "      <td>...</td>\n",
       "    </tr>\n",
       "    <tr>\n",
       "      <th>1771</th>\n",
       "      <td>MS050_lcmang3-lcmang4</td>\n",
       "      <td>MS050</td>\n",
       "      <td>thalamus</td>\n",
       "      <td>9</td>\n",
       "      <td>0.066089</td>\n",
       "      <td>0.020722</td>\n",
       "      <td>0.009952</td>\n",
       "      <td>-0.002443</td>\n",
       "      <td>0.004170</td>\n",
       "      <td>0.032984</td>\n",
       "      <td>-0.006076</td>\n",
       "      <td>0.005010</td>\n",
       "      <td>0.017511</td>\n",
       "      <td>-0.006008</td>\n",
       "    </tr>\n",
       "    <tr>\n",
       "      <th>1772</th>\n",
       "      <td>MS050_lcmang4-lcmang5</td>\n",
       "      <td>MS050</td>\n",
       "      <td>thalamus</td>\n",
       "      <td>9</td>\n",
       "      <td>0.058381</td>\n",
       "      <td>-0.001702</td>\n",
       "      <td>0.002510</td>\n",
       "      <td>0.011566</td>\n",
       "      <td>0.010930</td>\n",
       "      <td>0.025276</td>\n",
       "      <td>-0.028499</td>\n",
       "      <td>-0.002432</td>\n",
       "      <td>0.031521</td>\n",
       "      <td>0.000753</td>\n",
       "    </tr>\n",
       "    <tr>\n",
       "      <th>1773</th>\n",
       "      <td>MS050_rcmsmg1-rcmsmg2</td>\n",
       "      <td>MS050</td>\n",
       "      <td>thalamus</td>\n",
       "      <td>9</td>\n",
       "      <td>0.070393</td>\n",
       "      <td>0.044789</td>\n",
       "      <td>0.016943</td>\n",
       "      <td>0.017944</td>\n",
       "      <td>0.008582</td>\n",
       "      <td>0.037288</td>\n",
       "      <td>0.017992</td>\n",
       "      <td>0.012001</td>\n",
       "      <td>0.037899</td>\n",
       "      <td>-0.001596</td>\n",
       "    </tr>\n",
       "    <tr>\n",
       "      <th>1774</th>\n",
       "      <td>MS050_rcmsmg2-rcmsmg3</td>\n",
       "      <td>MS050</td>\n",
       "      <td>thalamus</td>\n",
       "      <td>9</td>\n",
       "      <td>0.050588</td>\n",
       "      <td>0.023119</td>\n",
       "      <td>0.009753</td>\n",
       "      <td>0.006299</td>\n",
       "      <td>0.004898</td>\n",
       "      <td>0.017483</td>\n",
       "      <td>-0.003679</td>\n",
       "      <td>0.004811</td>\n",
       "      <td>0.026253</td>\n",
       "      <td>-0.005279</td>\n",
       "    </tr>\n",
       "    <tr>\n",
       "      <th>1775</th>\n",
       "      <td>MS050_rcmsmg3-rcmsmg4</td>\n",
       "      <td>MS050</td>\n",
       "      <td>thalamus</td>\n",
       "      <td>9</td>\n",
       "      <td>0.035454</td>\n",
       "      <td>0.036785</td>\n",
       "      <td>0.012493</td>\n",
       "      <td>-0.000923</td>\n",
       "      <td>-0.000307</td>\n",
       "      <td>0.002349</td>\n",
       "      <td>0.009988</td>\n",
       "      <td>0.007551</td>\n",
       "      <td>0.019031</td>\n",
       "      <td>-0.010485</td>\n",
       "    </tr>\n",
       "  </tbody>\n",
       "</table>\n",
       "<p>1776 rows × 14 columns</p>\n",
       "</div>"
      ],
      "text/plain": [
       "            unique_reref_ch subj_id       roi  bdi  raw_Intercept  \\\n",
       "0           DA023_lac1-lac2   DA023       acc   14       0.017687   \n",
       "1           DA023_lac2-lac3   DA023       acc   14       0.026688   \n",
       "2           DA023_lac3-lac4   DA023       acc   14       0.012371   \n",
       "3       MS002_lacas1-lacas2   MS002       acc   14       0.001480   \n",
       "4       MS002_lacas2-lacas3   MS002       acc   14      -0.014460   \n",
       "...                     ...     ...       ...  ...            ...   \n",
       "1771  MS050_lcmang3-lcmang4   MS050  thalamus    9       0.066089   \n",
       "1772  MS050_lcmang4-lcmang5   MS050  thalamus    9       0.058381   \n",
       "1773  MS050_rcmsmg1-rcmsmg2   MS050  thalamus    9       0.070393   \n",
       "1774  MS050_rcmsmg2-rcmsmg3   MS050  thalamus    9       0.050588   \n",
       "1775  MS050_rcmsmg3-rcmsmg4   MS050  thalamus    9       0.035454   \n",
       "\n",
       "      raw_GambleChoice  raw_TrialEV  raw_TotalProfit  raw_decisionCPE  \\\n",
       "0            -0.046280     0.017984         0.027602        -0.005929   \n",
       "1            -0.053133     0.016662         0.050138        -0.005194   \n",
       "2            -0.012553     0.001783         0.027540        -0.008144   \n",
       "3             0.021288    -0.024196         0.056819        -0.003150   \n",
       "4             0.042730    -0.028556         0.025129        -0.002796   \n",
       "...                ...          ...              ...              ...   \n",
       "1771          0.020722     0.009952        -0.002443         0.004170   \n",
       "1772         -0.001702     0.002510         0.011566         0.010930   \n",
       "1773          0.044789     0.016943         0.017944         0.008582   \n",
       "1774          0.023119     0.009753         0.006299         0.004898   \n",
       "1775          0.036785     0.012493        -0.000923        -0.000307   \n",
       "\n",
       "      Intercept  GambleChoice   TrialEV  TotalProfit  decisionCPE  \n",
       "0      0.011201     -0.039348  0.007260     0.046019    -0.003616  \n",
       "1      0.020203     -0.046201  0.005938     0.068555    -0.002880  \n",
       "2      0.005885     -0.005621 -0.008941     0.045956    -0.005831  \n",
       "3     -0.005006      0.028219 -0.034920     0.075236    -0.000837  \n",
       "4     -0.020946      0.049662 -0.039280     0.043545    -0.000483  \n",
       "...         ...           ...       ...          ...          ...  \n",
       "1771   0.032984     -0.006076  0.005010     0.017511    -0.006008  \n",
       "1772   0.025276     -0.028499 -0.002432     0.031521     0.000753  \n",
       "1773   0.037288      0.017992  0.012001     0.037899    -0.001596  \n",
       "1774   0.017483     -0.003679  0.004811     0.026253    -0.005279  \n",
       "1775   0.002349      0.009988  0.007551     0.019031    -0.010485  \n",
       "\n",
       "[1776 rows x 14 columns]"
      ]
     },
     "execution_count": 48,
     "metadata": {},
     "output_type": "execute_result"
    }
   ],
   "source": [
    "roi_fit_results"
   ]
  },
  {
   "cell_type": "code",
   "execution_count": 49,
   "id": "7918a2ca",
   "metadata": {},
   "outputs": [],
   "source": [
    "fe_params_results = {f'{roi}':roi_fit_dict[roi].fe_params for roi in list(roi_fit_dict.keys())}\n",
    "# fe_params_pvals = {f'{roi}':roi_fit_dict[roi].pvalues for roi in list(roi_fit_dict.keys())}\n"
   ]
  },
  {
   "cell_type": "code",
   "execution_count": 50,
   "id": "20a84de8",
   "metadata": {
    "scrolled": true
   },
   "outputs": [],
   "source": [
    "# fe_params_results"
   ]
  },
  {
   "cell_type": "code",
   "execution_count": 51,
   "id": "a9a1f245",
   "metadata": {},
   "outputs": [],
   "source": [
    "fe_results = []\n",
    "for fe_res in fe_params_results:\n",
    "    \n",
    "    fe_results.append(pd.DataFrame({**dict(fe_params_results[fe_res]),**{'roi':fe_res}},index=[0]))\n"
   ]
  },
  {
   "cell_type": "code",
   "execution_count": 52,
   "id": "0d637ccc",
   "metadata": {},
   "outputs": [],
   "source": [
    "fe_results = pd.concat(fe_results).reset_index(drop=True)"
   ]
  },
  {
   "cell_type": "code",
   "execution_count": 53,
   "id": "2647169e",
   "metadata": {},
   "outputs": [],
   "source": [
    "fe_results['roi_cpe_pval'] = [roi_fit_dict[roi].pvalues['decisionCPE'] for roi in fe_results.roi.tolist()]"
   ]
  },
  {
   "cell_type": "code",
   "execution_count": 55,
   "id": "c8f6086d",
   "metadata": {},
   "outputs": [
    {
     "data": {
      "text/html": [
       "<div>\n",
       "<style scoped>\n",
       "    .dataframe tbody tr th:only-of-type {\n",
       "        vertical-align: middle;\n",
       "    }\n",
       "\n",
       "    .dataframe tbody tr th {\n",
       "        vertical-align: top;\n",
       "    }\n",
       "\n",
       "    .dataframe thead th {\n",
       "        text-align: right;\n",
       "    }\n",
       "</style>\n",
       "<table border=\"1\" class=\"dataframe\">\n",
       "  <thead>\n",
       "    <tr style=\"text-align: right;\">\n",
       "      <th></th>\n",
       "      <th>Intercept</th>\n",
       "      <th>C(GambleChoice)[T.safe]</th>\n",
       "      <th>TrialEV</th>\n",
       "      <th>TotalProfit</th>\n",
       "      <th>decisionCPE</th>\n",
       "      <th>roi</th>\n",
       "      <th>roi_cpe_pval</th>\n",
       "    </tr>\n",
       "  </thead>\n",
       "  <tbody>\n",
       "    <tr>\n",
       "      <th>0</th>\n",
       "      <td>-0.006486</td>\n",
       "      <td>0.006932</td>\n",
       "      <td>-0.010724</td>\n",
       "      <td>0.018417</td>\n",
       "      <td>0.002314</td>\n",
       "      <td>acc</td>\n",
       "      <td>0.610200</td>\n",
       "    </tr>\n",
       "    <tr>\n",
       "      <th>1</th>\n",
       "      <td>-0.026396</td>\n",
       "      <td>0.003391</td>\n",
       "      <td>-0.010597</td>\n",
       "      <td>-0.005416</td>\n",
       "      <td>0.006755</td>\n",
       "      <td>dmpfc</td>\n",
       "      <td>0.206377</td>\n",
       "    </tr>\n",
       "    <tr>\n",
       "      <th>2</th>\n",
       "      <td>-0.034659</td>\n",
       "      <td>-0.002770</td>\n",
       "      <td>-0.005804</td>\n",
       "      <td>0.019237</td>\n",
       "      <td>-0.001426</td>\n",
       "      <td>amy</td>\n",
       "      <td>0.819116</td>\n",
       "    </tr>\n",
       "    <tr>\n",
       "      <th>3</th>\n",
       "      <td>-0.084421</td>\n",
       "      <td>-0.030878</td>\n",
       "      <td>-0.000971</td>\n",
       "      <td>0.031532</td>\n",
       "      <td>-0.007534</td>\n",
       "      <td>sts</td>\n",
       "      <td>0.224241</td>\n",
       "    </tr>\n",
       "    <tr>\n",
       "      <th>4</th>\n",
       "      <td>-0.020973</td>\n",
       "      <td>0.044434</td>\n",
       "      <td>-0.003901</td>\n",
       "      <td>-0.029868</td>\n",
       "      <td>0.019785</td>\n",
       "      <td>ains</td>\n",
       "      <td>0.037603</td>\n",
       "    </tr>\n",
       "    <tr>\n",
       "      <th>5</th>\n",
       "      <td>-0.036158</td>\n",
       "      <td>-0.009504</td>\n",
       "      <td>-0.017779</td>\n",
       "      <td>0.004242</td>\n",
       "      <td>-0.005124</td>\n",
       "      <td>vlpfc</td>\n",
       "      <td>0.482717</td>\n",
       "    </tr>\n",
       "    <tr>\n",
       "      <th>6</th>\n",
       "      <td>-0.106125</td>\n",
       "      <td>0.018065</td>\n",
       "      <td>-0.006146</td>\n",
       "      <td>-0.001739</td>\n",
       "      <td>-0.012677</td>\n",
       "      <td>hpc</td>\n",
       "      <td>0.019519</td>\n",
       "    </tr>\n",
       "    <tr>\n",
       "      <th>7</th>\n",
       "      <td>-0.094136</td>\n",
       "      <td>-0.054248</td>\n",
       "      <td>-0.019676</td>\n",
       "      <td>0.032583</td>\n",
       "      <td>-0.014849</td>\n",
       "      <td>mtg</td>\n",
       "      <td>0.324645</td>\n",
       "    </tr>\n",
       "    <tr>\n",
       "      <th>8</th>\n",
       "      <td>-0.045820</td>\n",
       "      <td>-0.007132</td>\n",
       "      <td>-0.007791</td>\n",
       "      <td>-0.000304</td>\n",
       "      <td>-0.012116</td>\n",
       "      <td>ofc</td>\n",
       "      <td>0.005660</td>\n",
       "    </tr>\n",
       "    <tr>\n",
       "      <th>9</th>\n",
       "      <td>-0.048412</td>\n",
       "      <td>0.025658</td>\n",
       "      <td>-0.005279</td>\n",
       "      <td>0.021187</td>\n",
       "      <td>0.006029</td>\n",
       "      <td>pins</td>\n",
       "      <td>0.497890</td>\n",
       "    </tr>\n",
       "    <tr>\n",
       "      <th>10</th>\n",
       "      <td>-0.013345</td>\n",
       "      <td>-0.016664</td>\n",
       "      <td>-0.027659</td>\n",
       "      <td>-0.007871</td>\n",
       "      <td>0.011087</td>\n",
       "      <td>dlpfc</td>\n",
       "      <td>0.168470</td>\n",
       "    </tr>\n",
       "    <tr>\n",
       "      <th>11</th>\n",
       "      <td>-0.007634</td>\n",
       "      <td>-0.008755</td>\n",
       "      <td>-0.003045</td>\n",
       "      <td>0.036702</td>\n",
       "      <td>-0.001260</td>\n",
       "      <td>motor</td>\n",
       "      <td>0.923622</td>\n",
       "    </tr>\n",
       "    <tr>\n",
       "      <th>12</th>\n",
       "      <td>-0.039171</td>\n",
       "      <td>0.024340</td>\n",
       "      <td>0.000927</td>\n",
       "      <td>-0.044952</td>\n",
       "      <td>-0.008508</td>\n",
       "      <td>vmpfc</td>\n",
       "      <td>0.649224</td>\n",
       "    </tr>\n",
       "    <tr>\n",
       "      <th>13</th>\n",
       "      <td>-0.047384</td>\n",
       "      <td>0.020747</td>\n",
       "      <td>0.008740</td>\n",
       "      <td>0.036846</td>\n",
       "      <td>-0.023634</td>\n",
       "      <td>phg</td>\n",
       "      <td>0.071086</td>\n",
       "    </tr>\n",
       "    <tr>\n",
       "      <th>14</th>\n",
       "      <td>-0.073737</td>\n",
       "      <td>0.013925</td>\n",
       "      <td>0.021510</td>\n",
       "      <td>0.008214</td>\n",
       "      <td>-0.004892</td>\n",
       "      <td>smg</td>\n",
       "      <td>0.500988</td>\n",
       "    </tr>\n",
       "    <tr>\n",
       "      <th>15</th>\n",
       "      <td>-0.043004</td>\n",
       "      <td>-0.009349</td>\n",
       "      <td>-0.002164</td>\n",
       "      <td>-0.038705</td>\n",
       "      <td>0.006043</td>\n",
       "      <td>stg</td>\n",
       "      <td>0.358452</td>\n",
       "    </tr>\n",
       "    <tr>\n",
       "      <th>16</th>\n",
       "      <td>-0.075529</td>\n",
       "      <td>0.003699</td>\n",
       "      <td>0.009835</td>\n",
       "      <td>-0.039018</td>\n",
       "      <td>-0.029488</td>\n",
       "      <td>mcc</td>\n",
       "      <td>0.013926</td>\n",
       "    </tr>\n",
       "    <tr>\n",
       "      <th>17</th>\n",
       "      <td>-0.049892</td>\n",
       "      <td>-0.007740</td>\n",
       "      <td>0.003354</td>\n",
       "      <td>0.016157</td>\n",
       "      <td>-0.001553</td>\n",
       "      <td>temporal pole</td>\n",
       "      <td>0.910137</td>\n",
       "    </tr>\n",
       "    <tr>\n",
       "      <th>18</th>\n",
       "      <td>-0.053067</td>\n",
       "      <td>0.012700</td>\n",
       "      <td>-0.004688</td>\n",
       "      <td>0.013838</td>\n",
       "      <td>-0.013842</td>\n",
       "      <td>parietal</td>\n",
       "      <td>0.336120</td>\n",
       "    </tr>\n",
       "    <tr>\n",
       "      <th>19</th>\n",
       "      <td>-0.033105</td>\n",
       "      <td>-0.026797</td>\n",
       "      <td>-0.004942</td>\n",
       "      <td>0.019954</td>\n",
       "      <td>-0.010178</td>\n",
       "      <td>thalamus</td>\n",
       "      <td>0.194250</td>\n",
       "    </tr>\n",
       "  </tbody>\n",
       "</table>\n",
       "</div>"
      ],
      "text/plain": [
       "    Intercept  C(GambleChoice)[T.safe]   TrialEV  TotalProfit  decisionCPE  \\\n",
       "0   -0.006486                 0.006932 -0.010724     0.018417     0.002314   \n",
       "1   -0.026396                 0.003391 -0.010597    -0.005416     0.006755   \n",
       "2   -0.034659                -0.002770 -0.005804     0.019237    -0.001426   \n",
       "3   -0.084421                -0.030878 -0.000971     0.031532    -0.007534   \n",
       "4   -0.020973                 0.044434 -0.003901    -0.029868     0.019785   \n",
       "5   -0.036158                -0.009504 -0.017779     0.004242    -0.005124   \n",
       "6   -0.106125                 0.018065 -0.006146    -0.001739    -0.012677   \n",
       "7   -0.094136                -0.054248 -0.019676     0.032583    -0.014849   \n",
       "8   -0.045820                -0.007132 -0.007791    -0.000304    -0.012116   \n",
       "9   -0.048412                 0.025658 -0.005279     0.021187     0.006029   \n",
       "10  -0.013345                -0.016664 -0.027659    -0.007871     0.011087   \n",
       "11  -0.007634                -0.008755 -0.003045     0.036702    -0.001260   \n",
       "12  -0.039171                 0.024340  0.000927    -0.044952    -0.008508   \n",
       "13  -0.047384                 0.020747  0.008740     0.036846    -0.023634   \n",
       "14  -0.073737                 0.013925  0.021510     0.008214    -0.004892   \n",
       "15  -0.043004                -0.009349 -0.002164    -0.038705     0.006043   \n",
       "16  -0.075529                 0.003699  0.009835    -0.039018    -0.029488   \n",
       "17  -0.049892                -0.007740  0.003354     0.016157    -0.001553   \n",
       "18  -0.053067                 0.012700 -0.004688     0.013838    -0.013842   \n",
       "19  -0.033105                -0.026797 -0.004942     0.019954    -0.010178   \n",
       "\n",
       "              roi  roi_cpe_pval  \n",
       "0             acc      0.610200  \n",
       "1           dmpfc      0.206377  \n",
       "2             amy      0.819116  \n",
       "3             sts      0.224241  \n",
       "4            ains      0.037603  \n",
       "5           vlpfc      0.482717  \n",
       "6             hpc      0.019519  \n",
       "7             mtg      0.324645  \n",
       "8             ofc      0.005660  \n",
       "9            pins      0.497890  \n",
       "10          dlpfc      0.168470  \n",
       "11          motor      0.923622  \n",
       "12          vmpfc      0.649224  \n",
       "13            phg      0.071086  \n",
       "14            smg      0.500988  \n",
       "15            stg      0.358452  \n",
       "16            mcc      0.013926  \n",
       "17  temporal pole      0.910137  \n",
       "18       parietal      0.336120  \n",
       "19       thalamus      0.194250  "
      ]
     },
     "execution_count": 55,
     "metadata": {},
     "output_type": "execute_result"
    }
   ],
   "source": [
    "fe_results "
   ]
  },
  {
   "cell_type": "code",
   "execution_count": 44,
   "id": "312c098a",
   "metadata": {},
   "outputs": [
    {
     "data": {
      "text/html": [
       "<div>\n",
       "<style scoped>\n",
       "    .dataframe tbody tr th:only-of-type {\n",
       "        vertical-align: middle;\n",
       "    }\n",
       "\n",
       "    .dataframe tbody tr th {\n",
       "        vertical-align: top;\n",
       "    }\n",
       "\n",
       "    .dataframe thead th {\n",
       "        text-align: right;\n",
       "    }\n",
       "</style>\n",
       "<table border=\"1\" class=\"dataframe\">\n",
       "  <thead>\n",
       "    <tr style=\"text-align: right;\">\n",
       "      <th></th>\n",
       "      <th>Intercept</th>\n",
       "      <th>C(GambleChoice)[T.safe]</th>\n",
       "      <th>TotalProfit</th>\n",
       "      <th>decisionCPE</th>\n",
       "      <th>roi</th>\n",
       "      <th>roi_cpe_pval</th>\n",
       "    </tr>\n",
       "  </thead>\n",
       "  <tbody>\n",
       "    <tr>\n",
       "      <th>0</th>\n",
       "      <td>-0.007896</td>\n",
       "      <td>0.009608</td>\n",
       "      <td>0.017085</td>\n",
       "      <td>0.002446</td>\n",
       "      <td>acc</td>\n",
       "      <td>0.593253</td>\n",
       "    </tr>\n",
       "    <tr>\n",
       "      <th>1</th>\n",
       "      <td>-0.028134</td>\n",
       "      <td>0.006928</td>\n",
       "      <td>-0.006328</td>\n",
       "      <td>0.006430</td>\n",
       "      <td>dmpfc</td>\n",
       "      <td>0.225350</td>\n",
       "    </tr>\n",
       "    <tr>\n",
       "      <th>2</th>\n",
       "      <td>-0.035507</td>\n",
       "      <td>-0.000818</td>\n",
       "      <td>0.018803</td>\n",
       "      <td>-0.001524</td>\n",
       "      <td>amy</td>\n",
       "      <td>0.807975</td>\n",
       "    </tr>\n",
       "    <tr>\n",
       "      <th>3</th>\n",
       "      <td>-0.085146</td>\n",
       "      <td>-0.030508</td>\n",
       "      <td>0.030772</td>\n",
       "      <td>-0.006630</td>\n",
       "      <td>sts</td>\n",
       "      <td>0.287188</td>\n",
       "    </tr>\n",
       "    <tr>\n",
       "      <th>4</th>\n",
       "      <td>-0.022002</td>\n",
       "      <td>0.047157</td>\n",
       "      <td>-0.029533</td>\n",
       "      <td>0.019781</td>\n",
       "      <td>ains</td>\n",
       "      <td>0.039208</td>\n",
       "    </tr>\n",
       "    <tr>\n",
       "      <th>5</th>\n",
       "      <td>-0.038650</td>\n",
       "      <td>-0.005590</td>\n",
       "      <td>0.003461</td>\n",
       "      <td>-0.003982</td>\n",
       "      <td>vlpfc</td>\n",
       "      <td>0.599655</td>\n",
       "    </tr>\n",
       "    <tr>\n",
       "      <th>6</th>\n",
       "      <td>-0.107110</td>\n",
       "      <td>0.019953</td>\n",
       "      <td>-0.002538</td>\n",
       "      <td>-0.012421</td>\n",
       "      <td>hpc</td>\n",
       "      <td>0.017119</td>\n",
       "    </tr>\n",
       "    <tr>\n",
       "      <th>7</th>\n",
       "      <td>-0.096857</td>\n",
       "      <td>-0.047117</td>\n",
       "      <td>0.031984</td>\n",
       "      <td>-0.016430</td>\n",
       "      <td>mtg</td>\n",
       "      <td>0.289696</td>\n",
       "    </tr>\n",
       "    <tr>\n",
       "      <th>8</th>\n",
       "      <td>-0.047085</td>\n",
       "      <td>-0.004696</td>\n",
       "      <td>-0.000806</td>\n",
       "      <td>-0.012132</td>\n",
       "      <td>ofc</td>\n",
       "      <td>0.004915</td>\n",
       "    </tr>\n",
       "    <tr>\n",
       "      <th>9</th>\n",
       "      <td>-0.049266</td>\n",
       "      <td>0.026769</td>\n",
       "      <td>0.020431</td>\n",
       "      <td>0.006305</td>\n",
       "      <td>pins</td>\n",
       "      <td>0.458373</td>\n",
       "    </tr>\n",
       "    <tr>\n",
       "      <th>10</th>\n",
       "      <td>-0.017951</td>\n",
       "      <td>-0.007237</td>\n",
       "      <td>-0.008696</td>\n",
       "      <td>0.009718</td>\n",
       "      <td>dlpfc</td>\n",
       "      <td>0.237449</td>\n",
       "    </tr>\n",
       "    <tr>\n",
       "      <th>11</th>\n",
       "      <td>-0.008262</td>\n",
       "      <td>-0.007790</td>\n",
       "      <td>0.036691</td>\n",
       "      <td>-0.000827</td>\n",
       "      <td>motor</td>\n",
       "      <td>0.948197</td>\n",
       "    </tr>\n",
       "    <tr>\n",
       "      <th>12</th>\n",
       "      <td>-0.039397</td>\n",
       "      <td>0.026382</td>\n",
       "      <td>-0.043676</td>\n",
       "      <td>-0.010403</td>\n",
       "      <td>vmpfc</td>\n",
       "      <td>0.576204</td>\n",
       "    </tr>\n",
       "    <tr>\n",
       "      <th>13</th>\n",
       "      <td>-0.045863</td>\n",
       "      <td>0.017611</td>\n",
       "      <td>0.037217</td>\n",
       "      <td>-0.025365</td>\n",
       "      <td>phg</td>\n",
       "      <td>0.037183</td>\n",
       "    </tr>\n",
       "    <tr>\n",
       "      <th>14</th>\n",
       "      <td>-0.070378</td>\n",
       "      <td>0.007188</td>\n",
       "      <td>0.008552</td>\n",
       "      <td>-0.005067</td>\n",
       "      <td>smg</td>\n",
       "      <td>0.479476</td>\n",
       "    </tr>\n",
       "    <tr>\n",
       "      <th>15</th>\n",
       "      <td>-0.043689</td>\n",
       "      <td>-0.008291</td>\n",
       "      <td>-0.038742</td>\n",
       "      <td>0.006379</td>\n",
       "      <td>stg</td>\n",
       "      <td>0.332965</td>\n",
       "    </tr>\n",
       "    <tr>\n",
       "      <th>16</th>\n",
       "      <td>-0.074650</td>\n",
       "      <td>0.002092</td>\n",
       "      <td>-0.039357</td>\n",
       "      <td>-0.029463</td>\n",
       "      <td>mcc</td>\n",
       "      <td>0.008745</td>\n",
       "    </tr>\n",
       "    <tr>\n",
       "      <th>17</th>\n",
       "      <td>-0.050735</td>\n",
       "      <td>-0.006497</td>\n",
       "      <td>0.015686</td>\n",
       "      <td>-0.003954</td>\n",
       "      <td>temporal pole</td>\n",
       "      <td>0.767253</td>\n",
       "    </tr>\n",
       "    <tr>\n",
       "      <th>18</th>\n",
       "      <td>-0.053093</td>\n",
       "      <td>0.012721</td>\n",
       "      <td>0.013124</td>\n",
       "      <td>-0.015022</td>\n",
       "      <td>parietal</td>\n",
       "      <td>0.280045</td>\n",
       "    </tr>\n",
       "    <tr>\n",
       "      <th>19</th>\n",
       "      <td>-0.033639</td>\n",
       "      <td>-0.025128</td>\n",
       "      <td>0.019694</td>\n",
       "      <td>-0.011063</td>\n",
       "      <td>thalamus</td>\n",
       "      <td>0.155449</td>\n",
       "    </tr>\n",
       "  </tbody>\n",
       "</table>\n",
       "</div>"
      ],
      "text/plain": [
       "    Intercept  C(GambleChoice)[T.safe]  TotalProfit  decisionCPE  \\\n",
       "0   -0.007896                 0.009608     0.017085     0.002446   \n",
       "1   -0.028134                 0.006928    -0.006328     0.006430   \n",
       "2   -0.035507                -0.000818     0.018803    -0.001524   \n",
       "3   -0.085146                -0.030508     0.030772    -0.006630   \n",
       "4   -0.022002                 0.047157    -0.029533     0.019781   \n",
       "5   -0.038650                -0.005590     0.003461    -0.003982   \n",
       "6   -0.107110                 0.019953    -0.002538    -0.012421   \n",
       "7   -0.096857                -0.047117     0.031984    -0.016430   \n",
       "8   -0.047085                -0.004696    -0.000806    -0.012132   \n",
       "9   -0.049266                 0.026769     0.020431     0.006305   \n",
       "10  -0.017951                -0.007237    -0.008696     0.009718   \n",
       "11  -0.008262                -0.007790     0.036691    -0.000827   \n",
       "12  -0.039397                 0.026382    -0.043676    -0.010403   \n",
       "13  -0.045863                 0.017611     0.037217    -0.025365   \n",
       "14  -0.070378                 0.007188     0.008552    -0.005067   \n",
       "15  -0.043689                -0.008291    -0.038742     0.006379   \n",
       "16  -0.074650                 0.002092    -0.039357    -0.029463   \n",
       "17  -0.050735                -0.006497     0.015686    -0.003954   \n",
       "18  -0.053093                 0.012721     0.013124    -0.015022   \n",
       "19  -0.033639                -0.025128     0.019694    -0.011063   \n",
       "\n",
       "              roi  roi_cpe_pval  \n",
       "0             acc      0.593253  \n",
       "1           dmpfc      0.225350  \n",
       "2             amy      0.807975  \n",
       "3             sts      0.287188  \n",
       "4            ains      0.039208  \n",
       "5           vlpfc      0.599655  \n",
       "6             hpc      0.017119  \n",
       "7             mtg      0.289696  \n",
       "8             ofc      0.004915  \n",
       "9            pins      0.458373  \n",
       "10          dlpfc      0.237449  \n",
       "11          motor      0.948197  \n",
       "12          vmpfc      0.576204  \n",
       "13            phg      0.037183  \n",
       "14            smg      0.479476  \n",
       "15            stg      0.332965  \n",
       "16            mcc      0.008745  \n",
       "17  temporal pole      0.767253  \n",
       "18       parietal      0.280045  \n",
       "19       thalamus      0.155449  "
      ]
     },
     "execution_count": 44,
     "metadata": {},
     "output_type": "execute_result"
    }
   ],
   "source": [
    "fe_results"
   ]
  },
  {
   "cell_type": "code",
   "execution_count": null,
   "id": "b82f141c",
   "metadata": {},
   "outputs": [],
   "source": []
  },
  {
   "cell_type": "code",
   "execution_count": null,
   "id": "d13b5538",
   "metadata": {},
   "outputs": [],
   "source": []
  },
  {
   "cell_type": "code",
   "execution_count": null,
   "id": "42a18aa4",
   "metadata": {},
   "outputs": [],
   "source": []
  },
  {
   "cell_type": "code",
   "execution_count": null,
   "id": "8493a9d3",
   "metadata": {},
   "outputs": [],
   "source": []
  },
  {
   "cell_type": "code",
   "execution_count": 37,
   "id": "0b566bb9",
   "metadata": {},
   "outputs": [],
   "source": [
    "\n",
    "# sns.set_context(\"talk\",rc={'axes.linewidth': 1.5})\n",
    "\n",
    "# for roi in roi_plot_data.roi.unique().tolist()[:-1]:\n",
    "#     roi_temp_data = roi_plot_data[roi_plot_data.roi==roi]\n",
    "\n",
    "#     rho   = rho_data[rho_data.roi == roi].round_rho.values[0]\n",
    "#     rho_p = rho_data[rho_data.roi == roi].round_p.values[0]\n",
    "    \n",
    "        \n",
    "#     fig,ax = plt.subplots(1,1,figsize=(5,3.5),dpi=300)\n",
    "\n",
    "#     sns.regplot(data=roi_temp_data,x='bdi',y='elec_bCPE',scatter=False,ci=95,\n",
    "#                 fit_reg=True,color = '#00467e') #034975\n",
    "    \n",
    "#     sns.scatterplot(data = roi_temp_data.groupby(['subj_id']).agg('mean'),x='bdi',\n",
    "#                     y='raw_decisionCPE',color = '#00467e',edgecolor=None,alpha=0.8)\n",
    "    \n",
    "# #     plt.gca().yaxis.set_major_formatter(StrMethodFormatter('{x:,.2f}')) \n",
    "#     plt.xlabel('BDI-II')\n",
    "# #     plt.xlim([0,40])\n",
    "    \n",
    "#     plt.tick_params(length=0) \n",
    "# #     plt.ylabel('beta'+r'$beta_{{{zpow}}}$'+' cpe encoding')\n",
    "#     plt.ylabel(fr'${band}_{{{zpow}}} \\sim cpe$')\n",
    "\n",
    "#     plt.text(np.max(roi_temp_data.bdi)-8,\n",
    "#              np.round(np.max(roi_temp_data.groupby(['subj_id']).agg('mean').elec_bCPE),3)-0.003,\n",
    "#              r'$rho$ = '+f'{rho} \\n'+ fr'$p \\approxeq $ {rho_p}',color='k',fontsize=12)\n",
    "# #              color='#00467e',fontsize=16)\n",
    "# #     plt.text(0.8,0.8,r'$rho$ = '+f'{rho} \\n'+ fr'$p \\approxeq $ {rho_p}',\n",
    "# #             verticalalignment='top', horizontalalignment='right',\n",
    "# #             color='k',fontsize=16)\n",
    "\n",
    "#     plt.title(f'{roi}',fontsize=20)\n",
    "#     plt.tight_layout()\n",
    "\n",
    "\n",
    "    \n",
    "#     sns.despine()\n",
    "    \n",
    "# #     plt.savefig(f'{fig_save_dir}/{roi}_{rho}_{rho_p}_roi_bdi_beta-cpe-slope.pdf', format='pdf', metadata=None,\n",
    "# #         bbox_inches='tight', pad_inches=0.1,dpi=300,\n",
    "# #         facecolor='auto', edgecolor='auto',\n",
    "# #         backend=None)\n",
    "    "
   ]
  },
  {
   "cell_type": "code",
   "execution_count": null,
   "id": "93e45e8e",
   "metadata": {},
   "outputs": [],
   "source": [
    "sig_roi_fit_results"
   ]
  },
  {
   "cell_type": "code",
   "execution_count": null,
   "id": "ea61be68",
   "metadata": {},
   "outputs": [],
   "source": [
    "roi_fit_results"
   ]
  },
  {
   "cell_type": "code",
   "execution_count": null,
   "id": "b39a83c3",
   "metadata": {},
   "outputs": [],
   "source": [
    "bonferr_alpha = 0.05/len(test_rois)"
   ]
  },
  {
   "cell_type": "code",
   "execution_count": null,
   "id": "5531a1a5",
   "metadata": {},
   "outputs": [],
   "source": [
    "bonferr_alpha"
   ]
  },
  {
   "cell_type": "code",
   "execution_count": null,
   "id": "ab2b9306",
   "metadata": {},
   "outputs": [],
   "source": [
    "fe_results.roi[fe_results.roi_cpe_pval <= bonferr_alpha]"
   ]
  },
  {
   "cell_type": "code",
   "execution_count": null,
   "id": "487bd75c",
   "metadata": {},
   "outputs": [],
   "source": [
    "sig_roi_fit_results = roi_fit_results[roi_fit_results.decisionCPE <= 0.05]"
   ]
  },
  {
   "cell_type": "code",
   "execution_count": null,
   "id": "abc62010",
   "metadata": {},
   "outputs": [],
   "source": [
    "sig_roi_fit_results.roi.value_counts()"
   ]
  },
  {
   "cell_type": "code",
   "execution_count": null,
   "id": "c9900c62",
   "metadata": {},
   "outputs": [],
   "source": [
    "sig_roi_fit_results"
   ]
  },
  {
   "cell_type": "code",
   "execution_count": null,
   "id": "8cbed870",
   "metadata": {},
   "outputs": [],
   "source": [
    "plot_roi_model_results(sig_data,'roi','Z_Score_decisionCPE',bar_order=bar_order,color='#135546',figsize=(10,4))"
   ]
  },
  {
   "cell_type": "code",
   "execution_count": null,
   "id": "46d6ffe3",
   "metadata": {},
   "outputs": [],
   "source": []
  },
  {
   "cell_type": "code",
   "execution_count": null,
   "id": "322eb831",
   "metadata": {
    "scrolled": true
   },
   "outputs": [],
   "source": [
    "final_fit.pvalues['decisionCPE']"
   ]
  },
  {
   "cell_type": "code",
   "execution_count": null,
   "id": "dbff50be",
   "metadata": {},
   "outputs": [],
   "source": [
    "# final_fit.t_test_pairwise('C(TrialType)',\n",
    "#                           factor_labels=[ 'TrialEV', 'TotalProfit', 'decisionCPE'])\n",
    "# final_fit.model.data.design_info.term_names.index(term_name)"
   ]
  },
  {
   "cell_type": "code",
   "execution_count": null,
   "id": "dcb04c4b",
   "metadata": {},
   "outputs": [],
   "source": [
    "mixed_effects_ftest_ttest(final_fit)"
   ]
  },
  {
   "cell_type": "code",
   "execution_count": null,
   "id": "e215fd34",
   "metadata": {},
   "outputs": [],
   "source": [
    "fe_param_names = list(final_fit.fe_params.index[1:])\n",
    "fe_param_names"
   ]
  },
  {
   "cell_type": "code",
   "execution_count": null,
   "id": "ae6e3385",
   "metadata": {},
   "outputs": [],
   "source": [
    "plot_data = pd.concat([pd.DataFrame(\n",
    "    {**{'subj_id':elec_id.split('_')[0],'reref_ch_names':elec_id.split('_')[1]},'unique_reref_ch':elec_id,\n",
    "     **{f'raw_{param}':final_fit.random_effects[elec_id][param] for param in list(\n",
    "            final_fit.random_effects[elec_id].index)}},index=[range(len(fe_param_names))])\n",
    "        \n",
    "    for elec_id in final_fit.random_effects.keys()]).reset_index(drop=True)\n",
    "\n",
    "plot_data['roi'] = [reg_df.roi[reg_df.unique_reref_ch == row.unique_reref_ch].values[0]\n",
    "                                for idx,row in plot_data.iterrows()]\n",
    "\n",
    "plot_data['bdi'] = [subj_info_df.bdi[subj_info_df.subj_id == subj_id].values[0]\n",
    "                                for subj_id in plot_data.subj_id]"
   ]
  },
  {
   "cell_type": "code",
   "execution_count": null,
   "id": "f059ced9",
   "metadata": {},
   "outputs": [],
   "source": [
    "plot_data"
   ]
  },
  {
   "cell_type": "code",
   "execution_count": null,
   "id": "c43b2a75",
   "metadata": {},
   "outputs": [],
   "source": [
    "#### Get all results for Figs!!!!\n",
    "\n",
    "fe_intercept   = final_fit.params['Intercept']\n",
    "fe_cpe_beta    = final_fit.params['decisionCPE']\n",
    "fe_cpe_beta\n"
   ]
  },
  {
   "cell_type": "code",
   "execution_count": null,
   "id": "a228b003",
   "metadata": {},
   "outputs": [],
   "source": [
    "#### add fixed effects data to all_elec_plot_data\n",
    "plot_data['elec_b0']   = np.add(plot_data.raw_Group,fe_intercept)\n",
    "plot_data['elec_bCPE'] = np.add(plot_data.raw_decisionCPE,fe_cpe_beta)\n",
    "plot_data = plot_data[~plot_data.roi.isnull()]"
   ]
  },
  {
   "cell_type": "code",
   "execution_count": null,
   "id": "16ab40f2",
   "metadata": {},
   "outputs": [],
   "source": [
    "plot_data"
   ]
  },
  {
   "cell_type": "code",
   "execution_count": null,
   "id": "0991b521",
   "metadata": {},
   "outputs": [],
   "source": [
    "raw_roi_stats = {f'{roi}':ttest_1samp(plot_data.raw_decisionCPE[plot_data.roi == roi].unique(),\n",
    "                 popmean=0) for roi in plot_data.roi.unique().tolist()}\n",
    "raw_roi_stats"
   ]
  },
  {
   "cell_type": "code",
   "execution_count": null,
   "id": "407b0f52",
   "metadata": {},
   "outputs": [],
   "source": [
    "roi_stats = {f'{roi}':ttest_1samp(plot_data.elec_bCPE[plot_data.roi == roi].unique(),\n",
    "                 popmean=0) for roi in plot_data.roi.unique().tolist()}\n",
    "roi_stats"
   ]
  },
  {
   "cell_type": "code",
   "execution_count": null,
   "id": "b7b7046c",
   "metadata": {},
   "outputs": [],
   "source": [
    "pairwise_ains_vals = plot_data.elec_bCPE[plot_data.roi == 'ains'].unique()\n",
    "\n",
    "pairwise_roi_stats = {f'ains={roi}':ttest_ind(pairwise_ains_vals,plot_data.elec_bCPE[plot_data.roi == roi].unique(),\n",
    "                 ) for roi in plot_data.roi.unique().tolist()}\n",
    "pairwise_roi_stats\n"
   ]
  },
  {
   "cell_type": "code",
   "execution_count": null,
   "id": "e6648b2d",
   "metadata": {
    "scrolled": true
   },
   "outputs": [],
   "source": [
    "pairwise_ains_vals = plot_data.elec_bCPE[plot_data.roi == 'ains'].unique()\n",
    "\n",
    "pairwise_roi_stats_greater = {f'ains={roi}':ttest_ind(pairwise_ains_vals,plot_data.elec_bCPE[plot_data.roi == roi].unique(),\n",
    "                 alternative='greater') for roi in plot_data.roi.unique().tolist()}\n",
    "pairwise_roi_stats_greater"
   ]
  },
  {
   "cell_type": "code",
   "execution_count": null,
   "id": "766a4a33",
   "metadata": {},
   "outputs": [],
   "source": [
    "pairwise_ains_vals = plot_data.elec_bCPE[plot_data.roi == 'ains'].unique()\n",
    "\n",
    "pairwise_roi_stats_less = {f'ains={roi}':ttest_ind(pairwise_ains_vals,plot_data.elec_bCPE[plot_data.roi == roi].unique(),\n",
    "                 alternative='less') for roi in plot_data.roi.unique().tolist()}\n",
    "pairwise_roi_stats_less"
   ]
  },
  {
   "cell_type": "code",
   "execution_count": null,
   "id": "d9deb2ab",
   "metadata": {},
   "outputs": [],
   "source": [
    "bonferr_alpha = 0.05/(len(plot_data.roi.unique().tolist()))\n",
    "bonferr_alpha"
   ]
  },
  {
   "cell_type": "code",
   "execution_count": null,
   "id": "7397e76e",
   "metadata": {},
   "outputs": [],
   "source": [
    "print('sig ROIs after multiple comp correction: ',[(roi,raw_roi_stats[roi].pvalue) for roi in raw_roi_stats.keys()\n",
    "                                                   if raw_roi_stats[roi].pvalue< bonferr_alpha])\n",
    "# print('sig ROI pvals: ',roi_stats.roi_cpe_pval[roi_beta_results.roi_cpe_pval<=bonferr_alpha].unique().tolist())\n",
    "\n",
    "sig_raw = [(roi,raw_roi_stats[roi].pvalue) for roi in raw_roi_stats.keys()\n",
    "                                                   if raw_roi_stats[roi].pvalue< bonferr_alpha]\n",
    "\n",
    "sig_raw_rois = list(zip(*sig_raw))[0]"
   ]
  },
  {
   "cell_type": "code",
   "execution_count": null,
   "id": "1573145b",
   "metadata": {},
   "outputs": [],
   "source": [
    "sig_raw_rois"
   ]
  },
  {
   "cell_type": "code",
   "execution_count": null,
   "id": "3dd56571",
   "metadata": {},
   "outputs": [],
   "source": [
    "print('sig ROIs after multiple comp correction: ',[(roi,roi_stats[roi].pvalue) for roi in roi_stats.keys()\n",
    "                                                   if roi_stats[roi].pvalue< bonferr_alpha])\n",
    "# print('sig ROI pvals: ',roi_stats.roi_cpe_pval[roi_beta_results.roi_cpe_pval<=bonferr_alpha].unique().tolist())\n",
    "sig_bcpe = [(roi,roi_stats[roi].pvalue) for roi in roi_stats.keys()\n",
    "                                                   if roi_stats[roi].pvalue< bonferr_alpha]\n",
    "\n",
    "sig_bcpe_rois = list(zip(*sig_bcpe))[0]"
   ]
  },
  {
   "cell_type": "code",
   "execution_count": null,
   "id": "593daa85",
   "metadata": {},
   "outputs": [],
   "source": [
    "list(zip(*sig_bcpe))[0]"
   ]
  },
  {
   "cell_type": "code",
   "execution_count": null,
   "id": "168acf81",
   "metadata": {},
   "outputs": [],
   "source": [
    "print('sig ROIs after multiple comp correction: ',[(roi,pairwise_roi_stats_greater[roi].pvalue) for \n",
    "                                                   roi in pairwise_roi_stats_greater.keys()\n",
    "                                                   if pairwise_roi_stats_greater[roi].pvalue< bonferr_alpha])\n",
    "# print('sig ROI pvals: ',roi_stats.roi_cpe_pval[roi_beta_results.roi_cpe_pval<=bonferr_alpha].unique().tolist())\n",
    "sig_bcpe = [(roi,pairwise_roi_stats_greater[roi].pvalue) for roi in pairwise_roi_stats_greater.keys()\n",
    "                                                   if pairwise_roi_stats_greater[roi].pvalue< bonferr_alpha]\n",
    "\n",
    "sig_bcpe_rois = list(zip(*sig_bcpe))[0]"
   ]
  },
  {
   "cell_type": "code",
   "execution_count": null,
   "id": "ba69aafc",
   "metadata": {},
   "outputs": [],
   "source": [
    "sig_bcpe_rois "
   ]
  },
  {
   "cell_type": "code",
   "execution_count": null,
   "id": "a86819a8",
   "metadata": {},
   "outputs": [],
   "source": [
    "print('sig ROIs after multiple comp correction: ',[(roi,pairwise_roi_stats_less[roi].pvalue) for \n",
    "                                                   roi in pairwise_roi_stats_less.keys()\n",
    "                                                   if pairwise_roi_stats_less[roi].pvalue< bonferr_alpha])\n",
    "# print('sig ROI pvals: ',roi_stats.roi_cpe_pval[roi_beta_results.roi_cpe_pval<=bonferr_alpha].unique().tolist())\n",
    "# sig_bcpe = [(roi,pairwise_roi_stats_less[roi].pvalue) for roi in pairwise_roi_stats_less.keys()\n",
    "#                                                    if pairwise_roi_stats_less[roi].pvalue< bonferr_alpha]\n",
    "\n",
    "# sig_bcpe_rois = list(zip(*sig_bcpe))[0]"
   ]
  },
  {
   "cell_type": "code",
   "execution_count": null,
   "id": "fe564d88",
   "metadata": {},
   "outputs": [],
   "source": [
    "print('sig ROIs after multiple comp correction: ',[(roi,pairwise_roi_stats[roi].pvalue) for \n",
    "                                                   roi in pairwise_roi_stats.keys()\n",
    "                                                   if pairwise_roi_stats[roi].pvalue< bonferr_alpha])\n",
    "\n",
    "sig_bcpe = [(roi,pairwise_roi_stats[roi].pvalue) for roi in pairwise_roi_stats.keys()\n",
    "                                                   if pairwise_roi_stats[roi].pvalue< bonferr_alpha]\n",
    "\n",
    "sig_bcpe_rois = list(zip(*sig_bcpe))[0]"
   ]
  },
  {
   "cell_type": "code",
   "execution_count": null,
   "id": "a0f7379d",
   "metadata": {},
   "outputs": [],
   "source": [
    "sig_bcpe_rois"
   ]
  },
  {
   "cell_type": "code",
   "execution_count": null,
   "id": "083a9a35",
   "metadata": {},
   "outputs": [],
   "source": [
    "len([(roi,roi_stats[roi].pvalue) for roi in roi_stats.keys()\n",
    "                                                   if roi_stats[roi].pvalue< bonferr_alpha])"
   ]
  },
  {
   "cell_type": "code",
   "execution_count": null,
   "id": "a6615af1",
   "metadata": {},
   "outputs": [],
   "source": [
    "roi_stats.keys()"
   ]
  },
  {
   "cell_type": "code",
   "execution_count": null,
   "id": "22a0392e",
   "metadata": {},
   "outputs": [],
   "source": [
    "# roi_order = ['dlpfc','vlpfc','dmpfc','ofc','ains','pins','acc','hpc','amy','mtg','motor','thalamus']\n",
    "roi_order = ['dlpfc','vlpfc','ofc','ains','pins','acc','hpc','amy']"
   ]
  },
  {
   "cell_type": "code",
   "execution_count": null,
   "id": "d7d906ed",
   "metadata": {},
   "outputs": [],
   "source": [
    "roi_plot_data = plot_data.copy()\n",
    "roi_plot_data = roi_plot_data[roi_plot_data.roi.isin(roi_order)]\n",
    "\n",
    "# roi_plot_names = {'thalamus':'THAL','hpc':'HPC','amy':'AMY','acc':'ACC','ofc':'OFC','ains':'aINS',\n",
    "#                   'pins':'pINS','dmpfc':'dmPFC','dlpfc':'dlPFC','vlpfc':'vlPFC'}\n"
   ]
  },
  {
   "cell_type": "code",
   "execution_count": null,
   "id": "e418d9f0",
   "metadata": {},
   "outputs": [],
   "source": [
    "sns.set_context(\"poster\",rc={'axes.linewidth': 1.5})\n",
    "fig,ax = plt.subplots(figsize=(10, 4),dpi=500)\n",
    "\n",
    "fig_save_dir = f'{base_dir}ephys_analysis/figs/beta_regressions/'\n",
    "os.makedirs(fig_save_dir,exist_ok=True)\n",
    "\n",
    "sns.barplot(data = roi_plot_data,\n",
    "            x = 'roi',\n",
    "            y = 'elec_bCPE',\n",
    "#             y='raw_decisionCPE',\n",
    "#             color = '#561C46',\n",
    "#             color = '#00467e',\n",
    "#             color = '#346a97',\n",
    "            color = '#346a97',\n",
    "            saturation=1,\n",
    "            order=roi_order,\n",
    "            errorbar=None) \n",
    "\n",
    "\n",
    "sns.stripplot(data = roi_plot_data,\n",
    "            x = 'roi',\n",
    "            y = 'elec_bCPE',\n",
    "#               y='raw_decisionCPE',\n",
    "#               color='#78496b', \n",
    "              color = '#00467e',\n",
    "              alpha=.4,\n",
    "              dodge=True,\n",
    "              order=roi_order,\n",
    "              size = 6)\n",
    "\n",
    "ax.axhline(y=0,color='#00467e',linewidth=2)\n",
    "plt.tick_params(length=0 )#,grid_linewidth=1)\n",
    "\n",
    "plt.ylim([-0.05,0.05])\n",
    "ax.set(xlabel=None)\n",
    "# plt.ylabel('CPE Encoding in Beta Power (z)')\n",
    "# plt.ylabel('beta(z) cpe encoding')\n",
    "# plt.ylabel(r'$beta_{{{zpow}}}$'+ ' cpe encoding')\n",
    "# plt.ylabel(r'$beta_{{{zpow}}}$'+ ' cpe encoding')\n",
    "plt.ylabel(r'$beta_{{{zpow}}} \\sim cpe$')\n",
    "# plt.gca().yaxis.set_major_formatter(StrMethodFormatter('{x:,.3f}')) \n",
    "# plt.locator_params(axis='y', nbins=5,tight=True)\n",
    "\n",
    "\n",
    "sns.despine()\n",
    "    \n",
    "plt.savefig(f'{fig_save_dir}/Bpow_CPE_barplot_{date}.pdf', format='pdf', metadata=None,\n",
    "bbox_inches=None, pad_inches=0.1,dpi=500,\n",
    "facecolor='auto', edgecolor='auto',\n",
    "backend=None)\n"
   ]
  },
  {
   "cell_type": "code",
   "execution_count": null,
   "id": "bfcc1cc3",
   "metadata": {},
   "outputs": [],
   "source": [
    "roi_plot_data.roi.unique().tolist()"
   ]
  },
  {
   "cell_type": "code",
   "execution_count": null,
   "id": "7e1d3f5b",
   "metadata": {},
   "outputs": [],
   "source": [
    "bonferr_alpha"
   ]
  },
  {
   "cell_type": "code",
   "execution_count": null,
   "id": "53710b85",
   "metadata": {},
   "outputs": [],
   "source": [
    "rho_data = []\n",
    "sig_rho = []\n",
    "\n",
    "# bonferr_alpha = 0.05/len(roi_plot_data.roi.unique().tolist())\n",
    "# bonferr_alpha = 0.05/9\n",
    "bonferr_alpha = 0.01\n",
    "\n",
    "# BDI CORRELATIONS\n",
    "for roi in roi_plot_data.roi.unique().tolist()[:]:\n",
    "    roi_temp_data = roi_plot_data[roi_plot_data.roi==roi]\n",
    "    rho,rho_p     = spearmanr(roi_temp_data.bdi,roi_temp_data.elec_bCPE)\n",
    "#     rho,rho_p     = pearsonr(roi_temp_data.bdi,roi_temp_data.elec_bCPE)\n",
    "#     print(f'{roi} pearsonr',rho,rho_p)\n",
    "    rho_data.append(pd.DataFrame({'roi':roi,'rho':rho,'rho_p':rho_p},index=[0]))\n",
    "#     if rho_p <= bonferr_alpha:\n",
    "#         sig_bdi_rois.append(roi)\n",
    "#     if rho_p < bonferr_alpha:\n",
    "    if rho_p < 0.05:\n",
    "        sig_rho.append((roi,rho,rho_p))\n",
    "    print(f'{roi} pearsonr',rho,rho_p)\n",
    "rho_data = pd.concat(rho_data).reset_index(drop=True)\n"
   ]
  },
  {
   "cell_type": "code",
   "execution_count": null,
   "id": "6b177a6d",
   "metadata": {},
   "outputs": [],
   "source": [
    "rho_data"
   ]
  },
  {
   "cell_type": "code",
   "execution_count": null,
   "id": "1a31f5e4",
   "metadata": {},
   "outputs": [],
   "source": [
    "sig_rho"
   ]
  },
  {
   "cell_type": "code",
   "execution_count": null,
   "id": "6a4991d6",
   "metadata": {},
   "outputs": [],
   "source": [
    "rho_data['round_rho'] = np.round(rho_data.rho,2)\n",
    "rho_data['round_p']   = np.round(rho_data.rho_p,2)\n",
    "rho_data['round_p'][rho_data.roi == 'acc'] = 0.01\n",
    "rho_data['round_p'][rho_data.roi == 'ofc'] = 0.01\n",
    "rho_data"
   ]
  },
  {
   "cell_type": "code",
   "execution_count": null,
   "id": "b481458d",
   "metadata": {
    "scrolled": false
   },
   "outputs": [],
   "source": [
    "\n",
    "sns.set_context(\"talk\",rc={'axes.linewidth': 1.5})\n",
    "\n",
    "for roi in roi_plot_data.roi.unique().tolist()[:-1]:\n",
    "    roi_temp_data = roi_plot_data[roi_plot_data.roi==roi]\n",
    "\n",
    "    rho   = rho_data[rho_data.roi == roi].round_rho.values[0]\n",
    "    rho_p = rho_data[rho_data.roi == roi].round_p.values[0]\n",
    "    \n",
    "        \n",
    "    fig,ax = plt.subplots(1,1,figsize=(5,3.5),dpi=300)\n",
    "\n",
    "    sns.regplot(data=roi_temp_data,x='bdi',y='elec_bCPE',scatter=False,ci=95,\n",
    "                fit_reg=True,color = '#00467e') #034975\n",
    "    \n",
    "    sns.scatterplot(data = roi_temp_data.groupby(['subj_id']).agg('mean'),x='bdi',\n",
    "                    y='raw_decisionCPE',color = '#00467e',edgecolor=None,alpha=0.8)\n",
    "    \n",
    "#     plt.gca().yaxis.set_major_formatter(StrMethodFormatter('{x:,.2f}')) \n",
    "    plt.xlabel('BDI-II')\n",
    "#     plt.xlim([0,40])\n",
    "    \n",
    "    plt.tick_params(length=0) \n",
    "#     plt.ylabel('beta'+r'$beta_{{{zpow}}}$'+' cpe encoding')\n",
    "    plt.ylabel(r'$beta_{{{zpow}}} \\sim cpe$')\n",
    "\n",
    "    plt.text(np.max(roi_temp_data.bdi)-8,\n",
    "             np.round(np.max(roi_temp_data.groupby(['subj_id']).agg('mean').elec_bCPE),3)-0.003,\n",
    "             r'$rho$ = '+f'{rho} \\n'+ fr'$p \\approxeq $ {rho_p}',color='k',fontsize=12)\n",
    "#              color='#00467e',fontsize=16)\n",
    "#     plt.text(0.8,0.8,r'$rho$ = '+f'{rho} \\n'+ fr'$p \\approxeq $ {rho_p}',\n",
    "#             verticalalignment='top', horizontalalignment='right',\n",
    "#             color='k',fontsize=16)\n",
    "\n",
    "    plt.title(f'{roi}',fontsize=20)\n",
    "    plt.tight_layout()\n",
    "\n",
    "\n",
    "    \n",
    "    sns.despine()\n",
    "    \n",
    "    plt.savefig(f'{fig_save_dir}/{roi}_{rho}_{rho_p}_roi_bdi_beta-cpe-slope.pdf', format='pdf', metadata=None,\n",
    "        bbox_inches='tight', pad_inches=0.1,dpi=300,\n",
    "        facecolor='auto', edgecolor='auto',\n",
    "        backend=None)\n",
    "    "
   ]
  },
  {
   "cell_type": "code",
   "execution_count": null,
   "id": "f4a67d86",
   "metadata": {},
   "outputs": [],
   "source": []
  },
  {
   "cell_type": "markdown",
   "id": "1ed7ce33",
   "metadata": {},
   "source": [
    "# Band x BDI Interaction\n",
    "- Rerun final mixed effects model on each ROI separately\n",
    "- Correlate random effects slopes for each regressor with BDI"
   ]
  },
  {
   "cell_type": "code",
   "execution_count": null,
   "id": "17371f36",
   "metadata": {},
   "outputs": [],
   "source": [
    "rand_eff_var = 'unique_reref_ch'\n"
   ]
  },
  {
   "cell_type": "code",
   "execution_count": null,
   "id": "0003c6a2",
   "metadata": {
    "scrolled": false
   },
   "outputs": [],
   "source": [
    "reg_df"
   ]
  },
  {
   "cell_type": "code",
   "execution_count": null,
   "id": "c925e4d6",
   "metadata": {},
   "outputs": [],
   "source": [
    "bdi_vars    = ['decisionCPE','bdi','decisionCPE:bdi']\n",
    "outcome_var = 'band_pow'\n",
    "\n",
    "bdi_fit = fit_mixed_model(reg_df,bdi_vars,outcome_var,rand_eff_var,reml=False)\n",
    "print(bdi_fit.summary())\n",
    "    "
   ]
  },
  {
   "cell_type": "code",
   "execution_count": null,
   "id": "85148564",
   "metadata": {},
   "outputs": [],
   "source": []
  },
  {
   "cell_type": "code",
   "execution_count": null,
   "id": "eefc788b",
   "metadata": {},
   "outputs": [],
   "source": [
    "fe_param_names = list(bdi_fit.fe_params.index[1:])\n",
    "fe_param_names"
   ]
  },
  {
   "cell_type": "code",
   "execution_count": null,
   "id": "6d996891",
   "metadata": {},
   "outputs": [],
   "source": [
    "bdi_plot_data = pd.concat([pd.DataFrame(\n",
    "    {**{'subj_id':elec_id.split('_')[0],'reref_ch_names':elec_id.split('_')[1]},'unique_reref_ch':elec_id,\n",
    "     **{f'raw_{param}':bdi_fit.random_effects[elec_id][param] for param in list(\n",
    "            bdi_fit.random_effects[elec_id].index)}},index=[range(len(fe_param_names))])\n",
    "        \n",
    "    for elec_id in bdi_fit.random_effects.keys()]).reset_index(drop=True)\n",
    "\n",
    "bdi_plot_data['roi'] = [reg_df.roi[reg_df.unique_reref_ch == row.unique_reref_ch].values[0]\n",
    "                                for idx,row in bdi_plot_data.iterrows()]\n",
    "\n",
    "bdi_plot_data['bdi'] = [subj_info_df.bdi[subj_info_df.subj_id == subj_id].values[0]\n",
    "                                for subj_id in bdi_plot_data.subj_id]"
   ]
  },
  {
   "cell_type": "code",
   "execution_count": null,
   "id": "e4a167c4",
   "metadata": {},
   "outputs": [],
   "source": [
    "bdi_plot_data"
   ]
  },
  {
   "cell_type": "code",
   "execution_count": null,
   "id": "c7f03ae9",
   "metadata": {},
   "outputs": [],
   "source": [
    "#### Get all results for Figs!!!!\n",
    "\n",
    "fe_intercept   = bdi_fit.params['Intercept']\n",
    "fe_cpe_beta    = bdi_fit.params['decisionCPE:bdi']\n",
    "fe_cpe_beta\n"
   ]
  },
  {
   "cell_type": "code",
   "execution_count": null,
   "id": "c05db4f3",
   "metadata": {},
   "outputs": [],
   "source": [
    "#### add fixed effects data to all_elec_plot_data\n",
    "bdi_plot_data['elec_b0']   = np.add(bdi_plot_data.raw_Group,fe_intercept)\n",
    "bdi_plot_data['elec_bCPE'] = np.add(bdi_plot_data['raw_decisionCPE:bdi'],fe_cpe_beta)\n",
    "bdi_plot_data = bdi_plot_data[~bdi_plot_data.roi.isnull()]"
   ]
  },
  {
   "cell_type": "code",
   "execution_count": null,
   "id": "3aa60412",
   "metadata": {},
   "outputs": [],
   "source": [
    "bdi_plot_data"
   ]
  },
  {
   "cell_type": "code",
   "execution_count": null,
   "id": "55d2ed17",
   "metadata": {},
   "outputs": [],
   "source": [
    "# raw_bdi\n",
    "\n",
    "raw_roi_stats = {f'{roi}':ttest_1samp(bdi_plot_data['raw_bdi'][bdi_plot_data.roi == roi].unique(),\n",
    "                 popmean=0) for roi in bdi_plot_data.roi.unique().tolist()}\n",
    "raw_roi_stats"
   ]
  },
  {
   "cell_type": "code",
   "execution_count": null,
   "id": "2962d880",
   "metadata": {},
   "outputs": [],
   "source": [
    "raw_roi_stats = {f'{roi}':ttest_1samp(bdi_plot_data['raw_decisionCPE:bdi'][bdi_plot_data.roi == roi].unique(),\n",
    "                 popmean=0) for roi in bdi_plot_data.roi.unique().tolist()}\n",
    "raw_roi_stats"
   ]
  },
  {
   "cell_type": "code",
   "execution_count": null,
   "id": "0c6e3b91",
   "metadata": {},
   "outputs": [],
   "source": [
    "roi_stats = {f'{roi}':ttest_1samp(bdi_plot_data.elec_bCPE[bdi_plot_data.roi == roi].unique(),\n",
    "                 popmean=0) for roi in bdi_plot_data.roi.unique().tolist()}\n",
    "roi_stats"
   ]
  },
  {
   "cell_type": "code",
   "execution_count": null,
   "id": "29595352",
   "metadata": {},
   "outputs": [],
   "source": [
    "pairwise_ains_vals = bdi_plot_data.elec_bCPE[plot_data.roi == 'ains'].unique()\n",
    "\n",
    "pairwise_roi_stats = {f'ains={roi}':ttest_ind(pairwise_ains_vals,bdi_plot_data.elec_bCPE[bdi_plot_data.roi == roi].unique(),\n",
    "                 ) for roi in bdi_plot_data.roi.unique().tolist()}\n",
    "pairwise_roi_stats\n"
   ]
  },
  {
   "cell_type": "code",
   "execution_count": null,
   "id": "26d331d4",
   "metadata": {
    "scrolled": true
   },
   "outputs": [],
   "source": [
    "pairwise_ains_vals = bdi_plot_data.elec_bCPE[plot_data.roi == 'ains'].unique()\n",
    "\n",
    "pairwise_roi_stats_greater = {f'ains={roi}':ttest_ind(pairwise_ains_vals,bdi_plot_data.elec_bCPE[bdi_plot_data.roi == roi].unique(),\n",
    "                 alternative='greater') for roi in bdi_plot_data.roi.unique().tolist()}\n",
    "pairwise_roi_stats_greater"
   ]
  },
  {
   "cell_type": "code",
   "execution_count": null,
   "id": "38db0153",
   "metadata": {},
   "outputs": [],
   "source": [
    "pairwise_ains_vals = bdi_plot_data.elec_bCPE[bdi_plot_data.roi == 'ains'].unique()\n",
    "\n",
    "pairwise_roi_stats_less = {f'ains={roi}':ttest_ind(pairwise_ains_vals,bdi_plot_data.elec_bCPE[bdi_plot_data.roi == roi].unique(),\n",
    "                 alternative='less') for roi in bdi_plot_data.roi.unique().tolist()}\n",
    "pairwise_roi_stats_less"
   ]
  },
  {
   "cell_type": "code",
   "execution_count": null,
   "id": "91972a41",
   "metadata": {},
   "outputs": [],
   "source": [
    "bonferr_alpha = 0.05/len(roi_order)\n",
    "bonferr_alpha"
   ]
  },
  {
   "cell_type": "code",
   "execution_count": null,
   "id": "f11b5a94",
   "metadata": {},
   "outputs": [],
   "source": [
    "print('sig ROIs after multiple comp correction: ',[(roi,raw_roi_stats[roi].pvalue) for roi in raw_roi_stats.keys()\n",
    "                                                   if raw_roi_stats[roi].pvalue< bonferr_alpha])\n",
    "# print('sig ROI pvals: ',roi_stats.roi_cpe_pval[roi_beta_results.roi_cpe_pval<=bonferr_alpha].unique().tolist())\n",
    "\n",
    "sig_raw = [(roi,raw_roi_stats[roi].pvalue) for roi in raw_roi_stats.keys()\n",
    "                                                   if raw_roi_stats[roi].pvalue< bonferr_alpha]\n",
    "\n",
    "sig_raw_rois = list(zip(*sig_raw))[0]"
   ]
  },
  {
   "cell_type": "code",
   "execution_count": null,
   "id": "d60277b6",
   "metadata": {},
   "outputs": [],
   "source": [
    "sig_raw_rois"
   ]
  },
  {
   "cell_type": "code",
   "execution_count": null,
   "id": "2fadf781",
   "metadata": {},
   "outputs": [],
   "source": [
    "print('sig ROIs after multiple comp correction: ',[(roi,roi_stats[roi].pvalue) for roi in roi_stats.keys()\n",
    "                                                   if roi_stats[roi].pvalue< bonferr_alpha])\n",
    "# print('sig ROI pvals: ',roi_stats.roi_cpe_pval[roi_beta_results.roi_cpe_pval<=bonferr_alpha].unique().tolist())\n",
    "sig_bcpe = [(roi,roi_stats[roi].pvalue) for roi in roi_stats.keys()\n",
    "                                                   if roi_stats[roi].pvalue< bonferr_alpha]\n",
    "\n",
    "sig_bcpe_rois = list(zip(*sig_bcpe))[0]"
   ]
  },
  {
   "cell_type": "code",
   "execution_count": null,
   "id": "6f10029c",
   "metadata": {},
   "outputs": [],
   "source": [
    "list(zip(*sig_bcpe))[0]"
   ]
  },
  {
   "cell_type": "code",
   "execution_count": null,
   "id": "0282b1a4",
   "metadata": {},
   "outputs": [],
   "source": [
    "print('sig ROIs after multiple comp correction: ',[(roi,pairwise_roi_stats_greater[roi].pvalue) for \n",
    "                                                   roi in pairwise_roi_stats_greater.keys()\n",
    "                                                   if pairwise_roi_stats_greater[roi].pvalue< bonferr_alpha])\n",
    "# print('sig ROI pvals: ',roi_stats.roi_cpe_pval[roi_beta_results.roi_cpe_pval<=bonferr_alpha].unique().tolist())\n",
    "sig_bcpe = [(roi,pairwise_roi_stats_greater[roi].pvalue) for roi in pairwise_roi_stats_greater.keys()\n",
    "                                                   if pairwise_roi_stats_greater[roi].pvalue< bonferr_alpha]\n",
    "\n",
    "# sig_bcpe_rois = list(zip(*sig_bcpe))[0]"
   ]
  },
  {
   "cell_type": "code",
   "execution_count": null,
   "id": "d16614ad",
   "metadata": {},
   "outputs": [],
   "source": [
    "# sig_bcpe_rois "
   ]
  },
  {
   "cell_type": "code",
   "execution_count": null,
   "id": "d38e217f",
   "metadata": {},
   "outputs": [],
   "source": [
    "print('sig ROIs after multiple comp correction: ',[(roi,pairwise_roi_stats_less[roi].pvalue) for \n",
    "                                                   roi in pairwise_roi_stats_less.keys()\n",
    "                                                   if pairwise_roi_stats_less[roi].pvalue< bonferr_alpha])\n",
    "# print('sig ROI pvals: ',roi_stats.roi_cpe_pval[roi_beta_results.roi_cpe_pval<=bonferr_alpha].unique().tolist())\n",
    "sig_bcpe = [(roi,pairwise_roi_stats_less[roi].pvalue) for roi in pairwise_roi_stats_less.keys()\n",
    "                                                   if pairwise_roi_stats_less[roi].pvalue< bonferr_alpha]\n",
    "\n",
    "sig_bcpe_rois = list(zip(*sig_bcpe))[0]"
   ]
  },
  {
   "cell_type": "code",
   "execution_count": null,
   "id": "ce84a345",
   "metadata": {},
   "outputs": [],
   "source": [
    "print('sig ROIs after multiple comp correction: ',[(roi,pairwise_roi_stats[roi].pvalue) for \n",
    "                                                   roi in pairwise_roi_stats.keys()\n",
    "                                                   if pairwise_roi_stats[roi].pvalue< bonferr_alpha])\n",
    "\n",
    "sig_bcpe = [(roi,pairwise_roi_stats[roi].pvalue) for roi in pairwise_roi_stats.keys()\n",
    "                                                   if pairwise_roi_stats[roi].pvalue< bonferr_alpha]\n",
    "\n",
    "sig_bcpe_rois = list(zip(*sig_bcpe))[0]"
   ]
  },
  {
   "cell_type": "code",
   "execution_count": null,
   "id": "d4687297",
   "metadata": {},
   "outputs": [],
   "source": [
    "sig_bcpe_rois"
   ]
  },
  {
   "cell_type": "code",
   "execution_count": null,
   "id": "4ce6196e",
   "metadata": {},
   "outputs": [],
   "source": [
    "len([(roi,roi_stats[roi].pvalue) for roi in roi_stats.keys()\n",
    "                                                   if roi_stats[roi].pvalue< bonferr_alpha])"
   ]
  },
  {
   "cell_type": "code",
   "execution_count": null,
   "id": "786ac923",
   "metadata": {},
   "outputs": [],
   "source": [
    "roi_stats.keys()"
   ]
  },
  {
   "cell_type": "code",
   "execution_count": null,
   "id": "8432eea7",
   "metadata": {},
   "outputs": [],
   "source": [
    "# roi_order = ['dlpfc','vlpfc','dmpfc','ofc','ains','pins','acc','hpc','amy','mtg','motor','thalamus']\n",
    "roi_order = ['dlpfc','vlpfc','ofc','ains','pins','acc','hpc','amy']"
   ]
  },
  {
   "cell_type": "code",
   "execution_count": null,
   "id": "6e9900b3",
   "metadata": {},
   "outputs": [],
   "source": [
    "roi_plot_data = bdi_plot_data.copy()\n",
    "roi_plot_data = roi_plot_data[roi_plot_data.roi.isin(roi_order)]\n",
    "\n",
    "# roi_plot_names = {'thalamus':'THAL','hpc':'HPC','amy':'AMY','acc':'ACC','ofc':'OFC','ains':'aINS',\n",
    "#                   'pins':'pINS','dmpfc':'dmPFC','dlpfc':'dlPFC','vlpfc':'vlPFC'}\n"
   ]
  },
  {
   "cell_type": "code",
   "execution_count": null,
   "id": "80dfb2c0",
   "metadata": {},
   "outputs": [],
   "source": [
    "bdi_plot_data.roi.unique()"
   ]
  },
  {
   "cell_type": "code",
   "execution_count": null,
   "id": "e5fd780b",
   "metadata": {},
   "outputs": [],
   "source": [
    "sns.set_context(\"poster\",rc={'axes.linewidth': 1.5})\n",
    "fig,ax = plt.subplots(figsize=(10, 4),dpi=500)\n",
    "\n",
    "fig_save_dir = f'{base_dir}ephys_analysis/figs/{band}_regressions/'\n",
    "os.makedirs(fig_save_dir,exist_ok=True)\n",
    "\n",
    "sns.barplot(data = bdi_plot_data,\n",
    "            x = 'roi',\n",
    "            y = 'elec_bCPE',\n",
    "#             y='raw_decisionCPE',\n",
    "#             color = '#561C46',\n",
    "#             color = '#00467e',\n",
    "#             color = '#346a97',\n",
    "            color = '#173b6f',\n",
    "            saturation=1,\n",
    "            order=roi_order,\n",
    "            errorbar=None) \n",
    "\n",
    "\n",
    "sns.stripplot(data = bdi_plot_data,\n",
    "            x = 'roi',\n",
    "            y = 'elec_bCPE',\n",
    "#               y='raw_decisionCPE',\n",
    "#               color='#78496b', \n",
    "              color = '#173b6f',\n",
    "              alpha=.4,\n",
    "              dodge=True,\n",
    "              order=roi_order,\n",
    "              size = 6)\n",
    "\n",
    "ax.axhline(y=0,color='#173b6f',linewidth=2)\n",
    "plt.tick_params(length=0 )#,grid_linewidth=1)\n",
    "\n",
    "# plt.ylim([-0.05,0.05])\n",
    "ax.set(xlabel=None)\n",
    "# plt.ylabel('CPE Encoding in Beta Power (z)')\n",
    "# plt.ylabel('beta(z) cpe encoding')\n",
    "# plt.ylabel(r'$beta_{{{zpow}}}$'+ ' cpe encoding')\n",
    "# plt.ylabel(r'$beta_{{{zpow}}}$'+ ' cpe encoding')\n",
    "plt.ylabel(fr'${band}_{{{zpow}}} \\sim cpe:bdi$')\n",
    "# plt.gca().yaxis.set_major_formatter(StrMethodFormatter('{x:,.3f}')) \n",
    "# plt.locator_params(axis='y', nbins=5,tight=True)\n",
    "\n",
    "\n",
    "sns.despine()\n",
    "    \n",
    "plt.savefig(f'{fig_save_dir}/Bpow_CPE:BDI_barplot_{date}.pdf', format='pdf', metadata=None,\n",
    "bbox_inches=None, pad_inches=0.1,dpi=500,\n",
    "facecolor='auto', edgecolor='auto',\n",
    "backend=None)\n"
   ]
  },
  {
   "cell_type": "code",
   "execution_count": null,
   "id": "c28acb87",
   "metadata": {},
   "outputs": [],
   "source": [
    "bdi_plot_data.roi.unique().tolist()"
   ]
  },
  {
   "cell_type": "code",
   "execution_count": null,
   "id": "e343460a",
   "metadata": {},
   "outputs": [],
   "source": [
    "bonferr_alpha"
   ]
  },
  {
   "cell_type": "code",
   "execution_count": null,
   "id": "bb308466",
   "metadata": {},
   "outputs": [],
   "source": [
    "rho_data = []\n",
    "sig_rho = []\n",
    "\n",
    "# bonferr_alpha = 0.05/len(roi_plot_data.roi.unique().tolist())\n",
    "# bonferr_alpha = 0.05/9\n",
    "bonferr_alpha = 0.01\n",
    "\n",
    "# BDI CORRELATIONS\n",
    "for roi in roi_plot_data.roi.unique().tolist()[:]:\n",
    "    roi_temp_data = roi_plot_data[roi_plot_data.roi==roi]\n",
    "    rho,rho_p     = spearmanr(roi_temp_data.bdi,roi_temp_data.elec_bCPE)\n",
    "#     rho,rho_p     = pearsonr(roi_temp_data.bdi,roi_temp_data.elec_bCPE)\n",
    "#     print(f'{roi} pearsonr',rho,rho_p)\n",
    "    rho_data.append(pd.DataFrame({'roi':roi,'rho':rho,'rho_p':rho_p},index=[0]))\n",
    "#     if rho_p <= bonferr_alpha:\n",
    "#         sig_bdi_rois.append(roi)\n",
    "#     if rho_p < bonferr_alpha:\n",
    "    if rho_p < 0.05:\n",
    "        sig_rho.append((roi,rho,rho_p))\n",
    "    print(f'{roi} pearsonr',rho,rho_p)\n",
    "rho_data = pd.concat(rho_data).reset_index(drop=True)\n"
   ]
  },
  {
   "cell_type": "code",
   "execution_count": null,
   "id": "074dac83",
   "metadata": {},
   "outputs": [],
   "source": [
    "rho_data"
   ]
  },
  {
   "cell_type": "code",
   "execution_count": null,
   "id": "7f111345",
   "metadata": {},
   "outputs": [],
   "source": [
    "sig_rho"
   ]
  },
  {
   "cell_type": "code",
   "execution_count": null,
   "id": "fb8b1439",
   "metadata": {},
   "outputs": [],
   "source": [
    "rho_data['round_rho'] = np.round(rho_data.rho,2)\n",
    "rho_data['round_p']   = np.round(rho_data.rho_p,3)\n",
    "# rho_data['round_p'][rho_data.roi == 'acc'] = 0.01\n",
    "# rho_data['round_p'][rho_data.roi == 'ofc'] = 0.01\n",
    "rho_data"
   ]
  },
  {
   "cell_type": "code",
   "execution_count": null,
   "id": "3073da36",
   "metadata": {
    "scrolled": false
   },
   "outputs": [],
   "source": [
    "\n",
    "sns.set_context(\"talk\",rc={'axes.linewidth': 1.5})\n",
    "\n",
    "for roi in roi_plot_data.roi.unique().tolist()[:-1]:\n",
    "    roi_temp_data = roi_plot_data[roi_plot_data.roi==roi]\n",
    "\n",
    "    rho   = rho_data[rho_data.roi == roi].round_rho.values[0]\n",
    "    rho_p = rho_data[rho_data.roi == roi].round_p.values[0]\n",
    "    \n",
    "        \n",
    "    fig,ax = plt.subplots(1,1,figsize=(5,3.5),dpi=300)\n",
    "\n",
    "    sns.regplot(data=roi_temp_data,x='bdi',y='raw_decisionCPE',scatter=False,ci=95,\n",
    "                fit_reg=True,color = '#173b6f') #034975\n",
    "    \n",
    "    sns.scatterplot(data = roi_temp_data.groupby(['subj_id']).agg('mean'),x='bdi',\n",
    "                    y='raw_decisionCPE',color = '#173b6f',edgecolor=None,alpha=0.8)\n",
    "    \n",
    "#     plt.gca().yaxis.set_major_formatter(StrMethodFormatter('{x:,.2f}')) \n",
    "    plt.xlabel('BDI-II')\n",
    "#     plt.xlim([0,40])\n",
    "    \n",
    "    plt.tick_params(length=0) \n",
    "#     plt.ylabel('beta'+r'$beta_{{{zpow}}}$'+' cpe encoding')\n",
    "    plt.ylabel(fr'${band}_{{{zpow}}} \\sim cpe:bdi$')\n",
    "\n",
    "    plt.text(np.max(roi_temp_data.bdi)-8,\n",
    "             np.round(np.max(roi_temp_data.groupby(['subj_id']).agg('mean').raw_decisionCPE),3)-0.003,\n",
    "             r'$rho$ = '+f'{rho} \\n'+ fr'$p \\approxeq $ {rho_p}',color='k',fontsize=12)\n",
    "#              color='#00467e',fontsize=16)\n",
    "#     plt.text(0.8,0.8,r'$rho$ = '+f'{rho} \\n'+ fr'$p \\approxeq $ {rho_p}',\n",
    "#             verticalalignment='top', horizontalalignment='right',\n",
    "#             color='k',fontsize=16)\n",
    "\n",
    "    plt.title(f'{roi}',fontsize=20)\n",
    "    plt.tight_layout()\n",
    "    \n",
    "\n",
    "\n",
    "    \n",
    "    sns.despine()\n",
    "    \n",
    "    plt.savefig(f'{fig_save_dir}/{roi}_{rho}_{rho_p}_roi_bdi_{band}-cpe:bdi-slope.pdf', format='pdf', metadata=None,\n",
    "        bbox_inches='tight', pad_inches=0.1,dpi=300,\n",
    "        facecolor='auto', edgecolor='auto',\n",
    "        backend=None)\n",
    "    "
   ]
  },
  {
   "cell_type": "code",
   "execution_count": null,
   "id": "1908c3fb",
   "metadata": {},
   "outputs": [],
   "source": [
    "reg_df"
   ]
  },
  {
   "cell_type": "code",
   "execution_count": null,
   "id": "0864d5ed",
   "metadata": {},
   "outputs": [],
   "source": [
    "reg_df['Depressed'] = ['High BDI' if bdi >=20 else 'Low BDI' for bdi in reg_df.bdi.tolist()]"
   ]
  },
  {
   "cell_type": "code",
   "execution_count": null,
   "id": "4e0f2e6e",
   "metadata": {},
   "outputs": [],
   "source": [
    "## X plot attempt \n",
    "\n",
    "sns.set_theme(style='ticks') \n",
    "sns.set_context(\"poster\")\n",
    "\n",
    "# from matplotlib import rc\n",
    "# rc('text', usetex=False)\n",
    "\n",
    "\n",
    "fig,ax = plt.subplots(figsize=(8,5))\n",
    "# sns.set_context(\"poster\",rc={'axes.linewidth': 2})\n",
    "# sns.set_theme(style='ticks') \n",
    "\n",
    "# palette={'depression':\"#3f2755\",'no depression':\"#054a6f\"}\n",
    "\n",
    "# palette={'high BDI':\"#0b4e5f\",'low BDI':\"#824973\"}\n",
    "\n",
    "\n",
    "# ax = sns.lmplot(data=reg_df,x='decisionCPE',y='band_pow',hue='Depression',scatter=False,ci=95,palette=palette)\n",
    "# sns.move_legend(ax, loc='lower center', bbox_to_anchor=(0.1, 1),bbox_to_anchor=(-1, 0), ncol=2)\n",
    "\n",
    "# sns.move_legend(ax,\"upper center\", bbox_to_anchor=(0.5, 1), borderaxespad=0.1,frameon=False,framealpha=0,\n",
    "#                 fontsize='x-small',shadow=None,title=None,columnspacing=0.5,edgecolor=None,markerfirst=True,\n",
    "#                 markerscale=4,labelcolor=None, ncol=2)\n",
    "\n",
    "\n",
    "sns.regplot(data=reg_df[reg_df.Depressed=='Low BDI'],x='decisionCPE',y='band_pow',scatter=True,\n",
    "           ci=95,color = '#824973',label='Low BDI',x_jitter = 0.15,scatter_kws={'s':5})\n",
    "sns.regplot(data=reg_df[reg_df.Depressed=='High BDI'],x='decisionCPE',y='band_pow',scatter=True,\n",
    "           ci=95,color='#0b4e5f',label='High BDI',x_jitter = 0.15,scatter_kws={'s':5})\n",
    "\n",
    "plt.legend(fontsize=10)\n",
    "# borderaxespad=0,frameon=False,framealpha=0,\n",
    "sns.move_legend(ax,\"upper center\", bbox_to_anchor=(0.5, 1.1), frameon=False,framealpha=0,\n",
    "                fontsize='small',shadow=None,\n",
    "                columnspacing=2,ncol=2)\n",
    "\n",
    "\n",
    "plt.gca().yaxis.set_major_formatter(StrMethodFormatter('{x:,.2f}')) \n",
    "plt.tight_layout()\n",
    "plt.ylabel(fr'${band}_{{{zpow}}}$')\n",
    "plt.xlabel(r'$cpe(z)$')\n",
    "sns.despine()\n",
    "plt.tick_params(length=0)\n",
    "# plt.text(7.25,0.07,f'rho: {np.round(r,3)} \\n p: {np.round(p_r,6)}',fontsize=16)\n",
    "\n",
    "\n",
    "# plt.savefig(f'{fig_save_dir}/all_lmplot_cpe_bpow_bdi_{date}.pdf', format='pdf', metadata=None,\n",
    "# bbox_inches='tight', pad_inches=0.1,dpi=500,\n",
    "# facecolor='auto', edgecolor='auto',\n",
    "# backend=None)"
   ]
  },
  {
   "cell_type": "code",
   "execution_count": null,
   "id": "e52b89ea",
   "metadata": {},
   "outputs": [],
   "source": [
    "reg_df['Depressed'] = ['High BDI' if bdi >=20 else 'Low BDI' for bdi in reg_df.bdi.tolist()]"
   ]
  },
  {
   "cell_type": "code",
   "execution_count": null,
   "id": "9b1cd8c3",
   "metadata": {},
   "outputs": [],
   "source": [
    "## X plot attempt \n",
    "\n",
    "sns.set_theme(style='ticks') \n",
    "sns.set_context(\"poster\")\n",
    "\n",
    "# from matplotlib import rc\n",
    "# rc('text', usetex=False)\n",
    "\n",
    "\n",
    "fig,ax = plt.subplots(figsize=(8,5))\n",
    "# sns.set_context(\"poster\",rc={'axes.linewidth': 2})\n",
    "# sns.set_theme(style='ticks') \n",
    "\n",
    "# palette={'depression':\"#3f2755\",'no depression':\"#054a6f\"}\n",
    "\n",
    "# palette={'high BDI':\"#0b4e5f\",'low BDI':\"#824973\"}\n",
    "\n",
    "\n",
    "# ax = sns.lmplot(data=reg_df,x='decisionCPE',y='band_pow',hue='Depression',scatter=False,ci=95,palette=palette)\n",
    "# sns.move_legend(ax, loc='lower center', bbox_to_anchor=(0.1, 1),bbox_to_anchor=(-1, 0), ncol=2)\n",
    "\n",
    "# sns.move_legend(ax,\"upper center\", bbox_to_anchor=(0.5, 1), borderaxespad=0.1,frameon=False,framealpha=0,\n",
    "#                 fontsize='x-small',shadow=None,title=None,columnspacing=0.5,edgecolor=None,markerfirst=True,\n",
    "#                 markerscale=4,labelcolor=None, ncol=2)\n",
    "\n",
    "\n",
    "sns.regplot(data=reg_df[reg_df.Depressed=='Low BDI'],x='decisionCPE',y='band_pow',scatter=False,\n",
    "           ci=95,color = '#824973',label='Low BDI')\n",
    "sns.regplot(data=reg_df[reg_df.Depressed=='High BDI'],x='decisionCPE',y='band_pow',scatter=False,\n",
    "           ci=95,color='#0b4e5f',label='High BDI')\n",
    "\n",
    "plt.legend(fontsize=10)\n",
    "# borderaxespad=0,frameon=False,framealpha=0,\n",
    "sns.move_legend(ax,\"upper center\", bbox_to_anchor=(0.5, 1.1), frameon=False,framealpha=0,\n",
    "                fontsize='small',shadow=None,\n",
    "                columnspacing=2,ncol=2)\n",
    "\n",
    "\n",
    "plt.gca().yaxis.set_major_formatter(StrMethodFormatter('{x:,.2f}')) \n",
    "plt.tight_layout()\n",
    "plt.ylabel(fr'${band}_{{{zpow}}}$')\n",
    "plt.xlabel(r'$cpe(z)$')\n",
    "sns.despine()\n",
    "plt.tick_params(length=0)\n",
    "# plt.text(7.25,0.07,f'rho: {np.round(r,3)} \\n p: {np.round(p_r,6)}',fontsize=16)\n",
    "\n",
    "\n",
    "# plt.savefig(f'{fig_save_dir}/all_lmplot_cpe_bpow_bdi_{date}.pdf', format='pdf', metadata=None,\n",
    "# bbox_inches='tight', pad_inches=0.1,dpi=500,\n",
    "# facecolor='auto', edgecolor='auto',\n",
    "# backend=None)"
   ]
  },
  {
   "cell_type": "code",
   "execution_count": null,
   "id": "38eb7dc5",
   "metadata": {
    "scrolled": true
   },
   "outputs": [],
   "source": [
    "for roi in reg_df.roi.unique().tolist():\n",
    "    roi_reg_plot = reg_df[reg_df.roi== roi]\n",
    "    fig,ax = plt.subplots(figsize=(8,5))\n",
    "\n",
    "    sns.regplot(data=roi_reg_plot[roi_reg_plot.Depressed=='Low BDI'],x='decisionCPE',y='band_pow',scatter=False,\n",
    "               ci=95,color = '#824973',label='Low BDI')#,scatter_kws={'s':2})\n",
    "    sns.regplot(data=roi_reg_plot[roi_reg_plot.Depressed=='High BDI'],x='decisionCPE',y='band_pow',scatter=False,\n",
    "               ci=95,color='#0b4e5f',label='High BDI')#,scatter_kws={'s':2})\n",
    "\n",
    "    plt.legend(fontsize=10)\n",
    "    # borderaxespad=0,frameon=False,framealpha=0,\n",
    "    sns.move_legend(ax,\"upper center\", bbox_to_anchor=(0.5, 1.1), frameon=False,framealpha=0,\n",
    "                    fontsize='small',shadow=None,\n",
    "                    columnspacing=2,ncol=2)\n",
    "\n",
    "\n",
    "    plt.gca().yaxis.set_major_formatter(StrMethodFormatter('{x:,.2f}')) \n",
    "    plt.tight_layout()\n",
    "    plt.ylabel(fr'${band}_{{{zpow}}}$')\n",
    "    plt.xlabel(r'$cpe(z)$')\n",
    "    plt.title(f'{roi}')\n",
    "    sns.despine()\n",
    "    plt.tick_params(length=0)\n",
    "    \n",
    "    "
   ]
  },
  {
   "cell_type": "code",
   "execution_count": null,
   "id": "718b4a51",
   "metadata": {
    "scrolled": true
   },
   "outputs": [],
   "source": [
    "for roi in reg_df.roi.unique().tolist():\n",
    "    roi_reg_plot = reg_df[reg_df.roi== roi]\n",
    "    fig,ax = plt.subplots(figsize=(8,5))\n",
    "\n",
    "    sns.regplot(data=roi_reg_plot[roi_reg_plot.Depressed=='Low BDI'],x='decisionCPE',y='band_pow',scatter=True,\n",
    "               ci=95,color = '#824973',label='Low BDI',x_jitter = 0.15,scatter_kws={'s':5})\n",
    "    sns.regplot(data=roi_reg_plot[roi_reg_plot.Depressed=='High BDI'],x='decisionCPE',y='band_pow',scatter=True,\n",
    "               ci=95,color='#0b4e5f',label='High BDI',x_jitter = 0.15,scatter_kws={'s':5})\n",
    "\n",
    "    plt.legend(fontsize=10)\n",
    "    # borderaxespad=0,frameon=False,framealpha=0,\n",
    "    sns.move_legend(ax,\"upper center\", bbox_to_anchor=(0.5, 1.1), frameon=False,framealpha=0,\n",
    "                    fontsize='small',shadow=None,\n",
    "                    columnspacing=2,ncol=2)\n",
    "\n",
    "\n",
    "    plt.gca().yaxis.set_major_formatter(StrMethodFormatter('{x:,.2f}')) \n",
    "    plt.tight_layout()\n",
    "    plt.ylabel(fr'${band}_{{{zpow}}}$')\n",
    "    plt.xlabel(r'$cpe(z)$')\n",
    "    plt.title(f'{roi}')\n",
    "    sns.despine()\n",
    "    plt.tick_params(length=0)\n",
    "    \n",
    "    "
   ]
  },
  {
   "cell_type": "code",
   "execution_count": null,
   "id": "d1b32dcf",
   "metadata": {
    "scrolled": false
   },
   "outputs": [],
   "source": [
    "# for roi in reg_df.roi.unique().tolist():\n",
    "#     roi_reg_plot = reg_df[reg_df.roi== roi]\n",
    "#     fig,ax = plt.subplots(figsize=(8,5),dpi=500)\n",
    "\n",
    "#     sns.regplot(data=roi_reg_plot[roi_reg_plot.Depressed=='Low BDI'],x='decisionCPE',y='band_pow',scatter=True,\n",
    "#                ci=95,color = '#824973',label='Low BDI',x_jitter = 0.15)#,scatter_kws={'s':2})\n",
    "#     sns.regplot(data=roi_reg_plot[roi_reg_plot.Depressed=='High BDI'],x='decisionCPE',y='band_pow',scatter=True,\n",
    "#                ci=95,color='#0b4e5f',label='High BDI',x_jitter = 0.15)#,scatter_kws={'s':2})\n",
    "\n",
    "#     plt.legend(fontsize=10)\n",
    "#     # borderaxespad=0,frameon=False,framealpha=0,\n",
    "#     sns.move_legend(ax,\"upper center\", bbox_to_anchor=(0.5, 1.1), frameon=False,framealpha=0,\n",
    "#                     fontsize='small',shadow=None,\n",
    "#                     columnspacing=2,ncol=2)\n",
    "\n",
    "\n",
    "#     plt.gca().yaxis.set_major_formatter(StrMethodFormatter('{x:,.2f}')) \n",
    "\n",
    "#     plt.ylabel(r'$beta_{{{zpow}}}$')\n",
    "#     plt.xlabel(r'$cpe(z)$')\n",
    "#     plt.title(f'{roi}')\n",
    "#     sns.despine()\n",
    "#     plt.tick_params(length=0)\n",
    "    \n",
    "    "
   ]
  },
  {
   "cell_type": "code",
   "execution_count": null,
   "id": "d22c2696",
   "metadata": {},
   "outputs": [],
   "source": [
    "fig,ax = plt.subplots(figsize=(8,5),dpi=500)\n",
    "# sns.set_context(\"poster\",rc={'axes.linewidth': 2})\n",
    "# sns.set_theme(style='ticks') \n",
    "\n",
    "# palette={'depression':\"#3f2755\",'no depression':\"#054a6f\"}\n",
    "\n",
    "# palette={'high BDI':\"#0b4e5f\",'low BDI':\"#824973\"}\n",
    "\n",
    "\n",
    "# ax = sns.lmplot(data=reg_df,x='decisionCPE',y='band_pow',hue='Depression',scatter=False,ci=95,palette=palette)\n",
    "# sns.move_legend(ax, loc='lower center', bbox_to_anchor=(0.1, 1),bbox_to_anchor=(-1, 0), ncol=2)\n",
    "\n",
    "# sns.move_legend(ax,\"upper center\", bbox_to_anchor=(0.5, 1), borderaxespad=0.1,frameon=False,framealpha=0,\n",
    "#                 fontsize='x-small',shadow=None,title=None,columnspacing=0.5,edgecolor=None,markerfirst=True,\n",
    "#                 markerscale=4,labelcolor=None, ncol=2)\n",
    "\n",
    "\n",
    "sns.regplot(data=reg_df[reg_df.Depressed=='Low BDI'],x='decisionCPE',y='band_pow',scatter=True,\n",
    "           ci=95,color = '#824973',label='Low BDI',x_jitter = 0.15,scatter_kws={'s':2})\n",
    "sns.regplot(data=reg_df[reg_df.Depressed=='High BDI'],x='decisionCPE',y='band_pow',scatter=True,\n",
    "           ci=95,color='#0b4e5f',label='High BDI',x_jitter = 0.15,scatter_kws={'s':2})\n",
    "\n",
    "plt.legend(fontsize=10)\n",
    "# borderaxespad=0,frameon=False,framealpha=0,\n",
    "sns.move_legend(ax,\"upper center\", bbox_to_anchor=(0.5, 1.1), frameon=False,framealpha=0,\n",
    "                fontsize='small',shadow=None,\n",
    "                columnspacing=2,ncol=2)\n",
    "\n",
    "\n",
    "plt.gca().yaxis.set_major_formatter(StrMethodFormatter('{x:,.2f}')) \n",
    "\n",
    "plt.ylabel(fr'${band}_{{{zpow}}}$')\n",
    "plt.xlabel(r'$cpe(z)$')\n",
    "sns.despine()\n",
    "plt.tick_params(length=0)\n",
    "# plt.text(7.25,0.07,f'rho: {np.round(r,3)} \\n p: {np.round(p_r,6)}',fontsize=16)\n",
    "\n"
   ]
  },
  {
   "cell_type": "code",
   "execution_count": null,
   "id": "0ba79036",
   "metadata": {},
   "outputs": [],
   "source": []
  },
  {
   "cell_type": "code",
   "execution_count": null,
   "id": "c4864820",
   "metadata": {},
   "outputs": [],
   "source": []
  },
  {
   "cell_type": "code",
   "execution_count": null,
   "id": "0f3fbbc0",
   "metadata": {},
   "outputs": [],
   "source": [
    "palette=dict(Low=\"#3f2755\", High=\"#054a6f\")\n",
    "# sns.move_legend(ax, \"lower center\", bbox_to_anchor=(.5, 1), ncol=3, title=None, frameon=False)\n"
   ]
  },
  {
   "cell_type": "code",
   "execution_count": null,
   "id": "49c8123e",
   "metadata": {},
   "outputs": [],
   "source": [
    "from scipy import stats\n",
    "# slope, intercept, r_value, p_value, std_err = stats.linregress(df.x,df.y)"
   ]
  },
  {
   "cell_type": "code",
   "execution_count": null,
   "id": "eb334420",
   "metadata": {},
   "outputs": [],
   "source": [
    "reg_df['Depression'] = ['High BDI' if bdi >=20 else 'Low BDI' for bdi in reg_df.bdi.tolist()]"
   ]
  },
  {
   "cell_type": "code",
   "execution_count": null,
   "id": "f4257b26",
   "metadata": {},
   "outputs": [],
   "source": [
    "# edgecolor=None,markerfirst=True,title=None,#title_fontsize='x-small',\n",
    "#                 markerscale=0.2,labelcolor=None"
   ]
  },
  {
   "cell_type": "code",
   "execution_count": null,
   "id": "a50002cc",
   "metadata": {},
   "outputs": [],
   "source": [
    "roi_order = ['dlpfc','vlpfc','ofc','ains','pins','acc','hpc','amy']"
   ]
  },
  {
   "cell_type": "code",
   "execution_count": null,
   "id": "e1f5bbab",
   "metadata": {},
   "outputs": [],
   "source": [
    "lmplot"
   ]
  },
  {
   "cell_type": "code",
   "execution_count": null,
   "id": "d83ccb07",
   "metadata": {},
   "outputs": [],
   "source": [
    "reg_df"
   ]
  },
  {
   "cell_type": "code",
   "execution_count": null,
   "id": "ed965db8",
   "metadata": {},
   "outputs": [],
   "source": [
    "lmplot = reg_df.copy()\n",
    "lmplot = lmplot.groupby('unique_reref_ch').agg('mean').reset_index()\n",
    "\n",
    "# beta_lmplot['Depressed'] = ['Low BDI' if bdi =< 20 else 'High BDI' for bdi in beta_lmplot.bdi]\n",
    "\n",
    "\n",
    "# beta_lmplot['raw_rt_coeff']  = [roi_bdi_plot_data[roi_bdi_plot_data.unique_reref_ch == elec][\n",
    "#     'raw_decisionCPE:band_pow'].values[0] for elec in beta_lmplot.unique_reref_ch]\n",
    "\n",
    "# beta_lmplot['elec_bCPE']  = [roi_bdi_plot_data[roi_bdi_plot_data.unique_reref_ch == elec][\n",
    "#     'elec_bCPE'].values[0] for elec in beta_lmplot.unique_reref_ch]\n",
    "\n",
    "lmplot['roi']  = [reg_df[reg_df.unique_reref_ch == elec][\n",
    "    'roi'].values[0] for elec in reg_df.unique_reref_ch]\n",
    "\n",
    "lmplot = lmplot[lmplot.roi.isin(roi_order)]\n",
    "\n",
    "lmplot"
   ]
  },
  {
   "cell_type": "code",
   "execution_count": null,
   "id": "ce3da504",
   "metadata": {},
   "outputs": [],
   "source": [
    "roi_not_ains = ['notIns' if roi != 'ains' else 'ains' for roi in reg_df.roi.tolist()]\n",
    "roi_not_ains"
   ]
  },
  {
   "cell_type": "code",
   "execution_count": null,
   "id": "33a97c4b",
   "metadata": {},
   "outputs": [],
   "source": [
    "reg_df['roi_not_ains'] = roi_not_ains"
   ]
  },
  {
   "cell_type": "code",
   "execution_count": null,
   "id": "76e6a7a7",
   "metadata": {},
   "outputs": [],
   "source": [
    "final_vars = ['C(GambleChoice)', 'TotalProfit', 'decisionCPE']\n"
   ]
  },
  {
   "cell_type": "code",
   "execution_count": null,
   "id": "c1ebde85",
   "metadata": {},
   "outputs": [],
   "source": [
    "\n",
    "final_fit = fit_mixed_model(reg_df,final_vars,outcome_var,rand_eff_var,reml=False)\n",
    "print(final_fit.summary())\n",
    "    "
   ]
  },
  {
   "cell_type": "code",
   "execution_count": null,
   "id": "0514d810",
   "metadata": {
    "scrolled": true
   },
   "outputs": [],
   "source": [
    "final_fit.pvalues['decisionCPE']"
   ]
  },
  {
   "cell_type": "code",
   "execution_count": null,
   "id": "8492928e",
   "metadata": {},
   "outputs": [],
   "source": [
    "mixed_effects_ftest_ttest(final_fit)"
   ]
  },
  {
   "cell_type": "code",
   "execution_count": null,
   "id": "c807ae1e",
   "metadata": {},
   "outputs": [],
   "source": [
    "fe_param_names = list(final_fit.fe_params.index[1:])\n",
    "fe_param_names"
   ]
  },
  {
   "cell_type": "code",
   "execution_count": null,
   "id": "e455378a",
   "metadata": {},
   "outputs": [],
   "source": [
    "plot_data = pd.concat([pd.DataFrame(\n",
    "    {**{'subj_id':elec_id.split('_')[0],'reref_ch_names':elec_id.split('_')[1]},'unique_reref_ch':elec_id,\n",
    "     **{f'raw_{param}':final_fit.random_effects[elec_id][param] for param in list(\n",
    "            final_fit.random_effects[elec_id].index)}},index=[range(len(fe_param_names))])\n",
    "        \n",
    "    for elec_id in final_fit.random_effects.keys()]).reset_index(drop=True)\n",
    "\n",
    "plot_data['roi'] = [reg_df.roi[reg_df.unique_reref_ch == row.unique_reref_ch].values[0]\n",
    "                                for idx,row in plot_data.iterrows()]\n",
    "\n",
    "plot_data['bdi'] = [subj_info_df.bdi[subj_info_df.subj_id == subj_id].values[0]\n",
    "                                for subj_id in plot_data.subj_id]"
   ]
  },
  {
   "cell_type": "code",
   "execution_count": null,
   "id": "3f839a88",
   "metadata": {},
   "outputs": [],
   "source": [
    "plot_data"
   ]
  },
  {
   "cell_type": "code",
   "execution_count": null,
   "id": "e9ebf197",
   "metadata": {},
   "outputs": [],
   "source": [
    "#### Get all results for Figs!!!!\n",
    "\n",
    "fe_intercept   = final_fit.params['Intercept']\n",
    "fe_cpe_beta    = final_fit.params['decisionCPE']\n",
    "fe_cpe_beta\n"
   ]
  },
  {
   "cell_type": "code",
   "execution_count": null,
   "id": "b2cf1d9f",
   "metadata": {},
   "outputs": [],
   "source": [
    "#### add fixed effects data to all_elec_plot_data\n",
    "plot_data['elec_b0']   = np.add(plot_data.raw_Group,fe_intercept)\n",
    "plot_data['elec_bCPE'] = np.add(plot_data.raw_decisionCPE,fe_cpe_beta)\n",
    "plot_data = plot_data[~plot_data.roi.isnull()]"
   ]
  },
  {
   "cell_type": "code",
   "execution_count": null,
   "id": "49d4f1e5",
   "metadata": {},
   "outputs": [],
   "source": [
    "plot_data"
   ]
  },
  {
   "cell_type": "code",
   "execution_count": null,
   "id": "1ce350fb",
   "metadata": {},
   "outputs": [],
   "source": [
    "raw_roi_stats = {f'{roi}':ttest_1samp(plot_data.raw_decisionCPE[plot_data.roi == roi].unique(),\n",
    "                 popmean=0) for roi in plot_data.roi.unique().tolist()}\n",
    "raw_roi_stats"
   ]
  },
  {
   "cell_type": "code",
   "execution_count": null,
   "id": "5c29f33c",
   "metadata": {},
   "outputs": [],
   "source": [
    "roi_stats = {f'{roi}':ttest_1samp(plot_data.elec_bCPE[plot_data.roi == roi].unique(),\n",
    "                 popmean=0) for roi in plot_data.roi.unique().tolist()}\n",
    "roi_stats"
   ]
  },
  {
   "cell_type": "code",
   "execution_count": null,
   "id": "dc23124a",
   "metadata": {},
   "outputs": [],
   "source": [
    "bonferr_alpha = 0.05/(len(plot_data.roi.unique().tolist()))\n",
    "bonferr_alpha"
   ]
  },
  {
   "cell_type": "code",
   "execution_count": null,
   "id": "28548e98",
   "metadata": {},
   "outputs": [],
   "source": [
    "print('sig ROIs after multiple comp correction: ',[(roi,raw_roi_stats[roi].pvalue) for roi in raw_roi_stats.keys()\n",
    "                                                   if raw_roi_stats[roi].pvalue< bonferr_alpha])\n",
    "# print('sig ROI pvals: ',roi_stats.roi_cpe_pval[roi_beta_results.roi_cpe_pval<=bonferr_alpha].unique().tolist())\n"
   ]
  },
  {
   "cell_type": "code",
   "execution_count": null,
   "id": "e750ec62",
   "metadata": {},
   "outputs": [],
   "source": [
    "print('sig ROIs after multiple comp correction: ',[(roi,roi_stats[roi].pvalue) for roi in roi_stats.keys()\n",
    "                                                   if roi_stats[roi].pvalue< bonferr_alpha])\n",
    "# print('sig ROI pvals: ',roi_stats.roi_cpe_pval[roi_beta_results.roi_cpe_pval<=bonferr_alpha].unique().tolist())\n",
    "\n",
    "\n"
   ]
  },
  {
   "cell_type": "code",
   "execution_count": null,
   "id": "c60f8481",
   "metadata": {},
   "outputs": [],
   "source": [
    "roi_stats.keys()"
   ]
  },
  {
   "cell_type": "code",
   "execution_count": null,
   "id": "30b16acd",
   "metadata": {},
   "outputs": [],
   "source": [
    "# roi_order = ['dlpfc','vlpfc','dmpfc','ofc','ains','pins','acc','hpc','amy','mtg','motor','thalamus']\n",
    "roi_order = ['dlpfc','vlpfc','dmpfc','ofc','ains','pins','acc','hpc','amy','mtg']"
   ]
  },
  {
   "cell_type": "code",
   "execution_count": null,
   "id": "b8d968cc",
   "metadata": {},
   "outputs": [],
   "source": [
    "roi_plot_data = plot_data.copy()\n",
    "roi_plot_data = roi_plot_data[roi_plot_data.roi.isin(roi_order)]\n",
    "\n",
    "# roi_plot_names = {'thalamus':'THAL','hpc':'HPC','amy':'AMY','acc':'ACC','ofc':'OFC','ains':'aINS',\n",
    "#                   'pins':'pINS','dmpfc':'dmPFC','dlpfc':'dlPFC','vlpfc':'vlPFC'}\n"
   ]
  },
  {
   "cell_type": "code",
   "execution_count": null,
   "id": "36ab9389",
   "metadata": {
    "scrolled": false
   },
   "outputs": [],
   "source": [
    "# roi_plot_data"
   ]
  },
  {
   "cell_type": "code",
   "execution_count": null,
   "id": "036d54f7",
   "metadata": {},
   "outputs": [],
   "source": [
    "sns.set_context(\"poster\",rc={'axes.linewidth': 1.5})\n",
    "fig,ax = plt.subplots(figsize=(15, 6),dpi=500)\n",
    "\n",
    "fig_save_dir = f'{base_dir}ephys_analysis/figs/{band}_regressions/'\n",
    "os.makedirs(fig_save_dir,exist_ok=True)\n",
    "\n",
    "sns.barplot(data = roi_plot_data,\n",
    "            x = 'roi',\n",
    "#             y = 'elec_bCPE',\n",
    "            y='raw_decisionCPE',\n",
    "#             color = '#561C46',\n",
    "#             color = '#00467e',\n",
    "#             color = '#346a97',\n",
    "            color = '#346a97',\n",
    "            saturation=1,\n",
    "            order=roi_order,\n",
    "            errorbar=None) \n",
    "\n",
    "\n",
    "sns.stripplot(data = roi_plot_data,\n",
    "            x = 'roi',\n",
    "#             y = 'elec_bCPE',\n",
    "              y='raw_decisionCPE',\n",
    "#               color='#78496b', \n",
    "              color = '#00467e',\n",
    "              alpha=.4,\n",
    "              dodge=True,\n",
    "              order=roi_order,\n",
    "              size = 8)\n",
    "\n",
    "ax.axhline(y=0,color='#00467e',linewidth=1.5)\n",
    "plt.tick_params(length=0 )#,grid_linewidth=1)\n",
    "\n",
    "# plt.ylim([-0.05,0.05])\n",
    "ax.set(xlabel=None)\n",
    "# plt.ylabel('CPE Encoding in Beta Power (z)')\n",
    "# plt.ylabel('beta(z) cpe encoding')\n",
    "plt.ylabel(fr'${band}_{{{zpow}}}$'+ ' cpe encoding')\n",
    "# plt.gca().yaxis.set_major_formatter(StrMethodFormatter('{x:,.3f}')) \n",
    "# plt.locator_params(axis='y', nbins=5,tight=True)\n",
    "\n",
    "\n",
    "sns.despine()\n",
    "    \n",
    "plt.savefig(f'{fig_save_dir}/Bpow_CPE_barplot_{date}.pdf', format='pdf', metadata=None,\n",
    "bbox_inches=None, pad_inches=0.1,dpi=500,\n",
    "facecolor='auto', edgecolor='auto',\n",
    "backend=None)\n"
   ]
  },
  {
   "cell_type": "code",
   "execution_count": null,
   "id": "6d426e85",
   "metadata": {},
   "outputs": [],
   "source": [
    "rho_data = []\n",
    "sig_rho = []\n",
    "\n",
    "# BDI CORRELATIONS\n",
    "for roi in plot_data.roi.unique().tolist()[:-1]:\n",
    "    roi_temp_data = plot_data[plot_data.roi==roi]\n",
    "    rho,rho_p     = pearsonr(roi_temp_data.bdi,roi_temp_data.raw_decisionCPE)\n",
    "#     rho,rho_p     = pearsonr(roi_temp_data.bdi,roi_temp_data.elec_bCPE)\n",
    "#     print(f'{roi} pearsonr',rho,rho_p)\n",
    "    rho_data.append(pd.DataFrame({'roi':roi,'rho':rho,'rho_p':rho_p},index=[0]))\n",
    "#     if rho_p <= bonferr_alpha:\n",
    "#         sig_bdi_rois.append(roi)\n",
    "    if rho_p < bonferr_alpha: \n",
    "        sig_rho.append((roi,rho,rho_p))\n",
    "    print(f'{roi} pearsonr',rho,rho_p)\n",
    "rho_data = pd.concat(rho_data).reset_index(drop=True)\n"
   ]
  },
  {
   "cell_type": "code",
   "execution_count": null,
   "id": "a961a06c",
   "metadata": {},
   "outputs": [],
   "source": [
    "sig_rho"
   ]
  },
  {
   "cell_type": "code",
   "execution_count": null,
   "id": "e57580e7",
   "metadata": {},
   "outputs": [],
   "source": [
    "rho_data['plot_p'] = [0.001 if roi.rho_p < 0.001 else np.round(roi.rho_p,4) for ix,roi in rho_data.iterrows()]"
   ]
  },
  {
   "cell_type": "code",
   "execution_count": null,
   "id": "66c97818",
   "metadata": {
    "scrolled": true
   },
   "outputs": [],
   "source": [
    "new_plot_ps = []\n",
    "for p in rho_data['plot_p']:\n",
    "    new_p = 0\n",
    "    \n",
    "    for ix,val in enumerate(str(p)):\n",
    "        if val == '0':\n",
    "            continue\n",
    "        elif val == '.':\n",
    "            continue\n",
    "        else: \n",
    "#             print(ix,val)\n",
    "            new_p = str(p)[:ix+1]\n",
    "            break\n",
    "            \n",
    "            \n",
    "\n",
    "    new_plot_ps.append(float(new_p))\n",
    "#         print(val)"
   ]
  },
  {
   "cell_type": "code",
   "execution_count": null,
   "id": "3912a60f",
   "metadata": {},
   "outputs": [],
   "source": [
    "rho_data['round_p']   = new_plot_ps\n",
    "rho_data['round_rho'] = np.round(rho_data.rho,2)\n",
    "rho_data"
   ]
  },
  {
   "cell_type": "code",
   "execution_count": null,
   "id": "e93fa32a",
   "metadata": {},
   "outputs": [],
   "source": []
  },
  {
   "cell_type": "code",
   "execution_count": null,
   "id": "e8712d81",
   "metadata": {
    "scrolled": false
   },
   "outputs": [],
   "source": [
    "\n",
    "sns.set_context(\"poster\",rc={'axes.linewidth': 1.5})\n",
    "\n",
    "for roi in plot_data.roi.unique().tolist()[:-1]:\n",
    "    roi_temp_data = plot_data[plot_data.roi==roi]\n",
    "\n",
    "    rho   = rho_data[rho_data.roi == roi].round_rho.values[0]\n",
    "    rho_p = rho_data[rho_data.roi == roi].round_p.values[0]\n",
    "    \n",
    "        \n",
    "    fig = plt.figure(figsize=(7,5),dpi=300)\n",
    "\n",
    "    sns.regplot(data=roi_temp_data,x='bdi',y='raw_decisionCPE',scatter=False,ci=95,\n",
    "                fit_reg=True,color = '#00467e') #034975\n",
    "    \n",
    "    sns.scatterplot(data = roi_temp_data.groupby(['subj_id']).agg('mean'),x='bdi',\n",
    "                    y='raw_decisionCPE',color = '#00467e',edgecolor=None,alpha=0.8)\n",
    "    \n",
    "#     plt.gca().yaxis.set_major_formatter(StrMethodFormatter('{x:,.2f}')) \n",
    "    plt.xlabel('BDI-II')\n",
    "    \n",
    "    plt.tick_params(length=0) \n",
    "    plt.ylabel(band+r'$_{{{zpow}}}$'+' cpe encoding')\n",
    "\n",
    "    plt.text(np.max(roi_temp_data.bdi)-8,\n",
    "             np.round(np.max(roi_temp_data.groupby(['subj_id']).agg('mean').raw_decisionCPE),3)-0.003,\n",
    "             r'$rho$ = '+f'{rho} '+'\\n '+r'$p < $'+f'{rho_p}',\n",
    "             color='#00467e',fontsize=16)\n",
    "\n",
    "    plt.title(f'{roi}',fontsize=24)\n",
    "\n",
    "\n",
    "    \n",
    "    sns.despine()\n",
    "    \n",
    "    plt.savefig(f'{fig_save_dir}/{roi}_{rho}_{rho_p}_roi_bdi_{band}-cpe-slope.pdf', format='pdf', metadata=None,\n",
    "        bbox_inches='tight', pad_inches=0.1,dpi=300,\n",
    "        facecolor='auto', edgecolor='auto',\n",
    "        backend=None)\n",
    "    "
   ]
  },
  {
   "cell_type": "code",
   "execution_count": null,
   "id": "31231b35",
   "metadata": {},
   "outputs": [],
   "source": []
  },
  {
   "cell_type": "markdown",
   "id": "548a813f",
   "metadata": {},
   "source": [
    "# BDI Interaction\n",
    "- Rerun final mixed effects model on each ROI separately\n",
    "- Correlate random effects slopes for each regressor with BDI"
   ]
  },
  {
   "cell_type": "code",
   "execution_count": null,
   "id": "45125515",
   "metadata": {},
   "outputs": [],
   "source": [
    "rand_eff_var = 'unique_reref_ch'\n"
   ]
  },
  {
   "cell_type": "code",
   "execution_count": null,
   "id": "fc3f279e",
   "metadata": {
    "scrolled": false
   },
   "outputs": [],
   "source": [
    "reg_df"
   ]
  },
  {
   "cell_type": "code",
   "execution_count": null,
   "id": "403b63d6",
   "metadata": {},
   "outputs": [],
   "source": [
    "bdi_vars    = ['decisionCPE','bdi','decisionCPE:bdi']\n",
    "outcome_var = 'band_pow'\n",
    "\n",
    "bdi_fit = fit_mixed_model(reg_df,bdi_vars,outcome_var,rand_eff_var,reml=False)\n",
    "print(bdi_fit.summary())\n",
    "    "
   ]
  },
  {
   "cell_type": "code",
   "execution_count": null,
   "id": "0be82922",
   "metadata": {},
   "outputs": [],
   "source": []
  },
  {
   "cell_type": "code",
   "execution_count": null,
   "id": "5c3ea595",
   "metadata": {},
   "outputs": [],
   "source": [
    "fe_param_names = list(bdi_fit.fe_params.index[1:])\n",
    "fe_param_names"
   ]
  },
  {
   "cell_type": "code",
   "execution_count": null,
   "id": "b9809e28",
   "metadata": {},
   "outputs": [],
   "source": [
    "bdi_plot_data = pd.concat([pd.DataFrame(\n",
    "    {**{'subj_id':elec_id.split('_')[0],'reref_ch_names':elec_id.split('_')[1]},'unique_reref_ch':elec_id,\n",
    "     **{f'raw_{param}':bdi_fit.random_effects[elec_id][param] for param in list(\n",
    "            bdi_fit.random_effects[elec_id].index)}},index=[range(len(fe_param_names))])\n",
    "        \n",
    "    for elec_id in bdi_fit.random_effects.keys()]).reset_index(drop=True)\n",
    "\n",
    "bdi_plot_data['roi'] = [reg_df.roi[reg_df.unique_reref_ch == row.unique_reref_ch].values[0]\n",
    "                                for idx,row in bdi_plot_data.iterrows()]\n",
    "\n",
    "bdi_plot_data['bdi'] = [subj_info_df.bdi[subj_info_df.subj_id == subj_id].values[0]\n",
    "                                for subj_id in bdi_plot_data.subj_id]"
   ]
  },
  {
   "cell_type": "code",
   "execution_count": null,
   "id": "6f4ae250",
   "metadata": {},
   "outputs": [],
   "source": [
    "bdi_plot_data"
   ]
  },
  {
   "cell_type": "code",
   "execution_count": null,
   "id": "a02df551",
   "metadata": {},
   "outputs": [],
   "source": [
    "#### Get all results for Figs!!!!\n",
    "\n",
    "fe_intercept   = bdi_fit.params['Intercept']\n",
    "fe_cpe_beta    = bdi_fit.params['decisionCPE:bdi']\n",
    "fe_cpe_beta\n"
   ]
  },
  {
   "cell_type": "code",
   "execution_count": null,
   "id": "0bdada99",
   "metadata": {},
   "outputs": [],
   "source": [
    "#### add fixed effects data to all_elec_plot_data\n",
    "bdi_plot_data['elec_b0']   = np.add(bdi_plot_data.raw_Group,fe_intercept)\n",
    "bdi_plot_data['elec_bCPE'] = np.add(bdi_plot_data['raw_decisionCPE:bdi'],fe_cpe_beta)\n",
    "bdi_plot_data = bdi_plot_data[~bdi_plot_data.roi.isnull()]"
   ]
  },
  {
   "cell_type": "code",
   "execution_count": null,
   "id": "523a0be6",
   "metadata": {},
   "outputs": [],
   "source": [
    "bdi_plot_data"
   ]
  },
  {
   "cell_type": "code",
   "execution_count": null,
   "id": "6e5966db",
   "metadata": {},
   "outputs": [],
   "source": [
    "# raw_bdi\n",
    "\n",
    "raw_roi_stats = {f'{roi}':ttest_1samp(bdi_plot_data['raw_bdi'][bdi_plot_data.roi == roi].unique(),\n",
    "                 popmean=0) for roi in bdi_plot_data.roi.unique().tolist()}\n",
    "raw_roi_stats"
   ]
  },
  {
   "cell_type": "code",
   "execution_count": null,
   "id": "4da8352e",
   "metadata": {},
   "outputs": [],
   "source": [
    "raw_roi_stats = {f'{roi}':ttest_1samp(bdi_plot_data['raw_decisionCPE:bdi'][bdi_plot_data.roi == roi].unique(),\n",
    "                 popmean=0) for roi in bdi_plot_data.roi.unique().tolist()}\n",
    "raw_roi_stats"
   ]
  },
  {
   "cell_type": "code",
   "execution_count": null,
   "id": "7bb53c9e",
   "metadata": {},
   "outputs": [],
   "source": [
    "roi_stats = {f'{roi}':ttest_1samp(bdi_plot_data.elec_bCPE[bdi_plot_data.roi == roi].unique(),\n",
    "                 popmean=0) for roi in bdi_plot_data.roi.unique().tolist()}\n",
    "roi_stats"
   ]
  },
  {
   "cell_type": "code",
   "execution_count": null,
   "id": "30dcad6d",
   "metadata": {},
   "outputs": [],
   "source": [
    "bonferr_alpha = 0.05/len(roi_stats)\n",
    "# bonferr_alpha = 0.05/len(bdi_plot_data.roi.unique().tolist())\n",
    "bonferr_alpha"
   ]
  },
  {
   "cell_type": "code",
   "execution_count": null,
   "id": "2dc9c1ba",
   "metadata": {},
   "outputs": [],
   "source": [
    "print('sig ROIs after multiple comp correction: ',[(roi,raw_roi_stats[roi].pvalue) for roi in raw_roi_stats.keys()\n",
    "                                                   if raw_roi_stats[roi].pvalue< bonferr_alpha])\n",
    "# print('sig ROI pvals: ',roi_stats.roi_cpe_pval[roi_beta_results.roi_cpe_pval<=bonferr_alpha].unique().tolist())\n"
   ]
  },
  {
   "cell_type": "code",
   "execution_count": null,
   "id": "965f4f44",
   "metadata": {},
   "outputs": [],
   "source": [
    "print('sig ROIs after multiple comp correction: ',[(roi,roi_stats[roi].pvalue) for roi in roi_stats.keys()\n",
    "                                                   if roi_stats[roi].pvalue< bonferr_alpha])\n",
    "# print('sig ROI pvals: ',roi_stats.roi_cpe_pval[roi_beta_results.roi_cpe_pval<=bonferr_alpha].unique().tolist())\n",
    "\n",
    "\n"
   ]
  },
  {
   "cell_type": "code",
   "execution_count": null,
   "id": "c5243c2c",
   "metadata": {},
   "outputs": [],
   "source": [
    "roi_stats"
   ]
  },
  {
   "cell_type": "code",
   "execution_count": null,
   "id": "609a0c44",
   "metadata": {},
   "outputs": [],
   "source": [
    "roi_stats.keys()"
   ]
  },
  {
   "cell_type": "code",
   "execution_count": null,
   "id": "364b9733",
   "metadata": {},
   "outputs": [],
   "source": [
    "# roi_order = ['dlpfc','vlpfc','dmpfc','ofc','ains','pins','acc','hpc','amy','mtg','motor','thalamus']\n",
    "roi_order = ['dlpfc','vlpfc','dmpfc','ofc','ains','pins','acc','hpc','amy']"
   ]
  },
  {
   "cell_type": "code",
   "execution_count": null,
   "id": "b9a6bce9",
   "metadata": {},
   "outputs": [],
   "source": [
    "roi_bdi_plot_data = bdi_plot_data.copy()\n",
    "roi_bdi_plot_data = roi_bdi_plot_data[roi_bdi_plot_data.roi.isin(roi_order)]\n",
    "\n",
    "# roi_plot_names = {'thalamus':'THAL','hpc':'HPC','amy':'AMY','acc':'ACC','ofc':'OFC','ains':'aINS',\n",
    "#                   'pins':'pINS','dmpfc':'dmPFC','dlpfc':'dlPFC','vlpfc':'vlPFC'}\n"
   ]
  },
  {
   "cell_type": "code",
   "execution_count": null,
   "id": "72fe9dd5",
   "metadata": {},
   "outputs": [],
   "source": [
    "roi_bdi_plot_data['raw_decisionCPE:bdi']"
   ]
  },
  {
   "cell_type": "code",
   "execution_count": null,
   "id": "94a25e08",
   "metadata": {},
   "outputs": [],
   "source": [
    "sns.set_context(\"poster\")\n",
    "fig,ax = plt.subplots(figsize=(15, 6),dpi=500)\n",
    "\n",
    "fig_save_dir = f'{base_dir}ephys_analysis/figs/{band}_regressions/'\n",
    "os.makedirs(fig_save_dir,exist_ok=True)\n",
    "\n",
    "sns.barplot(data = roi_bdi_plot_data,\n",
    "            x = 'roi',\n",
    "            y = 'raw_decisionCPE:bdi',\n",
    "#             y='elec_bCPE',\n",
    "            color = '#561C46', #173b6f\n",
    "            saturation=0.8,\n",
    "            order=roi_order,\n",
    "            errorbar=None) \n",
    "\n",
    "\n",
    "sns.stripplot(data = roi_bdi_plot_data,\n",
    "            x = 'roi',\n",
    "            y = 'raw_decisionCPE:bdi',\n",
    "              color = '#561C46',\n",
    "              alpha=.4,\n",
    "              dodge=True,\n",
    "              order=roi_order,\n",
    "              size = 8)\n",
    "\n",
    "ax.axhline(y=0,color='#561C46',linewidth=1.5)\n",
    "plt.tick_params(length=0 )#,grid_linewidth=1)\n",
    "\n",
    "# plt.ylim([-0.02,0.017])\n",
    "ax.set(xlabel=None)\n",
    "\n",
    "plt.ylabel(fr'${band}_{{{zpow}}} \\sim cpe:bdi$')\n",
    "# plt.gca().yaxis.set_major_formatter(StrMethodFormatter('{x:,.3f}')) \n",
    "plt.locator_params(axis='y', nbins=6,tight=True)\n",
    "\n",
    "\n",
    "\n",
    "sns.despine()\n",
    "    \n",
    "plt.savefig(f'{fig_save_dir}/{band}pow_CPEBDIINT{date}.pdf', format='pdf', metadata=None,\n",
    "bbox_inches=None, pad_inches=0.1,dpi=500,\n",
    "facecolor='auto', edgecolor='auto',\n",
    "backend=None)"
   ]
  },
  {
   "cell_type": "code",
   "execution_count": null,
   "id": "87e08260",
   "metadata": {},
   "outputs": [],
   "source": [
    "####### BDI ~ BPOW SIG FOR THESE ROIS!!!"
   ]
  },
  {
   "cell_type": "code",
   "execution_count": null,
   "id": "e88238b6",
   "metadata": {},
   "outputs": [],
   "source": [
    "print('sig ROIs after multiple comp correction: ',[(roi,raw_roi_stats[roi].pvalue) for roi in raw_roi_stats.keys()\n",
    "                                                   if raw_roi_stats[roi].pvalue< bonferr_alpha])\n",
    "# print('sig ROI pvals: ',roi_stats.roi_cpe_pval[roi_beta_results.roi_cpe_pval<=bonferr_alpha].unique().tolist())\n"
   ]
  },
  {
   "cell_type": "code",
   "execution_count": null,
   "id": "c9a8a7cd",
   "metadata": {},
   "outputs": [],
   "source": [
    "roi_bdi_plot_data"
   ]
  },
  {
   "cell_type": "code",
   "execution_count": null,
   "id": "38e9e2c7",
   "metadata": {},
   "outputs": [],
   "source": [
    "print('sig ROIs after multiple comp correction: ',[(roi,ttest_1samp(roi_bdi_plot_data[\n",
    "    roi_bdi_plot_data.roi == roi]['raw_decisionCPE:bdi'].to_numpy(),\n",
    "                                     popmean=0).pvalue) for roi in roi_bdi_plot_data.roi.unique().tolist()\n",
    "                                                  if ttest_1samp(roi_bdi_plot_data[\n",
    "    roi_bdi_plot_data.roi == roi]['raw_decisionCPE:bdi'].to_numpy(),\n",
    "                                     popmean=0).pvalue < bonferr_alpha])\n",
    "\n",
    "\n"
   ]
  },
  {
   "cell_type": "code",
   "execution_count": null,
   "id": "09f548d1",
   "metadata": {},
   "outputs": [],
   "source": [
    "print('sig ROIs after multiple comp correction: ',[(roi,ttest_1samp(roi_bdi_plot_data[\n",
    "    roi_bdi_plot_data.roi == roi]['raw_bdi'].to_numpy(),\n",
    "                                     popmean=0).pvalue) for roi in roi_bdi_plot_data.roi.unique().tolist()\n",
    "                                                  if ttest_1samp(roi_bdi_plot_data[\n",
    "    roi_bdi_plot_data.roi == roi]['raw_bdi'].to_numpy(),\n",
    "                                     popmean=0).pvalue < bonferr_alpha])\n",
    "\n",
    "\n"
   ]
  },
  {
   "cell_type": "code",
   "execution_count": null,
   "id": "f1dd4136",
   "metadata": {},
   "outputs": [],
   "source": [
    "sns.set_context(\"poster\")\n",
    "fig,ax = plt.subplots(figsize=(15, 6),dpi=500)\n",
    "\n",
    "fig_save_dir = f'{base_dir}ephys_analysis/figs/{band}_regressions/'\n",
    "os.makedirs(fig_save_dir,exist_ok=True)\n",
    "\n",
    "sns.barplot(data = roi_bdi_plot_data,\n",
    "            x = 'roi',\n",
    "            y = 'raw_bdi',\n",
    "#             y='elec_bCPE',\n",
    "            color = '#173b6f', #173b6f\n",
    "            saturation=0.8,\n",
    "            order=roi_order,\n",
    "            errorbar=None) \n",
    "\n",
    "\n",
    "sns.stripplot(data = roi_bdi_plot_data,\n",
    "            x = 'roi',\n",
    "            y = 'raw_bdi',\n",
    "              color = '#173b6f',\n",
    "              alpha=.4,\n",
    "              dodge=True,\n",
    "              order=roi_order,\n",
    "              size = 8)\n",
    "\n",
    "ax.axhline(y=0,color='#173b6f',linewidth=1.5)\n",
    "plt.tick_params(length=0 )#,grid_linewidth=1)\n",
    "\n",
    "# plt.ylim([-0.02,0.017])\n",
    "ax.set(xlabel=None)\n",
    "\n",
    "# plt.ylabel(r'$beta_{{{zpow}}} \\sim cpe:bdi$')\n",
    "plt.ylabel(fr'${band}_{{{zpow}}} \\sim bdi$')\n",
    "# plt.gca().yaxis.set_major_formatter(StrMethodFormatter('{x:,.3f}')) \n",
    "plt.locator_params(axis='y', nbins=6,tight=True)\n",
    "\n",
    "\n",
    "\n",
    "sns.despine()\n",
    "    \n",
    "plt.savefig(f'{fig_save_dir}/{band}POW~BDIbyROI{date}.pdf', format='pdf', metadata=None,\n",
    "bbox_inches=None, pad_inches=0.1,dpi=500,\n",
    "facecolor='auto', edgecolor='auto',\n",
    "backend=None)"
   ]
  },
  {
   "cell_type": "code",
   "execution_count": null,
   "id": "aeade1f2",
   "metadata": {},
   "outputs": [],
   "source": []
  },
  {
   "cell_type": "code",
   "execution_count": null,
   "id": "3e4336a0",
   "metadata": {},
   "outputs": [],
   "source": []
  },
  {
   "cell_type": "code",
   "execution_count": null,
   "id": "f2d93add",
   "metadata": {},
   "outputs": [],
   "source": []
  },
  {
   "cell_type": "code",
   "execution_count": null,
   "id": "e91fc596",
   "metadata": {
    "scrolled": false
   },
   "outputs": [],
   "source": [
    "roi_bdi_plot_data"
   ]
  },
  {
   "cell_type": "code",
   "execution_count": null,
   "id": "4076584e",
   "metadata": {},
   "outputs": [],
   "source": [
    "# roi_order = ['dlpfc','vlpfc','dmpfc','ofc','ains','pins','acc','hpc','amy']"
   ]
  },
  {
   "cell_type": "code",
   "execution_count": null,
   "id": "fb705f53",
   "metadata": {},
   "outputs": [],
   "source": [
    "reg_df.groupby('roi')"
   ]
  },
  {
   "cell_type": "code",
   "execution_count": null,
   "id": "996ee4b8",
   "metadata": {
    "scrolled": true
   },
   "outputs": [],
   "source": [
    "reg_df['BDI-II'] = ['Low' if bdi<20 else 'High' for bdi in reg_df.bdi]\n",
    "reg_df"
   ]
  },
  {
   "cell_type": "code",
   "execution_count": null,
   "id": "7d9e1740",
   "metadata": {},
   "outputs": [],
   "source": [
    "palette=dict(Low=\"#3f2755\", High=\"#054a6f\")\n",
    "# sns.move_legend(ax, \"lower center\", bbox_to_anchor=(.5, 1), ncol=3, title=None, frameon=False)\n"
   ]
  },
  {
   "cell_type": "code",
   "execution_count": null,
   "id": "859789ea",
   "metadata": {},
   "outputs": [],
   "source": [
    "from scipy import stats\n",
    "slope, intercept, r_value, p_value, std_err = stats.linregress(df.x,df.y)"
   ]
  },
  {
   "cell_type": "code",
   "execution_count": null,
   "id": "d58c90f0",
   "metadata": {},
   "outputs": [],
   "source": [
    "# reg_df['Depression'] = ['depressed' if bdi >=20 else 'not depressed' for bdi in reg_df.bdi.tolist()]\n",
    "reg_df['Depression'] = ['high BDI' if bdi >=20 else 'low BDI' for bdi in reg_df.bdi.tolist()]"
   ]
  },
  {
   "cell_type": "code",
   "execution_count": null,
   "id": "1813cfbb",
   "metadata": {},
   "outputs": [],
   "source": [
    "# edgecolor=None,markerfirst=True,title=None,#title_fontsize='x-small',\n",
    "#                 markerscale=0.2,labelcolor=None"
   ]
  },
  {
   "cell_type": "code",
   "execution_count": null,
   "id": "275e1a06",
   "metadata": {},
   "outputs": [],
   "source": []
  },
  {
   "cell_type": "code",
   "execution_count": null,
   "id": "9e9f2f7d",
   "metadata": {},
   "outputs": [],
   "source": [
    "reg_df.roi.unique().tolist()"
   ]
  },
  {
   "cell_type": "markdown",
   "id": "e4d7f782",
   "metadata": {},
   "source": [
    "# INTERACTION FEATURE SELECTION"
   ]
  },
  {
   "cell_type": "code",
   "execution_count": null,
   "id": "ea4fdaf5",
   "metadata": {},
   "outputs": [],
   "source": [
    "######## make all possible variable combinations for regressions \n",
    "main_var  = ['decisionCPE','band_pow','decisionCPE:band_pow']\n",
    "\n",
    "### iter vars for RT prediction dfs > \n",
    "iter_vars = ['C(GambleChoice)','TrialEV','TotalProfit',\n",
    "             'C(GambleChoice_t1)','TrialEV_t1']\n"
   ]
  },
  {
   "cell_type": "code",
   "execution_count": null,
   "id": "78a8d854",
   "metadata": {},
   "outputs": [],
   "source": [
    "iter_vars"
   ]
  },
  {
   "cell_type": "code",
   "execution_count": null,
   "id": "d5be8f86",
   "metadata": {},
   "outputs": [],
   "source": [
    "var_combos = [[v]+main_var for v in iter_vars]\n",
    "\n",
    "for i in range(1,len(iter_vars)-1):\n",
    "    iter_list = [list(tup)+main_var for tup in list(itertools.combinations(iter_vars,i+1))]\n",
    "    var_combos.extend(iter_list)\n",
    "\n",
    "# remove var combos that contain Choice + Trial Type for the *same trial* only bc they are collinear\n",
    "var_combos = [combo for combo in var_combos if ('C(GambleChoice_t1)' in combo and 'C(TrialType_t1)' not in combo)|\n",
    "              ('C(GambleChoice_t1)' not in combo and 'C(TrialType_t1)' in combo)|('C(GambleChoice_t1)'not in combo and 'C(TrialType_t1)' not in combo)]\n",
    "\n",
    "var_combos = [combo for combo in var_combos if ('C(GambleChoice)' in combo and 'C(TrialType)' not in combo)|\n",
    "              ('C(GambleChoice)' not in combo and 'C(TrialType)' in combo)|('C(GambleChoice)'not in combo and 'C(TrialType)' not in combo)]\n",
    "\n",
    "\n",
    "var_combos = [combo for combo in var_combos if ('C(GambleChoice)' in combo and 'TrialEV' not in combo)|\n",
    "              ('C(GambleChoice)' not in combo and 'TrialEV' in combo)|('C(GambleChoice)'not in combo and 'TrialEV' not in combo)]\n",
    "\n",
    "\n",
    "var_combos = [combo for combo in var_combos if ('TrialEV' in combo and 'C(TrialType)' not in combo)|\n",
    "              ('TrialEV' not in combo and 'C(TrialType)' in combo)|('TrialEV'not in combo and 'C(TrialType)' not in combo)]\n",
    "\n",
    "var_combos = [combo for combo in var_combos if ('C(GambleChoice_t1)' in combo and 'TrialEV_t1' not in combo)|\n",
    "              ('C(GambleChoice_t1)' not in combo and 'TrialEV_t1' in combo)|('C(GambleChoice_t1)'not in combo and 'TrialEV_t1' not in combo)]\n",
    "\n",
    "var_combos = [combo for combo in var_combos if ('TrialEV_t1' in combo and 'C(TrialType_t1)' not in combo)|\n",
    "              ('TrialEV_t1' not in combo and 'C(TrialType_t1)' in combo)|('TrialEV_t1'not in combo and 'C(TrialType_t1)' not in combo)]\n",
    "var_combos"
   ]
  },
  {
   "cell_type": "code",
   "execution_count": null,
   "id": "87eed292",
   "metadata": {},
   "outputs": [],
   "source": [
    "len(var_combos)"
   ]
  },
  {
   "cell_type": "code",
   "execution_count": null,
   "id": "5a8a5edd",
   "metadata": {
    "scrolled": false
   },
   "outputs": [],
   "source": [
    "# import time \n",
    "start = time.time() # start timer\n",
    "\n",
    "all_models = {}\n",
    "all_rsq    = {}\n",
    "all_stats  = {}\n",
    "all_keys   = {}\n",
    "no_conv    = []\n",
    "\n",
    "for test_vars in var_combos:\n",
    "    model_key = ''.join(test_vars[:-1]) ### make string of covariate var names to use as dict key\n",
    "    model_fit = fit_mixed_model(reg_df,test_vars,outcome_var,rand_eff_var,reml=False)\n",
    "    # check if model converged\n",
    "    if model_fit.converged:\n",
    "        \n",
    "        print(model_key,' converged!')\n",
    "        \n",
    "        all_models[model_key] = model_fit\n",
    "        all_rsq[model_key]    = compute_marginal_rsq(model_fit)\n",
    "        all_stats[model_key]  = mixed_effects_ftest_ttest(model_fit)\n",
    "        all_keys[model_key]   = test_vars\n",
    "        \n",
    "    else:\n",
    "        print(model_key,' did not converge :(')\n",
    "        no_conv.append(model_key)\n",
    "    del model_fit\n",
    "\n",
    "end = time.time()\n",
    "print('{:.4f} s'.format(end-start)) # print time elapsed for computation (approx 20 seconds per channel)    "
   ]
  },
  {
   "cell_type": "code",
   "execution_count": null,
   "id": "14488cf7",
   "metadata": {},
   "outputs": [],
   "source": [
    "no_conv"
   ]
  },
  {
   "cell_type": "code",
   "execution_count": null,
   "id": "00ae0057",
   "metadata": {},
   "outputs": [],
   "source": [
    "list(all_models.keys())"
   ]
  },
  {
   "cell_type": "code",
   "execution_count": null,
   "id": "41339324",
   "metadata": {},
   "outputs": [],
   "source": [
    "all_models['TrialEVdecisionCPEband_pow'].bic"
   ]
  },
  {
   "cell_type": "code",
   "execution_count": null,
   "id": "65c6371a",
   "metadata": {},
   "outputs": [],
   "source": [
    "model_summary = {key:all_models[key].bic for key in all_models.keys()}\n",
    "model_summary"
   ]
  },
  {
   "cell_type": "code",
   "execution_count": null,
   "id": "9ed46759",
   "metadata": {},
   "outputs": [],
   "source": [
    "bic_list = [model_summary[key] for key in model_summary.keys()]\n",
    "bic_list.sort()\n",
    "\n",
    "ordered_list = [list(model_summary.keys())[np.where(list(model_summary.values()) == bic)[0][0]] for bic in bic_list]\n",
    "list(zip(ordered_list,bic_list))\n"
   ]
  },
  {
   "cell_type": "code",
   "execution_count": null,
   "id": "08055686",
   "metadata": {},
   "outputs": [],
   "source": [
    "all_models['TotalProfitTrialEV_t1decisionCPEband_pow'].pvalues"
   ]
  },
  {
   "cell_type": "code",
   "execution_count": null,
   "id": "e725e449",
   "metadata": {},
   "outputs": [],
   "source": [
    "[(key,bic,all_models[key].pvalues['decisionCPE:band_pow']) for key,bic in list(zip(ordered_list,bic_list))]  \n"
   ]
  },
  {
   "cell_type": "code",
   "execution_count": null,
   "id": "bf5b6eba",
   "metadata": {},
   "outputs": [],
   "source": [
    "print('worst bic model: ',list(model_summary.keys())[np.where(list(model_summary.values())==np.max(list(model_summary.values())))[0][0]])\n"
   ]
  },
  {
   "cell_type": "code",
   "execution_count": null,
   "id": "bc355cdc",
   "metadata": {},
   "outputs": [],
   "source": [
    "print('best bic model: ',list(model_summary.keys())[np.where(list(model_summary.values())==np.min(list(model_summary.values())))[0][0]])\n"
   ]
  },
  {
   "cell_type": "code",
   "execution_count": null,
   "id": "c31cf512",
   "metadata": {
    "scrolled": false
   },
   "outputs": [],
   "source": [
    "print(list(model_summary.keys())[np.where(list(model_summary.values())==np.min(list(model_summary.values())))[0][0]])\n",
    "print(np.min(list(model_summary.values())))\n",
    "      \n",
    "      "
   ]
  },
  {
   "cell_type": "code",
   "execution_count": null,
   "id": "d8def74c",
   "metadata": {},
   "outputs": [],
   "source": [
    "[(key,all_models[key].pvalues['decisionCPE:band_pow']) for key in ordered_list if all_models[key].pvalues['decisionCPE:band_pow'] < 0.05]  \n",
    "\n"
   ]
  },
  {
   "cell_type": "code",
   "execution_count": null,
   "id": "79b41c35",
   "metadata": {},
   "outputs": [],
   "source": [
    "[(key,all_models[key].pvalues['decisionCPE:band_pow']) for key in ordered_list if all_models[key].pvalues['decisionCPE:band_pow'] > 0.05]  \n"
   ]
  },
  {
   "cell_type": "code",
   "execution_count": null,
   "id": "792371ec",
   "metadata": {},
   "outputs": [],
   "source": [
    "all_models['TrialEVTotalProfitdecisionCPEband_pow'].pvalues"
   ]
  },
  {
   "cell_type": "code",
   "execution_count": null,
   "id": "b1a9138c",
   "metadata": {},
   "outputs": [],
   "source": [
    "all_models['TrialEVTotalProfitdecisionCPEband_pow'].params"
   ]
  },
  {
   "cell_type": "code",
   "execution_count": null,
   "id": "0b0871c0",
   "metadata": {},
   "outputs": [],
   "source": [
    "all_models['TotalProfitTrialEV_t1decisionCPEband_pow'].summary()"
   ]
  },
  {
   "cell_type": "code",
   "execution_count": null,
   "id": "18b5a324",
   "metadata": {},
   "outputs": [],
   "source": [
    "all_rsq"
   ]
  },
  {
   "cell_type": "code",
   "execution_count": null,
   "id": "4da0e562",
   "metadata": {},
   "outputs": [],
   "source": [
    "all_models"
   ]
  },
  {
   "cell_type": "code",
   "execution_count": null,
   "id": "8ecf9c45",
   "metadata": {},
   "outputs": [],
   "source": [
    "all_stats['TrialEVdecisionCPEband_pow']"
   ]
  },
  {
   "cell_type": "code",
   "execution_count": null,
   "id": "8a98dd34",
   "metadata": {},
   "outputs": [],
   "source": [
    "all_stats"
   ]
  },
  {
   "cell_type": "code",
   "execution_count": null,
   "id": "a8f98921",
   "metadata": {},
   "outputs": [],
   "source": [
    "#### FOR NOW JUST SAVE CPE STATS!\n",
    "t_test_results_summary = [pd.DataFrame({'ttest_fe_tval':stats[0].t.tolist()[-1],\n",
    "                                        'ttest_fe_coef' :stats[0].coef.tolist()[-1],\n",
    "                                        'ttest_fe_pval':stats[0]['P>|t|'].tolist()[-1],\n",
    "                                        'model_id':idx},index=[0]) \n",
    "                          for idx,stats in all_stats.items()]\n",
    "\n",
    "\n",
    "t_test_results_summary = pd.concat(t_test_results_summary).reset_index(drop=True)\n",
    "t_test_results_summary\n",
    "\n"
   ]
  },
  {
   "cell_type": "code",
   "execution_count": null,
   "id": "d80377a0",
   "metadata": {
    "scrolled": true
   },
   "outputs": [],
   "source": [
    "f_test_results_summary = [pd.DataFrame({'ftest_fvalue':stats[1].fvalue,\n",
    "                                        'ftest_re_df':stats[1].df_num,\n",
    "                                        'ftest_f_pval':stats[1].pvalue,\n",
    "                                        'model_id':idx},index=[0]) \n",
    "                          for idx,stats in all_stats.items()]\n",
    "\n",
    "f_test_results_summary = pd.concat(f_test_results_summary).reset_index(drop=True)\n",
    "f_test_results_summary"
   ]
  },
  {
   "cell_type": "code",
   "execution_count": null,
   "id": "3e12462d",
   "metadata": {},
   "outputs": [],
   "source": [
    "tstat_fstat_df = pd.merge(t_test_results_summary,f_test_results_summary,left_on=['model_id'],\n",
    "                          right_on=['model_id']).reset_index(drop=True)\n",
    "\n",
    "tstat_fstat_df = tstat_fstat_df[['model_id','ttest_fe_tval', 'ttest_fe_coef', 'ttest_fe_pval',\n",
    "                                 'ftest_fvalue', 'ftest_re_df', 'ftest_f_pval']]\n",
    "tstat_fstat_df\n",
    "\n"
   ]
  },
  {
   "cell_type": "code",
   "execution_count": null,
   "id": "bc8e8dc9",
   "metadata": {},
   "outputs": [],
   "source": [
    "tstat_fstat_df['rsq'] = [val for key,val in all_rsq.items()]"
   ]
  },
  {
   "cell_type": "code",
   "execution_count": null,
   "id": "1a70098a",
   "metadata": {},
   "outputs": [],
   "source": [
    "tstat_fstat_df"
   ]
  },
  {
   "cell_type": "code",
   "execution_count": null,
   "id": "f7df78a0",
   "metadata": {
    "scrolled": true
   },
   "outputs": [],
   "source": [
    "all_rsq"
   ]
  },
  {
   "cell_type": "code",
   "execution_count": null,
   "id": "244c6bc3",
   "metadata": {},
   "outputs": [],
   "source": []
  },
  {
   "cell_type": "code",
   "execution_count": null,
   "id": "bea3178a",
   "metadata": {},
   "outputs": [],
   "source": [
    "\n",
    "tstat_fstat_df['bic']         = [all_models[key].bic for key in all_models.keys()]\n"
   ]
  },
  {
   "cell_type": "code",
   "execution_count": null,
   "id": "1be55975",
   "metadata": {},
   "outputs": [],
   "source": [
    "tstat_fstat_df"
   ]
  },
  {
   "cell_type": "code",
   "execution_count": null,
   "id": "e1875990",
   "metadata": {},
   "outputs": [],
   "source": [
    "tstat_fstat_df['fe_cpe_est'] = [all_models[key].params['decisionCPE:band_pow'] for key in all_models.keys()]"
   ]
  },
  {
   "cell_type": "code",
   "execution_count": null,
   "id": "7ed0c708",
   "metadata": {},
   "outputs": [],
   "source": [
    "tstat_fstat_df['fe_cpe_pval'] = [all_models[key].pvalues['decisionCPE:band_pow'] for key in all_models.keys()]"
   ]
  },
  {
   "cell_type": "code",
   "execution_count": null,
   "id": "fa5be2c1",
   "metadata": {},
   "outputs": [],
   "source": [
    "tstat_fstat_df\n",
    "\n"
   ]
  },
  {
   "cell_type": "code",
   "execution_count": null,
   "id": "e88e6fc1",
   "metadata": {},
   "outputs": [],
   "source": [
    "#### multiple comparisons correction!!!!\n",
    "bonferr_alpha = 0.05/len(tstat_fstat_df)\n",
    "bonferr_alpha"
   ]
  },
  {
   "cell_type": "code",
   "execution_count": null,
   "id": "02fd0fab",
   "metadata": {},
   "outputs": [],
   "source": [
    "\n",
    "tstat_fstat_df.sort_values(by='fe_cpe_pval')"
   ]
  },
  {
   "cell_type": "code",
   "execution_count": null,
   "id": "6465f022",
   "metadata": {},
   "outputs": [],
   "source": [
    "# tstat_fstat_df = tstat_fstat_df[tstat_fstat_df.fe_cpe_pval < bonferr_alpha]\n",
    "tstat_fstat_df.sort_values(by='ttest_fe_pval')"
   ]
  },
  {
   "cell_type": "code",
   "execution_count": null,
   "id": "b02bff2d",
   "metadata": {},
   "outputs": [],
   "source": [
    "save_df = tstat_fstat_df.copy()"
   ]
  },
  {
   "cell_type": "code",
   "execution_count": null,
   "id": "35e1bb53",
   "metadata": {},
   "outputs": [],
   "source": [
    "tstat_fstat_df.sort_values(by='ttest_fe_pval')"
   ]
  },
  {
   "cell_type": "code",
   "execution_count": null,
   "id": "614c1090",
   "metadata": {},
   "outputs": [],
   "source": [
    "tstat_fstat_df.ttest_fe_pval"
   ]
  },
  {
   "cell_type": "code",
   "execution_count": null,
   "id": "caf0ff43",
   "metadata": {},
   "outputs": [],
   "source": [
    "print('Best BIC model: ',tstat_fstat_df.model_id[tstat_fstat_df.bic == np.min(tstat_fstat_df.bic)].values[0])\n"
   ]
  },
  {
   "cell_type": "code",
   "execution_count": null,
   "id": "f0476530",
   "metadata": {},
   "outputs": [],
   "source": [
    "print('Best fe_cpe_pval model: ',tstat_fstat_df.model_id[tstat_fstat_df.fe_cpe_pval == np.min(tstat_fstat_df.fe_cpe_pval)].values[0])\n"
   ]
  },
  {
   "cell_type": "code",
   "execution_count": null,
   "id": "3741a435",
   "metadata": {},
   "outputs": [],
   "source": [
    "print('Best rsq model: ',tstat_fstat_df.model_id[tstat_fstat_df.rsq == np.max(tstat_fstat_df.rsq)].values[0])\n"
   ]
  },
  {
   "cell_type": "code",
   "execution_count": null,
   "id": "668e599d",
   "metadata": {},
   "outputs": [],
   "source": [
    "print('Best ttest pval: ',tstat_fstat_df.model_id[tstat_fstat_df.ttest_fe_pval == \n",
    "                                                  np.min(tstat_fstat_df.ttest_fe_pval)].values[0])\n"
   ]
  },
  {
   "cell_type": "code",
   "execution_count": null,
   "id": "ec357e18",
   "metadata": {},
   "outputs": [],
   "source": [
    "print('Best tstat: ',tstat_fstat_df.model_id[tstat_fstat_df.ttest_fe_tval == \n",
    "                                                  np.max(tstat_fstat_df.ttest_fe_tval)].values[0])\n"
   ]
  },
  {
   "cell_type": "code",
   "execution_count": null,
   "id": "a6bca23e",
   "metadata": {},
   "outputs": [],
   "source": [
    "print('Best ftest pval: ',tstat_fstat_df.model_id[tstat_fstat_df.ftest_f_pval == \n",
    "                                                  np.min(tstat_fstat_df.ftest_f_pval)].values[0])"
   ]
  },
  {
   "cell_type": "code",
   "execution_count": null,
   "id": "ed161d39",
   "metadata": {},
   "outputs": [],
   "source": [
    "print('Best Fstat model: ',tstat_fstat_df.model_id[tstat_fstat_df.ftest_fvalue == \n",
    "                                                  np.max(tstat_fstat_df.ftest_fvalue)].values[0])"
   ]
  },
  {
   "cell_type": "code",
   "execution_count": null,
   "id": "03a98d05",
   "metadata": {},
   "outputs": [],
   "source": [
    "all_models_fe_data   = {}\n",
    "\n",
    "for key in all_models.keys():\n",
    "#     model_unique_elecs = all_models[key].random_effects.keys()\n",
    "    model_fe_params = {f'{param}':all_models[key].fe_params[param] for param in all_models[key].fe_params.index}\n",
    "    model_fe_params['model_id'] = key\n",
    "    all_models_fe_data[key] = model_fe_params\n",
    "\n"
   ]
  },
  {
   "cell_type": "code",
   "execution_count": null,
   "id": "8b980942",
   "metadata": {},
   "outputs": [],
   "source": [
    "all_models_fe_data"
   ]
  },
  {
   "cell_type": "code",
   "execution_count": null,
   "id": "d729b3ed",
   "metadata": {},
   "outputs": [],
   "source": [
    "model_plot_data = {}\n",
    "\n",
    "for key in all_models.keys():\n",
    "    fe_param_names = list(all_models[key].fe_params.index)\n",
    "    \n",
    "    plot_data = pd.concat([pd.DataFrame(\n",
    "    {**{'subj_id':elec_id.split('_')[0],'reref_ch_names':elec_id.split('_')[1]},'unique_reref_ch':elec_id,\n",
    "     **{f'raw_{param}':all_models[key].random_effects[elec_id][param] for param in list(\n",
    "            all_models[key].random_effects[elec_id].index)}},index=[range(len(fe_param_names))])\n",
    "    for elec_id in all_models[key].random_effects.keys()]).reset_index(drop=True)\n",
    "    \n",
    "    plot_data['roi'] = [reg_df.roi[reg_df.unique_reref_ch == row.unique_reref_ch].values[0]\n",
    "                                for idx,row in plot_data.iterrows()]\n",
    "\n",
    "    plot_data['bdi'] = [subj_info_df.bdi[subj_info_df.subj_id == subj_id].values[0]\n",
    "                                for subj_id in plot_data.subj_id]\n",
    "    model_plot_data[key] = plot_data\n",
    "\n"
   ]
  }
 ],
 "metadata": {
  "kernelspec": {
   "display_name": "lfp_env",
   "language": "python",
   "name": "lfp_env"
  },
  "language_info": {
   "codemirror_mode": {
    "name": "ipython",
    "version": 3
   },
   "file_extension": ".py",
   "mimetype": "text/x-python",
   "name": "python",
   "nbconvert_exporter": "python",
   "pygments_lexer": "ipython3",
   "version": "3.10.4"
  }
 },
 "nbformat": 4,
 "nbformat_minor": 5
}
