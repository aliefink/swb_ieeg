{
 "cells": [
  {
   "cell_type": "markdown",
   "id": "63c15ef6",
   "metadata": {},
   "source": [
    "# SWB Connectivity Analysis: Beta Coherence\n",
    "\n",
    "Created: 08/22/2024 \\\n",
    "Updated: 08/23/2024 \\\n",
    "*using new all_behav data from swb_subj_behav class*\n"
   ]
  },
  {
   "cell_type": "code",
   "execution_count": 1,
   "id": "82b06ef4",
   "metadata": {},
   "outputs": [],
   "source": [
    "import numpy as np\n",
    "import mne\n",
    "from glob import glob\n",
    "import matplotlib.pyplot as plt\n",
    "from matplotlib.backends.backend_pdf import PdfPages\n",
    "import seaborn as sns\n",
    "from scipy.stats import zscore, linregress, ttest_ind, ttest_rel, ttest_1samp, pearsonr, spearmanr\n",
    "import pandas as pd\n",
    "from mne.preprocessing.bads import _find_outliers\n",
    "import os \n",
    "import joblib\n",
    "import re\n",
    "import datetime\n",
    "import scipy\n",
    "import random\n",
    "import statsmodels.api as sm\n",
    "import statsmodels.formula.api as smf\n",
    "from statsmodels.stats.outliers_influence import variance_inflation_factor\n",
    "from statsmodels.regression.mixed_linear_model import MixedLM \n",
    "from joblib import Parallel, delayed\n",
    "import pickle\n",
    "import itertools\n",
    "import time \n",
    "from matplotlib.ticker import StrMethodFormatter\n",
    "\n",
    "\n",
    "import mne_connectivity\n",
    "from mne_connectivity import phase_slope_index, seed_target_indices, spectral_connectivity_epochs\n",
    "# import fooof\n",
    "# Import plotting functions\n",
    "# from fooof.plts.spectra import plot_spectrum, plot_spectra\n",
    "# # Import the FOOOF object\n",
    "# from fooof import FOOOF\n",
    "# from fooof import FOOOFGroup\n",
    "\n",
    "from tqdm import tqdm\n",
    "from IPython.display import clear_output\n",
    "\n",
    "from joblib import delayed, Parallel\n",
    "from statsmodels.stats import multitest\n",
    "import warnings\n",
    "warnings.filterwarnings('ignore')\n",
    "\n",
    "%load_ext autoreload\n",
    "%autoreload 2\n",
    "\n"
   ]
  },
  {
   "cell_type": "code",
   "execution_count": 2,
   "id": "e13b8c34",
   "metadata": {},
   "outputs": [
    {
     "name": "stdout",
     "output_type": "stream",
     "text": [
      "08242024\n"
     ]
    }
   ],
   "source": [
    "# Specify root directory for un-archived data and results \n",
    "base_dir   = '/sc/arion/projects/guLab/Alie/SWB/'\n",
    "neural_dir = f'{base_dir}ephys_analysis/data/'\n",
    "save_dir   = f'{base_dir}ephys_analysis/results/beta_coherence/'\n",
    "os.makedirs(save_dir,exist_ok=True)\n",
    "\n",
    "script_dir = '/hpc/users/finka03/swb_ephys_analysis/scripts/'\n",
    "behav_dir  = f'{script_dir}behav/data/'\n",
    "\n",
    "\n",
    "date = datetime.date.today().strftime('%m%d%Y')\n",
    "print(date)\n",
    "\n",
    "# anat_dir   = f'{base_dir}ephys_analysis/recon_labels/'\n",
    "# behav_dir  = f'{base_dir}swb_behav_models/data/behavior_preprocessed/'\n"
   ]
  },
  {
   "cell_type": "code",
   "execution_count": 3,
   "id": "9ebfd527",
   "metadata": {},
   "outputs": [],
   "source": [
    "import sys\n",
    "sys.path.append(f'{base_dir}ephys_analysis/LFPAnalysis/')\n",
    "\n",
    "from LFPAnalysis import analysis_utils,oscillation_utils\n",
    "\n",
    "sys.path.append(f'{script_dir}analysis_notebooks/')\n",
    "\n",
    "from ieeg_tools import *\n",
    "\n",
    "sys.path.append(f'{script_dir}behav/')\n",
    "\n",
    "from behav_utils import *\n",
    "from swb_subj_behav import *\n"
   ]
  },
  {
   "cell_type": "code",
   "execution_count": 4,
   "id": "9316f53b",
   "metadata": {},
   "outputs": [],
   "source": [
    "subj_ids = list(pd.read_excel(f'{base_dir}ephys_analysis/subj_info/SWB_subjects.xlsx', sheet_name='Usable_Subjects', usecols=[0]).PatientID)\n",
    "n_subj = len(subj_ids)\n",
    "# subj_ids\n"
   ]
  },
  {
   "cell_type": "markdown",
   "id": "c8fb5f14-a38b-477e-8ebd-5f0b67a60f96",
   "metadata": {},
   "source": [
    "# Load Behav + Elec ROI Data\n",
    "- all_behav from updated task_dfs and behav_utils formatting\n",
    "- roi_reref_labels same as usual"
   ]
  },
  {
   "cell_type": "code",
   "execution_count": 5,
   "id": "8f63de3a",
   "metadata": {},
   "outputs": [],
   "source": [
    "roi_reref_labels_master_df = pd.read_csv(\n",
    "    glob(f'{base_dir}ephys_analysis/results/roi_info/roi_reref_labels_master.csv')[0]).drop(columns=['Unnamed: 0'])\n",
    "\n",
    "# roi_reref_labels_master_df #= roi_reref_labels_master_df\n",
    "\n"
   ]
  },
  {
   "cell_type": "code",
   "execution_count": 6,
   "id": "20df5b6f",
   "metadata": {},
   "outputs": [
    {
     "data": {
      "text/html": [
       "<div>\n",
       "<style scoped>\n",
       "    .dataframe tbody tr th:only-of-type {\n",
       "        vertical-align: middle;\n",
       "    }\n",
       "\n",
       "    .dataframe tbody tr th {\n",
       "        vertical-align: top;\n",
       "    }\n",
       "\n",
       "    .dataframe thead th {\n",
       "        text-align: right;\n",
       "    }\n",
       "</style>\n",
       "<table border=\"1\" class=\"dataframe\">\n",
       "  <thead>\n",
       "    <tr style=\"text-align: right;\">\n",
       "      <th></th>\n",
       "      <th>subj_id</th>\n",
       "      <th>bdi</th>\n",
       "      <th>bdi_thresh</th>\n",
       "      <th>Round</th>\n",
       "      <th>RT</th>\n",
       "      <th>TrialOnset</th>\n",
       "      <th>ChoiceOnset</th>\n",
       "      <th>DecisionOnset</th>\n",
       "      <th>FeedbackOnset</th>\n",
       "      <th>ChoicePos</th>\n",
       "      <th>...</th>\n",
       "      <th>choiceEV_t1</th>\n",
       "      <th>rpe_t1</th>\n",
       "      <th>res_type_t1</th>\n",
       "      <th>cf_t1</th>\n",
       "      <th>max_cf_t1</th>\n",
       "      <th>cpe_t1</th>\n",
       "      <th>max_cpe_t1</th>\n",
       "      <th>keep_epoch</th>\n",
       "      <th>keep_epoch_t1</th>\n",
       "      <th>CpeOnset</th>\n",
       "    </tr>\n",
       "  </thead>\n",
       "  <tbody>\n",
       "    <tr>\n",
       "      <th>0</th>\n",
       "      <td>MS002</td>\n",
       "      <td>14</td>\n",
       "      <td>low</td>\n",
       "      <td>1</td>\n",
       "      <td>2.059852</td>\n",
       "      <td>513.380590</td>\n",
       "      <td>513.390239</td>\n",
       "      <td>515.450091</td>\n",
       "      <td>515.457173</td>\n",
       "      <td>right</td>\n",
       "      <td>...</td>\n",
       "      <td>-0.744531</td>\n",
       "      <td>-0.549717</td>\n",
       "      <td>gamble_bad</td>\n",
       "      <td>-0.147087</td>\n",
       "      <td>0.020647</td>\n",
       "      <td>-0.452536</td>\n",
       "      <td>-0.456974</td>\n",
       "      <td>keep</td>\n",
       "      <td>keep</td>\n",
       "      <td>517.450091</td>\n",
       "    </tr>\n",
       "    <tr>\n",
       "      <th>1</th>\n",
       "      <td>MS002</td>\n",
       "      <td>14</td>\n",
       "      <td>low</td>\n",
       "      <td>2</td>\n",
       "      <td>1.954564</td>\n",
       "      <td>522.640856</td>\n",
       "      <td>522.641563</td>\n",
       "      <td>524.596127</td>\n",
       "      <td>526.627092</td>\n",
       "      <td>right</td>\n",
       "      <td>...</td>\n",
       "      <td>1.066486</td>\n",
       "      <td>0.948000</td>\n",
       "      <td>gamble_good</td>\n",
       "      <td>0.280945</td>\n",
       "      <td>0.020647</td>\n",
       "      <td>0.724697</td>\n",
       "      <td>0.717387</td>\n",
       "      <td>keep</td>\n",
       "      <td>keep</td>\n",
       "      <td>526.596127</td>\n",
       "    </tr>\n",
       "    <tr>\n",
       "      <th>2</th>\n",
       "      <td>MS002</td>\n",
       "      <td>14</td>\n",
       "      <td>low</td>\n",
       "      <td>3</td>\n",
       "      <td>1.583462</td>\n",
       "      <td>531.174799</td>\n",
       "      <td>531.175599</td>\n",
       "      <td>532.759061</td>\n",
       "      <td>534.780269</td>\n",
       "      <td>right</td>\n",
       "      <td>...</td>\n",
       "      <td>-0.090361</td>\n",
       "      <td>-0.008716</td>\n",
       "      <td>safe_good</td>\n",
       "      <td>-0.452824</td>\n",
       "      <td>-0.382685</td>\n",
       "      <td>0.431913</td>\n",
       "      <td>0.324445</td>\n",
       "      <td>keep</td>\n",
       "      <td>keep</td>\n",
       "      <td>534.759061</td>\n",
       "    </tr>\n",
       "    <tr>\n",
       "      <th>3</th>\n",
       "      <td>MS002</td>\n",
       "      <td>14</td>\n",
       "      <td>low</td>\n",
       "      <td>4</td>\n",
       "      <td>2.491611</td>\n",
       "      <td>545.592613</td>\n",
       "      <td>545.593355</td>\n",
       "      <td>548.084966</td>\n",
       "      <td>548.092333</td>\n",
       "      <td>left</td>\n",
       "      <td>...</td>\n",
       "      <td>0.763502</td>\n",
       "      <td>0.697431</td>\n",
       "      <td>gamble_good</td>\n",
       "      <td>0.342093</td>\n",
       "      <td>0.020647</td>\n",
       "      <td>0.395315</td>\n",
       "      <td>0.520916</td>\n",
       "      <td>keep</td>\n",
       "      <td>keep</td>\n",
       "      <td>550.084966</td>\n",
       "    </tr>\n",
       "    <tr>\n",
       "      <th>4</th>\n",
       "      <td>MS002</td>\n",
       "      <td>14</td>\n",
       "      <td>low</td>\n",
       "      <td>5</td>\n",
       "      <td>1.768936</td>\n",
       "      <td>555.337336</td>\n",
       "      <td>555.345720</td>\n",
       "      <td>557.114656</td>\n",
       "      <td>559.135069</td>\n",
       "      <td>left</td>\n",
       "      <td>...</td>\n",
       "      <td>-0.090361</td>\n",
       "      <td>-0.008716</td>\n",
       "      <td>safe_good</td>\n",
       "      <td>-0.636266</td>\n",
       "      <td>-0.533934</td>\n",
       "      <td>0.614903</td>\n",
       "      <td>0.458402</td>\n",
       "      <td>keep</td>\n",
       "      <td>keep</td>\n",
       "      <td>559.114656</td>\n",
       "    </tr>\n",
       "    <tr>\n",
       "      <th>...</th>\n",
       "      <td>...</td>\n",
       "      <td>...</td>\n",
       "      <td>...</td>\n",
       "      <td>...</td>\n",
       "      <td>...</td>\n",
       "      <td>...</td>\n",
       "      <td>...</td>\n",
       "      <td>...</td>\n",
       "      <td>...</td>\n",
       "      <td>...</td>\n",
       "      <td>...</td>\n",
       "      <td>...</td>\n",
       "      <td>...</td>\n",
       "      <td>...</td>\n",
       "      <td>...</td>\n",
       "      <td>...</td>\n",
       "      <td>...</td>\n",
       "      <td>...</td>\n",
       "      <td>...</td>\n",
       "      <td>...</td>\n",
       "      <td>...</td>\n",
       "    </tr>\n",
       "    <tr>\n",
       "      <th>3840</th>\n",
       "      <td>DA039</td>\n",
       "      <td>22</td>\n",
       "      <td>high</td>\n",
       "      <td>145</td>\n",
       "      <td>1.335964</td>\n",
       "      <td>2251.180979</td>\n",
       "      <td>2251.193149</td>\n",
       "      <td>2252.529113</td>\n",
       "      <td>2254.546404</td>\n",
       "      <td>left</td>\n",
       "      <td>...</td>\n",
       "      <td>0.889503</td>\n",
       "      <td>0.762497</td>\n",
       "      <td>gamble_good</td>\n",
       "      <td>0.364301</td>\n",
       "      <td>-0.026383</td>\n",
       "      <td>0.823777</td>\n",
       "      <td>0.722582</td>\n",
       "      <td>keep</td>\n",
       "      <td>keep</td>\n",
       "      <td>2254.529113</td>\n",
       "    </tr>\n",
       "    <tr>\n",
       "      <th>3841</th>\n",
       "      <td>DA039</td>\n",
       "      <td>22</td>\n",
       "      <td>high</td>\n",
       "      <td>146</td>\n",
       "      <td>1.079701</td>\n",
       "      <td>2259.827656</td>\n",
       "      <td>2259.828749</td>\n",
       "      <td>2260.908450</td>\n",
       "      <td>2262.926195</td>\n",
       "      <td>right</td>\n",
       "      <td>...</td>\n",
       "      <td>-0.130463</td>\n",
       "      <td>0.003871</td>\n",
       "      <td>safe_good</td>\n",
       "      <td>-1.304944</td>\n",
       "      <td>-0.962934</td>\n",
       "      <td>0.971952</td>\n",
       "      <td>0.645162</td>\n",
       "      <td>keep</td>\n",
       "      <td>keep</td>\n",
       "      <td>2262.908450</td>\n",
       "    </tr>\n",
       "    <tr>\n",
       "      <th>3842</th>\n",
       "      <td>DA039</td>\n",
       "      <td>22</td>\n",
       "      <td>high</td>\n",
       "      <td>147</td>\n",
       "      <td>1.837272</td>\n",
       "      <td>2267.502359</td>\n",
       "      <td>2267.534059</td>\n",
       "      <td>2269.371331</td>\n",
       "      <td>2269.377701</td>\n",
       "      <td>right</td>\n",
       "      <td>...</td>\n",
       "      <td>-0.130463</td>\n",
       "      <td>0.003871</td>\n",
       "      <td>safe_bad</td>\n",
       "      <td>0.373087</td>\n",
       "      <td>0.229608</td>\n",
       "      <td>-0.314481</td>\n",
       "      <td>-0.176344</td>\n",
       "      <td>keep</td>\n",
       "      <td>keep</td>\n",
       "      <td>2271.371331</td>\n",
       "    </tr>\n",
       "    <tr>\n",
       "      <th>3843</th>\n",
       "      <td>DA039</td>\n",
       "      <td>22</td>\n",
       "      <td>high</td>\n",
       "      <td>148</td>\n",
       "      <td>4.030006</td>\n",
       "      <td>2282.349445</td>\n",
       "      <td>2282.350662</td>\n",
       "      <td>2286.380667</td>\n",
       "      <td>2286.389886</td>\n",
       "      <td>left</td>\n",
       "      <td>...</td>\n",
       "      <td>-0.130463</td>\n",
       "      <td>0.003871</td>\n",
       "      <td>safe_bad</td>\n",
       "      <td>0.381872</td>\n",
       "      <td>0.235851</td>\n",
       "      <td>-0.321216</td>\n",
       "      <td>-0.180645</td>\n",
       "      <td>keep</td>\n",
       "      <td>keep</td>\n",
       "      <td>2288.380667</td>\n",
       "    </tr>\n",
       "    <tr>\n",
       "      <th>3844</th>\n",
       "      <td>DA039</td>\n",
       "      <td>22</td>\n",
       "      <td>high</td>\n",
       "      <td>149</td>\n",
       "      <td>3.167144</td>\n",
       "      <td>2293.040983</td>\n",
       "      <td>2293.042042</td>\n",
       "      <td>2296.209186</td>\n",
       "      <td>2296.218136</td>\n",
       "      <td>left</td>\n",
       "      <td>...</td>\n",
       "      <td>-1.648269</td>\n",
       "      <td>-1.125038</td>\n",
       "      <td>gamble_bad</td>\n",
       "      <td>-0.426394</td>\n",
       "      <td>-0.026383</td>\n",
       "      <td>-1.385385</td>\n",
       "      <td>-1.075270</td>\n",
       "      <td>keep</td>\n",
       "      <td>keep</td>\n",
       "      <td>2298.209186</td>\n",
       "    </tr>\n",
       "  </tbody>\n",
       "</table>\n",
       "<p>3845 rows × 56 columns</p>\n",
       "</div>"
      ],
      "text/plain": [
       "     subj_id  bdi bdi_thresh  Round        RT   TrialOnset  ChoiceOnset  \\\n",
       "0      MS002   14        low      1  2.059852   513.380590   513.390239   \n",
       "1      MS002   14        low      2  1.954564   522.640856   522.641563   \n",
       "2      MS002   14        low      3  1.583462   531.174799   531.175599   \n",
       "3      MS002   14        low      4  2.491611   545.592613   545.593355   \n",
       "4      MS002   14        low      5  1.768936   555.337336   555.345720   \n",
       "...      ...  ...        ...    ...       ...          ...          ...   \n",
       "3840   DA039   22       high    145  1.335964  2251.180979  2251.193149   \n",
       "3841   DA039   22       high    146  1.079701  2259.827656  2259.828749   \n",
       "3842   DA039   22       high    147  1.837272  2267.502359  2267.534059   \n",
       "3843   DA039   22       high    148  4.030006  2282.349445  2282.350662   \n",
       "3844   DA039   22       high    149  3.167144  2293.040983  2293.042042   \n",
       "\n",
       "      DecisionOnset  FeedbackOnset ChoicePos  ... choiceEV_t1    rpe_t1  \\\n",
       "0        515.450091     515.457173     right  ...   -0.744531 -0.549717   \n",
       "1        524.596127     526.627092     right  ...    1.066486  0.948000   \n",
       "2        532.759061     534.780269     right  ...   -0.090361 -0.008716   \n",
       "3        548.084966     548.092333      left  ...    0.763502  0.697431   \n",
       "4        557.114656     559.135069      left  ...   -0.090361 -0.008716   \n",
       "...             ...            ...       ...  ...         ...       ...   \n",
       "3840    2252.529113    2254.546404      left  ...    0.889503  0.762497   \n",
       "3841    2260.908450    2262.926195     right  ...   -0.130463  0.003871   \n",
       "3842    2269.371331    2269.377701     right  ...   -0.130463  0.003871   \n",
       "3843    2286.380667    2286.389886      left  ...   -0.130463  0.003871   \n",
       "3844    2296.209186    2296.218136      left  ...   -1.648269 -1.125038   \n",
       "\n",
       "      res_type_t1     cf_t1 max_cf_t1    cpe_t1  max_cpe_t1  keep_epoch  \\\n",
       "0      gamble_bad -0.147087  0.020647 -0.452536   -0.456974        keep   \n",
       "1     gamble_good  0.280945  0.020647  0.724697    0.717387        keep   \n",
       "2       safe_good -0.452824 -0.382685  0.431913    0.324445        keep   \n",
       "3     gamble_good  0.342093  0.020647  0.395315    0.520916        keep   \n",
       "4       safe_good -0.636266 -0.533934  0.614903    0.458402        keep   \n",
       "...           ...       ...       ...       ...         ...         ...   \n",
       "3840  gamble_good  0.364301 -0.026383  0.823777    0.722582        keep   \n",
       "3841    safe_good -1.304944 -0.962934  0.971952    0.645162        keep   \n",
       "3842     safe_bad  0.373087  0.229608 -0.314481   -0.176344        keep   \n",
       "3843     safe_bad  0.381872  0.235851 -0.321216   -0.180645        keep   \n",
       "3844   gamble_bad -0.426394 -0.026383 -1.385385   -1.075270        keep   \n",
       "\n",
       "      keep_epoch_t1     CpeOnset  \n",
       "0              keep   517.450091  \n",
       "1              keep   526.596127  \n",
       "2              keep   534.759061  \n",
       "3              keep   550.084966  \n",
       "4              keep   559.114656  \n",
       "...             ...          ...  \n",
       "3840           keep  2254.529113  \n",
       "3841           keep  2262.908450  \n",
       "3842           keep  2271.371331  \n",
       "3843           keep  2288.380667  \n",
       "3844           keep  2298.209186  \n",
       "\n",
       "[3845 rows x 56 columns]"
      ]
     },
     "execution_count": 6,
     "metadata": {},
     "output_type": "execute_result"
    }
   ],
   "source": [
    "# all_behav = pd.read_csv(f'{behav_dir}all_behav.csv') ## this isn't normalized yet \n",
    "raw_behav = [pd.read_csv(f'{behav_dir}{subj_id}_task_df.csv') for subj_id in subj_ids]\n",
    "all_behav,drops_data = format_all_behav(raw_behav,drops_data=True)\n",
    "\n",
    "all_behav"
   ]
  },
  {
   "cell_type": "markdown",
   "id": "2d880360",
   "metadata": {},
   "source": [
    "# Connectivity Computations : Beta Coherence "
   ]
  },
  {
   "cell_type": "code",
   "execution_count": null,
   "id": "8bb298bc",
   "metadata": {},
   "outputs": [],
   "source": [
    "# define connectivity analysis parameters:\n",
    "\n",
    "# spectral parameters - wavelet freqs, wavelet cycles, freq band ranges\n",
    "freqs = np.logspace(*np.log10([2, 200]), num=30)\n",
    "n_cycles = np.floor(np.logspace(*np.log10([3, 10]), num=30))\n",
    "\n",
    "freq_dict = {'theta':[4, 9], \n",
    "            'alpha':[9, 13],\n",
    "            'beta': [13, 30], \n",
    "            'hfa': [70, 200]}\n",
    "\n",
    "# analysis parameters - connectivity metric, conn freq band, num of surrogates for permutations, buffer time in ms\n",
    "metric   = 'coh'\n",
    "band     = 'beta' # set band(s) of interest for analysis\n",
    "n_surr   = 500\n",
    "buf_ms   = 1000\n",
    "\n",
    "# data info - analysis epoch + rois for pairwise coh\n",
    "epoch_id = 'CpeOnset' \n",
    "coh_rois = ['acc','ains','ofc','dlpfc','vlpfc','amy']\n",
    "\n",
    "# make unique list of pairs [[pair1,pair2],..] without hard coding \n",
    "pairs = [list(tup) for tup in list(itertools.combinations(coh_rois,2))]\n",
    "\n"
   ]
  },
  {
   "cell_type": "code",
   "execution_count": null,
   "id": "8fcd31b0",
   "metadata": {},
   "outputs": [],
   "source": [
    "all_pairs_coh_data = []\n",
    "\n",
    "for pair in pairs:\n",
    "    source_region = pair[0]\n",
    "    target_region = pair[1]\n",
    "    \n",
    "    # initialize the storage list \n",
    "    pair_all_subj_coh_data = []\n",
    "\n",
    "    # iterate through subjects\n",
    "    for subj_id in subj_ids:\n",
    "        \n",
    "        # load & format rereferenced epoch data \n",
    "        subj_epochs = mne.read_epochs(f'{neural_dir}{subj_id}/{epoch_id}_epochs.fif', preload=True)\n",
    "        # drop bad trials\n",
    "        subj_drops = drops_data[subj_id]\n",
    "        subj_epochs.drop(subj_drops)\n",
    "        # replace old metadata with updated subject data\n",
    "        subj_epochs.metadata = all_behav[all_behav.subj_id == subj_id]\n",
    "        # save updated epochs data\n",
    "        subj_epochs.save(f'{neural_dir}{subj_id}/{epoch_id}_epochs-clean.fif', overwrite=True)\n",
    "        \n",
    "        # get electrode roi info \n",
    "        elec_roi_df = roi_reref_labels_master_df[roi_reref_labels_master_df.subj_id==subj_id]\n",
    "        \n",
    "        # construct the seed-to-target mapping based on subject's roi coverage\n",
    "        seed_target_df = pd.DataFrame(columns=['seed', 'target'])\n",
    "        seed_target_df['seed']   = np.where(elec_roi_df.roi == source_region)[0]\n",
    "        seed_target_df['target'] = np.where(elec_roi_df.roi == target_region)[0]\n",
    "        seed_to_target = seed_target_indices(\n",
    "                        seed_target_df['seed'],\n",
    "                        seed_target_df['target'])\n",
    "        \n",
    "\n",
    "        pwise = oscillation_utils.compute_connectivity(subj_epochs.copy(), \n",
    "                                           band = freq_dict[band], \n",
    "                                           metric = metric, \n",
    "                                           indices = seed_to_target, \n",
    "                                           freqs = freqs, \n",
    "                                           n_cycles = n_cycles,\n",
    "                                           buf_ms = buf_ms, \n",
    "                                           n_surr=n_surr,\n",
    "                                           avg_over_dim='time',\n",
    "                                           band1 = freq_dict[band],\n",
    "                                           parallelize=True)\n",
    "\n",
    "        # aggregate subject pairwise coh data into df \n",
    "        subj_pwise_df  = pd.DataFrame(columns=['subj_id','bdi','band','metric','roi1','roi2','mean_coh',\n",
    "                                               'roi1_elec_idx','roi2_elec_idx',\n",
    "                                               'roi1_ch_names','roi2_ch_names','roi_pair_chans','unique_ch_pair'])          \n",
    "        \n",
    "        subj_pwise_df['subj_id']  = [subj_id]*len(seed_to_target[0])\n",
    "        subj_pwise_df['bdi']      = all_behav[all_behav.subj_id == subj_id].bdi.unique().tolist()[0]\n",
    "        subj_pwise_df['band']     = band\n",
    "        subj_pwise_df['metric']   = metric\n",
    "        subj_pwise_df['roi1']     = source_region\n",
    "        subj_pwise_df['roi2']     = target_region\n",
    "        subj_pwise_df['mean_coh'] = pwise[:, ]\n",
    "        # getting ch labels from seeds/targets for data saving \n",
    "        subj_pwise_df['roi1_elec_idx']  = seed_to_target[0]\n",
    "        subj_pwise_df['roi2_elec_idx']  = seed_to_target[1]\n",
    "        subj_pwise_df['roi1_ch_names']  = elec_roi_df.iloc[roi1_elec_idx].reref_ch_names.tolist()\n",
    "        subj_pwise_df['roi2_ch_names']  = elec_roi_df.iloc[roi2_elec_idx].reref_ch_names.tolist()\n",
    "        subj_pwise_df['roi_pair_chans'] = list(map(lambda x,y: '_'.join([x,y]), roi1_ch_names, roi2_ch_names))\n",
    "        subj_pwise_df['unique_ch_pair'] = subj_pwise_df[['subj_id', 'roi_pair_chans']].agg('_'.join, axis=1)\n",
    "        \n",
    "        # one pair one subj data \n",
    "        pair_all_subj_coh_data.append(subj_pwise_df)\n",
    "        \n",
    "    # one pair all subj data \n",
    "    all_subj_pair_df = pd.concat(pair_all_subj_coh_data).reset_index(drop=True)\n",
    "    # save roi pair df separately \n",
    "    all_subj_pair_df.to_csv(f'{save_dir}/{source_region}_{target_region}_{metric}_{band}_df.csv', index=False)\n",
    "    \n",
    "    # add all_subj_pair_df to master df \n",
    "    all_pairs_coh_data.append(all_subj_pair_df)\n",
    "    \n",
    "all_pairs_coh_data = pd.concat(all_pairs_coh_data).reset_index(drop=True)\n",
    "all_pairs_coh_data.to_csv(f'{save_dir}/{metric}_{band}_df.csv', index=False)\n",
    "all_pairs_coh_data"
   ]
  },
  {
   "cell_type": "code",
   "execution_count": null,
   "id": "0e581935",
   "metadata": {},
   "outputs": [],
   "source": [
    "#### test pipeline"
   ]
  },
  {
   "cell_type": "code",
   "execution_count": 11,
   "id": "2807c647",
   "metadata": {},
   "outputs": [
    {
     "name": "stdout",
     "output_type": "stream",
     "text": [
      "Reading /sc/arion/projects/guLab/Alie/SWB/ephys_analysis/data/MS002/CpeOnset_epochs.fif ...\n",
      "    Found the data of interest:\n",
      "        t =   -1000.00 ...    4000.00 ms\n",
      "        0 CTF compensation matrices available\n",
      "Adding metadata with 19 columns\n",
      "150 matching events found\n",
      "No baseline correction applied\n",
      "0 projection items activated\n",
      "Dropped 3 epochs: 18, 75, 149\n",
      "Replacing existing metadata with 56 columns\n"
     ]
    }
   ],
   "source": [
    "source_region = 'acc'\n",
    "target_region = 'ains'\n",
    "subj_id = 'MS002'\n",
    "\n",
    "# load & format rereferenced epoch data \n",
    "subj_epochs = mne.read_epochs(f'{neural_dir}{subj_id}/{epoch_id}_epochs.fif', preload=True)\n",
    "# drop bad trials\n",
    "subj_drops = drops_data[subj_id]\n",
    "subj_epochs.drop(subj_drops)\n",
    "# replace old metadata with updated subject data\n",
    "subj_epochs.metadata = all_behav[all_behav.subj_id == subj_id]\n",
    "# save updated epochs data\n",
    "subj_epochs.save(f'{neural_dir}{subj_id}/{epoch_id}_epochs-clean.fif', overwrite=True)\n",
    "\n",
    "# get electrode roi info \n",
    "elec_roi_df = roi_reref_labels_master_df[roi_reref_labels_master_df.subj_id==subj_id]\n",
    "\n",
    "# construct the seed-to-target mapping based on subject's roi coverage\n",
    "seed_target_df = pd.DataFrame(columns=['seed', 'target'])\n",
    "seed_target_df['seed']   = np.where(elec_roi_df.roi == source_region)[0]\n",
    "seed_target_df['target'] = np.where(elec_roi_df.roi == target_region)[0]\n",
    "seed_to_target = seed_target_indices(\n",
    "                seed_target_df['seed'],\n",
    "                seed_target_df['target'])"
   ]
  },
  {
   "cell_type": "code",
   "execution_count": null,
   "id": "18a67f90",
   "metadata": {},
   "outputs": [
    {
     "name": "stderr",
     "output_type": "stream",
     "text": [
      "/tmp/ipykernel_241552/799502560.py:79: DeprecationWarning: Conversion of an array with ndim > 0 to a scalar is deprecated, and will error in future. Ensure you extract a single element from your array before performing this operation. (Deprecated NumPy 1.25.)\n",
      "/tmp/ipykernel_241552/799502560.py:79: DeprecationWarning: Conversion of an array with ndim > 0 to a scalar is deprecated, and will error in future. Ensure you extract a single element from your array before performing this operation. (Deprecated NumPy 1.25.)\n"
     ]
    },
    {
     "name": "stdout",
     "output_type": "stream",
     "text": [
      "Computing surrogate # 1 - parallel\n",
      "Not setting metadata\n",
      "147 matching events found\n",
      "Computing surrogate # 0 - parallel\n",
      "Not setting metadata\n",
      "147 matching events found\n",
      "No baseline correction applied\n",
      "0 projection items activated\n",
      "No baseline correction applied\n",
      "0 projection items activated\n"
     ]
    },
    {
     "name": "stderr",
     "output_type": "stream",
     "text": [
      "/tmp/ipykernel_241552/799502560.py:395: RuntimeWarning: There were no Annotations stored in <EpochsArray |  147 events (all good), -1 - 4 sec, baseline off, ~269.4 MB, data loaded,\n",
      " 'CpeOnset': 147>, so metadata was not modified.\n",
      "/tmp/ipykernel_241552/799502560.py:395: RuntimeWarning: There were no Annotations stored in <EpochsArray |  147 events (all good), -1 - 4 sec, baseline off, ~269.4 MB, data loaded,\n",
      " 'CpeOnset': 147>, so metadata was not modified.\n",
      "/tmp/ipykernel_241552/799502560.py:79: DeprecationWarning: Conversion of an array with ndim > 0 to a scalar is deprecated, and will error in future. Ensure you extract a single element from your array before performing this operation. (Deprecated NumPy 1.25.)\n",
      "/tmp/ipykernel_241552/799502560.py:79: DeprecationWarning: Conversion of an array with ndim > 0 to a scalar is deprecated, and will error in future. Ensure you extract a single element from your array before performing this operation. (Deprecated NumPy 1.25.)\n"
     ]
    },
    {
     "name": "stdout",
     "output_type": "stream",
     "text": [
      "Computing surrogate # 2 - parallel\n",
      "Not setting metadata\n",
      "147 matching events found\n",
      "No baseline correction applied\n",
      "0 projection items activated\n",
      "Computing surrogate # 3 - parallel\n",
      "Not setting metadata\n",
      "147 matching events found\n",
      "No baseline correction applied\n",
      "0 projection items activated\n"
     ]
    },
    {
     "name": "stderr",
     "output_type": "stream",
     "text": [
      "/tmp/ipykernel_241552/799502560.py:395: RuntimeWarning: There were no Annotations stored in <EpochsArray |  147 events (all good), -1 - 4 sec, baseline off, ~269.4 MB, data loaded,\n",
      " 'CpeOnset': 147>, so metadata was not modified.\n",
      "/tmp/ipykernel_241552/799502560.py:395: RuntimeWarning: There were no Annotations stored in <EpochsArray |  147 events (all good), -1 - 4 sec, baseline off, ~269.4 MB, data loaded,\n",
      " 'CpeOnset': 147>, so metadata was not modified.\n",
      "/tmp/ipykernel_241552/799502560.py:79: DeprecationWarning: Conversion of an array with ndim > 0 to a scalar is deprecated, and will error in future. Ensure you extract a single element from your array before performing this operation. (Deprecated NumPy 1.25.)\n"
     ]
    },
    {
     "name": "stdout",
     "output_type": "stream",
     "text": [
      "Computing surrogate # 4 - parallel\n",
      "Not setting metadata\n",
      "147 matching events found\n",
      "No baseline correction applied\n",
      "0 projection items activated\n"
     ]
    },
    {
     "name": "stderr",
     "output_type": "stream",
     "text": [
      "/tmp/ipykernel_241552/799502560.py:395: RuntimeWarning: There were no Annotations stored in <EpochsArray |  147 events (all good), -1 - 4 sec, baseline off, ~269.4 MB, data loaded,\n",
      " 'CpeOnset': 147>, so metadata was not modified.\n",
      "/tmp/ipykernel_241552/799502560.py:79: DeprecationWarning: Conversion of an array with ndim > 0 to a scalar is deprecated, and will error in future. Ensure you extract a single element from your array before performing this operation. (Deprecated NumPy 1.25.)\n"
     ]
    },
    {
     "name": "stdout",
     "output_type": "stream",
     "text": [
      "Computing surrogate # 5 - parallel\n",
      "Not setting metadata\n",
      "147 matching events found\n",
      "No baseline correction applied\n",
      "0 projection items activated\n"
     ]
    },
    {
     "name": "stderr",
     "output_type": "stream",
     "text": [
      "/tmp/ipykernel_241552/799502560.py:395: RuntimeWarning: There were no Annotations stored in <EpochsArray |  147 events (all good), -1 - 4 sec, baseline off, ~269.4 MB, data loaded,\n",
      " 'CpeOnset': 147>, so metadata was not modified.\n",
      "/tmp/ipykernel_241552/799502560.py:79: DeprecationWarning: Conversion of an array with ndim > 0 to a scalar is deprecated, and will error in future. Ensure you extract a single element from your array before performing this operation. (Deprecated NumPy 1.25.)\n"
     ]
    },
    {
     "name": "stdout",
     "output_type": "stream",
     "text": [
      "Computing surrogate # 6 - parallel\n",
      "Not setting metadata\n",
      "147 matching events found\n",
      "No baseline correction applied\n",
      "0 projection items activated\n"
     ]
    },
    {
     "name": "stderr",
     "output_type": "stream",
     "text": [
      "/tmp/ipykernel_241552/799502560.py:395: RuntimeWarning: There were no Annotations stored in <EpochsArray |  147 events (all good), -1 - 4 sec, baseline off, ~269.4 MB, data loaded,\n",
      " 'CpeOnset': 147>, so metadata was not modified.\n",
      "/tmp/ipykernel_241552/799502560.py:79: DeprecationWarning: Conversion of an array with ndim > 0 to a scalar is deprecated, and will error in future. Ensure you extract a single element from your array before performing this operation. (Deprecated NumPy 1.25.)\n"
     ]
    },
    {
     "name": "stdout",
     "output_type": "stream",
     "text": [
      "Computing surrogate # 7 - parallel\n",
      "Not setting metadata\n",
      "147 matching events found\n",
      "No baseline correction applied\n",
      "0 projection items activated\n"
     ]
    },
    {
     "name": "stderr",
     "output_type": "stream",
     "text": [
      "/tmp/ipykernel_241552/799502560.py:395: RuntimeWarning: There were no Annotations stored in <EpochsArray |  147 events (all good), -1 - 4 sec, baseline off, ~269.4 MB, data loaded,\n",
      " 'CpeOnset': 147>, so metadata was not modified.\n",
      "/tmp/ipykernel_241552/799502560.py:79: DeprecationWarning: Conversion of an array with ndim > 0 to a scalar is deprecated, and will error in future. Ensure you extract a single element from your array before performing this operation. (Deprecated NumPy 1.25.)\n"
     ]
    },
    {
     "name": "stdout",
     "output_type": "stream",
     "text": [
      "Computing surrogate # 8 - parallel\n",
      "Not setting metadata\n",
      "147 matching events found\n",
      "No baseline correction applied\n",
      "0 projection items activated\n"
     ]
    },
    {
     "name": "stderr",
     "output_type": "stream",
     "text": [
      "/tmp/ipykernel_241552/799502560.py:395: RuntimeWarning: There were no Annotations stored in <EpochsArray |  147 events (all good), -1 - 4 sec, baseline off, ~269.4 MB, data loaded,\n",
      " 'CpeOnset': 147>, so metadata was not modified.\n",
      "/tmp/ipykernel_241552/799502560.py:79: DeprecationWarning: Conversion of an array with ndim > 0 to a scalar is deprecated, and will error in future. Ensure you extract a single element from your array before performing this operation. (Deprecated NumPy 1.25.)\n"
     ]
    },
    {
     "name": "stdout",
     "output_type": "stream",
     "text": [
      "Computing surrogate # 9 - parallel\n",
      "Not setting metadata\n",
      "147 matching events found\n",
      "No baseline correction applied\n",
      "0 projection items activated\n"
     ]
    },
    {
     "name": "stderr",
     "output_type": "stream",
     "text": [
      "/tmp/ipykernel_241552/799502560.py:395: RuntimeWarning: There were no Annotations stored in <EpochsArray |  147 events (all good), -1 - 4 sec, baseline off, ~269.4 MB, data loaded,\n",
      " 'CpeOnset': 147>, so metadata was not modified.\n",
      "/tmp/ipykernel_241552/799502560.py:79: DeprecationWarning: Conversion of an array with ndim > 0 to a scalar is deprecated, and will error in future. Ensure you extract a single element from your array before performing this operation. (Deprecated NumPy 1.25.)\n"
     ]
    },
    {
     "name": "stdout",
     "output_type": "stream",
     "text": [
      "Computing surrogate # 10 - parallel\n",
      "Not setting metadata\n",
      "147 matching events found\n",
      "No baseline correction applied\n",
      "0 projection items activated\n"
     ]
    },
    {
     "name": "stderr",
     "output_type": "stream",
     "text": [
      "/tmp/ipykernel_241552/799502560.py:395: RuntimeWarning: There were no Annotations stored in <EpochsArray |  147 events (all good), -1 - 4 sec, baseline off, ~269.4 MB, data loaded,\n",
      " 'CpeOnset': 147>, so metadata was not modified.\n",
      "/tmp/ipykernel_241552/799502560.py:79: DeprecationWarning: Conversion of an array with ndim > 0 to a scalar is deprecated, and will error in future. Ensure you extract a single element from your array before performing this operation. (Deprecated NumPy 1.25.)\n"
     ]
    },
    {
     "name": "stdout",
     "output_type": "stream",
     "text": [
      "Computing surrogate # 11 - parallel\n",
      "Not setting metadata\n",
      "147 matching events found\n",
      "No baseline correction applied\n",
      "0 projection items activated\n"
     ]
    },
    {
     "name": "stderr",
     "output_type": "stream",
     "text": [
      "/tmp/ipykernel_241552/799502560.py:395: RuntimeWarning: There were no Annotations stored in <EpochsArray |  147 events (all good), -1 - 4 sec, baseline off, ~269.4 MB, data loaded,\n",
      " 'CpeOnset': 147>, so metadata was not modified.\n",
      "/tmp/ipykernel_241552/799502560.py:79: DeprecationWarning: Conversion of an array with ndim > 0 to a scalar is deprecated, and will error in future. Ensure you extract a single element from your array before performing this operation. (Deprecated NumPy 1.25.)\n"
     ]
    },
    {
     "name": "stdout",
     "output_type": "stream",
     "text": [
      "Computing surrogate # 12 - parallel\n",
      "Not setting metadata\n",
      "147 matching events found\n",
      "No baseline correction applied\n",
      "0 projection items activated\n"
     ]
    },
    {
     "name": "stderr",
     "output_type": "stream",
     "text": [
      "/tmp/ipykernel_241552/799502560.py:395: RuntimeWarning: There were no Annotations stored in <EpochsArray |  147 events (all good), -1 - 4 sec, baseline off, ~269.4 MB, data loaded,\n",
      " 'CpeOnset': 147>, so metadata was not modified.\n",
      "/tmp/ipykernel_241552/799502560.py:79: DeprecationWarning: Conversion of an array with ndim > 0 to a scalar is deprecated, and will error in future. Ensure you extract a single element from your array before performing this operation. (Deprecated NumPy 1.25.)\n"
     ]
    },
    {
     "name": "stdout",
     "output_type": "stream",
     "text": [
      "Computing surrogate # 13 - parallel\n",
      "Not setting metadata\n",
      "147 matching events found\n",
      "No baseline correction applied\n",
      "0 projection items activated\n"
     ]
    },
    {
     "name": "stderr",
     "output_type": "stream",
     "text": [
      "/tmp/ipykernel_241552/799502560.py:395: RuntimeWarning: There were no Annotations stored in <EpochsArray |  147 events (all good), -1 - 4 sec, baseline off, ~269.4 MB, data loaded,\n",
      " 'CpeOnset': 147>, so metadata was not modified.\n",
      "/tmp/ipykernel_241552/799502560.py:79: DeprecationWarning: Conversion of an array with ndim > 0 to a scalar is deprecated, and will error in future. Ensure you extract a single element from your array before performing this operation. (Deprecated NumPy 1.25.)\n"
     ]
    },
    {
     "name": "stdout",
     "output_type": "stream",
     "text": [
      "Computing surrogate # 14 - parallel\n",
      "Not setting metadata\n",
      "147 matching events found\n",
      "No baseline correction applied\n",
      "0 projection items activated\n"
     ]
    },
    {
     "name": "stderr",
     "output_type": "stream",
     "text": [
      "/tmp/ipykernel_241552/799502560.py:395: RuntimeWarning: There were no Annotations stored in <EpochsArray |  147 events (all good), -1 - 4 sec, baseline off, ~269.4 MB, data loaded,\n",
      " 'CpeOnset': 147>, so metadata was not modified.\n",
      "/tmp/ipykernel_241552/799502560.py:79: DeprecationWarning: Conversion of an array with ndim > 0 to a scalar is deprecated, and will error in future. Ensure you extract a single element from your array before performing this operation. (Deprecated NumPy 1.25.)\n"
     ]
    },
    {
     "name": "stdout",
     "output_type": "stream",
     "text": [
      "Computing surrogate # 15 - parallel\n",
      "Not setting metadata\n",
      "147 matching events found\n",
      "No baseline correction applied\n",
      "0 projection items activated\n"
     ]
    },
    {
     "name": "stderr",
     "output_type": "stream",
     "text": [
      "/tmp/ipykernel_241552/799502560.py:395: RuntimeWarning: There were no Annotations stored in <EpochsArray |  147 events (all good), -1 - 4 sec, baseline off, ~269.4 MB, data loaded,\n",
      " 'CpeOnset': 147>, so metadata was not modified.\n",
      "/tmp/ipykernel_241552/799502560.py:79: DeprecationWarning: Conversion of an array with ndim > 0 to a scalar is deprecated, and will error in future. Ensure you extract a single element from your array before performing this operation. (Deprecated NumPy 1.25.)\n"
     ]
    },
    {
     "name": "stdout",
     "output_type": "stream",
     "text": [
      "Computing surrogate # 16 - parallel\n",
      "Not setting metadata\n",
      "147 matching events found\n",
      "No baseline correction applied\n",
      "0 projection items activated\n"
     ]
    },
    {
     "name": "stderr",
     "output_type": "stream",
     "text": [
      "/tmp/ipykernel_241552/799502560.py:395: RuntimeWarning: There were no Annotations stored in <EpochsArray |  147 events (all good), -1 - 4 sec, baseline off, ~269.4 MB, data loaded,\n",
      " 'CpeOnset': 147>, so metadata was not modified.\n",
      "/tmp/ipykernel_241552/799502560.py:79: DeprecationWarning: Conversion of an array with ndim > 0 to a scalar is deprecated, and will error in future. Ensure you extract a single element from your array before performing this operation. (Deprecated NumPy 1.25.)\n"
     ]
    },
    {
     "name": "stdout",
     "output_type": "stream",
     "text": [
      "Computing surrogate # 17 - parallel\n",
      "Not setting metadata\n",
      "147 matching events found\n",
      "No baseline correction applied\n",
      "0 projection items activated\n"
     ]
    },
    {
     "name": "stderr",
     "output_type": "stream",
     "text": [
      "/tmp/ipykernel_241552/799502560.py:395: RuntimeWarning: There were no Annotations stored in <EpochsArray |  147 events (all good), -1 - 4 sec, baseline off, ~269.4 MB, data loaded,\n",
      " 'CpeOnset': 147>, so metadata was not modified.\n",
      "/tmp/ipykernel_241552/799502560.py:79: DeprecationWarning: Conversion of an array with ndim > 0 to a scalar is deprecated, and will error in future. Ensure you extract a single element from your array before performing this operation. (Deprecated NumPy 1.25.)\n"
     ]
    },
    {
     "name": "stdout",
     "output_type": "stream",
     "text": [
      "Computing surrogate # 18 - parallel\n",
      "Not setting metadata\n",
      "147 matching events found\n",
      "No baseline correction applied\n",
      "0 projection items activated\n"
     ]
    },
    {
     "name": "stderr",
     "output_type": "stream",
     "text": [
      "/tmp/ipykernel_241552/799502560.py:395: RuntimeWarning: There were no Annotations stored in <EpochsArray |  147 events (all good), -1 - 4 sec, baseline off, ~269.4 MB, data loaded,\n",
      " 'CpeOnset': 147>, so metadata was not modified.\n",
      "/tmp/ipykernel_241552/799502560.py:79: DeprecationWarning: Conversion of an array with ndim > 0 to a scalar is deprecated, and will error in future. Ensure you extract a single element from your array before performing this operation. (Deprecated NumPy 1.25.)\n"
     ]
    },
    {
     "name": "stdout",
     "output_type": "stream",
     "text": [
      "Computing surrogate # 19 - parallel\n",
      "Not setting metadata\n",
      "147 matching events found\n",
      "No baseline correction applied\n",
      "0 projection items activated\n"
     ]
    },
    {
     "name": "stderr",
     "output_type": "stream",
     "text": [
      "/tmp/ipykernel_241552/799502560.py:395: RuntimeWarning: There were no Annotations stored in <EpochsArray |  147 events (all good), -1 - 4 sec, baseline off, ~269.4 MB, data loaded,\n",
      " 'CpeOnset': 147>, so metadata was not modified.\n",
      "/tmp/ipykernel_241552/799502560.py:79: DeprecationWarning: Conversion of an array with ndim > 0 to a scalar is deprecated, and will error in future. Ensure you extract a single element from your array before performing this operation. (Deprecated NumPy 1.25.)\n"
     ]
    },
    {
     "name": "stdout",
     "output_type": "stream",
     "text": [
      "Computing surrogate # 20 - parallel\n",
      "Not setting metadata\n",
      "147 matching events found\n",
      "No baseline correction applied\n",
      "0 projection items activated\n"
     ]
    },
    {
     "name": "stderr",
     "output_type": "stream",
     "text": [
      "/tmp/ipykernel_241552/799502560.py:395: RuntimeWarning: There were no Annotations stored in <EpochsArray |  147 events (all good), -1 - 4 sec, baseline off, ~269.4 MB, data loaded,\n",
      " 'CpeOnset': 147>, so metadata was not modified.\n",
      "/tmp/ipykernel_241552/799502560.py:79: DeprecationWarning: Conversion of an array with ndim > 0 to a scalar is deprecated, and will error in future. Ensure you extract a single element from your array before performing this operation. (Deprecated NumPy 1.25.)\n"
     ]
    },
    {
     "name": "stdout",
     "output_type": "stream",
     "text": [
      "Computing surrogate # 21 - parallel\n",
      "Not setting metadata\n",
      "147 matching events found\n",
      "No baseline correction applied\n",
      "0 projection items activated\n"
     ]
    },
    {
     "name": "stderr",
     "output_type": "stream",
     "text": [
      "/tmp/ipykernel_241552/799502560.py:395: RuntimeWarning: There were no Annotations stored in <EpochsArray |  147 events (all good), -1 - 4 sec, baseline off, ~269.4 MB, data loaded,\n",
      " 'CpeOnset': 147>, so metadata was not modified.\n",
      "/tmp/ipykernel_241552/799502560.py:79: DeprecationWarning: Conversion of an array with ndim > 0 to a scalar is deprecated, and will error in future. Ensure you extract a single element from your array before performing this operation. (Deprecated NumPy 1.25.)\n"
     ]
    },
    {
     "name": "stdout",
     "output_type": "stream",
     "text": [
      "Computing surrogate # 22 - parallel\n",
      "Not setting metadata\n",
      "147 matching events found\n",
      "No baseline correction applied\n",
      "0 projection items activated\n"
     ]
    },
    {
     "name": "stderr",
     "output_type": "stream",
     "text": [
      "/tmp/ipykernel_241552/799502560.py:395: RuntimeWarning: There were no Annotations stored in <EpochsArray |  147 events (all good), -1 - 4 sec, baseline off, ~269.4 MB, data loaded,\n",
      " 'CpeOnset': 147>, so metadata was not modified.\n",
      "/tmp/ipykernel_241552/799502560.py:79: DeprecationWarning: Conversion of an array with ndim > 0 to a scalar is deprecated, and will error in future. Ensure you extract a single element from your array before performing this operation. (Deprecated NumPy 1.25.)\n"
     ]
    },
    {
     "name": "stdout",
     "output_type": "stream",
     "text": [
      "Computing surrogate # 23 - parallel\n",
      "Not setting metadata\n",
      "147 matching events found\n",
      "No baseline correction applied\n",
      "0 projection items activated\n"
     ]
    },
    {
     "name": "stderr",
     "output_type": "stream",
     "text": [
      "/tmp/ipykernel_241552/799502560.py:395: RuntimeWarning: There were no Annotations stored in <EpochsArray |  147 events (all good), -1 - 4 sec, baseline off, ~269.4 MB, data loaded,\n",
      " 'CpeOnset': 147>, so metadata was not modified.\n",
      "/tmp/ipykernel_241552/799502560.py:79: DeprecationWarning: Conversion of an array with ndim > 0 to a scalar is deprecated, and will error in future. Ensure you extract a single element from your array before performing this operation. (Deprecated NumPy 1.25.)\n"
     ]
    },
    {
     "name": "stdout",
     "output_type": "stream",
     "text": [
      "Computing surrogate # 24 - parallel\n",
      "Not setting metadata\n",
      "147 matching events found\n",
      "No baseline correction applied\n",
      "0 projection items activated\n"
     ]
    },
    {
     "name": "stderr",
     "output_type": "stream",
     "text": [
      "/tmp/ipykernel_241552/799502560.py:395: RuntimeWarning: There were no Annotations stored in <EpochsArray |  147 events (all good), -1 - 4 sec, baseline off, ~269.4 MB, data loaded,\n",
      " 'CpeOnset': 147>, so metadata was not modified.\n",
      "/tmp/ipykernel_241552/799502560.py:79: DeprecationWarning: Conversion of an array with ndim > 0 to a scalar is deprecated, and will error in future. Ensure you extract a single element from your array before performing this operation. (Deprecated NumPy 1.25.)\n"
     ]
    },
    {
     "name": "stdout",
     "output_type": "stream",
     "text": [
      "Computing surrogate # 25 - parallel\n",
      "Not setting metadata\n",
      "147 matching events found\n",
      "No baseline correction applied\n",
      "0 projection items activated\n"
     ]
    },
    {
     "name": "stderr",
     "output_type": "stream",
     "text": [
      "/tmp/ipykernel_241552/799502560.py:395: RuntimeWarning: There were no Annotations stored in <EpochsArray |  147 events (all good), -1 - 4 sec, baseline off, ~269.4 MB, data loaded,\n",
      " 'CpeOnset': 147>, so metadata was not modified.\n",
      "/tmp/ipykernel_241552/799502560.py:79: DeprecationWarning: Conversion of an array with ndim > 0 to a scalar is deprecated, and will error in future. Ensure you extract a single element from your array before performing this operation. (Deprecated NumPy 1.25.)\n"
     ]
    },
    {
     "name": "stdout",
     "output_type": "stream",
     "text": [
      "Computing surrogate # 26 - parallel\n",
      "Not setting metadata\n",
      "147 matching events found\n",
      "No baseline correction applied\n",
      "0 projection items activated\n"
     ]
    },
    {
     "name": "stderr",
     "output_type": "stream",
     "text": [
      "/tmp/ipykernel_241552/799502560.py:395: RuntimeWarning: There were no Annotations stored in <EpochsArray |  147 events (all good), -1 - 4 sec, baseline off, ~269.4 MB, data loaded,\n",
      " 'CpeOnset': 147>, so metadata was not modified.\n",
      "/tmp/ipykernel_241552/799502560.py:79: DeprecationWarning: Conversion of an array with ndim > 0 to a scalar is deprecated, and will error in future. Ensure you extract a single element from your array before performing this operation. (Deprecated NumPy 1.25.)\n"
     ]
    },
    {
     "name": "stdout",
     "output_type": "stream",
     "text": [
      "Computing surrogate # 27 - parallel\n",
      "Not setting metadata\n",
      "147 matching events found\n",
      "No baseline correction applied\n",
      "0 projection items activated\n"
     ]
    },
    {
     "name": "stderr",
     "output_type": "stream",
     "text": [
      "/tmp/ipykernel_241552/799502560.py:395: RuntimeWarning: There were no Annotations stored in <EpochsArray |  147 events (all good), -1 - 4 sec, baseline off, ~269.4 MB, data loaded,\n",
      " 'CpeOnset': 147>, so metadata was not modified.\n",
      "/tmp/ipykernel_241552/799502560.py:79: DeprecationWarning: Conversion of an array with ndim > 0 to a scalar is deprecated, and will error in future. Ensure you extract a single element from your array before performing this operation. (Deprecated NumPy 1.25.)\n"
     ]
    },
    {
     "name": "stdout",
     "output_type": "stream",
     "text": [
      "Computing surrogate # 28 - parallel\n",
      "Not setting metadata\n",
      "147 matching events found\n",
      "No baseline correction applied\n",
      "0 projection items activated\n"
     ]
    },
    {
     "name": "stderr",
     "output_type": "stream",
     "text": [
      "/tmp/ipykernel_241552/799502560.py:395: RuntimeWarning: There were no Annotations stored in <EpochsArray |  147 events (all good), -1 - 4 sec, baseline off, ~269.4 MB, data loaded,\n",
      " 'CpeOnset': 147>, so metadata was not modified.\n",
      "/tmp/ipykernel_241552/799502560.py:79: DeprecationWarning: Conversion of an array with ndim > 0 to a scalar is deprecated, and will error in future. Ensure you extract a single element from your array before performing this operation. (Deprecated NumPy 1.25.)\n"
     ]
    },
    {
     "name": "stdout",
     "output_type": "stream",
     "text": [
      "Computing surrogate # 29 - parallel\n",
      "Not setting metadata\n",
      "147 matching events found\n",
      "No baseline correction applied\n",
      "0 projection items activated\n"
     ]
    },
    {
     "name": "stderr",
     "output_type": "stream",
     "text": [
      "/tmp/ipykernel_241552/799502560.py:395: RuntimeWarning: There were no Annotations stored in <EpochsArray |  147 events (all good), -1 - 4 sec, baseline off, ~269.4 MB, data loaded,\n",
      " 'CpeOnset': 147>, so metadata was not modified.\n",
      "/tmp/ipykernel_241552/799502560.py:79: DeprecationWarning: Conversion of an array with ndim > 0 to a scalar is deprecated, and will error in future. Ensure you extract a single element from your array before performing this operation. (Deprecated NumPy 1.25.)\n"
     ]
    },
    {
     "name": "stdout",
     "output_type": "stream",
     "text": [
      "Computing surrogate # 30 - parallel\n",
      "Not setting metadata\n",
      "147 matching events found\n",
      "No baseline correction applied\n",
      "0 projection items activated\n"
     ]
    },
    {
     "name": "stderr",
     "output_type": "stream",
     "text": [
      "/tmp/ipykernel_241552/799502560.py:395: RuntimeWarning: There were no Annotations stored in <EpochsArray |  147 events (all good), -1 - 4 sec, baseline off, ~269.4 MB, data loaded,\n",
      " 'CpeOnset': 147>, so metadata was not modified.\n",
      "/tmp/ipykernel_241552/799502560.py:79: DeprecationWarning: Conversion of an array with ndim > 0 to a scalar is deprecated, and will error in future. Ensure you extract a single element from your array before performing this operation. (Deprecated NumPy 1.25.)\n"
     ]
    },
    {
     "name": "stdout",
     "output_type": "stream",
     "text": [
      "Computing surrogate # 31 - parallel\n",
      "Not setting metadata\n",
      "147 matching events found\n",
      "No baseline correction applied\n",
      "0 projection items activated\n"
     ]
    },
    {
     "name": "stderr",
     "output_type": "stream",
     "text": [
      "/tmp/ipykernel_241552/799502560.py:395: RuntimeWarning: There were no Annotations stored in <EpochsArray |  147 events (all good), -1 - 4 sec, baseline off, ~269.4 MB, data loaded,\n",
      " 'CpeOnset': 147>, so metadata was not modified.\n",
      "/tmp/ipykernel_241552/799502560.py:79: DeprecationWarning: Conversion of an array with ndim > 0 to a scalar is deprecated, and will error in future. Ensure you extract a single element from your array before performing this operation. (Deprecated NumPy 1.25.)\n"
     ]
    },
    {
     "name": "stdout",
     "output_type": "stream",
     "text": [
      "Computing surrogate # 32 - parallel\n",
      "Not setting metadata\n",
      "147 matching events found\n",
      "No baseline correction applied\n",
      "0 projection items activated\n"
     ]
    },
    {
     "name": "stderr",
     "output_type": "stream",
     "text": [
      "/tmp/ipykernel_241552/799502560.py:395: RuntimeWarning: There were no Annotations stored in <EpochsArray |  147 events (all good), -1 - 4 sec, baseline off, ~269.4 MB, data loaded,\n",
      " 'CpeOnset': 147>, so metadata was not modified.\n",
      "/tmp/ipykernel_241552/799502560.py:79: DeprecationWarning: Conversion of an array with ndim > 0 to a scalar is deprecated, and will error in future. Ensure you extract a single element from your array before performing this operation. (Deprecated NumPy 1.25.)\n"
     ]
    },
    {
     "name": "stdout",
     "output_type": "stream",
     "text": [
      "Computing surrogate # 33 - parallel\n",
      "Not setting metadata\n",
      "147 matching events found\n",
      "No baseline correction applied\n",
      "0 projection items activated\n"
     ]
    },
    {
     "name": "stderr",
     "output_type": "stream",
     "text": [
      "/tmp/ipykernel_241552/799502560.py:395: RuntimeWarning: There were no Annotations stored in <EpochsArray |  147 events (all good), -1 - 4 sec, baseline off, ~269.4 MB, data loaded,\n",
      " 'CpeOnset': 147>, so metadata was not modified.\n",
      "/tmp/ipykernel_241552/799502560.py:79: DeprecationWarning: Conversion of an array with ndim > 0 to a scalar is deprecated, and will error in future. Ensure you extract a single element from your array before performing this operation. (Deprecated NumPy 1.25.)\n"
     ]
    },
    {
     "name": "stdout",
     "output_type": "stream",
     "text": [
      "Computing surrogate # 34 - parallel\n",
      "Not setting metadata\n",
      "147 matching events found\n",
      "No baseline correction applied\n",
      "0 projection items activated\n"
     ]
    },
    {
     "name": "stderr",
     "output_type": "stream",
     "text": [
      "/tmp/ipykernel_241552/799502560.py:395: RuntimeWarning: There were no Annotations stored in <EpochsArray |  147 events (all good), -1 - 4 sec, baseline off, ~269.4 MB, data loaded,\n",
      " 'CpeOnset': 147>, so metadata was not modified.\n",
      "/tmp/ipykernel_241552/799502560.py:79: DeprecationWarning: Conversion of an array with ndim > 0 to a scalar is deprecated, and will error in future. Ensure you extract a single element from your array before performing this operation. (Deprecated NumPy 1.25.)\n"
     ]
    },
    {
     "name": "stdout",
     "output_type": "stream",
     "text": [
      "Computing surrogate # 35 - parallel\n",
      "Not setting metadata\n",
      "147 matching events found\n",
      "No baseline correction applied\n",
      "0 projection items activated\n"
     ]
    },
    {
     "name": "stderr",
     "output_type": "stream",
     "text": [
      "/tmp/ipykernel_241552/799502560.py:395: RuntimeWarning: There were no Annotations stored in <EpochsArray |  147 events (all good), -1 - 4 sec, baseline off, ~269.4 MB, data loaded,\n",
      " 'CpeOnset': 147>, so metadata was not modified.\n",
      "/tmp/ipykernel_241552/799502560.py:79: DeprecationWarning: Conversion of an array with ndim > 0 to a scalar is deprecated, and will error in future. Ensure you extract a single element from your array before performing this operation. (Deprecated NumPy 1.25.)\n"
     ]
    },
    {
     "name": "stdout",
     "output_type": "stream",
     "text": [
      "Computing surrogate # 36 - parallel\n",
      "Not setting metadata\n",
      "147 matching events found\n",
      "No baseline correction applied\n",
      "0 projection items activated\n"
     ]
    },
    {
     "name": "stderr",
     "output_type": "stream",
     "text": [
      "/tmp/ipykernel_241552/799502560.py:395: RuntimeWarning: There were no Annotations stored in <EpochsArray |  147 events (all good), -1 - 4 sec, baseline off, ~269.4 MB, data loaded,\n",
      " 'CpeOnset': 147>, so metadata was not modified.\n",
      "/tmp/ipykernel_241552/799502560.py:79: DeprecationWarning: Conversion of an array with ndim > 0 to a scalar is deprecated, and will error in future. Ensure you extract a single element from your array before performing this operation. (Deprecated NumPy 1.25.)\n"
     ]
    },
    {
     "name": "stdout",
     "output_type": "stream",
     "text": [
      "Computing surrogate # 37 - parallel\n",
      "Not setting metadata\n",
      "147 matching events found\n",
      "No baseline correction applied\n",
      "0 projection items activated\n"
     ]
    },
    {
     "name": "stderr",
     "output_type": "stream",
     "text": [
      "/tmp/ipykernel_241552/799502560.py:395: RuntimeWarning: There were no Annotations stored in <EpochsArray |  147 events (all good), -1 - 4 sec, baseline off, ~269.4 MB, data loaded,\n",
      " 'CpeOnset': 147>, so metadata was not modified.\n",
      "/tmp/ipykernel_241552/799502560.py:79: DeprecationWarning: Conversion of an array with ndim > 0 to a scalar is deprecated, and will error in future. Ensure you extract a single element from your array before performing this operation. (Deprecated NumPy 1.25.)\n"
     ]
    },
    {
     "name": "stdout",
     "output_type": "stream",
     "text": [
      "Computing surrogate # 38 - parallel\n",
      "Not setting metadata\n",
      "147 matching events found\n",
      "No baseline correction applied\n",
      "0 projection items activated\n"
     ]
    },
    {
     "name": "stderr",
     "output_type": "stream",
     "text": [
      "/tmp/ipykernel_241552/799502560.py:395: RuntimeWarning: There were no Annotations stored in <EpochsArray |  147 events (all good), -1 - 4 sec, baseline off, ~269.4 MB, data loaded,\n",
      " 'CpeOnset': 147>, so metadata was not modified.\n",
      "/tmp/ipykernel_241552/799502560.py:79: DeprecationWarning: Conversion of an array with ndim > 0 to a scalar is deprecated, and will error in future. Ensure you extract a single element from your array before performing this operation. (Deprecated NumPy 1.25.)\n"
     ]
    },
    {
     "name": "stdout",
     "output_type": "stream",
     "text": [
      "Computing surrogate # 39 - parallel\n",
      "Not setting metadata\n",
      "147 matching events found\n",
      "No baseline correction applied\n",
      "0 projection items activated\n"
     ]
    },
    {
     "name": "stderr",
     "output_type": "stream",
     "text": [
      "/tmp/ipykernel_241552/799502560.py:395: RuntimeWarning: There were no Annotations stored in <EpochsArray |  147 events (all good), -1 - 4 sec, baseline off, ~269.4 MB, data loaded,\n",
      " 'CpeOnset': 147>, so metadata was not modified.\n",
      "/tmp/ipykernel_241552/799502560.py:79: DeprecationWarning: Conversion of an array with ndim > 0 to a scalar is deprecated, and will error in future. Ensure you extract a single element from your array before performing this operation. (Deprecated NumPy 1.25.)\n"
     ]
    },
    {
     "name": "stdout",
     "output_type": "stream",
     "text": [
      "Computing surrogate # 40 - parallel\n",
      "Not setting metadata\n",
      "147 matching events found\n",
      "No baseline correction applied\n",
      "0 projection items activated\n"
     ]
    },
    {
     "name": "stderr",
     "output_type": "stream",
     "text": [
      "/tmp/ipykernel_241552/799502560.py:395: RuntimeWarning: There were no Annotations stored in <EpochsArray |  147 events (all good), -1 - 4 sec, baseline off, ~269.4 MB, data loaded,\n",
      " 'CpeOnset': 147>, so metadata was not modified.\n",
      "/tmp/ipykernel_241552/799502560.py:79: DeprecationWarning: Conversion of an array with ndim > 0 to a scalar is deprecated, and will error in future. Ensure you extract a single element from your array before performing this operation. (Deprecated NumPy 1.25.)\n"
     ]
    },
    {
     "name": "stdout",
     "output_type": "stream",
     "text": [
      "Computing surrogate # 41 - parallel\n",
      "Not setting metadata\n",
      "147 matching events found\n",
      "No baseline correction applied\n",
      "0 projection items activated\n"
     ]
    },
    {
     "name": "stderr",
     "output_type": "stream",
     "text": [
      "/tmp/ipykernel_241552/799502560.py:395: RuntimeWarning: There were no Annotations stored in <EpochsArray |  147 events (all good), -1 - 4 sec, baseline off, ~269.4 MB, data loaded,\n",
      " 'CpeOnset': 147>, so metadata was not modified.\n",
      "/tmp/ipykernel_241552/799502560.py:79: DeprecationWarning: Conversion of an array with ndim > 0 to a scalar is deprecated, and will error in future. Ensure you extract a single element from your array before performing this operation. (Deprecated NumPy 1.25.)\n"
     ]
    },
    {
     "name": "stdout",
     "output_type": "stream",
     "text": [
      "Computing surrogate # 42 - parallel\n",
      "Not setting metadata\n",
      "147 matching events found\n",
      "No baseline correction applied\n",
      "0 projection items activated\n"
     ]
    },
    {
     "name": "stderr",
     "output_type": "stream",
     "text": [
      "/tmp/ipykernel_241552/799502560.py:395: RuntimeWarning: There were no Annotations stored in <EpochsArray |  147 events (all good), -1 - 4 sec, baseline off, ~269.4 MB, data loaded,\n",
      " 'CpeOnset': 147>, so metadata was not modified.\n",
      "/tmp/ipykernel_241552/799502560.py:79: DeprecationWarning: Conversion of an array with ndim > 0 to a scalar is deprecated, and will error in future. Ensure you extract a single element from your array before performing this operation. (Deprecated NumPy 1.25.)\n"
     ]
    },
    {
     "name": "stdout",
     "output_type": "stream",
     "text": [
      "Computing surrogate # 43 - parallel\n",
      "Not setting metadata\n",
      "147 matching events found\n",
      "No baseline correction applied\n",
      "0 projection items activated\n"
     ]
    },
    {
     "name": "stderr",
     "output_type": "stream",
     "text": [
      "/tmp/ipykernel_241552/799502560.py:395: RuntimeWarning: There were no Annotations stored in <EpochsArray |  147 events (all good), -1 - 4 sec, baseline off, ~269.4 MB, data loaded,\n",
      " 'CpeOnset': 147>, so metadata was not modified.\n",
      "/tmp/ipykernel_241552/799502560.py:79: DeprecationWarning: Conversion of an array with ndim > 0 to a scalar is deprecated, and will error in future. Ensure you extract a single element from your array before performing this operation. (Deprecated NumPy 1.25.)\n"
     ]
    },
    {
     "name": "stdout",
     "output_type": "stream",
     "text": [
      "Computing surrogate # 44 - parallel\n",
      "Not setting metadata\n",
      "147 matching events found\n",
      "No baseline correction applied\n",
      "0 projection items activated\n"
     ]
    },
    {
     "name": "stderr",
     "output_type": "stream",
     "text": [
      "/tmp/ipykernel_241552/799502560.py:395: RuntimeWarning: There were no Annotations stored in <EpochsArray |  147 events (all good), -1 - 4 sec, baseline off, ~269.4 MB, data loaded,\n",
      " 'CpeOnset': 147>, so metadata was not modified.\n",
      "/tmp/ipykernel_241552/799502560.py:79: DeprecationWarning: Conversion of an array with ndim > 0 to a scalar is deprecated, and will error in future. Ensure you extract a single element from your array before performing this operation. (Deprecated NumPy 1.25.)\n"
     ]
    },
    {
     "name": "stdout",
     "output_type": "stream",
     "text": [
      "Computing surrogate # 45 - parallel\n",
      "Not setting metadata\n",
      "147 matching events found\n",
      "No baseline correction applied\n",
      "0 projection items activated\n"
     ]
    },
    {
     "name": "stderr",
     "output_type": "stream",
     "text": [
      "/tmp/ipykernel_241552/799502560.py:395: RuntimeWarning: There were no Annotations stored in <EpochsArray |  147 events (all good), -1 - 4 sec, baseline off, ~269.4 MB, data loaded,\n",
      " 'CpeOnset': 147>, so metadata was not modified.\n",
      "/tmp/ipykernel_241552/799502560.py:79: DeprecationWarning: Conversion of an array with ndim > 0 to a scalar is deprecated, and will error in future. Ensure you extract a single element from your array before performing this operation. (Deprecated NumPy 1.25.)\n"
     ]
    },
    {
     "name": "stdout",
     "output_type": "stream",
     "text": [
      "Computing surrogate # 46 - parallel\n",
      "Not setting metadata\n",
      "147 matching events found\n",
      "No baseline correction applied\n",
      "0 projection items activated\n"
     ]
    },
    {
     "name": "stderr",
     "output_type": "stream",
     "text": [
      "/tmp/ipykernel_241552/799502560.py:395: RuntimeWarning: There were no Annotations stored in <EpochsArray |  147 events (all good), -1 - 4 sec, baseline off, ~269.4 MB, data loaded,\n",
      " 'CpeOnset': 147>, so metadata was not modified.\n",
      "/tmp/ipykernel_241552/799502560.py:79: DeprecationWarning: Conversion of an array with ndim > 0 to a scalar is deprecated, and will error in future. Ensure you extract a single element from your array before performing this operation. (Deprecated NumPy 1.25.)\n"
     ]
    },
    {
     "name": "stdout",
     "output_type": "stream",
     "text": [
      "Computing surrogate # 47 - parallel\n",
      "Not setting metadata\n",
      "147 matching events found\n",
      "No baseline correction applied\n",
      "0 projection items activated\n"
     ]
    },
    {
     "name": "stderr",
     "output_type": "stream",
     "text": [
      "/tmp/ipykernel_241552/799502560.py:395: RuntimeWarning: There were no Annotations stored in <EpochsArray |  147 events (all good), -1 - 4 sec, baseline off, ~269.4 MB, data loaded,\n",
      " 'CpeOnset': 147>, so metadata was not modified.\n",
      "/tmp/ipykernel_241552/799502560.py:79: DeprecationWarning: Conversion of an array with ndim > 0 to a scalar is deprecated, and will error in future. Ensure you extract a single element from your array before performing this operation. (Deprecated NumPy 1.25.)\n"
     ]
    },
    {
     "name": "stdout",
     "output_type": "stream",
     "text": [
      "Computing surrogate # 48 - parallel\n",
      "Not setting metadata\n",
      "147 matching events found\n",
      "No baseline correction applied\n",
      "0 projection items activated\n"
     ]
    },
    {
     "name": "stderr",
     "output_type": "stream",
     "text": [
      "/tmp/ipykernel_241552/799502560.py:395: RuntimeWarning: There were no Annotations stored in <EpochsArray |  147 events (all good), -1 - 4 sec, baseline off, ~269.4 MB, data loaded,\n",
      " 'CpeOnset': 147>, so metadata was not modified.\n",
      "/tmp/ipykernel_241552/799502560.py:79: DeprecationWarning: Conversion of an array with ndim > 0 to a scalar is deprecated, and will error in future. Ensure you extract a single element from your array before performing this operation. (Deprecated NumPy 1.25.)\n"
     ]
    },
    {
     "name": "stdout",
     "output_type": "stream",
     "text": [
      "Computing surrogate # 49 - parallel\n",
      "Not setting metadata\n",
      "147 matching events found\n",
      "No baseline correction applied\n",
      "0 projection items activated\n"
     ]
    },
    {
     "name": "stderr",
     "output_type": "stream",
     "text": [
      "/tmp/ipykernel_241552/799502560.py:395: RuntimeWarning: There were no Annotations stored in <EpochsArray |  147 events (all good), -1 - 4 sec, baseline off, ~269.4 MB, data loaded,\n",
      " 'CpeOnset': 147>, so metadata was not modified.\n",
      "/tmp/ipykernel_241552/799502560.py:79: DeprecationWarning: Conversion of an array with ndim > 0 to a scalar is deprecated, and will error in future. Ensure you extract a single element from your array before performing this operation. (Deprecated NumPy 1.25.)\n"
     ]
    },
    {
     "name": "stdout",
     "output_type": "stream",
     "text": [
      "Computing surrogate # 50 - parallel\n",
      "Not setting metadata\n",
      "147 matching events found\n",
      "No baseline correction applied\n",
      "0 projection items activated\n"
     ]
    },
    {
     "name": "stderr",
     "output_type": "stream",
     "text": [
      "/tmp/ipykernel_241552/799502560.py:395: RuntimeWarning: There were no Annotations stored in <EpochsArray |  147 events (all good), -1 - 4 sec, baseline off, ~269.4 MB, data loaded,\n",
      " 'CpeOnset': 147>, so metadata was not modified.\n",
      "/tmp/ipykernel_241552/799502560.py:79: DeprecationWarning: Conversion of an array with ndim > 0 to a scalar is deprecated, and will error in future. Ensure you extract a single element from your array before performing this operation. (Deprecated NumPy 1.25.)\n"
     ]
    },
    {
     "name": "stdout",
     "output_type": "stream",
     "text": [
      "Computing surrogate # 51 - parallel\n",
      "Not setting metadata\n",
      "147 matching events found\n",
      "No baseline correction applied\n",
      "0 projection items activated\n"
     ]
    },
    {
     "name": "stderr",
     "output_type": "stream",
     "text": [
      "/tmp/ipykernel_241552/799502560.py:395: RuntimeWarning: There were no Annotations stored in <EpochsArray |  147 events (all good), -1 - 4 sec, baseline off, ~269.4 MB, data loaded,\n",
      " 'CpeOnset': 147>, so metadata was not modified.\n",
      "/tmp/ipykernel_241552/799502560.py:79: DeprecationWarning: Conversion of an array with ndim > 0 to a scalar is deprecated, and will error in future. Ensure you extract a single element from your array before performing this operation. (Deprecated NumPy 1.25.)\n"
     ]
    },
    {
     "name": "stdout",
     "output_type": "stream",
     "text": [
      "Computing surrogate # 52 - parallel\n",
      "Not setting metadata\n",
      "147 matching events found\n",
      "No baseline correction applied\n",
      "0 projection items activated\n"
     ]
    },
    {
     "name": "stderr",
     "output_type": "stream",
     "text": [
      "/tmp/ipykernel_241552/799502560.py:395: RuntimeWarning: There were no Annotations stored in <EpochsArray |  147 events (all good), -1 - 4 sec, baseline off, ~269.4 MB, data loaded,\n",
      " 'CpeOnset': 147>, so metadata was not modified.\n",
      "/tmp/ipykernel_241552/799502560.py:79: DeprecationWarning: Conversion of an array with ndim > 0 to a scalar is deprecated, and will error in future. Ensure you extract a single element from your array before performing this operation. (Deprecated NumPy 1.25.)\n"
     ]
    },
    {
     "name": "stdout",
     "output_type": "stream",
     "text": [
      "Computing surrogate # 53 - parallel\n",
      "Not setting metadata\n",
      "147 matching events found\n",
      "No baseline correction applied\n",
      "0 projection items activated\n"
     ]
    },
    {
     "name": "stderr",
     "output_type": "stream",
     "text": [
      "/tmp/ipykernel_241552/799502560.py:395: RuntimeWarning: There were no Annotations stored in <EpochsArray |  147 events (all good), -1 - 4 sec, baseline off, ~269.4 MB, data loaded,\n",
      " 'CpeOnset': 147>, so metadata was not modified.\n",
      "/tmp/ipykernel_241552/799502560.py:79: DeprecationWarning: Conversion of an array with ndim > 0 to a scalar is deprecated, and will error in future. Ensure you extract a single element from your array before performing this operation. (Deprecated NumPy 1.25.)\n"
     ]
    },
    {
     "name": "stdout",
     "output_type": "stream",
     "text": [
      "Computing surrogate # 54 - parallel\n",
      "Not setting metadata\n",
      "147 matching events found\n",
      "No baseline correction applied\n",
      "0 projection items activated\n"
     ]
    },
    {
     "name": "stderr",
     "output_type": "stream",
     "text": [
      "/tmp/ipykernel_241552/799502560.py:395: RuntimeWarning: There were no Annotations stored in <EpochsArray |  147 events (all good), -1 - 4 sec, baseline off, ~269.4 MB, data loaded,\n",
      " 'CpeOnset': 147>, so metadata was not modified.\n",
      "/tmp/ipykernel_241552/799502560.py:79: DeprecationWarning: Conversion of an array with ndim > 0 to a scalar is deprecated, and will error in future. Ensure you extract a single element from your array before performing this operation. (Deprecated NumPy 1.25.)\n"
     ]
    },
    {
     "name": "stdout",
     "output_type": "stream",
     "text": [
      "Computing surrogate # 55 - parallel\n",
      "Not setting metadata\n",
      "147 matching events found\n",
      "No baseline correction applied\n",
      "0 projection items activated\n"
     ]
    },
    {
     "name": "stderr",
     "output_type": "stream",
     "text": [
      "/tmp/ipykernel_241552/799502560.py:395: RuntimeWarning: There were no Annotations stored in <EpochsArray |  147 events (all good), -1 - 4 sec, baseline off, ~269.4 MB, data loaded,\n",
      " 'CpeOnset': 147>, so metadata was not modified.\n",
      "/tmp/ipykernel_241552/799502560.py:79: DeprecationWarning: Conversion of an array with ndim > 0 to a scalar is deprecated, and will error in future. Ensure you extract a single element from your array before performing this operation. (Deprecated NumPy 1.25.)\n"
     ]
    },
    {
     "name": "stdout",
     "output_type": "stream",
     "text": [
      "Computing surrogate # 56 - parallel\n",
      "Not setting metadata\n",
      "147 matching events found\n",
      "No baseline correction applied\n",
      "0 projection items activated\n"
     ]
    },
    {
     "name": "stderr",
     "output_type": "stream",
     "text": [
      "/tmp/ipykernel_241552/799502560.py:395: RuntimeWarning: There were no Annotations stored in <EpochsArray |  147 events (all good), -1 - 4 sec, baseline off, ~269.4 MB, data loaded,\n",
      " 'CpeOnset': 147>, so metadata was not modified.\n",
      "/tmp/ipykernel_241552/799502560.py:79: DeprecationWarning: Conversion of an array with ndim > 0 to a scalar is deprecated, and will error in future. Ensure you extract a single element from your array before performing this operation. (Deprecated NumPy 1.25.)\n"
     ]
    },
    {
     "name": "stdout",
     "output_type": "stream",
     "text": [
      "Computing surrogate # 57 - parallel\n",
      "Not setting metadata\n",
      "147 matching events found\n",
      "No baseline correction applied\n",
      "0 projection items activated\n"
     ]
    },
    {
     "name": "stderr",
     "output_type": "stream",
     "text": [
      "/tmp/ipykernel_241552/799502560.py:395: RuntimeWarning: There were no Annotations stored in <EpochsArray |  147 events (all good), -1 - 4 sec, baseline off, ~269.4 MB, data loaded,\n",
      " 'CpeOnset': 147>, so metadata was not modified.\n",
      "/tmp/ipykernel_241552/799502560.py:79: DeprecationWarning: Conversion of an array with ndim > 0 to a scalar is deprecated, and will error in future. Ensure you extract a single element from your array before performing this operation. (Deprecated NumPy 1.25.)\n"
     ]
    },
    {
     "name": "stdout",
     "output_type": "stream",
     "text": [
      "Computing surrogate # 58 - parallel\n",
      "Not setting metadata\n",
      "147 matching events found\n",
      "No baseline correction applied\n",
      "0 projection items activated\n"
     ]
    },
    {
     "name": "stderr",
     "output_type": "stream",
     "text": [
      "/tmp/ipykernel_241552/799502560.py:395: RuntimeWarning: There were no Annotations stored in <EpochsArray |  147 events (all good), -1 - 4 sec, baseline off, ~269.4 MB, data loaded,\n",
      " 'CpeOnset': 147>, so metadata was not modified.\n",
      "/tmp/ipykernel_241552/799502560.py:79: DeprecationWarning: Conversion of an array with ndim > 0 to a scalar is deprecated, and will error in future. Ensure you extract a single element from your array before performing this operation. (Deprecated NumPy 1.25.)\n"
     ]
    },
    {
     "name": "stdout",
     "output_type": "stream",
     "text": [
      "Computing surrogate # 59 - parallel\n",
      "Not setting metadata\n",
      "147 matching events found\n",
      "No baseline correction applied\n",
      "0 projection items activated\n"
     ]
    },
    {
     "name": "stderr",
     "output_type": "stream",
     "text": [
      "/tmp/ipykernel_241552/799502560.py:395: RuntimeWarning: There were no Annotations stored in <EpochsArray |  147 events (all good), -1 - 4 sec, baseline off, ~269.4 MB, data loaded,\n",
      " 'CpeOnset': 147>, so metadata was not modified.\n",
      "/tmp/ipykernel_241552/799502560.py:79: DeprecationWarning: Conversion of an array with ndim > 0 to a scalar is deprecated, and will error in future. Ensure you extract a single element from your array before performing this operation. (Deprecated NumPy 1.25.)\n"
     ]
    },
    {
     "name": "stdout",
     "output_type": "stream",
     "text": [
      "Computing surrogate # 60 - parallel\n",
      "Not setting metadata\n",
      "147 matching events found\n",
      "No baseline correction applied\n",
      "0 projection items activated\n"
     ]
    },
    {
     "name": "stderr",
     "output_type": "stream",
     "text": [
      "/tmp/ipykernel_241552/799502560.py:395: RuntimeWarning: There were no Annotations stored in <EpochsArray |  147 events (all good), -1 - 4 sec, baseline off, ~269.4 MB, data loaded,\n",
      " 'CpeOnset': 147>, so metadata was not modified.\n",
      "/tmp/ipykernel_241552/799502560.py:79: DeprecationWarning: Conversion of an array with ndim > 0 to a scalar is deprecated, and will error in future. Ensure you extract a single element from your array before performing this operation. (Deprecated NumPy 1.25.)\n"
     ]
    },
    {
     "name": "stdout",
     "output_type": "stream",
     "text": [
      "Computing surrogate # 61 - parallel\n",
      "Not setting metadata\n",
      "147 matching events found\n",
      "No baseline correction applied\n",
      "0 projection items activated\n"
     ]
    },
    {
     "name": "stderr",
     "output_type": "stream",
     "text": [
      "/tmp/ipykernel_241552/799502560.py:395: RuntimeWarning: There were no Annotations stored in <EpochsArray |  147 events (all good), -1 - 4 sec, baseline off, ~269.4 MB, data loaded,\n",
      " 'CpeOnset': 147>, so metadata was not modified.\n",
      "/tmp/ipykernel_241552/799502560.py:79: DeprecationWarning: Conversion of an array with ndim > 0 to a scalar is deprecated, and will error in future. Ensure you extract a single element from your array before performing this operation. (Deprecated NumPy 1.25.)\n"
     ]
    },
    {
     "name": "stdout",
     "output_type": "stream",
     "text": [
      "Computing surrogate # 62 - parallel\n",
      "Not setting metadata\n",
      "147 matching events found\n",
      "No baseline correction applied\n",
      "0 projection items activated\n"
     ]
    },
    {
     "name": "stderr",
     "output_type": "stream",
     "text": [
      "/tmp/ipykernel_241552/799502560.py:395: RuntimeWarning: There were no Annotations stored in <EpochsArray |  147 events (all good), -1 - 4 sec, baseline off, ~269.4 MB, data loaded,\n",
      " 'CpeOnset': 147>, so metadata was not modified.\n",
      "/tmp/ipykernel_241552/799502560.py:79: DeprecationWarning: Conversion of an array with ndim > 0 to a scalar is deprecated, and will error in future. Ensure you extract a single element from your array before performing this operation. (Deprecated NumPy 1.25.)\n"
     ]
    },
    {
     "name": "stdout",
     "output_type": "stream",
     "text": [
      "Computing surrogate # 63 - parallel\n",
      "Not setting metadata\n",
      "147 matching events found\n",
      "No baseline correction applied\n",
      "0 projection items activated\n"
     ]
    },
    {
     "name": "stderr",
     "output_type": "stream",
     "text": [
      "/tmp/ipykernel_241552/799502560.py:395: RuntimeWarning: There were no Annotations stored in <EpochsArray |  147 events (all good), -1 - 4 sec, baseline off, ~269.4 MB, data loaded,\n",
      " 'CpeOnset': 147>, so metadata was not modified.\n",
      "/tmp/ipykernel_241552/799502560.py:79: DeprecationWarning: Conversion of an array with ndim > 0 to a scalar is deprecated, and will error in future. Ensure you extract a single element from your array before performing this operation. (Deprecated NumPy 1.25.)\n"
     ]
    },
    {
     "name": "stdout",
     "output_type": "stream",
     "text": [
      "Computing surrogate # 64 - parallel\n",
      "Not setting metadata\n",
      "147 matching events found\n",
      "No baseline correction applied\n",
      "0 projection items activated\n"
     ]
    },
    {
     "name": "stderr",
     "output_type": "stream",
     "text": [
      "/tmp/ipykernel_241552/799502560.py:395: RuntimeWarning: There were no Annotations stored in <EpochsArray |  147 events (all good), -1 - 4 sec, baseline off, ~269.4 MB, data loaded,\n",
      " 'CpeOnset': 147>, so metadata was not modified.\n",
      "/tmp/ipykernel_241552/799502560.py:79: DeprecationWarning: Conversion of an array with ndim > 0 to a scalar is deprecated, and will error in future. Ensure you extract a single element from your array before performing this operation. (Deprecated NumPy 1.25.)\n"
     ]
    },
    {
     "name": "stdout",
     "output_type": "stream",
     "text": [
      "Computing surrogate # 65 - parallel\n",
      "Not setting metadata\n",
      "147 matching events found\n",
      "No baseline correction applied\n",
      "0 projection items activated\n"
     ]
    },
    {
     "name": "stderr",
     "output_type": "stream",
     "text": [
      "/tmp/ipykernel_241552/799502560.py:395: RuntimeWarning: There were no Annotations stored in <EpochsArray |  147 events (all good), -1 - 4 sec, baseline off, ~269.4 MB, data loaded,\n",
      " 'CpeOnset': 147>, so metadata was not modified.\n",
      "/tmp/ipykernel_241552/799502560.py:79: DeprecationWarning: Conversion of an array with ndim > 0 to a scalar is deprecated, and will error in future. Ensure you extract a single element from your array before performing this operation. (Deprecated NumPy 1.25.)\n"
     ]
    },
    {
     "name": "stdout",
     "output_type": "stream",
     "text": [
      "Computing surrogate # 66 - parallel\n",
      "Not setting metadata\n",
      "147 matching events found\n",
      "No baseline correction applied\n",
      "0 projection items activated\n"
     ]
    },
    {
     "name": "stderr",
     "output_type": "stream",
     "text": [
      "/tmp/ipykernel_241552/799502560.py:395: RuntimeWarning: There were no Annotations stored in <EpochsArray |  147 events (all good), -1 - 4 sec, baseline off, ~269.4 MB, data loaded,\n",
      " 'CpeOnset': 147>, so metadata was not modified.\n",
      "/tmp/ipykernel_241552/799502560.py:79: DeprecationWarning: Conversion of an array with ndim > 0 to a scalar is deprecated, and will error in future. Ensure you extract a single element from your array before performing this operation. (Deprecated NumPy 1.25.)\n"
     ]
    },
    {
     "name": "stdout",
     "output_type": "stream",
     "text": [
      "Computing surrogate # 67 - parallel\n",
      "Not setting metadata\n",
      "147 matching events found\n",
      "No baseline correction applied\n",
      "0 projection items activated\n"
     ]
    },
    {
     "name": "stderr",
     "output_type": "stream",
     "text": [
      "/tmp/ipykernel_241552/799502560.py:395: RuntimeWarning: There were no Annotations stored in <EpochsArray |  147 events (all good), -1 - 4 sec, baseline off, ~269.4 MB, data loaded,\n",
      " 'CpeOnset': 147>, so metadata was not modified.\n",
      "/tmp/ipykernel_241552/799502560.py:79: DeprecationWarning: Conversion of an array with ndim > 0 to a scalar is deprecated, and will error in future. Ensure you extract a single element from your array before performing this operation. (Deprecated NumPy 1.25.)\n"
     ]
    },
    {
     "name": "stdout",
     "output_type": "stream",
     "text": [
      "Computing surrogate # 68 - parallel\n",
      "Not setting metadata\n",
      "147 matching events found\n",
      "No baseline correction applied\n",
      "0 projection items activated\n"
     ]
    },
    {
     "name": "stderr",
     "output_type": "stream",
     "text": [
      "/tmp/ipykernel_241552/799502560.py:395: RuntimeWarning: There were no Annotations stored in <EpochsArray |  147 events (all good), -1 - 4 sec, baseline off, ~269.4 MB, data loaded,\n",
      " 'CpeOnset': 147>, so metadata was not modified.\n",
      "/tmp/ipykernel_241552/799502560.py:79: DeprecationWarning: Conversion of an array with ndim > 0 to a scalar is deprecated, and will error in future. Ensure you extract a single element from your array before performing this operation. (Deprecated NumPy 1.25.)\n"
     ]
    },
    {
     "name": "stdout",
     "output_type": "stream",
     "text": [
      "Computing surrogate # 69 - parallel\n",
      "Not setting metadata\n",
      "147 matching events found\n",
      "No baseline correction applied\n",
      "0 projection items activated\n"
     ]
    },
    {
     "name": "stderr",
     "output_type": "stream",
     "text": [
      "/tmp/ipykernel_241552/799502560.py:395: RuntimeWarning: There were no Annotations stored in <EpochsArray |  147 events (all good), -1 - 4 sec, baseline off, ~269.4 MB, data loaded,\n",
      " 'CpeOnset': 147>, so metadata was not modified.\n",
      "/tmp/ipykernel_241552/799502560.py:79: DeprecationWarning: Conversion of an array with ndim > 0 to a scalar is deprecated, and will error in future. Ensure you extract a single element from your array before performing this operation. (Deprecated NumPy 1.25.)\n"
     ]
    },
    {
     "name": "stdout",
     "output_type": "stream",
     "text": [
      "Computing surrogate # 70 - parallel\n",
      "Not setting metadata\n",
      "147 matching events found\n",
      "No baseline correction applied\n",
      "0 projection items activated\n"
     ]
    },
    {
     "name": "stderr",
     "output_type": "stream",
     "text": [
      "/tmp/ipykernel_241552/799502560.py:395: RuntimeWarning: There were no Annotations stored in <EpochsArray |  147 events (all good), -1 - 4 sec, baseline off, ~269.4 MB, data loaded,\n",
      " 'CpeOnset': 147>, so metadata was not modified.\n",
      "/tmp/ipykernel_241552/799502560.py:79: DeprecationWarning: Conversion of an array with ndim > 0 to a scalar is deprecated, and will error in future. Ensure you extract a single element from your array before performing this operation. (Deprecated NumPy 1.25.)\n"
     ]
    },
    {
     "name": "stdout",
     "output_type": "stream",
     "text": [
      "Computing surrogate # 71 - parallel\n",
      "Not setting metadata\n",
      "147 matching events found\n",
      "No baseline correction applied\n",
      "0 projection items activated\n"
     ]
    },
    {
     "name": "stderr",
     "output_type": "stream",
     "text": [
      "/tmp/ipykernel_241552/799502560.py:395: RuntimeWarning: There were no Annotations stored in <EpochsArray |  147 events (all good), -1 - 4 sec, baseline off, ~269.4 MB, data loaded,\n",
      " 'CpeOnset': 147>, so metadata was not modified.\n",
      "/tmp/ipykernel_241552/799502560.py:79: DeprecationWarning: Conversion of an array with ndim > 0 to a scalar is deprecated, and will error in future. Ensure you extract a single element from your array before performing this operation. (Deprecated NumPy 1.25.)\n"
     ]
    },
    {
     "name": "stdout",
     "output_type": "stream",
     "text": [
      "Computing surrogate # 72 - parallel\n",
      "Not setting metadata\n",
      "147 matching events found\n",
      "No baseline correction applied\n",
      "0 projection items activated\n"
     ]
    },
    {
     "name": "stderr",
     "output_type": "stream",
     "text": [
      "/tmp/ipykernel_241552/799502560.py:395: RuntimeWarning: There were no Annotations stored in <EpochsArray |  147 events (all good), -1 - 4 sec, baseline off, ~269.4 MB, data loaded,\n",
      " 'CpeOnset': 147>, so metadata was not modified.\n",
      "/tmp/ipykernel_241552/799502560.py:79: DeprecationWarning: Conversion of an array with ndim > 0 to a scalar is deprecated, and will error in future. Ensure you extract a single element from your array before performing this operation. (Deprecated NumPy 1.25.)\n"
     ]
    },
    {
     "name": "stdout",
     "output_type": "stream",
     "text": [
      "Computing surrogate # 73 - parallel\n",
      "Not setting metadata\n",
      "147 matching events found\n",
      "No baseline correction applied\n",
      "0 projection items activated\n"
     ]
    },
    {
     "name": "stderr",
     "output_type": "stream",
     "text": [
      "/tmp/ipykernel_241552/799502560.py:395: RuntimeWarning: There were no Annotations stored in <EpochsArray |  147 events (all good), -1 - 4 sec, baseline off, ~269.4 MB, data loaded,\n",
      " 'CpeOnset': 147>, so metadata was not modified.\n",
      "/tmp/ipykernel_241552/799502560.py:79: DeprecationWarning: Conversion of an array with ndim > 0 to a scalar is deprecated, and will error in future. Ensure you extract a single element from your array before performing this operation. (Deprecated NumPy 1.25.)\n"
     ]
    },
    {
     "name": "stdout",
     "output_type": "stream",
     "text": [
      "Computing surrogate # 74 - parallel\n",
      "Not setting metadata\n",
      "147 matching events found\n",
      "No baseline correction applied\n",
      "0 projection items activated\n"
     ]
    },
    {
     "name": "stderr",
     "output_type": "stream",
     "text": [
      "/tmp/ipykernel_241552/799502560.py:395: RuntimeWarning: There were no Annotations stored in <EpochsArray |  147 events (all good), -1 - 4 sec, baseline off, ~269.4 MB, data loaded,\n",
      " 'CpeOnset': 147>, so metadata was not modified.\n",
      "/tmp/ipykernel_241552/799502560.py:79: DeprecationWarning: Conversion of an array with ndim > 0 to a scalar is deprecated, and will error in future. Ensure you extract a single element from your array before performing this operation. (Deprecated NumPy 1.25.)\n"
     ]
    },
    {
     "name": "stdout",
     "output_type": "stream",
     "text": [
      "Computing surrogate # 75 - parallel\n",
      "Not setting metadata\n",
      "147 matching events found\n",
      "No baseline correction applied\n",
      "0 projection items activated\n"
     ]
    },
    {
     "name": "stderr",
     "output_type": "stream",
     "text": [
      "/tmp/ipykernel_241552/799502560.py:395: RuntimeWarning: There were no Annotations stored in <EpochsArray |  147 events (all good), -1 - 4 sec, baseline off, ~269.4 MB, data loaded,\n",
      " 'CpeOnset': 147>, so metadata was not modified.\n",
      "/tmp/ipykernel_241552/799502560.py:79: DeprecationWarning: Conversion of an array with ndim > 0 to a scalar is deprecated, and will error in future. Ensure you extract a single element from your array before performing this operation. (Deprecated NumPy 1.25.)\n"
     ]
    },
    {
     "name": "stdout",
     "output_type": "stream",
     "text": [
      "Computing surrogate # 76 - parallel\n",
      "Not setting metadata\n",
      "147 matching events found\n",
      "No baseline correction applied\n",
      "0 projection items activated\n"
     ]
    },
    {
     "name": "stderr",
     "output_type": "stream",
     "text": [
      "/tmp/ipykernel_241552/799502560.py:395: RuntimeWarning: There were no Annotations stored in <EpochsArray |  147 events (all good), -1 - 4 sec, baseline off, ~269.4 MB, data loaded,\n",
      " 'CpeOnset': 147>, so metadata was not modified.\n",
      "/tmp/ipykernel_241552/799502560.py:79: DeprecationWarning: Conversion of an array with ndim > 0 to a scalar is deprecated, and will error in future. Ensure you extract a single element from your array before performing this operation. (Deprecated NumPy 1.25.)\n"
     ]
    },
    {
     "name": "stdout",
     "output_type": "stream",
     "text": [
      "Computing surrogate # 77 - parallel\n",
      "Not setting metadata\n",
      "147 matching events found\n",
      "No baseline correction applied\n",
      "0 projection items activated\n"
     ]
    },
    {
     "name": "stderr",
     "output_type": "stream",
     "text": [
      "/tmp/ipykernel_241552/799502560.py:395: RuntimeWarning: There were no Annotations stored in <EpochsArray |  147 events (all good), -1 - 4 sec, baseline off, ~269.4 MB, data loaded,\n",
      " 'CpeOnset': 147>, so metadata was not modified.\n",
      "/tmp/ipykernel_241552/799502560.py:79: DeprecationWarning: Conversion of an array with ndim > 0 to a scalar is deprecated, and will error in future. Ensure you extract a single element from your array before performing this operation. (Deprecated NumPy 1.25.)\n"
     ]
    },
    {
     "name": "stdout",
     "output_type": "stream",
     "text": [
      "Computing surrogate # 78 - parallel\n",
      "Not setting metadata\n",
      "147 matching events found\n",
      "No baseline correction applied\n",
      "0 projection items activated\n"
     ]
    },
    {
     "name": "stderr",
     "output_type": "stream",
     "text": [
      "/tmp/ipykernel_241552/799502560.py:395: RuntimeWarning: There were no Annotations stored in <EpochsArray |  147 events (all good), -1 - 4 sec, baseline off, ~269.4 MB, data loaded,\n",
      " 'CpeOnset': 147>, so metadata was not modified.\n",
      "/tmp/ipykernel_241552/799502560.py:79: DeprecationWarning: Conversion of an array with ndim > 0 to a scalar is deprecated, and will error in future. Ensure you extract a single element from your array before performing this operation. (Deprecated NumPy 1.25.)\n"
     ]
    },
    {
     "name": "stdout",
     "output_type": "stream",
     "text": [
      "Computing surrogate # 79 - parallel\n",
      "Not setting metadata\n",
      "147 matching events found\n",
      "No baseline correction applied\n",
      "0 projection items activated\n"
     ]
    },
    {
     "name": "stderr",
     "output_type": "stream",
     "text": [
      "/tmp/ipykernel_241552/799502560.py:395: RuntimeWarning: There were no Annotations stored in <EpochsArray |  147 events (all good), -1 - 4 sec, baseline off, ~269.4 MB, data loaded,\n",
      " 'CpeOnset': 147>, so metadata was not modified.\n",
      "/tmp/ipykernel_241552/799502560.py:79: DeprecationWarning: Conversion of an array with ndim > 0 to a scalar is deprecated, and will error in future. Ensure you extract a single element from your array before performing this operation. (Deprecated NumPy 1.25.)\n"
     ]
    },
    {
     "name": "stdout",
     "output_type": "stream",
     "text": [
      "Computing surrogate # 80 - parallel\n",
      "Not setting metadata\n",
      "147 matching events found\n",
      "No baseline correction applied\n",
      "0 projection items activated\n"
     ]
    },
    {
     "name": "stderr",
     "output_type": "stream",
     "text": [
      "/tmp/ipykernel_241552/799502560.py:395: RuntimeWarning: There were no Annotations stored in <EpochsArray |  147 events (all good), -1 - 4 sec, baseline off, ~269.4 MB, data loaded,\n",
      " 'CpeOnset': 147>, so metadata was not modified.\n",
      "/tmp/ipykernel_241552/799502560.py:79: DeprecationWarning: Conversion of an array with ndim > 0 to a scalar is deprecated, and will error in future. Ensure you extract a single element from your array before performing this operation. (Deprecated NumPy 1.25.)\n"
     ]
    },
    {
     "name": "stdout",
     "output_type": "stream",
     "text": [
      "Computing surrogate # 81 - parallel\n",
      "Not setting metadata\n",
      "147 matching events found\n",
      "No baseline correction applied\n",
      "0 projection items activated\n"
     ]
    },
    {
     "name": "stderr",
     "output_type": "stream",
     "text": [
      "/tmp/ipykernel_241552/799502560.py:395: RuntimeWarning: There were no Annotations stored in <EpochsArray |  147 events (all good), -1 - 4 sec, baseline off, ~269.4 MB, data loaded,\n",
      " 'CpeOnset': 147>, so metadata was not modified.\n",
      "/tmp/ipykernel_241552/799502560.py:79: DeprecationWarning: Conversion of an array with ndim > 0 to a scalar is deprecated, and will error in future. Ensure you extract a single element from your array before performing this operation. (Deprecated NumPy 1.25.)\n"
     ]
    },
    {
     "name": "stdout",
     "output_type": "stream",
     "text": [
      "Computing surrogate # 82 - parallel\n",
      "Not setting metadata\n",
      "147 matching events found\n",
      "No baseline correction applied\n",
      "0 projection items activated\n"
     ]
    },
    {
     "name": "stderr",
     "output_type": "stream",
     "text": [
      "/tmp/ipykernel_241552/799502560.py:395: RuntimeWarning: There were no Annotations stored in <EpochsArray |  147 events (all good), -1 - 4 sec, baseline off, ~269.4 MB, data loaded,\n",
      " 'CpeOnset': 147>, so metadata was not modified.\n",
      "/tmp/ipykernel_241552/799502560.py:79: DeprecationWarning: Conversion of an array with ndim > 0 to a scalar is deprecated, and will error in future. Ensure you extract a single element from your array before performing this operation. (Deprecated NumPy 1.25.)\n"
     ]
    },
    {
     "name": "stdout",
     "output_type": "stream",
     "text": [
      "Computing surrogate # 83 - parallel\n",
      "Not setting metadata\n",
      "147 matching events found\n",
      "No baseline correction applied\n",
      "0 projection items activated\n"
     ]
    },
    {
     "name": "stderr",
     "output_type": "stream",
     "text": [
      "/tmp/ipykernel_241552/799502560.py:395: RuntimeWarning: There were no Annotations stored in <EpochsArray |  147 events (all good), -1 - 4 sec, baseline off, ~269.4 MB, data loaded,\n",
      " 'CpeOnset': 147>, so metadata was not modified.\n",
      "/tmp/ipykernel_241552/799502560.py:79: DeprecationWarning: Conversion of an array with ndim > 0 to a scalar is deprecated, and will error in future. Ensure you extract a single element from your array before performing this operation. (Deprecated NumPy 1.25.)\n"
     ]
    },
    {
     "name": "stdout",
     "output_type": "stream",
     "text": [
      "Computing surrogate # 84 - parallel\n",
      "Not setting metadata\n",
      "147 matching events found\n",
      "No baseline correction applied\n",
      "0 projection items activated\n"
     ]
    },
    {
     "name": "stderr",
     "output_type": "stream",
     "text": [
      "/tmp/ipykernel_241552/799502560.py:395: RuntimeWarning: There were no Annotations stored in <EpochsArray |  147 events (all good), -1 - 4 sec, baseline off, ~269.4 MB, data loaded,\n",
      " 'CpeOnset': 147>, so metadata was not modified.\n",
      "/tmp/ipykernel_241552/799502560.py:79: DeprecationWarning: Conversion of an array with ndim > 0 to a scalar is deprecated, and will error in future. Ensure you extract a single element from your array before performing this operation. (Deprecated NumPy 1.25.)\n"
     ]
    },
    {
     "name": "stdout",
     "output_type": "stream",
     "text": [
      "Computing surrogate # 85 - parallel\n",
      "Not setting metadata\n",
      "147 matching events found\n",
      "No baseline correction applied\n",
      "0 projection items activated\n"
     ]
    },
    {
     "name": "stderr",
     "output_type": "stream",
     "text": [
      "/tmp/ipykernel_241552/799502560.py:395: RuntimeWarning: There were no Annotations stored in <EpochsArray |  147 events (all good), -1 - 4 sec, baseline off, ~269.4 MB, data loaded,\n",
      " 'CpeOnset': 147>, so metadata was not modified.\n",
      "/tmp/ipykernel_241552/799502560.py:79: DeprecationWarning: Conversion of an array with ndim > 0 to a scalar is deprecated, and will error in future. Ensure you extract a single element from your array before performing this operation. (Deprecated NumPy 1.25.)\n"
     ]
    },
    {
     "name": "stdout",
     "output_type": "stream",
     "text": [
      "Computing surrogate # 86 - parallel\n",
      "Not setting metadata\n",
      "147 matching events found\n",
      "No baseline correction applied\n",
      "0 projection items activated\n"
     ]
    },
    {
     "name": "stderr",
     "output_type": "stream",
     "text": [
      "/tmp/ipykernel_241552/799502560.py:395: RuntimeWarning: There were no Annotations stored in <EpochsArray |  147 events (all good), -1 - 4 sec, baseline off, ~269.4 MB, data loaded,\n",
      " 'CpeOnset': 147>, so metadata was not modified.\n",
      "/tmp/ipykernel_241552/799502560.py:79: DeprecationWarning: Conversion of an array with ndim > 0 to a scalar is deprecated, and will error in future. Ensure you extract a single element from your array before performing this operation. (Deprecated NumPy 1.25.)\n"
     ]
    },
    {
     "name": "stdout",
     "output_type": "stream",
     "text": [
      "Computing surrogate # 87 - parallel\n",
      "Not setting metadata\n",
      "147 matching events found\n",
      "No baseline correction applied\n",
      "0 projection items activated\n"
     ]
    },
    {
     "name": "stderr",
     "output_type": "stream",
     "text": [
      "/tmp/ipykernel_241552/799502560.py:395: RuntimeWarning: There were no Annotations stored in <EpochsArray |  147 events (all good), -1 - 4 sec, baseline off, ~269.4 MB, data loaded,\n",
      " 'CpeOnset': 147>, so metadata was not modified.\n",
      "/tmp/ipykernel_241552/799502560.py:79: DeprecationWarning: Conversion of an array with ndim > 0 to a scalar is deprecated, and will error in future. Ensure you extract a single element from your array before performing this operation. (Deprecated NumPy 1.25.)\n"
     ]
    },
    {
     "name": "stdout",
     "output_type": "stream",
     "text": [
      "Computing surrogate # 88 - parallel\n",
      "Not setting metadata\n",
      "147 matching events found\n",
      "No baseline correction applied\n",
      "0 projection items activated\n"
     ]
    },
    {
     "name": "stderr",
     "output_type": "stream",
     "text": [
      "/tmp/ipykernel_241552/799502560.py:395: RuntimeWarning: There were no Annotations stored in <EpochsArray |  147 events (all good), -1 - 4 sec, baseline off, ~269.4 MB, data loaded,\n",
      " 'CpeOnset': 147>, so metadata was not modified.\n",
      "/tmp/ipykernel_241552/799502560.py:79: DeprecationWarning: Conversion of an array with ndim > 0 to a scalar is deprecated, and will error in future. Ensure you extract a single element from your array before performing this operation. (Deprecated NumPy 1.25.)\n"
     ]
    },
    {
     "name": "stdout",
     "output_type": "stream",
     "text": [
      "Computing surrogate # 89 - parallel\n",
      "Not setting metadata\n",
      "147 matching events found\n",
      "No baseline correction applied\n",
      "0 projection items activated\n"
     ]
    },
    {
     "name": "stderr",
     "output_type": "stream",
     "text": [
      "/tmp/ipykernel_241552/799502560.py:395: RuntimeWarning: There were no Annotations stored in <EpochsArray |  147 events (all good), -1 - 4 sec, baseline off, ~269.4 MB, data loaded,\n",
      " 'CpeOnset': 147>, so metadata was not modified.\n",
      "/tmp/ipykernel_241552/799502560.py:79: DeprecationWarning: Conversion of an array with ndim > 0 to a scalar is deprecated, and will error in future. Ensure you extract a single element from your array before performing this operation. (Deprecated NumPy 1.25.)\n"
     ]
    },
    {
     "name": "stdout",
     "output_type": "stream",
     "text": [
      "Computing surrogate # 90 - parallel\n",
      "Not setting metadata\n",
      "147 matching events found\n",
      "No baseline correction applied\n",
      "0 projection items activated\n"
     ]
    },
    {
     "name": "stderr",
     "output_type": "stream",
     "text": [
      "/tmp/ipykernel_241552/799502560.py:395: RuntimeWarning: There were no Annotations stored in <EpochsArray |  147 events (all good), -1 - 4 sec, baseline off, ~269.4 MB, data loaded,\n",
      " 'CpeOnset': 147>, so metadata was not modified.\n",
      "/tmp/ipykernel_241552/799502560.py:79: DeprecationWarning: Conversion of an array with ndim > 0 to a scalar is deprecated, and will error in future. Ensure you extract a single element from your array before performing this operation. (Deprecated NumPy 1.25.)\n"
     ]
    },
    {
     "name": "stdout",
     "output_type": "stream",
     "text": [
      "Computing surrogate # 91 - parallel\n",
      "Not setting metadata\n",
      "147 matching events found\n",
      "No baseline correction applied\n",
      "0 projection items activated\n"
     ]
    },
    {
     "name": "stderr",
     "output_type": "stream",
     "text": [
      "/tmp/ipykernel_241552/799502560.py:395: RuntimeWarning: There were no Annotations stored in <EpochsArray |  147 events (all good), -1 - 4 sec, baseline off, ~269.4 MB, data loaded,\n",
      " 'CpeOnset': 147>, so metadata was not modified.\n",
      "/tmp/ipykernel_241552/799502560.py:79: DeprecationWarning: Conversion of an array with ndim > 0 to a scalar is deprecated, and will error in future. Ensure you extract a single element from your array before performing this operation. (Deprecated NumPy 1.25.)\n"
     ]
    },
    {
     "name": "stdout",
     "output_type": "stream",
     "text": [
      "Computing surrogate # 92 - parallel\n",
      "Not setting metadata\n",
      "147 matching events found\n",
      "No baseline correction applied\n",
      "0 projection items activated\n"
     ]
    },
    {
     "name": "stderr",
     "output_type": "stream",
     "text": [
      "/tmp/ipykernel_241552/799502560.py:395: RuntimeWarning: There were no Annotations stored in <EpochsArray |  147 events (all good), -1 - 4 sec, baseline off, ~269.4 MB, data loaded,\n",
      " 'CpeOnset': 147>, so metadata was not modified.\n",
      "/tmp/ipykernel_241552/799502560.py:79: DeprecationWarning: Conversion of an array with ndim > 0 to a scalar is deprecated, and will error in future. Ensure you extract a single element from your array before performing this operation. (Deprecated NumPy 1.25.)\n"
     ]
    },
    {
     "name": "stdout",
     "output_type": "stream",
     "text": [
      "Computing surrogate # 93 - parallel\n",
      "Not setting metadata\n",
      "147 matching events found\n",
      "No baseline correction applied\n",
      "0 projection items activated\n"
     ]
    },
    {
     "name": "stderr",
     "output_type": "stream",
     "text": [
      "/tmp/ipykernel_241552/799502560.py:395: RuntimeWarning: There were no Annotations stored in <EpochsArray |  147 events (all good), -1 - 4 sec, baseline off, ~269.4 MB, data loaded,\n",
      " 'CpeOnset': 147>, so metadata was not modified.\n",
      "/tmp/ipykernel_241552/799502560.py:79: DeprecationWarning: Conversion of an array with ndim > 0 to a scalar is deprecated, and will error in future. Ensure you extract a single element from your array before performing this operation. (Deprecated NumPy 1.25.)\n"
     ]
    },
    {
     "name": "stdout",
     "output_type": "stream",
     "text": [
      "Computing surrogate # 94 - parallel\n",
      "Not setting metadata\n",
      "147 matching events found\n",
      "No baseline correction applied\n",
      "0 projection items activated\n"
     ]
    },
    {
     "name": "stderr",
     "output_type": "stream",
     "text": [
      "/tmp/ipykernel_241552/799502560.py:395: RuntimeWarning: There were no Annotations stored in <EpochsArray |  147 events (all good), -1 - 4 sec, baseline off, ~269.4 MB, data loaded,\n",
      " 'CpeOnset': 147>, so metadata was not modified.\n",
      "/tmp/ipykernel_241552/799502560.py:79: DeprecationWarning: Conversion of an array with ndim > 0 to a scalar is deprecated, and will error in future. Ensure you extract a single element from your array before performing this operation. (Deprecated NumPy 1.25.)\n"
     ]
    },
    {
     "name": "stdout",
     "output_type": "stream",
     "text": [
      "Computing surrogate # 95 - parallel\n",
      "Not setting metadata\n",
      "147 matching events found\n",
      "No baseline correction applied\n",
      "0 projection items activated\n"
     ]
    },
    {
     "name": "stderr",
     "output_type": "stream",
     "text": [
      "/tmp/ipykernel_241552/799502560.py:395: RuntimeWarning: There were no Annotations stored in <EpochsArray |  147 events (all good), -1 - 4 sec, baseline off, ~269.4 MB, data loaded,\n",
      " 'CpeOnset': 147>, so metadata was not modified.\n",
      "/tmp/ipykernel_241552/799502560.py:79: DeprecationWarning: Conversion of an array with ndim > 0 to a scalar is deprecated, and will error in future. Ensure you extract a single element from your array before performing this operation. (Deprecated NumPy 1.25.)\n"
     ]
    },
    {
     "name": "stdout",
     "output_type": "stream",
     "text": [
      "Computing surrogate # 96 - parallel\n",
      "Not setting metadata\n",
      "147 matching events found\n",
      "No baseline correction applied\n",
      "0 projection items activated\n"
     ]
    },
    {
     "name": "stderr",
     "output_type": "stream",
     "text": [
      "/tmp/ipykernel_241552/799502560.py:395: RuntimeWarning: There were no Annotations stored in <EpochsArray |  147 events (all good), -1 - 4 sec, baseline off, ~269.4 MB, data loaded,\n",
      " 'CpeOnset': 147>, so metadata was not modified.\n",
      "/tmp/ipykernel_241552/799502560.py:79: DeprecationWarning: Conversion of an array with ndim > 0 to a scalar is deprecated, and will error in future. Ensure you extract a single element from your array before performing this operation. (Deprecated NumPy 1.25.)\n"
     ]
    },
    {
     "name": "stdout",
     "output_type": "stream",
     "text": [
      "Computing surrogate # 97 - parallel\n",
      "Not setting metadata\n",
      "147 matching events found\n",
      "No baseline correction applied\n",
      "0 projection items activated\n"
     ]
    },
    {
     "name": "stderr",
     "output_type": "stream",
     "text": [
      "/tmp/ipykernel_241552/799502560.py:395: RuntimeWarning: There were no Annotations stored in <EpochsArray |  147 events (all good), -1 - 4 sec, baseline off, ~269.4 MB, data loaded,\n",
      " 'CpeOnset': 147>, so metadata was not modified.\n",
      "/tmp/ipykernel_241552/799502560.py:79: DeprecationWarning: Conversion of an array with ndim > 0 to a scalar is deprecated, and will error in future. Ensure you extract a single element from your array before performing this operation. (Deprecated NumPy 1.25.)\n"
     ]
    },
    {
     "name": "stdout",
     "output_type": "stream",
     "text": [
      "Computing surrogate # 98 - parallel\n",
      "Not setting metadata\n",
      "147 matching events found\n",
      "No baseline correction applied\n",
      "0 projection items activated\n"
     ]
    },
    {
     "name": "stderr",
     "output_type": "stream",
     "text": [
      "/tmp/ipykernel_241552/799502560.py:395: RuntimeWarning: There were no Annotations stored in <EpochsArray |  147 events (all good), -1 - 4 sec, baseline off, ~269.4 MB, data loaded,\n",
      " 'CpeOnset': 147>, so metadata was not modified.\n",
      "/tmp/ipykernel_241552/799502560.py:79: DeprecationWarning: Conversion of an array with ndim > 0 to a scalar is deprecated, and will error in future. Ensure you extract a single element from your array before performing this operation. (Deprecated NumPy 1.25.)\n"
     ]
    },
    {
     "name": "stdout",
     "output_type": "stream",
     "text": [
      "Computing surrogate # 99 - parallel\n",
      "Not setting metadata\n",
      "147 matching events found\n",
      "No baseline correction applied\n",
      "0 projection items activated\n"
     ]
    },
    {
     "name": "stderr",
     "output_type": "stream",
     "text": [
      "/tmp/ipykernel_241552/799502560.py:395: RuntimeWarning: There were no Annotations stored in <EpochsArray |  147 events (all good), -1 - 4 sec, baseline off, ~269.4 MB, data loaded,\n",
      " 'CpeOnset': 147>, so metadata was not modified.\n",
      "/tmp/ipykernel_241552/799502560.py:79: DeprecationWarning: Conversion of an array with ndim > 0 to a scalar is deprecated, and will error in future. Ensure you extract a single element from your array before performing this operation. (Deprecated NumPy 1.25.)\n"
     ]
    },
    {
     "name": "stdout",
     "output_type": "stream",
     "text": [
      "Computing surrogate # 100 - parallel\n",
      "Not setting metadata\n",
      "147 matching events found\n",
      "No baseline correction applied\n",
      "0 projection items activated\n"
     ]
    },
    {
     "name": "stderr",
     "output_type": "stream",
     "text": [
      "/tmp/ipykernel_241552/799502560.py:395: RuntimeWarning: There were no Annotations stored in <EpochsArray |  147 events (all good), -1 - 4 sec, baseline off, ~269.4 MB, data loaded,\n",
      " 'CpeOnset': 147>, so metadata was not modified.\n",
      "/tmp/ipykernel_241552/799502560.py:79: DeprecationWarning: Conversion of an array with ndim > 0 to a scalar is deprecated, and will error in future. Ensure you extract a single element from your array before performing this operation. (Deprecated NumPy 1.25.)\n"
     ]
    },
    {
     "name": "stdout",
     "output_type": "stream",
     "text": [
      "Computing surrogate # 101 - parallel\n",
      "Not setting metadata\n",
      "147 matching events found\n",
      "No baseline correction applied\n",
      "0 projection items activated\n"
     ]
    },
    {
     "name": "stderr",
     "output_type": "stream",
     "text": [
      "/tmp/ipykernel_241552/799502560.py:395: RuntimeWarning: There were no Annotations stored in <EpochsArray |  147 events (all good), -1 - 4 sec, baseline off, ~269.4 MB, data loaded,\n",
      " 'CpeOnset': 147>, so metadata was not modified.\n",
      "/tmp/ipykernel_241552/799502560.py:79: DeprecationWarning: Conversion of an array with ndim > 0 to a scalar is deprecated, and will error in future. Ensure you extract a single element from your array before performing this operation. (Deprecated NumPy 1.25.)\n"
     ]
    },
    {
     "name": "stdout",
     "output_type": "stream",
     "text": [
      "Computing surrogate # 102 - parallel\n",
      "Not setting metadata\n",
      "147 matching events found\n",
      "No baseline correction applied\n",
      "0 projection items activated\n"
     ]
    },
    {
     "name": "stderr",
     "output_type": "stream",
     "text": [
      "/tmp/ipykernel_241552/799502560.py:395: RuntimeWarning: There were no Annotations stored in <EpochsArray |  147 events (all good), -1 - 4 sec, baseline off, ~269.4 MB, data loaded,\n",
      " 'CpeOnset': 147>, so metadata was not modified.\n",
      "/tmp/ipykernel_241552/799502560.py:79: DeprecationWarning: Conversion of an array with ndim > 0 to a scalar is deprecated, and will error in future. Ensure you extract a single element from your array before performing this operation. (Deprecated NumPy 1.25.)\n"
     ]
    },
    {
     "name": "stdout",
     "output_type": "stream",
     "text": [
      "Computing surrogate # 103 - parallel\n",
      "Not setting metadata\n",
      "147 matching events found\n",
      "No baseline correction applied\n",
      "0 projection items activated\n"
     ]
    },
    {
     "name": "stderr",
     "output_type": "stream",
     "text": [
      "/tmp/ipykernel_241552/799502560.py:395: RuntimeWarning: There were no Annotations stored in <EpochsArray |  147 events (all good), -1 - 4 sec, baseline off, ~269.4 MB, data loaded,\n",
      " 'CpeOnset': 147>, so metadata was not modified.\n",
      "/tmp/ipykernel_241552/799502560.py:79: DeprecationWarning: Conversion of an array with ndim > 0 to a scalar is deprecated, and will error in future. Ensure you extract a single element from your array before performing this operation. (Deprecated NumPy 1.25.)\n"
     ]
    },
    {
     "name": "stdout",
     "output_type": "stream",
     "text": [
      "Computing surrogate # 104 - parallel\n",
      "Not setting metadata\n",
      "147 matching events found\n",
      "No baseline correction applied\n",
      "0 projection items activated\n"
     ]
    },
    {
     "name": "stderr",
     "output_type": "stream",
     "text": [
      "/tmp/ipykernel_241552/799502560.py:395: RuntimeWarning: There were no Annotations stored in <EpochsArray |  147 events (all good), -1 - 4 sec, baseline off, ~269.4 MB, data loaded,\n",
      " 'CpeOnset': 147>, so metadata was not modified.\n",
      "/tmp/ipykernel_241552/799502560.py:79: DeprecationWarning: Conversion of an array with ndim > 0 to a scalar is deprecated, and will error in future. Ensure you extract a single element from your array before performing this operation. (Deprecated NumPy 1.25.)\n"
     ]
    },
    {
     "name": "stdout",
     "output_type": "stream",
     "text": [
      "Computing surrogate # 105 - parallel\n",
      "Not setting metadata\n",
      "147 matching events found\n",
      "No baseline correction applied\n",
      "0 projection items activated\n"
     ]
    },
    {
     "name": "stderr",
     "output_type": "stream",
     "text": [
      "/tmp/ipykernel_241552/799502560.py:395: RuntimeWarning: There were no Annotations stored in <EpochsArray |  147 events (all good), -1 - 4 sec, baseline off, ~269.4 MB, data loaded,\n",
      " 'CpeOnset': 147>, so metadata was not modified.\n",
      "/tmp/ipykernel_241552/799502560.py:79: DeprecationWarning: Conversion of an array with ndim > 0 to a scalar is deprecated, and will error in future. Ensure you extract a single element from your array before performing this operation. (Deprecated NumPy 1.25.)\n"
     ]
    },
    {
     "name": "stdout",
     "output_type": "stream",
     "text": [
      "Computing surrogate # 106 - parallel\n",
      "Not setting metadata\n",
      "147 matching events found\n",
      "No baseline correction applied\n",
      "0 projection items activated\n"
     ]
    },
    {
     "name": "stderr",
     "output_type": "stream",
     "text": [
      "/tmp/ipykernel_241552/799502560.py:395: RuntimeWarning: There were no Annotations stored in <EpochsArray |  147 events (all good), -1 - 4 sec, baseline off, ~269.4 MB, data loaded,\n",
      " 'CpeOnset': 147>, so metadata was not modified.\n",
      "/tmp/ipykernel_241552/799502560.py:79: DeprecationWarning: Conversion of an array with ndim > 0 to a scalar is deprecated, and will error in future. Ensure you extract a single element from your array before performing this operation. (Deprecated NumPy 1.25.)\n"
     ]
    },
    {
     "name": "stdout",
     "output_type": "stream",
     "text": [
      "Computing surrogate # 107 - parallel\n",
      "Not setting metadata\n",
      "147 matching events found\n",
      "No baseline correction applied\n",
      "0 projection items activated\n"
     ]
    },
    {
     "name": "stderr",
     "output_type": "stream",
     "text": [
      "/tmp/ipykernel_241552/799502560.py:395: RuntimeWarning: There were no Annotations stored in <EpochsArray |  147 events (all good), -1 - 4 sec, baseline off, ~269.4 MB, data loaded,\n",
      " 'CpeOnset': 147>, so metadata was not modified.\n",
      "/tmp/ipykernel_241552/799502560.py:79: DeprecationWarning: Conversion of an array with ndim > 0 to a scalar is deprecated, and will error in future. Ensure you extract a single element from your array before performing this operation. (Deprecated NumPy 1.25.)\n"
     ]
    },
    {
     "name": "stdout",
     "output_type": "stream",
     "text": [
      "Computing surrogate # 108 - parallel\n",
      "Not setting metadata\n",
      "147 matching events found\n",
      "No baseline correction applied\n",
      "0 projection items activated\n"
     ]
    },
    {
     "name": "stderr",
     "output_type": "stream",
     "text": [
      "/tmp/ipykernel_241552/799502560.py:395: RuntimeWarning: There were no Annotations stored in <EpochsArray |  147 events (all good), -1 - 4 sec, baseline off, ~269.4 MB, data loaded,\n",
      " 'CpeOnset': 147>, so metadata was not modified.\n",
      "/tmp/ipykernel_241552/799502560.py:79: DeprecationWarning: Conversion of an array with ndim > 0 to a scalar is deprecated, and will error in future. Ensure you extract a single element from your array before performing this operation. (Deprecated NumPy 1.25.)\n"
     ]
    },
    {
     "name": "stdout",
     "output_type": "stream",
     "text": [
      "Computing surrogate # 109 - parallel\n",
      "Not setting metadata\n",
      "147 matching events found\n",
      "No baseline correction applied\n",
      "0 projection items activated\n"
     ]
    },
    {
     "name": "stderr",
     "output_type": "stream",
     "text": [
      "/tmp/ipykernel_241552/799502560.py:395: RuntimeWarning: There were no Annotations stored in <EpochsArray |  147 events (all good), -1 - 4 sec, baseline off, ~269.4 MB, data loaded,\n",
      " 'CpeOnset': 147>, so metadata was not modified.\n",
      "/tmp/ipykernel_241552/799502560.py:79: DeprecationWarning: Conversion of an array with ndim > 0 to a scalar is deprecated, and will error in future. Ensure you extract a single element from your array before performing this operation. (Deprecated NumPy 1.25.)\n"
     ]
    },
    {
     "name": "stdout",
     "output_type": "stream",
     "text": [
      "Computing surrogate # 110 - parallel\n",
      "Not setting metadata\n",
      "147 matching events found\n",
      "No baseline correction applied\n",
      "0 projection items activated\n"
     ]
    },
    {
     "name": "stderr",
     "output_type": "stream",
     "text": [
      "/tmp/ipykernel_241552/799502560.py:395: RuntimeWarning: There were no Annotations stored in <EpochsArray |  147 events (all good), -1 - 4 sec, baseline off, ~269.4 MB, data loaded,\n",
      " 'CpeOnset': 147>, so metadata was not modified.\n",
      "/tmp/ipykernel_241552/799502560.py:79: DeprecationWarning: Conversion of an array with ndim > 0 to a scalar is deprecated, and will error in future. Ensure you extract a single element from your array before performing this operation. (Deprecated NumPy 1.25.)\n"
     ]
    },
    {
     "name": "stdout",
     "output_type": "stream",
     "text": [
      "Computing surrogate # 111 - parallel\n",
      "Not setting metadata\n",
      "147 matching events found\n",
      "No baseline correction applied\n",
      "0 projection items activated\n"
     ]
    },
    {
     "name": "stderr",
     "output_type": "stream",
     "text": [
      "/tmp/ipykernel_241552/799502560.py:395: RuntimeWarning: There were no Annotations stored in <EpochsArray |  147 events (all good), -1 - 4 sec, baseline off, ~269.4 MB, data loaded,\n",
      " 'CpeOnset': 147>, so metadata was not modified.\n",
      "/tmp/ipykernel_241552/799502560.py:79: DeprecationWarning: Conversion of an array with ndim > 0 to a scalar is deprecated, and will error in future. Ensure you extract a single element from your array before performing this operation. (Deprecated NumPy 1.25.)\n"
     ]
    },
    {
     "name": "stdout",
     "output_type": "stream",
     "text": [
      "Computing surrogate # 112 - parallel\n",
      "Not setting metadata\n",
      "147 matching events found\n",
      "No baseline correction applied\n",
      "0 projection items activated\n"
     ]
    },
    {
     "name": "stderr",
     "output_type": "stream",
     "text": [
      "/tmp/ipykernel_241552/799502560.py:395: RuntimeWarning: There were no Annotations stored in <EpochsArray |  147 events (all good), -1 - 4 sec, baseline off, ~269.4 MB, data loaded,\n",
      " 'CpeOnset': 147>, so metadata was not modified.\n",
      "/tmp/ipykernel_241552/799502560.py:79: DeprecationWarning: Conversion of an array with ndim > 0 to a scalar is deprecated, and will error in future. Ensure you extract a single element from your array before performing this operation. (Deprecated NumPy 1.25.)\n"
     ]
    },
    {
     "name": "stdout",
     "output_type": "stream",
     "text": [
      "Computing surrogate # 113 - parallel\n",
      "Not setting metadata\n",
      "147 matching events found\n",
      "No baseline correction applied\n",
      "0 projection items activated\n"
     ]
    },
    {
     "name": "stderr",
     "output_type": "stream",
     "text": [
      "/tmp/ipykernel_241552/799502560.py:395: RuntimeWarning: There were no Annotations stored in <EpochsArray |  147 events (all good), -1 - 4 sec, baseline off, ~269.4 MB, data loaded,\n",
      " 'CpeOnset': 147>, so metadata was not modified.\n",
      "/tmp/ipykernel_241552/799502560.py:79: DeprecationWarning: Conversion of an array with ndim > 0 to a scalar is deprecated, and will error in future. Ensure you extract a single element from your array before performing this operation. (Deprecated NumPy 1.25.)\n"
     ]
    },
    {
     "name": "stdout",
     "output_type": "stream",
     "text": [
      "Computing surrogate # 114 - parallel\n",
      "Not setting metadata\n",
      "147 matching events found\n",
      "No baseline correction applied\n",
      "0 projection items activated\n"
     ]
    },
    {
     "name": "stderr",
     "output_type": "stream",
     "text": [
      "/tmp/ipykernel_241552/799502560.py:395: RuntimeWarning: There were no Annotations stored in <EpochsArray |  147 events (all good), -1 - 4 sec, baseline off, ~269.4 MB, data loaded,\n",
      " 'CpeOnset': 147>, so metadata was not modified.\n",
      "/tmp/ipykernel_241552/799502560.py:79: DeprecationWarning: Conversion of an array with ndim > 0 to a scalar is deprecated, and will error in future. Ensure you extract a single element from your array before performing this operation. (Deprecated NumPy 1.25.)\n"
     ]
    },
    {
     "name": "stdout",
     "output_type": "stream",
     "text": [
      "Computing surrogate # 115 - parallel\n",
      "Not setting metadata\n",
      "147 matching events found\n",
      "No baseline correction applied\n",
      "0 projection items activated\n"
     ]
    },
    {
     "name": "stderr",
     "output_type": "stream",
     "text": [
      "/tmp/ipykernel_241552/799502560.py:395: RuntimeWarning: There were no Annotations stored in <EpochsArray |  147 events (all good), -1 - 4 sec, baseline off, ~269.4 MB, data loaded,\n",
      " 'CpeOnset': 147>, so metadata was not modified.\n",
      "/tmp/ipykernel_241552/799502560.py:79: DeprecationWarning: Conversion of an array with ndim > 0 to a scalar is deprecated, and will error in future. Ensure you extract a single element from your array before performing this operation. (Deprecated NumPy 1.25.)\n"
     ]
    },
    {
     "name": "stdout",
     "output_type": "stream",
     "text": [
      "Computing surrogate # 116 - parallel\n",
      "Not setting metadata\n",
      "147 matching events found\n",
      "No baseline correction applied\n",
      "0 projection items activated\n"
     ]
    },
    {
     "name": "stderr",
     "output_type": "stream",
     "text": [
      "/tmp/ipykernel_241552/799502560.py:395: RuntimeWarning: There were no Annotations stored in <EpochsArray |  147 events (all good), -1 - 4 sec, baseline off, ~269.4 MB, data loaded,\n",
      " 'CpeOnset': 147>, so metadata was not modified.\n",
      "/tmp/ipykernel_241552/799502560.py:79: DeprecationWarning: Conversion of an array with ndim > 0 to a scalar is deprecated, and will error in future. Ensure you extract a single element from your array before performing this operation. (Deprecated NumPy 1.25.)\n"
     ]
    },
    {
     "name": "stdout",
     "output_type": "stream",
     "text": [
      "Computing surrogate # 117 - parallel\n",
      "Not setting metadata\n",
      "147 matching events found\n",
      "No baseline correction applied\n",
      "0 projection items activated\n"
     ]
    },
    {
     "name": "stderr",
     "output_type": "stream",
     "text": [
      "/tmp/ipykernel_241552/799502560.py:395: RuntimeWarning: There were no Annotations stored in <EpochsArray |  147 events (all good), -1 - 4 sec, baseline off, ~269.4 MB, data loaded,\n",
      " 'CpeOnset': 147>, so metadata was not modified.\n",
      "/tmp/ipykernel_241552/799502560.py:79: DeprecationWarning: Conversion of an array with ndim > 0 to a scalar is deprecated, and will error in future. Ensure you extract a single element from your array before performing this operation. (Deprecated NumPy 1.25.)\n"
     ]
    },
    {
     "name": "stdout",
     "output_type": "stream",
     "text": [
      "Computing surrogate # 118 - parallel\n",
      "Not setting metadata\n",
      "147 matching events found\n",
      "No baseline correction applied\n",
      "0 projection items activated\n"
     ]
    },
    {
     "name": "stderr",
     "output_type": "stream",
     "text": [
      "/tmp/ipykernel_241552/799502560.py:395: RuntimeWarning: There were no Annotations stored in <EpochsArray |  147 events (all good), -1 - 4 sec, baseline off, ~269.4 MB, data loaded,\n",
      " 'CpeOnset': 147>, so metadata was not modified.\n",
      "/tmp/ipykernel_241552/799502560.py:79: DeprecationWarning: Conversion of an array with ndim > 0 to a scalar is deprecated, and will error in future. Ensure you extract a single element from your array before performing this operation. (Deprecated NumPy 1.25.)\n"
     ]
    },
    {
     "name": "stdout",
     "output_type": "stream",
     "text": [
      "Computing surrogate # 119 - parallel\n",
      "Not setting metadata\n",
      "147 matching events found\n",
      "No baseline correction applied\n",
      "0 projection items activated\n"
     ]
    },
    {
     "name": "stderr",
     "output_type": "stream",
     "text": [
      "/tmp/ipykernel_241552/799502560.py:395: RuntimeWarning: There were no Annotations stored in <EpochsArray |  147 events (all good), -1 - 4 sec, baseline off, ~269.4 MB, data loaded,\n",
      " 'CpeOnset': 147>, so metadata was not modified.\n",
      "/tmp/ipykernel_241552/799502560.py:79: DeprecationWarning: Conversion of an array with ndim > 0 to a scalar is deprecated, and will error in future. Ensure you extract a single element from your array before performing this operation. (Deprecated NumPy 1.25.)\n"
     ]
    },
    {
     "name": "stdout",
     "output_type": "stream",
     "text": [
      "Computing surrogate # 120 - parallel\n",
      "Not setting metadata\n",
      "147 matching events found\n",
      "No baseline correction applied\n",
      "0 projection items activated\n"
     ]
    },
    {
     "name": "stderr",
     "output_type": "stream",
     "text": [
      "/tmp/ipykernel_241552/799502560.py:395: RuntimeWarning: There were no Annotations stored in <EpochsArray |  147 events (all good), -1 - 4 sec, baseline off, ~269.4 MB, data loaded,\n",
      " 'CpeOnset': 147>, so metadata was not modified.\n",
      "/tmp/ipykernel_241552/799502560.py:79: DeprecationWarning: Conversion of an array with ndim > 0 to a scalar is deprecated, and will error in future. Ensure you extract a single element from your array before performing this operation. (Deprecated NumPy 1.25.)\n"
     ]
    },
    {
     "name": "stdout",
     "output_type": "stream",
     "text": [
      "Computing surrogate # 121 - parallel\n",
      "Not setting metadata\n",
      "147 matching events found\n",
      "No baseline correction applied\n",
      "0 projection items activated\n"
     ]
    },
    {
     "name": "stderr",
     "output_type": "stream",
     "text": [
      "/tmp/ipykernel_241552/799502560.py:395: RuntimeWarning: There were no Annotations stored in <EpochsArray |  147 events (all good), -1 - 4 sec, baseline off, ~269.4 MB, data loaded,\n",
      " 'CpeOnset': 147>, so metadata was not modified.\n",
      "/tmp/ipykernel_241552/799502560.py:79: DeprecationWarning: Conversion of an array with ndim > 0 to a scalar is deprecated, and will error in future. Ensure you extract a single element from your array before performing this operation. (Deprecated NumPy 1.25.)\n"
     ]
    },
    {
     "name": "stdout",
     "output_type": "stream",
     "text": [
      "Computing surrogate # 122 - parallel\n",
      "Not setting metadata\n",
      "147 matching events found\n",
      "No baseline correction applied\n",
      "0 projection items activated\n"
     ]
    },
    {
     "name": "stderr",
     "output_type": "stream",
     "text": [
      "/tmp/ipykernel_241552/799502560.py:395: RuntimeWarning: There were no Annotations stored in <EpochsArray |  147 events (all good), -1 - 4 sec, baseline off, ~269.4 MB, data loaded,\n",
      " 'CpeOnset': 147>, so metadata was not modified.\n",
      "/tmp/ipykernel_241552/799502560.py:79: DeprecationWarning: Conversion of an array with ndim > 0 to a scalar is deprecated, and will error in future. Ensure you extract a single element from your array before performing this operation. (Deprecated NumPy 1.25.)\n"
     ]
    },
    {
     "name": "stdout",
     "output_type": "stream",
     "text": [
      "Computing surrogate # 123 - parallel\n",
      "Not setting metadata\n",
      "147 matching events found\n",
      "No baseline correction applied\n",
      "0 projection items activated\n"
     ]
    },
    {
     "name": "stderr",
     "output_type": "stream",
     "text": [
      "/tmp/ipykernel_241552/799502560.py:395: RuntimeWarning: There were no Annotations stored in <EpochsArray |  147 events (all good), -1 - 4 sec, baseline off, ~269.4 MB, data loaded,\n",
      " 'CpeOnset': 147>, so metadata was not modified.\n",
      "/tmp/ipykernel_241552/799502560.py:79: DeprecationWarning: Conversion of an array with ndim > 0 to a scalar is deprecated, and will error in future. Ensure you extract a single element from your array before performing this operation. (Deprecated NumPy 1.25.)\n"
     ]
    },
    {
     "name": "stdout",
     "output_type": "stream",
     "text": [
      "Computing surrogate # 124 - parallel\n",
      "Not setting metadata\n",
      "147 matching events found\n",
      "No baseline correction applied\n",
      "0 projection items activated\n"
     ]
    },
    {
     "name": "stderr",
     "output_type": "stream",
     "text": [
      "/tmp/ipykernel_241552/799502560.py:395: RuntimeWarning: There were no Annotations stored in <EpochsArray |  147 events (all good), -1 - 4 sec, baseline off, ~269.4 MB, data loaded,\n",
      " 'CpeOnset': 147>, so metadata was not modified.\n",
      "/tmp/ipykernel_241552/799502560.py:79: DeprecationWarning: Conversion of an array with ndim > 0 to a scalar is deprecated, and will error in future. Ensure you extract a single element from your array before performing this operation. (Deprecated NumPy 1.25.)\n"
     ]
    },
    {
     "name": "stdout",
     "output_type": "stream",
     "text": [
      "Computing surrogate # 125 - parallel\n",
      "Not setting metadata\n",
      "147 matching events found\n",
      "No baseline correction applied\n",
      "0 projection items activated\n"
     ]
    },
    {
     "name": "stderr",
     "output_type": "stream",
     "text": [
      "/tmp/ipykernel_241552/799502560.py:395: RuntimeWarning: There were no Annotations stored in <EpochsArray |  147 events (all good), -1 - 4 sec, baseline off, ~269.4 MB, data loaded,\n",
      " 'CpeOnset': 147>, so metadata was not modified.\n",
      "/tmp/ipykernel_241552/799502560.py:79: DeprecationWarning: Conversion of an array with ndim > 0 to a scalar is deprecated, and will error in future. Ensure you extract a single element from your array before performing this operation. (Deprecated NumPy 1.25.)\n"
     ]
    },
    {
     "name": "stdout",
     "output_type": "stream",
     "text": [
      "Computing surrogate # 126 - parallel\n",
      "Not setting metadata\n",
      "147 matching events found\n",
      "No baseline correction applied\n",
      "0 projection items activated\n"
     ]
    },
    {
     "name": "stderr",
     "output_type": "stream",
     "text": [
      "/tmp/ipykernel_241552/799502560.py:395: RuntimeWarning: There were no Annotations stored in <EpochsArray |  147 events (all good), -1 - 4 sec, baseline off, ~269.4 MB, data loaded,\n",
      " 'CpeOnset': 147>, so metadata was not modified.\n",
      "/tmp/ipykernel_241552/799502560.py:79: DeprecationWarning: Conversion of an array with ndim > 0 to a scalar is deprecated, and will error in future. Ensure you extract a single element from your array before performing this operation. (Deprecated NumPy 1.25.)\n"
     ]
    },
    {
     "name": "stdout",
     "output_type": "stream",
     "text": [
      "Computing surrogate # 127 - parallel\n",
      "Not setting metadata\n",
      "147 matching events found\n",
      "No baseline correction applied\n",
      "0 projection items activated\n"
     ]
    },
    {
     "name": "stderr",
     "output_type": "stream",
     "text": [
      "/tmp/ipykernel_241552/799502560.py:395: RuntimeWarning: There were no Annotations stored in <EpochsArray |  147 events (all good), -1 - 4 sec, baseline off, ~269.4 MB, data loaded,\n",
      " 'CpeOnset': 147>, so metadata was not modified.\n",
      "/tmp/ipykernel_241552/799502560.py:79: DeprecationWarning: Conversion of an array with ndim > 0 to a scalar is deprecated, and will error in future. Ensure you extract a single element from your array before performing this operation. (Deprecated NumPy 1.25.)\n"
     ]
    },
    {
     "name": "stdout",
     "output_type": "stream",
     "text": [
      "Computing surrogate # 128 - parallel\n",
      "Not setting metadata\n",
      "147 matching events found\n",
      "No baseline correction applied\n",
      "0 projection items activated\n"
     ]
    },
    {
     "name": "stderr",
     "output_type": "stream",
     "text": [
      "/tmp/ipykernel_241552/799502560.py:395: RuntimeWarning: There were no Annotations stored in <EpochsArray |  147 events (all good), -1 - 4 sec, baseline off, ~269.4 MB, data loaded,\n",
      " 'CpeOnset': 147>, so metadata was not modified.\n",
      "/tmp/ipykernel_241552/799502560.py:79: DeprecationWarning: Conversion of an array with ndim > 0 to a scalar is deprecated, and will error in future. Ensure you extract a single element from your array before performing this operation. (Deprecated NumPy 1.25.)\n"
     ]
    },
    {
     "name": "stdout",
     "output_type": "stream",
     "text": [
      "Computing surrogate # 129 - parallel\n",
      "Not setting metadata\n",
      "147 matching events found\n",
      "No baseline correction applied\n",
      "0 projection items activated\n"
     ]
    },
    {
     "name": "stderr",
     "output_type": "stream",
     "text": [
      "/tmp/ipykernel_241552/799502560.py:395: RuntimeWarning: There were no Annotations stored in <EpochsArray |  147 events (all good), -1 - 4 sec, baseline off, ~269.4 MB, data loaded,\n",
      " 'CpeOnset': 147>, so metadata was not modified.\n",
      "/tmp/ipykernel_241552/799502560.py:79: DeprecationWarning: Conversion of an array with ndim > 0 to a scalar is deprecated, and will error in future. Ensure you extract a single element from your array before performing this operation. (Deprecated NumPy 1.25.)\n"
     ]
    },
    {
     "name": "stdout",
     "output_type": "stream",
     "text": [
      "Computing surrogate # 130 - parallel\n",
      "Not setting metadata\n",
      "147 matching events found\n",
      "No baseline correction applied\n",
      "0 projection items activated\n"
     ]
    },
    {
     "name": "stderr",
     "output_type": "stream",
     "text": [
      "/tmp/ipykernel_241552/799502560.py:395: RuntimeWarning: There were no Annotations stored in <EpochsArray |  147 events (all good), -1 - 4 sec, baseline off, ~269.4 MB, data loaded,\n",
      " 'CpeOnset': 147>, so metadata was not modified.\n",
      "/tmp/ipykernel_241552/799502560.py:79: DeprecationWarning: Conversion of an array with ndim > 0 to a scalar is deprecated, and will error in future. Ensure you extract a single element from your array before performing this operation. (Deprecated NumPy 1.25.)\n"
     ]
    },
    {
     "name": "stdout",
     "output_type": "stream",
     "text": [
      "Computing surrogate # 131 - parallel\n",
      "Not setting metadata\n",
      "147 matching events found\n",
      "No baseline correction applied\n",
      "0 projection items activated\n"
     ]
    },
    {
     "name": "stderr",
     "output_type": "stream",
     "text": [
      "/tmp/ipykernel_241552/799502560.py:395: RuntimeWarning: There were no Annotations stored in <EpochsArray |  147 events (all good), -1 - 4 sec, baseline off, ~269.4 MB, data loaded,\n",
      " 'CpeOnset': 147>, so metadata was not modified.\n",
      "/tmp/ipykernel_241552/799502560.py:79: DeprecationWarning: Conversion of an array with ndim > 0 to a scalar is deprecated, and will error in future. Ensure you extract a single element from your array before performing this operation. (Deprecated NumPy 1.25.)\n"
     ]
    },
    {
     "name": "stdout",
     "output_type": "stream",
     "text": [
      "Computing surrogate # 132 - parallel\n",
      "Not setting metadata\n",
      "147 matching events found\n",
      "No baseline correction applied\n",
      "0 projection items activated\n"
     ]
    },
    {
     "name": "stderr",
     "output_type": "stream",
     "text": [
      "/tmp/ipykernel_241552/799502560.py:395: RuntimeWarning: There were no Annotations stored in <EpochsArray |  147 events (all good), -1 - 4 sec, baseline off, ~269.4 MB, data loaded,\n",
      " 'CpeOnset': 147>, so metadata was not modified.\n",
      "/tmp/ipykernel_241552/799502560.py:79: DeprecationWarning: Conversion of an array with ndim > 0 to a scalar is deprecated, and will error in future. Ensure you extract a single element from your array before performing this operation. (Deprecated NumPy 1.25.)\n"
     ]
    },
    {
     "name": "stdout",
     "output_type": "stream",
     "text": [
      "Computing surrogate # 133 - parallel\n",
      "Not setting metadata\n",
      "147 matching events found\n",
      "No baseline correction applied\n",
      "0 projection items activated\n"
     ]
    },
    {
     "name": "stderr",
     "output_type": "stream",
     "text": [
      "/tmp/ipykernel_241552/799502560.py:395: RuntimeWarning: There were no Annotations stored in <EpochsArray |  147 events (all good), -1 - 4 sec, baseline off, ~269.4 MB, data loaded,\n",
      " 'CpeOnset': 147>, so metadata was not modified.\n",
      "/tmp/ipykernel_241552/799502560.py:79: DeprecationWarning: Conversion of an array with ndim > 0 to a scalar is deprecated, and will error in future. Ensure you extract a single element from your array before performing this operation. (Deprecated NumPy 1.25.)\n"
     ]
    },
    {
     "name": "stdout",
     "output_type": "stream",
     "text": [
      "Computing surrogate # 134 - parallel\n",
      "Not setting metadata\n",
      "147 matching events found\n",
      "No baseline correction applied\n",
      "0 projection items activated\n"
     ]
    },
    {
     "name": "stderr",
     "output_type": "stream",
     "text": [
      "/tmp/ipykernel_241552/799502560.py:395: RuntimeWarning: There were no Annotations stored in <EpochsArray |  147 events (all good), -1 - 4 sec, baseline off, ~269.4 MB, data loaded,\n",
      " 'CpeOnset': 147>, so metadata was not modified.\n",
      "/tmp/ipykernel_241552/799502560.py:79: DeprecationWarning: Conversion of an array with ndim > 0 to a scalar is deprecated, and will error in future. Ensure you extract a single element from your array before performing this operation. (Deprecated NumPy 1.25.)\n"
     ]
    },
    {
     "name": "stdout",
     "output_type": "stream",
     "text": [
      "Computing surrogate # 135 - parallel\n",
      "Not setting metadata\n",
      "147 matching events found\n",
      "No baseline correction applied\n",
      "0 projection items activated\n"
     ]
    },
    {
     "name": "stderr",
     "output_type": "stream",
     "text": [
      "/tmp/ipykernel_241552/799502560.py:395: RuntimeWarning: There were no Annotations stored in <EpochsArray |  147 events (all good), -1 - 4 sec, baseline off, ~269.4 MB, data loaded,\n",
      " 'CpeOnset': 147>, so metadata was not modified.\n",
      "/tmp/ipykernel_241552/799502560.py:79: DeprecationWarning: Conversion of an array with ndim > 0 to a scalar is deprecated, and will error in future. Ensure you extract a single element from your array before performing this operation. (Deprecated NumPy 1.25.)\n"
     ]
    },
    {
     "name": "stdout",
     "output_type": "stream",
     "text": [
      "Computing surrogate # 136 - parallel\n",
      "Not setting metadata\n",
      "147 matching events found\n",
      "No baseline correction applied\n",
      "0 projection items activated\n"
     ]
    },
    {
     "name": "stderr",
     "output_type": "stream",
     "text": [
      "/tmp/ipykernel_241552/799502560.py:395: RuntimeWarning: There were no Annotations stored in <EpochsArray |  147 events (all good), -1 - 4 sec, baseline off, ~269.4 MB, data loaded,\n",
      " 'CpeOnset': 147>, so metadata was not modified.\n",
      "/tmp/ipykernel_241552/799502560.py:79: DeprecationWarning: Conversion of an array with ndim > 0 to a scalar is deprecated, and will error in future. Ensure you extract a single element from your array before performing this operation. (Deprecated NumPy 1.25.)\n"
     ]
    },
    {
     "name": "stdout",
     "output_type": "stream",
     "text": [
      "Computing surrogate # 137 - parallel\n",
      "Not setting metadata\n",
      "147 matching events found\n",
      "No baseline correction applied\n",
      "0 projection items activated\n"
     ]
    },
    {
     "name": "stderr",
     "output_type": "stream",
     "text": [
      "/tmp/ipykernel_241552/799502560.py:395: RuntimeWarning: There were no Annotations stored in <EpochsArray |  147 events (all good), -1 - 4 sec, baseline off, ~269.4 MB, data loaded,\n",
      " 'CpeOnset': 147>, so metadata was not modified.\n",
      "/tmp/ipykernel_241552/799502560.py:79: DeprecationWarning: Conversion of an array with ndim > 0 to a scalar is deprecated, and will error in future. Ensure you extract a single element from your array before performing this operation. (Deprecated NumPy 1.25.)\n"
     ]
    },
    {
     "name": "stdout",
     "output_type": "stream",
     "text": [
      "Computing surrogate # 138 - parallel\n",
      "Not setting metadata\n",
      "147 matching events found\n",
      "No baseline correction applied\n",
      "0 projection items activated\n"
     ]
    },
    {
     "name": "stderr",
     "output_type": "stream",
     "text": [
      "/tmp/ipykernel_241552/799502560.py:395: RuntimeWarning: There were no Annotations stored in <EpochsArray |  147 events (all good), -1 - 4 sec, baseline off, ~269.4 MB, data loaded,\n",
      " 'CpeOnset': 147>, so metadata was not modified.\n",
      "/tmp/ipykernel_241552/799502560.py:79: DeprecationWarning: Conversion of an array with ndim > 0 to a scalar is deprecated, and will error in future. Ensure you extract a single element from your array before performing this operation. (Deprecated NumPy 1.25.)\n"
     ]
    },
    {
     "name": "stdout",
     "output_type": "stream",
     "text": [
      "Computing surrogate # 139 - parallel\n",
      "Not setting metadata\n",
      "147 matching events found\n",
      "No baseline correction applied\n",
      "0 projection items activated\n"
     ]
    },
    {
     "name": "stderr",
     "output_type": "stream",
     "text": [
      "/tmp/ipykernel_241552/799502560.py:395: RuntimeWarning: There were no Annotations stored in <EpochsArray |  147 events (all good), -1 - 4 sec, baseline off, ~269.4 MB, data loaded,\n",
      " 'CpeOnset': 147>, so metadata was not modified.\n",
      "/tmp/ipykernel_241552/799502560.py:79: DeprecationWarning: Conversion of an array with ndim > 0 to a scalar is deprecated, and will error in future. Ensure you extract a single element from your array before performing this operation. (Deprecated NumPy 1.25.)\n"
     ]
    },
    {
     "name": "stdout",
     "output_type": "stream",
     "text": [
      "Computing surrogate # 140 - parallel\n",
      "Not setting metadata\n",
      "147 matching events found\n",
      "No baseline correction applied\n",
      "0 projection items activated\n"
     ]
    },
    {
     "name": "stderr",
     "output_type": "stream",
     "text": [
      "/tmp/ipykernel_241552/799502560.py:395: RuntimeWarning: There were no Annotations stored in <EpochsArray |  147 events (all good), -1 - 4 sec, baseline off, ~269.4 MB, data loaded,\n",
      " 'CpeOnset': 147>, so metadata was not modified.\n",
      "/tmp/ipykernel_241552/799502560.py:79: DeprecationWarning: Conversion of an array with ndim > 0 to a scalar is deprecated, and will error in future. Ensure you extract a single element from your array before performing this operation. (Deprecated NumPy 1.25.)\n"
     ]
    },
    {
     "name": "stdout",
     "output_type": "stream",
     "text": [
      "Computing surrogate # 141 - parallel\n",
      "Not setting metadata\n",
      "147 matching events found\n",
      "No baseline correction applied\n",
      "0 projection items activated\n"
     ]
    },
    {
     "name": "stderr",
     "output_type": "stream",
     "text": [
      "/tmp/ipykernel_241552/799502560.py:395: RuntimeWarning: There were no Annotations stored in <EpochsArray |  147 events (all good), -1 - 4 sec, baseline off, ~269.4 MB, data loaded,\n",
      " 'CpeOnset': 147>, so metadata was not modified.\n",
      "/tmp/ipykernel_241552/799502560.py:79: DeprecationWarning: Conversion of an array with ndim > 0 to a scalar is deprecated, and will error in future. Ensure you extract a single element from your array before performing this operation. (Deprecated NumPy 1.25.)\n"
     ]
    },
    {
     "name": "stdout",
     "output_type": "stream",
     "text": [
      "Computing surrogate # 142 - parallel\n",
      "Not setting metadata\n",
      "147 matching events found\n",
      "No baseline correction applied\n",
      "0 projection items activated\n"
     ]
    },
    {
     "name": "stderr",
     "output_type": "stream",
     "text": [
      "/tmp/ipykernel_241552/799502560.py:395: RuntimeWarning: There were no Annotations stored in <EpochsArray |  147 events (all good), -1 - 4 sec, baseline off, ~269.4 MB, data loaded,\n",
      " 'CpeOnset': 147>, so metadata was not modified.\n",
      "/tmp/ipykernel_241552/799502560.py:79: DeprecationWarning: Conversion of an array with ndim > 0 to a scalar is deprecated, and will error in future. Ensure you extract a single element from your array before performing this operation. (Deprecated NumPy 1.25.)\n"
     ]
    },
    {
     "name": "stdout",
     "output_type": "stream",
     "text": [
      "Computing surrogate # 143 - parallel\n",
      "Not setting metadata\n",
      "147 matching events found\n",
      "No baseline correction applied\n",
      "0 projection items activated\n"
     ]
    },
    {
     "name": "stderr",
     "output_type": "stream",
     "text": [
      "/tmp/ipykernel_241552/799502560.py:395: RuntimeWarning: There were no Annotations stored in <EpochsArray |  147 events (all good), -1 - 4 sec, baseline off, ~269.4 MB, data loaded,\n",
      " 'CpeOnset': 147>, so metadata was not modified.\n",
      "/tmp/ipykernel_241552/799502560.py:79: DeprecationWarning: Conversion of an array with ndim > 0 to a scalar is deprecated, and will error in future. Ensure you extract a single element from your array before performing this operation. (Deprecated NumPy 1.25.)\n"
     ]
    },
    {
     "name": "stdout",
     "output_type": "stream",
     "text": [
      "Computing surrogate # 144 - parallel\n",
      "Not setting metadata\n",
      "147 matching events found\n",
      "No baseline correction applied\n",
      "0 projection items activated\n"
     ]
    },
    {
     "name": "stderr",
     "output_type": "stream",
     "text": [
      "/tmp/ipykernel_241552/799502560.py:395: RuntimeWarning: There were no Annotations stored in <EpochsArray |  147 events (all good), -1 - 4 sec, baseline off, ~269.4 MB, data loaded,\n",
      " 'CpeOnset': 147>, so metadata was not modified.\n",
      "/tmp/ipykernel_241552/799502560.py:79: DeprecationWarning: Conversion of an array with ndim > 0 to a scalar is deprecated, and will error in future. Ensure you extract a single element from your array before performing this operation. (Deprecated NumPy 1.25.)\n"
     ]
    },
    {
     "name": "stdout",
     "output_type": "stream",
     "text": [
      "Computing surrogate # 145 - parallel\n",
      "Not setting metadata\n",
      "147 matching events found\n",
      "No baseline correction applied\n",
      "0 projection items activated\n"
     ]
    },
    {
     "name": "stderr",
     "output_type": "stream",
     "text": [
      "/tmp/ipykernel_241552/799502560.py:395: RuntimeWarning: There were no Annotations stored in <EpochsArray |  147 events (all good), -1 - 4 sec, baseline off, ~269.4 MB, data loaded,\n",
      " 'CpeOnset': 147>, so metadata was not modified.\n",
      "/tmp/ipykernel_241552/799502560.py:79: DeprecationWarning: Conversion of an array with ndim > 0 to a scalar is deprecated, and will error in future. Ensure you extract a single element from your array before performing this operation. (Deprecated NumPy 1.25.)\n"
     ]
    },
    {
     "name": "stdout",
     "output_type": "stream",
     "text": [
      "Computing surrogate # 146 - parallel\n",
      "Not setting metadata\n",
      "147 matching events found\n",
      "No baseline correction applied\n",
      "0 projection items activated\n"
     ]
    },
    {
     "name": "stderr",
     "output_type": "stream",
     "text": [
      "/tmp/ipykernel_241552/799502560.py:395: RuntimeWarning: There were no Annotations stored in <EpochsArray |  147 events (all good), -1 - 4 sec, baseline off, ~269.4 MB, data loaded,\n",
      " 'CpeOnset': 147>, so metadata was not modified.\n",
      "/tmp/ipykernel_241552/799502560.py:79: DeprecationWarning: Conversion of an array with ndim > 0 to a scalar is deprecated, and will error in future. Ensure you extract a single element from your array before performing this operation. (Deprecated NumPy 1.25.)\n"
     ]
    },
    {
     "name": "stdout",
     "output_type": "stream",
     "text": [
      "Computing surrogate # 147 - parallel\n",
      "Not setting metadata\n",
      "147 matching events found\n",
      "No baseline correction applied\n",
      "0 projection items activated\n"
     ]
    },
    {
     "name": "stderr",
     "output_type": "stream",
     "text": [
      "/tmp/ipykernel_241552/799502560.py:395: RuntimeWarning: There were no Annotations stored in <EpochsArray |  147 events (all good), -1 - 4 sec, baseline off, ~269.4 MB, data loaded,\n",
      " 'CpeOnset': 147>, so metadata was not modified.\n",
      "/tmp/ipykernel_241552/799502560.py:79: DeprecationWarning: Conversion of an array with ndim > 0 to a scalar is deprecated, and will error in future. Ensure you extract a single element from your array before performing this operation. (Deprecated NumPy 1.25.)\n"
     ]
    },
    {
     "name": "stdout",
     "output_type": "stream",
     "text": [
      "Computing surrogate # 148 - parallel\n",
      "Not setting metadata\n",
      "147 matching events found\n",
      "No baseline correction applied\n",
      "0 projection items activated\n"
     ]
    },
    {
     "name": "stderr",
     "output_type": "stream",
     "text": [
      "/tmp/ipykernel_241552/799502560.py:395: RuntimeWarning: There were no Annotations stored in <EpochsArray |  147 events (all good), -1 - 4 sec, baseline off, ~269.4 MB, data loaded,\n",
      " 'CpeOnset': 147>, so metadata was not modified.\n",
      "/tmp/ipykernel_241552/799502560.py:79: DeprecationWarning: Conversion of an array with ndim > 0 to a scalar is deprecated, and will error in future. Ensure you extract a single element from your array before performing this operation. (Deprecated NumPy 1.25.)\n"
     ]
    },
    {
     "name": "stdout",
     "output_type": "stream",
     "text": [
      "Computing surrogate # 149 - parallel\n",
      "Not setting metadata\n",
      "147 matching events found\n",
      "No baseline correction applied\n",
      "0 projection items activated\n"
     ]
    },
    {
     "name": "stderr",
     "output_type": "stream",
     "text": [
      "/tmp/ipykernel_241552/799502560.py:395: RuntimeWarning: There were no Annotations stored in <EpochsArray |  147 events (all good), -1 - 4 sec, baseline off, ~269.4 MB, data loaded,\n",
      " 'CpeOnset': 147>, so metadata was not modified.\n",
      "/tmp/ipykernel_241552/799502560.py:79: DeprecationWarning: Conversion of an array with ndim > 0 to a scalar is deprecated, and will error in future. Ensure you extract a single element from your array before performing this operation. (Deprecated NumPy 1.25.)\n"
     ]
    },
    {
     "name": "stdout",
     "output_type": "stream",
     "text": [
      "Computing surrogate # 150 - parallel\n",
      "Not setting metadata\n",
      "147 matching events found\n",
      "No baseline correction applied\n",
      "0 projection items activated\n"
     ]
    },
    {
     "name": "stderr",
     "output_type": "stream",
     "text": [
      "/tmp/ipykernel_241552/799502560.py:395: RuntimeWarning: There were no Annotations stored in <EpochsArray |  147 events (all good), -1 - 4 sec, baseline off, ~269.4 MB, data loaded,\n",
      " 'CpeOnset': 147>, so metadata was not modified.\n",
      "/tmp/ipykernel_241552/799502560.py:79: DeprecationWarning: Conversion of an array with ndim > 0 to a scalar is deprecated, and will error in future. Ensure you extract a single element from your array before performing this operation. (Deprecated NumPy 1.25.)\n"
     ]
    },
    {
     "name": "stdout",
     "output_type": "stream",
     "text": [
      "Computing surrogate # 151 - parallel\n",
      "Not setting metadata\n",
      "147 matching events found\n",
      "No baseline correction applied\n",
      "0 projection items activated\n"
     ]
    },
    {
     "name": "stderr",
     "output_type": "stream",
     "text": [
      "/tmp/ipykernel_241552/799502560.py:395: RuntimeWarning: There were no Annotations stored in <EpochsArray |  147 events (all good), -1 - 4 sec, baseline off, ~269.4 MB, data loaded,\n",
      " 'CpeOnset': 147>, so metadata was not modified.\n",
      "/tmp/ipykernel_241552/799502560.py:79: DeprecationWarning: Conversion of an array with ndim > 0 to a scalar is deprecated, and will error in future. Ensure you extract a single element from your array before performing this operation. (Deprecated NumPy 1.25.)\n"
     ]
    },
    {
     "name": "stdout",
     "output_type": "stream",
     "text": [
      "Computing surrogate # 152 - parallel\n",
      "Not setting metadata\n",
      "147 matching events found\n",
      "No baseline correction applied\n",
      "0 projection items activated\n"
     ]
    },
    {
     "name": "stderr",
     "output_type": "stream",
     "text": [
      "/tmp/ipykernel_241552/799502560.py:395: RuntimeWarning: There were no Annotations stored in <EpochsArray |  147 events (all good), -1 - 4 sec, baseline off, ~269.4 MB, data loaded,\n",
      " 'CpeOnset': 147>, so metadata was not modified.\n",
      "/tmp/ipykernel_241552/799502560.py:79: DeprecationWarning: Conversion of an array with ndim > 0 to a scalar is deprecated, and will error in future. Ensure you extract a single element from your array before performing this operation. (Deprecated NumPy 1.25.)\n"
     ]
    },
    {
     "name": "stdout",
     "output_type": "stream",
     "text": [
      "Computing surrogate # 153 - parallel\n",
      "Not setting metadata\n",
      "147 matching events found\n",
      "No baseline correction applied\n",
      "0 projection items activated\n"
     ]
    },
    {
     "name": "stderr",
     "output_type": "stream",
     "text": [
      "/tmp/ipykernel_241552/799502560.py:395: RuntimeWarning: There were no Annotations stored in <EpochsArray |  147 events (all good), -1 - 4 sec, baseline off, ~269.4 MB, data loaded,\n",
      " 'CpeOnset': 147>, so metadata was not modified.\n",
      "/tmp/ipykernel_241552/799502560.py:79: DeprecationWarning: Conversion of an array with ndim > 0 to a scalar is deprecated, and will error in future. Ensure you extract a single element from your array before performing this operation. (Deprecated NumPy 1.25.)\n"
     ]
    },
    {
     "name": "stdout",
     "output_type": "stream",
     "text": [
      "Computing surrogate # 154 - parallel\n",
      "Not setting metadata\n",
      "147 matching events found\n",
      "No baseline correction applied\n",
      "0 projection items activated\n"
     ]
    },
    {
     "name": "stderr",
     "output_type": "stream",
     "text": [
      "/tmp/ipykernel_241552/799502560.py:395: RuntimeWarning: There were no Annotations stored in <EpochsArray |  147 events (all good), -1 - 4 sec, baseline off, ~269.4 MB, data loaded,\n",
      " 'CpeOnset': 147>, so metadata was not modified.\n",
      "/tmp/ipykernel_241552/799502560.py:79: DeprecationWarning: Conversion of an array with ndim > 0 to a scalar is deprecated, and will error in future. Ensure you extract a single element from your array before performing this operation. (Deprecated NumPy 1.25.)\n"
     ]
    },
    {
     "name": "stdout",
     "output_type": "stream",
     "text": [
      "Computing surrogate # 155 - parallel\n",
      "Not setting metadata\n",
      "147 matching events found\n",
      "No baseline correction applied\n",
      "0 projection items activated\n"
     ]
    },
    {
     "name": "stderr",
     "output_type": "stream",
     "text": [
      "/tmp/ipykernel_241552/799502560.py:395: RuntimeWarning: There were no Annotations stored in <EpochsArray |  147 events (all good), -1 - 4 sec, baseline off, ~269.4 MB, data loaded,\n",
      " 'CpeOnset': 147>, so metadata was not modified.\n",
      "/tmp/ipykernel_241552/799502560.py:79: DeprecationWarning: Conversion of an array with ndim > 0 to a scalar is deprecated, and will error in future. Ensure you extract a single element from your array before performing this operation. (Deprecated NumPy 1.25.)\n"
     ]
    },
    {
     "name": "stdout",
     "output_type": "stream",
     "text": [
      "Computing surrogate # 156 - parallel\n",
      "Not setting metadata\n",
      "147 matching events found\n",
      "No baseline correction applied\n",
      "0 projection items activated\n"
     ]
    },
    {
     "name": "stderr",
     "output_type": "stream",
     "text": [
      "/tmp/ipykernel_241552/799502560.py:395: RuntimeWarning: There were no Annotations stored in <EpochsArray |  147 events (all good), -1 - 4 sec, baseline off, ~269.4 MB, data loaded,\n",
      " 'CpeOnset': 147>, so metadata was not modified.\n",
      "/tmp/ipykernel_241552/799502560.py:79: DeprecationWarning: Conversion of an array with ndim > 0 to a scalar is deprecated, and will error in future. Ensure you extract a single element from your array before performing this operation. (Deprecated NumPy 1.25.)\n"
     ]
    },
    {
     "name": "stdout",
     "output_type": "stream",
     "text": [
      "Computing surrogate # 157 - parallel\n",
      "Not setting metadata\n",
      "147 matching events found\n",
      "No baseline correction applied\n",
      "0 projection items activated\n"
     ]
    },
    {
     "name": "stderr",
     "output_type": "stream",
     "text": [
      "/tmp/ipykernel_241552/799502560.py:395: RuntimeWarning: There were no Annotations stored in <EpochsArray |  147 events (all good), -1 - 4 sec, baseline off, ~269.4 MB, data loaded,\n",
      " 'CpeOnset': 147>, so metadata was not modified.\n",
      "/tmp/ipykernel_241552/799502560.py:79: DeprecationWarning: Conversion of an array with ndim > 0 to a scalar is deprecated, and will error in future. Ensure you extract a single element from your array before performing this operation. (Deprecated NumPy 1.25.)\n"
     ]
    },
    {
     "name": "stdout",
     "output_type": "stream",
     "text": [
      "Computing surrogate # 158 - parallel\n",
      "Not setting metadata\n",
      "147 matching events found\n",
      "No baseline correction applied\n",
      "0 projection items activated\n"
     ]
    },
    {
     "name": "stderr",
     "output_type": "stream",
     "text": [
      "/tmp/ipykernel_241552/799502560.py:395: RuntimeWarning: There were no Annotations stored in <EpochsArray |  147 events (all good), -1 - 4 sec, baseline off, ~269.4 MB, data loaded,\n",
      " 'CpeOnset': 147>, so metadata was not modified.\n",
      "/tmp/ipykernel_241552/799502560.py:79: DeprecationWarning: Conversion of an array with ndim > 0 to a scalar is deprecated, and will error in future. Ensure you extract a single element from your array before performing this operation. (Deprecated NumPy 1.25.)\n"
     ]
    },
    {
     "name": "stdout",
     "output_type": "stream",
     "text": [
      "Computing surrogate # 159 - parallel\n",
      "Not setting metadata\n",
      "147 matching events found\n",
      "No baseline correction applied\n",
      "0 projection items activated\n"
     ]
    },
    {
     "name": "stderr",
     "output_type": "stream",
     "text": [
      "/tmp/ipykernel_241552/799502560.py:395: RuntimeWarning: There were no Annotations stored in <EpochsArray |  147 events (all good), -1 - 4 sec, baseline off, ~269.4 MB, data loaded,\n",
      " 'CpeOnset': 147>, so metadata was not modified.\n",
      "/tmp/ipykernel_241552/799502560.py:79: DeprecationWarning: Conversion of an array with ndim > 0 to a scalar is deprecated, and will error in future. Ensure you extract a single element from your array before performing this operation. (Deprecated NumPy 1.25.)\n",
      "/tmp/ipykernel_241552/799502560.py:395: RuntimeWarning: There were no Annotations stored in <EpochsArray |  147 events (all good), -1 - 4 sec, baseline off, ~269.4 MB, data loaded,\n",
      " 'CpeOnset': 147>, so metadata was not modified.\n"
     ]
    },
    {
     "name": "stdout",
     "output_type": "stream",
     "text": [
      "Computing surrogate # 160 - parallel\n",
      "Not setting metadata\n",
      "147 matching events found\n",
      "No baseline correction applied\n",
      "0 projection items activated\n"
     ]
    },
    {
     "name": "stderr",
     "output_type": "stream",
     "text": [
      "/tmp/ipykernel_241552/799502560.py:79: DeprecationWarning: Conversion of an array with ndim > 0 to a scalar is deprecated, and will error in future. Ensure you extract a single element from your array before performing this operation. (Deprecated NumPy 1.25.)\n"
     ]
    },
    {
     "name": "stdout",
     "output_type": "stream",
     "text": [
      "Computing surrogate # 161 - parallel\n",
      "Not setting metadata\n",
      "147 matching events found\n",
      "No baseline correction applied\n",
      "0 projection items activated\n"
     ]
    },
    {
     "name": "stderr",
     "output_type": "stream",
     "text": [
      "/tmp/ipykernel_241552/799502560.py:395: RuntimeWarning: There were no Annotations stored in <EpochsArray |  147 events (all good), -1 - 4 sec, baseline off, ~269.4 MB, data loaded,\n",
      " 'CpeOnset': 147>, so metadata was not modified.\n",
      "/tmp/ipykernel_241552/799502560.py:79: DeprecationWarning: Conversion of an array with ndim > 0 to a scalar is deprecated, and will error in future. Ensure you extract a single element from your array before performing this operation. (Deprecated NumPy 1.25.)\n"
     ]
    },
    {
     "name": "stdout",
     "output_type": "stream",
     "text": [
      "Computing surrogate # 162 - parallel\n",
      "Not setting metadata\n",
      "147 matching events found\n",
      "No baseline correction applied\n",
      "0 projection items activated\n"
     ]
    },
    {
     "name": "stderr",
     "output_type": "stream",
     "text": [
      "/tmp/ipykernel_241552/799502560.py:395: RuntimeWarning: There were no Annotations stored in <EpochsArray |  147 events (all good), -1 - 4 sec, baseline off, ~269.4 MB, data loaded,\n",
      " 'CpeOnset': 147>, so metadata was not modified.\n",
      "/tmp/ipykernel_241552/799502560.py:79: DeprecationWarning: Conversion of an array with ndim > 0 to a scalar is deprecated, and will error in future. Ensure you extract a single element from your array before performing this operation. (Deprecated NumPy 1.25.)\n"
     ]
    },
    {
     "name": "stdout",
     "output_type": "stream",
     "text": [
      "Computing surrogate # 163 - parallel\n",
      "Not setting metadata\n",
      "147 matching events found\n",
      "No baseline correction applied\n",
      "0 projection items activated\n"
     ]
    },
    {
     "name": "stderr",
     "output_type": "stream",
     "text": [
      "/tmp/ipykernel_241552/799502560.py:395: RuntimeWarning: There were no Annotations stored in <EpochsArray |  147 events (all good), -1 - 4 sec, baseline off, ~269.4 MB, data loaded,\n",
      " 'CpeOnset': 147>, so metadata was not modified.\n",
      "/tmp/ipykernel_241552/799502560.py:79: DeprecationWarning: Conversion of an array with ndim > 0 to a scalar is deprecated, and will error in future. Ensure you extract a single element from your array before performing this operation. (Deprecated NumPy 1.25.)\n"
     ]
    },
    {
     "name": "stdout",
     "output_type": "stream",
     "text": [
      "Computing surrogate # 164 - parallel\n",
      "Not setting metadata\n",
      "147 matching events found\n",
      "No baseline correction applied\n",
      "0 projection items activated\n"
     ]
    },
    {
     "name": "stderr",
     "output_type": "stream",
     "text": [
      "/tmp/ipykernel_241552/799502560.py:395: RuntimeWarning: There were no Annotations stored in <EpochsArray |  147 events (all good), -1 - 4 sec, baseline off, ~269.4 MB, data loaded,\n",
      " 'CpeOnset': 147>, so metadata was not modified.\n",
      "/tmp/ipykernel_241552/799502560.py:79: DeprecationWarning: Conversion of an array with ndim > 0 to a scalar is deprecated, and will error in future. Ensure you extract a single element from your array before performing this operation. (Deprecated NumPy 1.25.)\n"
     ]
    },
    {
     "name": "stdout",
     "output_type": "stream",
     "text": [
      "Computing surrogate # 165 - parallel\n",
      "Not setting metadata\n",
      "147 matching events found\n",
      "No baseline correction applied\n",
      "0 projection items activated\n"
     ]
    },
    {
     "name": "stderr",
     "output_type": "stream",
     "text": [
      "/tmp/ipykernel_241552/799502560.py:395: RuntimeWarning: There were no Annotations stored in <EpochsArray |  147 events (all good), -1 - 4 sec, baseline off, ~269.4 MB, data loaded,\n",
      " 'CpeOnset': 147>, so metadata was not modified.\n",
      "/tmp/ipykernel_241552/799502560.py:79: DeprecationWarning: Conversion of an array with ndim > 0 to a scalar is deprecated, and will error in future. Ensure you extract a single element from your array before performing this operation. (Deprecated NumPy 1.25.)\n"
     ]
    },
    {
     "name": "stdout",
     "output_type": "stream",
     "text": [
      "Computing surrogate # 166 - parallel\n",
      "Not setting metadata\n",
      "147 matching events found\n",
      "No baseline correction applied\n",
      "0 projection items activated\n"
     ]
    },
    {
     "name": "stderr",
     "output_type": "stream",
     "text": [
      "/tmp/ipykernel_241552/799502560.py:395: RuntimeWarning: There were no Annotations stored in <EpochsArray |  147 events (all good), -1 - 4 sec, baseline off, ~269.4 MB, data loaded,\n",
      " 'CpeOnset': 147>, so metadata was not modified.\n",
      "/tmp/ipykernel_241552/799502560.py:79: DeprecationWarning: Conversion of an array with ndim > 0 to a scalar is deprecated, and will error in future. Ensure you extract a single element from your array before performing this operation. (Deprecated NumPy 1.25.)\n"
     ]
    },
    {
     "name": "stdout",
     "output_type": "stream",
     "text": [
      "Computing surrogate # 167 - parallel\n",
      "Not setting metadata\n",
      "147 matching events found\n",
      "No baseline correction applied\n",
      "0 projection items activated\n"
     ]
    },
    {
     "name": "stderr",
     "output_type": "stream",
     "text": [
      "/tmp/ipykernel_241552/799502560.py:395: RuntimeWarning: There were no Annotations stored in <EpochsArray |  147 events (all good), -1 - 4 sec, baseline off, ~269.4 MB, data loaded,\n",
      " 'CpeOnset': 147>, so metadata was not modified.\n",
      "/tmp/ipykernel_241552/799502560.py:79: DeprecationWarning: Conversion of an array with ndim > 0 to a scalar is deprecated, and will error in future. Ensure you extract a single element from your array before performing this operation. (Deprecated NumPy 1.25.)\n"
     ]
    },
    {
     "name": "stdout",
     "output_type": "stream",
     "text": [
      "Computing surrogate # 168 - parallel\n",
      "Not setting metadata\n",
      "147 matching events found\n",
      "No baseline correction applied\n",
      "0 projection items activated\n"
     ]
    },
    {
     "name": "stderr",
     "output_type": "stream",
     "text": [
      "/tmp/ipykernel_241552/799502560.py:395: RuntimeWarning: There were no Annotations stored in <EpochsArray |  147 events (all good), -1 - 4 sec, baseline off, ~269.4 MB, data loaded,\n",
      " 'CpeOnset': 147>, so metadata was not modified.\n",
      "/tmp/ipykernel_241552/799502560.py:79: DeprecationWarning: Conversion of an array with ndim > 0 to a scalar is deprecated, and will error in future. Ensure you extract a single element from your array before performing this operation. (Deprecated NumPy 1.25.)\n"
     ]
    },
    {
     "name": "stdout",
     "output_type": "stream",
     "text": [
      "Computing surrogate # 169 - parallel\n",
      "Not setting metadata\n",
      "147 matching events found\n",
      "No baseline correction applied\n",
      "0 projection items activated\n"
     ]
    },
    {
     "name": "stderr",
     "output_type": "stream",
     "text": [
      "/tmp/ipykernel_241552/799502560.py:395: RuntimeWarning: There were no Annotations stored in <EpochsArray |  147 events (all good), -1 - 4 sec, baseline off, ~269.4 MB, data loaded,\n",
      " 'CpeOnset': 147>, so metadata was not modified.\n",
      "/tmp/ipykernel_241552/799502560.py:79: DeprecationWarning: Conversion of an array with ndim > 0 to a scalar is deprecated, and will error in future. Ensure you extract a single element from your array before performing this operation. (Deprecated NumPy 1.25.)\n"
     ]
    },
    {
     "name": "stdout",
     "output_type": "stream",
     "text": [
      "Computing surrogate # 170 - parallel\n",
      "Not setting metadata\n",
      "147 matching events found\n",
      "No baseline correction applied\n",
      "0 projection items activated\n"
     ]
    },
    {
     "name": "stderr",
     "output_type": "stream",
     "text": [
      "/tmp/ipykernel_241552/799502560.py:395: RuntimeWarning: There were no Annotations stored in <EpochsArray |  147 events (all good), -1 - 4 sec, baseline off, ~269.4 MB, data loaded,\n",
      " 'CpeOnset': 147>, so metadata was not modified.\n",
      "/tmp/ipykernel_241552/799502560.py:79: DeprecationWarning: Conversion of an array with ndim > 0 to a scalar is deprecated, and will error in future. Ensure you extract a single element from your array before performing this operation. (Deprecated NumPy 1.25.)\n"
     ]
    },
    {
     "name": "stdout",
     "output_type": "stream",
     "text": [
      "Computing surrogate # 171 - parallel\n",
      "Not setting metadata\n",
      "147 matching events found\n",
      "No baseline correction applied\n",
      "0 projection items activated\n"
     ]
    },
    {
     "name": "stderr",
     "output_type": "stream",
     "text": [
      "/tmp/ipykernel_241552/799502560.py:395: RuntimeWarning: There were no Annotations stored in <EpochsArray |  147 events (all good), -1 - 4 sec, baseline off, ~269.4 MB, data loaded,\n",
      " 'CpeOnset': 147>, so metadata was not modified.\n",
      "/tmp/ipykernel_241552/799502560.py:79: DeprecationWarning: Conversion of an array with ndim > 0 to a scalar is deprecated, and will error in future. Ensure you extract a single element from your array before performing this operation. (Deprecated NumPy 1.25.)\n"
     ]
    },
    {
     "name": "stdout",
     "output_type": "stream",
     "text": [
      "Computing surrogate # 172 - parallel\n",
      "Not setting metadata\n",
      "147 matching events found\n",
      "No baseline correction applied\n",
      "0 projection items activated\n"
     ]
    },
    {
     "name": "stderr",
     "output_type": "stream",
     "text": [
      "/tmp/ipykernel_241552/799502560.py:395: RuntimeWarning: There were no Annotations stored in <EpochsArray |  147 events (all good), -1 - 4 sec, baseline off, ~269.4 MB, data loaded,\n",
      " 'CpeOnset': 147>, so metadata was not modified.\n",
      "/tmp/ipykernel_241552/799502560.py:79: DeprecationWarning: Conversion of an array with ndim > 0 to a scalar is deprecated, and will error in future. Ensure you extract a single element from your array before performing this operation. (Deprecated NumPy 1.25.)\n"
     ]
    },
    {
     "name": "stdout",
     "output_type": "stream",
     "text": [
      "Computing surrogate # 173 - parallel\n",
      "Not setting metadata\n",
      "147 matching events found\n",
      "No baseline correction applied\n",
      "0 projection items activated\n"
     ]
    },
    {
     "name": "stderr",
     "output_type": "stream",
     "text": [
      "/tmp/ipykernel_241552/799502560.py:395: RuntimeWarning: There were no Annotations stored in <EpochsArray |  147 events (all good), -1 - 4 sec, baseline off, ~269.4 MB, data loaded,\n",
      " 'CpeOnset': 147>, so metadata was not modified.\n",
      "/tmp/ipykernel_241552/799502560.py:79: DeprecationWarning: Conversion of an array with ndim > 0 to a scalar is deprecated, and will error in future. Ensure you extract a single element from your array before performing this operation. (Deprecated NumPy 1.25.)\n"
     ]
    },
    {
     "name": "stdout",
     "output_type": "stream",
     "text": [
      "Computing surrogate # 174 - parallel\n",
      "Not setting metadata\n",
      "147 matching events found\n",
      "No baseline correction applied\n",
      "0 projection items activated\n"
     ]
    },
    {
     "name": "stderr",
     "output_type": "stream",
     "text": [
      "/tmp/ipykernel_241552/799502560.py:395: RuntimeWarning: There were no Annotations stored in <EpochsArray |  147 events (all good), -1 - 4 sec, baseline off, ~269.4 MB, data loaded,\n",
      " 'CpeOnset': 147>, so metadata was not modified.\n",
      "/tmp/ipykernel_241552/799502560.py:79: DeprecationWarning: Conversion of an array with ndim > 0 to a scalar is deprecated, and will error in future. Ensure you extract a single element from your array before performing this operation. (Deprecated NumPy 1.25.)\n"
     ]
    },
    {
     "name": "stdout",
     "output_type": "stream",
     "text": [
      "Computing surrogate # 175 - parallel\n",
      "Not setting metadata\n",
      "147 matching events found\n",
      "No baseline correction applied\n",
      "0 projection items activated\n"
     ]
    },
    {
     "name": "stderr",
     "output_type": "stream",
     "text": [
      "/tmp/ipykernel_241552/799502560.py:395: RuntimeWarning: There were no Annotations stored in <EpochsArray |  147 events (all good), -1 - 4 sec, baseline off, ~269.4 MB, data loaded,\n",
      " 'CpeOnset': 147>, so metadata was not modified.\n",
      "/tmp/ipykernel_241552/799502560.py:79: DeprecationWarning: Conversion of an array with ndim > 0 to a scalar is deprecated, and will error in future. Ensure you extract a single element from your array before performing this operation. (Deprecated NumPy 1.25.)\n"
     ]
    },
    {
     "name": "stdout",
     "output_type": "stream",
     "text": [
      "Computing surrogate # 176 - parallel\n",
      "Not setting metadata\n",
      "147 matching events found\n",
      "No baseline correction applied\n",
      "0 projection items activated\n"
     ]
    },
    {
     "name": "stderr",
     "output_type": "stream",
     "text": [
      "/tmp/ipykernel_241552/799502560.py:395: RuntimeWarning: There were no Annotations stored in <EpochsArray |  147 events (all good), -1 - 4 sec, baseline off, ~269.4 MB, data loaded,\n",
      " 'CpeOnset': 147>, so metadata was not modified.\n",
      "/tmp/ipykernel_241552/799502560.py:79: DeprecationWarning: Conversion of an array with ndim > 0 to a scalar is deprecated, and will error in future. Ensure you extract a single element from your array before performing this operation. (Deprecated NumPy 1.25.)\n"
     ]
    },
    {
     "name": "stdout",
     "output_type": "stream",
     "text": [
      "Computing surrogate # 177 - parallel\n",
      "Not setting metadata\n",
      "147 matching events found\n",
      "No baseline correction applied\n",
      "0 projection items activated\n"
     ]
    },
    {
     "name": "stderr",
     "output_type": "stream",
     "text": [
      "/tmp/ipykernel_241552/799502560.py:395: RuntimeWarning: There were no Annotations stored in <EpochsArray |  147 events (all good), -1 - 4 sec, baseline off, ~269.4 MB, data loaded,\n",
      " 'CpeOnset': 147>, so metadata was not modified.\n",
      "/tmp/ipykernel_241552/799502560.py:79: DeprecationWarning: Conversion of an array with ndim > 0 to a scalar is deprecated, and will error in future. Ensure you extract a single element from your array before performing this operation. (Deprecated NumPy 1.25.)\n"
     ]
    },
    {
     "name": "stdout",
     "output_type": "stream",
     "text": [
      "Computing surrogate # 178 - parallel\n",
      "Not setting metadata\n",
      "147 matching events found\n",
      "No baseline correction applied\n",
      "0 projection items activated\n"
     ]
    },
    {
     "name": "stderr",
     "output_type": "stream",
     "text": [
      "/tmp/ipykernel_241552/799502560.py:395: RuntimeWarning: There were no Annotations stored in <EpochsArray |  147 events (all good), -1 - 4 sec, baseline off, ~269.4 MB, data loaded,\n",
      " 'CpeOnset': 147>, so metadata was not modified.\n",
      "/tmp/ipykernel_241552/799502560.py:79: DeprecationWarning: Conversion of an array with ndim > 0 to a scalar is deprecated, and will error in future. Ensure you extract a single element from your array before performing this operation. (Deprecated NumPy 1.25.)\n"
     ]
    },
    {
     "name": "stdout",
     "output_type": "stream",
     "text": [
      "Computing surrogate # 179 - parallel\n",
      "Not setting metadata\n",
      "147 matching events found\n",
      "No baseline correction applied\n",
      "0 projection items activated\n"
     ]
    },
    {
     "name": "stderr",
     "output_type": "stream",
     "text": [
      "/tmp/ipykernel_241552/799502560.py:395: RuntimeWarning: There were no Annotations stored in <EpochsArray |  147 events (all good), -1 - 4 sec, baseline off, ~269.4 MB, data loaded,\n",
      " 'CpeOnset': 147>, so metadata was not modified.\n",
      "/tmp/ipykernel_241552/799502560.py:79: DeprecationWarning: Conversion of an array with ndim > 0 to a scalar is deprecated, and will error in future. Ensure you extract a single element from your array before performing this operation. (Deprecated NumPy 1.25.)\n"
     ]
    },
    {
     "name": "stdout",
     "output_type": "stream",
     "text": [
      "Computing surrogate # 180 - parallel\n",
      "Not setting metadata\n",
      "147 matching events found\n",
      "No baseline correction applied\n",
      "0 projection items activated\n"
     ]
    },
    {
     "name": "stderr",
     "output_type": "stream",
     "text": [
      "/tmp/ipykernel_241552/799502560.py:395: RuntimeWarning: There were no Annotations stored in <EpochsArray |  147 events (all good), -1 - 4 sec, baseline off, ~269.4 MB, data loaded,\n",
      " 'CpeOnset': 147>, so metadata was not modified.\n",
      "/tmp/ipykernel_241552/799502560.py:79: DeprecationWarning: Conversion of an array with ndim > 0 to a scalar is deprecated, and will error in future. Ensure you extract a single element from your array before performing this operation. (Deprecated NumPy 1.25.)\n"
     ]
    },
    {
     "name": "stdout",
     "output_type": "stream",
     "text": [
      "Computing surrogate # 181 - parallel\n",
      "Not setting metadata\n",
      "147 matching events found\n",
      "No baseline correction applied\n",
      "0 projection items activated\n"
     ]
    },
    {
     "name": "stderr",
     "output_type": "stream",
     "text": [
      "/tmp/ipykernel_241552/799502560.py:395: RuntimeWarning: There were no Annotations stored in <EpochsArray |  147 events (all good), -1 - 4 sec, baseline off, ~269.4 MB, data loaded,\n",
      " 'CpeOnset': 147>, so metadata was not modified.\n",
      "/tmp/ipykernel_241552/799502560.py:79: DeprecationWarning: Conversion of an array with ndim > 0 to a scalar is deprecated, and will error in future. Ensure you extract a single element from your array before performing this operation. (Deprecated NumPy 1.25.)\n"
     ]
    },
    {
     "name": "stdout",
     "output_type": "stream",
     "text": [
      "Computing surrogate # 182 - parallel\n",
      "Not setting metadata\n",
      "147 matching events found\n",
      "No baseline correction applied\n",
      "0 projection items activated\n"
     ]
    },
    {
     "name": "stderr",
     "output_type": "stream",
     "text": [
      "/tmp/ipykernel_241552/799502560.py:395: RuntimeWarning: There were no Annotations stored in <EpochsArray |  147 events (all good), -1 - 4 sec, baseline off, ~269.4 MB, data loaded,\n",
      " 'CpeOnset': 147>, so metadata was not modified.\n",
      "/tmp/ipykernel_241552/799502560.py:79: DeprecationWarning: Conversion of an array with ndim > 0 to a scalar is deprecated, and will error in future. Ensure you extract a single element from your array before performing this operation. (Deprecated NumPy 1.25.)\n"
     ]
    },
    {
     "name": "stdout",
     "output_type": "stream",
     "text": [
      "Computing surrogate # 183 - parallel\n",
      "Not setting metadata\n",
      "147 matching events found\n",
      "No baseline correction applied\n",
      "0 projection items activated\n"
     ]
    },
    {
     "name": "stderr",
     "output_type": "stream",
     "text": [
      "/tmp/ipykernel_241552/799502560.py:395: RuntimeWarning: There were no Annotations stored in <EpochsArray |  147 events (all good), -1 - 4 sec, baseline off, ~269.4 MB, data loaded,\n",
      " 'CpeOnset': 147>, so metadata was not modified.\n",
      "/tmp/ipykernel_241552/799502560.py:79: DeprecationWarning: Conversion of an array with ndim > 0 to a scalar is deprecated, and will error in future. Ensure you extract a single element from your array before performing this operation. (Deprecated NumPy 1.25.)\n"
     ]
    },
    {
     "name": "stdout",
     "output_type": "stream",
     "text": [
      "Computing surrogate # 184 - parallel\n",
      "Not setting metadata\n",
      "147 matching events found\n",
      "No baseline correction applied\n",
      "0 projection items activated\n"
     ]
    },
    {
     "name": "stderr",
     "output_type": "stream",
     "text": [
      "/tmp/ipykernel_241552/799502560.py:395: RuntimeWarning: There were no Annotations stored in <EpochsArray |  147 events (all good), -1 - 4 sec, baseline off, ~269.4 MB, data loaded,\n",
      " 'CpeOnset': 147>, so metadata was not modified.\n",
      "/tmp/ipykernel_241552/799502560.py:79: DeprecationWarning: Conversion of an array with ndim > 0 to a scalar is deprecated, and will error in future. Ensure you extract a single element from your array before performing this operation. (Deprecated NumPy 1.25.)\n"
     ]
    },
    {
     "name": "stdout",
     "output_type": "stream",
     "text": [
      "Computing surrogate # 185 - parallel\n",
      "Not setting metadata\n",
      "147 matching events found\n",
      "No baseline correction applied\n",
      "0 projection items activated\n"
     ]
    },
    {
     "name": "stderr",
     "output_type": "stream",
     "text": [
      "/tmp/ipykernel_241552/799502560.py:395: RuntimeWarning: There were no Annotations stored in <EpochsArray |  147 events (all good), -1 - 4 sec, baseline off, ~269.4 MB, data loaded,\n",
      " 'CpeOnset': 147>, so metadata was not modified.\n"
     ]
    }
   ],
   "source": [
    "pwise = compute_connectivity(subj_epochs.copy(), \n",
    "                                   band = freq_dict[band], \n",
    "                                   metric = metric, \n",
    "                                   indices = seed_to_target, \n",
    "                                   freqs = freqs, \n",
    "                                   n_cycles = n_cycles,\n",
    "                                   buf_ms = buf_ms, \n",
    "                                   n_surr=n_surr,\n",
    "                                   avg_over_dim='time',\n",
    "                                   band1 = freq_dict[band],\n",
    "                                   parallelize=True)"
   ]
  },
  {
   "cell_type": "code",
   "execution_count": null,
   "id": "19513db0",
   "metadata": {},
   "outputs": [],
   "source": [
    "# plt.imshow(pwise, cmap='magma')\n"
   ]
  },
  {
   "cell_type": "code",
   "execution_count": 28,
   "id": "5bd69a3c",
   "metadata": {},
   "outputs": [],
   "source": [
    "\n",
    "import numpy as np\n",
    "import pandas as pd\n",
    "import numpy.matlib\n",
    "import scipy.io as sio\n",
    "from pathlib import Path\n",
    "import statsmodels.api as sm\n",
    "from scipy.stats.distributions import chi2\n",
    "from mne_connectivity import phase_slope_index, seed_target_indices, spectral_connectivity_epochs, spectral_connectivity_time\n",
    "import mne\n",
    "from scipy.signal import hilbert\n",
    "from mne.filter import next_fast_len\n",
    "from tqdm import tqdm\n",
    "from scipy.stats import zscore\n",
    "import matplotlib.pyplot as plt\n",
    "from IPython.display import clear_output\n",
    "from joblib import delayed, Parallel\n",
    "\n",
    "\n",
    "# Helper functions \n",
    "\n",
    "def find_nearest_value(array, value):\n",
    "    \"\"\"Find nearest value and index of float in array\n",
    "    Parameters:\n",
    "    array : Array of values [1d array]\n",
    "    value : Value of interest [float]\n",
    "    Returns:\n",
    "    array[idx] : Nearest value [1d float]\n",
    "    idx : Nearest index [1d float]\n",
    "    \"\"\"\n",
    "    array = np.asarray(array)\n",
    "    idx = (np.abs(array - value)).argmin()\n",
    "    return array[idx], idx\n",
    "\n",
    "def getTimeFromFTmat(fname, var_name='data'):\n",
    "    \"\"\"\n",
    "    Get original timing from FieldTrip structure\n",
    "    Solution based on https://github.com/mne-tools/mne-python/issues/2476\n",
    "    \"\"\"\n",
    "    # load Matlab/Fieldtrip data\n",
    "    mat = sio.loadmat(fname, squeeze_me=True, struct_as_record=False)\n",
    "    ft_data = mat[var_name]\n",
    "    # convert to mne\n",
    "    n_trial = len(ft_data.trial)\n",
    "    n_chans, n_time = ft_data.trial[0].shape\n",
    "    #data = np.zeros((n_trial, n_chans, n_time))\n",
    "    time = np.zeros((n_trial, n_time))\n",
    "    for trial in range(n_trial):\n",
    "        # data[trial, :, :] = ft_data.trial[trial]\n",
    "        # Note that this indexes time_orig in the adapted structure\n",
    "        time[trial, :] = ft_data.time_orig[trial]\n",
    "    return time\n",
    "\n",
    "def get_project_root() -> Path:\n",
    "    return Path(__file__)\n",
    "    \n",
    "def swap_time_blocks(data, random_state=None):\n",
    "\n",
    "    \"\"\"Compute surrogates by swapping time blocks.\n",
    "    This function cuts the timeseries at a random time point. Then, both time\n",
    "    blocks are swapped.\n",
    "    Parameters\n",
    "    ----------\n",
    "    data : array_like\n",
    "        Array of shape (n_chan, ..., n_times).\n",
    "    random_state : int | None\n",
    "        Fix the random state of the machine for reproducible results.\n",
    "    Returns\n",
    "    -------\n",
    "    surr : array_like\n",
    "        Swapped timeseries to use to compute the distribution of\n",
    "        permutations\n",
    "    References\n",
    "    ----------\n",
    "    Source: Bahramisharif et al. 2013 \n",
    "    Justification: https://www.sciencedirect.com/science/article/pii/S0959438814001640\n",
    "    \"\"\"\n",
    "    \n",
    "    if random_state is None:\n",
    "        random_state = int(np.random.randint(0, 10000, size=1))\n",
    "    rnd = np.random.RandomState(random_state)\n",
    "    \n",
    "    # get the minimum / maximum shift\n",
    "    min_shift, max_shift = 1, None\n",
    "    if not isinstance(max_shift, (int, float)):\n",
    "        max_shift = data.shape[-1]\n",
    "    # random cutting point along time axis\n",
    "    cut_at = rnd.randint(min_shift, max_shift, (1,))\n",
    "    # split amplitude across time into two parts\n",
    "    surr = np.array_split(data, cut_at, axis=-1)\n",
    "    # revered elements\n",
    "    surr.reverse()\n",
    "    \n",
    "    return np.concatenate(surr, axis=-1)\n",
    "\n",
    "def compute_surr_connectivity_epochs(mne_data, indices, metric, band, freqs, n_cycles, buf_ms=1000):\n",
    "\n",
    "    n_pairs = len(indices[0])\n",
    "    data = np.swapaxes(mne_data.get_data(), 0, 1) # swap so now it's chan, events, times \n",
    "\n",
    "    surr_dat = np.zeros_like(data) # allocate space for the surrogate channels \n",
    "\n",
    "    for ix, ch_dat in enumerate(data): # apply the same swap to every event in a channel, but differ between channels \n",
    "        surr_ch = swap_time_blocks(ch_dat, random_state=None)\n",
    "        surr_dat[ix, :, :] = surr_ch\n",
    "\n",
    "    surr_dat = np.swapaxes(surr_dat, 0, 1) # swap back so it's events, chan, times \n",
    "\n",
    "    # make a new EpochArray from it\n",
    "    surr_mne = mne.EpochsArray(surr_dat, \n",
    "                mne_data.info, \n",
    "                tmin=mne_data.tmin, \n",
    "                events = mne_data.events, \n",
    "                event_id = mne_data.event_id)\n",
    "\n",
    "    if metric == 'psi':\n",
    "        surr_conn = np.squeeze(phase_slope_index(surr_mne,\n",
    "                                                    indices=indices,\n",
    "                                                    sfreq=surr_mne.info['sfreq'],\n",
    "                                                    mode='cwt_morlet',\n",
    "                                                    fmin=band[0], fmax=band[1],\n",
    "                                                    cwt_freqs=freqs,\n",
    "                                                    cwt_n_cycles=n_cycles,\n",
    "                                                    verbose='warning').get_data()[:, 0])\n",
    "\n",
    "    else:\n",
    "        surr_conn = np.squeeze(spectral_connectivity_epochs(surr_mne,\n",
    "                                                        indices=indices,\n",
    "                                                        method=metric,\n",
    "                                                        sfreq=surr_mne.info['sfreq'],\n",
    "                                                        mode='cwt_morlet',\n",
    "                                                        fmin=band[0], fmax=band[1], faverage=True,\n",
    "                                                        cwt_freqs=freqs,\n",
    "                                                        cwt_n_cycles=n_cycles,\n",
    "                                                        verbose='warning').get_data()[:, 0])\n",
    "    if n_pairs == 1:\n",
    "        # reshape data\n",
    "        surr_conn = surr_conn.reshape((surr_conn.shape[0], n_pairs))\n",
    "\n",
    "    # crop the buffer now:\n",
    "    buf_rs = int((buf_ms/1000) * surr_mne.info['sfreq'])\n",
    "    surr_conn = surr_conn[:, buf_rs:-buf_rs]\n",
    "\n",
    "    return surr_conn\n",
    "\n",
    "\n",
    "def compute_surr_connectivity_time(mne_data, indices, metric, band, freqs, n_cycles, buf_ms):\n",
    "\n",
    "    n_pairs = len(indices[0])\n",
    "    data = np.swapaxes(mne_data.get_data(), 0, 1) # swap so now it's chan, events, times \n",
    "\n",
    "    surr_dat = np.zeros_like(data) # allocate space for the surrogate channels \n",
    "\n",
    "    for ix, ch_dat in enumerate(data): # apply the same swap to every event in a channel, but differ between channels \n",
    "        surr_ch = swap_time_blocks(ch_dat, random_state=None)\n",
    "        surr_dat[ix, :, :] = surr_ch\n",
    "\n",
    "    surr_dat = np.swapaxes(surr_dat, 0, 1) # swap back so it's events, chan, times \n",
    "\n",
    "    # make a new EpochArray from it\n",
    "    surr_mne = mne.EpochsArray(surr_dat, \n",
    "                mne_data.info, \n",
    "                tmin=mne_data.tmin, \n",
    "                events = mne_data.events, \n",
    "                event_id = mne_data.event_id)\n",
    "\n",
    "    if metric == 'granger':\n",
    "        # I don't want to compute multivariate GC, so refactor the indices: \n",
    "        surr_conn = []\n",
    "\n",
    "        for ix, _ in enumerate(indices[0]):\n",
    "            gc_indices = (np.array([[indices[0][ix]]]), np.array([[indices[1][ix]]]))\n",
    "        \n",
    "            gc = compute_gc_tr(mne_data=surr_mne, \n",
    "                    band=band,\n",
    "                    indices=gc_indices, \n",
    "                    freqs=freqs[(freqs>=band[0]) & (freqs<=band[1])], \n",
    "                    n_cycles=n_cycles[(freqs>=band[0]) & (freqs<=band[1])],\n",
    "                    rank=None, \n",
    "                    gc_n_lags=7, \n",
    "                    buf_ms=buf_ms, \n",
    "                    avg_over_dim='time')\n",
    "            \n",
    "            surr_conn.append(gc)\n",
    "            \n",
    "        surr_conn = np.hstack(surr_conn)\n",
    "    else:\n",
    "        surr_conn = np.squeeze(spectral_connectivity_time(data=surr_mne, \n",
    "                                    freqs=freqs[(freqs>=band[0]) & (freqs<=band[1])], \n",
    "                                    average=False, \n",
    "                                    indices=indices, \n",
    "                                    method=metric, \n",
    "                                    sfreq=surr_mne.info['sfreq'], \n",
    "                                    mode='cwt_morlet', \n",
    "                                    fmin=band[0], fmax=band[1], faverage=True, \n",
    "                                    padding=(buf_ms / 1000), \n",
    "                                    n_cycles=n_cycles[(freqs>=band[0]) & (freqs<=band[1])],\n",
    "#                                     rank=None, \n",
    "#                                     gc_n_lags=7,\n",
    "                                    verbose='warning').get_data())\n",
    "    \n",
    "    if n_pairs == 1:\n",
    "        # reshape data\n",
    "        surr_conn = surr_conn.reshape((surr_conn.shape[0], n_pairs))\n",
    "\n",
    "    return surr_conn\n",
    "\n",
    "\n",
    "def compute_connectivity(mne_data=None, \n",
    "                        band=None,\n",
    "                        metric=None, \n",
    "                        indices=None, \n",
    "                        freqs=None, \n",
    "                        n_cycles=None, \n",
    "                        buf_ms=1000, \n",
    "                        avg_over_dim='time',\n",
    "                        n_surr=500,\n",
    "                        parallelize=False,\n",
    "                        band1=None):\n",
    "    \"\"\"\n",
    "    Compute different connectivity metrics using mne.\n",
    "    :param eeg_mne: MNE formatted EEG\n",
    "    :param samplerate: sample rate of the data\n",
    "    :param band: tuple of band of interest\n",
    "    :param metric: 'psi' for directional, or for non_directional: ['coh', 'cohy', 'imcoh', 'plv', 'ciplv', 'ppc', 'pli', pli2_unbiased', 'dpli', 'wpli', 'wpli2_debiased']\n",
    "    see: https://mne.tools/mne-connectivity/stable/generated/mne_connectivity.spectral_connectivity_epochs.html\n",
    "    :param indices: determine the source and target for connectivity. Matters most for directional metrics i.e. 'psi'\n",
    "    :return:\n",
    "    pairwise connectivity: array of pairwise weights for the connectivity metric with some number of timepoints\n",
    "    \"\"\"\n",
    "    if metric == 'gr_tc':\n",
    "        return (ValueError('Use the function compute_gc_tr'))\n",
    "\n",
    "    elif metric in ['gc', 'imcoh']: \n",
    "        indices = (np.array([np.unique(indices[0]).tolist()]), np.array([np.unique(indices[1]).tolist()]))\n",
    "\n",
    "    if avg_over_dim == 'epochs':\n",
    "        if metric == 'amp': \n",
    "            return (ValueError('Cannot compute amplitude-amplitude coupling over epochs.'))\n",
    "        if metric == 'psi': \n",
    "            pairwise_connectivity = np.squeeze(phase_slope_index(mne_data,\n",
    "                                                                    indices=indices,\n",
    "                                                                    sfreq=mne_data.info['sfreq'],\n",
    "                                                                    mode='cwt_morlet',\n",
    "                                                                    fmin=band[0], fmax=band[1],\n",
    "                                                                    cwt_freqs=freqs,\n",
    "                                                                    cwt_n_cycles=n_cycles,\n",
    "                                                                    verbose='warning').get_data()[:, 0])\n",
    "            # return pairwise_connectivity\n",
    "        else:\n",
    "            pairwise_connectivity = np.squeeze(spectral_connectivity_epochs(mne_data,\n",
    "                                                            indices=indices,\n",
    "                                                            method=metric,\n",
    "                                                            sfreq=mne_data.info['sfreq'],\n",
    "                                                            mode='cwt_morlet',\n",
    "                                                            fmin=band[0], fmax=band[1], faverage=True,\n",
    "                                                            cwt_freqs=freqs,\n",
    "                                                            cwt_n_cycles=n_cycles,\n",
    "                                                            verbose='warning').get_data()[:, 0])\n",
    "        if metric in ['gc', 'imcoh']:\n",
    "            # no pairs here: computed over whole multivariate state space \n",
    "            n_pairs=1\n",
    "        else: \n",
    "            n_pairs = len(indices[0])\n",
    "\n",
    "        if n_pairs == 1:\n",
    "            # reshape data\n",
    "            pairwise_connectivity = pairwise_connectivity.reshape((pairwise_connectivity.shape[0], n_pairs))\n",
    "            \n",
    "        # # crop the buffer now:\n",
    "        buf_rs = int((buf_ms/1000) * mne_data.info['sfreq'])\n",
    "        pairwise_connectivity = pairwise_connectivity[:, buf_rs:-buf_rs]\n",
    "\n",
    "        if n_surr > 0:\n",
    "            if parallelize == True:\n",
    "                def _process_surrogate_epochs(ns):\n",
    "                    print(f'Computing surrogate # {ns} - parallel')\n",
    "                    surrogate_result = compute_surr_connectivity_epochs(mne_data, indices, metric, band, freqs, n_cycles, buf_ms=buf_ms)\n",
    "                    return surrogate_result\n",
    "\n",
    "                surrogates = Parallel(n_jobs=-1)(delayed(_process_surrogate_epochs)(ns) for ns in range(n_surr))\n",
    "                surr_struct = np.stack(surrogates, axis=-1)\n",
    "            else: \n",
    "                data = np.swapaxes(mne_data.get_data(), 0, 1) # swap so now it's chan, events, times \n",
    "\n",
    "                surr_struct = np.zeros([pairwise_connectivity.shape[0], n_pairs, n_surr]) # allocate space for all the surrogates \n",
    "\n",
    "                # progress_bar = tqdm(np.arange(n_surr), ascii=True, desc='Computing connectivity surrogates')\n",
    "\n",
    "                for ns in range(n_surr): \n",
    "                    print(f'Computing surrogate # {ns}')\n",
    "                    surr_dat = np.zeros_like(data) # allocate space for the surrogate channels \n",
    "                    for ix, ch_dat in enumerate(data): # apply the same swap to every event in a channel, but differ between channels \n",
    "                        surr_ch = swap_time_blocks(ch_dat, random_state=None)\n",
    "                        surr_dat[ix, :, :] = surr_ch\n",
    "                    surr_dat = np.swapaxes(surr_dat, 0, 1) # swap back so it's events, chan, times \n",
    "                    # make a new EpochArray from it\n",
    "                    surr_mne = mne.EpochsArray(surr_dat, \n",
    "                                mne_data.info, \n",
    "                                tmin=mne_data.tmin, \n",
    "                                events = mne_data.events, \n",
    "                                event_id = mne_data.event_id)\n",
    "\n",
    "                    if metric == 'psi':\n",
    "                        surr_conn = np.squeeze(phase_slope_index(surr_mne,\n",
    "                                                                    indices=indices,\n",
    "                                                                    sfreq=surr_mne.info['sfreq'],\n",
    "                                                                    mode='cwt_morlet',\n",
    "                                                                    fmin=band[0], fmax=band[1],\n",
    "                                                                    cwt_freqs=freqs,\n",
    "                                                                    cwt_n_cycles=n_cycles,\n",
    "                                                                    verbose='warning').get_data()[:, 0])\n",
    "                    else:\n",
    "                        surr_conn = np.squeeze(spectral_connectivity_epochs(surr_mne,\n",
    "                                                                        indices=indices,\n",
    "                                                                        method=metric,\n",
    "                                                                        sfreq=surr_mne.info['sfreq'],\n",
    "                                                                        mode='cwt_morlet',\n",
    "                                                                        fmin=band[0], fmax=band[1], faverage=True,\n",
    "                                                                        cwt_freqs=freqs,\n",
    "                                                                        cwt_n_cycles=n_cycles,\n",
    "                                                                        verbose='warning').get_data()[:, 0])\n",
    "                    if n_pairs == 1:\n",
    "                        # reshape data\n",
    "                        surr_conn = surr_conn.reshape((surr_conn.shape[0], n_pairs))\n",
    "\n",
    "                    # crop the surrogate: \n",
    "                    surr_conn = surr_conn[:, buf_rs:-buf_rs]\n",
    "\n",
    "                    surr_struct[:, :, ns] = surr_conn\n",
    "                    clear_output(wait=True)\n",
    "\n",
    "            surr_mean = np.nanmean(surr_struct, axis=-1)\n",
    "            surr_std = np.nanstd(surr_struct, axis=-1)\n",
    "            pairwise_connectivity = (pairwise_connectivity - surr_mean) / (surr_std)\n",
    "            \n",
    "            # surr_struct[:, :, -1] = pairwise_connectivity # add the real data in as the last entry \n",
    "            # z_struct = zscore(surr_struct, axis=-1) # take the zscore across surrogate runs and the real data \n",
    "            # pairwise_connectivity = z_struct[:, :, -1] # extract the real data\n",
    "    elif avg_over_dim == 'time':    \n",
    "        if metric == 'psi': \n",
    "            return (ValueError('Cannot compute psi over time.'))\n",
    "        elif metric == 'amp': \n",
    "            \n",
    "            # crop the buffer first:\n",
    "            buf_s = buf_ms / 1000\n",
    "            mne_data.crop(tmin=mne_data.tmin + buf_s,\n",
    "                          tmax=mne_data.tmax - buf_s)\n",
    "\n",
    "            pairwise_connectivity = amp_amp_coupling(mne_data, \n",
    "                                                     indices, \n",
    "                                                     freqs0=band,\n",
    "                                                     freqs1=band1)\n",
    "            if metric in ['gc', 'imcoh']:\n",
    "                # no pairs here: computed over whole multivariate state space \n",
    "                n_pairs=1\n",
    "            else: \n",
    "                n_pairs = len(indices[0])\n",
    "\n",
    "            if n_pairs == 1:\n",
    "                # reshape data\n",
    "                pairwise_connectivity = pairwise_connectivity.reshape((pairwise_connectivity.shape[0], n_pairs))\n",
    "\n",
    "            if n_surr > 0:\n",
    "                data = np.swapaxes(mne_data.get_data(), 0, 1) # swap so now it's chan, events, times \n",
    "\n",
    "                surr_struct = np.zeros([pairwise_connectivity.shape[0], n_pairs, n_surr]) # allocate space for all the surrogates \n",
    "\n",
    "                # progress_bar = tqdm(np.arange(n_surr), ascii=True, desc='Computing connectivity surrogates')\n",
    "\n",
    "                for ns in range(n_surr): \n",
    "                    print(f'Computing surrogate # {ns}')\n",
    "                    surr_dat = np.zeros_like(data) # allocate space for the surrogate channels \n",
    "                    for ix, ch_dat in enumerate(data): # apply the same swap to every event in a channel, but differ between channels \n",
    "                        surr_ch = swap_time_blocks(ch_dat, random_state=None)\n",
    "                        surr_dat[ix, :, :] = surr_ch\n",
    "                    surr_dat = np.swapaxes(surr_dat, 0, 1) # swap back so it's events, chan, times \n",
    "                    # make a new EpochArray from it\n",
    "                    surr_mne = mne.EpochsArray(surr_dat, \n",
    "                                mne_data.info, \n",
    "                                tmin=mne_data.tmin, \n",
    "                                events = mne_data.events, \n",
    "                                event_id = mne_data.event_id)\n",
    "\n",
    "                    surr_conn = amp_amp_coupling(surr_mne, \n",
    "                                                 indices, \n",
    "                                                 freqs0=band,\n",
    "                                                 freqs1=band1)\n",
    "                    if n_pairs == 1:\n",
    "                        # reshape data\n",
    "                        surr_conn = surr_conn.reshape((surr_conn.shape[0], n_pairs))\n",
    "\n",
    "                    surr_struct[:, :, ns] = surr_conn\n",
    "                    clear_output(wait=True)\n",
    "\n",
    "                surr_mean = np.nanmean(surr_struct, axis=-1)\n",
    "                surr_std = np.nanstd(surr_struct, axis=-1)\n",
    "                pairwise_connectivity = (pairwise_connectivity - surr_mean) / (surr_std)\n",
    "                # surr_struct[:, :, -1] = pairwise_connectivity # add the real data in as the last entry\n",
    "                # z_struct = zscore(surr_struct, axis=-1) # take the zscore across surrogate runs and the real data\n",
    "                # pairwise_connectivity = z_struct[:, :, -1] # extract the real data      \n",
    "        else:\n",
    "            if metric == 'granger':\n",
    "                # I don't want to compute multivariate GC, so refactor the indices: \n",
    "                pairwise_connectivity = []\n",
    "\n",
    "                for ix, _ in enumerate(indices[0]):\n",
    "                    gc_indices = (np.array([[indices[0][ix]]]), np.array([[indices[1][ix]]]))\n",
    "                \n",
    "                    gc = compute_gc_tr(mne_data=mne_data, \n",
    "                            band=band,\n",
    "                            indices=gc_indices, \n",
    "                            freqs=freqs[(freqs>=band[0]) & (freqs<=band[1])], \n",
    "                            n_cycles=n_cycles[(freqs>=band[0]) & (freqs<=band[1])],\n",
    "                            rank=None, \n",
    "                            gc_n_lags=7, \n",
    "                            buf_ms=buf_ms, \n",
    "                            avg_over_dim='time')\n",
    "                    \n",
    "                    pairwise_connectivity.append(gc)\n",
    "                    \n",
    "                pairwise_connectivity = np.hstack(pairwise_connectivity)\n",
    "            else:\n",
    "                pairwise_connectivity = np.squeeze(spectral_connectivity_time(data=mne_data, \n",
    "                                                    freqs=freqs[(freqs>=band[0]) & (freqs<=band[1])], \n",
    "                                                    average=False, \n",
    "                                                    indices=indices, \n",
    "                                                    method=metric, \n",
    "                                                    sfreq=mne_data.info['sfreq'], \n",
    "                                                    mode='cwt_morlet', \n",
    "                                                    fmin=band[0], fmax=band[1], faverage=True, \n",
    "                                                    padding=(buf_ms / 1000), \n",
    "                                                    n_cycles=n_cycles[(freqs>=band[0]) & (freqs<=band[1])],\n",
    "#                                                     rank=None,\n",
    "#                                                     gc_n_lags=7,\n",
    "                                                    verbose='warning').get_data())\n",
    "                # This returns an array of shape (n_events, n_pairs) \n",
    "                # where n_pairs is the number of pairs of channels in indices\n",
    "                # and n_events is the number of events in the data\n",
    "\n",
    "            \n",
    "            if metric in ['gc', 'imcoh']:\n",
    "                # no pairs here: computed over whole multivariate state space \n",
    "                n_pairs=1\n",
    "            else: \n",
    "                n_pairs = len(indices[0])\n",
    "\n",
    "            if n_pairs == 1:\n",
    "                # reshape data\n",
    "                pairwise_connectivity = pairwise_connectivity.reshape((pairwise_connectivity.shape[0], n_pairs))\n",
    "\n",
    "            if n_surr > 0:\n",
    "                if parallelize == True:\n",
    "                    def _process_surrogate_time(ns):\n",
    "                        print(f'Computing surrogate # {ns} - parallel')\n",
    "                        surrogate_result = compute_surr_connectivity_time(mne_data, indices, metric, band, freqs, n_cycles, buf_ms)\n",
    "                        return surrogate_result\n",
    "\n",
    "                    surrogates = Parallel(n_jobs=-1)(delayed(_process_surrogate_time)(ns) for ns in range(n_surr))\n",
    "                    surr_struct = np.stack(surrogates, axis=-1)\n",
    "                else:\n",
    "                    data = np.swapaxes(mne_data.get_data(), 0, 1) # swap so now it's chan, events, times \n",
    "\n",
    "                    surr_struct = np.zeros([pairwise_connectivity.shape[0], n_pairs, n_surr]) # allocate space for all the surrogates \n",
    "\n",
    "                    # progress_bar = tqdm(np.arange(n_surr), ascii=True, desc='Computing connectivity surrogates')\n",
    "\n",
    "                    for ns in range(n_surr): \n",
    "                        print(f'Computing surrogate # {ns}')\n",
    "                        surr_dat = np.zeros_like(data) # allocate space for the surrogate channels \n",
    "                        for ix, ch_dat in enumerate(data): # apply the same swap to every event in a channel, but differ between channels \n",
    "                            surr_ch = swap_time_blocks(ch_dat, random_state=None)\n",
    "                            surr_dat[ix, :, :] = surr_ch\n",
    "                        surr_dat = np.swapaxes(surr_dat, 0, 1) # swap back so it's events, chan, times \n",
    "                        # make a new EpochArray from it\n",
    "                        surr_mne = mne.EpochsArray(surr_dat, \n",
    "                                    mne_data.info, \n",
    "                                    tmin=mne_data.tmin, \n",
    "                                    events = mne_data.events, \n",
    "                                    event_id = mne_data.event_id)\n",
    "                        \n",
    "                        surr_conn = np.squeeze(spectral_connectivity_time(data=surr_mne, \n",
    "                                                    freqs=freqs[(freqs>=band[0]) & (freqs<=band[1])], \n",
    "                                                    average=False, \n",
    "                                                    indices=indices, \n",
    "                                                    method=metric, \n",
    "                                                    sfreq=surr_mne.info['sfreq'], \n",
    "                                                    mode='cwt_morlet', \n",
    "                                                    fmin=band[0], fmax=band[1], faverage=True, \n",
    "                                                    padding=(buf_ms / 1000), \n",
    "                                                    n_cycles=n_cycles[(freqs>=band[0]) & (freqs<=band[1])],\n",
    "#                                                     gc_n_lags=7,\n",
    "                                                    verbose='warning').get_data())\n",
    "                        \n",
    "                        if n_pairs == 1:\n",
    "                            # reshape data\n",
    "                            surr_conn = surr_conn.reshape((surr_conn.shape[0], n_pairs))\n",
    "\n",
    "                        surr_struct[:, :, ns] = surr_conn\n",
    "                        clear_output(wait=True)\n",
    "\n",
    "                surr_mean = np.nanmean(surr_struct, axis=-1)\n",
    "                surr_std = np.nanstd(surr_struct, axis=-1)\n",
    "                pairwise_connectivity = (pairwise_connectivity - surr_mean) / (surr_std)\n",
    "                # surr_struct[:, :, -1] = pairwise_connectivity # add the real data in as the last entry\n",
    "                # z_struct = zscore(surr_struct, axis=-1) # take the zscore across surrogate runs and the real data\n",
    "                # pairwise_connectivity = z_struct[:, :, -1] # extract the real data            \n",
    "\n",
    "    return pairwise_connectivity\n",
    "\n",
    "\n"
   ]
  },
  {
   "cell_type": "code",
   "execution_count": null,
   "id": "e7a1d6b6",
   "metadata": {},
   "outputs": [],
   "source": [
    "'''\n",
    "MAIN FUNCTIONS FROM OSCILLATION UTILS \n",
    "\n",
    "def find_nearest_value(array, value):\n",
    "    \"\"\"Find nearest value and index of float in array\n",
    "    Parameters:\n",
    "    array : Array of values [1d array]\n",
    "    value : Value of interest [float]\n",
    "    Returns:\n",
    "    array[idx] : Nearest value [1d float]\n",
    "    idx : Nearest index [1d float]\n",
    "    \"\"\"\n",
    "    array = np.asarray(array)\n",
    "    idx = (np.abs(array - value)).argmin()\n",
    "    return array[idx], idx\n",
    "\n",
    "def getTimeFromFTmat(fname, var_name='data'):\n",
    "    \"\"\"\n",
    "    Get original timing from FieldTrip structure\n",
    "    Solution based on https://github.com/mne-tools/mne-python/issues/2476\n",
    "    \"\"\"\n",
    "    # load Matlab/Fieldtrip data\n",
    "    mat = sio.loadmat(fname, squeeze_me=True, struct_as_record=False)\n",
    "    ft_data = mat[var_name]\n",
    "    # convert to mne\n",
    "    n_trial = len(ft_data.trial)\n",
    "    n_chans, n_time = ft_data.trial[0].shape\n",
    "    #data = np.zeros((n_trial, n_chans, n_time))\n",
    "    time = np.zeros((n_trial, n_time))\n",
    "    for trial in range(n_trial):\n",
    "        # data[trial, :, :] = ft_data.trial[trial]\n",
    "        # Note that this indexes time_orig in the adapted structure\n",
    "        time[trial, :] = ft_data.time_orig[trial]\n",
    "    return time\n",
    "\n",
    "def get_project_root() -> Path:\n",
    "    return Path(__file__)\n",
    "    \n",
    "def swap_time_blocks(data, random_state=None):\n",
    "\n",
    "    \"\"\"Compute surrogates by swapping time blocks.\n",
    "    This function cuts the timeseries at a random time point. Then, both time\n",
    "    blocks are swapped.\n",
    "    Parameters\n",
    "    ----------\n",
    "    data : array_like\n",
    "        Array of shape (n_chan, ..., n_times).\n",
    "    random_state : int | None\n",
    "        Fix the random state of the machine for reproducible results.\n",
    "    Returns\n",
    "    -------\n",
    "    surr : array_like\n",
    "        Swapped timeseries to use to compute the distribution of\n",
    "        permutations\n",
    "    References\n",
    "    ----------\n",
    "    Source: Bahramisharif et al. 2013 \n",
    "    Justification: https://www.sciencedirect.com/science/article/pii/S0959438814001640\n",
    "    \"\"\"\n",
    "    \n",
    "    if random_state is None:\n",
    "        random_state = int(np.random.randint(0, 10000, size=1))\n",
    "    rnd = np.random.RandomState(random_state)\n",
    "    \n",
    "    # get the minimum / maximum shift\n",
    "    min_shift, max_shift = 1, None\n",
    "    if not isinstance(max_shift, (int, float)):\n",
    "        max_shift = data.shape[-1]\n",
    "    # random cutting point along time axis\n",
    "    cut_at = rnd.randint(min_shift, max_shift, (1,))\n",
    "    # split amplitude across time into two parts\n",
    "    surr = np.array_split(data, cut_at, axis=-1)\n",
    "    # revered elements\n",
    "    surr.reverse()\n",
    "    \n",
    "    return np.concatenate(surr, axis=-1)\n",
    "\n",
    "def amp_amp_coupling(mne_data, seed_to_target, freqs0, freqs1=None):\n",
    "    \"\"\"\n",
    "    Compute the correlation between the amplitude envelope of two signals. \n",
    "    Can be within-frequency or between-frequency coupling.\n",
    "\n",
    "    Parameters\n",
    "    ----------\n",
    "    mne_data : epochs object\n",
    "        MNE epochs object containing the data to be analyzed.\n",
    "    seed_to_target : list of tuples\n",
    "        List of tuples containing the indices of the seed and target electrodes.\n",
    "    freqs0 : list or tuple\n",
    "        Frequency range for the first signal.\n",
    "    freqs1 : list or tuple\n",
    "        Frequency range for the second signal. If None, assume within-frequency coupling.\n",
    "\n",
    "    Note: inspired by MNE's pairwise orthogonal envelope connectivity metric but altered for iEEG data \n",
    "    \"\"\"\n",
    "\n",
    "    nevents = mne_data._data.shape[0]\n",
    "    ntimes = mne_data._data.shape[-1] \n",
    "    nfft = next_fast_len(ntimes)  \n",
    "    # npairs = len(seed_to_target[0])\n",
    "    nsource = len(np.unique(seed_to_target[0]))\n",
    "    ntarget = len(np.unique(seed_to_target[1]))\n",
    "\n",
    "    if freqs1 is None: \n",
    "        # Assume within-frequency coupling\n",
    "        freqs1 = freqs0\n",
    "    \n",
    "    signal0 = mne_data._data[:, np.unique(seed_to_target[0]), :]\n",
    "    signal1 = mne_data._data[:, np.unique(seed_to_target[1]), :]\n",
    "\n",
    "    signal0_filt = mne.filter.filter_data(signal0, \n",
    "                     mne_data.info['sfreq'], \n",
    "                     l_freq=freqs0[0], \n",
    "                     h_freq=freqs0[1])\n",
    "    \n",
    "    signal1_filt = mne.filter.filter_data(signal1,\n",
    "                        mne_data.info['sfreq'],\n",
    "                        l_freq=freqs0[0],\n",
    "                        h_freq=freqs0[1])\n",
    "    \n",
    "    corrs = []\n",
    "\n",
    "    for ei in range(nevents):\n",
    "        signal0_hilbert = hilbert(signal0_filt[ei, :, :], N=nfft, axis=-1)[..., :ntimes]\n",
    "        signal0_amp = np.abs(signal0_hilbert)\n",
    "        signal1_hilbert = hilbert(signal1_filt[ei, :, :], N=nfft, axis=-1)[..., :ntimes]\n",
    "        signal1_amp = np.abs(signal1_hilbert)\n",
    "\n",
    "        # Square and log the analytical amplitude: https://www.nature.com/articles/nn.3101#Sec15\n",
    "        signal0_amp *= signal0_amp\n",
    "        np.log(signal0, out=signal0)\n",
    "        signal1_amp *= signal1_amp\n",
    "        np.log(signal1, out=signal1)\n",
    "\n",
    "        # subtract mean \n",
    "        signal0_amp_nomean = signal0_amp - np.mean(signal0_amp, axis=-1, keepdims=True)\n",
    "        signal1_amp_nomean = signal1_amp - np.mean(signal1_amp, axis=-1, keepdims=True)\n",
    "\n",
    "        # compute variances using linalg.norm (square, sum, sqrt) since mean=0\n",
    "        signal0_amp_std = np.linalg.norm(signal0_amp_nomean, axis=-1)\n",
    "        signal0_amp_std[signal0_amp_std == 0] = 1\n",
    "        signal1_amp_std = np.linalg.norm(signal1_amp_nomean, axis=-1)\n",
    "        signal1_amp_std[signal1_amp_std == 0] = 1\n",
    "\n",
    "        # compute correlation for each source to all targets\n",
    "        corr_mat = []\n",
    "        for source_ix in range(nsource):\n",
    "            for target_ix in range(ntarget): \n",
    "                signal0_amp_elec = np.squeeze(signal0_amp_nomean[source_ix, :])\n",
    "                signal1_amp_elec = np.squeeze(signal1_amp_nomean[target_ix, :])\n",
    "                corr = np.sum(signal1_amp_elec * signal0_amp_elec)\n",
    "                corr /= signal0_amp_std[source_ix]\n",
    "                corr /= signal1_amp_std[target_ix]\n",
    "                corr_mat.append(corr)\n",
    "                \n",
    "        corrs.append(corr_mat)\n",
    "\n",
    "    pairwise_connectivity = np.stack(corrs) # size is (nevents, ntarget, nsource)\n",
    "    # reshape so all pairs are in order:\n",
    "\n",
    "\n",
    "    return pairwise_connectivity\n",
    "\n",
    "def compute_gc_tr(mne_data=None, \n",
    "                band=None,\n",
    "                indices=None, \n",
    "                freqs=None, \n",
    "                n_cycles=None,\n",
    "                rank=None, \n",
    "                gc_n_lags=15, \n",
    "                buf_ms=1000, \n",
    "                avg_over_dim='time'): \n",
    "    \"\"\"\n",
    "    Following https://mne.tools/mne-connectivity/stable/auto_examples/granger_causality.html#sphx-glr-auto-examples-granger-causality-py\n",
    "    \"\"\"\n",
    "\n",
    "    indices_ab = (np.array([np.unique(indices[0]).tolist()]), np.array([np.unique(indices[1]).tolist()]))  # A => B\n",
    "    indices_ba = (np.array([np.unique(indices[1]).tolist()]), np.array([np.unique(indices[0]).tolist()]))  # B => A\n",
    "    \n",
    "    if avg_over_dim == 'epochs':\n",
    "        # compute Granger causality\n",
    "        gc_ab = spectral_connectivity_epochs(\n",
    "            mne_data,\n",
    "            sfreq = mne_data.info['sfreq'],\n",
    "            method=[\"gc\"],\n",
    "            indices=indices_ab,\n",
    "            fmin=band[0], fmax=band[1],\n",
    "            rank=rank,\n",
    "            gc_n_lags=gc_n_lags) \n",
    "        # A => B\n",
    "        gc_ba = spectral_connectivity_epochs(\n",
    "            mne_data,\n",
    "            sfreq = mne_data.info['sfreq'],\n",
    "            method=[\"gc\"],\n",
    "            indices=indices_ba,\n",
    "            fmin=band[0], fmax=band[1],\n",
    "            rank=rank,\n",
    "            gc_n_lags=gc_n_lags)  \n",
    "        # B => A\n",
    "                    \n",
    "        # compute GC on time-reversed signals\n",
    "        gc_tr_ab = spectral_connectivity_epochs(\n",
    "            mne_data,\n",
    "            sfreq = mne_data.info['sfreq'],        \n",
    "            method=[\"gc_tr\"],\n",
    "            indices=indices_ab,\n",
    "            fmin=band[0], fmax=band[1],\n",
    "            rank=rank,\n",
    "            gc_n_lags=gc_n_lags)  \n",
    "        # TR[A => B]\n",
    "\n",
    "        gc_tr_ba = spectral_connectivity_epochs(\n",
    "            mne_data,\n",
    "            sfreq = mne_data.info['sfreq'],                \n",
    "            method=[\"gc_tr\"],\n",
    "            indices=indices_ba,\n",
    "            fmin=band[0], fmax=band[1],\n",
    "            rank=rank,\n",
    "            gc_n_lags=gc_n_lags)  \n",
    "        # TR[B => A]\n",
    "    elif avg_over_dim =='time':\n",
    "        # compute Granger causality\n",
    "        gc_ab = spectral_connectivity_time(\n",
    "            mne_data,\n",
    "            sfreq = mne_data.info['sfreq'],\n",
    "            method=[\"gc\"],\n",
    "            indices=indices_ab,\n",
    "            fmin=band[0], fmax=band[1],\n",
    "            freqs=freqs[(freqs>=band[0]) & (freqs<=band[1])],\n",
    "            rank=rank,\n",
    "            padding=(buf_ms / 1000), \n",
    "            n_cycles=n_cycles[(freqs>=band[0]) & (freqs<=band[1])],\n",
    "            gc_n_lags=gc_n_lags) \n",
    "\n",
    "        # A => B\n",
    "        gc_ba = spectral_connectivity_time(\n",
    "            mne_data,\n",
    "            sfreq = mne_data.info['sfreq'],\n",
    "            method=[\"gc\"],\n",
    "            indices=indices_ba,\n",
    "            fmin=band[0], fmax=band[1],\n",
    "            freqs=freqs[(freqs>=band[0]) & (freqs<=band[1])],\n",
    "            rank=rank,\n",
    "            padding=(buf_ms / 1000), \n",
    "            n_cycles=n_cycles[(freqs>=band[0]) & (freqs<=band[1])],\n",
    "            gc_n_lags=gc_n_lags)  \n",
    "        # B => A\n",
    "                    \n",
    "        # compute GC on time-reversed signals\n",
    "        gc_tr_ab = spectral_connectivity_time(\n",
    "            mne_data,\n",
    "            sfreq = mne_data.info['sfreq'],        \n",
    "            method=[\"gc_tr\"],\n",
    "            indices=indices_ab,\n",
    "            fmin=band[0], fmax=band[1],\n",
    "            freqs=freqs[(freqs>=band[0]) & (freqs<=band[1])],\n",
    "            rank=rank,\n",
    "            padding=(buf_ms / 1000), \n",
    "            n_cycles=n_cycles[(freqs>=band[0]) & (freqs<=band[1])],\n",
    "            gc_n_lags=gc_n_lags)  \n",
    "        # TR[A => B]\n",
    "\n",
    "        gc_tr_ba = spectral_connectivity_time(\n",
    "            mne_data,\n",
    "            sfreq = mne_data.info['sfreq'],                \n",
    "            method=[\"gc_tr\"],\n",
    "            indices=indices_ba,\n",
    "            fmin=band[0], fmax=band[1],\n",
    "            freqs=freqs[(freqs>=band[0]) & (freqs<=band[1])],\n",
    "            rank=rank,\n",
    "            padding=(buf_ms / 1000), \n",
    "            n_cycles=n_cycles[(freqs>=band[0]) & (freqs<=band[1])],\n",
    "            gc_n_lags=gc_n_lags)  \n",
    "        # TR[B => A]\n",
    "\n",
    "    net_gc = gc_ab.get_data() - gc_ba.get_data()  # [A => B] - [B => A]\n",
    "\n",
    "    # compute net GC on time-reversed signals (TR[A => B] - TR[B => A])\n",
    "    net_gc_tr = gc_tr_ab.get_data() - gc_tr_ba.get_data()\n",
    "\n",
    "    # compute TRGC\n",
    "    gc_tr = net_gc - net_gc_tr\n",
    "\n",
    "    return gc_tr.mean(axis=-1)\n",
    "\n",
    "def compute_surr_connectivity_epochs(mne_data, indices, metric, band, freqs, n_cycles, buf_ms=1000):\n",
    "\n",
    "    n_pairs = len(indices[0])\n",
    "    data = np.swapaxes(mne_data.get_data(), 0, 1) # swap so now it's chan, events, times \n",
    "\n",
    "    surr_dat = np.zeros_like(data) # allocate space for the surrogate channels \n",
    "\n",
    "    for ix, ch_dat in enumerate(data): # apply the same swap to every event in a channel, but differ between channels \n",
    "        surr_ch = swap_time_blocks(ch_dat, random_state=None)\n",
    "        surr_dat[ix, :, :] = surr_ch\n",
    "\n",
    "    surr_dat = np.swapaxes(surr_dat, 0, 1) # swap back so it's events, chan, times \n",
    "\n",
    "    # make a new EpochArray from it\n",
    "    surr_mne = mne.EpochsArray(surr_dat, \n",
    "                mne_data.info, \n",
    "                tmin=mne_data.tmin, \n",
    "                events = mne_data.events, \n",
    "                event_id = mne_data.event_id)\n",
    "\n",
    "    if metric == 'psi':\n",
    "        surr_conn = np.squeeze(phase_slope_index(surr_mne,\n",
    "                                                    indices=indices,\n",
    "                                                    sfreq=surr_mne.info['sfreq'],\n",
    "                                                    mode='cwt_morlet',\n",
    "                                                    fmin=band[0], fmax=band[1],\n",
    "                                                    cwt_freqs=freqs,\n",
    "                                                    cwt_n_cycles=n_cycles,\n",
    "                                                    verbose='warning').get_data()[:, 0])\n",
    "\n",
    "    else:\n",
    "        surr_conn = np.squeeze(spectral_connectivity_epochs(surr_mne,\n",
    "                                                        indices=indices,\n",
    "                                                        method=metric,\n",
    "                                                        sfreq=surr_mne.info['sfreq'],\n",
    "                                                        mode='cwt_morlet',\n",
    "                                                        fmin=band[0], fmax=band[1], faverage=True,\n",
    "                                                        cwt_freqs=freqs,\n",
    "                                                        cwt_n_cycles=n_cycles,\n",
    "                                                        verbose='warning').get_data()[:, 0])\n",
    "    if n_pairs == 1:\n",
    "        # reshape data\n",
    "        surr_conn = surr_conn.reshape((surr_conn.shape[0], n_pairs))\n",
    "\n",
    "    # crop the buffer now:\n",
    "    buf_rs = int((buf_ms/1000) * surr_mne.info['sfreq'])\n",
    "    surr_conn = surr_conn[:, buf_rs:-buf_rs]\n",
    "\n",
    "    return surr_conn\n",
    "\n",
    "\n",
    "def compute_surr_connectivity_time(mne_data, indices, metric, band, freqs, n_cycles, buf_ms):\n",
    "\n",
    "    n_pairs = len(indices[0])\n",
    "    data = np.swapaxes(mne_data.get_data(), 0, 1) # swap so now it's chan, events, times \n",
    "\n",
    "    surr_dat = np.zeros_like(data) # allocate space for the surrogate channels \n",
    "\n",
    "    for ix, ch_dat in enumerate(data): # apply the same swap to every event in a channel, but differ between channels \n",
    "        surr_ch = swap_time_blocks(ch_dat, random_state=None)\n",
    "        surr_dat[ix, :, :] = surr_ch\n",
    "\n",
    "    surr_dat = np.swapaxes(surr_dat, 0, 1) # swap back so it's events, chan, times \n",
    "\n",
    "    # make a new EpochArray from it\n",
    "    surr_mne = mne.EpochsArray(surr_dat, \n",
    "                mne_data.info, \n",
    "                tmin=mne_data.tmin, \n",
    "                events = mne_data.events, \n",
    "                event_id = mne_data.event_id)\n",
    "\n",
    "    if metric == 'granger':\n",
    "        # I don't want to compute multivariate GC, so refactor the indices: \n",
    "        surr_conn = []\n",
    "\n",
    "        for ix, _ in enumerate(indices[0]):\n",
    "            gc_indices = (np.array([[indices[0][ix]]]), np.array([[indices[1][ix]]]))\n",
    "        \n",
    "            gc = compute_gc_tr(mne_data=surr_mne, \n",
    "                    band=band,\n",
    "                    indices=gc_indices, \n",
    "                    freqs=freqs[(freqs>=band[0]) & (freqs<=band[1])], \n",
    "                    n_cycles=n_cycles[(freqs>=band[0]) & (freqs<=band[1])],\n",
    "                    rank=None, \n",
    "                    gc_n_lags=7, \n",
    "                    buf_ms=buf_ms, \n",
    "                    avg_over_dim='time')\n",
    "            \n",
    "            surr_conn.append(gc)\n",
    "            \n",
    "        surr_conn = np.hstack(surr_conn)\n",
    "    else:\n",
    "        surr_conn = np.squeeze(spectral_connectivity_time(data=surr_mne, \n",
    "                                    freqs=freqs[(freqs>=band[0]) & (freqs<=band[1])], \n",
    "                                    average=False, \n",
    "                                    indices=indices, \n",
    "                                    method=metric, \n",
    "                                    sfreq=surr_mne.info['sfreq'], \n",
    "                                    mode='cwt_morlet', \n",
    "                                    fmin=band[0], fmax=band[1], faverage=True, \n",
    "                                    padding=(buf_ms / 1000), \n",
    "                                    n_cycles=n_cycles[(freqs>=band[0]) & (freqs<=band[1])],\n",
    "                                    rank=None, \n",
    "                                    gc_n_lags=7,\n",
    "                                    verbose='warning').get_data())\n",
    "    \n",
    "    if n_pairs == 1:\n",
    "        # reshape data\n",
    "        surr_conn = surr_conn.reshape((surr_conn.shape[0], n_pairs))\n",
    "\n",
    "    return surr_conn\n",
    "\n",
    "\n",
    "def compute_connectivity(mne_data=None, \n",
    "                        band=None,\n",
    "                        metric=None, \n",
    "                        indices=None, \n",
    "                        freqs=None, \n",
    "                        n_cycles=None, \n",
    "                        buf_ms=1000, \n",
    "                        avg_over_dim='time',\n",
    "                        n_surr=500,\n",
    "                        parallelize=False,\n",
    "                        band1=None):\n",
    "    \"\"\"\n",
    "    Compute different connectivity metrics using mne.\n",
    "    :param eeg_mne: MNE formatted EEG\n",
    "    :param samplerate: sample rate of the data\n",
    "    :param band: tuple of band of interest\n",
    "    :param metric: 'psi' for directional, or for non_directional: ['coh', 'cohy', 'imcoh', 'plv', 'ciplv', 'ppc', 'pli', pli2_unbiased', 'dpli', 'wpli', 'wpli2_debiased']\n",
    "    see: https://mne.tools/mne-connectivity/stable/generated/mne_connectivity.spectral_connectivity_epochs.html\n",
    "    :param indices: determine the source and target for connectivity. Matters most for directional metrics i.e. 'psi'\n",
    "    :return:\n",
    "    pairwise connectivity: array of pairwise weights for the connectivity metric with some number of timepoints\n",
    "    \"\"\"\n",
    "    if metric == 'gr_tc':\n",
    "        return (ValueError('Use the function compute_gc_tr'))\n",
    "\n",
    "    elif metric in ['gc', 'imcoh']: \n",
    "        indices = (np.array([np.unique(indices[0]).tolist()]), np.array([np.unique(indices[1]).tolist()]))\n",
    "\n",
    "    if avg_over_dim == 'epochs':\n",
    "        if metric == 'amp': \n",
    "            return (ValueError('Cannot compute amplitude-amplitude coupling over epochs.'))\n",
    "        if metric == 'psi': \n",
    "            pairwise_connectivity = np.squeeze(phase_slope_index(mne_data,\n",
    "                                                                    indices=indices,\n",
    "                                                                    sfreq=mne_data.info['sfreq'],\n",
    "                                                                    mode='cwt_morlet',\n",
    "                                                                    fmin=band[0], fmax=band[1],\n",
    "                                                                    cwt_freqs=freqs,\n",
    "                                                                    cwt_n_cycles=n_cycles,\n",
    "                                                                    verbose='warning').get_data()[:, 0])\n",
    "            # return pairwise_connectivity\n",
    "        else:\n",
    "            pairwise_connectivity = np.squeeze(spectral_connectivity_epochs(mne_data,\n",
    "                                                            indices=indices,\n",
    "                                                            method=metric,\n",
    "                                                            sfreq=mne_data.info['sfreq'],\n",
    "                                                            mode='cwt_morlet',\n",
    "                                                            fmin=band[0], fmax=band[1], faverage=True,\n",
    "                                                            cwt_freqs=freqs,\n",
    "                                                            cwt_n_cycles=n_cycles,\n",
    "                                                            verbose='warning').get_data()[:, 0])\n",
    "        if metric in ['gc', 'imcoh']:\n",
    "            # no pairs here: computed over whole multivariate state space \n",
    "            n_pairs=1\n",
    "        else: \n",
    "            n_pairs = len(indices[0])\n",
    "\n",
    "        if n_pairs == 1:\n",
    "            # reshape data\n",
    "            pairwise_connectivity = pairwise_connectivity.reshape((pairwise_connectivity.shape[0], n_pairs))\n",
    "            \n",
    "        # # crop the buffer now:\n",
    "        buf_rs = int((buf_ms/1000) * mne_data.info['sfreq'])\n",
    "        pairwise_connectivity = pairwise_connectivity[:, buf_rs:-buf_rs]\n",
    "\n",
    "        if n_surr > 0:\n",
    "            if parallelize == True:\n",
    "                def _process_surrogate_epochs(ns):\n",
    "                    print(f'Computing surrogate # {ns} - parallel')\n",
    "                    surrogate_result = compute_surr_connectivity_epochs(mne_data, indices, metric, band, freqs, n_cycles, buf_ms=buf_ms)\n",
    "                    return surrogate_result\n",
    "\n",
    "                surrogates = Parallel(n_jobs=-1)(delayed(_process_surrogate_epochs)(ns) for ns in range(n_surr))\n",
    "                surr_struct = np.stack(surrogates, axis=-1)\n",
    "            else: \n",
    "                data = np.swapaxes(mne_data.get_data(), 0, 1) # swap so now it's chan, events, times \n",
    "\n",
    "                surr_struct = np.zeros([pairwise_connectivity.shape[0], n_pairs, n_surr]) # allocate space for all the surrogates \n",
    "\n",
    "                # progress_bar = tqdm(np.arange(n_surr), ascii=True, desc='Computing connectivity surrogates')\n",
    "\n",
    "                for ns in range(n_surr): \n",
    "                    print(f'Computing surrogate # {ns}')\n",
    "                    surr_dat = np.zeros_like(data) # allocate space for the surrogate channels \n",
    "                    for ix, ch_dat in enumerate(data): # apply the same swap to every event in a channel, but differ between channels \n",
    "                        surr_ch = swap_time_blocks(ch_dat, random_state=None)\n",
    "                        surr_dat[ix, :, :] = surr_ch\n",
    "                    surr_dat = np.swapaxes(surr_dat, 0, 1) # swap back so it's events, chan, times \n",
    "                    # make a new EpochArray from it\n",
    "                    surr_mne = mne.EpochsArray(surr_dat, \n",
    "                                mne_data.info, \n",
    "                                tmin=mne_data.tmin, \n",
    "                                events = mne_data.events, \n",
    "                                event_id = mne_data.event_id)\n",
    "\n",
    "                    if metric == 'psi':\n",
    "                        surr_conn = np.squeeze(phase_slope_index(surr_mne,\n",
    "                                                                    indices=indices,\n",
    "                                                                    sfreq=surr_mne.info['sfreq'],\n",
    "                                                                    mode='cwt_morlet',\n",
    "                                                                    fmin=band[0], fmax=band[1],\n",
    "                                                                    cwt_freqs=freqs,\n",
    "                                                                    cwt_n_cycles=n_cycles,\n",
    "                                                                    verbose='warning').get_data()[:, 0])\n",
    "                    else:\n",
    "                        surr_conn = np.squeeze(spectral_connectivity_epochs(surr_mne,\n",
    "                                                                        indices=indices,\n",
    "                                                                        method=metric,\n",
    "                                                                        sfreq=surr_mne.info['sfreq'],\n",
    "                                                                        mode='cwt_morlet',\n",
    "                                                                        fmin=band[0], fmax=band[1], faverage=True,\n",
    "                                                                        cwt_freqs=freqs,\n",
    "                                                                        cwt_n_cycles=n_cycles,\n",
    "                                                                        verbose='warning').get_data()[:, 0])\n",
    "                    if n_pairs == 1:\n",
    "                        # reshape data\n",
    "                        surr_conn = surr_conn.reshape((surr_conn.shape[0], n_pairs))\n",
    "\n",
    "                    # crop the surrogate: \n",
    "                    surr_conn = surr_conn[:, buf_rs:-buf_rs]\n",
    "\n",
    "                    surr_struct[:, :, ns] = surr_conn\n",
    "                    clear_output(wait=True)\n",
    "\n",
    "            surr_mean = np.nanmean(surr_struct, axis=-1)\n",
    "            surr_std = np.nanstd(surr_struct, axis=-1)\n",
    "            pairwise_connectivity = (pairwise_connectivity - surr_mean) / (surr_std)\n",
    "            \n",
    "            # surr_struct[:, :, -1] = pairwise_connectivity # add the real data in as the last entry \n",
    "            # z_struct = zscore(surr_struct, axis=-1) # take the zscore across surrogate runs and the real data \n",
    "            # pairwise_connectivity = z_struct[:, :, -1] # extract the real data\n",
    "    elif avg_over_dim == 'time':    \n",
    "        if metric == 'psi': \n",
    "            return (ValueError('Cannot compute psi over time.'))\n",
    "        elif metric == 'amp': \n",
    "            \n",
    "            # crop the buffer first:\n",
    "            buf_s = buf_ms / 1000\n",
    "            mne_data.crop(tmin=mne_data.tmin + buf_s,\n",
    "                          tmax=mne_data.tmax - buf_s)\n",
    "\n",
    "            pairwise_connectivity = amp_amp_coupling(mne_data, \n",
    "                                                     indices, \n",
    "                                                     freqs0=band,\n",
    "                                                     freqs1=band1)\n",
    "            if metric in ['gc', 'imcoh']:\n",
    "                # no pairs here: computed over whole multivariate state space \n",
    "                n_pairs=1\n",
    "            else: \n",
    "                n_pairs = len(indices[0])\n",
    "\n",
    "            if n_pairs == 1:\n",
    "                # reshape data\n",
    "                pairwise_connectivity = pairwise_connectivity.reshape((pairwise_connectivity.shape[0], n_pairs))\n",
    "\n",
    "            if n_surr > 0:\n",
    "                data = np.swapaxes(mne_data.get_data(), 0, 1) # swap so now it's chan, events, times \n",
    "\n",
    "                surr_struct = np.zeros([pairwise_connectivity.shape[0], n_pairs, n_surr]) # allocate space for all the surrogates \n",
    "\n",
    "                # progress_bar = tqdm(np.arange(n_surr), ascii=True, desc='Computing connectivity surrogates')\n",
    "\n",
    "                for ns in range(n_surr): \n",
    "                    print(f'Computing surrogate # {ns}')\n",
    "                    surr_dat = np.zeros_like(data) # allocate space for the surrogate channels \n",
    "                    for ix, ch_dat in enumerate(data): # apply the same swap to every event in a channel, but differ between channels \n",
    "                        surr_ch = swap_time_blocks(ch_dat, random_state=None)\n",
    "                        surr_dat[ix, :, :] = surr_ch\n",
    "                    surr_dat = np.swapaxes(surr_dat, 0, 1) # swap back so it's events, chan, times \n",
    "                    # make a new EpochArray from it\n",
    "                    surr_mne = mne.EpochsArray(surr_dat, \n",
    "                                mne_data.info, \n",
    "                                tmin=mne_data.tmin, \n",
    "                                events = mne_data.events, \n",
    "                                event_id = mne_data.event_id)\n",
    "\n",
    "                    surr_conn = amp_amp_coupling(surr_mne, \n",
    "                                                 indices, \n",
    "                                                 freqs0=band,\n",
    "                                                 freqs1=band1)\n",
    "                    if n_pairs == 1:\n",
    "                        # reshape data\n",
    "                        surr_conn = surr_conn.reshape((surr_conn.shape[0], n_pairs))\n",
    "\n",
    "                    surr_struct[:, :, ns] = surr_conn\n",
    "                    clear_output(wait=True)\n",
    "\n",
    "                surr_mean = np.nanmean(surr_struct, axis=-1)\n",
    "                surr_std = np.nanstd(surr_struct, axis=-1)\n",
    "                pairwise_connectivity = (pairwise_connectivity - surr_mean) / (surr_std)\n",
    "                # surr_struct[:, :, -1] = pairwise_connectivity # add the real data in as the last entry\n",
    "                # z_struct = zscore(surr_struct, axis=-1) # take the zscore across surrogate runs and the real data\n",
    "                # pairwise_connectivity = z_struct[:, :, -1] # extract the real data      \n",
    "        else:\n",
    "            if metric == 'granger':\n",
    "                # I don't want to compute multivariate GC, so refactor the indices: \n",
    "                pairwise_connectivity = []\n",
    "\n",
    "                for ix, _ in enumerate(indices[0]):\n",
    "                    gc_indices = (np.array([[indices[0][ix]]]), np.array([[indices[1][ix]]]))\n",
    "                \n",
    "                    gc = compute_gc_tr(mne_data=mne_data, \n",
    "                            band=band,\n",
    "                            indices=gc_indices, \n",
    "                            freqs=freqs[(freqs>=band[0]) & (freqs<=band[1])], \n",
    "                            n_cycles=n_cycles[(freqs>=band[0]) & (freqs<=band[1])],\n",
    "                            rank=None, \n",
    "                            gc_n_lags=7, \n",
    "                            buf_ms=buf_ms, \n",
    "                            avg_over_dim='time')\n",
    "                    \n",
    "                    pairwise_connectivity.append(gc)\n",
    "                    \n",
    "                pairwise_connectivity = np.hstack(pairwise_connectivity)\n",
    "            else:\n",
    "                pairwise_connectivity = np.squeeze(spectral_connectivity_time(data=mne_data, \n",
    "                                                    freqs=freqs[(freqs>=band[0]) & (freqs<=band[1])], \n",
    "                                                    average=False, \n",
    "                                                    indices=indices, \n",
    "                                                    method=metric, \n",
    "                                                    sfreq=mne_data.info['sfreq'], \n",
    "                                                    mode='cwt_morlet', \n",
    "                                                    fmin=band[0], fmax=band[1], faverage=True, \n",
    "                                                    padding=(buf_ms / 1000), \n",
    "                                                    n_cycles=n_cycles[(freqs>=band[0]) & (freqs<=band[1])],\n",
    "                                                    rank=None,\n",
    "                                                    gc_n_lags=7,\n",
    "                                                    verbose='warning').get_data())\n",
    "                # This returns an array of shape (n_events, n_pairs) \n",
    "                # where n_pairs is the number of pairs of channels in indices\n",
    "                # and n_events is the number of events in the data\n",
    "\n",
    "            \n",
    "            if metric in ['gc', 'imcoh']:\n",
    "                # no pairs here: computed over whole multivariate state space \n",
    "                n_pairs=1\n",
    "            else: \n",
    "                n_pairs = len(indices[0])\n",
    "\n",
    "            if n_pairs == 1:\n",
    "                # reshape data\n",
    "                pairwise_connectivity = pairwise_connectivity.reshape((pairwise_connectivity.shape[0], n_pairs))\n",
    "\n",
    "            if n_surr > 0:\n",
    "                if parallelize == True:\n",
    "                    def _process_surrogate_time(ns):\n",
    "                        print(f'Computing surrogate # {ns} - parallel')\n",
    "                        surrogate_result = compute_surr_connectivity_time(mne_data, indices, metric, band, freqs, n_cycles, buf_ms)\n",
    "                        return surrogate_result\n",
    "\n",
    "                    surrogates = Parallel(n_jobs=-1)(delayed(_process_surrogate_time)(ns) for ns in range(n_surr))\n",
    "                    surr_struct = np.stack(surrogates, axis=-1)\n",
    "                else:\n",
    "                    data = np.swapaxes(mne_data.get_data(), 0, 1) # swap so now it's chan, events, times \n",
    "\n",
    "                    surr_struct = np.zeros([pairwise_connectivity.shape[0], n_pairs, n_surr]) # allocate space for all the surrogates \n",
    "\n",
    "                    # progress_bar = tqdm(np.arange(n_surr), ascii=True, desc='Computing connectivity surrogates')\n",
    "\n",
    "                    for ns in range(n_surr): \n",
    "                        print(f'Computing surrogate # {ns}')\n",
    "                        surr_dat = np.zeros_like(data) # allocate space for the surrogate channels \n",
    "                        for ix, ch_dat in enumerate(data): # apply the same swap to every event in a channel, but differ between channels \n",
    "                            surr_ch = swap_time_blocks(ch_dat, random_state=None)\n",
    "                            surr_dat[ix, :, :] = surr_ch\n",
    "                        surr_dat = np.swapaxes(surr_dat, 0, 1) # swap back so it's events, chan, times \n",
    "                        # make a new EpochArray from it\n",
    "                        surr_mne = mne.EpochsArray(surr_dat, \n",
    "                                    mne_data.info, \n",
    "                                    tmin=mne_data.tmin, \n",
    "                                    events = mne_data.events, \n",
    "                                    event_id = mne_data.event_id)\n",
    "                        \n",
    "                        surr_conn = np.squeeze(spectral_connectivity_time(data=surr_mne, \n",
    "                                                    freqs=freqs[(freqs>=band[0]) & (freqs<=band[1])], \n",
    "                                                    average=False, \n",
    "                                                    indices=indices, \n",
    "                                                    method=metric, \n",
    "                                                    sfreq=surr_mne.info['sfreq'], \n",
    "                                                    mode='cwt_morlet', \n",
    "                                                    fmin=band[0], fmax=band[1], faverage=True, \n",
    "                                                    padding=(buf_ms / 1000), \n",
    "                                                    n_cycles=n_cycles[(freqs>=band[0]) & (freqs<=band[1])],\n",
    "                                                    gc_n_lags=7,\n",
    "                                                    verbose='warning').get_data())\n",
    "                        \n",
    "                        if n_pairs == 1:\n",
    "                            # reshape data\n",
    "                            surr_conn = surr_conn.reshape((surr_conn.shape[0], n_pairs))\n",
    "\n",
    "                        surr_struct[:, :, ns] = surr_conn\n",
    "                        clear_output(wait=True)\n",
    "\n",
    "                surr_mean = np.nanmean(surr_struct, axis=-1)\n",
    "                surr_std = np.nanstd(surr_struct, axis=-1)\n",
    "                pairwise_connectivity = (pairwise_connectivity - surr_mean) / (surr_std)\n",
    "                # surr_struct[:, :, -1] = pairwise_connectivity # add the real data in as the last entry\n",
    "                # z_struct = zscore(surr_struct, axis=-1) # take the zscore across surrogate runs and the real data\n",
    "                # pairwise_connectivity = z_struct[:, :, -1] # extract the real data            \n",
    "\n",
    "    return pairwise_connectivity\n"
   ]
  }
 ],
 "metadata": {
  "kernelspec": {
   "display_name": "lfp_env",
   "language": "python",
   "name": "lfp_env"
  },
  "language_info": {
   "codemirror_mode": {
    "name": "ipython",
    "version": 3
   },
   "file_extension": ".py",
   "mimetype": "text/x-python",
   "name": "python",
   "nbconvert_exporter": "python",
   "pygments_lexer": "ipython3",
   "version": "3.10.4"
  }
 },
 "nbformat": 4,
 "nbformat_minor": 5
}
