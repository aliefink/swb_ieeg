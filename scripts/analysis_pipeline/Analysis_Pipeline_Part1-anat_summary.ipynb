{
 "cells": [
  {
   "cell_type": "markdown",
   "metadata": {},
   "source": [
    "# SWB analysis pipeline part 1: \n",
    "\n",
    "- create master df with roi labels for bipolar re-ref channels \n",
    "- determine roi coverage for each subject + by BDI score\n",
    "\n",
    "\n",
    "*Created: 04/07/2024* \\\n",
    "*Updated: 06/24/2024* \n"
   ]
  },
  {
   "cell_type": "code",
   "execution_count": null,
   "metadata": {},
   "outputs": [],
   "source": [
    "import numpy as np\n",
    "import pandas as pd\n",
    "import mne\n",
    "from glob import glob\n",
    "import matplotlib.pyplot as plt\n",
    "from matplotlib.backends.backend_pdf import PdfPages\n",
    "import seaborn as sns\n",
    "from scipy.stats import zscore, linregress, ttest_ind, ttest_rel, ttest_1samp, pearsonr, spearmanr\n",
    "from mne.preprocessing.bads import _find_outliers\n",
    "import os \n",
    "import joblib\n",
    "import re\n",
    "import datetime\n",
    "import scipy\n",
    "import random\n",
    "import statsmodels.api as sm\n",
    "import statsmodels.formula.api as smf\n",
    "from statsmodels.stats.outliers_influence import variance_inflation_factor\n",
    "\n",
    "import warnings\n",
    "warnings.filterwarnings('ignore')\n",
    "\n",
    "\n"
   ]
  },
  {
   "cell_type": "code",
   "execution_count": null,
   "metadata": {},
   "outputs": [],
   "source": [
    "%load_ext autoreload\n",
    "%autoreload 2"
   ]
  },
  {
   "cell_type": "code",
   "execution_count": null,
   "metadata": {},
   "outputs": [],
   "source": [
    "import sys\n",
    "sys.path.append('/sc/arion/projects/guLab/Alie/SWB/ephys_analysis/LFPAnalysis/')"
   ]
  },
  {
   "cell_type": "code",
   "execution_count": null,
   "metadata": {},
   "outputs": [],
   "source": [
    "from LFPAnalysis import lfp_preprocess_utils, sync_utils, analysis_utils, nlx_utils"
   ]
  },
  {
   "cell_type": "code",
   "execution_count": null,
   "metadata": {},
   "outputs": [],
   "source": [
    "# Specify root directory for un-archived data and results \n",
    "base_dir = '/sc/arion/projects/guLab/Alie/SWB/'\n",
    "anat_dir = f'{base_dir}ephys_analysis/recon_labels/'\n",
    "neural_dir = f'{base_dir}ephys_analysis/data/'\n",
    "behav_dir = f'{base_dir}swb_behav_models/data/behavior_preprocessed/'\n",
    "\n",
    "date = datetime.date.today().strftime('%m%d%Y')\n",
    "print(date)"
   ]
  },
  {
   "cell_type": "markdown",
   "metadata": {},
   "source": [
    "## Data Loading"
   ]
  },
  {
   "cell_type": "code",
   "execution_count": null,
   "metadata": {},
   "outputs": [],
   "source": [
    "# Subj list for CCN 2024\n",
    "subj_ids = list(pd.read_excel(f'{base_dir}ephys_analysis/subj_info/SWB_subjects.xlsx', sheet_name='Usable_Subjects', usecols=[0]).PatientID)\n",
    "n_subj = len(subj_ids)\n",
    "subj_ids\n"
   ]
  },
  {
   "cell_type": "code",
   "execution_count": null,
   "metadata": {},
   "outputs": [],
   "source": [
    "anat_info_all_subj = {f'{subj_id}': pd.read_csv(f'{anat_dir}{subj_id}_labels.csv') for subj_id in subj_ids}\n"
   ]
  },
  {
   "cell_type": "code",
   "execution_count": null,
   "metadata": {},
   "outputs": [],
   "source": [
    "anat_info_all_subj"
   ]
  },
  {
   "cell_type": "code",
   "execution_count": null,
   "metadata": {},
   "outputs": [],
   "source": [
    "anat_info_all_subj.keys()"
   ]
  },
  {
   "cell_type": "code",
   "execution_count": null,
   "metadata": {
    "scrolled": true
   },
   "outputs": [],
   "source": [
    "# load bp reref ch names \n",
    "reref_ch_all_subj  = {}\n",
    "\n",
    "for subj_id in subj_ids:\n",
    "    # load reref data \n",
    "    bp_data = mne.io.read_raw_fif(f'{neural_dir}{subj_id}/bp_ref_ieeg.fif', preload=False,verbose=12)\n",
    "    # drop bad channels  \n",
    "    bp_data = bp_data.drop_channels(bp_data.info['bads'])\n",
    "    # save good re-ref ch names\n",
    "    subj_ch = bp_data.ch_names\n",
    "    # save info \n",
    "    reref_ch_all_subj[subj_id]  = subj_ch\n",
    "    del bp_data\n",
    "    \n",
    "reref_ch_all_subj"
   ]
  },
  {
   "cell_type": "markdown",
   "metadata": {},
   "source": [
    "## BP Re-Ref ROI Labels\n",
    "- Choose which bipolar re-ref channel (anode vs cathode) should be used for ROI label\n",
    "- Compile yba/manual anatomical information from anat dfs\n",
    "- Find custom ROI label for yba labels\n",
    "\n",
    "#### FUTURE IMPLEMENTATION: \n",
    "- USE SALMAN'S FUNCTION TO FIND OTHER DEFAULTS FOR MISSING ELECS\n",
    "- DEAL WITH LESION ELECS "
   ]
  },
  {
   "cell_type": "code",
   "execution_count": null,
   "metadata": {},
   "outputs": [],
   "source": [
    "# Anatomical Localization Info - Lab YBA ROIs  \n",
    "\n",
    "# ROI labels for YBA regions\n",
    "roi_label_info = pd.read_excel(f'{base_dir}ephys_analysis/LFPAnalysis/LFPAnalysis/YBA_ROI_labelled.xlsx',\n",
    "                               usecols=['Hemisphere','Lobe','Region','Custom','Long.name'])\n",
    "roi_label_info = roi_label_info.apply(lambda x: x.str.lower())\n",
    "roi_label_info = roi_label_info.apply(lambda x: x.str.strip())\n",
    "roi_label_info"
   ]
  },
  {
   "cell_type": "code",
   "execution_count": null,
   "metadata": {},
   "outputs": [],
   "source": [
    "roi_label_info.Custom.unique().tolist()"
   ]
  },
  {
   "cell_type": "code",
   "execution_count": null,
   "metadata": {
    "scrolled": true
   },
   "outputs": [],
   "source": [
    "# roi_reref_labels_all_subj = {}\n",
    "roi_reref_labels_master = []\n",
    "unknown_subj = {}\n",
    "\n",
    "for subj_id in subj_ids:\n",
    "    # get subj reref ch\n",
    "    reref_ch_names = reref_ch_all_subj[subj_id]\n",
    "    # get anat file \n",
    "    anat_df = anat_info_all_subj[subj_id]\n",
    "    anat_df['label'] = anat_df['label'].str.lower()\n",
    "    anat_df['final_loc'] = [row.ManualExamination.lower().strip() if pd.isna(row.ManualExamination) == False else row.YBA_1.lower().strip() for index, row in anat_df.iterrows()]\n",
    "    if np.sum(anat_df.final_loc.unique().tolist().count('unknown'))!=0:\n",
    "        unknown_subj[subj_id] = np.sum(anat_df.final_loc.unique().tolist().count('unknown'))\n",
    "    \n",
    "    # check which elec should be used for roi label \n",
    "    loc4roi      = []\n",
    "    ch_label4roi = []\n",
    "    ch_type4roi  = []\n",
    "\n",
    "    for ch in reref_ch_names:\n",
    "        anode = ch.split('-')[0]\n",
    "        cathode = ch.split('-')[1]\n",
    "        anode_loc = anat_df.final_loc[anat_df.label == anode].str.lower().tolist()\n",
    "        cathode_loc = anat_df.final_loc[anat_df.label == cathode].str.lower().tolist()\n",
    "        if (anode_loc[0] == 'wm') | (anode_loc[0] == 'unknown'): # if anode is in wm or labeled unknown check cathode\n",
    "            if (cathode_loc[0] == 'wm') | (cathode_loc[0] == 'unknown'): # check if cathode also wm or unknown \n",
    "                if (anode_loc[0] == 'wm') & (cathode_loc[0] == 'unknown'): # if anode is wm and cathode is unknown, use anode label\n",
    "                    loc4roi.append('wm') # roi location detail \n",
    "                    ch_label4roi.append(anode) # ch label used for roi \n",
    "                    ch_type4roi.append('anode') # whether anode vs cathode was used \n",
    "                else: # if cathode is wm and anode is wm or unknown, use cathode, if cathode is unknown and anode is unknown use cathode\n",
    "                    loc4roi.append(cathode_loc[0]) # roi location detail \n",
    "                    ch_label4roi.append(cathode) # ch label used for roi \n",
    "                    ch_type4roi.append('cathode') # whether anode vs cathode was used \n",
    "            else: # if cathode is in gm use cathode\n",
    "                loc4roi.append(cathode_loc[0]) # roi location detail \n",
    "                ch_label4roi.append(cathode) # ch label used for roi\n",
    "                ch_type4roi.append('cathode') # whether anode vs cathode was used \n",
    "        else: # if anode is in gm use anode \n",
    "            loc4roi.append(anode_loc[0]) # roi location detail \n",
    "            ch_label4roi.append(anode) # ch label used for roi\n",
    "            ch_type4roi.append('anode') # whether anode vs cathode was used \n",
    "    \n",
    "            \n",
    "#     roi_reref_labels_all_subj[subj_id] = {'subj_id':[subj_id]*len(reref_ch_names),\n",
    "#                                           'reref_ch_names':reref_ch_names,\n",
    "#                                           'loc4roi':loc4roi,\n",
    "#                                           'ch_label4roi':ch_label4roi,\n",
    "#                                          'ch_type4roi':ch_type4roi }\n",
    "\n",
    "    # add mni coordinate info for plot recon roi script\n",
    "    mni_x = [anat_df.mni_x[anat_df.label == ch].item() for ch in ch_label4roi]\n",
    "    mni_y = [anat_df.mni_y[anat_df.label == ch].item() for ch in ch_label4roi]\n",
    "    mni_z = [anat_df.mni_z[anat_df.label == ch].item() for ch in ch_label4roi]\n",
    "    \n",
    "    roi_reref_subj_df = pd.DataFrame({'subj_id':[subj_id]*len(reref_ch_names),\n",
    "                                      'reref_ch_names':reref_ch_names,\n",
    "                                      'ch_label4roi':ch_label4roi,\n",
    "                                      'ch_type4roi':ch_type4roi,\n",
    "                                      'loc4roi':loc4roi,\n",
    "                                      'mni_x':mni_x,\n",
    "                                      'mni_y':mni_y,\n",
    "                                      'mni_z':mni_z})\n",
    "    \n",
    "    roi_reref_labels_master.append(roi_reref_subj_df)\n",
    "  \n",
    "\n",
    " \n",
    "roi_reref_labels_master_df = pd.concat(roi_reref_labels_master).reset_index(drop=True)\n",
    "    \n",
    "    "
   ]
  },
  {
   "cell_type": "code",
   "execution_count": null,
   "metadata": {},
   "outputs": [],
   "source": [
    "roi_reref_labels_master_df"
   ]
  },
  {
   "cell_type": "code",
   "execution_count": null,
   "metadata": {},
   "outputs": [],
   "source": [
    "unknown_subj"
   ]
  },
  {
   "cell_type": "code",
   "execution_count": null,
   "metadata": {},
   "outputs": [],
   "source": [
    "# add hemisphere to df by taking first letter of channel used for localization\n",
    "roi_reref_labels_master_df['hemi'] = pd.Series(roi_reref_labels_master_df.ch_label4roi.str[0])"
   ]
  },
  {
   "cell_type": "code",
   "execution_count": null,
   "metadata": {},
   "outputs": [],
   "source": [
    "roi_reref_labels_master_df['hemi'].unique().tolist()"
   ]
  },
  {
   "cell_type": "code",
   "execution_count": null,
   "metadata": {},
   "outputs": [],
   "source": [
    "# add hemisphere to df by taking first letter of channel used for localization\n",
    "roi_reref_labels_master_df['hemi'] = pd.Series(roi_reref_labels_master_df.ch_label4roi.str[0])\n",
    "roi_reref_labels_master_df\n",
    "\n"
   ]
  },
  {
   "cell_type": "code",
   "execution_count": null,
   "metadata": {},
   "outputs": [],
   "source": [
    "(roi_reref_labels_master_df.loc4roi.unique().tolist())"
   ]
  },
  {
   "cell_type": "code",
   "execution_count": null,
   "metadata": {
    "scrolled": true
   },
   "outputs": [],
   "source": [
    "roi_label_info.Custom[~roi_label_info.Custom.isnull()].unique()"
   ]
  },
  {
   "cell_type": "code",
   "execution_count": null,
   "metadata": {},
   "outputs": [],
   "source": [
    "yba_roi = roi_label_info.Custom[~roi_label_info.Custom.isnull()].unique().tolist()\n",
    "all_roi = yba_roi+['caudate','thalamus']\n",
    "all_roi"
   ]
  },
  {
   "cell_type": "code",
   "execution_count": null,
   "metadata": {},
   "outputs": [],
   "source": [
    "#### currently there are a few bad ch with locs listed as 'wm', 'gm', 'unknown' \n",
    "bad_rois = ['wm', 'gm', 'unknown','oob'] # no oob but adding just in case \n",
    "roi_labels = []\n",
    "\n",
    "#### add roi to df \n",
    "for idx, row in roi_reref_labels_master_df.iterrows():\n",
    "    loc = row.loc4roi\n",
    "    if any(loc in x  for x in bad_rois): #pd.Series(row['loc4roi']).isin(bad_rois)[0]\n",
    "        roi_labels.append(np.nan)\n",
    "    else: \n",
    "        if roi_reref_labels_master_df.loc4roi.str.contains('thalamus').iloc[idx]: \n",
    "            roi = 'thalamus'\n",
    "            roi_labels.append(roi)\n",
    "        elif roi_reref_labels_master_df.loc4roi.str.contains('caudate').iloc[idx]: \n",
    "            roi = 'caudate'\n",
    "            roi_labels.append(roi)\n",
    "        elif pd.Series(row['loc4roi'].strip()).isin(roi_label_info['Long.name'])[0]:\n",
    "            roi = roi_label_info['Custom'][np.where(row['loc4roi'].strip() == roi_label_info['Long.name'])[0]].item() \n",
    "            roi_labels.append(roi)\n",
    "        else: \n",
    "            roi_labels.append(np.nan)\n",
    "    \n",
    "roi_reref_labels_master_df['roi'] = roi_labels\n"
   ]
  },
  {
   "cell_type": "code",
   "execution_count": null,
   "metadata": {},
   "outputs": [],
   "source": [
    "#### list of labels without ROIs - either poorly labeled or isn't labeled in our YBA roi key\n",
    "bad_ch_df = roi_reref_labels_master_df[roi_reref_labels_master_df.roi.isnull()]\n",
    "bad_ch_df.loc4roi.unique().tolist()"
   ]
  },
  {
   "cell_type": "code",
   "execution_count": null,
   "metadata": {},
   "outputs": [],
   "source": [
    "roi_reref_labels_master_df"
   ]
  },
  {
   "cell_type": "code",
   "execution_count": null,
   "metadata": {},
   "outputs": [],
   "source": [
    "# roi_reref_labels_master_df.to_csv(f'{base_dir}ephys_analysis/results/roi_reref_labels_master_{date}.csv')\n",
    "roi_reref_labels_master_df.to_csv(f'{base_dir}ephys_analysis/results/roi_info/roi_reref_labels_master.csv')\n",
    "\n"
   ]
  },
  {
   "cell_type": "code",
   "execution_count": null,
   "metadata": {},
   "outputs": [],
   "source": [
    "roi_reref_labels_master_df['roi'].value_counts()"
   ]
  },
  {
   "cell_type": "code",
   "execution_count": null,
   "metadata": {},
   "outputs": [],
   "source": [
    "counts_all_subj = roi_reref_labels_master_df.groupby('subj_id')['roi'].value_counts()\n",
    "\n",
    "roi_subj_counts = []\n",
    "\n",
    "for subj_id in subj_ids:\n",
    "    subj_roi_nums = counts_all_subj[subj_id]\n",
    "    count_df = pd.DataFrame()\n",
    "    count_df['subj_id'] = [subj_id]*len(subj_roi_nums.to_list())\n",
    "    count_df['roi'] = subj_roi_nums.index.tolist()\n",
    "    count_df['count'] = subj_roi_nums.to_list()\n",
    "    roi_subj_counts.append(count_df)\n",
    "\n",
    "roi_subj_counts = pd.concat(roi_subj_counts)"
   ]
  },
  {
   "cell_type": "code",
   "execution_count": null,
   "metadata": {},
   "outputs": [],
   "source": [
    "roi_subj_counts[roi_subj_counts.subj_id=='MS048']"
   ]
  },
  {
   "cell_type": "code",
   "execution_count": null,
   "metadata": {},
   "outputs": [],
   "source": [
    "# roi_subj_counts.to_csv(f'{base_dir}ephys_analysis/results/roi_subj_counts_{date}.csv')\n",
    "roi_subj_counts.to_csv(f'{base_dir}ephys_analysis/results/roi_info/roi_subj_counts.csv')\n"
   ]
  },
  {
   "cell_type": "code",
   "execution_count": null,
   "metadata": {},
   "outputs": [],
   "source": [
    "roi_reref_labels_master_df"
   ]
  },
  {
   "cell_type": "markdown",
   "metadata": {},
   "source": [
    "# Check anat by BDI"
   ]
  },
  {
   "cell_type": "code",
   "execution_count": null,
   "metadata": {
    "scrolled": false
   },
   "outputs": [],
   "source": [
    "bdi_list = pd.read_excel(f'{base_dir}ephys_analysis/subj_info/SWB_subjects.xlsx', sheet_name='Usable_Subjects', usecols=[3])\n",
    "bdi_list = list(bdi_list.SWB_BDI)\n",
    "# list(zip(subj_ids,bdi_list))\n",
    "subj_info_df = pd.DataFrame({'subj_id':subj_ids,'bdi':bdi_list})\n",
    "subj_info_df"
   ]
  },
  {
   "cell_type": "code",
   "execution_count": null,
   "metadata": {},
   "outputs": [],
   "source": [
    "high_bdi_subj = subj_info_df.subj_id[subj_info_df.bdi>=20]\n",
    "low_bdi_subj = subj_info_df.subj_id[subj_info_df.bdi<20]\n"
   ]
  },
  {
   "cell_type": "code",
   "execution_count": null,
   "metadata": {},
   "outputs": [],
   "source": [
    "roi_counts_by_bdi = []\n",
    "\n",
    "for region in roi_subj_counts.roi.unique().tolist():\n",
    "#     high_bdi_info = roi_subj_counts[roi_subj_counts.subj_id.isin(high_bdi_subj)]\n",
    "#     low_bdi_info = roi_subj_counts[roi_subj_counts.subj_id.isin(low_bdi_subj)]\n",
    "    high_bdi_num = np.sum(roi_subj_counts['count'][(roi_subj_counts.subj_id.isin(high_bdi_subj))\n",
    "                                                   &(roi_subj_counts.roi==region)].values)\n",
    "    low_bdi_num = np.sum(roi_subj_counts['count'][(roi_subj_counts.subj_id.isin(low_bdi_subj))\n",
    "                                                  &(roi_subj_counts.roi==region)].values)\n",
    "    region_bdi_counts = pd.DataFrame({'roi':region,'high_bdi_num':high_bdi_num,'low_bdi_num':low_bdi_num},index=[0])\n",
    "    roi_counts_by_bdi.append(region_bdi_counts)\n",
    "    \n",
    "roi_counts_by_bdi = pd.concat(roi_counts_by_bdi).reset_index(drop=True)\n",
    "\n",
    "    \n",
    "    "
   ]
  },
  {
   "cell_type": "code",
   "execution_count": null,
   "metadata": {
    "scrolled": false
   },
   "outputs": [],
   "source": [
    "roi_counts_by_bdi"
   ]
  },
  {
   "cell_type": "code",
   "execution_count": null,
   "metadata": {},
   "outputs": [],
   "source": [
    "# roi_counts_by_bdi.to_csv(f'{base_dir}ephys_analysis/results/roi_counts_by_bdi_{date}.csv')\n",
    "roi_counts_by_bdi.to_csv(f'{base_dir}ephys_analysis/results/roi_info/roi_counts_by_bdi.csv')\n"
   ]
  },
  {
   "cell_type": "code",
   "execution_count": null,
   "metadata": {},
   "outputs": [],
   "source": []
  },
  {
   "cell_type": "code",
   "execution_count": null,
   "metadata": {},
   "outputs": [],
   "source": []
  }
 ],
 "metadata": {
  "kernelspec": {
   "display_name": "lfp_env",
   "language": "python",
   "name": "lfp_env"
  },
  "language_info": {
   "codemirror_mode": {
    "name": "ipython",
    "version": 3
   },
   "file_extension": ".py",
   "mimetype": "text/x-python",
   "name": "python",
   "nbconvert_exporter": "python",
   "pygments_lexer": "ipython3",
   "version": "3.10.4"
  }
 },
 "nbformat": 4,
 "nbformat_minor": 2
}
