{
 "cells": [
  {
   "cell_type": "markdown",
   "id": "58a19e33",
   "metadata": {},
   "source": [
    "# Alpha Mixed Effects Models\n",
    "Created: 08/08/24 \\\n",
    "Updated: //2024 \\\n"
   ]
  },
  {
   "cell_type": "code",
   "execution_count": 1,
   "id": "a53ac954",
   "metadata": {},
   "outputs": [],
   "source": [
    "import numpy as np\n",
    "import mne\n",
    "from glob import glob\n",
    "import matplotlib.pyplot as plt\n",
    "from matplotlib.backends.backend_pdf import PdfPages\n",
    "import seaborn as sns\n",
    "from scipy.stats import zscore, linregress, ttest_ind, ttest_rel, ttest_1samp, pearsonr, spearmanr\n",
    "import pandas as pd\n",
    "from mne.preprocessing.bads import _find_outliers\n",
    "import os \n",
    "import joblib\n",
    "import re\n",
    "import datetime\n",
    "import scipy\n",
    "import random\n",
    "import statsmodels.api as sm\n",
    "import statsmodels.formula.api as smf\n",
    "from statsmodels.stats.outliers_influence import variance_inflation_factor\n",
    "from statsmodels.regression.mixed_linear_model import MixedLM \n",
    "from joblib import Parallel, delayed\n",
    "import pickle\n",
    "import itertools\n",
    "import time \n",
    "from matplotlib.ticker import StrMethodFormatter\n",
    "from matplotlib.colors import ListedColormap,LinearSegmentedColormap\n",
    "import matplotlib as mpl\n",
    "from matplotlib import cm\n",
    "\n",
    "\n",
    "\n",
    "import warnings\n",
    "warnings.filterwarnings('ignore')\n",
    "\n",
    "\n"
   ]
  },
  {
   "cell_type": "code",
   "execution_count": 2,
   "id": "e826d540",
   "metadata": {},
   "outputs": [],
   "source": [
    "%load_ext autoreload\n",
    "%autoreload 2"
   ]
  },
  {
   "cell_type": "code",
   "execution_count": 3,
   "id": "7cdeb07a",
   "metadata": {},
   "outputs": [
    {
     "name": "stdout",
     "output_type": "stream",
     "text": [
      "08082024\n"
     ]
    }
   ],
   "source": [
    "# Specify root directory for un-archived data and results \n",
    "base_dir   = '/sc/arion/projects/guLab/Alie/SWB/'\n",
    "anat_dir   = f'{base_dir}ephys_analysis/recon_labels/'\n",
    "neural_dir = f'{base_dir}ephys_analysis/data/'\n",
    "behav_dir  = f'{base_dir}swb_behav_models/data/behavior_preprocessed/'\n",
    "save_dir   = f'{base_dir}ephys_analysis/results/regression_data/'\n",
    "script_dir = '/hpc/users/finka03/swb_ephys_analysis/scripts/'\n",
    "\n",
    "date = datetime.date.today().strftime('%m%d%Y')\n",
    "print(date)"
   ]
  },
  {
   "cell_type": "code",
   "execution_count": 4,
   "id": "56649f93",
   "metadata": {},
   "outputs": [],
   "source": [
    "import sys\n",
    "sys.path.append(f'{base_dir}ephys_analysis/LFPAnalysis/')\n",
    "\n",
    "from LFPAnalysis import analysis_utils\n",
    "\n",
    "sys.path.append(f'{script_dir}analysis_notebooks/')\n",
    "\n",
    "from ieeg_tools import *"
   ]
  },
  {
   "cell_type": "code",
   "execution_count": 5,
   "id": "80e6cdea",
   "metadata": {},
   "outputs": [],
   "source": [
    "subj_ids = list(pd.read_excel(f'{base_dir}ephys_analysis/subj_info/SWB_subjects.xlsx', sheet_name='Usable_Subjects', usecols=[0]).PatientID)\n",
    "n_subj = len(subj_ids)\n",
    "# subj_ids\n"
   ]
  },
  {
   "cell_type": "code",
   "execution_count": 6,
   "id": "5d12e57a",
   "metadata": {},
   "outputs": [
    {
     "data": {
      "text/html": [
       "<div>\n",
       "<style scoped>\n",
       "    .dataframe tbody tr th:only-of-type {\n",
       "        vertical-align: middle;\n",
       "    }\n",
       "\n",
       "    .dataframe tbody tr th {\n",
       "        vertical-align: top;\n",
       "    }\n",
       "\n",
       "    .dataframe thead th {\n",
       "        text-align: right;\n",
       "    }\n",
       "</style>\n",
       "<table border=\"1\" class=\"dataframe\">\n",
       "  <thead>\n",
       "    <tr style=\"text-align: right;\">\n",
       "      <th></th>\n",
       "      <th>subj_id</th>\n",
       "      <th>bdi</th>\n",
       "    </tr>\n",
       "  </thead>\n",
       "  <tbody>\n",
       "    <tr>\n",
       "      <th>0</th>\n",
       "      <td>MS002</td>\n",
       "      <td>14</td>\n",
       "    </tr>\n",
       "    <tr>\n",
       "      <th>1</th>\n",
       "      <td>MS003</td>\n",
       "      <td>8</td>\n",
       "    </tr>\n",
       "    <tr>\n",
       "      <th>2</th>\n",
       "      <td>MS009</td>\n",
       "      <td>16</td>\n",
       "    </tr>\n",
       "    <tr>\n",
       "      <th>3</th>\n",
       "      <td>MS011</td>\n",
       "      <td>13</td>\n",
       "    </tr>\n",
       "    <tr>\n",
       "      <th>4</th>\n",
       "      <td>MS015</td>\n",
       "      <td>26</td>\n",
       "    </tr>\n",
       "    <tr>\n",
       "      <th>5</th>\n",
       "      <td>MS016</td>\n",
       "      <td>10</td>\n",
       "    </tr>\n",
       "    <tr>\n",
       "      <th>6</th>\n",
       "      <td>MS017</td>\n",
       "      <td>26</td>\n",
       "    </tr>\n",
       "    <tr>\n",
       "      <th>7</th>\n",
       "      <td>MS019</td>\n",
       "      <td>12</td>\n",
       "    </tr>\n",
       "    <tr>\n",
       "      <th>8</th>\n",
       "      <td>MS022</td>\n",
       "      <td>10</td>\n",
       "    </tr>\n",
       "    <tr>\n",
       "      <th>9</th>\n",
       "      <td>MS024</td>\n",
       "      <td>16</td>\n",
       "    </tr>\n",
       "    <tr>\n",
       "      <th>10</th>\n",
       "      <td>MS025</td>\n",
       "      <td>10</td>\n",
       "    </tr>\n",
       "    <tr>\n",
       "      <th>11</th>\n",
       "      <td>MS026</td>\n",
       "      <td>9</td>\n",
       "    </tr>\n",
       "    <tr>\n",
       "      <th>12</th>\n",
       "      <td>MS027</td>\n",
       "      <td>22</td>\n",
       "    </tr>\n",
       "    <tr>\n",
       "      <th>13</th>\n",
       "      <td>MS028</td>\n",
       "      <td>13</td>\n",
       "    </tr>\n",
       "    <tr>\n",
       "      <th>14</th>\n",
       "      <td>MS029</td>\n",
       "      <td>32</td>\n",
       "    </tr>\n",
       "    <tr>\n",
       "      <th>15</th>\n",
       "      <td>MS030</td>\n",
       "      <td>19</td>\n",
       "    </tr>\n",
       "    <tr>\n",
       "      <th>16</th>\n",
       "      <td>MS033</td>\n",
       "      <td>39</td>\n",
       "    </tr>\n",
       "    <tr>\n",
       "      <th>17</th>\n",
       "      <td>MS035</td>\n",
       "      <td>15</td>\n",
       "    </tr>\n",
       "    <tr>\n",
       "      <th>18</th>\n",
       "      <td>MS041</td>\n",
       "      <td>10</td>\n",
       "    </tr>\n",
       "    <tr>\n",
       "      <th>19</th>\n",
       "      <td>MS043</td>\n",
       "      <td>23</td>\n",
       "    </tr>\n",
       "    <tr>\n",
       "      <th>20</th>\n",
       "      <td>MS048</td>\n",
       "      <td>19</td>\n",
       "    </tr>\n",
       "    <tr>\n",
       "      <th>21</th>\n",
       "      <td>MS050</td>\n",
       "      <td>9</td>\n",
       "    </tr>\n",
       "    <tr>\n",
       "      <th>22</th>\n",
       "      <td>DA8</td>\n",
       "      <td>13</td>\n",
       "    </tr>\n",
       "    <tr>\n",
       "      <th>23</th>\n",
       "      <td>DA023</td>\n",
       "      <td>14</td>\n",
       "    </tr>\n",
       "    <tr>\n",
       "      <th>24</th>\n",
       "      <td>DA026</td>\n",
       "      <td>19</td>\n",
       "    </tr>\n",
       "    <tr>\n",
       "      <th>25</th>\n",
       "      <td>DA037</td>\n",
       "      <td>4</td>\n",
       "    </tr>\n",
       "    <tr>\n",
       "      <th>26</th>\n",
       "      <td>DA039</td>\n",
       "      <td>22</td>\n",
       "    </tr>\n",
       "  </tbody>\n",
       "</table>\n",
       "</div>"
      ],
      "text/plain": [
       "   subj_id  bdi\n",
       "0    MS002   14\n",
       "1    MS003    8\n",
       "2    MS009   16\n",
       "3    MS011   13\n",
       "4    MS015   26\n",
       "5    MS016   10\n",
       "6    MS017   26\n",
       "7    MS019   12\n",
       "8    MS022   10\n",
       "9    MS024   16\n",
       "10   MS025   10\n",
       "11   MS026    9\n",
       "12   MS027   22\n",
       "13   MS028   13\n",
       "14   MS029   32\n",
       "15   MS030   19\n",
       "16   MS033   39\n",
       "17   MS035   15\n",
       "18   MS041   10\n",
       "19   MS043   23\n",
       "20   MS048   19\n",
       "21   MS050    9\n",
       "22     DA8   13\n",
       "23   DA023   14\n",
       "24   DA026   19\n",
       "25   DA037    4\n",
       "26   DA039   22"
      ]
     },
     "execution_count": 6,
     "metadata": {},
     "output_type": "execute_result"
    }
   ],
   "source": [
    "bdi_list = pd.read_excel(f'{base_dir}ephys_analysis/subj_info/SWB_subjects.xlsx', sheet_name='Usable_Subjects', usecols=[3])\n",
    "bdi_list = list(bdi_list.SWB_BDI)\n",
    "subj_info_df = pd.DataFrame({'subj_id':subj_ids,'bdi':bdi_list})\n",
    "subj_info_df\n",
    "\n"
   ]
  },
  {
   "cell_type": "code",
   "execution_count": 7,
   "id": "268ae3c0",
   "metadata": {},
   "outputs": [],
   "source": [
    "#### set theme for all plots\n",
    "# %matplotlib inline\n",
    "# from matplotlib import rc\n",
    "# rc('text', usetex=False)\n",
    "\n",
    "sns.set_theme(style='ticks') \n",
    "sns.set_context(\"poster\")\n",
    "\n"
   ]
  },
  {
   "cell_type": "code",
   "execution_count": 8,
   "id": "a8d55d85",
   "metadata": {},
   "outputs": [],
   "source": [
    "from matplotlib.colors import ListedColormap,LinearSegmentedColormap\n",
    "import matplotlib as mpl\n",
    "from matplotlib import cm\n",
    "\n",
    "\n",
    "# saez_cmap colors = org,yellow, sagegreen, darker green, blue, purple \n",
    "\n",
    "# 671351\n",
    "saez_colors    = ['#ffb243','#FCE27C','#6a9752','#1d5d2a','#00467e','#561C46']\n",
    "saez_hex_cmap  = ListedColormap(saez_colors)\n",
    "saez_rgb       = [mpl.colors.to_rgb(hex) for hex in saez_colors]\n",
    "saez_full_cmap = LinearSegmentedColormap.from_list('saez_full_cmap',saez_rgb,N=10)\n",
    "#plot_palette = saez_linear_cmap.resampled(lutsize=30)\n",
    "expanded_cmap  = [mpl.colors.rgb2hex(saez_full_cmap(c)[:3]) for c in range(saez_full_cmap.N)]\n"
   ]
  },
  {
   "cell_type": "code",
   "execution_count": 9,
   "id": "f8253f35",
   "metadata": {},
   "outputs": [
    {
     "data": {
      "image/png": "[encoded data removed]",
      "text/html": [
       "<div style=\"vertical-align: middle;\"><strong>saez_full_cmap</strong> </div><div class=\"cmap\"><img alt=\"saez_full_cmap colormap\" title=\"saez_full_cmap\" style=\"border: 1px solid #555;\" src=\"data:image/png;base64,iVBORw0KGgoAAAANSUhEUgAAAgAAAABACAYAAABsv8+/AAAAHXRFWHRUaXRsZQBzYWV6X2Z1bGxfY21hcCBjb2xvcm1hcL+a5QQAAAAjdEVYdERlc2NyaXB0aW9uAHNhZXpfZnVsbF9jbWFwIGNvbG9ybWFwubEA9QAAADB0RVh0QXV0aG9yAE1hdHBsb3RsaWIgdjMuOC4yLCBodHRwczovL21hdHBsb3RsaWIub3JnDxXeEgAAADJ0RVh0U29mdHdhcmUATWF0cGxvdGxpYiB2My44LjIsIGh0dHBzOi8vbWF0cGxvdGxpYi5vcmchs0E1AAABdklEQVR4nO3WsUmDUQCFUbVPJTY2KTKA7uDAAQdwDIU0IYVFMASDvXGJhw/+75wJ7u2+2+vry/VmQX4f17MnDHNePcyeMMz24zh7wjBvu+V8ed8v58vn6X72hGG+f55mTxhm83WZPWGY5+Nh9oSh7mYPAAD+nwAAgCABAABBAgAAggQAAAQJAAAIEgAAECQAACBIAABAkAAAgCABAABBAgAAggQAAAQJAAAIEgAAECQAACBIAABAkAAAgCABAABBAgAAggQAAAQJAAAIEgAAECQAACBIAABAkAAAgCABAABBAgAAggQAAAQJAAAIEgAAECQAACBIAABAkAAAgCABAABBAgAAggQAAAQJAAAIEgAAECQAACBIAABAkAAAgCABAABBAgAAggQAAAQJAAAIEgAAECQAACBIAABAkAAAgCABAABBAgAAggQAAAQJAAAIEgAAECQAACBIAABAkAAAgCABAABBAgAAggQAAAQJAAAIEgAAEPQH3iAVN3GnBgsAAAAASUVORK5CYII=\"></div><div style=\"vertical-align: middle; max-width: 514px; display: flex; justify-content: space-between;\"><div style=\"float: left;\"><div title=\"#ffb243ff\" style=\"display: inline-block; width: 1em; height: 1em; margin: 0; vertical-align: middle; border: 1px solid #555; background-color: #ffb243ff;\"></div> under</div><div style=\"margin: 0 auto; display: inline-block;\">bad <div title=\"#00000000\" style=\"display: inline-block; width: 1em; height: 1em; margin: 0; vertical-align: middle; border: 1px solid #555; background-color: #00000000;\"></div></div><div style=\"float: right;\">over <div title=\"#561c46ff\" style=\"display: inline-block; width: 1em; height: 1em; margin: 0; vertical-align: middle; border: 1px solid #555; background-color: #561c46ff;\"></div></div>"
      ],
      "text/plain": [
       "<matplotlib.colors.LinearSegmentedColormap at 0x2b76ee55ed70>"
      ]
     },
     "execution_count": 9,
     "metadata": {},
     "output_type": "execute_result"
    }
   ],
   "source": [
    "saez_full_cmap"
   ]
  },
  {
   "cell_type": "markdown",
   "id": "0b76da87",
   "metadata": {},
   "source": [
    "# Load Regression DF"
   ]
  },
  {
   "cell_type": "code",
   "execution_count": 10,
   "id": "8a4551ed",
   "metadata": {},
   "outputs": [],
   "source": [
    "band = 'alpha'"
   ]
  },
  {
   "cell_type": "code",
   "execution_count": 11,
   "id": "83718196",
   "metadata": {},
   "outputs": [
    {
     "data": {
      "text/plain": [
       "array(['MS002', 'MS003', 'MS009', 'MS011', 'MS015', 'MS016', 'MS017',\n",
       "       'MS019', 'MS022', 'MS024', 'MS025', 'MS026', 'MS027', 'MS028',\n",
       "       'MS029', 'MS030', 'MS033', 'MS035', 'MS041', 'MS043', 'MS048',\n",
       "       'MS050', 'DA8', 'DA023', 'DA026', 'DA037', 'DA039'], dtype=object)"
      ]
     },
     "execution_count": 11,
     "metadata": {},
     "output_type": "execute_result"
    }
   ],
   "source": [
    "band_df = pd.read_csv(f'{save_dir}{band}_master_df.csv')\n",
    "band_df.subj_id.unique()"
   ]
  },
  {
   "cell_type": "code",
   "execution_count": 12,
   "id": "95fc6641",
   "metadata": {},
   "outputs": [],
   "source": [
    "roi_reref_labels_master_df = pd.read_csv(glob(f'{base_dir}ephys_analysis/results/roi_info/roi_reref_labels_master.csv')[0])\n",
    "roi_reref_labels_master_df = roi_reref_labels_master_df.drop(columns=['Unnamed: 0'])\n",
    "\n",
    "\n"
   ]
  },
  {
   "cell_type": "code",
   "execution_count": 13,
   "id": "911c782f",
   "metadata": {},
   "outputs": [
    {
     "data": {
      "text/plain": [
       "dmpfc            216\n",
       "ofc              202\n",
       "acc              193\n",
       "sts              155\n",
       "hpc              135\n",
       "amy              113\n",
       "dlpfc            107\n",
       "stg              105\n",
       "vlpfc             82\n",
       "ains              71\n",
       "smg               66\n",
       "pins              60\n",
       "thalamus          58\n",
       "mtg               57\n",
       "temporal pole     31\n",
       "mcc               28\n",
       "motor             25\n",
       "phg               25\n",
       "parietal          24\n",
       "vmpfc             23\n",
       "fusiform          19\n",
       "occipital         19\n",
       "itg               15\n",
       "angular           14\n",
       "somat             11\n",
       "premotor           9\n",
       "caudate            8\n",
       "pcc                1\n",
       "Name: roi, dtype: int64"
      ]
     },
     "execution_count": 13,
     "metadata": {},
     "output_type": "execute_result"
    }
   ],
   "source": [
    "roi_reref_labels_master_df.roi.value_counts()"
   ]
  },
  {
   "cell_type": "code",
   "execution_count": null,
   "id": "09b7d682",
   "metadata": {},
   "outputs": [],
   "source": []
  },
  {
   "cell_type": "code",
   "execution_count": 14,
   "id": "0a83a574",
   "metadata": {},
   "outputs": [
    {
     "data": {
      "text/plain": [
       "['dmpfc',\n",
       " 'ofc',\n",
       " 'acc',\n",
       " 'sts',\n",
       " 'hpc',\n",
       " 'amy',\n",
       " 'dlpfc',\n",
       " 'stg',\n",
       " 'vlpfc',\n",
       " 'ains',\n",
       " 'smg',\n",
       " 'pins',\n",
       " 'thalamus',\n",
       " 'mtg',\n",
       " 'temporal pole',\n",
       " 'mcc',\n",
       " 'motor',\n",
       " 'phg',\n",
       " 'parietal',\n",
       " 'vmpfc']"
      ]
     },
     "execution_count": 14,
     "metadata": {},
     "output_type": "execute_result"
    }
   ],
   "source": [
    "#### filter df by rois with electrode counts >= 50 *** updated to >15\n",
    "keep_rois = roi_reref_labels_master_df.roi.value_counts().index[roi_reref_labels_master_df.roi.value_counts(\n",
    ").values>=20].tolist()\n",
    "\n",
    "# keep_rois = roi_reref_labels_master_df.roi.value_counts().index[\n",
    "#     roi_reref_labels_master_df.roi.value_counts().values>=50].tolist()\n",
    "# keep_rois = ['dlpfc','vlpfc','dmpfc','ofc','ains','pins','acc','hpc','amy','mtg']     \n",
    "keep_rois\n"
   ]
  },
  {
   "cell_type": "code",
   "execution_count": 15,
   "id": "b070b09c",
   "metadata": {},
   "outputs": [
    {
     "data": {
      "text/plain": [
       "244136"
      ]
     },
     "execution_count": 15,
     "metadata": {},
     "output_type": "execute_result"
    }
   ],
   "source": [
    "####### NEW DATA FRAME \n",
    "reg_df = band_df.copy()\n",
    "reg_df = reg_df[reg_df.roi.isin(keep_rois)]\n",
    "len(reg_df)"
   ]
  },
  {
   "cell_type": "code",
   "execution_count": 16,
   "id": "83064f7f",
   "metadata": {
    "scrolled": true
   },
   "outputs": [
    {
     "data": {
      "text/plain": [
       "4.791999971900266"
      ]
     },
     "execution_count": 16,
     "metadata": {},
     "output_type": "execute_result"
    }
   ],
   "source": [
    "np.max(reg_df.band_pow)"
   ]
  },
  {
   "cell_type": "code",
   "execution_count": 17,
   "id": "b1f52041",
   "metadata": {},
   "outputs": [
    {
     "data": {
      "text/plain": [
       "-0.9750844772396912"
      ]
     },
     "execution_count": 17,
     "metadata": {},
     "output_type": "execute_result"
    }
   ],
   "source": [
    "np.min(reg_df.band_pow)"
   ]
  },
  {
   "cell_type": "markdown",
   "id": "b10cafdd",
   "metadata": {},
   "source": [
    "# POW ~ Outcome Vars Regressions"
   ]
  },
  {
   "cell_type": "code",
   "execution_count": 18,
   "id": "709a65f9",
   "metadata": {},
   "outputs": [],
   "source": [
    "outcome_var  = 'band_pow'\n",
    "rand_eff_var = 'unique_reref_ch'"
   ]
  },
  {
   "cell_type": "code",
   "execution_count": 19,
   "id": "1ee247bf",
   "metadata": {},
   "outputs": [
    {
     "name": "stdout",
     "output_type": "stream",
     "text": [
      "               Mixed Linear Model Regression Results\n",
      "===================================================================\n",
      "Model:                MixedLM    Dependent Variable:    band_pow   \n",
      "No. Observations:     244112     Method:                ML         \n",
      "No. Groups:           1776       Scale:                 0.1052     \n",
      "Min. group size:      65         Log-Likelihood:        -73968.9332\n",
      "Max. group size:      148        Converged:             Yes        \n",
      "Mean group size:      137.5                                        \n",
      "-------------------------------------------------------------------\n",
      "                        Coef.  Std.Err.    z    P>|z| [0.025 0.975]\n",
      "-------------------------------------------------------------------\n",
      "Intercept               -0.064    0.002 -27.060 0.000 -0.069 -0.060\n",
      "decisionCPE             -0.002    0.001  -1.207 0.227 -0.004  0.001\n",
      "Group Var                0.009    0.001                            \n",
      "Group x decisionCPE Cov -0.000    0.000                            \n",
      "decisionCPE Var          0.000    0.000                            \n",
      "===================================================================\n",
      "\n"
     ]
    },
    {
     "data": {
      "text/plain": [
       "148012.2987685953"
      ]
     },
     "execution_count": 19,
     "metadata": {},
     "output_type": "execute_result"
    }
   ],
   "source": [
    "final_vars   = ['decisionCPE']\n",
    "final_fit = fit_mixed_model(reg_df,final_vars,outcome_var,rand_eff_var,reml=False)\n",
    "print(final_fit.summary())\n",
    "final_fit.bic  "
   ]
  },
  {
   "cell_type": "code",
   "execution_count": 20,
   "id": "2efd153c",
   "metadata": {},
   "outputs": [
    {
     "name": "stdout",
     "output_type": "stream",
     "text": [
      "               Mixed Linear Model Regression Results\n",
      "===================================================================\n",
      "Model:                MixedLM    Dependent Variable:    band_pow   \n",
      "No. Observations:     244112     Method:                ML         \n",
      "No. Groups:           1776       Scale:                 0.1051     \n",
      "Min. group size:      65         Log-Likelihood:        -73924.9569\n",
      "Max. group size:      148        Converged:             Yes        \n",
      "Mean group size:      137.5                                        \n",
      "-------------------------------------------------------------------\n",
      "                        Coef.  Std.Err.    z    P>|z| [0.025 0.975]\n",
      "-------------------------------------------------------------------\n",
      "Intercept               -0.064    0.002 -27.060 0.000 -0.069 -0.060\n",
      "RPE                      0.005    0.002   2.523 0.012  0.001  0.009\n",
      "decisionCPE             -0.005    0.002  -2.749 0.006 -0.009 -0.001\n",
      "Group Var                0.009    0.001                            \n",
      "Group x RPE Cov         -0.000    0.001                            \n",
      "RPE Var                  0.001    0.001                            \n",
      "Group x decisionCPE Cov  0.000    0.001                            \n",
      "RPE x decisionCPE Cov   -0.000    0.001                            \n",
      "decisionCPE Var          0.000    0.001                            \n",
      "===================================================================\n",
      "\n"
     ]
    },
    {
     "data": {
      "text/plain": [
       "147973.96762191903"
      ]
     },
     "execution_count": 20,
     "metadata": {},
     "output_type": "execute_result"
    }
   ],
   "source": [
    "final_vars   = ['RPE','decisionCPE']\n",
    "final_fit = fit_mixed_model(reg_df,final_vars,outcome_var,rand_eff_var,reml=False)\n",
    "print(final_fit.summary())\n",
    "final_fit.bic  "
   ]
  },
  {
   "cell_type": "code",
   "execution_count": 21,
   "id": "1955df2f",
   "metadata": {},
   "outputs": [
    {
     "name": "stdout",
     "output_type": "stream",
     "text": [
      "                Mixed Linear Model Regression Results\n",
      "=====================================================================\n",
      "Model:                MixedLM     Dependent Variable:     band_pow   \n",
      "No. Observations:     244112      Method:                 ML         \n",
      "No. Groups:           1776        Scale:                  0.1049     \n",
      "Min. group size:      65          Log-Likelihood:         -73896.5310\n",
      "Max. group size:      148         Converged:              Yes        \n",
      "Mean group size:      137.5                                          \n",
      "---------------------------------------------------------------------\n",
      "                          Coef.  Std.Err.    z    P>|z| [0.025 0.975]\n",
      "---------------------------------------------------------------------\n",
      "Intercept                 -0.064    0.002 -27.065 0.000 -0.069 -0.060\n",
      "TrialEV                   -0.000    0.001  -0.080 0.936 -0.003  0.003\n",
      "RPE                        0.005    0.002   2.561 0.010  0.001  0.009\n",
      "decisionCPE               -0.005    0.002  -2.761 0.006 -0.009 -0.001\n",
      "Group Var                  0.009    0.001                            \n",
      "Group x TrialEV Cov       -0.000    0.000                            \n",
      "TrialEV Var                0.001    0.000                            \n",
      "Group x RPE Cov           -0.000    0.001                            \n",
      "TrialEV x RPE Cov          0.000    0.000                            \n",
      "RPE Var                    0.001    0.001                            \n",
      "Group x decisionCPE Cov    0.000    0.001                            \n",
      "TrialEV x decisionCPE Cov -0.000    0.000                            \n",
      "RPE x decisionCPE Cov     -0.000    0.001                            \n",
      "decisionCPE Var            0.000    0.001                            \n",
      "=====================================================================\n",
      "\n"
     ]
    },
    {
     "data": {
      "text/plain": [
       "147979.14277315623"
      ]
     },
     "execution_count": 21,
     "metadata": {},
     "output_type": "execute_result"
    }
   ],
   "source": [
    "final_vars   = ['TrialEV','RPE','decisionCPE']\n",
    "final_fit = fit_mixed_model(reg_df,final_vars,outcome_var,rand_eff_var,reml=False)\n",
    "print(final_fit.summary())\n",
    "final_fit.bic  "
   ]
  },
  {
   "cell_type": "code",
   "execution_count": 22,
   "id": "a0e7453d",
   "metadata": {},
   "outputs": [
    {
     "name": "stdout",
     "output_type": "stream",
     "text": [
      "                        Mixed Linear Model Regression Results\n",
      "=====================================================================================\n",
      "Model:                      MixedLM          Dependent Variable:          band_pow   \n",
      "No. Observations:           244112           Method:                      ML         \n",
      "No. Groups:                 1776             Scale:                       0.1033     \n",
      "Min. group size:            65               Log-Likelihood:              -73146.1747\n",
      "Max. group size:            148              Converged:                   Yes        \n",
      "Mean group size:            137.5                                                    \n",
      "-------------------------------------------------------------------------------------\n",
      "                                          Coef.  Std.Err.    z    P>|z| [0.025 0.975]\n",
      "-------------------------------------------------------------------------------------\n",
      "Intercept                                 -0.063    0.003 -24.478 0.000 -0.068 -0.058\n",
      "C(GambleChoice)[T.safe]                   -0.007    0.002  -3.246 0.001 -0.011 -0.003\n",
      "TotalProfit                                0.007    0.002   3.437 0.001  0.003  0.011\n",
      "decisionCPE                               -0.002    0.001  -1.213 0.225 -0.005  0.001\n",
      "Group Var                                  0.010    0.001                            \n",
      "Group x C(GambleChoice)[T.safe] Cov       -0.002    0.001                            \n",
      "C(GambleChoice)[T.safe] Var                0.004    0.001                            \n",
      "Group x TotalProfit Cov                   -0.000    0.001                            \n",
      "C(GambleChoice)[T.safe] x TotalProfit Cov -0.000    0.001                            \n",
      "TotalProfit Var                            0.004    0.001                            \n",
      "Group x decisionCPE Cov                   -0.000    0.000                            \n",
      "C(GambleChoice)[T.safe] x decisionCPE Cov  0.000    0.000                            \n",
      "TotalProfit x decisionCPE Cov             -0.000    0.000                            \n",
      "decisionCPE Var                            0.001    0.000                            \n",
      "=====================================================================================\n",
      "\n"
     ]
    },
    {
     "data": {
      "text/plain": [
       "146478.4300424896"
      ]
     },
     "execution_count": 22,
     "metadata": {},
     "output_type": "execute_result"
    }
   ],
   "source": [
    "final_vars   = ['C(GambleChoice)', 'TotalProfit', 'decisionCPE']\n",
    "final_fit = fit_mixed_model(reg_df,final_vars,outcome_var,rand_eff_var,reml=False)\n",
    "print(final_fit.summary())\n",
    "final_fit.bic  "
   ]
  },
  {
   "cell_type": "code",
   "execution_count": 23,
   "id": "867371b4",
   "metadata": {},
   "outputs": [
    {
     "name": "stdout",
     "output_type": "stream",
     "text": [
      "                          Mixed Linear Model Regression Results\n",
      "==========================================================================================\n",
      "Model:                       MixedLM            Dependent Variable:            band_pow   \n",
      "No. Observations:            244112             Method:                        ML         \n",
      "No. Groups:                  1776               Scale:                         0.1039     \n",
      "Min. group size:             65                 Log-Likelihood:                -73499.0457\n",
      "Max. group size:             148                Converged:                     Yes        \n",
      "Mean group size:             137.5                                                        \n",
      "------------------------------------------------------------------------------------------\n",
      "                                               Coef.  Std.Err.    z    P>|z| [0.025 0.975]\n",
      "------------------------------------------------------------------------------------------\n",
      "Intercept                                      -0.062    0.003 -24.400 0.000 -0.067 -0.057\n",
      "C(TrialType)[T.loss]                           -0.001    0.002  -0.279 0.780 -0.004  0.003\n",
      "C(TrialType)[T.mix]                            -0.005    0.002  -2.974 0.003 -0.009 -0.002\n",
      "TrialEV                                        -0.000    0.002  -0.125 0.900 -0.004  0.003\n",
      "TotalProfit                                     0.007    0.002   3.289 0.001  0.003  0.010\n",
      "decisionCPE                                    -0.002    0.001  -1.453 0.146 -0.005  0.001\n",
      "Group Var                                       0.009    0.001                            \n",
      "Group x C(TrialType)[T.loss] Cov                0.000    0.001                            \n",
      "C(TrialType)[T.loss] Var                        0.001    0.001                            \n",
      "Group x C(TrialType)[T.mix] Cov                -0.000    0.001                            \n",
      "C(TrialType)[T.loss] x C(TrialType)[T.mix] Cov  0.001    0.001                            \n",
      "C(TrialType)[T.mix] Var                         0.001    0.001                            \n",
      "Group x TrialEV Cov                             0.000    0.001                            \n",
      "C(TrialType)[T.loss] x TrialEV Cov              0.000    0.001                            \n",
      "C(TrialType)[T.mix] x TrialEV Cov               0.000    0.000                            \n",
      "TrialEV Var                                     0.001    0.001                            \n",
      "Group x TotalProfit Cov                        -0.001    0.001                            \n",
      "C(TrialType)[T.loss] x TotalProfit Cov          0.001    0.001                            \n",
      "C(TrialType)[T.mix] x TotalProfit Cov           0.001    0.000                            \n",
      "TrialEV x TotalProfit Cov                       0.000    0.000                            \n",
      "TotalProfit Var                                 0.004    0.001                            \n",
      "Group x decisionCPE Cov                         0.000    0.000                            \n",
      "C(TrialType)[T.loss] x decisionCPE Cov         -0.000    0.000                            \n",
      "C(TrialType)[T.mix] x decisionCPE Cov          -0.000    0.000                            \n",
      "TrialEV x decisionCPE Cov                      -0.000    0.000                            \n",
      "TotalProfit x decisionCPE Cov                  -0.000    0.000                            \n",
      "decisionCPE Var                                 0.001    0.000                            \n",
      "==========================================================================================\n",
      "\n"
     ]
    },
    {
     "data": {
      "text/plain": [
       "147345.4420483901"
      ]
     },
     "execution_count": 23,
     "metadata": {},
     "output_type": "execute_result"
    }
   ],
   "source": [
    "final_vars   = ['C(TrialType)','TrialEV', 'TotalProfit', 'decisionCPE']\n",
    "final_fit = fit_mixed_model(reg_df,final_vars,outcome_var,rand_eff_var,reml=False)\n",
    "print(final_fit.summary())\n",
    "final_fit.bic    "
   ]
  },
  {
   "cell_type": "code",
   "execution_count": 24,
   "id": "9cfa698e",
   "metadata": {
    "scrolled": false
   },
   "outputs": [
    {
     "name": "stdout",
     "output_type": "stream",
     "text": [
      "                        Mixed Linear Model Regression Results\n",
      "=====================================================================================\n",
      "Model:                      MixedLM          Dependent Variable:          band_pow   \n",
      "No. Observations:           244112           Method:                      ML         \n",
      "No. Groups:                 1776             Scale:                       0.1032     \n",
      "Min. group size:            65               Log-Likelihood:              -73138.0570\n",
      "Max. group size:            148              Converged:                   Yes        \n",
      "Mean group size:            137.5                                                    \n",
      "-------------------------------------------------------------------------------------\n",
      "                                          Coef.  Std.Err.    z    P>|z| [0.025 0.975]\n",
      "-------------------------------------------------------------------------------------\n",
      "Intercept                                 -0.063    0.003 -24.238 0.000 -0.068 -0.058\n",
      "C(GambleChoice)[T.safe]                   -0.008    0.002  -3.566 0.000 -0.012 -0.003\n",
      "TrialEV                                   -0.003    0.001  -1.764 0.078 -0.005  0.000\n",
      "TotalProfit                                0.007    0.002   3.528 0.000  0.003  0.011\n",
      "decisionCPE                               -0.002    0.001  -1.237 0.216 -0.005  0.001\n",
      "Group Var                                  0.010    0.001                            \n",
      "Group x C(GambleChoice)[T.safe] Cov       -0.002    0.001                            \n",
      "C(GambleChoice)[T.safe] Var                0.004    0.001                            \n",
      "Group x TrialEV Cov                        0.000    0.000                            \n",
      "C(GambleChoice)[T.safe] x TrialEV Cov     -0.000    0.000                            \n",
      "TrialEV Var                                0.000    0.000                            \n",
      "Group x TotalProfit Cov                   -0.000    0.001                            \n",
      "C(GambleChoice)[T.safe] x TotalProfit Cov -0.000    0.001                            \n",
      "TrialEV x TotalProfit Cov                 -0.000    0.000                            \n",
      "TotalProfit Var                            0.004    0.001                            \n",
      "Group x decisionCPE Cov                   -0.000    0.000                            \n",
      "C(GambleChoice)[T.safe] x decisionCPE Cov  0.000    0.000                            \n",
      "TrialEV x decisionCPE Cov                  0.000    0.000                            \n",
      "TotalProfit x decisionCPE Cov             -0.000    0.000                            \n",
      "decisionCPE Var                            0.001    0.000                            \n",
      "=====================================================================================\n",
      "\n"
     ]
    },
    {
     "data": {
      "text/plain": [
       "146536.6269994063"
      ]
     },
     "execution_count": 24,
     "metadata": {},
     "output_type": "execute_result"
    }
   ],
   "source": [
    "final_vars   = ['C(GambleChoice)', 'TrialEV','TotalProfit', 'decisionCPE']\n",
    "final_fit = fit_mixed_model(reg_df,final_vars,outcome_var,rand_eff_var,reml=False)\n",
    "print(final_fit.summary())\n",
    "final_fit.bic  "
   ]
  },
  {
   "cell_type": "code",
   "execution_count": 25,
   "id": "63284933",
   "metadata": {},
   "outputs": [
    {
     "name": "stdout",
     "output_type": "stream",
     "text": [
      "                        Mixed Linear Model Regression Results\n",
      "=====================================================================================\n",
      "Model:                      MixedLM          Dependent Variable:          band_pow   \n",
      "No. Observations:           244112           Method:                      ML         \n",
      "No. Groups:                 1776             Scale:                       0.1042     \n",
      "Min. group size:            65               Log-Likelihood:              -73541.8265\n",
      "Max. group size:            148              Converged:                   Yes        \n",
      "Mean group size:            137.5                                                    \n",
      "-------------------------------------------------------------------------------------\n",
      "                                          Coef.  Std.Err.    z    P>|z| [0.025 0.975]\n",
      "-------------------------------------------------------------------------------------\n",
      "Intercept                                 -0.063    0.003 -24.250 0.000 -0.068 -0.058\n",
      "C(GambleChoice)[T.safe]                   -0.007    0.002  -3.338 0.001 -0.011 -0.003\n",
      "TrialEV                                   -0.003    0.001  -1.797 0.072 -0.005  0.000\n",
      "decisionCPE                               -0.001    0.001  -0.900 0.368 -0.004  0.002\n",
      "Group Var                                  0.010    0.001                            \n",
      "Group x C(GambleChoice)[T.safe] Cov       -0.002    0.001                            \n",
      "C(GambleChoice)[T.safe] Var                0.004    0.001                            \n",
      "Group x TrialEV Cov                       -0.000    0.000                            \n",
      "C(GambleChoice)[T.safe] x TrialEV Cov     -0.000    0.000                            \n",
      "TrialEV Var                                0.000    0.000                            \n",
      "Group x decisionCPE Cov                   -0.000    0.000                            \n",
      "C(GambleChoice)[T.safe] x decisionCPE Cov -0.000    0.000                            \n",
      "TrialEV x decisionCPE Cov                  0.000    0.000                            \n",
      "decisionCPE Var                            0.000    0.000                            \n",
      "=====================================================================================\n",
      "\n"
     ]
    },
    {
     "data": {
      "text/plain": [
       "147269.73371076974"
      ]
     },
     "execution_count": 25,
     "metadata": {},
     "output_type": "execute_result"
    }
   ],
   "source": [
    "final_vars   = ['C(GambleChoice)', 'TrialEV', 'decisionCPE']\n",
    "final_fit = fit_mixed_model(reg_df,final_vars,outcome_var,rand_eff_var,reml=False)\n",
    "print(final_fit.summary())\n",
    "final_fit.bic  "
   ]
  },
  {
   "cell_type": "code",
   "execution_count": 26,
   "id": "dd3f78f0",
   "metadata": {},
   "outputs": [
    {
     "name": "stdout",
     "output_type": "stream",
     "text": [
      "                  Mixed Linear Model Regression Results\n",
      "=========================================================================\n",
      "Model:                  MixedLM      Dependent Variable:      band_pow   \n",
      "No. Observations:       244112       Method:                  ML         \n",
      "No. Groups:             1776         Scale:                   0.1041     \n",
      "Min. group size:        65           Log-Likelihood:          -73547.1863\n",
      "Max. group size:        148          Converged:               Yes        \n",
      "Mean group size:        137.5                                            \n",
      "-------------------------------------------------------------------------\n",
      "                              Coef.  Std.Err.    z    P>|z| [0.025 0.975]\n",
      "-------------------------------------------------------------------------\n",
      "Intercept                     -0.064    0.002 -27.059 0.000 -0.069 -0.060\n",
      "TrialEV                        0.000    0.001   0.283 0.777 -0.003  0.003\n",
      "TotalProfit                    0.007    0.002   3.376 0.001  0.003  0.010\n",
      "decisionCPE                   -0.002    0.001  -1.482 0.138 -0.005  0.001\n",
      "Group Var                      0.009    0.001                            \n",
      "Group x TrialEV Cov           -0.000    0.000                            \n",
      "TrialEV Var                    0.001    0.000                            \n",
      "Group x TotalProfit Cov       -0.001    0.001                            \n",
      "TrialEV x TotalProfit Cov     -0.000    0.000                            \n",
      "TotalProfit Var                0.004    0.001                            \n",
      "Group x decisionCPE Cov       -0.000    0.000                            \n",
      "TrialEV x decisionCPE Cov      0.000    0.000                            \n",
      "TotalProfit x decisionCPE Cov -0.000    0.000                            \n",
      "decisionCPE Var                0.000    0.000                            \n",
      "=========================================================================\n",
      "\n"
     ]
    },
    {
     "data": {
      "text/plain": [
       "147280.4532665668"
      ]
     },
     "execution_count": 26,
     "metadata": {},
     "output_type": "execute_result"
    }
   ],
   "source": [
    "final_vars   = ['TrialEV', 'TotalProfit', 'decisionCPE']\n",
    "final_fit = fit_mixed_model(reg_df,final_vars,outcome_var,rand_eff_var,reml=False)\n",
    "print(final_fit.summary())\n",
    "final_fit.bic  "
   ]
  },
  {
   "cell_type": "code",
   "execution_count": 27,
   "id": "12ef5916",
   "metadata": {},
   "outputs": [
    {
     "name": "stdout",
     "output_type": "stream",
     "text": [
      "                        Mixed Linear Model Regression Results\n",
      "=====================================================================================\n",
      "Model:                      MixedLM          Dependent Variable:          band_pow   \n",
      "No. Observations:           244112           Method:                      ML         \n",
      "No. Groups:                 1776             Scale:                       0.1042     \n",
      "Min. group size:            65               Log-Likelihood:              -73548.6215\n",
      "Max. group size:            148              Converged:                   Yes        \n",
      "Mean group size:            137.5                                                    \n",
      "-------------------------------------------------------------------------------------\n",
      "                                          Coef.  Std.Err.    z    P>|z| [0.025 0.975]\n",
      "-------------------------------------------------------------------------------------\n",
      "Intercept                                 -0.063    0.003 -24.505 0.000 -0.068 -0.058\n",
      "C(GambleChoice)[T.safe]                   -0.006    0.002  -3.022 0.003 -0.010 -0.002\n",
      "decisionCPE                               -0.001    0.001  -0.929 0.353 -0.004  0.001\n",
      "Group Var                                  0.010    0.001                            \n",
      "Group x C(GambleChoice)[T.safe] Cov       -0.002    0.001                            \n",
      "C(GambleChoice)[T.safe] Var                0.004    0.001                            \n",
      "Group x decisionCPE Cov                   -0.000    0.000                            \n",
      "C(GambleChoice)[T.safe] x decisionCPE Cov -0.000    0.000                            \n",
      "decisionCPE Var                            0.001    0.000                            \n",
      "=====================================================================================\n",
      "\n"
     ]
    },
    {
     "data": {
      "text/plain": [
       "147221.29686726935"
      ]
     },
     "execution_count": 27,
     "metadata": {},
     "output_type": "execute_result"
    }
   ],
   "source": [
    "final_vars   = ['C(GambleChoice)', 'decisionCPE']\n",
    "final_fit = fit_mixed_model(reg_df,final_vars,outcome_var,rand_eff_var,reml=False)\n",
    "print(final_fit.summary())\n",
    "final_fit.bic  "
   ]
  },
  {
   "cell_type": "code",
   "execution_count": 28,
   "id": "1d4c9909",
   "metadata": {},
   "outputs": [
    {
     "name": "stdout",
     "output_type": "stream",
     "text": [
      "                  Mixed Linear Model Regression Results\n",
      "=========================================================================\n",
      "Model:                  MixedLM      Dependent Variable:      band_pow   \n",
      "No. Observations:       244112       Method:                  ML         \n",
      "No. Groups:             1776         Scale:                   0.1043     \n",
      "Min. group size:        65           Log-Likelihood:          -73577.6156\n",
      "Max. group size:        148          Converged:               Yes        \n",
      "Mean group size:        137.5                                            \n",
      "-------------------------------------------------------------------------\n",
      "                              Coef.  Std.Err.    z    P>|z| [0.025 0.975]\n",
      "-------------------------------------------------------------------------\n",
      "Intercept                     -0.064    0.002 -27.061 0.000 -0.069 -0.060\n",
      "TotalProfit                    0.006    0.002   3.303 0.001  0.003  0.010\n",
      "decisionCPE                   -0.002    0.001  -1.458 0.145 -0.005  0.001\n",
      "Group Var                      0.009    0.001                            \n",
      "Group x TotalProfit Cov       -0.001    0.001                            \n",
      "TotalProfit Var                0.004    0.001                            \n",
      "Group x decisionCPE Cov       -0.000    0.000                            \n",
      "TotalProfit x decisionCPE Cov -0.000    0.000                            \n",
      "decisionCPE Var                0.001    0.000                            \n",
      "=========================================================================\n",
      "\n"
     ]
    },
    {
     "data": {
      "text/plain": [
       "147279.28500309985"
      ]
     },
     "execution_count": 28,
     "metadata": {},
     "output_type": "execute_result"
    }
   ],
   "source": [
    "final_vars   = ['TotalProfit', 'decisionCPE']\n",
    "final_fit = fit_mixed_model(reg_df,final_vars,outcome_var,rand_eff_var,reml=False)\n",
    "print(final_fit.summary())\n",
    "final_fit.bic  "
   ]
  },
  {
   "cell_type": "code",
   "execution_count": 29,
   "id": "07eca761",
   "metadata": {},
   "outputs": [
    {
     "name": "stdout",
     "output_type": "stream",
     "text": [
      "                Mixed Linear Model Regression Results\n",
      "=====================================================================\n",
      "Model:                MixedLM     Dependent Variable:     band_pow   \n",
      "No. Observations:     244112      Method:                 ML         \n",
      "No. Groups:           1776        Scale:                  0.1050     \n",
      "Min. group size:      65          Log-Likelihood:         -73941.3813\n",
      "Max. group size:      148         Converged:              Yes        \n",
      "Mean group size:      137.5                                          \n",
      "---------------------------------------------------------------------\n",
      "                          Coef.  Std.Err.    z    P>|z| [0.025 0.975]\n",
      "---------------------------------------------------------------------\n",
      "Intercept                 -0.064    0.002 -27.055 0.000 -0.069 -0.060\n",
      "TrialEV                    0.000    0.001   0.163 0.870 -0.003  0.003\n",
      "decisionCPE               -0.002    0.001  -1.189 0.235 -0.004  0.001\n",
      "Group Var                  0.009    0.001                            \n",
      "Group x TrialEV Cov       -0.000    0.000                            \n",
      "TrialEV Var                0.001    0.000                            \n",
      "Group x decisionCPE Cov   -0.000    0.000                            \n",
      "TrialEV x decisionCPE Cov  0.000    0.000                            \n",
      "decisionCPE Var            0.000    0.000                            \n",
      "=====================================================================\n",
      "\n"
     ]
    },
    {
     "data": {
      "text/plain": [
       "148006.81639351536"
      ]
     },
     "execution_count": 29,
     "metadata": {},
     "output_type": "execute_result"
    }
   ],
   "source": [
    "final_vars   = ['TrialEV', 'decisionCPE']\n",
    "final_fit = fit_mixed_model(reg_df,final_vars,outcome_var,rand_eff_var,reml=False)\n",
    "print(final_fit.summary())\n",
    "final_fit.bic  "
   ]
  },
  {
   "cell_type": "code",
   "execution_count": 30,
   "id": "373051aa",
   "metadata": {},
   "outputs": [
    {
     "name": "stdout",
     "output_type": "stream",
     "text": [
      "                          Mixed Linear Model Regression Results\n",
      "==========================================================================================\n",
      "Model:                       MixedLM            Dependent Variable:            band_pow   \n",
      "No. Observations:            244112             Method:                        ML         \n",
      "No. Groups:                  1776               Scale:                         0.1051     \n",
      "Min. group size:             65                 Log-Likelihood:                -73941.3977\n",
      "Max. group size:             148                Converged:                     Yes        \n",
      "Mean group size:             137.5                                                        \n",
      "------------------------------------------------------------------------------------------\n",
      "                                               Coef.  Std.Err.    z    P>|z| [0.025 0.975]\n",
      "------------------------------------------------------------------------------------------\n",
      "Intercept                                      -0.063    0.003 -24.941 0.000 -0.067 -0.058\n",
      "C(TrialType)[T.loss]                           -0.001    0.002  -0.315 0.752 -0.004  0.003\n",
      "C(TrialType)[T.mix]                            -0.005    0.002  -2.807 0.005 -0.008 -0.001\n",
      "decisionCPE                                    -0.002    0.001  -1.154 0.249 -0.004  0.001\n",
      "Group Var                                       0.009    0.001                            \n",
      "Group x C(TrialType)[T.loss] Cov                0.000    0.001                            \n",
      "C(TrialType)[T.loss] Var                        0.000    0.001                            \n",
      "Group x C(TrialType)[T.mix] Cov                -0.000    0.001                            \n",
      "C(TrialType)[T.loss] x C(TrialType)[T.mix] Cov  0.000    0.000                            \n",
      "C(TrialType)[T.mix] Var                         0.001    0.001                            \n",
      "Group x decisionCPE Cov                        -0.000    0.000                            \n",
      "C(TrialType)[T.loss] x decisionCPE Cov         -0.000    0.000                            \n",
      "C(TrialType)[T.mix] x decisionCPE Cov          -0.000    0.000                            \n",
      "decisionCPE Var                                 0.000    0.000                            \n",
      "==========================================================================================\n",
      "\n"
     ]
    },
    {
     "data": {
      "text/plain": [
       "148068.8761109381"
      ]
     },
     "execution_count": 30,
     "metadata": {},
     "output_type": "execute_result"
    }
   ],
   "source": [
    "final_vars   = ['C(TrialType)','decisionCPE']\n",
    "final_fit = fit_mixed_model(reg_df,final_vars,outcome_var,rand_eff_var,reml=False)\n",
    "print(final_fit.summary())\n",
    "final_fit.bic    "
   ]
  },
  {
   "cell_type": "code",
   "execution_count": 31,
   "id": "f9522296",
   "metadata": {},
   "outputs": [
    {
     "name": "stdout",
     "output_type": "stream",
     "text": [
      "                          Mixed Linear Model Regression Results\n",
      "==========================================================================================\n",
      "Model:                       MixedLM            Dependent Variable:            band_pow   \n",
      "No. Observations:            244112             Method:                        ML         \n",
      "No. Groups:                  1776               Scale:                         0.1041     \n",
      "Min. group size:             65                 Log-Likelihood:                -73529.4289\n",
      "Max. group size:             148                Converged:                     Yes        \n",
      "Mean group size:             137.5                                                        \n",
      "------------------------------------------------------------------------------------------\n",
      "                                               Coef.  Std.Err.    z    P>|z| [0.025 0.975]\n",
      "------------------------------------------------------------------------------------------\n",
      "Intercept                                      -0.062    0.003 -24.811 0.000 -0.067 -0.057\n",
      "C(TrialType)[T.loss]                           -0.000    0.002  -0.281 0.779 -0.004  0.003\n",
      "C(TrialType)[T.mix]                            -0.005    0.002  -3.107 0.002 -0.009 -0.002\n",
      "TotalProfit                                     0.006    0.002   3.203 0.001  0.002  0.010\n",
      "decisionCPE                                    -0.002    0.001  -1.408 0.159 -0.005  0.001\n",
      "Group Var                                       0.009    0.001                            \n",
      "Group x C(TrialType)[T.loss] Cov                0.000    0.001                            \n",
      "C(TrialType)[T.loss] Var                        0.001    0.001                            \n",
      "Group x C(TrialType)[T.mix] Cov                -0.000    0.001                            \n",
      "C(TrialType)[T.loss] x C(TrialType)[T.mix] Cov  0.001    0.000                            \n",
      "C(TrialType)[T.mix] Var                         0.001    0.001                            \n",
      "Group x TotalProfit Cov                        -0.001    0.001                            \n",
      "C(TrialType)[T.loss] x TotalProfit Cov          0.001    0.000                            \n",
      "C(TrialType)[T.mix] x TotalProfit Cov           0.001    0.000                            \n",
      "TotalProfit Var                                 0.004    0.001                            \n",
      "Group x decisionCPE Cov                         0.000    0.000                            \n",
      "C(TrialType)[T.loss] x decisionCPE Cov         -0.000    0.000                            \n",
      "C(TrialType)[T.mix] x decisionCPE Cov          -0.000    0.000                            \n",
      "TotalProfit x decisionCPE Cov                  -0.000    0.000                            \n",
      "decisionCPE Var                                 0.000    0.000                            \n",
      "==========================================================================================\n",
      "\n"
     ]
    },
    {
     "data": {
      "text/plain": [
       "147319.37075492382"
      ]
     },
     "execution_count": 31,
     "metadata": {},
     "output_type": "execute_result"
    }
   ],
   "source": [
    "final_vars   = ['C(TrialType)','TotalProfit', 'decisionCPE']\n",
    "final_fit = fit_mixed_model(reg_df,final_vars,outcome_var,rand_eff_var,reml=False)\n",
    "print(final_fit.summary())\n",
    "final_fit.bic    "
   ]
  },
  {
   "cell_type": "code",
   "execution_count": 32,
   "id": "7fb47161",
   "metadata": {},
   "outputs": [
    {
     "name": "stdout",
     "output_type": "stream",
     "text": [
      "                          Mixed Linear Model Regression Results\n",
      "==========================================================================================\n",
      "Model:                       MixedLM            Dependent Variable:            band_pow   \n",
      "No. Observations:            244112             Method:                        ML         \n",
      "No. Groups:                  1776               Scale:                         0.1049     \n",
      "Min. group size:             65                 Log-Likelihood:                -73916.4449\n",
      "Max. group size:             148                Converged:                     Yes        \n",
      "Mean group size:             137.5                                                        \n",
      "------------------------------------------------------------------------------------------\n",
      "                                               Coef.  Std.Err.    z    P>|z| [0.025 0.975]\n",
      "------------------------------------------------------------------------------------------\n",
      "Intercept                                      -0.062    0.003 -24.496 0.000 -0.067 -0.057\n",
      "C(TrialType)[T.loss]                           -0.001    0.002  -0.379 0.705 -0.005  0.003\n",
      "C(TrialType)[T.mix]                            -0.005    0.002  -2.765 0.006 -0.009 -0.001\n",
      "TrialEV                                        -0.000    0.002  -0.270 0.787 -0.004  0.003\n",
      "decisionCPE                                    -0.002    0.001  -1.199 0.230 -0.004  0.001\n",
      "Group Var                                       0.009    0.001                            \n",
      "Group x C(TrialType)[T.loss] Cov                0.001    0.001                            \n",
      "C(TrialType)[T.loss] Var                        0.000    0.001                            \n",
      "Group x C(TrialType)[T.mix] Cov                -0.000    0.001                            \n",
      "C(TrialType)[T.loss] x C(TrialType)[T.mix] Cov  0.000    0.001                            \n",
      "C(TrialType)[T.mix] Var                         0.000    0.001                            \n",
      "Group x TrialEV Cov                             0.000    0.001                            \n",
      "C(TrialType)[T.loss] x TrialEV Cov              0.000    0.000                            \n",
      "C(TrialType)[T.mix] x TrialEV Cov               0.000    0.000                            \n",
      "TrialEV Var                                     0.001    0.001                            \n",
      "Group x decisionCPE Cov                        -0.000    0.000                            \n",
      "C(TrialType)[T.loss] x decisionCPE Cov         -0.000    0.000                            \n",
      "C(TrialType)[T.mix] x decisionCPE Cov          -0.000    0.000                            \n",
      "TrialEV x decisionCPE Cov                      -0.000    0.000                            \n",
      "decisionCPE Var                                 0.000    0.000                            \n",
      "==========================================================================================\n",
      "\n"
     ]
    },
    {
     "data": {
      "text/plain": [
       "148093.40274343934"
      ]
     },
     "execution_count": 32,
     "metadata": {},
     "output_type": "execute_result"
    }
   ],
   "source": [
    "final_vars   = ['C(TrialType)','TrialEV',  'decisionCPE']\n",
    "final_fit = fit_mixed_model(reg_df,final_vars,outcome_var,rand_eff_var,reml=False)\n",
    "print(final_fit.summary())\n",
    "final_fit.bic    "
   ]
  },
  {
   "cell_type": "markdown",
   "id": "2684e598",
   "metadata": {},
   "source": [
    "\n",
    "## ROI REGRESSIONS\n"
   ]
  },
  {
   "cell_type": "code",
   "execution_count": null,
   "id": "70b21e54",
   "metadata": {},
   "outputs": [],
   "source": [
    "# test_rois = ['dlpfc','vlpfc','dmpfc','ofc','ains','pins', 'acc','hpc','amy','motor']\n"
   ]
  },
  {
   "cell_type": "code",
   "execution_count": 44,
   "id": "fe32cee2",
   "metadata": {},
   "outputs": [],
   "source": [
    "outcome_var  = 'band_pow'\n",
    "rand_eff_var = 'unique_reref_ch'\n",
    "final_vars   = ['C(GambleChoice)','TotalProfit','decisionCPE']"
   ]
  },
  {
   "cell_type": "code",
   "execution_count": 45,
   "id": "d4010256",
   "metadata": {},
   "outputs": [],
   "source": [
    "roi_fit_dict = {f'{roi}':fit_mixed_model(reg_df[reg_df.roi==roi],\n",
    "                                        final_vars,outcome_var,rand_eff_var,reml=False) \n",
    "                for roi in reg_df.roi.unique().tolist()}\n",
    "\n",
    "roi_fit_results = []\n",
    "\n",
    "for roi in list(roi_fit_dict.keys()):\n",
    "    roi_fit = mixed_eff_results_df(roi_fit_dict[roi],reg_df[reg_df.roi==roi])\n",
    "    roi_fit_results.append(roi_fit)\n",
    "    \n",
    "roi_fit_results = pd.concat(roi_fit_results).reset_index(drop=True)\n",
    "\n"
   ]
  },
  {
   "cell_type": "code",
   "execution_count": 46,
   "id": "03cab245",
   "metadata": {},
   "outputs": [
    {
     "data": {
      "text/html": [
       "<div>\n",
       "<style scoped>\n",
       "    .dataframe tbody tr th:only-of-type {\n",
       "        vertical-align: middle;\n",
       "    }\n",
       "\n",
       "    .dataframe tbody tr th {\n",
       "        vertical-align: top;\n",
       "    }\n",
       "\n",
       "    .dataframe thead th {\n",
       "        text-align: right;\n",
       "    }\n",
       "</style>\n",
       "<table border=\"1\" class=\"dataframe\">\n",
       "  <thead>\n",
       "    <tr style=\"text-align: right;\">\n",
       "      <th></th>\n",
       "      <th>unique_reref_ch</th>\n",
       "      <th>subj_id</th>\n",
       "      <th>roi</th>\n",
       "      <th>bdi</th>\n",
       "      <th>raw_Intercept</th>\n",
       "      <th>raw_GambleChoice</th>\n",
       "      <th>raw_TotalProfit</th>\n",
       "      <th>raw_decisionCPE</th>\n",
       "      <th>Intercept</th>\n",
       "      <th>GambleChoice</th>\n",
       "      <th>TotalProfit</th>\n",
       "      <th>decisionCPE</th>\n",
       "    </tr>\n",
       "  </thead>\n",
       "  <tbody>\n",
       "    <tr>\n",
       "      <th>0</th>\n",
       "      <td>MS025_lcmip1-lcmip2</td>\n",
       "      <td>MS025</td>\n",
       "      <td>thalamus</td>\n",
       "      <td>10</td>\n",
       "      <td>-0.141181</td>\n",
       "      <td>0.030619</td>\n",
       "      <td>0.020817</td>\n",
       "      <td>-0.003805</td>\n",
       "      <td>-0.181256</td>\n",
       "      <td>0.036464</td>\n",
       "      <td>0.038331</td>\n",
       "      <td>-0.011156</td>\n",
       "    </tr>\n",
       "    <tr>\n",
       "      <th>1</th>\n",
       "      <td>MS025_lcmip2-lcmip3</td>\n",
       "      <td>MS025</td>\n",
       "      <td>thalamus</td>\n",
       "      <td>10</td>\n",
       "      <td>-0.055928</td>\n",
       "      <td>0.046128</td>\n",
       "      <td>-0.006991</td>\n",
       "      <td>-0.012080</td>\n",
       "      <td>-0.096003</td>\n",
       "      <td>0.051973</td>\n",
       "      <td>0.010523</td>\n",
       "      <td>-0.019432</td>\n",
       "    </tr>\n",
       "    <tr>\n",
       "      <th>2</th>\n",
       "      <td>MS025_lcmip3-lcmip4</td>\n",
       "      <td>MS025</td>\n",
       "      <td>thalamus</td>\n",
       "      <td>10</td>\n",
       "      <td>-0.259342</td>\n",
       "      <td>0.027485</td>\n",
       "      <td>0.020303</td>\n",
       "      <td>-0.010532</td>\n",
       "      <td>-0.299418</td>\n",
       "      <td>0.033330</td>\n",
       "      <td>0.037816</td>\n",
       "      <td>-0.017883</td>\n",
       "    </tr>\n",
       "    <tr>\n",
       "      <th>3</th>\n",
       "      <td>MS025_lcmip4-lcmip5</td>\n",
       "      <td>MS025</td>\n",
       "      <td>thalamus</td>\n",
       "      <td>10</td>\n",
       "      <td>-0.302604</td>\n",
       "      <td>0.066518</td>\n",
       "      <td>0.055717</td>\n",
       "      <td>-0.003775</td>\n",
       "      <td>-0.342679</td>\n",
       "      <td>0.072363</td>\n",
       "      <td>0.073231</td>\n",
       "      <td>-0.011126</td>\n",
       "    </tr>\n",
       "    <tr>\n",
       "      <th>4</th>\n",
       "      <td>MS025_lcmip5-lcmip6</td>\n",
       "      <td>MS025</td>\n",
       "      <td>thalamus</td>\n",
       "      <td>10</td>\n",
       "      <td>-0.172882</td>\n",
       "      <td>0.032315</td>\n",
       "      <td>0.029039</td>\n",
       "      <td>-0.002552</td>\n",
       "      <td>-0.212958</td>\n",
       "      <td>0.038159</td>\n",
       "      <td>0.046553</td>\n",
       "      <td>-0.009903</td>\n",
       "    </tr>\n",
       "    <tr>\n",
       "      <th>5</th>\n",
       "      <td>MS025_rcmip1-rcmip2</td>\n",
       "      <td>MS025</td>\n",
       "      <td>thalamus</td>\n",
       "      <td>10</td>\n",
       "      <td>0.053601</td>\n",
       "      <td>0.021614</td>\n",
       "      <td>-0.021055</td>\n",
       "      <td>-0.008185</td>\n",
       "      <td>0.013525</td>\n",
       "      <td>0.027459</td>\n",
       "      <td>-0.003542</td>\n",
       "      <td>-0.015536</td>\n",
       "    </tr>\n",
       "    <tr>\n",
       "      <th>6</th>\n",
       "      <td>MS025_rcmip2-rcmip3</td>\n",
       "      <td>MS025</td>\n",
       "      <td>thalamus</td>\n",
       "      <td>10</td>\n",
       "      <td>0.007584</td>\n",
       "      <td>0.040471</td>\n",
       "      <td>0.015273</td>\n",
       "      <td>0.001393</td>\n",
       "      <td>-0.032491</td>\n",
       "      <td>0.046316</td>\n",
       "      <td>0.032786</td>\n",
       "      <td>-0.005958</td>\n",
       "    </tr>\n",
       "    <tr>\n",
       "      <th>7</th>\n",
       "      <td>MS025_rcmip3-rcmip4</td>\n",
       "      <td>MS025</td>\n",
       "      <td>thalamus</td>\n",
       "      <td>10</td>\n",
       "      <td>-0.067724</td>\n",
       "      <td>-0.002391</td>\n",
       "      <td>0.012035</td>\n",
       "      <td>0.001217</td>\n",
       "      <td>-0.107799</td>\n",
       "      <td>0.003453</td>\n",
       "      <td>0.029549</td>\n",
       "      <td>-0.006134</td>\n",
       "    </tr>\n",
       "    <tr>\n",
       "      <th>8</th>\n",
       "      <td>MS025_rcmip4-rcmip5</td>\n",
       "      <td>MS025</td>\n",
       "      <td>thalamus</td>\n",
       "      <td>10</td>\n",
       "      <td>-0.052696</td>\n",
       "      <td>0.046794</td>\n",
       "      <td>0.019017</td>\n",
       "      <td>-0.001443</td>\n",
       "      <td>-0.092771</td>\n",
       "      <td>0.052638</td>\n",
       "      <td>0.036531</td>\n",
       "      <td>-0.008794</td>\n",
       "    </tr>\n",
       "    <tr>\n",
       "      <th>9</th>\n",
       "      <td>MS025_rcmip5-rcmip6</td>\n",
       "      <td>MS025</td>\n",
       "      <td>thalamus</td>\n",
       "      <td>10</td>\n",
       "      <td>0.017937</td>\n",
       "      <td>-0.010046</td>\n",
       "      <td>-0.002698</td>\n",
       "      <td>0.001260</td>\n",
       "      <td>-0.022138</td>\n",
       "      <td>-0.004201</td>\n",
       "      <td>0.014816</td>\n",
       "      <td>-0.006091</td>\n",
       "    </tr>\n",
       "    <tr>\n",
       "      <th>10</th>\n",
       "      <td>MS028_lcmmm1-lcmmm2</td>\n",
       "      <td>MS028</td>\n",
       "      <td>thalamus</td>\n",
       "      <td>13</td>\n",
       "      <td>-0.113887</td>\n",
       "      <td>-0.010804</td>\n",
       "      <td>-0.021151</td>\n",
       "      <td>-0.013845</td>\n",
       "      <td>-0.153962</td>\n",
       "      <td>-0.004960</td>\n",
       "      <td>-0.003637</td>\n",
       "      <td>-0.021197</td>\n",
       "    </tr>\n",
       "    <tr>\n",
       "      <th>11</th>\n",
       "      <td>MS028_lcmmm2-lcmmm3</td>\n",
       "      <td>MS028</td>\n",
       "      <td>thalamus</td>\n",
       "      <td>13</td>\n",
       "      <td>0.027471</td>\n",
       "      <td>-0.004016</td>\n",
       "      <td>-0.010472</td>\n",
       "      <td>-0.002112</td>\n",
       "      <td>-0.012605</td>\n",
       "      <td>0.001829</td>\n",
       "      <td>0.007042</td>\n",
       "      <td>-0.009463</td>\n",
       "    </tr>\n",
       "    <tr>\n",
       "      <th>12</th>\n",
       "      <td>MS028_lcmmm3-lcmmm4</td>\n",
       "      <td>MS028</td>\n",
       "      <td>thalamus</td>\n",
       "      <td>13</td>\n",
       "      <td>0.004398</td>\n",
       "      <td>-0.017845</td>\n",
       "      <td>-0.038866</td>\n",
       "      <td>-0.013176</td>\n",
       "      <td>-0.035677</td>\n",
       "      <td>-0.012000</td>\n",
       "      <td>-0.021353</td>\n",
       "      <td>-0.020527</td>\n",
       "    </tr>\n",
       "    <tr>\n",
       "      <th>13</th>\n",
       "      <td>MS028_lcmmm4-lcmmm5</td>\n",
       "      <td>MS028</td>\n",
       "      <td>thalamus</td>\n",
       "      <td>13</td>\n",
       "      <td>0.018607</td>\n",
       "      <td>-0.025255</td>\n",
       "      <td>-0.006618</td>\n",
       "      <td>0.001678</td>\n",
       "      <td>-0.021469</td>\n",
       "      <td>-0.019410</td>\n",
       "      <td>0.010896</td>\n",
       "      <td>-0.005673</td>\n",
       "    </tr>\n",
       "    <tr>\n",
       "      <th>14</th>\n",
       "      <td>MS028_rcmmm1-rcmmm2</td>\n",
       "      <td>MS028</td>\n",
       "      <td>thalamus</td>\n",
       "      <td>13</td>\n",
       "      <td>0.032418</td>\n",
       "      <td>-0.007740</td>\n",
       "      <td>-0.029370</td>\n",
       "      <td>-0.008997</td>\n",
       "      <td>-0.007658</td>\n",
       "      <td>-0.001895</td>\n",
       "      <td>-0.011856</td>\n",
       "      <td>-0.016348</td>\n",
       "    </tr>\n",
       "    <tr>\n",
       "      <th>15</th>\n",
       "      <td>MS028_rcmmm2-rcmmm3</td>\n",
       "      <td>MS028</td>\n",
       "      <td>thalamus</td>\n",
       "      <td>13</td>\n",
       "      <td>-0.114724</td>\n",
       "      <td>0.013363</td>\n",
       "      <td>-0.015101</td>\n",
       "      <td>-0.014571</td>\n",
       "      <td>-0.154800</td>\n",
       "      <td>0.019208</td>\n",
       "      <td>0.002413</td>\n",
       "      <td>-0.021922</td>\n",
       "    </tr>\n",
       "    <tr>\n",
       "      <th>16</th>\n",
       "      <td>MS028_rcmmm3-rcmmm4</td>\n",
       "      <td>MS028</td>\n",
       "      <td>thalamus</td>\n",
       "      <td>13</td>\n",
       "      <td>-0.001198</td>\n",
       "      <td>-0.004670</td>\n",
       "      <td>-0.034087</td>\n",
       "      <td>-0.013273</td>\n",
       "      <td>-0.041274</td>\n",
       "      <td>0.001175</td>\n",
       "      <td>-0.016573</td>\n",
       "      <td>-0.020624</td>\n",
       "    </tr>\n",
       "    <tr>\n",
       "      <th>17</th>\n",
       "      <td>MS028_rcmmm4-rcmmm5</td>\n",
       "      <td>MS028</td>\n",
       "      <td>thalamus</td>\n",
       "      <td>13</td>\n",
       "      <td>-0.009779</td>\n",
       "      <td>-0.003665</td>\n",
       "      <td>-0.027813</td>\n",
       "      <td>-0.011365</td>\n",
       "      <td>-0.049854</td>\n",
       "      <td>0.002180</td>\n",
       "      <td>-0.010299</td>\n",
       "      <td>-0.018716</td>\n",
       "    </tr>\n",
       "    <tr>\n",
       "      <th>18</th>\n",
       "      <td>MS030_lcmmf1-lcmmf2</td>\n",
       "      <td>MS030</td>\n",
       "      <td>thalamus</td>\n",
       "      <td>19</td>\n",
       "      <td>0.019305</td>\n",
       "      <td>0.009928</td>\n",
       "      <td>-0.000008</td>\n",
       "      <td>-0.000157</td>\n",
       "      <td>-0.020770</td>\n",
       "      <td>0.015772</td>\n",
       "      <td>0.017505</td>\n",
       "      <td>-0.007508</td>\n",
       "    </tr>\n",
       "    <tr>\n",
       "      <th>19</th>\n",
       "      <td>MS030_lcmmf2-lcmmf3</td>\n",
       "      <td>MS030</td>\n",
       "      <td>thalamus</td>\n",
       "      <td>19</td>\n",
       "      <td>0.054734</td>\n",
       "      <td>0.027675</td>\n",
       "      <td>0.001354</td>\n",
       "      <td>0.000173</td>\n",
       "      <td>0.014658</td>\n",
       "      <td>0.033520</td>\n",
       "      <td>0.018867</td>\n",
       "      <td>-0.007178</td>\n",
       "    </tr>\n",
       "    <tr>\n",
       "      <th>20</th>\n",
       "      <td>MS030_lcmmf3-lcmmf4</td>\n",
       "      <td>MS030</td>\n",
       "      <td>thalamus</td>\n",
       "      <td>19</td>\n",
       "      <td>0.111304</td>\n",
       "      <td>0.014978</td>\n",
       "      <td>0.009301</td>\n",
       "      <td>0.008353</td>\n",
       "      <td>0.071229</td>\n",
       "      <td>0.020823</td>\n",
       "      <td>0.026814</td>\n",
       "      <td>0.001002</td>\n",
       "    </tr>\n",
       "    <tr>\n",
       "      <th>21</th>\n",
       "      <td>MS030_lcmmf4-lcmmf5</td>\n",
       "      <td>MS030</td>\n",
       "      <td>thalamus</td>\n",
       "      <td>19</td>\n",
       "      <td>0.107961</td>\n",
       "      <td>-0.003417</td>\n",
       "      <td>-0.006837</td>\n",
       "      <td>0.003998</td>\n",
       "      <td>0.067885</td>\n",
       "      <td>0.002428</td>\n",
       "      <td>0.010677</td>\n",
       "      <td>-0.003353</td>\n",
       "    </tr>\n",
       "    <tr>\n",
       "      <th>22</th>\n",
       "      <td>MS030_lcmmf5-lcmmf6</td>\n",
       "      <td>MS030</td>\n",
       "      <td>thalamus</td>\n",
       "      <td>19</td>\n",
       "      <td>0.003599</td>\n",
       "      <td>0.013117</td>\n",
       "      <td>-0.002540</td>\n",
       "      <td>-0.002518</td>\n",
       "      <td>-0.036477</td>\n",
       "      <td>0.018962</td>\n",
       "      <td>0.014974</td>\n",
       "      <td>-0.009869</td>\n",
       "    </tr>\n",
       "    <tr>\n",
       "      <th>23</th>\n",
       "      <td>MS033_lcmag1-lcmag2</td>\n",
       "      <td>MS033</td>\n",
       "      <td>thalamus</td>\n",
       "      <td>39</td>\n",
       "      <td>0.026764</td>\n",
       "      <td>-0.011997</td>\n",
       "      <td>0.002730</td>\n",
       "      <td>0.004228</td>\n",
       "      <td>-0.013312</td>\n",
       "      <td>-0.006152</td>\n",
       "      <td>0.020244</td>\n",
       "      <td>-0.003123</td>\n",
       "    </tr>\n",
       "    <tr>\n",
       "      <th>24</th>\n",
       "      <td>MS033_lcmag2-lcmag3</td>\n",
       "      <td>MS033</td>\n",
       "      <td>thalamus</td>\n",
       "      <td>39</td>\n",
       "      <td>0.038210</td>\n",
       "      <td>-0.007722</td>\n",
       "      <td>-0.006501</td>\n",
       "      <td>0.000607</td>\n",
       "      <td>-0.001865</td>\n",
       "      <td>-0.001878</td>\n",
       "      <td>0.011012</td>\n",
       "      <td>-0.006744</td>\n",
       "    </tr>\n",
       "    <tr>\n",
       "      <th>25</th>\n",
       "      <td>MS033_lcmag3-lcmag4</td>\n",
       "      <td>MS033</td>\n",
       "      <td>thalamus</td>\n",
       "      <td>39</td>\n",
       "      <td>-0.016175</td>\n",
       "      <td>0.024493</td>\n",
       "      <td>0.009714</td>\n",
       "      <td>-0.000184</td>\n",
       "      <td>-0.056250</td>\n",
       "      <td>0.030338</td>\n",
       "      <td>0.027228</td>\n",
       "      <td>-0.007535</td>\n",
       "    </tr>\n",
       "    <tr>\n",
       "      <th>26</th>\n",
       "      <td>MS033_lcmag4-lcmag5</td>\n",
       "      <td>MS033</td>\n",
       "      <td>thalamus</td>\n",
       "      <td>39</td>\n",
       "      <td>-0.095358</td>\n",
       "      <td>0.043846</td>\n",
       "      <td>0.017920</td>\n",
       "      <td>-0.004007</td>\n",
       "      <td>-0.135434</td>\n",
       "      <td>0.049691</td>\n",
       "      <td>0.035433</td>\n",
       "      <td>-0.011358</td>\n",
       "    </tr>\n",
       "    <tr>\n",
       "      <th>27</th>\n",
       "      <td>MS033_lcmag5-lcmag6</td>\n",
       "      <td>MS033</td>\n",
       "      <td>thalamus</td>\n",
       "      <td>39</td>\n",
       "      <td>-0.040897</td>\n",
       "      <td>0.013959</td>\n",
       "      <td>-0.053036</td>\n",
       "      <td>-0.025687</td>\n",
       "      <td>-0.080973</td>\n",
       "      <td>0.019804</td>\n",
       "      <td>-0.035522</td>\n",
       "      <td>-0.033038</td>\n",
       "    </tr>\n",
       "    <tr>\n",
       "      <th>28</th>\n",
       "      <td>MS035_lcmip1-lcmip2</td>\n",
       "      <td>MS035</td>\n",
       "      <td>thalamus</td>\n",
       "      <td>15</td>\n",
       "      <td>0.066251</td>\n",
       "      <td>-0.010472</td>\n",
       "      <td>0.039458</td>\n",
       "      <td>0.021221</td>\n",
       "      <td>0.026175</td>\n",
       "      <td>-0.004628</td>\n",
       "      <td>0.056972</td>\n",
       "      <td>0.013869</td>\n",
       "    </tr>\n",
       "    <tr>\n",
       "      <th>29</th>\n",
       "      <td>MS035_lcmip2-lcmip3</td>\n",
       "      <td>MS035</td>\n",
       "      <td>thalamus</td>\n",
       "      <td>15</td>\n",
       "      <td>0.102035</td>\n",
       "      <td>0.003907</td>\n",
       "      <td>0.043450</td>\n",
       "      <td>0.023075</td>\n",
       "      <td>0.061959</td>\n",
       "      <td>0.009752</td>\n",
       "      <td>0.060964</td>\n",
       "      <td>0.015724</td>\n",
       "    </tr>\n",
       "    <tr>\n",
       "      <th>30</th>\n",
       "      <td>MS035_lcmip3-lcmip4</td>\n",
       "      <td>MS035</td>\n",
       "      <td>thalamus</td>\n",
       "      <td>15</td>\n",
       "      <td>0.048111</td>\n",
       "      <td>-0.016660</td>\n",
       "      <td>0.028799</td>\n",
       "      <td>0.016643</td>\n",
       "      <td>0.008035</td>\n",
       "      <td>-0.010815</td>\n",
       "      <td>0.046313</td>\n",
       "      <td>0.009292</td>\n",
       "    </tr>\n",
       "    <tr>\n",
       "      <th>31</th>\n",
       "      <td>MS035_lcmip4-lcmip5</td>\n",
       "      <td>MS035</td>\n",
       "      <td>thalamus</td>\n",
       "      <td>15</td>\n",
       "      <td>-0.047838</td>\n",
       "      <td>-0.007787</td>\n",
       "      <td>0.062497</td>\n",
       "      <td>0.023522</td>\n",
       "      <td>-0.087914</td>\n",
       "      <td>-0.001942</td>\n",
       "      <td>0.080011</td>\n",
       "      <td>0.016171</td>\n",
       "    </tr>\n",
       "    <tr>\n",
       "      <th>32</th>\n",
       "      <td>MS035_rcmip1-rcmip2</td>\n",
       "      <td>MS035</td>\n",
       "      <td>thalamus</td>\n",
       "      <td>15</td>\n",
       "      <td>0.086098</td>\n",
       "      <td>0.022780</td>\n",
       "      <td>0.035075</td>\n",
       "      <td>0.016307</td>\n",
       "      <td>0.046022</td>\n",
       "      <td>0.028624</td>\n",
       "      <td>0.052589</td>\n",
       "      <td>0.008956</td>\n",
       "    </tr>\n",
       "    <tr>\n",
       "      <th>33</th>\n",
       "      <td>MS035_rcmip2-rcmip3</td>\n",
       "      <td>MS035</td>\n",
       "      <td>thalamus</td>\n",
       "      <td>15</td>\n",
       "      <td>0.067916</td>\n",
       "      <td>-0.005136</td>\n",
       "      <td>0.021007</td>\n",
       "      <td>0.013155</td>\n",
       "      <td>0.027840</td>\n",
       "      <td>0.000709</td>\n",
       "      <td>0.038521</td>\n",
       "      <td>0.005804</td>\n",
       "    </tr>\n",
       "    <tr>\n",
       "      <th>34</th>\n",
       "      <td>MS035_rcmip3-rcmip4</td>\n",
       "      <td>MS035</td>\n",
       "      <td>thalamus</td>\n",
       "      <td>15</td>\n",
       "      <td>0.041427</td>\n",
       "      <td>0.021929</td>\n",
       "      <td>0.057451</td>\n",
       "      <td>0.022862</td>\n",
       "      <td>0.001351</td>\n",
       "      <td>0.027773</td>\n",
       "      <td>0.074965</td>\n",
       "      <td>0.015510</td>\n",
       "    </tr>\n",
       "    <tr>\n",
       "      <th>35</th>\n",
       "      <td>MS035_rcmip4-rcmip5</td>\n",
       "      <td>MS035</td>\n",
       "      <td>thalamus</td>\n",
       "      <td>15</td>\n",
       "      <td>-0.110367</td>\n",
       "      <td>0.045323</td>\n",
       "      <td>0.078386</td>\n",
       "      <td>0.019419</td>\n",
       "      <td>-0.150442</td>\n",
       "      <td>0.051168</td>\n",
       "      <td>0.095899</td>\n",
       "      <td>0.012068</td>\n",
       "    </tr>\n",
       "    <tr>\n",
       "      <th>36</th>\n",
       "      <td>MS041_lcm1-lcm2</td>\n",
       "      <td>MS041</td>\n",
       "      <td>thalamus</td>\n",
       "      <td>10</td>\n",
       "      <td>0.055805</td>\n",
       "      <td>-0.029048</td>\n",
       "      <td>0.005120</td>\n",
       "      <td>0.009106</td>\n",
       "      <td>0.015729</td>\n",
       "      <td>-0.023203</td>\n",
       "      <td>0.022634</td>\n",
       "      <td>0.001754</td>\n",
       "    </tr>\n",
       "    <tr>\n",
       "      <th>37</th>\n",
       "      <td>MS041_lcm2-lcm3</td>\n",
       "      <td>MS041</td>\n",
       "      <td>thalamus</td>\n",
       "      <td>10</td>\n",
       "      <td>0.068708</td>\n",
       "      <td>-0.051814</td>\n",
       "      <td>-0.019030</td>\n",
       "      <td>0.003024</td>\n",
       "      <td>0.028632</td>\n",
       "      <td>-0.045969</td>\n",
       "      <td>-0.001517</td>\n",
       "      <td>-0.004327</td>\n",
       "    </tr>\n",
       "    <tr>\n",
       "      <th>38</th>\n",
       "      <td>MS041_lcm3-lcm4</td>\n",
       "      <td>MS041</td>\n",
       "      <td>thalamus</td>\n",
       "      <td>10</td>\n",
       "      <td>0.046486</td>\n",
       "      <td>-0.062621</td>\n",
       "      <td>-0.024443</td>\n",
       "      <td>0.000927</td>\n",
       "      <td>0.006411</td>\n",
       "      <td>-0.056776</td>\n",
       "      <td>-0.006929</td>\n",
       "      <td>-0.006424</td>\n",
       "    </tr>\n",
       "    <tr>\n",
       "      <th>39</th>\n",
       "      <td>MS041_lcm4-lcm5</td>\n",
       "      <td>MS041</td>\n",
       "      <td>thalamus</td>\n",
       "      <td>10</td>\n",
       "      <td>0.064708</td>\n",
       "      <td>-0.045230</td>\n",
       "      <td>-0.014200</td>\n",
       "      <td>0.003894</td>\n",
       "      <td>0.024633</td>\n",
       "      <td>-0.039385</td>\n",
       "      <td>0.003313</td>\n",
       "      <td>-0.003457</td>\n",
       "    </tr>\n",
       "    <tr>\n",
       "      <th>40</th>\n",
       "      <td>MS041_rcm1-rcm2</td>\n",
       "      <td>MS041</td>\n",
       "      <td>thalamus</td>\n",
       "      <td>10</td>\n",
       "      <td>0.031362</td>\n",
       "      <td>-0.022765</td>\n",
       "      <td>-0.007033</td>\n",
       "      <td>0.001936</td>\n",
       "      <td>-0.008714</td>\n",
       "      <td>-0.016920</td>\n",
       "      <td>0.010481</td>\n",
       "      <td>-0.005416</td>\n",
       "    </tr>\n",
       "    <tr>\n",
       "      <th>41</th>\n",
       "      <td>MS041_rcm2-rcm3</td>\n",
       "      <td>MS041</td>\n",
       "      <td>thalamus</td>\n",
       "      <td>10</td>\n",
       "      <td>0.051016</td>\n",
       "      <td>-0.056928</td>\n",
       "      <td>-0.017905</td>\n",
       "      <td>0.003106</td>\n",
       "      <td>0.010941</td>\n",
       "      <td>-0.051083</td>\n",
       "      <td>-0.000392</td>\n",
       "      <td>-0.004246</td>\n",
       "    </tr>\n",
       "    <tr>\n",
       "      <th>42</th>\n",
       "      <td>MS041_rcm3-rcm4</td>\n",
       "      <td>MS041</td>\n",
       "      <td>thalamus</td>\n",
       "      <td>10</td>\n",
       "      <td>0.051483</td>\n",
       "      <td>-0.041991</td>\n",
       "      <td>-0.018081</td>\n",
       "      <td>0.001128</td>\n",
       "      <td>0.011407</td>\n",
       "      <td>-0.036146</td>\n",
       "      <td>-0.000568</td>\n",
       "      <td>-0.006224</td>\n",
       "    </tr>\n",
       "    <tr>\n",
       "      <th>43</th>\n",
       "      <td>MS041_rcm4-rcm5</td>\n",
       "      <td>MS041</td>\n",
       "      <td>thalamus</td>\n",
       "      <td>10</td>\n",
       "      <td>0.023255</td>\n",
       "      <td>0.003133</td>\n",
       "      <td>0.000971</td>\n",
       "      <td>0.001352</td>\n",
       "      <td>-0.016821</td>\n",
       "      <td>0.008977</td>\n",
       "      <td>0.018485</td>\n",
       "      <td>-0.005999</td>\n",
       "    </tr>\n",
       "    <tr>\n",
       "      <th>44</th>\n",
       "      <td>MS048_lcmang1-lcmang2</td>\n",
       "      <td>MS048</td>\n",
       "      <td>thalamus</td>\n",
       "      <td>19</td>\n",
       "      <td>0.014657</td>\n",
       "      <td>0.020943</td>\n",
       "      <td>-0.002214</td>\n",
       "      <td>-0.002748</td>\n",
       "      <td>-0.025419</td>\n",
       "      <td>0.026787</td>\n",
       "      <td>0.015300</td>\n",
       "      <td>-0.010099</td>\n",
       "    </tr>\n",
       "    <tr>\n",
       "      <th>45</th>\n",
       "      <td>MS048_lcmang2-lcmang3</td>\n",
       "      <td>MS048</td>\n",
       "      <td>thalamus</td>\n",
       "      <td>19</td>\n",
       "      <td>0.104706</td>\n",
       "      <td>-0.067399</td>\n",
       "      <td>-0.014183</td>\n",
       "      <td>0.009115</td>\n",
       "      <td>0.064631</td>\n",
       "      <td>-0.061554</td>\n",
       "      <td>0.003331</td>\n",
       "      <td>0.001764</td>\n",
       "    </tr>\n",
       "    <tr>\n",
       "      <th>46</th>\n",
       "      <td>MS048_lcmang3-lcmang4</td>\n",
       "      <td>MS048</td>\n",
       "      <td>thalamus</td>\n",
       "      <td>19</td>\n",
       "      <td>-0.001415</td>\n",
       "      <td>-0.010261</td>\n",
       "      <td>-0.001092</td>\n",
       "      <td>0.000803</td>\n",
       "      <td>-0.041491</td>\n",
       "      <td>-0.004417</td>\n",
       "      <td>0.016422</td>\n",
       "      <td>-0.006548</td>\n",
       "    </tr>\n",
       "    <tr>\n",
       "      <th>47</th>\n",
       "      <td>MS048_rcmang1-rcmang2</td>\n",
       "      <td>MS048</td>\n",
       "      <td>thalamus</td>\n",
       "      <td>19</td>\n",
       "      <td>0.033637</td>\n",
       "      <td>-0.014105</td>\n",
       "      <td>-0.045795</td>\n",
       "      <td>-0.014752</td>\n",
       "      <td>-0.006439</td>\n",
       "      <td>-0.008260</td>\n",
       "      <td>-0.028282</td>\n",
       "      <td>-0.022103</td>\n",
       "    </tr>\n",
       "    <tr>\n",
       "      <th>48</th>\n",
       "      <td>MS048_rcmang2-rcmang3</td>\n",
       "      <td>MS048</td>\n",
       "      <td>thalamus</td>\n",
       "      <td>19</td>\n",
       "      <td>-0.025237</td>\n",
       "      <td>0.006121</td>\n",
       "      <td>-0.011283</td>\n",
       "      <td>-0.006842</td>\n",
       "      <td>-0.065312</td>\n",
       "      <td>0.011966</td>\n",
       "      <td>0.006231</td>\n",
       "      <td>-0.014193</td>\n",
       "    </tr>\n",
       "    <tr>\n",
       "      <th>49</th>\n",
       "      <td>MS048_rcmang3-rcmang4</td>\n",
       "      <td>MS048</td>\n",
       "      <td>thalamus</td>\n",
       "      <td>19</td>\n",
       "      <td>-0.103528</td>\n",
       "      <td>0.004615</td>\n",
       "      <td>-0.011574</td>\n",
       "      <td>-0.011353</td>\n",
       "      <td>-0.143604</td>\n",
       "      <td>0.010460</td>\n",
       "      <td>0.005940</td>\n",
       "      <td>-0.018704</td>\n",
       "    </tr>\n",
       "    <tr>\n",
       "      <th>50</th>\n",
       "      <td>MS048_rcmang4-rcmang5</td>\n",
       "      <td>MS048</td>\n",
       "      <td>thalamus</td>\n",
       "      <td>19</td>\n",
       "      <td>-0.067269</td>\n",
       "      <td>-0.013839</td>\n",
       "      <td>-0.042289</td>\n",
       "      <td>-0.019282</td>\n",
       "      <td>-0.107345</td>\n",
       "      <td>-0.007994</td>\n",
       "      <td>-0.024775</td>\n",
       "      <td>-0.026633</td>\n",
       "    </tr>\n",
       "    <tr>\n",
       "      <th>51</th>\n",
       "      <td>MS050_lcmang1-lcmang2</td>\n",
       "      <td>MS050</td>\n",
       "      <td>thalamus</td>\n",
       "      <td>9</td>\n",
       "      <td>0.061808</td>\n",
       "      <td>0.002577</td>\n",
       "      <td>-0.001491</td>\n",
       "      <td>0.002684</td>\n",
       "      <td>0.021732</td>\n",
       "      <td>0.008422</td>\n",
       "      <td>0.016023</td>\n",
       "      <td>-0.004667</td>\n",
       "    </tr>\n",
       "    <tr>\n",
       "      <th>52</th>\n",
       "      <td>MS050_lcmang2-lcmang3</td>\n",
       "      <td>MS050</td>\n",
       "      <td>thalamus</td>\n",
       "      <td>9</td>\n",
       "      <td>0.057409</td>\n",
       "      <td>-0.023164</td>\n",
       "      <td>-0.011656</td>\n",
       "      <td>0.001641</td>\n",
       "      <td>0.017333</td>\n",
       "      <td>-0.017320</td>\n",
       "      <td>0.005858</td>\n",
       "      <td>-0.005710</td>\n",
       "    </tr>\n",
       "    <tr>\n",
       "      <th>53</th>\n",
       "      <td>MS050_lcmang3-lcmang4</td>\n",
       "      <td>MS050</td>\n",
       "      <td>thalamus</td>\n",
       "      <td>9</td>\n",
       "      <td>0.041692</td>\n",
       "      <td>-0.017419</td>\n",
       "      <td>-0.017599</td>\n",
       "      <td>-0.002431</td>\n",
       "      <td>0.001617</td>\n",
       "      <td>-0.011574</td>\n",
       "      <td>-0.000085</td>\n",
       "      <td>-0.009782</td>\n",
       "    </tr>\n",
       "    <tr>\n",
       "      <th>54</th>\n",
       "      <td>MS050_lcmang4-lcmang5</td>\n",
       "      <td>MS050</td>\n",
       "      <td>thalamus</td>\n",
       "      <td>9</td>\n",
       "      <td>0.063197</td>\n",
       "      <td>-0.028554</td>\n",
       "      <td>-0.033501</td>\n",
       "      <td>-0.006170</td>\n",
       "      <td>0.023121</td>\n",
       "      <td>-0.022709</td>\n",
       "      <td>-0.015987</td>\n",
       "      <td>-0.013521</td>\n",
       "    </tr>\n",
       "    <tr>\n",
       "      <th>55</th>\n",
       "      <td>MS050_rcmsmg1-rcmsmg2</td>\n",
       "      <td>MS050</td>\n",
       "      <td>thalamus</td>\n",
       "      <td>9</td>\n",
       "      <td>0.023607</td>\n",
       "      <td>0.041649</td>\n",
       "      <td>0.008631</td>\n",
       "      <td>-0.000510</td>\n",
       "      <td>-0.016469</td>\n",
       "      <td>0.047494</td>\n",
       "      <td>0.026145</td>\n",
       "      <td>-0.007861</td>\n",
       "    </tr>\n",
       "    <tr>\n",
       "      <th>56</th>\n",
       "      <td>MS050_rcmsmg2-rcmsmg3</td>\n",
       "      <td>MS050</td>\n",
       "      <td>thalamus</td>\n",
       "      <td>9</td>\n",
       "      <td>0.054161</td>\n",
       "      <td>-0.023449</td>\n",
       "      <td>0.004067</td>\n",
       "      <td>0.007857</td>\n",
       "      <td>0.014086</td>\n",
       "      <td>-0.017605</td>\n",
       "      <td>0.021581</td>\n",
       "      <td>0.000505</td>\n",
       "    </tr>\n",
       "    <tr>\n",
       "      <th>57</th>\n",
       "      <td>MS050_rcmsmg3-rcmsmg4</td>\n",
       "      <td>MS050</td>\n",
       "      <td>thalamus</td>\n",
       "      <td>9</td>\n",
       "      <td>0.016606</td>\n",
       "      <td>0.011928</td>\n",
       "      <td>-0.021621</td>\n",
       "      <td>-0.009328</td>\n",
       "      <td>-0.023470</td>\n",
       "      <td>0.017772</td>\n",
       "      <td>-0.004107</td>\n",
       "      <td>-0.016679</td>\n",
       "    </tr>\n",
       "  </tbody>\n",
       "</table>\n",
       "</div>"
      ],
      "text/plain": [
       "          unique_reref_ch subj_id       roi  bdi  raw_Intercept  \\\n",
       "0     MS025_lcmip1-lcmip2   MS025  thalamus   10      -0.141181   \n",
       "1     MS025_lcmip2-lcmip3   MS025  thalamus   10      -0.055928   \n",
       "2     MS025_lcmip3-lcmip4   MS025  thalamus   10      -0.259342   \n",
       "3     MS025_lcmip4-lcmip5   MS025  thalamus   10      -0.302604   \n",
       "4     MS025_lcmip5-lcmip6   MS025  thalamus   10      -0.172882   \n",
       "5     MS025_rcmip1-rcmip2   MS025  thalamus   10       0.053601   \n",
       "6     MS025_rcmip2-rcmip3   MS025  thalamus   10       0.007584   \n",
       "7     MS025_rcmip3-rcmip4   MS025  thalamus   10      -0.067724   \n",
       "8     MS025_rcmip4-rcmip5   MS025  thalamus   10      -0.052696   \n",
       "9     MS025_rcmip5-rcmip6   MS025  thalamus   10       0.017937   \n",
       "10    MS028_lcmmm1-lcmmm2   MS028  thalamus   13      -0.113887   \n",
       "11    MS028_lcmmm2-lcmmm3   MS028  thalamus   13       0.027471   \n",
       "12    MS028_lcmmm3-lcmmm4   MS028  thalamus   13       0.004398   \n",
       "13    MS028_lcmmm4-lcmmm5   MS028  thalamus   13       0.018607   \n",
       "14    MS028_rcmmm1-rcmmm2   MS028  thalamus   13       0.032418   \n",
       "15    MS028_rcmmm2-rcmmm3   MS028  thalamus   13      -0.114724   \n",
       "16    MS028_rcmmm3-rcmmm4   MS028  thalamus   13      -0.001198   \n",
       "17    MS028_rcmmm4-rcmmm5   MS028  thalamus   13      -0.009779   \n",
       "18    MS030_lcmmf1-lcmmf2   MS030  thalamus   19       0.019305   \n",
       "19    MS030_lcmmf2-lcmmf3   MS030  thalamus   19       0.054734   \n",
       "20    MS030_lcmmf3-lcmmf4   MS030  thalamus   19       0.111304   \n",
       "21    MS030_lcmmf4-lcmmf5   MS030  thalamus   19       0.107961   \n",
       "22    MS030_lcmmf5-lcmmf6   MS030  thalamus   19       0.003599   \n",
       "23    MS033_lcmag1-lcmag2   MS033  thalamus   39       0.026764   \n",
       "24    MS033_lcmag2-lcmag3   MS033  thalamus   39       0.038210   \n",
       "25    MS033_lcmag3-lcmag4   MS033  thalamus   39      -0.016175   \n",
       "26    MS033_lcmag4-lcmag5   MS033  thalamus   39      -0.095358   \n",
       "27    MS033_lcmag5-lcmag6   MS033  thalamus   39      -0.040897   \n",
       "28    MS035_lcmip1-lcmip2   MS035  thalamus   15       0.066251   \n",
       "29    MS035_lcmip2-lcmip3   MS035  thalamus   15       0.102035   \n",
       "30    MS035_lcmip3-lcmip4   MS035  thalamus   15       0.048111   \n",
       "31    MS035_lcmip4-lcmip5   MS035  thalamus   15      -0.047838   \n",
       "32    MS035_rcmip1-rcmip2   MS035  thalamus   15       0.086098   \n",
       "33    MS035_rcmip2-rcmip3   MS035  thalamus   15       0.067916   \n",
       "34    MS035_rcmip3-rcmip4   MS035  thalamus   15       0.041427   \n",
       "35    MS035_rcmip4-rcmip5   MS035  thalamus   15      -0.110367   \n",
       "36        MS041_lcm1-lcm2   MS041  thalamus   10       0.055805   \n",
       "37        MS041_lcm2-lcm3   MS041  thalamus   10       0.068708   \n",
       "38        MS041_lcm3-lcm4   MS041  thalamus   10       0.046486   \n",
       "39        MS041_lcm4-lcm5   MS041  thalamus   10       0.064708   \n",
       "40        MS041_rcm1-rcm2   MS041  thalamus   10       0.031362   \n",
       "41        MS041_rcm2-rcm3   MS041  thalamus   10       0.051016   \n",
       "42        MS041_rcm3-rcm4   MS041  thalamus   10       0.051483   \n",
       "43        MS041_rcm4-rcm5   MS041  thalamus   10       0.023255   \n",
       "44  MS048_lcmang1-lcmang2   MS048  thalamus   19       0.014657   \n",
       "45  MS048_lcmang2-lcmang3   MS048  thalamus   19       0.104706   \n",
       "46  MS048_lcmang3-lcmang4   MS048  thalamus   19      -0.001415   \n",
       "47  MS048_rcmang1-rcmang2   MS048  thalamus   19       0.033637   \n",
       "48  MS048_rcmang2-rcmang3   MS048  thalamus   19      -0.025237   \n",
       "49  MS048_rcmang3-rcmang4   MS048  thalamus   19      -0.103528   \n",
       "50  MS048_rcmang4-rcmang5   MS048  thalamus   19      -0.067269   \n",
       "51  MS050_lcmang1-lcmang2   MS050  thalamus    9       0.061808   \n",
       "52  MS050_lcmang2-lcmang3   MS050  thalamus    9       0.057409   \n",
       "53  MS050_lcmang3-lcmang4   MS050  thalamus    9       0.041692   \n",
       "54  MS050_lcmang4-lcmang5   MS050  thalamus    9       0.063197   \n",
       "55  MS050_rcmsmg1-rcmsmg2   MS050  thalamus    9       0.023607   \n",
       "56  MS050_rcmsmg2-rcmsmg3   MS050  thalamus    9       0.054161   \n",
       "57  MS050_rcmsmg3-rcmsmg4   MS050  thalamus    9       0.016606   \n",
       "\n",
       "    raw_GambleChoice  raw_TotalProfit  raw_decisionCPE  Intercept  \\\n",
       "0           0.030619         0.020817        -0.003805  -0.181256   \n",
       "1           0.046128        -0.006991        -0.012080  -0.096003   \n",
       "2           0.027485         0.020303        -0.010532  -0.299418   \n",
       "3           0.066518         0.055717        -0.003775  -0.342679   \n",
       "4           0.032315         0.029039        -0.002552  -0.212958   \n",
       "5           0.021614        -0.021055        -0.008185   0.013525   \n",
       "6           0.040471         0.015273         0.001393  -0.032491   \n",
       "7          -0.002391         0.012035         0.001217  -0.107799   \n",
       "8           0.046794         0.019017        -0.001443  -0.092771   \n",
       "9          -0.010046        -0.002698         0.001260  -0.022138   \n",
       "10         -0.010804        -0.021151        -0.013845  -0.153962   \n",
       "11         -0.004016        -0.010472        -0.002112  -0.012605   \n",
       "12         -0.017845        -0.038866        -0.013176  -0.035677   \n",
       "13         -0.025255        -0.006618         0.001678  -0.021469   \n",
       "14         -0.007740        -0.029370        -0.008997  -0.007658   \n",
       "15          0.013363        -0.015101        -0.014571  -0.154800   \n",
       "16         -0.004670        -0.034087        -0.013273  -0.041274   \n",
       "17         -0.003665        -0.027813        -0.011365  -0.049854   \n",
       "18          0.009928        -0.000008        -0.000157  -0.020770   \n",
       "19          0.027675         0.001354         0.000173   0.014658   \n",
       "20          0.014978         0.009301         0.008353   0.071229   \n",
       "21         -0.003417        -0.006837         0.003998   0.067885   \n",
       "22          0.013117        -0.002540        -0.002518  -0.036477   \n",
       "23         -0.011997         0.002730         0.004228  -0.013312   \n",
       "24         -0.007722        -0.006501         0.000607  -0.001865   \n",
       "25          0.024493         0.009714        -0.000184  -0.056250   \n",
       "26          0.043846         0.017920        -0.004007  -0.135434   \n",
       "27          0.013959        -0.053036        -0.025687  -0.080973   \n",
       "28         -0.010472         0.039458         0.021221   0.026175   \n",
       "29          0.003907         0.043450         0.023075   0.061959   \n",
       "30         -0.016660         0.028799         0.016643   0.008035   \n",
       "31         -0.007787         0.062497         0.023522  -0.087914   \n",
       "32          0.022780         0.035075         0.016307   0.046022   \n",
       "33         -0.005136         0.021007         0.013155   0.027840   \n",
       "34          0.021929         0.057451         0.022862   0.001351   \n",
       "35          0.045323         0.078386         0.019419  -0.150442   \n",
       "36         -0.029048         0.005120         0.009106   0.015729   \n",
       "37         -0.051814        -0.019030         0.003024   0.028632   \n",
       "38         -0.062621        -0.024443         0.000927   0.006411   \n",
       "39         -0.045230        -0.014200         0.003894   0.024633   \n",
       "40         -0.022765        -0.007033         0.001936  -0.008714   \n",
       "41         -0.056928        -0.017905         0.003106   0.010941   \n",
       "42         -0.041991        -0.018081         0.001128   0.011407   \n",
       "43          0.003133         0.000971         0.001352  -0.016821   \n",
       "44          0.020943        -0.002214        -0.002748  -0.025419   \n",
       "45         -0.067399        -0.014183         0.009115   0.064631   \n",
       "46         -0.010261        -0.001092         0.000803  -0.041491   \n",
       "47         -0.014105        -0.045795        -0.014752  -0.006439   \n",
       "48          0.006121        -0.011283        -0.006842  -0.065312   \n",
       "49          0.004615        -0.011574        -0.011353  -0.143604   \n",
       "50         -0.013839        -0.042289        -0.019282  -0.107345   \n",
       "51          0.002577        -0.001491         0.002684   0.021732   \n",
       "52         -0.023164        -0.011656         0.001641   0.017333   \n",
       "53         -0.017419        -0.017599        -0.002431   0.001617   \n",
       "54         -0.028554        -0.033501        -0.006170   0.023121   \n",
       "55          0.041649         0.008631        -0.000510  -0.016469   \n",
       "56         -0.023449         0.004067         0.007857   0.014086   \n",
       "57          0.011928        -0.021621        -0.009328  -0.023470   \n",
       "\n",
       "    GambleChoice  TotalProfit  decisionCPE  \n",
       "0       0.036464     0.038331    -0.011156  \n",
       "1       0.051973     0.010523    -0.019432  \n",
       "2       0.033330     0.037816    -0.017883  \n",
       "3       0.072363     0.073231    -0.011126  \n",
       "4       0.038159     0.046553    -0.009903  \n",
       "5       0.027459    -0.003542    -0.015536  \n",
       "6       0.046316     0.032786    -0.005958  \n",
       "7       0.003453     0.029549    -0.006134  \n",
       "8       0.052638     0.036531    -0.008794  \n",
       "9      -0.004201     0.014816    -0.006091  \n",
       "10     -0.004960    -0.003637    -0.021197  \n",
       "11      0.001829     0.007042    -0.009463  \n",
       "12     -0.012000    -0.021353    -0.020527  \n",
       "13     -0.019410     0.010896    -0.005673  \n",
       "14     -0.001895    -0.011856    -0.016348  \n",
       "15      0.019208     0.002413    -0.021922  \n",
       "16      0.001175    -0.016573    -0.020624  \n",
       "17      0.002180    -0.010299    -0.018716  \n",
       "18      0.015772     0.017505    -0.007508  \n",
       "19      0.033520     0.018867    -0.007178  \n",
       "20      0.020823     0.026814     0.001002  \n",
       "21      0.002428     0.010677    -0.003353  \n",
       "22      0.018962     0.014974    -0.009869  \n",
       "23     -0.006152     0.020244    -0.003123  \n",
       "24     -0.001878     0.011012    -0.006744  \n",
       "25      0.030338     0.027228    -0.007535  \n",
       "26      0.049691     0.035433    -0.011358  \n",
       "27      0.019804    -0.035522    -0.033038  \n",
       "28     -0.004628     0.056972     0.013869  \n",
       "29      0.009752     0.060964     0.015724  \n",
       "30     -0.010815     0.046313     0.009292  \n",
       "31     -0.001942     0.080011     0.016171  \n",
       "32      0.028624     0.052589     0.008956  \n",
       "33      0.000709     0.038521     0.005804  \n",
       "34      0.027773     0.074965     0.015510  \n",
       "35      0.051168     0.095899     0.012068  \n",
       "36     -0.023203     0.022634     0.001754  \n",
       "37     -0.045969    -0.001517    -0.004327  \n",
       "38     -0.056776    -0.006929    -0.006424  \n",
       "39     -0.039385     0.003313    -0.003457  \n",
       "40     -0.016920     0.010481    -0.005416  \n",
       "41     -0.051083    -0.000392    -0.004246  \n",
       "42     -0.036146    -0.000568    -0.006224  \n",
       "43      0.008977     0.018485    -0.005999  \n",
       "44      0.026787     0.015300    -0.010099  \n",
       "45     -0.061554     0.003331     0.001764  \n",
       "46     -0.004417     0.016422    -0.006548  \n",
       "47     -0.008260    -0.028282    -0.022103  \n",
       "48      0.011966     0.006231    -0.014193  \n",
       "49      0.010460     0.005940    -0.018704  \n",
       "50     -0.007994    -0.024775    -0.026633  \n",
       "51      0.008422     0.016023    -0.004667  \n",
       "52     -0.017320     0.005858    -0.005710  \n",
       "53     -0.011574    -0.000085    -0.009782  \n",
       "54     -0.022709    -0.015987    -0.013521  \n",
       "55      0.047494     0.026145    -0.007861  \n",
       "56     -0.017605     0.021581     0.000505  \n",
       "57      0.017772    -0.004107    -0.016679  "
      ]
     },
     "execution_count": 46,
     "metadata": {},
     "output_type": "execute_result"
    }
   ],
   "source": [
    "roi_fit"
   ]
  },
  {
   "cell_type": "code",
   "execution_count": 47,
   "id": "c6bf272f",
   "metadata": {},
   "outputs": [
    {
     "data": {
      "text/html": [
       "<div>\n",
       "<style scoped>\n",
       "    .dataframe tbody tr th:only-of-type {\n",
       "        vertical-align: middle;\n",
       "    }\n",
       "\n",
       "    .dataframe tbody tr th {\n",
       "        vertical-align: top;\n",
       "    }\n",
       "\n",
       "    .dataframe thead th {\n",
       "        text-align: right;\n",
       "    }\n",
       "</style>\n",
       "<table border=\"1\" class=\"dataframe\">\n",
       "  <thead>\n",
       "    <tr style=\"text-align: right;\">\n",
       "      <th></th>\n",
       "      <th>unique_reref_ch</th>\n",
       "      <th>subj_id</th>\n",
       "      <th>roi</th>\n",
       "      <th>bdi</th>\n",
       "      <th>raw_Intercept</th>\n",
       "      <th>raw_GambleChoice</th>\n",
       "      <th>raw_TotalProfit</th>\n",
       "      <th>raw_decisionCPE</th>\n",
       "      <th>Intercept</th>\n",
       "      <th>GambleChoice</th>\n",
       "      <th>TotalProfit</th>\n",
       "      <th>decisionCPE</th>\n",
       "    </tr>\n",
       "  </thead>\n",
       "  <tbody>\n",
       "    <tr>\n",
       "      <th>0</th>\n",
       "      <td>DA023_lac1-lac2</td>\n",
       "      <td>DA023</td>\n",
       "      <td>acc</td>\n",
       "      <td>14</td>\n",
       "      <td>0.005368</td>\n",
       "      <td>-0.021049</td>\n",
       "      <td>-0.007116</td>\n",
       "      <td>0.001640</td>\n",
       "      <td>-0.003814</td>\n",
       "      <td>-0.024877</td>\n",
       "      <td>-0.002615</td>\n",
       "      <td>0.000155</td>\n",
       "    </tr>\n",
       "    <tr>\n",
       "      <th>1</th>\n",
       "      <td>DA023_lac2-lac3</td>\n",
       "      <td>DA023</td>\n",
       "      <td>acc</td>\n",
       "      <td>14</td>\n",
       "      <td>0.032744</td>\n",
       "      <td>-0.056742</td>\n",
       "      <td>0.024822</td>\n",
       "      <td>0.004611</td>\n",
       "      <td>0.023562</td>\n",
       "      <td>-0.060571</td>\n",
       "      <td>0.029323</td>\n",
       "      <td>0.003125</td>\n",
       "    </tr>\n",
       "    <tr>\n",
       "      <th>2</th>\n",
       "      <td>DA023_lac3-lac4</td>\n",
       "      <td>DA023</td>\n",
       "      <td>acc</td>\n",
       "      <td>14</td>\n",
       "      <td>0.003574</td>\n",
       "      <td>0.003496</td>\n",
       "      <td>0.012260</td>\n",
       "      <td>-0.000227</td>\n",
       "      <td>-0.005608</td>\n",
       "      <td>-0.000333</td>\n",
       "      <td>0.016762</td>\n",
       "      <td>-0.001713</td>\n",
       "    </tr>\n",
       "    <tr>\n",
       "      <th>3</th>\n",
       "      <td>MS002_lacas1-lacas2</td>\n",
       "      <td>MS002</td>\n",
       "      <td>acc</td>\n",
       "      <td>14</td>\n",
       "      <td>0.014061</td>\n",
       "      <td>-0.015847</td>\n",
       "      <td>0.018987</td>\n",
       "      <td>0.001345</td>\n",
       "      <td>0.004879</td>\n",
       "      <td>-0.019676</td>\n",
       "      <td>0.023489</td>\n",
       "      <td>-0.000141</td>\n",
       "    </tr>\n",
       "    <tr>\n",
       "      <th>4</th>\n",
       "      <td>MS002_lacas2-lacas3</td>\n",
       "      <td>MS002</td>\n",
       "      <td>acc</td>\n",
       "      <td>14</td>\n",
       "      <td>-0.032475</td>\n",
       "      <td>0.055692</td>\n",
       "      <td>-0.029203</td>\n",
       "      <td>-0.004661</td>\n",
       "      <td>-0.041657</td>\n",
       "      <td>0.051864</td>\n",
       "      <td>-0.024702</td>\n",
       "      <td>-0.006147</td>\n",
       "    </tr>\n",
       "    <tr>\n",
       "      <th>...</th>\n",
       "      <td>...</td>\n",
       "      <td>...</td>\n",
       "      <td>...</td>\n",
       "      <td>...</td>\n",
       "      <td>...</td>\n",
       "      <td>...</td>\n",
       "      <td>...</td>\n",
       "      <td>...</td>\n",
       "      <td>...</td>\n",
       "      <td>...</td>\n",
       "      <td>...</td>\n",
       "      <td>...</td>\n",
       "    </tr>\n",
       "    <tr>\n",
       "      <th>1771</th>\n",
       "      <td>MS050_lcmang3-lcmang4</td>\n",
       "      <td>MS050</td>\n",
       "      <td>thalamus</td>\n",
       "      <td>9</td>\n",
       "      <td>0.041692</td>\n",
       "      <td>-0.017419</td>\n",
       "      <td>-0.017599</td>\n",
       "      <td>-0.002431</td>\n",
       "      <td>0.001617</td>\n",
       "      <td>-0.011574</td>\n",
       "      <td>-0.000085</td>\n",
       "      <td>-0.009782</td>\n",
       "    </tr>\n",
       "    <tr>\n",
       "      <th>1772</th>\n",
       "      <td>MS050_lcmang4-lcmang5</td>\n",
       "      <td>MS050</td>\n",
       "      <td>thalamus</td>\n",
       "      <td>9</td>\n",
       "      <td>0.063197</td>\n",
       "      <td>-0.028554</td>\n",
       "      <td>-0.033501</td>\n",
       "      <td>-0.006170</td>\n",
       "      <td>0.023121</td>\n",
       "      <td>-0.022709</td>\n",
       "      <td>-0.015987</td>\n",
       "      <td>-0.013521</td>\n",
       "    </tr>\n",
       "    <tr>\n",
       "      <th>1773</th>\n",
       "      <td>MS050_rcmsmg1-rcmsmg2</td>\n",
       "      <td>MS050</td>\n",
       "      <td>thalamus</td>\n",
       "      <td>9</td>\n",
       "      <td>0.023607</td>\n",
       "      <td>0.041649</td>\n",
       "      <td>0.008631</td>\n",
       "      <td>-0.000510</td>\n",
       "      <td>-0.016469</td>\n",
       "      <td>0.047494</td>\n",
       "      <td>0.026145</td>\n",
       "      <td>-0.007861</td>\n",
       "    </tr>\n",
       "    <tr>\n",
       "      <th>1774</th>\n",
       "      <td>MS050_rcmsmg2-rcmsmg3</td>\n",
       "      <td>MS050</td>\n",
       "      <td>thalamus</td>\n",
       "      <td>9</td>\n",
       "      <td>0.054161</td>\n",
       "      <td>-0.023449</td>\n",
       "      <td>0.004067</td>\n",
       "      <td>0.007857</td>\n",
       "      <td>0.014086</td>\n",
       "      <td>-0.017605</td>\n",
       "      <td>0.021581</td>\n",
       "      <td>0.000505</td>\n",
       "    </tr>\n",
       "    <tr>\n",
       "      <th>1775</th>\n",
       "      <td>MS050_rcmsmg3-rcmsmg4</td>\n",
       "      <td>MS050</td>\n",
       "      <td>thalamus</td>\n",
       "      <td>9</td>\n",
       "      <td>0.016606</td>\n",
       "      <td>0.011928</td>\n",
       "      <td>-0.021621</td>\n",
       "      <td>-0.009328</td>\n",
       "      <td>-0.023470</td>\n",
       "      <td>0.017772</td>\n",
       "      <td>-0.004107</td>\n",
       "      <td>-0.016679</td>\n",
       "    </tr>\n",
       "  </tbody>\n",
       "</table>\n",
       "<p>1776 rows × 12 columns</p>\n",
       "</div>"
      ],
      "text/plain": [
       "            unique_reref_ch subj_id       roi  bdi  raw_Intercept  \\\n",
       "0           DA023_lac1-lac2   DA023       acc   14       0.005368   \n",
       "1           DA023_lac2-lac3   DA023       acc   14       0.032744   \n",
       "2           DA023_lac3-lac4   DA023       acc   14       0.003574   \n",
       "3       MS002_lacas1-lacas2   MS002       acc   14       0.014061   \n",
       "4       MS002_lacas2-lacas3   MS002       acc   14      -0.032475   \n",
       "...                     ...     ...       ...  ...            ...   \n",
       "1771  MS050_lcmang3-lcmang4   MS050  thalamus    9       0.041692   \n",
       "1772  MS050_lcmang4-lcmang5   MS050  thalamus    9       0.063197   \n",
       "1773  MS050_rcmsmg1-rcmsmg2   MS050  thalamus    9       0.023607   \n",
       "1774  MS050_rcmsmg2-rcmsmg3   MS050  thalamus    9       0.054161   \n",
       "1775  MS050_rcmsmg3-rcmsmg4   MS050  thalamus    9       0.016606   \n",
       "\n",
       "      raw_GambleChoice  raw_TotalProfit  raw_decisionCPE  Intercept  \\\n",
       "0            -0.021049        -0.007116         0.001640  -0.003814   \n",
       "1            -0.056742         0.024822         0.004611   0.023562   \n",
       "2             0.003496         0.012260        -0.000227  -0.005608   \n",
       "3            -0.015847         0.018987         0.001345   0.004879   \n",
       "4             0.055692        -0.029203        -0.004661  -0.041657   \n",
       "...                ...              ...              ...        ...   \n",
       "1771         -0.017419        -0.017599        -0.002431   0.001617   \n",
       "1772         -0.028554        -0.033501        -0.006170   0.023121   \n",
       "1773          0.041649         0.008631        -0.000510  -0.016469   \n",
       "1774         -0.023449         0.004067         0.007857   0.014086   \n",
       "1775          0.011928        -0.021621        -0.009328  -0.023470   \n",
       "\n",
       "      GambleChoice  TotalProfit  decisionCPE  \n",
       "0        -0.024877    -0.002615     0.000155  \n",
       "1        -0.060571     0.029323     0.003125  \n",
       "2        -0.000333     0.016762    -0.001713  \n",
       "3        -0.019676     0.023489    -0.000141  \n",
       "4         0.051864    -0.024702    -0.006147  \n",
       "...            ...          ...          ...  \n",
       "1771     -0.011574    -0.000085    -0.009782  \n",
       "1772     -0.022709    -0.015987    -0.013521  \n",
       "1773      0.047494     0.026145    -0.007861  \n",
       "1774     -0.017605     0.021581     0.000505  \n",
       "1775      0.017772    -0.004107    -0.016679  \n",
       "\n",
       "[1776 rows x 12 columns]"
      ]
     },
     "execution_count": 47,
     "metadata": {},
     "output_type": "execute_result"
    }
   ],
   "source": [
    "roi_fit_results"
   ]
  },
  {
   "cell_type": "code",
   "execution_count": 48,
   "id": "7918a2ca",
   "metadata": {},
   "outputs": [],
   "source": [
    "fe_params_results = {f'{roi}':roi_fit_dict[roi].fe_params for roi in list(roi_fit_dict.keys())}\n",
    "# fe_params_pvals = {f'{roi}':roi_fit_dict[roi].pvalues for roi in list(roi_fit_dict.keys())}\n"
   ]
  },
  {
   "cell_type": "code",
   "execution_count": 49,
   "id": "20a84de8",
   "metadata": {
    "scrolled": true
   },
   "outputs": [],
   "source": [
    "# fe_params_results"
   ]
  },
  {
   "cell_type": "code",
   "execution_count": 50,
   "id": "a9a1f245",
   "metadata": {},
   "outputs": [],
   "source": [
    "fe_results = []\n",
    "for fe_res in fe_params_results:\n",
    "    \n",
    "    fe_results.append(pd.DataFrame({**dict(fe_params_results[fe_res]),**{'roi':fe_res}},index=[0]))\n"
   ]
  },
  {
   "cell_type": "code",
   "execution_count": 51,
   "id": "0d637ccc",
   "metadata": {},
   "outputs": [],
   "source": [
    "fe_results = pd.concat(fe_results).reset_index(drop=True)"
   ]
  },
  {
   "cell_type": "code",
   "execution_count": 52,
   "id": "2647169e",
   "metadata": {},
   "outputs": [],
   "source": [
    "fe_results['roi_cpe_pval'] = [roi_fit_dict[roi].pvalues['decisionCPE'] for roi in fe_results.roi.tolist()]"
   ]
  },
  {
   "cell_type": "code",
   "execution_count": 53,
   "id": "312c098a",
   "metadata": {},
   "outputs": [
    {
     "data": {
      "text/html": [
       "<div>\n",
       "<style scoped>\n",
       "    .dataframe tbody tr th:only-of-type {\n",
       "        vertical-align: middle;\n",
       "    }\n",
       "\n",
       "    .dataframe tbody tr th {\n",
       "        vertical-align: top;\n",
       "    }\n",
       "\n",
       "    .dataframe thead th {\n",
       "        text-align: right;\n",
       "    }\n",
       "</style>\n",
       "<table border=\"1\" class=\"dataframe\">\n",
       "  <thead>\n",
       "    <tr style=\"text-align: right;\">\n",
       "      <th></th>\n",
       "      <th>Intercept</th>\n",
       "      <th>C(GambleChoice)[T.safe]</th>\n",
       "      <th>TotalProfit</th>\n",
       "      <th>decisionCPE</th>\n",
       "      <th>roi</th>\n",
       "      <th>roi_cpe_pval</th>\n",
       "    </tr>\n",
       "  </thead>\n",
       "  <tbody>\n",
       "    <tr>\n",
       "      <th>0</th>\n",
       "      <td>-0.009182</td>\n",
       "      <td>-0.003828</td>\n",
       "      <td>0.004502</td>\n",
       "      <td>-0.001486</td>\n",
       "      <td>acc</td>\n",
       "      <td>0.628735</td>\n",
       "    </tr>\n",
       "    <tr>\n",
       "      <th>1</th>\n",
       "      <td>-0.044555</td>\n",
       "      <td>-0.011485</td>\n",
       "      <td>-0.003482</td>\n",
       "      <td>0.001259</td>\n",
       "      <td>dmpfc</td>\n",
       "      <td>0.773700</td>\n",
       "    </tr>\n",
       "    <tr>\n",
       "      <th>2</th>\n",
       "      <td>-0.066896</td>\n",
       "      <td>0.001591</td>\n",
       "      <td>0.033065</td>\n",
       "      <td>0.001365</td>\n",
       "      <td>amy</td>\n",
       "      <td>0.804582</td>\n",
       "    </tr>\n",
       "    <tr>\n",
       "      <th>3</th>\n",
       "      <td>-0.077736</td>\n",
       "      <td>-0.045926</td>\n",
       "      <td>0.036936</td>\n",
       "      <td>-0.000301</td>\n",
       "      <td>sts</td>\n",
       "      <td>0.958589</td>\n",
       "    </tr>\n",
       "    <tr>\n",
       "      <th>4</th>\n",
       "      <td>-0.031695</td>\n",
       "      <td>0.002379</td>\n",
       "      <td>-0.022084</td>\n",
       "      <td>0.000029</td>\n",
       "      <td>ains</td>\n",
       "      <td>0.996670</td>\n",
       "    </tr>\n",
       "    <tr>\n",
       "      <th>5</th>\n",
       "      <td>-0.046634</td>\n",
       "      <td>-0.022421</td>\n",
       "      <td>0.009182</td>\n",
       "      <td>0.005634</td>\n",
       "      <td>vlpfc</td>\n",
       "      <td>0.428008</td>\n",
       "    </tr>\n",
       "    <tr>\n",
       "      <th>6</th>\n",
       "      <td>-0.137608</td>\n",
       "      <td>0.015738</td>\n",
       "      <td>-0.001350</td>\n",
       "      <td>-0.008325</td>\n",
       "      <td>hpc</td>\n",
       "      <td>0.095393</td>\n",
       "    </tr>\n",
       "    <tr>\n",
       "      <th>7</th>\n",
       "      <td>-0.111241</td>\n",
       "      <td>-0.044709</td>\n",
       "      <td>0.030352</td>\n",
       "      <td>-0.021523</td>\n",
       "      <td>mtg</td>\n",
       "      <td>0.088057</td>\n",
       "    </tr>\n",
       "    <tr>\n",
       "      <th>8</th>\n",
       "      <td>-0.061360</td>\n",
       "      <td>-0.010619</td>\n",
       "      <td>0.003153</td>\n",
       "      <td>-0.004826</td>\n",
       "      <td>ofc</td>\n",
       "      <td>0.186362</td>\n",
       "    </tr>\n",
       "    <tr>\n",
       "      <th>9</th>\n",
       "      <td>-0.070350</td>\n",
       "      <td>0.024179</td>\n",
       "      <td>0.016352</td>\n",
       "      <td>0.005789</td>\n",
       "      <td>pins</td>\n",
       "      <td>0.393669</td>\n",
       "    </tr>\n",
       "    <tr>\n",
       "      <th>10</th>\n",
       "      <td>-0.038766</td>\n",
       "      <td>-0.030599</td>\n",
       "      <td>0.005635</td>\n",
       "      <td>0.006476</td>\n",
       "      <td>dlpfc</td>\n",
       "      <td>0.318293</td>\n",
       "    </tr>\n",
       "    <tr>\n",
       "      <th>11</th>\n",
       "      <td>-0.038380</td>\n",
       "      <td>-0.012864</td>\n",
       "      <td>0.022877</td>\n",
       "      <td>0.002886</td>\n",
       "      <td>motor</td>\n",
       "      <td>0.804001</td>\n",
       "    </tr>\n",
       "    <tr>\n",
       "      <th>12</th>\n",
       "      <td>-0.073881</td>\n",
       "      <td>-0.004232</td>\n",
       "      <td>-0.037645</td>\n",
       "      <td>-0.011820</td>\n",
       "      <td>vmpfc</td>\n",
       "      <td>0.275454</td>\n",
       "    </tr>\n",
       "    <tr>\n",
       "      <th>13</th>\n",
       "      <td>-0.091939</td>\n",
       "      <td>0.015750</td>\n",
       "      <td>0.020115</td>\n",
       "      <td>-0.008939</td>\n",
       "      <td>phg</td>\n",
       "      <td>0.371171</td>\n",
       "    </tr>\n",
       "    <tr>\n",
       "      <th>14</th>\n",
       "      <td>-0.100395</td>\n",
       "      <td>0.033017</td>\n",
       "      <td>0.013401</td>\n",
       "      <td>0.010914</td>\n",
       "      <td>smg</td>\n",
       "      <td>0.178958</td>\n",
       "    </tr>\n",
       "    <tr>\n",
       "      <th>15</th>\n",
       "      <td>-0.051096</td>\n",
       "      <td>0.003557</td>\n",
       "      <td>-0.023826</td>\n",
       "      <td>0.001230</td>\n",
       "      <td>stg</td>\n",
       "      <td>0.858469</td>\n",
       "    </tr>\n",
       "    <tr>\n",
       "      <th>16</th>\n",
       "      <td>-0.078756</td>\n",
       "      <td>0.033580</td>\n",
       "      <td>-0.027598</td>\n",
       "      <td>-0.032218</td>\n",
       "      <td>mcc</td>\n",
       "      <td>0.007301</td>\n",
       "    </tr>\n",
       "    <tr>\n",
       "      <th>17</th>\n",
       "      <td>-0.078053</td>\n",
       "      <td>-0.020928</td>\n",
       "      <td>0.028445</td>\n",
       "      <td>-0.010422</td>\n",
       "      <td>temporal pole</td>\n",
       "      <td>0.338871</td>\n",
       "    </tr>\n",
       "    <tr>\n",
       "      <th>18</th>\n",
       "      <td>-0.203904</td>\n",
       "      <td>0.039963</td>\n",
       "      <td>0.000435</td>\n",
       "      <td>0.004736</td>\n",
       "      <td>parietal</td>\n",
       "      <td>0.746548</td>\n",
       "    </tr>\n",
       "    <tr>\n",
       "      <th>19</th>\n",
       "      <td>-0.040076</td>\n",
       "      <td>0.005845</td>\n",
       "      <td>0.017514</td>\n",
       "      <td>-0.007351</td>\n",
       "      <td>thalamus</td>\n",
       "      <td>0.309332</td>\n",
       "    </tr>\n",
       "  </tbody>\n",
       "</table>\n",
       "</div>"
      ],
      "text/plain": [
       "    Intercept  C(GambleChoice)[T.safe]  TotalProfit  decisionCPE  \\\n",
       "0   -0.009182                -0.003828     0.004502    -0.001486   \n",
       "1   -0.044555                -0.011485    -0.003482     0.001259   \n",
       "2   -0.066896                 0.001591     0.033065     0.001365   \n",
       "3   -0.077736                -0.045926     0.036936    -0.000301   \n",
       "4   -0.031695                 0.002379    -0.022084     0.000029   \n",
       "5   -0.046634                -0.022421     0.009182     0.005634   \n",
       "6   -0.137608                 0.015738    -0.001350    -0.008325   \n",
       "7   -0.111241                -0.044709     0.030352    -0.021523   \n",
       "8   -0.061360                -0.010619     0.003153    -0.004826   \n",
       "9   -0.070350                 0.024179     0.016352     0.005789   \n",
       "10  -0.038766                -0.030599     0.005635     0.006476   \n",
       "11  -0.038380                -0.012864     0.022877     0.002886   \n",
       "12  -0.073881                -0.004232    -0.037645    -0.011820   \n",
       "13  -0.091939                 0.015750     0.020115    -0.008939   \n",
       "14  -0.100395                 0.033017     0.013401     0.010914   \n",
       "15  -0.051096                 0.003557    -0.023826     0.001230   \n",
       "16  -0.078756                 0.033580    -0.027598    -0.032218   \n",
       "17  -0.078053                -0.020928     0.028445    -0.010422   \n",
       "18  -0.203904                 0.039963     0.000435     0.004736   \n",
       "19  -0.040076                 0.005845     0.017514    -0.007351   \n",
       "\n",
       "              roi  roi_cpe_pval  \n",
       "0             acc      0.628735  \n",
       "1           dmpfc      0.773700  \n",
       "2             amy      0.804582  \n",
       "3             sts      0.958589  \n",
       "4            ains      0.996670  \n",
       "5           vlpfc      0.428008  \n",
       "6             hpc      0.095393  \n",
       "7             mtg      0.088057  \n",
       "8             ofc      0.186362  \n",
       "9            pins      0.393669  \n",
       "10          dlpfc      0.318293  \n",
       "11          motor      0.804001  \n",
       "12          vmpfc      0.275454  \n",
       "13            phg      0.371171  \n",
       "14            smg      0.178958  \n",
       "15            stg      0.858469  \n",
       "16            mcc      0.007301  \n",
       "17  temporal pole      0.338871  \n",
       "18       parietal      0.746548  \n",
       "19       thalamus      0.309332  "
      ]
     },
     "execution_count": 53,
     "metadata": {},
     "output_type": "execute_result"
    }
   ],
   "source": [
    "fe_results"
   ]
  },
  {
   "cell_type": "code",
   "execution_count": null,
   "id": "3323e730",
   "metadata": {},
   "outputs": [],
   "source": []
  },
  {
   "cell_type": "code",
   "execution_count": 54,
   "id": "0b566bb9",
   "metadata": {},
   "outputs": [],
   "source": [
    "\n",
    "# sns.set_context(\"talk\",rc={'axes.linewidth': 1.5})\n",
    "\n",
    "# for roi in roi_plot_data.roi.unique().tolist()[:-1]:\n",
    "#     roi_temp_data = roi_plot_data[roi_plot_data.roi==roi]\n",
    "\n",
    "#     rho   = rho_data[rho_data.roi == roi].round_rho.values[0]\n",
    "#     rho_p = rho_data[rho_data.roi == roi].round_p.values[0]\n",
    "    \n",
    "        \n",
    "#     fig,ax = plt.subplots(1,1,figsize=(5,3.5),dpi=300)\n",
    "\n",
    "#     sns.regplot(data=roi_temp_data,x='bdi',y='elec_bCPE',scatter=False,ci=95,\n",
    "#                 fit_reg=True,color = '#00467e') #034975\n",
    "    \n",
    "#     sns.scatterplot(data = roi_temp_data.groupby(['subj_id']).agg('mean'),x='bdi',\n",
    "#                     y='raw_decisionCPE',color = '#00467e',edgecolor=None,alpha=0.8)\n",
    "    \n",
    "# #     plt.gca().yaxis.set_major_formatter(StrMethodFormatter('{x:,.2f}')) \n",
    "#     plt.xlabel('BDI-II')\n",
    "# #     plt.xlim([0,40])\n",
    "    \n",
    "#     plt.tick_params(length=0) \n",
    "# #     plt.ylabel('beta'+r'$beta_{{{zpow}}}$'+' cpe encoding')\n",
    "#     plt.ylabel(fr'${band}_{{{zpow}}} \\sim cpe$')\n",
    "\n",
    "#     plt.text(np.max(roi_temp_data.bdi)-8,\n",
    "#              np.round(np.max(roi_temp_data.groupby(['subj_id']).agg('mean').elec_bCPE),3)-0.003,\n",
    "#              r'$rho$ = '+f'{rho} \\n'+ fr'$p \\approxeq $ {rho_p}',color='k',fontsize=12)\n",
    "# #              color='#00467e',fontsize=16)\n",
    "# #     plt.text(0.8,0.8,r'$rho$ = '+f'{rho} \\n'+ fr'$p \\approxeq $ {rho_p}',\n",
    "# #             verticalalignment='top', horizontalalignment='right',\n",
    "# #             color='k',fontsize=16)\n",
    "\n",
    "#     plt.title(f'{roi}',fontsize=20)\n",
    "#     plt.tight_layout()\n",
    "\n",
    "\n",
    "    \n",
    "#     sns.despine()\n",
    "    \n",
    "# #     plt.savefig(f'{fig_save_dir}/{roi}_{rho}_{rho_p}_roi_bdi_beta-cpe-slope.pdf', format='pdf', metadata=None,\n",
    "# #         bbox_inches='tight', pad_inches=0.1,dpi=300,\n",
    "# #         facecolor='auto', edgecolor='auto',\n",
    "# #         backend=None)\n",
    "    "
   ]
  },
  {
   "cell_type": "code",
   "execution_count": null,
   "id": "6ed10d9f",
   "metadata": {},
   "outputs": [],
   "source": []
  },
  {
   "cell_type": "code",
   "execution_count": null,
   "id": "cc829d23",
   "metadata": {},
   "outputs": [],
   "source": []
  },
  {
   "cell_type": "code",
   "execution_count": null,
   "id": "c14aee69",
   "metadata": {},
   "outputs": [],
   "source": []
  },
  {
   "cell_type": "code",
   "execution_count": null,
   "id": "93e45e8e",
   "metadata": {},
   "outputs": [],
   "source": [
    "sig_roi_fit_results"
   ]
  },
  {
   "cell_type": "code",
   "execution_count": null,
   "id": "ea61be68",
   "metadata": {},
   "outputs": [],
   "source": [
    "roi_fit_results"
   ]
  },
  {
   "cell_type": "code",
   "execution_count": null,
   "id": "b39a83c3",
   "metadata": {},
   "outputs": [],
   "source": [
    "bonferr_alpha = 0.05/len(test_rois)"
   ]
  },
  {
   "cell_type": "code",
   "execution_count": null,
   "id": "5531a1a5",
   "metadata": {},
   "outputs": [],
   "source": [
    "bonferr_alpha"
   ]
  },
  {
   "cell_type": "code",
   "execution_count": null,
   "id": "ab2b9306",
   "metadata": {},
   "outputs": [],
   "source": [
    "fe_results.roi[fe_results.roi_cpe_pval <= bonferr_alpha]"
   ]
  },
  {
   "cell_type": "code",
   "execution_count": null,
   "id": "487bd75c",
   "metadata": {},
   "outputs": [],
   "source": [
    "sig_roi_fit_results = roi_fit_results[roi_fit_results.decisionCPE <= 0.05]"
   ]
  },
  {
   "cell_type": "code",
   "execution_count": null,
   "id": "abc62010",
   "metadata": {},
   "outputs": [],
   "source": [
    "sig_roi_fit_results.roi.value_counts()"
   ]
  },
  {
   "cell_type": "code",
   "execution_count": null,
   "id": "c9900c62",
   "metadata": {},
   "outputs": [],
   "source": [
    "sig_roi_fit_results"
   ]
  },
  {
   "cell_type": "code",
   "execution_count": null,
   "id": "8cbed870",
   "metadata": {},
   "outputs": [],
   "source": [
    "plot_roi_model_results(sig_data,'roi','Z_Score_decisionCPE',bar_order=bar_order,color='#135546',figsize=(10,4))"
   ]
  },
  {
   "cell_type": "code",
   "execution_count": null,
   "id": "46d6ffe3",
   "metadata": {},
   "outputs": [],
   "source": []
  },
  {
   "cell_type": "code",
   "execution_count": null,
   "id": "322eb831",
   "metadata": {
    "scrolled": true
   },
   "outputs": [],
   "source": [
    "final_fit.pvalues['decisionCPE']"
   ]
  },
  {
   "cell_type": "code",
   "execution_count": null,
   "id": "dbff50be",
   "metadata": {},
   "outputs": [],
   "source": [
    "# final_fit.t_test_pairwise('C(TrialType)',\n",
    "#                           factor_labels=[ 'TrialEV', 'TotalProfit', 'decisionCPE'])\n",
    "# final_fit.model.data.design_info.term_names.index(term_name)"
   ]
  },
  {
   "cell_type": "code",
   "execution_count": null,
   "id": "dcb04c4b",
   "metadata": {},
   "outputs": [],
   "source": [
    "mixed_effects_ftest_ttest(final_fit)"
   ]
  },
  {
   "cell_type": "code",
   "execution_count": null,
   "id": "e215fd34",
   "metadata": {},
   "outputs": [],
   "source": [
    "fe_param_names = list(final_fit.fe_params.index[1:])\n",
    "fe_param_names"
   ]
  },
  {
   "cell_type": "code",
   "execution_count": null,
   "id": "ae6e3385",
   "metadata": {},
   "outputs": [],
   "source": [
    "plot_data = pd.concat([pd.DataFrame(\n",
    "    {**{'subj_id':elec_id.split('_')[0],'reref_ch_names':elec_id.split('_')[1]},'unique_reref_ch':elec_id,\n",
    "     **{f'raw_{param}':final_fit.random_effects[elec_id][param] for param in list(\n",
    "            final_fit.random_effects[elec_id].index)}},index=[range(len(fe_param_names))])\n",
    "        \n",
    "    for elec_id in final_fit.random_effects.keys()]).reset_index(drop=True)\n",
    "\n",
    "plot_data['roi'] = [reg_df.roi[reg_df.unique_reref_ch == row.unique_reref_ch].values[0]\n",
    "                                for idx,row in plot_data.iterrows()]\n",
    "\n",
    "plot_data['bdi'] = [subj_info_df.bdi[subj_info_df.subj_id == subj_id].values[0]\n",
    "                                for subj_id in plot_data.subj_id]"
   ]
  },
  {
   "cell_type": "code",
   "execution_count": null,
   "id": "f059ced9",
   "metadata": {},
   "outputs": [],
   "source": [
    "plot_data"
   ]
  },
  {
   "cell_type": "code",
   "execution_count": null,
   "id": "c43b2a75",
   "metadata": {},
   "outputs": [],
   "source": [
    "#### Get all results for Figs!!!!\n",
    "\n",
    "fe_intercept   = final_fit.params['Intercept']\n",
    "fe_cpe_beta    = final_fit.params['decisionCPE']\n",
    "fe_cpe_beta\n"
   ]
  },
  {
   "cell_type": "code",
   "execution_count": null,
   "id": "a228b003",
   "metadata": {},
   "outputs": [],
   "source": [
    "#### add fixed effects data to all_elec_plot_data\n",
    "plot_data['elec_b0']   = np.add(plot_data.raw_Group,fe_intercept)\n",
    "plot_data['elec_bCPE'] = np.add(plot_data.raw_decisionCPE,fe_cpe_beta)\n",
    "plot_data = plot_data[~plot_data.roi.isnull()]"
   ]
  },
  {
   "cell_type": "code",
   "execution_count": null,
   "id": "16ab40f2",
   "metadata": {},
   "outputs": [],
   "source": [
    "plot_data"
   ]
  },
  {
   "cell_type": "code",
   "execution_count": null,
   "id": "0991b521",
   "metadata": {},
   "outputs": [],
   "source": [
    "raw_roi_stats = {f'{roi}':ttest_1samp(plot_data.raw_decisionCPE[plot_data.roi == roi].unique(),\n",
    "                 popmean=0) for roi in plot_data.roi.unique().tolist()}\n",
    "raw_roi_stats"
   ]
  },
  {
   "cell_type": "code",
   "execution_count": null,
   "id": "407b0f52",
   "metadata": {},
   "outputs": [],
   "source": [
    "roi_stats = {f'{roi}':ttest_1samp(plot_data.elec_bCPE[plot_data.roi == roi].unique(),\n",
    "                 popmean=0) for roi in plot_data.roi.unique().tolist()}\n",
    "roi_stats"
   ]
  },
  {
   "cell_type": "code",
   "execution_count": null,
   "id": "b7b7046c",
   "metadata": {},
   "outputs": [],
   "source": [
    "pairwise_ains_vals = plot_data.elec_bCPE[plot_data.roi == 'ains'].unique()\n",
    "\n",
    "pairwise_roi_stats = {f'ains={roi}':ttest_ind(pairwise_ains_vals,plot_data.elec_bCPE[plot_data.roi == roi].unique(),\n",
    "                 ) for roi in plot_data.roi.unique().tolist()}\n",
    "pairwise_roi_stats\n"
   ]
  },
  {
   "cell_type": "code",
   "execution_count": null,
   "id": "e6648b2d",
   "metadata": {
    "scrolled": true
   },
   "outputs": [],
   "source": [
    "pairwise_ains_vals = plot_data.elec_bCPE[plot_data.roi == 'ains'].unique()\n",
    "\n",
    "pairwise_roi_stats_greater = {f'ains={roi}':ttest_ind(pairwise_ains_vals,plot_data.elec_bCPE[plot_data.roi == roi].unique(),\n",
    "                 alternative='greater') for roi in plot_data.roi.unique().tolist()}\n",
    "pairwise_roi_stats_greater"
   ]
  },
  {
   "cell_type": "code",
   "execution_count": null,
   "id": "766a4a33",
   "metadata": {},
   "outputs": [],
   "source": [
    "pairwise_ains_vals = plot_data.elec_bCPE[plot_data.roi == 'ains'].unique()\n",
    "\n",
    "pairwise_roi_stats_less = {f'ains={roi}':ttest_ind(pairwise_ains_vals,plot_data.elec_bCPE[plot_data.roi == roi].unique(),\n",
    "                 alternative='less') for roi in plot_data.roi.unique().tolist()}\n",
    "pairwise_roi_stats_less"
   ]
  },
  {
   "cell_type": "code",
   "execution_count": null,
   "id": "d9deb2ab",
   "metadata": {},
   "outputs": [],
   "source": [
    "bonferr_alpha = 0.05/(len(plot_data.roi.unique().tolist()))\n",
    "bonferr_alpha"
   ]
  },
  {
   "cell_type": "code",
   "execution_count": null,
   "id": "7397e76e",
   "metadata": {},
   "outputs": [],
   "source": [
    "print('sig ROIs after multiple comp correction: ',[(roi,raw_roi_stats[roi].pvalue) for roi in raw_roi_stats.keys()\n",
    "                                                   if raw_roi_stats[roi].pvalue< bonferr_alpha])\n",
    "# print('sig ROI pvals: ',roi_stats.roi_cpe_pval[roi_beta_results.roi_cpe_pval<=bonferr_alpha].unique().tolist())\n",
    "\n",
    "sig_raw = [(roi,raw_roi_stats[roi].pvalue) for roi in raw_roi_stats.keys()\n",
    "                                                   if raw_roi_stats[roi].pvalue< bonferr_alpha]\n",
    "\n",
    "sig_raw_rois = list(zip(*sig_raw))[0]"
   ]
  },
  {
   "cell_type": "code",
   "execution_count": null,
   "id": "1573145b",
   "metadata": {},
   "outputs": [],
   "source": [
    "sig_raw_rois"
   ]
  },
  {
   "cell_type": "code",
   "execution_count": null,
   "id": "3dd56571",
   "metadata": {},
   "outputs": [],
   "source": [
    "print('sig ROIs after multiple comp correction: ',[(roi,roi_stats[roi].pvalue) for roi in roi_stats.keys()\n",
    "                                                   if roi_stats[roi].pvalue< bonferr_alpha])\n",
    "# print('sig ROI pvals: ',roi_stats.roi_cpe_pval[roi_beta_results.roi_cpe_pval<=bonferr_alpha].unique().tolist())\n",
    "sig_bcpe = [(roi,roi_stats[roi].pvalue) for roi in roi_stats.keys()\n",
    "                                                   if roi_stats[roi].pvalue< bonferr_alpha]\n",
    "\n",
    "sig_bcpe_rois = list(zip(*sig_bcpe))[0]"
   ]
  },
  {
   "cell_type": "code",
   "execution_count": null,
   "id": "593daa85",
   "metadata": {},
   "outputs": [],
   "source": [
    "list(zip(*sig_bcpe))[0]"
   ]
  },
  {
   "cell_type": "code",
   "execution_count": null,
   "id": "168acf81",
   "metadata": {},
   "outputs": [],
   "source": [
    "print('sig ROIs after multiple comp correction: ',[(roi,pairwise_roi_stats_greater[roi].pvalue) for \n",
    "                                                   roi in pairwise_roi_stats_greater.keys()\n",
    "                                                   if pairwise_roi_stats_greater[roi].pvalue< bonferr_alpha])\n",
    "# print('sig ROI pvals: ',roi_stats.roi_cpe_pval[roi_beta_results.roi_cpe_pval<=bonferr_alpha].unique().tolist())\n",
    "sig_bcpe = [(roi,pairwise_roi_stats_greater[roi].pvalue) for roi in pairwise_roi_stats_greater.keys()\n",
    "                                                   if pairwise_roi_stats_greater[roi].pvalue< bonferr_alpha]\n",
    "\n",
    "sig_bcpe_rois = list(zip(*sig_bcpe))[0]"
   ]
  },
  {
   "cell_type": "code",
   "execution_count": null,
   "id": "ba69aafc",
   "metadata": {},
   "outputs": [],
   "source": [
    "sig_bcpe_rois "
   ]
  },
  {
   "cell_type": "code",
   "execution_count": null,
   "id": "a86819a8",
   "metadata": {},
   "outputs": [],
   "source": [
    "print('sig ROIs after multiple comp correction: ',[(roi,pairwise_roi_stats_less[roi].pvalue) for \n",
    "                                                   roi in pairwise_roi_stats_less.keys()\n",
    "                                                   if pairwise_roi_stats_less[roi].pvalue< bonferr_alpha])\n",
    "# print('sig ROI pvals: ',roi_stats.roi_cpe_pval[roi_beta_results.roi_cpe_pval<=bonferr_alpha].unique().tolist())\n",
    "# sig_bcpe = [(roi,pairwise_roi_stats_less[roi].pvalue) for roi in pairwise_roi_stats_less.keys()\n",
    "#                                                    if pairwise_roi_stats_less[roi].pvalue< bonferr_alpha]\n",
    "\n",
    "# sig_bcpe_rois = list(zip(*sig_bcpe))[0]"
   ]
  },
  {
   "cell_type": "code",
   "execution_count": null,
   "id": "fe564d88",
   "metadata": {},
   "outputs": [],
   "source": [
    "print('sig ROIs after multiple comp correction: ',[(roi,pairwise_roi_stats[roi].pvalue) for \n",
    "                                                   roi in pairwise_roi_stats.keys()\n",
    "                                                   if pairwise_roi_stats[roi].pvalue< bonferr_alpha])\n",
    "\n",
    "sig_bcpe = [(roi,pairwise_roi_stats[roi].pvalue) for roi in pairwise_roi_stats.keys()\n",
    "                                                   if pairwise_roi_stats[roi].pvalue< bonferr_alpha]\n",
    "\n",
    "sig_bcpe_rois = list(zip(*sig_bcpe))[0]"
   ]
  },
  {
   "cell_type": "code",
   "execution_count": null,
   "id": "a0f7379d",
   "metadata": {},
   "outputs": [],
   "source": [
    "sig_bcpe_rois"
   ]
  },
  {
   "cell_type": "code",
   "execution_count": null,
   "id": "083a9a35",
   "metadata": {},
   "outputs": [],
   "source": [
    "len([(roi,roi_stats[roi].pvalue) for roi in roi_stats.keys()\n",
    "                                                   if roi_stats[roi].pvalue< bonferr_alpha])"
   ]
  },
  {
   "cell_type": "code",
   "execution_count": null,
   "id": "a6615af1",
   "metadata": {},
   "outputs": [],
   "source": [
    "roi_stats.keys()"
   ]
  },
  {
   "cell_type": "code",
   "execution_count": null,
   "id": "22a0392e",
   "metadata": {},
   "outputs": [],
   "source": [
    "# roi_order = ['dlpfc','vlpfc','dmpfc','ofc','ains','pins','acc','hpc','amy','mtg','motor','thalamus']\n",
    "roi_order = ['dlpfc','vlpfc','ofc','ains','pins','acc','hpc','amy']"
   ]
  },
  {
   "cell_type": "code",
   "execution_count": null,
   "id": "d7d906ed",
   "metadata": {},
   "outputs": [],
   "source": [
    "roi_plot_data = plot_data.copy()\n",
    "roi_plot_data = roi_plot_data[roi_plot_data.roi.isin(roi_order)]\n",
    "\n",
    "# roi_plot_names = {'thalamus':'THAL','hpc':'HPC','amy':'AMY','acc':'ACC','ofc':'OFC','ains':'aINS',\n",
    "#                   'pins':'pINS','dmpfc':'dmPFC','dlpfc':'dlPFC','vlpfc':'vlPFC'}\n"
   ]
  },
  {
   "cell_type": "code",
   "execution_count": null,
   "id": "e418d9f0",
   "metadata": {},
   "outputs": [],
   "source": [
    "sns.set_context(\"poster\",rc={'axes.linewidth': 1.5})\n",
    "fig,ax = plt.subplots(figsize=(10, 4),dpi=500)\n",
    "\n",
    "fig_save_dir = f'{base_dir}ephys_analysis/figs/beta_regressions/'\n",
    "os.makedirs(fig_save_dir,exist_ok=True)\n",
    "\n",
    "sns.barplot(data = roi_plot_data,\n",
    "            x = 'roi',\n",
    "            y = 'elec_bCPE',\n",
    "#             y='raw_decisionCPE',\n",
    "#             color = '#561C46',\n",
    "#             color = '#00467e',\n",
    "#             color = '#346a97',\n",
    "            color = '#346a97',\n",
    "            saturation=1,\n",
    "            order=roi_order,\n",
    "            errorbar=None) \n",
    "\n",
    "\n",
    "sns.stripplot(data = roi_plot_data,\n",
    "            x = 'roi',\n",
    "            y = 'elec_bCPE',\n",
    "#               y='raw_decisionCPE',\n",
    "#               color='#78496b', \n",
    "              color = '#00467e',\n",
    "              alpha=.4,\n",
    "              dodge=True,\n",
    "              order=roi_order,\n",
    "              size = 6)\n",
    "\n",
    "ax.axhline(y=0,color='#00467e',linewidth=2)\n",
    "plt.tick_params(length=0 )#,grid_linewidth=1)\n",
    "\n",
    "plt.ylim([-0.05,0.05])\n",
    "ax.set(xlabel=None)\n",
    "# plt.ylabel('CPE Encoding in Beta Power (z)')\n",
    "# plt.ylabel('beta(z) cpe encoding')\n",
    "# plt.ylabel(r'$beta_{{{zpow}}}$'+ ' cpe encoding')\n",
    "# plt.ylabel(r'$beta_{{{zpow}}}$'+ ' cpe encoding')\n",
    "plt.ylabel(r'$beta_{{{zpow}}} \\sim cpe$')\n",
    "# plt.gca().yaxis.set_major_formatter(StrMethodFormatter('{x:,.3f}')) \n",
    "# plt.locator_params(axis='y', nbins=5,tight=True)\n",
    "\n",
    "\n",
    "sns.despine()\n",
    "    \n",
    "plt.savefig(f'{fig_save_dir}/Bpow_CPE_barplot_{date}.pdf', format='pdf', metadata=None,\n",
    "bbox_inches=None, pad_inches=0.1,dpi=500,\n",
    "facecolor='auto', edgecolor='auto',\n",
    "backend=None)\n"
   ]
  },
  {
   "cell_type": "code",
   "execution_count": null,
   "id": "bfcc1cc3",
   "metadata": {},
   "outputs": [],
   "source": [
    "roi_plot_data.roi.unique().tolist()"
   ]
  },
  {
   "cell_type": "code",
   "execution_count": null,
   "id": "7e1d3f5b",
   "metadata": {},
   "outputs": [],
   "source": [
    "bonferr_alpha"
   ]
  },
  {
   "cell_type": "code",
   "execution_count": null,
   "id": "53710b85",
   "metadata": {},
   "outputs": [],
   "source": [
    "rho_data = []\n",
    "sig_rho = []\n",
    "\n",
    "# bonferr_alpha = 0.05/len(roi_plot_data.roi.unique().tolist())\n",
    "# bonferr_alpha = 0.05/9\n",
    "bonferr_alpha = 0.01\n",
    "\n",
    "# BDI CORRELATIONS\n",
    "for roi in roi_plot_data.roi.unique().tolist()[:]:\n",
    "    roi_temp_data = roi_plot_data[roi_plot_data.roi==roi]\n",
    "    rho,rho_p     = spearmanr(roi_temp_data.bdi,roi_temp_data.elec_bCPE)\n",
    "#     rho,rho_p     = pearsonr(roi_temp_data.bdi,roi_temp_data.elec_bCPE)\n",
    "#     print(f'{roi} pearsonr',rho,rho_p)\n",
    "    rho_data.append(pd.DataFrame({'roi':roi,'rho':rho,'rho_p':rho_p},index=[0]))\n",
    "#     if rho_p <= bonferr_alpha:\n",
    "#         sig_bdi_rois.append(roi)\n",
    "#     if rho_p < bonferr_alpha:\n",
    "    if rho_p < 0.05:\n",
    "        sig_rho.append((roi,rho,rho_p))\n",
    "    print(f'{roi} pearsonr',rho,rho_p)\n",
    "rho_data = pd.concat(rho_data).reset_index(drop=True)\n"
   ]
  },
  {
   "cell_type": "code",
   "execution_count": null,
   "id": "6b177a6d",
   "metadata": {},
   "outputs": [],
   "source": [
    "rho_data"
   ]
  },
  {
   "cell_type": "code",
   "execution_count": null,
   "id": "1a31f5e4",
   "metadata": {},
   "outputs": [],
   "source": [
    "sig_rho"
   ]
  },
  {
   "cell_type": "code",
   "execution_count": null,
   "id": "6a4991d6",
   "metadata": {},
   "outputs": [],
   "source": [
    "rho_data['round_rho'] = np.round(rho_data.rho,2)\n",
    "rho_data['round_p']   = np.round(rho_data.rho_p,2)\n",
    "rho_data['round_p'][rho_data.roi == 'acc'] = 0.01\n",
    "rho_data['round_p'][rho_data.roi == 'ofc'] = 0.01\n",
    "rho_data"
   ]
  },
  {
   "cell_type": "code",
   "execution_count": null,
   "id": "b481458d",
   "metadata": {
    "scrolled": false
   },
   "outputs": [],
   "source": [
    "\n",
    "sns.set_context(\"talk\",rc={'axes.linewidth': 1.5})\n",
    "\n",
    "for roi in roi_plot_data.roi.unique().tolist()[:-1]:\n",
    "    roi_temp_data = roi_plot_data[roi_plot_data.roi==roi]\n",
    "\n",
    "    rho   = rho_data[rho_data.roi == roi].round_rho.values[0]\n",
    "    rho_p = rho_data[rho_data.roi == roi].round_p.values[0]\n",
    "    \n",
    "        \n",
    "    fig,ax = plt.subplots(1,1,figsize=(5,3.5),dpi=300)\n",
    "\n",
    "    sns.regplot(data=roi_temp_data,x='bdi',y='elec_bCPE',scatter=False,ci=95,\n",
    "                fit_reg=True,color = '#00467e') #034975\n",
    "    \n",
    "    sns.scatterplot(data = roi_temp_data.groupby(['subj_id']).agg('mean'),x='bdi',\n",
    "                    y='raw_decisionCPE',color = '#00467e',edgecolor=None,alpha=0.8)\n",
    "    \n",
    "#     plt.gca().yaxis.set_major_formatter(StrMethodFormatter('{x:,.2f}')) \n",
    "    plt.xlabel('BDI-II')\n",
    "#     plt.xlim([0,40])\n",
    "    \n",
    "    plt.tick_params(length=0) \n",
    "#     plt.ylabel('beta'+r'$beta_{{{zpow}}}$'+' cpe encoding')\n",
    "    plt.ylabel(r'$beta_{{{zpow}}} \\sim cpe$')\n",
    "\n",
    "    plt.text(np.max(roi_temp_data.bdi)-8,\n",
    "             np.round(np.max(roi_temp_data.groupby(['subj_id']).agg('mean').elec_bCPE),3)-0.003,\n",
    "             r'$rho$ = '+f'{rho} \\n'+ fr'$p \\approxeq $ {rho_p}',color='k',fontsize=12)\n",
    "#              color='#00467e',fontsize=16)\n",
    "#     plt.text(0.8,0.8,r'$rho$ = '+f'{rho} \\n'+ fr'$p \\approxeq $ {rho_p}',\n",
    "#             verticalalignment='top', horizontalalignment='right',\n",
    "#             color='k',fontsize=16)\n",
    "\n",
    "    plt.title(f'{roi}',fontsize=20)\n",
    "    plt.tight_layout()\n",
    "\n",
    "\n",
    "    \n",
    "    sns.despine()\n",
    "    \n",
    "    plt.savefig(f'{fig_save_dir}/{roi}_{rho}_{rho_p}_roi_bdi_beta-cpe-slope.pdf', format='pdf', metadata=None,\n",
    "        bbox_inches='tight', pad_inches=0.1,dpi=300,\n",
    "        facecolor='auto', edgecolor='auto',\n",
    "        backend=None)\n",
    "    "
   ]
  },
  {
   "cell_type": "code",
   "execution_count": null,
   "id": "f4a67d86",
   "metadata": {},
   "outputs": [],
   "source": []
  },
  {
   "cell_type": "markdown",
   "id": "1ed7ce33",
   "metadata": {},
   "source": [
    "# Band x BDI Interaction\n",
    "- Rerun final mixed effects model on each ROI separately\n",
    "- Correlate random effects slopes for each regressor with BDI"
   ]
  },
  {
   "cell_type": "code",
   "execution_count": null,
   "id": "17371f36",
   "metadata": {},
   "outputs": [],
   "source": [
    "rand_eff_var = 'unique_reref_ch'\n"
   ]
  },
  {
   "cell_type": "code",
   "execution_count": null,
   "id": "0003c6a2",
   "metadata": {
    "scrolled": false
   },
   "outputs": [],
   "source": [
    "reg_df"
   ]
  },
  {
   "cell_type": "code",
   "execution_count": null,
   "id": "c925e4d6",
   "metadata": {},
   "outputs": [],
   "source": [
    "bdi_vars    = ['decisionCPE','bdi','decisionCPE:bdi']\n",
    "outcome_var = 'band_pow'\n",
    "\n",
    "bdi_fit = fit_mixed_model(reg_df,bdi_vars,outcome_var,rand_eff_var,reml=False)\n",
    "print(bdi_fit.summary())\n",
    "    "
   ]
  },
  {
   "cell_type": "code",
   "execution_count": null,
   "id": "85148564",
   "metadata": {},
   "outputs": [],
   "source": []
  },
  {
   "cell_type": "code",
   "execution_count": null,
   "id": "eefc788b",
   "metadata": {},
   "outputs": [],
   "source": [
    "fe_param_names = list(bdi_fit.fe_params.index[1:])\n",
    "fe_param_names"
   ]
  },
  {
   "cell_type": "code",
   "execution_count": null,
   "id": "6d996891",
   "metadata": {},
   "outputs": [],
   "source": [
    "bdi_plot_data = pd.concat([pd.DataFrame(\n",
    "    {**{'subj_id':elec_id.split('_')[0],'reref_ch_names':elec_id.split('_')[1]},'unique_reref_ch':elec_id,\n",
    "     **{f'raw_{param}':bdi_fit.random_effects[elec_id][param] for param in list(\n",
    "            bdi_fit.random_effects[elec_id].index)}},index=[range(len(fe_param_names))])\n",
    "        \n",
    "    for elec_id in bdi_fit.random_effects.keys()]).reset_index(drop=True)\n",
    "\n",
    "bdi_plot_data['roi'] = [reg_df.roi[reg_df.unique_reref_ch == row.unique_reref_ch].values[0]\n",
    "                                for idx,row in bdi_plot_data.iterrows()]\n",
    "\n",
    "bdi_plot_data['bdi'] = [subj_info_df.bdi[subj_info_df.subj_id == subj_id].values[0]\n",
    "                                for subj_id in bdi_plot_data.subj_id]"
   ]
  },
  {
   "cell_type": "code",
   "execution_count": null,
   "id": "e4a167c4",
   "metadata": {},
   "outputs": [],
   "source": [
    "bdi_plot_data"
   ]
  },
  {
   "cell_type": "code",
   "execution_count": null,
   "id": "c7f03ae9",
   "metadata": {},
   "outputs": [],
   "source": [
    "#### Get all results for Figs!!!!\n",
    "\n",
    "fe_intercept   = bdi_fit.params['Intercept']\n",
    "fe_cpe_beta    = bdi_fit.params['decisionCPE:bdi']\n",
    "fe_cpe_beta\n"
   ]
  },
  {
   "cell_type": "code",
   "execution_count": null,
   "id": "c05db4f3",
   "metadata": {},
   "outputs": [],
   "source": [
    "#### add fixed effects data to all_elec_plot_data\n",
    "bdi_plot_data['elec_b0']   = np.add(bdi_plot_data.raw_Group,fe_intercept)\n",
    "bdi_plot_data['elec_bCPE'] = np.add(bdi_plot_data['raw_decisionCPE:bdi'],fe_cpe_beta)\n",
    "bdi_plot_data = bdi_plot_data[~bdi_plot_data.roi.isnull()]"
   ]
  },
  {
   "cell_type": "code",
   "execution_count": null,
   "id": "3aa60412",
   "metadata": {},
   "outputs": [],
   "source": [
    "bdi_plot_data"
   ]
  },
  {
   "cell_type": "code",
   "execution_count": null,
   "id": "55d2ed17",
   "metadata": {},
   "outputs": [],
   "source": [
    "# raw_bdi\n",
    "\n",
    "raw_roi_stats = {f'{roi}':ttest_1samp(bdi_plot_data['raw_bdi'][bdi_plot_data.roi == roi].unique(),\n",
    "                 popmean=0) for roi in bdi_plot_data.roi.unique().tolist()}\n",
    "raw_roi_stats"
   ]
  },
  {
   "cell_type": "code",
   "execution_count": null,
   "id": "2962d880",
   "metadata": {},
   "outputs": [],
   "source": [
    "raw_roi_stats = {f'{roi}':ttest_1samp(bdi_plot_data['raw_decisionCPE:bdi'][bdi_plot_data.roi == roi].unique(),\n",
    "                 popmean=0) for roi in bdi_plot_data.roi.unique().tolist()}\n",
    "raw_roi_stats"
   ]
  },
  {
   "cell_type": "code",
   "execution_count": null,
   "id": "0c6e3b91",
   "metadata": {},
   "outputs": [],
   "source": [
    "roi_stats = {f'{roi}':ttest_1samp(bdi_plot_data.elec_bCPE[bdi_plot_data.roi == roi].unique(),\n",
    "                 popmean=0) for roi in bdi_plot_data.roi.unique().tolist()}\n",
    "roi_stats"
   ]
  },
  {
   "cell_type": "code",
   "execution_count": null,
   "id": "29595352",
   "metadata": {},
   "outputs": [],
   "source": [
    "pairwise_ains_vals = bdi_plot_data.elec_bCPE[plot_data.roi == 'ains'].unique()\n",
    "\n",
    "pairwise_roi_stats = {f'ains={roi}':ttest_ind(pairwise_ains_vals,bdi_plot_data.elec_bCPE[bdi_plot_data.roi == roi].unique(),\n",
    "                 ) for roi in bdi_plot_data.roi.unique().tolist()}\n",
    "pairwise_roi_stats\n"
   ]
  },
  {
   "cell_type": "code",
   "execution_count": null,
   "id": "26d331d4",
   "metadata": {
    "scrolled": true
   },
   "outputs": [],
   "source": [
    "pairwise_ains_vals = bdi_plot_data.elec_bCPE[plot_data.roi == 'ains'].unique()\n",
    "\n",
    "pairwise_roi_stats_greater = {f'ains={roi}':ttest_ind(pairwise_ains_vals,bdi_plot_data.elec_bCPE[bdi_plot_data.roi == roi].unique(),\n",
    "                 alternative='greater') for roi in bdi_plot_data.roi.unique().tolist()}\n",
    "pairwise_roi_stats_greater"
   ]
  },
  {
   "cell_type": "code",
   "execution_count": null,
   "id": "38db0153",
   "metadata": {},
   "outputs": [],
   "source": [
    "pairwise_ains_vals = bdi_plot_data.elec_bCPE[bdi_plot_data.roi == 'ains'].unique()\n",
    "\n",
    "pairwise_roi_stats_less = {f'ains={roi}':ttest_ind(pairwise_ains_vals,bdi_plot_data.elec_bCPE[bdi_plot_data.roi == roi].unique(),\n",
    "                 alternative='less') for roi in bdi_plot_data.roi.unique().tolist()}\n",
    "pairwise_roi_stats_less"
   ]
  },
  {
   "cell_type": "code",
   "execution_count": null,
   "id": "91972a41",
   "metadata": {},
   "outputs": [],
   "source": [
    "bonferr_alpha = 0.05/len(roi_order)\n",
    "bonferr_alpha"
   ]
  },
  {
   "cell_type": "code",
   "execution_count": null,
   "id": "f11b5a94",
   "metadata": {},
   "outputs": [],
   "source": [
    "print('sig ROIs after multiple comp correction: ',[(roi,raw_roi_stats[roi].pvalue) for roi in raw_roi_stats.keys()\n",
    "                                                   if raw_roi_stats[roi].pvalue< bonferr_alpha])\n",
    "# print('sig ROI pvals: ',roi_stats.roi_cpe_pval[roi_beta_results.roi_cpe_pval<=bonferr_alpha].unique().tolist())\n",
    "\n",
    "sig_raw = [(roi,raw_roi_stats[roi].pvalue) for roi in raw_roi_stats.keys()\n",
    "                                                   if raw_roi_stats[roi].pvalue< bonferr_alpha]\n",
    "\n",
    "sig_raw_rois = list(zip(*sig_raw))[0]"
   ]
  },
  {
   "cell_type": "code",
   "execution_count": null,
   "id": "d60277b6",
   "metadata": {},
   "outputs": [],
   "source": [
    "sig_raw_rois"
   ]
  },
  {
   "cell_type": "code",
   "execution_count": null,
   "id": "2fadf781",
   "metadata": {},
   "outputs": [],
   "source": [
    "print('sig ROIs after multiple comp correction: ',[(roi,roi_stats[roi].pvalue) for roi in roi_stats.keys()\n",
    "                                                   if roi_stats[roi].pvalue< bonferr_alpha])\n",
    "# print('sig ROI pvals: ',roi_stats.roi_cpe_pval[roi_beta_results.roi_cpe_pval<=bonferr_alpha].unique().tolist())\n",
    "sig_bcpe = [(roi,roi_stats[roi].pvalue) for roi in roi_stats.keys()\n",
    "                                                   if roi_stats[roi].pvalue< bonferr_alpha]\n",
    "\n",
    "sig_bcpe_rois = list(zip(*sig_bcpe))[0]"
   ]
  },
  {
   "cell_type": "code",
   "execution_count": null,
   "id": "6f10029c",
   "metadata": {},
   "outputs": [],
   "source": [
    "list(zip(*sig_bcpe))[0]"
   ]
  },
  {
   "cell_type": "code",
   "execution_count": null,
   "id": "0282b1a4",
   "metadata": {},
   "outputs": [],
   "source": [
    "print('sig ROIs after multiple comp correction: ',[(roi,pairwise_roi_stats_greater[roi].pvalue) for \n",
    "                                                   roi in pairwise_roi_stats_greater.keys()\n",
    "                                                   if pairwise_roi_stats_greater[roi].pvalue< bonferr_alpha])\n",
    "# print('sig ROI pvals: ',roi_stats.roi_cpe_pval[roi_beta_results.roi_cpe_pval<=bonferr_alpha].unique().tolist())\n",
    "sig_bcpe = [(roi,pairwise_roi_stats_greater[roi].pvalue) for roi in pairwise_roi_stats_greater.keys()\n",
    "                                                   if pairwise_roi_stats_greater[roi].pvalue< bonferr_alpha]\n",
    "\n",
    "# sig_bcpe_rois = list(zip(*sig_bcpe))[0]"
   ]
  },
  {
   "cell_type": "code",
   "execution_count": null,
   "id": "d16614ad",
   "metadata": {},
   "outputs": [],
   "source": [
    "# sig_bcpe_rois "
   ]
  },
  {
   "cell_type": "code",
   "execution_count": null,
   "id": "d38e217f",
   "metadata": {},
   "outputs": [],
   "source": [
    "print('sig ROIs after multiple comp correction: ',[(roi,pairwise_roi_stats_less[roi].pvalue) for \n",
    "                                                   roi in pairwise_roi_stats_less.keys()\n",
    "                                                   if pairwise_roi_stats_less[roi].pvalue< bonferr_alpha])\n",
    "# print('sig ROI pvals: ',roi_stats.roi_cpe_pval[roi_beta_results.roi_cpe_pval<=bonferr_alpha].unique().tolist())\n",
    "sig_bcpe = [(roi,pairwise_roi_stats_less[roi].pvalue) for roi in pairwise_roi_stats_less.keys()\n",
    "                                                   if pairwise_roi_stats_less[roi].pvalue< bonferr_alpha]\n",
    "\n",
    "sig_bcpe_rois = list(zip(*sig_bcpe))[0]"
   ]
  },
  {
   "cell_type": "code",
   "execution_count": null,
   "id": "ce84a345",
   "metadata": {},
   "outputs": [],
   "source": [
    "print('sig ROIs after multiple comp correction: ',[(roi,pairwise_roi_stats[roi].pvalue) for \n",
    "                                                   roi in pairwise_roi_stats.keys()\n",
    "                                                   if pairwise_roi_stats[roi].pvalue< bonferr_alpha])\n",
    "\n",
    "sig_bcpe = [(roi,pairwise_roi_stats[roi].pvalue) for roi in pairwise_roi_stats.keys()\n",
    "                                                   if pairwise_roi_stats[roi].pvalue< bonferr_alpha]\n",
    "\n",
    "sig_bcpe_rois = list(zip(*sig_bcpe))[0]"
   ]
  },
  {
   "cell_type": "code",
   "execution_count": null,
   "id": "d4687297",
   "metadata": {},
   "outputs": [],
   "source": [
    "sig_bcpe_rois"
   ]
  },
  {
   "cell_type": "code",
   "execution_count": null,
   "id": "4ce6196e",
   "metadata": {},
   "outputs": [],
   "source": [
    "len([(roi,roi_stats[roi].pvalue) for roi in roi_stats.keys()\n",
    "                                                   if roi_stats[roi].pvalue< bonferr_alpha])"
   ]
  },
  {
   "cell_type": "code",
   "execution_count": null,
   "id": "786ac923",
   "metadata": {},
   "outputs": [],
   "source": [
    "roi_stats.keys()"
   ]
  },
  {
   "cell_type": "code",
   "execution_count": null,
   "id": "8432eea7",
   "metadata": {},
   "outputs": [],
   "source": [
    "# roi_order = ['dlpfc','vlpfc','dmpfc','ofc','ains','pins','acc','hpc','amy','mtg','motor','thalamus']\n",
    "roi_order = ['dlpfc','vlpfc','ofc','ains','pins','acc','hpc','amy']"
   ]
  },
  {
   "cell_type": "code",
   "execution_count": null,
   "id": "6e9900b3",
   "metadata": {},
   "outputs": [],
   "source": [
    "roi_plot_data = bdi_plot_data.copy()\n",
    "roi_plot_data = roi_plot_data[roi_plot_data.roi.isin(roi_order)]\n",
    "\n",
    "# roi_plot_names = {'thalamus':'THAL','hpc':'HPC','amy':'AMY','acc':'ACC','ofc':'OFC','ains':'aINS',\n",
    "#                   'pins':'pINS','dmpfc':'dmPFC','dlpfc':'dlPFC','vlpfc':'vlPFC'}\n"
   ]
  },
  {
   "cell_type": "code",
   "execution_count": null,
   "id": "80dfb2c0",
   "metadata": {},
   "outputs": [],
   "source": [
    "bdi_plot_data.roi.unique()"
   ]
  },
  {
   "cell_type": "code",
   "execution_count": null,
   "id": "e5fd780b",
   "metadata": {},
   "outputs": [],
   "source": [
    "sns.set_context(\"poster\",rc={'axes.linewidth': 1.5})\n",
    "fig,ax = plt.subplots(figsize=(10, 4),dpi=500)\n",
    "\n",
    "fig_save_dir = f'{base_dir}ephys_analysis/figs/{band}_regressions/'\n",
    "os.makedirs(fig_save_dir,exist_ok=True)\n",
    "\n",
    "sns.barplot(data = bdi_plot_data,\n",
    "            x = 'roi',\n",
    "            y = 'elec_bCPE',\n",
    "#             y='raw_decisionCPE',\n",
    "#             color = '#561C46',\n",
    "#             color = '#00467e',\n",
    "#             color = '#346a97',\n",
    "            color = '#173b6f',\n",
    "            saturation=1,\n",
    "            order=roi_order,\n",
    "            errorbar=None) \n",
    "\n",
    "\n",
    "sns.stripplot(data = bdi_plot_data,\n",
    "            x = 'roi',\n",
    "            y = 'elec_bCPE',\n",
    "#               y='raw_decisionCPE',\n",
    "#               color='#78496b', \n",
    "              color = '#173b6f',\n",
    "              alpha=.4,\n",
    "              dodge=True,\n",
    "              order=roi_order,\n",
    "              size = 6)\n",
    "\n",
    "ax.axhline(y=0,color='#173b6f',linewidth=2)\n",
    "plt.tick_params(length=0 )#,grid_linewidth=1)\n",
    "\n",
    "# plt.ylim([-0.05,0.05])\n",
    "ax.set(xlabel=None)\n",
    "# plt.ylabel('CPE Encoding in Beta Power (z)')\n",
    "# plt.ylabel('beta(z) cpe encoding')\n",
    "# plt.ylabel(r'$beta_{{{zpow}}}$'+ ' cpe encoding')\n",
    "# plt.ylabel(r'$beta_{{{zpow}}}$'+ ' cpe encoding')\n",
    "plt.ylabel(fr'${band}_{{{zpow}}} \\sim cpe:bdi$')\n",
    "# plt.gca().yaxis.set_major_formatter(StrMethodFormatter('{x:,.3f}')) \n",
    "# plt.locator_params(axis='y', nbins=5,tight=True)\n",
    "\n",
    "\n",
    "sns.despine()\n",
    "    \n",
    "plt.savefig(f'{fig_save_dir}/Bpow_CPE:BDI_barplot_{date}.pdf', format='pdf', metadata=None,\n",
    "bbox_inches=None, pad_inches=0.1,dpi=500,\n",
    "facecolor='auto', edgecolor='auto',\n",
    "backend=None)\n"
   ]
  },
  {
   "cell_type": "code",
   "execution_count": null,
   "id": "c28acb87",
   "metadata": {},
   "outputs": [],
   "source": [
    "bdi_plot_data.roi.unique().tolist()"
   ]
  },
  {
   "cell_type": "code",
   "execution_count": null,
   "id": "e343460a",
   "metadata": {},
   "outputs": [],
   "source": [
    "bonferr_alpha"
   ]
  },
  {
   "cell_type": "code",
   "execution_count": null,
   "id": "bb308466",
   "metadata": {},
   "outputs": [],
   "source": [
    "rho_data = []\n",
    "sig_rho = []\n",
    "\n",
    "# bonferr_alpha = 0.05/len(roi_plot_data.roi.unique().tolist())\n",
    "# bonferr_alpha = 0.05/9\n",
    "bonferr_alpha = 0.01\n",
    "\n",
    "# BDI CORRELATIONS\n",
    "for roi in roi_plot_data.roi.unique().tolist()[:]:\n",
    "    roi_temp_data = roi_plot_data[roi_plot_data.roi==roi]\n",
    "    rho,rho_p     = spearmanr(roi_temp_data.bdi,roi_temp_data.elec_bCPE)\n",
    "#     rho,rho_p     = pearsonr(roi_temp_data.bdi,roi_temp_data.elec_bCPE)\n",
    "#     print(f'{roi} pearsonr',rho,rho_p)\n",
    "    rho_data.append(pd.DataFrame({'roi':roi,'rho':rho,'rho_p':rho_p},index=[0]))\n",
    "#     if rho_p <= bonferr_alpha:\n",
    "#         sig_bdi_rois.append(roi)\n",
    "#     if rho_p < bonferr_alpha:\n",
    "    if rho_p < 0.05:\n",
    "        sig_rho.append((roi,rho,rho_p))\n",
    "    print(f'{roi} pearsonr',rho,rho_p)\n",
    "rho_data = pd.concat(rho_data).reset_index(drop=True)\n"
   ]
  },
  {
   "cell_type": "code",
   "execution_count": null,
   "id": "074dac83",
   "metadata": {},
   "outputs": [],
   "source": [
    "rho_data"
   ]
  },
  {
   "cell_type": "code",
   "execution_count": null,
   "id": "7f111345",
   "metadata": {},
   "outputs": [],
   "source": [
    "sig_rho"
   ]
  },
  {
   "cell_type": "code",
   "execution_count": null,
   "id": "fb8b1439",
   "metadata": {},
   "outputs": [],
   "source": [
    "rho_data['round_rho'] = np.round(rho_data.rho,2)\n",
    "rho_data['round_p']   = np.round(rho_data.rho_p,3)\n",
    "# rho_data['round_p'][rho_data.roi == 'acc'] = 0.01\n",
    "# rho_data['round_p'][rho_data.roi == 'ofc'] = 0.01\n",
    "rho_data"
   ]
  },
  {
   "cell_type": "code",
   "execution_count": null,
   "id": "3073da36",
   "metadata": {
    "scrolled": false
   },
   "outputs": [],
   "source": [
    "\n",
    "sns.set_context(\"talk\",rc={'axes.linewidth': 1.5})\n",
    "\n",
    "for roi in roi_plot_data.roi.unique().tolist()[:-1]:\n",
    "    roi_temp_data = roi_plot_data[roi_plot_data.roi==roi]\n",
    "\n",
    "    rho   = rho_data[rho_data.roi == roi].round_rho.values[0]\n",
    "    rho_p = rho_data[rho_data.roi == roi].round_p.values[0]\n",
    "    \n",
    "        \n",
    "    fig,ax = plt.subplots(1,1,figsize=(5,3.5),dpi=300)\n",
    "\n",
    "    sns.regplot(data=roi_temp_data,x='bdi',y='raw_decisionCPE',scatter=False,ci=95,\n",
    "                fit_reg=True,color = '#173b6f') #034975\n",
    "    \n",
    "    sns.scatterplot(data = roi_temp_data.groupby(['subj_id']).agg('mean'),x='bdi',\n",
    "                    y='raw_decisionCPE',color = '#173b6f',edgecolor=None,alpha=0.8)\n",
    "    \n",
    "#     plt.gca().yaxis.set_major_formatter(StrMethodFormatter('{x:,.2f}')) \n",
    "    plt.xlabel('BDI-II')\n",
    "#     plt.xlim([0,40])\n",
    "    \n",
    "    plt.tick_params(length=0) \n",
    "#     plt.ylabel('beta'+r'$beta_{{{zpow}}}$'+' cpe encoding')\n",
    "    plt.ylabel(fr'${band}_{{{zpow}}} \\sim cpe:bdi$')\n",
    "\n",
    "    plt.text(np.max(roi_temp_data.bdi)-8,\n",
    "             np.round(np.max(roi_temp_data.groupby(['subj_id']).agg('mean').raw_decisionCPE),3)-0.003,\n",
    "             r'$rho$ = '+f'{rho} \\n'+ fr'$p \\approxeq $ {rho_p}',color='k',fontsize=12)\n",
    "#              color='#00467e',fontsize=16)\n",
    "#     plt.text(0.8,0.8,r'$rho$ = '+f'{rho} \\n'+ fr'$p \\approxeq $ {rho_p}',\n",
    "#             verticalalignment='top', horizontalalignment='right',\n",
    "#             color='k',fontsize=16)\n",
    "\n",
    "    plt.title(f'{roi}',fontsize=20)\n",
    "    plt.tight_layout()\n",
    "    \n",
    "\n",
    "\n",
    "    \n",
    "    sns.despine()\n",
    "    \n",
    "    plt.savefig(f'{fig_save_dir}/{roi}_{rho}_{rho_p}_roi_bdi_{band}-cpe:bdi-slope.pdf', format='pdf', metadata=None,\n",
    "        bbox_inches='tight', pad_inches=0.1,dpi=300,\n",
    "        facecolor='auto', edgecolor='auto',\n",
    "        backend=None)\n",
    "    "
   ]
  },
  {
   "cell_type": "code",
   "execution_count": null,
   "id": "1908c3fb",
   "metadata": {},
   "outputs": [],
   "source": [
    "reg_df"
   ]
  },
  {
   "cell_type": "code",
   "execution_count": null,
   "id": "0864d5ed",
   "metadata": {},
   "outputs": [],
   "source": [
    "reg_df['Depressed'] = ['High BDI' if bdi >=20 else 'Low BDI' for bdi in reg_df.bdi.tolist()]"
   ]
  },
  {
   "cell_type": "code",
   "execution_count": null,
   "id": "4e0f2e6e",
   "metadata": {},
   "outputs": [],
   "source": [
    "## X plot attempt \n",
    "\n",
    "sns.set_theme(style='ticks') \n",
    "sns.set_context(\"poster\")\n",
    "\n",
    "# from matplotlib import rc\n",
    "# rc('text', usetex=False)\n",
    "\n",
    "\n",
    "fig,ax = plt.subplots(figsize=(8,5))\n",
    "# sns.set_context(\"poster\",rc={'axes.linewidth': 2})\n",
    "# sns.set_theme(style='ticks') \n",
    "\n",
    "# palette={'depression':\"#3f2755\",'no depression':\"#054a6f\"}\n",
    "\n",
    "# palette={'high BDI':\"#0b4e5f\",'low BDI':\"#824973\"}\n",
    "\n",
    "\n",
    "# ax = sns.lmplot(data=reg_df,x='decisionCPE',y='band_pow',hue='Depression',scatter=False,ci=95,palette=palette)\n",
    "# sns.move_legend(ax, loc='lower center', bbox_to_anchor=(0.1, 1),bbox_to_anchor=(-1, 0), ncol=2)\n",
    "\n",
    "# sns.move_legend(ax,\"upper center\", bbox_to_anchor=(0.5, 1), borderaxespad=0.1,frameon=False,framealpha=0,\n",
    "#                 fontsize='x-small',shadow=None,title=None,columnspacing=0.5,edgecolor=None,markerfirst=True,\n",
    "#                 markerscale=4,labelcolor=None, ncol=2)\n",
    "\n",
    "\n",
    "sns.regplot(data=reg_df[reg_df.Depressed=='Low BDI'],x='decisionCPE',y='band_pow',scatter=True,\n",
    "           ci=95,color = '#824973',label='Low BDI',x_jitter = 0.15,scatter_kws={'s':5})\n",
    "sns.regplot(data=reg_df[reg_df.Depressed=='High BDI'],x='decisionCPE',y='band_pow',scatter=True,\n",
    "           ci=95,color='#0b4e5f',label='High BDI',x_jitter = 0.15,scatter_kws={'s':5})\n",
    "\n",
    "plt.legend(fontsize=10)\n",
    "# borderaxespad=0,frameon=False,framealpha=0,\n",
    "sns.move_legend(ax,\"upper center\", bbox_to_anchor=(0.5, 1.1), frameon=False,framealpha=0,\n",
    "                fontsize='small',shadow=None,\n",
    "                columnspacing=2,ncol=2)\n",
    "\n",
    "\n",
    "plt.gca().yaxis.set_major_formatter(StrMethodFormatter('{x:,.2f}')) \n",
    "plt.tight_layout()\n",
    "plt.ylabel(fr'${band}_{{{zpow}}}$')\n",
    "plt.xlabel(r'$cpe(z)$')\n",
    "sns.despine()\n",
    "plt.tick_params(length=0)\n",
    "# plt.text(7.25,0.07,f'rho: {np.round(r,3)} \\n p: {np.round(p_r,6)}',fontsize=16)\n",
    "\n",
    "\n",
    "# plt.savefig(f'{fig_save_dir}/all_lmplot_cpe_bpow_bdi_{date}.pdf', format='pdf', metadata=None,\n",
    "# bbox_inches='tight', pad_inches=0.1,dpi=500,\n",
    "# facecolor='auto', edgecolor='auto',\n",
    "# backend=None)"
   ]
  },
  {
   "cell_type": "code",
   "execution_count": null,
   "id": "e52b89ea",
   "metadata": {},
   "outputs": [],
   "source": [
    "reg_df['Depressed'] = ['High BDI' if bdi >=20 else 'Low BDI' for bdi in reg_df.bdi.tolist()]"
   ]
  },
  {
   "cell_type": "code",
   "execution_count": null,
   "id": "9b1cd8c3",
   "metadata": {},
   "outputs": [],
   "source": [
    "## X plot attempt \n",
    "\n",
    "sns.set_theme(style='ticks') \n",
    "sns.set_context(\"poster\")\n",
    "\n",
    "# from matplotlib import rc\n",
    "# rc('text', usetex=False)\n",
    "\n",
    "\n",
    "fig,ax = plt.subplots(figsize=(8,5))\n",
    "# sns.set_context(\"poster\",rc={'axes.linewidth': 2})\n",
    "# sns.set_theme(style='ticks') \n",
    "\n",
    "# palette={'depression':\"#3f2755\",'no depression':\"#054a6f\"}\n",
    "\n",
    "# palette={'high BDI':\"#0b4e5f\",'low BDI':\"#824973\"}\n",
    "\n",
    "\n",
    "# ax = sns.lmplot(data=reg_df,x='decisionCPE',y='band_pow',hue='Depression',scatter=False,ci=95,palette=palette)\n",
    "# sns.move_legend(ax, loc='lower center', bbox_to_anchor=(0.1, 1),bbox_to_anchor=(-1, 0), ncol=2)\n",
    "\n",
    "# sns.move_legend(ax,\"upper center\", bbox_to_anchor=(0.5, 1), borderaxespad=0.1,frameon=False,framealpha=0,\n",
    "#                 fontsize='x-small',shadow=None,title=None,columnspacing=0.5,edgecolor=None,markerfirst=True,\n",
    "#                 markerscale=4,labelcolor=None, ncol=2)\n",
    "\n",
    "\n",
    "sns.regplot(data=reg_df[reg_df.Depressed=='Low BDI'],x='decisionCPE',y='band_pow',scatter=False,\n",
    "           ci=95,color = '#824973',label='Low BDI')\n",
    "sns.regplot(data=reg_df[reg_df.Depressed=='High BDI'],x='decisionCPE',y='band_pow',scatter=False,\n",
    "           ci=95,color='#0b4e5f',label='High BDI')\n",
    "\n",
    "plt.legend(fontsize=10)\n",
    "# borderaxespad=0,frameon=False,framealpha=0,\n",
    "sns.move_legend(ax,\"upper center\", bbox_to_anchor=(0.5, 1.1), frameon=False,framealpha=0,\n",
    "                fontsize='small',shadow=None,\n",
    "                columnspacing=2,ncol=2)\n",
    "\n",
    "\n",
    "plt.gca().yaxis.set_major_formatter(StrMethodFormatter('{x:,.2f}')) \n",
    "plt.tight_layout()\n",
    "plt.ylabel(fr'${band}_{{{zpow}}}$')\n",
    "plt.xlabel(r'$cpe(z)$')\n",
    "sns.despine()\n",
    "plt.tick_params(length=0)\n",
    "# plt.text(7.25,0.07,f'rho: {np.round(r,3)} \\n p: {np.round(p_r,6)}',fontsize=16)\n",
    "\n",
    "\n",
    "# plt.savefig(f'{fig_save_dir}/all_lmplot_cpe_bpow_bdi_{date}.pdf', format='pdf', metadata=None,\n",
    "# bbox_inches='tight', pad_inches=0.1,dpi=500,\n",
    "# facecolor='auto', edgecolor='auto',\n",
    "# backend=None)"
   ]
  },
  {
   "cell_type": "code",
   "execution_count": null,
   "id": "38eb7dc5",
   "metadata": {
    "scrolled": true
   },
   "outputs": [],
   "source": [
    "for roi in reg_df.roi.unique().tolist():\n",
    "    roi_reg_plot = reg_df[reg_df.roi== roi]\n",
    "    fig,ax = plt.subplots(figsize=(8,5))\n",
    "\n",
    "    sns.regplot(data=roi_reg_plot[roi_reg_plot.Depressed=='Low BDI'],x='decisionCPE',y='band_pow',scatter=False,\n",
    "               ci=95,color = '#824973',label='Low BDI')#,scatter_kws={'s':2})\n",
    "    sns.regplot(data=roi_reg_plot[roi_reg_plot.Depressed=='High BDI'],x='decisionCPE',y='band_pow',scatter=False,\n",
    "               ci=95,color='#0b4e5f',label='High BDI')#,scatter_kws={'s':2})\n",
    "\n",
    "    plt.legend(fontsize=10)\n",
    "    # borderaxespad=0,frameon=False,framealpha=0,\n",
    "    sns.move_legend(ax,\"upper center\", bbox_to_anchor=(0.5, 1.1), frameon=False,framealpha=0,\n",
    "                    fontsize='small',shadow=None,\n",
    "                    columnspacing=2,ncol=2)\n",
    "\n",
    "\n",
    "    plt.gca().yaxis.set_major_formatter(StrMethodFormatter('{x:,.2f}')) \n",
    "    plt.tight_layout()\n",
    "    plt.ylabel(fr'${band}_{{{zpow}}}$')\n",
    "    plt.xlabel(r'$cpe(z)$')\n",
    "    plt.title(f'{roi}')\n",
    "    sns.despine()\n",
    "    plt.tick_params(length=0)\n",
    "    \n",
    "    "
   ]
  },
  {
   "cell_type": "code",
   "execution_count": null,
   "id": "718b4a51",
   "metadata": {
    "scrolled": true
   },
   "outputs": [],
   "source": [
    "for roi in reg_df.roi.unique().tolist():\n",
    "    roi_reg_plot = reg_df[reg_df.roi== roi]\n",
    "    fig,ax = plt.subplots(figsize=(8,5))\n",
    "\n",
    "    sns.regplot(data=roi_reg_plot[roi_reg_plot.Depressed=='Low BDI'],x='decisionCPE',y='band_pow',scatter=True,\n",
    "               ci=95,color = '#824973',label='Low BDI',x_jitter = 0.15,scatter_kws={'s':5})\n",
    "    sns.regplot(data=roi_reg_plot[roi_reg_plot.Depressed=='High BDI'],x='decisionCPE',y='band_pow',scatter=True,\n",
    "               ci=95,color='#0b4e5f',label='High BDI',x_jitter = 0.15,scatter_kws={'s':5})\n",
    "\n",
    "    plt.legend(fontsize=10)\n",
    "    # borderaxespad=0,frameon=False,framealpha=0,\n",
    "    sns.move_legend(ax,\"upper center\", bbox_to_anchor=(0.5, 1.1), frameon=False,framealpha=0,\n",
    "                    fontsize='small',shadow=None,\n",
    "                    columnspacing=2,ncol=2)\n",
    "\n",
    "\n",
    "    plt.gca().yaxis.set_major_formatter(StrMethodFormatter('{x:,.2f}')) \n",
    "    plt.tight_layout()\n",
    "    plt.ylabel(fr'${band}_{{{zpow}}}$')\n",
    "    plt.xlabel(r'$cpe(z)$')\n",
    "    plt.title(f'{roi}')\n",
    "    sns.despine()\n",
    "    plt.tick_params(length=0)\n",
    "    \n",
    "    "
   ]
  },
  {
   "cell_type": "code",
   "execution_count": null,
   "id": "d1b32dcf",
   "metadata": {
    "scrolled": false
   },
   "outputs": [],
   "source": [
    "# for roi in reg_df.roi.unique().tolist():\n",
    "#     roi_reg_plot = reg_df[reg_df.roi== roi]\n",
    "#     fig,ax = plt.subplots(figsize=(8,5),dpi=500)\n",
    "\n",
    "#     sns.regplot(data=roi_reg_plot[roi_reg_plot.Depressed=='Low BDI'],x='decisionCPE',y='band_pow',scatter=True,\n",
    "#                ci=95,color = '#824973',label='Low BDI',x_jitter = 0.15)#,scatter_kws={'s':2})\n",
    "#     sns.regplot(data=roi_reg_plot[roi_reg_plot.Depressed=='High BDI'],x='decisionCPE',y='band_pow',scatter=True,\n",
    "#                ci=95,color='#0b4e5f',label='High BDI',x_jitter = 0.15)#,scatter_kws={'s':2})\n",
    "\n",
    "#     plt.legend(fontsize=10)\n",
    "#     # borderaxespad=0,frameon=False,framealpha=0,\n",
    "#     sns.move_legend(ax,\"upper center\", bbox_to_anchor=(0.5, 1.1), frameon=False,framealpha=0,\n",
    "#                     fontsize='small',shadow=None,\n",
    "#                     columnspacing=2,ncol=2)\n",
    "\n",
    "\n",
    "#     plt.gca().yaxis.set_major_formatter(StrMethodFormatter('{x:,.2f}')) \n",
    "\n",
    "#     plt.ylabel(r'$beta_{{{zpow}}}$')\n",
    "#     plt.xlabel(r'$cpe(z)$')\n",
    "#     plt.title(f'{roi}')\n",
    "#     sns.despine()\n",
    "#     plt.tick_params(length=0)\n",
    "    \n",
    "    "
   ]
  },
  {
   "cell_type": "code",
   "execution_count": null,
   "id": "d22c2696",
   "metadata": {},
   "outputs": [],
   "source": [
    "fig,ax = plt.subplots(figsize=(8,5),dpi=500)\n",
    "# sns.set_context(\"poster\",rc={'axes.linewidth': 2})\n",
    "# sns.set_theme(style='ticks') \n",
    "\n",
    "# palette={'depression':\"#3f2755\",'no depression':\"#054a6f\"}\n",
    "\n",
    "# palette={'high BDI':\"#0b4e5f\",'low BDI':\"#824973\"}\n",
    "\n",
    "\n",
    "# ax = sns.lmplot(data=reg_df,x='decisionCPE',y='band_pow',hue='Depression',scatter=False,ci=95,palette=palette)\n",
    "# sns.move_legend(ax, loc='lower center', bbox_to_anchor=(0.1, 1),bbox_to_anchor=(-1, 0), ncol=2)\n",
    "\n",
    "# sns.move_legend(ax,\"upper center\", bbox_to_anchor=(0.5, 1), borderaxespad=0.1,frameon=False,framealpha=0,\n",
    "#                 fontsize='x-small',shadow=None,title=None,columnspacing=0.5,edgecolor=None,markerfirst=True,\n",
    "#                 markerscale=4,labelcolor=None, ncol=2)\n",
    "\n",
    "\n",
    "sns.regplot(data=reg_df[reg_df.Depressed=='Low BDI'],x='decisionCPE',y='band_pow',scatter=True,\n",
    "           ci=95,color = '#824973',label='Low BDI',x_jitter = 0.15,scatter_kws={'s':2})\n",
    "sns.regplot(data=reg_df[reg_df.Depressed=='High BDI'],x='decisionCPE',y='band_pow',scatter=True,\n",
    "           ci=95,color='#0b4e5f',label='High BDI',x_jitter = 0.15,scatter_kws={'s':2})\n",
    "\n",
    "plt.legend(fontsize=10)\n",
    "# borderaxespad=0,frameon=False,framealpha=0,\n",
    "sns.move_legend(ax,\"upper center\", bbox_to_anchor=(0.5, 1.1), frameon=False,framealpha=0,\n",
    "                fontsize='small',shadow=None,\n",
    "                columnspacing=2,ncol=2)\n",
    "\n",
    "\n",
    "plt.gca().yaxis.set_major_formatter(StrMethodFormatter('{x:,.2f}')) \n",
    "\n",
    "plt.ylabel(fr'${band}_{{{zpow}}}$')\n",
    "plt.xlabel(r'$cpe(z)$')\n",
    "sns.despine()\n",
    "plt.tick_params(length=0)\n",
    "# plt.text(7.25,0.07,f'rho: {np.round(r,3)} \\n p: {np.round(p_r,6)}',fontsize=16)\n",
    "\n"
   ]
  },
  {
   "cell_type": "code",
   "execution_count": null,
   "id": "0ba79036",
   "metadata": {},
   "outputs": [],
   "source": []
  },
  {
   "cell_type": "code",
   "execution_count": null,
   "id": "c4864820",
   "metadata": {},
   "outputs": [],
   "source": []
  },
  {
   "cell_type": "code",
   "execution_count": null,
   "id": "0f3fbbc0",
   "metadata": {},
   "outputs": [],
   "source": [
    "palette=dict(Low=\"#3f2755\", High=\"#054a6f\")\n",
    "# sns.move_legend(ax, \"lower center\", bbox_to_anchor=(.5, 1), ncol=3, title=None, frameon=False)\n"
   ]
  },
  {
   "cell_type": "code",
   "execution_count": null,
   "id": "49c8123e",
   "metadata": {},
   "outputs": [],
   "source": [
    "from scipy import stats\n",
    "# slope, intercept, r_value, p_value, std_err = stats.linregress(df.x,df.y)"
   ]
  },
  {
   "cell_type": "code",
   "execution_count": null,
   "id": "eb334420",
   "metadata": {},
   "outputs": [],
   "source": [
    "reg_df['Depression'] = ['High BDI' if bdi >=20 else 'Low BDI' for bdi in reg_df.bdi.tolist()]"
   ]
  },
  {
   "cell_type": "code",
   "execution_count": null,
   "id": "f4257b26",
   "metadata": {},
   "outputs": [],
   "source": [
    "# edgecolor=None,markerfirst=True,title=None,#title_fontsize='x-small',\n",
    "#                 markerscale=0.2,labelcolor=None"
   ]
  },
  {
   "cell_type": "code",
   "execution_count": null,
   "id": "a50002cc",
   "metadata": {},
   "outputs": [],
   "source": [
    "roi_order = ['dlpfc','vlpfc','ofc','ains','pins','acc','hpc','amy']"
   ]
  },
  {
   "cell_type": "code",
   "execution_count": null,
   "id": "e1f5bbab",
   "metadata": {},
   "outputs": [],
   "source": [
    "lmplot"
   ]
  },
  {
   "cell_type": "code",
   "execution_count": null,
   "id": "d83ccb07",
   "metadata": {},
   "outputs": [],
   "source": [
    "reg_df"
   ]
  },
  {
   "cell_type": "code",
   "execution_count": null,
   "id": "ed965db8",
   "metadata": {},
   "outputs": [],
   "source": [
    "lmplot = reg_df.copy()\n",
    "lmplot = lmplot.groupby('unique_reref_ch').agg('mean').reset_index()\n",
    "\n",
    "# beta_lmplot['Depressed'] = ['Low BDI' if bdi =< 20 else 'High BDI' for bdi in beta_lmplot.bdi]\n",
    "\n",
    "\n",
    "# beta_lmplot['raw_rt_coeff']  = [roi_bdi_plot_data[roi_bdi_plot_data.unique_reref_ch == elec][\n",
    "#     'raw_decisionCPE:band_pow'].values[0] for elec in beta_lmplot.unique_reref_ch]\n",
    "\n",
    "# beta_lmplot['elec_bCPE']  = [roi_bdi_plot_data[roi_bdi_plot_data.unique_reref_ch == elec][\n",
    "#     'elec_bCPE'].values[0] for elec in beta_lmplot.unique_reref_ch]\n",
    "\n",
    "lmplot['roi']  = [reg_df[reg_df.unique_reref_ch == elec][\n",
    "    'roi'].values[0] for elec in reg_df.unique_reref_ch]\n",
    "\n",
    "lmplot = lmplot[lmplot.roi.isin(roi_order)]\n",
    "\n",
    "lmplot"
   ]
  },
  {
   "cell_type": "code",
   "execution_count": null,
   "id": "ce3da504",
   "metadata": {},
   "outputs": [],
   "source": [
    "roi_not_ains = ['notIns' if roi != 'ains' else 'ains' for roi in reg_df.roi.tolist()]\n",
    "roi_not_ains"
   ]
  },
  {
   "cell_type": "code",
   "execution_count": null,
   "id": "33a97c4b",
   "metadata": {},
   "outputs": [],
   "source": [
    "reg_df['roi_not_ains'] = roi_not_ains"
   ]
  },
  {
   "cell_type": "code",
   "execution_count": null,
   "id": "76e6a7a7",
   "metadata": {},
   "outputs": [],
   "source": [
    "final_vars = ['C(GambleChoice)', 'TotalProfit', 'decisionCPE']\n"
   ]
  },
  {
   "cell_type": "code",
   "execution_count": null,
   "id": "c1ebde85",
   "metadata": {},
   "outputs": [],
   "source": [
    "\n",
    "final_fit = fit_mixed_model(reg_df,final_vars,outcome_var,rand_eff_var,reml=False)\n",
    "print(final_fit.summary())\n",
    "    "
   ]
  },
  {
   "cell_type": "code",
   "execution_count": null,
   "id": "0514d810",
   "metadata": {
    "scrolled": true
   },
   "outputs": [],
   "source": [
    "final_fit.pvalues['decisionCPE']"
   ]
  },
  {
   "cell_type": "code",
   "execution_count": null,
   "id": "8492928e",
   "metadata": {},
   "outputs": [],
   "source": [
    "mixed_effects_ftest_ttest(final_fit)"
   ]
  },
  {
   "cell_type": "code",
   "execution_count": null,
   "id": "c807ae1e",
   "metadata": {},
   "outputs": [],
   "source": [
    "fe_param_names = list(final_fit.fe_params.index[1:])\n",
    "fe_param_names"
   ]
  },
  {
   "cell_type": "code",
   "execution_count": null,
   "id": "e455378a",
   "metadata": {},
   "outputs": [],
   "source": [
    "plot_data = pd.concat([pd.DataFrame(\n",
    "    {**{'subj_id':elec_id.split('_')[0],'reref_ch_names':elec_id.split('_')[1]},'unique_reref_ch':elec_id,\n",
    "     **{f'raw_{param}':final_fit.random_effects[elec_id][param] for param in list(\n",
    "            final_fit.random_effects[elec_id].index)}},index=[range(len(fe_param_names))])\n",
    "        \n",
    "    for elec_id in final_fit.random_effects.keys()]).reset_index(drop=True)\n",
    "\n",
    "plot_data['roi'] = [reg_df.roi[reg_df.unique_reref_ch == row.unique_reref_ch].values[0]\n",
    "                                for idx,row in plot_data.iterrows()]\n",
    "\n",
    "plot_data['bdi'] = [subj_info_df.bdi[subj_info_df.subj_id == subj_id].values[0]\n",
    "                                for subj_id in plot_data.subj_id]"
   ]
  },
  {
   "cell_type": "code",
   "execution_count": null,
   "id": "3f839a88",
   "metadata": {},
   "outputs": [],
   "source": [
    "plot_data"
   ]
  },
  {
   "cell_type": "code",
   "execution_count": null,
   "id": "e9ebf197",
   "metadata": {},
   "outputs": [],
   "source": [
    "#### Get all results for Figs!!!!\n",
    "\n",
    "fe_intercept   = final_fit.params['Intercept']\n",
    "fe_cpe_beta    = final_fit.params['decisionCPE']\n",
    "fe_cpe_beta\n"
   ]
  },
  {
   "cell_type": "code",
   "execution_count": null,
   "id": "b2cf1d9f",
   "metadata": {},
   "outputs": [],
   "source": [
    "#### add fixed effects data to all_elec_plot_data\n",
    "plot_data['elec_b0']   = np.add(plot_data.raw_Group,fe_intercept)\n",
    "plot_data['elec_bCPE'] = np.add(plot_data.raw_decisionCPE,fe_cpe_beta)\n",
    "plot_data = plot_data[~plot_data.roi.isnull()]"
   ]
  },
  {
   "cell_type": "code",
   "execution_count": null,
   "id": "49d4f1e5",
   "metadata": {},
   "outputs": [],
   "source": [
    "plot_data"
   ]
  },
  {
   "cell_type": "code",
   "execution_count": null,
   "id": "1ce350fb",
   "metadata": {},
   "outputs": [],
   "source": [
    "raw_roi_stats = {f'{roi}':ttest_1samp(plot_data.raw_decisionCPE[plot_data.roi == roi].unique(),\n",
    "                 popmean=0) for roi in plot_data.roi.unique().tolist()}\n",
    "raw_roi_stats"
   ]
  },
  {
   "cell_type": "code",
   "execution_count": null,
   "id": "5c29f33c",
   "metadata": {},
   "outputs": [],
   "source": [
    "roi_stats = {f'{roi}':ttest_1samp(plot_data.elec_bCPE[plot_data.roi == roi].unique(),\n",
    "                 popmean=0) for roi in plot_data.roi.unique().tolist()}\n",
    "roi_stats"
   ]
  },
  {
   "cell_type": "code",
   "execution_count": null,
   "id": "dc23124a",
   "metadata": {},
   "outputs": [],
   "source": [
    "bonferr_alpha = 0.05/(len(plot_data.roi.unique().tolist()))\n",
    "bonferr_alpha"
   ]
  },
  {
   "cell_type": "code",
   "execution_count": null,
   "id": "28548e98",
   "metadata": {},
   "outputs": [],
   "source": [
    "print('sig ROIs after multiple comp correction: ',[(roi,raw_roi_stats[roi].pvalue) for roi in raw_roi_stats.keys()\n",
    "                                                   if raw_roi_stats[roi].pvalue< bonferr_alpha])\n",
    "# print('sig ROI pvals: ',roi_stats.roi_cpe_pval[roi_beta_results.roi_cpe_pval<=bonferr_alpha].unique().tolist())\n"
   ]
  },
  {
   "cell_type": "code",
   "execution_count": null,
   "id": "e750ec62",
   "metadata": {},
   "outputs": [],
   "source": [
    "print('sig ROIs after multiple comp correction: ',[(roi,roi_stats[roi].pvalue) for roi in roi_stats.keys()\n",
    "                                                   if roi_stats[roi].pvalue< bonferr_alpha])\n",
    "# print('sig ROI pvals: ',roi_stats.roi_cpe_pval[roi_beta_results.roi_cpe_pval<=bonferr_alpha].unique().tolist())\n",
    "\n",
    "\n"
   ]
  },
  {
   "cell_type": "code",
   "execution_count": null,
   "id": "c60f8481",
   "metadata": {},
   "outputs": [],
   "source": [
    "roi_stats.keys()"
   ]
  },
  {
   "cell_type": "code",
   "execution_count": null,
   "id": "30b16acd",
   "metadata": {},
   "outputs": [],
   "source": [
    "# roi_order = ['dlpfc','vlpfc','dmpfc','ofc','ains','pins','acc','hpc','amy','mtg','motor','thalamus']\n",
    "roi_order = ['dlpfc','vlpfc','dmpfc','ofc','ains','pins','acc','hpc','amy','mtg']"
   ]
  },
  {
   "cell_type": "code",
   "execution_count": null,
   "id": "b8d968cc",
   "metadata": {},
   "outputs": [],
   "source": [
    "roi_plot_data = plot_data.copy()\n",
    "roi_plot_data = roi_plot_data[roi_plot_data.roi.isin(roi_order)]\n",
    "\n",
    "# roi_plot_names = {'thalamus':'THAL','hpc':'HPC','amy':'AMY','acc':'ACC','ofc':'OFC','ains':'aINS',\n",
    "#                   'pins':'pINS','dmpfc':'dmPFC','dlpfc':'dlPFC','vlpfc':'vlPFC'}\n"
   ]
  },
  {
   "cell_type": "code",
   "execution_count": null,
   "id": "36ab9389",
   "metadata": {
    "scrolled": false
   },
   "outputs": [],
   "source": [
    "# roi_plot_data"
   ]
  },
  {
   "cell_type": "code",
   "execution_count": null,
   "id": "036d54f7",
   "metadata": {},
   "outputs": [],
   "source": [
    "sns.set_context(\"poster\",rc={'axes.linewidth': 1.5})\n",
    "fig,ax = plt.subplots(figsize=(15, 6),dpi=500)\n",
    "\n",
    "fig_save_dir = f'{base_dir}ephys_analysis/figs/{band}_regressions/'\n",
    "os.makedirs(fig_save_dir,exist_ok=True)\n",
    "\n",
    "sns.barplot(data = roi_plot_data,\n",
    "            x = 'roi',\n",
    "#             y = 'elec_bCPE',\n",
    "            y='raw_decisionCPE',\n",
    "#             color = '#561C46',\n",
    "#             color = '#00467e',\n",
    "#             color = '#346a97',\n",
    "            color = '#346a97',\n",
    "            saturation=1,\n",
    "            order=roi_order,\n",
    "            errorbar=None) \n",
    "\n",
    "\n",
    "sns.stripplot(data = roi_plot_data,\n",
    "            x = 'roi',\n",
    "#             y = 'elec_bCPE',\n",
    "              y='raw_decisionCPE',\n",
    "#               color='#78496b', \n",
    "              color = '#00467e',\n",
    "              alpha=.4,\n",
    "              dodge=True,\n",
    "              order=roi_order,\n",
    "              size = 8)\n",
    "\n",
    "ax.axhline(y=0,color='#00467e',linewidth=1.5)\n",
    "plt.tick_params(length=0 )#,grid_linewidth=1)\n",
    "\n",
    "# plt.ylim([-0.05,0.05])\n",
    "ax.set(xlabel=None)\n",
    "# plt.ylabel('CPE Encoding in Beta Power (z)')\n",
    "# plt.ylabel('beta(z) cpe encoding')\n",
    "plt.ylabel(fr'${band}_{{{zpow}}}$'+ ' cpe encoding')\n",
    "# plt.gca().yaxis.set_major_formatter(StrMethodFormatter('{x:,.3f}')) \n",
    "# plt.locator_params(axis='y', nbins=5,tight=True)\n",
    "\n",
    "\n",
    "sns.despine()\n",
    "    \n",
    "plt.savefig(f'{fig_save_dir}/Bpow_CPE_barplot_{date}.pdf', format='pdf', metadata=None,\n",
    "bbox_inches=None, pad_inches=0.1,dpi=500,\n",
    "facecolor='auto', edgecolor='auto',\n",
    "backend=None)\n"
   ]
  },
  {
   "cell_type": "code",
   "execution_count": null,
   "id": "6d426e85",
   "metadata": {},
   "outputs": [],
   "source": [
    "rho_data = []\n",
    "sig_rho = []\n",
    "\n",
    "# BDI CORRELATIONS\n",
    "for roi in plot_data.roi.unique().tolist()[:-1]:\n",
    "    roi_temp_data = plot_data[plot_data.roi==roi]\n",
    "    rho,rho_p     = pearsonr(roi_temp_data.bdi,roi_temp_data.raw_decisionCPE)\n",
    "#     rho,rho_p     = pearsonr(roi_temp_data.bdi,roi_temp_data.elec_bCPE)\n",
    "#     print(f'{roi} pearsonr',rho,rho_p)\n",
    "    rho_data.append(pd.DataFrame({'roi':roi,'rho':rho,'rho_p':rho_p},index=[0]))\n",
    "#     if rho_p <= bonferr_alpha:\n",
    "#         sig_bdi_rois.append(roi)\n",
    "    if rho_p < bonferr_alpha: \n",
    "        sig_rho.append((roi,rho,rho_p))\n",
    "    print(f'{roi} pearsonr',rho,rho_p)\n",
    "rho_data = pd.concat(rho_data).reset_index(drop=True)\n"
   ]
  },
  {
   "cell_type": "code",
   "execution_count": null,
   "id": "a961a06c",
   "metadata": {},
   "outputs": [],
   "source": [
    "sig_rho"
   ]
  },
  {
   "cell_type": "code",
   "execution_count": null,
   "id": "e57580e7",
   "metadata": {},
   "outputs": [],
   "source": [
    "rho_data['plot_p'] = [0.001 if roi.rho_p < 0.001 else np.round(roi.rho_p,4) for ix,roi in rho_data.iterrows()]"
   ]
  },
  {
   "cell_type": "code",
   "execution_count": null,
   "id": "66c97818",
   "metadata": {
    "scrolled": true
   },
   "outputs": [],
   "source": [
    "new_plot_ps = []\n",
    "for p in rho_data['plot_p']:\n",
    "    new_p = 0\n",
    "    \n",
    "    for ix,val in enumerate(str(p)):\n",
    "        if val == '0':\n",
    "            continue\n",
    "        elif val == '.':\n",
    "            continue\n",
    "        else: \n",
    "#             print(ix,val)\n",
    "            new_p = str(p)[:ix+1]\n",
    "            break\n",
    "            \n",
    "            \n",
    "\n",
    "    new_plot_ps.append(float(new_p))\n",
    "#         print(val)"
   ]
  },
  {
   "cell_type": "code",
   "execution_count": null,
   "id": "3912a60f",
   "metadata": {},
   "outputs": [],
   "source": [
    "rho_data['round_p']   = new_plot_ps\n",
    "rho_data['round_rho'] = np.round(rho_data.rho,2)\n",
    "rho_data"
   ]
  },
  {
   "cell_type": "code",
   "execution_count": null,
   "id": "e93fa32a",
   "metadata": {},
   "outputs": [],
   "source": []
  },
  {
   "cell_type": "code",
   "execution_count": null,
   "id": "e8712d81",
   "metadata": {
    "scrolled": false
   },
   "outputs": [],
   "source": [
    "\n",
    "sns.set_context(\"poster\",rc={'axes.linewidth': 1.5})\n",
    "\n",
    "for roi in plot_data.roi.unique().tolist()[:-1]:\n",
    "    roi_temp_data = plot_data[plot_data.roi==roi]\n",
    "\n",
    "    rho   = rho_data[rho_data.roi == roi].round_rho.values[0]\n",
    "    rho_p = rho_data[rho_data.roi == roi].round_p.values[0]\n",
    "    \n",
    "        \n",
    "    fig = plt.figure(figsize=(7,5),dpi=300)\n",
    "\n",
    "    sns.regplot(data=roi_temp_data,x='bdi',y='raw_decisionCPE',scatter=False,ci=95,\n",
    "                fit_reg=True,color = '#00467e') #034975\n",
    "    \n",
    "    sns.scatterplot(data = roi_temp_data.groupby(['subj_id']).agg('mean'),x='bdi',\n",
    "                    y='raw_decisionCPE',color = '#00467e',edgecolor=None,alpha=0.8)\n",
    "    \n",
    "#     plt.gca().yaxis.set_major_formatter(StrMethodFormatter('{x:,.2f}')) \n",
    "    plt.xlabel('BDI-II')\n",
    "    \n",
    "    plt.tick_params(length=0) \n",
    "    plt.ylabel(band+r'$_{{{zpow}}}$'+' cpe encoding')\n",
    "\n",
    "    plt.text(np.max(roi_temp_data.bdi)-8,\n",
    "             np.round(np.max(roi_temp_data.groupby(['subj_id']).agg('mean').raw_decisionCPE),3)-0.003,\n",
    "             r'$rho$ = '+f'{rho} '+'\\n '+r'$p < $'+f'{rho_p}',\n",
    "             color='#00467e',fontsize=16)\n",
    "\n",
    "    plt.title(f'{roi}',fontsize=24)\n",
    "\n",
    "\n",
    "    \n",
    "    sns.despine()\n",
    "    \n",
    "    plt.savefig(f'{fig_save_dir}/{roi}_{rho}_{rho_p}_roi_bdi_{band}-cpe-slope.pdf', format='pdf', metadata=None,\n",
    "        bbox_inches='tight', pad_inches=0.1,dpi=300,\n",
    "        facecolor='auto', edgecolor='auto',\n",
    "        backend=None)\n",
    "    "
   ]
  },
  {
   "cell_type": "code",
   "execution_count": null,
   "id": "31231b35",
   "metadata": {},
   "outputs": [],
   "source": []
  },
  {
   "cell_type": "markdown",
   "id": "548a813f",
   "metadata": {},
   "source": [
    "# BDI Interaction\n",
    "- Rerun final mixed effects model on each ROI separately\n",
    "- Correlate random effects slopes for each regressor with BDI"
   ]
  },
  {
   "cell_type": "code",
   "execution_count": null,
   "id": "45125515",
   "metadata": {},
   "outputs": [],
   "source": [
    "rand_eff_var = 'unique_reref_ch'\n"
   ]
  },
  {
   "cell_type": "code",
   "execution_count": null,
   "id": "fc3f279e",
   "metadata": {
    "scrolled": false
   },
   "outputs": [],
   "source": [
    "reg_df"
   ]
  },
  {
   "cell_type": "code",
   "execution_count": null,
   "id": "403b63d6",
   "metadata": {},
   "outputs": [],
   "source": [
    "bdi_vars    = ['decisionCPE','bdi','decisionCPE:bdi']\n",
    "outcome_var = 'band_pow'\n",
    "\n",
    "bdi_fit = fit_mixed_model(reg_df,bdi_vars,outcome_var,rand_eff_var,reml=False)\n",
    "print(bdi_fit.summary())\n",
    "    "
   ]
  },
  {
   "cell_type": "code",
   "execution_count": null,
   "id": "0be82922",
   "metadata": {},
   "outputs": [],
   "source": []
  },
  {
   "cell_type": "code",
   "execution_count": null,
   "id": "5c3ea595",
   "metadata": {},
   "outputs": [],
   "source": [
    "fe_param_names = list(bdi_fit.fe_params.index[1:])\n",
    "fe_param_names"
   ]
  },
  {
   "cell_type": "code",
   "execution_count": null,
   "id": "b9809e28",
   "metadata": {},
   "outputs": [],
   "source": [
    "bdi_plot_data = pd.concat([pd.DataFrame(\n",
    "    {**{'subj_id':elec_id.split('_')[0],'reref_ch_names':elec_id.split('_')[1]},'unique_reref_ch':elec_id,\n",
    "     **{f'raw_{param}':bdi_fit.random_effects[elec_id][param] for param in list(\n",
    "            bdi_fit.random_effects[elec_id].index)}},index=[range(len(fe_param_names))])\n",
    "        \n",
    "    for elec_id in bdi_fit.random_effects.keys()]).reset_index(drop=True)\n",
    "\n",
    "bdi_plot_data['roi'] = [reg_df.roi[reg_df.unique_reref_ch == row.unique_reref_ch].values[0]\n",
    "                                for idx,row in bdi_plot_data.iterrows()]\n",
    "\n",
    "bdi_plot_data['bdi'] = [subj_info_df.bdi[subj_info_df.subj_id == subj_id].values[0]\n",
    "                                for subj_id in bdi_plot_data.subj_id]"
   ]
  },
  {
   "cell_type": "code",
   "execution_count": null,
   "id": "6f4ae250",
   "metadata": {},
   "outputs": [],
   "source": [
    "bdi_plot_data"
   ]
  },
  {
   "cell_type": "code",
   "execution_count": null,
   "id": "a02df551",
   "metadata": {},
   "outputs": [],
   "source": [
    "#### Get all results for Figs!!!!\n",
    "\n",
    "fe_intercept   = bdi_fit.params['Intercept']\n",
    "fe_cpe_beta    = bdi_fit.params['decisionCPE:bdi']\n",
    "fe_cpe_beta\n"
   ]
  },
  {
   "cell_type": "code",
   "execution_count": null,
   "id": "0bdada99",
   "metadata": {},
   "outputs": [],
   "source": [
    "#### add fixed effects data to all_elec_plot_data\n",
    "bdi_plot_data['elec_b0']   = np.add(bdi_plot_data.raw_Group,fe_intercept)\n",
    "bdi_plot_data['elec_bCPE'] = np.add(bdi_plot_data['raw_decisionCPE:bdi'],fe_cpe_beta)\n",
    "bdi_plot_data = bdi_plot_data[~bdi_plot_data.roi.isnull()]"
   ]
  },
  {
   "cell_type": "code",
   "execution_count": null,
   "id": "523a0be6",
   "metadata": {},
   "outputs": [],
   "source": [
    "bdi_plot_data"
   ]
  },
  {
   "cell_type": "code",
   "execution_count": null,
   "id": "6e5966db",
   "metadata": {},
   "outputs": [],
   "source": [
    "# raw_bdi\n",
    "\n",
    "raw_roi_stats = {f'{roi}':ttest_1samp(bdi_plot_data['raw_bdi'][bdi_plot_data.roi == roi].unique(),\n",
    "                 popmean=0) for roi in bdi_plot_data.roi.unique().tolist()}\n",
    "raw_roi_stats"
   ]
  },
  {
   "cell_type": "code",
   "execution_count": null,
   "id": "4da8352e",
   "metadata": {},
   "outputs": [],
   "source": [
    "raw_roi_stats = {f'{roi}':ttest_1samp(bdi_plot_data['raw_decisionCPE:bdi'][bdi_plot_data.roi == roi].unique(),\n",
    "                 popmean=0) for roi in bdi_plot_data.roi.unique().tolist()}\n",
    "raw_roi_stats"
   ]
  },
  {
   "cell_type": "code",
   "execution_count": null,
   "id": "7bb53c9e",
   "metadata": {},
   "outputs": [],
   "source": [
    "roi_stats = {f'{roi}':ttest_1samp(bdi_plot_data.elec_bCPE[bdi_plot_data.roi == roi].unique(),\n",
    "                 popmean=0) for roi in bdi_plot_data.roi.unique().tolist()}\n",
    "roi_stats"
   ]
  },
  {
   "cell_type": "code",
   "execution_count": null,
   "id": "30dcad6d",
   "metadata": {},
   "outputs": [],
   "source": [
    "bonferr_alpha = 0.05/len(roi_stats)\n",
    "# bonferr_alpha = 0.05/len(bdi_plot_data.roi.unique().tolist())\n",
    "bonferr_alpha"
   ]
  },
  {
   "cell_type": "code",
   "execution_count": null,
   "id": "2dc9c1ba",
   "metadata": {},
   "outputs": [],
   "source": [
    "print('sig ROIs after multiple comp correction: ',[(roi,raw_roi_stats[roi].pvalue) for roi in raw_roi_stats.keys()\n",
    "                                                   if raw_roi_stats[roi].pvalue< bonferr_alpha])\n",
    "# print('sig ROI pvals: ',roi_stats.roi_cpe_pval[roi_beta_results.roi_cpe_pval<=bonferr_alpha].unique().tolist())\n"
   ]
  },
  {
   "cell_type": "code",
   "execution_count": null,
   "id": "965f4f44",
   "metadata": {},
   "outputs": [],
   "source": [
    "print('sig ROIs after multiple comp correction: ',[(roi,roi_stats[roi].pvalue) for roi in roi_stats.keys()\n",
    "                                                   if roi_stats[roi].pvalue< bonferr_alpha])\n",
    "# print('sig ROI pvals: ',roi_stats.roi_cpe_pval[roi_beta_results.roi_cpe_pval<=bonferr_alpha].unique().tolist())\n",
    "\n",
    "\n"
   ]
  },
  {
   "cell_type": "code",
   "execution_count": null,
   "id": "c5243c2c",
   "metadata": {},
   "outputs": [],
   "source": [
    "roi_stats"
   ]
  },
  {
   "cell_type": "code",
   "execution_count": null,
   "id": "609a0c44",
   "metadata": {},
   "outputs": [],
   "source": [
    "roi_stats.keys()"
   ]
  },
  {
   "cell_type": "code",
   "execution_count": null,
   "id": "364b9733",
   "metadata": {},
   "outputs": [],
   "source": [
    "# roi_order = ['dlpfc','vlpfc','dmpfc','ofc','ains','pins','acc','hpc','amy','mtg','motor','thalamus']\n",
    "roi_order = ['dlpfc','vlpfc','dmpfc','ofc','ains','pins','acc','hpc','amy']"
   ]
  },
  {
   "cell_type": "code",
   "execution_count": null,
   "id": "b9a6bce9",
   "metadata": {},
   "outputs": [],
   "source": [
    "roi_bdi_plot_data = bdi_plot_data.copy()\n",
    "roi_bdi_plot_data = roi_bdi_plot_data[roi_bdi_plot_data.roi.isin(roi_order)]\n",
    "\n",
    "# roi_plot_names = {'thalamus':'THAL','hpc':'HPC','amy':'AMY','acc':'ACC','ofc':'OFC','ains':'aINS',\n",
    "#                   'pins':'pINS','dmpfc':'dmPFC','dlpfc':'dlPFC','vlpfc':'vlPFC'}\n"
   ]
  },
  {
   "cell_type": "code",
   "execution_count": null,
   "id": "72fe9dd5",
   "metadata": {},
   "outputs": [],
   "source": [
    "roi_bdi_plot_data['raw_decisionCPE:bdi']"
   ]
  },
  {
   "cell_type": "code",
   "execution_count": null,
   "id": "94a25e08",
   "metadata": {},
   "outputs": [],
   "source": [
    "sns.set_context(\"poster\")\n",
    "fig,ax = plt.subplots(figsize=(15, 6),dpi=500)\n",
    "\n",
    "fig_save_dir = f'{base_dir}ephys_analysis/figs/{band}_regressions/'\n",
    "os.makedirs(fig_save_dir,exist_ok=True)\n",
    "\n",
    "sns.barplot(data = roi_bdi_plot_data,\n",
    "            x = 'roi',\n",
    "            y = 'raw_decisionCPE:bdi',\n",
    "#             y='elec_bCPE',\n",
    "            color = '#561C46', #173b6f\n",
    "            saturation=0.8,\n",
    "            order=roi_order,\n",
    "            errorbar=None) \n",
    "\n",
    "\n",
    "sns.stripplot(data = roi_bdi_plot_data,\n",
    "            x = 'roi',\n",
    "            y = 'raw_decisionCPE:bdi',\n",
    "              color = '#561C46',\n",
    "              alpha=.4,\n",
    "              dodge=True,\n",
    "              order=roi_order,\n",
    "              size = 8)\n",
    "\n",
    "ax.axhline(y=0,color='#561C46',linewidth=1.5)\n",
    "plt.tick_params(length=0 )#,grid_linewidth=1)\n",
    "\n",
    "# plt.ylim([-0.02,0.017])\n",
    "ax.set(xlabel=None)\n",
    "\n",
    "plt.ylabel(fr'${band}_{{{zpow}}} \\sim cpe:bdi$')\n",
    "# plt.gca().yaxis.set_major_formatter(StrMethodFormatter('{x:,.3f}')) \n",
    "plt.locator_params(axis='y', nbins=6,tight=True)\n",
    "\n",
    "\n",
    "\n",
    "sns.despine()\n",
    "    \n",
    "plt.savefig(f'{fig_save_dir}/{band}pow_CPEBDIINT{date}.pdf', format='pdf', metadata=None,\n",
    "bbox_inches=None, pad_inches=0.1,dpi=500,\n",
    "facecolor='auto', edgecolor='auto',\n",
    "backend=None)"
   ]
  },
  {
   "cell_type": "code",
   "execution_count": null,
   "id": "87e08260",
   "metadata": {},
   "outputs": [],
   "source": [
    "####### BDI ~ BPOW SIG FOR THESE ROIS!!!"
   ]
  },
  {
   "cell_type": "code",
   "execution_count": null,
   "id": "e88238b6",
   "metadata": {},
   "outputs": [],
   "source": [
    "print('sig ROIs after multiple comp correction: ',[(roi,raw_roi_stats[roi].pvalue) for roi in raw_roi_stats.keys()\n",
    "                                                   if raw_roi_stats[roi].pvalue< bonferr_alpha])\n",
    "# print('sig ROI pvals: ',roi_stats.roi_cpe_pval[roi_beta_results.roi_cpe_pval<=bonferr_alpha].unique().tolist())\n"
   ]
  },
  {
   "cell_type": "code",
   "execution_count": null,
   "id": "c9a8a7cd",
   "metadata": {},
   "outputs": [],
   "source": [
    "roi_bdi_plot_data"
   ]
  },
  {
   "cell_type": "code",
   "execution_count": null,
   "id": "38e9e2c7",
   "metadata": {},
   "outputs": [],
   "source": [
    "print('sig ROIs after multiple comp correction: ',[(roi,ttest_1samp(roi_bdi_plot_data[\n",
    "    roi_bdi_plot_data.roi == roi]['raw_decisionCPE:bdi'].to_numpy(),\n",
    "                                     popmean=0).pvalue) for roi in roi_bdi_plot_data.roi.unique().tolist()\n",
    "                                                  if ttest_1samp(roi_bdi_plot_data[\n",
    "    roi_bdi_plot_data.roi == roi]['raw_decisionCPE:bdi'].to_numpy(),\n",
    "                                     popmean=0).pvalue < bonferr_alpha])\n",
    "\n",
    "\n"
   ]
  },
  {
   "cell_type": "code",
   "execution_count": null,
   "id": "09f548d1",
   "metadata": {},
   "outputs": [],
   "source": [
    "print('sig ROIs after multiple comp correction: ',[(roi,ttest_1samp(roi_bdi_plot_data[\n",
    "    roi_bdi_plot_data.roi == roi]['raw_bdi'].to_numpy(),\n",
    "                                     popmean=0).pvalue) for roi in roi_bdi_plot_data.roi.unique().tolist()\n",
    "                                                  if ttest_1samp(roi_bdi_plot_data[\n",
    "    roi_bdi_plot_data.roi == roi]['raw_bdi'].to_numpy(),\n",
    "                                     popmean=0).pvalue < bonferr_alpha])\n",
    "\n",
    "\n"
   ]
  },
  {
   "cell_type": "code",
   "execution_count": null,
   "id": "f1dd4136",
   "metadata": {},
   "outputs": [],
   "source": [
    "sns.set_context(\"poster\")\n",
    "fig,ax = plt.subplots(figsize=(15, 6),dpi=500)\n",
    "\n",
    "fig_save_dir = f'{base_dir}ephys_analysis/figs/{band}_regressions/'\n",
    "os.makedirs(fig_save_dir,exist_ok=True)\n",
    "\n",
    "sns.barplot(data = roi_bdi_plot_data,\n",
    "            x = 'roi',\n",
    "            y = 'raw_bdi',\n",
    "#             y='elec_bCPE',\n",
    "            color = '#173b6f', #173b6f\n",
    "            saturation=0.8,\n",
    "            order=roi_order,\n",
    "            errorbar=None) \n",
    "\n",
    "\n",
    "sns.stripplot(data = roi_bdi_plot_data,\n",
    "            x = 'roi',\n",
    "            y = 'raw_bdi',\n",
    "              color = '#173b6f',\n",
    "              alpha=.4,\n",
    "              dodge=True,\n",
    "              order=roi_order,\n",
    "              size = 8)\n",
    "\n",
    "ax.axhline(y=0,color='#173b6f',linewidth=1.5)\n",
    "plt.tick_params(length=0 )#,grid_linewidth=1)\n",
    "\n",
    "# plt.ylim([-0.02,0.017])\n",
    "ax.set(xlabel=None)\n",
    "\n",
    "# plt.ylabel(r'$beta_{{{zpow}}} \\sim cpe:bdi$')\n",
    "plt.ylabel(fr'${band}_{{{zpow}}} \\sim bdi$')\n",
    "# plt.gca().yaxis.set_major_formatter(StrMethodFormatter('{x:,.3f}')) \n",
    "plt.locator_params(axis='y', nbins=6,tight=True)\n",
    "\n",
    "\n",
    "\n",
    "sns.despine()\n",
    "    \n",
    "plt.savefig(f'{fig_save_dir}/{band}POW~BDIbyROI{date}.pdf', format='pdf', metadata=None,\n",
    "bbox_inches=None, pad_inches=0.1,dpi=500,\n",
    "facecolor='auto', edgecolor='auto',\n",
    "backend=None)"
   ]
  },
  {
   "cell_type": "code",
   "execution_count": null,
   "id": "aeade1f2",
   "metadata": {},
   "outputs": [],
   "source": []
  },
  {
   "cell_type": "code",
   "execution_count": null,
   "id": "3e4336a0",
   "metadata": {},
   "outputs": [],
   "source": []
  },
  {
   "cell_type": "code",
   "execution_count": null,
   "id": "f2d93add",
   "metadata": {},
   "outputs": [],
   "source": []
  },
  {
   "cell_type": "code",
   "execution_count": null,
   "id": "e91fc596",
   "metadata": {
    "scrolled": false
   },
   "outputs": [],
   "source": [
    "roi_bdi_plot_data"
   ]
  },
  {
   "cell_type": "code",
   "execution_count": null,
   "id": "4076584e",
   "metadata": {},
   "outputs": [],
   "source": [
    "# roi_order = ['dlpfc','vlpfc','dmpfc','ofc','ains','pins','acc','hpc','amy']"
   ]
  },
  {
   "cell_type": "code",
   "execution_count": null,
   "id": "fb705f53",
   "metadata": {},
   "outputs": [],
   "source": [
    "reg_df.groupby('roi')"
   ]
  },
  {
   "cell_type": "code",
   "execution_count": null,
   "id": "996ee4b8",
   "metadata": {
    "scrolled": true
   },
   "outputs": [],
   "source": [
    "reg_df['BDI-II'] = ['Low' if bdi<20 else 'High' for bdi in reg_df.bdi]\n",
    "reg_df"
   ]
  },
  {
   "cell_type": "code",
   "execution_count": null,
   "id": "7d9e1740",
   "metadata": {},
   "outputs": [],
   "source": [
    "palette=dict(Low=\"#3f2755\", High=\"#054a6f\")\n",
    "# sns.move_legend(ax, \"lower center\", bbox_to_anchor=(.5, 1), ncol=3, title=None, frameon=False)\n"
   ]
  },
  {
   "cell_type": "code",
   "execution_count": null,
   "id": "859789ea",
   "metadata": {},
   "outputs": [],
   "source": [
    "from scipy import stats\n",
    "slope, intercept, r_value, p_value, std_err = stats.linregress(df.x,df.y)"
   ]
  },
  {
   "cell_type": "code",
   "execution_count": null,
   "id": "d58c90f0",
   "metadata": {},
   "outputs": [],
   "source": [
    "# reg_df['Depression'] = ['depressed' if bdi >=20 else 'not depressed' for bdi in reg_df.bdi.tolist()]\n",
    "reg_df['Depression'] = ['high BDI' if bdi >=20 else 'low BDI' for bdi in reg_df.bdi.tolist()]"
   ]
  },
  {
   "cell_type": "code",
   "execution_count": null,
   "id": "1813cfbb",
   "metadata": {},
   "outputs": [],
   "source": [
    "# edgecolor=None,markerfirst=True,title=None,#title_fontsize='x-small',\n",
    "#                 markerscale=0.2,labelcolor=None"
   ]
  },
  {
   "cell_type": "code",
   "execution_count": null,
   "id": "275e1a06",
   "metadata": {},
   "outputs": [],
   "source": []
  },
  {
   "cell_type": "code",
   "execution_count": null,
   "id": "9e9f2f7d",
   "metadata": {},
   "outputs": [],
   "source": [
    "reg_df.roi.unique().tolist()"
   ]
  },
  {
   "cell_type": "markdown",
   "id": "e4d7f782",
   "metadata": {},
   "source": [
    "# INTERACTION FEATURE SELECTION"
   ]
  },
  {
   "cell_type": "code",
   "execution_count": null,
   "id": "ea4fdaf5",
   "metadata": {},
   "outputs": [],
   "source": [
    "######## make all possible variable combinations for regressions \n",
    "main_var  = ['decisionCPE','band_pow','decisionCPE:band_pow']\n",
    "\n",
    "### iter vars for RT prediction dfs > \n",
    "iter_vars = ['C(GambleChoice)','TrialEV','TotalProfit',\n",
    "             'C(GambleChoice_t1)','TrialEV_t1']\n"
   ]
  },
  {
   "cell_type": "code",
   "execution_count": null,
   "id": "78a8d854",
   "metadata": {},
   "outputs": [],
   "source": [
    "iter_vars"
   ]
  },
  {
   "cell_type": "code",
   "execution_count": null,
   "id": "d5be8f86",
   "metadata": {},
   "outputs": [],
   "source": [
    "var_combos = [[v]+main_var for v in iter_vars]\n",
    "\n",
    "for i in range(1,len(iter_vars)-1):\n",
    "    iter_list = [list(tup)+main_var for tup in list(itertools.combinations(iter_vars,i+1))]\n",
    "    var_combos.extend(iter_list)\n",
    "\n",
    "# remove var combos that contain Choice + Trial Type for the *same trial* only bc they are collinear\n",
    "var_combos = [combo for combo in var_combos if ('C(GambleChoice_t1)' in combo and 'C(TrialType_t1)' not in combo)|\n",
    "              ('C(GambleChoice_t1)' not in combo and 'C(TrialType_t1)' in combo)|('C(GambleChoice_t1)'not in combo and 'C(TrialType_t1)' not in combo)]\n",
    "\n",
    "var_combos = [combo for combo in var_combos if ('C(GambleChoice)' in combo and 'C(TrialType)' not in combo)|\n",
    "              ('C(GambleChoice)' not in combo and 'C(TrialType)' in combo)|('C(GambleChoice)'not in combo and 'C(TrialType)' not in combo)]\n",
    "\n",
    "\n",
    "var_combos = [combo for combo in var_combos if ('C(GambleChoice)' in combo and 'TrialEV' not in combo)|\n",
    "              ('C(GambleChoice)' not in combo and 'TrialEV' in combo)|('C(GambleChoice)'not in combo and 'TrialEV' not in combo)]\n",
    "\n",
    "\n",
    "var_combos = [combo for combo in var_combos if ('TrialEV' in combo and 'C(TrialType)' not in combo)|\n",
    "              ('TrialEV' not in combo and 'C(TrialType)' in combo)|('TrialEV'not in combo and 'C(TrialType)' not in combo)]\n",
    "\n",
    "var_combos = [combo for combo in var_combos if ('C(GambleChoice_t1)' in combo and 'TrialEV_t1' not in combo)|\n",
    "              ('C(GambleChoice_t1)' not in combo and 'TrialEV_t1' in combo)|('C(GambleChoice_t1)'not in combo and 'TrialEV_t1' not in combo)]\n",
    "\n",
    "var_combos = [combo for combo in var_combos if ('TrialEV_t1' in combo and 'C(TrialType_t1)' not in combo)|\n",
    "              ('TrialEV_t1' not in combo and 'C(TrialType_t1)' in combo)|('TrialEV_t1'not in combo and 'C(TrialType_t1)' not in combo)]\n",
    "var_combos"
   ]
  },
  {
   "cell_type": "code",
   "execution_count": null,
   "id": "87eed292",
   "metadata": {},
   "outputs": [],
   "source": [
    "len(var_combos)"
   ]
  },
  {
   "cell_type": "code",
   "execution_count": null,
   "id": "5a8a5edd",
   "metadata": {
    "scrolled": false
   },
   "outputs": [],
   "source": [
    "# import time \n",
    "start = time.time() # start timer\n",
    "\n",
    "all_models = {}\n",
    "all_rsq    = {}\n",
    "all_stats  = {}\n",
    "all_keys   = {}\n",
    "no_conv    = []\n",
    "\n",
    "for test_vars in var_combos:\n",
    "    model_key = ''.join(test_vars[:-1]) ### make string of covariate var names to use as dict key\n",
    "    model_fit = fit_mixed_model(reg_df,test_vars,outcome_var,rand_eff_var,reml=False)\n",
    "    # check if model converged\n",
    "    if model_fit.converged:\n",
    "        \n",
    "        print(model_key,' converged!')\n",
    "        \n",
    "        all_models[model_key] = model_fit\n",
    "        all_rsq[model_key]    = compute_marginal_rsq(model_fit)\n",
    "        all_stats[model_key]  = mixed_effects_ftest_ttest(model_fit)\n",
    "        all_keys[model_key]   = test_vars\n",
    "        \n",
    "    else:\n",
    "        print(model_key,' did not converge :(')\n",
    "        no_conv.append(model_key)\n",
    "    del model_fit\n",
    "\n",
    "end = time.time()\n",
    "print('{:.4f} s'.format(end-start)) # print time elapsed for computation (approx 20 seconds per channel)    "
   ]
  },
  {
   "cell_type": "code",
   "execution_count": null,
   "id": "14488cf7",
   "metadata": {},
   "outputs": [],
   "source": [
    "no_conv"
   ]
  },
  {
   "cell_type": "code",
   "execution_count": null,
   "id": "00ae0057",
   "metadata": {},
   "outputs": [],
   "source": [
    "list(all_models.keys())"
   ]
  },
  {
   "cell_type": "code",
   "execution_count": null,
   "id": "41339324",
   "metadata": {},
   "outputs": [],
   "source": [
    "all_models['TrialEVdecisionCPEband_pow'].bic"
   ]
  },
  {
   "cell_type": "code",
   "execution_count": null,
   "id": "65c6371a",
   "metadata": {},
   "outputs": [],
   "source": [
    "model_summary = {key:all_models[key].bic for key in all_models.keys()}\n",
    "model_summary"
   ]
  },
  {
   "cell_type": "code",
   "execution_count": null,
   "id": "9ed46759",
   "metadata": {},
   "outputs": [],
   "source": [
    "bic_list = [model_summary[key] for key in model_summary.keys()]\n",
    "bic_list.sort()\n",
    "\n",
    "ordered_list = [list(model_summary.keys())[np.where(list(model_summary.values()) == bic)[0][0]] for bic in bic_list]\n",
    "list(zip(ordered_list,bic_list))\n"
   ]
  },
  {
   "cell_type": "code",
   "execution_count": null,
   "id": "08055686",
   "metadata": {},
   "outputs": [],
   "source": [
    "all_models['TotalProfitTrialEV_t1decisionCPEband_pow'].pvalues"
   ]
  },
  {
   "cell_type": "code",
   "execution_count": null,
   "id": "e725e449",
   "metadata": {},
   "outputs": [],
   "source": [
    "[(key,bic,all_models[key].pvalues['decisionCPE:band_pow']) for key,bic in list(zip(ordered_list,bic_list))]  \n"
   ]
  },
  {
   "cell_type": "code",
   "execution_count": null,
   "id": "bf5b6eba",
   "metadata": {},
   "outputs": [],
   "source": [
    "print('worst bic model: ',list(model_summary.keys())[np.where(list(model_summary.values())==np.max(list(model_summary.values())))[0][0]])\n"
   ]
  },
  {
   "cell_type": "code",
   "execution_count": null,
   "id": "bc355cdc",
   "metadata": {},
   "outputs": [],
   "source": [
    "print('best bic model: ',list(model_summary.keys())[np.where(list(model_summary.values())==np.min(list(model_summary.values())))[0][0]])\n"
   ]
  },
  {
   "cell_type": "code",
   "execution_count": null,
   "id": "c31cf512",
   "metadata": {
    "scrolled": false
   },
   "outputs": [],
   "source": [
    "print(list(model_summary.keys())[np.where(list(model_summary.values())==np.min(list(model_summary.values())))[0][0]])\n",
    "print(np.min(list(model_summary.values())))\n",
    "      \n",
    "      "
   ]
  },
  {
   "cell_type": "code",
   "execution_count": null,
   "id": "d8def74c",
   "metadata": {},
   "outputs": [],
   "source": [
    "[(key,all_models[key].pvalues['decisionCPE:band_pow']) for key in ordered_list if all_models[key].pvalues['decisionCPE:band_pow'] < 0.05]  \n",
    "\n"
   ]
  },
  {
   "cell_type": "code",
   "execution_count": null,
   "id": "79b41c35",
   "metadata": {},
   "outputs": [],
   "source": [
    "[(key,all_models[key].pvalues['decisionCPE:band_pow']) for key in ordered_list if all_models[key].pvalues['decisionCPE:band_pow'] > 0.05]  \n"
   ]
  },
  {
   "cell_type": "code",
   "execution_count": null,
   "id": "792371ec",
   "metadata": {},
   "outputs": [],
   "source": [
    "all_models['TrialEVTotalProfitdecisionCPEband_pow'].pvalues"
   ]
  },
  {
   "cell_type": "code",
   "execution_count": null,
   "id": "b1a9138c",
   "metadata": {},
   "outputs": [],
   "source": [
    "all_models['TrialEVTotalProfitdecisionCPEband_pow'].params"
   ]
  },
  {
   "cell_type": "code",
   "execution_count": null,
   "id": "0b0871c0",
   "metadata": {},
   "outputs": [],
   "source": [
    "all_models['TotalProfitTrialEV_t1decisionCPEband_pow'].summary()"
   ]
  },
  {
   "cell_type": "code",
   "execution_count": null,
   "id": "18b5a324",
   "metadata": {},
   "outputs": [],
   "source": [
    "all_rsq"
   ]
  },
  {
   "cell_type": "code",
   "execution_count": null,
   "id": "4da0e562",
   "metadata": {},
   "outputs": [],
   "source": [
    "all_models"
   ]
  },
  {
   "cell_type": "code",
   "execution_count": null,
   "id": "8ecf9c45",
   "metadata": {},
   "outputs": [],
   "source": [
    "all_stats['TrialEVdecisionCPEband_pow']"
   ]
  },
  {
   "cell_type": "code",
   "execution_count": null,
   "id": "8a98dd34",
   "metadata": {},
   "outputs": [],
   "source": [
    "all_stats"
   ]
  },
  {
   "cell_type": "code",
   "execution_count": null,
   "id": "a8f98921",
   "metadata": {},
   "outputs": [],
   "source": [
    "#### FOR NOW JUST SAVE CPE STATS!\n",
    "t_test_results_summary = [pd.DataFrame({'ttest_fe_tval':stats[0].t.tolist()[-1],\n",
    "                                        'ttest_fe_coef' :stats[0].coef.tolist()[-1],\n",
    "                                        'ttest_fe_pval':stats[0]['P>|t|'].tolist()[-1],\n",
    "                                        'model_id':idx},index=[0]) \n",
    "                          for idx,stats in all_stats.items()]\n",
    "\n",
    "\n",
    "t_test_results_summary = pd.concat(t_test_results_summary).reset_index(drop=True)\n",
    "t_test_results_summary\n",
    "\n"
   ]
  },
  {
   "cell_type": "code",
   "execution_count": null,
   "id": "d80377a0",
   "metadata": {
    "scrolled": true
   },
   "outputs": [],
   "source": [
    "f_test_results_summary = [pd.DataFrame({'ftest_fvalue':stats[1].fvalue,\n",
    "                                        'ftest_re_df':stats[1].df_num,\n",
    "                                        'ftest_f_pval':stats[1].pvalue,\n",
    "                                        'model_id':idx},index=[0]) \n",
    "                          for idx,stats in all_stats.items()]\n",
    "\n",
    "f_test_results_summary = pd.concat(f_test_results_summary).reset_index(drop=True)\n",
    "f_test_results_summary"
   ]
  },
  {
   "cell_type": "code",
   "execution_count": null,
   "id": "3e12462d",
   "metadata": {},
   "outputs": [],
   "source": [
    "tstat_fstat_df = pd.merge(t_test_results_summary,f_test_results_summary,left_on=['model_id'],\n",
    "                          right_on=['model_id']).reset_index(drop=True)\n",
    "\n",
    "tstat_fstat_df = tstat_fstat_df[['model_id','ttest_fe_tval', 'ttest_fe_coef', 'ttest_fe_pval',\n",
    "                                 'ftest_fvalue', 'ftest_re_df', 'ftest_f_pval']]\n",
    "tstat_fstat_df\n",
    "\n"
   ]
  },
  {
   "cell_type": "code",
   "execution_count": null,
   "id": "bc8e8dc9",
   "metadata": {},
   "outputs": [],
   "source": [
    "tstat_fstat_df['rsq'] = [val for key,val in all_rsq.items()]"
   ]
  },
  {
   "cell_type": "code",
   "execution_count": null,
   "id": "1a70098a",
   "metadata": {},
   "outputs": [],
   "source": [
    "tstat_fstat_df"
   ]
  },
  {
   "cell_type": "code",
   "execution_count": null,
   "id": "f7df78a0",
   "metadata": {
    "scrolled": true
   },
   "outputs": [],
   "source": [
    "all_rsq"
   ]
  },
  {
   "cell_type": "code",
   "execution_count": null,
   "id": "244c6bc3",
   "metadata": {},
   "outputs": [],
   "source": []
  },
  {
   "cell_type": "code",
   "execution_count": null,
   "id": "bea3178a",
   "metadata": {},
   "outputs": [],
   "source": [
    "\n",
    "tstat_fstat_df['bic']         = [all_models[key].bic for key in all_models.keys()]\n"
   ]
  },
  {
   "cell_type": "code",
   "execution_count": null,
   "id": "1be55975",
   "metadata": {},
   "outputs": [],
   "source": [
    "tstat_fstat_df"
   ]
  },
  {
   "cell_type": "code",
   "execution_count": null,
   "id": "e1875990",
   "metadata": {},
   "outputs": [],
   "source": [
    "tstat_fstat_df['fe_cpe_est'] = [all_models[key].params['decisionCPE:band_pow'] for key in all_models.keys()]"
   ]
  },
  {
   "cell_type": "code",
   "execution_count": null,
   "id": "7ed0c708",
   "metadata": {},
   "outputs": [],
   "source": [
    "tstat_fstat_df['fe_cpe_pval'] = [all_models[key].pvalues['decisionCPE:band_pow'] for key in all_models.keys()]"
   ]
  },
  {
   "cell_type": "code",
   "execution_count": null,
   "id": "fa5be2c1",
   "metadata": {},
   "outputs": [],
   "source": [
    "tstat_fstat_df\n",
    "\n"
   ]
  },
  {
   "cell_type": "code",
   "execution_count": null,
   "id": "e88e6fc1",
   "metadata": {},
   "outputs": [],
   "source": [
    "#### multiple comparisons correction!!!!\n",
    "bonferr_alpha = 0.05/len(tstat_fstat_df)\n",
    "bonferr_alpha"
   ]
  },
  {
   "cell_type": "code",
   "execution_count": null,
   "id": "02fd0fab",
   "metadata": {},
   "outputs": [],
   "source": [
    "\n",
    "tstat_fstat_df.sort_values(by='fe_cpe_pval')"
   ]
  },
  {
   "cell_type": "code",
   "execution_count": null,
   "id": "6465f022",
   "metadata": {},
   "outputs": [],
   "source": [
    "# tstat_fstat_df = tstat_fstat_df[tstat_fstat_df.fe_cpe_pval < bonferr_alpha]\n",
    "tstat_fstat_df.sort_values(by='ttest_fe_pval')"
   ]
  },
  {
   "cell_type": "code",
   "execution_count": null,
   "id": "b02bff2d",
   "metadata": {},
   "outputs": [],
   "source": [
    "save_df = tstat_fstat_df.copy()"
   ]
  },
  {
   "cell_type": "code",
   "execution_count": null,
   "id": "35e1bb53",
   "metadata": {},
   "outputs": [],
   "source": [
    "tstat_fstat_df.sort_values(by='ttest_fe_pval')"
   ]
  },
  {
   "cell_type": "code",
   "execution_count": null,
   "id": "614c1090",
   "metadata": {},
   "outputs": [],
   "source": [
    "tstat_fstat_df.ttest_fe_pval"
   ]
  },
  {
   "cell_type": "code",
   "execution_count": null,
   "id": "caf0ff43",
   "metadata": {},
   "outputs": [],
   "source": [
    "print('Best BIC model: ',tstat_fstat_df.model_id[tstat_fstat_df.bic == np.min(tstat_fstat_df.bic)].values[0])\n"
   ]
  },
  {
   "cell_type": "code",
   "execution_count": null,
   "id": "f0476530",
   "metadata": {},
   "outputs": [],
   "source": [
    "print('Best fe_cpe_pval model: ',tstat_fstat_df.model_id[tstat_fstat_df.fe_cpe_pval == np.min(tstat_fstat_df.fe_cpe_pval)].values[0])\n"
   ]
  },
  {
   "cell_type": "code",
   "execution_count": null,
   "id": "3741a435",
   "metadata": {},
   "outputs": [],
   "source": [
    "print('Best rsq model: ',tstat_fstat_df.model_id[tstat_fstat_df.rsq == np.max(tstat_fstat_df.rsq)].values[0])\n"
   ]
  },
  {
   "cell_type": "code",
   "execution_count": null,
   "id": "668e599d",
   "metadata": {},
   "outputs": [],
   "source": [
    "print('Best ttest pval: ',tstat_fstat_df.model_id[tstat_fstat_df.ttest_fe_pval == \n",
    "                                                  np.min(tstat_fstat_df.ttest_fe_pval)].values[0])\n"
   ]
  },
  {
   "cell_type": "code",
   "execution_count": null,
   "id": "ec357e18",
   "metadata": {},
   "outputs": [],
   "source": [
    "print('Best tstat: ',tstat_fstat_df.model_id[tstat_fstat_df.ttest_fe_tval == \n",
    "                                                  np.max(tstat_fstat_df.ttest_fe_tval)].values[0])\n"
   ]
  },
  {
   "cell_type": "code",
   "execution_count": null,
   "id": "a6bca23e",
   "metadata": {},
   "outputs": [],
   "source": [
    "print('Best ftest pval: ',tstat_fstat_df.model_id[tstat_fstat_df.ftest_f_pval == \n",
    "                                                  np.min(tstat_fstat_df.ftest_f_pval)].values[0])"
   ]
  },
  {
   "cell_type": "code",
   "execution_count": null,
   "id": "ed161d39",
   "metadata": {},
   "outputs": [],
   "source": [
    "print('Best Fstat model: ',tstat_fstat_df.model_id[tstat_fstat_df.ftest_fvalue == \n",
    "                                                  np.max(tstat_fstat_df.ftest_fvalue)].values[0])"
   ]
  },
  {
   "cell_type": "code",
   "execution_count": null,
   "id": "03a98d05",
   "metadata": {},
   "outputs": [],
   "source": [
    "all_models_fe_data   = {}\n",
    "\n",
    "for key in all_models.keys():\n",
    "#     model_unique_elecs = all_models[key].random_effects.keys()\n",
    "    model_fe_params = {f'{param}':all_models[key].fe_params[param] for param in all_models[key].fe_params.index}\n",
    "    model_fe_params['model_id'] = key\n",
    "    all_models_fe_data[key] = model_fe_params\n",
    "\n"
   ]
  },
  {
   "cell_type": "code",
   "execution_count": null,
   "id": "8b980942",
   "metadata": {},
   "outputs": [],
   "source": [
    "all_models_fe_data"
   ]
  },
  {
   "cell_type": "code",
   "execution_count": null,
   "id": "d729b3ed",
   "metadata": {},
   "outputs": [],
   "source": [
    "model_plot_data = {}\n",
    "\n",
    "for key in all_models.keys():\n",
    "    fe_param_names = list(all_models[key].fe_params.index)\n",
    "    \n",
    "    plot_data = pd.concat([pd.DataFrame(\n",
    "    {**{'subj_id':elec_id.split('_')[0],'reref_ch_names':elec_id.split('_')[1]},'unique_reref_ch':elec_id,\n",
    "     **{f'raw_{param}':all_models[key].random_effects[elec_id][param] for param in list(\n",
    "            all_models[key].random_effects[elec_id].index)}},index=[range(len(fe_param_names))])\n",
    "    for elec_id in all_models[key].random_effects.keys()]).reset_index(drop=True)\n",
    "    \n",
    "    plot_data['roi'] = [reg_df.roi[reg_df.unique_reref_ch == row.unique_reref_ch].values[0]\n",
    "                                for idx,row in plot_data.iterrows()]\n",
    "\n",
    "    plot_data['bdi'] = [subj_info_df.bdi[subj_info_df.subj_id == subj_id].values[0]\n",
    "                                for subj_id in plot_data.subj_id]\n",
    "    model_plot_data[key] = plot_data\n",
    "\n"
   ]
  }
 ],
 "metadata": {
  "kernelspec": {
   "display_name": "lfp_env",
   "language": "python",
   "name": "lfp_env"
  },
  "language_info": {
   "codemirror_mode": {
    "name": "ipython",
    "version": 3
   },
   "file_extension": ".py",
   "mimetype": "text/x-python",
   "name": "python",
   "nbconvert_exporter": "python",
   "pygments_lexer": "ipython3",
   "version": "3.10.4"
  }
 },
 "nbformat": 4,
 "nbformat_minor": 5
}
