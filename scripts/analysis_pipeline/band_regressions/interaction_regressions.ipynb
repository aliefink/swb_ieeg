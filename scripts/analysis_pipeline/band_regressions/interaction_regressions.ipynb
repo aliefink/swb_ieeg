{
 "cells": [
  {
   "cell_type": "markdown",
   "id": "58a19e33",
   "metadata": {},
   "source": [
    "# Beta Band Regressions\n",
    "Created: 04/08/24 \\\n",
    "Updated: 06/15/2024 \\\n",
    "*running analyses for BRAIN Initiative Conf - updating mixed effects regressions to be across roi only*"
   ]
  },
  {
   "cell_type": "code",
   "execution_count": null,
   "id": "a53ac954",
   "metadata": {},
   "outputs": [],
   "source": [
    "import numpy as np\n",
    "import mne\n",
    "from glob import glob\n",
    "import matplotlib.pyplot as plt\n",
    "from matplotlib.backends.backend_pdf import PdfPages\n",
    "import seaborn as sns\n",
    "from scipy.stats import zscore, linregress, ttest_ind, ttest_rel, ttest_1samp, pearsonr, spearmanr\n",
    "import pandas as pd\n",
    "from mne.preprocessing.bads import _find_outliers\n",
    "import os \n",
    "import joblib\n",
    "import re\n",
    "import datetime\n",
    "import scipy\n",
    "import random\n",
    "import statsmodels.api as sm\n",
    "import statsmodels.formula.api as smf\n",
    "from statsmodels.stats.outliers_influence import variance_inflation_factor\n",
    "from statsmodels.regression.mixed_linear_model import MixedLM \n",
    "from joblib import Parallel, delayed\n",
    "import pickle\n",
    "import itertools\n",
    "import time \n",
    "from matplotlib.ticker import StrMethodFormatter\n",
    "\n",
    "\n",
    "\n",
    "import warnings\n",
    "warnings.filterwarnings('ignore')\n",
    "\n",
    "\n"
   ]
  },
  {
   "cell_type": "code",
   "execution_count": null,
   "id": "e826d540",
   "metadata": {},
   "outputs": [],
   "source": [
    "%load_ext autoreload\n",
    "%autoreload 2"
   ]
  },
  {
   "cell_type": "code",
   "execution_count": null,
   "id": "7cdeb07a",
   "metadata": {},
   "outputs": [],
   "source": [
    "# Specify root directory for un-archived data and results \n",
    "base_dir   = '/sc/arion/projects/guLab/Alie/SWB/'\n",
    "anat_dir   = f'{base_dir}ephys_analysis/recon_labels/'\n",
    "neural_dir = f'{base_dir}ephys_analysis/data/'\n",
    "behav_dir  = f'{base_dir}swb_behav_models/data/behavior_preprocessed/'\n",
    "save_dir   = f'{base_dir}ephys_analysis/results/regression_data/'\n",
    "script_dir = '/hpc/users/finka03/swb_ephys_analysis/scripts/'\n",
    "\n",
    "date = datetime.date.today().strftime('%m%d%Y')\n",
    "print(date)"
   ]
  },
  {
   "cell_type": "code",
   "execution_count": null,
   "id": "56649f93",
   "metadata": {},
   "outputs": [],
   "source": [
    "import sys\n",
    "sys.path.append(f'{base_dir}ephys_analysis/LFPAnalysis/')\n",
    "\n",
    "from LFPAnalysis import analysis_utils\n",
    "\n",
    "sys.path.append(f'{script_dir}analysis_notebooks/')\n",
    "\n",
    "from ieeg_tools import *"
   ]
  },
  {
   "cell_type": "code",
   "execution_count": null,
   "id": "80e6cdea",
   "metadata": {},
   "outputs": [],
   "source": [
    "subj_ids = list(pd.read_excel(f'{base_dir}ephys_analysis/subj_info/SWB_subjects.xlsx', sheet_name='Usable_Subjects', usecols=[0]).PatientID)\n",
    "n_subj = len(subj_ids)\n",
    "# subj_ids\n"
   ]
  },
  {
   "cell_type": "code",
   "execution_count": null,
   "id": "5d12e57a",
   "metadata": {},
   "outputs": [],
   "source": [
    "bdi_list = pd.read_excel(f'{base_dir}ephys_analysis/subj_info/SWB_subjects.xlsx', sheet_name='Usable_Subjects', usecols=[3])\n",
    "bdi_list = list(bdi_list.SWB_BDI)\n",
    "subj_info_df = pd.DataFrame({'subj_id':subj_ids,'bdi':bdi_list})\n",
    "subj_info_df\n",
    "\n"
   ]
  },
  {
   "cell_type": "code",
   "execution_count": null,
   "id": "268ae3c0",
   "metadata": {},
   "outputs": [],
   "source": [
    "#### set theme for all plots\n",
    "# %matplotlib inline\n",
    "from matplotlib import rc\n",
    "rc('text', usetex=False)\n",
    "\n",
    "sns.set_theme(style='ticks') \n",
    "sns.set_context(\"poster\")\n",
    "\n"
   ]
  },
  {
   "cell_type": "code",
   "execution_count": null,
   "id": "a8d55d85",
   "metadata": {},
   "outputs": [],
   "source": [
    "from matplotlib.colors import ListedColormap,LinearSegmentedColormap\n",
    "import matplotlib as mpl\n",
    "from matplotlib import cm\n",
    "\n",
    "\n",
    "# saez_cmap colors = org,yellow, sagegreen, darker green, blue, purple \n",
    "\n",
    "# 671351\n",
    "saez_colors    = ['#ffb243','#FCE27C','#6a9752','#1d5d2a','#00467e','#561C46']\n",
    "saez_hex_cmap  = ListedColormap(saez_colors)\n",
    "saez_rgb       = [mpl.colors.to_rgb(hex) for hex in saez_colors]\n",
    "saez_full_cmap = LinearSegmentedColormap.from_list('saez_full_cmap',saez_rgb,N=10)\n",
    "#plot_palette = saez_linear_cmap.resampled(lutsize=30)\n",
    "expanded_cmap  = [mpl.colors.rgb2hex(saez_full_cmap(c)[:3]) for c in range(saez_full_cmap.N)]\n"
   ]
  },
  {
   "cell_type": "code",
   "execution_count": null,
   "id": "f8253f35",
   "metadata": {},
   "outputs": [],
   "source": [
    "saez_full_cmap"
   ]
  },
  {
   "cell_type": "markdown",
   "id": "0b76da87",
   "metadata": {},
   "source": [
    "# Load beta power data "
   ]
  },
  {
   "cell_type": "code",
   "execution_count": null,
   "id": "6d6b170c",
   "metadata": {},
   "outputs": [],
   "source": [
    "# #### Try Beta Power \n",
    "# all_subj_beta_power = {}\n",
    "# all_subj_metadata   = {}\n",
    "\n",
    "# beta_range = [13,30]\n",
    "\n",
    "# # load pow epochs data \n",
    "# for subj_id in subj_ids: \n",
    "#     # load power epochs for single subject \n",
    "#     power_epochs = mne.time_frequency.read_tfrs(f'{neural_dir}{subj_id}/{subj_id}_CpeOnset-tfr.h5')[0]\n",
    "#     all_subj_metadata[subj_id] = power_epochs.metadata.copy()\n",
    "    \n",
    "#     # extract power df with mean beta power for each epoch for each elec \n",
    "#     power_df = power_epochs.to_data_frame()\n",
    "#     del power_epochs \n",
    "#     beta_power_df = power_df[(power_df.freq >= beta_range[0])&(power_df.freq <= beta_range[1])].groupby(['epoch']).agg('mean').reset_index()\n",
    "#     del power_df \n",
    "#     all_subj_beta_power[subj_id] = beta_power_df\n",
    "#     del beta_power_df\n",
    "    \n",
    "    \n",
    "# # create a binary pickle file \n",
    "# pickle.dump(all_subj_beta_power,open(f'{save_dir}all_subj_beta_power_nocrop.pkl',\"wb\"))\n",
    "# pickle.dump(all_subj_metadata,open(f'{save_dir}all_subj_metadata.pkl',\"wb\"))\n",
    "\n",
    "    "
   ]
  },
  {
   "cell_type": "markdown",
   "id": "d37ca447",
   "metadata": {},
   "source": [
    "# Make Beta Regression DF\n",
    "\n",
    "1. Update metadata vars - add t+1 vars, normalize vecs by 2std\n",
    "2. Aggregate metadata, power data, ROI info, bdi info into one master df "
   ]
  },
  {
   "cell_type": "code",
   "execution_count": null,
   "id": "e0c61308",
   "metadata": {},
   "outputs": [],
   "source": [
    "all_subj_beta_power = pickle.load(open(f'{save_dir}all_subj_beta_power_nocrop.pkl',\"rb\"))\n",
    "\n",
    "all_subj_metadata = pickle.load(open(f'{save_dir}all_subj_metadata.pkl',\"rb\"))"
   ]
  },
  {
   "cell_type": "code",
   "execution_count": null,
   "id": "91e8cc49",
   "metadata": {},
   "outputs": [],
   "source": [
    "### update metadata - zscore continuous regressors + add RT info\n",
    "for subj_id in subj_ids:\n",
    "    subj_df         = all_subj_metadata[subj_id]\n",
    "    rounds_t1       = subj_df.Round.tolist()[1:]\n",
    "    logRT_list      = np.log(subj_df['RT']).tolist() # take log of RT\n",
    "    logRT_t1_list   = logRT_list[1:] # get logRT_t1\n",
    "    GambleChoice_t1 = subj_df.GambleChoice.tolist()[1:]\n",
    "    GambleEV_t1     = subj_df.GambleEV.tolist()[1:]\n",
    "    TrialType_t1    = subj_df.TrialType.tolist()[1:]\n",
    "    TrialEV         = subj_df.GambleEV - subj_df.SafeBet\n",
    "    TrialEV_t1      = TrialEV[1:].tolist()\n",
    "    rounds_t1.append(np.nan)\n",
    "    logRT_t1_list.append(np.nan) # add nan to logRT_t1 (no t1 for last round)\n",
    "    GambleChoice_t1.append(np.nan)\n",
    "    GambleEV_t1.append(np.nan)\n",
    "    TrialType_t1.append(np.nan) \n",
    "    TrialEV_t1.append(np.nan)\n",
    "    subj_df['logRT']           = logRT_list\n",
    "    subj_df['logRT_t1']        = logRT_t1_list\n",
    "    subj_df['Round_t1']        = rounds_t1\n",
    "    subj_df['GambleChoice_t1'] = GambleChoice_t1\n",
    "    subj_df['GambleEV_t1']     = GambleEV_t1\n",
    "    subj_df['TrialType_t1']    = TrialType_t1\n",
    "    subj_df['TrialEV']         = TrialEV\n",
    "    subj_df['TrialEV_t1']      = TrialEV_t1\n",
    "    subj_df['bdi']             = subj_info_df.bdi[subj_info_df.subj_id==subj_id].values[0]\n",
    "    subj_df['subj_id']         = subj_id\n",
    "    \n",
    "    # update metadata\n",
    "    all_subj_metadata[subj_id] = subj_df\n",
    "    \n",
    "    \n",
    "# pickle.dump(all_subj_metadata,open(f'{save_dir}all_subj_metadata_t1.pkl',\"wb\"))\n",
    "    \n",
    "### debugging/testing \n",
    "\n",
    "# round_test = [list(zip(all_subj_metadata[key].Round.tolist(),all_subj_metadata[key].RT.tolist(),all_subj_metadata[key].logRT.tolist(),all_subj_metadata[key].logRT_t1.tolist())) for key in all_subj_metadata.keys()]\n",
    "# is_consecutive = [all([all_subj_metadata[subj_id].Round[i] == all_subj_metadata[subj_id].Round_t1[i-1] for i in range(1, len(all_subj_metadata[subj_id].Round))]) for subj_id in all_subj_metadata.keys()]\n",
    "\n",
    "\n",
    "    "
   ]
  },
  {
   "cell_type": "code",
   "execution_count": null,
   "id": "95fc6641",
   "metadata": {},
   "outputs": [],
   "source": [
    "# ### load ROI reref master \n",
    "\n",
    "\n",
    "# # # load newest file\n",
    "# # paths = glob(f'{save_dir}roi_reref_labels_master_*.csv')\n",
    "# # load_date = str(np.max([int(path.split('_')[-1][:-4]) # find most recent saved df to load \n",
    "# #                         for path in paths]))\n",
    "# # roi_reref_labels_master_df = pd.read_csv(glob(f'{save_dir}roi_reref_labels_master_0{load_date}.csv')[0])\n",
    "\n",
    "\n",
    "roi_reref_labels_master_df = pd.read_csv(glob(f'{base_dir}ephys_analysis/results/roi_info/roi_reref_labels_master.csv')[0])\n",
    "roi_reref_labels_master_df = roi_reref_labels_master_df.drop(columns=['Unnamed: 0'])\n",
    "\n",
    "\n"
   ]
  },
  {
   "cell_type": "code",
   "execution_count": null,
   "id": "09b7d682",
   "metadata": {},
   "outputs": [],
   "source": []
  },
  {
   "cell_type": "code",
   "execution_count": null,
   "id": "055c538d",
   "metadata": {},
   "outputs": [],
   "source": [
    "continuous_regressors = ['TrialEV','TrialEV_t1','GambleEV','GambleEV_t1','SafeBet',\n",
    "                         'TotalProfit','CR', 'choiceEV', 'RPE','Profit',\n",
    "                         'decisionCPE', 'decisionRegret','decisionRelief']"
   ]
  },
  {
   "cell_type": "code",
   "execution_count": null,
   "id": "f1449442",
   "metadata": {},
   "outputs": [],
   "source": []
  },
  {
   "cell_type": "code",
   "execution_count": null,
   "id": "e8a1e54a",
   "metadata": {},
   "outputs": [],
   "source": [
    "#### add roi info to master df \n",
    "beta_master_df = []\n",
    "\n",
    "\n",
    "for subj_id,pow_df in zip(all_subj_beta_power.keys(),all_subj_beta_power.values()):\n",
    "    \n",
    "     # reshape pow_df \n",
    "        pow_reg_df = pow_df.melt(id_vars=['epoch','freq'],\n",
    "                                    value_vars=pow_df.columns.drop(['epoch','time','freq']).tolist().copy(),\n",
    "                                    var_name='reref_ch_names', value_name='band_pow',\n",
    "                                    ignore_index = False)\n",
    "\n",
    "        pow_reg_df['subj_id'] = subj_id # add subj_id to df values\n",
    "        # reshape metadata df \n",
    "        metadata_df = all_subj_metadata[subj_id].reset_index()\n",
    "        metadata_df = metadata_df.rename(columns={'index':'epoch'})\n",
    "\n",
    "        # merge pow and metadata dfs keeping epoch as index \n",
    "        subj_regression_df = pd.merge(pow_reg_df, metadata_df,left_on=['epoch','subj_id'],\n",
    "                                    right_on=['epoch','subj_id']).reset_index(drop=True).set_index('epoch')\n",
    "        \n",
    "        subj_regression_df['epoch_num'] = subj_regression_df.index # keep epoch as a column\n",
    "\n",
    "        # add roi info \n",
    "        subj_epochs = pow_reg_df.epoch.unique()\n",
    "        # extract roi_reref_labels_df for each subj \n",
    "        subj_roi_reref_labels = roi_reref_labels_master_df[roi_reref_labels_master_df['subj_id']==subj_id]\n",
    "        # add epochs to df - repeat each elec id for every epoch to join with master df \n",
    "        subj_roi_reref_labels = roi_reref_labels_master_df[roi_reref_labels_master_df['subj_id']==subj_id]\n",
    "        subj_roi_reref_labels = (pd.concat([subj_roi_reref_labels]*len(subj_epochs),\n",
    "                                keys = subj_epochs,\n",
    "                                names = ['epoch',None])).reset_index(level=1,drop=True) #make sure epochs are the index\n",
    "        subj_roi_reref_labels['epoch_num'] = subj_roi_reref_labels.index\n",
    "\n",
    "        # create unique reref ch id for regression\n",
    "        subj_roi_reref_labels['unique_reref_ch'] = subj_roi_reref_labels[['subj_id', 'reref_ch_names']].agg('_'.join, axis=1)\n",
    "\n",
    "        # merge regression df with roi reref info df  \n",
    "        subj_regression_df = pd.merge(subj_regression_df, subj_roi_reref_labels,left_on=['subj_id','reref_ch_names','epoch_num'],\n",
    "                                    right_on=['subj_id','reref_ch_names','epoch_num']).reset_index(drop=True).set_index('epoch_num')\n",
    "        \n",
    "        subj_regression_df['epoch'] = subj_regression_df.index\n",
    "        \n",
    "        ### cleaning within subject BEFORE zscoring regressors! \n",
    "        \n",
    "        # remove trials where RT is too fast (random choice)\n",
    "        subj_regression_df = subj_regression_df[subj_regression_df.RT>0.3]\n",
    "        # remove trials where there is no choice at trial t\n",
    "        subj_regression_df = subj_regression_df[(subj_regression_df.GambleChoice=='gamble') | \n",
    "                                                (subj_regression_df.GambleChoice == 'safe')].reset_index(drop=True)\n",
    "        # remove trials where there is no choice for trial t1 (RT_t1 is nonsense)\n",
    "        subj_regression_df = subj_regression_df[(subj_regression_df.GambleChoice_t1=='gamble') | \n",
    "                                                (subj_regression_df.GambleChoice_t1 == 'safe')].reset_index(drop=True)\n",
    "        # remove trials where there is no outcome\n",
    "        subj_regression_df = subj_regression_df[(subj_regression_df.Outcome=='good') | \n",
    "                                                (subj_regression_df.Outcome == 'bad')].reset_index(drop=True)\n",
    "        # remove epoch 76 bc photodiode times are not correct at breakpoint \n",
    "        subj_regression_df = subj_regression_df[subj_regression_df.Round != 76]\n",
    "        # remove trials where logRT_t1 is inf or -inf (means RT = 0)\n",
    "        subj_regression_df = subj_regression_df[~np.isinf(subj_regression_df.logRT_t1)]\n",
    "        # format GambleChoice + TrialType vars as categories \n",
    "        subj_regression_df['GambleChoice']    = subj_regression_df['GambleChoice'].astype('category')\n",
    "        subj_regression_df['GambleChoice_t1'] = subj_regression_df['GambleChoice_t1'].astype('category')\n",
    "        subj_regression_df['TrialType']       = subj_regression_df['TrialType'].astype('category')\n",
    "        subj_regression_df['TrialType_t1']    = subj_regression_df['TrialType_t1'].astype('category')\n",
    "        # make sure Round_t1 is an integer\n",
    "        subj_regression_df['Round_t1']        = subj_regression_df['Round_t1'].astype('Int64')\n",
    "        subj_regression_df['TrialEV']         = subj_regression_df.GambleEV - subj_regression_df.SafeBet\n",
    "        \n",
    "        # zscore continuous regressors AFTER removing bad trials!! \n",
    "        for reg in continuous_regressors:\n",
    "            subj_regression_df[reg] = norm_zscore(subj_regression_df[reg].values) # zscore is /2std\n",
    "\n",
    "        beta_master_df.append(subj_regression_df)\n",
    "\n",
    "\n",
    "    \n",
    "    \n",
    "beta_master_df = pd.concat(beta_master_df)   \n",
    "# reorder columns \n",
    "beta_master_df = beta_master_df[['subj_id','bdi','epoch','freq','reref_ch_names','band_pow','unique_reref_ch',\n",
    "                                 'roi','hemi','ch_label4roi','ch_type4roi','loc4roi','Round', 'Round_t1',\n",
    "                                 'logRT_t1','logRT','RT','TrialType','TrialType_t1','GambleChoice',\n",
    "                                 'GambleChoice_t1','GambleEV', 'GambleEV_t1','SafeBet','TrialEV','TrialEV_t1',\n",
    "                                 'Profit','TotalProfit','RPE','decisionCPE', 'decisionRegret','decisionRelief']]\n",
    "\n"
   ]
  },
  {
   "cell_type": "code",
   "execution_count": null,
   "id": "5e02a6aa",
   "metadata": {},
   "outputs": [],
   "source": [
    "# # beta_master_df.to_csv(f'{save_dir}beta_master_data.csv')\n",
    "beta_master_df.to_csv(f'{save_dir}beta_master_data_BRAINconf_interactionnocrop.csv')\n",
    "\n",
    "# beta_master_df"
   ]
  },
  {
   "cell_type": "code",
   "execution_count": null,
   "id": "d01448b4",
   "metadata": {},
   "outputs": [],
   "source": [
    "beta_master_df"
   ]
  },
  {
   "cell_type": "code",
   "execution_count": null,
   "id": "911c782f",
   "metadata": {},
   "outputs": [],
   "source": [
    "roi_reref_labels_master_df.roi.value_counts()"
   ]
  },
  {
   "cell_type": "code",
   "execution_count": null,
   "id": "0a83a574",
   "metadata": {},
   "outputs": [],
   "source": [
    "#### filter df by rois with electrode counts >= 50 *** updated to >15\n",
    "keep_rois = roi_reref_labels_master_df.roi.value_counts().index[roi_reref_labels_master_df.roi.value_counts(\n",
    ").values>=50].tolist()\n",
    "\n",
    "# keep_rois = roi_reref_labels_master_df.roi.value_counts().index[\n",
    "#     roi_reref_labels_master_df.roi.value_counts().values>=50].tolist()\n",
    "# keep_rois = ['dlpfc','vlpfc','dmpfc','ofc','ains','pins','acc','hpc','amy','mtg']     \n",
    "# keep_rois\n"
   ]
  },
  {
   "cell_type": "code",
   "execution_count": null,
   "id": "b070b09c",
   "metadata": {},
   "outputs": [],
   "source": [
    "####### NEW DATA FRAME \n",
    "beta_reg_df = beta_master_df.copy()\n",
    "beta_reg_df = beta_reg_df[beta_reg_df.roi.isin(keep_rois)]\n",
    "len(beta_reg_df)"
   ]
  },
  {
   "cell_type": "code",
   "execution_count": null,
   "id": "83064f7f",
   "metadata": {},
   "outputs": [],
   "source": [
    "np.max(beta_reg_df.band_pow)"
   ]
  },
  {
   "cell_type": "code",
   "execution_count": null,
   "id": "9e9f2f7d",
   "metadata": {},
   "outputs": [],
   "source": [
    "beta_reg_df.roi.unique().tolist()"
   ]
  },
  {
   "cell_type": "code",
   "execution_count": null,
   "id": "af250930",
   "metadata": {},
   "outputs": [],
   "source": [
    "beta_reg_df.columns"
   ]
  },
  {
   "cell_type": "markdown",
   "id": "e4d7f782",
   "metadata": {},
   "source": [
    "# INTERACTION FEATURE SELECTION"
   ]
  },
  {
   "cell_type": "code",
   "execution_count": null,
   "id": "ea4fdaf5",
   "metadata": {},
   "outputs": [],
   "source": [
    "######## make all possible variable combinations for regressions \n",
    "main_var  = ['decisionCPE','band_pow','decisionCPE:band_pow']\n",
    "\n",
    "### iter vars for RT prediction dfs > \n",
    "iter_vars = ['C(GambleChoice)','TrialEV','TotalProfit',\n",
    "             'C(GambleChoice_t1)','TrialEV_t1']\n"
   ]
  },
  {
   "cell_type": "code",
   "execution_count": null,
   "id": "78a8d854",
   "metadata": {},
   "outputs": [],
   "source": [
    "iter_vars"
   ]
  },
  {
   "cell_type": "code",
   "execution_count": null,
   "id": "d5be8f86",
   "metadata": {},
   "outputs": [],
   "source": [
    "var_combos = [[v]+main_var for v in iter_vars]\n",
    "\n",
    "for i in range(1,len(iter_vars)-1):\n",
    "    iter_list = [list(tup)+main_var for tup in list(itertools.combinations(iter_vars,i+1))]\n",
    "    var_combos.extend(iter_list)\n",
    "\n",
    "# remove var combos that contain Choice + Trial Type for the *same trial* only bc they are collinear\n",
    "var_combos = [combo for combo in var_combos if ('C(GambleChoice_t1)' in combo and 'C(TrialType_t1)' not in combo)|\n",
    "              ('C(GambleChoice_t1)' not in combo and 'C(TrialType_t1)' in combo)|('C(GambleChoice_t1)'not in combo and 'C(TrialType_t1)' not in combo)]\n",
    "\n",
    "var_combos = [combo for combo in var_combos if ('C(GambleChoice)' in combo and 'C(TrialType)' not in combo)|\n",
    "              ('C(GambleChoice)' not in combo and 'C(TrialType)' in combo)|('C(GambleChoice)'not in combo and 'C(TrialType)' not in combo)]\n",
    "\n",
    "\n",
    "var_combos = [combo for combo in var_combos if ('C(GambleChoice)' in combo and 'TrialEV' not in combo)|\n",
    "              ('C(GambleChoice)' not in combo and 'TrialEV' in combo)|('C(GambleChoice)'not in combo and 'TrialEV' not in combo)]\n",
    "\n",
    "\n",
    "var_combos = [combo for combo in var_combos if ('TrialEV' in combo and 'C(TrialType)' not in combo)|\n",
    "              ('TrialEV' not in combo and 'C(TrialType)' in combo)|('TrialEV'not in combo and 'C(TrialType)' not in combo)]\n",
    "\n",
    "var_combos = [combo for combo in var_combos if ('C(GambleChoice_t1)' in combo and 'TrialEV_t1' not in combo)|\n",
    "              ('C(GambleChoice_t1)' not in combo and 'TrialEV_t1' in combo)|('C(GambleChoice_t1)'not in combo and 'TrialEV_t1' not in combo)]\n",
    "\n",
    "var_combos = [combo for combo in var_combos if ('TrialEV_t1' in combo and 'C(TrialType_t1)' not in combo)|\n",
    "              ('TrialEV_t1' not in combo and 'C(TrialType_t1)' in combo)|('TrialEV_t1'not in combo and 'C(TrialType_t1)' not in combo)]\n",
    "var_combos"
   ]
  },
  {
   "cell_type": "code",
   "execution_count": null,
   "id": "87eed292",
   "metadata": {},
   "outputs": [],
   "source": [
    "len(var_combos)"
   ]
  },
  {
   "cell_type": "code",
   "execution_count": null,
   "id": "5a8a5edd",
   "metadata": {
    "scrolled": false
   },
   "outputs": [],
   "source": [
    "# import time \n",
    "start = time.time() # start timer\n",
    "\n",
    "all_models = {}\n",
    "all_rsq    = {}\n",
    "all_stats  = {}\n",
    "all_keys   = {}\n",
    "no_conv    = []\n",
    "\n",
    "for test_vars in var_combos:\n",
    "    model_key = ''.join(test_vars[:-1]) ### make string of covariate var names to use as dict key\n",
    "    model_fit = fit_mixed_model(beta_reg_df,test_vars,outcome_var,rand_eff_var,reml=False)\n",
    "    # check if model converged\n",
    "    if model_fit.converged:\n",
    "        \n",
    "        print(model_key,' converged!')\n",
    "        \n",
    "        all_models[model_key] = model_fit\n",
    "        all_rsq[model_key]    = compute_marginal_rsq(model_fit)\n",
    "        all_stats[model_key]  = mixed_effects_ftest_ttest(model_fit)\n",
    "        all_keys[model_key]   = test_vars\n",
    "        \n",
    "    else:\n",
    "        print(model_key,' did not converge :(')\n",
    "        no_conv.append(model_key)\n",
    "    del model_fit\n",
    "\n",
    "end = time.time()\n",
    "print('{:.4f} s'.format(end-start)) # print time elapsed for computation (approx 20 seconds per channel)    "
   ]
  },
  {
   "cell_type": "code",
   "execution_count": null,
   "id": "14488cf7",
   "metadata": {},
   "outputs": [],
   "source": [
    "no_conv"
   ]
  },
  {
   "cell_type": "code",
   "execution_count": null,
   "id": "00ae0057",
   "metadata": {},
   "outputs": [],
   "source": [
    "list(all_models.keys())"
   ]
  },
  {
   "cell_type": "code",
   "execution_count": null,
   "id": "41339324",
   "metadata": {},
   "outputs": [],
   "source": [
    "all_models['TrialEVdecisionCPEband_pow'].bic"
   ]
  },
  {
   "cell_type": "code",
   "execution_count": null,
   "id": "65c6371a",
   "metadata": {},
   "outputs": [],
   "source": [
    "model_summary = {key:all_models[key].bic for key in all_models.keys()}\n",
    "model_summary"
   ]
  },
  {
   "cell_type": "code",
   "execution_count": null,
   "id": "9ed46759",
   "metadata": {},
   "outputs": [],
   "source": [
    "bic_list = [model_summary[key] for key in model_summary.keys()]\n",
    "bic_list.sort()\n",
    "\n",
    "ordered_list = [list(model_summary.keys())[np.where(list(model_summary.values()) == bic)[0][0]] for bic in bic_list]\n",
    "list(zip(ordered_list,bic_list))\n"
   ]
  },
  {
   "cell_type": "code",
   "execution_count": null,
   "id": "08055686",
   "metadata": {},
   "outputs": [],
   "source": [
    "all_models['TotalProfitTrialEV_t1decisionCPEband_pow'].pvalues"
   ]
  },
  {
   "cell_type": "code",
   "execution_count": null,
   "id": "e725e449",
   "metadata": {},
   "outputs": [],
   "source": [
    "[(key,bic,all_models[key].pvalues['decisionCPE:band_pow']) for key,bic in list(zip(ordered_list,bic_list))]  \n"
   ]
  },
  {
   "cell_type": "code",
   "execution_count": null,
   "id": "bf5b6eba",
   "metadata": {},
   "outputs": [],
   "source": [
    "print('worst bic model: ',list(model_summary.keys())[np.where(list(model_summary.values())==np.max(list(model_summary.values())))[0][0]])\n"
   ]
  },
  {
   "cell_type": "code",
   "execution_count": null,
   "id": "bc355cdc",
   "metadata": {},
   "outputs": [],
   "source": [
    "print('best bic model: ',list(model_summary.keys())[np.where(list(model_summary.values())==np.min(list(model_summary.values())))[0][0]])\n"
   ]
  },
  {
   "cell_type": "code",
   "execution_count": null,
   "id": "c31cf512",
   "metadata": {
    "scrolled": false
   },
   "outputs": [],
   "source": [
    "print(list(model_summary.keys())[np.where(list(model_summary.values())==np.min(list(model_summary.values())))[0][0]])\n",
    "print(np.min(list(model_summary.values())))\n",
    "      \n",
    "      "
   ]
  },
  {
   "cell_type": "code",
   "execution_count": null,
   "id": "d8def74c",
   "metadata": {},
   "outputs": [],
   "source": [
    "[(key,all_models[key].pvalues['decisionCPE:band_pow']) for key in ordered_list if all_models[key].pvalues['decisionCPE:band_pow'] < 0.05]  \n",
    "\n"
   ]
  },
  {
   "cell_type": "code",
   "execution_count": null,
   "id": "79b41c35",
   "metadata": {},
   "outputs": [],
   "source": [
    "[(key,all_models[key].pvalues['decisionCPE:band_pow']) for key in ordered_list if all_models[key].pvalues['decisionCPE:band_pow'] > 0.05]  \n"
   ]
  },
  {
   "cell_type": "code",
   "execution_count": null,
   "id": "792371ec",
   "metadata": {},
   "outputs": [],
   "source": [
    "all_models['TrialEVTotalProfitdecisionCPEband_pow'].pvalues"
   ]
  },
  {
   "cell_type": "code",
   "execution_count": null,
   "id": "b1a9138c",
   "metadata": {},
   "outputs": [],
   "source": [
    "all_models['TrialEVTotalProfitdecisionCPEband_pow'].params"
   ]
  },
  {
   "cell_type": "code",
   "execution_count": null,
   "id": "0b0871c0",
   "metadata": {},
   "outputs": [],
   "source": [
    "all_models['TotalProfitTrialEV_t1decisionCPEband_pow'].summary()"
   ]
  },
  {
   "cell_type": "code",
   "execution_count": null,
   "id": "18b5a324",
   "metadata": {},
   "outputs": [],
   "source": [
    "all_rsq"
   ]
  },
  {
   "cell_type": "code",
   "execution_count": null,
   "id": "4da0e562",
   "metadata": {},
   "outputs": [],
   "source": [
    "all_models"
   ]
  },
  {
   "cell_type": "code",
   "execution_count": null,
   "id": "8ecf9c45",
   "metadata": {},
   "outputs": [],
   "source": [
    "all_stats['TrialEVdecisionCPEband_pow']"
   ]
  },
  {
   "cell_type": "code",
   "execution_count": null,
   "id": "8a98dd34",
   "metadata": {},
   "outputs": [],
   "source": [
    "all_stats"
   ]
  },
  {
   "cell_type": "code",
   "execution_count": null,
   "id": "a8f98921",
   "metadata": {},
   "outputs": [],
   "source": [
    "#### FOR NOW JUST SAVE CPE STATS!\n",
    "t_test_results_summary = [pd.DataFrame({'ttest_fe_tval':stats[0].t.tolist()[-1],\n",
    "                                        'ttest_fe_coef' :stats[0].coef.tolist()[-1],\n",
    "                                        'ttest_fe_pval':stats[0]['P>|t|'].tolist()[-1],\n",
    "                                        'model_id':idx},index=[0]) \n",
    "                          for idx,stats in all_stats.items()]\n",
    "\n",
    "\n",
    "t_test_results_summary = pd.concat(t_test_results_summary).reset_index(drop=True)\n",
    "t_test_results_summary\n",
    "\n"
   ]
  },
  {
   "cell_type": "code",
   "execution_count": null,
   "id": "d80377a0",
   "metadata": {
    "scrolled": true
   },
   "outputs": [],
   "source": [
    "f_test_results_summary = [pd.DataFrame({'ftest_fvalue':stats[1].fvalue,\n",
    "                                        'ftest_re_df':stats[1].df_num,\n",
    "                                        'ftest_f_pval':stats[1].pvalue,\n",
    "                                        'model_id':idx},index=[0]) \n",
    "                          for idx,stats in all_stats.items()]\n",
    "\n",
    "f_test_results_summary = pd.concat(f_test_results_summary).reset_index(drop=True)\n",
    "f_test_results_summary"
   ]
  },
  {
   "cell_type": "code",
   "execution_count": null,
   "id": "3e12462d",
   "metadata": {},
   "outputs": [],
   "source": [
    "tstat_fstat_df = pd.merge(t_test_results_summary,f_test_results_summary,left_on=['model_id'],\n",
    "                          right_on=['model_id']).reset_index(drop=True)\n",
    "\n",
    "tstat_fstat_df = tstat_fstat_df[['model_id','ttest_fe_tval', 'ttest_fe_coef', 'ttest_fe_pval',\n",
    "                                 'ftest_fvalue', 'ftest_re_df', 'ftest_f_pval']]\n",
    "tstat_fstat_df\n",
    "\n"
   ]
  },
  {
   "cell_type": "code",
   "execution_count": null,
   "id": "bc8e8dc9",
   "metadata": {},
   "outputs": [],
   "source": [
    "tstat_fstat_df['rsq'] = [val for key,val in all_rsq.items()]"
   ]
  },
  {
   "cell_type": "code",
   "execution_count": null,
   "id": "1a70098a",
   "metadata": {},
   "outputs": [],
   "source": [
    "tstat_fstat_df"
   ]
  },
  {
   "cell_type": "code",
   "execution_count": null,
   "id": "f7df78a0",
   "metadata": {
    "scrolled": true
   },
   "outputs": [],
   "source": [
    "all_rsq"
   ]
  },
  {
   "cell_type": "code",
   "execution_count": null,
   "id": "244c6bc3",
   "metadata": {},
   "outputs": [],
   "source": []
  },
  {
   "cell_type": "code",
   "execution_count": null,
   "id": "bea3178a",
   "metadata": {},
   "outputs": [],
   "source": [
    "\n",
    "tstat_fstat_df['bic']         = [all_models[key].bic for key in all_models.keys()]\n"
   ]
  },
  {
   "cell_type": "code",
   "execution_count": null,
   "id": "1be55975",
   "metadata": {},
   "outputs": [],
   "source": [
    "tstat_fstat_df"
   ]
  },
  {
   "cell_type": "code",
   "execution_count": null,
   "id": "e1875990",
   "metadata": {},
   "outputs": [],
   "source": [
    "tstat_fstat_df['fe_cpe_est'] = [all_models[key].params['decisionCPE:band_pow'] for key in all_models.keys()]"
   ]
  },
  {
   "cell_type": "code",
   "execution_count": null,
   "id": "7ed0c708",
   "metadata": {},
   "outputs": [],
   "source": [
    "tstat_fstat_df['fe_cpe_pval'] = [all_models[key].pvalues['decisionCPE:band_pow'] for key in all_models.keys()]"
   ]
  },
  {
   "cell_type": "code",
   "execution_count": null,
   "id": "fa5be2c1",
   "metadata": {},
   "outputs": [],
   "source": [
    "tstat_fstat_df\n",
    "\n"
   ]
  },
  {
   "cell_type": "code",
   "execution_count": null,
   "id": "e88e6fc1",
   "metadata": {},
   "outputs": [],
   "source": [
    "#### multiple comparisons correction!!!!\n",
    "bonferr_alpha = 0.05/len(tstat_fstat_df)\n",
    "bonferr_alpha"
   ]
  },
  {
   "cell_type": "code",
   "execution_count": null,
   "id": "02fd0fab",
   "metadata": {},
   "outputs": [],
   "source": [
    "\n",
    "tstat_fstat_df.sort_values(by='fe_cpe_pval')"
   ]
  },
  {
   "cell_type": "code",
   "execution_count": null,
   "id": "6465f022",
   "metadata": {},
   "outputs": [],
   "source": [
    "# tstat_fstat_df = tstat_fstat_df[tstat_fstat_df.fe_cpe_pval < bonferr_alpha]\n",
    "tstat_fstat_df.sort_values(by='ttest_fe_pval')"
   ]
  },
  {
   "cell_type": "code",
   "execution_count": null,
   "id": "b02bff2d",
   "metadata": {},
   "outputs": [],
   "source": [
    "save_df = tstat_fstat_df.copy()"
   ]
  },
  {
   "cell_type": "code",
   "execution_count": null,
   "id": "35e1bb53",
   "metadata": {},
   "outputs": [],
   "source": [
    "tstat_fstat_df.sort_values(by='ttest_fe_pval')"
   ]
  },
  {
   "cell_type": "code",
   "execution_count": null,
   "id": "614c1090",
   "metadata": {},
   "outputs": [],
   "source": [
    "tstat_fstat_df.ttest_fe_pval"
   ]
  },
  {
   "cell_type": "code",
   "execution_count": null,
   "id": "caf0ff43",
   "metadata": {},
   "outputs": [],
   "source": [
    "print('Best BIC model: ',tstat_fstat_df.model_id[tstat_fstat_df.bic == np.min(tstat_fstat_df.bic)].values[0])\n"
   ]
  },
  {
   "cell_type": "code",
   "execution_count": null,
   "id": "f0476530",
   "metadata": {},
   "outputs": [],
   "source": [
    "print('Best fe_cpe_pval model: ',tstat_fstat_df.model_id[tstat_fstat_df.fe_cpe_pval == np.min(tstat_fstat_df.fe_cpe_pval)].values[0])\n"
   ]
  },
  {
   "cell_type": "code",
   "execution_count": null,
   "id": "3741a435",
   "metadata": {},
   "outputs": [],
   "source": [
    "print('Best rsq model: ',tstat_fstat_df.model_id[tstat_fstat_df.rsq == np.max(tstat_fstat_df.rsq)].values[0])\n"
   ]
  },
  {
   "cell_type": "code",
   "execution_count": null,
   "id": "668e599d",
   "metadata": {},
   "outputs": [],
   "source": [
    "print('Best ttest pval: ',tstat_fstat_df.model_id[tstat_fstat_df.ttest_fe_pval == \n",
    "                                                  np.min(tstat_fstat_df.ttest_fe_pval)].values[0])\n"
   ]
  },
  {
   "cell_type": "code",
   "execution_count": null,
   "id": "ec357e18",
   "metadata": {},
   "outputs": [],
   "source": [
    "print('Best tstat: ',tstat_fstat_df.model_id[tstat_fstat_df.ttest_fe_tval == \n",
    "                                                  np.max(tstat_fstat_df.ttest_fe_tval)].values[0])\n"
   ]
  },
  {
   "cell_type": "code",
   "execution_count": null,
   "id": "a6bca23e",
   "metadata": {},
   "outputs": [],
   "source": [
    "print('Best ftest pval: ',tstat_fstat_df.model_id[tstat_fstat_df.ftest_f_pval == \n",
    "                                                  np.min(tstat_fstat_df.ftest_f_pval)].values[0])"
   ]
  },
  {
   "cell_type": "code",
   "execution_count": null,
   "id": "ed161d39",
   "metadata": {},
   "outputs": [],
   "source": [
    "print('Best Fstat model: ',tstat_fstat_df.model_id[tstat_fstat_df.ftest_fvalue == \n",
    "                                                  np.max(tstat_fstat_df.ftest_fvalue)].values[0])"
   ]
  },
  {
   "cell_type": "code",
   "execution_count": null,
   "id": "03a98d05",
   "metadata": {},
   "outputs": [],
   "source": [
    "all_models_fe_data   = {}\n",
    "\n",
    "for key in all_models.keys():\n",
    "#     model_unique_elecs = all_models[key].random_effects.keys()\n",
    "    model_fe_params = {f'{param}':all_models[key].fe_params[param] for param in all_models[key].fe_params.index}\n",
    "    model_fe_params['model_id'] = key\n",
    "    all_models_fe_data[key] = model_fe_params\n",
    "\n"
   ]
  },
  {
   "cell_type": "code",
   "execution_count": null,
   "id": "8b980942",
   "metadata": {},
   "outputs": [],
   "source": [
    "all_models_fe_data"
   ]
  },
  {
   "cell_type": "code",
   "execution_count": null,
   "id": "d729b3ed",
   "metadata": {},
   "outputs": [],
   "source": [
    "model_plot_data = {}\n",
    "\n",
    "for key in all_models.keys():\n",
    "    fe_param_names = list(all_models[key].fe_params.index)\n",
    "    \n",
    "    plot_data = pd.concat([pd.DataFrame(\n",
    "    {**{'subj_id':elec_id.split('_')[0],'reref_ch_names':elec_id.split('_')[1]},'unique_reref_ch':elec_id,\n",
    "     **{f'raw_{param}':all_models[key].random_effects[elec_id][param] for param in list(\n",
    "            all_models[key].random_effects[elec_id].index)}},index=[range(len(fe_param_names))])\n",
    "    for elec_id in all_models[key].random_effects.keys()]).reset_index(drop=True)\n",
    "    \n",
    "    plot_data['roi'] = [beta_reg_df.roi[beta_reg_df.unique_reref_ch == row.unique_reref_ch].values[0]\n",
    "                                for idx,row in plot_data.iterrows()]\n",
    "\n",
    "    plot_data['bdi'] = [subj_info_df.bdi[subj_info_df.subj_id == subj_id].values[0]\n",
    "                                for subj_id in plot_data.subj_id]\n",
    "    model_plot_data[key] = plot_data\n",
    "\n"
   ]
  },
  {
   "cell_type": "code",
   "execution_count": null,
   "id": "b759249c",
   "metadata": {},
   "outputs": [],
   "source": [
    "plot_data"
   ]
  },
  {
   "cell_type": "code",
   "execution_count": null,
   "id": "37e16ede",
   "metadata": {},
   "outputs": [],
   "source": []
  },
  {
   "cell_type": "code",
   "execution_count": null,
   "id": "d64e41f9",
   "metadata": {},
   "outputs": [],
   "source": [
    "# plot_data = pd.concat([pd.DataFrame(\n",
    "#     {**{'subj_id':elec_id.split('_')[0],'reref_ch_names':elec_id.split('_')[1]},'unique_reref_ch':elec_id,\n",
    "#      **{f'raw_{param}':interaction_fit.random_effects[elec_id][param] for param in list(\n",
    "#             interaction_fit.random_effects[elec_id].index)}},index=[range(len(fe_param_names))])\n",
    "        \n",
    "#     for elec_id in interaction_fit.random_effects.keys()]).reset_index(drop=True)\n",
    "\n",
    "# plot_data['roi'] = [beta_reg_df.roi[beta_reg_df.unique_reref_ch == row.unique_reref_ch].values[0]\n",
    "#                                 for idx,row in plot_data.iterrows()]\n",
    "\n",
    "# plot_data['bdi'] = [subj_info_df.bdi[subj_info_df.subj_id == subj_id].values[0]\n",
    "#                                 for subj_id in plot_data.subj_id]"
   ]
  },
  {
   "cell_type": "code",
   "execution_count": null,
   "id": "f90634b0",
   "metadata": {},
   "outputs": [],
   "source": [
    "all_models_fe_data"
   ]
  },
  {
   "cell_type": "code",
   "execution_count": null,
   "id": "4ff09dfc",
   "metadata": {},
   "outputs": [],
   "source": [
    "all_models_fe_data[key]"
   ]
  },
  {
   "cell_type": "code",
   "execution_count": null,
   "id": "47d01f1f",
   "metadata": {},
   "outputs": [],
   "source": [
    "plot_data"
   ]
  },
  {
   "cell_type": "code",
   "execution_count": null,
   "id": "f3837588",
   "metadata": {},
   "outputs": [],
   "source": [
    "\n",
    "for key in model_plot_data.keys():\n",
    "    plot_data = model_plot_data[key]\n",
    "    fe_params = all_models_fe_data[key]\n",
    "    fe_intercept = fe_params['Intercept']\n",
    "    fe_cpe_beta  = fe_params['decisionCPE:band_pow']\n",
    "    elec_b0      =  np.add(plot_data.raw_Group,fe_intercept)\n",
    "    elec_bCPE    =  np.add(plot_data['raw_decisionCPE:band_pow'],fe_cpe_beta)\n",
    "    plot_data['elec_b0']   = elec_b0\n",
    "    plot_data['elec_bCPE'] = elec_bCPE\n",
    "    plot_data = plot_data.reset_index(drop=True)\n",
    "    model_plot_data[key] = plot_data\n",
    "    \n",
    "    \n",
    "    "
   ]
  },
  {
   "cell_type": "code",
   "execution_count": null,
   "id": "211010b1",
   "metadata": {},
   "outputs": [],
   "source": [
    "model_plot_data['TrialEVdecisionCPEband_pow']"
   ]
  },
  {
   "cell_type": "code",
   "execution_count": null,
   "id": "9a663c4e",
   "metadata": {},
   "outputs": [],
   "source": [
    "ttest_1samp(model_plot_data[key][model_plot_data[key].roi == 'ains']['raw_decisionCPE:band_pow'].to_numpy(),popmean=0)"
   ]
  },
  {
   "cell_type": "code",
   "execution_count": null,
   "id": "22fc698d",
   "metadata": {},
   "outputs": [],
   "source": [
    "RAW_model_roi_stats_data = {f'{key}':{f'{roi}':ttest_1samp(model_plot_data[key][model_plot_data[key].roi == roi]['raw_decisionCPE:band_pow'].to_numpy(),\n",
    "                                     popmean=0).pvalue for roi in model_plot_data[key].roi.unique().tolist()\n",
    "                                  } for key in model_plot_data.keys()}"
   ]
  },
  {
   "cell_type": "code",
   "execution_count": null,
   "id": "cf93b556",
   "metadata": {},
   "outputs": [],
   "source": [
    "RAW_model_roi_stats_data"
   ]
  },
  {
   "cell_type": "code",
   "execution_count": null,
   "id": "ab83709b",
   "metadata": {},
   "outputs": [],
   "source": [
    "model_roi_stats_data = {f'{key}':{f'{roi}':ttest_1samp(model_plot_data[key][model_plot_data[key].roi == roi].elec_bCPE.to_numpy(),\n",
    "                                     popmean=0).pvalue for roi in model_plot_data[key].roi.unique().tolist()\n",
    "                                  } for key in model_plot_data.keys()}\n"
   ]
  },
  {
   "cell_type": "code",
   "execution_count": null,
   "id": "38b9efe3",
   "metadata": {},
   "outputs": [],
   "source": [
    "model_roi_stats_data"
   ]
  },
  {
   "cell_type": "code",
   "execution_count": null,
   "id": "17659f6b",
   "metadata": {},
   "outputs": [],
   "source": [
    "bonferr_alpha = 0.05/len(np.unique(plot_data.roi))\n",
    "# bonferr_alpha = 0.05/len(bdi_plot_data.roi.unique().tolist())\n",
    "bonferr_alpha"
   ]
  },
  {
   "cell_type": "code",
   "execution_count": null,
   "id": "80a824a7",
   "metadata": {},
   "outputs": [],
   "source": [
    "roi = 'ains'"
   ]
  },
  {
   "cell_type": "code",
   "execution_count": null,
   "id": "8e0ae597",
   "metadata": {},
   "outputs": [],
   "source": [
    "roi in roi_order"
   ]
  },
  {
   "cell_type": "code",
   "execution_count": null,
   "id": "c6a41030",
   "metadata": {},
   "outputs": [],
   "source": [
    "print([[(roi,RAW_model_roi_stats_data[model][roi]) for \n",
    "                                                    roi in RAW_model_roi_stats_data[model].keys()\n",
    "                                                    if roi in roi_order]\n",
    "                                                   for model in RAW_model_roi_stats_data.keys()\n",
    "                                                   ])"
   ]
  },
  {
   "cell_type": "code",
   "execution_count": null,
   "id": "c2f6de2d",
   "metadata": {},
   "outputs": [],
   "source": [
    "print('sig ROIs after multiple comp correction: ',[[(roi,RAW_model_roi_stats_data[model][roi]) for \n",
    "                                                    roi in RAW_model_roi_stats_data[model].keys()\n",
    "                                                    if RAW_model_roi_stats_data[model][roi]< bonferr_alpha]\n",
    "                                                   for model in RAW_model_roi_stats_data.keys()\n",
    "                                                   ])\n"
   ]
  },
  {
   "cell_type": "code",
   "execution_count": null,
   "id": "f11ea230",
   "metadata": {},
   "outputs": [],
   "source": [
    "print('sig ROIs after multiple comp correction: ',[[(roi,model_roi_stats_data[model][roi]) for \n",
    "                                                    roi in model_roi_stats_data[model].keys()\n",
    "                                                    if model_roi_stats_data[model][roi]< bonferr_alpha]\n",
    "                                                   for model in model_roi_stats_data.keys()\n",
    "                                                   ])\n",
    "\n",
    "\n"
   ]
  },
  {
   "cell_type": "code",
   "execution_count": null,
   "id": "c7450162",
   "metadata": {},
   "outputs": [],
   "source": [
    "model_roi_stats_data.keys()"
   ]
  },
  {
   "cell_type": "code",
   "execution_count": null,
   "id": "0f7082c5",
   "metadata": {},
   "outputs": [],
   "source": [
    "roi_order = ['dlpfc','vlpfc','dmpfc','ofc','ains','pins','acc','hpc','amy']"
   ]
  },
  {
   "cell_type": "code",
   "execution_count": null,
   "id": "18ea579b",
   "metadata": {
    "scrolled": true
   },
   "outputs": [],
   "source": [
    "print([[(model,RAW_model_roi_stats_data[model][roi]) for  roi in RAW_model_roi_stats_data[model].keys()\n",
    "                                                    if roi =='ains']\n",
    "                                                   for model in RAW_model_roi_stats_data.keys()\n",
    "                                                   ])"
   ]
  },
  {
   "cell_type": "code",
   "execution_count": null,
   "id": "9030eab9",
   "metadata": {},
   "outputs": [],
   "source": [
    "print([[(model,model_roi_stats_data[model][roi]) for roi in model_roi_stats_data[model].keys()\n",
    "                                                    if roi =='ains']\n",
    "                                                   for model in model_roi_stats_data.keys()\n",
    "                                                   ])"
   ]
  },
  {
   "cell_type": "code",
   "execution_count": null,
   "id": "857ad076",
   "metadata": {},
   "outputs": [],
   "source": [
    "test_model = 'TrialEVdecisionCPEband_pow'\n",
    "# 'TrialEVTotalProfitdecisionCPEband_pow'\n"
   ]
  },
  {
   "cell_type": "code",
   "execution_count": null,
   "id": "7b0db3d4",
   "metadata": {},
   "outputs": [],
   "source": [
    "roi_bdi_plot_data = model_plot_data[test_model]\n",
    "roi_bdi_plot_data = roi_bdi_plot_data[roi_bdi_plot_data.roi.isin(roi_order)]\n",
    "\n",
    "roi_bdi_plot_data"
   ]
  },
  {
   "cell_type": "code",
   "execution_count": null,
   "id": "a87cfd3e",
   "metadata": {},
   "outputs": [],
   "source": [
    "roi_bdi_plot_data"
   ]
  },
  {
   "cell_type": "code",
   "execution_count": null,
   "id": "ba34c4b0",
   "metadata": {},
   "outputs": [],
   "source": [
    "[roi_bdi_plot_data]"
   ]
  },
  {
   "cell_type": "code",
   "execution_count": null,
   "id": "a809e800",
   "metadata": {},
   "outputs": [],
   "source": [
    "print('sig ROIs after multiple comp correction: ',[(roi,ttest_1samp(roi_bdi_plot_data[\n",
    "    roi_bdi_plot_data.roi == roi]['raw_decisionCPE:band_pow'].to_numpy(),\n",
    "                                     popmean=0).pvalue) for roi in roi_bdi_plot_data.roi.unique().tolist()\n",
    "                                                  if ttest_1samp(roi_bdi_plot_data[\n",
    "    roi_bdi_plot_data.roi == roi]['raw_decisionCPE:band_pow'].to_numpy(),\n",
    "                                     popmean=0).pvalue < bonferr_alpha])\n",
    "\n",
    "\n"
   ]
  },
  {
   "cell_type": "code",
   "execution_count": null,
   "id": "4534bc38",
   "metadata": {},
   "outputs": [],
   "source": [
    "print('sig ROIs after multiple comp correction: ',[(roi,ttest_1samp(roi_bdi_plot_data[\n",
    "    roi_bdi_plot_data.roi == roi]['elec_bCPE'].to_numpy(),\n",
    "                                     popmean=0).pvalue) for roi in roi_bdi_plot_data.roi.unique().tolist()\n",
    "                                                  if ttest_1samp(roi_bdi_plot_data[\n",
    "    roi_bdi_plot_data.roi == roi]['elec_bCPE'].to_numpy(),\n",
    "                                     popmean=0).pvalue < bonferr_alpha])\n",
    "\n",
    "\n"
   ]
  },
  {
   "cell_type": "code",
   "execution_count": null,
   "id": "50a4fc76",
   "metadata": {},
   "outputs": [],
   "source": []
  },
  {
   "cell_type": "code",
   "execution_count": null,
   "id": "649adb9f",
   "metadata": {
    "scrolled": false
   },
   "outputs": [],
   "source": [
    "sns.set_context(\"poster\")\n",
    "fig,ax = plt.subplots(figsize=(15, 6),dpi=500)\n",
    "\n",
    "fig_save_dir = f'{base_dir}ephys_analysis/figs/beta_regressions/'\n",
    "os.makedirs(fig_save_dir,exist_ok=True)\n",
    "\n",
    "sns.barplot(data = roi_bdi_plot_data,\n",
    "            x = 'roi',\n",
    "            y = 'raw_decisionCPE:band_pow',\n",
    "#             y='elec_bCPE',\n",
    "            color = '#125549',\n",
    "            saturation=0.8,\n",
    "            order=roi_order,\n",
    "            errorbar=None) \n",
    "\n",
    "\n",
    "sns.stripplot(data = roi_bdi_plot_data,\n",
    "            x = 'roi',\n",
    "            y = 'raw_decisionCPE:band_pow',                          \n",
    "#               y='elec_bCPE',\n",
    "              color = '#125549',\n",
    "              alpha=.4,\n",
    "              dodge=True,\n",
    "              order=roi_order,\n",
    "              size = 8)\n",
    "\n",
    "ax.axhline(y=0,color='#125549',linewidth=1.5)\n",
    "plt.tick_params(length=0 )#,grid_linewidth=1)\n",
    "\n",
    "# plt.ylim([-0.02,0.017])\n",
    "ax.set(xlabel=None)\n",
    "\n",
    "# plt.ylabel(r'$beta_{{{zpow}}} \\sim cpe:bdi$')\n",
    "plt.ylabel(r'$log(RT_t) \\sim cpe:beta_{{{zpow}}}$')\n",
    "\n",
    "# plt.gca().yaxis.set_major_formatter(StrMethodFormatter('{x:,.3f}')) \n",
    "plt.locator_params(axis='y', nbins=6,tight=True)\n",
    "\n",
    "\n",
    "\n",
    "sns.despine()\n",
    "    \n",
    "plt.savefig(f'{fig_save_dir}/rt_interactionbetas{date}.pdf', format='pdf', metadata=None,\n",
    "bbox_inches=None, pad_inches=0.1,dpi=500,\n",
    "facecolor='auto', edgecolor='auto',\n",
    "backend=None)"
   ]
  },
  {
   "cell_type": "code",
   "execution_count": null,
   "id": "6dfe7d9e",
   "metadata": {},
   "outputs": [],
   "source": [
    "roi_bdi_plot_data\n"
   ]
  },
  {
   "cell_type": "code",
   "execution_count": null,
   "id": "dd2d2d13",
   "metadata": {},
   "outputs": [],
   "source": [
    "raw_decisionCPE:band_pow"
   ]
  },
  {
   "cell_type": "code",
   "execution_count": null,
   "id": "4fadea26",
   "metadata": {},
   "outputs": [],
   "source": [
    "roi_bdi_plot_data[roi_bdi_plot_data.roi==roi]"
   ]
  },
  {
   "cell_type": "code",
   "execution_count": null,
   "id": "ea9691b2",
   "metadata": {},
   "outputs": [],
   "source": [
    "rho_data = []\n",
    "for roi in roi_bdi_plot_data.roi.unique().tolist()[:-1]:\n",
    "    roi_temp_data = roi_bdi_plot_data[roi_bdi_plot_data.roi==roi]\n",
    "    rho,rho_p = pearsonr(roi_temp_data.bdi,roi_temp_data['raw_decisionCPE:band_pow'])\n",
    "    rho_data.append(pd.DataFrame({'roi':roi,'rho':rho,'rho_p':rho_p},index=[0]))\n",
    "rho_data = pd.concat(rho_data).reset_index(drop=True)"
   ]
  },
  {
   "cell_type": "code",
   "execution_count": null,
   "id": "5d596433",
   "metadata": {},
   "outputs": [],
   "source": [
    "rho_data"
   ]
  },
  {
   "cell_type": "code",
   "execution_count": null,
   "id": "fef4a48a",
   "metadata": {},
   "outputs": [],
   "source": [
    "rho_data[rho_data.roi=='pins']"
   ]
  },
  {
   "cell_type": "code",
   "execution_count": null,
   "id": "6208f230",
   "metadata": {},
   "outputs": [],
   "source": [
    "rho_data['plot_p'] = [0.0001 if roi != 'pins' else 0.0003 for roi in rho_data.roi ]"
   ]
  },
  {
   "cell_type": "code",
   "execution_count": null,
   "id": "ffd49c89",
   "metadata": {},
   "outputs": [],
   "source": [
    "rho_data['plot_rho'] = np.round(rho_data.rho,2)"
   ]
  },
  {
   "cell_type": "code",
   "execution_count": null,
   "id": "2f9d126e",
   "metadata": {},
   "outputs": [],
   "source": [
    "rho_data"
   ]
  },
  {
   "cell_type": "code",
   "execution_count": null,
   "id": "7703bf40",
   "metadata": {
    "scrolled": false
   },
   "outputs": [],
   "source": [
    "\n",
    "# sns.set_context(\"poster\",rc={'axes.linewidth': 2})\n",
    "\n",
    "for roi in roi_bdi_plot_data.roi.unique().tolist()[:-1]:\n",
    "    roi_temp_data = roi_bdi_plot_data[roi_bdi_plot_data.roi==roi]\n",
    "#     rho,rho_p = pearsonr(roi_temp_data.bdi,roi_temp_data['raw_decisionCPE:band_pow'])\n",
    "\n",
    "    rho   = rho_data[rho_data.roi == roi].plot_rho.values[0]\n",
    "    rho_p = rho_data[rho_data.roi == roi].plot_p.values[0]\n",
    "    \n",
    "        \n",
    "    fig = plt.figure(figsize=(7,5),dpi=300)\n",
    "\n",
    "#     sns.regplot(data=roi_temp_data,x='bdi',y='raw_decisionCPE:band_pow',scatter=False,ci=95,\n",
    "#                 fit_reg=True,color = '#0b4e5f') #034975 0b4e5f 00467e 3f2755\n",
    "    \n",
    "    sns.regplot(data = roi_temp_data.groupby('subj_id').agg('mean'),x='bdi',y='raw_decisionCPE:band_pow'\n",
    "                ,color='#135546') #0b4e5f #135546  0b4e5f\n",
    "\n",
    "    \n",
    "#     plt.gca().yaxis.set_major_formatter(StrMethodFormatter('{x:,.2f}')) \n",
    "\n",
    "    plt.xlabel('BDI-II')\n",
    "    \n",
    "    plt.tick_params(length=0) \n",
    "#     plt.ylabel('beta'+r'$_{{{zpow}}}$'+' cpe encoding')\n",
    "    plt.ylabel(r'$RT_t \\sim cpe:beta_{{{zpow}}}$')\n",
    "\n",
    "\n",
    "    plt.text(np.min(roi_temp_data['bdi'])+1.25,\n",
    "             np.round(np.max(roi_temp_data.groupby(['subj_id']).agg('mean')[\n",
    "        'raw_decisionCPE:band_pow']),3)-0.01,\n",
    "             r'$rho$ = '+f'{rho} '+'\\n '+r'$p < 0.001$',\n",
    "             color='#135546',fontsize=18)\n",
    "# +f'{np.round(rho_p,3)}',\n",
    "#     plt.title(f'{roi}',fontsize=24)    \n",
    "\n",
    "#     plt.text(5, np.round(np.max(roi_temp_data.groupby(['subj_id']).agg('mean')[\n",
    "#         'raw_decisionCPE:band_pow']),3)-0.003,\n",
    "#              r'$rho$ = '+f'{np.round(rho,2)} '+'\\n '+r'$p < 0.0001$'\n",
    "#              color='#0b4e5f',fontsize=16)\n",
    "# # +f'{np.round(rho_p,3)}',\n",
    "    \n",
    "    plt.title(f'{roi}',fontsize=24)\n",
    "\n",
    "\n",
    "    \n",
    "    sns.despine()\n",
    "    \n",
    "    plt.savefig(f'{fig_save_dir}/rt_cpebeta_bdi_2{roi}_{date}.pdf', format='pdf', metadata=None,\n",
    "        bbox_inches='tight', pad_inches=0.1,dpi=300,\n",
    "        facecolor='auto', edgecolor='auto',\n",
    "        backend=None)\n",
    "    "
   ]
  },
  {
   "cell_type": "code",
   "execution_count": null,
   "id": "300ba29d",
   "metadata": {},
   "outputs": [],
   "source": [
    "roi_bdi_plot_data"
   ]
  },
  {
   "cell_type": "code",
   "execution_count": null,
   "id": "aec1ee52",
   "metadata": {},
   "outputs": [],
   "source": [
    "beta_reg_df['Depressed'] = ['Low BDI' if bdi<20 else 'High BDI' for bdi in beta_reg_df.bdi]\n",
    "beta_reg_df"
   ]
  },
  {
   "cell_type": "code",
   "execution_count": null,
   "id": "ff661afc",
   "metadata": {},
   "outputs": [],
   "source": [
    "roi_bdi_plot_data.unique_reref_ch.unique().tolist()"
   ]
  },
  {
   "cell_type": "code",
   "execution_count": null,
   "id": "8cb45c4f",
   "metadata": {},
   "outputs": [],
   "source": [
    "beta_lmplot = beta_reg_df.copy()\n",
    "beta_lmplot = beta_lmplot.groupby('unique_reref_ch').agg('mean').reset_index()\n",
    "beta_lmplot['Depressed'] = ['Low BDI' if bdi<20 else 'High BDI' for bdi in beta_lmplot.bdi]\n",
    "beta_lmplot = beta_lmplot[beta_lmplot.unique_reref_ch.isin(roi_bdi_plot_data.unique_reref_ch.unique().tolist())]\n",
    "\n",
    "beta_lmplot['raw_rt_coeff']  = [roi_bdi_plot_data[roi_bdi_plot_data.unique_reref_ch == elec][\n",
    "    'raw_decisionCPE:band_pow'].values[0] for elec in beta_lmplot.unique_reref_ch]\n",
    "\n",
    "beta_lmplot['elec_bCPE']  = [roi_bdi_plot_data[roi_bdi_plot_data.unique_reref_ch == elec][\n",
    "    'elec_bCPE'].values[0] for elec in beta_lmplot.unique_reref_ch]\n",
    "\n",
    "beta_lmplot['roi']  = [roi_bdi_plot_data[roi_bdi_plot_data.unique_reref_ch == elec][\n",
    "    'roi'].values[0] for elec in beta_lmplot.unique_reref_ch]\n",
    "beta_lmplot"
   ]
  },
  {
   "cell_type": "code",
   "execution_count": null,
   "id": "f616020d",
   "metadata": {},
   "outputs": [],
   "source": [
    "lm_beta_reg_df['band_pow']"
   ]
  },
  {
   "cell_type": "code",
   "execution_count": null,
   "id": "702a34d5",
   "metadata": {},
   "outputs": [],
   "source": [
    "lm_beta_reg_df = beta_reg_df.copy()\n",
    "lm_beta_reg_df = lm_beta_reg_df[lm_beta_reg_df.unique_reref_ch.isin(\n",
    "    roi_bdi_plot_data.unique_reref_ch.unique().tolist())]\n",
    "\n",
    "\n",
    "lm_beta_reg_df['raw_rt_coeff']  = [roi_bdi_plot_data[roi_bdi_plot_data.unique_reref_ch == elec][\n",
    "    'raw_decisionCPE:band_pow'].values[0] for elec in lm_beta_reg_df.unique_reref_ch]\n",
    "\n",
    "lm_beta_reg_df['elec_bCPE']  = [roi_bdi_plot_data[roi_bdi_plot_data.unique_reref_ch == elec][\n",
    "    'elec_bCPE'].values[0] for elec in lm_beta_reg_df.unique_reref_ch]\n",
    "lm_beta_reg_df\n",
    "# beta_reg_df"
   ]
  },
  {
   "cell_type": "code",
   "execution_count": null,
   "id": "8945402d",
   "metadata": {},
   "outputs": [],
   "source": [
    "lm_beta_reg_df['Beta_Power_Thresh'] = ['High' if beta_pow > np.mean(lm_beta_reg_df['band_pow']) \n",
    "                                       else 'Low' for beta_pow in lm_beta_reg_df['band_pow']]\n",
    "\n",
    "lm_beta_reg_df['BDI-II'] = ['Low' if bdi<20 else 'High' for bdi in lm_beta_reg_df.bdi]\n",
    "lm_beta_reg_df"
   ]
  },
  {
   "cell_type": "code",
   "execution_count": null,
   "id": "7ec3d9c3",
   "metadata": {},
   "outputs": [],
   "source": [
    "lm_beta_reg_df['Beta_Power_Thresh'] = ['High' if beta_pow > np.mean(lm_beta_reg_df['band_pow']) \n",
    "                                       else 'Low' for beta_pow in lm_beta_reg_df['band_pow']]"
   ]
  },
  {
   "cell_type": "code",
   "execution_count": null,
   "id": "d8387b6f",
   "metadata": {},
   "outputs": [],
   "source": [
    "\n",
    "palette=dict(Low=\"#591a48\", High=\"#125549\")\n",
    "824973\n",
    "sns.regplot(ax=ax,data = all_behav.groupby('subj_id').agg('mean'),x='bdi',y='logRT_t1',color='#0b4e5f') #,color='#0b4e5f')\n"
   ]
  },
  {
   "cell_type": "code",
   "execution_count": null,
   "id": "97c0ea55",
   "metadata": {},
   "outputs": [],
   "source": [
    "\n",
    "lm_beta_reg_df['interaction_thresh'] = ['High' if elec_bCPE > np.mean(lm_beta_reg_df['elec_bCPE']) \n",
    "                                       else 'Low' for elec_bCPE in lm_beta_reg_df['elec_bCPE']]"
   ]
  },
  {
   "cell_type": "code",
   "execution_count": null,
   "id": "f696976f",
   "metadata": {},
   "outputs": [],
   "source": [
    "# fig,ax = plt.subplots(figsize=(7,5),dpi=500)\n",
    "sns.set_context(\"poster\",rc={'axes.linewidth': 1.5})\n",
    "sns.set_theme(style='ticks',rc={\"figure.dpi\": 500}) \n",
    "\n",
    "\n",
    "ax = sns.lmplot(data=lm_beta_reg_df,x='decisionCPE',y='logRT_t1',hue='Beta_Power_Thresh',scatter=False,height=4, \n",
    "           aspect=1.25,ci=95,palette=palette)\n",
    "sns.move_legend(ax, \"center right\")\n",
    "\n",
    "#     sns.regplot(data = roi_temp_data.groupby('subj_id').agg('mean'),x='bdi',y='raw_decisionCPE:band_pow'\n",
    "#                 ,color='#3f2755') \n",
    "# sns.regplot(data=beta_reg_df[beta_reg_df.Depressed=='Low BDI'],x='decisionCPE',y='band_pow',scatter=False,\n",
    "#            ci=95,color = '#173b6f')\n",
    "# sns.regplot(data=beta_reg_df[beta_reg_df.Depressed=='High BDI'],x='decisionCPE',y='band_pow',scatter=False,\n",
    "#            ci=95,color='#0b4e5f')\n",
    "\n",
    "\n",
    "plt.ylabel(r'$log(RT_t) \\sim cpe:beta_{{{zpow}}}$')\n",
    "# plt.xlabel(r'$cpe (z) $')\n",
    "sns.despine()\n",
    "plt.tick_params(length=0)\n",
    "# plt.text(7.25,0.07,f'rho: {np.round(r,3)} \\n p: {np.round(p_r,6)}',fontsize=16)\n",
    "\n",
    "\n"
   ]
  },
  {
   "cell_type": "code",
   "execution_count": null,
   "id": "81e262e5",
   "metadata": {},
   "outputs": [],
   "source": [
    "sns.set_theme(style='ticks') \n",
    "sns.set_context(\"poster\")\n",
    "\n",
    "# from matplotlib import rc\n",
    "# rc('text', usetex=False)\n",
    "\n",
    "\n",
    "fig,ax = plt.subplots(figsize=(8,5),dpi=500)\n",
    "# sns.set_context(\"poster\",rc={'axes.linewidth': 2})\n",
    "# sns.set_theme(style='ticks') \n",
    "\n",
    "# palette={'depression':\"#3f2755\",'no depression':\"#054a6f\"}\n",
    "\n",
    "palette={'high BDI':\"#125549\",'low BDI':\"#824973\"}\n",
    "\n",
    "\n",
    "# ax = sns.lmplot(data=beta_reg_df,x='decisionCPE',y='band_pow',hue='Depression',scatter=False,ci=95,palette=palette)\n",
    "# sns.move_legend(ax, loc='lower center', bbox_to_anchor=(0.1, 1),bbox_to_anchor=(-1, 0), ncol=2)\n",
    "\n",
    "# sns.move_legend(ax,\"upper center\", bbox_to_anchor=(0.5, 1), borderaxespad=0.1,frameon=False,framealpha=0,\n",
    "#                 fontsize='x-small',shadow=None,title=None,columnspacing=0.5,edgecolor=None,markerfirst=True,\n",
    "#                 markerscale=4,labelcolor=None, ncol=2)\n",
    "\n",
    "\n",
    "sns.regplot(data=beta_reg_df[beta_reg_df.Depressed=='Low BDI'],x='band_pow',y='logRT_t1',scatter=False,\n",
    "           ci=95,color = '#824973',label='Low BDI')\n",
    "sns.regplot(data=beta_reg_df[beta_reg_df.Depressed=='High BDI'],x='band_pow',y='logRT_t1',scatter=False,\n",
    "           ci=95,color='#125549',label='High BDI')\n",
    "\n",
    "plt.legend(fontsize=10)\n",
    "# borderaxespad=0,frameon=False,framealpha=0,\n",
    "sns.move_legend(ax,\"upper center\", bbox_to_anchor=(0.5, 1.1), frameon=False,framealpha=0,\n",
    "                fontsize='small',shadow=None,\n",
    "                columnspacing=2,ncol=2)\n",
    "\n",
    "\n",
    "plt.gca().yaxis.set_major_formatter(StrMethodFormatter('{x:,.2f}')) \n",
    "\n",
    "# plt.ylabel(r'$beta_{{{zpow}}}$')\n",
    "plt.ylabel(r'$log(RT_t)$')\n",
    "# plt.xlabel(r'$cpe(z)$')\n",
    "sns.despine()\n",
    "plt.tick_params(length=0)\n",
    "# plt.text(7.25,0.07,f'rho: {np.round(r,3)} \\n p: {np.round(p_r,6)}',fontsize=16)\n",
    "\n",
    "\n",
    "plt.savefig(f'{fig_save_dir}/rt_CPE_bdibandpow{date}.pdf', format='pdf', metadata=None,\n",
    "bbox_inches='tight', pad_inches=0.1,dpi=500,\n",
    "facecolor='auto', edgecolor='auto',\n",
    "backend=None)"
   ]
  },
  {
   "cell_type": "code",
   "execution_count": null,
   "id": "7701fc40",
   "metadata": {},
   "outputs": [],
   "source": [
    "sns.set_theme(style='ticks') \n",
    "sns.set_context(\"poster\")\n",
    "\n",
    "# from matplotlib import rc\n",
    "# rc('text', usetex=False)\n",
    "\n",
    "\n",
    "fig,ax = plt.subplots(figsize=(8,5),dpi=500)\n",
    "# sns.set_context(\"poster\",rc={'axes.linewidth': 2})\n",
    "# sns.set_theme(style='ticks') \n",
    "\n",
    "# palette={'depression':\"#3f2755\",'no depression':\"#054a6f\"}\n",
    "\n",
    "palette={'high BDI':\"#125549\",'low BDI':\"#ffb243\"}\n",
    "\n",
    "\n",
    "# ax = sns.lmplot(data=beta_reg_df,x='decisionCPE',y='band_pow',hue='Depression',scatter=False,ci=95,palette=palette)\n",
    "# sns.move_legend(ax, loc='lower center', bbox_to_anchor=(0.1, 1),bbox_to_anchor=(-1, 0), ncol=2)\n",
    "\n",
    "# sns.move_legend(ax,\"upper center\", bbox_to_anchor=(0.5, 1), borderaxespad=0.1,frameon=False,framealpha=0,\n",
    "#                 fontsize='x-small',shadow=None,title=None,columnspacing=0.5,edgecolor=None,markerfirst=True,\n",
    "#                 markerscale=4,labelcolor=None, ncol=2)\n",
    "\n",
    "\n",
    "sns.regplot(data=beta_reg_df[beta_reg_df.Depressed=='Low BDI'],x='decisionCPE',y='logRT_t1',scatter=False,\n",
    "           ci=95,color = '#ffb243',label='Low BDI')\n",
    "sns.regplot(data=beta_reg_df[beta_reg_df.Depressed=='High BDI'],x='decisionCPE',y='logRT_t1',scatter=False,\n",
    "           ci=95,color='#125549',label='High BDI')\n",
    "\n",
    "plt.legend(fontsize=10)\n",
    "# borderaxespad=0,frameon=False,framealpha=0,\n",
    "sns.move_legend(ax,\"upper center\", bbox_to_anchor=(0.5, 1.1), frameon=False,framealpha=0,\n",
    "                fontsize='small',shadow=None,\n",
    "                columnspacing=2,ncol=2)\n",
    "\n",
    "\n",
    "plt.gca().yaxis.set_major_formatter(StrMethodFormatter('{x:,.2f}')) \n",
    "\n",
    "# plt.ylabel(r'$beta_{{{zpow}}}$')\n",
    "plt.ylabel(r'$log(RT_t)$')\n",
    "plt.xlabel(r'$cpe(z)$')\n",
    "sns.despine()\n",
    "plt.tick_params(length=0)\n",
    "# plt.text(7.25,0.07,f'rho: {np.round(r,3)} \\n p: {np.round(p_r,6)}',fontsize=16)\n",
    "\n",
    "\n",
    "plt.savefig(f'{fig_save_dir}/rt_CPE_bdi{date}.pdf', format='pdf', metadata=None,\n",
    "bbox_inches='tight', pad_inches=0.1,dpi=500,\n",
    "facecolor='auto', edgecolor='auto',\n",
    "backend=None)"
   ]
  },
  {
   "cell_type": "code",
   "execution_count": null,
   "id": "1d0ce6ac",
   "metadata": {},
   "outputs": [],
   "source": [
    "lm_beta_reg_df"
   ]
  },
  {
   "cell_type": "code",
   "execution_count": null,
   "id": "f0fcfe99",
   "metadata": {},
   "outputs": [],
   "source": [
    "sns.set_theme(style='ticks') \n",
    "sns.set_context(\"poster\")\n",
    "\n",
    "# from matplotlib import rc\n",
    "# rc('text', usetex=False)\n",
    "\n",
    "\n",
    "fig,ax = plt.subplots(figsize=(8,5),dpi=500)\n",
    "# sns.set_context(\"poster\",rc={'axes.linewidth': 2})\n",
    "# sns.set_theme(style='ticks') \n",
    "\n",
    "# palette={'depression':\"#3f2755\",'no depression':\"#054a6f\"}\n",
    "\n",
    "palette={'high BDI':\"#125549\",'low BDI':\"#824973\"}\n",
    "\n",
    "\n",
    "# ax = sns.lmplot(data=beta_reg_df,x='decisionCPE',y='band_pow',hue='Depression',scatter=False,ci=95,palette=palette)\n",
    "# sns.move_legend(ax, loc='lower center', bbox_to_anchor=(0.1, 1),bbox_to_anchor=(-1, 0), ncol=2)\n",
    "\n",
    "# sns.move_legend(ax,\"upper center\", bbox_to_anchor=(0.5, 1), borderaxespad=0.1,frameon=False,framealpha=0,\n",
    "#                 fontsize='x-small',shadow=None,title=None,columnspacing=0.5,edgecolor=None,markerfirst=True,\n",
    "#                 markerscale=4,labelcolor=None, ncol=2)\n",
    "\n",
    "\n",
    "sns.regplot(data=beta_reg_df[beta_reg_df.Depressed=='Low BDI'],x='decisionCPE',y='logRT_t1',scatter=False,\n",
    "           ci=95,color = '#824973',label='Low BDI')\n",
    "sns.regplot(data=beta_reg_df[beta_reg_df.Depressed=='High BDI'],x='decisionCPE',y='logRT_t1',scatter=False,\n",
    "           ci=95,color='#125549',label='High BDI')\n",
    "\n",
    "plt.legend(fontsize=10)\n",
    "# borderaxespad=0,frameon=False,framealpha=0,\n",
    "sns.move_legend(ax,\"upper center\", bbox_to_anchor=(0.5, 1.1), frameon=False,framealpha=0,\n",
    "                fontsize='small',shadow=None,\n",
    "                columnspacing=2,ncol=2)\n",
    "\n",
    "\n",
    "plt.gca().yaxis.set_major_formatter(StrMethodFormatter('{x:,.2f}')) \n",
    "\n",
    "# plt.ylabel(r'$beta_{{{zpow}}}$')\n",
    "plt.ylabel(r'$log(RT_t)$')\n",
    "plt.xlabel(r'$cpe(z)$')\n",
    "sns.despine()\n",
    "plt.tick_params(length=0)\n",
    "# plt.text(7.25,0.07,f'rho: {np.round(r,3)} \\n p: {np.round(p_r,6)}',fontsize=16)\n",
    "\n",
    "\n",
    "plt.savefig(f'{fig_save_dir}/rt_CPE_bdi{date}.pdf', format='pdf', metadata=None,\n",
    "bbox_inches='tight', pad_inches=0.1,dpi=500,\n",
    "facecolor='auto', edgecolor='auto',\n",
    "backend=None)"
   ]
  },
  {
   "cell_type": "code",
   "execution_count": null,
   "id": "bf4fa4c5",
   "metadata": {},
   "outputs": [],
   "source": []
  },
  {
   "cell_type": "code",
   "execution_count": null,
   "id": "ecca50d0",
   "metadata": {},
   "outputs": [],
   "source": [
    "raw_rt_coeff\n",
    "054a6f\n",
    "824973"
   ]
  },
  {
   "cell_type": "code",
   "execution_count": null,
   "id": "630d56f2",
   "metadata": {},
   "outputs": [],
   "source": [
    "# fig,ax = plt.subplots(figsize=(7,5),dpi=500)\n",
    "sns.set_context(\"poster\",rc={'axes.linewidth': 1.5})\n",
    "\n",
    "sns.lmplot(data=lm_beta_reg_df,x='band_pow',y='logRT_t1',hue='Depressed',scatter=False,height=7, \n",
    "           aspect=1.25,ci=95)\n",
    "\n",
    "#     sns.regplot(data = roi_temp_data.groupby('subj_id').agg('mean'),x='bdi',y='raw_decisionCPE:band_pow'\n",
    "#                 ,color='#3f2755') \n",
    "# sns.regplot(data=lm_beta_reg_df[lm_beta_reg_df.Depressed=='Low BDI'],x='decisionCPE',y='raw_rt_coeff',\n",
    "#             scatter=False,\n",
    "#            ci=95,color = '#173b6f')\n",
    "# sns.regplot(data=lm_beta_reg_df[lm_beta_reg_df.Depressed=='High BDI'],x='decisionCPE',y='raw_rt_coeff',\n",
    "#             scatter=False,\n",
    "#            ci=95,color='#0b4e5f')\n",
    "\n",
    "\n",
    "plt.ylabel(r'$log(RT_t) \\sim cpe:beta_{{{zpow}}}$')\n",
    "plt.xlabel(r'$cpe (z) $')\n",
    "sns.despine()\n",
    "plt.tick_params(length=0)\n",
    "# plt.text(7.25,0.07,f'rho: {np.round(r,3)} \\n p: {np.round(p_r,6)}',fontsize=16)\n",
    "\n",
    "\n"
   ]
  },
  {
   "cell_type": "code",
   "execution_count": null,
   "id": "54b49220",
   "metadata": {},
   "outputs": [],
   "source": [
    "# fig,ax = plt.subplots(figsize=(7,5),dpi=500)\n",
    "sns.set_context(\"poster\",rc={'axes.linewidth': 1.5})\n",
    "\n",
    "sns.lmplot(data=lm_beta_reg_df,x='decisionCPE',y='logRT_t1',hue='Beta_Power_Thresh',scatter=False,height=7, \n",
    "           aspect=1.5,ci=95)\n",
    "\n",
    "#     sns.regplot(data = roi_temp_data.groupby('subj_id').agg('mean'),x='bdi',y='raw_decisionCPE:band_pow'\n",
    "#                 ,color='#3f2755') \n",
    "# sns.regplot(data=beta_reg_df[beta_reg_df.Depressed=='Low BDI'],x='decisionCPE',y='band_pow',scatter=False,\n",
    "#            ci=95,color = '#173b6f')\n",
    "# sns.regplot(data=beta_reg_df[beta_reg_df.Depressed=='High BDI'],x='decisionCPE',y='band_pow',scatter=False,\n",
    "#            ci=95,color='#0b4e5f')\n",
    "\n",
    "\n",
    "plt.ylabel(r'$log(RT_t) \\sim cpe:beta_{{{zpow}}}$')\n",
    "plt.xlabel(r'$cpe (z) $')\n",
    "sns.despine()\n",
    "plt.tick_params(length=0)\n",
    "# plt.text(7.25,0.07,f'rho: {np.round(r,3)} \\n p: {np.round(p_r,6)}',fontsize=16)\n",
    "\n"
   ]
  },
  {
   "cell_type": "code",
   "execution_count": null,
   "id": "3767fc55",
   "metadata": {},
   "outputs": [],
   "source": []
  }
 ],
 "metadata": {
  "kernelspec": {
   "display_name": "lfp_env",
   "language": "python",
   "name": "lfp_env"
  },
  "language_info": {
   "codemirror_mode": {
    "name": "ipython",
    "version": 3
   },
   "file_extension": ".py",
   "mimetype": "text/x-python",
   "name": "python",
   "nbconvert_exporter": "python",
   "pygments_lexer": "ipython3",
   "version": "3.10.4"
  }
 },
 "nbformat": 4,
 "nbformat_minor": 5
}
