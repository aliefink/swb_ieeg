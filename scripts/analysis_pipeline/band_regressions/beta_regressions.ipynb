{
 "cells": [
  {
   "cell_type": "markdown",
   "id": "58a19e33",
   "metadata": {},
   "source": [
    "# Beta Mixed Effects Models\n",
    "Created: 08/08/24 \\\n",
    "Updated: //2024 \\\n"
   ]
  },
  {
   "cell_type": "code",
   "execution_count": 1,
   "id": "a53ac954",
   "metadata": {},
   "outputs": [],
   "source": [
    "import numpy as np\n",
    "import mne\n",
    "from glob import glob\n",
    "import matplotlib.pyplot as plt\n",
    "from matplotlib.backends.backend_pdf import PdfPages\n",
    "import seaborn as sns\n",
    "from scipy.stats import zscore, linregress, ttest_ind, ttest_rel, ttest_1samp, pearsonr, spearmanr\n",
    "import pandas as pd\n",
    "from mne.preprocessing.bads import _find_outliers\n",
    "import os \n",
    "import joblib\n",
    "import re\n",
    "import datetime\n",
    "import scipy\n",
    "import random\n",
    "import statsmodels.api as sm\n",
    "import statsmodels.formula.api as smf\n",
    "from statsmodels.stats.outliers_influence import variance_inflation_factor\n",
    "from statsmodels.regression.mixed_linear_model import MixedLM \n",
    "from joblib import Parallel, delayed\n",
    "import pickle\n",
    "import itertools\n",
    "import time \n",
    "from matplotlib.ticker import StrMethodFormatter\n",
    "from matplotlib.colors import ListedColormap,LinearSegmentedColormap\n",
    "import matplotlib as mpl\n",
    "from matplotlib import cm\n",
    "\n",
    "\n",
    "\n",
    "import warnings\n",
    "warnings.filterwarnings('ignore')\n",
    "\n",
    "\n"
   ]
  },
  {
   "cell_type": "code",
   "execution_count": 2,
   "id": "e826d540",
   "metadata": {},
   "outputs": [],
   "source": [
    "%load_ext autoreload\n",
    "%autoreload 2"
   ]
  },
  {
   "cell_type": "code",
   "execution_count": 3,
   "id": "7cdeb07a",
   "metadata": {},
   "outputs": [
    {
     "name": "stdout",
     "output_type": "stream",
     "text": [
      "08082024\n"
     ]
    }
   ],
   "source": [
    "# Specify root directory for un-archived data and results \n",
    "base_dir   = '/sc/arion/projects/guLab/Alie/SWB/'\n",
    "anat_dir   = f'{base_dir}ephys_analysis/recon_labels/'\n",
    "neural_dir = f'{base_dir}ephys_analysis/data/'\n",
    "behav_dir  = f'{base_dir}swb_behav_models/data/behavior_preprocessed/'\n",
    "save_dir   = f'{base_dir}ephys_analysis/results/regression_data/'\n",
    "script_dir = '/hpc/users/finka03/swb_ephys_analysis/scripts/'\n",
    "\n",
    "date = datetime.date.today().strftime('%m%d%Y')\n",
    "print(date)"
   ]
  },
  {
   "cell_type": "code",
   "execution_count": 4,
   "id": "56649f93",
   "metadata": {},
   "outputs": [],
   "source": [
    "import sys\n",
    "sys.path.append(f'{base_dir}ephys_analysis/LFPAnalysis/')\n",
    "\n",
    "from LFPAnalysis import analysis_utils\n",
    "\n",
    "sys.path.append(f'{script_dir}analysis_notebooks/')\n",
    "\n",
    "from ieeg_tools import *"
   ]
  },
  {
   "cell_type": "code",
   "execution_count": 5,
   "id": "80e6cdea",
   "metadata": {},
   "outputs": [],
   "source": [
    "subj_ids = list(pd.read_excel(f'{base_dir}ephys_analysis/subj_info/SWB_subjects.xlsx', sheet_name='Usable_Subjects', usecols=[0]).PatientID)\n",
    "n_subj = len(subj_ids)\n",
    "# subj_ids\n"
   ]
  },
  {
   "cell_type": "code",
   "execution_count": 6,
   "id": "5d12e57a",
   "metadata": {},
   "outputs": [
    {
     "data": {
      "text/html": [
       "<div>\n",
       "<style scoped>\n",
       "    .dataframe tbody tr th:only-of-type {\n",
       "        vertical-align: middle;\n",
       "    }\n",
       "\n",
       "    .dataframe tbody tr th {\n",
       "        vertical-align: top;\n",
       "    }\n",
       "\n",
       "    .dataframe thead th {\n",
       "        text-align: right;\n",
       "    }\n",
       "</style>\n",
       "<table border=\"1\" class=\"dataframe\">\n",
       "  <thead>\n",
       "    <tr style=\"text-align: right;\">\n",
       "      <th></th>\n",
       "      <th>subj_id</th>\n",
       "      <th>bdi</th>\n",
       "    </tr>\n",
       "  </thead>\n",
       "  <tbody>\n",
       "    <tr>\n",
       "      <th>0</th>\n",
       "      <td>MS002</td>\n",
       "      <td>14</td>\n",
       "    </tr>\n",
       "    <tr>\n",
       "      <th>1</th>\n",
       "      <td>MS003</td>\n",
       "      <td>8</td>\n",
       "    </tr>\n",
       "    <tr>\n",
       "      <th>2</th>\n",
       "      <td>MS009</td>\n",
       "      <td>16</td>\n",
       "    </tr>\n",
       "    <tr>\n",
       "      <th>3</th>\n",
       "      <td>MS011</td>\n",
       "      <td>13</td>\n",
       "    </tr>\n",
       "    <tr>\n",
       "      <th>4</th>\n",
       "      <td>MS015</td>\n",
       "      <td>26</td>\n",
       "    </tr>\n",
       "    <tr>\n",
       "      <th>5</th>\n",
       "      <td>MS016</td>\n",
       "      <td>10</td>\n",
       "    </tr>\n",
       "    <tr>\n",
       "      <th>6</th>\n",
       "      <td>MS017</td>\n",
       "      <td>26</td>\n",
       "    </tr>\n",
       "    <tr>\n",
       "      <th>7</th>\n",
       "      <td>MS019</td>\n",
       "      <td>12</td>\n",
       "    </tr>\n",
       "    <tr>\n",
       "      <th>8</th>\n",
       "      <td>MS022</td>\n",
       "      <td>10</td>\n",
       "    </tr>\n",
       "    <tr>\n",
       "      <th>9</th>\n",
       "      <td>MS024</td>\n",
       "      <td>16</td>\n",
       "    </tr>\n",
       "    <tr>\n",
       "      <th>10</th>\n",
       "      <td>MS025</td>\n",
       "      <td>10</td>\n",
       "    </tr>\n",
       "    <tr>\n",
       "      <th>11</th>\n",
       "      <td>MS026</td>\n",
       "      <td>9</td>\n",
       "    </tr>\n",
       "    <tr>\n",
       "      <th>12</th>\n",
       "      <td>MS027</td>\n",
       "      <td>22</td>\n",
       "    </tr>\n",
       "    <tr>\n",
       "      <th>13</th>\n",
       "      <td>MS028</td>\n",
       "      <td>13</td>\n",
       "    </tr>\n",
       "    <tr>\n",
       "      <th>14</th>\n",
       "      <td>MS029</td>\n",
       "      <td>32</td>\n",
       "    </tr>\n",
       "    <tr>\n",
       "      <th>15</th>\n",
       "      <td>MS030</td>\n",
       "      <td>19</td>\n",
       "    </tr>\n",
       "    <tr>\n",
       "      <th>16</th>\n",
       "      <td>MS033</td>\n",
       "      <td>39</td>\n",
       "    </tr>\n",
       "    <tr>\n",
       "      <th>17</th>\n",
       "      <td>MS035</td>\n",
       "      <td>15</td>\n",
       "    </tr>\n",
       "    <tr>\n",
       "      <th>18</th>\n",
       "      <td>MS041</td>\n",
       "      <td>10</td>\n",
       "    </tr>\n",
       "    <tr>\n",
       "      <th>19</th>\n",
       "      <td>MS043</td>\n",
       "      <td>23</td>\n",
       "    </tr>\n",
       "    <tr>\n",
       "      <th>20</th>\n",
       "      <td>MS048</td>\n",
       "      <td>19</td>\n",
       "    </tr>\n",
       "    <tr>\n",
       "      <th>21</th>\n",
       "      <td>MS050</td>\n",
       "      <td>9</td>\n",
       "    </tr>\n",
       "    <tr>\n",
       "      <th>22</th>\n",
       "      <td>DA8</td>\n",
       "      <td>13</td>\n",
       "    </tr>\n",
       "    <tr>\n",
       "      <th>23</th>\n",
       "      <td>DA023</td>\n",
       "      <td>14</td>\n",
       "    </tr>\n",
       "    <tr>\n",
       "      <th>24</th>\n",
       "      <td>DA026</td>\n",
       "      <td>19</td>\n",
       "    </tr>\n",
       "    <tr>\n",
       "      <th>25</th>\n",
       "      <td>DA037</td>\n",
       "      <td>4</td>\n",
       "    </tr>\n",
       "    <tr>\n",
       "      <th>26</th>\n",
       "      <td>DA039</td>\n",
       "      <td>22</td>\n",
       "    </tr>\n",
       "  </tbody>\n",
       "</table>\n",
       "</div>"
      ],
      "text/plain": [
       "   subj_id  bdi\n",
       "0    MS002   14\n",
       "1    MS003    8\n",
       "2    MS009   16\n",
       "3    MS011   13\n",
       "4    MS015   26\n",
       "5    MS016   10\n",
       "6    MS017   26\n",
       "7    MS019   12\n",
       "8    MS022   10\n",
       "9    MS024   16\n",
       "10   MS025   10\n",
       "11   MS026    9\n",
       "12   MS027   22\n",
       "13   MS028   13\n",
       "14   MS029   32\n",
       "15   MS030   19\n",
       "16   MS033   39\n",
       "17   MS035   15\n",
       "18   MS041   10\n",
       "19   MS043   23\n",
       "20   MS048   19\n",
       "21   MS050    9\n",
       "22     DA8   13\n",
       "23   DA023   14\n",
       "24   DA026   19\n",
       "25   DA037    4\n",
       "26   DA039   22"
      ]
     },
     "execution_count": 6,
     "metadata": {},
     "output_type": "execute_result"
    }
   ],
   "source": [
    "bdi_list = pd.read_excel(f'{base_dir}ephys_analysis/subj_info/SWB_subjects.xlsx', sheet_name='Usable_Subjects', usecols=[3])\n",
    "bdi_list = list(bdi_list.SWB_BDI)\n",
    "subj_info_df = pd.DataFrame({'subj_id':subj_ids,'bdi':bdi_list})\n",
    "subj_info_df\n",
    "\n"
   ]
  },
  {
   "cell_type": "markdown",
   "id": "0b76da87",
   "metadata": {},
   "source": [
    "# Load Regression DF"
   ]
  },
  {
   "cell_type": "code",
   "execution_count": 7,
   "id": "8a4551ed",
   "metadata": {},
   "outputs": [],
   "source": [
    "band = 'beta'"
   ]
  },
  {
   "cell_type": "code",
   "execution_count": 8,
   "id": "83718196",
   "metadata": {},
   "outputs": [
    {
     "data": {
      "text/plain": [
       "array(['MS002', 'MS003', 'MS009', 'MS011', 'MS015', 'MS016', 'MS017',\n",
       "       'MS019', 'MS022', 'MS024', 'MS025', 'MS026', 'MS027', 'MS028',\n",
       "       'MS029', 'MS030', 'MS033', 'MS035', 'MS041', 'MS043', 'MS048',\n",
       "       'MS050', 'DA8', 'DA023', 'DA026', 'DA037', 'DA039'], dtype=object)"
      ]
     },
     "execution_count": 8,
     "metadata": {},
     "output_type": "execute_result"
    }
   ],
   "source": [
    "band_df = pd.read_csv(f'{save_dir}{band}_master_df.csv')\n",
    "band_df.subj_id.unique()"
   ]
  },
  {
   "cell_type": "code",
   "execution_count": 9,
   "id": "95fc6641",
   "metadata": {},
   "outputs": [],
   "source": [
    "roi_reref_labels_master_df = pd.read_csv(glob(f'{base_dir}ephys_analysis/results/roi_info/roi_reref_labels_master.csv')[0])\n",
    "roi_reref_labels_master_df = roi_reref_labels_master_df.drop(columns=['Unnamed: 0'])\n",
    "\n",
    "\n"
   ]
  },
  {
   "cell_type": "code",
   "execution_count": 10,
   "id": "911c782f",
   "metadata": {},
   "outputs": [
    {
     "data": {
      "text/plain": [
       "dmpfc            216\n",
       "ofc              202\n",
       "acc              193\n",
       "sts              155\n",
       "hpc              135\n",
       "amy              113\n",
       "dlpfc            107\n",
       "stg              105\n",
       "vlpfc             82\n",
       "ains              71\n",
       "smg               66\n",
       "pins              60\n",
       "thalamus          58\n",
       "mtg               57\n",
       "temporal pole     31\n",
       "mcc               28\n",
       "motor             25\n",
       "phg               25\n",
       "parietal          24\n",
       "vmpfc             23\n",
       "fusiform          19\n",
       "occipital         19\n",
       "itg               15\n",
       "angular           14\n",
       "somat             11\n",
       "premotor           9\n",
       "caudate            8\n",
       "pcc                1\n",
       "Name: roi, dtype: int64"
      ]
     },
     "execution_count": 10,
     "metadata": {},
     "output_type": "execute_result"
    }
   ],
   "source": [
    "roi_reref_labels_master_df.roi.value_counts()"
   ]
  },
  {
   "cell_type": "code",
   "execution_count": null,
   "id": "09b7d682",
   "metadata": {},
   "outputs": [],
   "source": []
  },
  {
   "cell_type": "code",
   "execution_count": 11,
   "id": "0a83a574",
   "metadata": {},
   "outputs": [
    {
     "data": {
      "text/plain": [
       "['dmpfc',\n",
       " 'ofc',\n",
       " 'acc',\n",
       " 'sts',\n",
       " 'hpc',\n",
       " 'amy',\n",
       " 'dlpfc',\n",
       " 'stg',\n",
       " 'vlpfc',\n",
       " 'ains',\n",
       " 'smg',\n",
       " 'pins',\n",
       " 'thalamus',\n",
       " 'mtg',\n",
       " 'temporal pole',\n",
       " 'mcc',\n",
       " 'motor',\n",
       " 'phg',\n",
       " 'parietal',\n",
       " 'vmpfc']"
      ]
     },
     "execution_count": 11,
     "metadata": {},
     "output_type": "execute_result"
    }
   ],
   "source": [
    "#### filter df by rois with electrode counts >= 50 *** updated to >15\n",
    "keep_rois = roi_reref_labels_master_df.roi.value_counts().index[roi_reref_labels_master_df.roi.value_counts(\n",
    ").values>=20].tolist()\n",
    "\n",
    "# keep_rois = roi_reref_labels_master_df.roi.value_counts().index[\n",
    "#     roi_reref_labels_master_df.roi.value_counts().values>=50].tolist()\n",
    "# keep_rois = ['dlpfc','vlpfc','dmpfc','ofc','ains','pins','acc','hpc','amy','mtg']     \n",
    "keep_rois\n"
   ]
  },
  {
   "cell_type": "code",
   "execution_count": 12,
   "id": "b070b09c",
   "metadata": {},
   "outputs": [
    {
     "data": {
      "text/plain": [
       "244136"
      ]
     },
     "execution_count": 12,
     "metadata": {},
     "output_type": "execute_result"
    }
   ],
   "source": [
    "####### NEW DATA FRAME \n",
    "reg_df = band_df.copy()\n",
    "reg_df = reg_df[reg_df.roi.isin(keep_rois)]\n",
    "len(reg_df)"
   ]
  },
  {
   "cell_type": "code",
   "execution_count": 13,
   "id": "83064f7f",
   "metadata": {
    "scrolled": true
   },
   "outputs": [
    {
     "data": {
      "text/plain": [
       "6.032583972049991"
      ]
     },
     "execution_count": 13,
     "metadata": {},
     "output_type": "execute_result"
    }
   ],
   "source": [
    "np.max(reg_df.band_pow)"
   ]
  },
  {
   "cell_type": "code",
   "execution_count": 14,
   "id": "b1f52041",
   "metadata": {},
   "outputs": [
    {
     "data": {
      "text/plain": [
       "-0.9714854334507784"
      ]
     },
     "execution_count": 14,
     "metadata": {},
     "output_type": "execute_result"
    }
   ],
   "source": [
    "np.min(reg_df.band_pow)"
   ]
  },
  {
   "cell_type": "markdown",
   "id": "b10cafdd",
   "metadata": {},
   "source": [
    "# POW ~ Outcome Vars Regressions"
   ]
  },
  {
   "cell_type": "code",
   "execution_count": 15,
   "id": "709a65f9",
   "metadata": {},
   "outputs": [],
   "source": [
    "outcome_var  = 'band_pow'\n",
    "rand_eff_var = 'unique_reref_ch'"
   ]
  },
  {
   "cell_type": "code",
   "execution_count": 16,
   "id": "1ee247bf",
   "metadata": {},
   "outputs": [
    {
     "name": "stdout",
     "output_type": "stream",
     "text": [
      "               Mixed Linear Model Regression Results\n",
      "===================================================================\n",
      "Model:                 MixedLM    Dependent Variable:    band_pow  \n",
      "No. Observations:      244112     Method:                ML        \n",
      "No. Groups:            1776       Scale:                 0.0417    \n",
      "Min. group size:       65         Log-Likelihood:        38019.1375\n",
      "Max. group size:       148        Converged:             Yes       \n",
      "Mean group size:       137.5                                       \n",
      "-------------------------------------------------------------------\n",
      "                        Coef.  Std.Err.    z    P>|z| [0.025 0.975]\n",
      "-------------------------------------------------------------------\n",
      "Intercept               -0.055    0.002 -22.454 0.000 -0.060 -0.050\n",
      "decisionCPE              0.006    0.001   5.955 0.000  0.004  0.007\n",
      "Group Var                0.010    0.002                            \n",
      "Group x decisionCPE Cov  0.000    0.000                            \n",
      "decisionCPE Var          0.000    0.000                            \n",
      "===================================================================\n",
      "\n"
     ]
    },
    {
     "data": {
      "text/plain": [
       "-75963.84280269922"
      ]
     },
     "execution_count": 16,
     "metadata": {},
     "output_type": "execute_result"
    }
   ],
   "source": [
    "final_vars   = ['decisionCPE']\n",
    "final_fit = fit_mixed_model(reg_df,final_vars,outcome_var,rand_eff_var,reml=False)\n",
    "print(final_fit.summary())\n",
    "final_fit.bic  "
   ]
  },
  {
   "cell_type": "code",
   "execution_count": 17,
   "id": "2efd153c",
   "metadata": {},
   "outputs": [
    {
     "name": "stdout",
     "output_type": "stream",
     "text": [
      "               Mixed Linear Model Regression Results\n",
      "===================================================================\n",
      "Model:                 MixedLM    Dependent Variable:    band_pow  \n",
      "No. Observations:      244112     Method:                ML        \n",
      "No. Groups:            1776       Scale:                 0.0416    \n",
      "Min. group size:       65         Log-Likelihood:        38095.9012\n",
      "Max. group size:       148        Converged:             Yes       \n",
      "Mean group size:       137.5                                       \n",
      "-------------------------------------------------------------------\n",
      "                        Coef.  Std.Err.    z    P>|z| [0.025 0.975]\n",
      "-------------------------------------------------------------------\n",
      "Intercept               -0.055    0.002 -22.449 0.000 -0.060 -0.050\n",
      "RPE                      0.007    0.001   5.412 0.000  0.004  0.009\n",
      "decisionCPE              0.001    0.001   0.719 0.472 -0.001  0.003\n",
      "Group Var                0.010    0.002                            \n",
      "Group x RPE Cov         -0.000    0.001                            \n",
      "RPE Var                  0.001    0.001                            \n",
      "Group x decisionCPE Cov  0.000    0.001                            \n",
      "RPE x decisionCPE Cov    0.000    0.000                            \n",
      "decisionCPE Var          0.000    0.000                            \n",
      "===================================================================\n",
      "\n"
     ]
    },
    {
     "data": {
      "text/plain": [
       "-76067.74855549095"
      ]
     },
     "execution_count": 17,
     "metadata": {},
     "output_type": "execute_result"
    }
   ],
   "source": [
    "final_vars   = ['RPE','decisionCPE']\n",
    "final_fit = fit_mixed_model(reg_df,final_vars,outcome_var,rand_eff_var,reml=False)\n",
    "print(final_fit.summary())\n",
    "final_fit.bic  "
   ]
  },
  {
   "cell_type": "code",
   "execution_count": 18,
   "id": "1955df2f",
   "metadata": {},
   "outputs": [
    {
     "name": "stdout",
     "output_type": "stream",
     "text": [
      "                Mixed Linear Model Regression Results\n",
      "=====================================================================\n",
      "Model:                 MixedLM     Dependent Variable:     band_pow  \n",
      "No. Observations:      244112      Method:                 ML        \n",
      "No. Groups:            1776        Scale:                  0.0415    \n",
      "Min. group size:       65          Log-Likelihood:         38159.6036\n",
      "Max. group size:       148         Converged:              Yes       \n",
      "Mean group size:       137.5                                         \n",
      "---------------------------------------------------------------------\n",
      "                          Coef.  Std.Err.    z    P>|z| [0.025 0.975]\n",
      "---------------------------------------------------------------------\n",
      "Intercept                 -0.055    0.002 -22.454 0.000 -0.060 -0.050\n",
      "TrialEV                    0.005    0.001   5.644 0.000  0.003  0.007\n",
      "RPE                        0.007    0.001   5.153 0.000  0.004  0.009\n",
      "decisionCPE                0.001    0.001   0.931 0.352 -0.001  0.003\n",
      "Group Var                  0.010    0.002                            \n",
      "Group x TrialEV Cov       -0.000    0.000                            \n",
      "TrialEV Var                0.000    0.000                            \n",
      "Group x RPE Cov           -0.000    0.001                            \n",
      "TrialEV x RPE Cov          0.000    0.000                            \n",
      "RPE Var                    0.001    0.001                            \n",
      "Group x decisionCPE Cov    0.000    0.001                            \n",
      "TrialEV x decisionCPE Cov  0.000    0.000                            \n",
      "RPE x decisionCPE Cov     -0.000    0.000                            \n",
      "decisionCPE Var            0.000    0.000                            \n",
      "=====================================================================\n",
      "\n"
     ]
    },
    {
     "data": {
      "text/plain": [
       "-76133.12655751391"
      ]
     },
     "execution_count": 18,
     "metadata": {},
     "output_type": "execute_result"
    }
   ],
   "source": [
    "final_vars   = ['TrialEV','RPE','decisionCPE']\n",
    "final_fit = fit_mixed_model(reg_df,final_vars,outcome_var,rand_eff_var,reml=False)\n",
    "print(final_fit.summary())\n",
    "final_fit.bic  "
   ]
  },
  {
   "cell_type": "code",
   "execution_count": 19,
   "id": "a0e7453d",
   "metadata": {},
   "outputs": [
    {
     "name": "stdout",
     "output_type": "stream",
     "text": [
      "                        Mixed Linear Model Regression Results\n",
      "=====================================================================================\n",
      "Model:                       MixedLM          Dependent Variable:          band_pow  \n",
      "No. Observations:            244112           Method:                      ML        \n",
      "No. Groups:                  1776             Scale:                       0.0408    \n",
      "Min. group size:             65               Log-Likelihood:              39057.2397\n",
      "Max. group size:             148              Converged:                   Yes       \n",
      "Mean group size:             137.5                                                   \n",
      "-------------------------------------------------------------------------------------\n",
      "                                          Coef.  Std.Err.    z    P>|z| [0.025 0.975]\n",
      "-------------------------------------------------------------------------------------\n",
      "Intercept                                 -0.053    0.003 -20.559 0.000 -0.058 -0.048\n",
      "C(GambleChoice)[T.safe]                   -0.006    0.001  -4.528 0.000 -0.009 -0.004\n",
      "TotalProfit                                0.006    0.001   4.553 0.000  0.003  0.008\n",
      "decisionCPE                                0.005    0.001   5.810 0.000  0.004  0.007\n",
      "Group Var                                  0.011    0.002                            \n",
      "Group x C(GambleChoice)[T.safe] Cov       -0.001    0.001                            \n",
      "C(GambleChoice)[T.safe] Var                0.002    0.001                            \n",
      "Group x TotalProfit Cov                   -0.001    0.001                            \n",
      "C(GambleChoice)[T.safe] x TotalProfit Cov  0.000    0.000                            \n",
      "TotalProfit Var                            0.001    0.000                            \n",
      "Group x decisionCPE Cov                    0.000    0.000                            \n",
      "C(GambleChoice)[T.safe] x decisionCPE Cov -0.000    0.000                            \n",
      "TotalProfit x decisionCPE Cov              0.000    0.000                            \n",
      "decisionCPE Var                            0.000    0.000                            \n",
      "=====================================================================================\n",
      "\n"
     ]
    },
    {
     "data": {
      "text/plain": [
       "-77928.39857466736"
      ]
     },
     "execution_count": 19,
     "metadata": {},
     "output_type": "execute_result"
    }
   ],
   "source": [
    "final_vars   = ['C(GambleChoice)', 'TotalProfit', 'decisionCPE']\n",
    "final_fit = fit_mixed_model(reg_df,final_vars,outcome_var,rand_eff_var,reml=False)\n",
    "print(final_fit.summary())\n",
    "final_fit.bic  "
   ]
  },
  {
   "cell_type": "code",
   "execution_count": 20,
   "id": "867371b4",
   "metadata": {},
   "outputs": [
    {
     "name": "stdout",
     "output_type": "stream",
     "text": [
      "                          Mixed Linear Model Regression Results\n",
      "==========================================================================================\n",
      "Model:                        MixedLM            Dependent Variable:            band_pow  \n",
      "No. Observations:             244112             Method:                        ML        \n",
      "No. Groups:                   1776               Scale:                         0.0411    \n",
      "Min. group size:              65                 Log-Likelihood:                38547.8147\n",
      "Max. group size:              148                Converged:                     Yes       \n",
      "Mean group size:              137.5                                                       \n",
      "------------------------------------------------------------------------------------------\n",
      "                                               Coef.  Std.Err.    z    P>|z| [0.025 0.975]\n",
      "------------------------------------------------------------------------------------------\n",
      "Intercept                                      -0.054    0.003 -21.404 0.000 -0.059 -0.049\n",
      "C(TrialType)[T.loss]                           -0.001    0.001  -0.421 0.674 -0.003  0.002\n",
      "C(TrialType)[T.mix]                            -0.003    0.001  -2.142 0.032 -0.005 -0.000\n",
      "TrialEV                                         0.005    0.001   4.579 0.000  0.003  0.007\n",
      "TotalProfit                                     0.005    0.001   4.159 0.000  0.003  0.007\n",
      "decisionCPE                                     0.005    0.001   5.740 0.000  0.003  0.007\n",
      "Group Var                                       0.010    0.002                            \n",
      "Group x C(TrialType)[T.loss] Cov                0.000    0.001                            \n",
      "C(TrialType)[T.loss] Var                        0.000    0.000                            \n",
      "Group x C(TrialType)[T.mix] Cov                -0.000    0.001                            \n",
      "C(TrialType)[T.loss] x C(TrialType)[T.mix] Cov  0.001    0.000                            \n",
      "C(TrialType)[T.mix] Var                         0.001    0.001                            \n",
      "Group x TrialEV Cov                            -0.000    0.001                            \n",
      "C(TrialType)[T.loss] x TrialEV Cov              0.000    0.000                            \n",
      "C(TrialType)[T.mix] x TrialEV Cov               0.000    0.000                            \n",
      "TrialEV Var                                     0.000    0.000                            \n",
      "Group x TotalProfit Cov                        -0.000    0.001                            \n",
      "C(TrialType)[T.loss] x TotalProfit Cov          0.000    0.000                            \n",
      "C(TrialType)[T.mix] x TotalProfit Cov          -0.000    0.000                            \n",
      "TrialEV x TotalProfit Cov                      -0.000    0.000                            \n",
      "TotalProfit Var                                 0.001    0.000                            \n",
      "Group x decisionCPE Cov                         0.000    0.000                            \n",
      "C(TrialType)[T.loss] x decisionCPE Cov          0.000    0.000                            \n",
      "C(TrialType)[T.mix] x decisionCPE Cov           0.000    0.000                            \n",
      "TrialEV x decisionCPE Cov                       0.000    0.000                            \n",
      "TotalProfit x decisionCPE Cov                   0.000    0.000                            \n",
      "decisionCPE Var                                 0.000    0.000                            \n",
      "==========================================================================================\n",
      "\n"
     ]
    },
    {
     "data": {
      "text/plain": [
       "-76748.27878718339"
      ]
     },
     "execution_count": 20,
     "metadata": {},
     "output_type": "execute_result"
    }
   ],
   "source": [
    "final_vars   = ['C(TrialType)','TrialEV', 'TotalProfit', 'decisionCPE']\n",
    "final_fit = fit_mixed_model(reg_df,final_vars,outcome_var,rand_eff_var,reml=False)\n",
    "print(final_fit.summary())\n",
    "final_fit.bic    "
   ]
  },
  {
   "cell_type": "code",
   "execution_count": 21,
   "id": "9cfa698e",
   "metadata": {
    "scrolled": false
   },
   "outputs": [
    {
     "name": "stdout",
     "output_type": "stream",
     "text": [
      "                        Mixed Linear Model Regression Results\n",
      "=====================================================================================\n",
      "Model:                       MixedLM          Dependent Variable:          band_pow  \n",
      "No. Observations:            244112           Method:                      ML        \n",
      "No. Groups:                  1776             Scale:                       0.0408    \n",
      "Min. group size:             65               Log-Likelihood:              39073.2571\n",
      "Max. group size:             148              Converged:                   Yes       \n",
      "Mean group size:             137.5                                                   \n",
      "-------------------------------------------------------------------------------------\n",
      "                                          Coef.  Std.Err.    z    P>|z| [0.025 0.975]\n",
      "-------------------------------------------------------------------------------------\n",
      "Intercept                                 -0.053    0.003 -20.722 0.000 -0.058 -0.048\n",
      "C(GambleChoice)[T.safe]                   -0.005    0.001  -3.626 0.000 -0.008 -0.002\n",
      "TrialEV                                    0.004    0.001   4.018 0.000  0.002  0.005\n",
      "TotalProfit                                0.005    0.001   4.439 0.000  0.003  0.008\n",
      "decisionCPE                                0.005    0.001   5.738 0.000  0.003  0.007\n",
      "Group Var                                  0.011    0.002                            \n",
      "Group x C(GambleChoice)[T.safe] Cov       -0.001    0.001                            \n",
      "C(GambleChoice)[T.safe] Var                0.002    0.001                            \n",
      "Group x TrialEV Cov                       -0.000    0.000                            \n",
      "C(GambleChoice)[T.safe] x TrialEV Cov     -0.000    0.000                            \n",
      "TrialEV Var                                0.000    0.000                            \n",
      "Group x TotalProfit Cov                   -0.001    0.001                            \n",
      "C(GambleChoice)[T.safe] x TotalProfit Cov  0.000    0.000                            \n",
      "TrialEV x TotalProfit Cov                  0.000    0.000                            \n",
      "TotalProfit Var                            0.001    0.000                            \n",
      "Group x decisionCPE Cov                    0.000    0.000                            \n",
      "C(GambleChoice)[T.safe] x decisionCPE Cov -0.000    0.000                            \n",
      "TrialEV x decisionCPE Cov                  0.000    0.000                            \n",
      "TotalProfit x decisionCPE Cov              0.000    0.000                            \n",
      "decisionCPE Var                            0.000    0.000                            \n",
      "=====================================================================================\n",
      "\n"
     ]
    },
    {
     "data": {
      "text/plain": [
       "-77886.00117049165"
      ]
     },
     "execution_count": 21,
     "metadata": {},
     "output_type": "execute_result"
    }
   ],
   "source": [
    "final_vars   = ['C(GambleChoice)', 'TrialEV','TotalProfit', 'decisionCPE']\n",
    "final_fit = fit_mixed_model(reg_df,final_vars,outcome_var,rand_eff_var,reml=False)\n",
    "print(final_fit.summary())\n",
    "final_fit.bic  "
   ]
  },
  {
   "cell_type": "code",
   "execution_count": 22,
   "id": "63284933",
   "metadata": {},
   "outputs": [
    {
     "name": "stdout",
     "output_type": "stream",
     "text": [
      "                        Mixed Linear Model Regression Results\n",
      "=====================================================================================\n",
      "Model:                       MixedLM          Dependent Variable:          band_pow  \n",
      "No. Observations:            244112           Method:                      ML        \n",
      "No. Groups:                  1776             Scale:                       0.0412    \n",
      "Min. group size:             65               Log-Likelihood:              38674.3712\n",
      "Max. group size:             148              Converged:                   Yes       \n",
      "Mean group size:             137.5                                                   \n",
      "-------------------------------------------------------------------------------------\n",
      "                                          Coef.  Std.Err.    z    P>|z| [0.025 0.975]\n",
      "-------------------------------------------------------------------------------------\n",
      "Intercept                                 -0.053    0.003 -20.750 0.000 -0.059 -0.048\n",
      "C(GambleChoice)[T.safe]                   -0.005    0.001  -3.362 0.001 -0.008 -0.002\n",
      "TrialEV                                    0.004    0.001   4.065 0.000  0.002  0.005\n",
      "decisionCPE                                0.006    0.001   6.008 0.000  0.004  0.007\n",
      "Group Var                                  0.011    0.002                            \n",
      "Group x C(GambleChoice)[T.safe] Cov       -0.001    0.001                            \n",
      "C(GambleChoice)[T.safe] Var                0.002    0.001                            \n",
      "Group x TrialEV Cov                       -0.000    0.000                            \n",
      "C(GambleChoice)[T.safe] x TrialEV Cov     -0.000    0.000                            \n",
      "TrialEV Var                                0.000    0.000                            \n",
      "Group x decisionCPE Cov                    0.000    0.000                            \n",
      "C(GambleChoice)[T.safe] x decisionCPE Cov -0.000    0.000                            \n",
      "TrialEV x decisionCPE Cov                  0.000    0.000                            \n",
      "decisionCPE Var                            0.000    0.000                            \n",
      "=====================================================================================\n",
      "\n"
     ]
    },
    {
     "data": {
      "text/plain": [
       "-77162.6616648732"
      ]
     },
     "execution_count": 22,
     "metadata": {},
     "output_type": "execute_result"
    }
   ],
   "source": [
    "final_vars   = ['C(GambleChoice)', 'TrialEV', 'decisionCPE']\n",
    "final_fit = fit_mixed_model(reg_df,final_vars,outcome_var,rand_eff_var,reml=False)\n",
    "print(final_fit.summary())\n",
    "final_fit.bic  "
   ]
  },
  {
   "cell_type": "code",
   "execution_count": 23,
   "id": "dd3f78f0",
   "metadata": {},
   "outputs": [
    {
     "name": "stdout",
     "output_type": "stream",
     "text": [
      "                  Mixed Linear Model Regression Results\n",
      "=========================================================================\n",
      "Model:                   MixedLM      Dependent Variable:      band_pow  \n",
      "No. Observations:        244112       Method:                  ML        \n",
      "No. Groups:              1776         Scale:                   0.0413    \n",
      "Min. group size:         65           Log-Likelihood:          38465.1715\n",
      "Max. group size:         148          Converged:               Yes       \n",
      "Mean group size:         137.5                                           \n",
      "-------------------------------------------------------------------------\n",
      "                              Coef.  Std.Err.    z    P>|z| [0.025 0.975]\n",
      "-------------------------------------------------------------------------\n",
      "Intercept                     -0.055    0.002 -22.447 0.000 -0.060 -0.050\n",
      "TrialEV                        0.005    0.001   5.810 0.000  0.004  0.007\n",
      "TotalProfit                    0.005    0.001   4.226 0.000  0.003  0.008\n",
      "decisionCPE                    0.005    0.001   5.704 0.000  0.003  0.007\n",
      "Group Var                      0.010    0.002                            \n",
      "Group x TrialEV Cov           -0.000    0.000                            \n",
      "TrialEV Var                    0.000    0.000                            \n",
      "Group x TotalProfit Cov       -0.000    0.001                            \n",
      "TrialEV x TotalProfit Cov     -0.000    0.000                            \n",
      "TotalProfit Var                0.001    0.000                            \n",
      "Group x decisionCPE Cov        0.000    0.000                            \n",
      "TrialEV x decisionCPE Cov      0.000    0.000                            \n",
      "TotalProfit x decisionCPE Cov  0.000    0.000                            \n",
      "decisionCPE Var                0.000    0.000                            \n",
      "=========================================================================\n",
      "\n"
     ]
    },
    {
     "data": {
      "text/plain": [
       "-76744.26232072695"
      ]
     },
     "execution_count": 23,
     "metadata": {},
     "output_type": "execute_result"
    }
   ],
   "source": [
    "final_vars   = ['TrialEV', 'TotalProfit', 'decisionCPE']\n",
    "final_fit = fit_mixed_model(reg_df,final_vars,outcome_var,rand_eff_var,reml=False)\n",
    "print(final_fit.summary())\n",
    "final_fit.bic  "
   ]
  },
  {
   "cell_type": "code",
   "execution_count": 24,
   "id": "12ef5916",
   "metadata": {},
   "outputs": [
    {
     "name": "stdout",
     "output_type": "stream",
     "text": [
      "                        Mixed Linear Model Regression Results\n",
      "=====================================================================================\n",
      "Model:                       MixedLM          Dependent Variable:          band_pow  \n",
      "No. Observations:            244112           Method:                      ML        \n",
      "No. Groups:                  1776             Scale:                       0.0412    \n",
      "Min. group size:             65               Log-Likelihood:              38656.6641\n",
      "Max. group size:             148              Converged:                   Yes       \n",
      "Mean group size:             137.5                                                   \n",
      "-------------------------------------------------------------------------------------\n",
      "                                          Coef.  Std.Err.    z    P>|z| [0.025 0.975]\n",
      "-------------------------------------------------------------------------------------\n",
      "Intercept                                 -0.053    0.003 -20.586 0.000 -0.058 -0.048\n",
      "C(GambleChoice)[T.safe]                   -0.006    0.001  -4.273 0.000 -0.009 -0.003\n",
      "decisionCPE                                0.006    0.001   6.084 0.000  0.004  0.008\n",
      "Group Var                                  0.011    0.002                            \n",
      "Group x C(GambleChoice)[T.safe] Cov       -0.001    0.001                            \n",
      "C(GambleChoice)[T.safe] Var                0.002    0.001                            \n",
      "Group x decisionCPE Cov                    0.000    0.000                            \n",
      "C(GambleChoice)[T.safe] x decisionCPE Cov -0.000    0.000                            \n",
      "decisionCPE Var                            0.000    0.000                            \n",
      "=====================================================================================\n",
      "\n"
     ]
    },
    {
     "data": {
      "text/plain": [
       "-77189.27434340885"
      ]
     },
     "execution_count": 24,
     "metadata": {},
     "output_type": "execute_result"
    }
   ],
   "source": [
    "final_vars   = ['C(GambleChoice)', 'decisionCPE']\n",
    "final_fit = fit_mixed_model(reg_df,final_vars,outcome_var,rand_eff_var,reml=False)\n",
    "print(final_fit.summary())\n",
    "final_fit.bic  "
   ]
  },
  {
   "cell_type": "code",
   "execution_count": 25,
   "id": "1d4c9909",
   "metadata": {},
   "outputs": [
    {
     "name": "stdout",
     "output_type": "stream",
     "text": [
      "                  Mixed Linear Model Regression Results\n",
      "=========================================================================\n",
      "Model:                   MixedLM      Dependent Variable:      band_pow  \n",
      "No. Observations:        244112       Method:                  ML        \n",
      "No. Groups:              1776         Scale:                   0.0414    \n",
      "Min. group size:         65           Log-Likelihood:          38398.0126\n",
      "Max. group size:         148          Converged:               Yes       \n",
      "Mean group size:         137.5                                           \n",
      "-------------------------------------------------------------------------\n",
      "                              Coef.  Std.Err.    z    P>|z| [0.025 0.975]\n",
      "-------------------------------------------------------------------------\n",
      "Intercept                     -0.055    0.002 -22.451 0.000 -0.060 -0.050\n",
      "TotalProfit                    0.005    0.001   4.349 0.000  0.003  0.008\n",
      "decisionCPE                    0.005    0.001   5.702 0.000  0.003  0.007\n",
      "Group Var                      0.010    0.002                            \n",
      "Group x TotalProfit Cov       -0.000    0.001                            \n",
      "TotalProfit Var                0.001    0.000                            \n",
      "Group x decisionCPE Cov        0.000    0.000                            \n",
      "TotalProfit x decisionCPE Cov  0.000    0.000                            \n",
      "decisionCPE Var                0.000    0.000                            \n",
      "=========================================================================\n",
      "\n"
     ]
    },
    {
     "data": {
      "text/plain": [
       "-76671.9713105091"
      ]
     },
     "execution_count": 25,
     "metadata": {},
     "output_type": "execute_result"
    }
   ],
   "source": [
    "final_vars   = ['TotalProfit', 'decisionCPE']\n",
    "final_fit = fit_mixed_model(reg_df,final_vars,outcome_var,rand_eff_var,reml=False)\n",
    "print(final_fit.summary())\n",
    "final_fit.bic  "
   ]
  },
  {
   "cell_type": "code",
   "execution_count": 26,
   "id": "07eca761",
   "metadata": {},
   "outputs": [
    {
     "name": "stdout",
     "output_type": "stream",
     "text": [
      "                Mixed Linear Model Regression Results\n",
      "=====================================================================\n",
      "Model:                 MixedLM     Dependent Variable:     band_pow  \n",
      "No. Observations:      244112      Method:                 ML        \n",
      "No. Groups:            1776        Scale:                  0.0416    \n",
      "Min. group size:       65          Log-Likelihood:         38085.5041\n",
      "Max. group size:       148         Converged:              Yes       \n",
      "Mean group size:       137.5                                         \n",
      "---------------------------------------------------------------------\n",
      "                          Coef.  Std.Err.    z    P>|z| [0.025 0.975]\n",
      "---------------------------------------------------------------------\n",
      "Intercept                 -0.055    0.002 -22.447 0.000 -0.060 -0.050\n",
      "TrialEV                    0.005    0.001   5.768 0.000  0.004  0.007\n",
      "decisionCPE                0.006    0.001   5.996 0.000  0.004  0.007\n",
      "Group Var                  0.010    0.002                            \n",
      "Group x TrialEV Cov       -0.000    0.000                            \n",
      "TrialEV Var                0.000    0.000                            \n",
      "Group x decisionCPE Cov    0.000    0.000                            \n",
      "TrialEV x decisionCPE Cov  0.000    0.000                            \n",
      "decisionCPE Var            0.000    0.000                            \n",
      "=====================================================================\n",
      "\n"
     ]
    },
    {
     "data": {
      "text/plain": [
       "-76046.95446374474"
      ]
     },
     "execution_count": 26,
     "metadata": {},
     "output_type": "execute_result"
    }
   ],
   "source": [
    "final_vars   = ['TrialEV', 'decisionCPE']\n",
    "final_fit = fit_mixed_model(reg_df,final_vars,outcome_var,rand_eff_var,reml=False)\n",
    "print(final_fit.summary())\n",
    "final_fit.bic  "
   ]
  },
  {
   "cell_type": "code",
   "execution_count": 27,
   "id": "373051aa",
   "metadata": {},
   "outputs": [
    {
     "name": "stdout",
     "output_type": "stream",
     "text": [
      "                          Mixed Linear Model Regression Results\n",
      "==========================================================================================\n",
      "Model:                        MixedLM            Dependent Variable:            band_pow  \n",
      "No. Observations:             244112             Method:                        ML        \n",
      "No. Groups:                   1776               Scale:                         0.0416    \n",
      "Min. group size:              65                 Log-Likelihood:                38105.0610\n",
      "Max. group size:              148                Converged:                     Yes       \n",
      "Mean group size:              137.5                                                       \n",
      "------------------------------------------------------------------------------------------\n",
      "                                               Coef.  Std.Err.    z    P>|z| [0.025 0.975]\n",
      "------------------------------------------------------------------------------------------\n",
      "Intercept                                      -0.052    0.003 -20.931 0.000 -0.057 -0.047\n",
      "C(TrialType)[T.loss]                           -0.004    0.001  -3.611 0.000 -0.006 -0.002\n",
      "C(TrialType)[T.mix]                            -0.005    0.001  -4.027 0.000 -0.007 -0.002\n",
      "decisionCPE                                     0.006    0.001   5.972 0.000  0.004  0.007\n",
      "Group Var                                       0.010    0.002                            \n",
      "Group x C(TrialType)[T.loss] Cov                0.000    0.001                            \n",
      "C(TrialType)[T.loss] Var                        0.000    0.000                            \n",
      "Group x C(TrialType)[T.mix] Cov                -0.000    0.001                            \n",
      "C(TrialType)[T.loss] x C(TrialType)[T.mix] Cov  0.000    0.000                            \n",
      "C(TrialType)[T.mix] Var                         0.001    0.000                            \n",
      "Group x decisionCPE Cov                         0.000    0.000                            \n",
      "C(TrialType)[T.loss] x decisionCPE Cov         -0.000    0.000                            \n",
      "C(TrialType)[T.mix] x decisionCPE Cov          -0.000    0.000                            \n",
      "decisionCPE Var                                 0.000    0.000                            \n",
      "==========================================================================================\n",
      "\n"
     ]
    },
    {
     "data": {
      "text/plain": [
       "-76024.04129696668"
      ]
     },
     "execution_count": 27,
     "metadata": {},
     "output_type": "execute_result"
    }
   ],
   "source": [
    "final_vars   = ['C(TrialType)','decisionCPE']\n",
    "final_fit = fit_mixed_model(reg_df,final_vars,outcome_var,rand_eff_var,reml=False)\n",
    "print(final_fit.summary())\n",
    "final_fit.bic    "
   ]
  },
  {
   "cell_type": "code",
   "execution_count": 28,
   "id": "f9522296",
   "metadata": {},
   "outputs": [
    {
     "name": "stdout",
     "output_type": "stream",
     "text": [
      "                          Mixed Linear Model Regression Results\n",
      "==========================================================================================\n",
      "Model:                        MixedLM            Dependent Variable:            band_pow  \n",
      "No. Observations:             244112             Method:                        ML        \n",
      "No. Groups:                   1776               Scale:                         0.0412    \n",
      "Min. group size:              65                 Log-Likelihood:                38485.8225\n",
      "Max. group size:              148                Converged:                     Yes       \n",
      "Mean group size:              137.5                                                       \n",
      "------------------------------------------------------------------------------------------\n",
      "                                               Coef.  Std.Err.    z    P>|z| [0.025 0.975]\n",
      "------------------------------------------------------------------------------------------\n",
      "Intercept                                      -0.052    0.003 -20.960 0.000 -0.057 -0.048\n",
      "C(TrialType)[T.loss]                           -0.004    0.001  -3.283 0.001 -0.006 -0.001\n",
      "C(TrialType)[T.mix]                            -0.005    0.001  -4.080 0.000 -0.007 -0.003\n",
      "TotalProfit                                     0.005    0.001   4.117 0.000  0.003  0.007\n",
      "decisionCPE                                     0.005    0.001   5.715 0.000  0.003  0.007\n",
      "Group Var                                       0.010    0.002                            \n",
      "Group x C(TrialType)[T.loss] Cov                0.000    0.001                            \n",
      "C(TrialType)[T.loss] Var                        0.000    0.000                            \n",
      "Group x C(TrialType)[T.mix] Cov                -0.000    0.001                            \n",
      "C(TrialType)[T.loss] x C(TrialType)[T.mix] Cov  0.000    0.000                            \n",
      "C(TrialType)[T.mix] Var                         0.001    0.000                            \n",
      "Group x TotalProfit Cov                        -0.000    0.001                            \n",
      "C(TrialType)[T.loss] x TotalProfit Cov          0.000    0.000                            \n",
      "C(TrialType)[T.mix] x TotalProfit Cov          -0.000    0.000                            \n",
      "TotalProfit Var                                 0.001    0.000                            \n",
      "Group x decisionCPE Cov                         0.000    0.000                            \n",
      "C(TrialType)[T.loss] x decisionCPE Cov         -0.000    0.000                            \n",
      "C(TrialType)[T.mix] x decisionCPE Cov           0.000    0.000                            \n",
      "TotalProfit x decisionCPE Cov                   0.000    0.000                            \n",
      "decisionCPE Var                                 0.000    0.000                            \n",
      "==========================================================================================\n",
      "\n"
     ]
    },
    {
     "data": {
      "text/plain": [
       "-76711.13190240585"
      ]
     },
     "execution_count": 28,
     "metadata": {},
     "output_type": "execute_result"
    }
   ],
   "source": [
    "final_vars   = ['C(TrialType)','TotalProfit', 'decisionCPE']\n",
    "final_fit = fit_mixed_model(reg_df,final_vars,outcome_var,rand_eff_var,reml=False)\n",
    "print(final_fit.summary())\n",
    "final_fit.bic    "
   ]
  },
  {
   "cell_type": "code",
   "execution_count": 29,
   "id": "7fb47161",
   "metadata": {},
   "outputs": [
    {
     "name": "stdout",
     "output_type": "stream",
     "text": [
      "                          Mixed Linear Model Regression Results\n",
      "==========================================================================================\n",
      "Model:                        MixedLM            Dependent Variable:            band_pow  \n",
      "No. Observations:             244112             Method:                        ML        \n",
      "No. Groups:                   1776               Scale:                         0.0415    \n",
      "Min. group size:              65                 Log-Likelihood:                38163.6315\n",
      "Max. group size:              148                Converged:                     Yes       \n",
      "Mean group size:              137.5                                                       \n",
      "------------------------------------------------------------------------------------------\n",
      "                                               Coef.  Std.Err.    z    P>|z| [0.025 0.975]\n",
      "------------------------------------------------------------------------------------------\n",
      "Intercept                                      -0.054    0.003 -21.343 0.000 -0.059 -0.049\n",
      "C(TrialType)[T.loss]                           -0.001    0.001  -0.828 0.408 -0.004  0.001\n",
      "C(TrialType)[T.mix]                            -0.003    0.001  -2.184 0.029 -0.005 -0.000\n",
      "TrialEV                                         0.005    0.001   4.375 0.000  0.003  0.007\n",
      "decisionCPE                                     0.006    0.001   6.019 0.000  0.004  0.007\n",
      "Group Var                                       0.010    0.002                            \n",
      "Group x C(TrialType)[T.loss] Cov                0.000    0.001                            \n",
      "C(TrialType)[T.loss] Var                        0.000    0.000                            \n",
      "Group x C(TrialType)[T.mix] Cov                -0.000    0.001                            \n",
      "C(TrialType)[T.loss] x C(TrialType)[T.mix] Cov  0.001    0.000                            \n",
      "C(TrialType)[T.mix] Var                         0.001    0.000                            \n",
      "Group x TrialEV Cov                            -0.000    0.001                            \n",
      "C(TrialType)[T.loss] x TrialEV Cov              0.000    0.000                            \n",
      "C(TrialType)[T.mix] x TrialEV Cov               0.000    0.000                            \n",
      "TrialEV Var                                     0.000    0.000                            \n",
      "Group x decisionCPE Cov                         0.000    0.000                            \n",
      "C(TrialType)[T.loss] x decisionCPE Cov         -0.000    0.000                            \n",
      "C(TrialType)[T.mix] x decisionCPE Cov           0.000    0.000                            \n",
      "TrialEV x decisionCPE Cov                       0.000    0.000                            \n",
      "decisionCPE Var                                 0.000    0.000                            \n",
      "==========================================================================================\n",
      "\n"
     ]
    },
    {
     "data": {
      "text/plain": [
       "-76066.75006845719"
      ]
     },
     "execution_count": 29,
     "metadata": {},
     "output_type": "execute_result"
    }
   ],
   "source": [
    "final_vars   = ['C(TrialType)','TrialEV',  'decisionCPE']\n",
    "final_fit = fit_mixed_model(reg_df,final_vars,outcome_var,rand_eff_var,reml=False)\n",
    "print(final_fit.summary())\n",
    "final_fit.bic    "
   ]
  },
  {
   "cell_type": "markdown",
   "id": "2684e598",
   "metadata": {},
   "source": [
    "\n",
    "## ROI REGRESSIONS\n"
   ]
  },
  {
   "cell_type": "code",
   "execution_count": null,
   "id": "70b21e54",
   "metadata": {},
   "outputs": [],
   "source": [
    "# test_rois = ['dlpfc','vlpfc','dmpfc','ofc','ains','pins', 'acc','hpc','amy','motor']\n"
   ]
  },
  {
   "cell_type": "code",
   "execution_count": 30,
   "id": "fe32cee2",
   "metadata": {},
   "outputs": [],
   "source": [
    "outcome_var  = 'band_pow'\n",
    "rand_eff_var = 'unique_reref_ch'\n",
    "# final_vars   = ['C(GambleChoice)','TotalProfit','decisionCPE']\n",
    "final_vars   = ['C(GambleChoice)','TrialEV','TotalProfit','decisionCPE']"
   ]
  },
  {
   "cell_type": "code",
   "execution_count": 31,
   "id": "d4010256",
   "metadata": {},
   "outputs": [],
   "source": [
    "roi_fit_dict = {f'{roi}':fit_mixed_model(reg_df[reg_df.roi==roi],\n",
    "                                        final_vars,outcome_var,rand_eff_var,reml=False) \n",
    "                for roi in reg_df.roi.unique().tolist()}\n",
    "\n",
    "roi_fit_results = []\n",
    "\n",
    "for roi in list(roi_fit_dict.keys()):\n",
    "    roi_fit = mixed_eff_results_df(roi_fit_dict[roi],reg_df[reg_df.roi==roi])\n",
    "    roi_fit_results.append(roi_fit)\n",
    "    \n",
    "roi_fit_results = pd.concat(roi_fit_results).reset_index(drop=True)\n",
    "\n"
   ]
  },
  {
   "cell_type": "code",
   "execution_count": 32,
   "id": "03cab245",
   "metadata": {},
   "outputs": [
    {
     "data": {
      "text/html": [
       "<div>\n",
       "<style scoped>\n",
       "    .dataframe tbody tr th:only-of-type {\n",
       "        vertical-align: middle;\n",
       "    }\n",
       "\n",
       "    .dataframe tbody tr th {\n",
       "        vertical-align: top;\n",
       "    }\n",
       "\n",
       "    .dataframe thead th {\n",
       "        text-align: right;\n",
       "    }\n",
       "</style>\n",
       "<table border=\"1\" class=\"dataframe\">\n",
       "  <thead>\n",
       "    <tr style=\"text-align: right;\">\n",
       "      <th></th>\n",
       "      <th>unique_reref_ch</th>\n",
       "      <th>subj_id</th>\n",
       "      <th>roi</th>\n",
       "      <th>bdi</th>\n",
       "      <th>raw_Intercept</th>\n",
       "      <th>raw_GambleChoice</th>\n",
       "      <th>raw_TrialEV</th>\n",
       "      <th>raw_TotalProfit</th>\n",
       "      <th>raw_decisionCPE</th>\n",
       "      <th>Intercept</th>\n",
       "      <th>GambleChoice</th>\n",
       "      <th>TrialEV</th>\n",
       "      <th>TotalProfit</th>\n",
       "      <th>decisionCPE</th>\n",
       "    </tr>\n",
       "  </thead>\n",
       "  <tbody>\n",
       "    <tr>\n",
       "      <th>0</th>\n",
       "      <td>MS025_lcmip1-lcmip2</td>\n",
       "      <td>MS025</td>\n",
       "      <td>thalamus</td>\n",
       "      <td>10</td>\n",
       "      <td>-0.137837</td>\n",
       "      <td>0.026681</td>\n",
       "      <td>0.008997</td>\n",
       "      <td>0.025172</td>\n",
       "      <td>-0.019607</td>\n",
       "      <td>-0.154638</td>\n",
       "      <td>0.029018</td>\n",
       "      <td>0.025436</td>\n",
       "      <td>0.038606</td>\n",
       "      <td>-0.005585</td>\n",
       "    </tr>\n",
       "    <tr>\n",
       "      <th>1</th>\n",
       "      <td>MS025_lcmip2-lcmip3</td>\n",
       "      <td>MS025</td>\n",
       "      <td>thalamus</td>\n",
       "      <td>10</td>\n",
       "      <td>-0.114022</td>\n",
       "      <td>0.046799</td>\n",
       "      <td>0.025621</td>\n",
       "      <td>0.016698</td>\n",
       "      <td>-0.028217</td>\n",
       "      <td>-0.130823</td>\n",
       "      <td>0.049136</td>\n",
       "      <td>0.042060</td>\n",
       "      <td>0.030132</td>\n",
       "      <td>-0.014195</td>\n",
       "    </tr>\n",
       "    <tr>\n",
       "      <th>2</th>\n",
       "      <td>MS025_lcmip3-lcmip4</td>\n",
       "      <td>MS025</td>\n",
       "      <td>thalamus</td>\n",
       "      <td>10</td>\n",
       "      <td>-0.313089</td>\n",
       "      <td>0.011671</td>\n",
       "      <td>-0.007927</td>\n",
       "      <td>0.030804</td>\n",
       "      <td>-0.034458</td>\n",
       "      <td>-0.329890</td>\n",
       "      <td>0.014008</td>\n",
       "      <td>0.008512</td>\n",
       "      <td>0.044238</td>\n",
       "      <td>-0.020436</td>\n",
       "    </tr>\n",
       "    <tr>\n",
       "      <th>3</th>\n",
       "      <td>MS025_lcmip4-lcmip5</td>\n",
       "      <td>MS025</td>\n",
       "      <td>thalamus</td>\n",
       "      <td>10</td>\n",
       "      <td>-0.280519</td>\n",
       "      <td>0.044810</td>\n",
       "      <td>0.016697</td>\n",
       "      <td>0.031544</td>\n",
       "      <td>-0.043394</td>\n",
       "      <td>-0.297320</td>\n",
       "      <td>0.047146</td>\n",
       "      <td>0.033136</td>\n",
       "      <td>0.044978</td>\n",
       "      <td>-0.029372</td>\n",
       "    </tr>\n",
       "    <tr>\n",
       "      <th>4</th>\n",
       "      <td>MS025_lcmip5-lcmip6</td>\n",
       "      <td>MS025</td>\n",
       "      <td>thalamus</td>\n",
       "      <td>10</td>\n",
       "      <td>-0.212847</td>\n",
       "      <td>0.021787</td>\n",
       "      <td>0.004626</td>\n",
       "      <td>0.019862</td>\n",
       "      <td>-0.030083</td>\n",
       "      <td>-0.229648</td>\n",
       "      <td>0.024124</td>\n",
       "      <td>0.021065</td>\n",
       "      <td>0.033296</td>\n",
       "      <td>-0.016061</td>\n",
       "    </tr>\n",
       "    <tr>\n",
       "      <th>5</th>\n",
       "      <td>MS025_rcmip1-rcmip2</td>\n",
       "      <td>MS025</td>\n",
       "      <td>thalamus</td>\n",
       "      <td>10</td>\n",
       "      <td>-0.001441</td>\n",
       "      <td>0.044670</td>\n",
       "      <td>0.026415</td>\n",
       "      <td>0.015555</td>\n",
       "      <td>-0.012500</td>\n",
       "      <td>-0.018242</td>\n",
       "      <td>0.047007</td>\n",
       "      <td>0.042853</td>\n",
       "      <td>0.028989</td>\n",
       "      <td>0.001522</td>\n",
       "    </tr>\n",
       "    <tr>\n",
       "      <th>6</th>\n",
       "      <td>MS025_rcmip2-rcmip3</td>\n",
       "      <td>MS025</td>\n",
       "      <td>thalamus</td>\n",
       "      <td>10</td>\n",
       "      <td>-0.007344</td>\n",
       "      <td>0.036951</td>\n",
       "      <td>0.021031</td>\n",
       "      <td>0.014535</td>\n",
       "      <td>-0.010176</td>\n",
       "      <td>-0.024146</td>\n",
       "      <td>0.039287</td>\n",
       "      <td>0.037470</td>\n",
       "      <td>0.027970</td>\n",
       "      <td>0.003846</td>\n",
       "    </tr>\n",
       "    <tr>\n",
       "      <th>7</th>\n",
       "      <td>MS025_rcmip3-rcmip4</td>\n",
       "      <td>MS025</td>\n",
       "      <td>thalamus</td>\n",
       "      <td>10</td>\n",
       "      <td>-0.002218</td>\n",
       "      <td>-0.019567</td>\n",
       "      <td>-0.011001</td>\n",
       "      <td>-0.011649</td>\n",
       "      <td>0.003126</td>\n",
       "      <td>-0.019019</td>\n",
       "      <td>-0.017230</td>\n",
       "      <td>0.005437</td>\n",
       "      <td>0.001785</td>\n",
       "      <td>0.017149</td>\n",
       "    </tr>\n",
       "    <tr>\n",
       "      <th>8</th>\n",
       "      <td>MS025_rcmip4-rcmip5</td>\n",
       "      <td>MS025</td>\n",
       "      <td>thalamus</td>\n",
       "      <td>10</td>\n",
       "      <td>-0.027302</td>\n",
       "      <td>0.023606</td>\n",
       "      <td>0.017928</td>\n",
       "      <td>-0.006557</td>\n",
       "      <td>-0.016581</td>\n",
       "      <td>-0.044103</td>\n",
       "      <td>0.025942</td>\n",
       "      <td>0.034367</td>\n",
       "      <td>0.006877</td>\n",
       "      <td>-0.002559</td>\n",
       "    </tr>\n",
       "    <tr>\n",
       "      <th>9</th>\n",
       "      <td>MS025_rcmip5-rcmip6</td>\n",
       "      <td>MS025</td>\n",
       "      <td>thalamus</td>\n",
       "      <td>10</td>\n",
       "      <td>0.003284</td>\n",
       "      <td>-0.015760</td>\n",
       "      <td>-0.004479</td>\n",
       "      <td>-0.026826</td>\n",
       "      <td>-0.004093</td>\n",
       "      <td>-0.013518</td>\n",
       "      <td>-0.013423</td>\n",
       "      <td>0.011960</td>\n",
       "      <td>-0.013392</td>\n",
       "      <td>0.009929</td>\n",
       "    </tr>\n",
       "    <tr>\n",
       "      <th>10</th>\n",
       "      <td>MS028_lcmmm1-lcmmm2</td>\n",
       "      <td>MS028</td>\n",
       "      <td>thalamus</td>\n",
       "      <td>13</td>\n",
       "      <td>-0.106572</td>\n",
       "      <td>0.017169</td>\n",
       "      <td>0.005545</td>\n",
       "      <td>0.013727</td>\n",
       "      <td>-0.016790</td>\n",
       "      <td>-0.123374</td>\n",
       "      <td>0.019506</td>\n",
       "      <td>0.021984</td>\n",
       "      <td>0.027161</td>\n",
       "      <td>-0.002768</td>\n",
       "    </tr>\n",
       "    <tr>\n",
       "      <th>11</th>\n",
       "      <td>MS028_lcmmm2-lcmmm3</td>\n",
       "      <td>MS028</td>\n",
       "      <td>thalamus</td>\n",
       "      <td>13</td>\n",
       "      <td>0.018975</td>\n",
       "      <td>0.006237</td>\n",
       "      <td>0.004696</td>\n",
       "      <td>0.001467</td>\n",
       "      <td>0.000882</td>\n",
       "      <td>0.002174</td>\n",
       "      <td>0.008574</td>\n",
       "      <td>0.021135</td>\n",
       "      <td>0.014901</td>\n",
       "      <td>0.014904</td>\n",
       "    </tr>\n",
       "    <tr>\n",
       "      <th>12</th>\n",
       "      <td>MS028_lcmmm3-lcmmm4</td>\n",
       "      <td>MS028</td>\n",
       "      <td>thalamus</td>\n",
       "      <td>13</td>\n",
       "      <td>0.003302</td>\n",
       "      <td>0.012659</td>\n",
       "      <td>0.016591</td>\n",
       "      <td>-0.024803</td>\n",
       "      <td>-0.014606</td>\n",
       "      <td>-0.013500</td>\n",
       "      <td>0.014996</td>\n",
       "      <td>0.033030</td>\n",
       "      <td>-0.011368</td>\n",
       "      <td>-0.000584</td>\n",
       "    </tr>\n",
       "    <tr>\n",
       "      <th>13</th>\n",
       "      <td>MS028_lcmmm4-lcmmm5</td>\n",
       "      <td>MS028</td>\n",
       "      <td>thalamus</td>\n",
       "      <td>13</td>\n",
       "      <td>0.014541</td>\n",
       "      <td>-0.006095</td>\n",
       "      <td>-0.001155</td>\n",
       "      <td>-0.011829</td>\n",
       "      <td>-0.000210</td>\n",
       "      <td>-0.002260</td>\n",
       "      <td>-0.003759</td>\n",
       "      <td>0.015284</td>\n",
       "      <td>0.001605</td>\n",
       "      <td>0.013813</td>\n",
       "    </tr>\n",
       "    <tr>\n",
       "      <th>14</th>\n",
       "      <td>MS028_rcmmm1-rcmmm2</td>\n",
       "      <td>MS028</td>\n",
       "      <td>thalamus</td>\n",
       "      <td>13</td>\n",
       "      <td>0.012160</td>\n",
       "      <td>-0.009478</td>\n",
       "      <td>-0.002428</td>\n",
       "      <td>-0.014343</td>\n",
       "      <td>-0.000447</td>\n",
       "      <td>-0.004642</td>\n",
       "      <td>-0.007142</td>\n",
       "      <td>0.014011</td>\n",
       "      <td>-0.000909</td>\n",
       "      <td>0.013575</td>\n",
       "    </tr>\n",
       "    <tr>\n",
       "      <th>15</th>\n",
       "      <td>MS028_rcmmm2-rcmmm3</td>\n",
       "      <td>MS028</td>\n",
       "      <td>thalamus</td>\n",
       "      <td>13</td>\n",
       "      <td>-0.062231</td>\n",
       "      <td>-0.008595</td>\n",
       "      <td>-0.005848</td>\n",
       "      <td>-0.008873</td>\n",
       "      <td>-0.008905</td>\n",
       "      <td>-0.079033</td>\n",
       "      <td>-0.006258</td>\n",
       "      <td>0.010590</td>\n",
       "      <td>0.004561</td>\n",
       "      <td>0.005118</td>\n",
       "    </tr>\n",
       "    <tr>\n",
       "      <th>16</th>\n",
       "      <td>MS028_rcmmm3-rcmmm4</td>\n",
       "      <td>MS028</td>\n",
       "      <td>thalamus</td>\n",
       "      <td>13</td>\n",
       "      <td>-0.000389</td>\n",
       "      <td>-0.008071</td>\n",
       "      <td>-0.006437</td>\n",
       "      <td>-0.001406</td>\n",
       "      <td>0.002553</td>\n",
       "      <td>-0.017190</td>\n",
       "      <td>-0.005734</td>\n",
       "      <td>0.010002</td>\n",
       "      <td>0.012028</td>\n",
       "      <td>0.016575</td>\n",
       "    </tr>\n",
       "    <tr>\n",
       "      <th>17</th>\n",
       "      <td>MS028_rcmmm4-rcmmm5</td>\n",
       "      <td>MS028</td>\n",
       "      <td>thalamus</td>\n",
       "      <td>13</td>\n",
       "      <td>-0.017124</td>\n",
       "      <td>0.010575</td>\n",
       "      <td>0.008219</td>\n",
       "      <td>-0.005431</td>\n",
       "      <td>-0.008676</td>\n",
       "      <td>-0.033925</td>\n",
       "      <td>0.012911</td>\n",
       "      <td>0.024658</td>\n",
       "      <td>0.008004</td>\n",
       "      <td>0.005346</td>\n",
       "    </tr>\n",
       "    <tr>\n",
       "      <th>18</th>\n",
       "      <td>MS030_lcmmf1-lcmmf2</td>\n",
       "      <td>MS030</td>\n",
       "      <td>thalamus</td>\n",
       "      <td>19</td>\n",
       "      <td>0.058481</td>\n",
       "      <td>-0.002187</td>\n",
       "      <td>0.008559</td>\n",
       "      <td>-0.029123</td>\n",
       "      <td>-0.002819</td>\n",
       "      <td>0.041680</td>\n",
       "      <td>0.000150</td>\n",
       "      <td>0.024998</td>\n",
       "      <td>-0.015689</td>\n",
       "      <td>0.011203</td>\n",
       "    </tr>\n",
       "    <tr>\n",
       "      <th>19</th>\n",
       "      <td>MS030_lcmmf2-lcmmf3</td>\n",
       "      <td>MS030</td>\n",
       "      <td>thalamus</td>\n",
       "      <td>19</td>\n",
       "      <td>0.062075</td>\n",
       "      <td>-0.017912</td>\n",
       "      <td>-0.009542</td>\n",
       "      <td>-0.004512</td>\n",
       "      <td>0.015211</td>\n",
       "      <td>0.045274</td>\n",
       "      <td>-0.015576</td>\n",
       "      <td>0.006897</td>\n",
       "      <td>0.008922</td>\n",
       "      <td>0.029233</td>\n",
       "    </tr>\n",
       "    <tr>\n",
       "      <th>20</th>\n",
       "      <td>MS030_lcmmf3-lcmmf4</td>\n",
       "      <td>MS030</td>\n",
       "      <td>thalamus</td>\n",
       "      <td>19</td>\n",
       "      <td>0.132664</td>\n",
       "      <td>-0.033865</td>\n",
       "      <td>-0.017213</td>\n",
       "      <td>-0.007701</td>\n",
       "      <td>0.030049</td>\n",
       "      <td>0.115862</td>\n",
       "      <td>-0.031528</td>\n",
       "      <td>-0.000775</td>\n",
       "      <td>0.005733</td>\n",
       "      <td>0.044071</td>\n",
       "    </tr>\n",
       "    <tr>\n",
       "      <th>21</th>\n",
       "      <td>MS030_lcmmf4-lcmmf5</td>\n",
       "      <td>MS030</td>\n",
       "      <td>thalamus</td>\n",
       "      <td>19</td>\n",
       "      <td>0.180326</td>\n",
       "      <td>-0.063703</td>\n",
       "      <td>-0.031628</td>\n",
       "      <td>-0.027009</td>\n",
       "      <td>0.041053</td>\n",
       "      <td>0.163525</td>\n",
       "      <td>-0.061366</td>\n",
       "      <td>-0.015189</td>\n",
       "      <td>-0.013575</td>\n",
       "      <td>0.055075</td>\n",
       "    </tr>\n",
       "    <tr>\n",
       "      <th>22</th>\n",
       "      <td>MS030_lcmmf5-lcmmf6</td>\n",
       "      <td>MS030</td>\n",
       "      <td>thalamus</td>\n",
       "      <td>19</td>\n",
       "      <td>0.021986</td>\n",
       "      <td>-0.028598</td>\n",
       "      <td>-0.016457</td>\n",
       "      <td>-0.012734</td>\n",
       "      <td>0.009570</td>\n",
       "      <td>0.005185</td>\n",
       "      <td>-0.026261</td>\n",
       "      <td>-0.000018</td>\n",
       "      <td>0.000700</td>\n",
       "      <td>0.023592</td>\n",
       "    </tr>\n",
       "    <tr>\n",
       "      <th>23</th>\n",
       "      <td>MS033_lcmag1-lcmag2</td>\n",
       "      <td>MS033</td>\n",
       "      <td>thalamus</td>\n",
       "      <td>39</td>\n",
       "      <td>-0.028370</td>\n",
       "      <td>-0.030763</td>\n",
       "      <td>-0.012115</td>\n",
       "      <td>-0.027918</td>\n",
       "      <td>-0.001481</td>\n",
       "      <td>-0.045171</td>\n",
       "      <td>-0.028426</td>\n",
       "      <td>0.004324</td>\n",
       "      <td>-0.014484</td>\n",
       "      <td>0.012541</td>\n",
       "    </tr>\n",
       "    <tr>\n",
       "      <th>24</th>\n",
       "      <td>MS033_lcmag2-lcmag3</td>\n",
       "      <td>MS033</td>\n",
       "      <td>thalamus</td>\n",
       "      <td>39</td>\n",
       "      <td>-0.018263</td>\n",
       "      <td>-0.029945</td>\n",
       "      <td>-0.014408</td>\n",
       "      <td>-0.020097</td>\n",
       "      <td>0.002132</td>\n",
       "      <td>-0.035064</td>\n",
       "      <td>-0.027608</td>\n",
       "      <td>0.002031</td>\n",
       "      <td>-0.006663</td>\n",
       "      <td>0.016155</td>\n",
       "    </tr>\n",
       "    <tr>\n",
       "      <th>25</th>\n",
       "      <td>MS033_lcmag3-lcmag4</td>\n",
       "      <td>MS033</td>\n",
       "      <td>thalamus</td>\n",
       "      <td>39</td>\n",
       "      <td>-0.024796</td>\n",
       "      <td>0.055443</td>\n",
       "      <td>0.037039</td>\n",
       "      <td>0.005464</td>\n",
       "      <td>-0.023988</td>\n",
       "      <td>-0.041598</td>\n",
       "      <td>0.057780</td>\n",
       "      <td>0.053477</td>\n",
       "      <td>0.018898</td>\n",
       "      <td>-0.009965</td>\n",
       "    </tr>\n",
       "    <tr>\n",
       "      <th>26</th>\n",
       "      <td>MS033_lcmag4-lcmag5</td>\n",
       "      <td>MS033</td>\n",
       "      <td>thalamus</td>\n",
       "      <td>39</td>\n",
       "      <td>-0.108015</td>\n",
       "      <td>0.198263</td>\n",
       "      <td>0.130243</td>\n",
       "      <td>0.029085</td>\n",
       "      <td>-0.085544</td>\n",
       "      <td>-0.124817</td>\n",
       "      <td>0.200599</td>\n",
       "      <td>0.146681</td>\n",
       "      <td>0.042519</td>\n",
       "      <td>-0.071521</td>\n",
       "    </tr>\n",
       "    <tr>\n",
       "      <th>27</th>\n",
       "      <td>MS033_lcmag5-lcmag6</td>\n",
       "      <td>MS033</td>\n",
       "      <td>thalamus</td>\n",
       "      <td>39</td>\n",
       "      <td>-0.070606</td>\n",
       "      <td>0.043005</td>\n",
       "      <td>0.030457</td>\n",
       "      <td>-0.008770</td>\n",
       "      <td>-0.030633</td>\n",
       "      <td>-0.087407</td>\n",
       "      <td>0.045342</td>\n",
       "      <td>0.046896</td>\n",
       "      <td>0.004664</td>\n",
       "      <td>-0.016611</td>\n",
       "    </tr>\n",
       "    <tr>\n",
       "      <th>28</th>\n",
       "      <td>MS035_lcmip1-lcmip2</td>\n",
       "      <td>MS035</td>\n",
       "      <td>thalamus</td>\n",
       "      <td>15</td>\n",
       "      <td>0.086324</td>\n",
       "      <td>-0.006006</td>\n",
       "      <td>-0.025294</td>\n",
       "      <td>0.069153</td>\n",
       "      <td>0.040305</td>\n",
       "      <td>0.069523</td>\n",
       "      <td>-0.003669</td>\n",
       "      <td>-0.008855</td>\n",
       "      <td>0.082587</td>\n",
       "      <td>0.054327</td>\n",
       "    </tr>\n",
       "    <tr>\n",
       "      <th>29</th>\n",
       "      <td>MS035_lcmip2-lcmip3</td>\n",
       "      <td>MS035</td>\n",
       "      <td>thalamus</td>\n",
       "      <td>15</td>\n",
       "      <td>0.103160</td>\n",
       "      <td>-0.022029</td>\n",
       "      <td>-0.019403</td>\n",
       "      <td>0.017265</td>\n",
       "      <td>0.029279</td>\n",
       "      <td>0.086359</td>\n",
       "      <td>-0.019692</td>\n",
       "      <td>-0.002964</td>\n",
       "      <td>0.030699</td>\n",
       "      <td>0.043301</td>\n",
       "    </tr>\n",
       "    <tr>\n",
       "      <th>30</th>\n",
       "      <td>MS035_lcmip3-lcmip4</td>\n",
       "      <td>MS035</td>\n",
       "      <td>thalamus</td>\n",
       "      <td>15</td>\n",
       "      <td>0.051570</td>\n",
       "      <td>-0.006309</td>\n",
       "      <td>-0.010992</td>\n",
       "      <td>0.025415</td>\n",
       "      <td>0.019320</td>\n",
       "      <td>0.034769</td>\n",
       "      <td>-0.003972</td>\n",
       "      <td>0.005446</td>\n",
       "      <td>0.038849</td>\n",
       "      <td>0.033342</td>\n",
       "    </tr>\n",
       "    <tr>\n",
       "      <th>31</th>\n",
       "      <td>MS035_lcmip4-lcmip5</td>\n",
       "      <td>MS035</td>\n",
       "      <td>thalamus</td>\n",
       "      <td>15</td>\n",
       "      <td>0.014991</td>\n",
       "      <td>-0.028320</td>\n",
       "      <td>-0.024978</td>\n",
       "      <td>0.016515</td>\n",
       "      <td>0.020052</td>\n",
       "      <td>-0.001811</td>\n",
       "      <td>-0.025984</td>\n",
       "      <td>-0.008540</td>\n",
       "      <td>0.029949</td>\n",
       "      <td>0.034074</td>\n",
       "    </tr>\n",
       "    <tr>\n",
       "      <th>32</th>\n",
       "      <td>MS035_rcmip1-rcmip2</td>\n",
       "      <td>MS035</td>\n",
       "      <td>thalamus</td>\n",
       "      <td>15</td>\n",
       "      <td>0.114441</td>\n",
       "      <td>-0.039693</td>\n",
       "      <td>-0.028928</td>\n",
       "      <td>0.009705</td>\n",
       "      <td>0.035211</td>\n",
       "      <td>0.097640</td>\n",
       "      <td>-0.037356</td>\n",
       "      <td>-0.012489</td>\n",
       "      <td>0.023139</td>\n",
       "      <td>0.049233</td>\n",
       "    </tr>\n",
       "    <tr>\n",
       "      <th>33</th>\n",
       "      <td>MS035_rcmip2-rcmip3</td>\n",
       "      <td>MS035</td>\n",
       "      <td>thalamus</td>\n",
       "      <td>15</td>\n",
       "      <td>0.061851</td>\n",
       "      <td>-0.010419</td>\n",
       "      <td>-0.007534</td>\n",
       "      <td>0.006088</td>\n",
       "      <td>0.014698</td>\n",
       "      <td>0.045050</td>\n",
       "      <td>-0.008082</td>\n",
       "      <td>0.008905</td>\n",
       "      <td>0.019522</td>\n",
       "      <td>0.028721</td>\n",
       "    </tr>\n",
       "    <tr>\n",
       "      <th>34</th>\n",
       "      <td>MS035_rcmip3-rcmip4</td>\n",
       "      <td>MS035</td>\n",
       "      <td>thalamus</td>\n",
       "      <td>15</td>\n",
       "      <td>0.105989</td>\n",
       "      <td>-0.051856</td>\n",
       "      <td>-0.044239</td>\n",
       "      <td>0.027968</td>\n",
       "      <td>0.045944</td>\n",
       "      <td>0.089188</td>\n",
       "      <td>-0.049519</td>\n",
       "      <td>-0.027801</td>\n",
       "      <td>0.041402</td>\n",
       "      <td>0.059966</td>\n",
       "    </tr>\n",
       "    <tr>\n",
       "      <th>35</th>\n",
       "      <td>MS035_rcmip4-rcmip5</td>\n",
       "      <td>MS035</td>\n",
       "      <td>thalamus</td>\n",
       "      <td>15</td>\n",
       "      <td>0.016165</td>\n",
       "      <td>-0.018827</td>\n",
       "      <td>-0.021077</td>\n",
       "      <td>0.026530</td>\n",
       "      <td>0.020938</td>\n",
       "      <td>-0.000636</td>\n",
       "      <td>-0.016490</td>\n",
       "      <td>-0.004639</td>\n",
       "      <td>0.039964</td>\n",
       "      <td>0.034961</td>\n",
       "    </tr>\n",
       "    <tr>\n",
       "      <th>36</th>\n",
       "      <td>MS041_lcm1-lcm2</td>\n",
       "      <td>MS041</td>\n",
       "      <td>thalamus</td>\n",
       "      <td>10</td>\n",
       "      <td>0.035212</td>\n",
       "      <td>0.009641</td>\n",
       "      <td>0.006494</td>\n",
       "      <td>0.007233</td>\n",
       "      <td>0.004472</td>\n",
       "      <td>0.018410</td>\n",
       "      <td>0.011978</td>\n",
       "      <td>0.022933</td>\n",
       "      <td>0.020667</td>\n",
       "      <td>0.018494</td>\n",
       "    </tr>\n",
       "    <tr>\n",
       "      <th>37</th>\n",
       "      <td>MS041_lcm2-lcm3</td>\n",
       "      <td>MS041</td>\n",
       "      <td>thalamus</td>\n",
       "      <td>10</td>\n",
       "      <td>0.031609</td>\n",
       "      <td>0.007960</td>\n",
       "      <td>0.007719</td>\n",
       "      <td>0.001113</td>\n",
       "      <td>0.001551</td>\n",
       "      <td>0.014807</td>\n",
       "      <td>0.010296</td>\n",
       "      <td>0.024158</td>\n",
       "      <td>0.014547</td>\n",
       "      <td>0.015573</td>\n",
       "    </tr>\n",
       "    <tr>\n",
       "      <th>38</th>\n",
       "      <td>MS041_lcm3-lcm4</td>\n",
       "      <td>MS041</td>\n",
       "      <td>thalamus</td>\n",
       "      <td>10</td>\n",
       "      <td>0.024216</td>\n",
       "      <td>-0.004379</td>\n",
       "      <td>0.001229</td>\n",
       "      <td>-0.012201</td>\n",
       "      <td>0.000062</td>\n",
       "      <td>0.007415</td>\n",
       "      <td>-0.002043</td>\n",
       "      <td>0.017668</td>\n",
       "      <td>0.001233</td>\n",
       "      <td>0.014084</td>\n",
       "    </tr>\n",
       "    <tr>\n",
       "      <th>39</th>\n",
       "      <td>MS041_lcm4-lcm5</td>\n",
       "      <td>MS041</td>\n",
       "      <td>thalamus</td>\n",
       "      <td>10</td>\n",
       "      <td>0.028183</td>\n",
       "      <td>-0.003438</td>\n",
       "      <td>0.002423</td>\n",
       "      <td>-0.014317</td>\n",
       "      <td>-0.001024</td>\n",
       "      <td>0.011382</td>\n",
       "      <td>-0.001101</td>\n",
       "      <td>0.018862</td>\n",
       "      <td>-0.000883</td>\n",
       "      <td>0.012998</td>\n",
       "    </tr>\n",
       "    <tr>\n",
       "      <th>40</th>\n",
       "      <td>MS041_rcm1-rcm2</td>\n",
       "      <td>MS041</td>\n",
       "      <td>thalamus</td>\n",
       "      <td>10</td>\n",
       "      <td>0.014979</td>\n",
       "      <td>0.011907</td>\n",
       "      <td>0.011340</td>\n",
       "      <td>-0.008620</td>\n",
       "      <td>-0.006591</td>\n",
       "      <td>-0.001822</td>\n",
       "      <td>0.014243</td>\n",
       "      <td>0.027778</td>\n",
       "      <td>0.004814</td>\n",
       "      <td>0.007432</td>\n",
       "    </tr>\n",
       "    <tr>\n",
       "      <th>41</th>\n",
       "      <td>MS041_rcm2-rcm3</td>\n",
       "      <td>MS041</td>\n",
       "      <td>thalamus</td>\n",
       "      <td>10</td>\n",
       "      <td>0.038825</td>\n",
       "      <td>-0.037022</td>\n",
       "      <td>-0.027292</td>\n",
       "      <td>0.009858</td>\n",
       "      <td>0.024599</td>\n",
       "      <td>0.022023</td>\n",
       "      <td>-0.034685</td>\n",
       "      <td>-0.010853</td>\n",
       "      <td>0.023292</td>\n",
       "      <td>0.038622</td>\n",
       "    </tr>\n",
       "    <tr>\n",
       "      <th>42</th>\n",
       "      <td>MS041_rcm3-rcm4</td>\n",
       "      <td>MS041</td>\n",
       "      <td>thalamus</td>\n",
       "      <td>10</td>\n",
       "      <td>0.013197</td>\n",
       "      <td>-0.012226</td>\n",
       "      <td>-0.008083</td>\n",
       "      <td>-0.003104</td>\n",
       "      <td>0.005159</td>\n",
       "      <td>-0.003605</td>\n",
       "      <td>-0.009890</td>\n",
       "      <td>0.008356</td>\n",
       "      <td>0.010330</td>\n",
       "      <td>0.019181</td>\n",
       "    </tr>\n",
       "    <tr>\n",
       "      <th>43</th>\n",
       "      <td>MS041_rcm4-rcm5</td>\n",
       "      <td>MS041</td>\n",
       "      <td>thalamus</td>\n",
       "      <td>10</td>\n",
       "      <td>0.015829</td>\n",
       "      <td>-0.005288</td>\n",
       "      <td>-0.001861</td>\n",
       "      <td>-0.004026</td>\n",
       "      <td>0.003112</td>\n",
       "      <td>-0.000972</td>\n",
       "      <td>-0.002951</td>\n",
       "      <td>0.014577</td>\n",
       "      <td>0.009408</td>\n",
       "      <td>0.017134</td>\n",
       "    </tr>\n",
       "    <tr>\n",
       "      <th>44</th>\n",
       "      <td>MS048_lcmang1-lcmang2</td>\n",
       "      <td>MS048</td>\n",
       "      <td>thalamus</td>\n",
       "      <td>19</td>\n",
       "      <td>0.009049</td>\n",
       "      <td>0.045705</td>\n",
       "      <td>0.026338</td>\n",
       "      <td>0.022105</td>\n",
       "      <td>-0.007977</td>\n",
       "      <td>-0.007752</td>\n",
       "      <td>0.048042</td>\n",
       "      <td>0.042777</td>\n",
       "      <td>0.035539</td>\n",
       "      <td>0.006046</td>\n",
       "    </tr>\n",
       "    <tr>\n",
       "      <th>45</th>\n",
       "      <td>MS048_lcmang2-lcmang3</td>\n",
       "      <td>MS048</td>\n",
       "      <td>thalamus</td>\n",
       "      <td>19</td>\n",
       "      <td>0.043237</td>\n",
       "      <td>-0.030610</td>\n",
       "      <td>-0.014671</td>\n",
       "      <td>-0.012415</td>\n",
       "      <td>0.014793</td>\n",
       "      <td>0.026436</td>\n",
       "      <td>-0.028273</td>\n",
       "      <td>0.001767</td>\n",
       "      <td>0.001019</td>\n",
       "      <td>0.028816</td>\n",
       "    </tr>\n",
       "    <tr>\n",
       "      <th>46</th>\n",
       "      <td>MS048_lcmang3-lcmang4</td>\n",
       "      <td>MS048</td>\n",
       "      <td>thalamus</td>\n",
       "      <td>19</td>\n",
       "      <td>0.017893</td>\n",
       "      <td>-0.014772</td>\n",
       "      <td>-0.009263</td>\n",
       "      <td>-0.005763</td>\n",
       "      <td>0.005497</td>\n",
       "      <td>0.001091</td>\n",
       "      <td>-0.012435</td>\n",
       "      <td>0.007176</td>\n",
       "      <td>0.007671</td>\n",
       "      <td>0.019520</td>\n",
       "    </tr>\n",
       "    <tr>\n",
       "      <th>47</th>\n",
       "      <td>MS048_rcmang1-rcmang2</td>\n",
       "      <td>MS048</td>\n",
       "      <td>thalamus</td>\n",
       "      <td>19</td>\n",
       "      <td>0.038961</td>\n",
       "      <td>-0.028344</td>\n",
       "      <td>-0.013403</td>\n",
       "      <td>-0.022738</td>\n",
       "      <td>0.007393</td>\n",
       "      <td>0.022160</td>\n",
       "      <td>-0.026007</td>\n",
       "      <td>0.003036</td>\n",
       "      <td>-0.009304</td>\n",
       "      <td>0.021415</td>\n",
       "    </tr>\n",
       "    <tr>\n",
       "      <th>48</th>\n",
       "      <td>MS048_rcmang2-rcmang3</td>\n",
       "      <td>MS048</td>\n",
       "      <td>thalamus</td>\n",
       "      <td>19</td>\n",
       "      <td>0.028826</td>\n",
       "      <td>-0.019424</td>\n",
       "      <td>-0.004906</td>\n",
       "      <td>-0.022732</td>\n",
       "      <td>0.003698</td>\n",
       "      <td>0.012025</td>\n",
       "      <td>-0.017087</td>\n",
       "      <td>0.011533</td>\n",
       "      <td>-0.009298</td>\n",
       "      <td>0.017720</td>\n",
       "    </tr>\n",
       "    <tr>\n",
       "      <th>49</th>\n",
       "      <td>MS048_rcmang3-rcmang4</td>\n",
       "      <td>MS048</td>\n",
       "      <td>thalamus</td>\n",
       "      <td>19</td>\n",
       "      <td>0.021605</td>\n",
       "      <td>-0.024149</td>\n",
       "      <td>-0.011600</td>\n",
       "      <td>-0.017850</td>\n",
       "      <td>0.005885</td>\n",
       "      <td>0.004803</td>\n",
       "      <td>-0.021812</td>\n",
       "      <td>0.004839</td>\n",
       "      <td>-0.004415</td>\n",
       "      <td>0.019908</td>\n",
       "    </tr>\n",
       "    <tr>\n",
       "      <th>50</th>\n",
       "      <td>MS048_rcmang4-rcmang5</td>\n",
       "      <td>MS048</td>\n",
       "      <td>thalamus</td>\n",
       "      <td>19</td>\n",
       "      <td>0.024480</td>\n",
       "      <td>-0.033165</td>\n",
       "      <td>-0.014008</td>\n",
       "      <td>-0.029243</td>\n",
       "      <td>0.005757</td>\n",
       "      <td>0.007679</td>\n",
       "      <td>-0.030828</td>\n",
       "      <td>0.002430</td>\n",
       "      <td>-0.015809</td>\n",
       "      <td>0.019780</td>\n",
       "    </tr>\n",
       "    <tr>\n",
       "      <th>51</th>\n",
       "      <td>MS050_lcmang1-lcmang2</td>\n",
       "      <td>MS050</td>\n",
       "      <td>thalamus</td>\n",
       "      <td>9</td>\n",
       "      <td>0.028399</td>\n",
       "      <td>-0.000880</td>\n",
       "      <td>-0.001216</td>\n",
       "      <td>0.005699</td>\n",
       "      <td>0.006596</td>\n",
       "      <td>0.011598</td>\n",
       "      <td>0.001457</td>\n",
       "      <td>0.015223</td>\n",
       "      <td>0.019133</td>\n",
       "      <td>0.020618</td>\n",
       "    </tr>\n",
       "    <tr>\n",
       "      <th>52</th>\n",
       "      <td>MS050_lcmang2-lcmang3</td>\n",
       "      <td>MS050</td>\n",
       "      <td>thalamus</td>\n",
       "      <td>9</td>\n",
       "      <td>0.026500</td>\n",
       "      <td>-0.017705</td>\n",
       "      <td>-0.007089</td>\n",
       "      <td>-0.015388</td>\n",
       "      <td>0.004617</td>\n",
       "      <td>0.009699</td>\n",
       "      <td>-0.015368</td>\n",
       "      <td>0.009350</td>\n",
       "      <td>-0.001954</td>\n",
       "      <td>0.018640</td>\n",
       "    </tr>\n",
       "    <tr>\n",
       "      <th>53</th>\n",
       "      <td>MS050_lcmang3-lcmang4</td>\n",
       "      <td>MS050</td>\n",
       "      <td>thalamus</td>\n",
       "      <td>9</td>\n",
       "      <td>0.011630</td>\n",
       "      <td>-0.007046</td>\n",
       "      <td>-0.002037</td>\n",
       "      <td>-0.005841</td>\n",
       "      <td>0.002695</td>\n",
       "      <td>-0.005172</td>\n",
       "      <td>-0.004710</td>\n",
       "      <td>0.014402</td>\n",
       "      <td>0.007593</td>\n",
       "      <td>0.016718</td>\n",
       "    </tr>\n",
       "    <tr>\n",
       "      <th>54</th>\n",
       "      <td>MS050_lcmang4-lcmang5</td>\n",
       "      <td>MS050</td>\n",
       "      <td>thalamus</td>\n",
       "      <td>9</td>\n",
       "      <td>0.017397</td>\n",
       "      <td>0.010288</td>\n",
       "      <td>0.012430</td>\n",
       "      <td>-0.016949</td>\n",
       "      <td>-0.008583</td>\n",
       "      <td>0.000595</td>\n",
       "      <td>0.012625</td>\n",
       "      <td>0.028869</td>\n",
       "      <td>-0.003514</td>\n",
       "      <td>0.005439</td>\n",
       "    </tr>\n",
       "    <tr>\n",
       "      <th>55</th>\n",
       "      <td>MS050_rcmsmg1-rcmsmg2</td>\n",
       "      <td>MS050</td>\n",
       "      <td>thalamus</td>\n",
       "      <td>9</td>\n",
       "      <td>0.011963</td>\n",
       "      <td>0.013797</td>\n",
       "      <td>0.009607</td>\n",
       "      <td>-0.001646</td>\n",
       "      <td>-0.005015</td>\n",
       "      <td>-0.004839</td>\n",
       "      <td>0.016134</td>\n",
       "      <td>0.026045</td>\n",
       "      <td>0.011788</td>\n",
       "      <td>0.009008</td>\n",
       "    </tr>\n",
       "    <tr>\n",
       "      <th>56</th>\n",
       "      <td>MS050_rcmsmg2-rcmsmg3</td>\n",
       "      <td>MS050</td>\n",
       "      <td>thalamus</td>\n",
       "      <td>9</td>\n",
       "      <td>0.009769</td>\n",
       "      <td>-0.017888</td>\n",
       "      <td>-0.012898</td>\n",
       "      <td>0.001505</td>\n",
       "      <td>0.009046</td>\n",
       "      <td>-0.007032</td>\n",
       "      <td>-0.015551</td>\n",
       "      <td>0.003540</td>\n",
       "      <td>0.014939</td>\n",
       "      <td>0.023068</td>\n",
       "    </tr>\n",
       "    <tr>\n",
       "      <th>57</th>\n",
       "      <td>MS050_rcmsmg3-rcmsmg4</td>\n",
       "      <td>MS050</td>\n",
       "      <td>thalamus</td>\n",
       "      <td>9</td>\n",
       "      <td>-0.021056</td>\n",
       "      <td>0.014706</td>\n",
       "      <td>0.011164</td>\n",
       "      <td>-0.007654</td>\n",
       "      <td>-0.012857</td>\n",
       "      <td>-0.037857</td>\n",
       "      <td>0.017042</td>\n",
       "      <td>0.027603</td>\n",
       "      <td>0.005780</td>\n",
       "      <td>0.001166</td>\n",
       "    </tr>\n",
       "  </tbody>\n",
       "</table>\n",
       "</div>"
      ],
      "text/plain": [
       "          unique_reref_ch subj_id       roi  bdi  raw_Intercept  \\\n",
       "0     MS025_lcmip1-lcmip2   MS025  thalamus   10      -0.137837   \n",
       "1     MS025_lcmip2-lcmip3   MS025  thalamus   10      -0.114022   \n",
       "2     MS025_lcmip3-lcmip4   MS025  thalamus   10      -0.313089   \n",
       "3     MS025_lcmip4-lcmip5   MS025  thalamus   10      -0.280519   \n",
       "4     MS025_lcmip5-lcmip6   MS025  thalamus   10      -0.212847   \n",
       "5     MS025_rcmip1-rcmip2   MS025  thalamus   10      -0.001441   \n",
       "6     MS025_rcmip2-rcmip3   MS025  thalamus   10      -0.007344   \n",
       "7     MS025_rcmip3-rcmip4   MS025  thalamus   10      -0.002218   \n",
       "8     MS025_rcmip4-rcmip5   MS025  thalamus   10      -0.027302   \n",
       "9     MS025_rcmip5-rcmip6   MS025  thalamus   10       0.003284   \n",
       "10    MS028_lcmmm1-lcmmm2   MS028  thalamus   13      -0.106572   \n",
       "11    MS028_lcmmm2-lcmmm3   MS028  thalamus   13       0.018975   \n",
       "12    MS028_lcmmm3-lcmmm4   MS028  thalamus   13       0.003302   \n",
       "13    MS028_lcmmm4-lcmmm5   MS028  thalamus   13       0.014541   \n",
       "14    MS028_rcmmm1-rcmmm2   MS028  thalamus   13       0.012160   \n",
       "15    MS028_rcmmm2-rcmmm3   MS028  thalamus   13      -0.062231   \n",
       "16    MS028_rcmmm3-rcmmm4   MS028  thalamus   13      -0.000389   \n",
       "17    MS028_rcmmm4-rcmmm5   MS028  thalamus   13      -0.017124   \n",
       "18    MS030_lcmmf1-lcmmf2   MS030  thalamus   19       0.058481   \n",
       "19    MS030_lcmmf2-lcmmf3   MS030  thalamus   19       0.062075   \n",
       "20    MS030_lcmmf3-lcmmf4   MS030  thalamus   19       0.132664   \n",
       "21    MS030_lcmmf4-lcmmf5   MS030  thalamus   19       0.180326   \n",
       "22    MS030_lcmmf5-lcmmf6   MS030  thalamus   19       0.021986   \n",
       "23    MS033_lcmag1-lcmag2   MS033  thalamus   39      -0.028370   \n",
       "24    MS033_lcmag2-lcmag3   MS033  thalamus   39      -0.018263   \n",
       "25    MS033_lcmag3-lcmag4   MS033  thalamus   39      -0.024796   \n",
       "26    MS033_lcmag4-lcmag5   MS033  thalamus   39      -0.108015   \n",
       "27    MS033_lcmag5-lcmag6   MS033  thalamus   39      -0.070606   \n",
       "28    MS035_lcmip1-lcmip2   MS035  thalamus   15       0.086324   \n",
       "29    MS035_lcmip2-lcmip3   MS035  thalamus   15       0.103160   \n",
       "30    MS035_lcmip3-lcmip4   MS035  thalamus   15       0.051570   \n",
       "31    MS035_lcmip4-lcmip5   MS035  thalamus   15       0.014991   \n",
       "32    MS035_rcmip1-rcmip2   MS035  thalamus   15       0.114441   \n",
       "33    MS035_rcmip2-rcmip3   MS035  thalamus   15       0.061851   \n",
       "34    MS035_rcmip3-rcmip4   MS035  thalamus   15       0.105989   \n",
       "35    MS035_rcmip4-rcmip5   MS035  thalamus   15       0.016165   \n",
       "36        MS041_lcm1-lcm2   MS041  thalamus   10       0.035212   \n",
       "37        MS041_lcm2-lcm3   MS041  thalamus   10       0.031609   \n",
       "38        MS041_lcm3-lcm4   MS041  thalamus   10       0.024216   \n",
       "39        MS041_lcm4-lcm5   MS041  thalamus   10       0.028183   \n",
       "40        MS041_rcm1-rcm2   MS041  thalamus   10       0.014979   \n",
       "41        MS041_rcm2-rcm3   MS041  thalamus   10       0.038825   \n",
       "42        MS041_rcm3-rcm4   MS041  thalamus   10       0.013197   \n",
       "43        MS041_rcm4-rcm5   MS041  thalamus   10       0.015829   \n",
       "44  MS048_lcmang1-lcmang2   MS048  thalamus   19       0.009049   \n",
       "45  MS048_lcmang2-lcmang3   MS048  thalamus   19       0.043237   \n",
       "46  MS048_lcmang3-lcmang4   MS048  thalamus   19       0.017893   \n",
       "47  MS048_rcmang1-rcmang2   MS048  thalamus   19       0.038961   \n",
       "48  MS048_rcmang2-rcmang3   MS048  thalamus   19       0.028826   \n",
       "49  MS048_rcmang3-rcmang4   MS048  thalamus   19       0.021605   \n",
       "50  MS048_rcmang4-rcmang5   MS048  thalamus   19       0.024480   \n",
       "51  MS050_lcmang1-lcmang2   MS050  thalamus    9       0.028399   \n",
       "52  MS050_lcmang2-lcmang3   MS050  thalamus    9       0.026500   \n",
       "53  MS050_lcmang3-lcmang4   MS050  thalamus    9       0.011630   \n",
       "54  MS050_lcmang4-lcmang5   MS050  thalamus    9       0.017397   \n",
       "55  MS050_rcmsmg1-rcmsmg2   MS050  thalamus    9       0.011963   \n",
       "56  MS050_rcmsmg2-rcmsmg3   MS050  thalamus    9       0.009769   \n",
       "57  MS050_rcmsmg3-rcmsmg4   MS050  thalamus    9      -0.021056   \n",
       "\n",
       "    raw_GambleChoice  raw_TrialEV  raw_TotalProfit  raw_decisionCPE  \\\n",
       "0           0.026681     0.008997         0.025172        -0.019607   \n",
       "1           0.046799     0.025621         0.016698        -0.028217   \n",
       "2           0.011671    -0.007927         0.030804        -0.034458   \n",
       "3           0.044810     0.016697         0.031544        -0.043394   \n",
       "4           0.021787     0.004626         0.019862        -0.030083   \n",
       "5           0.044670     0.026415         0.015555        -0.012500   \n",
       "6           0.036951     0.021031         0.014535        -0.010176   \n",
       "7          -0.019567    -0.011001        -0.011649         0.003126   \n",
       "8           0.023606     0.017928        -0.006557        -0.016581   \n",
       "9          -0.015760    -0.004479        -0.026826        -0.004093   \n",
       "10          0.017169     0.005545         0.013727        -0.016790   \n",
       "11          0.006237     0.004696         0.001467         0.000882   \n",
       "12          0.012659     0.016591        -0.024803        -0.014606   \n",
       "13         -0.006095    -0.001155        -0.011829        -0.000210   \n",
       "14         -0.009478    -0.002428        -0.014343        -0.000447   \n",
       "15         -0.008595    -0.005848        -0.008873        -0.008905   \n",
       "16         -0.008071    -0.006437        -0.001406         0.002553   \n",
       "17          0.010575     0.008219        -0.005431        -0.008676   \n",
       "18         -0.002187     0.008559        -0.029123        -0.002819   \n",
       "19         -0.017912    -0.009542        -0.004512         0.015211   \n",
       "20         -0.033865    -0.017213        -0.007701         0.030049   \n",
       "21         -0.063703    -0.031628        -0.027009         0.041053   \n",
       "22         -0.028598    -0.016457        -0.012734         0.009570   \n",
       "23         -0.030763    -0.012115        -0.027918        -0.001481   \n",
       "24         -0.029945    -0.014408        -0.020097         0.002132   \n",
       "25          0.055443     0.037039         0.005464        -0.023988   \n",
       "26          0.198263     0.130243         0.029085        -0.085544   \n",
       "27          0.043005     0.030457        -0.008770        -0.030633   \n",
       "28         -0.006006    -0.025294         0.069153         0.040305   \n",
       "29         -0.022029    -0.019403         0.017265         0.029279   \n",
       "30         -0.006309    -0.010992         0.025415         0.019320   \n",
       "31         -0.028320    -0.024978         0.016515         0.020052   \n",
       "32         -0.039693    -0.028928         0.009705         0.035211   \n",
       "33         -0.010419    -0.007534         0.006088         0.014698   \n",
       "34         -0.051856    -0.044239         0.027968         0.045944   \n",
       "35         -0.018827    -0.021077         0.026530         0.020938   \n",
       "36          0.009641     0.006494         0.007233         0.004472   \n",
       "37          0.007960     0.007719         0.001113         0.001551   \n",
       "38         -0.004379     0.001229        -0.012201         0.000062   \n",
       "39         -0.003438     0.002423        -0.014317        -0.001024   \n",
       "40          0.011907     0.011340        -0.008620        -0.006591   \n",
       "41         -0.037022    -0.027292         0.009858         0.024599   \n",
       "42         -0.012226    -0.008083        -0.003104         0.005159   \n",
       "43         -0.005288    -0.001861        -0.004026         0.003112   \n",
       "44          0.045705     0.026338         0.022105        -0.007977   \n",
       "45         -0.030610    -0.014671        -0.012415         0.014793   \n",
       "46         -0.014772    -0.009263        -0.005763         0.005497   \n",
       "47         -0.028344    -0.013403        -0.022738         0.007393   \n",
       "48         -0.019424    -0.004906        -0.022732         0.003698   \n",
       "49         -0.024149    -0.011600        -0.017850         0.005885   \n",
       "50         -0.033165    -0.014008        -0.029243         0.005757   \n",
       "51         -0.000880    -0.001216         0.005699         0.006596   \n",
       "52         -0.017705    -0.007089        -0.015388         0.004617   \n",
       "53         -0.007046    -0.002037        -0.005841         0.002695   \n",
       "54          0.010288     0.012430        -0.016949        -0.008583   \n",
       "55          0.013797     0.009607        -0.001646        -0.005015   \n",
       "56         -0.017888    -0.012898         0.001505         0.009046   \n",
       "57          0.014706     0.011164        -0.007654        -0.012857   \n",
       "\n",
       "    Intercept  GambleChoice   TrialEV  TotalProfit  decisionCPE  \n",
       "0   -0.154638      0.029018  0.025436     0.038606    -0.005585  \n",
       "1   -0.130823      0.049136  0.042060     0.030132    -0.014195  \n",
       "2   -0.329890      0.014008  0.008512     0.044238    -0.020436  \n",
       "3   -0.297320      0.047146  0.033136     0.044978    -0.029372  \n",
       "4   -0.229648      0.024124  0.021065     0.033296    -0.016061  \n",
       "5   -0.018242      0.047007  0.042853     0.028989     0.001522  \n",
       "6   -0.024146      0.039287  0.037470     0.027970     0.003846  \n",
       "7   -0.019019     -0.017230  0.005437     0.001785     0.017149  \n",
       "8   -0.044103      0.025942  0.034367     0.006877    -0.002559  \n",
       "9   -0.013518     -0.013423  0.011960    -0.013392     0.009929  \n",
       "10  -0.123374      0.019506  0.021984     0.027161    -0.002768  \n",
       "11   0.002174      0.008574  0.021135     0.014901     0.014904  \n",
       "12  -0.013500      0.014996  0.033030    -0.011368    -0.000584  \n",
       "13  -0.002260     -0.003759  0.015284     0.001605     0.013813  \n",
       "14  -0.004642     -0.007142  0.014011    -0.000909     0.013575  \n",
       "15  -0.079033     -0.006258  0.010590     0.004561     0.005118  \n",
       "16  -0.017190     -0.005734  0.010002     0.012028     0.016575  \n",
       "17  -0.033925      0.012911  0.024658     0.008004     0.005346  \n",
       "18   0.041680      0.000150  0.024998    -0.015689     0.011203  \n",
       "19   0.045274     -0.015576  0.006897     0.008922     0.029233  \n",
       "20   0.115862     -0.031528 -0.000775     0.005733     0.044071  \n",
       "21   0.163525     -0.061366 -0.015189    -0.013575     0.055075  \n",
       "22   0.005185     -0.026261 -0.000018     0.000700     0.023592  \n",
       "23  -0.045171     -0.028426  0.004324    -0.014484     0.012541  \n",
       "24  -0.035064     -0.027608  0.002031    -0.006663     0.016155  \n",
       "25  -0.041598      0.057780  0.053477     0.018898    -0.009965  \n",
       "26  -0.124817      0.200599  0.146681     0.042519    -0.071521  \n",
       "27  -0.087407      0.045342  0.046896     0.004664    -0.016611  \n",
       "28   0.069523     -0.003669 -0.008855     0.082587     0.054327  \n",
       "29   0.086359     -0.019692 -0.002964     0.030699     0.043301  \n",
       "30   0.034769     -0.003972  0.005446     0.038849     0.033342  \n",
       "31  -0.001811     -0.025984 -0.008540     0.029949     0.034074  \n",
       "32   0.097640     -0.037356 -0.012489     0.023139     0.049233  \n",
       "33   0.045050     -0.008082  0.008905     0.019522     0.028721  \n",
       "34   0.089188     -0.049519 -0.027801     0.041402     0.059966  \n",
       "35  -0.000636     -0.016490 -0.004639     0.039964     0.034961  \n",
       "36   0.018410      0.011978  0.022933     0.020667     0.018494  \n",
       "37   0.014807      0.010296  0.024158     0.014547     0.015573  \n",
       "38   0.007415     -0.002043  0.017668     0.001233     0.014084  \n",
       "39   0.011382     -0.001101  0.018862    -0.000883     0.012998  \n",
       "40  -0.001822      0.014243  0.027778     0.004814     0.007432  \n",
       "41   0.022023     -0.034685 -0.010853     0.023292     0.038622  \n",
       "42  -0.003605     -0.009890  0.008356     0.010330     0.019181  \n",
       "43  -0.000972     -0.002951  0.014577     0.009408     0.017134  \n",
       "44  -0.007752      0.048042  0.042777     0.035539     0.006046  \n",
       "45   0.026436     -0.028273  0.001767     0.001019     0.028816  \n",
       "46   0.001091     -0.012435  0.007176     0.007671     0.019520  \n",
       "47   0.022160     -0.026007  0.003036    -0.009304     0.021415  \n",
       "48   0.012025     -0.017087  0.011533    -0.009298     0.017720  \n",
       "49   0.004803     -0.021812  0.004839    -0.004415     0.019908  \n",
       "50   0.007679     -0.030828  0.002430    -0.015809     0.019780  \n",
       "51   0.011598      0.001457  0.015223     0.019133     0.020618  \n",
       "52   0.009699     -0.015368  0.009350    -0.001954     0.018640  \n",
       "53  -0.005172     -0.004710  0.014402     0.007593     0.016718  \n",
       "54   0.000595      0.012625  0.028869    -0.003514     0.005439  \n",
       "55  -0.004839      0.016134  0.026045     0.011788     0.009008  \n",
       "56  -0.007032     -0.015551  0.003540     0.014939     0.023068  \n",
       "57  -0.037857      0.017042  0.027603     0.005780     0.001166  "
      ]
     },
     "execution_count": 32,
     "metadata": {},
     "output_type": "execute_result"
    }
   ],
   "source": [
    "roi_fit"
   ]
  },
  {
   "cell_type": "code",
   "execution_count": 33,
   "id": "c6bf272f",
   "metadata": {},
   "outputs": [
    {
     "data": {
      "text/html": [
       "<div>\n",
       "<style scoped>\n",
       "    .dataframe tbody tr th:only-of-type {\n",
       "        vertical-align: middle;\n",
       "    }\n",
       "\n",
       "    .dataframe tbody tr th {\n",
       "        vertical-align: top;\n",
       "    }\n",
       "\n",
       "    .dataframe thead th {\n",
       "        text-align: right;\n",
       "    }\n",
       "</style>\n",
       "<table border=\"1\" class=\"dataframe\">\n",
       "  <thead>\n",
       "    <tr style=\"text-align: right;\">\n",
       "      <th></th>\n",
       "      <th>unique_reref_ch</th>\n",
       "      <th>subj_id</th>\n",
       "      <th>roi</th>\n",
       "      <th>bdi</th>\n",
       "      <th>raw_Intercept</th>\n",
       "      <th>raw_GambleChoice</th>\n",
       "      <th>raw_TrialEV</th>\n",
       "      <th>raw_TotalProfit</th>\n",
       "      <th>raw_decisionCPE</th>\n",
       "      <th>Intercept</th>\n",
       "      <th>GambleChoice</th>\n",
       "      <th>TrialEV</th>\n",
       "      <th>TotalProfit</th>\n",
       "      <th>decisionCPE</th>\n",
       "    </tr>\n",
       "  </thead>\n",
       "  <tbody>\n",
       "    <tr>\n",
       "      <th>0</th>\n",
       "      <td>DA023_lac1-lac2</td>\n",
       "      <td>DA023</td>\n",
       "      <td>acc</td>\n",
       "      <td>14</td>\n",
       "      <td>0.008821</td>\n",
       "      <td>-0.019932</td>\n",
       "      <td>0.002223</td>\n",
       "      <td>-0.011230</td>\n",
       "      <td>0.007151</td>\n",
       "      <td>0.003642</td>\n",
       "      <td>-0.032425</td>\n",
       "      <td>0.005496</td>\n",
       "      <td>-0.010194</td>\n",
       "      <td>0.014319</td>\n",
       "    </tr>\n",
       "    <tr>\n",
       "      <th>1</th>\n",
       "      <td>DA023_lac2-lac3</td>\n",
       "      <td>DA023</td>\n",
       "      <td>acc</td>\n",
       "      <td>14</td>\n",
       "      <td>0.012320</td>\n",
       "      <td>-0.004611</td>\n",
       "      <td>-0.006981</td>\n",
       "      <td>0.013845</td>\n",
       "      <td>-0.005091</td>\n",
       "      <td>0.007140</td>\n",
       "      <td>-0.017104</td>\n",
       "      <td>-0.003708</td>\n",
       "      <td>0.014881</td>\n",
       "      <td>0.002077</td>\n",
       "    </tr>\n",
       "    <tr>\n",
       "      <th>2</th>\n",
       "      <td>DA023_lac3-lac4</td>\n",
       "      <td>DA023</td>\n",
       "      <td>acc</td>\n",
       "      <td>14</td>\n",
       "      <td>0.009223</td>\n",
       "      <td>-0.002647</td>\n",
       "      <td>-0.003692</td>\n",
       "      <td>0.004785</td>\n",
       "      <td>-0.002689</td>\n",
       "      <td>0.004043</td>\n",
       "      <td>-0.015140</td>\n",
       "      <td>-0.000419</td>\n",
       "      <td>0.005821</td>\n",
       "      <td>0.004479</td>\n",
       "    </tr>\n",
       "    <tr>\n",
       "      <th>3</th>\n",
       "      <td>MS002_lacas1-lacas2</td>\n",
       "      <td>MS002</td>\n",
       "      <td>acc</td>\n",
       "      <td>14</td>\n",
       "      <td>0.025398</td>\n",
       "      <td>-0.023713</td>\n",
       "      <td>0.008948</td>\n",
       "      <td>0.013541</td>\n",
       "      <td>0.014771</td>\n",
       "      <td>0.020218</td>\n",
       "      <td>-0.036206</td>\n",
       "      <td>0.012221</td>\n",
       "      <td>0.014577</td>\n",
       "      <td>0.021939</td>\n",
       "    </tr>\n",
       "    <tr>\n",
       "      <th>4</th>\n",
       "      <td>MS002_lacas2-lacas3</td>\n",
       "      <td>MS002</td>\n",
       "      <td>acc</td>\n",
       "      <td>14</td>\n",
       "      <td>0.002349</td>\n",
       "      <td>0.013979</td>\n",
       "      <td>0.001369</td>\n",
       "      <td>0.014037</td>\n",
       "      <td>0.008953</td>\n",
       "      <td>-0.002831</td>\n",
       "      <td>0.001486</td>\n",
       "      <td>0.004641</td>\n",
       "      <td>0.015073</td>\n",
       "      <td>0.016121</td>\n",
       "    </tr>\n",
       "    <tr>\n",
       "      <th>...</th>\n",
       "      <td>...</td>\n",
       "      <td>...</td>\n",
       "      <td>...</td>\n",
       "      <td>...</td>\n",
       "      <td>...</td>\n",
       "      <td>...</td>\n",
       "      <td>...</td>\n",
       "      <td>...</td>\n",
       "      <td>...</td>\n",
       "      <td>...</td>\n",
       "      <td>...</td>\n",
       "      <td>...</td>\n",
       "      <td>...</td>\n",
       "      <td>...</td>\n",
       "    </tr>\n",
       "    <tr>\n",
       "      <th>1771</th>\n",
       "      <td>MS050_lcmang3-lcmang4</td>\n",
       "      <td>MS050</td>\n",
       "      <td>thalamus</td>\n",
       "      <td>9</td>\n",
       "      <td>0.011630</td>\n",
       "      <td>-0.007046</td>\n",
       "      <td>-0.002037</td>\n",
       "      <td>-0.005841</td>\n",
       "      <td>0.002695</td>\n",
       "      <td>-0.005172</td>\n",
       "      <td>-0.004710</td>\n",
       "      <td>0.014402</td>\n",
       "      <td>0.007593</td>\n",
       "      <td>0.016718</td>\n",
       "    </tr>\n",
       "    <tr>\n",
       "      <th>1772</th>\n",
       "      <td>MS050_lcmang4-lcmang5</td>\n",
       "      <td>MS050</td>\n",
       "      <td>thalamus</td>\n",
       "      <td>9</td>\n",
       "      <td>0.017397</td>\n",
       "      <td>0.010288</td>\n",
       "      <td>0.012430</td>\n",
       "      <td>-0.016949</td>\n",
       "      <td>-0.008583</td>\n",
       "      <td>0.000595</td>\n",
       "      <td>0.012625</td>\n",
       "      <td>0.028869</td>\n",
       "      <td>-0.003514</td>\n",
       "      <td>0.005439</td>\n",
       "    </tr>\n",
       "    <tr>\n",
       "      <th>1773</th>\n",
       "      <td>MS050_rcmsmg1-rcmsmg2</td>\n",
       "      <td>MS050</td>\n",
       "      <td>thalamus</td>\n",
       "      <td>9</td>\n",
       "      <td>0.011963</td>\n",
       "      <td>0.013797</td>\n",
       "      <td>0.009607</td>\n",
       "      <td>-0.001646</td>\n",
       "      <td>-0.005015</td>\n",
       "      <td>-0.004839</td>\n",
       "      <td>0.016134</td>\n",
       "      <td>0.026045</td>\n",
       "      <td>0.011788</td>\n",
       "      <td>0.009008</td>\n",
       "    </tr>\n",
       "    <tr>\n",
       "      <th>1774</th>\n",
       "      <td>MS050_rcmsmg2-rcmsmg3</td>\n",
       "      <td>MS050</td>\n",
       "      <td>thalamus</td>\n",
       "      <td>9</td>\n",
       "      <td>0.009769</td>\n",
       "      <td>-0.017888</td>\n",
       "      <td>-0.012898</td>\n",
       "      <td>0.001505</td>\n",
       "      <td>0.009046</td>\n",
       "      <td>-0.007032</td>\n",
       "      <td>-0.015551</td>\n",
       "      <td>0.003540</td>\n",
       "      <td>0.014939</td>\n",
       "      <td>0.023068</td>\n",
       "    </tr>\n",
       "    <tr>\n",
       "      <th>1775</th>\n",
       "      <td>MS050_rcmsmg3-rcmsmg4</td>\n",
       "      <td>MS050</td>\n",
       "      <td>thalamus</td>\n",
       "      <td>9</td>\n",
       "      <td>-0.021056</td>\n",
       "      <td>0.014706</td>\n",
       "      <td>0.011164</td>\n",
       "      <td>-0.007654</td>\n",
       "      <td>-0.012857</td>\n",
       "      <td>-0.037857</td>\n",
       "      <td>0.017042</td>\n",
       "      <td>0.027603</td>\n",
       "      <td>0.005780</td>\n",
       "      <td>0.001166</td>\n",
       "    </tr>\n",
       "  </tbody>\n",
       "</table>\n",
       "<p>1776 rows × 14 columns</p>\n",
       "</div>"
      ],
      "text/plain": [
       "            unique_reref_ch subj_id       roi  bdi  raw_Intercept  \\\n",
       "0           DA023_lac1-lac2   DA023       acc   14       0.008821   \n",
       "1           DA023_lac2-lac3   DA023       acc   14       0.012320   \n",
       "2           DA023_lac3-lac4   DA023       acc   14       0.009223   \n",
       "3       MS002_lacas1-lacas2   MS002       acc   14       0.025398   \n",
       "4       MS002_lacas2-lacas3   MS002       acc   14       0.002349   \n",
       "...                     ...     ...       ...  ...            ...   \n",
       "1771  MS050_lcmang3-lcmang4   MS050  thalamus    9       0.011630   \n",
       "1772  MS050_lcmang4-lcmang5   MS050  thalamus    9       0.017397   \n",
       "1773  MS050_rcmsmg1-rcmsmg2   MS050  thalamus    9       0.011963   \n",
       "1774  MS050_rcmsmg2-rcmsmg3   MS050  thalamus    9       0.009769   \n",
       "1775  MS050_rcmsmg3-rcmsmg4   MS050  thalamus    9      -0.021056   \n",
       "\n",
       "      raw_GambleChoice  raw_TrialEV  raw_TotalProfit  raw_decisionCPE  \\\n",
       "0            -0.019932     0.002223        -0.011230         0.007151   \n",
       "1            -0.004611    -0.006981         0.013845        -0.005091   \n",
       "2            -0.002647    -0.003692         0.004785        -0.002689   \n",
       "3            -0.023713     0.008948         0.013541         0.014771   \n",
       "4             0.013979     0.001369         0.014037         0.008953   \n",
       "...                ...          ...              ...              ...   \n",
       "1771         -0.007046    -0.002037        -0.005841         0.002695   \n",
       "1772          0.010288     0.012430        -0.016949        -0.008583   \n",
       "1773          0.013797     0.009607        -0.001646        -0.005015   \n",
       "1774         -0.017888    -0.012898         0.001505         0.009046   \n",
       "1775          0.014706     0.011164        -0.007654        -0.012857   \n",
       "\n",
       "      Intercept  GambleChoice   TrialEV  TotalProfit  decisionCPE  \n",
       "0      0.003642     -0.032425  0.005496    -0.010194     0.014319  \n",
       "1      0.007140     -0.017104 -0.003708     0.014881     0.002077  \n",
       "2      0.004043     -0.015140 -0.000419     0.005821     0.004479  \n",
       "3      0.020218     -0.036206  0.012221     0.014577     0.021939  \n",
       "4     -0.002831      0.001486  0.004641     0.015073     0.016121  \n",
       "...         ...           ...       ...          ...          ...  \n",
       "1771  -0.005172     -0.004710  0.014402     0.007593     0.016718  \n",
       "1772   0.000595      0.012625  0.028869    -0.003514     0.005439  \n",
       "1773  -0.004839      0.016134  0.026045     0.011788     0.009008  \n",
       "1774  -0.007032     -0.015551  0.003540     0.014939     0.023068  \n",
       "1775  -0.037857      0.017042  0.027603     0.005780     0.001166  \n",
       "\n",
       "[1776 rows x 14 columns]"
      ]
     },
     "execution_count": 33,
     "metadata": {},
     "output_type": "execute_result"
    }
   ],
   "source": [
    "roi_fit_results"
   ]
  },
  {
   "cell_type": "code",
   "execution_count": 34,
   "id": "7918a2ca",
   "metadata": {},
   "outputs": [],
   "source": [
    "fe_params_results = {f'{roi}':roi_fit_dict[roi].fe_params for roi in list(roi_fit_dict.keys())}\n",
    "# fe_params_pvals = {f'{roi}':roi_fit_dict[roi].pvalues for roi in list(roi_fit_dict.keys())}\n"
   ]
  },
  {
   "cell_type": "code",
   "execution_count": 35,
   "id": "20a84de8",
   "metadata": {
    "scrolled": true
   },
   "outputs": [],
   "source": [
    "# fe_params_results"
   ]
  },
  {
   "cell_type": "code",
   "execution_count": 36,
   "id": "a9a1f245",
   "metadata": {},
   "outputs": [],
   "source": [
    "fe_results = []\n",
    "for fe_res in fe_params_results:\n",
    "    \n",
    "    fe_results.append(pd.DataFrame({**dict(fe_params_results[fe_res]),**{'roi':fe_res}},index=[0]))\n"
   ]
  },
  {
   "cell_type": "code",
   "execution_count": 37,
   "id": "0d637ccc",
   "metadata": {},
   "outputs": [],
   "source": [
    "fe_results = pd.concat(fe_results).reset_index(drop=True)"
   ]
  },
  {
   "cell_type": "code",
   "execution_count": 38,
   "id": "2647169e",
   "metadata": {},
   "outputs": [],
   "source": [
    "fe_results['roi_cpe_pval'] = [np.round(roi_fit_dict[roi].pvalues['decisionCPE'],4) for roi in fe_results.roi.tolist()]"
   ]
  },
  {
   "cell_type": "code",
   "execution_count": 39,
   "id": "312c098a",
   "metadata": {},
   "outputs": [
    {
     "data": {
      "text/html": [
       "<div>\n",
       "<style scoped>\n",
       "    .dataframe tbody tr th:only-of-type {\n",
       "        vertical-align: middle;\n",
       "    }\n",
       "\n",
       "    .dataframe tbody tr th {\n",
       "        vertical-align: top;\n",
       "    }\n",
       "\n",
       "    .dataframe thead th {\n",
       "        text-align: right;\n",
       "    }\n",
       "</style>\n",
       "<table border=\"1\" class=\"dataframe\">\n",
       "  <thead>\n",
       "    <tr style=\"text-align: right;\">\n",
       "      <th></th>\n",
       "      <th>Intercept</th>\n",
       "      <th>C(GambleChoice)[T.safe]</th>\n",
       "      <th>TrialEV</th>\n",
       "      <th>TotalProfit</th>\n",
       "      <th>decisionCPE</th>\n",
       "      <th>roi</th>\n",
       "      <th>roi_cpe_pval</th>\n",
       "    </tr>\n",
       "  </thead>\n",
       "  <tbody>\n",
       "    <tr>\n",
       "      <th>0</th>\n",
       "      <td>-0.005180</td>\n",
       "      <td>-0.012493</td>\n",
       "      <td>0.003273</td>\n",
       "      <td>0.001036</td>\n",
       "      <td>0.007168</td>\n",
       "      <td>acc</td>\n",
       "      <td>0.0012</td>\n",
       "    </tr>\n",
       "    <tr>\n",
       "      <th>1</th>\n",
       "      <td>-0.035581</td>\n",
       "      <td>-0.008979</td>\n",
       "      <td>-0.003294</td>\n",
       "      <td>0.010663</td>\n",
       "      <td>0.007822</td>\n",
       "      <td>dmpfc</td>\n",
       "      <td>0.0029</td>\n",
       "    </tr>\n",
       "    <tr>\n",
       "      <th>2</th>\n",
       "      <td>-0.090577</td>\n",
       "      <td>0.009229</td>\n",
       "      <td>0.001078</td>\n",
       "      <td>0.011191</td>\n",
       "      <td>0.002202</td>\n",
       "      <td>amy</td>\n",
       "      <td>0.5439</td>\n",
       "    </tr>\n",
       "    <tr>\n",
       "      <th>3</th>\n",
       "      <td>-0.070407</td>\n",
       "      <td>-0.026212</td>\n",
       "      <td>0.010891</td>\n",
       "      <td>0.009746</td>\n",
       "      <td>-0.005244</td>\n",
       "      <td>sts</td>\n",
       "      <td>0.1692</td>\n",
       "    </tr>\n",
       "    <tr>\n",
       "      <th>4</th>\n",
       "      <td>0.020233</td>\n",
       "      <td>-0.015719</td>\n",
       "      <td>0.000784</td>\n",
       "      <td>0.009796</td>\n",
       "      <td>0.025027</td>\n",
       "      <td>ains</td>\n",
       "      <td>0.0000</td>\n",
       "    </tr>\n",
       "    <tr>\n",
       "      <th>5</th>\n",
       "      <td>-0.029090</td>\n",
       "      <td>-0.013844</td>\n",
       "      <td>-0.000858</td>\n",
       "      <td>0.005622</td>\n",
       "      <td>0.013278</td>\n",
       "      <td>vlpfc</td>\n",
       "      <td>0.0019</td>\n",
       "    </tr>\n",
       "    <tr>\n",
       "      <th>6</th>\n",
       "      <td>-0.122107</td>\n",
       "      <td>0.009181</td>\n",
       "      <td>0.004811</td>\n",
       "      <td>-0.005928</td>\n",
       "      <td>0.001439</td>\n",
       "      <td>hpc</td>\n",
       "      <td>0.7151</td>\n",
       "    </tr>\n",
       "    <tr>\n",
       "      <th>7</th>\n",
       "      <td>-0.096133</td>\n",
       "      <td>-0.025194</td>\n",
       "      <td>0.002145</td>\n",
       "      <td>0.007144</td>\n",
       "      <td>-0.013647</td>\n",
       "      <td>mtg</td>\n",
       "      <td>0.0265</td>\n",
       "    </tr>\n",
       "    <tr>\n",
       "      <th>8</th>\n",
       "      <td>-0.042171</td>\n",
       "      <td>0.001608</td>\n",
       "      <td>0.002816</td>\n",
       "      <td>0.004540</td>\n",
       "      <td>0.006796</td>\n",
       "      <td>ofc</td>\n",
       "      <td>0.0081</td>\n",
       "    </tr>\n",
       "    <tr>\n",
       "      <th>9</th>\n",
       "      <td>-0.059945</td>\n",
       "      <td>0.007357</td>\n",
       "      <td>0.010741</td>\n",
       "      <td>0.001899</td>\n",
       "      <td>0.019369</td>\n",
       "      <td>pins</td>\n",
       "      <td>0.0003</td>\n",
       "    </tr>\n",
       "    <tr>\n",
       "      <th>10</th>\n",
       "      <td>-0.041592</td>\n",
       "      <td>-0.011040</td>\n",
       "      <td>-0.000599</td>\n",
       "      <td>0.012733</td>\n",
       "      <td>0.012048</td>\n",
       "      <td>dlpfc</td>\n",
       "      <td>0.0021</td>\n",
       "    </tr>\n",
       "    <tr>\n",
       "      <th>11</th>\n",
       "      <td>-0.065174</td>\n",
       "      <td>0.002048</td>\n",
       "      <td>0.010481</td>\n",
       "      <td>0.026616</td>\n",
       "      <td>0.017140</td>\n",
       "      <td>motor</td>\n",
       "      <td>0.0703</td>\n",
       "    </tr>\n",
       "    <tr>\n",
       "      <th>12</th>\n",
       "      <td>-0.127962</td>\n",
       "      <td>-0.010775</td>\n",
       "      <td>0.000306</td>\n",
       "      <td>0.000663</td>\n",
       "      <td>0.003353</td>\n",
       "      <td>vmpfc</td>\n",
       "      <td>0.6694</td>\n",
       "    </tr>\n",
       "    <tr>\n",
       "      <th>13</th>\n",
       "      <td>-0.090195</td>\n",
       "      <td>0.007565</td>\n",
       "      <td>0.005557</td>\n",
       "      <td>0.002226</td>\n",
       "      <td>-0.006233</td>\n",
       "      <td>phg</td>\n",
       "      <td>0.3850</td>\n",
       "    </tr>\n",
       "    <tr>\n",
       "      <th>14</th>\n",
       "      <td>-0.063796</td>\n",
       "      <td>0.014857</td>\n",
       "      <td>0.014385</td>\n",
       "      <td>0.011097</td>\n",
       "      <td>0.001046</td>\n",
       "      <td>smg</td>\n",
       "      <td>0.8329</td>\n",
       "    </tr>\n",
       "    <tr>\n",
       "      <th>15</th>\n",
       "      <td>-0.047557</td>\n",
       "      <td>0.002346</td>\n",
       "      <td>0.000417</td>\n",
       "      <td>-0.002132</td>\n",
       "      <td>-0.001111</td>\n",
       "      <td>stg</td>\n",
       "      <td>0.7647</td>\n",
       "    </tr>\n",
       "    <tr>\n",
       "      <th>16</th>\n",
       "      <td>-0.078324</td>\n",
       "      <td>0.004893</td>\n",
       "      <td>0.002791</td>\n",
       "      <td>-0.023079</td>\n",
       "      <td>-0.002507</td>\n",
       "      <td>mcc</td>\n",
       "      <td>0.7659</td>\n",
       "    </tr>\n",
       "    <tr>\n",
       "      <th>17</th>\n",
       "      <td>-0.093182</td>\n",
       "      <td>-0.014867</td>\n",
       "      <td>0.004922</td>\n",
       "      <td>0.010236</td>\n",
       "      <td>-0.007859</td>\n",
       "      <td>temporal pole</td>\n",
       "      <td>0.2727</td>\n",
       "    </tr>\n",
       "    <tr>\n",
       "      <th>18</th>\n",
       "      <td>-0.128936</td>\n",
       "      <td>0.009373</td>\n",
       "      <td>0.008442</td>\n",
       "      <td>-0.013975</td>\n",
       "      <td>0.019849</td>\n",
       "      <td>parietal</td>\n",
       "      <td>0.0355</td>\n",
       "    </tr>\n",
       "    <tr>\n",
       "      <th>19</th>\n",
       "      <td>-0.016801</td>\n",
       "      <td>0.002337</td>\n",
       "      <td>0.016439</td>\n",
       "      <td>0.013434</td>\n",
       "      <td>0.014022</td>\n",
       "      <td>thalamus</td>\n",
       "      <td>0.0189</td>\n",
       "    </tr>\n",
       "  </tbody>\n",
       "</table>\n",
       "</div>"
      ],
      "text/plain": [
       "    Intercept  C(GambleChoice)[T.safe]   TrialEV  TotalProfit  decisionCPE  \\\n",
       "0   -0.005180                -0.012493  0.003273     0.001036     0.007168   \n",
       "1   -0.035581                -0.008979 -0.003294     0.010663     0.007822   \n",
       "2   -0.090577                 0.009229  0.001078     0.011191     0.002202   \n",
       "3   -0.070407                -0.026212  0.010891     0.009746    -0.005244   \n",
       "4    0.020233                -0.015719  0.000784     0.009796     0.025027   \n",
       "5   -0.029090                -0.013844 -0.000858     0.005622     0.013278   \n",
       "6   -0.122107                 0.009181  0.004811    -0.005928     0.001439   \n",
       "7   -0.096133                -0.025194  0.002145     0.007144    -0.013647   \n",
       "8   -0.042171                 0.001608  0.002816     0.004540     0.006796   \n",
       "9   -0.059945                 0.007357  0.010741     0.001899     0.019369   \n",
       "10  -0.041592                -0.011040 -0.000599     0.012733     0.012048   \n",
       "11  -0.065174                 0.002048  0.010481     0.026616     0.017140   \n",
       "12  -0.127962                -0.010775  0.000306     0.000663     0.003353   \n",
       "13  -0.090195                 0.007565  0.005557     0.002226    -0.006233   \n",
       "14  -0.063796                 0.014857  0.014385     0.011097     0.001046   \n",
       "15  -0.047557                 0.002346  0.000417    -0.002132    -0.001111   \n",
       "16  -0.078324                 0.004893  0.002791    -0.023079    -0.002507   \n",
       "17  -0.093182                -0.014867  0.004922     0.010236    -0.007859   \n",
       "18  -0.128936                 0.009373  0.008442    -0.013975     0.019849   \n",
       "19  -0.016801                 0.002337  0.016439     0.013434     0.014022   \n",
       "\n",
       "              roi  roi_cpe_pval  \n",
       "0             acc        0.0012  \n",
       "1           dmpfc        0.0029  \n",
       "2             amy        0.5439  \n",
       "3             sts        0.1692  \n",
       "4            ains        0.0000  \n",
       "5           vlpfc        0.0019  \n",
       "6             hpc        0.7151  \n",
       "7             mtg        0.0265  \n",
       "8             ofc        0.0081  \n",
       "9            pins        0.0003  \n",
       "10          dlpfc        0.0021  \n",
       "11          motor        0.0703  \n",
       "12          vmpfc        0.6694  \n",
       "13            phg        0.3850  \n",
       "14            smg        0.8329  \n",
       "15            stg        0.7647  \n",
       "16            mcc        0.7659  \n",
       "17  temporal pole        0.2727  \n",
       "18       parietal        0.0355  \n",
       "19       thalamus        0.0189  "
      ]
     },
     "execution_count": 39,
     "metadata": {},
     "output_type": "execute_result"
    }
   ],
   "source": [
    "fe_results"
   ]
  },
  {
   "cell_type": "code",
   "execution_count": 40,
   "id": "3323e730",
   "metadata": {
    "scrolled": false
   },
   "outputs": [
    {
     "data": {
      "text/html": [
       "<div>\n",
       "<style scoped>\n",
       "    .dataframe tbody tr th:only-of-type {\n",
       "        vertical-align: middle;\n",
       "    }\n",
       "\n",
       "    .dataframe tbody tr th {\n",
       "        vertical-align: top;\n",
       "    }\n",
       "\n",
       "    .dataframe thead th {\n",
       "        text-align: right;\n",
       "    }\n",
       "</style>\n",
       "<table border=\"1\" class=\"dataframe\">\n",
       "  <thead>\n",
       "    <tr style=\"text-align: right;\">\n",
       "      <th></th>\n",
       "      <th>Intercept</th>\n",
       "      <th>C(GambleChoice)[T.safe]</th>\n",
       "      <th>TrialEV</th>\n",
       "      <th>TotalProfit</th>\n",
       "      <th>decisionCPE</th>\n",
       "      <th>roi</th>\n",
       "      <th>roi_cpe_pval</th>\n",
       "    </tr>\n",
       "  </thead>\n",
       "  <tbody>\n",
       "    <tr>\n",
       "      <th>0</th>\n",
       "      <td>-0.005180</td>\n",
       "      <td>-0.012493</td>\n",
       "      <td>0.003273</td>\n",
       "      <td>0.001036</td>\n",
       "      <td>0.007168</td>\n",
       "      <td>acc</td>\n",
       "      <td>0.0012</td>\n",
       "    </tr>\n",
       "    <tr>\n",
       "      <th>1</th>\n",
       "      <td>-0.035581</td>\n",
       "      <td>-0.008979</td>\n",
       "      <td>-0.003294</td>\n",
       "      <td>0.010663</td>\n",
       "      <td>0.007822</td>\n",
       "      <td>dmpfc</td>\n",
       "      <td>0.0029</td>\n",
       "    </tr>\n",
       "    <tr>\n",
       "      <th>2</th>\n",
       "      <td>-0.090577</td>\n",
       "      <td>0.009229</td>\n",
       "      <td>0.001078</td>\n",
       "      <td>0.011191</td>\n",
       "      <td>0.002202</td>\n",
       "      <td>amy</td>\n",
       "      <td>0.5439</td>\n",
       "    </tr>\n",
       "    <tr>\n",
       "      <th>3</th>\n",
       "      <td>-0.070407</td>\n",
       "      <td>-0.026212</td>\n",
       "      <td>0.010891</td>\n",
       "      <td>0.009746</td>\n",
       "      <td>-0.005244</td>\n",
       "      <td>sts</td>\n",
       "      <td>0.1692</td>\n",
       "    </tr>\n",
       "    <tr>\n",
       "      <th>4</th>\n",
       "      <td>0.020233</td>\n",
       "      <td>-0.015719</td>\n",
       "      <td>0.000784</td>\n",
       "      <td>0.009796</td>\n",
       "      <td>0.025027</td>\n",
       "      <td>ains</td>\n",
       "      <td>0.0000</td>\n",
       "    </tr>\n",
       "    <tr>\n",
       "      <th>5</th>\n",
       "      <td>-0.029090</td>\n",
       "      <td>-0.013844</td>\n",
       "      <td>-0.000858</td>\n",
       "      <td>0.005622</td>\n",
       "      <td>0.013278</td>\n",
       "      <td>vlpfc</td>\n",
       "      <td>0.0019</td>\n",
       "    </tr>\n",
       "    <tr>\n",
       "      <th>6</th>\n",
       "      <td>-0.122107</td>\n",
       "      <td>0.009181</td>\n",
       "      <td>0.004811</td>\n",
       "      <td>-0.005928</td>\n",
       "      <td>0.001439</td>\n",
       "      <td>hpc</td>\n",
       "      <td>0.7151</td>\n",
       "    </tr>\n",
       "    <tr>\n",
       "      <th>7</th>\n",
       "      <td>-0.096133</td>\n",
       "      <td>-0.025194</td>\n",
       "      <td>0.002145</td>\n",
       "      <td>0.007144</td>\n",
       "      <td>-0.013647</td>\n",
       "      <td>mtg</td>\n",
       "      <td>0.0265</td>\n",
       "    </tr>\n",
       "    <tr>\n",
       "      <th>8</th>\n",
       "      <td>-0.042171</td>\n",
       "      <td>0.001608</td>\n",
       "      <td>0.002816</td>\n",
       "      <td>0.004540</td>\n",
       "      <td>0.006796</td>\n",
       "      <td>ofc</td>\n",
       "      <td>0.0081</td>\n",
       "    </tr>\n",
       "    <tr>\n",
       "      <th>9</th>\n",
       "      <td>-0.059945</td>\n",
       "      <td>0.007357</td>\n",
       "      <td>0.010741</td>\n",
       "      <td>0.001899</td>\n",
       "      <td>0.019369</td>\n",
       "      <td>pins</td>\n",
       "      <td>0.0003</td>\n",
       "    </tr>\n",
       "    <tr>\n",
       "      <th>10</th>\n",
       "      <td>-0.041592</td>\n",
       "      <td>-0.011040</td>\n",
       "      <td>-0.000599</td>\n",
       "      <td>0.012733</td>\n",
       "      <td>0.012048</td>\n",
       "      <td>dlpfc</td>\n",
       "      <td>0.0021</td>\n",
       "    </tr>\n",
       "    <tr>\n",
       "      <th>11</th>\n",
       "      <td>-0.065174</td>\n",
       "      <td>0.002048</td>\n",
       "      <td>0.010481</td>\n",
       "      <td>0.026616</td>\n",
       "      <td>0.017140</td>\n",
       "      <td>motor</td>\n",
       "      <td>0.0703</td>\n",
       "    </tr>\n",
       "    <tr>\n",
       "      <th>12</th>\n",
       "      <td>-0.127962</td>\n",
       "      <td>-0.010775</td>\n",
       "      <td>0.000306</td>\n",
       "      <td>0.000663</td>\n",
       "      <td>0.003353</td>\n",
       "      <td>vmpfc</td>\n",
       "      <td>0.6694</td>\n",
       "    </tr>\n",
       "    <tr>\n",
       "      <th>13</th>\n",
       "      <td>-0.090195</td>\n",
       "      <td>0.007565</td>\n",
       "      <td>0.005557</td>\n",
       "      <td>0.002226</td>\n",
       "      <td>-0.006233</td>\n",
       "      <td>phg</td>\n",
       "      <td>0.3850</td>\n",
       "    </tr>\n",
       "    <tr>\n",
       "      <th>14</th>\n",
       "      <td>-0.063796</td>\n",
       "      <td>0.014857</td>\n",
       "      <td>0.014385</td>\n",
       "      <td>0.011097</td>\n",
       "      <td>0.001046</td>\n",
       "      <td>smg</td>\n",
       "      <td>0.8329</td>\n",
       "    </tr>\n",
       "    <tr>\n",
       "      <th>15</th>\n",
       "      <td>-0.047557</td>\n",
       "      <td>0.002346</td>\n",
       "      <td>0.000417</td>\n",
       "      <td>-0.002132</td>\n",
       "      <td>-0.001111</td>\n",
       "      <td>stg</td>\n",
       "      <td>0.7647</td>\n",
       "    </tr>\n",
       "    <tr>\n",
       "      <th>16</th>\n",
       "      <td>-0.078324</td>\n",
       "      <td>0.004893</td>\n",
       "      <td>0.002791</td>\n",
       "      <td>-0.023079</td>\n",
       "      <td>-0.002507</td>\n",
       "      <td>mcc</td>\n",
       "      <td>0.7659</td>\n",
       "    </tr>\n",
       "    <tr>\n",
       "      <th>17</th>\n",
       "      <td>-0.093182</td>\n",
       "      <td>-0.014867</td>\n",
       "      <td>0.004922</td>\n",
       "      <td>0.010236</td>\n",
       "      <td>-0.007859</td>\n",
       "      <td>temporal pole</td>\n",
       "      <td>0.2727</td>\n",
       "    </tr>\n",
       "    <tr>\n",
       "      <th>18</th>\n",
       "      <td>-0.128936</td>\n",
       "      <td>0.009373</td>\n",
       "      <td>0.008442</td>\n",
       "      <td>-0.013975</td>\n",
       "      <td>0.019849</td>\n",
       "      <td>parietal</td>\n",
       "      <td>0.0355</td>\n",
       "    </tr>\n",
       "    <tr>\n",
       "      <th>19</th>\n",
       "      <td>-0.016801</td>\n",
       "      <td>0.002337</td>\n",
       "      <td>0.016439</td>\n",
       "      <td>0.013434</td>\n",
       "      <td>0.014022</td>\n",
       "      <td>thalamus</td>\n",
       "      <td>0.0189</td>\n",
       "    </tr>\n",
       "  </tbody>\n",
       "</table>\n",
       "</div>"
      ],
      "text/plain": [
       "    Intercept  C(GambleChoice)[T.safe]   TrialEV  TotalProfit  decisionCPE  \\\n",
       "0   -0.005180                -0.012493  0.003273     0.001036     0.007168   \n",
       "1   -0.035581                -0.008979 -0.003294     0.010663     0.007822   \n",
       "2   -0.090577                 0.009229  0.001078     0.011191     0.002202   \n",
       "3   -0.070407                -0.026212  0.010891     0.009746    -0.005244   \n",
       "4    0.020233                -0.015719  0.000784     0.009796     0.025027   \n",
       "5   -0.029090                -0.013844 -0.000858     0.005622     0.013278   \n",
       "6   -0.122107                 0.009181  0.004811    -0.005928     0.001439   \n",
       "7   -0.096133                -0.025194  0.002145     0.007144    -0.013647   \n",
       "8   -0.042171                 0.001608  0.002816     0.004540     0.006796   \n",
       "9   -0.059945                 0.007357  0.010741     0.001899     0.019369   \n",
       "10  -0.041592                -0.011040 -0.000599     0.012733     0.012048   \n",
       "11  -0.065174                 0.002048  0.010481     0.026616     0.017140   \n",
       "12  -0.127962                -0.010775  0.000306     0.000663     0.003353   \n",
       "13  -0.090195                 0.007565  0.005557     0.002226    -0.006233   \n",
       "14  -0.063796                 0.014857  0.014385     0.011097     0.001046   \n",
       "15  -0.047557                 0.002346  0.000417    -0.002132    -0.001111   \n",
       "16  -0.078324                 0.004893  0.002791    -0.023079    -0.002507   \n",
       "17  -0.093182                -0.014867  0.004922     0.010236    -0.007859   \n",
       "18  -0.128936                 0.009373  0.008442    -0.013975     0.019849   \n",
       "19  -0.016801                 0.002337  0.016439     0.013434     0.014022   \n",
       "\n",
       "              roi  roi_cpe_pval  \n",
       "0             acc        0.0012  \n",
       "1           dmpfc        0.0029  \n",
       "2             amy        0.5439  \n",
       "3             sts        0.1692  \n",
       "4            ains        0.0000  \n",
       "5           vlpfc        0.0019  \n",
       "6             hpc        0.7151  \n",
       "7             mtg        0.0265  \n",
       "8             ofc        0.0081  \n",
       "9            pins        0.0003  \n",
       "10          dlpfc        0.0021  \n",
       "11          motor        0.0703  \n",
       "12          vmpfc        0.6694  \n",
       "13            phg        0.3850  \n",
       "14            smg        0.8329  \n",
       "15            stg        0.7647  \n",
       "16            mcc        0.7659  \n",
       "17  temporal pole        0.2727  \n",
       "18       parietal        0.0355  \n",
       "19       thalamus        0.0189  "
      ]
     },
     "execution_count": 40,
     "metadata": {},
     "output_type": "execute_result"
    }
   ],
   "source": [
    "fe_results"
   ]
  },
  {
   "cell_type": "code",
   "execution_count": 54,
   "id": "0b566bb9",
   "metadata": {},
   "outputs": [],
   "source": [
    "\n",
    "# sns.set_context(\"talk\",rc={'axes.linewidth': 1.5})\n",
    "\n",
    "# for roi in roi_plot_data.roi.unique().tolist()[:-1]:\n",
    "#     roi_temp_data = roi_plot_data[roi_plot_data.roi==roi]\n",
    "\n",
    "#     rho   = rho_data[rho_data.roi == roi].round_rho.values[0]\n",
    "#     rho_p = rho_data[rho_data.roi == roi].round_p.values[0]\n",
    "    \n",
    "        \n",
    "#     fig,ax = plt.subplots(1,1,figsize=(5,3.5),dpi=300)\n",
    "\n",
    "#     sns.regplot(data=roi_temp_data,x='bdi',y='elec_bCPE',scatter=False,ci=95,\n",
    "#                 fit_reg=True,color = '#00467e') #034975\n",
    "    \n",
    "#     sns.scatterplot(data = roi_temp_data.groupby(['subj_id']).agg('mean'),x='bdi',\n",
    "#                     y='raw_decisionCPE',color = '#00467e',edgecolor=None,alpha=0.8)\n",
    "    \n",
    "# #     plt.gca().yaxis.set_major_formatter(StrMethodFormatter('{x:,.2f}')) \n",
    "#     plt.xlabel('BDI-II')\n",
    "# #     plt.xlim([0,40])\n",
    "    \n",
    "#     plt.tick_params(length=0) \n",
    "# #     plt.ylabel('beta'+r'$beta_{{{zpow}}}$'+' cpe encoding')\n",
    "#     plt.ylabel(fr'${band}_{{{zpow}}} \\sim cpe$')\n",
    "\n",
    "#     plt.text(np.max(roi_temp_data.bdi)-8,\n",
    "#              np.round(np.max(roi_temp_data.groupby(['subj_id']).agg('mean').elec_bCPE),3)-0.003,\n",
    "#              r'$rho$ = '+f'{rho} \\n'+ fr'$p \\approxeq $ {rho_p}',color='k',fontsize=12)\n",
    "# #              color='#00467e',fontsize=16)\n",
    "# #     plt.text(0.8,0.8,r'$rho$ = '+f'{rho} \\n'+ fr'$p \\approxeq $ {rho_p}',\n",
    "# #             verticalalignment='top', horizontalalignment='right',\n",
    "# #             color='k',fontsize=16)\n",
    "\n",
    "#     plt.title(f'{roi}',fontsize=20)\n",
    "#     plt.tight_layout()\n",
    "\n",
    "\n",
    "    \n",
    "#     sns.despine()\n",
    "    \n",
    "# #     plt.savefig(f'{fig_save_dir}/{roi}_{rho}_{rho_p}_roi_bdi_beta-cpe-slope.pdf', format='pdf', metadata=None,\n",
    "# #         bbox_inches='tight', pad_inches=0.1,dpi=300,\n",
    "# #         facecolor='auto', edgecolor='auto',\n",
    "# #         backend=None)\n",
    "    "
   ]
  },
  {
   "cell_type": "code",
   "execution_count": null,
   "id": "6ed10d9f",
   "metadata": {},
   "outputs": [],
   "source": []
  },
  {
   "cell_type": "code",
   "execution_count": null,
   "id": "cc829d23",
   "metadata": {},
   "outputs": [],
   "source": []
  },
  {
   "cell_type": "code",
   "execution_count": null,
   "id": "c14aee69",
   "metadata": {},
   "outputs": [],
   "source": []
  },
  {
   "cell_type": "code",
   "execution_count": null,
   "id": "93e45e8e",
   "metadata": {},
   "outputs": [],
   "source": [
    "sig_roi_fit_results"
   ]
  },
  {
   "cell_type": "code",
   "execution_count": null,
   "id": "ea61be68",
   "metadata": {},
   "outputs": [],
   "source": [
    "roi_fit_results"
   ]
  },
  {
   "cell_type": "code",
   "execution_count": null,
   "id": "b39a83c3",
   "metadata": {},
   "outputs": [],
   "source": [
    "bonferr_alpha = 0.05/len(test_rois)"
   ]
  },
  {
   "cell_type": "code",
   "execution_count": null,
   "id": "5531a1a5",
   "metadata": {},
   "outputs": [],
   "source": [
    "bonferr_alpha"
   ]
  },
  {
   "cell_type": "code",
   "execution_count": null,
   "id": "ab2b9306",
   "metadata": {},
   "outputs": [],
   "source": [
    "fe_results.roi[fe_results.roi_cpe_pval <= bonferr_alpha]"
   ]
  },
  {
   "cell_type": "code",
   "execution_count": null,
   "id": "487bd75c",
   "metadata": {},
   "outputs": [],
   "source": [
    "sig_roi_fit_results = roi_fit_results[roi_fit_results.decisionCPE <= 0.05]"
   ]
  },
  {
   "cell_type": "code",
   "execution_count": null,
   "id": "abc62010",
   "metadata": {},
   "outputs": [],
   "source": [
    "sig_roi_fit_results.roi.value_counts()"
   ]
  },
  {
   "cell_type": "code",
   "execution_count": null,
   "id": "c9900c62",
   "metadata": {},
   "outputs": [],
   "source": [
    "sig_roi_fit_results"
   ]
  },
  {
   "cell_type": "code",
   "execution_count": null,
   "id": "8cbed870",
   "metadata": {},
   "outputs": [],
   "source": [
    "plot_roi_model_results(sig_data,'roi','Z_Score_decisionCPE',bar_order=bar_order,color='#135546',figsize=(10,4))"
   ]
  },
  {
   "cell_type": "code",
   "execution_count": null,
   "id": "46d6ffe3",
   "metadata": {},
   "outputs": [],
   "source": []
  },
  {
   "cell_type": "code",
   "execution_count": null,
   "id": "322eb831",
   "metadata": {
    "scrolled": true
   },
   "outputs": [],
   "source": [
    "final_fit.pvalues['decisionCPE']"
   ]
  },
  {
   "cell_type": "code",
   "execution_count": null,
   "id": "dbff50be",
   "metadata": {},
   "outputs": [],
   "source": [
    "# final_fit.t_test_pairwise('C(TrialType)',\n",
    "#                           factor_labels=[ 'TrialEV', 'TotalProfit', 'decisionCPE'])\n",
    "# final_fit.model.data.design_info.term_names.index(term_name)"
   ]
  },
  {
   "cell_type": "code",
   "execution_count": null,
   "id": "dcb04c4b",
   "metadata": {},
   "outputs": [],
   "source": [
    "mixed_effects_ftest_ttest(final_fit)"
   ]
  },
  {
   "cell_type": "code",
   "execution_count": null,
   "id": "e215fd34",
   "metadata": {},
   "outputs": [],
   "source": [
    "fe_param_names = list(final_fit.fe_params.index[1:])\n",
    "fe_param_names"
   ]
  },
  {
   "cell_type": "code",
   "execution_count": null,
   "id": "ae6e3385",
   "metadata": {},
   "outputs": [],
   "source": [
    "plot_data = pd.concat([pd.DataFrame(\n",
    "    {**{'subj_id':elec_id.split('_')[0],'reref_ch_names':elec_id.split('_')[1]},'unique_reref_ch':elec_id,\n",
    "     **{f'raw_{param}':final_fit.random_effects[elec_id][param] for param in list(\n",
    "            final_fit.random_effects[elec_id].index)}},index=[range(len(fe_param_names))])\n",
    "        \n",
    "    for elec_id in final_fit.random_effects.keys()]).reset_index(drop=True)\n",
    "\n",
    "plot_data['roi'] = [reg_df.roi[reg_df.unique_reref_ch == row.unique_reref_ch].values[0]\n",
    "                                for idx,row in plot_data.iterrows()]\n",
    "\n",
    "plot_data['bdi'] = [subj_info_df.bdi[subj_info_df.subj_id == subj_id].values[0]\n",
    "                                for subj_id in plot_data.subj_id]"
   ]
  },
  {
   "cell_type": "code",
   "execution_count": null,
   "id": "f059ced9",
   "metadata": {},
   "outputs": [],
   "source": [
    "plot_data"
   ]
  },
  {
   "cell_type": "code",
   "execution_count": null,
   "id": "c43b2a75",
   "metadata": {},
   "outputs": [],
   "source": [
    "#### Get all results for Figs!!!!\n",
    "\n",
    "fe_intercept   = final_fit.params['Intercept']\n",
    "fe_cpe_beta    = final_fit.params['decisionCPE']\n",
    "fe_cpe_beta\n"
   ]
  },
  {
   "cell_type": "code",
   "execution_count": null,
   "id": "a228b003",
   "metadata": {},
   "outputs": [],
   "source": [
    "#### add fixed effects data to all_elec_plot_data\n",
    "plot_data['elec_b0']   = np.add(plot_data.raw_Group,fe_intercept)\n",
    "plot_data['elec_bCPE'] = np.add(plot_data.raw_decisionCPE,fe_cpe_beta)\n",
    "plot_data = plot_data[~plot_data.roi.isnull()]"
   ]
  },
  {
   "cell_type": "code",
   "execution_count": null,
   "id": "16ab40f2",
   "metadata": {},
   "outputs": [],
   "source": [
    "plot_data"
   ]
  },
  {
   "cell_type": "code",
   "execution_count": null,
   "id": "0991b521",
   "metadata": {},
   "outputs": [],
   "source": [
    "raw_roi_stats = {f'{roi}':ttest_1samp(plot_data.raw_decisionCPE[plot_data.roi == roi].unique(),\n",
    "                 popmean=0) for roi in plot_data.roi.unique().tolist()}\n",
    "raw_roi_stats"
   ]
  },
  {
   "cell_type": "code",
   "execution_count": null,
   "id": "407b0f52",
   "metadata": {},
   "outputs": [],
   "source": [
    "roi_stats = {f'{roi}':ttest_1samp(plot_data.elec_bCPE[plot_data.roi == roi].unique(),\n",
    "                 popmean=0) for roi in plot_data.roi.unique().tolist()}\n",
    "roi_stats"
   ]
  },
  {
   "cell_type": "code",
   "execution_count": null,
   "id": "b7b7046c",
   "metadata": {},
   "outputs": [],
   "source": [
    "pairwise_ains_vals = plot_data.elec_bCPE[plot_data.roi == 'ains'].unique()\n",
    "\n",
    "pairwise_roi_stats = {f'ains={roi}':ttest_ind(pairwise_ains_vals,plot_data.elec_bCPE[plot_data.roi == roi].unique(),\n",
    "                 ) for roi in plot_data.roi.unique().tolist()}\n",
    "pairwise_roi_stats\n"
   ]
  },
  {
   "cell_type": "code",
   "execution_count": null,
   "id": "e6648b2d",
   "metadata": {
    "scrolled": true
   },
   "outputs": [],
   "source": [
    "pairwise_ains_vals = plot_data.elec_bCPE[plot_data.roi == 'ains'].unique()\n",
    "\n",
    "pairwise_roi_stats_greater = {f'ains={roi}':ttest_ind(pairwise_ains_vals,plot_data.elec_bCPE[plot_data.roi == roi].unique(),\n",
    "                 alternative='greater') for roi in plot_data.roi.unique().tolist()}\n",
    "pairwise_roi_stats_greater"
   ]
  },
  {
   "cell_type": "code",
   "execution_count": null,
   "id": "766a4a33",
   "metadata": {},
   "outputs": [],
   "source": [
    "pairwise_ains_vals = plot_data.elec_bCPE[plot_data.roi == 'ains'].unique()\n",
    "\n",
    "pairwise_roi_stats_less = {f'ains={roi}':ttest_ind(pairwise_ains_vals,plot_data.elec_bCPE[plot_data.roi == roi].unique(),\n",
    "                 alternative='less') for roi in plot_data.roi.unique().tolist()}\n",
    "pairwise_roi_stats_less"
   ]
  },
  {
   "cell_type": "code",
   "execution_count": null,
   "id": "d9deb2ab",
   "metadata": {},
   "outputs": [],
   "source": [
    "bonferr_alpha = 0.05/(len(plot_data.roi.unique().tolist()))\n",
    "bonferr_alpha"
   ]
  },
  {
   "cell_type": "code",
   "execution_count": null,
   "id": "7397e76e",
   "metadata": {},
   "outputs": [],
   "source": [
    "print('sig ROIs after multiple comp correction: ',[(roi,raw_roi_stats[roi].pvalue) for roi in raw_roi_stats.keys()\n",
    "                                                   if raw_roi_stats[roi].pvalue< bonferr_alpha])\n",
    "# print('sig ROI pvals: ',roi_stats.roi_cpe_pval[roi_beta_results.roi_cpe_pval<=bonferr_alpha].unique().tolist())\n",
    "\n",
    "sig_raw = [(roi,raw_roi_stats[roi].pvalue) for roi in raw_roi_stats.keys()\n",
    "                                                   if raw_roi_stats[roi].pvalue< bonferr_alpha]\n",
    "\n",
    "sig_raw_rois = list(zip(*sig_raw))[0]"
   ]
  },
  {
   "cell_type": "code",
   "execution_count": null,
   "id": "1573145b",
   "metadata": {},
   "outputs": [],
   "source": [
    "sig_raw_rois"
   ]
  },
  {
   "cell_type": "code",
   "execution_count": null,
   "id": "3dd56571",
   "metadata": {},
   "outputs": [],
   "source": [
    "print('sig ROIs after multiple comp correction: ',[(roi,roi_stats[roi].pvalue) for roi in roi_stats.keys()\n",
    "                                                   if roi_stats[roi].pvalue< bonferr_alpha])\n",
    "# print('sig ROI pvals: ',roi_stats.roi_cpe_pval[roi_beta_results.roi_cpe_pval<=bonferr_alpha].unique().tolist())\n",
    "sig_bcpe = [(roi,roi_stats[roi].pvalue) for roi in roi_stats.keys()\n",
    "                                                   if roi_stats[roi].pvalue< bonferr_alpha]\n",
    "\n",
    "sig_bcpe_rois = list(zip(*sig_bcpe))[0]"
   ]
  },
  {
   "cell_type": "code",
   "execution_count": null,
   "id": "593daa85",
   "metadata": {},
   "outputs": [],
   "source": [
    "list(zip(*sig_bcpe))[0]"
   ]
  },
  {
   "cell_type": "code",
   "execution_count": null,
   "id": "168acf81",
   "metadata": {},
   "outputs": [],
   "source": [
    "print('sig ROIs after multiple comp correction: ',[(roi,pairwise_roi_stats_greater[roi].pvalue) for \n",
    "                                                   roi in pairwise_roi_stats_greater.keys()\n",
    "                                                   if pairwise_roi_stats_greater[roi].pvalue< bonferr_alpha])\n",
    "# print('sig ROI pvals: ',roi_stats.roi_cpe_pval[roi_beta_results.roi_cpe_pval<=bonferr_alpha].unique().tolist())\n",
    "sig_bcpe = [(roi,pairwise_roi_stats_greater[roi].pvalue) for roi in pairwise_roi_stats_greater.keys()\n",
    "                                                   if pairwise_roi_stats_greater[roi].pvalue< bonferr_alpha]\n",
    "\n",
    "sig_bcpe_rois = list(zip(*sig_bcpe))[0]"
   ]
  },
  {
   "cell_type": "code",
   "execution_count": null,
   "id": "ba69aafc",
   "metadata": {},
   "outputs": [],
   "source": [
    "sig_bcpe_rois "
   ]
  },
  {
   "cell_type": "code",
   "execution_count": null,
   "id": "a86819a8",
   "metadata": {},
   "outputs": [],
   "source": [
    "print('sig ROIs after multiple comp correction: ',[(roi,pairwise_roi_stats_less[roi].pvalue) for \n",
    "                                                   roi in pairwise_roi_stats_less.keys()\n",
    "                                                   if pairwise_roi_stats_less[roi].pvalue< bonferr_alpha])\n",
    "# print('sig ROI pvals: ',roi_stats.roi_cpe_pval[roi_beta_results.roi_cpe_pval<=bonferr_alpha].unique().tolist())\n",
    "# sig_bcpe = [(roi,pairwise_roi_stats_less[roi].pvalue) for roi in pairwise_roi_stats_less.keys()\n",
    "#                                                    if pairwise_roi_stats_less[roi].pvalue< bonferr_alpha]\n",
    "\n",
    "# sig_bcpe_rois = list(zip(*sig_bcpe))[0]"
   ]
  },
  {
   "cell_type": "code",
   "execution_count": null,
   "id": "fe564d88",
   "metadata": {},
   "outputs": [],
   "source": [
    "print('sig ROIs after multiple comp correction: ',[(roi,pairwise_roi_stats[roi].pvalue) for \n",
    "                                                   roi in pairwise_roi_stats.keys()\n",
    "                                                   if pairwise_roi_stats[roi].pvalue< bonferr_alpha])\n",
    "\n",
    "sig_bcpe = [(roi,pairwise_roi_stats[roi].pvalue) for roi in pairwise_roi_stats.keys()\n",
    "                                                   if pairwise_roi_stats[roi].pvalue< bonferr_alpha]\n",
    "\n",
    "sig_bcpe_rois = list(zip(*sig_bcpe))[0]"
   ]
  },
  {
   "cell_type": "code",
   "execution_count": null,
   "id": "a0f7379d",
   "metadata": {},
   "outputs": [],
   "source": [
    "sig_bcpe_rois"
   ]
  },
  {
   "cell_type": "code",
   "execution_count": null,
   "id": "083a9a35",
   "metadata": {},
   "outputs": [],
   "source": [
    "len([(roi,roi_stats[roi].pvalue) for roi in roi_stats.keys()\n",
    "                                                   if roi_stats[roi].pvalue< bonferr_alpha])"
   ]
  },
  {
   "cell_type": "code",
   "execution_count": null,
   "id": "a6615af1",
   "metadata": {},
   "outputs": [],
   "source": [
    "roi_stats.keys()"
   ]
  },
  {
   "cell_type": "code",
   "execution_count": null,
   "id": "22a0392e",
   "metadata": {},
   "outputs": [],
   "source": [
    "# roi_order = ['dlpfc','vlpfc','dmpfc','ofc','ains','pins','acc','hpc','amy','mtg','motor','thalamus']\n",
    "roi_order = ['dlpfc','vlpfc','ofc','ains','pins','acc','hpc','amy']"
   ]
  },
  {
   "cell_type": "code",
   "execution_count": null,
   "id": "d7d906ed",
   "metadata": {},
   "outputs": [],
   "source": [
    "roi_plot_data = plot_data.copy()\n",
    "roi_plot_data = roi_plot_data[roi_plot_data.roi.isin(roi_order)]\n",
    "\n",
    "# roi_plot_names = {'thalamus':'THAL','hpc':'HPC','amy':'AMY','acc':'ACC','ofc':'OFC','ains':'aINS',\n",
    "#                   'pins':'pINS','dmpfc':'dmPFC','dlpfc':'dlPFC','vlpfc':'vlPFC'}\n"
   ]
  },
  {
   "cell_type": "code",
   "execution_count": null,
   "id": "e418d9f0",
   "metadata": {},
   "outputs": [],
   "source": [
    "sns.set_context(\"poster\",rc={'axes.linewidth': 1.5})\n",
    "fig,ax = plt.subplots(figsize=(10, 4),dpi=500)\n",
    "\n",
    "fig_save_dir = f'{base_dir}ephys_analysis/figs/beta_regressions/'\n",
    "os.makedirs(fig_save_dir,exist_ok=True)\n",
    "\n",
    "sns.barplot(data = roi_plot_data,\n",
    "            x = 'roi',\n",
    "            y = 'elec_bCPE',\n",
    "#             y='raw_decisionCPE',\n",
    "#             color = '#561C46',\n",
    "#             color = '#00467e',\n",
    "#             color = '#346a97',\n",
    "            color = '#346a97',\n",
    "            saturation=1,\n",
    "            order=roi_order,\n",
    "            errorbar=None) \n",
    "\n",
    "\n",
    "sns.stripplot(data = roi_plot_data,\n",
    "            x = 'roi',\n",
    "            y = 'elec_bCPE',\n",
    "#               y='raw_decisionCPE',\n",
    "#               color='#78496b', \n",
    "              color = '#00467e',\n",
    "              alpha=.4,\n",
    "              dodge=True,\n",
    "              order=roi_order,\n",
    "              size = 6)\n",
    "\n",
    "ax.axhline(y=0,color='#00467e',linewidth=2)\n",
    "plt.tick_params(length=0 )#,grid_linewidth=1)\n",
    "\n",
    "plt.ylim([-0.05,0.05])\n",
    "ax.set(xlabel=None)\n",
    "# plt.ylabel('CPE Encoding in Beta Power (z)')\n",
    "# plt.ylabel('beta(z) cpe encoding')\n",
    "# plt.ylabel(r'$beta_{{{zpow}}}$'+ ' cpe encoding')\n",
    "# plt.ylabel(r'$beta_{{{zpow}}}$'+ ' cpe encoding')\n",
    "plt.ylabel(r'$beta_{{{zpow}}} \\sim cpe$')\n",
    "# plt.gca().yaxis.set_major_formatter(StrMethodFormatter('{x:,.3f}')) \n",
    "# plt.locator_params(axis='y', nbins=5,tight=True)\n",
    "\n",
    "\n",
    "sns.despine()\n",
    "    \n",
    "plt.savefig(f'{fig_save_dir}/Bpow_CPE_barplot_{date}.pdf', format='pdf', metadata=None,\n",
    "bbox_inches=None, pad_inches=0.1,dpi=500,\n",
    "facecolor='auto', edgecolor='auto',\n",
    "backend=None)\n"
   ]
  },
  {
   "cell_type": "code",
   "execution_count": null,
   "id": "bfcc1cc3",
   "metadata": {},
   "outputs": [],
   "source": [
    "roi_plot_data.roi.unique().tolist()"
   ]
  },
  {
   "cell_type": "code",
   "execution_count": null,
   "id": "7e1d3f5b",
   "metadata": {},
   "outputs": [],
   "source": [
    "bonferr_alpha"
   ]
  },
  {
   "cell_type": "code",
   "execution_count": null,
   "id": "53710b85",
   "metadata": {},
   "outputs": [],
   "source": [
    "rho_data = []\n",
    "sig_rho = []\n",
    "\n",
    "# bonferr_alpha = 0.05/len(roi_plot_data.roi.unique().tolist())\n",
    "# bonferr_alpha = 0.05/9\n",
    "bonferr_alpha = 0.01\n",
    "\n",
    "# BDI CORRELATIONS\n",
    "for roi in roi_plot_data.roi.unique().tolist()[:]:\n",
    "    roi_temp_data = roi_plot_data[roi_plot_data.roi==roi]\n",
    "    rho,rho_p     = spearmanr(roi_temp_data.bdi,roi_temp_data.elec_bCPE)\n",
    "#     rho,rho_p     = pearsonr(roi_temp_data.bdi,roi_temp_data.elec_bCPE)\n",
    "#     print(f'{roi} pearsonr',rho,rho_p)\n",
    "    rho_data.append(pd.DataFrame({'roi':roi,'rho':rho,'rho_p':rho_p},index=[0]))\n",
    "#     if rho_p <= bonferr_alpha:\n",
    "#         sig_bdi_rois.append(roi)\n",
    "#     if rho_p < bonferr_alpha:\n",
    "    if rho_p < 0.05:\n",
    "        sig_rho.append((roi,rho,rho_p))\n",
    "    print(f'{roi} pearsonr',rho,rho_p)\n",
    "rho_data = pd.concat(rho_data).reset_index(drop=True)\n"
   ]
  },
  {
   "cell_type": "code",
   "execution_count": null,
   "id": "6b177a6d",
   "metadata": {},
   "outputs": [],
   "source": [
    "rho_data"
   ]
  },
  {
   "cell_type": "code",
   "execution_count": null,
   "id": "1a31f5e4",
   "metadata": {},
   "outputs": [],
   "source": [
    "sig_rho"
   ]
  },
  {
   "cell_type": "code",
   "execution_count": null,
   "id": "6a4991d6",
   "metadata": {},
   "outputs": [],
   "source": [
    "rho_data['round_rho'] = np.round(rho_data.rho,2)\n",
    "rho_data['round_p']   = np.round(rho_data.rho_p,2)\n",
    "rho_data['round_p'][rho_data.roi == 'acc'] = 0.01\n",
    "rho_data['round_p'][rho_data.roi == 'ofc'] = 0.01\n",
    "rho_data"
   ]
  },
  {
   "cell_type": "code",
   "execution_count": null,
   "id": "b481458d",
   "metadata": {
    "scrolled": false
   },
   "outputs": [],
   "source": [
    "\n",
    "sns.set_context(\"talk\",rc={'axes.linewidth': 1.5})\n",
    "\n",
    "for roi in roi_plot_data.roi.unique().tolist()[:-1]:\n",
    "    roi_temp_data = roi_plot_data[roi_plot_data.roi==roi]\n",
    "\n",
    "    rho   = rho_data[rho_data.roi == roi].round_rho.values[0]\n",
    "    rho_p = rho_data[rho_data.roi == roi].round_p.values[0]\n",
    "    \n",
    "        \n",
    "    fig,ax = plt.subplots(1,1,figsize=(5,3.5),dpi=300)\n",
    "\n",
    "    sns.regplot(data=roi_temp_data,x='bdi',y='elec_bCPE',scatter=False,ci=95,\n",
    "                fit_reg=True,color = '#00467e') #034975\n",
    "    \n",
    "    sns.scatterplot(data = roi_temp_data.groupby(['subj_id']).agg('mean'),x='bdi',\n",
    "                    y='raw_decisionCPE',color = '#00467e',edgecolor=None,alpha=0.8)\n",
    "    \n",
    "#     plt.gca().yaxis.set_major_formatter(StrMethodFormatter('{x:,.2f}')) \n",
    "    plt.xlabel('BDI-II')\n",
    "#     plt.xlim([0,40])\n",
    "    \n",
    "    plt.tick_params(length=0) \n",
    "#     plt.ylabel('beta'+r'$beta_{{{zpow}}}$'+' cpe encoding')\n",
    "    plt.ylabel(r'$beta_{{{zpow}}} \\sim cpe$')\n",
    "\n",
    "    plt.text(np.max(roi_temp_data.bdi)-8,\n",
    "             np.round(np.max(roi_temp_data.groupby(['subj_id']).agg('mean').elec_bCPE),3)-0.003,\n",
    "             r'$rho$ = '+f'{rho} \\n'+ fr'$p \\approxeq $ {rho_p}',color='k',fontsize=12)\n",
    "#              color='#00467e',fontsize=16)\n",
    "#     plt.text(0.8,0.8,r'$rho$ = '+f'{rho} \\n'+ fr'$p \\approxeq $ {rho_p}',\n",
    "#             verticalalignment='top', horizontalalignment='right',\n",
    "#             color='k',fontsize=16)\n",
    "\n",
    "    plt.title(f'{roi}',fontsize=20)\n",
    "    plt.tight_layout()\n",
    "\n",
    "\n",
    "    \n",
    "    sns.despine()\n",
    "    \n",
    "    plt.savefig(f'{fig_save_dir}/{roi}_{rho}_{rho_p}_roi_bdi_beta-cpe-slope.pdf', format='pdf', metadata=None,\n",
    "        bbox_inches='tight', pad_inches=0.1,dpi=300,\n",
    "        facecolor='auto', edgecolor='auto',\n",
    "        backend=None)\n",
    "    "
   ]
  },
  {
   "cell_type": "code",
   "execution_count": null,
   "id": "f4a67d86",
   "metadata": {},
   "outputs": [],
   "source": []
  },
  {
   "cell_type": "markdown",
   "id": "1ed7ce33",
   "metadata": {},
   "source": [
    "# Band x BDI Interaction\n",
    "- Rerun final mixed effects model on each ROI separately\n",
    "- Correlate random effects slopes for each regressor with BDI"
   ]
  },
  {
   "cell_type": "code",
   "execution_count": null,
   "id": "17371f36",
   "metadata": {},
   "outputs": [],
   "source": [
    "rand_eff_var = 'unique_reref_ch'\n"
   ]
  },
  {
   "cell_type": "code",
   "execution_count": null,
   "id": "0003c6a2",
   "metadata": {
    "scrolled": false
   },
   "outputs": [],
   "source": [
    "reg_df"
   ]
  },
  {
   "cell_type": "code",
   "execution_count": null,
   "id": "c925e4d6",
   "metadata": {},
   "outputs": [],
   "source": [
    "bdi_vars    = ['decisionCPE','bdi','decisionCPE:bdi']\n",
    "outcome_var = 'band_pow'\n",
    "\n",
    "bdi_fit = fit_mixed_model(reg_df,bdi_vars,outcome_var,rand_eff_var,reml=False)\n",
    "print(bdi_fit.summary())\n",
    "    "
   ]
  },
  {
   "cell_type": "code",
   "execution_count": null,
   "id": "85148564",
   "metadata": {},
   "outputs": [],
   "source": []
  },
  {
   "cell_type": "code",
   "execution_count": null,
   "id": "eefc788b",
   "metadata": {},
   "outputs": [],
   "source": [
    "fe_param_names = list(bdi_fit.fe_params.index[1:])\n",
    "fe_param_names"
   ]
  },
  {
   "cell_type": "code",
   "execution_count": null,
   "id": "6d996891",
   "metadata": {},
   "outputs": [],
   "source": [
    "bdi_plot_data = pd.concat([pd.DataFrame(\n",
    "    {**{'subj_id':elec_id.split('_')[0],'reref_ch_names':elec_id.split('_')[1]},'unique_reref_ch':elec_id,\n",
    "     **{f'raw_{param}':bdi_fit.random_effects[elec_id][param] for param in list(\n",
    "            bdi_fit.random_effects[elec_id].index)}},index=[range(len(fe_param_names))])\n",
    "        \n",
    "    for elec_id in bdi_fit.random_effects.keys()]).reset_index(drop=True)\n",
    "\n",
    "bdi_plot_data['roi'] = [reg_df.roi[reg_df.unique_reref_ch == row.unique_reref_ch].values[0]\n",
    "                                for idx,row in bdi_plot_data.iterrows()]\n",
    "\n",
    "bdi_plot_data['bdi'] = [subj_info_df.bdi[subj_info_df.subj_id == subj_id].values[0]\n",
    "                                for subj_id in bdi_plot_data.subj_id]"
   ]
  },
  {
   "cell_type": "code",
   "execution_count": null,
   "id": "e4a167c4",
   "metadata": {},
   "outputs": [],
   "source": [
    "bdi_plot_data"
   ]
  },
  {
   "cell_type": "code",
   "execution_count": null,
   "id": "c7f03ae9",
   "metadata": {},
   "outputs": [],
   "source": [
    "#### Get all results for Figs!!!!\n",
    "\n",
    "fe_intercept   = bdi_fit.params['Intercept']\n",
    "fe_cpe_beta    = bdi_fit.params['decisionCPE:bdi']\n",
    "fe_cpe_beta\n"
   ]
  },
  {
   "cell_type": "code",
   "execution_count": null,
   "id": "c05db4f3",
   "metadata": {},
   "outputs": [],
   "source": [
    "#### add fixed effects data to all_elec_plot_data\n",
    "bdi_plot_data['elec_b0']   = np.add(bdi_plot_data.raw_Group,fe_intercept)\n",
    "bdi_plot_data['elec_bCPE'] = np.add(bdi_plot_data['raw_decisionCPE:bdi'],fe_cpe_beta)\n",
    "bdi_plot_data = bdi_plot_data[~bdi_plot_data.roi.isnull()]"
   ]
  },
  {
   "cell_type": "code",
   "execution_count": null,
   "id": "3aa60412",
   "metadata": {},
   "outputs": [],
   "source": [
    "bdi_plot_data"
   ]
  },
  {
   "cell_type": "code",
   "execution_count": null,
   "id": "55d2ed17",
   "metadata": {},
   "outputs": [],
   "source": [
    "# raw_bdi\n",
    "\n",
    "raw_roi_stats = {f'{roi}':ttest_1samp(bdi_plot_data['raw_bdi'][bdi_plot_data.roi == roi].unique(),\n",
    "                 popmean=0) for roi in bdi_plot_data.roi.unique().tolist()}\n",
    "raw_roi_stats"
   ]
  },
  {
   "cell_type": "code",
   "execution_count": null,
   "id": "2962d880",
   "metadata": {},
   "outputs": [],
   "source": [
    "raw_roi_stats = {f'{roi}':ttest_1samp(bdi_plot_data['raw_decisionCPE:bdi'][bdi_plot_data.roi == roi].unique(),\n",
    "                 popmean=0) for roi in bdi_plot_data.roi.unique().tolist()}\n",
    "raw_roi_stats"
   ]
  },
  {
   "cell_type": "code",
   "execution_count": null,
   "id": "0c6e3b91",
   "metadata": {},
   "outputs": [],
   "source": [
    "roi_stats = {f'{roi}':ttest_1samp(bdi_plot_data.elec_bCPE[bdi_plot_data.roi == roi].unique(),\n",
    "                 popmean=0) for roi in bdi_plot_data.roi.unique().tolist()}\n",
    "roi_stats"
   ]
  },
  {
   "cell_type": "code",
   "execution_count": null,
   "id": "29595352",
   "metadata": {},
   "outputs": [],
   "source": [
    "pairwise_ains_vals = bdi_plot_data.elec_bCPE[plot_data.roi == 'ains'].unique()\n",
    "\n",
    "pairwise_roi_stats = {f'ains={roi}':ttest_ind(pairwise_ains_vals,bdi_plot_data.elec_bCPE[bdi_plot_data.roi == roi].unique(),\n",
    "                 ) for roi in bdi_plot_data.roi.unique().tolist()}\n",
    "pairwise_roi_stats\n"
   ]
  },
  {
   "cell_type": "code",
   "execution_count": null,
   "id": "26d331d4",
   "metadata": {
    "scrolled": true
   },
   "outputs": [],
   "source": [
    "pairwise_ains_vals = bdi_plot_data.elec_bCPE[plot_data.roi == 'ains'].unique()\n",
    "\n",
    "pairwise_roi_stats_greater = {f'ains={roi}':ttest_ind(pairwise_ains_vals,bdi_plot_data.elec_bCPE[bdi_plot_data.roi == roi].unique(),\n",
    "                 alternative='greater') for roi in bdi_plot_data.roi.unique().tolist()}\n",
    "pairwise_roi_stats_greater"
   ]
  },
  {
   "cell_type": "code",
   "execution_count": null,
   "id": "38db0153",
   "metadata": {},
   "outputs": [],
   "source": [
    "pairwise_ains_vals = bdi_plot_data.elec_bCPE[bdi_plot_data.roi == 'ains'].unique()\n",
    "\n",
    "pairwise_roi_stats_less = {f'ains={roi}':ttest_ind(pairwise_ains_vals,bdi_plot_data.elec_bCPE[bdi_plot_data.roi == roi].unique(),\n",
    "                 alternative='less') for roi in bdi_plot_data.roi.unique().tolist()}\n",
    "pairwise_roi_stats_less"
   ]
  },
  {
   "cell_type": "code",
   "execution_count": null,
   "id": "91972a41",
   "metadata": {},
   "outputs": [],
   "source": [
    "bonferr_alpha = 0.05/len(roi_order)\n",
    "bonferr_alpha"
   ]
  },
  {
   "cell_type": "code",
   "execution_count": null,
   "id": "f11b5a94",
   "metadata": {},
   "outputs": [],
   "source": [
    "print('sig ROIs after multiple comp correction: ',[(roi,raw_roi_stats[roi].pvalue) for roi in raw_roi_stats.keys()\n",
    "                                                   if raw_roi_stats[roi].pvalue< bonferr_alpha])\n",
    "# print('sig ROI pvals: ',roi_stats.roi_cpe_pval[roi_beta_results.roi_cpe_pval<=bonferr_alpha].unique().tolist())\n",
    "\n",
    "sig_raw = [(roi,raw_roi_stats[roi].pvalue) for roi in raw_roi_stats.keys()\n",
    "                                                   if raw_roi_stats[roi].pvalue< bonferr_alpha]\n",
    "\n",
    "sig_raw_rois = list(zip(*sig_raw))[0]"
   ]
  },
  {
   "cell_type": "code",
   "execution_count": null,
   "id": "d60277b6",
   "metadata": {},
   "outputs": [],
   "source": [
    "sig_raw_rois"
   ]
  },
  {
   "cell_type": "code",
   "execution_count": null,
   "id": "2fadf781",
   "metadata": {},
   "outputs": [],
   "source": [
    "print('sig ROIs after multiple comp correction: ',[(roi,roi_stats[roi].pvalue) for roi in roi_stats.keys()\n",
    "                                                   if roi_stats[roi].pvalue< bonferr_alpha])\n",
    "# print('sig ROI pvals: ',roi_stats.roi_cpe_pval[roi_beta_results.roi_cpe_pval<=bonferr_alpha].unique().tolist())\n",
    "sig_bcpe = [(roi,roi_stats[roi].pvalue) for roi in roi_stats.keys()\n",
    "                                                   if roi_stats[roi].pvalue< bonferr_alpha]\n",
    "\n",
    "sig_bcpe_rois = list(zip(*sig_bcpe))[0]"
   ]
  },
  {
   "cell_type": "code",
   "execution_count": null,
   "id": "6f10029c",
   "metadata": {},
   "outputs": [],
   "source": [
    "list(zip(*sig_bcpe))[0]"
   ]
  },
  {
   "cell_type": "code",
   "execution_count": null,
   "id": "0282b1a4",
   "metadata": {},
   "outputs": [],
   "source": [
    "print('sig ROIs after multiple comp correction: ',[(roi,pairwise_roi_stats_greater[roi].pvalue) for \n",
    "                                                   roi in pairwise_roi_stats_greater.keys()\n",
    "                                                   if pairwise_roi_stats_greater[roi].pvalue< bonferr_alpha])\n",
    "# print('sig ROI pvals: ',roi_stats.roi_cpe_pval[roi_beta_results.roi_cpe_pval<=bonferr_alpha].unique().tolist())\n",
    "sig_bcpe = [(roi,pairwise_roi_stats_greater[roi].pvalue) for roi in pairwise_roi_stats_greater.keys()\n",
    "                                                   if pairwise_roi_stats_greater[roi].pvalue< bonferr_alpha]\n",
    "\n",
    "# sig_bcpe_rois = list(zip(*sig_bcpe))[0]"
   ]
  },
  {
   "cell_type": "code",
   "execution_count": null,
   "id": "d16614ad",
   "metadata": {},
   "outputs": [],
   "source": [
    "# sig_bcpe_rois "
   ]
  },
  {
   "cell_type": "code",
   "execution_count": null,
   "id": "d38e217f",
   "metadata": {},
   "outputs": [],
   "source": [
    "print('sig ROIs after multiple comp correction: ',[(roi,pairwise_roi_stats_less[roi].pvalue) for \n",
    "                                                   roi in pairwise_roi_stats_less.keys()\n",
    "                                                   if pairwise_roi_stats_less[roi].pvalue< bonferr_alpha])\n",
    "# print('sig ROI pvals: ',roi_stats.roi_cpe_pval[roi_beta_results.roi_cpe_pval<=bonferr_alpha].unique().tolist())\n",
    "sig_bcpe = [(roi,pairwise_roi_stats_less[roi].pvalue) for roi in pairwise_roi_stats_less.keys()\n",
    "                                                   if pairwise_roi_stats_less[roi].pvalue< bonferr_alpha]\n",
    "\n",
    "sig_bcpe_rois = list(zip(*sig_bcpe))[0]"
   ]
  },
  {
   "cell_type": "code",
   "execution_count": null,
   "id": "ce84a345",
   "metadata": {},
   "outputs": [],
   "source": [
    "print('sig ROIs after multiple comp correction: ',[(roi,pairwise_roi_stats[roi].pvalue) for \n",
    "                                                   roi in pairwise_roi_stats.keys()\n",
    "                                                   if pairwise_roi_stats[roi].pvalue< bonferr_alpha])\n",
    "\n",
    "sig_bcpe = [(roi,pairwise_roi_stats[roi].pvalue) for roi in pairwise_roi_stats.keys()\n",
    "                                                   if pairwise_roi_stats[roi].pvalue< bonferr_alpha]\n",
    "\n",
    "sig_bcpe_rois = list(zip(*sig_bcpe))[0]"
   ]
  },
  {
   "cell_type": "code",
   "execution_count": null,
   "id": "d4687297",
   "metadata": {},
   "outputs": [],
   "source": [
    "sig_bcpe_rois"
   ]
  },
  {
   "cell_type": "code",
   "execution_count": null,
   "id": "4ce6196e",
   "metadata": {},
   "outputs": [],
   "source": [
    "len([(roi,roi_stats[roi].pvalue) for roi in roi_stats.keys()\n",
    "                                                   if roi_stats[roi].pvalue< bonferr_alpha])"
   ]
  },
  {
   "cell_type": "code",
   "execution_count": null,
   "id": "786ac923",
   "metadata": {},
   "outputs": [],
   "source": [
    "roi_stats.keys()"
   ]
  },
  {
   "cell_type": "code",
   "execution_count": null,
   "id": "8432eea7",
   "metadata": {},
   "outputs": [],
   "source": [
    "# roi_order = ['dlpfc','vlpfc','dmpfc','ofc','ains','pins','acc','hpc','amy','mtg','motor','thalamus']\n",
    "roi_order = ['dlpfc','vlpfc','ofc','ains','pins','acc','hpc','amy']"
   ]
  },
  {
   "cell_type": "code",
   "execution_count": null,
   "id": "6e9900b3",
   "metadata": {},
   "outputs": [],
   "source": [
    "roi_plot_data = bdi_plot_data.copy()\n",
    "roi_plot_data = roi_plot_data[roi_plot_data.roi.isin(roi_order)]\n",
    "\n",
    "# roi_plot_names = {'thalamus':'THAL','hpc':'HPC','amy':'AMY','acc':'ACC','ofc':'OFC','ains':'aINS',\n",
    "#                   'pins':'pINS','dmpfc':'dmPFC','dlpfc':'dlPFC','vlpfc':'vlPFC'}\n"
   ]
  },
  {
   "cell_type": "code",
   "execution_count": null,
   "id": "80dfb2c0",
   "metadata": {},
   "outputs": [],
   "source": [
    "bdi_plot_data.roi.unique()"
   ]
  },
  {
   "cell_type": "code",
   "execution_count": null,
   "id": "e5fd780b",
   "metadata": {},
   "outputs": [],
   "source": [
    "sns.set_context(\"poster\",rc={'axes.linewidth': 1.5})\n",
    "fig,ax = plt.subplots(figsize=(10, 4),dpi=500)\n",
    "\n",
    "fig_save_dir = f'{base_dir}ephys_analysis/figs/{band}_regressions/'\n",
    "os.makedirs(fig_save_dir,exist_ok=True)\n",
    "\n",
    "sns.barplot(data = bdi_plot_data,\n",
    "            x = 'roi',\n",
    "            y = 'elec_bCPE',\n",
    "#             y='raw_decisionCPE',\n",
    "#             color = '#561C46',\n",
    "#             color = '#00467e',\n",
    "#             color = '#346a97',\n",
    "            color = '#173b6f',\n",
    "            saturation=1,\n",
    "            order=roi_order,\n",
    "            errorbar=None) \n",
    "\n",
    "\n",
    "sns.stripplot(data = bdi_plot_data,\n",
    "            x = 'roi',\n",
    "            y = 'elec_bCPE',\n",
    "#               y='raw_decisionCPE',\n",
    "#               color='#78496b', \n",
    "              color = '#173b6f',\n",
    "              alpha=.4,\n",
    "              dodge=True,\n",
    "              order=roi_order,\n",
    "              size = 6)\n",
    "\n",
    "ax.axhline(y=0,color='#173b6f',linewidth=2)\n",
    "plt.tick_params(length=0 )#,grid_linewidth=1)\n",
    "\n",
    "# plt.ylim([-0.05,0.05])\n",
    "ax.set(xlabel=None)\n",
    "# plt.ylabel('CPE Encoding in Beta Power (z)')\n",
    "# plt.ylabel('beta(z) cpe encoding')\n",
    "# plt.ylabel(r'$beta_{{{zpow}}}$'+ ' cpe encoding')\n",
    "# plt.ylabel(r'$beta_{{{zpow}}}$'+ ' cpe encoding')\n",
    "plt.ylabel(fr'${band}_{{{zpow}}} \\sim cpe:bdi$')\n",
    "# plt.gca().yaxis.set_major_formatter(StrMethodFormatter('{x:,.3f}')) \n",
    "# plt.locator_params(axis='y', nbins=5,tight=True)\n",
    "\n",
    "\n",
    "sns.despine()\n",
    "    \n",
    "plt.savefig(f'{fig_save_dir}/Bpow_CPE:BDI_barplot_{date}.pdf', format='pdf', metadata=None,\n",
    "bbox_inches=None, pad_inches=0.1,dpi=500,\n",
    "facecolor='auto', edgecolor='auto',\n",
    "backend=None)\n"
   ]
  },
  {
   "cell_type": "code",
   "execution_count": null,
   "id": "c28acb87",
   "metadata": {},
   "outputs": [],
   "source": [
    "bdi_plot_data.roi.unique().tolist()"
   ]
  },
  {
   "cell_type": "code",
   "execution_count": null,
   "id": "e343460a",
   "metadata": {},
   "outputs": [],
   "source": [
    "bonferr_alpha"
   ]
  },
  {
   "cell_type": "code",
   "execution_count": null,
   "id": "bb308466",
   "metadata": {},
   "outputs": [],
   "source": [
    "rho_data = []\n",
    "sig_rho = []\n",
    "\n",
    "# bonferr_alpha = 0.05/len(roi_plot_data.roi.unique().tolist())\n",
    "# bonferr_alpha = 0.05/9\n",
    "bonferr_alpha = 0.01\n",
    "\n",
    "# BDI CORRELATIONS\n",
    "for roi in roi_plot_data.roi.unique().tolist()[:]:\n",
    "    roi_temp_data = roi_plot_data[roi_plot_data.roi==roi]\n",
    "    rho,rho_p     = spearmanr(roi_temp_data.bdi,roi_temp_data.elec_bCPE)\n",
    "#     rho,rho_p     = pearsonr(roi_temp_data.bdi,roi_temp_data.elec_bCPE)\n",
    "#     print(f'{roi} pearsonr',rho,rho_p)\n",
    "    rho_data.append(pd.DataFrame({'roi':roi,'rho':rho,'rho_p':rho_p},index=[0]))\n",
    "#     if rho_p <= bonferr_alpha:\n",
    "#         sig_bdi_rois.append(roi)\n",
    "#     if rho_p < bonferr_alpha:\n",
    "    if rho_p < 0.05:\n",
    "        sig_rho.append((roi,rho,rho_p))\n",
    "    print(f'{roi} pearsonr',rho,rho_p)\n",
    "rho_data = pd.concat(rho_data).reset_index(drop=True)\n"
   ]
  },
  {
   "cell_type": "code",
   "execution_count": null,
   "id": "074dac83",
   "metadata": {},
   "outputs": [],
   "source": [
    "rho_data"
   ]
  },
  {
   "cell_type": "code",
   "execution_count": null,
   "id": "7f111345",
   "metadata": {},
   "outputs": [],
   "source": [
    "sig_rho"
   ]
  },
  {
   "cell_type": "code",
   "execution_count": null,
   "id": "fb8b1439",
   "metadata": {},
   "outputs": [],
   "source": [
    "rho_data['round_rho'] = np.round(rho_data.rho,2)\n",
    "rho_data['round_p']   = np.round(rho_data.rho_p,3)\n",
    "# rho_data['round_p'][rho_data.roi == 'acc'] = 0.01\n",
    "# rho_data['round_p'][rho_data.roi == 'ofc'] = 0.01\n",
    "rho_data"
   ]
  },
  {
   "cell_type": "code",
   "execution_count": null,
   "id": "3073da36",
   "metadata": {
    "scrolled": false
   },
   "outputs": [],
   "source": [
    "\n",
    "sns.set_context(\"talk\",rc={'axes.linewidth': 1.5})\n",
    "\n",
    "for roi in roi_plot_data.roi.unique().tolist()[:-1]:\n",
    "    roi_temp_data = roi_plot_data[roi_plot_data.roi==roi]\n",
    "\n",
    "    rho   = rho_data[rho_data.roi == roi].round_rho.values[0]\n",
    "    rho_p = rho_data[rho_data.roi == roi].round_p.values[0]\n",
    "    \n",
    "        \n",
    "    fig,ax = plt.subplots(1,1,figsize=(5,3.5),dpi=300)\n",
    "\n",
    "    sns.regplot(data=roi_temp_data,x='bdi',y='raw_decisionCPE',scatter=False,ci=95,\n",
    "                fit_reg=True,color = '#173b6f') #034975\n",
    "    \n",
    "    sns.scatterplot(data = roi_temp_data.groupby(['subj_id']).agg('mean'),x='bdi',\n",
    "                    y='raw_decisionCPE',color = '#173b6f',edgecolor=None,alpha=0.8)\n",
    "    \n",
    "#     plt.gca().yaxis.set_major_formatter(StrMethodFormatter('{x:,.2f}')) \n",
    "    plt.xlabel('BDI-II')\n",
    "#     plt.xlim([0,40])\n",
    "    \n",
    "    plt.tick_params(length=0) \n",
    "#     plt.ylabel('beta'+r'$beta_{{{zpow}}}$'+' cpe encoding')\n",
    "    plt.ylabel(fr'${band}_{{{zpow}}} \\sim cpe:bdi$')\n",
    "\n",
    "    plt.text(np.max(roi_temp_data.bdi)-8,\n",
    "             np.round(np.max(roi_temp_data.groupby(['subj_id']).agg('mean').raw_decisionCPE),3)-0.003,\n",
    "             r'$rho$ = '+f'{rho} \\n'+ fr'$p \\approxeq $ {rho_p}',color='k',fontsize=12)\n",
    "#              color='#00467e',fontsize=16)\n",
    "#     plt.text(0.8,0.8,r'$rho$ = '+f'{rho} \\n'+ fr'$p \\approxeq $ {rho_p}',\n",
    "#             verticalalignment='top', horizontalalignment='right',\n",
    "#             color='k',fontsize=16)\n",
    "\n",
    "    plt.title(f'{roi}',fontsize=20)\n",
    "    plt.tight_layout()\n",
    "    \n",
    "\n",
    "\n",
    "    \n",
    "    sns.despine()\n",
    "    \n",
    "    plt.savefig(f'{fig_save_dir}/{roi}_{rho}_{rho_p}_roi_bdi_{band}-cpe:bdi-slope.pdf', format='pdf', metadata=None,\n",
    "        bbox_inches='tight', pad_inches=0.1,dpi=300,\n",
    "        facecolor='auto', edgecolor='auto',\n",
    "        backend=None)\n",
    "    "
   ]
  },
  {
   "cell_type": "code",
   "execution_count": null,
   "id": "1908c3fb",
   "metadata": {},
   "outputs": [],
   "source": [
    "reg_df"
   ]
  },
  {
   "cell_type": "code",
   "execution_count": null,
   "id": "0864d5ed",
   "metadata": {},
   "outputs": [],
   "source": [
    "reg_df['Depressed'] = ['High BDI' if bdi >=20 else 'Low BDI' for bdi in reg_df.bdi.tolist()]"
   ]
  },
  {
   "cell_type": "code",
   "execution_count": null,
   "id": "4e0f2e6e",
   "metadata": {},
   "outputs": [],
   "source": [
    "## X plot attempt \n",
    "\n",
    "sns.set_theme(style='ticks') \n",
    "sns.set_context(\"poster\")\n",
    "\n",
    "# from matplotlib import rc\n",
    "# rc('text', usetex=False)\n",
    "\n",
    "\n",
    "fig,ax = plt.subplots(figsize=(8,5))\n",
    "# sns.set_context(\"poster\",rc={'axes.linewidth': 2})\n",
    "# sns.set_theme(style='ticks') \n",
    "\n",
    "# palette={'depression':\"#3f2755\",'no depression':\"#054a6f\"}\n",
    "\n",
    "# palette={'high BDI':\"#0b4e5f\",'low BDI':\"#824973\"}\n",
    "\n",
    "\n",
    "# ax = sns.lmplot(data=reg_df,x='decisionCPE',y='band_pow',hue='Depression',scatter=False,ci=95,palette=palette)\n",
    "# sns.move_legend(ax, loc='lower center', bbox_to_anchor=(0.1, 1),bbox_to_anchor=(-1, 0), ncol=2)\n",
    "\n",
    "# sns.move_legend(ax,\"upper center\", bbox_to_anchor=(0.5, 1), borderaxespad=0.1,frameon=False,framealpha=0,\n",
    "#                 fontsize='x-small',shadow=None,title=None,columnspacing=0.5,edgecolor=None,markerfirst=True,\n",
    "#                 markerscale=4,labelcolor=None, ncol=2)\n",
    "\n",
    "\n",
    "sns.regplot(data=reg_df[reg_df.Depressed=='Low BDI'],x='decisionCPE',y='band_pow',scatter=True,\n",
    "           ci=95,color = '#824973',label='Low BDI',x_jitter = 0.15,scatter_kws={'s':5})\n",
    "sns.regplot(data=reg_df[reg_df.Depressed=='High BDI'],x='decisionCPE',y='band_pow',scatter=True,\n",
    "           ci=95,color='#0b4e5f',label='High BDI',x_jitter = 0.15,scatter_kws={'s':5})\n",
    "\n",
    "plt.legend(fontsize=10)\n",
    "# borderaxespad=0,frameon=False,framealpha=0,\n",
    "sns.move_legend(ax,\"upper center\", bbox_to_anchor=(0.5, 1.1), frameon=False,framealpha=0,\n",
    "                fontsize='small',shadow=None,\n",
    "                columnspacing=2,ncol=2)\n",
    "\n",
    "\n",
    "plt.gca().yaxis.set_major_formatter(StrMethodFormatter('{x:,.2f}')) \n",
    "plt.tight_layout()\n",
    "plt.ylabel(fr'${band}_{{{zpow}}}$')\n",
    "plt.xlabel(r'$cpe(z)$')\n",
    "sns.despine()\n",
    "plt.tick_params(length=0)\n",
    "# plt.text(7.25,0.07,f'rho: {np.round(r,3)} \\n p: {np.round(p_r,6)}',fontsize=16)\n",
    "\n",
    "\n",
    "# plt.savefig(f'{fig_save_dir}/all_lmplot_cpe_bpow_bdi_{date}.pdf', format='pdf', metadata=None,\n",
    "# bbox_inches='tight', pad_inches=0.1,dpi=500,\n",
    "# facecolor='auto', edgecolor='auto',\n",
    "# backend=None)"
   ]
  },
  {
   "cell_type": "code",
   "execution_count": null,
   "id": "e52b89ea",
   "metadata": {},
   "outputs": [],
   "source": [
    "reg_df['Depressed'] = ['High BDI' if bdi >=20 else 'Low BDI' for bdi in reg_df.bdi.tolist()]"
   ]
  },
  {
   "cell_type": "code",
   "execution_count": null,
   "id": "9b1cd8c3",
   "metadata": {},
   "outputs": [],
   "source": [
    "## X plot attempt \n",
    "\n",
    "sns.set_theme(style='ticks') \n",
    "sns.set_context(\"poster\")\n",
    "\n",
    "# from matplotlib import rc\n",
    "# rc('text', usetex=False)\n",
    "\n",
    "\n",
    "fig,ax = plt.subplots(figsize=(8,5))\n",
    "# sns.set_context(\"poster\",rc={'axes.linewidth': 2})\n",
    "# sns.set_theme(style='ticks') \n",
    "\n",
    "# palette={'depression':\"#3f2755\",'no depression':\"#054a6f\"}\n",
    "\n",
    "# palette={'high BDI':\"#0b4e5f\",'low BDI':\"#824973\"}\n",
    "\n",
    "\n",
    "# ax = sns.lmplot(data=reg_df,x='decisionCPE',y='band_pow',hue='Depression',scatter=False,ci=95,palette=palette)\n",
    "# sns.move_legend(ax, loc='lower center', bbox_to_anchor=(0.1, 1),bbox_to_anchor=(-1, 0), ncol=2)\n",
    "\n",
    "# sns.move_legend(ax,\"upper center\", bbox_to_anchor=(0.5, 1), borderaxespad=0.1,frameon=False,framealpha=0,\n",
    "#                 fontsize='x-small',shadow=None,title=None,columnspacing=0.5,edgecolor=None,markerfirst=True,\n",
    "#                 markerscale=4,labelcolor=None, ncol=2)\n",
    "\n",
    "\n",
    "sns.regplot(data=reg_df[reg_df.Depressed=='Low BDI'],x='decisionCPE',y='band_pow',scatter=False,\n",
    "           ci=95,color = '#824973',label='Low BDI')\n",
    "sns.regplot(data=reg_df[reg_df.Depressed=='High BDI'],x='decisionCPE',y='band_pow',scatter=False,\n",
    "           ci=95,color='#0b4e5f',label='High BDI')\n",
    "\n",
    "plt.legend(fontsize=10)\n",
    "# borderaxespad=0,frameon=False,framealpha=0,\n",
    "sns.move_legend(ax,\"upper center\", bbox_to_anchor=(0.5, 1.1), frameon=False,framealpha=0,\n",
    "                fontsize='small',shadow=None,\n",
    "                columnspacing=2,ncol=2)\n",
    "\n",
    "\n",
    "plt.gca().yaxis.set_major_formatter(StrMethodFormatter('{x:,.2f}')) \n",
    "plt.tight_layout()\n",
    "plt.ylabel(fr'${band}_{{{zpow}}}$')\n",
    "plt.xlabel(r'$cpe(z)$')\n",
    "sns.despine()\n",
    "plt.tick_params(length=0)\n",
    "# plt.text(7.25,0.07,f'rho: {np.round(r,3)} \\n p: {np.round(p_r,6)}',fontsize=16)\n",
    "\n",
    "\n",
    "# plt.savefig(f'{fig_save_dir}/all_lmplot_cpe_bpow_bdi_{date}.pdf', format='pdf', metadata=None,\n",
    "# bbox_inches='tight', pad_inches=0.1,dpi=500,\n",
    "# facecolor='auto', edgecolor='auto',\n",
    "# backend=None)"
   ]
  },
  {
   "cell_type": "code",
   "execution_count": null,
   "id": "38eb7dc5",
   "metadata": {
    "scrolled": true
   },
   "outputs": [],
   "source": [
    "for roi in reg_df.roi.unique().tolist():\n",
    "    roi_reg_plot = reg_df[reg_df.roi== roi]\n",
    "    fig,ax = plt.subplots(figsize=(8,5))\n",
    "\n",
    "    sns.regplot(data=roi_reg_plot[roi_reg_plot.Depressed=='Low BDI'],x='decisionCPE',y='band_pow',scatter=False,\n",
    "               ci=95,color = '#824973',label='Low BDI')#,scatter_kws={'s':2})\n",
    "    sns.regplot(data=roi_reg_plot[roi_reg_plot.Depressed=='High BDI'],x='decisionCPE',y='band_pow',scatter=False,\n",
    "               ci=95,color='#0b4e5f',label='High BDI')#,scatter_kws={'s':2})\n",
    "\n",
    "    plt.legend(fontsize=10)\n",
    "    # borderaxespad=0,frameon=False,framealpha=0,\n",
    "    sns.move_legend(ax,\"upper center\", bbox_to_anchor=(0.5, 1.1), frameon=False,framealpha=0,\n",
    "                    fontsize='small',shadow=None,\n",
    "                    columnspacing=2,ncol=2)\n",
    "\n",
    "\n",
    "    plt.gca().yaxis.set_major_formatter(StrMethodFormatter('{x:,.2f}')) \n",
    "    plt.tight_layout()\n",
    "    plt.ylabel(fr'${band}_{{{zpow}}}$')\n",
    "    plt.xlabel(r'$cpe(z)$')\n",
    "    plt.title(f'{roi}')\n",
    "    sns.despine()\n",
    "    plt.tick_params(length=0)\n",
    "    \n",
    "    "
   ]
  },
  {
   "cell_type": "code",
   "execution_count": null,
   "id": "718b4a51",
   "metadata": {
    "scrolled": true
   },
   "outputs": [],
   "source": [
    "for roi in reg_df.roi.unique().tolist():\n",
    "    roi_reg_plot = reg_df[reg_df.roi== roi]\n",
    "    fig,ax = plt.subplots(figsize=(8,5))\n",
    "\n",
    "    sns.regplot(data=roi_reg_plot[roi_reg_plot.Depressed=='Low BDI'],x='decisionCPE',y='band_pow',scatter=True,\n",
    "               ci=95,color = '#824973',label='Low BDI',x_jitter = 0.15,scatter_kws={'s':5})\n",
    "    sns.regplot(data=roi_reg_plot[roi_reg_plot.Depressed=='High BDI'],x='decisionCPE',y='band_pow',scatter=True,\n",
    "               ci=95,color='#0b4e5f',label='High BDI',x_jitter = 0.15,scatter_kws={'s':5})\n",
    "\n",
    "    plt.legend(fontsize=10)\n",
    "    # borderaxespad=0,frameon=False,framealpha=0,\n",
    "    sns.move_legend(ax,\"upper center\", bbox_to_anchor=(0.5, 1.1), frameon=False,framealpha=0,\n",
    "                    fontsize='small',shadow=None,\n",
    "                    columnspacing=2,ncol=2)\n",
    "\n",
    "\n",
    "    plt.gca().yaxis.set_major_formatter(StrMethodFormatter('{x:,.2f}')) \n",
    "    plt.tight_layout()\n",
    "    plt.ylabel(fr'${band}_{{{zpow}}}$')\n",
    "    plt.xlabel(r'$cpe(z)$')\n",
    "    plt.title(f'{roi}')\n",
    "    sns.despine()\n",
    "    plt.tick_params(length=0)\n",
    "    \n",
    "    "
   ]
  },
  {
   "cell_type": "code",
   "execution_count": null,
   "id": "d1b32dcf",
   "metadata": {
    "scrolled": false
   },
   "outputs": [],
   "source": [
    "# for roi in reg_df.roi.unique().tolist():\n",
    "#     roi_reg_plot = reg_df[reg_df.roi== roi]\n",
    "#     fig,ax = plt.subplots(figsize=(8,5),dpi=500)\n",
    "\n",
    "#     sns.regplot(data=roi_reg_plot[roi_reg_plot.Depressed=='Low BDI'],x='decisionCPE',y='band_pow',scatter=True,\n",
    "#                ci=95,color = '#824973',label='Low BDI',x_jitter = 0.15)#,scatter_kws={'s':2})\n",
    "#     sns.regplot(data=roi_reg_plot[roi_reg_plot.Depressed=='High BDI'],x='decisionCPE',y='band_pow',scatter=True,\n",
    "#                ci=95,color='#0b4e5f',label='High BDI',x_jitter = 0.15)#,scatter_kws={'s':2})\n",
    "\n",
    "#     plt.legend(fontsize=10)\n",
    "#     # borderaxespad=0,frameon=False,framealpha=0,\n",
    "#     sns.move_legend(ax,\"upper center\", bbox_to_anchor=(0.5, 1.1), frameon=False,framealpha=0,\n",
    "#                     fontsize='small',shadow=None,\n",
    "#                     columnspacing=2,ncol=2)\n",
    "\n",
    "\n",
    "#     plt.gca().yaxis.set_major_formatter(StrMethodFormatter('{x:,.2f}')) \n",
    "\n",
    "#     plt.ylabel(r'$beta_{{{zpow}}}$')\n",
    "#     plt.xlabel(r'$cpe(z)$')\n",
    "#     plt.title(f'{roi}')\n",
    "#     sns.despine()\n",
    "#     plt.tick_params(length=0)\n",
    "    \n",
    "    "
   ]
  },
  {
   "cell_type": "code",
   "execution_count": null,
   "id": "d22c2696",
   "metadata": {},
   "outputs": [],
   "source": [
    "fig,ax = plt.subplots(figsize=(8,5),dpi=500)\n",
    "# sns.set_context(\"poster\",rc={'axes.linewidth': 2})\n",
    "# sns.set_theme(style='ticks') \n",
    "\n",
    "# palette={'depression':\"#3f2755\",'no depression':\"#054a6f\"}\n",
    "\n",
    "# palette={'high BDI':\"#0b4e5f\",'low BDI':\"#824973\"}\n",
    "\n",
    "\n",
    "# ax = sns.lmplot(data=reg_df,x='decisionCPE',y='band_pow',hue='Depression',scatter=False,ci=95,palette=palette)\n",
    "# sns.move_legend(ax, loc='lower center', bbox_to_anchor=(0.1, 1),bbox_to_anchor=(-1, 0), ncol=2)\n",
    "\n",
    "# sns.move_legend(ax,\"upper center\", bbox_to_anchor=(0.5, 1), borderaxespad=0.1,frameon=False,framealpha=0,\n",
    "#                 fontsize='x-small',shadow=None,title=None,columnspacing=0.5,edgecolor=None,markerfirst=True,\n",
    "#                 markerscale=4,labelcolor=None, ncol=2)\n",
    "\n",
    "\n",
    "sns.regplot(data=reg_df[reg_df.Depressed=='Low BDI'],x='decisionCPE',y='band_pow',scatter=True,\n",
    "           ci=95,color = '#824973',label='Low BDI',x_jitter = 0.15,scatter_kws={'s':2})\n",
    "sns.regplot(data=reg_df[reg_df.Depressed=='High BDI'],x='decisionCPE',y='band_pow',scatter=True,\n",
    "           ci=95,color='#0b4e5f',label='High BDI',x_jitter = 0.15,scatter_kws={'s':2})\n",
    "\n",
    "plt.legend(fontsize=10)\n",
    "# borderaxespad=0,frameon=False,framealpha=0,\n",
    "sns.move_legend(ax,\"upper center\", bbox_to_anchor=(0.5, 1.1), frameon=False,framealpha=0,\n",
    "                fontsize='small',shadow=None,\n",
    "                columnspacing=2,ncol=2)\n",
    "\n",
    "\n",
    "plt.gca().yaxis.set_major_formatter(StrMethodFormatter('{x:,.2f}')) \n",
    "\n",
    "plt.ylabel(fr'${band}_{{{zpow}}}$')\n",
    "plt.xlabel(r'$cpe(z)$')\n",
    "sns.despine()\n",
    "plt.tick_params(length=0)\n",
    "# plt.text(7.25,0.07,f'rho: {np.round(r,3)} \\n p: {np.round(p_r,6)}',fontsize=16)\n",
    "\n"
   ]
  },
  {
   "cell_type": "code",
   "execution_count": null,
   "id": "0ba79036",
   "metadata": {},
   "outputs": [],
   "source": []
  },
  {
   "cell_type": "code",
   "execution_count": null,
   "id": "c4864820",
   "metadata": {},
   "outputs": [],
   "source": []
  },
  {
   "cell_type": "code",
   "execution_count": null,
   "id": "0f3fbbc0",
   "metadata": {},
   "outputs": [],
   "source": [
    "palette=dict(Low=\"#3f2755\", High=\"#054a6f\")\n",
    "# sns.move_legend(ax, \"lower center\", bbox_to_anchor=(.5, 1), ncol=3, title=None, frameon=False)\n"
   ]
  },
  {
   "cell_type": "code",
   "execution_count": null,
   "id": "49c8123e",
   "metadata": {},
   "outputs": [],
   "source": [
    "from scipy import stats\n",
    "# slope, intercept, r_value, p_value, std_err = stats.linregress(df.x,df.y)"
   ]
  },
  {
   "cell_type": "code",
   "execution_count": null,
   "id": "eb334420",
   "metadata": {},
   "outputs": [],
   "source": [
    "reg_df['Depression'] = ['High BDI' if bdi >=20 else 'Low BDI' for bdi in reg_df.bdi.tolist()]"
   ]
  },
  {
   "cell_type": "code",
   "execution_count": null,
   "id": "f4257b26",
   "metadata": {},
   "outputs": [],
   "source": [
    "# edgecolor=None,markerfirst=True,title=None,#title_fontsize='x-small',\n",
    "#                 markerscale=0.2,labelcolor=None"
   ]
  },
  {
   "cell_type": "code",
   "execution_count": null,
   "id": "a50002cc",
   "metadata": {},
   "outputs": [],
   "source": [
    "roi_order = ['dlpfc','vlpfc','ofc','ains','pins','acc','hpc','amy']"
   ]
  },
  {
   "cell_type": "code",
   "execution_count": null,
   "id": "e1f5bbab",
   "metadata": {},
   "outputs": [],
   "source": [
    "lmplot"
   ]
  },
  {
   "cell_type": "code",
   "execution_count": null,
   "id": "d83ccb07",
   "metadata": {},
   "outputs": [],
   "source": [
    "reg_df"
   ]
  },
  {
   "cell_type": "code",
   "execution_count": null,
   "id": "ed965db8",
   "metadata": {},
   "outputs": [],
   "source": [
    "lmplot = reg_df.copy()\n",
    "lmplot = lmplot.groupby('unique_reref_ch').agg('mean').reset_index()\n",
    "\n",
    "# beta_lmplot['Depressed'] = ['Low BDI' if bdi =< 20 else 'High BDI' for bdi in beta_lmplot.bdi]\n",
    "\n",
    "\n",
    "# beta_lmplot['raw_rt_coeff']  = [roi_bdi_plot_data[roi_bdi_plot_data.unique_reref_ch == elec][\n",
    "#     'raw_decisionCPE:band_pow'].values[0] for elec in beta_lmplot.unique_reref_ch]\n",
    "\n",
    "# beta_lmplot['elec_bCPE']  = [roi_bdi_plot_data[roi_bdi_plot_data.unique_reref_ch == elec][\n",
    "#     'elec_bCPE'].values[0] for elec in beta_lmplot.unique_reref_ch]\n",
    "\n",
    "lmplot['roi']  = [reg_df[reg_df.unique_reref_ch == elec][\n",
    "    'roi'].values[0] for elec in reg_df.unique_reref_ch]\n",
    "\n",
    "lmplot = lmplot[lmplot.roi.isin(roi_order)]\n",
    "\n",
    "lmplot"
   ]
  },
  {
   "cell_type": "code",
   "execution_count": null,
   "id": "ce3da504",
   "metadata": {},
   "outputs": [],
   "source": [
    "roi_not_ains = ['notIns' if roi != 'ains' else 'ains' for roi in reg_df.roi.tolist()]\n",
    "roi_not_ains"
   ]
  },
  {
   "cell_type": "code",
   "execution_count": null,
   "id": "33a97c4b",
   "metadata": {},
   "outputs": [],
   "source": [
    "reg_df['roi_not_ains'] = roi_not_ains"
   ]
  },
  {
   "cell_type": "code",
   "execution_count": null,
   "id": "76e6a7a7",
   "metadata": {},
   "outputs": [],
   "source": [
    "final_vars = ['C(GambleChoice)', 'TotalProfit', 'decisionCPE']\n"
   ]
  },
  {
   "cell_type": "code",
   "execution_count": null,
   "id": "c1ebde85",
   "metadata": {},
   "outputs": [],
   "source": [
    "\n",
    "final_fit = fit_mixed_model(reg_df,final_vars,outcome_var,rand_eff_var,reml=False)\n",
    "print(final_fit.summary())\n",
    "    "
   ]
  },
  {
   "cell_type": "code",
   "execution_count": null,
   "id": "0514d810",
   "metadata": {
    "scrolled": true
   },
   "outputs": [],
   "source": [
    "final_fit.pvalues['decisionCPE']"
   ]
  },
  {
   "cell_type": "code",
   "execution_count": null,
   "id": "8492928e",
   "metadata": {},
   "outputs": [],
   "source": [
    "mixed_effects_ftest_ttest(final_fit)"
   ]
  },
  {
   "cell_type": "code",
   "execution_count": null,
   "id": "c807ae1e",
   "metadata": {},
   "outputs": [],
   "source": [
    "fe_param_names = list(final_fit.fe_params.index[1:])\n",
    "fe_param_names"
   ]
  },
  {
   "cell_type": "code",
   "execution_count": null,
   "id": "e455378a",
   "metadata": {},
   "outputs": [],
   "source": [
    "plot_data = pd.concat([pd.DataFrame(\n",
    "    {**{'subj_id':elec_id.split('_')[0],'reref_ch_names':elec_id.split('_')[1]},'unique_reref_ch':elec_id,\n",
    "     **{f'raw_{param}':final_fit.random_effects[elec_id][param] for param in list(\n",
    "            final_fit.random_effects[elec_id].index)}},index=[range(len(fe_param_names))])\n",
    "        \n",
    "    for elec_id in final_fit.random_effects.keys()]).reset_index(drop=True)\n",
    "\n",
    "plot_data['roi'] = [reg_df.roi[reg_df.unique_reref_ch == row.unique_reref_ch].values[0]\n",
    "                                for idx,row in plot_data.iterrows()]\n",
    "\n",
    "plot_data['bdi'] = [subj_info_df.bdi[subj_info_df.subj_id == subj_id].values[0]\n",
    "                                for subj_id in plot_data.subj_id]"
   ]
  },
  {
   "cell_type": "code",
   "execution_count": null,
   "id": "3f839a88",
   "metadata": {},
   "outputs": [],
   "source": [
    "plot_data"
   ]
  },
  {
   "cell_type": "code",
   "execution_count": null,
   "id": "e9ebf197",
   "metadata": {},
   "outputs": [],
   "source": [
    "#### Get all results for Figs!!!!\n",
    "\n",
    "fe_intercept   = final_fit.params['Intercept']\n",
    "fe_cpe_beta    = final_fit.params['decisionCPE']\n",
    "fe_cpe_beta\n"
   ]
  },
  {
   "cell_type": "code",
   "execution_count": null,
   "id": "b2cf1d9f",
   "metadata": {},
   "outputs": [],
   "source": [
    "#### add fixed effects data to all_elec_plot_data\n",
    "plot_data['elec_b0']   = np.add(plot_data.raw_Group,fe_intercept)\n",
    "plot_data['elec_bCPE'] = np.add(plot_data.raw_decisionCPE,fe_cpe_beta)\n",
    "plot_data = plot_data[~plot_data.roi.isnull()]"
   ]
  },
  {
   "cell_type": "code",
   "execution_count": null,
   "id": "49d4f1e5",
   "metadata": {},
   "outputs": [],
   "source": [
    "plot_data"
   ]
  },
  {
   "cell_type": "code",
   "execution_count": null,
   "id": "1ce350fb",
   "metadata": {},
   "outputs": [],
   "source": [
    "raw_roi_stats = {f'{roi}':ttest_1samp(plot_data.raw_decisionCPE[plot_data.roi == roi].unique(),\n",
    "                 popmean=0) for roi in plot_data.roi.unique().tolist()}\n",
    "raw_roi_stats"
   ]
  },
  {
   "cell_type": "code",
   "execution_count": null,
   "id": "5c29f33c",
   "metadata": {},
   "outputs": [],
   "source": [
    "roi_stats = {f'{roi}':ttest_1samp(plot_data.elec_bCPE[plot_data.roi == roi].unique(),\n",
    "                 popmean=0) for roi in plot_data.roi.unique().tolist()}\n",
    "roi_stats"
   ]
  },
  {
   "cell_type": "code",
   "execution_count": null,
   "id": "dc23124a",
   "metadata": {},
   "outputs": [],
   "source": [
    "bonferr_alpha = 0.05/(len(plot_data.roi.unique().tolist()))\n",
    "bonferr_alpha"
   ]
  },
  {
   "cell_type": "code",
   "execution_count": null,
   "id": "28548e98",
   "metadata": {},
   "outputs": [],
   "source": [
    "print('sig ROIs after multiple comp correction: ',[(roi,raw_roi_stats[roi].pvalue) for roi in raw_roi_stats.keys()\n",
    "                                                   if raw_roi_stats[roi].pvalue< bonferr_alpha])\n",
    "# print('sig ROI pvals: ',roi_stats.roi_cpe_pval[roi_beta_results.roi_cpe_pval<=bonferr_alpha].unique().tolist())\n"
   ]
  },
  {
   "cell_type": "code",
   "execution_count": null,
   "id": "e750ec62",
   "metadata": {},
   "outputs": [],
   "source": [
    "print('sig ROIs after multiple comp correction: ',[(roi,roi_stats[roi].pvalue) for roi in roi_stats.keys()\n",
    "                                                   if roi_stats[roi].pvalue< bonferr_alpha])\n",
    "# print('sig ROI pvals: ',roi_stats.roi_cpe_pval[roi_beta_results.roi_cpe_pval<=bonferr_alpha].unique().tolist())\n",
    "\n",
    "\n"
   ]
  },
  {
   "cell_type": "code",
   "execution_count": null,
   "id": "c60f8481",
   "metadata": {},
   "outputs": [],
   "source": [
    "roi_stats.keys()"
   ]
  },
  {
   "cell_type": "code",
   "execution_count": null,
   "id": "30b16acd",
   "metadata": {},
   "outputs": [],
   "source": [
    "# roi_order = ['dlpfc','vlpfc','dmpfc','ofc','ains','pins','acc','hpc','amy','mtg','motor','thalamus']\n",
    "roi_order = ['dlpfc','vlpfc','dmpfc','ofc','ains','pins','acc','hpc','amy','mtg']"
   ]
  },
  {
   "cell_type": "code",
   "execution_count": null,
   "id": "b8d968cc",
   "metadata": {},
   "outputs": [],
   "source": [
    "roi_plot_data = plot_data.copy()\n",
    "roi_plot_data = roi_plot_data[roi_plot_data.roi.isin(roi_order)]\n",
    "\n",
    "# roi_plot_names = {'thalamus':'THAL','hpc':'HPC','amy':'AMY','acc':'ACC','ofc':'OFC','ains':'aINS',\n",
    "#                   'pins':'pINS','dmpfc':'dmPFC','dlpfc':'dlPFC','vlpfc':'vlPFC'}\n"
   ]
  },
  {
   "cell_type": "code",
   "execution_count": null,
   "id": "36ab9389",
   "metadata": {
    "scrolled": false
   },
   "outputs": [],
   "source": [
    "# roi_plot_data"
   ]
  },
  {
   "cell_type": "code",
   "execution_count": null,
   "id": "036d54f7",
   "metadata": {},
   "outputs": [],
   "source": [
    "sns.set_context(\"poster\",rc={'axes.linewidth': 1.5})\n",
    "fig,ax = plt.subplots(figsize=(15, 6),dpi=500)\n",
    "\n",
    "fig_save_dir = f'{base_dir}ephys_analysis/figs/{band}_regressions/'\n",
    "os.makedirs(fig_save_dir,exist_ok=True)\n",
    "\n",
    "sns.barplot(data = roi_plot_data,\n",
    "            x = 'roi',\n",
    "#             y = 'elec_bCPE',\n",
    "            y='raw_decisionCPE',\n",
    "#             color = '#561C46',\n",
    "#             color = '#00467e',\n",
    "#             color = '#346a97',\n",
    "            color = '#346a97',\n",
    "            saturation=1,\n",
    "            order=roi_order,\n",
    "            errorbar=None) \n",
    "\n",
    "\n",
    "sns.stripplot(data = roi_plot_data,\n",
    "            x = 'roi',\n",
    "#             y = 'elec_bCPE',\n",
    "              y='raw_decisionCPE',\n",
    "#               color='#78496b', \n",
    "              color = '#00467e',\n",
    "              alpha=.4,\n",
    "              dodge=True,\n",
    "              order=roi_order,\n",
    "              size = 8)\n",
    "\n",
    "ax.axhline(y=0,color='#00467e',linewidth=1.5)\n",
    "plt.tick_params(length=0 )#,grid_linewidth=1)\n",
    "\n",
    "# plt.ylim([-0.05,0.05])\n",
    "ax.set(xlabel=None)\n",
    "# plt.ylabel('CPE Encoding in Beta Power (z)')\n",
    "# plt.ylabel('beta(z) cpe encoding')\n",
    "plt.ylabel(fr'${band}_{{{zpow}}}$'+ ' cpe encoding')\n",
    "# plt.gca().yaxis.set_major_formatter(StrMethodFormatter('{x:,.3f}')) \n",
    "# plt.locator_params(axis='y', nbins=5,tight=True)\n",
    "\n",
    "\n",
    "sns.despine()\n",
    "    \n",
    "plt.savefig(f'{fig_save_dir}/Bpow_CPE_barplot_{date}.pdf', format='pdf', metadata=None,\n",
    "bbox_inches=None, pad_inches=0.1,dpi=500,\n",
    "facecolor='auto', edgecolor='auto',\n",
    "backend=None)\n"
   ]
  },
  {
   "cell_type": "code",
   "execution_count": null,
   "id": "6d426e85",
   "metadata": {},
   "outputs": [],
   "source": [
    "rho_data = []\n",
    "sig_rho = []\n",
    "\n",
    "# BDI CORRELATIONS\n",
    "for roi in plot_data.roi.unique().tolist()[:-1]:\n",
    "    roi_temp_data = plot_data[plot_data.roi==roi]\n",
    "    rho,rho_p     = pearsonr(roi_temp_data.bdi,roi_temp_data.raw_decisionCPE)\n",
    "#     rho,rho_p     = pearsonr(roi_temp_data.bdi,roi_temp_data.elec_bCPE)\n",
    "#     print(f'{roi} pearsonr',rho,rho_p)\n",
    "    rho_data.append(pd.DataFrame({'roi':roi,'rho':rho,'rho_p':rho_p},index=[0]))\n",
    "#     if rho_p <= bonferr_alpha:\n",
    "#         sig_bdi_rois.append(roi)\n",
    "    if rho_p < bonferr_alpha: \n",
    "        sig_rho.append((roi,rho,rho_p))\n",
    "    print(f'{roi} pearsonr',rho,rho_p)\n",
    "rho_data = pd.concat(rho_data).reset_index(drop=True)\n"
   ]
  },
  {
   "cell_type": "code",
   "execution_count": null,
   "id": "a961a06c",
   "metadata": {},
   "outputs": [],
   "source": [
    "sig_rho"
   ]
  },
  {
   "cell_type": "code",
   "execution_count": null,
   "id": "e57580e7",
   "metadata": {},
   "outputs": [],
   "source": [
    "rho_data['plot_p'] = [0.001 if roi.rho_p < 0.001 else np.round(roi.rho_p,4) for ix,roi in rho_data.iterrows()]"
   ]
  },
  {
   "cell_type": "code",
   "execution_count": null,
   "id": "66c97818",
   "metadata": {
    "scrolled": true
   },
   "outputs": [],
   "source": [
    "new_plot_ps = []\n",
    "for p in rho_data['plot_p']:\n",
    "    new_p = 0\n",
    "    \n",
    "    for ix,val in enumerate(str(p)):\n",
    "        if val == '0':\n",
    "            continue\n",
    "        elif val == '.':\n",
    "            continue\n",
    "        else: \n",
    "#             print(ix,val)\n",
    "            new_p = str(p)[:ix+1]\n",
    "            break\n",
    "            \n",
    "            \n",
    "\n",
    "    new_plot_ps.append(float(new_p))\n",
    "#         print(val)"
   ]
  },
  {
   "cell_type": "code",
   "execution_count": null,
   "id": "3912a60f",
   "metadata": {},
   "outputs": [],
   "source": [
    "rho_data['round_p']   = new_plot_ps\n",
    "rho_data['round_rho'] = np.round(rho_data.rho,2)\n",
    "rho_data"
   ]
  },
  {
   "cell_type": "code",
   "execution_count": null,
   "id": "e93fa32a",
   "metadata": {},
   "outputs": [],
   "source": []
  },
  {
   "cell_type": "code",
   "execution_count": null,
   "id": "e8712d81",
   "metadata": {
    "scrolled": false
   },
   "outputs": [],
   "source": [
    "\n",
    "sns.set_context(\"poster\",rc={'axes.linewidth': 1.5})\n",
    "\n",
    "for roi in plot_data.roi.unique().tolist()[:-1]:\n",
    "    roi_temp_data = plot_data[plot_data.roi==roi]\n",
    "\n",
    "    rho   = rho_data[rho_data.roi == roi].round_rho.values[0]\n",
    "    rho_p = rho_data[rho_data.roi == roi].round_p.values[0]\n",
    "    \n",
    "        \n",
    "    fig = plt.figure(figsize=(7,5),dpi=300)\n",
    "\n",
    "    sns.regplot(data=roi_temp_data,x='bdi',y='raw_decisionCPE',scatter=False,ci=95,\n",
    "                fit_reg=True,color = '#00467e') #034975\n",
    "    \n",
    "    sns.scatterplot(data = roi_temp_data.groupby(['subj_id']).agg('mean'),x='bdi',\n",
    "                    y='raw_decisionCPE',color = '#00467e',edgecolor=None,alpha=0.8)\n",
    "    \n",
    "#     plt.gca().yaxis.set_major_formatter(StrMethodFormatter('{x:,.2f}')) \n",
    "    plt.xlabel('BDI-II')\n",
    "    \n",
    "    plt.tick_params(length=0) \n",
    "    plt.ylabel(band+r'$_{{{zpow}}}$'+' cpe encoding')\n",
    "\n",
    "    plt.text(np.max(roi_temp_data.bdi)-8,\n",
    "             np.round(np.max(roi_temp_data.groupby(['subj_id']).agg('mean').raw_decisionCPE),3)-0.003,\n",
    "             r'$rho$ = '+f'{rho} '+'\\n '+r'$p < $'+f'{rho_p}',\n",
    "             color='#00467e',fontsize=16)\n",
    "\n",
    "    plt.title(f'{roi}',fontsize=24)\n",
    "\n",
    "\n",
    "    \n",
    "    sns.despine()\n",
    "    \n",
    "    plt.savefig(f'{fig_save_dir}/{roi}_{rho}_{rho_p}_roi_bdi_{band}-cpe-slope.pdf', format='pdf', metadata=None,\n",
    "        bbox_inches='tight', pad_inches=0.1,dpi=300,\n",
    "        facecolor='auto', edgecolor='auto',\n",
    "        backend=None)\n",
    "    "
   ]
  },
  {
   "cell_type": "code",
   "execution_count": null,
   "id": "31231b35",
   "metadata": {},
   "outputs": [],
   "source": []
  },
  {
   "cell_type": "markdown",
   "id": "548a813f",
   "metadata": {},
   "source": [
    "# BDI Interaction\n",
    "- Rerun final mixed effects model on each ROI separately\n",
    "- Correlate random effects slopes for each regressor with BDI"
   ]
  },
  {
   "cell_type": "code",
   "execution_count": null,
   "id": "45125515",
   "metadata": {},
   "outputs": [],
   "source": [
    "rand_eff_var = 'unique_reref_ch'\n"
   ]
  },
  {
   "cell_type": "code",
   "execution_count": null,
   "id": "fc3f279e",
   "metadata": {
    "scrolled": false
   },
   "outputs": [],
   "source": [
    "reg_df"
   ]
  },
  {
   "cell_type": "code",
   "execution_count": null,
   "id": "403b63d6",
   "metadata": {},
   "outputs": [],
   "source": [
    "bdi_vars    = ['decisionCPE','bdi','decisionCPE:bdi']\n",
    "outcome_var = 'band_pow'\n",
    "\n",
    "bdi_fit = fit_mixed_model(reg_df,bdi_vars,outcome_var,rand_eff_var,reml=False)\n",
    "print(bdi_fit.summary())\n",
    "    "
   ]
  },
  {
   "cell_type": "code",
   "execution_count": null,
   "id": "0be82922",
   "metadata": {},
   "outputs": [],
   "source": []
  },
  {
   "cell_type": "code",
   "execution_count": null,
   "id": "5c3ea595",
   "metadata": {},
   "outputs": [],
   "source": [
    "fe_param_names = list(bdi_fit.fe_params.index[1:])\n",
    "fe_param_names"
   ]
  },
  {
   "cell_type": "code",
   "execution_count": null,
   "id": "b9809e28",
   "metadata": {},
   "outputs": [],
   "source": [
    "bdi_plot_data = pd.concat([pd.DataFrame(\n",
    "    {**{'subj_id':elec_id.split('_')[0],'reref_ch_names':elec_id.split('_')[1]},'unique_reref_ch':elec_id,\n",
    "     **{f'raw_{param}':bdi_fit.random_effects[elec_id][param] for param in list(\n",
    "            bdi_fit.random_effects[elec_id].index)}},index=[range(len(fe_param_names))])\n",
    "        \n",
    "    for elec_id in bdi_fit.random_effects.keys()]).reset_index(drop=True)\n",
    "\n",
    "bdi_plot_data['roi'] = [reg_df.roi[reg_df.unique_reref_ch == row.unique_reref_ch].values[0]\n",
    "                                for idx,row in bdi_plot_data.iterrows()]\n",
    "\n",
    "bdi_plot_data['bdi'] = [subj_info_df.bdi[subj_info_df.subj_id == subj_id].values[0]\n",
    "                                for subj_id in bdi_plot_data.subj_id]"
   ]
  },
  {
   "cell_type": "code",
   "execution_count": null,
   "id": "6f4ae250",
   "metadata": {},
   "outputs": [],
   "source": [
    "bdi_plot_data"
   ]
  },
  {
   "cell_type": "code",
   "execution_count": null,
   "id": "a02df551",
   "metadata": {},
   "outputs": [],
   "source": [
    "#### Get all results for Figs!!!!\n",
    "\n",
    "fe_intercept   = bdi_fit.params['Intercept']\n",
    "fe_cpe_beta    = bdi_fit.params['decisionCPE:bdi']\n",
    "fe_cpe_beta\n"
   ]
  },
  {
   "cell_type": "code",
   "execution_count": null,
   "id": "0bdada99",
   "metadata": {},
   "outputs": [],
   "source": [
    "#### add fixed effects data to all_elec_plot_data\n",
    "bdi_plot_data['elec_b0']   = np.add(bdi_plot_data.raw_Group,fe_intercept)\n",
    "bdi_plot_data['elec_bCPE'] = np.add(bdi_plot_data['raw_decisionCPE:bdi'],fe_cpe_beta)\n",
    "bdi_plot_data = bdi_plot_data[~bdi_plot_data.roi.isnull()]"
   ]
  },
  {
   "cell_type": "code",
   "execution_count": null,
   "id": "523a0be6",
   "metadata": {},
   "outputs": [],
   "source": [
    "bdi_plot_data"
   ]
  },
  {
   "cell_type": "code",
   "execution_count": null,
   "id": "6e5966db",
   "metadata": {},
   "outputs": [],
   "source": [
    "# raw_bdi\n",
    "\n",
    "raw_roi_stats = {f'{roi}':ttest_1samp(bdi_plot_data['raw_bdi'][bdi_plot_data.roi == roi].unique(),\n",
    "                 popmean=0) for roi in bdi_plot_data.roi.unique().tolist()}\n",
    "raw_roi_stats"
   ]
  },
  {
   "cell_type": "code",
   "execution_count": null,
   "id": "4da8352e",
   "metadata": {},
   "outputs": [],
   "source": [
    "raw_roi_stats = {f'{roi}':ttest_1samp(bdi_plot_data['raw_decisionCPE:bdi'][bdi_plot_data.roi == roi].unique(),\n",
    "                 popmean=0) for roi in bdi_plot_data.roi.unique().tolist()}\n",
    "raw_roi_stats"
   ]
  },
  {
   "cell_type": "code",
   "execution_count": null,
   "id": "7bb53c9e",
   "metadata": {},
   "outputs": [],
   "source": [
    "roi_stats = {f'{roi}':ttest_1samp(bdi_plot_data.elec_bCPE[bdi_plot_data.roi == roi].unique(),\n",
    "                 popmean=0) for roi in bdi_plot_data.roi.unique().tolist()}\n",
    "roi_stats"
   ]
  },
  {
   "cell_type": "code",
   "execution_count": null,
   "id": "30dcad6d",
   "metadata": {},
   "outputs": [],
   "source": [
    "bonferr_alpha = 0.05/len(roi_stats)\n",
    "# bonferr_alpha = 0.05/len(bdi_plot_data.roi.unique().tolist())\n",
    "bonferr_alpha"
   ]
  },
  {
   "cell_type": "code",
   "execution_count": null,
   "id": "2dc9c1ba",
   "metadata": {},
   "outputs": [],
   "source": [
    "print('sig ROIs after multiple comp correction: ',[(roi,raw_roi_stats[roi].pvalue) for roi in raw_roi_stats.keys()\n",
    "                                                   if raw_roi_stats[roi].pvalue< bonferr_alpha])\n",
    "# print('sig ROI pvals: ',roi_stats.roi_cpe_pval[roi_beta_results.roi_cpe_pval<=bonferr_alpha].unique().tolist())\n"
   ]
  },
  {
   "cell_type": "code",
   "execution_count": null,
   "id": "965f4f44",
   "metadata": {},
   "outputs": [],
   "source": [
    "print('sig ROIs after multiple comp correction: ',[(roi,roi_stats[roi].pvalue) for roi in roi_stats.keys()\n",
    "                                                   if roi_stats[roi].pvalue< bonferr_alpha])\n",
    "# print('sig ROI pvals: ',roi_stats.roi_cpe_pval[roi_beta_results.roi_cpe_pval<=bonferr_alpha].unique().tolist())\n",
    "\n",
    "\n"
   ]
  },
  {
   "cell_type": "code",
   "execution_count": null,
   "id": "c5243c2c",
   "metadata": {},
   "outputs": [],
   "source": [
    "roi_stats"
   ]
  },
  {
   "cell_type": "code",
   "execution_count": null,
   "id": "609a0c44",
   "metadata": {},
   "outputs": [],
   "source": [
    "roi_stats.keys()"
   ]
  },
  {
   "cell_type": "code",
   "execution_count": null,
   "id": "364b9733",
   "metadata": {},
   "outputs": [],
   "source": [
    "# roi_order = ['dlpfc','vlpfc','dmpfc','ofc','ains','pins','acc','hpc','amy','mtg','motor','thalamus']\n",
    "roi_order = ['dlpfc','vlpfc','dmpfc','ofc','ains','pins','acc','hpc','amy']"
   ]
  },
  {
   "cell_type": "code",
   "execution_count": null,
   "id": "b9a6bce9",
   "metadata": {},
   "outputs": [],
   "source": [
    "roi_bdi_plot_data = bdi_plot_data.copy()\n",
    "roi_bdi_plot_data = roi_bdi_plot_data[roi_bdi_plot_data.roi.isin(roi_order)]\n",
    "\n",
    "# roi_plot_names = {'thalamus':'THAL','hpc':'HPC','amy':'AMY','acc':'ACC','ofc':'OFC','ains':'aINS',\n",
    "#                   'pins':'pINS','dmpfc':'dmPFC','dlpfc':'dlPFC','vlpfc':'vlPFC'}\n"
   ]
  },
  {
   "cell_type": "code",
   "execution_count": null,
   "id": "72fe9dd5",
   "metadata": {},
   "outputs": [],
   "source": [
    "roi_bdi_plot_data['raw_decisionCPE:bdi']"
   ]
  },
  {
   "cell_type": "code",
   "execution_count": null,
   "id": "94a25e08",
   "metadata": {},
   "outputs": [],
   "source": [
    "sns.set_context(\"poster\")\n",
    "fig,ax = plt.subplots(figsize=(15, 6),dpi=500)\n",
    "\n",
    "fig_save_dir = f'{base_dir}ephys_analysis/figs/{band}_regressions/'\n",
    "os.makedirs(fig_save_dir,exist_ok=True)\n",
    "\n",
    "sns.barplot(data = roi_bdi_plot_data,\n",
    "            x = 'roi',\n",
    "            y = 'raw_decisionCPE:bdi',\n",
    "#             y='elec_bCPE',\n",
    "            color = '#561C46', #173b6f\n",
    "            saturation=0.8,\n",
    "            order=roi_order,\n",
    "            errorbar=None) \n",
    "\n",
    "\n",
    "sns.stripplot(data = roi_bdi_plot_data,\n",
    "            x = 'roi',\n",
    "            y = 'raw_decisionCPE:bdi',\n",
    "              color = '#561C46',\n",
    "              alpha=.4,\n",
    "              dodge=True,\n",
    "              order=roi_order,\n",
    "              size = 8)\n",
    "\n",
    "ax.axhline(y=0,color='#561C46',linewidth=1.5)\n",
    "plt.tick_params(length=0 )#,grid_linewidth=1)\n",
    "\n",
    "# plt.ylim([-0.02,0.017])\n",
    "ax.set(xlabel=None)\n",
    "\n",
    "plt.ylabel(fr'${band}_{{{zpow}}} \\sim cpe:bdi$')\n",
    "# plt.gca().yaxis.set_major_formatter(StrMethodFormatter('{x:,.3f}')) \n",
    "plt.locator_params(axis='y', nbins=6,tight=True)\n",
    "\n",
    "\n",
    "\n",
    "sns.despine()\n",
    "    \n",
    "plt.savefig(f'{fig_save_dir}/{band}pow_CPEBDIINT{date}.pdf', format='pdf', metadata=None,\n",
    "bbox_inches=None, pad_inches=0.1,dpi=500,\n",
    "facecolor='auto', edgecolor='auto',\n",
    "backend=None)"
   ]
  },
  {
   "cell_type": "code",
   "execution_count": null,
   "id": "87e08260",
   "metadata": {},
   "outputs": [],
   "source": [
    "####### BDI ~ BPOW SIG FOR THESE ROIS!!!"
   ]
  },
  {
   "cell_type": "code",
   "execution_count": null,
   "id": "e88238b6",
   "metadata": {},
   "outputs": [],
   "source": [
    "print('sig ROIs after multiple comp correction: ',[(roi,raw_roi_stats[roi].pvalue) for roi in raw_roi_stats.keys()\n",
    "                                                   if raw_roi_stats[roi].pvalue< bonferr_alpha])\n",
    "# print('sig ROI pvals: ',roi_stats.roi_cpe_pval[roi_beta_results.roi_cpe_pval<=bonferr_alpha].unique().tolist())\n"
   ]
  },
  {
   "cell_type": "code",
   "execution_count": null,
   "id": "c9a8a7cd",
   "metadata": {},
   "outputs": [],
   "source": [
    "roi_bdi_plot_data"
   ]
  },
  {
   "cell_type": "code",
   "execution_count": null,
   "id": "38e9e2c7",
   "metadata": {},
   "outputs": [],
   "source": [
    "print('sig ROIs after multiple comp correction: ',[(roi,ttest_1samp(roi_bdi_plot_data[\n",
    "    roi_bdi_plot_data.roi == roi]['raw_decisionCPE:bdi'].to_numpy(),\n",
    "                                     popmean=0).pvalue) for roi in roi_bdi_plot_data.roi.unique().tolist()\n",
    "                                                  if ttest_1samp(roi_bdi_plot_data[\n",
    "    roi_bdi_plot_data.roi == roi]['raw_decisionCPE:bdi'].to_numpy(),\n",
    "                                     popmean=0).pvalue < bonferr_alpha])\n",
    "\n",
    "\n"
   ]
  },
  {
   "cell_type": "code",
   "execution_count": null,
   "id": "09f548d1",
   "metadata": {},
   "outputs": [],
   "source": [
    "print('sig ROIs after multiple comp correction: ',[(roi,ttest_1samp(roi_bdi_plot_data[\n",
    "    roi_bdi_plot_data.roi == roi]['raw_bdi'].to_numpy(),\n",
    "                                     popmean=0).pvalue) for roi in roi_bdi_plot_data.roi.unique().tolist()\n",
    "                                                  if ttest_1samp(roi_bdi_plot_data[\n",
    "    roi_bdi_plot_data.roi == roi]['raw_bdi'].to_numpy(),\n",
    "                                     popmean=0).pvalue < bonferr_alpha])\n",
    "\n",
    "\n"
   ]
  },
  {
   "cell_type": "code",
   "execution_count": null,
   "id": "f1dd4136",
   "metadata": {},
   "outputs": [],
   "source": [
    "sns.set_context(\"poster\")\n",
    "fig,ax = plt.subplots(figsize=(15, 6),dpi=500)\n",
    "\n",
    "fig_save_dir = f'{base_dir}ephys_analysis/figs/{band}_regressions/'\n",
    "os.makedirs(fig_save_dir,exist_ok=True)\n",
    "\n",
    "sns.barplot(data = roi_bdi_plot_data,\n",
    "            x = 'roi',\n",
    "            y = 'raw_bdi',\n",
    "#             y='elec_bCPE',\n",
    "            color = '#173b6f', #173b6f\n",
    "            saturation=0.8,\n",
    "            order=roi_order,\n",
    "            errorbar=None) \n",
    "\n",
    "\n",
    "sns.stripplot(data = roi_bdi_plot_data,\n",
    "            x = 'roi',\n",
    "            y = 'raw_bdi',\n",
    "              color = '#173b6f',\n",
    "              alpha=.4,\n",
    "              dodge=True,\n",
    "              order=roi_order,\n",
    "              size = 8)\n",
    "\n",
    "ax.axhline(y=0,color='#173b6f',linewidth=1.5)\n",
    "plt.tick_params(length=0 )#,grid_linewidth=1)\n",
    "\n",
    "# plt.ylim([-0.02,0.017])\n",
    "ax.set(xlabel=None)\n",
    "\n",
    "# plt.ylabel(r'$beta_{{{zpow}}} \\sim cpe:bdi$')\n",
    "plt.ylabel(fr'${band}_{{{zpow}}} \\sim bdi$')\n",
    "# plt.gca().yaxis.set_major_formatter(StrMethodFormatter('{x:,.3f}')) \n",
    "plt.locator_params(axis='y', nbins=6,tight=True)\n",
    "\n",
    "\n",
    "\n",
    "sns.despine()\n",
    "    \n",
    "plt.savefig(f'{fig_save_dir}/{band}POW~BDIbyROI{date}.pdf', format='pdf', metadata=None,\n",
    "bbox_inches=None, pad_inches=0.1,dpi=500,\n",
    "facecolor='auto', edgecolor='auto',\n",
    "backend=None)"
   ]
  },
  {
   "cell_type": "code",
   "execution_count": null,
   "id": "aeade1f2",
   "metadata": {},
   "outputs": [],
   "source": []
  },
  {
   "cell_type": "code",
   "execution_count": null,
   "id": "3e4336a0",
   "metadata": {},
   "outputs": [],
   "source": []
  },
  {
   "cell_type": "code",
   "execution_count": null,
   "id": "f2d93add",
   "metadata": {},
   "outputs": [],
   "source": []
  },
  {
   "cell_type": "code",
   "execution_count": null,
   "id": "e91fc596",
   "metadata": {
    "scrolled": false
   },
   "outputs": [],
   "source": [
    "roi_bdi_plot_data"
   ]
  },
  {
   "cell_type": "code",
   "execution_count": null,
   "id": "4076584e",
   "metadata": {},
   "outputs": [],
   "source": [
    "# roi_order = ['dlpfc','vlpfc','dmpfc','ofc','ains','pins','acc','hpc','amy']"
   ]
  },
  {
   "cell_type": "code",
   "execution_count": null,
   "id": "fb705f53",
   "metadata": {},
   "outputs": [],
   "source": [
    "reg_df.groupby('roi')"
   ]
  },
  {
   "cell_type": "code",
   "execution_count": null,
   "id": "996ee4b8",
   "metadata": {
    "scrolled": true
   },
   "outputs": [],
   "source": [
    "reg_df['BDI-II'] = ['Low' if bdi<20 else 'High' for bdi in reg_df.bdi]\n",
    "reg_df"
   ]
  },
  {
   "cell_type": "code",
   "execution_count": null,
   "id": "7d9e1740",
   "metadata": {},
   "outputs": [],
   "source": [
    "palette=dict(Low=\"#3f2755\", High=\"#054a6f\")\n",
    "# sns.move_legend(ax, \"lower center\", bbox_to_anchor=(.5, 1), ncol=3, title=None, frameon=False)\n"
   ]
  },
  {
   "cell_type": "code",
   "execution_count": null,
   "id": "859789ea",
   "metadata": {},
   "outputs": [],
   "source": [
    "from scipy import stats\n",
    "slope, intercept, r_value, p_value, std_err = stats.linregress(df.x,df.y)"
   ]
  },
  {
   "cell_type": "code",
   "execution_count": null,
   "id": "d58c90f0",
   "metadata": {},
   "outputs": [],
   "source": [
    "# reg_df['Depression'] = ['depressed' if bdi >=20 else 'not depressed' for bdi in reg_df.bdi.tolist()]\n",
    "reg_df['Depression'] = ['high BDI' if bdi >=20 else 'low BDI' for bdi in reg_df.bdi.tolist()]"
   ]
  },
  {
   "cell_type": "code",
   "execution_count": null,
   "id": "1813cfbb",
   "metadata": {},
   "outputs": [],
   "source": [
    "# edgecolor=None,markerfirst=True,title=None,#title_fontsize='x-small',\n",
    "#                 markerscale=0.2,labelcolor=None"
   ]
  },
  {
   "cell_type": "code",
   "execution_count": null,
   "id": "275e1a06",
   "metadata": {},
   "outputs": [],
   "source": []
  },
  {
   "cell_type": "code",
   "execution_count": null,
   "id": "9e9f2f7d",
   "metadata": {},
   "outputs": [],
   "source": [
    "reg_df.roi.unique().tolist()"
   ]
  },
  {
   "cell_type": "markdown",
   "id": "e4d7f782",
   "metadata": {},
   "source": [
    "# INTERACTION FEATURE SELECTION"
   ]
  },
  {
   "cell_type": "code",
   "execution_count": null,
   "id": "ea4fdaf5",
   "metadata": {},
   "outputs": [],
   "source": [
    "######## make all possible variable combinations for regressions \n",
    "main_var  = ['decisionCPE','band_pow','decisionCPE:band_pow']\n",
    "\n",
    "### iter vars for RT prediction dfs > \n",
    "iter_vars = ['C(GambleChoice)','TrialEV','TotalProfit',\n",
    "             'C(GambleChoice_t1)','TrialEV_t1']\n"
   ]
  },
  {
   "cell_type": "code",
   "execution_count": null,
   "id": "78a8d854",
   "metadata": {},
   "outputs": [],
   "source": [
    "iter_vars"
   ]
  },
  {
   "cell_type": "code",
   "execution_count": null,
   "id": "d5be8f86",
   "metadata": {},
   "outputs": [],
   "source": [
    "var_combos = [[v]+main_var for v in iter_vars]\n",
    "\n",
    "for i in range(1,len(iter_vars)-1):\n",
    "    iter_list = [list(tup)+main_var for tup in list(itertools.combinations(iter_vars,i+1))]\n",
    "    var_combos.extend(iter_list)\n",
    "\n",
    "# remove var combos that contain Choice + Trial Type for the *same trial* only bc they are collinear\n",
    "var_combos = [combo for combo in var_combos if ('C(GambleChoice_t1)' in combo and 'C(TrialType_t1)' not in combo)|\n",
    "              ('C(GambleChoice_t1)' not in combo and 'C(TrialType_t1)' in combo)|('C(GambleChoice_t1)'not in combo and 'C(TrialType_t1)' not in combo)]\n",
    "\n",
    "var_combos = [combo for combo in var_combos if ('C(GambleChoice)' in combo and 'C(TrialType)' not in combo)|\n",
    "              ('C(GambleChoice)' not in combo and 'C(TrialType)' in combo)|('C(GambleChoice)'not in combo and 'C(TrialType)' not in combo)]\n",
    "\n",
    "\n",
    "var_combos = [combo for combo in var_combos if ('C(GambleChoice)' in combo and 'TrialEV' not in combo)|\n",
    "              ('C(GambleChoice)' not in combo and 'TrialEV' in combo)|('C(GambleChoice)'not in combo and 'TrialEV' not in combo)]\n",
    "\n",
    "\n",
    "var_combos = [combo for combo in var_combos if ('TrialEV' in combo and 'C(TrialType)' not in combo)|\n",
    "              ('TrialEV' not in combo and 'C(TrialType)' in combo)|('TrialEV'not in combo and 'C(TrialType)' not in combo)]\n",
    "\n",
    "var_combos = [combo for combo in var_combos if ('C(GambleChoice_t1)' in combo and 'TrialEV_t1' not in combo)|\n",
    "              ('C(GambleChoice_t1)' not in combo and 'TrialEV_t1' in combo)|('C(GambleChoice_t1)'not in combo and 'TrialEV_t1' not in combo)]\n",
    "\n",
    "var_combos = [combo for combo in var_combos if ('TrialEV_t1' in combo and 'C(TrialType_t1)' not in combo)|\n",
    "              ('TrialEV_t1' not in combo and 'C(TrialType_t1)' in combo)|('TrialEV_t1'not in combo and 'C(TrialType_t1)' not in combo)]\n",
    "var_combos"
   ]
  },
  {
   "cell_type": "code",
   "execution_count": null,
   "id": "87eed292",
   "metadata": {},
   "outputs": [],
   "source": [
    "len(var_combos)"
   ]
  },
  {
   "cell_type": "code",
   "execution_count": null,
   "id": "5a8a5edd",
   "metadata": {
    "scrolled": false
   },
   "outputs": [],
   "source": [
    "# import time \n",
    "start = time.time() # start timer\n",
    "\n",
    "all_models = {}\n",
    "all_rsq    = {}\n",
    "all_stats  = {}\n",
    "all_keys   = {}\n",
    "no_conv    = []\n",
    "\n",
    "for test_vars in var_combos:\n",
    "    model_key = ''.join(test_vars[:-1]) ### make string of covariate var names to use as dict key\n",
    "    model_fit = fit_mixed_model(reg_df,test_vars,outcome_var,rand_eff_var,reml=False)\n",
    "    # check if model converged\n",
    "    if model_fit.converged:\n",
    "        \n",
    "        print(model_key,' converged!')\n",
    "        \n",
    "        all_models[model_key] = model_fit\n",
    "        all_rsq[model_key]    = compute_marginal_rsq(model_fit)\n",
    "        all_stats[model_key]  = mixed_effects_ftest_ttest(model_fit)\n",
    "        all_keys[model_key]   = test_vars\n",
    "        \n",
    "    else:\n",
    "        print(model_key,' did not converge :(')\n",
    "        no_conv.append(model_key)\n",
    "    del model_fit\n",
    "\n",
    "end = time.time()\n",
    "print('{:.4f} s'.format(end-start)) # print time elapsed for computation (approx 20 seconds per channel)    "
   ]
  },
  {
   "cell_type": "code",
   "execution_count": null,
   "id": "14488cf7",
   "metadata": {},
   "outputs": [],
   "source": [
    "no_conv"
   ]
  },
  {
   "cell_type": "code",
   "execution_count": null,
   "id": "00ae0057",
   "metadata": {},
   "outputs": [],
   "source": [
    "list(all_models.keys())"
   ]
  },
  {
   "cell_type": "code",
   "execution_count": null,
   "id": "41339324",
   "metadata": {},
   "outputs": [],
   "source": [
    "all_models['TrialEVdecisionCPEband_pow'].bic"
   ]
  },
  {
   "cell_type": "code",
   "execution_count": null,
   "id": "65c6371a",
   "metadata": {},
   "outputs": [],
   "source": [
    "model_summary = {key:all_models[key].bic for key in all_models.keys()}\n",
    "model_summary"
   ]
  },
  {
   "cell_type": "code",
   "execution_count": null,
   "id": "9ed46759",
   "metadata": {},
   "outputs": [],
   "source": [
    "bic_list = [model_summary[key] for key in model_summary.keys()]\n",
    "bic_list.sort()\n",
    "\n",
    "ordered_list = [list(model_summary.keys())[np.where(list(model_summary.values()) == bic)[0][0]] for bic in bic_list]\n",
    "list(zip(ordered_list,bic_list))\n"
   ]
  },
  {
   "cell_type": "code",
   "execution_count": null,
   "id": "08055686",
   "metadata": {},
   "outputs": [],
   "source": [
    "all_models['TotalProfitTrialEV_t1decisionCPEband_pow'].pvalues"
   ]
  },
  {
   "cell_type": "code",
   "execution_count": null,
   "id": "e725e449",
   "metadata": {},
   "outputs": [],
   "source": [
    "[(key,bic,all_models[key].pvalues['decisionCPE:band_pow']) for key,bic in list(zip(ordered_list,bic_list))]  \n"
   ]
  },
  {
   "cell_type": "code",
   "execution_count": null,
   "id": "bf5b6eba",
   "metadata": {},
   "outputs": [],
   "source": [
    "print('worst bic model: ',list(model_summary.keys())[np.where(list(model_summary.values())==np.max(list(model_summary.values())))[0][0]])\n"
   ]
  },
  {
   "cell_type": "code",
   "execution_count": null,
   "id": "bc355cdc",
   "metadata": {},
   "outputs": [],
   "source": [
    "print('best bic model: ',list(model_summary.keys())[np.where(list(model_summary.values())==np.min(list(model_summary.values())))[0][0]])\n"
   ]
  },
  {
   "cell_type": "code",
   "execution_count": null,
   "id": "c31cf512",
   "metadata": {
    "scrolled": false
   },
   "outputs": [],
   "source": [
    "print(list(model_summary.keys())[np.where(list(model_summary.values())==np.min(list(model_summary.values())))[0][0]])\n",
    "print(np.min(list(model_summary.values())))\n",
    "      \n",
    "      "
   ]
  },
  {
   "cell_type": "code",
   "execution_count": null,
   "id": "d8def74c",
   "metadata": {},
   "outputs": [],
   "source": [
    "[(key,all_models[key].pvalues['decisionCPE:band_pow']) for key in ordered_list if all_models[key].pvalues['decisionCPE:band_pow'] < 0.05]  \n",
    "\n"
   ]
  },
  {
   "cell_type": "code",
   "execution_count": null,
   "id": "79b41c35",
   "metadata": {},
   "outputs": [],
   "source": [
    "[(key,all_models[key].pvalues['decisionCPE:band_pow']) for key in ordered_list if all_models[key].pvalues['decisionCPE:band_pow'] > 0.05]  \n"
   ]
  },
  {
   "cell_type": "code",
   "execution_count": null,
   "id": "792371ec",
   "metadata": {},
   "outputs": [],
   "source": [
    "all_models['TrialEVTotalProfitdecisionCPEband_pow'].pvalues"
   ]
  },
  {
   "cell_type": "code",
   "execution_count": null,
   "id": "b1a9138c",
   "metadata": {},
   "outputs": [],
   "source": [
    "all_models['TrialEVTotalProfitdecisionCPEband_pow'].params"
   ]
  },
  {
   "cell_type": "code",
   "execution_count": null,
   "id": "0b0871c0",
   "metadata": {},
   "outputs": [],
   "source": [
    "all_models['TotalProfitTrialEV_t1decisionCPEband_pow'].summary()"
   ]
  },
  {
   "cell_type": "code",
   "execution_count": null,
   "id": "18b5a324",
   "metadata": {},
   "outputs": [],
   "source": [
    "all_rsq"
   ]
  },
  {
   "cell_type": "code",
   "execution_count": null,
   "id": "4da0e562",
   "metadata": {},
   "outputs": [],
   "source": [
    "all_models"
   ]
  },
  {
   "cell_type": "code",
   "execution_count": null,
   "id": "8ecf9c45",
   "metadata": {},
   "outputs": [],
   "source": [
    "all_stats['TrialEVdecisionCPEband_pow']"
   ]
  },
  {
   "cell_type": "code",
   "execution_count": null,
   "id": "8a98dd34",
   "metadata": {},
   "outputs": [],
   "source": [
    "all_stats"
   ]
  },
  {
   "cell_type": "code",
   "execution_count": null,
   "id": "a8f98921",
   "metadata": {},
   "outputs": [],
   "source": [
    "#### FOR NOW JUST SAVE CPE STATS!\n",
    "t_test_results_summary = [pd.DataFrame({'ttest_fe_tval':stats[0].t.tolist()[-1],\n",
    "                                        'ttest_fe_coef' :stats[0].coef.tolist()[-1],\n",
    "                                        'ttest_fe_pval':stats[0]['P>|t|'].tolist()[-1],\n",
    "                                        'model_id':idx},index=[0]) \n",
    "                          for idx,stats in all_stats.items()]\n",
    "\n",
    "\n",
    "t_test_results_summary = pd.concat(t_test_results_summary).reset_index(drop=True)\n",
    "t_test_results_summary\n",
    "\n"
   ]
  },
  {
   "cell_type": "code",
   "execution_count": null,
   "id": "d80377a0",
   "metadata": {
    "scrolled": true
   },
   "outputs": [],
   "source": [
    "f_test_results_summary = [pd.DataFrame({'ftest_fvalue':stats[1].fvalue,\n",
    "                                        'ftest_re_df':stats[1].df_num,\n",
    "                                        'ftest_f_pval':stats[1].pvalue,\n",
    "                                        'model_id':idx},index=[0]) \n",
    "                          for idx,stats in all_stats.items()]\n",
    "\n",
    "f_test_results_summary = pd.concat(f_test_results_summary).reset_index(drop=True)\n",
    "f_test_results_summary"
   ]
  },
  {
   "cell_type": "code",
   "execution_count": null,
   "id": "3e12462d",
   "metadata": {},
   "outputs": [],
   "source": [
    "tstat_fstat_df = pd.merge(t_test_results_summary,f_test_results_summary,left_on=['model_id'],\n",
    "                          right_on=['model_id']).reset_index(drop=True)\n",
    "\n",
    "tstat_fstat_df = tstat_fstat_df[['model_id','ttest_fe_tval', 'ttest_fe_coef', 'ttest_fe_pval',\n",
    "                                 'ftest_fvalue', 'ftest_re_df', 'ftest_f_pval']]\n",
    "tstat_fstat_df\n",
    "\n"
   ]
  },
  {
   "cell_type": "code",
   "execution_count": null,
   "id": "bc8e8dc9",
   "metadata": {},
   "outputs": [],
   "source": [
    "tstat_fstat_df['rsq'] = [val for key,val in all_rsq.items()]"
   ]
  },
  {
   "cell_type": "code",
   "execution_count": null,
   "id": "1a70098a",
   "metadata": {},
   "outputs": [],
   "source": [
    "tstat_fstat_df"
   ]
  },
  {
   "cell_type": "code",
   "execution_count": null,
   "id": "f7df78a0",
   "metadata": {
    "scrolled": true
   },
   "outputs": [],
   "source": [
    "all_rsq"
   ]
  },
  {
   "cell_type": "code",
   "execution_count": null,
   "id": "244c6bc3",
   "metadata": {},
   "outputs": [],
   "source": []
  },
  {
   "cell_type": "code",
   "execution_count": null,
   "id": "bea3178a",
   "metadata": {},
   "outputs": [],
   "source": [
    "\n",
    "tstat_fstat_df['bic']         = [all_models[key].bic for key in all_models.keys()]\n"
   ]
  },
  {
   "cell_type": "code",
   "execution_count": null,
   "id": "1be55975",
   "metadata": {},
   "outputs": [],
   "source": [
    "tstat_fstat_df"
   ]
  },
  {
   "cell_type": "code",
   "execution_count": null,
   "id": "e1875990",
   "metadata": {},
   "outputs": [],
   "source": [
    "tstat_fstat_df['fe_cpe_est'] = [all_models[key].params['decisionCPE:band_pow'] for key in all_models.keys()]"
   ]
  },
  {
   "cell_type": "code",
   "execution_count": null,
   "id": "7ed0c708",
   "metadata": {},
   "outputs": [],
   "source": [
    "tstat_fstat_df['fe_cpe_pval'] = [all_models[key].pvalues['decisionCPE:band_pow'] for key in all_models.keys()]"
   ]
  },
  {
   "cell_type": "code",
   "execution_count": null,
   "id": "fa5be2c1",
   "metadata": {},
   "outputs": [],
   "source": [
    "tstat_fstat_df\n",
    "\n"
   ]
  },
  {
   "cell_type": "code",
   "execution_count": null,
   "id": "e88e6fc1",
   "metadata": {},
   "outputs": [],
   "source": [
    "#### multiple comparisons correction!!!!\n",
    "bonferr_alpha = 0.05/len(tstat_fstat_df)\n",
    "bonferr_alpha"
   ]
  },
  {
   "cell_type": "code",
   "execution_count": null,
   "id": "02fd0fab",
   "metadata": {},
   "outputs": [],
   "source": [
    "\n",
    "tstat_fstat_df.sort_values(by='fe_cpe_pval')"
   ]
  },
  {
   "cell_type": "code",
   "execution_count": null,
   "id": "6465f022",
   "metadata": {},
   "outputs": [],
   "source": [
    "# tstat_fstat_df = tstat_fstat_df[tstat_fstat_df.fe_cpe_pval < bonferr_alpha]\n",
    "tstat_fstat_df.sort_values(by='ttest_fe_pval')"
   ]
  },
  {
   "cell_type": "code",
   "execution_count": null,
   "id": "b02bff2d",
   "metadata": {},
   "outputs": [],
   "source": [
    "save_df = tstat_fstat_df.copy()"
   ]
  },
  {
   "cell_type": "code",
   "execution_count": null,
   "id": "35e1bb53",
   "metadata": {},
   "outputs": [],
   "source": [
    "tstat_fstat_df.sort_values(by='ttest_fe_pval')"
   ]
  },
  {
   "cell_type": "code",
   "execution_count": null,
   "id": "614c1090",
   "metadata": {},
   "outputs": [],
   "source": [
    "tstat_fstat_df.ttest_fe_pval"
   ]
  },
  {
   "cell_type": "code",
   "execution_count": null,
   "id": "caf0ff43",
   "metadata": {},
   "outputs": [],
   "source": [
    "print('Best BIC model: ',tstat_fstat_df.model_id[tstat_fstat_df.bic == np.min(tstat_fstat_df.bic)].values[0])\n"
   ]
  },
  {
   "cell_type": "code",
   "execution_count": null,
   "id": "f0476530",
   "metadata": {},
   "outputs": [],
   "source": [
    "print('Best fe_cpe_pval model: ',tstat_fstat_df.model_id[tstat_fstat_df.fe_cpe_pval == np.min(tstat_fstat_df.fe_cpe_pval)].values[0])\n"
   ]
  },
  {
   "cell_type": "code",
   "execution_count": null,
   "id": "3741a435",
   "metadata": {},
   "outputs": [],
   "source": [
    "print('Best rsq model: ',tstat_fstat_df.model_id[tstat_fstat_df.rsq == np.max(tstat_fstat_df.rsq)].values[0])\n"
   ]
  },
  {
   "cell_type": "code",
   "execution_count": null,
   "id": "668e599d",
   "metadata": {},
   "outputs": [],
   "source": [
    "print('Best ttest pval: ',tstat_fstat_df.model_id[tstat_fstat_df.ttest_fe_pval == \n",
    "                                                  np.min(tstat_fstat_df.ttest_fe_pval)].values[0])\n"
   ]
  },
  {
   "cell_type": "code",
   "execution_count": null,
   "id": "ec357e18",
   "metadata": {},
   "outputs": [],
   "source": [
    "print('Best tstat: ',tstat_fstat_df.model_id[tstat_fstat_df.ttest_fe_tval == \n",
    "                                                  np.max(tstat_fstat_df.ttest_fe_tval)].values[0])\n"
   ]
  },
  {
   "cell_type": "code",
   "execution_count": null,
   "id": "a6bca23e",
   "metadata": {},
   "outputs": [],
   "source": [
    "print('Best ftest pval: ',tstat_fstat_df.model_id[tstat_fstat_df.ftest_f_pval == \n",
    "                                                  np.min(tstat_fstat_df.ftest_f_pval)].values[0])"
   ]
  },
  {
   "cell_type": "code",
   "execution_count": null,
   "id": "ed161d39",
   "metadata": {},
   "outputs": [],
   "source": [
    "print('Best Fstat model: ',tstat_fstat_df.model_id[tstat_fstat_df.ftest_fvalue == \n",
    "                                                  np.max(tstat_fstat_df.ftest_fvalue)].values[0])"
   ]
  },
  {
   "cell_type": "code",
   "execution_count": null,
   "id": "03a98d05",
   "metadata": {},
   "outputs": [],
   "source": [
    "all_models_fe_data   = {}\n",
    "\n",
    "for key in all_models.keys():\n",
    "#     model_unique_elecs = all_models[key].random_effects.keys()\n",
    "    model_fe_params = {f'{param}':all_models[key].fe_params[param] for param in all_models[key].fe_params.index}\n",
    "    model_fe_params['model_id'] = key\n",
    "    all_models_fe_data[key] = model_fe_params\n",
    "\n"
   ]
  },
  {
   "cell_type": "code",
   "execution_count": null,
   "id": "8b980942",
   "metadata": {},
   "outputs": [],
   "source": [
    "all_models_fe_data"
   ]
  },
  {
   "cell_type": "code",
   "execution_count": null,
   "id": "d729b3ed",
   "metadata": {},
   "outputs": [],
   "source": [
    "model_plot_data = {}\n",
    "\n",
    "for key in all_models.keys():\n",
    "    fe_param_names = list(all_models[key].fe_params.index)\n",
    "    \n",
    "    plot_data = pd.concat([pd.DataFrame(\n",
    "    {**{'subj_id':elec_id.split('_')[0],'reref_ch_names':elec_id.split('_')[1]},'unique_reref_ch':elec_id,\n",
    "     **{f'raw_{param}':all_models[key].random_effects[elec_id][param] for param in list(\n",
    "            all_models[key].random_effects[elec_id].index)}},index=[range(len(fe_param_names))])\n",
    "    for elec_id in all_models[key].random_effects.keys()]).reset_index(drop=True)\n",
    "    \n",
    "    plot_data['roi'] = [reg_df.roi[reg_df.unique_reref_ch == row.unique_reref_ch].values[0]\n",
    "                                for idx,row in plot_data.iterrows()]\n",
    "\n",
    "    plot_data['bdi'] = [subj_info_df.bdi[subj_info_df.subj_id == subj_id].values[0]\n",
    "                                for subj_id in plot_data.subj_id]\n",
    "    model_plot_data[key] = plot_data\n",
    "\n"
   ]
  }
 ],
 "metadata": {
  "kernelspec": {
   "display_name": "lfp_env",
   "language": "python",
   "name": "lfp_env"
  },
  "language_info": {
   "codemirror_mode": {
    "name": "ipython",
    "version": 3
   },
   "file_extension": ".py",
   "mimetype": "text/x-python",
   "name": "python",
   "nbconvert_exporter": "python",
   "pygments_lexer": "ipython3",
   "version": "3.10.4"
  }
 },
 "nbformat": 4,
 "nbformat_minor": 5
}
