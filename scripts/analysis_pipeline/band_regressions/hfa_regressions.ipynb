{
 "cells": [
  {
   "cell_type": "markdown",
   "id": "58a19e33",
   "metadata": {},
   "source": [
    "# HFA Mixed Effects Models\n",
    "Created: 08/08/24 \\\n",
    "Updated: //2024 \\\n"
   ]
  },
  {
   "cell_type": "code",
   "execution_count": 1,
   "id": "a53ac954",
   "metadata": {},
   "outputs": [],
   "source": [
    "import numpy as np\n",
    "import mne\n",
    "from glob import glob\n",
    "import matplotlib.pyplot as plt\n",
    "from matplotlib.backends.backend_pdf import PdfPages\n",
    "import seaborn as sns\n",
    "from scipy.stats import zscore, linregress, ttest_ind, ttest_rel, ttest_1samp, pearsonr, spearmanr\n",
    "import pandas as pd\n",
    "from mne.preprocessing.bads import _find_outliers\n",
    "import os \n",
    "import joblib\n",
    "import re\n",
    "import datetime\n",
    "import scipy\n",
    "import random\n",
    "import statsmodels.api as sm\n",
    "import statsmodels.formula.api as smf\n",
    "from statsmodels.stats.outliers_influence import variance_inflation_factor\n",
    "from statsmodels.regression.mixed_linear_model import MixedLM \n",
    "from joblib import Parallel, delayed\n",
    "import pickle\n",
    "import itertools\n",
    "import time \n",
    "from matplotlib.ticker import StrMethodFormatter\n",
    "from matplotlib.colors import ListedColormap,LinearSegmentedColormap\n",
    "import matplotlib as mpl\n",
    "from matplotlib import cm\n",
    "\n",
    "\n",
    "\n",
    "import warnings\n",
    "warnings.filterwarnings('ignore')\n",
    "\n",
    "\n"
   ]
  },
  {
   "cell_type": "code",
   "execution_count": 2,
   "id": "e826d540",
   "metadata": {},
   "outputs": [],
   "source": [
    "%load_ext autoreload\n",
    "%autoreload 2"
   ]
  },
  {
   "cell_type": "code",
   "execution_count": 3,
   "id": "7cdeb07a",
   "metadata": {},
   "outputs": [
    {
     "name": "stdout",
     "output_type": "stream",
     "text": [
      "08082024\n"
     ]
    }
   ],
   "source": [
    "# Specify root directory for un-archived data and results \n",
    "base_dir   = '/sc/arion/projects/guLab/Alie/SWB/'\n",
    "anat_dir   = f'{base_dir}ephys_analysis/recon_labels/'\n",
    "neural_dir = f'{base_dir}ephys_analysis/data/'\n",
    "behav_dir  = f'{base_dir}swb_behav_models/data/behavior_preprocessed/'\n",
    "save_dir   = f'{base_dir}ephys_analysis/results/regression_data/'\n",
    "script_dir = '/hpc/users/finka03/swb_ephys_analysis/scripts/'\n",
    "\n",
    "date = datetime.date.today().strftime('%m%d%Y')\n",
    "print(date)"
   ]
  },
  {
   "cell_type": "code",
   "execution_count": 4,
   "id": "56649f93",
   "metadata": {},
   "outputs": [],
   "source": [
    "import sys\n",
    "sys.path.append(f'{base_dir}ephys_analysis/LFPAnalysis/')\n",
    "\n",
    "from LFPAnalysis import analysis_utils\n",
    "\n",
    "sys.path.append(f'{script_dir}analysis_notebooks/')\n",
    "\n",
    "from ieeg_tools import *"
   ]
  },
  {
   "cell_type": "code",
   "execution_count": 5,
   "id": "80e6cdea",
   "metadata": {},
   "outputs": [],
   "source": [
    "subj_ids = list(pd.read_excel(f'{base_dir}ephys_analysis/subj_info/SWB_subjects.xlsx', sheet_name='Usable_Subjects', usecols=[0]).PatientID)\n",
    "n_subj = len(subj_ids)\n",
    "# subj_ids\n"
   ]
  },
  {
   "cell_type": "code",
   "execution_count": 6,
   "id": "5d12e57a",
   "metadata": {},
   "outputs": [
    {
     "data": {
      "text/html": [
       "<div>\n",
       "<style scoped>\n",
       "    .dataframe tbody tr th:only-of-type {\n",
       "        vertical-align: middle;\n",
       "    }\n",
       "\n",
       "    .dataframe tbody tr th {\n",
       "        vertical-align: top;\n",
       "    }\n",
       "\n",
       "    .dataframe thead th {\n",
       "        text-align: right;\n",
       "    }\n",
       "</style>\n",
       "<table border=\"1\" class=\"dataframe\">\n",
       "  <thead>\n",
       "    <tr style=\"text-align: right;\">\n",
       "      <th></th>\n",
       "      <th>subj_id</th>\n",
       "      <th>bdi</th>\n",
       "    </tr>\n",
       "  </thead>\n",
       "  <tbody>\n",
       "    <tr>\n",
       "      <th>0</th>\n",
       "      <td>MS002</td>\n",
       "      <td>14</td>\n",
       "    </tr>\n",
       "    <tr>\n",
       "      <th>1</th>\n",
       "      <td>MS003</td>\n",
       "      <td>8</td>\n",
       "    </tr>\n",
       "    <tr>\n",
       "      <th>2</th>\n",
       "      <td>MS009</td>\n",
       "      <td>16</td>\n",
       "    </tr>\n",
       "    <tr>\n",
       "      <th>3</th>\n",
       "      <td>MS011</td>\n",
       "      <td>13</td>\n",
       "    </tr>\n",
       "    <tr>\n",
       "      <th>4</th>\n",
       "      <td>MS015</td>\n",
       "      <td>26</td>\n",
       "    </tr>\n",
       "    <tr>\n",
       "      <th>5</th>\n",
       "      <td>MS016</td>\n",
       "      <td>10</td>\n",
       "    </tr>\n",
       "    <tr>\n",
       "      <th>6</th>\n",
       "      <td>MS017</td>\n",
       "      <td>26</td>\n",
       "    </tr>\n",
       "    <tr>\n",
       "      <th>7</th>\n",
       "      <td>MS019</td>\n",
       "      <td>12</td>\n",
       "    </tr>\n",
       "    <tr>\n",
       "      <th>8</th>\n",
       "      <td>MS022</td>\n",
       "      <td>10</td>\n",
       "    </tr>\n",
       "    <tr>\n",
       "      <th>9</th>\n",
       "      <td>MS024</td>\n",
       "      <td>16</td>\n",
       "    </tr>\n",
       "    <tr>\n",
       "      <th>10</th>\n",
       "      <td>MS025</td>\n",
       "      <td>10</td>\n",
       "    </tr>\n",
       "    <tr>\n",
       "      <th>11</th>\n",
       "      <td>MS026</td>\n",
       "      <td>9</td>\n",
       "    </tr>\n",
       "    <tr>\n",
       "      <th>12</th>\n",
       "      <td>MS027</td>\n",
       "      <td>22</td>\n",
       "    </tr>\n",
       "    <tr>\n",
       "      <th>13</th>\n",
       "      <td>MS028</td>\n",
       "      <td>13</td>\n",
       "    </tr>\n",
       "    <tr>\n",
       "      <th>14</th>\n",
       "      <td>MS029</td>\n",
       "      <td>32</td>\n",
       "    </tr>\n",
       "    <tr>\n",
       "      <th>15</th>\n",
       "      <td>MS030</td>\n",
       "      <td>19</td>\n",
       "    </tr>\n",
       "    <tr>\n",
       "      <th>16</th>\n",
       "      <td>MS033</td>\n",
       "      <td>39</td>\n",
       "    </tr>\n",
       "    <tr>\n",
       "      <th>17</th>\n",
       "      <td>MS035</td>\n",
       "      <td>15</td>\n",
       "    </tr>\n",
       "    <tr>\n",
       "      <th>18</th>\n",
       "      <td>MS041</td>\n",
       "      <td>10</td>\n",
       "    </tr>\n",
       "    <tr>\n",
       "      <th>19</th>\n",
       "      <td>MS043</td>\n",
       "      <td>23</td>\n",
       "    </tr>\n",
       "    <tr>\n",
       "      <th>20</th>\n",
       "      <td>MS048</td>\n",
       "      <td>19</td>\n",
       "    </tr>\n",
       "    <tr>\n",
       "      <th>21</th>\n",
       "      <td>MS050</td>\n",
       "      <td>9</td>\n",
       "    </tr>\n",
       "    <tr>\n",
       "      <th>22</th>\n",
       "      <td>DA8</td>\n",
       "      <td>13</td>\n",
       "    </tr>\n",
       "    <tr>\n",
       "      <th>23</th>\n",
       "      <td>DA023</td>\n",
       "      <td>14</td>\n",
       "    </tr>\n",
       "    <tr>\n",
       "      <th>24</th>\n",
       "      <td>DA026</td>\n",
       "      <td>19</td>\n",
       "    </tr>\n",
       "    <tr>\n",
       "      <th>25</th>\n",
       "      <td>DA037</td>\n",
       "      <td>4</td>\n",
       "    </tr>\n",
       "    <tr>\n",
       "      <th>26</th>\n",
       "      <td>DA039</td>\n",
       "      <td>22</td>\n",
       "    </tr>\n",
       "  </tbody>\n",
       "</table>\n",
       "</div>"
      ],
      "text/plain": [
       "   subj_id  bdi\n",
       "0    MS002   14\n",
       "1    MS003    8\n",
       "2    MS009   16\n",
       "3    MS011   13\n",
       "4    MS015   26\n",
       "5    MS016   10\n",
       "6    MS017   26\n",
       "7    MS019   12\n",
       "8    MS022   10\n",
       "9    MS024   16\n",
       "10   MS025   10\n",
       "11   MS026    9\n",
       "12   MS027   22\n",
       "13   MS028   13\n",
       "14   MS029   32\n",
       "15   MS030   19\n",
       "16   MS033   39\n",
       "17   MS035   15\n",
       "18   MS041   10\n",
       "19   MS043   23\n",
       "20   MS048   19\n",
       "21   MS050    9\n",
       "22     DA8   13\n",
       "23   DA023   14\n",
       "24   DA026   19\n",
       "25   DA037    4\n",
       "26   DA039   22"
      ]
     },
     "execution_count": 6,
     "metadata": {},
     "output_type": "execute_result"
    }
   ],
   "source": [
    "bdi_list = pd.read_excel(f'{base_dir}ephys_analysis/subj_info/SWB_subjects.xlsx', sheet_name='Usable_Subjects', usecols=[3])\n",
    "bdi_list = list(bdi_list.SWB_BDI)\n",
    "subj_info_df = pd.DataFrame({'subj_id':subj_ids,'bdi':bdi_list})\n",
    "subj_info_df\n",
    "\n"
   ]
  },
  {
   "cell_type": "code",
   "execution_count": 7,
   "id": "268ae3c0",
   "metadata": {},
   "outputs": [],
   "source": [
    "#### set theme for all plots\n",
    "# %matplotlib inline\n",
    "# from matplotlib import rc\n",
    "# rc('text', usetex=False)\n",
    "\n",
    "sns.set_theme(style='ticks') \n",
    "sns.set_context(\"poster\")\n",
    "\n"
   ]
  },
  {
   "cell_type": "code",
   "execution_count": 9,
   "id": "a8d55d85",
   "metadata": {},
   "outputs": [],
   "source": [
    "from matplotlib.colors import ListedColormap,LinearSegmentedColormap\n",
    "import matplotlib as mpl\n",
    "from matplotlib import cm\n",
    "\n",
    "\n",
    "# saez_cmap colors = org,yellow, sagegreen, darker green, blue, purple \n",
    "\n",
    "# 671351\n",
    "saez_colors    = ['#ffb243','#FCE27C','#6a9752','#1d5d2a','#00467e','#561C46']\n",
    "saez_hex_cmap  = ListedColormap(saez_colors)\n",
    "saez_rgb       = [mpl.colors.to_rgb(hex) for hex in saez_colors]\n",
    "saez_full_cmap = LinearSegmentedColormap.from_list('saez_full_cmap',saez_rgb,N=10)\n",
    "#plot_palette = saez_linear_cmap.resampled(lutsize=30)\n",
    "expanded_cmap  = [mpl.colors.rgb2hex(saez_full_cmap(c)[:3]) for c in range(saez_full_cmap.N)]\n"
   ]
  },
  {
   "cell_type": "code",
   "execution_count": 10,
   "id": "f8253f35",
   "metadata": {},
   "outputs": [
    {
     "data": {
      "image/png": "[encoded data removed]",
      "text/html": [
       "<div style=\"vertical-align: middle;\"><strong>saez_full_cmap</strong> </div><div class=\"cmap\"><img alt=\"saez_full_cmap colormap\" title=\"saez_full_cmap\" style=\"border: 1px solid #555;\" src=\"data:image/png;base64,iVBORw0KGgoAAAANSUhEUgAAAgAAAABACAYAAABsv8+/AAAAHXRFWHRUaXRsZQBzYWV6X2Z1bGxfY21hcCBjb2xvcm1hcL+a5QQAAAAjdEVYdERlc2NyaXB0aW9uAHNhZXpfZnVsbF9jbWFwIGNvbG9ybWFwubEA9QAAADB0RVh0QXV0aG9yAE1hdHBsb3RsaWIgdjMuOC4yLCBodHRwczovL21hdHBsb3RsaWIub3JnDxXeEgAAADJ0RVh0U29mdHdhcmUATWF0cGxvdGxpYiB2My44LjIsIGh0dHBzOi8vbWF0cGxvdGxpYi5vcmchs0E1AAABdklEQVR4nO3WsUmDUQCFUbVPJTY2KTKA7uDAAQdwDIU0IYVFMASDvXGJhw/+75wJ7u2+2+vry/VmQX4f17MnDHNePcyeMMz24zh7wjBvu+V8ed8v58vn6X72hGG+f55mTxhm83WZPWGY5+Nh9oSh7mYPAAD+nwAAgCABAABBAgAAggQAAAQJAAAIEgAAECQAACBIAABAkAAAgCABAABBAgAAggQAAAQJAAAIEgAAECQAACBIAABAkAAAgCABAABBAgAAggQAAAQJAAAIEgAAECQAACBIAABAkAAAgCABAABBAgAAggQAAAQJAAAIEgAAECQAACBIAABAkAAAgCABAABBAgAAggQAAAQJAAAIEgAAECQAACBIAABAkAAAgCABAABBAgAAggQAAAQJAAAIEgAAECQAACBIAABAkAAAgCABAABBAgAAggQAAAQJAAAIEgAAECQAACBIAABAkAAAgCABAABBAgAAggQAAAQJAAAIEgAAEPQH3iAVN3GnBgsAAAAASUVORK5CYII=\"></div><div style=\"vertical-align: middle; max-width: 514px; display: flex; justify-content: space-between;\"><div style=\"float: left;\"><div title=\"#ffb243ff\" style=\"display: inline-block; width: 1em; height: 1em; margin: 0; vertical-align: middle; border: 1px solid #555; background-color: #ffb243ff;\"></div> under</div><div style=\"margin: 0 auto; display: inline-block;\">bad <div title=\"#00000000\" style=\"display: inline-block; width: 1em; height: 1em; margin: 0; vertical-align: middle; border: 1px solid #555; background-color: #00000000;\"></div></div><div style=\"float: right;\">over <div title=\"#561c46ff\" style=\"display: inline-block; width: 1em; height: 1em; margin: 0; vertical-align: middle; border: 1px solid #555; background-color: #561c46ff;\"></div></div>"
      ],
      "text/plain": [
       "<matplotlib.colors.LinearSegmentedColormap at 0x2af3a0993fa0>"
      ]
     },
     "execution_count": 10,
     "metadata": {},
     "output_type": "execute_result"
    }
   ],
   "source": [
    "saez_full_cmap"
   ]
  },
  {
   "cell_type": "markdown",
   "id": "0b76da87",
   "metadata": {},
   "source": [
    "# Load Regression DF"
   ]
  },
  {
   "cell_type": "code",
   "execution_count": 11,
   "id": "8a4551ed",
   "metadata": {},
   "outputs": [],
   "source": [
    "band = 'hfa'"
   ]
  },
  {
   "cell_type": "code",
   "execution_count": 12,
   "id": "83718196",
   "metadata": {},
   "outputs": [
    {
     "data": {
      "text/plain": [
       "array(['MS002', 'MS003', 'MS009', 'MS011', 'MS015', 'MS016', 'MS017',\n",
       "       'MS019', 'MS022', 'MS024', 'MS025', 'MS026', 'MS027', 'MS028',\n",
       "       'MS029', 'MS030', 'MS033', 'MS035', 'MS041', 'MS043', 'MS048',\n",
       "       'MS050', 'DA8', 'DA023', 'DA026', 'DA037', 'DA039'], dtype=object)"
      ]
     },
     "execution_count": 12,
     "metadata": {},
     "output_type": "execute_result"
    }
   ],
   "source": [
    "band_df = pd.read_csv(f'{save_dir}{band}_master_df.csv')\n",
    "band_df.subj_id.unique()"
   ]
  },
  {
   "cell_type": "code",
   "execution_count": 13,
   "id": "95fc6641",
   "metadata": {},
   "outputs": [],
   "source": [
    "roi_reref_labels_master_df = pd.read_csv(glob(f'{base_dir}ephys_analysis/results/roi_info/roi_reref_labels_master.csv')[0])\n",
    "roi_reref_labels_master_df = roi_reref_labels_master_df.drop(columns=['Unnamed: 0'])\n",
    "\n",
    "\n"
   ]
  },
  {
   "cell_type": "code",
   "execution_count": 14,
   "id": "911c782f",
   "metadata": {},
   "outputs": [
    {
     "data": {
      "text/plain": [
       "dmpfc            216\n",
       "ofc              202\n",
       "acc              193\n",
       "sts              155\n",
       "hpc              135\n",
       "amy              113\n",
       "dlpfc            107\n",
       "stg              105\n",
       "vlpfc             82\n",
       "ains              71\n",
       "smg               66\n",
       "pins              60\n",
       "thalamus          58\n",
       "mtg               57\n",
       "temporal pole     31\n",
       "mcc               28\n",
       "motor             25\n",
       "phg               25\n",
       "parietal          24\n",
       "vmpfc             23\n",
       "fusiform          19\n",
       "occipital         19\n",
       "itg               15\n",
       "angular           14\n",
       "somat             11\n",
       "premotor           9\n",
       "caudate            8\n",
       "pcc                1\n",
       "Name: roi, dtype: int64"
      ]
     },
     "execution_count": 14,
     "metadata": {},
     "output_type": "execute_result"
    }
   ],
   "source": [
    "roi_reref_labels_master_df.roi.value_counts()"
   ]
  },
  {
   "cell_type": "code",
   "execution_count": null,
   "id": "09b7d682",
   "metadata": {},
   "outputs": [],
   "source": []
  },
  {
   "cell_type": "code",
   "execution_count": 15,
   "id": "0a83a574",
   "metadata": {},
   "outputs": [
    {
     "data": {
      "text/plain": [
       "['dmpfc',\n",
       " 'ofc',\n",
       " 'acc',\n",
       " 'sts',\n",
       " 'hpc',\n",
       " 'amy',\n",
       " 'dlpfc',\n",
       " 'stg',\n",
       " 'vlpfc',\n",
       " 'ains',\n",
       " 'smg',\n",
       " 'pins',\n",
       " 'thalamus',\n",
       " 'mtg',\n",
       " 'temporal pole',\n",
       " 'mcc',\n",
       " 'motor',\n",
       " 'phg',\n",
       " 'parietal',\n",
       " 'vmpfc']"
      ]
     },
     "execution_count": 15,
     "metadata": {},
     "output_type": "execute_result"
    }
   ],
   "source": [
    "#### filter df by rois with electrode counts >= 50 *** updated to >15\n",
    "keep_rois = roi_reref_labels_master_df.roi.value_counts().index[roi_reref_labels_master_df.roi.value_counts(\n",
    ").values>=20].tolist()\n",
    "\n",
    "# keep_rois = roi_reref_labels_master_df.roi.value_counts().index[\n",
    "#     roi_reref_labels_master_df.roi.value_counts().values>=50].tolist()\n",
    "# keep_rois = ['dlpfc','vlpfc','dmpfc','ofc','ains','pins','acc','hpc','amy','mtg']     \n",
    "keep_rois\n"
   ]
  },
  {
   "cell_type": "code",
   "execution_count": 16,
   "id": "b070b09c",
   "metadata": {},
   "outputs": [
    {
     "data": {
      "text/plain": [
       "244136"
      ]
     },
     "execution_count": 16,
     "metadata": {},
     "output_type": "execute_result"
    }
   ],
   "source": [
    "####### NEW DATA FRAME \n",
    "reg_df = band_df.copy()\n",
    "reg_df = reg_df[reg_df.roi.isin(keep_rois)]\n",
    "len(reg_df)"
   ]
  },
  {
   "cell_type": "code",
   "execution_count": 17,
   "id": "83064f7f",
   "metadata": {
    "scrolled": true
   },
   "outputs": [
    {
     "data": {
      "text/plain": [
       "4.111088307352885"
      ]
     },
     "execution_count": 17,
     "metadata": {},
     "output_type": "execute_result"
    }
   ],
   "source": [
    "np.max(reg_df.band_pow)"
   ]
  },
  {
   "cell_type": "code",
   "execution_count": 18,
   "id": "b1f52041",
   "metadata": {},
   "outputs": [
    {
     "data": {
      "text/plain": [
       "-0.948025564176362"
      ]
     },
     "execution_count": 18,
     "metadata": {},
     "output_type": "execute_result"
    }
   ],
   "source": [
    "np.min(reg_df.band_pow)"
   ]
  },
  {
   "cell_type": "markdown",
   "id": "b10cafdd",
   "metadata": {},
   "source": [
    "# POW ~ Outcome Vars Regressions"
   ]
  },
  {
   "cell_type": "code",
   "execution_count": 19,
   "id": "709a65f9",
   "metadata": {},
   "outputs": [],
   "source": [
    "outcome_var  = 'band_pow'\n",
    "rand_eff_var = 'unique_reref_ch'"
   ]
  },
  {
   "cell_type": "code",
   "execution_count": 20,
   "id": "1ee247bf",
   "metadata": {},
   "outputs": [
    {
     "name": "stdout",
     "output_type": "stream",
     "text": [
      "               Mixed Linear Model Regression Results\n",
      "===================================================================\n",
      "Model:                MixedLM    Dependent Variable:    band_pow   \n",
      "No. Observations:     244112     Method:                ML         \n",
      "No. Groups:           1776       Scale:                 0.0205     \n",
      "Min. group size:      65         Log-Likelihood:        124965.5001\n",
      "Max. group size:      148        Converged:             Yes        \n",
      "Mean group size:      137.5                                        \n",
      "-------------------------------------------------------------------\n",
      "                        Coef.  Std.Err.    z    P>|z| [0.025 0.975]\n",
      "-------------------------------------------------------------------\n",
      "Intercept               -0.017    0.001 -11.038 0.000 -0.019 -0.014\n",
      "decisionCPE              0.003    0.001   4.767 0.000  0.002  0.004\n",
      "Group Var                0.004    0.001                            \n",
      "Group x decisionCPE Cov -0.000    0.000                            \n",
      "decisionCPE Var          0.000    0.000                            \n",
      "===================================================================\n",
      "\n"
     ]
    },
    {
     "data": {
      "text/plain": [
       "-249856.56792628395"
      ]
     },
     "execution_count": 20,
     "metadata": {},
     "output_type": "execute_result"
    }
   ],
   "source": [
    "final_vars   = ['decisionCPE']\n",
    "final_fit = fit_mixed_model(reg_df,final_vars,outcome_var,rand_eff_var,reml=False)\n",
    "print(final_fit.summary())\n",
    "final_fit.bic  "
   ]
  },
  {
   "cell_type": "code",
   "execution_count": 21,
   "id": "2efd153c",
   "metadata": {},
   "outputs": [
    {
     "name": "stdout",
     "output_type": "stream",
     "text": [
      "               Mixed Linear Model Regression Results\n",
      "===================================================================\n",
      "Model:                MixedLM    Dependent Variable:    band_pow   \n",
      "No. Observations:     244112     Method:                ML         \n",
      "No. Groups:           1776       Scale:                 0.0205     \n",
      "Min. group size:      65         Log-Likelihood:        124986.3291\n",
      "Max. group size:      148        Converged:             Yes        \n",
      "Mean group size:      137.5                                        \n",
      "-------------------------------------------------------------------\n",
      "                        Coef.  Std.Err.    z    P>|z| [0.025 0.975]\n",
      "-------------------------------------------------------------------\n",
      "Intercept               -0.017    0.001 -11.038 0.000 -0.019 -0.014\n",
      "RPE                      0.000    0.001   0.325 0.745 -0.001  0.002\n",
      "decisionCPE              0.003    0.001   3.447 0.001  0.001  0.004\n",
      "Group Var                0.004    0.001                            \n",
      "Group x RPE Cov         -0.000    0.000                            \n",
      "RPE Var                  0.000    0.000                            \n",
      "Group x decisionCPE Cov -0.000    0.000                            \n",
      "RPE x decisionCPE Cov    0.000    0.000                            \n",
      "decisionCPE Var          0.000    0.000                            \n",
      "===================================================================\n",
      "\n"
     ]
    },
    {
     "data": {
      "text/plain": [
       "-249848.6044250971"
      ]
     },
     "execution_count": 21,
     "metadata": {},
     "output_type": "execute_result"
    }
   ],
   "source": [
    "final_vars   = ['RPE','decisionCPE']\n",
    "final_fit = fit_mixed_model(reg_df,final_vars,outcome_var,rand_eff_var,reml=False)\n",
    "print(final_fit.summary())\n",
    "final_fit.bic  "
   ]
  },
  {
   "cell_type": "code",
   "execution_count": 22,
   "id": "1955df2f",
   "metadata": {},
   "outputs": [
    {
     "name": "stdout",
     "output_type": "stream",
     "text": [
      "                Mixed Linear Model Regression Results\n",
      "=====================================================================\n",
      "Model:                MixedLM     Dependent Variable:     band_pow   \n",
      "No. Observations:     244112      Method:                 ML         \n",
      "No. Groups:           1776        Scale:                  0.0205     \n",
      "Min. group size:      65          Log-Likelihood:         125007.4839\n",
      "Max. group size:      148         Converged:              Yes        \n",
      "Mean group size:      137.5                                          \n",
      "---------------------------------------------------------------------\n",
      "                          Coef.  Std.Err.    z    P>|z| [0.025 0.975]\n",
      "---------------------------------------------------------------------\n",
      "Intercept                 -0.017    0.001 -11.040 0.000 -0.019 -0.014\n",
      "TrialEV                    0.000    0.001   0.508 0.612 -0.001  0.002\n",
      "RPE                        0.000    0.001   0.346 0.730 -0.001  0.002\n",
      "decisionCPE                0.003    0.001   3.337 0.001  0.001  0.004\n",
      "Group Var                  0.004    0.001                            \n",
      "Group x TrialEV Cov       -0.000    0.000                            \n",
      "TrialEV Var                0.000    0.000                            \n",
      "Group x RPE Cov           -0.000    0.000                            \n",
      "TrialEV x RPE Cov          0.000    0.000                            \n",
      "RPE Var                    0.000    0.000                            \n",
      "Group x decisionCPE Cov   -0.000    0.000                            \n",
      "TrialEV x decisionCPE Cov -0.000    0.000                            \n",
      "RPE x decisionCPE Cov      0.000    0.000                            \n",
      "decisionCPE Var            0.000    0.000                            \n",
      "=====================================================================\n",
      "\n"
     ]
    },
    {
     "data": {
      "text/plain": [
       "-249828.8870830534"
      ]
     },
     "execution_count": 22,
     "metadata": {},
     "output_type": "execute_result"
    }
   ],
   "source": [
    "final_vars   = ['TrialEV','RPE','decisionCPE']\n",
    "final_fit = fit_mixed_model(reg_df,final_vars,outcome_var,rand_eff_var,reml=False)\n",
    "print(final_fit.summary())\n",
    "final_fit.bic  "
   ]
  },
  {
   "cell_type": "code",
   "execution_count": 23,
   "id": "a0e7453d",
   "metadata": {},
   "outputs": [
    {
     "name": "stdout",
     "output_type": "stream",
     "text": [
      "                        Mixed Linear Model Regression Results\n",
      "=====================================================================================\n",
      "Model:                      MixedLM          Dependent Variable:          band_pow   \n",
      "No. Observations:           244112           Method:                      ML         \n",
      "No. Groups:                 1776             Scale:                       0.0195     \n",
      "Min. group size:            65               Log-Likelihood:              128992.4001\n",
      "Max. group size:            148              Converged:                   Yes        \n",
      "Mean group size:            137.5                                                    \n",
      "-------------------------------------------------------------------------------------\n",
      "                                          Coef.  Std.Err.    z    P>|z| [0.025 0.975]\n",
      "-------------------------------------------------------------------------------------\n",
      "Intercept                                 -0.018    0.002 -11.282 0.000 -0.021 -0.015\n",
      "C(GambleChoice)[T.safe]                    0.003    0.001   3.810 0.000  0.002  0.005\n",
      "TotalProfit                               -0.009    0.002  -5.926 0.000 -0.012 -0.006\n",
      "decisionCPE                                0.003    0.001   5.757 0.000  0.002  0.005\n",
      "Group Var                                  0.004    0.001                            \n",
      "Group x C(GambleChoice)[T.safe] Cov       -0.000    0.000                            \n",
      "C(GambleChoice)[T.safe] Var                0.001    0.000                            \n",
      "Group x TotalProfit Cov                    0.000    0.001                            \n",
      "C(GambleChoice)[T.safe] x TotalProfit Cov -0.000    0.000                            \n",
      "TotalProfit Var                            0.004    0.001                            \n",
      "Group x decisionCPE Cov                   -0.000    0.000                            \n",
      "C(GambleChoice)[T.safe] x decisionCPE Cov  0.000    0.000                            \n",
      "TotalProfit x decisionCPE Cov             -0.000    0.000                            \n",
      "decisionCPE Var                            0.000    0.000                            \n",
      "=====================================================================================\n",
      "\n"
     ]
    },
    {
     "data": {
      "text/plain": [
       "-257798.71952021663"
      ]
     },
     "execution_count": 23,
     "metadata": {},
     "output_type": "execute_result"
    }
   ],
   "source": [
    "final_vars   = ['C(GambleChoice)', 'TotalProfit', 'decisionCPE']\n",
    "final_fit = fit_mixed_model(reg_df,final_vars,outcome_var,rand_eff_var,reml=False)\n",
    "print(final_fit.summary())\n",
    "final_fit.bic  "
   ]
  },
  {
   "cell_type": "code",
   "execution_count": 24,
   "id": "867371b4",
   "metadata": {},
   "outputs": [
    {
     "name": "stdout",
     "output_type": "stream",
     "text": [
      "                          Mixed Linear Model Regression Results\n",
      "=========================================================================================\n",
      "Model:                        MixedLM           Dependent Variable:           band_pow   \n",
      "No. Observations:             244112            Method:                       ML         \n",
      "No. Groups:                   1776              Scale:                        0.0195     \n",
      "Min. group size:              65                Log-Likelihood:               128907.6179\n",
      "Max. group size:              148               Converged:                    Yes        \n",
      "Mean group size:              137.5                                                      \n",
      "-----------------------------------------------------------------------------------------\n",
      "                                               Coef.  Std.Err.   z    P>|z| [0.025 0.975]\n",
      "-----------------------------------------------------------------------------------------\n",
      "Intercept                                      -0.015    0.002 -9.631 0.000 -0.018 -0.012\n",
      "C(TrialType)[T.loss]                           -0.003    0.001 -2.500 0.012 -0.005 -0.001\n",
      "C(TrialType)[T.mix]                            -0.002    0.001 -2.378 0.017 -0.003 -0.000\n",
      "TrialEV                                        -0.001    0.001 -0.937 0.349 -0.002  0.001\n",
      "TotalProfit                                    -0.009    0.002 -6.073 0.000 -0.012 -0.006\n",
      "decisionCPE                                     0.003    0.001  5.737 0.000  0.002  0.005\n",
      "Group Var                                       0.004    0.001                           \n",
      "Group x C(TrialType)[T.loss] Cov               -0.000    0.001                           \n",
      "C(TrialType)[T.loss] Var                        0.001    0.000                           \n",
      "Group x C(TrialType)[T.mix] Cov                -0.000    0.000                           \n",
      "C(TrialType)[T.loss] x C(TrialType)[T.mix] Cov  0.000    0.000                           \n",
      "C(TrialType)[T.mix] Var                         0.000    0.000                           \n",
      "Group x TrialEV Cov                            -0.000    0.000                           \n",
      "C(TrialType)[T.loss] x TrialEV Cov              0.000    0.000                           \n",
      "C(TrialType)[T.mix] x TrialEV Cov               0.000    0.000                           \n",
      "TrialEV Var                                     0.000    0.000                           \n",
      "Group x TotalProfit Cov                        -0.000    0.001                           \n",
      "C(TrialType)[T.loss] x TotalProfit Cov          0.000    0.000                           \n",
      "C(TrialType)[T.mix] x TotalProfit Cov          -0.000    0.000                           \n",
      "TrialEV x TotalProfit Cov                       0.000    0.000                           \n",
      "TotalProfit Var                                 0.004    0.001                           \n",
      "Group x decisionCPE Cov                        -0.000    0.000                           \n",
      "C(TrialType)[T.loss] x decisionCPE Cov         -0.000    0.000                           \n",
      "C(TrialType)[T.mix] x decisionCPE Cov           0.000    0.000                           \n",
      "TrialEV x decisionCPE Cov                      -0.000    0.000                           \n",
      "TotalProfit x decisionCPE Cov                   0.000    0.000                           \n",
      "decisionCPE Var                                 0.000    0.000                           \n",
      "=========================================================================================\n",
      "\n"
     ]
    },
    {
     "data": {
      "text/plain": [
       "-257467.88502797886"
      ]
     },
     "execution_count": 24,
     "metadata": {},
     "output_type": "execute_result"
    }
   ],
   "source": [
    "final_vars   = ['C(TrialType)','TrialEV', 'TotalProfit', 'decisionCPE']\n",
    "final_fit = fit_mixed_model(reg_df,final_vars,outcome_var,rand_eff_var,reml=False)\n",
    "print(final_fit.summary())\n",
    "final_fit.bic    "
   ]
  },
  {
   "cell_type": "code",
   "execution_count": 25,
   "id": "9cfa698e",
   "metadata": {
    "scrolled": false
   },
   "outputs": [
    {
     "name": "stdout",
     "output_type": "stream",
     "text": [
      "                        Mixed Linear Model Regression Results\n",
      "=====================================================================================\n",
      "Model:                      MixedLM          Dependent Variable:          band_pow   \n",
      "No. Observations:           244112           Method:                      ML         \n",
      "No. Groups:                 1776             Scale:                       0.0195     \n",
      "Min. group size:            65               Log-Likelihood:              129004.5767\n",
      "Max. group size:            148              Converged:                   Yes        \n",
      "Mean group size:            137.5                                                    \n",
      "-------------------------------------------------------------------------------------\n",
      "                                          Coef.  Std.Err.    z    P>|z| [0.025 0.975]\n",
      "-------------------------------------------------------------------------------------\n",
      "Intercept                                 -0.018    0.002 -11.395 0.000 -0.021 -0.015\n",
      "C(GambleChoice)[T.safe]                    0.004    0.001   4.338 0.000  0.002  0.005\n",
      "TrialEV                                    0.001    0.001   2.416 0.016  0.000  0.003\n",
      "TotalProfit                               -0.009    0.002  -5.984 0.000 -0.012 -0.006\n",
      "decisionCPE                                0.003    0.001   5.680 0.000  0.002  0.005\n",
      "Group Var                                  0.004    0.001                            \n",
      "Group x C(GambleChoice)[T.safe] Cov       -0.000    0.000                            \n",
      "C(GambleChoice)[T.safe] Var                0.001    0.000                            \n",
      "Group x TrialEV Cov                       -0.000    0.000                            \n",
      "C(GambleChoice)[T.safe] x TrialEV Cov     -0.000    0.000                            \n",
      "TrialEV Var                                0.000    0.000                            \n",
      "Group x TotalProfit Cov                    0.000    0.001                            \n",
      "C(GambleChoice)[T.safe] x TotalProfit Cov -0.000    0.000                            \n",
      "TrialEV x TotalProfit Cov                  0.000    0.000                            \n",
      "TotalProfit Var                            0.004    0.001                            \n",
      "Group x decisionCPE Cov                   -0.000    0.000                            \n",
      "C(GambleChoice)[T.safe] x decisionCPE Cov  0.000    0.000                            \n",
      "TrialEV x decisionCPE Cov                 -0.000    0.000                            \n",
      "TotalProfit x decisionCPE Cov             -0.000    0.000                            \n",
      "decisionCPE Var                            0.000    0.000                            \n",
      "=====================================================================================\n",
      "\n"
     ]
    },
    {
     "data": {
      "text/plain": [
       "-257748.64046136508"
      ]
     },
     "execution_count": 25,
     "metadata": {},
     "output_type": "execute_result"
    }
   ],
   "source": [
    "final_vars   = ['C(GambleChoice)', 'TrialEV','TotalProfit', 'decisionCPE']\n",
    "final_fit = fit_mixed_model(reg_df,final_vars,outcome_var,rand_eff_var,reml=False)\n",
    "print(final_fit.summary())\n",
    "final_fit.bic  "
   ]
  },
  {
   "cell_type": "code",
   "execution_count": 26,
   "id": "63284933",
   "metadata": {},
   "outputs": [
    {
     "name": "stdout",
     "output_type": "stream",
     "text": [
      "                        Mixed Linear Model Regression Results\n",
      "=====================================================================================\n",
      "Model:                      MixedLM          Dependent Variable:          band_pow   \n",
      "No. Observations:           244112           Method:                      ML         \n",
      "No. Groups:                 1776             Scale:                       0.0204     \n",
      "Min. group size:            65               Log-Likelihood:              125218.0958\n",
      "Max. group size:            148              Converged:                   Yes        \n",
      "Mean group size:            137.5                                                    \n",
      "-------------------------------------------------------------------------------------\n",
      "                                          Coef.  Std.Err.    z    P>|z| [0.025 0.975]\n",
      "-------------------------------------------------------------------------------------\n",
      "Intercept                                 -0.018    0.002 -11.363 0.000 -0.021 -0.015\n",
      "C(GambleChoice)[T.safe]                    0.004    0.001   4.330 0.000  0.002  0.005\n",
      "TrialEV                                    0.001    0.001   2.364 0.018  0.000  0.003\n",
      "decisionCPE                                0.003    0.001   4.547 0.000  0.002  0.004\n",
      "Group Var                                  0.004    0.001                            \n",
      "Group x C(GambleChoice)[T.safe] Cov       -0.000    0.000                            \n",
      "C(GambleChoice)[T.safe] Var                0.001    0.000                            \n",
      "Group x TrialEV Cov                       -0.000    0.000                            \n",
      "C(GambleChoice)[T.safe] x TrialEV Cov     -0.000    0.000                            \n",
      "TrialEV Var                                0.000    0.000                            \n",
      "Group x decisionCPE Cov                   -0.000    0.000                            \n",
      "C(GambleChoice)[T.safe] x decisionCPE Cov  0.000    0.000                            \n",
      "TrialEV x decisionCPE Cov                 -0.000    0.000                            \n",
      "decisionCPE Var                            0.000    0.000                            \n",
      "=====================================================================================\n",
      "\n"
     ]
    },
    {
     "data": {
      "text/plain": [
       "-250250.11090162286"
      ]
     },
     "execution_count": 26,
     "metadata": {},
     "output_type": "execute_result"
    }
   ],
   "source": [
    "final_vars   = ['C(GambleChoice)', 'TrialEV', 'decisionCPE']\n",
    "final_fit = fit_mixed_model(reg_df,final_vars,outcome_var,rand_eff_var,reml=False)\n",
    "print(final_fit.summary())\n",
    "final_fit.bic  "
   ]
  },
  {
   "cell_type": "code",
   "execution_count": 27,
   "id": "dd3f78f0",
   "metadata": {},
   "outputs": [
    {
     "name": "stdout",
     "output_type": "stream",
     "text": [
      "                  Mixed Linear Model Regression Results\n",
      "=========================================================================\n",
      "Model:                  MixedLM      Dependent Variable:      band_pow   \n",
      "No. Observations:       244112       Method:                  ML         \n",
      "No. Groups:             1776         Scale:                   0.0196     \n",
      "Min. group size:        65           Log-Likelihood:          128704.0070\n",
      "Max. group size:        148          Converged:               Yes        \n",
      "Mean group size:        137.5                                            \n",
      "-------------------------------------------------------------------------\n",
      "                              Coef.  Std.Err.    z    P>|z| [0.025 0.975]\n",
      "-------------------------------------------------------------------------\n",
      "Intercept                     -0.017    0.001 -11.038 0.000 -0.019 -0.014\n",
      "TrialEV                        0.000    0.001   0.528 0.598 -0.001  0.002\n",
      "TotalProfit                   -0.009    0.002  -6.030 0.000 -0.012 -0.006\n",
      "decisionCPE                    0.003    0.001   5.764 0.000  0.002  0.005\n",
      "Group Var                      0.004    0.001                            \n",
      "Group x TrialEV Cov           -0.000    0.000                            \n",
      "TrialEV Var                    0.000    0.000                            \n",
      "Group x TotalProfit Cov       -0.000    0.001                            \n",
      "TrialEV x TotalProfit Cov      0.000    0.000                            \n",
      "TotalProfit Var                0.004    0.001                            \n",
      "Group x decisionCPE Cov       -0.000    0.000                            \n",
      "TrialEV x decisionCPE Cov     -0.000    0.000                            \n",
      "TotalProfit x decisionCPE Cov  0.000    0.000                            \n",
      "decisionCPE Var                0.000    0.000                            \n",
      "=========================================================================\n",
      "\n"
     ]
    },
    {
     "data": {
      "text/plain": [
       "-257221.93331664318"
      ]
     },
     "execution_count": 27,
     "metadata": {},
     "output_type": "execute_result"
    }
   ],
   "source": [
    "final_vars   = ['TrialEV', 'TotalProfit', 'decisionCPE']\n",
    "final_fit = fit_mixed_model(reg_df,final_vars,outcome_var,rand_eff_var,reml=False)\n",
    "print(final_fit.summary())\n",
    "final_fit.bic  "
   ]
  },
  {
   "cell_type": "code",
   "execution_count": 28,
   "id": "12ef5916",
   "metadata": {},
   "outputs": [
    {
     "name": "stdout",
     "output_type": "stream",
     "text": [
      "                        Mixed Linear Model Regression Results\n",
      "=====================================================================================\n",
      "Model:                      MixedLM          Dependent Variable:          band_pow   \n",
      "No. Observations:           244112           Method:                      ML         \n",
      "No. Groups:                 1776             Scale:                       0.0204     \n",
      "Min. group size:            65               Log-Likelihood:              125206.0557\n",
      "Max. group size:            148              Converged:                   Yes        \n",
      "Mean group size:            137.5                                                    \n",
      "-------------------------------------------------------------------------------------\n",
      "                                          Coef.  Std.Err.    z    P>|z| [0.025 0.975]\n",
      "-------------------------------------------------------------------------------------\n",
      "Intercept                                 -0.018    0.002 -11.264 0.000 -0.021 -0.015\n",
      "C(GambleChoice)[T.safe]                    0.003    0.001   3.815 0.000  0.002  0.005\n",
      "decisionCPE                                0.003    0.001   4.607 0.000  0.002  0.004\n",
      "Group Var                                  0.004    0.001                            \n",
      "Group x C(GambleChoice)[T.safe] Cov       -0.000    0.000                            \n",
      "C(GambleChoice)[T.safe] Var                0.001    0.000                            \n",
      "Group x decisionCPE Cov                   -0.000    0.000                            \n",
      "C(GambleChoice)[T.safe] x decisionCPE Cov  0.000    0.000                            \n",
      "decisionCPE Var                            0.000    0.000                            \n",
      "=====================================================================================\n",
      "\n"
     ]
    },
    {
     "data": {
      "text/plain": [
       "-250288.05753364015"
      ]
     },
     "execution_count": 28,
     "metadata": {},
     "output_type": "execute_result"
    }
   ],
   "source": [
    "final_vars   = ['C(GambleChoice)', 'decisionCPE']\n",
    "final_fit = fit_mixed_model(reg_df,final_vars,outcome_var,rand_eff_var,reml=False)\n",
    "print(final_fit.summary())\n",
    "final_fit.bic  "
   ]
  },
  {
   "cell_type": "code",
   "execution_count": 29,
   "id": "1d4c9909",
   "metadata": {},
   "outputs": [
    {
     "name": "stdout",
     "output_type": "stream",
     "text": [
      "                  Mixed Linear Model Regression Results\n",
      "=========================================================================\n",
      "Model:                  MixedLM      Dependent Variable:      band_pow   \n",
      "No. Observations:       244112       Method:                  ML         \n",
      "No. Groups:             1776         Scale:                   0.0196     \n",
      "Min. group size:        65           Log-Likelihood:          128675.8734\n",
      "Max. group size:        148          Converged:               Yes        \n",
      "Mean group size:        137.5                                            \n",
      "-------------------------------------------------------------------------\n",
      "                              Coef.  Std.Err.    z    P>|z| [0.025 0.975]\n",
      "-------------------------------------------------------------------------\n",
      "Intercept                     -0.017    0.001 -11.038 0.000 -0.019 -0.014\n",
      "TotalProfit                   -0.009    0.002  -6.012 0.000 -0.012 -0.006\n",
      "decisionCPE                    0.004    0.001   5.914 0.000  0.002  0.005\n",
      "Group Var                      0.004    0.001                            \n",
      "Group x TotalProfit Cov       -0.000    0.001                            \n",
      "TotalProfit Var                0.004    0.001                            \n",
      "Group x decisionCPE Cov       -0.000    0.000                            \n",
      "TotalProfit x decisionCPE Cov -0.000    0.000                            \n",
      "decisionCPE Var                0.000    0.000                            \n",
      "=========================================================================\n",
      "\n"
     ]
    },
    {
     "data": {
      "text/plain": [
       "-257227.6930595564"
      ]
     },
     "execution_count": 29,
     "metadata": {},
     "output_type": "execute_result"
    }
   ],
   "source": [
    "final_vars   = ['TotalProfit', 'decisionCPE']\n",
    "final_fit = fit_mixed_model(reg_df,final_vars,outcome_var,rand_eff_var,reml=False)\n",
    "print(final_fit.summary())\n",
    "final_fit.bic  "
   ]
  },
  {
   "cell_type": "code",
   "execution_count": 30,
   "id": "07eca761",
   "metadata": {},
   "outputs": [
    {
     "name": "stdout",
     "output_type": "stream",
     "text": [
      "                Mixed Linear Model Regression Results\n",
      "=====================================================================\n",
      "Model:                MixedLM     Dependent Variable:     band_pow   \n",
      "No. Observations:     244112      Method:                 ML         \n",
      "No. Groups:           1776        Scale:                  0.0205     \n",
      "Min. group size:      65          Log-Likelihood:         124986.1551\n",
      "Max. group size:      148         Converged:              Yes        \n",
      "Mean group size:      137.5                                          \n",
      "---------------------------------------------------------------------\n",
      "                          Coef.  Std.Err.    z    P>|z| [0.025 0.975]\n",
      "---------------------------------------------------------------------\n",
      "Intercept                 -0.017    0.001 -11.038 0.000 -0.019 -0.014\n",
      "TrialEV                    0.000    0.001   0.497 0.619 -0.001  0.002\n",
      "decisionCPE                0.003    0.001   4.660 0.000  0.002  0.004\n",
      "Group Var                  0.004    0.001                            \n",
      "Group x TrialEV Cov       -0.000    0.000                            \n",
      "TrialEV Var                0.000    0.000                            \n",
      "Group x decisionCPE Cov   -0.000    0.000                            \n",
      "TrialEV x decisionCPE Cov -0.000    0.000                            \n",
      "decisionCPE Var            0.000    0.000                            \n",
      "=====================================================================\n",
      "\n"
     ]
    },
    {
     "data": {
      "text/plain": [
       "-249848.25629109397"
      ]
     },
     "execution_count": 30,
     "metadata": {},
     "output_type": "execute_result"
    }
   ],
   "source": [
    "final_vars   = ['TrialEV', 'decisionCPE']\n",
    "final_fit = fit_mixed_model(reg_df,final_vars,outcome_var,rand_eff_var,reml=False)\n",
    "print(final_fit.summary())\n",
    "final_fit.bic  "
   ]
  },
  {
   "cell_type": "code",
   "execution_count": 31,
   "id": "373051aa",
   "metadata": {},
   "outputs": [
    {
     "name": "stdout",
     "output_type": "stream",
     "text": [
      "                          Mixed Linear Model Regression Results\n",
      "==========================================================================================\n",
      "Model:                       MixedLM            Dependent Variable:            band_pow   \n",
      "No. Observations:            244112             Method:                        ML         \n",
      "No. Groups:                  1776               Scale:                         0.0204     \n",
      "Min. group size:             65                 Log-Likelihood:                125038.4609\n",
      "Max. group size:             148                Converged:                     Yes        \n",
      "Mean group size:             137.5                                                        \n",
      "------------------------------------------------------------------------------------------\n",
      "                                               Coef.  Std.Err.    z    P>|z| [0.025 0.975]\n",
      "------------------------------------------------------------------------------------------\n",
      "Intercept                                      -0.016    0.002 -10.155 0.000 -0.019 -0.013\n",
      "C(TrialType)[T.loss]                           -0.002    0.001  -1.804 0.071 -0.003  0.000\n",
      "C(TrialType)[T.mix]                            -0.001    0.001  -1.420 0.156 -0.002  0.000\n",
      "decisionCPE                                     0.003    0.001   4.609 0.000  0.002  0.004\n",
      "Group Var                                       0.004    0.001                            \n",
      "Group x C(TrialType)[T.loss] Cov                0.000    0.000                            \n",
      "C(TrialType)[T.loss] Var                        0.000    0.000                            \n",
      "Group x C(TrialType)[T.mix] Cov                -0.000    0.000                            \n",
      "C(TrialType)[T.loss] x C(TrialType)[T.mix] Cov  0.000    0.000                            \n",
      "C(TrialType)[T.mix] Var                         0.000    0.000                            \n",
      "Group x decisionCPE Cov                        -0.000    0.000                            \n",
      "C(TrialType)[T.loss] x decisionCPE Cov          0.000    0.000                            \n",
      "C(TrialType)[T.mix] x decisionCPE Cov           0.000    0.000                            \n",
      "decisionCPE Var                                 0.000    0.000                            \n",
      "==========================================================================================\n",
      "\n"
     ]
    },
    {
     "data": {
      "text/plain": [
       "-249890.84101338993"
      ]
     },
     "execution_count": 31,
     "metadata": {},
     "output_type": "execute_result"
    }
   ],
   "source": [
    "final_vars   = ['C(TrialType)','decisionCPE']\n",
    "final_fit = fit_mixed_model(reg_df,final_vars,outcome_var,rand_eff_var,reml=False)\n",
    "print(final_fit.summary())\n",
    "final_fit.bic    "
   ]
  },
  {
   "cell_type": "code",
   "execution_count": 32,
   "id": "f9522296",
   "metadata": {},
   "outputs": [
    {
     "name": "stdout",
     "output_type": "stream",
     "text": [
      "                          Mixed Linear Model Regression Results\n",
      "=========================================================================================\n",
      "Model:                        MixedLM           Dependent Variable:           band_pow   \n",
      "No. Observations:             244112            Method:                       ML         \n",
      "No. Groups:                   1776              Scale:                        0.0195     \n",
      "Min. group size:              65                Log-Likelihood:               128834.1232\n",
      "Max. group size:              148               Converged:                    Yes        \n",
      "Mean group size:              137.5                                                      \n",
      "-----------------------------------------------------------------------------------------\n",
      "                                               Coef.  Std.Err.   z    P>|z| [0.025 0.975]\n",
      "-----------------------------------------------------------------------------------------\n",
      "Intercept                                      -0.015    0.002 -9.956 0.000 -0.018 -0.012\n",
      "C(TrialType)[T.loss]                           -0.002    0.001 -2.488 0.013 -0.004 -0.000\n",
      "C(TrialType)[T.mix]                            -0.002    0.001 -2.180 0.029 -0.003 -0.000\n",
      "TotalProfit                                    -0.009    0.002 -6.088 0.000 -0.012 -0.006\n",
      "decisionCPE                                     0.003    0.001  5.743 0.000  0.002  0.005\n",
      "Group Var                                       0.004    0.001                           \n",
      "Group x C(TrialType)[T.loss] Cov               -0.000    0.000                           \n",
      "C(TrialType)[T.loss] Var                        0.000    0.000                           \n",
      "Group x C(TrialType)[T.mix] Cov                -0.000    0.000                           \n",
      "C(TrialType)[T.loss] x C(TrialType)[T.mix] Cov  0.000    0.000                           \n",
      "C(TrialType)[T.mix] Var                         0.000    0.000                           \n",
      "Group x TotalProfit Cov                        -0.000    0.001                           \n",
      "C(TrialType)[T.loss] x TotalProfit Cov          0.000    0.000                           \n",
      "C(TrialType)[T.mix] x TotalProfit Cov          -0.000    0.000                           \n",
      "TotalProfit Var                                 0.004    0.001                           \n",
      "Group x decisionCPE Cov                        -0.000    0.000                           \n",
      "C(TrialType)[T.loss] x decisionCPE Cov         -0.000    0.000                           \n",
      "C(TrialType)[T.mix] x decisionCPE Cov           0.000    0.000                           \n",
      "TotalProfit x decisionCPE Cov                  -0.000    0.000                           \n",
      "decisionCPE Var                                 0.000    0.000                           \n",
      "=========================================================================================\n",
      "\n"
     ]
    },
    {
     "data": {
      "text/plain": [
       "-257407.7333453585"
      ]
     },
     "execution_count": 32,
     "metadata": {},
     "output_type": "execute_result"
    }
   ],
   "source": [
    "final_vars   = ['C(TrialType)','TotalProfit', 'decisionCPE']\n",
    "final_fit = fit_mixed_model(reg_df,final_vars,outcome_var,rand_eff_var,reml=False)\n",
    "print(final_fit.summary())\n",
    "final_fit.bic    "
   ]
  },
  {
   "cell_type": "code",
   "execution_count": 33,
   "id": "7fb47161",
   "metadata": {},
   "outputs": [
    {
     "name": "stdout",
     "output_type": "stream",
     "text": [
      "                          Mixed Linear Model Regression Results\n",
      "=========================================================================================\n",
      "Model:                        MixedLM           Dependent Variable:           band_pow   \n",
      "No. Observations:             244112            Method:                       ML         \n",
      "No. Groups:                   1776              Scale:                        0.0204     \n",
      "Min. group size:              65                Log-Likelihood:               125079.1596\n",
      "Max. group size:              148               Converged:                    Yes        \n",
      "Mean group size:              137.5                                                      \n",
      "-----------------------------------------------------------------------------------------\n",
      "                                               Coef.  Std.Err.   z    P>|z| [0.025 0.975]\n",
      "-----------------------------------------------------------------------------------------\n",
      "Intercept                                      -0.016    0.002 -9.877 0.000 -0.019 -0.012\n",
      "C(TrialType)[T.loss]                           -0.002    0.001 -1.806 0.071 -0.004  0.000\n",
      "C(TrialType)[T.mix]                            -0.001    0.001 -1.557 0.120 -0.003  0.000\n",
      "TrialEV                                        -0.000    0.001 -0.598 0.550 -0.002  0.001\n",
      "decisionCPE                                     0.003    0.001  4.623 0.000  0.002  0.004\n",
      "Group Var                                       0.004    0.001                           \n",
      "Group x C(TrialType)[T.loss] Cov               -0.000    0.000                           \n",
      "C(TrialType)[T.loss] Var                        0.001    0.000                           \n",
      "Group x C(TrialType)[T.mix] Cov                -0.000    0.000                           \n",
      "C(TrialType)[T.loss] x C(TrialType)[T.mix] Cov  0.000    0.000                           \n",
      "C(TrialType)[T.mix] Var                         0.000    0.000                           \n",
      "Group x TrialEV Cov                            -0.000    0.000                           \n",
      "C(TrialType)[T.loss] x TrialEV Cov              0.000    0.000                           \n",
      "C(TrialType)[T.mix] x TrialEV Cov               0.000    0.000                           \n",
      "TrialEV Var                                     0.000    0.000                           \n",
      "Group x decisionCPE Cov                        -0.000    0.000                           \n",
      "C(TrialType)[T.loss] x decisionCPE Cov          0.000    0.000                           \n",
      "C(TrialType)[T.mix] x decisionCPE Cov           0.000    0.000                           \n",
      "TrialEV x decisionCPE Cov                      -0.000    0.000                           \n",
      "decisionCPE Var                                 0.000    0.000                           \n",
      "=========================================================================================\n",
      "\n"
     ]
    },
    {
     "data": {
      "text/plain": [
       "-249897.80612570498"
      ]
     },
     "execution_count": 33,
     "metadata": {},
     "output_type": "execute_result"
    }
   ],
   "source": [
    "final_vars   = ['C(TrialType)','TrialEV',  'decisionCPE']\n",
    "final_fit = fit_mixed_model(reg_df,final_vars,outcome_var,rand_eff_var,reml=False)\n",
    "print(final_fit.summary())\n",
    "final_fit.bic    "
   ]
  },
  {
   "cell_type": "markdown",
   "id": "2684e598",
   "metadata": {},
   "source": [
    "\n",
    "## ROI REGRESSIONS\n"
   ]
  },
  {
   "cell_type": "code",
   "execution_count": null,
   "id": "70b21e54",
   "metadata": {},
   "outputs": [],
   "source": [
    "# test_rois = ['dlpfc','vlpfc','dmpfc','ofc','ains','pins', 'acc','hpc','amy','motor']\n"
   ]
  },
  {
   "cell_type": "code",
   "execution_count": 47,
   "id": "fe32cee2",
   "metadata": {},
   "outputs": [],
   "source": [
    "outcome_var  = 'band_pow'\n",
    "rand_eff_var = 'unique_reref_ch'\n",
    "final_vars   = ['C(GambleChoice)','TrialEV','TotalProfit','decisionCPE']"
   ]
  },
  {
   "cell_type": "code",
   "execution_count": 48,
   "id": "d4010256",
   "metadata": {},
   "outputs": [],
   "source": [
    "roi_fit_dict = {f'{roi}':fit_mixed_model(reg_df[reg_df.roi==roi],\n",
    "                                        final_vars,outcome_var,rand_eff_var,reml=False) \n",
    "                for roi in reg_df.roi.unique().tolist()}\n",
    "\n",
    "roi_fit_results = []\n",
    "\n",
    "for roi in list(roi_fit_dict.keys()):\n",
    "    roi_fit = mixed_eff_results_df(roi_fit_dict[roi],reg_df[reg_df.roi==roi])\n",
    "    roi_fit_results.append(roi_fit)\n",
    "    \n",
    "roi_fit_results = pd.concat(roi_fit_results).reset_index(drop=True)\n",
    "\n"
   ]
  },
  {
   "cell_type": "code",
   "execution_count": 49,
   "id": "03cab245",
   "metadata": {},
   "outputs": [
    {
     "data": {
      "text/html": [
       "<div>\n",
       "<style scoped>\n",
       "    .dataframe tbody tr th:only-of-type {\n",
       "        vertical-align: middle;\n",
       "    }\n",
       "\n",
       "    .dataframe tbody tr th {\n",
       "        vertical-align: top;\n",
       "    }\n",
       "\n",
       "    .dataframe thead th {\n",
       "        text-align: right;\n",
       "    }\n",
       "</style>\n",
       "<table border=\"1\" class=\"dataframe\">\n",
       "  <thead>\n",
       "    <tr style=\"text-align: right;\">\n",
       "      <th></th>\n",
       "      <th>unique_reref_ch</th>\n",
       "      <th>subj_id</th>\n",
       "      <th>roi</th>\n",
       "      <th>bdi</th>\n",
       "      <th>raw_Intercept</th>\n",
       "      <th>raw_GambleChoice</th>\n",
       "      <th>raw_TrialEV</th>\n",
       "      <th>raw_TotalProfit</th>\n",
       "      <th>raw_decisionCPE</th>\n",
       "      <th>Intercept</th>\n",
       "      <th>GambleChoice</th>\n",
       "      <th>TrialEV</th>\n",
       "      <th>TotalProfit</th>\n",
       "      <th>decisionCPE</th>\n",
       "    </tr>\n",
       "  </thead>\n",
       "  <tbody>\n",
       "    <tr>\n",
       "      <th>0</th>\n",
       "      <td>MS025_lcmip1-lcmip2</td>\n",
       "      <td>MS025</td>\n",
       "      <td>thalamus</td>\n",
       "      <td>10</td>\n",
       "      <td>0.006872</td>\n",
       "      <td>-0.000665</td>\n",
       "      <td>-1.593409e-04</td>\n",
       "      <td>0.001480</td>\n",
       "      <td>0.000734</td>\n",
       "      <td>0.006730</td>\n",
       "      <td>-0.006660</td>\n",
       "      <td>0.002372</td>\n",
       "      <td>-0.000832</td>\n",
       "      <td>0.004577</td>\n",
       "    </tr>\n",
       "    <tr>\n",
       "      <th>1</th>\n",
       "      <td>MS025_lcmip2-lcmip3</td>\n",
       "      <td>MS025</td>\n",
       "      <td>thalamus</td>\n",
       "      <td>10</td>\n",
       "      <td>-0.006784</td>\n",
       "      <td>0.000795</td>\n",
       "      <td>-1.098818e-03</td>\n",
       "      <td>0.005327</td>\n",
       "      <td>-0.002793</td>\n",
       "      <td>-0.006926</td>\n",
       "      <td>-0.005201</td>\n",
       "      <td>0.001433</td>\n",
       "      <td>0.003016</td>\n",
       "      <td>0.001049</td>\n",
       "    </tr>\n",
       "    <tr>\n",
       "      <th>2</th>\n",
       "      <td>MS025_lcmip3-lcmip4</td>\n",
       "      <td>MS025</td>\n",
       "      <td>thalamus</td>\n",
       "      <td>10</td>\n",
       "      <td>-0.017434</td>\n",
       "      <td>0.001823</td>\n",
       "      <td>-2.801408e-03</td>\n",
       "      <td>-0.000193</td>\n",
       "      <td>-0.002471</td>\n",
       "      <td>-0.017576</td>\n",
       "      <td>-0.004172</td>\n",
       "      <td>-0.000270</td>\n",
       "      <td>-0.002504</td>\n",
       "      <td>0.001371</td>\n",
       "    </tr>\n",
       "    <tr>\n",
       "      <th>3</th>\n",
       "      <td>MS025_lcmip4-lcmip5</td>\n",
       "      <td>MS025</td>\n",
       "      <td>thalamus</td>\n",
       "      <td>10</td>\n",
       "      <td>0.001048</td>\n",
       "      <td>-0.000134</td>\n",
       "      <td>4.907670e-04</td>\n",
       "      <td>-0.004308</td>\n",
       "      <td>0.001494</td>\n",
       "      <td>0.000906</td>\n",
       "      <td>-0.006129</td>\n",
       "      <td>0.003023</td>\n",
       "      <td>-0.006619</td>\n",
       "      <td>0.005337</td>\n",
       "    </tr>\n",
       "    <tr>\n",
       "      <th>4</th>\n",
       "      <td>MS025_lcmip5-lcmip6</td>\n",
       "      <td>MS025</td>\n",
       "      <td>thalamus</td>\n",
       "      <td>10</td>\n",
       "      <td>0.003331</td>\n",
       "      <td>-0.000393</td>\n",
       "      <td>-3.133365e-03</td>\n",
       "      <td>0.002357</td>\n",
       "      <td>0.000266</td>\n",
       "      <td>0.003189</td>\n",
       "      <td>-0.006388</td>\n",
       "      <td>-0.000602</td>\n",
       "      <td>0.000045</td>\n",
       "      <td>0.004108</td>\n",
       "    </tr>\n",
       "    <tr>\n",
       "      <th>5</th>\n",
       "      <td>MS025_rcmip1-rcmip2</td>\n",
       "      <td>MS025</td>\n",
       "      <td>thalamus</td>\n",
       "      <td>10</td>\n",
       "      <td>0.007745</td>\n",
       "      <td>-0.000878</td>\n",
       "      <td>5.344902e-03</td>\n",
       "      <td>-0.001574</td>\n",
       "      <td>0.000983</td>\n",
       "      <td>0.007603</td>\n",
       "      <td>-0.006873</td>\n",
       "      <td>0.007877</td>\n",
       "      <td>-0.003886</td>\n",
       "      <td>0.004826</td>\n",
       "    </tr>\n",
       "    <tr>\n",
       "      <th>6</th>\n",
       "      <td>MS025_rcmip2-rcmip3</td>\n",
       "      <td>MS025</td>\n",
       "      <td>thalamus</td>\n",
       "      <td>10</td>\n",
       "      <td>0.004290</td>\n",
       "      <td>-0.000591</td>\n",
       "      <td>3.667762e-03</td>\n",
       "      <td>-0.003036</td>\n",
       "      <td>0.001174</td>\n",
       "      <td>0.004148</td>\n",
       "      <td>-0.006586</td>\n",
       "      <td>0.006200</td>\n",
       "      <td>-0.005347</td>\n",
       "      <td>0.005017</td>\n",
       "    </tr>\n",
       "    <tr>\n",
       "      <th>7</th>\n",
       "      <td>MS025_rcmip3-rcmip4</td>\n",
       "      <td>MS025</td>\n",
       "      <td>thalamus</td>\n",
       "      <td>10</td>\n",
       "      <td>0.010960</td>\n",
       "      <td>-0.001310</td>\n",
       "      <td>4.291979e-03</td>\n",
       "      <td>-0.000805</td>\n",
       "      <td>0.001504</td>\n",
       "      <td>0.010818</td>\n",
       "      <td>-0.007305</td>\n",
       "      <td>0.006824</td>\n",
       "      <td>-0.003116</td>\n",
       "      <td>0.005346</td>\n",
       "    </tr>\n",
       "    <tr>\n",
       "      <th>8</th>\n",
       "      <td>MS025_rcmip4-rcmip5</td>\n",
       "      <td>MS025</td>\n",
       "      <td>thalamus</td>\n",
       "      <td>10</td>\n",
       "      <td>0.014847</td>\n",
       "      <td>-0.001530</td>\n",
       "      <td>8.241911e-04</td>\n",
       "      <td>-0.001138</td>\n",
       "      <td>0.002786</td>\n",
       "      <td>0.014705</td>\n",
       "      <td>-0.007525</td>\n",
       "      <td>0.003356</td>\n",
       "      <td>-0.003450</td>\n",
       "      <td>0.006629</td>\n",
       "    </tr>\n",
       "    <tr>\n",
       "      <th>9</th>\n",
       "      <td>MS025_rcmip5-rcmip6</td>\n",
       "      <td>MS025</td>\n",
       "      <td>thalamus</td>\n",
       "      <td>10</td>\n",
       "      <td>0.015095</td>\n",
       "      <td>-0.001562</td>\n",
       "      <td>-5.957707e-04</td>\n",
       "      <td>-0.000723</td>\n",
       "      <td>0.002905</td>\n",
       "      <td>0.014953</td>\n",
       "      <td>-0.007557</td>\n",
       "      <td>0.001936</td>\n",
       "      <td>-0.003035</td>\n",
       "      <td>0.006747</td>\n",
       "    </tr>\n",
       "    <tr>\n",
       "      <th>10</th>\n",
       "      <td>MS028_lcmmm1-lcmmm2</td>\n",
       "      <td>MS028</td>\n",
       "      <td>thalamus</td>\n",
       "      <td>13</td>\n",
       "      <td>-0.085323</td>\n",
       "      <td>0.008873</td>\n",
       "      <td>-6.803773e-03</td>\n",
       "      <td>0.000017</td>\n",
       "      <td>-0.013500</td>\n",
       "      <td>-0.085465</td>\n",
       "      <td>0.002878</td>\n",
       "      <td>-0.004272</td>\n",
       "      <td>-0.002295</td>\n",
       "      <td>-0.009657</td>\n",
       "    </tr>\n",
       "    <tr>\n",
       "      <th>11</th>\n",
       "      <td>MS028_lcmmm2-lcmmm3</td>\n",
       "      <td>MS028</td>\n",
       "      <td>thalamus</td>\n",
       "      <td>13</td>\n",
       "      <td>-0.002017</td>\n",
       "      <td>0.000315</td>\n",
       "      <td>-9.836751e-04</td>\n",
       "      <td>-0.001593</td>\n",
       "      <td>0.000347</td>\n",
       "      <td>-0.002159</td>\n",
       "      <td>-0.005681</td>\n",
       "      <td>0.001548</td>\n",
       "      <td>-0.003904</td>\n",
       "      <td>0.004190</td>\n",
       "    </tr>\n",
       "    <tr>\n",
       "      <th>12</th>\n",
       "      <td>MS028_lcmmm3-lcmmm4</td>\n",
       "      <td>MS028</td>\n",
       "      <td>thalamus</td>\n",
       "      <td>13</td>\n",
       "      <td>-0.008122</td>\n",
       "      <td>0.000861</td>\n",
       "      <td>-1.067918e-03</td>\n",
       "      <td>0.002648</td>\n",
       "      <td>-0.002044</td>\n",
       "      <td>-0.008264</td>\n",
       "      <td>-0.005134</td>\n",
       "      <td>0.001464</td>\n",
       "      <td>0.000337</td>\n",
       "      <td>0.001799</td>\n",
       "    </tr>\n",
       "    <tr>\n",
       "      <th>13</th>\n",
       "      <td>MS028_lcmmm4-lcmmm5</td>\n",
       "      <td>MS028</td>\n",
       "      <td>thalamus</td>\n",
       "      <td>13</td>\n",
       "      <td>-0.000574</td>\n",
       "      <td>0.000146</td>\n",
       "      <td>-2.025480e-03</td>\n",
       "      <td>0.000939</td>\n",
       "      <td>-0.000133</td>\n",
       "      <td>-0.000716</td>\n",
       "      <td>-0.005849</td>\n",
       "      <td>0.000506</td>\n",
       "      <td>-0.001372</td>\n",
       "      <td>0.003710</td>\n",
       "    </tr>\n",
       "    <tr>\n",
       "      <th>14</th>\n",
       "      <td>MS028_rcmmm1-rcmmm2</td>\n",
       "      <td>MS028</td>\n",
       "      <td>thalamus</td>\n",
       "      <td>13</td>\n",
       "      <td>-0.002492</td>\n",
       "      <td>0.000029</td>\n",
       "      <td>3.017397e-03</td>\n",
       "      <td>0.000727</td>\n",
       "      <td>-0.001093</td>\n",
       "      <td>-0.002634</td>\n",
       "      <td>-0.005966</td>\n",
       "      <td>0.005549</td>\n",
       "      <td>-0.001585</td>\n",
       "      <td>0.002749</td>\n",
       "    </tr>\n",
       "    <tr>\n",
       "      <th>15</th>\n",
       "      <td>MS028_rcmmm2-rcmmm3</td>\n",
       "      <td>MS028</td>\n",
       "      <td>thalamus</td>\n",
       "      <td>13</td>\n",
       "      <td>-0.067400</td>\n",
       "      <td>0.006820</td>\n",
       "      <td>-3.949573e-03</td>\n",
       "      <td>0.000536</td>\n",
       "      <td>-0.011028</td>\n",
       "      <td>-0.067542</td>\n",
       "      <td>0.000825</td>\n",
       "      <td>-0.001418</td>\n",
       "      <td>-0.001776</td>\n",
       "      <td>-0.007185</td>\n",
       "    </tr>\n",
       "    <tr>\n",
       "      <th>16</th>\n",
       "      <td>MS028_rcmmm3-rcmmm4</td>\n",
       "      <td>MS028</td>\n",
       "      <td>thalamus</td>\n",
       "      <td>13</td>\n",
       "      <td>-0.011867</td>\n",
       "      <td>0.001304</td>\n",
       "      <td>-1.568189e-03</td>\n",
       "      <td>-0.002942</td>\n",
       "      <td>-0.000848</td>\n",
       "      <td>-0.012009</td>\n",
       "      <td>-0.004691</td>\n",
       "      <td>0.000964</td>\n",
       "      <td>-0.005254</td>\n",
       "      <td>0.002994</td>\n",
       "    </tr>\n",
       "    <tr>\n",
       "      <th>17</th>\n",
       "      <td>MS028_rcmmm4-rcmmm5</td>\n",
       "      <td>MS028</td>\n",
       "      <td>thalamus</td>\n",
       "      <td>13</td>\n",
       "      <td>-0.019271</td>\n",
       "      <td>0.001962</td>\n",
       "      <td>-1.913554e-03</td>\n",
       "      <td>-0.001721</td>\n",
       "      <td>-0.002418</td>\n",
       "      <td>-0.019413</td>\n",
       "      <td>-0.004034</td>\n",
       "      <td>0.000618</td>\n",
       "      <td>-0.004032</td>\n",
       "      <td>0.001425</td>\n",
       "    </tr>\n",
       "    <tr>\n",
       "      <th>18</th>\n",
       "      <td>MS030_lcmmf1-lcmmf2</td>\n",
       "      <td>MS030</td>\n",
       "      <td>thalamus</td>\n",
       "      <td>19</td>\n",
       "      <td>-0.002204</td>\n",
       "      <td>0.000414</td>\n",
       "      <td>-8.094022e-03</td>\n",
       "      <td>-0.004349</td>\n",
       "      <td>0.002284</td>\n",
       "      <td>-0.002346</td>\n",
       "      <td>-0.005581</td>\n",
       "      <td>-0.005562</td>\n",
       "      <td>-0.006660</td>\n",
       "      <td>0.006127</td>\n",
       "    </tr>\n",
       "    <tr>\n",
       "      <th>19</th>\n",
       "      <td>MS030_lcmmf2-lcmmf3</td>\n",
       "      <td>MS030</td>\n",
       "      <td>thalamus</td>\n",
       "      <td>19</td>\n",
       "      <td>0.007042</td>\n",
       "      <td>-0.000823</td>\n",
       "      <td>-5.419986e-03</td>\n",
       "      <td>-0.005089</td>\n",
       "      <td>0.003809</td>\n",
       "      <td>0.006899</td>\n",
       "      <td>-0.006818</td>\n",
       "      <td>-0.002888</td>\n",
       "      <td>-0.007400</td>\n",
       "      <td>0.007652</td>\n",
       "    </tr>\n",
       "    <tr>\n",
       "      <th>20</th>\n",
       "      <td>MS030_lcmmf3-lcmmf4</td>\n",
       "      <td>MS030</td>\n",
       "      <td>thalamus</td>\n",
       "      <td>19</td>\n",
       "      <td>0.009617</td>\n",
       "      <td>-0.001130</td>\n",
       "      <td>-9.193714e-04</td>\n",
       "      <td>-0.005026</td>\n",
       "      <td>0.003500</td>\n",
       "      <td>0.009475</td>\n",
       "      <td>-0.007125</td>\n",
       "      <td>0.001612</td>\n",
       "      <td>-0.007337</td>\n",
       "      <td>0.007343</td>\n",
       "    </tr>\n",
       "    <tr>\n",
       "      <th>21</th>\n",
       "      <td>MS030_lcmmf4-lcmmf5</td>\n",
       "      <td>MS030</td>\n",
       "      <td>thalamus</td>\n",
       "      <td>19</td>\n",
       "      <td>-0.000524</td>\n",
       "      <td>-0.000244</td>\n",
       "      <td>7.433194e-03</td>\n",
       "      <td>-0.007776</td>\n",
       "      <td>0.001338</td>\n",
       "      <td>-0.000666</td>\n",
       "      <td>-0.006240</td>\n",
       "      <td>0.009965</td>\n",
       "      <td>-0.010088</td>\n",
       "      <td>0.005180</td>\n",
       "    </tr>\n",
       "    <tr>\n",
       "      <th>22</th>\n",
       "      <td>MS030_lcmmf5-lcmmf6</td>\n",
       "      <td>MS030</td>\n",
       "      <td>thalamus</td>\n",
       "      <td>19</td>\n",
       "      <td>0.002002</td>\n",
       "      <td>-0.000225</td>\n",
       "      <td>-4.084927e-03</td>\n",
       "      <td>-0.007529</td>\n",
       "      <td>0.003478</td>\n",
       "      <td>0.001860</td>\n",
       "      <td>-0.006221</td>\n",
       "      <td>-0.001553</td>\n",
       "      <td>-0.009840</td>\n",
       "      <td>0.007321</td>\n",
       "    </tr>\n",
       "    <tr>\n",
       "      <th>23</th>\n",
       "      <td>MS033_lcmag1-lcmag2</td>\n",
       "      <td>MS033</td>\n",
       "      <td>thalamus</td>\n",
       "      <td>39</td>\n",
       "      <td>-0.004687</td>\n",
       "      <td>0.000489</td>\n",
       "      <td>-2.486979e-03</td>\n",
       "      <td>0.000156</td>\n",
       "      <td>-0.000450</td>\n",
       "      <td>-0.004829</td>\n",
       "      <td>-0.005507</td>\n",
       "      <td>0.000045</td>\n",
       "      <td>-0.002155</td>\n",
       "      <td>0.003392</td>\n",
       "    </tr>\n",
       "    <tr>\n",
       "      <th>24</th>\n",
       "      <td>MS033_lcmag2-lcmag3</td>\n",
       "      <td>MS033</td>\n",
       "      <td>thalamus</td>\n",
       "      <td>39</td>\n",
       "      <td>-0.009592</td>\n",
       "      <td>0.000824</td>\n",
       "      <td>4.215804e-03</td>\n",
       "      <td>-0.000096</td>\n",
       "      <td>-0.002250</td>\n",
       "      <td>-0.009734</td>\n",
       "      <td>-0.005171</td>\n",
       "      <td>0.006748</td>\n",
       "      <td>-0.002407</td>\n",
       "      <td>0.001593</td>\n",
       "    </tr>\n",
       "    <tr>\n",
       "      <th>25</th>\n",
       "      <td>MS033_lcmag3-lcmag4</td>\n",
       "      <td>MS033</td>\n",
       "      <td>thalamus</td>\n",
       "      <td>39</td>\n",
       "      <td>0.001430</td>\n",
       "      <td>-0.000303</td>\n",
       "      <td>1.894826e-03</td>\n",
       "      <td>0.000558</td>\n",
       "      <td>-0.000195</td>\n",
       "      <td>0.001288</td>\n",
       "      <td>-0.006298</td>\n",
       "      <td>0.004427</td>\n",
       "      <td>-0.001753</td>\n",
       "      <td>0.003647</td>\n",
       "    </tr>\n",
       "    <tr>\n",
       "      <th>26</th>\n",
       "      <td>MS033_lcmag4-lcmag5</td>\n",
       "      <td>MS033</td>\n",
       "      <td>thalamus</td>\n",
       "      <td>39</td>\n",
       "      <td>0.006993</td>\n",
       "      <td>-0.000548</td>\n",
       "      <td>-1.319284e-03</td>\n",
       "      <td>-0.000542</td>\n",
       "      <td>0.001511</td>\n",
       "      <td>0.006850</td>\n",
       "      <td>-0.006543</td>\n",
       "      <td>0.001212</td>\n",
       "      <td>-0.002853</td>\n",
       "      <td>0.005354</td>\n",
       "    </tr>\n",
       "    <tr>\n",
       "      <th>27</th>\n",
       "      <td>MS033_lcmag5-lcmag6</td>\n",
       "      <td>MS033</td>\n",
       "      <td>thalamus</td>\n",
       "      <td>39</td>\n",
       "      <td>0.006205</td>\n",
       "      <td>-0.000446</td>\n",
       "      <td>4.068878e-04</td>\n",
       "      <td>0.001032</td>\n",
       "      <td>0.000600</td>\n",
       "      <td>0.006063</td>\n",
       "      <td>-0.006441</td>\n",
       "      <td>0.002939</td>\n",
       "      <td>-0.001279</td>\n",
       "      <td>0.004443</td>\n",
       "    </tr>\n",
       "    <tr>\n",
       "      <th>28</th>\n",
       "      <td>MS035_lcmip1-lcmip2</td>\n",
       "      <td>MS035</td>\n",
       "      <td>thalamus</td>\n",
       "      <td>15</td>\n",
       "      <td>-0.000666</td>\n",
       "      <td>0.000280</td>\n",
       "      <td>-2.237357e-03</td>\n",
       "      <td>0.003758</td>\n",
       "      <td>-0.001054</td>\n",
       "      <td>-0.000808</td>\n",
       "      <td>-0.005715</td>\n",
       "      <td>0.000294</td>\n",
       "      <td>0.001446</td>\n",
       "      <td>0.002788</td>\n",
       "    </tr>\n",
       "    <tr>\n",
       "      <th>29</th>\n",
       "      <td>MS035_lcmip2-lcmip3</td>\n",
       "      <td>MS035</td>\n",
       "      <td>thalamus</td>\n",
       "      <td>15</td>\n",
       "      <td>0.006665</td>\n",
       "      <td>-0.000861</td>\n",
       "      <td>5.242506e-03</td>\n",
       "      <td>-0.001253</td>\n",
       "      <td>0.000790</td>\n",
       "      <td>0.006523</td>\n",
       "      <td>-0.006856</td>\n",
       "      <td>0.007774</td>\n",
       "      <td>-0.003564</td>\n",
       "      <td>0.004633</td>\n",
       "    </tr>\n",
       "    <tr>\n",
       "      <th>30</th>\n",
       "      <td>MS035_lcmip3-lcmip4</td>\n",
       "      <td>MS035</td>\n",
       "      <td>thalamus</td>\n",
       "      <td>15</td>\n",
       "      <td>0.001002</td>\n",
       "      <td>0.000185</td>\n",
       "      <td>-1.794025e-03</td>\n",
       "      <td>0.005993</td>\n",
       "      <td>-0.001664</td>\n",
       "      <td>0.000860</td>\n",
       "      <td>-0.005810</td>\n",
       "      <td>0.000738</td>\n",
       "      <td>0.003682</td>\n",
       "      <td>0.002179</td>\n",
       "    </tr>\n",
       "    <tr>\n",
       "      <th>31</th>\n",
       "      <td>MS035_lcmip4-lcmip5</td>\n",
       "      <td>MS035</td>\n",
       "      <td>thalamus</td>\n",
       "      <td>15</td>\n",
       "      <td>0.002949</td>\n",
       "      <td>-0.000058</td>\n",
       "      <td>-1.722202e-04</td>\n",
       "      <td>0.002394</td>\n",
       "      <td>-0.000369</td>\n",
       "      <td>0.002807</td>\n",
       "      <td>-0.006053</td>\n",
       "      <td>0.002360</td>\n",
       "      <td>0.000082</td>\n",
       "      <td>0.003474</td>\n",
       "    </tr>\n",
       "    <tr>\n",
       "      <th>32</th>\n",
       "      <td>MS035_rcmip1-rcmip2</td>\n",
       "      <td>MS035</td>\n",
       "      <td>thalamus</td>\n",
       "      <td>15</td>\n",
       "      <td>0.004873</td>\n",
       "      <td>-0.000593</td>\n",
       "      <td>-2.993889e-03</td>\n",
       "      <td>0.008534</td>\n",
       "      <td>-0.001471</td>\n",
       "      <td>0.004731</td>\n",
       "      <td>-0.006588</td>\n",
       "      <td>-0.000462</td>\n",
       "      <td>0.006223</td>\n",
       "      <td>0.002372</td>\n",
       "    </tr>\n",
       "    <tr>\n",
       "      <th>33</th>\n",
       "      <td>MS035_rcmip2-rcmip3</td>\n",
       "      <td>MS035</td>\n",
       "      <td>thalamus</td>\n",
       "      <td>15</td>\n",
       "      <td>-0.000478</td>\n",
       "      <td>0.000108</td>\n",
       "      <td>1.403474e-03</td>\n",
       "      <td>0.003238</td>\n",
       "      <td>-0.001444</td>\n",
       "      <td>-0.000620</td>\n",
       "      <td>-0.005887</td>\n",
       "      <td>0.003935</td>\n",
       "      <td>0.000926</td>\n",
       "      <td>0.002398</td>\n",
       "    </tr>\n",
       "    <tr>\n",
       "      <th>34</th>\n",
       "      <td>MS035_rcmip3-rcmip4</td>\n",
       "      <td>MS035</td>\n",
       "      <td>thalamus</td>\n",
       "      <td>15</td>\n",
       "      <td>0.000299</td>\n",
       "      <td>-0.000030</td>\n",
       "      <td>3.483609e-04</td>\n",
       "      <td>-0.001847</td>\n",
       "      <td>0.000595</td>\n",
       "      <td>0.000157</td>\n",
       "      <td>-0.006025</td>\n",
       "      <td>0.002880</td>\n",
       "      <td>-0.004159</td>\n",
       "      <td>0.004437</td>\n",
       "    </tr>\n",
       "    <tr>\n",
       "      <th>35</th>\n",
       "      <td>MS035_rcmip4-rcmip5</td>\n",
       "      <td>MS035</td>\n",
       "      <td>thalamus</td>\n",
       "      <td>15</td>\n",
       "      <td>0.002719</td>\n",
       "      <td>-0.000224</td>\n",
       "      <td>1.202485e-03</td>\n",
       "      <td>0.008552</td>\n",
       "      <td>-0.002592</td>\n",
       "      <td>0.002577</td>\n",
       "      <td>-0.006219</td>\n",
       "      <td>0.003734</td>\n",
       "      <td>0.006241</td>\n",
       "      <td>0.001251</td>\n",
       "    </tr>\n",
       "    <tr>\n",
       "      <th>36</th>\n",
       "      <td>MS041_lcm1-lcm2</td>\n",
       "      <td>MS041</td>\n",
       "      <td>thalamus</td>\n",
       "      <td>10</td>\n",
       "      <td>0.008531</td>\n",
       "      <td>-0.001058</td>\n",
       "      <td>4.147301e-03</td>\n",
       "      <td>0.002516</td>\n",
       "      <td>0.000059</td>\n",
       "      <td>0.008389</td>\n",
       "      <td>-0.007053</td>\n",
       "      <td>0.006679</td>\n",
       "      <td>0.000205</td>\n",
       "      <td>0.003902</td>\n",
       "    </tr>\n",
       "    <tr>\n",
       "      <th>37</th>\n",
       "      <td>MS041_lcm2-lcm3</td>\n",
       "      <td>MS041</td>\n",
       "      <td>thalamus</td>\n",
       "      <td>10</td>\n",
       "      <td>0.010146</td>\n",
       "      <td>-0.001086</td>\n",
       "      <td>1.109481e-03</td>\n",
       "      <td>0.009132</td>\n",
       "      <td>-0.001511</td>\n",
       "      <td>0.010003</td>\n",
       "      <td>-0.007081</td>\n",
       "      <td>0.003641</td>\n",
       "      <td>0.006821</td>\n",
       "      <td>0.002331</td>\n",
       "    </tr>\n",
       "    <tr>\n",
       "      <th>38</th>\n",
       "      <td>MS041_lcm3-lcm4</td>\n",
       "      <td>MS041</td>\n",
       "      <td>thalamus</td>\n",
       "      <td>10</td>\n",
       "      <td>0.010943</td>\n",
       "      <td>-0.001279</td>\n",
       "      <td>2.464478e-03</td>\n",
       "      <td>0.001870</td>\n",
       "      <td>0.000901</td>\n",
       "      <td>0.010801</td>\n",
       "      <td>-0.007274</td>\n",
       "      <td>0.004996</td>\n",
       "      <td>-0.000441</td>\n",
       "      <td>0.004743</td>\n",
       "    </tr>\n",
       "    <tr>\n",
       "      <th>39</th>\n",
       "      <td>MS041_lcm4-lcm5</td>\n",
       "      <td>MS041</td>\n",
       "      <td>thalamus</td>\n",
       "      <td>10</td>\n",
       "      <td>0.008145</td>\n",
       "      <td>-0.000997</td>\n",
       "      <td>2.324053e-03</td>\n",
       "      <td>-0.000203</td>\n",
       "      <td>0.001210</td>\n",
       "      <td>0.008003</td>\n",
       "      <td>-0.006992</td>\n",
       "      <td>0.004856</td>\n",
       "      <td>-0.002514</td>\n",
       "      <td>0.005053</td>\n",
       "    </tr>\n",
       "    <tr>\n",
       "      <th>40</th>\n",
       "      <td>MS041_rcm1-rcm2</td>\n",
       "      <td>MS041</td>\n",
       "      <td>thalamus</td>\n",
       "      <td>10</td>\n",
       "      <td>0.006441</td>\n",
       "      <td>-0.000589</td>\n",
       "      <td>-3.857879e-04</td>\n",
       "      <td>0.003833</td>\n",
       "      <td>-0.000113</td>\n",
       "      <td>0.006298</td>\n",
       "      <td>-0.006584</td>\n",
       "      <td>0.002146</td>\n",
       "      <td>0.001522</td>\n",
       "      <td>0.003730</td>\n",
       "    </tr>\n",
       "    <tr>\n",
       "      <th>41</th>\n",
       "      <td>MS041_rcm2-rcm3</td>\n",
       "      <td>MS041</td>\n",
       "      <td>thalamus</td>\n",
       "      <td>10</td>\n",
       "      <td>0.004512</td>\n",
       "      <td>-0.000375</td>\n",
       "      <td>2.799621e-03</td>\n",
       "      <td>0.015057</td>\n",
       "      <td>-0.004705</td>\n",
       "      <td>0.004370</td>\n",
       "      <td>-0.006370</td>\n",
       "      <td>0.005331</td>\n",
       "      <td>0.012746</td>\n",
       "      <td>-0.000862</td>\n",
       "    </tr>\n",
       "    <tr>\n",
       "      <th>42</th>\n",
       "      <td>MS041_rcm3-rcm4</td>\n",
       "      <td>MS041</td>\n",
       "      <td>thalamus</td>\n",
       "      <td>10</td>\n",
       "      <td>0.000862</td>\n",
       "      <td>-0.000156</td>\n",
       "      <td>4.416394e-03</td>\n",
       "      <td>0.010245</td>\n",
       "      <td>-0.003931</td>\n",
       "      <td>0.000720</td>\n",
       "      <td>-0.006151</td>\n",
       "      <td>0.006948</td>\n",
       "      <td>0.007934</td>\n",
       "      <td>-0.000088</td>\n",
       "    </tr>\n",
       "    <tr>\n",
       "      <th>43</th>\n",
       "      <td>MS041_rcm4-rcm5</td>\n",
       "      <td>MS041</td>\n",
       "      <td>thalamus</td>\n",
       "      <td>10</td>\n",
       "      <td>0.002651</td>\n",
       "      <td>-0.000366</td>\n",
       "      <td>3.868444e-03</td>\n",
       "      <td>0.012702</td>\n",
       "      <td>-0.004349</td>\n",
       "      <td>0.002509</td>\n",
       "      <td>-0.006361</td>\n",
       "      <td>0.006400</td>\n",
       "      <td>0.010391</td>\n",
       "      <td>-0.000507</td>\n",
       "    </tr>\n",
       "    <tr>\n",
       "      <th>44</th>\n",
       "      <td>MS048_lcmang1-lcmang2</td>\n",
       "      <td>MS048</td>\n",
       "      <td>thalamus</td>\n",
       "      <td>19</td>\n",
       "      <td>0.007789</td>\n",
       "      <td>-0.000582</td>\n",
       "      <td>-3.777146e-03</td>\n",
       "      <td>0.001868</td>\n",
       "      <td>0.001208</td>\n",
       "      <td>0.007646</td>\n",
       "      <td>-0.006577</td>\n",
       "      <td>-0.001245</td>\n",
       "      <td>-0.000443</td>\n",
       "      <td>0.005050</td>\n",
       "    </tr>\n",
       "    <tr>\n",
       "      <th>45</th>\n",
       "      <td>MS048_lcmang2-lcmang3</td>\n",
       "      <td>MS048</td>\n",
       "      <td>thalamus</td>\n",
       "      <td>19</td>\n",
       "      <td>0.005526</td>\n",
       "      <td>-0.000585</td>\n",
       "      <td>-3.621729e-04</td>\n",
       "      <td>-0.003644</td>\n",
       "      <td>0.002200</td>\n",
       "      <td>0.005384</td>\n",
       "      <td>-0.006580</td>\n",
       "      <td>0.002170</td>\n",
       "      <td>-0.005955</td>\n",
       "      <td>0.006042</td>\n",
       "    </tr>\n",
       "    <tr>\n",
       "      <th>46</th>\n",
       "      <td>MS048_lcmang3-lcmang4</td>\n",
       "      <td>MS048</td>\n",
       "      <td>thalamus</td>\n",
       "      <td>19</td>\n",
       "      <td>0.013211</td>\n",
       "      <td>-0.001584</td>\n",
       "      <td>6.777753e-03</td>\n",
       "      <td>-0.013961</td>\n",
       "      <td>0.005907</td>\n",
       "      <td>0.013069</td>\n",
       "      <td>-0.007580</td>\n",
       "      <td>0.009310</td>\n",
       "      <td>-0.016272</td>\n",
       "      <td>0.009750</td>\n",
       "    </tr>\n",
       "    <tr>\n",
       "      <th>47</th>\n",
       "      <td>MS048_rcmang1-rcmang2</td>\n",
       "      <td>MS048</td>\n",
       "      <td>thalamus</td>\n",
       "      <td>19</td>\n",
       "      <td>0.007755</td>\n",
       "      <td>-0.000885</td>\n",
       "      <td>-1.008506e-03</td>\n",
       "      <td>0.004545</td>\n",
       "      <td>0.000035</td>\n",
       "      <td>0.007613</td>\n",
       "      <td>-0.006880</td>\n",
       "      <td>0.001523</td>\n",
       "      <td>0.002234</td>\n",
       "      <td>0.003877</td>\n",
       "    </tr>\n",
       "    <tr>\n",
       "      <th>48</th>\n",
       "      <td>MS048_rcmang2-rcmang3</td>\n",
       "      <td>MS048</td>\n",
       "      <td>thalamus</td>\n",
       "      <td>19</td>\n",
       "      <td>0.012691</td>\n",
       "      <td>-0.001383</td>\n",
       "      <td>4.103727e-03</td>\n",
       "      <td>0.001017</td>\n",
       "      <td>0.001202</td>\n",
       "      <td>0.012549</td>\n",
       "      <td>-0.007378</td>\n",
       "      <td>0.006635</td>\n",
       "      <td>-0.001294</td>\n",
       "      <td>0.005045</td>\n",
       "    </tr>\n",
       "    <tr>\n",
       "      <th>49</th>\n",
       "      <td>MS048_rcmang3-rcmang4</td>\n",
       "      <td>MS048</td>\n",
       "      <td>thalamus</td>\n",
       "      <td>19</td>\n",
       "      <td>0.016286</td>\n",
       "      <td>-0.001481</td>\n",
       "      <td>-2.411120e-03</td>\n",
       "      <td>-0.001599</td>\n",
       "      <td>0.003627</td>\n",
       "      <td>0.016144</td>\n",
       "      <td>-0.007476</td>\n",
       "      <td>0.000121</td>\n",
       "      <td>-0.003910</td>\n",
       "      <td>0.007470</td>\n",
       "    </tr>\n",
       "    <tr>\n",
       "      <th>50</th>\n",
       "      <td>MS048_rcmang4-rcmang5</td>\n",
       "      <td>MS048</td>\n",
       "      <td>thalamus</td>\n",
       "      <td>19</td>\n",
       "      <td>0.027971</td>\n",
       "      <td>-0.002943</td>\n",
       "      <td>-3.665159e-04</td>\n",
       "      <td>0.003450</td>\n",
       "      <td>0.003749</td>\n",
       "      <td>0.027828</td>\n",
       "      <td>-0.008938</td>\n",
       "      <td>0.002165</td>\n",
       "      <td>0.001138</td>\n",
       "      <td>0.007591</td>\n",
       "    </tr>\n",
       "    <tr>\n",
       "      <th>51</th>\n",
       "      <td>MS050_lcmang1-lcmang2</td>\n",
       "      <td>MS050</td>\n",
       "      <td>thalamus</td>\n",
       "      <td>9</td>\n",
       "      <td>-0.007619</td>\n",
       "      <td>0.000775</td>\n",
       "      <td>-3.208644e-07</td>\n",
       "      <td>-0.002368</td>\n",
       "      <td>-0.000507</td>\n",
       "      <td>-0.007761</td>\n",
       "      <td>-0.005220</td>\n",
       "      <td>0.002531</td>\n",
       "      <td>-0.004679</td>\n",
       "      <td>0.003335</td>\n",
       "    </tr>\n",
       "    <tr>\n",
       "      <th>52</th>\n",
       "      <td>MS050_lcmang2-lcmang3</td>\n",
       "      <td>MS050</td>\n",
       "      <td>thalamus</td>\n",
       "      <td>9</td>\n",
       "      <td>-0.002905</td>\n",
       "      <td>0.000296</td>\n",
       "      <td>-1.196989e-03</td>\n",
       "      <td>-0.010164</td>\n",
       "      <td>0.003116</td>\n",
       "      <td>-0.003047</td>\n",
       "      <td>-0.005699</td>\n",
       "      <td>0.001335</td>\n",
       "      <td>-0.012475</td>\n",
       "      <td>0.006958</td>\n",
       "    </tr>\n",
       "    <tr>\n",
       "      <th>53</th>\n",
       "      <td>MS050_lcmang3-lcmang4</td>\n",
       "      <td>MS050</td>\n",
       "      <td>thalamus</td>\n",
       "      <td>9</td>\n",
       "      <td>-0.003291</td>\n",
       "      <td>0.000524</td>\n",
       "      <td>-2.491586e-03</td>\n",
       "      <td>-0.002747</td>\n",
       "      <td>0.000696</td>\n",
       "      <td>-0.003434</td>\n",
       "      <td>-0.005471</td>\n",
       "      <td>0.000040</td>\n",
       "      <td>-0.005058</td>\n",
       "      <td>0.004538</td>\n",
       "    </tr>\n",
       "    <tr>\n",
       "      <th>54</th>\n",
       "      <td>MS050_lcmang4-lcmang5</td>\n",
       "      <td>MS050</td>\n",
       "      <td>thalamus</td>\n",
       "      <td>9</td>\n",
       "      <td>-0.004888</td>\n",
       "      <td>0.000676</td>\n",
       "      <td>-3.501783e-03</td>\n",
       "      <td>-0.014902</td>\n",
       "      <td>0.004599</td>\n",
       "      <td>-0.005031</td>\n",
       "      <td>-0.005319</td>\n",
       "      <td>-0.000970</td>\n",
       "      <td>-0.017213</td>\n",
       "      <td>0.008442</td>\n",
       "    </tr>\n",
       "    <tr>\n",
       "      <th>55</th>\n",
       "      <td>MS050_rcmsmg1-rcmsmg2</td>\n",
       "      <td>MS050</td>\n",
       "      <td>thalamus</td>\n",
       "      <td>9</td>\n",
       "      <td>-0.001920</td>\n",
       "      <td>0.000182</td>\n",
       "      <td>2.427784e-03</td>\n",
       "      <td>-0.006674</td>\n",
       "      <td>0.001522</td>\n",
       "      <td>-0.002062</td>\n",
       "      <td>-0.005814</td>\n",
       "      <td>0.004960</td>\n",
       "      <td>-0.008985</td>\n",
       "      <td>0.005365</td>\n",
       "    </tr>\n",
       "    <tr>\n",
       "      <th>56</th>\n",
       "      <td>MS050_rcmsmg2-rcmsmg3</td>\n",
       "      <td>MS050</td>\n",
       "      <td>thalamus</td>\n",
       "      <td>9</td>\n",
       "      <td>-0.000031</td>\n",
       "      <td>0.000139</td>\n",
       "      <td>-8.072233e-04</td>\n",
       "      <td>-0.000054</td>\n",
       "      <td>0.000121</td>\n",
       "      <td>-0.000173</td>\n",
       "      <td>-0.005856</td>\n",
       "      <td>0.001725</td>\n",
       "      <td>-0.002365</td>\n",
       "      <td>0.003964</td>\n",
       "    </tr>\n",
       "    <tr>\n",
       "      <th>57</th>\n",
       "      <td>MS050_rcmsmg3-rcmsmg4</td>\n",
       "      <td>MS050</td>\n",
       "      <td>thalamus</td>\n",
       "      <td>9</td>\n",
       "      <td>0.000649</td>\n",
       "      <td>0.000076</td>\n",
       "      <td>-2.291497e-03</td>\n",
       "      <td>-0.006623</td>\n",
       "      <td>0.002679</td>\n",
       "      <td>0.000506</td>\n",
       "      <td>-0.005919</td>\n",
       "      <td>0.000240</td>\n",
       "      <td>-0.008934</td>\n",
       "      <td>0.006521</td>\n",
       "    </tr>\n",
       "  </tbody>\n",
       "</table>\n",
       "</div>"
      ],
      "text/plain": [
       "          unique_reref_ch subj_id       roi  bdi  raw_Intercept  \\\n",
       "0     MS025_lcmip1-lcmip2   MS025  thalamus   10       0.006872   \n",
       "1     MS025_lcmip2-lcmip3   MS025  thalamus   10      -0.006784   \n",
       "2     MS025_lcmip3-lcmip4   MS025  thalamus   10      -0.017434   \n",
       "3     MS025_lcmip4-lcmip5   MS025  thalamus   10       0.001048   \n",
       "4     MS025_lcmip5-lcmip6   MS025  thalamus   10       0.003331   \n",
       "5     MS025_rcmip1-rcmip2   MS025  thalamus   10       0.007745   \n",
       "6     MS025_rcmip2-rcmip3   MS025  thalamus   10       0.004290   \n",
       "7     MS025_rcmip3-rcmip4   MS025  thalamus   10       0.010960   \n",
       "8     MS025_rcmip4-rcmip5   MS025  thalamus   10       0.014847   \n",
       "9     MS025_rcmip5-rcmip6   MS025  thalamus   10       0.015095   \n",
       "10    MS028_lcmmm1-lcmmm2   MS028  thalamus   13      -0.085323   \n",
       "11    MS028_lcmmm2-lcmmm3   MS028  thalamus   13      -0.002017   \n",
       "12    MS028_lcmmm3-lcmmm4   MS028  thalamus   13      -0.008122   \n",
       "13    MS028_lcmmm4-lcmmm5   MS028  thalamus   13      -0.000574   \n",
       "14    MS028_rcmmm1-rcmmm2   MS028  thalamus   13      -0.002492   \n",
       "15    MS028_rcmmm2-rcmmm3   MS028  thalamus   13      -0.067400   \n",
       "16    MS028_rcmmm3-rcmmm4   MS028  thalamus   13      -0.011867   \n",
       "17    MS028_rcmmm4-rcmmm5   MS028  thalamus   13      -0.019271   \n",
       "18    MS030_lcmmf1-lcmmf2   MS030  thalamus   19      -0.002204   \n",
       "19    MS030_lcmmf2-lcmmf3   MS030  thalamus   19       0.007042   \n",
       "20    MS030_lcmmf3-lcmmf4   MS030  thalamus   19       0.009617   \n",
       "21    MS030_lcmmf4-lcmmf5   MS030  thalamus   19      -0.000524   \n",
       "22    MS030_lcmmf5-lcmmf6   MS030  thalamus   19       0.002002   \n",
       "23    MS033_lcmag1-lcmag2   MS033  thalamus   39      -0.004687   \n",
       "24    MS033_lcmag2-lcmag3   MS033  thalamus   39      -0.009592   \n",
       "25    MS033_lcmag3-lcmag4   MS033  thalamus   39       0.001430   \n",
       "26    MS033_lcmag4-lcmag5   MS033  thalamus   39       0.006993   \n",
       "27    MS033_lcmag5-lcmag6   MS033  thalamus   39       0.006205   \n",
       "28    MS035_lcmip1-lcmip2   MS035  thalamus   15      -0.000666   \n",
       "29    MS035_lcmip2-lcmip3   MS035  thalamus   15       0.006665   \n",
       "30    MS035_lcmip3-lcmip4   MS035  thalamus   15       0.001002   \n",
       "31    MS035_lcmip4-lcmip5   MS035  thalamus   15       0.002949   \n",
       "32    MS035_rcmip1-rcmip2   MS035  thalamus   15       0.004873   \n",
       "33    MS035_rcmip2-rcmip3   MS035  thalamus   15      -0.000478   \n",
       "34    MS035_rcmip3-rcmip4   MS035  thalamus   15       0.000299   \n",
       "35    MS035_rcmip4-rcmip5   MS035  thalamus   15       0.002719   \n",
       "36        MS041_lcm1-lcm2   MS041  thalamus   10       0.008531   \n",
       "37        MS041_lcm2-lcm3   MS041  thalamus   10       0.010146   \n",
       "38        MS041_lcm3-lcm4   MS041  thalamus   10       0.010943   \n",
       "39        MS041_lcm4-lcm5   MS041  thalamus   10       0.008145   \n",
       "40        MS041_rcm1-rcm2   MS041  thalamus   10       0.006441   \n",
       "41        MS041_rcm2-rcm3   MS041  thalamus   10       0.004512   \n",
       "42        MS041_rcm3-rcm4   MS041  thalamus   10       0.000862   \n",
       "43        MS041_rcm4-rcm5   MS041  thalamus   10       0.002651   \n",
       "44  MS048_lcmang1-lcmang2   MS048  thalamus   19       0.007789   \n",
       "45  MS048_lcmang2-lcmang3   MS048  thalamus   19       0.005526   \n",
       "46  MS048_lcmang3-lcmang4   MS048  thalamus   19       0.013211   \n",
       "47  MS048_rcmang1-rcmang2   MS048  thalamus   19       0.007755   \n",
       "48  MS048_rcmang2-rcmang3   MS048  thalamus   19       0.012691   \n",
       "49  MS048_rcmang3-rcmang4   MS048  thalamus   19       0.016286   \n",
       "50  MS048_rcmang4-rcmang5   MS048  thalamus   19       0.027971   \n",
       "51  MS050_lcmang1-lcmang2   MS050  thalamus    9      -0.007619   \n",
       "52  MS050_lcmang2-lcmang3   MS050  thalamus    9      -0.002905   \n",
       "53  MS050_lcmang3-lcmang4   MS050  thalamus    9      -0.003291   \n",
       "54  MS050_lcmang4-lcmang5   MS050  thalamus    9      -0.004888   \n",
       "55  MS050_rcmsmg1-rcmsmg2   MS050  thalamus    9      -0.001920   \n",
       "56  MS050_rcmsmg2-rcmsmg3   MS050  thalamus    9      -0.000031   \n",
       "57  MS050_rcmsmg3-rcmsmg4   MS050  thalamus    9       0.000649   \n",
       "\n",
       "    raw_GambleChoice   raw_TrialEV  raw_TotalProfit  raw_decisionCPE  \\\n",
       "0          -0.000665 -1.593409e-04         0.001480         0.000734   \n",
       "1           0.000795 -1.098818e-03         0.005327        -0.002793   \n",
       "2           0.001823 -2.801408e-03        -0.000193        -0.002471   \n",
       "3          -0.000134  4.907670e-04        -0.004308         0.001494   \n",
       "4          -0.000393 -3.133365e-03         0.002357         0.000266   \n",
       "5          -0.000878  5.344902e-03        -0.001574         0.000983   \n",
       "6          -0.000591  3.667762e-03        -0.003036         0.001174   \n",
       "7          -0.001310  4.291979e-03        -0.000805         0.001504   \n",
       "8          -0.001530  8.241911e-04        -0.001138         0.002786   \n",
       "9          -0.001562 -5.957707e-04        -0.000723         0.002905   \n",
       "10          0.008873 -6.803773e-03         0.000017        -0.013500   \n",
       "11          0.000315 -9.836751e-04        -0.001593         0.000347   \n",
       "12          0.000861 -1.067918e-03         0.002648        -0.002044   \n",
       "13          0.000146 -2.025480e-03         0.000939        -0.000133   \n",
       "14          0.000029  3.017397e-03         0.000727        -0.001093   \n",
       "15          0.006820 -3.949573e-03         0.000536        -0.011028   \n",
       "16          0.001304 -1.568189e-03        -0.002942        -0.000848   \n",
       "17          0.001962 -1.913554e-03        -0.001721        -0.002418   \n",
       "18          0.000414 -8.094022e-03        -0.004349         0.002284   \n",
       "19         -0.000823 -5.419986e-03        -0.005089         0.003809   \n",
       "20         -0.001130 -9.193714e-04        -0.005026         0.003500   \n",
       "21         -0.000244  7.433194e-03        -0.007776         0.001338   \n",
       "22         -0.000225 -4.084927e-03        -0.007529         0.003478   \n",
       "23          0.000489 -2.486979e-03         0.000156        -0.000450   \n",
       "24          0.000824  4.215804e-03        -0.000096        -0.002250   \n",
       "25         -0.000303  1.894826e-03         0.000558        -0.000195   \n",
       "26         -0.000548 -1.319284e-03        -0.000542         0.001511   \n",
       "27         -0.000446  4.068878e-04         0.001032         0.000600   \n",
       "28          0.000280 -2.237357e-03         0.003758        -0.001054   \n",
       "29         -0.000861  5.242506e-03        -0.001253         0.000790   \n",
       "30          0.000185 -1.794025e-03         0.005993        -0.001664   \n",
       "31         -0.000058 -1.722202e-04         0.002394        -0.000369   \n",
       "32         -0.000593 -2.993889e-03         0.008534        -0.001471   \n",
       "33          0.000108  1.403474e-03         0.003238        -0.001444   \n",
       "34         -0.000030  3.483609e-04        -0.001847         0.000595   \n",
       "35         -0.000224  1.202485e-03         0.008552        -0.002592   \n",
       "36         -0.001058  4.147301e-03         0.002516         0.000059   \n",
       "37         -0.001086  1.109481e-03         0.009132        -0.001511   \n",
       "38         -0.001279  2.464478e-03         0.001870         0.000901   \n",
       "39         -0.000997  2.324053e-03        -0.000203         0.001210   \n",
       "40         -0.000589 -3.857879e-04         0.003833        -0.000113   \n",
       "41         -0.000375  2.799621e-03         0.015057        -0.004705   \n",
       "42         -0.000156  4.416394e-03         0.010245        -0.003931   \n",
       "43         -0.000366  3.868444e-03         0.012702        -0.004349   \n",
       "44         -0.000582 -3.777146e-03         0.001868         0.001208   \n",
       "45         -0.000585 -3.621729e-04        -0.003644         0.002200   \n",
       "46         -0.001584  6.777753e-03        -0.013961         0.005907   \n",
       "47         -0.000885 -1.008506e-03         0.004545         0.000035   \n",
       "48         -0.001383  4.103727e-03         0.001017         0.001202   \n",
       "49         -0.001481 -2.411120e-03        -0.001599         0.003627   \n",
       "50         -0.002943 -3.665159e-04         0.003450         0.003749   \n",
       "51          0.000775 -3.208644e-07        -0.002368        -0.000507   \n",
       "52          0.000296 -1.196989e-03        -0.010164         0.003116   \n",
       "53          0.000524 -2.491586e-03        -0.002747         0.000696   \n",
       "54          0.000676 -3.501783e-03        -0.014902         0.004599   \n",
       "55          0.000182  2.427784e-03        -0.006674         0.001522   \n",
       "56          0.000139 -8.072233e-04        -0.000054         0.000121   \n",
       "57          0.000076 -2.291497e-03        -0.006623         0.002679   \n",
       "\n",
       "    Intercept  GambleChoice   TrialEV  TotalProfit  decisionCPE  \n",
       "0    0.006730     -0.006660  0.002372    -0.000832     0.004577  \n",
       "1   -0.006926     -0.005201  0.001433     0.003016     0.001049  \n",
       "2   -0.017576     -0.004172 -0.000270    -0.002504     0.001371  \n",
       "3    0.000906     -0.006129  0.003023    -0.006619     0.005337  \n",
       "4    0.003189     -0.006388 -0.000602     0.000045     0.004108  \n",
       "5    0.007603     -0.006873  0.007877    -0.003886     0.004826  \n",
       "6    0.004148     -0.006586  0.006200    -0.005347     0.005017  \n",
       "7    0.010818     -0.007305  0.006824    -0.003116     0.005346  \n",
       "8    0.014705     -0.007525  0.003356    -0.003450     0.006629  \n",
       "9    0.014953     -0.007557  0.001936    -0.003035     0.006747  \n",
       "10  -0.085465      0.002878 -0.004272    -0.002295    -0.009657  \n",
       "11  -0.002159     -0.005681  0.001548    -0.003904     0.004190  \n",
       "12  -0.008264     -0.005134  0.001464     0.000337     0.001799  \n",
       "13  -0.000716     -0.005849  0.000506    -0.001372     0.003710  \n",
       "14  -0.002634     -0.005966  0.005549    -0.001585     0.002749  \n",
       "15  -0.067542      0.000825 -0.001418    -0.001776    -0.007185  \n",
       "16  -0.012009     -0.004691  0.000964    -0.005254     0.002994  \n",
       "17  -0.019413     -0.004034  0.000618    -0.004032     0.001425  \n",
       "18  -0.002346     -0.005581 -0.005562    -0.006660     0.006127  \n",
       "19   0.006899     -0.006818 -0.002888    -0.007400     0.007652  \n",
       "20   0.009475     -0.007125  0.001612    -0.007337     0.007343  \n",
       "21  -0.000666     -0.006240  0.009965    -0.010088     0.005180  \n",
       "22   0.001860     -0.006221 -0.001553    -0.009840     0.007321  \n",
       "23  -0.004829     -0.005507  0.000045    -0.002155     0.003392  \n",
       "24  -0.009734     -0.005171  0.006748    -0.002407     0.001593  \n",
       "25   0.001288     -0.006298  0.004427    -0.001753     0.003647  \n",
       "26   0.006850     -0.006543  0.001212    -0.002853     0.005354  \n",
       "27   0.006063     -0.006441  0.002939    -0.001279     0.004443  \n",
       "28  -0.000808     -0.005715  0.000294     0.001446     0.002788  \n",
       "29   0.006523     -0.006856  0.007774    -0.003564     0.004633  \n",
       "30   0.000860     -0.005810  0.000738     0.003682     0.002179  \n",
       "31   0.002807     -0.006053  0.002360     0.000082     0.003474  \n",
       "32   0.004731     -0.006588 -0.000462     0.006223     0.002372  \n",
       "33  -0.000620     -0.005887  0.003935     0.000926     0.002398  \n",
       "34   0.000157     -0.006025  0.002880    -0.004159     0.004437  \n",
       "35   0.002577     -0.006219  0.003734     0.006241     0.001251  \n",
       "36   0.008389     -0.007053  0.006679     0.000205     0.003902  \n",
       "37   0.010003     -0.007081  0.003641     0.006821     0.002331  \n",
       "38   0.010801     -0.007274  0.004996    -0.000441     0.004743  \n",
       "39   0.008003     -0.006992  0.004856    -0.002514     0.005053  \n",
       "40   0.006298     -0.006584  0.002146     0.001522     0.003730  \n",
       "41   0.004370     -0.006370  0.005331     0.012746    -0.000862  \n",
       "42   0.000720     -0.006151  0.006948     0.007934    -0.000088  \n",
       "43   0.002509     -0.006361  0.006400     0.010391    -0.000507  \n",
       "44   0.007646     -0.006577 -0.001245    -0.000443     0.005050  \n",
       "45   0.005384     -0.006580  0.002170    -0.005955     0.006042  \n",
       "46   0.013069     -0.007580  0.009310    -0.016272     0.009750  \n",
       "47   0.007613     -0.006880  0.001523     0.002234     0.003877  \n",
       "48   0.012549     -0.007378  0.006635    -0.001294     0.005045  \n",
       "49   0.016144     -0.007476  0.000121    -0.003910     0.007470  \n",
       "50   0.027828     -0.008938  0.002165     0.001138     0.007591  \n",
       "51  -0.007761     -0.005220  0.002531    -0.004679     0.003335  \n",
       "52  -0.003047     -0.005699  0.001335    -0.012475     0.006958  \n",
       "53  -0.003434     -0.005471  0.000040    -0.005058     0.004538  \n",
       "54  -0.005031     -0.005319 -0.000970    -0.017213     0.008442  \n",
       "55  -0.002062     -0.005814  0.004960    -0.008985     0.005365  \n",
       "56  -0.000173     -0.005856  0.001725    -0.002365     0.003964  \n",
       "57   0.000506     -0.005919  0.000240    -0.008934     0.006521  "
      ]
     },
     "execution_count": 49,
     "metadata": {},
     "output_type": "execute_result"
    }
   ],
   "source": [
    "roi_fit"
   ]
  },
  {
   "cell_type": "code",
   "execution_count": 50,
   "id": "c6bf272f",
   "metadata": {},
   "outputs": [
    {
     "data": {
      "text/html": [
       "<div>\n",
       "<style scoped>\n",
       "    .dataframe tbody tr th:only-of-type {\n",
       "        vertical-align: middle;\n",
       "    }\n",
       "\n",
       "    .dataframe tbody tr th {\n",
       "        vertical-align: top;\n",
       "    }\n",
       "\n",
       "    .dataframe thead th {\n",
       "        text-align: right;\n",
       "    }\n",
       "</style>\n",
       "<table border=\"1\" class=\"dataframe\">\n",
       "  <thead>\n",
       "    <tr style=\"text-align: right;\">\n",
       "      <th></th>\n",
       "      <th>unique_reref_ch</th>\n",
       "      <th>subj_id</th>\n",
       "      <th>roi</th>\n",
       "      <th>bdi</th>\n",
       "      <th>raw_Intercept</th>\n",
       "      <th>raw_GambleChoice</th>\n",
       "      <th>raw_TrialEV</th>\n",
       "      <th>raw_TotalProfit</th>\n",
       "      <th>raw_decisionCPE</th>\n",
       "      <th>Intercept</th>\n",
       "      <th>GambleChoice</th>\n",
       "      <th>TrialEV</th>\n",
       "      <th>TotalProfit</th>\n",
       "      <th>decisionCPE</th>\n",
       "    </tr>\n",
       "  </thead>\n",
       "  <tbody>\n",
       "    <tr>\n",
       "      <th>0</th>\n",
       "      <td>DA023_lac1-lac2</td>\n",
       "      <td>DA023</td>\n",
       "      <td>acc</td>\n",
       "      <td>14</td>\n",
       "      <td>0.007214</td>\n",
       "      <td>-0.007989</td>\n",
       "      <td>0.001738</td>\n",
       "      <td>-0.027813</td>\n",
       "      <td>0.000204</td>\n",
       "      <td>0.003946</td>\n",
       "      <td>-0.014318</td>\n",
       "      <td>0.002808</td>\n",
       "      <td>-0.044196</td>\n",
       "      <td>0.006267</td>\n",
       "    </tr>\n",
       "    <tr>\n",
       "      <th>1</th>\n",
       "      <td>DA023_lac2-lac3</td>\n",
       "      <td>DA023</td>\n",
       "      <td>acc</td>\n",
       "      <td>14</td>\n",
       "      <td>0.009459</td>\n",
       "      <td>-0.003254</td>\n",
       "      <td>0.003346</td>\n",
       "      <td>-0.025586</td>\n",
       "      <td>-0.000491</td>\n",
       "      <td>0.006192</td>\n",
       "      <td>-0.009582</td>\n",
       "      <td>0.004416</td>\n",
       "      <td>-0.041969</td>\n",
       "      <td>0.005572</td>\n",
       "    </tr>\n",
       "    <tr>\n",
       "      <th>2</th>\n",
       "      <td>DA023_lac3-lac4</td>\n",
       "      <td>DA023</td>\n",
       "      <td>acc</td>\n",
       "      <td>14</td>\n",
       "      <td>0.004643</td>\n",
       "      <td>0.005244</td>\n",
       "      <td>0.002455</td>\n",
       "      <td>-0.017967</td>\n",
       "      <td>-0.002233</td>\n",
       "      <td>0.001375</td>\n",
       "      <td>-0.001085</td>\n",
       "      <td>0.003525</td>\n",
       "      <td>-0.034350</td>\n",
       "      <td>0.003830</td>\n",
       "    </tr>\n",
       "    <tr>\n",
       "      <th>3</th>\n",
       "      <td>MS002_lacas1-lacas2</td>\n",
       "      <td>MS002</td>\n",
       "      <td>acc</td>\n",
       "      <td>14</td>\n",
       "      <td>0.008705</td>\n",
       "      <td>-0.007038</td>\n",
       "      <td>0.002786</td>\n",
       "      <td>-0.006983</td>\n",
       "      <td>0.002307</td>\n",
       "      <td>0.005438</td>\n",
       "      <td>-0.013367</td>\n",
       "      <td>0.003856</td>\n",
       "      <td>-0.023365</td>\n",
       "      <td>0.008370</td>\n",
       "    </tr>\n",
       "    <tr>\n",
       "      <th>4</th>\n",
       "      <td>MS002_lacas2-lacas3</td>\n",
       "      <td>MS002</td>\n",
       "      <td>acc</td>\n",
       "      <td>14</td>\n",
       "      <td>0.010106</td>\n",
       "      <td>-0.010304</td>\n",
       "      <td>0.002916</td>\n",
       "      <td>-0.002370</td>\n",
       "      <td>0.003793</td>\n",
       "      <td>0.006839</td>\n",
       "      <td>-0.016632</td>\n",
       "      <td>0.003987</td>\n",
       "      <td>-0.018753</td>\n",
       "      <td>0.009856</td>\n",
       "    </tr>\n",
       "    <tr>\n",
       "      <th>...</th>\n",
       "      <td>...</td>\n",
       "      <td>...</td>\n",
       "      <td>...</td>\n",
       "      <td>...</td>\n",
       "      <td>...</td>\n",
       "      <td>...</td>\n",
       "      <td>...</td>\n",
       "      <td>...</td>\n",
       "      <td>...</td>\n",
       "      <td>...</td>\n",
       "      <td>...</td>\n",
       "      <td>...</td>\n",
       "      <td>...</td>\n",
       "      <td>...</td>\n",
       "    </tr>\n",
       "    <tr>\n",
       "      <th>1771</th>\n",
       "      <td>MS050_lcmang3-lcmang4</td>\n",
       "      <td>MS050</td>\n",
       "      <td>thalamus</td>\n",
       "      <td>9</td>\n",
       "      <td>-0.003291</td>\n",
       "      <td>0.000524</td>\n",
       "      <td>-0.002492</td>\n",
       "      <td>-0.002747</td>\n",
       "      <td>0.000696</td>\n",
       "      <td>-0.003434</td>\n",
       "      <td>-0.005471</td>\n",
       "      <td>0.000040</td>\n",
       "      <td>-0.005058</td>\n",
       "      <td>0.004538</td>\n",
       "    </tr>\n",
       "    <tr>\n",
       "      <th>1772</th>\n",
       "      <td>MS050_lcmang4-lcmang5</td>\n",
       "      <td>MS050</td>\n",
       "      <td>thalamus</td>\n",
       "      <td>9</td>\n",
       "      <td>-0.004888</td>\n",
       "      <td>0.000676</td>\n",
       "      <td>-0.003502</td>\n",
       "      <td>-0.014902</td>\n",
       "      <td>0.004599</td>\n",
       "      <td>-0.005031</td>\n",
       "      <td>-0.005319</td>\n",
       "      <td>-0.000970</td>\n",
       "      <td>-0.017213</td>\n",
       "      <td>0.008442</td>\n",
       "    </tr>\n",
       "    <tr>\n",
       "      <th>1773</th>\n",
       "      <td>MS050_rcmsmg1-rcmsmg2</td>\n",
       "      <td>MS050</td>\n",
       "      <td>thalamus</td>\n",
       "      <td>9</td>\n",
       "      <td>-0.001920</td>\n",
       "      <td>0.000182</td>\n",
       "      <td>0.002428</td>\n",
       "      <td>-0.006674</td>\n",
       "      <td>0.001522</td>\n",
       "      <td>-0.002062</td>\n",
       "      <td>-0.005814</td>\n",
       "      <td>0.004960</td>\n",
       "      <td>-0.008985</td>\n",
       "      <td>0.005365</td>\n",
       "    </tr>\n",
       "    <tr>\n",
       "      <th>1774</th>\n",
       "      <td>MS050_rcmsmg2-rcmsmg3</td>\n",
       "      <td>MS050</td>\n",
       "      <td>thalamus</td>\n",
       "      <td>9</td>\n",
       "      <td>-0.000031</td>\n",
       "      <td>0.000139</td>\n",
       "      <td>-0.000807</td>\n",
       "      <td>-0.000054</td>\n",
       "      <td>0.000121</td>\n",
       "      <td>-0.000173</td>\n",
       "      <td>-0.005856</td>\n",
       "      <td>0.001725</td>\n",
       "      <td>-0.002365</td>\n",
       "      <td>0.003964</td>\n",
       "    </tr>\n",
       "    <tr>\n",
       "      <th>1775</th>\n",
       "      <td>MS050_rcmsmg3-rcmsmg4</td>\n",
       "      <td>MS050</td>\n",
       "      <td>thalamus</td>\n",
       "      <td>9</td>\n",
       "      <td>0.000649</td>\n",
       "      <td>0.000076</td>\n",
       "      <td>-0.002291</td>\n",
       "      <td>-0.006623</td>\n",
       "      <td>0.002679</td>\n",
       "      <td>0.000506</td>\n",
       "      <td>-0.005919</td>\n",
       "      <td>0.000240</td>\n",
       "      <td>-0.008934</td>\n",
       "      <td>0.006521</td>\n",
       "    </tr>\n",
       "  </tbody>\n",
       "</table>\n",
       "<p>1776 rows × 14 columns</p>\n",
       "</div>"
      ],
      "text/plain": [
       "            unique_reref_ch subj_id       roi  bdi  raw_Intercept  \\\n",
       "0           DA023_lac1-lac2   DA023       acc   14       0.007214   \n",
       "1           DA023_lac2-lac3   DA023       acc   14       0.009459   \n",
       "2           DA023_lac3-lac4   DA023       acc   14       0.004643   \n",
       "3       MS002_lacas1-lacas2   MS002       acc   14       0.008705   \n",
       "4       MS002_lacas2-lacas3   MS002       acc   14       0.010106   \n",
       "...                     ...     ...       ...  ...            ...   \n",
       "1771  MS050_lcmang3-lcmang4   MS050  thalamus    9      -0.003291   \n",
       "1772  MS050_lcmang4-lcmang5   MS050  thalamus    9      -0.004888   \n",
       "1773  MS050_rcmsmg1-rcmsmg2   MS050  thalamus    9      -0.001920   \n",
       "1774  MS050_rcmsmg2-rcmsmg3   MS050  thalamus    9      -0.000031   \n",
       "1775  MS050_rcmsmg3-rcmsmg4   MS050  thalamus    9       0.000649   \n",
       "\n",
       "      raw_GambleChoice  raw_TrialEV  raw_TotalProfit  raw_decisionCPE  \\\n",
       "0            -0.007989     0.001738        -0.027813         0.000204   \n",
       "1            -0.003254     0.003346        -0.025586        -0.000491   \n",
       "2             0.005244     0.002455        -0.017967        -0.002233   \n",
       "3            -0.007038     0.002786        -0.006983         0.002307   \n",
       "4            -0.010304     0.002916        -0.002370         0.003793   \n",
       "...                ...          ...              ...              ...   \n",
       "1771          0.000524    -0.002492        -0.002747         0.000696   \n",
       "1772          0.000676    -0.003502        -0.014902         0.004599   \n",
       "1773          0.000182     0.002428        -0.006674         0.001522   \n",
       "1774          0.000139    -0.000807        -0.000054         0.000121   \n",
       "1775          0.000076    -0.002291        -0.006623         0.002679   \n",
       "\n",
       "      Intercept  GambleChoice   TrialEV  TotalProfit  decisionCPE  \n",
       "0      0.003946     -0.014318  0.002808    -0.044196     0.006267  \n",
       "1      0.006192     -0.009582  0.004416    -0.041969     0.005572  \n",
       "2      0.001375     -0.001085  0.003525    -0.034350     0.003830  \n",
       "3      0.005438     -0.013367  0.003856    -0.023365     0.008370  \n",
       "4      0.006839     -0.016632  0.003987    -0.018753     0.009856  \n",
       "...         ...           ...       ...          ...          ...  \n",
       "1771  -0.003434     -0.005471  0.000040    -0.005058     0.004538  \n",
       "1772  -0.005031     -0.005319 -0.000970    -0.017213     0.008442  \n",
       "1773  -0.002062     -0.005814  0.004960    -0.008985     0.005365  \n",
       "1774  -0.000173     -0.005856  0.001725    -0.002365     0.003964  \n",
       "1775   0.000506     -0.005919  0.000240    -0.008934     0.006521  \n",
       "\n",
       "[1776 rows x 14 columns]"
      ]
     },
     "execution_count": 50,
     "metadata": {},
     "output_type": "execute_result"
    }
   ],
   "source": [
    "roi_fit_results"
   ]
  },
  {
   "cell_type": "code",
   "execution_count": 51,
   "id": "7918a2ca",
   "metadata": {},
   "outputs": [],
   "source": [
    "fe_params_results = {f'{roi}':roi_fit_dict[roi].fe_params for roi in list(roi_fit_dict.keys())}\n",
    "# fe_params_pvals = {f'{roi}':roi_fit_dict[roi].pvalues for roi in list(roi_fit_dict.keys())}\n"
   ]
  },
  {
   "cell_type": "code",
   "execution_count": 52,
   "id": "20a84de8",
   "metadata": {
    "scrolled": true
   },
   "outputs": [],
   "source": [
    "# fe_params_results"
   ]
  },
  {
   "cell_type": "code",
   "execution_count": 53,
   "id": "a9a1f245",
   "metadata": {},
   "outputs": [],
   "source": [
    "fe_results = []\n",
    "for fe_res in fe_params_results:\n",
    "    \n",
    "    fe_results.append(pd.DataFrame({**dict(fe_params_results[fe_res]),**{'roi':fe_res}},index=[0]))\n"
   ]
  },
  {
   "cell_type": "code",
   "execution_count": 54,
   "id": "0d637ccc",
   "metadata": {},
   "outputs": [],
   "source": [
    "fe_results = pd.concat(fe_results).reset_index(drop=True)"
   ]
  },
  {
   "cell_type": "code",
   "execution_count": 55,
   "id": "2647169e",
   "metadata": {},
   "outputs": [],
   "source": [
    "fe_results['roi_cpe_pval'] = [np.round(roi_fit_dict[roi].pvalues['decisionCPE'],4) for roi in fe_results.roi.tolist()]"
   ]
  },
  {
   "cell_type": "code",
   "execution_count": 56,
   "id": "312c098a",
   "metadata": {},
   "outputs": [
    {
     "data": {
      "text/html": [
       "<div>\n",
       "<style scoped>\n",
       "    .dataframe tbody tr th:only-of-type {\n",
       "        vertical-align: middle;\n",
       "    }\n",
       "\n",
       "    .dataframe tbody tr th {\n",
       "        vertical-align: top;\n",
       "    }\n",
       "\n",
       "    .dataframe thead th {\n",
       "        text-align: right;\n",
       "    }\n",
       "</style>\n",
       "<table border=\"1\" class=\"dataframe\">\n",
       "  <thead>\n",
       "    <tr style=\"text-align: right;\">\n",
       "      <th></th>\n",
       "      <th>Intercept</th>\n",
       "      <th>C(GambleChoice)[T.safe]</th>\n",
       "      <th>TrialEV</th>\n",
       "      <th>TotalProfit</th>\n",
       "      <th>decisionCPE</th>\n",
       "      <th>roi</th>\n",
       "      <th>roi_cpe_pval</th>\n",
       "    </tr>\n",
       "  </thead>\n",
       "  <tbody>\n",
       "    <tr>\n",
       "      <th>0</th>\n",
       "      <td>-0.003268</td>\n",
       "      <td>-0.006328</td>\n",
       "      <td>0.001070</td>\n",
       "      <td>-0.016383</td>\n",
       "      <td>0.006063</td>\n",
       "      <td>acc</td>\n",
       "      <td>0.0000</td>\n",
       "    </tr>\n",
       "    <tr>\n",
       "      <th>1</th>\n",
       "      <td>-0.007781</td>\n",
       "      <td>0.004094</td>\n",
       "      <td>0.003185</td>\n",
       "      <td>-0.016321</td>\n",
       "      <td>0.000934</td>\n",
       "      <td>dmpfc</td>\n",
       "      <td>0.4990</td>\n",
       "    </tr>\n",
       "    <tr>\n",
       "      <th>2</th>\n",
       "      <td>-0.022986</td>\n",
       "      <td>0.001860</td>\n",
       "      <td>-0.004113</td>\n",
       "      <td>0.005055</td>\n",
       "      <td>0.005977</td>\n",
       "      <td>amy</td>\n",
       "      <td>0.0014</td>\n",
       "    </tr>\n",
       "    <tr>\n",
       "      <th>3</th>\n",
       "      <td>-0.018185</td>\n",
       "      <td>0.000733</td>\n",
       "      <td>0.003200</td>\n",
       "      <td>-0.017999</td>\n",
       "      <td>-0.003130</td>\n",
       "      <td>sts</td>\n",
       "      <td>0.3842</td>\n",
       "    </tr>\n",
       "    <tr>\n",
       "      <th>4</th>\n",
       "      <td>0.002974</td>\n",
       "      <td>0.001724</td>\n",
       "      <td>0.002923</td>\n",
       "      <td>0.001323</td>\n",
       "      <td>0.003803</td>\n",
       "      <td>ains</td>\n",
       "      <td>0.1765</td>\n",
       "    </tr>\n",
       "    <tr>\n",
       "      <th>5</th>\n",
       "      <td>-0.006529</td>\n",
       "      <td>0.008360</td>\n",
       "      <td>-0.000517</td>\n",
       "      <td>-0.011900</td>\n",
       "      <td>0.002990</td>\n",
       "      <td>vlpfc</td>\n",
       "      <td>0.2936</td>\n",
       "    </tr>\n",
       "    <tr>\n",
       "      <th>6</th>\n",
       "      <td>-0.066809</td>\n",
       "      <td>0.008019</td>\n",
       "      <td>0.004353</td>\n",
       "      <td>0.000272</td>\n",
       "      <td>0.001566</td>\n",
       "      <td>hpc</td>\n",
       "      <td>0.4437</td>\n",
       "    </tr>\n",
       "    <tr>\n",
       "      <th>7</th>\n",
       "      <td>-0.031222</td>\n",
       "      <td>0.014226</td>\n",
       "      <td>-0.000491</td>\n",
       "      <td>-0.026168</td>\n",
       "      <td>0.006130</td>\n",
       "      <td>mtg</td>\n",
       "      <td>0.2960</td>\n",
       "    </tr>\n",
       "    <tr>\n",
       "      <th>8</th>\n",
       "      <td>-0.018035</td>\n",
       "      <td>0.013958</td>\n",
       "      <td>0.001655</td>\n",
       "      <td>-0.011424</td>\n",
       "      <td>0.010375</td>\n",
       "      <td>ofc</td>\n",
       "      <td>0.0000</td>\n",
       "    </tr>\n",
       "    <tr>\n",
       "      <th>9</th>\n",
       "      <td>-0.057453</td>\n",
       "      <td>-0.000628</td>\n",
       "      <td>0.002393</td>\n",
       "      <td>0.008764</td>\n",
       "      <td>0.000633</td>\n",
       "      <td>pins</td>\n",
       "      <td>0.8404</td>\n",
       "    </tr>\n",
       "    <tr>\n",
       "      <th>10</th>\n",
       "      <td>-0.015540</td>\n",
       "      <td>0.017671</td>\n",
       "      <td>0.004062</td>\n",
       "      <td>-0.011551</td>\n",
       "      <td>0.001066</td>\n",
       "      <td>dlpfc</td>\n",
       "      <td>0.7197</td>\n",
       "    </tr>\n",
       "    <tr>\n",
       "      <th>11</th>\n",
       "      <td>-0.003990</td>\n",
       "      <td>0.010922</td>\n",
       "      <td>0.002159</td>\n",
       "      <td>-0.006146</td>\n",
       "      <td>0.007495</td>\n",
       "      <td>motor</td>\n",
       "      <td>0.1690</td>\n",
       "    </tr>\n",
       "    <tr>\n",
       "      <th>12</th>\n",
       "      <td>-0.078238</td>\n",
       "      <td>-0.012701</td>\n",
       "      <td>0.007831</td>\n",
       "      <td>-0.000931</td>\n",
       "      <td>0.019440</td>\n",
       "      <td>vmpfc</td>\n",
       "      <td>0.0004</td>\n",
       "    </tr>\n",
       "    <tr>\n",
       "      <th>13</th>\n",
       "      <td>0.009746</td>\n",
       "      <td>-0.003386</td>\n",
       "      <td>-0.000804</td>\n",
       "      <td>-0.008590</td>\n",
       "      <td>-0.000190</td>\n",
       "      <td>phg</td>\n",
       "      <td>0.9553</td>\n",
       "    </tr>\n",
       "    <tr>\n",
       "      <th>14</th>\n",
       "      <td>-0.009603</td>\n",
       "      <td>0.010053</td>\n",
       "      <td>-0.004701</td>\n",
       "      <td>-0.022624</td>\n",
       "      <td>0.004894</td>\n",
       "      <td>smg</td>\n",
       "      <td>0.1070</td>\n",
       "    </tr>\n",
       "    <tr>\n",
       "      <th>15</th>\n",
       "      <td>-0.019789</td>\n",
       "      <td>-0.004594</td>\n",
       "      <td>0.002869</td>\n",
       "      <td>0.009605</td>\n",
       "      <td>-0.001800</td>\n",
       "      <td>stg</td>\n",
       "      <td>0.6377</td>\n",
       "    </tr>\n",
       "    <tr>\n",
       "      <th>16</th>\n",
       "      <td>-0.008961</td>\n",
       "      <td>-0.008426</td>\n",
       "      <td>0.002187</td>\n",
       "      <td>-0.008555</td>\n",
       "      <td>0.008229</td>\n",
       "      <td>mcc</td>\n",
       "      <td>0.0248</td>\n",
       "    </tr>\n",
       "    <tr>\n",
       "      <th>17</th>\n",
       "      <td>-0.025077</td>\n",
       "      <td>-0.002216</td>\n",
       "      <td>0.002929</td>\n",
       "      <td>-0.008370</td>\n",
       "      <td>0.007902</td>\n",
       "      <td>temporal pole</td>\n",
       "      <td>0.1153</td>\n",
       "    </tr>\n",
       "    <tr>\n",
       "      <th>18</th>\n",
       "      <td>0.015173</td>\n",
       "      <td>0.014987</td>\n",
       "      <td>-0.009023</td>\n",
       "      <td>-0.015614</td>\n",
       "      <td>-0.005644</td>\n",
       "      <td>parietal</td>\n",
       "      <td>0.2302</td>\n",
       "    </tr>\n",
       "    <tr>\n",
       "      <th>19</th>\n",
       "      <td>-0.000142</td>\n",
       "      <td>-0.005995</td>\n",
       "      <td>0.002532</td>\n",
       "      <td>-0.002311</td>\n",
       "      <td>0.003843</td>\n",
       "      <td>thalamus</td>\n",
       "      <td>0.0139</td>\n",
       "    </tr>\n",
       "  </tbody>\n",
       "</table>\n",
       "</div>"
      ],
      "text/plain": [
       "    Intercept  C(GambleChoice)[T.safe]   TrialEV  TotalProfit  decisionCPE  \\\n",
       "0   -0.003268                -0.006328  0.001070    -0.016383     0.006063   \n",
       "1   -0.007781                 0.004094  0.003185    -0.016321     0.000934   \n",
       "2   -0.022986                 0.001860 -0.004113     0.005055     0.005977   \n",
       "3   -0.018185                 0.000733  0.003200    -0.017999    -0.003130   \n",
       "4    0.002974                 0.001724  0.002923     0.001323     0.003803   \n",
       "5   -0.006529                 0.008360 -0.000517    -0.011900     0.002990   \n",
       "6   -0.066809                 0.008019  0.004353     0.000272     0.001566   \n",
       "7   -0.031222                 0.014226 -0.000491    -0.026168     0.006130   \n",
       "8   -0.018035                 0.013958  0.001655    -0.011424     0.010375   \n",
       "9   -0.057453                -0.000628  0.002393     0.008764     0.000633   \n",
       "10  -0.015540                 0.017671  0.004062    -0.011551     0.001066   \n",
       "11  -0.003990                 0.010922  0.002159    -0.006146     0.007495   \n",
       "12  -0.078238                -0.012701  0.007831    -0.000931     0.019440   \n",
       "13   0.009746                -0.003386 -0.000804    -0.008590    -0.000190   \n",
       "14  -0.009603                 0.010053 -0.004701    -0.022624     0.004894   \n",
       "15  -0.019789                -0.004594  0.002869     0.009605    -0.001800   \n",
       "16  -0.008961                -0.008426  0.002187    -0.008555     0.008229   \n",
       "17  -0.025077                -0.002216  0.002929    -0.008370     0.007902   \n",
       "18   0.015173                 0.014987 -0.009023    -0.015614    -0.005644   \n",
       "19  -0.000142                -0.005995  0.002532    -0.002311     0.003843   \n",
       "\n",
       "              roi  roi_cpe_pval  \n",
       "0             acc        0.0000  \n",
       "1           dmpfc        0.4990  \n",
       "2             amy        0.0014  \n",
       "3             sts        0.3842  \n",
       "4            ains        0.1765  \n",
       "5           vlpfc        0.2936  \n",
       "6             hpc        0.4437  \n",
       "7             mtg        0.2960  \n",
       "8             ofc        0.0000  \n",
       "9            pins        0.8404  \n",
       "10          dlpfc        0.7197  \n",
       "11          motor        0.1690  \n",
       "12          vmpfc        0.0004  \n",
       "13            phg        0.9553  \n",
       "14            smg        0.1070  \n",
       "15            stg        0.6377  \n",
       "16            mcc        0.0248  \n",
       "17  temporal pole        0.1153  \n",
       "18       parietal        0.2302  \n",
       "19       thalamus        0.0139  "
      ]
     },
     "execution_count": 56,
     "metadata": {},
     "output_type": "execute_result"
    }
   ],
   "source": [
    "fe_results"
   ]
  },
  {
   "cell_type": "code",
   "execution_count": 46,
   "id": "3323e730",
   "metadata": {},
   "outputs": [
    {
     "data": {
      "text/html": [
       "<div>\n",
       "<style scoped>\n",
       "    .dataframe tbody tr th:only-of-type {\n",
       "        vertical-align: middle;\n",
       "    }\n",
       "\n",
       "    .dataframe tbody tr th {\n",
       "        vertical-align: top;\n",
       "    }\n",
       "\n",
       "    .dataframe thead th {\n",
       "        text-align: right;\n",
       "    }\n",
       "</style>\n",
       "<table border=\"1\" class=\"dataframe\">\n",
       "  <thead>\n",
       "    <tr style=\"text-align: right;\">\n",
       "      <th></th>\n",
       "      <th>Intercept</th>\n",
       "      <th>C(GambleChoice)[T.safe]</th>\n",
       "      <th>TotalProfit</th>\n",
       "      <th>decisionCPE</th>\n",
       "      <th>roi</th>\n",
       "      <th>roi_cpe_pval</th>\n",
       "    </tr>\n",
       "  </thead>\n",
       "  <tbody>\n",
       "    <tr>\n",
       "      <th>0</th>\n",
       "      <td>-0.003127</td>\n",
       "      <td>-0.006629</td>\n",
       "      <td>-0.016311</td>\n",
       "      <td>0.006082</td>\n",
       "      <td>acc</td>\n",
       "      <td>0.0000</td>\n",
       "    </tr>\n",
       "    <tr>\n",
       "      <th>1</th>\n",
       "      <td>-0.007270</td>\n",
       "      <td>0.003150</td>\n",
       "      <td>-0.016037</td>\n",
       "      <td>0.001050</td>\n",
       "      <td>dmpfc</td>\n",
       "      <td>0.4429</td>\n",
       "    </tr>\n",
       "    <tr>\n",
       "      <th>2</th>\n",
       "      <td>-0.023818</td>\n",
       "      <td>0.004101</td>\n",
       "      <td>0.004945</td>\n",
       "      <td>0.005485</td>\n",
       "      <td>amy</td>\n",
       "      <td>0.0017</td>\n",
       "    </tr>\n",
       "    <tr>\n",
       "      <th>3</th>\n",
       "      <td>-0.017657</td>\n",
       "      <td>-0.000450</td>\n",
       "      <td>-0.017851</td>\n",
       "      <td>-0.002955</td>\n",
       "      <td>sts</td>\n",
       "      <td>0.4066</td>\n",
       "    </tr>\n",
       "    <tr>\n",
       "      <th>4</th>\n",
       "      <td>0.003612</td>\n",
       "      <td>0.000477</td>\n",
       "      <td>0.001418</td>\n",
       "      <td>0.003606</td>\n",
       "      <td>ains</td>\n",
       "      <td>0.2052</td>\n",
       "    </tr>\n",
       "    <tr>\n",
       "      <th>5</th>\n",
       "      <td>-0.006548</td>\n",
       "      <td>0.008140</td>\n",
       "      <td>-0.012127</td>\n",
       "      <td>0.003334</td>\n",
       "      <td>vlpfc</td>\n",
       "      <td>0.2230</td>\n",
       "    </tr>\n",
       "    <tr>\n",
       "      <th>6</th>\n",
       "      <td>-0.065942</td>\n",
       "      <td>0.006620</td>\n",
       "      <td>0.000569</td>\n",
       "      <td>0.001143</td>\n",
       "      <td>hpc</td>\n",
       "      <td>0.5598</td>\n",
       "    </tr>\n",
       "    <tr>\n",
       "      <th>7</th>\n",
       "      <td>-0.031259</td>\n",
       "      <td>0.014432</td>\n",
       "      <td>-0.026211</td>\n",
       "      <td>0.006029</td>\n",
       "      <td>mtg</td>\n",
       "      <td>0.3054</td>\n",
       "    </tr>\n",
       "    <tr>\n",
       "      <th>8</th>\n",
       "      <td>-0.017959</td>\n",
       "      <td>0.013504</td>\n",
       "      <td>-0.011381</td>\n",
       "      <td>0.010476</td>\n",
       "      <td>ofc</td>\n",
       "      <td>0.0000</td>\n",
       "    </tr>\n",
       "    <tr>\n",
       "      <th>9</th>\n",
       "      <td>-0.057079</td>\n",
       "      <td>-0.001648</td>\n",
       "      <td>0.009018</td>\n",
       "      <td>0.000839</td>\n",
       "      <td>pins</td>\n",
       "      <td>0.7850</td>\n",
       "    </tr>\n",
       "    <tr>\n",
       "      <th>10</th>\n",
       "      <td>-0.014953</td>\n",
       "      <td>0.016304</td>\n",
       "      <td>-0.011640</td>\n",
       "      <td>0.001407</td>\n",
       "      <td>dlpfc</td>\n",
       "      <td>0.6408</td>\n",
       "    </tr>\n",
       "    <tr>\n",
       "      <th>11</th>\n",
       "      <td>-0.003851</td>\n",
       "      <td>0.010322</td>\n",
       "      <td>-0.006231</td>\n",
       "      <td>0.007774</td>\n",
       "      <td>motor</td>\n",
       "      <td>0.1773</td>\n",
       "    </tr>\n",
       "    <tr>\n",
       "      <th>12</th>\n",
       "      <td>-0.077157</td>\n",
       "      <td>-0.015579</td>\n",
       "      <td>-0.001844</td>\n",
       "      <td>0.020130</td>\n",
       "      <td>vmpfc</td>\n",
       "      <td>0.0001</td>\n",
       "    </tr>\n",
       "    <tr>\n",
       "      <th>13</th>\n",
       "      <td>0.009343</td>\n",
       "      <td>-0.002290</td>\n",
       "      <td>-0.008501</td>\n",
       "      <td>-0.001252</td>\n",
       "      <td>phg</td>\n",
       "      <td>0.6998</td>\n",
       "    </tr>\n",
       "    <tr>\n",
       "      <th>14</th>\n",
       "      <td>-0.010114</td>\n",
       "      <td>0.011340</td>\n",
       "      <td>-0.022661</td>\n",
       "      <td>0.004955</td>\n",
       "      <td>smg</td>\n",
       "      <td>0.1251</td>\n",
       "    </tr>\n",
       "    <tr>\n",
       "      <th>15</th>\n",
       "      <td>-0.019271</td>\n",
       "      <td>-0.005720</td>\n",
       "      <td>0.009677</td>\n",
       "      <td>-0.001537</td>\n",
       "      <td>stg</td>\n",
       "      <td>0.6675</td>\n",
       "    </tr>\n",
       "    <tr>\n",
       "      <th>16</th>\n",
       "      <td>-0.008820</td>\n",
       "      <td>-0.009025</td>\n",
       "      <td>-0.008087</td>\n",
       "      <td>0.009008</td>\n",
       "      <td>mcc</td>\n",
       "      <td>0.0054</td>\n",
       "    </tr>\n",
       "    <tr>\n",
       "      <th>17</th>\n",
       "      <td>-0.024401</td>\n",
       "      <td>-0.003576</td>\n",
       "      <td>-0.008862</td>\n",
       "      <td>0.007756</td>\n",
       "      <td>temporal pole</td>\n",
       "      <td>0.1158</td>\n",
       "    </tr>\n",
       "    <tr>\n",
       "      <th>18</th>\n",
       "      <td>0.014121</td>\n",
       "      <td>0.017154</td>\n",
       "      <td>-0.016897</td>\n",
       "      <td>-0.005660</td>\n",
       "      <td>parietal</td>\n",
       "      <td>0.2088</td>\n",
       "    </tr>\n",
       "    <tr>\n",
       "      <th>19</th>\n",
       "      <td>0.000235</td>\n",
       "      <td>-0.006774</td>\n",
       "      <td>-0.002059</td>\n",
       "      <td>0.003983</td>\n",
       "      <td>thalamus</td>\n",
       "      <td>0.0092</td>\n",
       "    </tr>\n",
       "  </tbody>\n",
       "</table>\n",
       "</div>"
      ],
      "text/plain": [
       "    Intercept  C(GambleChoice)[T.safe]  TotalProfit  decisionCPE  \\\n",
       "0   -0.003127                -0.006629    -0.016311     0.006082   \n",
       "1   -0.007270                 0.003150    -0.016037     0.001050   \n",
       "2   -0.023818                 0.004101     0.004945     0.005485   \n",
       "3   -0.017657                -0.000450    -0.017851    -0.002955   \n",
       "4    0.003612                 0.000477     0.001418     0.003606   \n",
       "5   -0.006548                 0.008140    -0.012127     0.003334   \n",
       "6   -0.065942                 0.006620     0.000569     0.001143   \n",
       "7   -0.031259                 0.014432    -0.026211     0.006029   \n",
       "8   -0.017959                 0.013504    -0.011381     0.010476   \n",
       "9   -0.057079                -0.001648     0.009018     0.000839   \n",
       "10  -0.014953                 0.016304    -0.011640     0.001407   \n",
       "11  -0.003851                 0.010322    -0.006231     0.007774   \n",
       "12  -0.077157                -0.015579    -0.001844     0.020130   \n",
       "13   0.009343                -0.002290    -0.008501    -0.001252   \n",
       "14  -0.010114                 0.011340    -0.022661     0.004955   \n",
       "15  -0.019271                -0.005720     0.009677    -0.001537   \n",
       "16  -0.008820                -0.009025    -0.008087     0.009008   \n",
       "17  -0.024401                -0.003576    -0.008862     0.007756   \n",
       "18   0.014121                 0.017154    -0.016897    -0.005660   \n",
       "19   0.000235                -0.006774    -0.002059     0.003983   \n",
       "\n",
       "              roi  roi_cpe_pval  \n",
       "0             acc        0.0000  \n",
       "1           dmpfc        0.4429  \n",
       "2             amy        0.0017  \n",
       "3             sts        0.4066  \n",
       "4            ains        0.2052  \n",
       "5           vlpfc        0.2230  \n",
       "6             hpc        0.5598  \n",
       "7             mtg        0.3054  \n",
       "8             ofc        0.0000  \n",
       "9            pins        0.7850  \n",
       "10          dlpfc        0.6408  \n",
       "11          motor        0.1773  \n",
       "12          vmpfc        0.0001  \n",
       "13            phg        0.6998  \n",
       "14            smg        0.1251  \n",
       "15            stg        0.6675  \n",
       "16            mcc        0.0054  \n",
       "17  temporal pole        0.1158  \n",
       "18       parietal        0.2088  \n",
       "19       thalamus        0.0092  "
      ]
     },
     "execution_count": 46,
     "metadata": {},
     "output_type": "execute_result"
    }
   ],
   "source": [
    "fe_results"
   ]
  },
  {
   "cell_type": "code",
   "execution_count": null,
   "id": "0b566bb9",
   "metadata": {},
   "outputs": [],
   "source": [
    "\n",
    "# sns.set_context(\"talk\",rc={'axes.linewidth': 1.5})\n",
    "\n",
    "# for roi in roi_plot_data.roi.unique().tolist()[:-1]:\n",
    "#     roi_temp_data = roi_plot_data[roi_plot_data.roi==roi]\n",
    "\n",
    "#     rho   = rho_data[rho_data.roi == roi].round_rho.values[0]\n",
    "#     rho_p = rho_data[rho_data.roi == roi].round_p.values[0]\n",
    "    \n",
    "        \n",
    "#     fig,ax = plt.subplots(1,1,figsize=(5,3.5),dpi=300)\n",
    "\n",
    "#     sns.regplot(data=roi_temp_data,x='bdi',y='elec_bCPE',scatter=False,ci=95,\n",
    "#                 fit_reg=True,color = '#00467e') #034975\n",
    "    \n",
    "#     sns.scatterplot(data = roi_temp_data.groupby(['subj_id']).agg('mean'),x='bdi',\n",
    "#                     y='raw_decisionCPE',color = '#00467e',edgecolor=None,alpha=0.8)\n",
    "    \n",
    "# #     plt.gca().yaxis.set_major_formatter(StrMethodFormatter('{x:,.2f}')) \n",
    "#     plt.xlabel('BDI-II')\n",
    "# #     plt.xlim([0,40])\n",
    "    \n",
    "#     plt.tick_params(length=0) \n",
    "# #     plt.ylabel('beta'+r'$beta_{{{zpow}}}$'+' cpe encoding')\n",
    "#     plt.ylabel(fr'${band}_{{{zpow}}} \\sim cpe$')\n",
    "\n",
    "#     plt.text(np.max(roi_temp_data.bdi)-8,\n",
    "#              np.round(np.max(roi_temp_data.groupby(['subj_id']).agg('mean').elec_bCPE),3)-0.003,\n",
    "#              r'$rho$ = '+f'{rho} \\n'+ fr'$p \\approxeq $ {rho_p}',color='k',fontsize=12)\n",
    "# #              color='#00467e',fontsize=16)\n",
    "# #     plt.text(0.8,0.8,r'$rho$ = '+f'{rho} \\n'+ fr'$p \\approxeq $ {rho_p}',\n",
    "# #             verticalalignment='top', horizontalalignment='right',\n",
    "# #             color='k',fontsize=16)\n",
    "\n",
    "#     plt.title(f'{roi}',fontsize=20)\n",
    "#     plt.tight_layout()\n",
    "\n",
    "\n",
    "    \n",
    "#     sns.despine()\n",
    "    \n",
    "# #     plt.savefig(f'{fig_save_dir}/{roi}_{rho}_{rho_p}_roi_bdi_beta-cpe-slope.pdf', format='pdf', metadata=None,\n",
    "# #         bbox_inches='tight', pad_inches=0.1,dpi=300,\n",
    "# #         facecolor='auto', edgecolor='auto',\n",
    "# #         backend=None)\n",
    "    "
   ]
  },
  {
   "cell_type": "code",
   "execution_count": null,
   "id": "6ed10d9f",
   "metadata": {},
   "outputs": [],
   "source": []
  },
  {
   "cell_type": "code",
   "execution_count": null,
   "id": "cc829d23",
   "metadata": {},
   "outputs": [],
   "source": []
  },
  {
   "cell_type": "code",
   "execution_count": null,
   "id": "c14aee69",
   "metadata": {},
   "outputs": [],
   "source": []
  },
  {
   "cell_type": "code",
   "execution_count": null,
   "id": "93e45e8e",
   "metadata": {},
   "outputs": [],
   "source": [
    "sig_roi_fit_results"
   ]
  },
  {
   "cell_type": "code",
   "execution_count": null,
   "id": "ea61be68",
   "metadata": {},
   "outputs": [],
   "source": [
    "roi_fit_results"
   ]
  },
  {
   "cell_type": "code",
   "execution_count": null,
   "id": "b39a83c3",
   "metadata": {},
   "outputs": [],
   "source": [
    "bonferr_alpha = 0.05/len(test_rois)"
   ]
  },
  {
   "cell_type": "code",
   "execution_count": null,
   "id": "5531a1a5",
   "metadata": {},
   "outputs": [],
   "source": [
    "bonferr_alpha"
   ]
  },
  {
   "cell_type": "code",
   "execution_count": null,
   "id": "ab2b9306",
   "metadata": {},
   "outputs": [],
   "source": [
    "fe_results.roi[fe_results.roi_cpe_pval <= bonferr_alpha]"
   ]
  },
  {
   "cell_type": "code",
   "execution_count": null,
   "id": "487bd75c",
   "metadata": {},
   "outputs": [],
   "source": [
    "sig_roi_fit_results = roi_fit_results[roi_fit_results.decisionCPE <= 0.05]"
   ]
  },
  {
   "cell_type": "code",
   "execution_count": null,
   "id": "abc62010",
   "metadata": {},
   "outputs": [],
   "source": [
    "sig_roi_fit_results.roi.value_counts()"
   ]
  },
  {
   "cell_type": "code",
   "execution_count": null,
   "id": "c9900c62",
   "metadata": {},
   "outputs": [],
   "source": [
    "sig_roi_fit_results"
   ]
  },
  {
   "cell_type": "code",
   "execution_count": null,
   "id": "8cbed870",
   "metadata": {},
   "outputs": [],
   "source": [
    "plot_roi_model_results(sig_data,'roi','Z_Score_decisionCPE',bar_order=bar_order,color='#135546',figsize=(10,4))"
   ]
  },
  {
   "cell_type": "code",
   "execution_count": null,
   "id": "46d6ffe3",
   "metadata": {},
   "outputs": [],
   "source": []
  },
  {
   "cell_type": "code",
   "execution_count": null,
   "id": "322eb831",
   "metadata": {
    "scrolled": true
   },
   "outputs": [],
   "source": [
    "final_fit.pvalues['decisionCPE']"
   ]
  },
  {
   "cell_type": "code",
   "execution_count": null,
   "id": "dbff50be",
   "metadata": {},
   "outputs": [],
   "source": [
    "# final_fit.t_test_pairwise('C(TrialType)',\n",
    "#                           factor_labels=[ 'TrialEV', 'TotalProfit', 'decisionCPE'])\n",
    "# final_fit.model.data.design_info.term_names.index(term_name)"
   ]
  },
  {
   "cell_type": "code",
   "execution_count": null,
   "id": "dcb04c4b",
   "metadata": {},
   "outputs": [],
   "source": [
    "mixed_effects_ftest_ttest(final_fit)"
   ]
  },
  {
   "cell_type": "code",
   "execution_count": null,
   "id": "e215fd34",
   "metadata": {},
   "outputs": [],
   "source": [
    "fe_param_names = list(final_fit.fe_params.index[1:])\n",
    "fe_param_names"
   ]
  },
  {
   "cell_type": "code",
   "execution_count": null,
   "id": "ae6e3385",
   "metadata": {},
   "outputs": [],
   "source": [
    "plot_data = pd.concat([pd.DataFrame(\n",
    "    {**{'subj_id':elec_id.split('_')[0],'reref_ch_names':elec_id.split('_')[1]},'unique_reref_ch':elec_id,\n",
    "     **{f'raw_{param}':final_fit.random_effects[elec_id][param] for param in list(\n",
    "            final_fit.random_effects[elec_id].index)}},index=[range(len(fe_param_names))])\n",
    "        \n",
    "    for elec_id in final_fit.random_effects.keys()]).reset_index(drop=True)\n",
    "\n",
    "plot_data['roi'] = [reg_df.roi[reg_df.unique_reref_ch == row.unique_reref_ch].values[0]\n",
    "                                for idx,row in plot_data.iterrows()]\n",
    "\n",
    "plot_data['bdi'] = [subj_info_df.bdi[subj_info_df.subj_id == subj_id].values[0]\n",
    "                                for subj_id in plot_data.subj_id]"
   ]
  },
  {
   "cell_type": "code",
   "execution_count": null,
   "id": "f059ced9",
   "metadata": {},
   "outputs": [],
   "source": [
    "plot_data"
   ]
  },
  {
   "cell_type": "code",
   "execution_count": null,
   "id": "c43b2a75",
   "metadata": {},
   "outputs": [],
   "source": [
    "#### Get all results for Figs!!!!\n",
    "\n",
    "fe_intercept   = final_fit.params['Intercept']\n",
    "fe_cpe_beta    = final_fit.params['decisionCPE']\n",
    "fe_cpe_beta\n"
   ]
  },
  {
   "cell_type": "code",
   "execution_count": null,
   "id": "a228b003",
   "metadata": {},
   "outputs": [],
   "source": [
    "#### add fixed effects data to all_elec_plot_data\n",
    "plot_data['elec_b0']   = np.add(plot_data.raw_Group,fe_intercept)\n",
    "plot_data['elec_bCPE'] = np.add(plot_data.raw_decisionCPE,fe_cpe_beta)\n",
    "plot_data = plot_data[~plot_data.roi.isnull()]"
   ]
  },
  {
   "cell_type": "code",
   "execution_count": null,
   "id": "16ab40f2",
   "metadata": {},
   "outputs": [],
   "source": [
    "plot_data"
   ]
  },
  {
   "cell_type": "code",
   "execution_count": null,
   "id": "0991b521",
   "metadata": {},
   "outputs": [],
   "source": [
    "raw_roi_stats = {f'{roi}':ttest_1samp(plot_data.raw_decisionCPE[plot_data.roi == roi].unique(),\n",
    "                 popmean=0) for roi in plot_data.roi.unique().tolist()}\n",
    "raw_roi_stats"
   ]
  },
  {
   "cell_type": "code",
   "execution_count": null,
   "id": "407b0f52",
   "metadata": {},
   "outputs": [],
   "source": [
    "roi_stats = {f'{roi}':ttest_1samp(plot_data.elec_bCPE[plot_data.roi == roi].unique(),\n",
    "                 popmean=0) for roi in plot_data.roi.unique().tolist()}\n",
    "roi_stats"
   ]
  },
  {
   "cell_type": "code",
   "execution_count": null,
   "id": "b7b7046c",
   "metadata": {},
   "outputs": [],
   "source": [
    "pairwise_ains_vals = plot_data.elec_bCPE[plot_data.roi == 'ains'].unique()\n",
    "\n",
    "pairwise_roi_stats = {f'ains={roi}':ttest_ind(pairwise_ains_vals,plot_data.elec_bCPE[plot_data.roi == roi].unique(),\n",
    "                 ) for roi in plot_data.roi.unique().tolist()}\n",
    "pairwise_roi_stats\n"
   ]
  },
  {
   "cell_type": "code",
   "execution_count": null,
   "id": "e6648b2d",
   "metadata": {
    "scrolled": true
   },
   "outputs": [],
   "source": [
    "pairwise_ains_vals = plot_data.elec_bCPE[plot_data.roi == 'ains'].unique()\n",
    "\n",
    "pairwise_roi_stats_greater = {f'ains={roi}':ttest_ind(pairwise_ains_vals,plot_data.elec_bCPE[plot_data.roi == roi].unique(),\n",
    "                 alternative='greater') for roi in plot_data.roi.unique().tolist()}\n",
    "pairwise_roi_stats_greater"
   ]
  },
  {
   "cell_type": "code",
   "execution_count": null,
   "id": "766a4a33",
   "metadata": {},
   "outputs": [],
   "source": [
    "pairwise_ains_vals = plot_data.elec_bCPE[plot_data.roi == 'ains'].unique()\n",
    "\n",
    "pairwise_roi_stats_less = {f'ains={roi}':ttest_ind(pairwise_ains_vals,plot_data.elec_bCPE[plot_data.roi == roi].unique(),\n",
    "                 alternative='less') for roi in plot_data.roi.unique().tolist()}\n",
    "pairwise_roi_stats_less"
   ]
  },
  {
   "cell_type": "code",
   "execution_count": null,
   "id": "d9deb2ab",
   "metadata": {},
   "outputs": [],
   "source": [
    "bonferr_alpha = 0.05/(len(plot_data.roi.unique().tolist()))\n",
    "bonferr_alpha"
   ]
  },
  {
   "cell_type": "code",
   "execution_count": null,
   "id": "7397e76e",
   "metadata": {},
   "outputs": [],
   "source": [
    "print('sig ROIs after multiple comp correction: ',[(roi,raw_roi_stats[roi].pvalue) for roi in raw_roi_stats.keys()\n",
    "                                                   if raw_roi_stats[roi].pvalue< bonferr_alpha])\n",
    "# print('sig ROI pvals: ',roi_stats.roi_cpe_pval[roi_beta_results.roi_cpe_pval<=bonferr_alpha].unique().tolist())\n",
    "\n",
    "sig_raw = [(roi,raw_roi_stats[roi].pvalue) for roi in raw_roi_stats.keys()\n",
    "                                                   if raw_roi_stats[roi].pvalue< bonferr_alpha]\n",
    "\n",
    "sig_raw_rois = list(zip(*sig_raw))[0]"
   ]
  },
  {
   "cell_type": "code",
   "execution_count": null,
   "id": "1573145b",
   "metadata": {},
   "outputs": [],
   "source": [
    "sig_raw_rois"
   ]
  },
  {
   "cell_type": "code",
   "execution_count": null,
   "id": "3dd56571",
   "metadata": {},
   "outputs": [],
   "source": [
    "print('sig ROIs after multiple comp correction: ',[(roi,roi_stats[roi].pvalue) for roi in roi_stats.keys()\n",
    "                                                   if roi_stats[roi].pvalue< bonferr_alpha])\n",
    "# print('sig ROI pvals: ',roi_stats.roi_cpe_pval[roi_beta_results.roi_cpe_pval<=bonferr_alpha].unique().tolist())\n",
    "sig_bcpe = [(roi,roi_stats[roi].pvalue) for roi in roi_stats.keys()\n",
    "                                                   if roi_stats[roi].pvalue< bonferr_alpha]\n",
    "\n",
    "sig_bcpe_rois = list(zip(*sig_bcpe))[0]"
   ]
  },
  {
   "cell_type": "code",
   "execution_count": null,
   "id": "593daa85",
   "metadata": {},
   "outputs": [],
   "source": [
    "list(zip(*sig_bcpe))[0]"
   ]
  },
  {
   "cell_type": "code",
   "execution_count": null,
   "id": "168acf81",
   "metadata": {},
   "outputs": [],
   "source": [
    "print('sig ROIs after multiple comp correction: ',[(roi,pairwise_roi_stats_greater[roi].pvalue) for \n",
    "                                                   roi in pairwise_roi_stats_greater.keys()\n",
    "                                                   if pairwise_roi_stats_greater[roi].pvalue< bonferr_alpha])\n",
    "# print('sig ROI pvals: ',roi_stats.roi_cpe_pval[roi_beta_results.roi_cpe_pval<=bonferr_alpha].unique().tolist())\n",
    "sig_bcpe = [(roi,pairwise_roi_stats_greater[roi].pvalue) for roi in pairwise_roi_stats_greater.keys()\n",
    "                                                   if pairwise_roi_stats_greater[roi].pvalue< bonferr_alpha]\n",
    "\n",
    "sig_bcpe_rois = list(zip(*sig_bcpe))[0]"
   ]
  },
  {
   "cell_type": "code",
   "execution_count": null,
   "id": "ba69aafc",
   "metadata": {},
   "outputs": [],
   "source": [
    "sig_bcpe_rois "
   ]
  },
  {
   "cell_type": "code",
   "execution_count": null,
   "id": "a86819a8",
   "metadata": {},
   "outputs": [],
   "source": [
    "print('sig ROIs after multiple comp correction: ',[(roi,pairwise_roi_stats_less[roi].pvalue) for \n",
    "                                                   roi in pairwise_roi_stats_less.keys()\n",
    "                                                   if pairwise_roi_stats_less[roi].pvalue< bonferr_alpha])\n",
    "# print('sig ROI pvals: ',roi_stats.roi_cpe_pval[roi_beta_results.roi_cpe_pval<=bonferr_alpha].unique().tolist())\n",
    "# sig_bcpe = [(roi,pairwise_roi_stats_less[roi].pvalue) for roi in pairwise_roi_stats_less.keys()\n",
    "#                                                    if pairwise_roi_stats_less[roi].pvalue< bonferr_alpha]\n",
    "\n",
    "# sig_bcpe_rois = list(zip(*sig_bcpe))[0]"
   ]
  },
  {
   "cell_type": "code",
   "execution_count": null,
   "id": "fe564d88",
   "metadata": {},
   "outputs": [],
   "source": [
    "print('sig ROIs after multiple comp correction: ',[(roi,pairwise_roi_stats[roi].pvalue) for \n",
    "                                                   roi in pairwise_roi_stats.keys()\n",
    "                                                   if pairwise_roi_stats[roi].pvalue< bonferr_alpha])\n",
    "\n",
    "sig_bcpe = [(roi,pairwise_roi_stats[roi].pvalue) for roi in pairwise_roi_stats.keys()\n",
    "                                                   if pairwise_roi_stats[roi].pvalue< bonferr_alpha]\n",
    "\n",
    "sig_bcpe_rois = list(zip(*sig_bcpe))[0]"
   ]
  },
  {
   "cell_type": "code",
   "execution_count": null,
   "id": "a0f7379d",
   "metadata": {},
   "outputs": [],
   "source": [
    "sig_bcpe_rois"
   ]
  },
  {
   "cell_type": "code",
   "execution_count": null,
   "id": "083a9a35",
   "metadata": {},
   "outputs": [],
   "source": [
    "len([(roi,roi_stats[roi].pvalue) for roi in roi_stats.keys()\n",
    "                                                   if roi_stats[roi].pvalue< bonferr_alpha])"
   ]
  },
  {
   "cell_type": "code",
   "execution_count": null,
   "id": "a6615af1",
   "metadata": {},
   "outputs": [],
   "source": [
    "roi_stats.keys()"
   ]
  },
  {
   "cell_type": "code",
   "execution_count": null,
   "id": "22a0392e",
   "metadata": {},
   "outputs": [],
   "source": [
    "# roi_order = ['dlpfc','vlpfc','dmpfc','ofc','ains','pins','acc','hpc','amy','mtg','motor','thalamus']\n",
    "roi_order = ['dlpfc','vlpfc','ofc','ains','pins','acc','hpc','amy']"
   ]
  },
  {
   "cell_type": "code",
   "execution_count": null,
   "id": "d7d906ed",
   "metadata": {},
   "outputs": [],
   "source": [
    "roi_plot_data = plot_data.copy()\n",
    "roi_plot_data = roi_plot_data[roi_plot_data.roi.isin(roi_order)]\n",
    "\n",
    "# roi_plot_names = {'thalamus':'THAL','hpc':'HPC','amy':'AMY','acc':'ACC','ofc':'OFC','ains':'aINS',\n",
    "#                   'pins':'pINS','dmpfc':'dmPFC','dlpfc':'dlPFC','vlpfc':'vlPFC'}\n"
   ]
  },
  {
   "cell_type": "code",
   "execution_count": null,
   "id": "e418d9f0",
   "metadata": {},
   "outputs": [],
   "source": [
    "sns.set_context(\"poster\",rc={'axes.linewidth': 1.5})\n",
    "fig,ax = plt.subplots(figsize=(10, 4),dpi=500)\n",
    "\n",
    "fig_save_dir = f'{base_dir}ephys_analysis/figs/beta_regressions/'\n",
    "os.makedirs(fig_save_dir,exist_ok=True)\n",
    "\n",
    "sns.barplot(data = roi_plot_data,\n",
    "            x = 'roi',\n",
    "            y = 'elec_bCPE',\n",
    "#             y='raw_decisionCPE',\n",
    "#             color = '#561C46',\n",
    "#             color = '#00467e',\n",
    "#             color = '#346a97',\n",
    "            color = '#346a97',\n",
    "            saturation=1,\n",
    "            order=roi_order,\n",
    "            errorbar=None) \n",
    "\n",
    "\n",
    "sns.stripplot(data = roi_plot_data,\n",
    "            x = 'roi',\n",
    "            y = 'elec_bCPE',\n",
    "#               y='raw_decisionCPE',\n",
    "#               color='#78496b', \n",
    "              color = '#00467e',\n",
    "              alpha=.4,\n",
    "              dodge=True,\n",
    "              order=roi_order,\n",
    "              size = 6)\n",
    "\n",
    "ax.axhline(y=0,color='#00467e',linewidth=2)\n",
    "plt.tick_params(length=0 )#,grid_linewidth=1)\n",
    "\n",
    "plt.ylim([-0.05,0.05])\n",
    "ax.set(xlabel=None)\n",
    "# plt.ylabel('CPE Encoding in Beta Power (z)')\n",
    "# plt.ylabel('beta(z) cpe encoding')\n",
    "# plt.ylabel(r'$beta_{{{zpow}}}$'+ ' cpe encoding')\n",
    "# plt.ylabel(r'$beta_{{{zpow}}}$'+ ' cpe encoding')\n",
    "plt.ylabel(r'$beta_{{{zpow}}} \\sim cpe$')\n",
    "# plt.gca().yaxis.set_major_formatter(StrMethodFormatter('{x:,.3f}')) \n",
    "# plt.locator_params(axis='y', nbins=5,tight=True)\n",
    "\n",
    "\n",
    "sns.despine()\n",
    "    \n",
    "plt.savefig(f'{fig_save_dir}/Bpow_CPE_barplot_{date}.pdf', format='pdf', metadata=None,\n",
    "bbox_inches=None, pad_inches=0.1,dpi=500,\n",
    "facecolor='auto', edgecolor='auto',\n",
    "backend=None)\n"
   ]
  },
  {
   "cell_type": "code",
   "execution_count": null,
   "id": "bfcc1cc3",
   "metadata": {},
   "outputs": [],
   "source": [
    "roi_plot_data.roi.unique().tolist()"
   ]
  },
  {
   "cell_type": "code",
   "execution_count": null,
   "id": "7e1d3f5b",
   "metadata": {},
   "outputs": [],
   "source": [
    "bonferr_alpha"
   ]
  },
  {
   "cell_type": "code",
   "execution_count": null,
   "id": "53710b85",
   "metadata": {},
   "outputs": [],
   "source": [
    "rho_data = []\n",
    "sig_rho = []\n",
    "\n",
    "# bonferr_alpha = 0.05/len(roi_plot_data.roi.unique().tolist())\n",
    "# bonferr_alpha = 0.05/9\n",
    "bonferr_alpha = 0.01\n",
    "\n",
    "# BDI CORRELATIONS\n",
    "for roi in roi_plot_data.roi.unique().tolist()[:]:\n",
    "    roi_temp_data = roi_plot_data[roi_plot_data.roi==roi]\n",
    "    rho,rho_p     = spearmanr(roi_temp_data.bdi,roi_temp_data.elec_bCPE)\n",
    "#     rho,rho_p     = pearsonr(roi_temp_data.bdi,roi_temp_data.elec_bCPE)\n",
    "#     print(f'{roi} pearsonr',rho,rho_p)\n",
    "    rho_data.append(pd.DataFrame({'roi':roi,'rho':rho,'rho_p':rho_p},index=[0]))\n",
    "#     if rho_p <= bonferr_alpha:\n",
    "#         sig_bdi_rois.append(roi)\n",
    "#     if rho_p < bonferr_alpha:\n",
    "    if rho_p < 0.05:\n",
    "        sig_rho.append((roi,rho,rho_p))\n",
    "    print(f'{roi} pearsonr',rho,rho_p)\n",
    "rho_data = pd.concat(rho_data).reset_index(drop=True)\n"
   ]
  },
  {
   "cell_type": "code",
   "execution_count": null,
   "id": "6b177a6d",
   "metadata": {},
   "outputs": [],
   "source": [
    "rho_data"
   ]
  },
  {
   "cell_type": "code",
   "execution_count": null,
   "id": "1a31f5e4",
   "metadata": {},
   "outputs": [],
   "source": [
    "sig_rho"
   ]
  },
  {
   "cell_type": "code",
   "execution_count": null,
   "id": "6a4991d6",
   "metadata": {},
   "outputs": [],
   "source": [
    "rho_data['round_rho'] = np.round(rho_data.rho,2)\n",
    "rho_data['round_p']   = np.round(rho_data.rho_p,2)\n",
    "rho_data['round_p'][rho_data.roi == 'acc'] = 0.01\n",
    "rho_data['round_p'][rho_data.roi == 'ofc'] = 0.01\n",
    "rho_data"
   ]
  },
  {
   "cell_type": "code",
   "execution_count": null,
   "id": "b481458d",
   "metadata": {
    "scrolled": false
   },
   "outputs": [],
   "source": [
    "\n",
    "sns.set_context(\"talk\",rc={'axes.linewidth': 1.5})\n",
    "\n",
    "for roi in roi_plot_data.roi.unique().tolist()[:-1]:\n",
    "    roi_temp_data = roi_plot_data[roi_plot_data.roi==roi]\n",
    "\n",
    "    rho   = rho_data[rho_data.roi == roi].round_rho.values[0]\n",
    "    rho_p = rho_data[rho_data.roi == roi].round_p.values[0]\n",
    "    \n",
    "        \n",
    "    fig,ax = plt.subplots(1,1,figsize=(5,3.5),dpi=300)\n",
    "\n",
    "    sns.regplot(data=roi_temp_data,x='bdi',y='elec_bCPE',scatter=False,ci=95,\n",
    "                fit_reg=True,color = '#00467e') #034975\n",
    "    \n",
    "    sns.scatterplot(data = roi_temp_data.groupby(['subj_id']).agg('mean'),x='bdi',\n",
    "                    y='raw_decisionCPE',color = '#00467e',edgecolor=None,alpha=0.8)\n",
    "    \n",
    "#     plt.gca().yaxis.set_major_formatter(StrMethodFormatter('{x:,.2f}')) \n",
    "    plt.xlabel('BDI-II')\n",
    "#     plt.xlim([0,40])\n",
    "    \n",
    "    plt.tick_params(length=0) \n",
    "#     plt.ylabel('beta'+r'$beta_{{{zpow}}}$'+' cpe encoding')\n",
    "    plt.ylabel(r'$beta_{{{zpow}}} \\sim cpe$')\n",
    "\n",
    "    plt.text(np.max(roi_temp_data.bdi)-8,\n",
    "             np.round(np.max(roi_temp_data.groupby(['subj_id']).agg('mean').elec_bCPE),3)-0.003,\n",
    "             r'$rho$ = '+f'{rho} \\n'+ fr'$p \\approxeq $ {rho_p}',color='k',fontsize=12)\n",
    "#              color='#00467e',fontsize=16)\n",
    "#     plt.text(0.8,0.8,r'$rho$ = '+f'{rho} \\n'+ fr'$p \\approxeq $ {rho_p}',\n",
    "#             verticalalignment='top', horizontalalignment='right',\n",
    "#             color='k',fontsize=16)\n",
    "\n",
    "    plt.title(f'{roi}',fontsize=20)\n",
    "    plt.tight_layout()\n",
    "\n",
    "\n",
    "    \n",
    "    sns.despine()\n",
    "    \n",
    "    plt.savefig(f'{fig_save_dir}/{roi}_{rho}_{rho_p}_roi_bdi_beta-cpe-slope.pdf', format='pdf', metadata=None,\n",
    "        bbox_inches='tight', pad_inches=0.1,dpi=300,\n",
    "        facecolor='auto', edgecolor='auto',\n",
    "        backend=None)\n",
    "    "
   ]
  },
  {
   "cell_type": "code",
   "execution_count": null,
   "id": "f4a67d86",
   "metadata": {},
   "outputs": [],
   "source": []
  },
  {
   "cell_type": "markdown",
   "id": "1ed7ce33",
   "metadata": {},
   "source": [
    "# Band x BDI Interaction\n",
    "- Rerun final mixed effects model on each ROI separately\n",
    "- Correlate random effects slopes for each regressor with BDI"
   ]
  },
  {
   "cell_type": "code",
   "execution_count": null,
   "id": "17371f36",
   "metadata": {},
   "outputs": [],
   "source": [
    "rand_eff_var = 'unique_reref_ch'\n"
   ]
  },
  {
   "cell_type": "code",
   "execution_count": null,
   "id": "0003c6a2",
   "metadata": {
    "scrolled": false
   },
   "outputs": [],
   "source": [
    "reg_df"
   ]
  },
  {
   "cell_type": "code",
   "execution_count": null,
   "id": "c925e4d6",
   "metadata": {},
   "outputs": [],
   "source": [
    "bdi_vars    = ['decisionCPE','bdi','decisionCPE:bdi']\n",
    "outcome_var = 'band_pow'\n",
    "\n",
    "bdi_fit = fit_mixed_model(reg_df,bdi_vars,outcome_var,rand_eff_var,reml=False)\n",
    "print(bdi_fit.summary())\n",
    "    "
   ]
  },
  {
   "cell_type": "code",
   "execution_count": null,
   "id": "85148564",
   "metadata": {},
   "outputs": [],
   "source": []
  },
  {
   "cell_type": "code",
   "execution_count": null,
   "id": "eefc788b",
   "metadata": {},
   "outputs": [],
   "source": [
    "fe_param_names = list(bdi_fit.fe_params.index[1:])\n",
    "fe_param_names"
   ]
  },
  {
   "cell_type": "code",
   "execution_count": null,
   "id": "6d996891",
   "metadata": {},
   "outputs": [],
   "source": [
    "bdi_plot_data = pd.concat([pd.DataFrame(\n",
    "    {**{'subj_id':elec_id.split('_')[0],'reref_ch_names':elec_id.split('_')[1]},'unique_reref_ch':elec_id,\n",
    "     **{f'raw_{param}':bdi_fit.random_effects[elec_id][param] for param in list(\n",
    "            bdi_fit.random_effects[elec_id].index)}},index=[range(len(fe_param_names))])\n",
    "        \n",
    "    for elec_id in bdi_fit.random_effects.keys()]).reset_index(drop=True)\n",
    "\n",
    "bdi_plot_data['roi'] = [reg_df.roi[reg_df.unique_reref_ch == row.unique_reref_ch].values[0]\n",
    "                                for idx,row in bdi_plot_data.iterrows()]\n",
    "\n",
    "bdi_plot_data['bdi'] = [subj_info_df.bdi[subj_info_df.subj_id == subj_id].values[0]\n",
    "                                for subj_id in bdi_plot_data.subj_id]"
   ]
  },
  {
   "cell_type": "code",
   "execution_count": null,
   "id": "e4a167c4",
   "metadata": {},
   "outputs": [],
   "source": [
    "bdi_plot_data"
   ]
  },
  {
   "cell_type": "code",
   "execution_count": null,
   "id": "c7f03ae9",
   "metadata": {},
   "outputs": [],
   "source": [
    "#### Get all results for Figs!!!!\n",
    "\n",
    "fe_intercept   = bdi_fit.params['Intercept']\n",
    "fe_cpe_beta    = bdi_fit.params['decisionCPE:bdi']\n",
    "fe_cpe_beta\n"
   ]
  },
  {
   "cell_type": "code",
   "execution_count": null,
   "id": "c05db4f3",
   "metadata": {},
   "outputs": [],
   "source": [
    "#### add fixed effects data to all_elec_plot_data\n",
    "bdi_plot_data['elec_b0']   = np.add(bdi_plot_data.raw_Group,fe_intercept)\n",
    "bdi_plot_data['elec_bCPE'] = np.add(bdi_plot_data['raw_decisionCPE:bdi'],fe_cpe_beta)\n",
    "bdi_plot_data = bdi_plot_data[~bdi_plot_data.roi.isnull()]"
   ]
  },
  {
   "cell_type": "code",
   "execution_count": null,
   "id": "3aa60412",
   "metadata": {},
   "outputs": [],
   "source": [
    "bdi_plot_data"
   ]
  },
  {
   "cell_type": "code",
   "execution_count": null,
   "id": "55d2ed17",
   "metadata": {},
   "outputs": [],
   "source": [
    "# raw_bdi\n",
    "\n",
    "raw_roi_stats = {f'{roi}':ttest_1samp(bdi_plot_data['raw_bdi'][bdi_plot_data.roi == roi].unique(),\n",
    "                 popmean=0) for roi in bdi_plot_data.roi.unique().tolist()}\n",
    "raw_roi_stats"
   ]
  },
  {
   "cell_type": "code",
   "execution_count": null,
   "id": "2962d880",
   "metadata": {},
   "outputs": [],
   "source": [
    "raw_roi_stats = {f'{roi}':ttest_1samp(bdi_plot_data['raw_decisionCPE:bdi'][bdi_plot_data.roi == roi].unique(),\n",
    "                 popmean=0) for roi in bdi_plot_data.roi.unique().tolist()}\n",
    "raw_roi_stats"
   ]
  },
  {
   "cell_type": "code",
   "execution_count": null,
   "id": "0c6e3b91",
   "metadata": {},
   "outputs": [],
   "source": [
    "roi_stats = {f'{roi}':ttest_1samp(bdi_plot_data.elec_bCPE[bdi_plot_data.roi == roi].unique(),\n",
    "                 popmean=0) for roi in bdi_plot_data.roi.unique().tolist()}\n",
    "roi_stats"
   ]
  },
  {
   "cell_type": "code",
   "execution_count": null,
   "id": "29595352",
   "metadata": {},
   "outputs": [],
   "source": [
    "pairwise_ains_vals = bdi_plot_data.elec_bCPE[plot_data.roi == 'ains'].unique()\n",
    "\n",
    "pairwise_roi_stats = {f'ains={roi}':ttest_ind(pairwise_ains_vals,bdi_plot_data.elec_bCPE[bdi_plot_data.roi == roi].unique(),\n",
    "                 ) for roi in bdi_plot_data.roi.unique().tolist()}\n",
    "pairwise_roi_stats\n"
   ]
  },
  {
   "cell_type": "code",
   "execution_count": null,
   "id": "26d331d4",
   "metadata": {
    "scrolled": true
   },
   "outputs": [],
   "source": [
    "pairwise_ains_vals = bdi_plot_data.elec_bCPE[plot_data.roi == 'ains'].unique()\n",
    "\n",
    "pairwise_roi_stats_greater = {f'ains={roi}':ttest_ind(pairwise_ains_vals,bdi_plot_data.elec_bCPE[bdi_plot_data.roi == roi].unique(),\n",
    "                 alternative='greater') for roi in bdi_plot_data.roi.unique().tolist()}\n",
    "pairwise_roi_stats_greater"
   ]
  },
  {
   "cell_type": "code",
   "execution_count": null,
   "id": "38db0153",
   "metadata": {},
   "outputs": [],
   "source": [
    "pairwise_ains_vals = bdi_plot_data.elec_bCPE[bdi_plot_data.roi == 'ains'].unique()\n",
    "\n",
    "pairwise_roi_stats_less = {f'ains={roi}':ttest_ind(pairwise_ains_vals,bdi_plot_data.elec_bCPE[bdi_plot_data.roi == roi].unique(),\n",
    "                 alternative='less') for roi in bdi_plot_data.roi.unique().tolist()}\n",
    "pairwise_roi_stats_less"
   ]
  },
  {
   "cell_type": "code",
   "execution_count": null,
   "id": "91972a41",
   "metadata": {},
   "outputs": [],
   "source": [
    "bonferr_alpha = 0.05/len(roi_order)\n",
    "bonferr_alpha"
   ]
  },
  {
   "cell_type": "code",
   "execution_count": null,
   "id": "f11b5a94",
   "metadata": {},
   "outputs": [],
   "source": [
    "print('sig ROIs after multiple comp correction: ',[(roi,raw_roi_stats[roi].pvalue) for roi in raw_roi_stats.keys()\n",
    "                                                   if raw_roi_stats[roi].pvalue< bonferr_alpha])\n",
    "# print('sig ROI pvals: ',roi_stats.roi_cpe_pval[roi_beta_results.roi_cpe_pval<=bonferr_alpha].unique().tolist())\n",
    "\n",
    "sig_raw = [(roi,raw_roi_stats[roi].pvalue) for roi in raw_roi_stats.keys()\n",
    "                                                   if raw_roi_stats[roi].pvalue< bonferr_alpha]\n",
    "\n",
    "sig_raw_rois = list(zip(*sig_raw))[0]"
   ]
  },
  {
   "cell_type": "code",
   "execution_count": null,
   "id": "d60277b6",
   "metadata": {},
   "outputs": [],
   "source": [
    "sig_raw_rois"
   ]
  },
  {
   "cell_type": "code",
   "execution_count": null,
   "id": "2fadf781",
   "metadata": {},
   "outputs": [],
   "source": [
    "print('sig ROIs after multiple comp correction: ',[(roi,roi_stats[roi].pvalue) for roi in roi_stats.keys()\n",
    "                                                   if roi_stats[roi].pvalue< bonferr_alpha])\n",
    "# print('sig ROI pvals: ',roi_stats.roi_cpe_pval[roi_beta_results.roi_cpe_pval<=bonferr_alpha].unique().tolist())\n",
    "sig_bcpe = [(roi,roi_stats[roi].pvalue) for roi in roi_stats.keys()\n",
    "                                                   if roi_stats[roi].pvalue< bonferr_alpha]\n",
    "\n",
    "sig_bcpe_rois = list(zip(*sig_bcpe))[0]"
   ]
  },
  {
   "cell_type": "code",
   "execution_count": null,
   "id": "6f10029c",
   "metadata": {},
   "outputs": [],
   "source": [
    "list(zip(*sig_bcpe))[0]"
   ]
  },
  {
   "cell_type": "code",
   "execution_count": null,
   "id": "0282b1a4",
   "metadata": {},
   "outputs": [],
   "source": [
    "print('sig ROIs after multiple comp correction: ',[(roi,pairwise_roi_stats_greater[roi].pvalue) for \n",
    "                                                   roi in pairwise_roi_stats_greater.keys()\n",
    "                                                   if pairwise_roi_stats_greater[roi].pvalue< bonferr_alpha])\n",
    "# print('sig ROI pvals: ',roi_stats.roi_cpe_pval[roi_beta_results.roi_cpe_pval<=bonferr_alpha].unique().tolist())\n",
    "sig_bcpe = [(roi,pairwise_roi_stats_greater[roi].pvalue) for roi in pairwise_roi_stats_greater.keys()\n",
    "                                                   if pairwise_roi_stats_greater[roi].pvalue< bonferr_alpha]\n",
    "\n",
    "# sig_bcpe_rois = list(zip(*sig_bcpe))[0]"
   ]
  },
  {
   "cell_type": "code",
   "execution_count": null,
   "id": "d16614ad",
   "metadata": {},
   "outputs": [],
   "source": [
    "# sig_bcpe_rois "
   ]
  },
  {
   "cell_type": "code",
   "execution_count": null,
   "id": "d38e217f",
   "metadata": {},
   "outputs": [],
   "source": [
    "print('sig ROIs after multiple comp correction: ',[(roi,pairwise_roi_stats_less[roi].pvalue) for \n",
    "                                                   roi in pairwise_roi_stats_less.keys()\n",
    "                                                   if pairwise_roi_stats_less[roi].pvalue< bonferr_alpha])\n",
    "# print('sig ROI pvals: ',roi_stats.roi_cpe_pval[roi_beta_results.roi_cpe_pval<=bonferr_alpha].unique().tolist())\n",
    "sig_bcpe = [(roi,pairwise_roi_stats_less[roi].pvalue) for roi in pairwise_roi_stats_less.keys()\n",
    "                                                   if pairwise_roi_stats_less[roi].pvalue< bonferr_alpha]\n",
    "\n",
    "sig_bcpe_rois = list(zip(*sig_bcpe))[0]"
   ]
  },
  {
   "cell_type": "code",
   "execution_count": null,
   "id": "ce84a345",
   "metadata": {},
   "outputs": [],
   "source": [
    "print('sig ROIs after multiple comp correction: ',[(roi,pairwise_roi_stats[roi].pvalue) for \n",
    "                                                   roi in pairwise_roi_stats.keys()\n",
    "                                                   if pairwise_roi_stats[roi].pvalue< bonferr_alpha])\n",
    "\n",
    "sig_bcpe = [(roi,pairwise_roi_stats[roi].pvalue) for roi in pairwise_roi_stats.keys()\n",
    "                                                   if pairwise_roi_stats[roi].pvalue< bonferr_alpha]\n",
    "\n",
    "sig_bcpe_rois = list(zip(*sig_bcpe))[0]"
   ]
  },
  {
   "cell_type": "code",
   "execution_count": null,
   "id": "d4687297",
   "metadata": {},
   "outputs": [],
   "source": [
    "sig_bcpe_rois"
   ]
  },
  {
   "cell_type": "code",
   "execution_count": null,
   "id": "4ce6196e",
   "metadata": {},
   "outputs": [],
   "source": [
    "len([(roi,roi_stats[roi].pvalue) for roi in roi_stats.keys()\n",
    "                                                   if roi_stats[roi].pvalue< bonferr_alpha])"
   ]
  },
  {
   "cell_type": "code",
   "execution_count": null,
   "id": "786ac923",
   "metadata": {},
   "outputs": [],
   "source": [
    "roi_stats.keys()"
   ]
  },
  {
   "cell_type": "code",
   "execution_count": null,
   "id": "8432eea7",
   "metadata": {},
   "outputs": [],
   "source": [
    "# roi_order = ['dlpfc','vlpfc','dmpfc','ofc','ains','pins','acc','hpc','amy','mtg','motor','thalamus']\n",
    "roi_order = ['dlpfc','vlpfc','ofc','ains','pins','acc','hpc','amy']"
   ]
  },
  {
   "cell_type": "code",
   "execution_count": null,
   "id": "6e9900b3",
   "metadata": {},
   "outputs": [],
   "source": [
    "roi_plot_data = bdi_plot_data.copy()\n",
    "roi_plot_data = roi_plot_data[roi_plot_data.roi.isin(roi_order)]\n",
    "\n",
    "# roi_plot_names = {'thalamus':'THAL','hpc':'HPC','amy':'AMY','acc':'ACC','ofc':'OFC','ains':'aINS',\n",
    "#                   'pins':'pINS','dmpfc':'dmPFC','dlpfc':'dlPFC','vlpfc':'vlPFC'}\n"
   ]
  },
  {
   "cell_type": "code",
   "execution_count": null,
   "id": "80dfb2c0",
   "metadata": {},
   "outputs": [],
   "source": [
    "bdi_plot_data.roi.unique()"
   ]
  },
  {
   "cell_type": "code",
   "execution_count": null,
   "id": "e5fd780b",
   "metadata": {},
   "outputs": [],
   "source": [
    "sns.set_context(\"poster\",rc={'axes.linewidth': 1.5})\n",
    "fig,ax = plt.subplots(figsize=(10, 4),dpi=500)\n",
    "\n",
    "fig_save_dir = f'{base_dir}ephys_analysis/figs/{band}_regressions/'\n",
    "os.makedirs(fig_save_dir,exist_ok=True)\n",
    "\n",
    "sns.barplot(data = bdi_plot_data,\n",
    "            x = 'roi',\n",
    "            y = 'elec_bCPE',\n",
    "#             y='raw_decisionCPE',\n",
    "#             color = '#561C46',\n",
    "#             color = '#00467e',\n",
    "#             color = '#346a97',\n",
    "            color = '#173b6f',\n",
    "            saturation=1,\n",
    "            order=roi_order,\n",
    "            errorbar=None) \n",
    "\n",
    "\n",
    "sns.stripplot(data = bdi_plot_data,\n",
    "            x = 'roi',\n",
    "            y = 'elec_bCPE',\n",
    "#               y='raw_decisionCPE',\n",
    "#               color='#78496b', \n",
    "              color = '#173b6f',\n",
    "              alpha=.4,\n",
    "              dodge=True,\n",
    "              order=roi_order,\n",
    "              size = 6)\n",
    "\n",
    "ax.axhline(y=0,color='#173b6f',linewidth=2)\n",
    "plt.tick_params(length=0 )#,grid_linewidth=1)\n",
    "\n",
    "# plt.ylim([-0.05,0.05])\n",
    "ax.set(xlabel=None)\n",
    "# plt.ylabel('CPE Encoding in Beta Power (z)')\n",
    "# plt.ylabel('beta(z) cpe encoding')\n",
    "# plt.ylabel(r'$beta_{{{zpow}}}$'+ ' cpe encoding')\n",
    "# plt.ylabel(r'$beta_{{{zpow}}}$'+ ' cpe encoding')\n",
    "plt.ylabel(fr'${band}_{{{zpow}}} \\sim cpe:bdi$')\n",
    "# plt.gca().yaxis.set_major_formatter(StrMethodFormatter('{x:,.3f}')) \n",
    "# plt.locator_params(axis='y', nbins=5,tight=True)\n",
    "\n",
    "\n",
    "sns.despine()\n",
    "    \n",
    "plt.savefig(f'{fig_save_dir}/Bpow_CPE:BDI_barplot_{date}.pdf', format='pdf', metadata=None,\n",
    "bbox_inches=None, pad_inches=0.1,dpi=500,\n",
    "facecolor='auto', edgecolor='auto',\n",
    "backend=None)\n"
   ]
  },
  {
   "cell_type": "code",
   "execution_count": null,
   "id": "c28acb87",
   "metadata": {},
   "outputs": [],
   "source": [
    "bdi_plot_data.roi.unique().tolist()"
   ]
  },
  {
   "cell_type": "code",
   "execution_count": null,
   "id": "e343460a",
   "metadata": {},
   "outputs": [],
   "source": [
    "bonferr_alpha"
   ]
  },
  {
   "cell_type": "code",
   "execution_count": null,
   "id": "bb308466",
   "metadata": {},
   "outputs": [],
   "source": [
    "rho_data = []\n",
    "sig_rho = []\n",
    "\n",
    "# bonferr_alpha = 0.05/len(roi_plot_data.roi.unique().tolist())\n",
    "# bonferr_alpha = 0.05/9\n",
    "bonferr_alpha = 0.01\n",
    "\n",
    "# BDI CORRELATIONS\n",
    "for roi in roi_plot_data.roi.unique().tolist()[:]:\n",
    "    roi_temp_data = roi_plot_data[roi_plot_data.roi==roi]\n",
    "    rho,rho_p     = spearmanr(roi_temp_data.bdi,roi_temp_data.elec_bCPE)\n",
    "#     rho,rho_p     = pearsonr(roi_temp_data.bdi,roi_temp_data.elec_bCPE)\n",
    "#     print(f'{roi} pearsonr',rho,rho_p)\n",
    "    rho_data.append(pd.DataFrame({'roi':roi,'rho':rho,'rho_p':rho_p},index=[0]))\n",
    "#     if rho_p <= bonferr_alpha:\n",
    "#         sig_bdi_rois.append(roi)\n",
    "#     if rho_p < bonferr_alpha:\n",
    "    if rho_p < 0.05:\n",
    "        sig_rho.append((roi,rho,rho_p))\n",
    "    print(f'{roi} pearsonr',rho,rho_p)\n",
    "rho_data = pd.concat(rho_data).reset_index(drop=True)\n"
   ]
  },
  {
   "cell_type": "code",
   "execution_count": null,
   "id": "074dac83",
   "metadata": {},
   "outputs": [],
   "source": [
    "rho_data"
   ]
  },
  {
   "cell_type": "code",
   "execution_count": null,
   "id": "7f111345",
   "metadata": {},
   "outputs": [],
   "source": [
    "sig_rho"
   ]
  },
  {
   "cell_type": "code",
   "execution_count": null,
   "id": "fb8b1439",
   "metadata": {},
   "outputs": [],
   "source": [
    "rho_data['round_rho'] = np.round(rho_data.rho,2)\n",
    "rho_data['round_p']   = np.round(rho_data.rho_p,3)\n",
    "# rho_data['round_p'][rho_data.roi == 'acc'] = 0.01\n",
    "# rho_data['round_p'][rho_data.roi == 'ofc'] = 0.01\n",
    "rho_data"
   ]
  },
  {
   "cell_type": "code",
   "execution_count": null,
   "id": "3073da36",
   "metadata": {
    "scrolled": false
   },
   "outputs": [],
   "source": [
    "\n",
    "sns.set_context(\"talk\",rc={'axes.linewidth': 1.5})\n",
    "\n",
    "for roi in roi_plot_data.roi.unique().tolist()[:-1]:\n",
    "    roi_temp_data = roi_plot_data[roi_plot_data.roi==roi]\n",
    "\n",
    "    rho   = rho_data[rho_data.roi == roi].round_rho.values[0]\n",
    "    rho_p = rho_data[rho_data.roi == roi].round_p.values[0]\n",
    "    \n",
    "        \n",
    "    fig,ax = plt.subplots(1,1,figsize=(5,3.5),dpi=300)\n",
    "\n",
    "    sns.regplot(data=roi_temp_data,x='bdi',y='raw_decisionCPE',scatter=False,ci=95,\n",
    "                fit_reg=True,color = '#173b6f') #034975\n",
    "    \n",
    "    sns.scatterplot(data = roi_temp_data.groupby(['subj_id']).agg('mean'),x='bdi',\n",
    "                    y='raw_decisionCPE',color = '#173b6f',edgecolor=None,alpha=0.8)\n",
    "    \n",
    "#     plt.gca().yaxis.set_major_formatter(StrMethodFormatter('{x:,.2f}')) \n",
    "    plt.xlabel('BDI-II')\n",
    "#     plt.xlim([0,40])\n",
    "    \n",
    "    plt.tick_params(length=0) \n",
    "#     plt.ylabel('beta'+r'$beta_{{{zpow}}}$'+' cpe encoding')\n",
    "    plt.ylabel(fr'${band}_{{{zpow}}} \\sim cpe:bdi$')\n",
    "\n",
    "    plt.text(np.max(roi_temp_data.bdi)-8,\n",
    "             np.round(np.max(roi_temp_data.groupby(['subj_id']).agg('mean').raw_decisionCPE),3)-0.003,\n",
    "             r'$rho$ = '+f'{rho} \\n'+ fr'$p \\approxeq $ {rho_p}',color='k',fontsize=12)\n",
    "#              color='#00467e',fontsize=16)\n",
    "#     plt.text(0.8,0.8,r'$rho$ = '+f'{rho} \\n'+ fr'$p \\approxeq $ {rho_p}',\n",
    "#             verticalalignment='top', horizontalalignment='right',\n",
    "#             color='k',fontsize=16)\n",
    "\n",
    "    plt.title(f'{roi}',fontsize=20)\n",
    "    plt.tight_layout()\n",
    "    \n",
    "\n",
    "\n",
    "    \n",
    "    sns.despine()\n",
    "    \n",
    "    plt.savefig(f'{fig_save_dir}/{roi}_{rho}_{rho_p}_roi_bdi_{band}-cpe:bdi-slope.pdf', format='pdf', metadata=None,\n",
    "        bbox_inches='tight', pad_inches=0.1,dpi=300,\n",
    "        facecolor='auto', edgecolor='auto',\n",
    "        backend=None)\n",
    "    "
   ]
  },
  {
   "cell_type": "code",
   "execution_count": null,
   "id": "1908c3fb",
   "metadata": {},
   "outputs": [],
   "source": [
    "reg_df"
   ]
  },
  {
   "cell_type": "code",
   "execution_count": null,
   "id": "0864d5ed",
   "metadata": {},
   "outputs": [],
   "source": [
    "reg_df['Depressed'] = ['High BDI' if bdi >=20 else 'Low BDI' for bdi in reg_df.bdi.tolist()]"
   ]
  },
  {
   "cell_type": "code",
   "execution_count": null,
   "id": "4e0f2e6e",
   "metadata": {},
   "outputs": [],
   "source": [
    "## X plot attempt \n",
    "\n",
    "sns.set_theme(style='ticks') \n",
    "sns.set_context(\"poster\")\n",
    "\n",
    "# from matplotlib import rc\n",
    "# rc('text', usetex=False)\n",
    "\n",
    "\n",
    "fig,ax = plt.subplots(figsize=(8,5))\n",
    "# sns.set_context(\"poster\",rc={'axes.linewidth': 2})\n",
    "# sns.set_theme(style='ticks') \n",
    "\n",
    "# palette={'depression':\"#3f2755\",'no depression':\"#054a6f\"}\n",
    "\n",
    "# palette={'high BDI':\"#0b4e5f\",'low BDI':\"#824973\"}\n",
    "\n",
    "\n",
    "# ax = sns.lmplot(data=reg_df,x='decisionCPE',y='band_pow',hue='Depression',scatter=False,ci=95,palette=palette)\n",
    "# sns.move_legend(ax, loc='lower center', bbox_to_anchor=(0.1, 1),bbox_to_anchor=(-1, 0), ncol=2)\n",
    "\n",
    "# sns.move_legend(ax,\"upper center\", bbox_to_anchor=(0.5, 1), borderaxespad=0.1,frameon=False,framealpha=0,\n",
    "#                 fontsize='x-small',shadow=None,title=None,columnspacing=0.5,edgecolor=None,markerfirst=True,\n",
    "#                 markerscale=4,labelcolor=None, ncol=2)\n",
    "\n",
    "\n",
    "sns.regplot(data=reg_df[reg_df.Depressed=='Low BDI'],x='decisionCPE',y='band_pow',scatter=True,\n",
    "           ci=95,color = '#824973',label='Low BDI',x_jitter = 0.15,scatter_kws={'s':5})\n",
    "sns.regplot(data=reg_df[reg_df.Depressed=='High BDI'],x='decisionCPE',y='band_pow',scatter=True,\n",
    "           ci=95,color='#0b4e5f',label='High BDI',x_jitter = 0.15,scatter_kws={'s':5})\n",
    "\n",
    "plt.legend(fontsize=10)\n",
    "# borderaxespad=0,frameon=False,framealpha=0,\n",
    "sns.move_legend(ax,\"upper center\", bbox_to_anchor=(0.5, 1.1), frameon=False,framealpha=0,\n",
    "                fontsize='small',shadow=None,\n",
    "                columnspacing=2,ncol=2)\n",
    "\n",
    "\n",
    "plt.gca().yaxis.set_major_formatter(StrMethodFormatter('{x:,.2f}')) \n",
    "plt.tight_layout()\n",
    "plt.ylabel(fr'${band}_{{{zpow}}}$')\n",
    "plt.xlabel(r'$cpe(z)$')\n",
    "sns.despine()\n",
    "plt.tick_params(length=0)\n",
    "# plt.text(7.25,0.07,f'rho: {np.round(r,3)} \\n p: {np.round(p_r,6)}',fontsize=16)\n",
    "\n",
    "\n",
    "# plt.savefig(f'{fig_save_dir}/all_lmplot_cpe_bpow_bdi_{date}.pdf', format='pdf', metadata=None,\n",
    "# bbox_inches='tight', pad_inches=0.1,dpi=500,\n",
    "# facecolor='auto', edgecolor='auto',\n",
    "# backend=None)"
   ]
  },
  {
   "cell_type": "code",
   "execution_count": null,
   "id": "e52b89ea",
   "metadata": {},
   "outputs": [],
   "source": [
    "reg_df['Depressed'] = ['High BDI' if bdi >=20 else 'Low BDI' for bdi in reg_df.bdi.tolist()]"
   ]
  },
  {
   "cell_type": "code",
   "execution_count": null,
   "id": "9b1cd8c3",
   "metadata": {},
   "outputs": [],
   "source": [
    "## X plot attempt \n",
    "\n",
    "sns.set_theme(style='ticks') \n",
    "sns.set_context(\"poster\")\n",
    "\n",
    "# from matplotlib import rc\n",
    "# rc('text', usetex=False)\n",
    "\n",
    "\n",
    "fig,ax = plt.subplots(figsize=(8,5))\n",
    "# sns.set_context(\"poster\",rc={'axes.linewidth': 2})\n",
    "# sns.set_theme(style='ticks') \n",
    "\n",
    "# palette={'depression':\"#3f2755\",'no depression':\"#054a6f\"}\n",
    "\n",
    "# palette={'high BDI':\"#0b4e5f\",'low BDI':\"#824973\"}\n",
    "\n",
    "\n",
    "# ax = sns.lmplot(data=reg_df,x='decisionCPE',y='band_pow',hue='Depression',scatter=False,ci=95,palette=palette)\n",
    "# sns.move_legend(ax, loc='lower center', bbox_to_anchor=(0.1, 1),bbox_to_anchor=(-1, 0), ncol=2)\n",
    "\n",
    "# sns.move_legend(ax,\"upper center\", bbox_to_anchor=(0.5, 1), borderaxespad=0.1,frameon=False,framealpha=0,\n",
    "#                 fontsize='x-small',shadow=None,title=None,columnspacing=0.5,edgecolor=None,markerfirst=True,\n",
    "#                 markerscale=4,labelcolor=None, ncol=2)\n",
    "\n",
    "\n",
    "sns.regplot(data=reg_df[reg_df.Depressed=='Low BDI'],x='decisionCPE',y='band_pow',scatter=False,\n",
    "           ci=95,color = '#824973',label='Low BDI')\n",
    "sns.regplot(data=reg_df[reg_df.Depressed=='High BDI'],x='decisionCPE',y='band_pow',scatter=False,\n",
    "           ci=95,color='#0b4e5f',label='High BDI')\n",
    "\n",
    "plt.legend(fontsize=10)\n",
    "# borderaxespad=0,frameon=False,framealpha=0,\n",
    "sns.move_legend(ax,\"upper center\", bbox_to_anchor=(0.5, 1.1), frameon=False,framealpha=0,\n",
    "                fontsize='small',shadow=None,\n",
    "                columnspacing=2,ncol=2)\n",
    "\n",
    "\n",
    "plt.gca().yaxis.set_major_formatter(StrMethodFormatter('{x:,.2f}')) \n",
    "plt.tight_layout()\n",
    "plt.ylabel(fr'${band}_{{{zpow}}}$')\n",
    "plt.xlabel(r'$cpe(z)$')\n",
    "sns.despine()\n",
    "plt.tick_params(length=0)\n",
    "# plt.text(7.25,0.07,f'rho: {np.round(r,3)} \\n p: {np.round(p_r,6)}',fontsize=16)\n",
    "\n",
    "\n",
    "# plt.savefig(f'{fig_save_dir}/all_lmplot_cpe_bpow_bdi_{date}.pdf', format='pdf', metadata=None,\n",
    "# bbox_inches='tight', pad_inches=0.1,dpi=500,\n",
    "# facecolor='auto', edgecolor='auto',\n",
    "# backend=None)"
   ]
  },
  {
   "cell_type": "code",
   "execution_count": null,
   "id": "38eb7dc5",
   "metadata": {
    "scrolled": true
   },
   "outputs": [],
   "source": [
    "for roi in reg_df.roi.unique().tolist():\n",
    "    roi_reg_plot = reg_df[reg_df.roi== roi]\n",
    "    fig,ax = plt.subplots(figsize=(8,5))\n",
    "\n",
    "    sns.regplot(data=roi_reg_plot[roi_reg_plot.Depressed=='Low BDI'],x='decisionCPE',y='band_pow',scatter=False,\n",
    "               ci=95,color = '#824973',label='Low BDI')#,scatter_kws={'s':2})\n",
    "    sns.regplot(data=roi_reg_plot[roi_reg_plot.Depressed=='High BDI'],x='decisionCPE',y='band_pow',scatter=False,\n",
    "               ci=95,color='#0b4e5f',label='High BDI')#,scatter_kws={'s':2})\n",
    "\n",
    "    plt.legend(fontsize=10)\n",
    "    # borderaxespad=0,frameon=False,framealpha=0,\n",
    "    sns.move_legend(ax,\"upper center\", bbox_to_anchor=(0.5, 1.1), frameon=False,framealpha=0,\n",
    "                    fontsize='small',shadow=None,\n",
    "                    columnspacing=2,ncol=2)\n",
    "\n",
    "\n",
    "    plt.gca().yaxis.set_major_formatter(StrMethodFormatter('{x:,.2f}')) \n",
    "    plt.tight_layout()\n",
    "    plt.ylabel(fr'${band}_{{{zpow}}}$')\n",
    "    plt.xlabel(r'$cpe(z)$')\n",
    "    plt.title(f'{roi}')\n",
    "    sns.despine()\n",
    "    plt.tick_params(length=0)\n",
    "    \n",
    "    "
   ]
  },
  {
   "cell_type": "code",
   "execution_count": null,
   "id": "718b4a51",
   "metadata": {
    "scrolled": true
   },
   "outputs": [],
   "source": [
    "for roi in reg_df.roi.unique().tolist():\n",
    "    roi_reg_plot = reg_df[reg_df.roi== roi]\n",
    "    fig,ax = plt.subplots(figsize=(8,5))\n",
    "\n",
    "    sns.regplot(data=roi_reg_plot[roi_reg_plot.Depressed=='Low BDI'],x='decisionCPE',y='band_pow',scatter=True,\n",
    "               ci=95,color = '#824973',label='Low BDI',x_jitter = 0.15,scatter_kws={'s':5})\n",
    "    sns.regplot(data=roi_reg_plot[roi_reg_plot.Depressed=='High BDI'],x='decisionCPE',y='band_pow',scatter=True,\n",
    "               ci=95,color='#0b4e5f',label='High BDI',x_jitter = 0.15,scatter_kws={'s':5})\n",
    "\n",
    "    plt.legend(fontsize=10)\n",
    "    # borderaxespad=0,frameon=False,framealpha=0,\n",
    "    sns.move_legend(ax,\"upper center\", bbox_to_anchor=(0.5, 1.1), frameon=False,framealpha=0,\n",
    "                    fontsize='small',shadow=None,\n",
    "                    columnspacing=2,ncol=2)\n",
    "\n",
    "\n",
    "    plt.gca().yaxis.set_major_formatter(StrMethodFormatter('{x:,.2f}')) \n",
    "    plt.tight_layout()\n",
    "    plt.ylabel(fr'${band}_{{{zpow}}}$')\n",
    "    plt.xlabel(r'$cpe(z)$')\n",
    "    plt.title(f'{roi}')\n",
    "    sns.despine()\n",
    "    plt.tick_params(length=0)\n",
    "    \n",
    "    "
   ]
  },
  {
   "cell_type": "code",
   "execution_count": null,
   "id": "d1b32dcf",
   "metadata": {
    "scrolled": false
   },
   "outputs": [],
   "source": [
    "# for roi in reg_df.roi.unique().tolist():\n",
    "#     roi_reg_plot = reg_df[reg_df.roi== roi]\n",
    "#     fig,ax = plt.subplots(figsize=(8,5),dpi=500)\n",
    "\n",
    "#     sns.regplot(data=roi_reg_plot[roi_reg_plot.Depressed=='Low BDI'],x='decisionCPE',y='band_pow',scatter=True,\n",
    "#                ci=95,color = '#824973',label='Low BDI',x_jitter = 0.15)#,scatter_kws={'s':2})\n",
    "#     sns.regplot(data=roi_reg_plot[roi_reg_plot.Depressed=='High BDI'],x='decisionCPE',y='band_pow',scatter=True,\n",
    "#                ci=95,color='#0b4e5f',label='High BDI',x_jitter = 0.15)#,scatter_kws={'s':2})\n",
    "\n",
    "#     plt.legend(fontsize=10)\n",
    "#     # borderaxespad=0,frameon=False,framealpha=0,\n",
    "#     sns.move_legend(ax,\"upper center\", bbox_to_anchor=(0.5, 1.1), frameon=False,framealpha=0,\n",
    "#                     fontsize='small',shadow=None,\n",
    "#                     columnspacing=2,ncol=2)\n",
    "\n",
    "\n",
    "#     plt.gca().yaxis.set_major_formatter(StrMethodFormatter('{x:,.2f}')) \n",
    "\n",
    "#     plt.ylabel(r'$beta_{{{zpow}}}$')\n",
    "#     plt.xlabel(r'$cpe(z)$')\n",
    "#     plt.title(f'{roi}')\n",
    "#     sns.despine()\n",
    "#     plt.tick_params(length=0)\n",
    "    \n",
    "    "
   ]
  },
  {
   "cell_type": "code",
   "execution_count": null,
   "id": "d22c2696",
   "metadata": {},
   "outputs": [],
   "source": [
    "fig,ax = plt.subplots(figsize=(8,5),dpi=500)\n",
    "# sns.set_context(\"poster\",rc={'axes.linewidth': 2})\n",
    "# sns.set_theme(style='ticks') \n",
    "\n",
    "# palette={'depression':\"#3f2755\",'no depression':\"#054a6f\"}\n",
    "\n",
    "# palette={'high BDI':\"#0b4e5f\",'low BDI':\"#824973\"}\n",
    "\n",
    "\n",
    "# ax = sns.lmplot(data=reg_df,x='decisionCPE',y='band_pow',hue='Depression',scatter=False,ci=95,palette=palette)\n",
    "# sns.move_legend(ax, loc='lower center', bbox_to_anchor=(0.1, 1),bbox_to_anchor=(-1, 0), ncol=2)\n",
    "\n",
    "# sns.move_legend(ax,\"upper center\", bbox_to_anchor=(0.5, 1), borderaxespad=0.1,frameon=False,framealpha=0,\n",
    "#                 fontsize='x-small',shadow=None,title=None,columnspacing=0.5,edgecolor=None,markerfirst=True,\n",
    "#                 markerscale=4,labelcolor=None, ncol=2)\n",
    "\n",
    "\n",
    "sns.regplot(data=reg_df[reg_df.Depressed=='Low BDI'],x='decisionCPE',y='band_pow',scatter=True,\n",
    "           ci=95,color = '#824973',label='Low BDI',x_jitter = 0.15,scatter_kws={'s':2})\n",
    "sns.regplot(data=reg_df[reg_df.Depressed=='High BDI'],x='decisionCPE',y='band_pow',scatter=True,\n",
    "           ci=95,color='#0b4e5f',label='High BDI',x_jitter = 0.15,scatter_kws={'s':2})\n",
    "\n",
    "plt.legend(fontsize=10)\n",
    "# borderaxespad=0,frameon=False,framealpha=0,\n",
    "sns.move_legend(ax,\"upper center\", bbox_to_anchor=(0.5, 1.1), frameon=False,framealpha=0,\n",
    "                fontsize='small',shadow=None,\n",
    "                columnspacing=2,ncol=2)\n",
    "\n",
    "\n",
    "plt.gca().yaxis.set_major_formatter(StrMethodFormatter('{x:,.2f}')) \n",
    "\n",
    "plt.ylabel(fr'${band}_{{{zpow}}}$')\n",
    "plt.xlabel(r'$cpe(z)$')\n",
    "sns.despine()\n",
    "plt.tick_params(length=0)\n",
    "# plt.text(7.25,0.07,f'rho: {np.round(r,3)} \\n p: {np.round(p_r,6)}',fontsize=16)\n",
    "\n"
   ]
  },
  {
   "cell_type": "code",
   "execution_count": null,
   "id": "0ba79036",
   "metadata": {},
   "outputs": [],
   "source": []
  },
  {
   "cell_type": "code",
   "execution_count": null,
   "id": "c4864820",
   "metadata": {},
   "outputs": [],
   "source": []
  },
  {
   "cell_type": "code",
   "execution_count": null,
   "id": "0f3fbbc0",
   "metadata": {},
   "outputs": [],
   "source": [
    "palette=dict(Low=\"#3f2755\", High=\"#054a6f\")\n",
    "# sns.move_legend(ax, \"lower center\", bbox_to_anchor=(.5, 1), ncol=3, title=None, frameon=False)\n"
   ]
  },
  {
   "cell_type": "code",
   "execution_count": null,
   "id": "49c8123e",
   "metadata": {},
   "outputs": [],
   "source": [
    "from scipy import stats\n",
    "# slope, intercept, r_value, p_value, std_err = stats.linregress(df.x,df.y)"
   ]
  },
  {
   "cell_type": "code",
   "execution_count": null,
   "id": "eb334420",
   "metadata": {},
   "outputs": [],
   "source": [
    "reg_df['Depression'] = ['High BDI' if bdi >=20 else 'Low BDI' for bdi in reg_df.bdi.tolist()]"
   ]
  },
  {
   "cell_type": "code",
   "execution_count": null,
   "id": "f4257b26",
   "metadata": {},
   "outputs": [],
   "source": [
    "# edgecolor=None,markerfirst=True,title=None,#title_fontsize='x-small',\n",
    "#                 markerscale=0.2,labelcolor=None"
   ]
  },
  {
   "cell_type": "code",
   "execution_count": null,
   "id": "a50002cc",
   "metadata": {},
   "outputs": [],
   "source": [
    "roi_order = ['dlpfc','vlpfc','ofc','ains','pins','acc','hpc','amy']"
   ]
  },
  {
   "cell_type": "code",
   "execution_count": null,
   "id": "e1f5bbab",
   "metadata": {},
   "outputs": [],
   "source": [
    "lmplot"
   ]
  },
  {
   "cell_type": "code",
   "execution_count": null,
   "id": "d83ccb07",
   "metadata": {},
   "outputs": [],
   "source": [
    "reg_df"
   ]
  },
  {
   "cell_type": "code",
   "execution_count": null,
   "id": "ed965db8",
   "metadata": {},
   "outputs": [],
   "source": [
    "lmplot = reg_df.copy()\n",
    "lmplot = lmplot.groupby('unique_reref_ch').agg('mean').reset_index()\n",
    "\n",
    "# beta_lmplot['Depressed'] = ['Low BDI' if bdi =< 20 else 'High BDI' for bdi in beta_lmplot.bdi]\n",
    "\n",
    "\n",
    "# beta_lmplot['raw_rt_coeff']  = [roi_bdi_plot_data[roi_bdi_plot_data.unique_reref_ch == elec][\n",
    "#     'raw_decisionCPE:band_pow'].values[0] for elec in beta_lmplot.unique_reref_ch]\n",
    "\n",
    "# beta_lmplot['elec_bCPE']  = [roi_bdi_plot_data[roi_bdi_plot_data.unique_reref_ch == elec][\n",
    "#     'elec_bCPE'].values[0] for elec in beta_lmplot.unique_reref_ch]\n",
    "\n",
    "lmplot['roi']  = [reg_df[reg_df.unique_reref_ch == elec][\n",
    "    'roi'].values[0] for elec in reg_df.unique_reref_ch]\n",
    "\n",
    "lmplot = lmplot[lmplot.roi.isin(roi_order)]\n",
    "\n",
    "lmplot"
   ]
  },
  {
   "cell_type": "code",
   "execution_count": null,
   "id": "ce3da504",
   "metadata": {},
   "outputs": [],
   "source": [
    "roi_not_ains = ['notIns' if roi != 'ains' else 'ains' for roi in reg_df.roi.tolist()]\n",
    "roi_not_ains"
   ]
  },
  {
   "cell_type": "code",
   "execution_count": null,
   "id": "33a97c4b",
   "metadata": {},
   "outputs": [],
   "source": [
    "reg_df['roi_not_ains'] = roi_not_ains"
   ]
  },
  {
   "cell_type": "code",
   "execution_count": null,
   "id": "76e6a7a7",
   "metadata": {},
   "outputs": [],
   "source": [
    "final_vars = ['C(GambleChoice)', 'TotalProfit', 'decisionCPE']\n"
   ]
  },
  {
   "cell_type": "code",
   "execution_count": null,
   "id": "c1ebde85",
   "metadata": {},
   "outputs": [],
   "source": [
    "\n",
    "final_fit = fit_mixed_model(reg_df,final_vars,outcome_var,rand_eff_var,reml=False)\n",
    "print(final_fit.summary())\n",
    "    "
   ]
  },
  {
   "cell_type": "code",
   "execution_count": null,
   "id": "0514d810",
   "metadata": {
    "scrolled": true
   },
   "outputs": [],
   "source": [
    "final_fit.pvalues['decisionCPE']"
   ]
  },
  {
   "cell_type": "code",
   "execution_count": null,
   "id": "8492928e",
   "metadata": {},
   "outputs": [],
   "source": [
    "mixed_effects_ftest_ttest(final_fit)"
   ]
  },
  {
   "cell_type": "code",
   "execution_count": null,
   "id": "c807ae1e",
   "metadata": {},
   "outputs": [],
   "source": [
    "fe_param_names = list(final_fit.fe_params.index[1:])\n",
    "fe_param_names"
   ]
  },
  {
   "cell_type": "code",
   "execution_count": null,
   "id": "e455378a",
   "metadata": {},
   "outputs": [],
   "source": [
    "plot_data = pd.concat([pd.DataFrame(\n",
    "    {**{'subj_id':elec_id.split('_')[0],'reref_ch_names':elec_id.split('_')[1]},'unique_reref_ch':elec_id,\n",
    "     **{f'raw_{param}':final_fit.random_effects[elec_id][param] for param in list(\n",
    "            final_fit.random_effects[elec_id].index)}},index=[range(len(fe_param_names))])\n",
    "        \n",
    "    for elec_id in final_fit.random_effects.keys()]).reset_index(drop=True)\n",
    "\n",
    "plot_data['roi'] = [reg_df.roi[reg_df.unique_reref_ch == row.unique_reref_ch].values[0]\n",
    "                                for idx,row in plot_data.iterrows()]\n",
    "\n",
    "plot_data['bdi'] = [subj_info_df.bdi[subj_info_df.subj_id == subj_id].values[0]\n",
    "                                for subj_id in plot_data.subj_id]"
   ]
  },
  {
   "cell_type": "code",
   "execution_count": null,
   "id": "3f839a88",
   "metadata": {},
   "outputs": [],
   "source": [
    "plot_data"
   ]
  },
  {
   "cell_type": "code",
   "execution_count": null,
   "id": "e9ebf197",
   "metadata": {},
   "outputs": [],
   "source": [
    "#### Get all results for Figs!!!!\n",
    "\n",
    "fe_intercept   = final_fit.params['Intercept']\n",
    "fe_cpe_beta    = final_fit.params['decisionCPE']\n",
    "fe_cpe_beta\n"
   ]
  },
  {
   "cell_type": "code",
   "execution_count": null,
   "id": "b2cf1d9f",
   "metadata": {},
   "outputs": [],
   "source": [
    "#### add fixed effects data to all_elec_plot_data\n",
    "plot_data['elec_b0']   = np.add(plot_data.raw_Group,fe_intercept)\n",
    "plot_data['elec_bCPE'] = np.add(plot_data.raw_decisionCPE,fe_cpe_beta)\n",
    "plot_data = plot_data[~plot_data.roi.isnull()]"
   ]
  },
  {
   "cell_type": "code",
   "execution_count": null,
   "id": "49d4f1e5",
   "metadata": {},
   "outputs": [],
   "source": [
    "plot_data"
   ]
  },
  {
   "cell_type": "code",
   "execution_count": null,
   "id": "1ce350fb",
   "metadata": {},
   "outputs": [],
   "source": [
    "raw_roi_stats = {f'{roi}':ttest_1samp(plot_data.raw_decisionCPE[plot_data.roi == roi].unique(),\n",
    "                 popmean=0) for roi in plot_data.roi.unique().tolist()}\n",
    "raw_roi_stats"
   ]
  },
  {
   "cell_type": "code",
   "execution_count": null,
   "id": "5c29f33c",
   "metadata": {},
   "outputs": [],
   "source": [
    "roi_stats = {f'{roi}':ttest_1samp(plot_data.elec_bCPE[plot_data.roi == roi].unique(),\n",
    "                 popmean=0) for roi in plot_data.roi.unique().tolist()}\n",
    "roi_stats"
   ]
  },
  {
   "cell_type": "code",
   "execution_count": null,
   "id": "dc23124a",
   "metadata": {},
   "outputs": [],
   "source": [
    "bonferr_alpha = 0.05/(len(plot_data.roi.unique().tolist()))\n",
    "bonferr_alpha"
   ]
  },
  {
   "cell_type": "code",
   "execution_count": null,
   "id": "28548e98",
   "metadata": {},
   "outputs": [],
   "source": [
    "print('sig ROIs after multiple comp correction: ',[(roi,raw_roi_stats[roi].pvalue) for roi in raw_roi_stats.keys()\n",
    "                                                   if raw_roi_stats[roi].pvalue< bonferr_alpha])\n",
    "# print('sig ROI pvals: ',roi_stats.roi_cpe_pval[roi_beta_results.roi_cpe_pval<=bonferr_alpha].unique().tolist())\n"
   ]
  },
  {
   "cell_type": "code",
   "execution_count": null,
   "id": "e750ec62",
   "metadata": {},
   "outputs": [],
   "source": [
    "print('sig ROIs after multiple comp correction: ',[(roi,roi_stats[roi].pvalue) for roi in roi_stats.keys()\n",
    "                                                   if roi_stats[roi].pvalue< bonferr_alpha])\n",
    "# print('sig ROI pvals: ',roi_stats.roi_cpe_pval[roi_beta_results.roi_cpe_pval<=bonferr_alpha].unique().tolist())\n",
    "\n",
    "\n"
   ]
  },
  {
   "cell_type": "code",
   "execution_count": null,
   "id": "c60f8481",
   "metadata": {},
   "outputs": [],
   "source": [
    "roi_stats.keys()"
   ]
  },
  {
   "cell_type": "code",
   "execution_count": null,
   "id": "30b16acd",
   "metadata": {},
   "outputs": [],
   "source": [
    "# roi_order = ['dlpfc','vlpfc','dmpfc','ofc','ains','pins','acc','hpc','amy','mtg','motor','thalamus']\n",
    "roi_order = ['dlpfc','vlpfc','dmpfc','ofc','ains','pins','acc','hpc','amy','mtg']"
   ]
  },
  {
   "cell_type": "code",
   "execution_count": null,
   "id": "b8d968cc",
   "metadata": {},
   "outputs": [],
   "source": [
    "roi_plot_data = plot_data.copy()\n",
    "roi_plot_data = roi_plot_data[roi_plot_data.roi.isin(roi_order)]\n",
    "\n",
    "# roi_plot_names = {'thalamus':'THAL','hpc':'HPC','amy':'AMY','acc':'ACC','ofc':'OFC','ains':'aINS',\n",
    "#                   'pins':'pINS','dmpfc':'dmPFC','dlpfc':'dlPFC','vlpfc':'vlPFC'}\n"
   ]
  },
  {
   "cell_type": "code",
   "execution_count": null,
   "id": "36ab9389",
   "metadata": {
    "scrolled": false
   },
   "outputs": [],
   "source": [
    "# roi_plot_data"
   ]
  },
  {
   "cell_type": "code",
   "execution_count": null,
   "id": "036d54f7",
   "metadata": {},
   "outputs": [],
   "source": [
    "sns.set_context(\"poster\",rc={'axes.linewidth': 1.5})\n",
    "fig,ax = plt.subplots(figsize=(15, 6),dpi=500)\n",
    "\n",
    "fig_save_dir = f'{base_dir}ephys_analysis/figs/{band}_regressions/'\n",
    "os.makedirs(fig_save_dir,exist_ok=True)\n",
    "\n",
    "sns.barplot(data = roi_plot_data,\n",
    "            x = 'roi',\n",
    "#             y = 'elec_bCPE',\n",
    "            y='raw_decisionCPE',\n",
    "#             color = '#561C46',\n",
    "#             color = '#00467e',\n",
    "#             color = '#346a97',\n",
    "            color = '#346a97',\n",
    "            saturation=1,\n",
    "            order=roi_order,\n",
    "            errorbar=None) \n",
    "\n",
    "\n",
    "sns.stripplot(data = roi_plot_data,\n",
    "            x = 'roi',\n",
    "#             y = 'elec_bCPE',\n",
    "              y='raw_decisionCPE',\n",
    "#               color='#78496b', \n",
    "              color = '#00467e',\n",
    "              alpha=.4,\n",
    "              dodge=True,\n",
    "              order=roi_order,\n",
    "              size = 8)\n",
    "\n",
    "ax.axhline(y=0,color='#00467e',linewidth=1.5)\n",
    "plt.tick_params(length=0 )#,grid_linewidth=1)\n",
    "\n",
    "# plt.ylim([-0.05,0.05])\n",
    "ax.set(xlabel=None)\n",
    "# plt.ylabel('CPE Encoding in Beta Power (z)')\n",
    "# plt.ylabel('beta(z) cpe encoding')\n",
    "plt.ylabel(fr'${band}_{{{zpow}}}$'+ ' cpe encoding')\n",
    "# plt.gca().yaxis.set_major_formatter(StrMethodFormatter('{x:,.3f}')) \n",
    "# plt.locator_params(axis='y', nbins=5,tight=True)\n",
    "\n",
    "\n",
    "sns.despine()\n",
    "    \n",
    "plt.savefig(f'{fig_save_dir}/Bpow_CPE_barplot_{date}.pdf', format='pdf', metadata=None,\n",
    "bbox_inches=None, pad_inches=0.1,dpi=500,\n",
    "facecolor='auto', edgecolor='auto',\n",
    "backend=None)\n"
   ]
  },
  {
   "cell_type": "code",
   "execution_count": null,
   "id": "6d426e85",
   "metadata": {},
   "outputs": [],
   "source": [
    "rho_data = []\n",
    "sig_rho = []\n",
    "\n",
    "# BDI CORRELATIONS\n",
    "for roi in plot_data.roi.unique().tolist()[:-1]:\n",
    "    roi_temp_data = plot_data[plot_data.roi==roi]\n",
    "    rho,rho_p     = pearsonr(roi_temp_data.bdi,roi_temp_data.raw_decisionCPE)\n",
    "#     rho,rho_p     = pearsonr(roi_temp_data.bdi,roi_temp_data.elec_bCPE)\n",
    "#     print(f'{roi} pearsonr',rho,rho_p)\n",
    "    rho_data.append(pd.DataFrame({'roi':roi,'rho':rho,'rho_p':rho_p},index=[0]))\n",
    "#     if rho_p <= bonferr_alpha:\n",
    "#         sig_bdi_rois.append(roi)\n",
    "    if rho_p < bonferr_alpha: \n",
    "        sig_rho.append((roi,rho,rho_p))\n",
    "    print(f'{roi} pearsonr',rho,rho_p)\n",
    "rho_data = pd.concat(rho_data).reset_index(drop=True)\n"
   ]
  },
  {
   "cell_type": "code",
   "execution_count": null,
   "id": "a961a06c",
   "metadata": {},
   "outputs": [],
   "source": [
    "sig_rho"
   ]
  },
  {
   "cell_type": "code",
   "execution_count": null,
   "id": "e57580e7",
   "metadata": {},
   "outputs": [],
   "source": [
    "rho_data['plot_p'] = [0.001 if roi.rho_p < 0.001 else np.round(roi.rho_p,4) for ix,roi in rho_data.iterrows()]"
   ]
  },
  {
   "cell_type": "code",
   "execution_count": null,
   "id": "66c97818",
   "metadata": {
    "scrolled": true
   },
   "outputs": [],
   "source": [
    "new_plot_ps = []\n",
    "for p in rho_data['plot_p']:\n",
    "    new_p = 0\n",
    "    \n",
    "    for ix,val in enumerate(str(p)):\n",
    "        if val == '0':\n",
    "            continue\n",
    "        elif val == '.':\n",
    "            continue\n",
    "        else: \n",
    "#             print(ix,val)\n",
    "            new_p = str(p)[:ix+1]\n",
    "            break\n",
    "            \n",
    "            \n",
    "\n",
    "    new_plot_ps.append(float(new_p))\n",
    "#         print(val)"
   ]
  },
  {
   "cell_type": "code",
   "execution_count": null,
   "id": "3912a60f",
   "metadata": {},
   "outputs": [],
   "source": [
    "rho_data['round_p']   = new_plot_ps\n",
    "rho_data['round_rho'] = np.round(rho_data.rho,2)\n",
    "rho_data"
   ]
  },
  {
   "cell_type": "code",
   "execution_count": null,
   "id": "e93fa32a",
   "metadata": {},
   "outputs": [],
   "source": []
  },
  {
   "cell_type": "code",
   "execution_count": null,
   "id": "e8712d81",
   "metadata": {
    "scrolled": false
   },
   "outputs": [],
   "source": [
    "\n",
    "sns.set_context(\"poster\",rc={'axes.linewidth': 1.5})\n",
    "\n",
    "for roi in plot_data.roi.unique().tolist()[:-1]:\n",
    "    roi_temp_data = plot_data[plot_data.roi==roi]\n",
    "\n",
    "    rho   = rho_data[rho_data.roi == roi].round_rho.values[0]\n",
    "    rho_p = rho_data[rho_data.roi == roi].round_p.values[0]\n",
    "    \n",
    "        \n",
    "    fig = plt.figure(figsize=(7,5),dpi=300)\n",
    "\n",
    "    sns.regplot(data=roi_temp_data,x='bdi',y='raw_decisionCPE',scatter=False,ci=95,\n",
    "                fit_reg=True,color = '#00467e') #034975\n",
    "    \n",
    "    sns.scatterplot(data = roi_temp_data.groupby(['subj_id']).agg('mean'),x='bdi',\n",
    "                    y='raw_decisionCPE',color = '#00467e',edgecolor=None,alpha=0.8)\n",
    "    \n",
    "#     plt.gca().yaxis.set_major_formatter(StrMethodFormatter('{x:,.2f}')) \n",
    "    plt.xlabel('BDI-II')\n",
    "    \n",
    "    plt.tick_params(length=0) \n",
    "    plt.ylabel(band+r'$_{{{zpow}}}$'+' cpe encoding')\n",
    "\n",
    "    plt.text(np.max(roi_temp_data.bdi)-8,\n",
    "             np.round(np.max(roi_temp_data.groupby(['subj_id']).agg('mean').raw_decisionCPE),3)-0.003,\n",
    "             r'$rho$ = '+f'{rho} '+'\\n '+r'$p < $'+f'{rho_p}',\n",
    "             color='#00467e',fontsize=16)\n",
    "\n",
    "    plt.title(f'{roi}',fontsize=24)\n",
    "\n",
    "\n",
    "    \n",
    "    sns.despine()\n",
    "    \n",
    "    plt.savefig(f'{fig_save_dir}/{roi}_{rho}_{rho_p}_roi_bdi_{band}-cpe-slope.pdf', format='pdf', metadata=None,\n",
    "        bbox_inches='tight', pad_inches=0.1,dpi=300,\n",
    "        facecolor='auto', edgecolor='auto',\n",
    "        backend=None)\n",
    "    "
   ]
  },
  {
   "cell_type": "code",
   "execution_count": null,
   "id": "31231b35",
   "metadata": {},
   "outputs": [],
   "source": []
  },
  {
   "cell_type": "markdown",
   "id": "548a813f",
   "metadata": {},
   "source": [
    "# BDI Interaction\n",
    "- Rerun final mixed effects model on each ROI separately\n",
    "- Correlate random effects slopes for each regressor with BDI"
   ]
  },
  {
   "cell_type": "code",
   "execution_count": null,
   "id": "45125515",
   "metadata": {},
   "outputs": [],
   "source": [
    "rand_eff_var = 'unique_reref_ch'\n"
   ]
  },
  {
   "cell_type": "code",
   "execution_count": null,
   "id": "fc3f279e",
   "metadata": {
    "scrolled": false
   },
   "outputs": [],
   "source": [
    "reg_df"
   ]
  },
  {
   "cell_type": "code",
   "execution_count": null,
   "id": "403b63d6",
   "metadata": {},
   "outputs": [],
   "source": [
    "bdi_vars    = ['decisionCPE','bdi','decisionCPE:bdi']\n",
    "outcome_var = 'band_pow'\n",
    "\n",
    "bdi_fit = fit_mixed_model(reg_df,bdi_vars,outcome_var,rand_eff_var,reml=False)\n",
    "print(bdi_fit.summary())\n",
    "    "
   ]
  },
  {
   "cell_type": "code",
   "execution_count": null,
   "id": "0be82922",
   "metadata": {},
   "outputs": [],
   "source": []
  },
  {
   "cell_type": "code",
   "execution_count": null,
   "id": "5c3ea595",
   "metadata": {},
   "outputs": [],
   "source": [
    "fe_param_names = list(bdi_fit.fe_params.index[1:])\n",
    "fe_param_names"
   ]
  },
  {
   "cell_type": "code",
   "execution_count": null,
   "id": "b9809e28",
   "metadata": {},
   "outputs": [],
   "source": [
    "bdi_plot_data = pd.concat([pd.DataFrame(\n",
    "    {**{'subj_id':elec_id.split('_')[0],'reref_ch_names':elec_id.split('_')[1]},'unique_reref_ch':elec_id,\n",
    "     **{f'raw_{param}':bdi_fit.random_effects[elec_id][param] for param in list(\n",
    "            bdi_fit.random_effects[elec_id].index)}},index=[range(len(fe_param_names))])\n",
    "        \n",
    "    for elec_id in bdi_fit.random_effects.keys()]).reset_index(drop=True)\n",
    "\n",
    "bdi_plot_data['roi'] = [reg_df.roi[reg_df.unique_reref_ch == row.unique_reref_ch].values[0]\n",
    "                                for idx,row in bdi_plot_data.iterrows()]\n",
    "\n",
    "bdi_plot_data['bdi'] = [subj_info_df.bdi[subj_info_df.subj_id == subj_id].values[0]\n",
    "                                for subj_id in bdi_plot_data.subj_id]"
   ]
  },
  {
   "cell_type": "code",
   "execution_count": null,
   "id": "6f4ae250",
   "metadata": {},
   "outputs": [],
   "source": [
    "bdi_plot_data"
   ]
  },
  {
   "cell_type": "code",
   "execution_count": null,
   "id": "a02df551",
   "metadata": {},
   "outputs": [],
   "source": [
    "#### Get all results for Figs!!!!\n",
    "\n",
    "fe_intercept   = bdi_fit.params['Intercept']\n",
    "fe_cpe_beta    = bdi_fit.params['decisionCPE:bdi']\n",
    "fe_cpe_beta\n"
   ]
  },
  {
   "cell_type": "code",
   "execution_count": null,
   "id": "0bdada99",
   "metadata": {},
   "outputs": [],
   "source": [
    "#### add fixed effects data to all_elec_plot_data\n",
    "bdi_plot_data['elec_b0']   = np.add(bdi_plot_data.raw_Group,fe_intercept)\n",
    "bdi_plot_data['elec_bCPE'] = np.add(bdi_plot_data['raw_decisionCPE:bdi'],fe_cpe_beta)\n",
    "bdi_plot_data = bdi_plot_data[~bdi_plot_data.roi.isnull()]"
   ]
  },
  {
   "cell_type": "code",
   "execution_count": null,
   "id": "523a0be6",
   "metadata": {},
   "outputs": [],
   "source": [
    "bdi_plot_data"
   ]
  },
  {
   "cell_type": "code",
   "execution_count": null,
   "id": "6e5966db",
   "metadata": {},
   "outputs": [],
   "source": [
    "# raw_bdi\n",
    "\n",
    "raw_roi_stats = {f'{roi}':ttest_1samp(bdi_plot_data['raw_bdi'][bdi_plot_data.roi == roi].unique(),\n",
    "                 popmean=0) for roi in bdi_plot_data.roi.unique().tolist()}\n",
    "raw_roi_stats"
   ]
  },
  {
   "cell_type": "code",
   "execution_count": null,
   "id": "4da8352e",
   "metadata": {},
   "outputs": [],
   "source": [
    "raw_roi_stats = {f'{roi}':ttest_1samp(bdi_plot_data['raw_decisionCPE:bdi'][bdi_plot_data.roi == roi].unique(),\n",
    "                 popmean=0) for roi in bdi_plot_data.roi.unique().tolist()}\n",
    "raw_roi_stats"
   ]
  },
  {
   "cell_type": "code",
   "execution_count": null,
   "id": "7bb53c9e",
   "metadata": {},
   "outputs": [],
   "source": [
    "roi_stats = {f'{roi}':ttest_1samp(bdi_plot_data.elec_bCPE[bdi_plot_data.roi == roi].unique(),\n",
    "                 popmean=0) for roi in bdi_plot_data.roi.unique().tolist()}\n",
    "roi_stats"
   ]
  },
  {
   "cell_type": "code",
   "execution_count": null,
   "id": "30dcad6d",
   "metadata": {},
   "outputs": [],
   "source": [
    "bonferr_alpha = 0.05/len(roi_stats)\n",
    "# bonferr_alpha = 0.05/len(bdi_plot_data.roi.unique().tolist())\n",
    "bonferr_alpha"
   ]
  },
  {
   "cell_type": "code",
   "execution_count": null,
   "id": "2dc9c1ba",
   "metadata": {},
   "outputs": [],
   "source": [
    "print('sig ROIs after multiple comp correction: ',[(roi,raw_roi_stats[roi].pvalue) for roi in raw_roi_stats.keys()\n",
    "                                                   if raw_roi_stats[roi].pvalue< bonferr_alpha])\n",
    "# print('sig ROI pvals: ',roi_stats.roi_cpe_pval[roi_beta_results.roi_cpe_pval<=bonferr_alpha].unique().tolist())\n"
   ]
  },
  {
   "cell_type": "code",
   "execution_count": null,
   "id": "965f4f44",
   "metadata": {},
   "outputs": [],
   "source": [
    "print('sig ROIs after multiple comp correction: ',[(roi,roi_stats[roi].pvalue) for roi in roi_stats.keys()\n",
    "                                                   if roi_stats[roi].pvalue< bonferr_alpha])\n",
    "# print('sig ROI pvals: ',roi_stats.roi_cpe_pval[roi_beta_results.roi_cpe_pval<=bonferr_alpha].unique().tolist())\n",
    "\n",
    "\n"
   ]
  },
  {
   "cell_type": "code",
   "execution_count": null,
   "id": "c5243c2c",
   "metadata": {},
   "outputs": [],
   "source": [
    "roi_stats"
   ]
  },
  {
   "cell_type": "code",
   "execution_count": null,
   "id": "609a0c44",
   "metadata": {},
   "outputs": [],
   "source": [
    "roi_stats.keys()"
   ]
  },
  {
   "cell_type": "code",
   "execution_count": null,
   "id": "364b9733",
   "metadata": {},
   "outputs": [],
   "source": [
    "# roi_order = ['dlpfc','vlpfc','dmpfc','ofc','ains','pins','acc','hpc','amy','mtg','motor','thalamus']\n",
    "roi_order = ['dlpfc','vlpfc','dmpfc','ofc','ains','pins','acc','hpc','amy']"
   ]
  },
  {
   "cell_type": "code",
   "execution_count": null,
   "id": "b9a6bce9",
   "metadata": {},
   "outputs": [],
   "source": [
    "roi_bdi_plot_data = bdi_plot_data.copy()\n",
    "roi_bdi_plot_data = roi_bdi_plot_data[roi_bdi_plot_data.roi.isin(roi_order)]\n",
    "\n",
    "# roi_plot_names = {'thalamus':'THAL','hpc':'HPC','amy':'AMY','acc':'ACC','ofc':'OFC','ains':'aINS',\n",
    "#                   'pins':'pINS','dmpfc':'dmPFC','dlpfc':'dlPFC','vlpfc':'vlPFC'}\n"
   ]
  },
  {
   "cell_type": "code",
   "execution_count": null,
   "id": "72fe9dd5",
   "metadata": {},
   "outputs": [],
   "source": [
    "roi_bdi_plot_data['raw_decisionCPE:bdi']"
   ]
  },
  {
   "cell_type": "code",
   "execution_count": null,
   "id": "94a25e08",
   "metadata": {},
   "outputs": [],
   "source": [
    "sns.set_context(\"poster\")\n",
    "fig,ax = plt.subplots(figsize=(15, 6),dpi=500)\n",
    "\n",
    "fig_save_dir = f'{base_dir}ephys_analysis/figs/{band}_regressions/'\n",
    "os.makedirs(fig_save_dir,exist_ok=True)\n",
    "\n",
    "sns.barplot(data = roi_bdi_plot_data,\n",
    "            x = 'roi',\n",
    "            y = 'raw_decisionCPE:bdi',\n",
    "#             y='elec_bCPE',\n",
    "            color = '#561C46', #173b6f\n",
    "            saturation=0.8,\n",
    "            order=roi_order,\n",
    "            errorbar=None) \n",
    "\n",
    "\n",
    "sns.stripplot(data = roi_bdi_plot_data,\n",
    "            x = 'roi',\n",
    "            y = 'raw_decisionCPE:bdi',\n",
    "              color = '#561C46',\n",
    "              alpha=.4,\n",
    "              dodge=True,\n",
    "              order=roi_order,\n",
    "              size = 8)\n",
    "\n",
    "ax.axhline(y=0,color='#561C46',linewidth=1.5)\n",
    "plt.tick_params(length=0 )#,grid_linewidth=1)\n",
    "\n",
    "# plt.ylim([-0.02,0.017])\n",
    "ax.set(xlabel=None)\n",
    "\n",
    "plt.ylabel(fr'${band}_{{{zpow}}} \\sim cpe:bdi$')\n",
    "# plt.gca().yaxis.set_major_formatter(StrMethodFormatter('{x:,.3f}')) \n",
    "plt.locator_params(axis='y', nbins=6,tight=True)\n",
    "\n",
    "\n",
    "\n",
    "sns.despine()\n",
    "    \n",
    "plt.savefig(f'{fig_save_dir}/{band}pow_CPEBDIINT{date}.pdf', format='pdf', metadata=None,\n",
    "bbox_inches=None, pad_inches=0.1,dpi=500,\n",
    "facecolor='auto', edgecolor='auto',\n",
    "backend=None)"
   ]
  },
  {
   "cell_type": "code",
   "execution_count": null,
   "id": "87e08260",
   "metadata": {},
   "outputs": [],
   "source": [
    "####### BDI ~ BPOW SIG FOR THESE ROIS!!!"
   ]
  },
  {
   "cell_type": "code",
   "execution_count": null,
   "id": "e88238b6",
   "metadata": {},
   "outputs": [],
   "source": [
    "print('sig ROIs after multiple comp correction: ',[(roi,raw_roi_stats[roi].pvalue) for roi in raw_roi_stats.keys()\n",
    "                                                   if raw_roi_stats[roi].pvalue< bonferr_alpha])\n",
    "# print('sig ROI pvals: ',roi_stats.roi_cpe_pval[roi_beta_results.roi_cpe_pval<=bonferr_alpha].unique().tolist())\n"
   ]
  },
  {
   "cell_type": "code",
   "execution_count": null,
   "id": "c9a8a7cd",
   "metadata": {},
   "outputs": [],
   "source": [
    "roi_bdi_plot_data"
   ]
  },
  {
   "cell_type": "code",
   "execution_count": null,
   "id": "38e9e2c7",
   "metadata": {},
   "outputs": [],
   "source": [
    "print('sig ROIs after multiple comp correction: ',[(roi,ttest_1samp(roi_bdi_plot_data[\n",
    "    roi_bdi_plot_data.roi == roi]['raw_decisionCPE:bdi'].to_numpy(),\n",
    "                                     popmean=0).pvalue) for roi in roi_bdi_plot_data.roi.unique().tolist()\n",
    "                                                  if ttest_1samp(roi_bdi_plot_data[\n",
    "    roi_bdi_plot_data.roi == roi]['raw_decisionCPE:bdi'].to_numpy(),\n",
    "                                     popmean=0).pvalue < bonferr_alpha])\n",
    "\n",
    "\n"
   ]
  },
  {
   "cell_type": "code",
   "execution_count": null,
   "id": "09f548d1",
   "metadata": {},
   "outputs": [],
   "source": [
    "print('sig ROIs after multiple comp correction: ',[(roi,ttest_1samp(roi_bdi_plot_data[\n",
    "    roi_bdi_plot_data.roi == roi]['raw_bdi'].to_numpy(),\n",
    "                                     popmean=0).pvalue) for roi in roi_bdi_plot_data.roi.unique().tolist()\n",
    "                                                  if ttest_1samp(roi_bdi_plot_data[\n",
    "    roi_bdi_plot_data.roi == roi]['raw_bdi'].to_numpy(),\n",
    "                                     popmean=0).pvalue < bonferr_alpha])\n",
    "\n",
    "\n"
   ]
  },
  {
   "cell_type": "code",
   "execution_count": null,
   "id": "f1dd4136",
   "metadata": {},
   "outputs": [],
   "source": [
    "sns.set_context(\"poster\")\n",
    "fig,ax = plt.subplots(figsize=(15, 6),dpi=500)\n",
    "\n",
    "fig_save_dir = f'{base_dir}ephys_analysis/figs/{band}_regressions/'\n",
    "os.makedirs(fig_save_dir,exist_ok=True)\n",
    "\n",
    "sns.barplot(data = roi_bdi_plot_data,\n",
    "            x = 'roi',\n",
    "            y = 'raw_bdi',\n",
    "#             y='elec_bCPE',\n",
    "            color = '#173b6f', #173b6f\n",
    "            saturation=0.8,\n",
    "            order=roi_order,\n",
    "            errorbar=None) \n",
    "\n",
    "\n",
    "sns.stripplot(data = roi_bdi_plot_data,\n",
    "            x = 'roi',\n",
    "            y = 'raw_bdi',\n",
    "              color = '#173b6f',\n",
    "              alpha=.4,\n",
    "              dodge=True,\n",
    "              order=roi_order,\n",
    "              size = 8)\n",
    "\n",
    "ax.axhline(y=0,color='#173b6f',linewidth=1.5)\n",
    "plt.tick_params(length=0 )#,grid_linewidth=1)\n",
    "\n",
    "# plt.ylim([-0.02,0.017])\n",
    "ax.set(xlabel=None)\n",
    "\n",
    "# plt.ylabel(r'$beta_{{{zpow}}} \\sim cpe:bdi$')\n",
    "plt.ylabel(fr'${band}_{{{zpow}}} \\sim bdi$')\n",
    "# plt.gca().yaxis.set_major_formatter(StrMethodFormatter('{x:,.3f}')) \n",
    "plt.locator_params(axis='y', nbins=6,tight=True)\n",
    "\n",
    "\n",
    "\n",
    "sns.despine()\n",
    "    \n",
    "plt.savefig(f'{fig_save_dir}/{band}POW~BDIbyROI{date}.pdf', format='pdf', metadata=None,\n",
    "bbox_inches=None, pad_inches=0.1,dpi=500,\n",
    "facecolor='auto', edgecolor='auto',\n",
    "backend=None)"
   ]
  },
  {
   "cell_type": "code",
   "execution_count": null,
   "id": "aeade1f2",
   "metadata": {},
   "outputs": [],
   "source": []
  },
  {
   "cell_type": "code",
   "execution_count": null,
   "id": "3e4336a0",
   "metadata": {},
   "outputs": [],
   "source": []
  },
  {
   "cell_type": "code",
   "execution_count": null,
   "id": "f2d93add",
   "metadata": {},
   "outputs": [],
   "source": []
  },
  {
   "cell_type": "code",
   "execution_count": null,
   "id": "e91fc596",
   "metadata": {
    "scrolled": false
   },
   "outputs": [],
   "source": [
    "roi_bdi_plot_data"
   ]
  },
  {
   "cell_type": "code",
   "execution_count": null,
   "id": "4076584e",
   "metadata": {},
   "outputs": [],
   "source": [
    "# roi_order = ['dlpfc','vlpfc','dmpfc','ofc','ains','pins','acc','hpc','amy']"
   ]
  },
  {
   "cell_type": "code",
   "execution_count": null,
   "id": "fb705f53",
   "metadata": {},
   "outputs": [],
   "source": [
    "reg_df.groupby('roi')"
   ]
  },
  {
   "cell_type": "code",
   "execution_count": null,
   "id": "996ee4b8",
   "metadata": {
    "scrolled": true
   },
   "outputs": [],
   "source": [
    "reg_df['BDI-II'] = ['Low' if bdi<20 else 'High' for bdi in reg_df.bdi]\n",
    "reg_df"
   ]
  },
  {
   "cell_type": "code",
   "execution_count": null,
   "id": "7d9e1740",
   "metadata": {},
   "outputs": [],
   "source": [
    "palette=dict(Low=\"#3f2755\", High=\"#054a6f\")\n",
    "# sns.move_legend(ax, \"lower center\", bbox_to_anchor=(.5, 1), ncol=3, title=None, frameon=False)\n"
   ]
  },
  {
   "cell_type": "code",
   "execution_count": null,
   "id": "859789ea",
   "metadata": {},
   "outputs": [],
   "source": [
    "from scipy import stats\n",
    "slope, intercept, r_value, p_value, std_err = stats.linregress(df.x,df.y)"
   ]
  },
  {
   "cell_type": "code",
   "execution_count": null,
   "id": "d58c90f0",
   "metadata": {},
   "outputs": [],
   "source": [
    "# reg_df['Depression'] = ['depressed' if bdi >=20 else 'not depressed' for bdi in reg_df.bdi.tolist()]\n",
    "reg_df['Depression'] = ['high BDI' if bdi >=20 else 'low BDI' for bdi in reg_df.bdi.tolist()]"
   ]
  },
  {
   "cell_type": "code",
   "execution_count": null,
   "id": "1813cfbb",
   "metadata": {},
   "outputs": [],
   "source": [
    "# edgecolor=None,markerfirst=True,title=None,#title_fontsize='x-small',\n",
    "#                 markerscale=0.2,labelcolor=None"
   ]
  },
  {
   "cell_type": "code",
   "execution_count": null,
   "id": "275e1a06",
   "metadata": {},
   "outputs": [],
   "source": []
  },
  {
   "cell_type": "code",
   "execution_count": null,
   "id": "9e9f2f7d",
   "metadata": {},
   "outputs": [],
   "source": [
    "reg_df.roi.unique().tolist()"
   ]
  },
  {
   "cell_type": "markdown",
   "id": "e4d7f782",
   "metadata": {},
   "source": [
    "# INTERACTION FEATURE SELECTION"
   ]
  },
  {
   "cell_type": "code",
   "execution_count": null,
   "id": "ea4fdaf5",
   "metadata": {},
   "outputs": [],
   "source": [
    "######## make all possible variable combinations for regressions \n",
    "main_var  = ['decisionCPE','band_pow','decisionCPE:band_pow']\n",
    "\n",
    "### iter vars for RT prediction dfs > \n",
    "iter_vars = ['C(GambleChoice)','TrialEV','TotalProfit',\n",
    "             'C(GambleChoice_t1)','TrialEV_t1']\n"
   ]
  },
  {
   "cell_type": "code",
   "execution_count": null,
   "id": "78a8d854",
   "metadata": {},
   "outputs": [],
   "source": [
    "iter_vars"
   ]
  },
  {
   "cell_type": "code",
   "execution_count": null,
   "id": "d5be8f86",
   "metadata": {},
   "outputs": [],
   "source": [
    "var_combos = [[v]+main_var for v in iter_vars]\n",
    "\n",
    "for i in range(1,len(iter_vars)-1):\n",
    "    iter_list = [list(tup)+main_var for tup in list(itertools.combinations(iter_vars,i+1))]\n",
    "    var_combos.extend(iter_list)\n",
    "\n",
    "# remove var combos that contain Choice + Trial Type for the *same trial* only bc they are collinear\n",
    "var_combos = [combo for combo in var_combos if ('C(GambleChoice_t1)' in combo and 'C(TrialType_t1)' not in combo)|\n",
    "              ('C(GambleChoice_t1)' not in combo and 'C(TrialType_t1)' in combo)|('C(GambleChoice_t1)'not in combo and 'C(TrialType_t1)' not in combo)]\n",
    "\n",
    "var_combos = [combo for combo in var_combos if ('C(GambleChoice)' in combo and 'C(TrialType)' not in combo)|\n",
    "              ('C(GambleChoice)' not in combo and 'C(TrialType)' in combo)|('C(GambleChoice)'not in combo and 'C(TrialType)' not in combo)]\n",
    "\n",
    "\n",
    "var_combos = [combo for combo in var_combos if ('C(GambleChoice)' in combo and 'TrialEV' not in combo)|\n",
    "              ('C(GambleChoice)' not in combo and 'TrialEV' in combo)|('C(GambleChoice)'not in combo and 'TrialEV' not in combo)]\n",
    "\n",
    "\n",
    "var_combos = [combo for combo in var_combos if ('TrialEV' in combo and 'C(TrialType)' not in combo)|\n",
    "              ('TrialEV' not in combo and 'C(TrialType)' in combo)|('TrialEV'not in combo and 'C(TrialType)' not in combo)]\n",
    "\n",
    "var_combos = [combo for combo in var_combos if ('C(GambleChoice_t1)' in combo and 'TrialEV_t1' not in combo)|\n",
    "              ('C(GambleChoice_t1)' not in combo and 'TrialEV_t1' in combo)|('C(GambleChoice_t1)'not in combo and 'TrialEV_t1' not in combo)]\n",
    "\n",
    "var_combos = [combo for combo in var_combos if ('TrialEV_t1' in combo and 'C(TrialType_t1)' not in combo)|\n",
    "              ('TrialEV_t1' not in combo and 'C(TrialType_t1)' in combo)|('TrialEV_t1'not in combo and 'C(TrialType_t1)' not in combo)]\n",
    "var_combos"
   ]
  },
  {
   "cell_type": "code",
   "execution_count": null,
   "id": "87eed292",
   "metadata": {},
   "outputs": [],
   "source": [
    "len(var_combos)"
   ]
  },
  {
   "cell_type": "code",
   "execution_count": null,
   "id": "5a8a5edd",
   "metadata": {
    "scrolled": false
   },
   "outputs": [],
   "source": [
    "# import time \n",
    "start = time.time() # start timer\n",
    "\n",
    "all_models = {}\n",
    "all_rsq    = {}\n",
    "all_stats  = {}\n",
    "all_keys   = {}\n",
    "no_conv    = []\n",
    "\n",
    "for test_vars in var_combos:\n",
    "    model_key = ''.join(test_vars[:-1]) ### make string of covariate var names to use as dict key\n",
    "    model_fit = fit_mixed_model(reg_df,test_vars,outcome_var,rand_eff_var,reml=False)\n",
    "    # check if model converged\n",
    "    if model_fit.converged:\n",
    "        \n",
    "        print(model_key,' converged!')\n",
    "        \n",
    "        all_models[model_key] = model_fit\n",
    "        all_rsq[model_key]    = compute_marginal_rsq(model_fit)\n",
    "        all_stats[model_key]  = mixed_effects_ftest_ttest(model_fit)\n",
    "        all_keys[model_key]   = test_vars\n",
    "        \n",
    "    else:\n",
    "        print(model_key,' did not converge :(')\n",
    "        no_conv.append(model_key)\n",
    "    del model_fit\n",
    "\n",
    "end = time.time()\n",
    "print('{:.4f} s'.format(end-start)) # print time elapsed for computation (approx 20 seconds per channel)    "
   ]
  },
  {
   "cell_type": "code",
   "execution_count": null,
   "id": "14488cf7",
   "metadata": {},
   "outputs": [],
   "source": [
    "no_conv"
   ]
  },
  {
   "cell_type": "code",
   "execution_count": null,
   "id": "00ae0057",
   "metadata": {},
   "outputs": [],
   "source": [
    "list(all_models.keys())"
   ]
  },
  {
   "cell_type": "code",
   "execution_count": null,
   "id": "41339324",
   "metadata": {},
   "outputs": [],
   "source": [
    "all_models['TrialEVdecisionCPEband_pow'].bic"
   ]
  },
  {
   "cell_type": "code",
   "execution_count": null,
   "id": "65c6371a",
   "metadata": {},
   "outputs": [],
   "source": [
    "model_summary = {key:all_models[key].bic for key in all_models.keys()}\n",
    "model_summary"
   ]
  },
  {
   "cell_type": "code",
   "execution_count": null,
   "id": "9ed46759",
   "metadata": {},
   "outputs": [],
   "source": [
    "bic_list = [model_summary[key] for key in model_summary.keys()]\n",
    "bic_list.sort()\n",
    "\n",
    "ordered_list = [list(model_summary.keys())[np.where(list(model_summary.values()) == bic)[0][0]] for bic in bic_list]\n",
    "list(zip(ordered_list,bic_list))\n"
   ]
  },
  {
   "cell_type": "code",
   "execution_count": null,
   "id": "08055686",
   "metadata": {},
   "outputs": [],
   "source": [
    "all_models['TotalProfitTrialEV_t1decisionCPEband_pow'].pvalues"
   ]
  },
  {
   "cell_type": "code",
   "execution_count": null,
   "id": "e725e449",
   "metadata": {},
   "outputs": [],
   "source": [
    "[(key,bic,all_models[key].pvalues['decisionCPE:band_pow']) for key,bic in list(zip(ordered_list,bic_list))]  \n"
   ]
  },
  {
   "cell_type": "code",
   "execution_count": null,
   "id": "bf5b6eba",
   "metadata": {},
   "outputs": [],
   "source": [
    "print('worst bic model: ',list(model_summary.keys())[np.where(list(model_summary.values())==np.max(list(model_summary.values())))[0][0]])\n"
   ]
  },
  {
   "cell_type": "code",
   "execution_count": null,
   "id": "bc355cdc",
   "metadata": {},
   "outputs": [],
   "source": [
    "print('best bic model: ',list(model_summary.keys())[np.where(list(model_summary.values())==np.min(list(model_summary.values())))[0][0]])\n"
   ]
  },
  {
   "cell_type": "code",
   "execution_count": null,
   "id": "c31cf512",
   "metadata": {
    "scrolled": false
   },
   "outputs": [],
   "source": [
    "print(list(model_summary.keys())[np.where(list(model_summary.values())==np.min(list(model_summary.values())))[0][0]])\n",
    "print(np.min(list(model_summary.values())))\n",
    "      \n",
    "      "
   ]
  },
  {
   "cell_type": "code",
   "execution_count": null,
   "id": "d8def74c",
   "metadata": {},
   "outputs": [],
   "source": [
    "[(key,all_models[key].pvalues['decisionCPE:band_pow']) for key in ordered_list if all_models[key].pvalues['decisionCPE:band_pow'] < 0.05]  \n",
    "\n"
   ]
  },
  {
   "cell_type": "code",
   "execution_count": null,
   "id": "79b41c35",
   "metadata": {},
   "outputs": [],
   "source": [
    "[(key,all_models[key].pvalues['decisionCPE:band_pow']) for key in ordered_list if all_models[key].pvalues['decisionCPE:band_pow'] > 0.05]  \n"
   ]
  },
  {
   "cell_type": "code",
   "execution_count": null,
   "id": "792371ec",
   "metadata": {},
   "outputs": [],
   "source": [
    "all_models['TrialEVTotalProfitdecisionCPEband_pow'].pvalues"
   ]
  },
  {
   "cell_type": "code",
   "execution_count": null,
   "id": "b1a9138c",
   "metadata": {},
   "outputs": [],
   "source": [
    "all_models['TrialEVTotalProfitdecisionCPEband_pow'].params"
   ]
  },
  {
   "cell_type": "code",
   "execution_count": null,
   "id": "0b0871c0",
   "metadata": {},
   "outputs": [],
   "source": [
    "all_models['TotalProfitTrialEV_t1decisionCPEband_pow'].summary()"
   ]
  },
  {
   "cell_type": "code",
   "execution_count": null,
   "id": "18b5a324",
   "metadata": {},
   "outputs": [],
   "source": [
    "all_rsq"
   ]
  },
  {
   "cell_type": "code",
   "execution_count": null,
   "id": "4da0e562",
   "metadata": {},
   "outputs": [],
   "source": [
    "all_models"
   ]
  },
  {
   "cell_type": "code",
   "execution_count": null,
   "id": "8ecf9c45",
   "metadata": {},
   "outputs": [],
   "source": [
    "all_stats['TrialEVdecisionCPEband_pow']"
   ]
  },
  {
   "cell_type": "code",
   "execution_count": null,
   "id": "8a98dd34",
   "metadata": {},
   "outputs": [],
   "source": [
    "all_stats"
   ]
  },
  {
   "cell_type": "code",
   "execution_count": null,
   "id": "a8f98921",
   "metadata": {},
   "outputs": [],
   "source": [
    "#### FOR NOW JUST SAVE CPE STATS!\n",
    "t_test_results_summary = [pd.DataFrame({'ttest_fe_tval':stats[0].t.tolist()[-1],\n",
    "                                        'ttest_fe_coef' :stats[0].coef.tolist()[-1],\n",
    "                                        'ttest_fe_pval':stats[0]['P>|t|'].tolist()[-1],\n",
    "                                        'model_id':idx},index=[0]) \n",
    "                          for idx,stats in all_stats.items()]\n",
    "\n",
    "\n",
    "t_test_results_summary = pd.concat(t_test_results_summary).reset_index(drop=True)\n",
    "t_test_results_summary\n",
    "\n"
   ]
  },
  {
   "cell_type": "code",
   "execution_count": null,
   "id": "d80377a0",
   "metadata": {
    "scrolled": true
   },
   "outputs": [],
   "source": [
    "f_test_results_summary = [pd.DataFrame({'ftest_fvalue':stats[1].fvalue,\n",
    "                                        'ftest_re_df':stats[1].df_num,\n",
    "                                        'ftest_f_pval':stats[1].pvalue,\n",
    "                                        'model_id':idx},index=[0]) \n",
    "                          for idx,stats in all_stats.items()]\n",
    "\n",
    "f_test_results_summary = pd.concat(f_test_results_summary).reset_index(drop=True)\n",
    "f_test_results_summary"
   ]
  },
  {
   "cell_type": "code",
   "execution_count": null,
   "id": "3e12462d",
   "metadata": {},
   "outputs": [],
   "source": [
    "tstat_fstat_df = pd.merge(t_test_results_summary,f_test_results_summary,left_on=['model_id'],\n",
    "                          right_on=['model_id']).reset_index(drop=True)\n",
    "\n",
    "tstat_fstat_df = tstat_fstat_df[['model_id','ttest_fe_tval', 'ttest_fe_coef', 'ttest_fe_pval',\n",
    "                                 'ftest_fvalue', 'ftest_re_df', 'ftest_f_pval']]\n",
    "tstat_fstat_df\n",
    "\n"
   ]
  },
  {
   "cell_type": "code",
   "execution_count": null,
   "id": "bc8e8dc9",
   "metadata": {},
   "outputs": [],
   "source": [
    "tstat_fstat_df['rsq'] = [val for key,val in all_rsq.items()]"
   ]
  },
  {
   "cell_type": "code",
   "execution_count": null,
   "id": "1a70098a",
   "metadata": {},
   "outputs": [],
   "source": [
    "tstat_fstat_df"
   ]
  },
  {
   "cell_type": "code",
   "execution_count": null,
   "id": "f7df78a0",
   "metadata": {
    "scrolled": true
   },
   "outputs": [],
   "source": [
    "all_rsq"
   ]
  },
  {
   "cell_type": "code",
   "execution_count": null,
   "id": "244c6bc3",
   "metadata": {},
   "outputs": [],
   "source": []
  },
  {
   "cell_type": "code",
   "execution_count": null,
   "id": "bea3178a",
   "metadata": {},
   "outputs": [],
   "source": [
    "\n",
    "tstat_fstat_df['bic']         = [all_models[key].bic for key in all_models.keys()]\n"
   ]
  },
  {
   "cell_type": "code",
   "execution_count": null,
   "id": "1be55975",
   "metadata": {},
   "outputs": [],
   "source": [
    "tstat_fstat_df"
   ]
  },
  {
   "cell_type": "code",
   "execution_count": null,
   "id": "e1875990",
   "metadata": {},
   "outputs": [],
   "source": [
    "tstat_fstat_df['fe_cpe_est'] = [all_models[key].params['decisionCPE:band_pow'] for key in all_models.keys()]"
   ]
  },
  {
   "cell_type": "code",
   "execution_count": null,
   "id": "7ed0c708",
   "metadata": {},
   "outputs": [],
   "source": [
    "tstat_fstat_df['fe_cpe_pval'] = [all_models[key].pvalues['decisionCPE:band_pow'] for key in all_models.keys()]"
   ]
  },
  {
   "cell_type": "code",
   "execution_count": null,
   "id": "fa5be2c1",
   "metadata": {},
   "outputs": [],
   "source": [
    "tstat_fstat_df\n",
    "\n"
   ]
  },
  {
   "cell_type": "code",
   "execution_count": null,
   "id": "e88e6fc1",
   "metadata": {},
   "outputs": [],
   "source": [
    "#### multiple comparisons correction!!!!\n",
    "bonferr_alpha = 0.05/len(tstat_fstat_df)\n",
    "bonferr_alpha"
   ]
  },
  {
   "cell_type": "code",
   "execution_count": null,
   "id": "02fd0fab",
   "metadata": {},
   "outputs": [],
   "source": [
    "\n",
    "tstat_fstat_df.sort_values(by='fe_cpe_pval')"
   ]
  },
  {
   "cell_type": "code",
   "execution_count": null,
   "id": "6465f022",
   "metadata": {},
   "outputs": [],
   "source": [
    "# tstat_fstat_df = tstat_fstat_df[tstat_fstat_df.fe_cpe_pval < bonferr_alpha]\n",
    "tstat_fstat_df.sort_values(by='ttest_fe_pval')"
   ]
  },
  {
   "cell_type": "code",
   "execution_count": null,
   "id": "b02bff2d",
   "metadata": {},
   "outputs": [],
   "source": [
    "save_df = tstat_fstat_df.copy()"
   ]
  },
  {
   "cell_type": "code",
   "execution_count": null,
   "id": "35e1bb53",
   "metadata": {},
   "outputs": [],
   "source": [
    "tstat_fstat_df.sort_values(by='ttest_fe_pval')"
   ]
  },
  {
   "cell_type": "code",
   "execution_count": null,
   "id": "614c1090",
   "metadata": {},
   "outputs": [],
   "source": [
    "tstat_fstat_df.ttest_fe_pval"
   ]
  },
  {
   "cell_type": "code",
   "execution_count": null,
   "id": "caf0ff43",
   "metadata": {},
   "outputs": [],
   "source": [
    "print('Best BIC model: ',tstat_fstat_df.model_id[tstat_fstat_df.bic == np.min(tstat_fstat_df.bic)].values[0])\n"
   ]
  },
  {
   "cell_type": "code",
   "execution_count": null,
   "id": "f0476530",
   "metadata": {},
   "outputs": [],
   "source": [
    "print('Best fe_cpe_pval model: ',tstat_fstat_df.model_id[tstat_fstat_df.fe_cpe_pval == np.min(tstat_fstat_df.fe_cpe_pval)].values[0])\n"
   ]
  },
  {
   "cell_type": "code",
   "execution_count": null,
   "id": "3741a435",
   "metadata": {},
   "outputs": [],
   "source": [
    "print('Best rsq model: ',tstat_fstat_df.model_id[tstat_fstat_df.rsq == np.max(tstat_fstat_df.rsq)].values[0])\n"
   ]
  },
  {
   "cell_type": "code",
   "execution_count": null,
   "id": "668e599d",
   "metadata": {},
   "outputs": [],
   "source": [
    "print('Best ttest pval: ',tstat_fstat_df.model_id[tstat_fstat_df.ttest_fe_pval == \n",
    "                                                  np.min(tstat_fstat_df.ttest_fe_pval)].values[0])\n"
   ]
  },
  {
   "cell_type": "code",
   "execution_count": null,
   "id": "ec357e18",
   "metadata": {},
   "outputs": [],
   "source": [
    "print('Best tstat: ',tstat_fstat_df.model_id[tstat_fstat_df.ttest_fe_tval == \n",
    "                                                  np.max(tstat_fstat_df.ttest_fe_tval)].values[0])\n"
   ]
  },
  {
   "cell_type": "code",
   "execution_count": null,
   "id": "a6bca23e",
   "metadata": {},
   "outputs": [],
   "source": [
    "print('Best ftest pval: ',tstat_fstat_df.model_id[tstat_fstat_df.ftest_f_pval == \n",
    "                                                  np.min(tstat_fstat_df.ftest_f_pval)].values[0])"
   ]
  },
  {
   "cell_type": "code",
   "execution_count": null,
   "id": "ed161d39",
   "metadata": {},
   "outputs": [],
   "source": [
    "print('Best Fstat model: ',tstat_fstat_df.model_id[tstat_fstat_df.ftest_fvalue == \n",
    "                                                  np.max(tstat_fstat_df.ftest_fvalue)].values[0])"
   ]
  },
  {
   "cell_type": "code",
   "execution_count": null,
   "id": "03a98d05",
   "metadata": {},
   "outputs": [],
   "source": [
    "all_models_fe_data   = {}\n",
    "\n",
    "for key in all_models.keys():\n",
    "#     model_unique_elecs = all_models[key].random_effects.keys()\n",
    "    model_fe_params = {f'{param}':all_models[key].fe_params[param] for param in all_models[key].fe_params.index}\n",
    "    model_fe_params['model_id'] = key\n",
    "    all_models_fe_data[key] = model_fe_params\n",
    "\n"
   ]
  },
  {
   "cell_type": "code",
   "execution_count": null,
   "id": "8b980942",
   "metadata": {},
   "outputs": [],
   "source": [
    "all_models_fe_data"
   ]
  },
  {
   "cell_type": "code",
   "execution_count": null,
   "id": "d729b3ed",
   "metadata": {},
   "outputs": [],
   "source": [
    "model_plot_data = {}\n",
    "\n",
    "for key in all_models.keys():\n",
    "    fe_param_names = list(all_models[key].fe_params.index)\n",
    "    \n",
    "    plot_data = pd.concat([pd.DataFrame(\n",
    "    {**{'subj_id':elec_id.split('_')[0],'reref_ch_names':elec_id.split('_')[1]},'unique_reref_ch':elec_id,\n",
    "     **{f'raw_{param}':all_models[key].random_effects[elec_id][param] for param in list(\n",
    "            all_models[key].random_effects[elec_id].index)}},index=[range(len(fe_param_names))])\n",
    "    for elec_id in all_models[key].random_effects.keys()]).reset_index(drop=True)\n",
    "    \n",
    "    plot_data['roi'] = [reg_df.roi[reg_df.unique_reref_ch == row.unique_reref_ch].values[0]\n",
    "                                for idx,row in plot_data.iterrows()]\n",
    "\n",
    "    plot_data['bdi'] = [subj_info_df.bdi[subj_info_df.subj_id == subj_id].values[0]\n",
    "                                for subj_id in plot_data.subj_id]\n",
    "    model_plot_data[key] = plot_data\n",
    "\n"
   ]
  }
 ],
 "metadata": {
  "kernelspec": {
   "display_name": "lfp_env",
   "language": "python",
   "name": "lfp_env"
  },
  "language_info": {
   "codemirror_mode": {
    "name": "ipython",
    "version": 3
   },
   "file_extension": ".py",
   "mimetype": "text/x-python",
   "name": "python",
   "nbconvert_exporter": "python",
   "pygments_lexer": "ipython3",
   "version": "3.10.4"
  }
 },
 "nbformat": 4,
 "nbformat_minor": 5
}
