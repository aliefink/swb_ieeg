{
 "cells": [
  {
   "cell_type": "markdown",
   "id": "58a19e33",
   "metadata": {},
   "source": [
    "# RT ~ CPE:Beta Regressions\n",
    "Created: 04/08/24 \\\n",
    "Updated: 06/14/2024 \\\n",
    "\n",
    "*BRAIN Initiative Conference Analyses*\n"
   ]
  },
  {
   "cell_type": "code",
   "execution_count": null,
   "id": "a53ac954",
   "metadata": {},
   "outputs": [],
   "source": [
    "import numpy as np\n",
    "import mne\n",
    "from glob import glob\n",
    "import matplotlib.pyplot as plt\n",
    "from matplotlib.backends.backend_pdf import PdfPages\n",
    "import seaborn as sns\n",
    "from scipy.stats import zscore, linregress, ttest_ind, ttest_rel, ttest_1samp, pearsonr, spearmanr\n",
    "import pandas as pd\n",
    "from mne.preprocessing.bads import _find_outliers\n",
    "import os \n",
    "import joblib\n",
    "import re\n",
    "import datetime\n",
    "import scipy\n",
    "import random\n",
    "import statsmodels.api as sm\n",
    "import statsmodels.formula.api as smf\n",
    "from statsmodels.stats.outliers_influence import variance_inflation_factor\n",
    "from statsmodels.regression.mixed_linear_model import MixedLM \n",
    "from joblib import Parallel, delayed\n",
    "import pickle\n",
    "import itertools\n",
    "import time \n",
    "from matplotlib.ticker import StrMethodFormatter\n",
    "\n",
    "\n",
    "\n",
    "import warnings\n",
    "warnings.filterwarnings('ignore')\n",
    "\n",
    "\n"
   ]
  },
  {
   "cell_type": "code",
   "execution_count": null,
   "id": "e826d540",
   "metadata": {},
   "outputs": [],
   "source": [
    "%load_ext autoreload\n",
    "%autoreload 2"
   ]
  },
  {
   "cell_type": "code",
   "execution_count": null,
   "id": "7cdeb07a",
   "metadata": {},
   "outputs": [],
   "source": [
    "# Specify root directory for un-archived data and results \n",
    "base_dir   = '/sc/arion/projects/guLab/Alie/SWB/'\n",
    "anat_dir   = f'{base_dir}ephys_analysis/recon_labels/'\n",
    "neural_dir = f'{base_dir}ephys_analysis/data/'\n",
    "behav_dir  = f'{base_dir}swb_behav_models/data/behavior_preprocessed/'\n",
    "save_dir   = f'{base_dir}ephys_analysis/results/regression_data/'\n",
    "script_dir = '/hpc/users/finka03/swb_ephys_analysis/scripts/'\n",
    "\n",
    "date = datetime.date.today().strftime('%m%d%Y')\n",
    "print(date)"
   ]
  },
  {
   "cell_type": "code",
   "execution_count": null,
   "id": "56649f93",
   "metadata": {},
   "outputs": [],
   "source": [
    "import sys\n",
    "sys.path.append(f'{base_dir}ephys_analysis/LFPAnalysis/')\n",
    "\n",
    "from LFPAnalysis import analysis_utils\n",
    "\n",
    "sys.path.append(f'{script_dir}analysis_notebooks/')\n",
    "\n",
    "from ieeg_tools import *"
   ]
  },
  {
   "cell_type": "code",
   "execution_count": null,
   "id": "80e6cdea",
   "metadata": {},
   "outputs": [],
   "source": [
    "subj_ids = list(pd.read_excel(f'{base_dir}ephys_analysis/subj_info/SWB_subjects.xlsx', sheet_name='Usable_Subjects', usecols=[0]).PatientID)\n",
    "n_subj = len(subj_ids)\n",
    "# subj_ids\n"
   ]
  },
  {
   "cell_type": "code",
   "execution_count": null,
   "id": "5d12e57a",
   "metadata": {},
   "outputs": [],
   "source": [
    "bdi_list = pd.read_excel(f'{base_dir}ephys_analysis/subj_info/SWB_subjects.xlsx', sheet_name='Usable_Subjects', usecols=[3])\n",
    "bdi_list = list(bdi_list.SWB_BDI)\n",
    "subj_info_df = pd.DataFrame({'subj_id':subj_ids,'bdi':bdi_list})\n",
    "subj_info_df\n",
    "\n"
   ]
  },
  {
   "cell_type": "markdown",
   "id": "0b76da87",
   "metadata": {},
   "source": [
    "# Load beta power data "
   ]
  },
  {
   "cell_type": "code",
   "execution_count": null,
   "id": "6d6b170c",
   "metadata": {},
   "outputs": [],
   "source": [
    "#### Try Beta Power \n",
    "all_subj_beta_power = {}\n",
    "all_subj_metadata   = {}\n",
    "\n",
    "beta_range = [13,30]\n",
    "\n",
    "# load pow epochs data \n",
    "for subj_id in subj_ids: \n",
    "    # load power epochs for single subject \n",
    "    power_epochs = mne.time_frequency.read_tfrs(f'{neural_dir}{subj_id}/{subj_id}_CpeOnset-tfr.h5')[0]\n",
    "    power_epochs = power_epochs.crop(tmin=0,tmax=2.0,include_tmax=True)\n",
    "    all_subj_metadata[subj_id] = power_epochs.metadata.copy()\n",
    "    \n",
    "    # extract power df with mean beta power for each epoch for each elec \n",
    "    power_df = power_epochs.to_data_frame()\n",
    "    del power_epochs \n",
    "    beta_power_df = power_df[(power_df.freq >= beta_range[0])&(power_df.freq <= beta_range[1])].groupby(['epoch']).agg('mean').reset_index()\n",
    "    del power_df \n",
    "    all_subj_beta_power[subj_id] = beta_power_df\n",
    "    del beta_power_df\n",
    "    \n",
    "    \n",
    "# create a binary pickle file \n",
    "pickle.dump(all_subj_beta_power,open(f'{save_dir}all_subj_beta_power.pkl',\"wb\"))\n",
    "# pickle.dump(all_subj_metadata,open(f'{save_dir}all_subj_metadata.pkl',\"wb\"))\n",
    "\n",
    "    "
   ]
  },
  {
   "cell_type": "code",
   "execution_count": null,
   "id": "0e282f96",
   "metadata": {},
   "outputs": [],
   "source": [
    "# # load newest file\n",
    "# paths = glob(f'{save_dir}all_subj_beta_power_*.csv')\n",
    "# load_date = str(np.max([int(path.split('_')[-1][:-4]) # find most recent saved df to load \n",
    "#                         for path in paths]))\n",
    "\n",
    "# all_subj_beta_power = pickle.load(open(f'{save_dir}all_subj_beta_power_0{load_date}.pkl',\"rb\"))\n",
    "\n",
    "# all_subj_beta_power = pickle.load(open(f'{save_dir}all_subj_beta_power.pkl',\"rb\"))\n",
    "# all_subj_beta_power"
   ]
  },
  {
   "cell_type": "code",
   "execution_count": null,
   "id": "bcc2c172",
   "metadata": {},
   "outputs": [],
   "source": [
    "all_subj_metadata\n"
   ]
  },
  {
   "cell_type": "markdown",
   "id": "d37ca447",
   "metadata": {},
   "source": [
    "# Create Beta Regression Data"
   ]
  },
  {
   "cell_type": "code",
   "execution_count": null,
   "id": "e223914c",
   "metadata": {},
   "outputs": [],
   "source": [
    "# metadata_paths = glob(f'{save_dir}all_subj_metadata_*.pkl')\n",
    "# load_date = str(np.max([int(path.split('_')[-1][:-4]) # find most recent saved df to load \n",
    "#                         for path in metadata_paths]))\n",
    "# all_subj_metadata = pickle.load(open(f'{save_dir}all_subj_metadata_0{load_date}.pkl','rb'))\n",
    "\n",
    "# all_subj_metadata = pickle.load(open(f'{save_dir}all_subj_metadata.pkl','rb'))\n",
    "# all_subj_metadata"
   ]
  },
  {
   "cell_type": "code",
   "execution_count": null,
   "id": "91e8cc49",
   "metadata": {},
   "outputs": [],
   "source": [
    "### update metadata - zscore continuous regressors + add RT info\n",
    "for subj_id in subj_ids:\n",
    "    subj_df         = all_subj_metadata[subj_id]\n",
    "    rounds_t1       = subj_df.Round.tolist()[1:]\n",
    "    logRT_list      = np.log(subj_df['RT']).tolist() # take log of RT\n",
    "    logRT_t1_list   = logRT_list[1:] # get logRT_t1\n",
    "    GambleChoice_t1 = subj_df.GambleChoice.tolist()[1:]\n",
    "    GambleEV_t1     = subj_df.GambleEV.tolist()[1:]\n",
    "    TrialType_t1    = subj_df.TrialType.tolist()[1:]\n",
    "    TrialEV         = subj_df.GambleEV - subj_df.SafeBet\n",
    "    TrialEV_t1      = TrialEV[1:].tolist()\n",
    "    rounds_t1.append(np.nan)\n",
    "    logRT_t1_list.append(np.nan) # add nan to logRT_t1 (no t1 for last round)\n",
    "    GambleChoice_t1.append(np.nan)\n",
    "    GambleEV_t1.append(np.nan)\n",
    "    TrialType_t1.append(np.nan) \n",
    "    TrialEV_t1.append(np.nan)\n",
    "    subj_df['logRT']           = logRT_list\n",
    "    subj_df['logRT_t1']        = logRT_t1_list\n",
    "    subj_df['Round_t1']        = rounds_t1\n",
    "    subj_df['GambleChoice_t1'] = GambleChoice_t1\n",
    "    subj_df['GambleEV_t1']     = GambleEV_t1\n",
    "    subj_df['TrialType_t1']    = TrialType_t1\n",
    "    subj_df['TrialEV']         = TrialEV\n",
    "    subj_df['TrialEV_t1']      = TrialEV_t1\n",
    "    subj_df['bdi']             = subj_info_df.bdi[subj_info_df.subj_id==subj_id].values[0]\n",
    "    subj_df['subj_id']         = subj_id\n",
    "    \n",
    "    # update metadata\n",
    "    all_subj_metadata[subj_id] = subj_df\n",
    "    \n",
    "    \n",
    "# pickle.dump(all_subj_metadata,open(f'{save_dir}all_subj_metadata_t1.pkl',\"wb\"))\n",
    "    \n",
    "### debugging/testing \n",
    "\n",
    "# round_test = [list(zip(all_subj_metadata[key].Round.tolist(),all_subj_metadata[key].RT.tolist(),all_subj_metadata[key].logRT.tolist(),all_subj_metadata[key].logRT_t1.tolist())) for key in all_subj_metadata.keys()]\n",
    "# is_consecutive = [all([all_subj_metadata[subj_id].Round[i] == all_subj_metadata[subj_id].Round_t1[i-1] for i in range(1, len(all_subj_metadata[subj_id].Round))]) for subj_id in all_subj_metadata.keys()]\n",
    "\n",
    "\n",
    "    "
   ]
  },
  {
   "cell_type": "code",
   "execution_count": null,
   "id": "95fc6641",
   "metadata": {},
   "outputs": [],
   "source": [
    "### load ROI reref master \n",
    "\n",
    "\n",
    "# # load newest file\n",
    "# paths = glob(f'{save_dir}roi_reref_labels_master_*.csv')\n",
    "# load_date = str(np.max([int(path.split('_')[-1][:-4]) # find most recent saved df to load \n",
    "#                         for path in paths]))\n",
    "# roi_reref_labels_master_df = pd.read_csv(glob(f'{save_dir}roi_reref_labels_master_0{load_date}.csv')[0])\n",
    "\n",
    "\n",
    "roi_reref_labels_master_df = pd.read_csv(glob(f'{base_dir}ephys_analysis/results/roi_info/roi_reref_labels_master.csv')[0])\n",
    "roi_reref_labels_master_df = roi_reref_labels_master_df.drop(columns=['Unnamed: 0'])\n",
    "\n",
    "\n"
   ]
  },
  {
   "cell_type": "code",
   "execution_count": null,
   "id": "595c9524",
   "metadata": {},
   "outputs": [],
   "source": [
    "# variables to zscore after data cleaning - \n",
    "continuous_regressors = ['GambleEV','GambleEV_t1','SafeBet','Profit','TotalProfit','RPE',\n",
    "                         'decisionCPE', 'decisionRegret','decisionRelief','TrialEV','TrialEV_t1']\n"
   ]
  },
  {
   "cell_type": "code",
   "execution_count": null,
   "id": "e8a1e54a",
   "metadata": {},
   "outputs": [],
   "source": [
    "#### add roi info to master df \n",
    "beta_master_df = []\n",
    "\n",
    "\n",
    "for subj_id,pow_df in zip(all_subj_beta_power.keys(),all_subj_beta_power.values()):\n",
    "    \n",
    "     # reshape pow_df \n",
    "        pow_reg_df = pow_df.melt(id_vars=['epoch','freq'],\n",
    "                                    value_vars=pow_df.columns.drop(['epoch','time','freq']).tolist().copy(),\n",
    "                                    var_name='reref_ch_names', value_name='band_pow',\n",
    "                                    ignore_index = False)\n",
    "\n",
    "        pow_reg_df['subj_id'] = subj_id # add subj_id to df values\n",
    "        # reshape metadata df \n",
    "        metadata_df = all_subj_metadata[subj_id].reset_index()\n",
    "        metadata_df = metadata_df.rename(columns={'index':'epoch'})\n",
    "\n",
    "        # merge pow and metadata dfs keeping epoch as index \n",
    "        subj_regression_df = pd.merge(pow_reg_df, metadata_df,left_on=['epoch','subj_id'],\n",
    "                                    right_on=['epoch','subj_id']).reset_index(drop=True).set_index('epoch')\n",
    "        \n",
    "        subj_regression_df['epoch_num'] = subj_regression_df.index # keep epoch as a column\n",
    "\n",
    "        # add roi info \n",
    "        subj_epochs = pow_reg_df.epoch.unique()\n",
    "        # extract roi_reref_labels_df for each subj \n",
    "        subj_roi_reref_labels = roi_reref_labels_master_df[roi_reref_labels_master_df['subj_id']==subj_id]\n",
    "        # add epochs to df - repeat each elec id for every epoch to join with master df \n",
    "        subj_roi_reref_labels = roi_reref_labels_master_df[roi_reref_labels_master_df['subj_id']==subj_id]\n",
    "        subj_roi_reref_labels = (pd.concat([subj_roi_reref_labels]*len(subj_epochs),\n",
    "                                keys = subj_epochs,\n",
    "                                names = ['epoch',None])).reset_index(level=1,drop=True) #make sure epochs are the index\n",
    "        subj_roi_reref_labels['epoch_num'] = subj_roi_reref_labels.index\n",
    "\n",
    "        # create unique reref ch id for regression\n",
    "        subj_roi_reref_labels['unique_reref_ch'] = subj_roi_reref_labels[['subj_id', 'reref_ch_names']].agg('_'.join, axis=1)\n",
    "\n",
    "        # merge regression df with roi reref info df  \n",
    "        subj_regression_df = pd.merge(subj_regression_df, subj_roi_reref_labels,left_on=['subj_id','reref_ch_names','epoch_num'],\n",
    "                                    right_on=['subj_id','reref_ch_names','epoch_num']).reset_index(drop=True).set_index('epoch_num')\n",
    "        \n",
    "        subj_regression_df['epoch'] = subj_regression_df.index\n",
    "        \n",
    "        ### cleaning within subject BEFORE zscoring regressors! \n",
    "        \n",
    "        # remove trials where RT is too fast (random choice)\n",
    "        subj_regression_df = subj_regression_df[subj_regression_df.RT>0.3]\n",
    "        # remove trials where there is no choice at trial t\n",
    "        subj_regression_df = subj_regression_df[(subj_regression_df.GambleChoice=='gamble') | \n",
    "                                                (subj_regression_df.GambleChoice == 'safe')].reset_index(drop=True)\n",
    "        # remove trials where there is no choice for trial t1 (RT_t1 is nonsense)\n",
    "        subj_regression_df = subj_regression_df[(subj_regression_df.GambleChoice_t1=='gamble') | \n",
    "                                                (subj_regression_df.GambleChoice_t1 == 'safe')].reset_index(drop=True)\n",
    "        # remove trials where there is no outcome\n",
    "        subj_regression_df = subj_regression_df[(subj_regression_df.Outcome=='good') | \n",
    "                                                (subj_regression_df.Outcome == 'bad')].reset_index(drop=True)\n",
    "        # remove epoch 76 bc photodiode times are not correct at breakpoint \n",
    "        subj_regression_df = subj_regression_df[subj_regression_df.Round != 76]\n",
    "        # remove trials where logRT_t1 is inf or -inf (means RT = 0)\n",
    "        subj_regression_df = subj_regression_df[~np.isinf(subj_regression_df.logRT_t1)]\n",
    "        # format GambleChoice + TrialType vars as categories \n",
    "        subj_regression_df['GambleChoice']    = subj_regression_df['GambleChoice'].astype('category')\n",
    "        subj_regression_df['GambleChoice_t1'] = subj_regression_df['GambleChoice_t1'].astype('category')\n",
    "        subj_regression_df['TrialType']       = subj_regression_df['TrialType'].astype('category')\n",
    "        subj_regression_df['TrialType_t1']    = subj_regression_df['TrialType_t1'].astype('category')\n",
    "        # make sure Round_t1 is an integer\n",
    "        subj_regression_df['Round_t1']        = subj_regression_df['Round_t1'].astype('Int64')\n",
    "        subj_regression_df['TrialEV']         = subj_regression_df.GambleEV - subj_regression_df.SafeBet\n",
    "        \n",
    "        # zscore continuous regressors AFTER removing bad trials!! \n",
    "        for reg in continuous_regressors:\n",
    "            subj_regression_df[reg] = norm_zscore(subj_regression_df[reg].values) # zscore is /2std\n",
    "\n",
    "        beta_master_df.append(subj_regression_df)\n",
    "\n",
    "\n",
    "    \n",
    "    \n",
    "beta_master_df = pd.concat(beta_master_df)   \n",
    "# reorder columns \n",
    "beta_master_df = beta_master_df[['subj_id','bdi','epoch','freq','reref_ch_names','band_pow','unique_reref_ch',\n",
    "                                 'roi','hemi','ch_label4roi','ch_type4roi','loc4roi','Round', 'Round_t1',\n",
    "                                 'logRT_t1','logRT','RT','TrialType','TrialType_t1','GambleChoice',\n",
    "                                 'GambleChoice_t1','GambleEV', 'GambleEV_t1','SafeBet','TrialEV','TrialEV_t1',\n",
    "                                 'Profit','TotalProfit','RPE','decisionCPE', 'decisionRegret','decisionRelief']]\n",
    "\n"
   ]
  },
  {
   "cell_type": "code",
   "execution_count": null,
   "id": "5e02a6aa",
   "metadata": {},
   "outputs": [],
   "source": [
    "beta_master_df.to_csv(f'{save_dir}beta_master_data.csv')\n",
    "beta_master_df"
   ]
  },
  {
   "cell_type": "code",
   "execution_count": null,
   "id": "af90859c",
   "metadata": {},
   "outputs": [],
   "source": [
    "# list(zip(beta_master_df.groupby('subj_id')['bdi'].unique().index,beta_master_df.groupby('subj_id')['bdi'].unique(),\n",
    "#          subj_info_df.subj_id,subj_info_df.bdi))"
   ]
  },
  {
   "cell_type": "code",
   "execution_count": null,
   "id": "c2823297",
   "metadata": {},
   "outputs": [],
   "source": [
    "beta_master_df = pd.read_csv(f'{save_dir}beta_master_data.csv')\n",
    "beta_master_df"
   ]
  },
  {
   "cell_type": "code",
   "execution_count": null,
   "id": "911c782f",
   "metadata": {},
   "outputs": [],
   "source": [
    "roi_reref_labels_master_df.roi.value_counts()"
   ]
  },
  {
   "cell_type": "code",
   "execution_count": null,
   "id": "c6c4c98b",
   "metadata": {},
   "outputs": [],
   "source": [
    "#### before removing outliers - \n",
    "print(beta_master_df.band_pow.max(),beta_master_df.band_pow.mean(),beta_master_df.band_pow.std(),beta_master_df.band_pow.min())\n"
   ]
  },
  {
   "cell_type": "code",
   "execution_count": null,
   "id": "0a83a574",
   "metadata": {},
   "outputs": [],
   "source": [
    "# #### filter df by rois with electrode counts >= 50 \n",
    "# # keep_rois = roi_reref_labels_master_df.roi.value_counts().index[roi_reref_labels_master_df.roi.value_counts().values>=50].tolist()\n",
    "\n",
    "# keep_rois = ['dlpfc','vlpfc','dmpfc','ofc','ains','pins','acc','hpc','amy','mtg']\n",
    "# keep_rois\n"
   ]
  },
  {
   "cell_type": "code",
   "execution_count": null,
   "id": "b070b09c",
   "metadata": {},
   "outputs": [],
   "source": [
    "####### NEW DATA FRAME \n",
    "beta_reg_df = beta_master_df.copy()\n",
    "# beta_reg_df = beta_reg_df[beta_reg_df.roi.isin(keep_rois)]\n",
    "len(beta_reg_df)"
   ]
  },
  {
   "cell_type": "code",
   "execution_count": null,
   "id": "bc727ec4",
   "metadata": {},
   "outputs": [],
   "source": [
    "# beta_reg_df.to_csv(f'{save_dir}roi_beta_results_df.csv')\n"
   ]
  },
  {
   "cell_type": "code",
   "execution_count": null,
   "id": "a8e8cb46",
   "metadata": {},
   "outputs": [],
   "source": [
    "beta_reg_df.roi.unique().tolist()"
   ]
  },
  {
   "cell_type": "code",
   "execution_count": null,
   "id": "38213512",
   "metadata": {},
   "outputs": [],
   "source": [
    "# del beta_master_df"
   ]
  },
  {
   "cell_type": "code",
   "execution_count": null,
   "id": "d2afae87",
   "metadata": {},
   "outputs": [],
   "source": [
    "beta_reg_df.columns"
   ]
  },
  {
   "cell_type": "markdown",
   "id": "6c216358",
   "metadata": {},
   "source": [
    "# Part I: Does outcome beta power encode CPEs?\n",
    "- run model on all electrodes across subjects\n",
    "- test different covariates"
   ]
  },
  {
   "cell_type": "markdown",
   "id": "e6cb204b",
   "metadata": {},
   "source": [
    "## Mixed effects with just CPE \n",
    "random slopes/int for each elec "
   ]
  },
  {
   "cell_type": "code",
   "execution_count": null,
   "id": "234539a5",
   "metadata": {},
   "outputs": [],
   "source": [
    "outcome_var  = 'band_pow'\n",
    "rand_eff_var = 'unique_reref_ch'\n",
    "test_vars = ['decisionCPE']\n",
    "model_fit = fit_mixed_model(beta_reg_df,test_vars,outcome_var,rand_eff_var,reml=False)\n",
    "print(model_fit.summary())\n"
   ]
  },
  {
   "cell_type": "code",
   "execution_count": null,
   "id": "afaa4085",
   "metadata": {},
   "outputs": [],
   "source": [
    "model_fit.bic"
   ]
  },
  {
   "cell_type": "code",
   "execution_count": null,
   "id": "a0f5ad33",
   "metadata": {},
   "outputs": [],
   "source": [
    "mixed_effects_ftest_ttest(model_fit)[1]"
   ]
  },
  {
   "cell_type": "markdown",
   "id": "c5e3a416",
   "metadata": {},
   "source": [
    "# MODEL SELECTION - Identify Best Covariates "
   ]
  },
  {
   "cell_type": "code",
   "execution_count": null,
   "id": "91838cfb",
   "metadata": {},
   "outputs": [],
   "source": [
    "outcome_var  = 'band_pow'\n",
    "rand_eff_var = 'unique_reref_ch'"
   ]
  },
  {
   "cell_type": "markdown",
   "id": "0afd41e2",
   "metadata": {},
   "source": [
    "# Feature Selection"
   ]
  },
  {
   "cell_type": "code",
   "execution_count": null,
   "id": "93ae141d",
   "metadata": {},
   "outputs": [],
   "source": [
    "vif_scores(beta_reg_df,['TrialType','GambleChoice','TotalProfit','TrialEV','decisionCPE']) #,'logRT_t1'\n",
    "\n",
    "# vif_scores(beta_reg_df,['GambleChoice','TrialType','TotalProfit','GambleEV','RPE','decisionCPE',\n",
    "#                         'band_pow']) #,'logRT_t1'\n",
    "\n",
    "# # vif_scores(beta_reg_df,['GambleChoice','TotalProfit','GambleEV','RPE','decisionCPE',\n",
    "# #                         'band_pow','logRT_t1'])\n",
    "\n",
    "# # vif_scores(beta_reg_df,['GambleChoice','TotalProfit','Profit','RPE','decisionCPE',\n",
    "# #                         'band_pow','logRT_t1'])\n",
    "\n",
    "\n",
    "# # vif_scores(beta_reg_df,['GambleChoice','GambleEV','RPE','decisionCPE',\n",
    "# #                         'band_pow','logRT_t1'])\n",
    "\n",
    "# # vif_scores(beta_reg_df,['GambleChoice','Profit','TotalProfit','decisionCPE',\n",
    "# #                         'band_pow','logRT_t1'])\n"
   ]
  },
  {
   "cell_type": "code",
   "execution_count": null,
   "id": "44241487",
   "metadata": {},
   "outputs": [],
   "source": [
    "######## make all possible variable combinations for regressions \n",
    "main_var  = 'decisionCPE'\n",
    "iter_vars = ['C(GambleChoice)','C(TrialType)','TrialEV','TotalProfit']\n"
   ]
  },
  {
   "cell_type": "code",
   "execution_count": null,
   "id": "dc359deb",
   "metadata": {
    "scrolled": false
   },
   "outputs": [],
   "source": [
    "var_combos = [[v,main_var] for v in iter_vars]\n",
    "\n",
    "for i in range(1,len(iter_vars)-1):\n",
    "    iter_list = [list(tup)+[main_var] for tup in list(itertools.combinations(iter_vars,i+1))]\n",
    "    var_combos.extend(iter_list)\n",
    "    \n",
    "    \n",
    "var_combos = [combo for combo in var_combos if ('C(GambleChoice)' in combo and 'C(TrialType)' not in combo)|\n",
    "              ('C(GambleChoice)' not in combo and 'C(TrialType)' in combo)|\n",
    "              ('C(GambleChoice)'not in combo and 'C(TrialType)' not in combo)]\n",
    "\n",
    "var_combos = [combo for combo in var_combos if ('C(GambleChoice)' in combo and 'TrialEV' not in combo)|\n",
    "              ('C(GambleChoice)' not in combo and 'TrialEV' in combo)|\n",
    "              ('C(GambleChoice)'not in combo and 'TrialEV' not in combo)]\n",
    "\n",
    "var_combos = [combo for combo in var_combos if ('TrialEV' in combo and 'C(TrialType)' not in combo)|\n",
    "              ('TrialEV' not in combo and 'C(TrialType)' in combo)|\n",
    "              ('TrialEV'not in combo and 'C(TrialType)' not in combo)]\n",
    "\n",
    "var_combos"
   ]
  },
  {
   "cell_type": "code",
   "execution_count": null,
   "id": "3f176aa7",
   "metadata": {
    "scrolled": false
   },
   "outputs": [],
   "source": [
    "# import time \n",
    "start = time.time() # start timer\n",
    "\n",
    "all_models = {}\n",
    "no_conv = []\n",
    "\n",
    "for test_vars in var_combos:\n",
    "    model_key = ''.join(test_vars[:-1]) ### make string of covariate var names to use as dict key\n",
    "    model_fit = fit_mixed_model(beta_reg_df,test_vars,outcome_var,rand_eff_var,reml=False)\n",
    "    # check if model converged\n",
    "    if model_fit.converged:\n",
    "        print(model_key,' converged!')\n",
    "        all_models[model_key] = {'var_list':test_vars,\n",
    "                                 'fe_coeff':model_fit.params.to_numpy()[1:len(model_fit.fe_params)],\n",
    "                                 'fe_pvals':model_fit.pvalues.to_numpy()[1:len(model_fit.fe_params)],\n",
    "                                 'rsq':compute_marginal_rsq(model_fit),\n",
    "                                 'bic':model_fit.bic}\n",
    "    else:\n",
    "        print(model_key,' did not converge :(')\n",
    "        no_conv.append(model_key)\n",
    "    del model_fit\n",
    "\n",
    "end = time.time()\n",
    "print('{:.4f} s'.format(end-start)) # print time elapsed for computation (approx 20 seconds per channel)    "
   ]
  },
  {
   "cell_type": "code",
   "execution_count": null,
   "id": "a9725ac2",
   "metadata": {
    "scrolled": true
   },
   "outputs": [],
   "source": [
    "all_models"
   ]
  },
  {
   "cell_type": "code",
   "execution_count": null,
   "id": "51c0c24f",
   "metadata": {},
   "outputs": [],
   "source": [
    "model_summary = {key:all_models[key]['bic'] for key in all_models.keys()}\n",
    "model_summary"
   ]
  },
  {
   "cell_type": "code",
   "execution_count": null,
   "id": "df12b400",
   "metadata": {},
   "outputs": [],
   "source": [
    "print(list(model_summary.keys())[np.where(list(model_summary.values())==np.min(list(model_summary.values())))[0][0]])\n"
   ]
  },
  {
   "cell_type": "code",
   "execution_count": null,
   "id": "dc10c586",
   "metadata": {},
   "outputs": [],
   "source": [
    "bic_list = [model_summary[key] for key in model_summary.keys()]\n",
    "bic_list.sort()\n",
    "\n",
    "ordered_list = [list(model_summary.keys())[np.where(list(model_summary.values()) == bic)[0][0]] for bic in bic_list]\n",
    "ordered_list\n"
   ]
  },
  {
   "cell_type": "code",
   "execution_count": null,
   "id": "1f44c60b",
   "metadata": {
    "scrolled": true
   },
   "outputs": [],
   "source": [
    "[(key,all_models[key]['fe_pvals'][-1]) for key in ordered_list]  \n"
   ]
  },
  {
   "cell_type": "code",
   "execution_count": null,
   "id": "c90d83b3",
   "metadata": {
    "scrolled": false
   },
   "outputs": [],
   "source": [
    "print(list(model_summary.keys())[np.where(list(model_summary.values())==np.min(list(model_summary.values())))[0][0]])\n",
    "print(np.min(list(model_summary.values())))\n",
    "      \n",
    "      "
   ]
  },
  {
   "cell_type": "code",
   "execution_count": null,
   "id": "4cf02a25",
   "metadata": {},
   "outputs": [],
   "source": [
    "list(all_models[list(model_summary.keys())[np.where(list(model_summary.values())==np.min(list(model_summary.values())))[0][0]]]['fe_pvals'])\n",
    "\n",
    "\n"
   ]
  },
  {
   "cell_type": "code",
   "execution_count": null,
   "id": "a8b636f2",
   "metadata": {},
   "outputs": [],
   "source": [
    "rsq_summary = {key:all_models[key]['rsq'] for key in all_models.keys()}\n",
    "rsq_summary"
   ]
  },
  {
   "cell_type": "code",
   "execution_count": null,
   "id": "5a19d4a0",
   "metadata": {},
   "outputs": [],
   "source": [
    "sorted_rsq = list(rsq_summary.values()).copy()\n",
    "sorted_rsq.sort(reverse=True)\n",
    "sorted_rsq"
   ]
  },
  {
   "cell_type": "code",
   "execution_count": null,
   "id": "ea796377",
   "metadata": {},
   "outputs": [],
   "source": [
    "sorted_rsq_models = {f'{list(rsq_summary.keys())[np.where(list(rsq_summary.values()) == rsq)[0][0]]}':rsq for rsq in sorted_rsq}\n",
    "sorted_rsq_models\n",
    "\n"
   ]
  },
  {
   "cell_type": "code",
   "execution_count": null,
   "id": "2343991b",
   "metadata": {},
   "outputs": [],
   "source": [
    "list(zip(ordered_list,list(sorted_rsq_models.keys())))"
   ]
  },
  {
   "cell_type": "markdown",
   "id": "b86fa539",
   "metadata": {},
   "source": [
    "\n",
    "# Model Evaluation\n",
    "once you've selected the best ~3 models you need to evaluate the model output \n",
    "1. evaluate the model using cpd and/or generalized liklihood ratio test\"\n",
    "2. check fstats\n",
    "3. tstat betas from zero \n",
    "4. visualization\n"
   ]
  },
  {
   "cell_type": "code",
   "execution_count": null,
   "id": "7b254890",
   "metadata": {},
   "outputs": [],
   "source": [
    "# ['C(GambleChoice)TotalProfit',\n",
    "#  'C(GambleChoice)',\n",
    "#  'TrialEVTotalProfit',\n",
    "#  'C(TrialType)TotalProfit',\n",
    "#  'TotalProfit',\n",
    "#  'TrialEV',\n",
    "#  'C(TrialType)']\n"
   ]
  },
  {
   "cell_type": "code",
   "execution_count": null,
   "id": "709a65f9",
   "metadata": {},
   "outputs": [],
   "source": [
    "final_vars = ['C(GambleChoice)', 'TotalProfit', 'decisionCPE']\n"
   ]
  },
  {
   "cell_type": "code",
   "execution_count": null,
   "id": "a0e7453d",
   "metadata": {},
   "outputs": [],
   "source": [
    "\n",
    "final_fit = fit_mixed_model(beta_reg_df,final_vars,outcome_var,rand_eff_var,reml=False)\n",
    "print(final_fit.summary())\n",
    "    "
   ]
  },
  {
   "cell_type": "code",
   "execution_count": null,
   "id": "322eb831",
   "metadata": {
    "scrolled": true
   },
   "outputs": [],
   "source": [
    "final_fit.pvalues['decisionCPE']"
   ]
  },
  {
   "cell_type": "code",
   "execution_count": null,
   "id": "dcb04c4b",
   "metadata": {},
   "outputs": [],
   "source": [
    "mixed_effects_ftest_ttest(final_fit)"
   ]
  },
  {
   "cell_type": "code",
   "execution_count": null,
   "id": "e215fd34",
   "metadata": {},
   "outputs": [],
   "source": [
    "fe_param_names = list(final_fit.fe_params.index[1:])\n",
    "fe_param_names"
   ]
  },
  {
   "cell_type": "code",
   "execution_count": null,
   "id": "ae6e3385",
   "metadata": {},
   "outputs": [],
   "source": [
    "plot_data = pd.concat([pd.DataFrame(\n",
    "    {**{'subj_id':elec_id.split('_')[0],'reref_ch_names':elec_id.split('_')[1]},'unique_reref_ch':elec_id,\n",
    "     **{f'raw_{param}':final_fit.random_effects[elec_id][param] for param in list(\n",
    "            final_fit.random_effects[elec_id].index)}},index=[range(len(fe_param_names))])\n",
    "        \n",
    "    for elec_id in final_fit.random_effects.keys()]).reset_index(drop=True)\n",
    "\n",
    "plot_data['roi'] = [beta_reg_df.roi[beta_reg_df.unique_reref_ch == row.unique_reref_ch].values[0]\n",
    "                                for idx,row in plot_data.iterrows()]\n",
    "\n",
    "plot_data['bdi'] = [subj_info_df.bdi[subj_info_df.subj_id == subj_id].values[0]\n",
    "                                for subj_id in plot_data.subj_id]"
   ]
  },
  {
   "cell_type": "code",
   "execution_count": null,
   "id": "f059ced9",
   "metadata": {},
   "outputs": [],
   "source": [
    "plot_data"
   ]
  },
  {
   "cell_type": "code",
   "execution_count": null,
   "id": "c43b2a75",
   "metadata": {},
   "outputs": [],
   "source": [
    "#### Get all results for Figs!!!!\n",
    "\n",
    "fe_intercept   = final_fit.params['Intercept']\n",
    "fe_cpe_beta    = final_fit.params['decisionCPE']\n",
    "fe_cpe_beta\n"
   ]
  },
  {
   "cell_type": "code",
   "execution_count": null,
   "id": "a228b003",
   "metadata": {},
   "outputs": [],
   "source": [
    "#### add fixed effects data to all_elec_plot_data\n",
    "plot_data['elec_b0']   = np.add(plot_data.raw_Group,fe_intercept)\n",
    "plot_data['elec_bCPE'] = np.add(plot_data.raw_decisionCPE,fe_cpe_beta)\n",
    "plot_data = plot_data[~plot_data.roi.isnull()]"
   ]
  },
  {
   "cell_type": "code",
   "execution_count": null,
   "id": "16ab40f2",
   "metadata": {},
   "outputs": [],
   "source": [
    "plot_data"
   ]
  },
  {
   "cell_type": "code",
   "execution_count": null,
   "id": "0991b521",
   "metadata": {},
   "outputs": [],
   "source": [
    "raw_roi_stats = {f'{roi}':ttest_1samp(plot_data.raw_decisionCPE[plot_data.roi == roi].unique(),\n",
    "                 popmean=0) for roi in plot_data.roi.unique().tolist()}\n",
    "raw_roi_stats"
   ]
  },
  {
   "cell_type": "code",
   "execution_count": null,
   "id": "407b0f52",
   "metadata": {},
   "outputs": [],
   "source": [
    "roi_stats = {f'{roi}':ttest_1samp(plot_data.elec_bCPE[plot_data.roi == roi].unique(),\n",
    "                 popmean=0) for roi in plot_data.roi.unique().tolist()}\n",
    "roi_stats"
   ]
  },
  {
   "cell_type": "code",
   "execution_count": null,
   "id": "d9deb2ab",
   "metadata": {},
   "outputs": [],
   "source": [
    "bonferr_alpha = 0.05/(len(plot_data.roi.unique().tolist()))\n",
    "bonferr_alpha"
   ]
  },
  {
   "cell_type": "code",
   "execution_count": null,
   "id": "7397e76e",
   "metadata": {},
   "outputs": [],
   "source": [
    "print('sig ROIs after multiple comp correction: ',[(roi,raw_roi_stats[roi].pvalue) for roi in raw_roi_stats.keys()\n",
    "                                                   if raw_roi_stats[roi].pvalue< bonferr_alpha])\n",
    "# print('sig ROI pvals: ',roi_stats.roi_cpe_pval[roi_beta_results.roi_cpe_pval<=bonferr_alpha].unique().tolist())\n"
   ]
  },
  {
   "cell_type": "code",
   "execution_count": null,
   "id": "3dd56571",
   "metadata": {},
   "outputs": [],
   "source": [
    "print('sig ROIs after multiple comp correction: ',[(roi,roi_stats[roi].pvalue) for roi in roi_stats.keys()\n",
    "                                                   if roi_stats[roi].pvalue< bonferr_alpha])\n",
    "# print('sig ROI pvals: ',roi_stats.roi_cpe_pval[roi_beta_results.roi_cpe_pval<=bonferr_alpha].unique().tolist())\n",
    "\n",
    "\n"
   ]
  },
  {
   "cell_type": "code",
   "execution_count": null,
   "id": "a6615af1",
   "metadata": {},
   "outputs": [],
   "source": [
    "roi_stats.keys()"
   ]
  },
  {
   "cell_type": "code",
   "execution_count": null,
   "id": "22a0392e",
   "metadata": {},
   "outputs": [],
   "source": [
    "# roi_order = ['dlpfc','vlpfc','dmpfc','ofc','ains','pins','acc','hpc','amy','mtg','motor','thalamus']\n",
    "roi_order = ['dlpfc','vlpfc','dmpfc','ofc','ains','pins','acc','hpc','amy','mtg']"
   ]
  },
  {
   "cell_type": "code",
   "execution_count": null,
   "id": "d7d906ed",
   "metadata": {},
   "outputs": [],
   "source": [
    "roi_plot_data = plot_data.copy()\n",
    "roi_plot_data = roi_plot_data[roi_plot_data.roi.isin(roi_order)]\n",
    "\n",
    "# roi_plot_names = {'thalamus':'THAL','hpc':'HPC','amy':'AMY','acc':'ACC','ofc':'OFC','ains':'aINS',\n",
    "#                   'pins':'pINS','dmpfc':'dmPFC','dlpfc':'dlPFC','vlpfc':'vlPFC'}\n"
   ]
  },
  {
   "cell_type": "code",
   "execution_count": null,
   "id": "36ab9389",
   "metadata": {
    "scrolled": false
   },
   "outputs": [],
   "source": [
    "# roi_plot_data"
   ]
  },
  {
   "cell_type": "code",
   "execution_count": null,
   "id": "e418d9f0",
   "metadata": {},
   "outputs": [],
   "source": [
    "sns.set_context(\"poster\",rc={'axes.linewidth': 1.5})\n",
    "fig,ax = plt.subplots(figsize=(15, 6),dpi=500)\n",
    "\n",
    "fig_save_dir = f'{base_dir}ephys_analysis/figs/beta_regressions/'\n",
    "os.makedirs(fig_save_dir,exist_ok=True)\n",
    "\n",
    "sns.barplot(data = roi_plot_data,\n",
    "            x = 'roi',\n",
    "#             y = 'elec_bCPE',\n",
    "            y='raw_decisionCPE',\n",
    "#             color = '#561C46',\n",
    "#             color = '#00467e',\n",
    "#             color = '#346a97',\n",
    "            color = '#346a97',\n",
    "            saturation=1,\n",
    "            order=roi_order,\n",
    "            errorbar=None) \n",
    "\n",
    "\n",
    "sns.stripplot(data = roi_plot_data,\n",
    "            x = 'roi',\n",
    "#             y = 'elec_bCPE',\n",
    "              y='raw_decisionCPE',\n",
    "#               color='#78496b', \n",
    "              color = '#00467e',\n",
    "              alpha=.4,\n",
    "              dodge=True,\n",
    "              order=roi_order,\n",
    "              size = 8)\n",
    "\n",
    "ax.axhline(y=0,color='#00467e',linewidth=1.5)\n",
    "plt.tick_params(length=0 )#,grid_linewidth=1)\n",
    "\n",
    "# plt.ylim([-0.05,0.05])\n",
    "ax.set(xlabel=None)\n",
    "# plt.ylabel('CPE Encoding in Beta Power (z)')\n",
    "# plt.ylabel('beta(z) cpe encoding')\n",
    "plt.ylabel(r'$beta_{{{zpow}}}$'+ ' cpe encoding')\n",
    "# plt.gca().yaxis.set_major_formatter(StrMethodFormatter('{x:,.3f}')) \n",
    "# plt.locator_params(axis='y', nbins=5,tight=True)\n",
    "\n",
    "\n",
    "sns.despine()\n",
    "    \n",
    "plt.savefig(f'{fig_save_dir}/Bpow_CPE_barplot_{date}.pdf', format='pdf', metadata=None,\n",
    "bbox_inches=None, pad_inches=0.1,dpi=500,\n",
    "facecolor='auto', edgecolor='auto',\n",
    "backend=None)\n"
   ]
  },
  {
   "cell_type": "code",
   "execution_count": null,
   "id": "53710b85",
   "metadata": {},
   "outputs": [],
   "source": [
    "rho_data = []\n",
    "sig_rho = []\n",
    "\n",
    "# BDI CORRELATIONS\n",
    "for roi in plot_data.roi.unique().tolist()[:-1]:\n",
    "    roi_temp_data = plot_data[plot_data.roi==roi]\n",
    "    rho,rho_p     = pearsonr(roi_temp_data.bdi,roi_temp_data.raw_decisionCPE)\n",
    "#     rho,rho_p     = pearsonr(roi_temp_data.bdi,roi_temp_data.elec_bCPE)\n",
    "#     print(f'{roi} pearsonr',rho,rho_p)\n",
    "    rho_data.append(pd.DataFrame({'roi':roi,'rho':rho,'rho_p':rho_p},index=[0]))\n",
    "#     if rho_p <= bonferr_alpha:\n",
    "#         sig_bdi_rois.append(roi)\n",
    "    if rho_p < bonferr_alpha: \n",
    "        sig_rho.append((roi,rho,rho_p))\n",
    "    print(f'{roi} pearsonr',rho,rho_p)\n",
    "rho_data = pd.concat(rho_data).reset_index(drop=True)\n"
   ]
  },
  {
   "cell_type": "code",
   "execution_count": null,
   "id": "1a31f5e4",
   "metadata": {},
   "outputs": [],
   "source": [
    "sig_rho"
   ]
  },
  {
   "cell_type": "code",
   "execution_count": null,
   "id": "e57580e7",
   "metadata": {},
   "outputs": [],
   "source": [
    "rho_data['plot_p'] = [0.001 if roi.rho_p < 0.001 else np.round(roi.rho_p,4) for ix,roi in rho_data.iterrows()]"
   ]
  },
  {
   "cell_type": "code",
   "execution_count": null,
   "id": "66c97818",
   "metadata": {
    "scrolled": true
   },
   "outputs": [],
   "source": [
    "new_plot_ps = []\n",
    "for p in rho_data['plot_p']:\n",
    "    new_p = 0\n",
    "    \n",
    "    for ix,val in enumerate(str(p)):\n",
    "        if val == '0':\n",
    "            continue\n",
    "        elif val == '.':\n",
    "            continue\n",
    "        else: \n",
    "#             print(ix,val)\n",
    "            new_p = str(p)[:ix+1]\n",
    "            break\n",
    "            \n",
    "            \n",
    "\n",
    "    new_plot_ps.append(float(new_p))\n",
    "#         print(val)"
   ]
  },
  {
   "cell_type": "code",
   "execution_count": null,
   "id": "6a4991d6",
   "metadata": {},
   "outputs": [],
   "source": [
    "rho_data['round_p']   = new_plot_ps\n",
    "rho_data['round_rho'] = np.round(rho_data.rho,2)\n",
    "rho_data"
   ]
  },
  {
   "cell_type": "code",
   "execution_count": null,
   "id": "e93fa32a",
   "metadata": {},
   "outputs": [],
   "source": []
  },
  {
   "cell_type": "code",
   "execution_count": null,
   "id": "b481458d",
   "metadata": {
    "scrolled": false
   },
   "outputs": [],
   "source": [
    "\n",
    "sns.set_context(\"poster\",rc={'axes.linewidth': 1.5})\n",
    "\n",
    "for roi in plot_data.roi.unique().tolist()[:-1]:\n",
    "    roi_temp_data = plot_data[plot_data.roi==roi]\n",
    "\n",
    "    rho   = rho_data[rho_data.roi == roi].round_rho.values[0]\n",
    "    rho_p = rho_data[rho_data.roi == roi].round_p.values[0]\n",
    "    \n",
    "        \n",
    "    fig = plt.figure(figsize=(7,5),dpi=300)\n",
    "\n",
    "    sns.regplot(data=roi_temp_data,x='bdi',y='raw_decisionCPE',scatter=False,ci=95,\n",
    "                fit_reg=True,color = '#00467e') #034975\n",
    "    \n",
    "    sns.scatterplot(data = roi_temp_data.groupby(['subj_id']).agg('mean'),x='bdi',\n",
    "                    y='raw_decisionCPE',color = '#00467e',edgecolor=None,alpha=0.8)\n",
    "    \n",
    "#     plt.gca().yaxis.set_major_formatter(StrMethodFormatter('{x:,.2f}')) \n",
    "    plt.xlabel('BDI-II')\n",
    "    \n",
    "    plt.tick_params(length=0) \n",
    "    plt.ylabel('beta'+r'$_{{{zpow}}}$'+' cpe encoding')\n",
    "\n",
    "    plt.text(np.max(roi_temp_data.bdi)-8,\n",
    "             np.round(np.max(roi_temp_data.groupby(['subj_id']).agg('mean').raw_decisionCPE),3)-0.003,\n",
    "             r'$rho$ = '+f'{rho} '+'\\n '+r'$p < $'+f'{rho_p}',\n",
    "             color='#00467e',fontsize=16)\n",
    "\n",
    "    plt.title(f'{roi}',fontsize=24)\n",
    "\n",
    "\n",
    "    \n",
    "    sns.despine()\n",
    "    \n",
    "    plt.savefig(f'{fig_save_dir}/{roi}_{rho}_{rho_p}_roi_bdi_beta-cpe-slope.pdf', format='pdf', metadata=None,\n",
    "        bbox_inches='tight', pad_inches=0.1,dpi=300,\n",
    "        facecolor='auto', edgecolor='auto',\n",
    "        backend=None)\n",
    "    "
   ]
  },
  {
   "cell_type": "code",
   "execution_count": null,
   "id": "f4a67d86",
   "metadata": {},
   "outputs": [],
   "source": []
  },
  {
   "cell_type": "markdown",
   "id": "1ed7ce33",
   "metadata": {},
   "source": [
    "# Beta x BDI Interaction\n",
    "- Rerun final mixed effects model on each ROI separately\n",
    "- Correlate random effects slopes for each regressor with BDI"
   ]
  },
  {
   "cell_type": "code",
   "execution_count": null,
   "id": "17371f36",
   "metadata": {},
   "outputs": [],
   "source": [
    "rand_eff_var = 'unique_reref_ch'\n"
   ]
  },
  {
   "cell_type": "code",
   "execution_count": null,
   "id": "0003c6a2",
   "metadata": {
    "scrolled": false
   },
   "outputs": [],
   "source": [
    "beta_reg_df"
   ]
  },
  {
   "cell_type": "code",
   "execution_count": null,
   "id": "c925e4d6",
   "metadata": {},
   "outputs": [],
   "source": [
    "bdi_vars    = ['decisionCPE','bdi','decisionCPE:bdi']\n",
    "outcome_var = 'band_pow'\n",
    "\n",
    "bdi_fit = fit_mixed_model(beta_reg_df,bdi_vars,outcome_var,rand_eff_var,reml=False)\n",
    "print(bdi_fit.summary())\n",
    "    "
   ]
  },
  {
   "cell_type": "code",
   "execution_count": null,
   "id": "85148564",
   "metadata": {},
   "outputs": [],
   "source": []
  },
  {
   "cell_type": "code",
   "execution_count": null,
   "id": "eefc788b",
   "metadata": {},
   "outputs": [],
   "source": [
    "fe_param_names = list(bdi_fit.fe_params.index[1:])\n",
    "fe_param_names"
   ]
  },
  {
   "cell_type": "code",
   "execution_count": null,
   "id": "6d996891",
   "metadata": {},
   "outputs": [],
   "source": [
    "bdi_plot_data = pd.concat([pd.DataFrame(\n",
    "    {**{'subj_id':elec_id.split('_')[0],'reref_ch_names':elec_id.split('_')[1]},'unique_reref_ch':elec_id,\n",
    "     **{f'raw_{param}':bdi_fit.random_effects[elec_id][param] for param in list(\n",
    "            bdi_fit.random_effects[elec_id].index)}},index=[range(len(fe_param_names))])\n",
    "        \n",
    "    for elec_id in bdi_fit.random_effects.keys()]).reset_index(drop=True)\n",
    "\n",
    "bdi_plot_data['roi'] = [beta_reg_df.roi[beta_reg_df.unique_reref_ch == row.unique_reref_ch].values[0]\n",
    "                                for idx,row in bdi_plot_data.iterrows()]\n",
    "\n",
    "bdi_plot_data['bdi'] = [subj_info_df.bdi[subj_info_df.subj_id == subj_id].values[0]\n",
    "                                for subj_id in bdi_plot_data.subj_id]"
   ]
  },
  {
   "cell_type": "code",
   "execution_count": null,
   "id": "e4a167c4",
   "metadata": {},
   "outputs": [],
   "source": [
    "bdi_plot_data"
   ]
  },
  {
   "cell_type": "code",
   "execution_count": null,
   "id": "c7f03ae9",
   "metadata": {},
   "outputs": [],
   "source": [
    "#### Get all results for Figs!!!!\n",
    "\n",
    "fe_intercept   = bdi_fit.params['Intercept']\n",
    "fe_cpe_beta    = bdi_fit.params['decisionCPE:bdi']\n",
    "fe_cpe_beta\n"
   ]
  },
  {
   "cell_type": "code",
   "execution_count": null,
   "id": "c05db4f3",
   "metadata": {},
   "outputs": [],
   "source": [
    "#### add fixed effects data to all_elec_plot_data\n",
    "bdi_plot_data['elec_b0']   = np.add(bdi_plot_data.raw_Group,fe_intercept)\n",
    "bdi_plot_data['elec_bCPE'] = np.add(bdi_plot_data['raw_decisionCPE:bdi'],fe_cpe_beta)\n",
    "bdi_plot_data = bdi_plot_data[~bdi_plot_data.roi.isnull()]"
   ]
  },
  {
   "cell_type": "code",
   "execution_count": null,
   "id": "3aa60412",
   "metadata": {},
   "outputs": [],
   "source": [
    "bdi_plot_data"
   ]
  },
  {
   "cell_type": "code",
   "execution_count": null,
   "id": "55d2ed17",
   "metadata": {},
   "outputs": [],
   "source": [
    "# raw_bdi\n",
    "\n",
    "raw_roi_stats = {f'{roi}':ttest_1samp(bdi_plot_data['raw_bdi'][bdi_plot_data.roi == roi].unique(),\n",
    "                 popmean=0) for roi in bdi_plot_data.roi.unique().tolist()}\n",
    "raw_roi_stats"
   ]
  },
  {
   "cell_type": "code",
   "execution_count": null,
   "id": "2962d880",
   "metadata": {},
   "outputs": [],
   "source": [
    "raw_roi_stats = {f'{roi}':ttest_1samp(bdi_plot_data['raw_decisionCPE:bdi'][bdi_plot_data.roi == roi].unique(),\n",
    "                 popmean=0) for roi in bdi_plot_data.roi.unique().tolist()}\n",
    "raw_roi_stats"
   ]
  },
  {
   "cell_type": "code",
   "execution_count": null,
   "id": "0c6e3b91",
   "metadata": {},
   "outputs": [],
   "source": [
    "roi_stats = {f'{roi}':ttest_1samp(bdi_plot_data.elec_bCPE[bdi_plot_data.roi == roi].unique(),\n",
    "                 popmean=0) for roi in bdi_plot_data.roi.unique().tolist()}\n",
    "roi_stats"
   ]
  },
  {
   "cell_type": "code",
   "execution_count": null,
   "id": "30dcad6d",
   "metadata": {},
   "outputs": [],
   "source": [
    "bonferr_alpha = 0.05/len(roi_stats)\n",
    "# bonferr_alpha = 0.05/len(bdi_plot_data.roi.unique().tolist())\n",
    "bonferr_alpha"
   ]
  },
  {
   "cell_type": "code",
   "execution_count": null,
   "id": "2dc9c1ba",
   "metadata": {},
   "outputs": [],
   "source": [
    "print('sig ROIs after multiple comp correction: ',[(roi,raw_roi_stats[roi].pvalue) for roi in raw_roi_stats.keys()\n",
    "                                                   if raw_roi_stats[roi].pvalue< bonferr_alpha])\n",
    "# print('sig ROI pvals: ',roi_stats.roi_cpe_pval[roi_beta_results.roi_cpe_pval<=bonferr_alpha].unique().tolist())\n"
   ]
  },
  {
   "cell_type": "code",
   "execution_count": null,
   "id": "965f4f44",
   "metadata": {},
   "outputs": [],
   "source": [
    "print('sig ROIs after multiple comp correction: ',[(roi,roi_stats[roi].pvalue) for roi in roi_stats.keys()\n",
    "                                                   if roi_stats[roi].pvalue< bonferr_alpha])\n",
    "# print('sig ROI pvals: ',roi_stats.roi_cpe_pval[roi_beta_results.roi_cpe_pval<=bonferr_alpha].unique().tolist())\n",
    "\n",
    "\n"
   ]
  },
  {
   "cell_type": "code",
   "execution_count": null,
   "id": "c5243c2c",
   "metadata": {},
   "outputs": [],
   "source": [
    "roi_stats"
   ]
  },
  {
   "cell_type": "code",
   "execution_count": null,
   "id": "609a0c44",
   "metadata": {},
   "outputs": [],
   "source": [
    "roi_stats.keys()"
   ]
  },
  {
   "cell_type": "code",
   "execution_count": null,
   "id": "364b9733",
   "metadata": {},
   "outputs": [],
   "source": [
    "# roi_order = ['dlpfc','vlpfc','dmpfc','ofc','ains','pins','acc','hpc','amy','mtg','motor','thalamus']\n",
    "roi_order = ['dlpfc','vlpfc','dmpfc','ofc','ains','pins','acc','hpc','amy']"
   ]
  },
  {
   "cell_type": "code",
   "execution_count": null,
   "id": "b9a6bce9",
   "metadata": {},
   "outputs": [],
   "source": [
    "roi_bdi_plot_data = bdi_plot_data.copy()\n",
    "roi_bdi_plot_data = roi_bdi_plot_data[roi_bdi_plot_data.roi.isin(roi_order)]\n",
    "\n",
    "# roi_plot_names = {'thalamus':'THAL','hpc':'HPC','amy':'AMY','acc':'ACC','ofc':'OFC','ains':'aINS',\n",
    "#                   'pins':'pINS','dmpfc':'dmPFC','dlpfc':'dlPFC','vlpfc':'vlPFC'}\n"
   ]
  },
  {
   "cell_type": "code",
   "execution_count": null,
   "id": "72fe9dd5",
   "metadata": {},
   "outputs": [],
   "source": [
    "roi_bdi_plot_data['raw_decisionCPE:bdi']"
   ]
  },
  {
   "cell_type": "code",
   "execution_count": null,
   "id": "94a25e08",
   "metadata": {},
   "outputs": [],
   "source": [
    "sns.set_context(\"poster\")\n",
    "fig,ax = plt.subplots(figsize=(15, 6),dpi=500)\n",
    "\n",
    "fig_save_dir = f'{base_dir}ephys_analysis/figs/beta_regressions/'\n",
    "os.makedirs(fig_save_dir,exist_ok=True)\n",
    "\n",
    "sns.barplot(data = roi_bdi_plot_data,\n",
    "            x = 'roi',\n",
    "            y = 'raw_decisionCPE:bdi',\n",
    "#             y='elec_bCPE',\n",
    "            color = '#561C46', #173b6f\n",
    "            saturation=0.8,\n",
    "            order=roi_order,\n",
    "            errorbar=None) \n",
    "\n",
    "\n",
    "sns.stripplot(data = roi_bdi_plot_data,\n",
    "            x = 'roi',\n",
    "            y = 'raw_decisionCPE:bdi',\n",
    "              color = '#561C46',\n",
    "              alpha=.4,\n",
    "              dodge=True,\n",
    "              order=roi_order,\n",
    "              size = 8)\n",
    "\n",
    "ax.axhline(y=0,color='#561C46',linewidth=1.5)\n",
    "plt.tick_params(length=0 )#,grid_linewidth=1)\n",
    "\n",
    "# plt.ylim([-0.02,0.017])\n",
    "ax.set(xlabel=None)\n",
    "\n",
    "plt.ylabel(r'$beta_{{{zpow}}} \\sim cpe:bdi$')\n",
    "# plt.gca().yaxis.set_major_formatter(StrMethodFormatter('{x:,.3f}')) \n",
    "plt.locator_params(axis='y', nbins=6,tight=True)\n",
    "\n",
    "\n",
    "\n",
    "sns.despine()\n",
    "    \n",
    "plt.savefig(f'{fig_save_dir}/Bpow_CPEBDIINT{date}.pdf', format='pdf', metadata=None,\n",
    "bbox_inches=None, pad_inches=0.1,dpi=500,\n",
    "facecolor='auto', edgecolor='auto',\n",
    "backend=None)"
   ]
  },
  {
   "cell_type": "code",
   "execution_count": null,
   "id": "87e08260",
   "metadata": {},
   "outputs": [],
   "source": [
    "####### BDI ~ BPOW SIG FOR THESE ROIS!!!"
   ]
  },
  {
   "cell_type": "code",
   "execution_count": null,
   "id": "e88238b6",
   "metadata": {},
   "outputs": [],
   "source": [
    "print('sig ROIs after multiple comp correction: ',[(roi,raw_roi_stats[roi].pvalue) for roi in raw_roi_stats.keys()\n",
    "                                                   if raw_roi_stats[roi].pvalue< bonferr_alpha])\n",
    "# print('sig ROI pvals: ',roi_stats.roi_cpe_pval[roi_beta_results.roi_cpe_pval<=bonferr_alpha].unique().tolist())\n"
   ]
  },
  {
   "cell_type": "code",
   "execution_count": null,
   "id": "c9a8a7cd",
   "metadata": {},
   "outputs": [],
   "source": [
    "roi_bdi_plot_data"
   ]
  },
  {
   "cell_type": "code",
   "execution_count": null,
   "id": "38e9e2c7",
   "metadata": {},
   "outputs": [],
   "source": [
    "print('sig ROIs after multiple comp correction: ',[(roi,ttest_1samp(roi_bdi_plot_data[\n",
    "    roi_bdi_plot_data.roi == roi]['raw_decisionCPE:bdi'].to_numpy(),\n",
    "                                     popmean=0).pvalue) for roi in roi_bdi_plot_data.roi.unique().tolist()\n",
    "                                                  if ttest_1samp(roi_bdi_plot_data[\n",
    "    roi_bdi_plot_data.roi == roi]['raw_decisionCPE:bdi'].to_numpy(),\n",
    "                                     popmean=0).pvalue < bonferr_alpha])\n",
    "\n",
    "\n"
   ]
  },
  {
   "cell_type": "code",
   "execution_count": null,
   "id": "09f548d1",
   "metadata": {},
   "outputs": [],
   "source": [
    "print('sig ROIs after multiple comp correction: ',[(roi,ttest_1samp(roi_bdi_plot_data[\n",
    "    roi_bdi_plot_data.roi == roi]['raw_bdi'].to_numpy(),\n",
    "                                     popmean=0).pvalue) for roi in roi_bdi_plot_data.roi.unique().tolist()\n",
    "                                                  if ttest_1samp(roi_bdi_plot_data[\n",
    "    roi_bdi_plot_data.roi == roi]['raw_bdi'].to_numpy(),\n",
    "                                     popmean=0).pvalue < bonferr_alpha])\n",
    "\n",
    "\n"
   ]
  },
  {
   "cell_type": "code",
   "execution_count": null,
   "id": "f1dd4136",
   "metadata": {},
   "outputs": [],
   "source": [
    "sns.set_context(\"poster\")\n",
    "fig,ax = plt.subplots(figsize=(15, 6),dpi=500)\n",
    "\n",
    "fig_save_dir = f'{base_dir}ephys_analysis/figs/beta_regressions/'\n",
    "os.makedirs(fig_save_dir,exist_ok=True)\n",
    "\n",
    "sns.barplot(data = roi_bdi_plot_data,\n",
    "            x = 'roi',\n",
    "            y = 'raw_bdi',\n",
    "#             y='elec_bCPE',\n",
    "            color = '#173b6f', #173b6f\n",
    "            saturation=0.8,\n",
    "            order=roi_order,\n",
    "            errorbar=None) \n",
    "\n",
    "\n",
    "sns.stripplot(data = roi_bdi_plot_data,\n",
    "            x = 'roi',\n",
    "            y = 'raw_bdi',\n",
    "              color = '#173b6f',\n",
    "              alpha=.4,\n",
    "              dodge=True,\n",
    "              order=roi_order,\n",
    "              size = 8)\n",
    "\n",
    "ax.axhline(y=0,color='#173b6f',linewidth=1.5)\n",
    "plt.tick_params(length=0 )#,grid_linewidth=1)\n",
    "\n",
    "# plt.ylim([-0.02,0.017])\n",
    "ax.set(xlabel=None)\n",
    "\n",
    "# plt.ylabel(r'$beta_{{{zpow}}} \\sim cpe:bdi$')\n",
    "plt.ylabel(r'$beta_{{{zpow}}} \\sim bdi$')\n",
    "# plt.gca().yaxis.set_major_formatter(StrMethodFormatter('{x:,.3f}')) \n",
    "plt.locator_params(axis='y', nbins=6,tight=True)\n",
    "\n",
    "\n",
    "\n",
    "sns.despine()\n",
    "    \n",
    "plt.savefig(f'{fig_save_dir}/BPOW~BDIbyROI{date}.pdf', format='pdf', metadata=None,\n",
    "bbox_inches=None, pad_inches=0.1,dpi=500,\n",
    "facecolor='auto', edgecolor='auto',\n",
    "backend=None)"
   ]
  },
  {
   "cell_type": "code",
   "execution_count": null,
   "id": "aeade1f2",
   "metadata": {},
   "outputs": [],
   "source": []
  },
  {
   "cell_type": "code",
   "execution_count": null,
   "id": "3e4336a0",
   "metadata": {},
   "outputs": [],
   "source": []
  },
  {
   "cell_type": "code",
   "execution_count": null,
   "id": "f2d93add",
   "metadata": {},
   "outputs": [],
   "source": []
  },
  {
   "cell_type": "code",
   "execution_count": null,
   "id": "e91fc596",
   "metadata": {
    "scrolled": false
   },
   "outputs": [],
   "source": [
    "roi_bdi_plot_data"
   ]
  },
  {
   "cell_type": "code",
   "execution_count": null,
   "id": "4076584e",
   "metadata": {},
   "outputs": [],
   "source": [
    "# roi_order = ['dlpfc','vlpfc','dmpfc','ofc','ains','pins','acc','hpc','amy']"
   ]
  },
  {
   "cell_type": "code",
   "execution_count": null,
   "id": "8a187c67",
   "metadata": {},
   "outputs": [],
   "source": [
    "beta_reg_df.groupby('roi')"
   ]
  },
  {
   "cell_type": "code",
   "execution_count": null,
   "id": "b9fd4b49",
   "metadata": {
    "scrolled": true
   },
   "outputs": [],
   "source": [
    "beta_reg_df['BDI-II'] = ['Low' if bdi<20 else 'High' for bdi in beta_reg_df.bdi]\n",
    "beta_reg_df"
   ]
  },
  {
   "cell_type": "code",
   "execution_count": null,
   "id": "0f3fbbc0",
   "metadata": {},
   "outputs": [],
   "source": [
    "palette=dict(Low=\"#3f2755\", High=\"#054a6f\")\n",
    "# sns.move_legend(ax, \"lower center\", bbox_to_anchor=(.5, 1), ncol=3, title=None, frameon=False)\n"
   ]
  },
  {
   "cell_type": "code",
   "execution_count": null,
   "id": "49c8123e",
   "metadata": {},
   "outputs": [],
   "source": [
    "from scipy import stats\n",
    "slope, intercept, r_value, p_value, std_err = stats.linregress(df.x,df.y)"
   ]
  },
  {
   "cell_type": "code",
   "execution_count": null,
   "id": "eb334420",
   "metadata": {},
   "outputs": [],
   "source": [
    "# beta_reg_df['Depression'] = ['depressed' if bdi >=20 else 'not depressed' for bdi in beta_reg_df.bdi.tolist()]\n",
    "beta_reg_df['Depression'] = ['high BDI' if bdi >=20 else 'low BDI' for bdi in beta_reg_df.bdi.tolist()]"
   ]
  },
  {
   "cell_type": "code",
   "execution_count": null,
   "id": "f4257b26",
   "metadata": {},
   "outputs": [],
   "source": [
    "# edgecolor=None,markerfirst=True,title=None,#title_fontsize='x-small',\n",
    "#                 markerscale=0.2,labelcolor=None"
   ]
  },
  {
   "cell_type": "code",
   "execution_count": null,
   "id": "8161b080",
   "metadata": {},
   "outputs": [],
   "source": []
  },
  {
   "cell_type": "code",
   "execution_count": null,
   "id": "ab350086",
   "metadata": {},
   "outputs": [],
   "source": [
    "sns.set_theme(style='ticks') \n",
    "sns.set_context(\"poster\")\n",
    "\n",
    "# from matplotlib import rc\n",
    "# rc('text', usetex=False)\n",
    "\n",
    "\n",
    "fig,ax = plt.subplots(figsize=(8,5),dpi=500)\n",
    "# sns.set_context(\"poster\",rc={'axes.linewidth': 2})\n",
    "# sns.set_theme(style='ticks') \n",
    "\n",
    "# palette={'depression':\"#3f2755\",'no depression':\"#054a6f\"}\n",
    "\n",
    "palette={'high BDI':\"#0b4e5f\",'low BDI':\"#824973\"}\n",
    "\n",
    "\n",
    "# ax = sns.lmplot(data=beta_reg_df,x='decisionCPE',y='band_pow',hue='Depression',scatter=False,ci=95,palette=palette)\n",
    "# sns.move_legend(ax, loc='lower center', bbox_to_anchor=(0.1, 1),bbox_to_anchor=(-1, 0), ncol=2)\n",
    "\n",
    "# sns.move_legend(ax,\"upper center\", bbox_to_anchor=(0.5, 1), borderaxespad=0.1,frameon=False,framealpha=0,\n",
    "#                 fontsize='x-small',shadow=None,title=None,columnspacing=0.5,edgecolor=None,markerfirst=True,\n",
    "#                 markerscale=4,labelcolor=None, ncol=2)\n",
    "\n",
    "\n",
    "sns.regplot(data=beta_reg_df[beta_reg_df.Depressed=='Low BDI'],x='decisionCPE',y='band_pow',scatter=False,\n",
    "           ci=95,color = '#824973',label='Low BDI')\n",
    "sns.regplot(data=beta_reg_df[beta_reg_df.Depressed=='High BDI'],x='decisionCPE',y='band_pow',scatter=False,\n",
    "           ci=95,color='#0b4e5f',label='High BDI')\n",
    "\n",
    "plt.legend(fontsize=10)\n",
    "# borderaxespad=0,frameon=False,framealpha=0,\n",
    "sns.move_legend(ax,\"upper center\", bbox_to_anchor=(0.5, 1.1), frameon=False,framealpha=0,\n",
    "                fontsize='small',shadow=None,\n",
    "                columnspacing=2,ncol=2)\n",
    "\n",
    "\n",
    "plt.gca().yaxis.set_major_formatter(StrMethodFormatter('{x:,.2f}')) \n",
    "\n",
    "plt.ylabel(r'$beta_{{{zpow}}}$')\n",
    "plt.xlabel(r'$cpe(z)$')\n",
    "sns.despine()\n",
    "plt.tick_params(length=0)\n",
    "# plt.text(7.25,0.07,f'rho: {np.round(r,3)} \\n p: {np.round(p_r,6)}',fontsize=16)\n",
    "\n",
    "\n",
    "plt.savefig(f'{fig_save_dir}/all_lmplot_cpe_bpow_bdi_{date}.pdf', format='pdf', metadata=None,\n",
    "bbox_inches='tight', pad_inches=0.1,dpi=500,\n",
    "facecolor='auto', edgecolor='auto',\n",
    "backend=None)"
   ]
  },
  {
   "cell_type": "code",
   "execution_count": null,
   "id": "ce3da504",
   "metadata": {},
   "outputs": [],
   "source": [
    "roi_not_ains = ['notIns' if roi != 'ains' else 'ains' for roi in beta_reg_df.roi.tolist()]\n",
    "roi_not_ains"
   ]
  },
  {
   "cell_type": "code",
   "execution_count": null,
   "id": "33a97c4b",
   "metadata": {},
   "outputs": [],
   "source": [
    "beta_reg_df['roi_not_ains'] = roi_not_ains"
   ]
  },
  {
   "cell_type": "code",
   "execution_count": null,
   "id": "74c9aa55",
   "metadata": {},
   "outputs": [],
   "source": [
    "sns.set_theme(style='ticks') \n",
    "sns.set_context(\"poster\")\n",
    "\n",
    "# from matplotlib import rc\n",
    "# rc('text', usetex=False)\n",
    "\n",
    "\n",
    "fig,ax = plt.subplots(figsize=(8,5),dpi=500)\n",
    "# sns.set_context(\"poster\",rc={'axes.linewidth': 2})\n",
    "# sns.set_theme(style='ticks') \n",
    "\n",
    "# palette={'depression':\"#3f2755\",'no depression':\"#054a6f\"}\n",
    "\n",
    "palette={'high BDI':\"#0b4e5f\",'low BDI':\"#997690\"}\n",
    "\n",
    "\n",
    "# ax = sns.lmplot(data=beta_reg_df,x='decisionCPE',y='band_pow',hue='Depression',scatter=False,ci=95,palette=palette)\n",
    "# sns.move_legend(ax, loc='lower center', bbox_to_anchor=(0.1, 1),bbox_to_anchor=(-1, 0), ncol=2)\n",
    "\n",
    "# sns.move_legend(ax,\"upper center\", bbox_to_anchor=(0.5, 1), borderaxespad=0.1,frameon=False,framealpha=0,\n",
    "#                 fontsize='x-small',shadow=None,title=None,columnspacing=0.5,edgecolor=None,markerfirst=True,\n",
    "#                 markerscale=4,labelcolor=None, ncol=2)\n",
    "\n",
    "\n",
    "sns.regplot(data=beta_reg_df[beta_reg_df.Depressed=='Low BDI'],x='decisionCPE',y='band_pow',scatter=False,\n",
    "           ci=95,color = '#997690',label='Low BDI')\n",
    "sns.regplot(data=beta_reg_df[beta_reg_df.Depressed=='High BDI'],x='decisionCPE',y='band_pow',scatter=False,\n",
    "           ci=95,color='#173b6f',label='High BDI')\n",
    "\n",
    "plt.legend(fontsize=10)\n",
    "# borderaxespad=0,frameon=False,framealpha=0,\n",
    "sns.move_legend(ax,\"upper center\", bbox_to_anchor=(0.5, 1.1), frameon=False,framealpha=0,\n",
    "                fontsize='small',shadow=None,\n",
    "                columnspacing=2,ncol=2)\n",
    "\n",
    "\n",
    "plt.gca().yaxis.set_major_formatter(StrMethodFormatter('{x:,.2f}')) \n",
    "\n",
    "plt.ylabel(r'$beta_{{{zpow}}}$')\n",
    "plt.xlabel(r'$cpe(z)$')\n",
    "sns.despine()\n",
    "plt.tick_params(length=0)\n",
    "# plt.text(7.25,0.07,f'rho: {np.round(r,3)} \\n p: {np.round(p_r,6)}',fontsize=16)\n",
    "\n",
    "\n",
    "plt.savefig(f'{fig_save_dir}/all_lmplot_cpe_bpow_bdi_{date}.pdf', format='pdf', metadata=None,\n",
    "bbox_inches='tight', pad_inches=0.1,dpi=500,\n",
    "facecolor='auto', edgecolor='auto',\n",
    "backend=None)"
   ]
  },
  {
   "cell_type": "code",
   "execution_count": null,
   "id": "01b51030",
   "metadata": {},
   "outputs": [],
   "source": [
    "# fig,ax = plt.subplots(figsize=(7,5),dpi=500)\n",
    "sns.set_context(\"poster\",rc={'axes.linewidth': 2})\n",
    "sns.set_theme(style='ticks',rc={\"figure.dpi\": 300}) \n",
    "\n",
    "palette={'ains':\"#3f2755\",'notIns':\"#054a6f\"}\n",
    "\n",
    "# palette={'depressed':\"#3f2755\",'not depressed':\"#173b6f\"}\n",
    "\n",
    "\n",
    "ax = sns.lmplot(data=beta_reg_df,x='bdi',y='band_pow',hue='roi_not_ains',scatter=False,palette=palette,\n",
    "                height=4,aspect=1.2)\n",
    "#                 ,height=9, \n",
    "#            aspect=1,ci=95,\n",
    "# sns.move_legend(ax, loc='lower center', bbox_to_anchor=(0.1, 1),bbox_to_anchor=(-1, 0), ncol=2)\n",
    "\n",
    "sns.move_legend(ax,\"upper center\", bbox_to_anchor=(0.5, 1.1), borderaxespad=0,frameon=False,framealpha=0,\n",
    "                fontsize='x-small',shadow=None,title=None,columnspacing=0.5,edgecolor=None,markerfirst=True,\n",
    "                markerscale=4,labelcolor=None, ncol=2)\n",
    "\n",
    "\n",
    "# sns.regplot(data=beta_reg_df[beta_reg_df.Depressed=='Low BDI'],x='decisionCPE',y='band_pow',scatter=False,\n",
    "#            ci=95,color = '#2a4d69')\n",
    "# sns.regplot(data=beta_reg_df[beta_reg_df.Depressed=='High BDI'],x='decisionCPE',y='band_pow',scatter=False,\n",
    "#            ci=95,color='#054a6f')\n",
    "\n",
    "# plt.gca().yaxis.set_major_formatter(StrMethodFormatter('{x:,.2f}')) \n",
    "\n",
    "plt.ylabel(r'$beta_{{{zpow}}}$')\n",
    "plt.xlabel(r'$bdi$')\n",
    "sns.despine()\n",
    "plt.tick_params(length=0)\n",
    "# plt.text(7.25,0.07,f'rho: {np.round(r,3)} \\n p: {np.round(p_r,6)}',fontsize=16)\n",
    "\n",
    "\n",
    "plt.savefig(f'{fig_save_dir}/all_lm_powbybdi_ainsvsnot{date}.pdf', format='pdf', metadata=None,\n",
    "bbox_inches=None, pad_inches=0.1,dpi=500,\n",
    "facecolor='auto', edgecolor='auto',\n",
    "backend=None)"
   ]
  },
  {
   "cell_type": "code",
   "execution_count": null,
   "id": "2d66c2f3",
   "metadata": {},
   "outputs": [],
   "source": [
    "# fig,ax = plt.subplots(figsize=(7,5),dpi=500)\n",
    "sns.set_context(\"poster\",rc={'axes.linewidth': 2})\n",
    "sns.set_theme(style='ticks',rc={\"figure.dpi\": 300}) \n",
    "\n",
    "# palette={'depression':\"#3f2755\",'no depression':\"#054a6f\"}\n",
    "\n",
    "# palette={'depressed':\"#3f2755\",'not depressed':\"#173b6f\"}\n",
    "\n",
    "\n",
    "ax = sns.lmplot(data=beta_reg_df,x='bdi',y='band_pow',hue='roi_not_ains',scatter=False,height=4, \n",
    "           aspect=1,ci=95,palette='flare')\n",
    "# sns.move_legend(ax, loc='lower center', bbox_to_anchor=(0.1, 1),bbox_to_anchor=(-1, 0), ncol=2)\n",
    "\n",
    "sns.move_legend(ax,\"upper center\", bbox_to_anchor=(0.5, 1), borderaxespad=0.1,frameon=False,framealpha=0,\n",
    "                fontsize='x-small',shadow=None,title=None,columnspacing=0.5,edgecolor=None,markerfirst=True,\n",
    "                markerscale=4,labelcolor=None, ncol=2)\n",
    "\n",
    "\n",
    "# sns.regplot(data=beta_reg_df[beta_reg_df.Depressed=='Low BDI'],x='decisionCPE',y='band_pow',scatter=False,\n",
    "#            ci=95,color = '#2a4d69')\n",
    "# sns.regplot(data=beta_reg_df[beta_reg_df.Depressed=='High BDI'],x='decisionCPE',y='band_pow',scatter=False,\n",
    "#            ci=95,color='#054a6f')\n",
    "\n",
    "# plt.gca().yaxis.set_major_formatter(StrMethodFormatter('{x:,.2f}')) \n",
    "\n",
    "plt.ylabel(r'$beta_{{{zpow}}}$')\n",
    "plt.xlabel(r'$bdi$')\n",
    "sns.despine()\n",
    "plt.tick_params(length=0)\n",
    "# plt.text(7.25,0.07,f'rho: {np.round(r,3)} \\n p: {np.round(p_r,6)}',fontsize=16)\n",
    "\n",
    "\n",
    "plt.savefig(f'{fig_save_dir}/all_lm_plotroibeta{date}.pdf', format='pdf', metadata=None,\n",
    "bbox_inches=None, pad_inches=0.1,dpi=500,\n",
    "facecolor='auto', edgecolor='auto',\n",
    "backend=None)"
   ]
  },
  {
   "cell_type": "code",
   "execution_count": null,
   "id": "8f7d712f",
   "metadata": {},
   "outputs": [],
   "source": []
  },
  {
   "cell_type": "code",
   "execution_count": null,
   "id": "3d506a04",
   "metadata": {},
   "outputs": [],
   "source": [
    "# # fig,ax = plt.subplots(figsize=(7,5),dpi=500)\n",
    "# sns.set_context(\"poster\",rc={'axes.linewidth': 2})\n",
    "# sns.set_theme(style='ticks',rc={\"figure.dpi\": 300}) \n",
    "\n",
    "# # palette={'depression':\"#3f2755\",'no depression':\"#054a6f\"}\n",
    "\n",
    "# palette={'depressed':\"#3f2755\",'not depressed':\"#173b6f\"}\n",
    "\n",
    "\n",
    "# ax = sns.lmplot(data=beta_reg_df,x='decisionCPE',y='band_pow',hue='Depression',scatter=False,height=3, \n",
    "#            aspect=1.7,ci=95,palette=palette)\n",
    "# # sns.move_legend(ax, loc='lower center', bbox_to_anchor=(0.1, 1),bbox_to_anchor=(-1, 0), ncol=2)\n",
    "\n",
    "# sns.move_legend(ax,\"upper center\", bbox_to_anchor=(0.5, 1), borderaxespad=0.1,frameon=False,framealpha=0,\n",
    "#                 fontsize='x-small',shadow=None,title=None,columnspacing=0.5,edgecolor=None,markerfirst=True,\n",
    "#                 markerscale=4,labelcolor=None, ncol=2)\n",
    "\n",
    "\n",
    "# # sns.regplot(data=beta_reg_df[beta_reg_df.Depressed=='Low BDI'],x='decisionCPE',y='band_pow',scatter=False,\n",
    "# #            ci=95,color = '#2a4d69')\n",
    "# # sns.regplot(data=beta_reg_df[beta_reg_df.Depressed=='High BDI'],x='decisionCPE',y='band_pow',scatter=False,\n",
    "# #            ci=95,color='#054a6f')\n",
    "\n",
    "# # plt.gca().yaxis.set_major_formatter(StrMethodFormatter('{x:,.2f}')) \n",
    "\n",
    "# plt.ylabel(r'$beta_{{{zpow}}}$')\n",
    "# plt.xlabel(r'$cpe (z) $')\n",
    "# sns.despine()\n",
    "# plt.tick_params(length=0)\n",
    "# # plt.text(7.25,0.07,f'rho: {np.round(r,3)} \\n p: {np.round(p_r,6)}',fontsize=16)\n",
    "\n",
    "\n",
    "# plt.savefig(f'{fig_save_dir}/all_lmplot_cpe_bpow_bdi_{date}.pdf', format='pdf', metadata=None,\n",
    "# bbox_inches=None, pad_inches=0.1,dpi=500,\n",
    "# facecolor='auto', edgecolor='auto',\n",
    "# backend=None)"
   ]
  },
  {
   "cell_type": "code",
   "execution_count": null,
   "id": "b3896c5d",
   "metadata": {},
   "outputs": [],
   "source": []
  },
  {
   "cell_type": "code",
   "execution_count": null,
   "id": "a8e2d988",
   "metadata": {},
   "outputs": [],
   "source": [
    "# plt.figure(figsize=(10,8))\n",
    "# sns.lmplot(data=beta_reg_df,x='decisionCPE',y='band_pow',hue='Depressed',scatter=False,ci=95)\n",
    "# #,height=6, \n",
    "# #            aspect=1.25,legend=False,ci=95)\n",
    "# # plt.ylabel('Reaction Time log(s)')\n",
    "# # plt.xlabel('Beta Frequency Power')\n",
    "# sns.despine()\n",
    "# plt.tick_params(length=0)\n",
    "# # plt.text(7.25,0.07,f'rho: {np.round(r,3)} \\n p: {np.round(p_r,6)}',fontsize=16)\n"
   ]
  },
  {
   "cell_type": "code",
   "execution_count": null,
   "id": "b95acc65",
   "metadata": {},
   "outputs": [],
   "source": [
    "# #     ax = fig.add_axes([0, 0,1,1])\n",
    "#     sns.regplot(data=roi_temp_data,x='bdi',y='raw_decisionCPE',scatter=False,ci=95,\n",
    "#                 fit_reg=True,color = '#00467e') #034975\n",
    "    \n",
    "#     sns.scatterplot(data = roi_temp_data.groupby(['subj_id']).agg('mean'),x='bdi',\n",
    "#                     y='raw_decisionCPE',color = '#00467e',edgecolor=None,alpha=0.8)"
   ]
  }
 ],
 "metadata": {
  "kernelspec": {
   "display_name": "lfp_env",
   "language": "python",
   "name": "lfp_env"
  },
  "language_info": {
   "codemirror_mode": {
    "name": "ipython",
    "version": 3
   },
   "file_extension": ".py",
   "mimetype": "text/x-python",
   "name": "python",
   "nbconvert_exporter": "python",
   "pygments_lexer": "ipython3",
   "version": "3.10.4"
  }
 },
 "nbformat": 4,
 "nbformat_minor": 5
}
