{
 "cells": [
  {
   "cell_type": "markdown",
   "metadata": {},
   "source": [
    "# HFA Regressions\n",
    "Created: 04/08/24 \\\n",
    "Updated: 06/14/2024\n"
   ]
  },
  {
   "cell_type": "code",
   "execution_count": null,
   "metadata": {},
   "outputs": [],
   "source": [
    "import numpy as np\n",
    "import mne\n",
    "from glob import glob\n",
    "import matplotlib.pyplot as plt\n",
    "from matplotlib.backends.backend_pdf import PdfPages\n",
    "import seaborn as sns\n",
    "from scipy.stats import zscore, linregress, ttest_ind, ttest_rel, ttest_1samp, pearsonr, spearmanr\n",
    "import pandas as pd\n",
    "from mne.preprocessing.bads import _find_outliers\n",
    "import os \n",
    "import joblib\n",
    "import re\n",
    "import datetime\n",
    "import scipy\n",
    "import random\n",
    "import statsmodels.api as sm\n",
    "import statsmodels.formula.api as smf\n",
    "from statsmodels.stats.outliers_influence import variance_inflation_factor\n",
    "from statsmodels.regression.mixed_linear_model import MixedLM \n",
    "from joblib import Parallel, delayed\n",
    "import pickle\n",
    "import itertools\n",
    "import time \n",
    "from matplotlib.ticker import StrMethodFormatter\n",
    "\n",
    "\n",
    "\n",
    "import warnings\n",
    "warnings.filterwarnings('ignore')\n",
    "\n",
    "\n"
   ]
  },
  {
   "cell_type": "code",
   "execution_count": null,
   "metadata": {},
   "outputs": [],
   "source": [
    "%load_ext autoreload\n",
    "%autoreload 2"
   ]
  },
  {
   "cell_type": "code",
   "execution_count": null,
   "metadata": {},
   "outputs": [],
   "source": [
    "# Specify root directory for un-archived data and results \n",
    "base_dir = '/sc/arion/projects/guLab/Alie/SWB/'\n",
    "anat_dir = f'{base_dir}ephys_analysis/recon_labels/'\n",
    "neural_dir = f'{base_dir}ephys_analysis/data/'\n",
    "behav_dir = f'{base_dir}swb_behav_models/data/behavior_preprocessed/'\n",
    "save_dir = f'{base_dir}ephys_analysis/results/'\n",
    "script_dir = '/hpc/users/finka03/swb_ephys_analysis/scripts/'\n",
    "\n",
    "date = datetime.date.today().strftime('%m%d%Y')\n",
    "print(date)"
   ]
  },
  {
   "cell_type": "code",
   "execution_count": null,
   "metadata": {},
   "outputs": [],
   "source": [
    "import sys\n",
    "sys.path.append(f'{base_dir}ephys_analysis/LFPAnalysis/')\n",
    "\n",
    "from LFPAnalysis import lfp_preprocess_utils, sync_utils, analysis_utils, nlx_utils\n",
    "\n",
    "sys.path.append(f'{script_dir}analysis_notebooks/')\n",
    "\n",
    "from ieeg_tools import *\n"
   ]
  },
  {
   "cell_type": "code",
   "execution_count": null,
   "metadata": {},
   "outputs": [],
   "source": [
    "subj_ids = list(pd.read_excel(f'{base_dir}ephys_analysis/subj_info/SWB_subjects.xlsx', sheet_name='Usable_Subjects', usecols=[0]).PatientID)\n",
    "n_subj = len(subj_ids)\n",
    "subj_ids\n"
   ]
  },
  {
   "cell_type": "code",
   "execution_count": null,
   "metadata": {},
   "outputs": [],
   "source": [
    "bdi_list = pd.read_excel(f'{base_dir}ephys_analysis/subj_info/SWB_subjects.xlsx', sheet_name='Usable_Subjects', usecols=[3])\n",
    "bdi_list = list(bdi_list.SWB_BDI)\n",
    "subj_info_df = pd.DataFrame({'subj_id':subj_ids,'bdi':bdi_list})\n",
    "subj_info_df"
   ]
  },
  {
   "cell_type": "markdown",
   "metadata": {},
   "source": [
    "# Load data\n",
    "- First run - load all power_epochs data, after just save as pickle dict\n",
    "- Get subj metadata for regression dfs + compute logRT & logRT_t1"
   ]
  },
  {
   "cell_type": "code",
   "execution_count": null,
   "metadata": {},
   "outputs": [],
   "source": [
    "# #### Try Beta Power \n",
    "# all_subj_hfa_power = {}\n",
    "# all_subj_metadata   = {}\n",
    "\n",
    "# hfa_freqs = [70,200]\n",
    "\n",
    "# # load pow epochs data \n",
    "# for subj_id in subj_ids: \n",
    "#     # load power epochs for single subject \n",
    "#     power_epochs = mne.time_frequency.read_tfrs(f'{neural_dir}{subj_id}/{subj_id}_CpeOnset-tfr.h5')[0]\n",
    "#     power_epochs = power_epochs.crop(tmin=0,tmax=2.0,include_tmax=True)\n",
    "#     all_subj_metadata[subj_id] = power_epochs.metadata.copy()\n",
    "    \n",
    "#     # extract power df with mean beta power for each epoch for each elec \n",
    "#     power_df = power_epochs.to_data_frame()\n",
    "#     del power_epochs \n",
    "#     hfa_power_df = power_df[(power_df.freq >= hfa_freqs[0])&(power_df.freq <= hfa_freqs[1])].groupby(\n",
    "#         ['epoch']).agg('mean').reset_index()\n",
    "#     del power_df \n",
    "#     all_subj_hfa_power[subj_id] = hfa_power_df\n",
    "#     del hfa_power_df\n",
    "    \n",
    "    \n",
    "# # create a binary pickle file \n",
    "# pickle.dump(all_subj_hfa_power,open(f'{save_dir}all_subj_hfa_power.pkl',\"wb\"))\n",
    "# # pickle.dump(all_subj_metadata,open(f'{save_dir}all_subj_metadata.pkl',\"wb\"))\n",
    "\n",
    "    "
   ]
  },
  {
   "cell_type": "code",
   "execution_count": null,
   "metadata": {},
   "outputs": [],
   "source": [
    "# paths = glob(f'{save_dir}all_subj_hfa_power_*.pkl')\n",
    "# load_date = str(np.max([int(path.split('_')[-1][:-4]) # find most recent saved df to load \n",
    "#                         for path in paths]))\n",
    "\n",
    "all_subj_hfa_power = pickle.load(open(f'{save_dir}all_subj_hfa_power.pkl','rb'))\n",
    "all_subj_metadata = pickle.load(open(f'{save_dir}regression_data/all_subj_metadata.pkl','rb'))\n",
    "\n",
    "# all_subj_hfa_power"
   ]
  },
  {
   "cell_type": "code",
   "execution_count": null,
   "metadata": {},
   "outputs": [],
   "source": [
    "### update metadata - zscore continuous regressors + add RT info\n",
    "\n",
    "for subj_id in subj_ids:\n",
    "    subj_df         = all_subj_metadata[subj_id]\n",
    "    rounds_t1       = subj_df.Round.tolist()[1:]\n",
    "    logRT_list      = np.log(subj_df['RT']).tolist() # take log of RT\n",
    "    logRT_t1_list   = logRT_list[1:] # get logRT_t1\n",
    "    GambleChoice_t1 = subj_df.GambleChoice.tolist()[1:]\n",
    "    GambleEV_t1     = subj_df.GambleEV.tolist()[1:]\n",
    "    TrialType_t1    = subj_df.TrialType.tolist()[1:]\n",
    "    TrialEV         = subj_df.GambleEV - subj_df.SafeBet\n",
    "    TrialEV_t1      = TrialEV[1:].tolist()\n",
    "    rounds_t1.append(np.nan)\n",
    "    logRT_t1_list.append(np.nan) # add nan to logRT_t1 (no t1 for last round)\n",
    "    GambleChoice_t1.append(np.nan)\n",
    "    GambleEV_t1.append(np.nan)\n",
    "    TrialType_t1.append(np.nan) \n",
    "    TrialEV_t1.append(np.nan)\n",
    "    subj_df['logRT']           = logRT_list\n",
    "    subj_df['logRT_t1']        = logRT_t1_list\n",
    "    subj_df['Round_t1']        = rounds_t1\n",
    "    subj_df['GambleChoice_t1'] = GambleChoice_t1\n",
    "    subj_df['GambleEV_t1']     = GambleEV_t1\n",
    "    subj_df['TrialType_t1']    = TrialType_t1\n",
    "    subj_df['TrialEV']         = TrialEV\n",
    "    subj_df['TrialEV_t1']      = TrialEV_t1\n",
    "    subj_df['bdi']             = subj_info_df.bdi[subj_info_df.subj_id==subj_id].values[0]\n",
    "    subj_df['subj_id']         = subj_id\n",
    "    \n",
    "    # update metadata\n",
    "    all_subj_metadata[subj_id] = subj_df\n",
    "    \n",
    "    \n",
    "pickle.dump(all_subj_metadata,open(f'{save_dir}regression_data/all_subj_metadata_clean.pkl',\"wb\"))\n",
    "    \n"
   ]
  },
  {
   "cell_type": "code",
   "execution_count": null,
   "metadata": {},
   "outputs": [],
   "source": [
    "roi_reref_labels_master_df = pd.read_csv(glob(f'{base_dir}ephys_analysis/results/roi_info/roi_reref_labels_master.csv')[0])\n",
    "roi_reref_labels_master_df = roi_reref_labels_master_df.drop(columns=['Unnamed: 0'])\n",
    "\n",
    "\n",
    "#### add roi info to master df \n",
    "hfa_master_df = []\n",
    "\n",
    "\n",
    "# variables to zscore after data cleaning - \n",
    "continuous_regressors = ['GambleEV','GambleEV_t1','SafeBet','Profit','TotalProfit','RPE',\n",
    "                         'decisionCPE', 'decisionRegret','decisionRelief','TrialEV','TrialEV_t1']\n",
    "\n",
    "for subj_id,pow_df in zip(all_subj_hfa_power.keys(),all_subj_hfa_power.values()):\n",
    "    \n",
    "     # reshape pow_df \n",
    "        pow_reg_df = pow_df.melt(id_vars=['epoch','freq'],\n",
    "                                    value_vars=pow_df.columns.drop(['epoch','time','freq']).tolist().copy(),\n",
    "                                    var_name='reref_ch_names', value_name='band_pow',\n",
    "                                    ignore_index = False)\n",
    "\n",
    "        pow_reg_df['subj_id'] = subj_id # add subj_id to df values\n",
    "        # reshape metadata df \n",
    "        metadata_df = all_subj_metadata[subj_id].reset_index()\n",
    "        metadata_df = metadata_df.rename(columns={'index':'epoch'})\n",
    "\n",
    "        # merge pow and metadata dfs keeping epoch as index \n",
    "        subj_regression_df = pd.merge(pow_reg_df, metadata_df,left_on=['epoch','subj_id'],\n",
    "                                    right_on=['epoch','subj_id']).reset_index(drop=True).set_index('epoch')\n",
    "        \n",
    "        subj_regression_df['epoch_num'] = subj_regression_df.index # keep epoch as a column\n",
    "\n",
    "        # add roi info \n",
    "        subj_epochs = pow_reg_df.epoch.unique()\n",
    "        # extract roi_reref_labels_df for each subj \n",
    "        subj_roi_reref_labels = roi_reref_labels_master_df[roi_reref_labels_master_df['subj_id']==subj_id]\n",
    "        # add epochs to df - repeat each elec id for every epoch to join with master df \n",
    "        subj_roi_reref_labels = roi_reref_labels_master_df[roi_reref_labels_master_df['subj_id']==subj_id]\n",
    "        subj_roi_reref_labels = (pd.concat([subj_roi_reref_labels]*len(subj_epochs),\n",
    "                                keys = subj_epochs,\n",
    "                                names = ['epoch',None])).reset_index(level=1,drop=True) #make sure epochs are the index\n",
    "        subj_roi_reref_labels['epoch_num'] = subj_roi_reref_labels.index\n",
    "\n",
    "        # create unique reref ch id for regression\n",
    "        subj_roi_reref_labels['unique_reref_ch'] = subj_roi_reref_labels[['subj_id', 'reref_ch_names']].agg('_'.join, axis=1)\n",
    "\n",
    "        # merge regression df with roi reref info df  \n",
    "        subj_regression_df = pd.merge(subj_regression_df, subj_roi_reref_labels,left_on=['subj_id',\n",
    "                                    'reref_ch_names','epoch_num'],right_on=['subj_id',\n",
    "                                    'reref_ch_names','epoch_num']).reset_index(drop=True).set_index('epoch_num')\n",
    "        \n",
    "        subj_regression_df['epoch'] = subj_regression_df.index\n",
    "        \n",
    "        ### cleaning within subject BEFORE zscoring regressors! \n",
    "        \n",
    "        # remove trials where RT is too fast (random choice)\n",
    "        subj_regression_df = subj_regression_df[subj_regression_df.RT>0.3]\n",
    "        # remove trials where there is no choice at trial t\n",
    "        subj_regression_df = subj_regression_df[(subj_regression_df.GambleChoice=='gamble') | \n",
    "                                                (subj_regression_df.GambleChoice == 'safe')].reset_index(drop=True)\n",
    "        # remove trials where there is no choice for trial t1 (RT_t1 is nonsense)\n",
    "        subj_regression_df = subj_regression_df[(subj_regression_df.GambleChoice_t1=='gamble') | \n",
    "                                                (subj_regression_df.GambleChoice_t1 == 'safe')].reset_index(drop=True)\n",
    "        # remove trials where there is no outcome\n",
    "        subj_regression_df = subj_regression_df[(subj_regression_df.Outcome=='good') | \n",
    "                                                (subj_regression_df.Outcome == 'bad')].reset_index(drop=True)\n",
    "        # remove epoch 76 bc photodiode times are not correct at breakpoint \n",
    "        subj_regression_df = subj_regression_df[subj_regression_df.Round != 76]\n",
    "        # remove trials where logRT_t1 is inf or -inf (means RT = 0)\n",
    "        subj_regression_df = subj_regression_df[~np.isinf(subj_regression_df.logRT_t1)]\n",
    "        # format GambleChoice + TrialType vars as categories \n",
    "        subj_regression_df['GambleChoice']    = subj_regression_df['GambleChoice'].astype('category')\n",
    "        subj_regression_df['GambleChoice_t1'] = subj_regression_df['GambleChoice_t1'].astype('category')\n",
    "        subj_regression_df['TrialType']       = subj_regression_df['TrialType'].astype('category')\n",
    "        subj_regression_df['TrialType_t1']    = subj_regression_df['TrialType_t1'].astype('category')\n",
    "        # make sure Round_t1 is an integer\n",
    "        subj_regression_df['Round_t1']        = subj_regression_df['Round_t1'].astype('Int64')\n",
    "        \n",
    "        # zscore continuous regressors AFTER removing bad trials!! \n",
    "        for reg in continuous_regressors:\n",
    "            subj_regression_df[reg] = norm_zscore(subj_regression_df[reg].values) # zscore is /2std\n",
    "\n",
    "        hfa_master_df.append(subj_regression_df)\n",
    "\n",
    "\n",
    "    \n",
    "    \n",
    "hfa_master_df = pd.concat(hfa_master_df)   \n",
    "# reorder columns \n",
    "hfa_master_df = hfa_master_df[['subj_id','bdi','epoch','freq','reref_ch_names','band_pow','unique_reref_ch',\n",
    "                                 'roi','hemi','ch_label4roi','ch_type4roi','loc4roi','Round', 'Round_t1',\n",
    "                                 'logRT_t1','logRT','RT','TrialType','TrialType_t1','GambleChoice',\n",
    "                                 'GambleChoice_t1','GambleEV', 'GambleEV_t1','SafeBet','TrialEV','TrialEV_t1',\n",
    "                                 'Profit','TotalProfit','RPE','decisionCPE', 'decisionRegret','decisionRelief']]\n",
    "\n"
   ]
  },
  {
   "cell_type": "code",
   "execution_count": null,
   "metadata": {},
   "outputs": [],
   "source": [
    "# hfa_master_df.to_csv(f'{save_dir}hfa_master_df.csv')\n",
    "hfa_master_df"
   ]
  },
  {
   "cell_type": "code",
   "execution_count": null,
   "metadata": {},
   "outputs": [],
   "source": [
    "roi_reref_labels_master_df.roi.value_counts()"
   ]
  },
  {
   "cell_type": "code",
   "execution_count": null,
   "metadata": {},
   "outputs": [],
   "source": [
    "print(hfa_master_df.band_pow.max(),hfa_master_df.band_pow.mean(),hfa_master_df.band_pow.std(),hfa_master_df.band_pow.min())\n"
   ]
  },
  {
   "cell_type": "code",
   "execution_count": null,
   "metadata": {},
   "outputs": [],
   "source": [
    "hfa_reg_df = hfa_master_df.copy()\n",
    "hfa_reg_df.roi.unique().tolist()"
   ]
  },
  {
   "cell_type": "markdown",
   "metadata": {},
   "source": [
    "# Mixed effects with just CPE \n"
   ]
  },
  {
   "cell_type": "code",
   "execution_count": null,
   "metadata": {},
   "outputs": [],
   "source": [
    "cpe_hfa_model = smf.mixedlm(\n",
    "    formula='band_pow ~ 1 + decisionCPE',\n",
    "    re_formula = ' decisionCPE',\n",
    "    data = hfa_reg_df,groups=hfa_reg_df['unique_reref_ch'], missing='drop')\n",
    "cpe_hfa_model_fit = cpe_hfa_model.fit()\n",
    "print(cpe_hfa_model_fit.summary())"
   ]
  },
  {
   "cell_type": "markdown",
   "metadata": {},
   "source": [
    "# Feature Selection"
   ]
  },
  {
   "cell_type": "code",
   "execution_count": null,
   "metadata": {},
   "outputs": [],
   "source": [
    "vif_scores(hfa_reg_df,['GambleChoice','TrialType','TotalProfit','TrialEV','decisionCPE']) #,'logRT_t1'\n"
   ]
  },
  {
   "cell_type": "code",
   "execution_count": null,
   "metadata": {},
   "outputs": [],
   "source": [
    "######## make all possible variable combinations for regressions \n",
    "main_var  = 'decisionCPE'\n",
    "iter_vars = ['C(GambleChoice)','C(TrialType)','TotalProfit','TrialEV']\n"
   ]
  },
  {
   "cell_type": "code",
   "execution_count": null,
   "metadata": {},
   "outputs": [],
   "source": [
    "var_combos = [[v,main_var] for v in iter_vars]\n",
    "\n",
    "for i in range(1,len(iter_vars)-1):\n",
    "    iter_list = [list(tup)+[main_var] for tup in list(itertools.combinations(iter_vars,i+1))]\n",
    "    var_combos.extend(iter_list)\n",
    "\n",
    "\n",
    "var_combos = [combo for combo in var_combos if ('C(GambleChoice)' in combo and 'C(TrialType)' not in combo)|\n",
    "              ('C(GambleChoice)' not in combo and 'C(TrialType)' in combo)|\n",
    "              ('C(GambleChoice)'not in combo and 'C(TrialType)' not in combo)]\n",
    "\n",
    "\n",
    "\n",
    "var_combos = [combo for combo in var_combos if ('C(GambleChoice)' in combo and 'TrialEV' not in combo)|\n",
    "              ('C(GambleChoice)' not in combo and 'TrialEV' in combo)|('C(GambleChoice)'not in combo \n",
    "                                                                       and 'TrialEV' not in combo)]\n",
    "\n",
    "\n",
    "var_combos = [combo for combo in var_combos if ('TrialEV' in combo and 'C(TrialType)' not in combo)|\n",
    "              ('TrialEV' not in combo and 'C(TrialType)' in combo)|('TrialEV'not in combo \n",
    "                                                                    and 'C(TrialType)' not in combo)]\n",
    "var_combos"
   ]
  },
  {
   "cell_type": "code",
   "execution_count": null,
   "metadata": {},
   "outputs": [],
   "source": [
    "# import time \n",
    "start = time.time() # start timer\n",
    "\n",
    "all_models = {}\n",
    "no_conv = []\n",
    "\n",
    "for test_vars in var_combos:\n",
    "    model_key = ''.join(test_vars[:-1]) ### make string of covariate var names to use as dict key\n",
    "    model_fit = fit_mixed_model(hfa_reg_df,test_vars,outcome_var,rand_eff_var,reml=False)\n",
    "    # check if model converged\n",
    "    if model_fit.converged:\n",
    "        print(model_key,' converged!')\n",
    "        all_models[model_key] = {'var_list':test_vars,\n",
    "                                 'fe_coeff':model_fit.params.to_numpy()[1:len(model_fit.fe_params)],\n",
    "                                 'fe_pvals':model_fit.pvalues.to_numpy()[1:len(model_fit.fe_params)],\n",
    "                                 'rsq':compute_marginal_rsq(model_fit),\n",
    "                                 'bic':model_fit.bic}\n",
    "    else:\n",
    "        print(model_key,' did not converge :(')\n",
    "        no_conv.append(model_key)\n",
    "    del model_fit\n",
    "\n",
    "end = time.time()\n",
    "print('{:.4f} s'.format(end-start)) # print time elapsed for computation (approx 20 seconds per channel)    "
   ]
  },
  {
   "cell_type": "code",
   "execution_count": null,
   "metadata": {},
   "outputs": [],
   "source": [
    "print(no_conv)"
   ]
  },
  {
   "cell_type": "code",
   "execution_count": null,
   "metadata": {},
   "outputs": [],
   "source": [
    "all_models"
   ]
  },
  {
   "cell_type": "code",
   "execution_count": null,
   "metadata": {},
   "outputs": [],
   "source": [
    "model_summary = {key:all_models[key]['bic'] for key in all_models.keys()}\n",
    "model_summary"
   ]
  },
  {
   "cell_type": "code",
   "execution_count": null,
   "metadata": {},
   "outputs": [],
   "source": [
    "print(list(model_summary.keys())[np.where(list(model_summary.values())==np.min(list(model_summary.values())))[0][0]])\n"
   ]
  },
  {
   "cell_type": "code",
   "execution_count": null,
   "metadata": {},
   "outputs": [],
   "source": [
    "bic_list = [model_summary[key] for key in model_summary.keys()]\n",
    "bic_list.sort()\n",
    "\n",
    "ordered_list = [list(model_summary.keys())[np.where(list(model_summary.values()) == bic)[0][0]] for bic in bic_list]\n",
    "ordered_list\n"
   ]
  },
  {
   "cell_type": "code",
   "execution_count": null,
   "metadata": {},
   "outputs": [],
   "source": [
    "[(key,all_models[key]['fe_pvals'][-1]) for key in ordered_list]  \n"
   ]
  },
  {
   "cell_type": "code",
   "execution_count": null,
   "metadata": {},
   "outputs": [],
   "source": [
    "print(list(model_summary.keys())[np.where(list(model_summary.values())==np.min(list(model_summary.values())))[0][0]])\n",
    "print(np.min(list(model_summary.values())))"
   ]
  },
  {
   "cell_type": "code",
   "execution_count": null,
   "metadata": {
    "scrolled": true
   },
   "outputs": [],
   "source": [
    "list(all_models[list(model_summary.keys())[np.where(list(model_summary.values())==np.min(list(model_summary.values())))[0][0]]]['fe_pvals'])\n"
   ]
  },
  {
   "cell_type": "code",
   "execution_count": null,
   "metadata": {},
   "outputs": [],
   "source": [
    "rsq_summary = {key:all_models[key]['rsq'] for key in all_models.keys()}\n",
    "rsq_summary"
   ]
  },
  {
   "cell_type": "code",
   "execution_count": null,
   "metadata": {},
   "outputs": [],
   "source": [
    "sorted_rsq = list(rsq_summary.values()).copy()\n",
    "sorted_rsq.sort(reverse=True)\n",
    "sorted_rsq"
   ]
  },
  {
   "cell_type": "code",
   "execution_count": null,
   "metadata": {},
   "outputs": [],
   "source": [
    "sorted_rsq_models = {f'{list(rsq_summary.keys())[np.where(list(rsq_summary.values()) == rsq)[0][0]]}':rsq for rsq in sorted_rsq}\n",
    "sorted_rsq_models"
   ]
  },
  {
   "cell_type": "code",
   "execution_count": null,
   "metadata": {},
   "outputs": [],
   "source": [
    "list(zip(ordered_list,list(sorted_rsq_models.keys())))"
   ]
  },
  {
   "cell_type": "markdown",
   "metadata": {},
   "source": [
    "\n",
    "# Model Evaluation\n",
    "once you've selected the best ~3 models you need to evaluate the model output \n",
    "1. evaluate the model using cpd and/or generalized liklihood ratio test\"\n",
    "2. check fstats\n",
    "3. tstat betas from zero \n",
    "4. visualization"
   ]
  },
  {
   "cell_type": "code",
   "execution_count": null,
   "metadata": {
    "scrolled": true
   },
   "outputs": [],
   "source": [
    "outcome_var  = 'band_pow'\n",
    "rand_eff_var = 'unique_reref_ch'"
   ]
  },
  {
   "cell_type": "code",
   "execution_count": null,
   "metadata": {
    "scrolled": true
   },
   "outputs": [],
   "source": [
    "final_vars = all_models[list(model_summary.keys())[np.where(list(model_summary.values())==np.min(list(model_summary.values())))[0][0]]]['var_list']\n",
    "\n",
    "final_vars"
   ]
  },
  {
   "cell_type": "code",
   "execution_count": null,
   "metadata": {},
   "outputs": [],
   "source": [
    "final_vars = ['C(GambleChoice)', 'TotalProfit', 'decisionCPE']"
   ]
  },
  {
   "cell_type": "code",
   "execution_count": null,
   "metadata": {},
   "outputs": [],
   "source": [
    "###### BEST MODEL \n",
    "\n",
    "final_fit = fit_mixed_model(hfa_reg_df,final_vars,outcome_var,rand_eff_var,reml=False)\n",
    "print(final_fit.summary())"
   ]
  },
  {
   "cell_type": "code",
   "execution_count": null,
   "metadata": {},
   "outputs": [],
   "source": [
    "final_fit.bic"
   ]
  },
  {
   "cell_type": "code",
   "execution_count": null,
   "metadata": {},
   "outputs": [],
   "source": [
    "mixed_effects_ftest_ttest(final_fit)"
   ]
  },
  {
   "cell_type": "code",
   "execution_count": null,
   "metadata": {},
   "outputs": [],
   "source": [
    "fe_param_names = list(final_fit.fe_params.index)"
   ]
  },
  {
   "cell_type": "code",
   "execution_count": null,
   "metadata": {},
   "outputs": [],
   "source": [
    "plot_data = pd.concat([pd.DataFrame(\n",
    "    {**{'subj_id':elec_id.split('_')[0],'reref_ch_names':elec_id.split('_')[1]},'unique_reref_ch':elec_id,\n",
    "     **{f'raw_{param}':final_fit.random_effects[elec_id][param] for param in list(\n",
    "            final_fit.random_effects[elec_id].index)}},index=[range(len(fe_param_names))])\n",
    "        \n",
    "    for elec_id in final_fit.random_effects.keys()]).reset_index(drop=True)\n",
    "\n",
    "plot_data['roi'] = [hfa_reg_df.roi[hfa_reg_df.unique_reref_ch == row.unique_reref_ch].values[0]\n",
    "                                for idx,row in plot_data.iterrows()]\n",
    "\n",
    "plot_data['bdi'] = [subj_info_df.bdi[subj_info_df.subj_id == subj_id].values[0]\n",
    "                                for subj_id in plot_data.subj_id]"
   ]
  },
  {
   "cell_type": "code",
   "execution_count": null,
   "metadata": {},
   "outputs": [],
   "source": [
    "plot_data"
   ]
  },
  {
   "cell_type": "code",
   "execution_count": null,
   "metadata": {},
   "outputs": [],
   "source": [
    "#### Get all results for Figs!!!!\n",
    "\n",
    "fe_intercept   = final_fit.params['Intercept']\n",
    "fe_cpe_beta    = final_fit.params['decisionCPE']\n",
    "fe_cpe_beta\n",
    "\n",
    "\n",
    "#### add fixed effects data to all_elec_plot_data\n",
    "plot_data['elec_b0']   = np.add(plot_data.raw_Group,fe_intercept)\n",
    "plot_data['elec_bCPE'] = np.add(plot_data.raw_decisionCPE,fe_cpe_beta)\n",
    "\n",
    "plot_data = plot_data[~plot_data.roi.isnull()]"
   ]
  },
  {
   "cell_type": "code",
   "execution_count": null,
   "metadata": {},
   "outputs": [],
   "source": [
    "raw_roi_stats = {f'{roi}':ttest_1samp(plot_data.raw_decisionCPE[plot_data.roi == roi].unique(),\n",
    "                 popmean=0) for roi in plot_data.roi.unique().tolist()}\n",
    "raw_roi_stats"
   ]
  },
  {
   "cell_type": "code",
   "execution_count": null,
   "metadata": {},
   "outputs": [],
   "source": [
    "roi_stats = {f'{roi}':ttest_1samp(plot_data.elec_bCPE[plot_data.roi == roi].unique(),\n",
    "                 popmean=0) for roi in plot_data.roi.unique().tolist()}\n",
    "roi_stats"
   ]
  },
  {
   "cell_type": "code",
   "execution_count": null,
   "metadata": {},
   "outputs": [],
   "source": []
  },
  {
   "cell_type": "code",
   "execution_count": null,
   "metadata": {},
   "outputs": [],
   "source": [
    "bonferr_alpha = 0.05/len(roi_order)\n",
    "bonferr_alpha"
   ]
  },
  {
   "cell_type": "code",
   "execution_count": null,
   "metadata": {},
   "outputs": [],
   "source": [
    "[(key,raw_roi_stats[key].pvalue) for key in raw_roi_stats.keys() if raw_roi_stats[key].pvalue < bonferr_alpha]"
   ]
  },
  {
   "cell_type": "code",
   "execution_count": null,
   "metadata": {},
   "outputs": [],
   "source": [
    "roi_order = ['dlpfc','vlpfc','dmpfc','ofc','ains','pins','acc','hpc','amy']\n",
    "\n",
    "roi_plot_data = plot_data.copy()\n",
    "roi_plot_data = roi_plot_data[roi_plot_data.roi.isin(roi_order)]\n",
    "\n",
    "# roi_plot_names = {'thalamus':'THAL','hpc':'HPC','amy':'AMY','acc':'ACC','ofc':'OFC','ains':'aINS',\n",
    "#                   'pins':'pINS','dmpfc':'dmPFC','dlpfc':'dlPFC','vlpfc':'vlPFC'}\n"
   ]
  },
  {
   "cell_type": "code",
   "execution_count": null,
   "metadata": {},
   "outputs": [],
   "source": [
    "from matplotlib.ticker import StrMethodFormatter\n",
    "\n",
    "sns.set_context(\"poster\",rc={'axes.linewidth': 1.5})\n",
    "fig,ax = plt.subplots(figsize=(12, 5),dpi=500)\n",
    "\n",
    "fig_save_dir = f'{base_dir}ephys_analysis/figs/hfa_regressions/'\n",
    "os.makedirs(fig_save_dir,exist_ok=True)\n",
    "\n",
    "sns.barplot(data = roi_plot_data,\n",
    "            x = 'roi',\n",
    "\n",
    "            y = 'raw_decisionCPE',\n",
    "#             y='elec_bCPE',\n",
    "            color = '#78496b',#78496b 997690\n",
    "            saturation=.8,\n",
    "            order=roi_order,\n",
    "            errorbar=None) \n",
    "\n",
    "\n",
    "sns.stripplot(data = roi_plot_data,\n",
    "            x = 'roi',\n",
    "            y = 'raw_decisionCPE',\n",
    "#               y='elec_bCPE',\n",
    "              color = '#561C46',\n",
    "              alpha=.3,\n",
    "              dodge=True,\n",
    "              order=roi_order,\n",
    "              size = 8)\n",
    "\n",
    "ax.axhline(y=0,color='#561C46',linewidth=1.5)\n",
    "ax.set(xlabel=None)\n",
    "plt.tick_params(length=0)\n",
    "plt.ylabel('HFA'+r'$_{{{zpow}}}$'+' cpe encoding')\n",
    "# plt.gca().yaxis.set_major_formatter(StrMethodFormatter('{x:,.3f}')) \n",
    "# plt.locator_params(axis='y', nbins=6)\n",
    "\n",
    "sns.despine()\n",
    "    \n",
    "plt.savefig(f'{fig_save_dir}HFA_CPE_barplot_{date}.pdf', format='pdf', metadata=None,\n",
    "bbox_inches=None, pad_inches=0.1,dpi=500,\n",
    "facecolor='auto', edgecolor='auto',\n",
    "backend=None)"
   ]
  },
  {
   "cell_type": "code",
   "execution_count": null,
   "metadata": {},
   "outputs": [],
   "source": []
  },
  {
   "cell_type": "code",
   "execution_count": null,
   "metadata": {},
   "outputs": [],
   "source": [
    "rho_data = []\n",
    "sig_rho = []\n",
    "\n",
    "# BDI CORRELATIONS\n",
    "for roi in plot_data.roi.unique().tolist()[:-1]:\n",
    "    roi_temp_data = plot_data[plot_data.roi==roi]\n",
    "    rho,rho_p     = pearsonr(roi_temp_data.bdi,roi_temp_data.raw_decisionCPE)\n",
    "    rho_data.append(pd.DataFrame({'roi':roi,'rho':rho,'rho_p':rho_p},index=[0]))\n",
    "    if rho_p < bonferr_alpha: \n",
    "        sig_rho.append((roi,rho,rho_p))\n",
    "    print(f'{roi} pearsonr',rho,rho_p)\n",
    "rho_data = pd.concat(rho_data).reset_index(drop=True)"
   ]
  },
  {
   "cell_type": "code",
   "execution_count": null,
   "metadata": {},
   "outputs": [],
   "source": [
    "sig_rho"
   ]
  },
  {
   "cell_type": "code",
   "execution_count": null,
   "metadata": {},
   "outputs": [],
   "source": [
    "rho_data['plot_p'] = [0.001 if roi.rho_p < 0.001 else np.round(roi.rho_p,4) for ix,roi in rho_data.iterrows()]"
   ]
  },
  {
   "cell_type": "code",
   "execution_count": null,
   "metadata": {},
   "outputs": [],
   "source": [
    "new_plot_ps = []\n",
    "for p in rho_data['plot_p']:\n",
    "    new_p = 0\n",
    "    \n",
    "    for ix,val in enumerate(str(p)):\n",
    "        if val == '0':\n",
    "            continue\n",
    "        elif val == '.':\n",
    "            continue\n",
    "        else: \n",
    "#             print(ix,val)\n",
    "            new_p = str(p)[:ix+1]\n",
    "            break\n",
    "            \n",
    "            \n",
    "\n",
    "    new_plot_ps.append(float(new_p))\n",
    "#         print(val)\n",
    "rho_data['round_p']   = new_plot_ps\n",
    "rho_data['round_rho'] = np.round(rho_data.rho,2)\n",
    "rho_data"
   ]
  },
  {
   "cell_type": "code",
   "execution_count": null,
   "metadata": {
    "scrolled": true
   },
   "outputs": [],
   "source": [
    "\n",
    "for roi in plot_data.roi.unique().tolist()[:-1]:\n",
    "    roi_temp_data = plot_data[plot_data.roi==roi]\n",
    "\n",
    "    rho   = rho_data[rho_data.roi == roi].round_rho.values[0]\n",
    "    rho_p = rho_data[rho_data.roi == roi].round_p.values[0]\n",
    "    \n",
    "        \n",
    "    fig = plt.figure(figsize=(7,5),dpi=300)\n",
    "\n",
    "    sns.regplot(data=roi_temp_data,x='bdi',y='raw_decisionCPE',scatter=False,\n",
    "                fit_reg=True,color = '#561C46') #034975\n",
    "    \n",
    "    sns.scatterplot(data = roi_temp_data.groupby(['subj_id']).agg('mean'),x='bdi',\n",
    "                    y='raw_decisionCPE',color = '#561C46',edgecolor='#561C46',alpha=0.8)\n",
    "    \n",
    "#     plt.gca().yaxis.set_major_formatter(StrMethodFormatter('{x:,.3f}')) \n",
    "    plt.xlabel('BDI-II')\n",
    "    \n",
    "    plt.tick_params(length=0) #,width=1.5)\n",
    "    plt.ylabel('beta'+r'$_{{{zpow}}}$'+' cpe encoding')\n",
    "\n",
    "    plt.text(np.max(roi_temp_data.groupby(['subj_id']).agg('mean').bdi)-8,\n",
    "             np.round(np.max(roi_temp_data.groupby(['subj_id']).agg('mean').raw_decisionCPE),4)-0.0005,\n",
    "             r'$rho$ = '+f'{rho} '+'\\n '+r'$p < $'+f'{rho_p}',\n",
    "             color='#561C46',fontsize=16)\n",
    "\n",
    "#     plt.locator_params(axis='y', nbins=4)\n",
    "\n",
    "\n",
    "# #     plt.text(30,(np.round(max(roi_temp_data.groupby(['subj_id']).agg('mean').elec_bCPE),4)),\n",
    "#     plt.text(30,float(str(max(roi_temp_data.groupby(['subj_id']).agg('mean').elec_bCPE))[:4]),\n",
    "#              r'$rho$ = '+f'{np.round(rho,2)} '+'\\n '+r'$p < $'+f'{np.round(rho_p,4)}',\n",
    "#              color='#00467e',fontsize=16)\n",
    "\n",
    "    plt.title(f'{roi}',fontsize=24)\n",
    "\n",
    "    \n",
    "    sns.despine()\n",
    "    \n",
    "    plt.savefig(f'{fig_save_dir}/{roi}_{rho}_{rho_p}_roi_bdi_HFA-cpe-slope.pdf', format='pdf', metadata=None,\n",
    "        bbox_inches='tight', pad_inches=0.1,dpi=300,\n",
    "        facecolor='auto', edgecolor='auto',\n",
    "        backend=None)\n",
    "    "
   ]
  },
  {
   "cell_type": "markdown",
   "metadata": {},
   "source": [
    "# BDI Plots"
   ]
  },
  {
   "cell_type": "code",
   "execution_count": null,
   "metadata": {},
   "outputs": [],
   "source": [
    "bdi_vars    = ['decisionCPE','bdi','decisionCPE:bdi']\n",
    "outcome_var = 'band_pow'\n",
    "rand_eff_var = 'unique_reref_ch'\n",
    "bdi_fit = fit_mixed_model(hfa_reg_df,bdi_vars,outcome_var,rand_eff_var,reml=False)\n",
    "print(bdi_fit.summary())\n",
    "    "
   ]
  },
  {
   "cell_type": "code",
   "execution_count": null,
   "metadata": {},
   "outputs": [],
   "source": [
    "fe_param_names = list(bdi_fit.fe_params.index[1:])\n",
    "fe_param_names"
   ]
  },
  {
   "cell_type": "code",
   "execution_count": null,
   "metadata": {},
   "outputs": [],
   "source": [
    "bdi_plot_data = pd.concat([pd.DataFrame(\n",
    "    {**{'subj_id':elec_id.split('_')[0],'reref_ch_names':elec_id.split('_')[1]},'unique_reref_ch':elec_id,\n",
    "     **{f'raw_{param}':bdi_fit.random_effects[elec_id][param] for param in list(\n",
    "            bdi_fit.random_effects[elec_id].index)}},index=[range(len(fe_param_names))])\n",
    "        \n",
    "    for elec_id in bdi_fit.random_effects.keys()]).reset_index(drop=True)\n",
    "\n",
    "bdi_plot_data['roi'] = [hfa_reg_df.roi[hfa_reg_df.unique_reref_ch == row.unique_reref_ch].values[0]\n",
    "                                for idx,row in bdi_plot_data.iterrows()]\n",
    "\n",
    "bdi_plot_data['bdi'] = [subj_info_df.bdi[subj_info_df.subj_id == subj_id].values[0]\n",
    "                                for subj_id in bdi_plot_data.subj_id]"
   ]
  },
  {
   "cell_type": "code",
   "execution_count": null,
   "metadata": {},
   "outputs": [],
   "source": [
    "bdi_plot_data"
   ]
  },
  {
   "cell_type": "code",
   "execution_count": null,
   "metadata": {},
   "outputs": [],
   "source": [
    "#### Get all results for Figs!!!!\n",
    "\n",
    "fe_intercept   = bdi_fit.params['Intercept']\n",
    "fe_cpe_beta    = bdi_fit.params['decisionCPE:bdi']\n",
    "fe_cpe_beta\n"
   ]
  },
  {
   "cell_type": "code",
   "execution_count": null,
   "metadata": {},
   "outputs": [],
   "source": [
    "#### add fixed effects data to all_elec_plot_data\n",
    "bdi_plot_data['elec_b0']   = np.add(bdi_plot_data.raw_Group,fe_intercept)\n",
    "bdi_plot_data['elec_bCPE'] = np.add(bdi_plot_data['raw_decisionCPE:bdi'],fe_cpe_beta)\n",
    "bdi_plot_data = bdi_plot_data[~bdi_plot_data.roi.isnull()]"
   ]
  },
  {
   "cell_type": "code",
   "execution_count": null,
   "metadata": {},
   "outputs": [],
   "source": [
    "raw_roi_stats = {f'{roi}':ttest_1samp(bdi_plot_data['raw_decisionCPE:bdi'][bdi_plot_data.roi == roi].unique(),\n",
    "                 popmean=0) for roi in bdi_plot_data.roi.unique().tolist()}\n",
    "raw_roi_stats"
   ]
  },
  {
   "cell_type": "code",
   "execution_count": null,
   "metadata": {},
   "outputs": [],
   "source": [
    "roi_stats = {f'{roi}':ttest_1samp(bdi_plot_data.elec_bCPE[bdi_plot_data.roi == roi].unique(),\n",
    "                 popmean=0) for roi in bdi_plot_data.roi.unique().tolist()}\n",
    "roi_stats"
   ]
  },
  {
   "cell_type": "code",
   "execution_count": null,
   "metadata": {},
   "outputs": [],
   "source": [
    "# bonferr_alpha = 0.05/len(roi_order)\n",
    "bonferr_alpha = 0.05/len(bdi_plot_data.roi.unique().tolist())\n",
    "bonferr_alpha"
   ]
  },
  {
   "cell_type": "code",
   "execution_count": null,
   "metadata": {},
   "outputs": [],
   "source": [
    "print('sig ROIs after multiple comp correction: ',[(roi,raw_roi_stats[roi].pvalue) for roi in raw_roi_stats.keys()\n",
    "                                                   if raw_roi_stats[roi].pvalue< bonferr_alpha])\n",
    "# print('sig ROI pvals: ',roi_stats.roi_cpe_pval[roi_beta_results.roi_cpe_pval<=bonferr_alpha].unique().tolist())\n"
   ]
  },
  {
   "cell_type": "code",
   "execution_count": null,
   "metadata": {},
   "outputs": [],
   "source": [
    "print('sig ROIs after multiple comp correction: ',[(roi,roi_stats[roi].pvalue) for roi in roi_stats.keys()\n",
    "                                                   if roi_stats[roi].pvalue< bonferr_alpha])\n",
    "# print('sig ROI pvals: ',roi_stats.roi_cpe_pval[roi_beta_results.roi_cpe_pval<=bonferr_alpha].unique().tolist())\n",
    "\n",
    "\n"
   ]
  },
  {
   "cell_type": "code",
   "execution_count": null,
   "metadata": {},
   "outputs": [],
   "source": [
    "roi_order = ['dlpfc','vlpfc','dmpfc','ofc','ains','pins','acc','hpc','amy']"
   ]
  },
  {
   "cell_type": "code",
   "execution_count": null,
   "metadata": {},
   "outputs": [],
   "source": [
    "roi_bdi_plot_data = bdi_plot_data.copy()\n",
    "roi_bdi_plot_data = roi_bdi_plot_data[roi_bdi_plot_data.roi.isin(roi_order)]\n",
    "\n",
    "# roi_plot_names = {'thalamus':'THAL','hpc':'HPC','amy':'AMY','acc':'ACC','ofc':'OFC','ains':'aINS',\n",
    "#                   'pins':'pINS','dmpfc':'dmPFC','dlpfc':'dlPFC','vlpfc':'vlPFC'}\n"
   ]
  },
  {
   "cell_type": "code",
   "execution_count": null,
   "metadata": {},
   "outputs": [],
   "source": [
    "sns.set_context(\"poster\")\n",
    "fig,ax = plt.subplots(figsize=(15, 7),dpi=500)\n",
    "\n",
    "fig_save_dir = f'{base_dir}ephys_analysis/figs/hfa_regressions/'\n",
    "os.makedirs(fig_save_dir,exist_ok=True)\n",
    "\n",
    "sns.barplot(data = roi_bdi_plot_data,\n",
    "            x = 'roi',\n",
    "            y = 'raw_decisionCPE:bdi',\n",
    "#             y='elec_bCPE',\n",
    "            color = '#561C46',\n",
    "            saturation=0.4,\n",
    "            order=roi_order,\n",
    "            errorbar=None) \n",
    "\n",
    "\n",
    "sns.stripplot(data = roi_bdi_plot_data,\n",
    "            x = 'roi',\n",
    "            y = 'raw_decisionCPE:bdi',\n",
    "#               y='elec_bCPE',\n",
    "            color = '#561C46',\n",
    "            alpha=.3,\n",
    "              dodge=True,\n",
    "            order=roi_order,\n",
    "            size = 8)\n",
    "\n",
    "ax.axhline(y=0,color='#561C46',linewidth=1.5)\n",
    "\n",
    "# plt.ylim([-0.011,0.01])\n",
    "ax.set(xlabel=None)\n",
    "plt.tick_params(length=0)\n",
    "plt.ylabel(r'$HFA_{{{zpow}}} \\sim cpe:bdi$')\n",
    "# plt.gca().yaxis.set_major_formatter(StrMethodFormatter('{x:,.3f}')) \n",
    "# plt.locator_params(axis='y', nbins=8)\n",
    "\n",
    "\n",
    "sns.despine()\n",
    "    \n",
    "plt.savefig(f'{fig_save_dir}/HFA_CPEBDIINT{date}.pdf', format='pdf', metadata=None,\n",
    "bbox_inches=None, pad_inches=0.1,dpi=500,\n",
    "facecolor='auto', edgecolor='auto',\n",
    "backend=None)"
   ]
  },
  {
   "cell_type": "code",
   "execution_count": null,
   "metadata": {},
   "outputs": [],
   "source": []
  },
  {
   "cell_type": "code",
   "execution_count": null,
   "metadata": {},
   "outputs": [],
   "source": [
    "palette=dict(Low=\"#3f2755\", High=\"#125549\")"
   ]
  }
 ],
 "metadata": {
  "kernelspec": {
   "display_name": "lfp_env",
   "language": "python",
   "name": "lfp_env"
  },
  "language_info": {
   "codemirror_mode": {
    "name": "ipython",
    "version": 3
   },
   "file_extension": ".py",
   "mimetype": "text/x-python",
   "name": "python",
   "nbconvert_exporter": "python",
   "pygments_lexer": "ipython3",
   "version": "3.10.4"
  }
 },
 "nbformat": 4,
 "nbformat_minor": 2
}
