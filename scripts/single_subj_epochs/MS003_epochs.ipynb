{
 "cells": [
  {
   "cell_type": "markdown",
   "metadata": {},
   "source": [
    "# MS003 Epoching\n",
    "10/05/2023"
   ]
  },
  {
   "cell_type": "code",
   "execution_count": 30,
   "metadata": {},
   "outputs": [],
   "source": [
    "import numpy as np\n",
    "import mne\n",
    "from glob import glob\n",
    "import matplotlib.pyplot as plt\n",
    "from matplotlib.backends.backend_pdf import PdfPages\n",
    "import seaborn as sns\n",
    "from scipy.stats import zscore, linregress, ttest_ind, ttest_rel, ttest_1samp\n",
    "import pandas as pd\n",
    "from mne.preprocessing.bads import _find_outliers\n",
    "import os \n",
    "import joblib\n",
    "import emd\n",
    "import re\n",
    "import scipy\n",
    "import h5io\n",
    "\n",
    "\n",
    "import warnings\n",
    "warnings.filterwarnings('ignore')"
   ]
  },
  {
   "cell_type": "code",
   "execution_count": 5,
   "metadata": {},
   "outputs": [],
   "source": [
    "import sys\n",
    "# sys.path.append('/Users/alexandrafink/Documents/GitHub/LFPAnalysis')\n",
    "sys.path.append('/Users/alexandrafink/Documents/GitHub/afink_lfp_pipeline/LFPAnalysis')"
   ]
  },
  {
   "cell_type": "code",
   "execution_count": 6,
   "metadata": {},
   "outputs": [],
   "source": [
    "from LFPAnalysis import lfp_preprocess_utils, sync_utils, analysis_utils, nlx_utils"
   ]
  },
  {
   "cell_type": "code",
   "execution_count": 35,
   "metadata": {},
   "outputs": [],
   "source": [
    "subj_id = 'MS003'\n",
    "\n",
    "\n",
    "base_dir = '/Users/alexandrafink/Documents/GraduateSchool/SaezLab/SWB/'\n",
    "anat_dir = f'{base_dir}anat_recons/recon_labels/{subj_id}'\n",
    "neural_dir = f'{base_dir}ephys_analysis/data/{subj_id}'\n",
    "behav_dir = f'{base_dir}behavior_analysis/behavior_preprocessed/'\n",
    "tfr_dir = f'{base_dir}ephys_analysis/figs/TFRs/{subj_id}/all_trials/'\n",
    "os.makedirs(tfr_dir,exist_ok = True) #added so you don't have to manually make subject folders in clean_data\n"
   ]
  },
  {
   "cell_type": "markdown",
   "metadata": {},
   "source": [
    "# Import Preprocessed Data (WM), Photodiode Data, Behavior Data, and Anatomical Reconstruction"
   ]
  },
  {
   "cell_type": "code",
   "execution_count": 8,
   "metadata": {},
   "outputs": [],
   "source": [
    "#rereferenced neural data\n",
    "#mne_data_reref = mne.io.read_raw_fif(f'{neural_dir}/wm_ref_ieeg.fif', preload=True)\n",
    "#mne_data_reref = mne.io.read_raw_fif(f'{neural_dir}/bp_ref_ieeg.fif', preload=True)\n",
    "#photodiode data\n",
    "photodiode_data = mne.io.read_raw_fif(f'{neural_dir}/photodiode.fif', preload=True)\n",
    "#behavior data \n",
    "behav_df = pd.read_csv(f'{behav_dir}{subj_id}_task_data')\n",
    "behav_df = behav_df[behav_df.columns.drop(list(behav_df.filter(regex='Unnamed')))]\n",
    "behav_df = behav_df[behav_df['FeedbackOnset'] != 0] #remove fail trials from behav df\n",
    "beh_ts = behav_df['TrialOnset'] #timestamp that should be aligned to photodiode \n",
    "#anat recon file\n",
    "anat_file = glob(f'{anat_dir}_labels.csv')[0]\n",
    "elec_locs = pd.read_csv(anat_file)"
   ]
  },
  {
   "cell_type": "markdown",
   "metadata": {},
   "source": [
    "# Photodiode Alignment"
   ]
  },
  {
   "cell_type": "code",
   "execution_count": 11,
   "metadata": {},
   "outputs": [
    {
     "data": {
      "image/png": "[encoded data removed]",
      "text/plain": [
       "<Figure size 640x480 with 1 Axes>"
      ]
     },
     "metadata": {},
     "output_type": "display_data"
    }
   ],
   "source": [
    "# Sanity check the photodiode\n",
    "plt.plot(photodiode_data._data[0,])\n",
    "plt.title(\"Photodiode\")\n",
    "plt.show()"
   ]
  },
  {
   "cell_type": "code",
   "execution_count": 13,
   "metadata": {},
   "outputs": [
    {
     "name": "stdout",
     "output_type": "stream",
     "text": [
      "11 blocks\n",
      "...........\n",
      "\n",
      "found matches for 75 of 170 pulses\n"
     ]
    }
   ],
   "source": [
    "### Photodiode alignment\n",
    "\n",
    "# Synchronize to the photodiode or whatever your neural sync signal is\n",
    "slope, offset = sync_utils.synchronize_data(beh_ts, \n",
    "                                            photodiode_data, \n",
    "                                            smoothSize=11, windSize=15, height=0.7)"
   ]
  },
  {
   "cell_type": "code",
   "execution_count": 14,
   "metadata": {},
   "outputs": [
    {
     "name": "stdout",
     "output_type": "stream",
     "text": [
      "0.999991952320566 -6.51233213197122\n"
     ]
    }
   ],
   "source": [
    "print(slope,offset)"
   ]
  },
  {
   "cell_type": "markdown",
   "metadata": {},
   "source": [
    "# Epoch Data\n",
    "Make sure bad trials are removed from DF before epoching\n",
    "IED args should be tested \n"
   ]
  },
  {
   "cell_type": "code",
   "execution_count": 15,
   "metadata": {},
   "outputs": [],
   "source": [
    "# IED removal requires that we set some parameters for IED detection. \n",
    "# 1. peak_thresh: how many stds should they exceed the baseline by? \n",
    "# 2. closeness_thresh: how close should they be allowed to be (in sec) to other candidate IEDs? \n",
    "# 3. width_thresh: how wide should they have to be (in sec)?\n",
    "\n",
    "# Defaults:\n",
    "IED_args = {'peak_thresh':4,\n",
    "           'closeness_thresh':0.25, \n",
    "           'width_thresh':0.2}\n"
   ]
  },
  {
   "cell_type": "code",
   "execution_count": 16,
   "metadata": {},
   "outputs": [],
   "source": [
    "# Create a dictionary with your event name (matching your dataframe), and the time-window for the event\n",
    "evs = {'TrialOnset': [-1.0, 0], #ITI is always at least one second + 10ms buffer for wavelet padding (no horizontal smearing)\n",
    "       'DecisionOnset': [0, 5.0]} #1 sec decision period + 2 second outcome + 3 second counterfactual"
   ]
  },
  {
   "cell_type": "code",
   "execution_count": 17,
   "metadata": {},
   "outputs": [],
   "source": [
    "epochs_all_evs = {f'{x}': np.nan for x in evs}"
   ]
  },
  {
   "cell_type": "code",
   "execution_count": 19,
   "metadata": {},
   "outputs": [
    {
     "name": "stderr",
     "output_type": "stream",
     "text": [
      "[Parallel(n_jobs=-1)]: Using backend LokyBackend with 8 concurrent workers.\n",
      "[Parallel(n_jobs=-1)]: Done  10 tasks      | elapsed:    1.7s\n",
      "[Parallel(n_jobs=-1)]: Done 583 tasks      | elapsed:    1.8s\n",
      "[Parallel(n_jobs=-1)]: Done 16938 tasks      | elapsed:    3.0s\n",
      "[Parallel(n_jobs=-1)]: Done 17493 out of 17493 | elapsed:    3.0s finished\n",
      "[Parallel(n_jobs=-1)]: Using backend LokyBackend with 8 concurrent workers.\n",
      "[Parallel(n_jobs=-1)]: Done  10 tasks      | elapsed:    0.4s\n",
      "[Parallel(n_jobs=-1)]: Done 119 out of 119 | elapsed:    1.6s finished\n",
      "[Parallel(n_jobs=-1)]: Using backend LokyBackend with 8 concurrent workers.\n",
      "[Parallel(n_jobs=-1)]: Done  12 tasks      | elapsed:    0.0s\n",
      "[Parallel(n_jobs=-1)]: Done 2040 tasks      | elapsed:    0.3s\n",
      "[Parallel(n_jobs=-1)]: Done 17130 tasks      | elapsed:    2.9s\n",
      "[Parallel(n_jobs=-1)]: Done 17493 out of 17493 | elapsed:    3.0s finished\n",
      "[Parallel(n_jobs=-1)]: Using backend LokyBackend with 8 concurrent workers.\n",
      "[Parallel(n_jobs=-1)]: Done  12 tasks      | elapsed:    0.2s\n",
      "[Parallel(n_jobs=-1)]: Done 119 out of 119 | elapsed:    1.7s finished\n"
     ]
    }
   ],
   "source": [
    "for event in evs.keys():\n",
    "    # Make the epochs. \n",
    "    ev_epochs = lfp_preprocess_utils.make_epochs(load_path=f'{neural_dir}/wm_ref_ieeg.fif', \n",
    "    #ev_epochs = lfp_preprocess_utils.make_epochs(load_path=f'{neural_dir}{subj_id}/bp_ref_ieeg.fif', \n",
    "                 slope=slope, offset=offset,\n",
    "                 behav_name=event, behav_times=behav_df[event].values, \n",
    "                 ev_start_s=evs[event][0], ev_end_s=evs[event][1], buf_s = 1.0, IED_args=IED_args) #1.0 buf unsaved\n",
    "\n",
    "    epochs_all_evs[event] = ev_epochs"
   ]
  },
  {
   "cell_type": "code",
   "execution_count": 20,
   "metadata": {},
   "outputs": [
    {
     "data": {
      "text/plain": [
       "{'TrialOnset': <Epochs |  147 events (all good), -2 - 1 sec, baseline off, ~200.5 MB, data loaded, with metadata,\n",
       "  'TrialOnset': 147>,\n",
       " 'DecisionOnset': <Epochs |  147 events (all good), -1 - 6 sec, baseline off, ~467.4 MB, data loaded, with metadata,\n",
       "  'DecisionOnset': 147>}"
      ]
     },
     "execution_count": 20,
     "metadata": {},
     "output_type": "execute_result"
    }
   ],
   "source": [
    "epochs_all_evs"
   ]
  },
  {
   "cell_type": "markdown",
   "metadata": {},
   "source": [
    "# Add behavioral metadata to epochs"
   ]
  },
  {
   "cell_type": "code",
   "execution_count": 21,
   "metadata": {},
   "outputs": [],
   "source": [
    "behav_params = ['SafeBet', 'LowBet', 'HighBet','GambleChoice', 'Outcome',\n",
    "                'Profit', 'TotalProfit', 'GambleEV', 'CR', 'choiceEV', 'RPE',\n",
    "                'totalCPE', 'decisionCPE', 'totalRegret', 'decisionRegret',\n",
    "                'totalRelief', 'decisionRelief', 'totalCF', 'decisionCF', 'pRPE','nRPE']"
   ]
  },
  {
   "cell_type": "code",
   "execution_count": 22,
   "metadata": {},
   "outputs": [],
   "source": [
    "for event in evs.keys():\n",
    "\n",
    "    event_metadata = epochs_all_evs[event].metadata.copy()\n",
    "    \n",
    "    #independent vars\n",
    "    for param in behav_params: \n",
    "        event_metadata[param] = behav_df[param].tolist()\n",
    "\n",
    "    epochs_all_evs[event].metadata = event_metadata \n",
    "    "
   ]
  },
  {
   "cell_type": "code",
   "execution_count": 23,
   "metadata": {},
   "outputs": [
    {
     "data": {
      "text/html": [
       "<div>\n",
       "<style scoped>\n",
       "    .dataframe tbody tr th:only-of-type {\n",
       "        vertical-align: middle;\n",
       "    }\n",
       "\n",
       "    .dataframe tbody tr th {\n",
       "        vertical-align: top;\n",
       "    }\n",
       "\n",
       "    .dataframe thead th {\n",
       "        text-align: right;\n",
       "    }\n",
       "</style>\n",
       "<table border=\"1\" class=\"dataframe\">\n",
       "  <thead>\n",
       "    <tr style=\"text-align: right;\">\n",
       "      <th></th>\n",
       "      <th>lmolf9</th>\n",
       "      <th>rmolf8</th>\n",
       "      <th>rmolf9</th>\n",
       "      <th>lacas8</th>\n",
       "      <th>lacas12</th>\n",
       "      <th>racas6</th>\n",
       "      <th>racas9</th>\n",
       "      <th>racas12</th>\n",
       "      <th>lmcms5</th>\n",
       "      <th>lmcms6</th>\n",
       "      <th>...</th>\n",
       "      <th>totalCPE</th>\n",
       "      <th>decisionCPE</th>\n",
       "      <th>totalRegret</th>\n",
       "      <th>decisionRegret</th>\n",
       "      <th>totalRelief</th>\n",
       "      <th>decisionRelief</th>\n",
       "      <th>totalCF</th>\n",
       "      <th>decisionCF</th>\n",
       "      <th>pRPE</th>\n",
       "      <th>nRPE</th>\n",
       "    </tr>\n",
       "  </thead>\n",
       "  <tbody>\n",
       "    <tr>\n",
       "      <th>0</th>\n",
       "      <td>NaN</td>\n",
       "      <td>NaN</td>\n",
       "      <td>NaN</td>\n",
       "      <td>NaN</td>\n",
       "      <td>NaN</td>\n",
       "      <td>NaN</td>\n",
       "      <td>NaN</td>\n",
       "      <td>NaN</td>\n",
       "      <td>NaN</td>\n",
       "      <td>NaN</td>\n",
       "      <td>...</td>\n",
       "      <td>-1.90</td>\n",
       "      <td>-0.60</td>\n",
       "      <td>-1.90</td>\n",
       "      <td>-0.60</td>\n",
       "      <td>0.00</td>\n",
       "      <td>0.00</td>\n",
       "      <td>1.90</td>\n",
       "      <td>0.60</td>\n",
       "      <td>0.000</td>\n",
       "      <td>-0.95</td>\n",
       "    </tr>\n",
       "    <tr>\n",
       "      <th>1</th>\n",
       "      <td>NaN</td>\n",
       "      <td>NaN</td>\n",
       "      <td>NaN</td>\n",
       "      <td>NaN</td>\n",
       "      <td>NaN</td>\n",
       "      <td>NaN</td>\n",
       "      <td>NaN</td>\n",
       "      <td>NaN</td>\n",
       "      <td>NaN</td>\n",
       "      <td>NaN</td>\n",
       "      <td>...</td>\n",
       "      <td>0.39</td>\n",
       "      <td>0.09</td>\n",
       "      <td>0.00</td>\n",
       "      <td>0.00</td>\n",
       "      <td>0.39</td>\n",
       "      <td>0.09</td>\n",
       "      <td>-0.30</td>\n",
       "      <td>0.00</td>\n",
       "      <td>0.195</td>\n",
       "      <td>0.00</td>\n",
       "    </tr>\n",
       "    <tr>\n",
       "      <th>2</th>\n",
       "      <td>NaN</td>\n",
       "      <td>NaN</td>\n",
       "      <td>NaN</td>\n",
       "      <td>NaN</td>\n",
       "      <td>NaN</td>\n",
       "      <td>NaN</td>\n",
       "      <td>NaN</td>\n",
       "      <td>NaN</td>\n",
       "      <td>NaN</td>\n",
       "      <td>NaN</td>\n",
       "      <td>...</td>\n",
       "      <td>0.41</td>\n",
       "      <td>0.41</td>\n",
       "      <td>0.00</td>\n",
       "      <td>0.00</td>\n",
       "      <td>0.41</td>\n",
       "      <td>0.41</td>\n",
       "      <td>-1.01</td>\n",
       "      <td>-1.01</td>\n",
       "      <td>0.000</td>\n",
       "      <td>0.00</td>\n",
       "    </tr>\n",
       "    <tr>\n",
       "      <th>3</th>\n",
       "      <td>NaN</td>\n",
       "      <td>NaN</td>\n",
       "      <td>NaN</td>\n",
       "      <td>NaN</td>\n",
       "      <td>NaN</td>\n",
       "      <td>NaN</td>\n",
       "      <td>NaN</td>\n",
       "      <td>NaN</td>\n",
       "      <td>NaN</td>\n",
       "      <td>NaN</td>\n",
       "      <td>...</td>\n",
       "      <td>0.50</td>\n",
       "      <td>0.50</td>\n",
       "      <td>0.00</td>\n",
       "      <td>0.00</td>\n",
       "      <td>0.50</td>\n",
       "      <td>0.50</td>\n",
       "      <td>0.00</td>\n",
       "      <td>0.00</td>\n",
       "      <td>0.000</td>\n",
       "      <td>0.00</td>\n",
       "    </tr>\n",
       "    <tr>\n",
       "      <th>4</th>\n",
       "      <td>[2689]</td>\n",
       "      <td>NaN</td>\n",
       "      <td>NaN</td>\n",
       "      <td>NaN</td>\n",
       "      <td>NaN</td>\n",
       "      <td>NaN</td>\n",
       "      <td>NaN</td>\n",
       "      <td>NaN</td>\n",
       "      <td>NaN</td>\n",
       "      <td>NaN</td>\n",
       "      <td>...</td>\n",
       "      <td>-1.32</td>\n",
       "      <td>-1.10</td>\n",
       "      <td>-1.32</td>\n",
       "      <td>-1.10</td>\n",
       "      <td>0.00</td>\n",
       "      <td>0.00</td>\n",
       "      <td>0.22</td>\n",
       "      <td>0.00</td>\n",
       "      <td>0.000</td>\n",
       "      <td>-0.66</td>\n",
       "    </tr>\n",
       "    <tr>\n",
       "      <th>...</th>\n",
       "      <td>...</td>\n",
       "      <td>...</td>\n",
       "      <td>...</td>\n",
       "      <td>...</td>\n",
       "      <td>...</td>\n",
       "      <td>...</td>\n",
       "      <td>...</td>\n",
       "      <td>...</td>\n",
       "      <td>...</td>\n",
       "      <td>...</td>\n",
       "      <td>...</td>\n",
       "      <td>...</td>\n",
       "      <td>...</td>\n",
       "      <td>...</td>\n",
       "      <td>...</td>\n",
       "      <td>...</td>\n",
       "      <td>...</td>\n",
       "      <td>...</td>\n",
       "      <td>...</td>\n",
       "      <td>...</td>\n",
       "      <td>...</td>\n",
       "    </tr>\n",
       "    <tr>\n",
       "      <th>142</th>\n",
       "      <td>NaN</td>\n",
       "      <td>NaN</td>\n",
       "      <td>NaN</td>\n",
       "      <td>NaN</td>\n",
       "      <td>NaN</td>\n",
       "      <td>NaN</td>\n",
       "      <td>NaN</td>\n",
       "      <td>NaN</td>\n",
       "      <td>NaN</td>\n",
       "      <td>NaN</td>\n",
       "      <td>...</td>\n",
       "      <td>-1.30</td>\n",
       "      <td>-1.30</td>\n",
       "      <td>-1.30</td>\n",
       "      <td>-1.30</td>\n",
       "      <td>0.00</td>\n",
       "      <td>0.00</td>\n",
       "      <td>1.80</td>\n",
       "      <td>1.80</td>\n",
       "      <td>0.000</td>\n",
       "      <td>0.00</td>\n",
       "    </tr>\n",
       "    <tr>\n",
       "      <th>143</th>\n",
       "      <td>NaN</td>\n",
       "      <td>NaN</td>\n",
       "      <td>NaN</td>\n",
       "      <td>NaN</td>\n",
       "      <td>NaN</td>\n",
       "      <td>NaN</td>\n",
       "      <td>NaN</td>\n",
       "      <td>NaN</td>\n",
       "      <td>NaN</td>\n",
       "      <td>NaN</td>\n",
       "      <td>...</td>\n",
       "      <td>-2.20</td>\n",
       "      <td>-1.10</td>\n",
       "      <td>-2.20</td>\n",
       "      <td>-1.10</td>\n",
       "      <td>0.00</td>\n",
       "      <td>0.00</td>\n",
       "      <td>1.10</td>\n",
       "      <td>0.00</td>\n",
       "      <td>0.000</td>\n",
       "      <td>-1.10</td>\n",
       "    </tr>\n",
       "    <tr>\n",
       "      <th>144</th>\n",
       "      <td>NaN</td>\n",
       "      <td>NaN</td>\n",
       "      <td>NaN</td>\n",
       "      <td>NaN</td>\n",
       "      <td>NaN</td>\n",
       "      <td>NaN</td>\n",
       "      <td>NaN</td>\n",
       "      <td>NaN</td>\n",
       "      <td>NaN</td>\n",
       "      <td>NaN</td>\n",
       "      <td>...</td>\n",
       "      <td>-0.41</td>\n",
       "      <td>-0.41</td>\n",
       "      <td>-0.41</td>\n",
       "      <td>-0.41</td>\n",
       "      <td>0.00</td>\n",
       "      <td>0.00</td>\n",
       "      <td>0.91</td>\n",
       "      <td>0.91</td>\n",
       "      <td>0.000</td>\n",
       "      <td>0.00</td>\n",
       "    </tr>\n",
       "    <tr>\n",
       "      <th>145</th>\n",
       "      <td>NaN</td>\n",
       "      <td>NaN</td>\n",
       "      <td>NaN</td>\n",
       "      <td>NaN</td>\n",
       "      <td>NaN</td>\n",
       "      <td>NaN</td>\n",
       "      <td>NaN</td>\n",
       "      <td>NaN</td>\n",
       "      <td>NaN</td>\n",
       "      <td>NaN</td>\n",
       "      <td>...</td>\n",
       "      <td>0.46</td>\n",
       "      <td>0.16</td>\n",
       "      <td>0.00</td>\n",
       "      <td>0.00</td>\n",
       "      <td>0.46</td>\n",
       "      <td>0.16</td>\n",
       "      <td>-0.30</td>\n",
       "      <td>0.00</td>\n",
       "      <td>0.230</td>\n",
       "      <td>0.00</td>\n",
       "    </tr>\n",
       "    <tr>\n",
       "      <th>146</th>\n",
       "      <td>NaN</td>\n",
       "      <td>NaN</td>\n",
       "      <td>NaN</td>\n",
       "      <td>NaN</td>\n",
       "      <td>NaN</td>\n",
       "      <td>NaN</td>\n",
       "      <td>NaN</td>\n",
       "      <td>NaN</td>\n",
       "      <td>NaN</td>\n",
       "      <td>NaN</td>\n",
       "      <td>...</td>\n",
       "      <td>-0.64</td>\n",
       "      <td>-0.64</td>\n",
       "      <td>-0.64</td>\n",
       "      <td>-0.64</td>\n",
       "      <td>0.00</td>\n",
       "      <td>0.00</td>\n",
       "      <td>0.84</td>\n",
       "      <td>0.84</td>\n",
       "      <td>0.000</td>\n",
       "      <td>0.00</td>\n",
       "    </tr>\n",
       "  </tbody>\n",
       "</table>\n",
       "<p>147 rows × 140 columns</p>\n",
       "</div>"
      ],
      "text/plain": [
       "     lmolf9 rmolf8 rmolf9 lacas8 lacas12 racas6 racas9 racas12 lmcms5 lmcms6  \\\n",
       "0       NaN    NaN    NaN    NaN     NaN    NaN    NaN     NaN    NaN    NaN   \n",
       "1       NaN    NaN    NaN    NaN     NaN    NaN    NaN     NaN    NaN    NaN   \n",
       "2       NaN    NaN    NaN    NaN     NaN    NaN    NaN     NaN    NaN    NaN   \n",
       "3       NaN    NaN    NaN    NaN     NaN    NaN    NaN     NaN    NaN    NaN   \n",
       "4    [2689]    NaN    NaN    NaN     NaN    NaN    NaN     NaN    NaN    NaN   \n",
       "..      ...    ...    ...    ...     ...    ...    ...     ...    ...    ...   \n",
       "142     NaN    NaN    NaN    NaN     NaN    NaN    NaN     NaN    NaN    NaN   \n",
       "143     NaN    NaN    NaN    NaN     NaN    NaN    NaN     NaN    NaN    NaN   \n",
       "144     NaN    NaN    NaN    NaN     NaN    NaN    NaN     NaN    NaN    NaN   \n",
       "145     NaN    NaN    NaN    NaN     NaN    NaN    NaN     NaN    NaN    NaN   \n",
       "146     NaN    NaN    NaN    NaN     NaN    NaN    NaN     NaN    NaN    NaN   \n",
       "\n",
       "     ... totalCPE decisionCPE totalRegret decisionRegret totalRelief  \\\n",
       "0    ...    -1.90       -0.60       -1.90          -0.60        0.00   \n",
       "1    ...     0.39        0.09        0.00           0.00        0.39   \n",
       "2    ...     0.41        0.41        0.00           0.00        0.41   \n",
       "3    ...     0.50        0.50        0.00           0.00        0.50   \n",
       "4    ...    -1.32       -1.10       -1.32          -1.10        0.00   \n",
       "..   ...      ...         ...         ...            ...         ...   \n",
       "142  ...    -1.30       -1.30       -1.30          -1.30        0.00   \n",
       "143  ...    -2.20       -1.10       -2.20          -1.10        0.00   \n",
       "144  ...    -0.41       -0.41       -0.41          -0.41        0.00   \n",
       "145  ...     0.46        0.16        0.00           0.00        0.46   \n",
       "146  ...    -0.64       -0.64       -0.64          -0.64        0.00   \n",
       "\n",
       "    decisionRelief totalCF decisionCF   pRPE  nRPE  \n",
       "0             0.00    1.90       0.60  0.000 -0.95  \n",
       "1             0.09   -0.30       0.00  0.195  0.00  \n",
       "2             0.41   -1.01      -1.01  0.000  0.00  \n",
       "3             0.50    0.00       0.00  0.000  0.00  \n",
       "4             0.00    0.22       0.00  0.000 -0.66  \n",
       "..             ...     ...        ...    ...   ...  \n",
       "142           0.00    1.80       1.80  0.000  0.00  \n",
       "143           0.00    1.10       0.00  0.000 -1.10  \n",
       "144           0.00    0.91       0.91  0.000  0.00  \n",
       "145           0.16   -0.30       0.00  0.230  0.00  \n",
       "146           0.00    0.84       0.84  0.000  0.00  \n",
       "\n",
       "[147 rows x 140 columns]"
      ]
     },
     "execution_count": 23,
     "metadata": {},
     "output_type": "execute_result"
    }
   ],
   "source": [
    "epochs_all_evs[event].metadata"
   ]
  },
  {
   "cell_type": "markdown",
   "metadata": {},
   "source": [
    "## Save raw epoched data"
   ]
  },
  {
   "cell_type": "code",
   "execution_count": 24,
   "metadata": {},
   "outputs": [],
   "source": [
    "#might not be necessary to save here\n",
    "for event in evs.keys():\n",
    "    epochs_all_evs[event].save(f'{neural_dir}/wm_epoch_{event}.fif', overwrite=True)\n",
    "    #epochs_all_evs[event].save(f'{neural_dir}{subj_id}/bp_epoch_{event}.fif', overwrite=True)"
   ]
  },
  {
   "cell_type": "markdown",
   "metadata": {},
   "source": [
    "# Baselining"
   ]
  },
  {
   "cell_type": "code",
   "execution_count": 26,
   "metadata": {},
   "outputs": [],
   "source": [
    "# Set some spectrogram parameters \n",
    "freqs = np.logspace(*np.log10([2, 200]), num=30)\n",
    "n_cycles = 3\n",
    "sr = 500.0 \n",
    "buf = 1.0\n",
    "buf_ix = int(buf*sr)\n",
    "# freqs"
   ]
  },
  {
   "cell_type": "code",
   "execution_count": 27,
   "metadata": {},
   "outputs": [],
   "source": [
    "# Explicitly define a list of analysis events and the baseline event. Should correspond to the dict\n",
    "analysis_evs = ['DecisionOnset']\n",
    "baseline_ev = 'TrialOnset'\n",
    "evs = {'TrialOnset': [-1.0, 0], #maybe increase to full second to take cycles up to 4\n",
    "       #ITI is always at least one second + 10ms buffer for wavelet padding (no horizontal smearing)\n",
    "       'DecisionOnset': [0, 5.0]} #1 sec decision period + 2 second outcome + 3 second counterfactual"
   ]
  },
  {
   "cell_type": "code",
   "execution_count": 28,
   "metadata": {},
   "outputs": [],
   "source": [
    "epochs_all_baseline = {} #removed unecessary 'decisiononset' empty key"
   ]
  },
  {
   "cell_type": "code",
   "execution_count": 29,
   "metadata": {},
   "outputs": [],
   "source": [
    "#baseline epoch - \n",
    "event = 'TrialOnset'\n",
    "epochs = epochs_all_evs[event]\n",
    "\n",
    "good_chans = [x for x in epochs.ch_names if x not in epochs.info['bads']]\n",
    "picks = [x for x in good_chans]\n",
    "\n",
    "pow_struct = np.nan * np.ones([epochs._data.shape[0], \n",
    "                       epochs._data.shape[1], len(freqs), \n",
    "                       epochs._data.shape[-1]])\n",
    "\n",
    "for ch_ix in np.arange(epochs._data.shape[1]): \n",
    "    ch_data = epochs._data[:, ch_ix:ch_ix+1, :]\n",
    "    bad_epochs  = np.where(epochs.metadata[epochs.ch_names[ch_ix]].notnull())[0]\n",
    "    good_epochs = np.delete(np.arange(ch_data.shape[0]), bad_epochs)\n",
    "    ch_data = np.delete(ch_data, bad_epochs, axis=0)\n",
    "    ch_pow = mne.time_frequency.tfr_array_morlet(ch_data, sfreq=epochs.info['sfreq'], \n",
    "                                        freqs=freqs, n_cycles=n_cycles, zero_mean=False, \n",
    "                                        use_fft=True, output='power', n_jobs=1)\n",
    "\n",
    "    pow_struct[good_epochs, ch_ix, :, :] = ch_pow[:, 0, :, :]\n",
    "\n",
    "temp_pow = mne.time_frequency.EpochsTFR(epochs.info, pow_struct, \n",
    "                                        epochs.times, freqs)\n",
    "temp_pow.crop(tmin=evs[event][0], tmax=evs[event][1])\n",
    "\n",
    "epochs_all_baseline[event] = temp_pow"
   ]
  },
  {
   "cell_type": "code",
   "execution_count": 31,
   "metadata": {},
   "outputs": [
    {
     "data": {
      "text/plain": [
       "{'TrialOnset': <EpochsTFR | time : [-1.000000, 0.000000], freq : [2.000000, 200.000000], epochs : 147, channels : 119, ~1.96 GB>}"
      ]
     },
     "execution_count": 31,
     "metadata": {},
     "output_type": "execute_result"
    }
   ],
   "source": [
    "epochs_all_baseline"
   ]
  },
  {
   "cell_type": "code",
   "execution_count": 32,
   "metadata": {},
   "outputs": [],
   "source": [
    "power_epochs = {}"
   ]
  },
  {
   "cell_type": "code",
   "execution_count": 33,
   "metadata": {},
   "outputs": [],
   "source": [
    "event = 'DecisionOnset'\n",
    "\n",
    "epochs = epochs_all_evs[event]\n",
    "\n",
    "# Let's make sure we only do this for good channels\n",
    "good_chans = [x for x in epochs.ch_names if x not in epochs.info['bads']]\n",
    "picks = [x for x in good_chans]\n",
    "\n",
    "pow_struct = np.nan * np.ones([epochs._data.shape[0], \n",
    "                       epochs._data.shape[1], len(freqs), \n",
    "                       epochs._data.shape[-1]])\n",
    "\n",
    "for ch_ix in np.arange(epochs._data.shape[1]): \n",
    "    ch_data = epochs._data[:, ch_ix:ch_ix+1, :]\n",
    "    bad_epochs  = np.where(epochs.metadata[epochs.ch_names[ch_ix]].notnull())[0] \n",
    "    good_epochs = np.delete(np.arange(ch_data.shape[0]), bad_epochs)\n",
    "    ch_data = np.delete(ch_data, bad_epochs, axis=0) #this is where bad epochs for ch are deleted!!\n",
    "    ch_pow = mne.time_frequency.tfr_array_morlet(ch_data, sfreq=epochs.info['sfreq'], \n",
    "                                        freqs=freqs, n_cycles=n_cycles, zero_mean=False, \n",
    "                                        use_fft=True, output='power', n_jobs=1)\n",
    "\n",
    "    pow_struct[good_epochs, ch_ix, :, :] = ch_pow[:, 0, :, :]\n",
    "\n",
    "temp_pow = mne.time_frequency.EpochsTFR(epochs.info, pow_struct, \n",
    "                                        epochs.times, freqs)\n",
    "\n",
    "temp_pow.crop(tmin=evs[event][0], tmax=evs[event][1])\n",
    "\n",
    "\n",
    "baseline_corrected_power = lfp_preprocess_utils.baseline_trialwise_TFR(data=temp_pow.data, \n",
    "                                                  baseline_mne=epochs_all_baseline['TrialOnset'], \n",
    "                                                  mode='zscore', \n",
    "                                                  trialwise=False, #discussed change with salman bc of small baseline time\n",
    "                                                  baseline_only=True) ### test trialwise true \n",
    "\n",
    "\n",
    "zpow = mne.time_frequency.EpochsTFR(epochs.info, baseline_corrected_power, \n",
    "                                temp_pow.times, freqs)\n",
    "\n",
    "zpow.metadata = epochs_all_evs[event].metadata\n",
    "\n",
    "power_epochs[event] = zpow\n",
    "\n"
   ]
  },
  {
   "cell_type": "code",
   "execution_count": 36,
   "metadata": {},
   "outputs": [
    {
     "data": {
      "text/plain": [
       "<EpochsTFR | time : [0.000000, 5.000000], freq : [2.000000, 200.000000], epochs : 147, channels : 119, ~9.78 GB>"
      ]
     },
     "execution_count": 36,
     "metadata": {},
     "output_type": "execute_result"
    }
   ],
   "source": [
    "power_epochs['DecisionOnset']"
   ]
  },
  {
   "cell_type": "code",
   "execution_count": 37,
   "metadata": {},
   "outputs": [],
   "source": [
    "#conda install -c conda-forge h5io must install to save tfr data\n",
    "#power_epochs['DecisionOnset'].save(f'{neural_dir}{subj_id}/bp_pow_epochs-tfr.h5', overwrite=True)\n",
    "power_epochs['DecisionOnset'].save(f'{neural_dir}/wm_pow_epochs-tfr.h5', overwrite=True)\n"
   ]
  },
  {
   "cell_type": "markdown",
   "metadata": {},
   "source": [
    "# Wavelet TFRs"
   ]
  },
  {
   "cell_type": "markdown",
   "metadata": {},
   "source": [
    "## All Trials Every Elec TFRs"
   ]
  },
  {
   "cell_type": "code",
   "execution_count": 38,
   "metadata": {},
   "outputs": [],
   "source": [
    "event = 'DecisionOnset'\n",
    "yticks = [4, 12, 30, 60, 90, 120, 150, 180, 200]\n",
    "good_ch = [x for x in power_epochs[event].ch_names if '-' in x]\n",
    "save_path = tfr_dir\n",
    "\n",
    "\n",
    "for ch in good_ch:\n",
    "    fig, ax = plt.subplots(1, 1, figsize=(6, 4))\n",
    "    times = power_epochs[event].times\n",
    "    plot_data = np.nanmean(np.nanmean(power_epochs[event].copy().pick_channels([ch]).data, axis=0), axis=0)\n",
    "\n",
    "    im = ax.imshow(plot_data,\n",
    "            extent=[times[0], times[-1], freqs[0], freqs[-1]], interpolation='Bicubic',\n",
    "            aspect='auto', origin='lower', cmap='RdBu_r',vmin = -np.nanmax(np.abs(plot_data)), vmax = np.nanmax(np.abs(plot_data)))\n",
    "    ax.set(yticks=yticks, xlabel='Time (s)', ylabel='Frequency',title=f'{ch} Encoding')\n",
    "    ax.yaxis.set_tick_params(labelsize=8)\n",
    "    fig.colorbar(im, ax=ax)\n",
    "    plt.savefig(f'{save_path}/{ch}_wmref_baselineonly.png', format='png', metadata=None,\n",
    "    #plt.savefig(f'{save_path}bp_ref_baselineonly/{ch}.png', format='png', metadata=None,\n",
    "    bbox_inches=None, pad_inches=0.1,\n",
    "    facecolor='auto', edgecolor='auto',\n",
    "    backend=None)\n",
    "    plt.close()\n"
   ]
  },
  {
   "cell_type": "code",
   "execution_count": null,
   "metadata": {},
   "outputs": [],
   "source": []
  }
 ],
 "metadata": {
  "kernelspec": {
   "display_name": "Python [conda env:swb_ephys]",
   "language": "python",
   "name": "conda-env-swb_ephys-py"
  },
  "language_info": {
   "codemirror_mode": {
    "name": "ipython",
    "version": 3
   },
   "file_extension": ".py",
   "mimetype": "text/x-python",
   "name": "python",
   "nbconvert_exporter": "python",
   "pygments_lexer": "ipython3",
   "version": "3.10.11"
  }
 },
 "nbformat": 4,
 "nbformat_minor": 2
}
