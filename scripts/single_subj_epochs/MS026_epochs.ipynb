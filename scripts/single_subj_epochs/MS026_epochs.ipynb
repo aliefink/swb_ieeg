{
 "cells": [
  {
   "cell_type": "markdown",
   "metadata": {},
   "source": [
    "# MS002 Epoching\n",
    "09/26/2023"
   ]
  },
  {
   "cell_type": "code",
   "execution_count": 1,
   "metadata": {},
   "outputs": [
    {
     "name": "stderr",
     "output_type": "stream",
     "text": [
      "OMP: Info #276: omp_set_nested routine deprecated, please use omp_set_max_active_levels instead.\n"
     ]
    }
   ],
   "source": [
    "import numpy as np\n",
    "import mne\n",
    "from glob import glob\n",
    "import matplotlib.pyplot as plt\n",
    "from matplotlib.backends.backend_pdf import PdfPages\n",
    "import seaborn as sns\n",
    "from scipy.stats import zscore, linregress, ttest_ind, ttest_rel, ttest_1samp\n",
    "import pandas as pd\n",
    "from mne.preprocessing.bads import _find_outliers\n",
    "import os \n",
    "import joblib\n",
    "import emd\n",
    "import re\n",
    "import scipy\n",
    "import h5io\n",
    "\n",
    "import warnings\n",
    "warnings.filterwarnings('ignore')"
   ]
  },
  {
   "cell_type": "code",
   "execution_count": 2,
   "metadata": {},
   "outputs": [],
   "source": [
    "import sys\n",
    "# sys.path.append('/Users/alexandrafink/Documents/GitHub/LFPAnalysis')\n",
    "sys.path.append('/Users/alexandrafink/Documents/GitHub/afink_lfp_pipeline/LFPAnalysis')"
   ]
  },
  {
   "cell_type": "code",
   "execution_count": 3,
   "metadata": {},
   "outputs": [],
   "source": [
    "from LFPAnalysis import lfp_preprocess_utils, sync_utils, analysis_utils, nlx_utils"
   ]
  },
  {
   "cell_type": "code",
   "execution_count": 4,
   "metadata": {},
   "outputs": [],
   "source": [
    "subj_id = 'MS002'\n",
    "\n",
    "\n",
    "base_dir = '/Users/alexandrafink/Documents/GraduateSchool/SaezLab/SWB/'\n",
    "anat_dir = f'{base_dir}anat_recons/recon_labels/{subj_id}'\n",
    "neural_dir = f'{base_dir}ephys_analysis/data/{subj_id}'\n",
    "behav_dir = f'{base_dir}behavior_analysis/behavior_preprocessed/'\n",
    "tfr_dir = f'{base_dir}ephys_analysis/figs/TFRs/{subj_id}/all_trials/'\n",
    "os.makedirs(tfr_dir,exist_ok = True) #added so you don't have to manually make subject folders in clean_data\n"
   ]
  },
  {
   "cell_type": "markdown",
   "metadata": {},
   "source": [
    "# Import Preprocessed Data (WM), Photodiode Data, Behavior Data, and Anatomical Reconstruction"
   ]
  },
  {
   "cell_type": "code",
   "execution_count": 5,
   "metadata": {},
   "outputs": [],
   "source": [
    "#rereferenced neural data\n",
    "#mne_data_reref = mne.io.read_raw_fif(f'{neural_dir}{subj_id}/wm_ref_ieeg.fif', preload=True)\n",
    "#mne_data_reref = mne.io.read_raw_fif(f'{neural_dir}{subj_id}/bp_ref_ieeg.fif', preload=True)\n",
    "#photodiode data\n",
    "photodiode_data = mne.io.read_raw_fif(f'{neural_dir}{subj_id}/photodiode.fif', preload=True)\n",
    "#behavior data \n",
    "behav_df = pd.read_csv(f'{behav_dir}{subj_id}_task_data')\n",
    "behav_df = behav_df[behav_df.columns.drop(list(behav_df.filter(regex='Unnamed')))]\n",
    "behav_df = behav_df[behav_df['FeedbackOnset'] != 0] #remove fail trials from behav df\n",
    "beh_ts = behav_df['TrialOnset'] #timestamp that should be aligned to photodiode \n",
    "#anat recon file\n",
    "anat_file = glob(f'{anat_dir}{subj_id}_labels.csv')[0]\n",
    "elec_locs = pd.read_csv(anat_file)"
   ]
  },
  {
   "cell_type": "code",
   "execution_count": null,
   "metadata": {},
   "outputs": [],
   "source": [
    "#mne_data_reref.drop_channels([x for x in mne_data_reref.ch_names if '-' not in x])\n",
    "#^this line of code in reref function seems to not be working - these channels are not dropped"
   ]
  },
  {
   "cell_type": "markdown",
   "metadata": {},
   "source": [
    "# Photodiode Alignment"
   ]
  },
  {
   "cell_type": "code",
   "execution_count": 7,
   "metadata": {},
   "outputs": [
    {
     "data": {
      "image/png": "[encoded data removed]",
      "text/plain": [
       "<Figure size 640x480 with 1 Axes>"
      ]
     },
     "metadata": {},
     "output_type": "display_data"
    }
   ],
   "source": [
    "# Sanity check the photodiode\n",
    "plt.plot(photodiode_data._data[0,])\n",
    "plt.title(\"Photodiode\")\n",
    "plt.show()"
   ]
  },
  {
   "cell_type": "code",
   "execution_count": 8,
   "metadata": {},
   "outputs": [
    {
     "name": "stdout",
     "output_type": "stream",
     "text": [
      "10 blocks\n",
      "..........\n",
      "\n",
      "found matches for 105 of 163 pulses\n"
     ]
    }
   ],
   "source": [
    "### Photodiode alignment\n",
    "\n",
    "# Synchronize to the photodiode or whatever your neural sync signal is\n",
    "slope, offset = sync_utils.synchronize_data(beh_ts, \n",
    "                                            photodiode_data, \n",
    "                                            smoothSize=11, windSize=15, height=0.8)"
   ]
  },
  {
   "cell_type": "code",
   "execution_count": 9,
   "metadata": {},
   "outputs": [
    {
     "name": "stdout",
     "output_type": "stream",
     "text": [
      "0.9999758112836196 17.51112825554037\n"
     ]
    }
   ],
   "source": [
    "print(slope,offset)"
   ]
  },
  {
   "cell_type": "markdown",
   "metadata": {},
   "source": [
    "# Epoch Data\n",
    "Make sure bad trials are removed from DF before epoching\n",
    "IED args should be tested \n"
   ]
  },
  {
   "cell_type": "code",
   "execution_count": 1,
   "metadata": {},
   "outputs": [],
   "source": [
    "# IED removal requires that we set some parameters for IED detection. \n",
    "# 1. peak_thresh: how many stds should they exceed the baseline by? \n",
    "# 2. closeness_thresh: how close should they be allowed to be (in sec) to other candidate IEDs? \n",
    "# 3. width_thresh: how wide should they have to be (in sec)?\n",
    "\n",
    "# Defaults:\n",
    "IED_args = {'peak_thresh':4,\n",
    "           'closeness_thresh':0.25, \n",
    "           'width_thresh':0.2}\n",
    "\n",
    "### test these parameters with TFRs"
   ]
  },
  {
   "cell_type": "code",
   "execution_count": 49,
   "metadata": {},
   "outputs": [],
   "source": [
    "# Create a dictionary with your event name (matching your dataframe), and the time-window for the event\n",
    "evs = {'TrialOnset': [-1.0, 0], #ITI is always at least one second + 10ms buffer for wavelet padding (no horizontal smearing)\n",
    "       'DecisionOnset': [0, 5.0]} #1 sec decision period + 2 second outcome + 3 second counterfactual"
   ]
  },
  {
   "cell_type": "code",
   "execution_count": 50,
   "metadata": {},
   "outputs": [],
   "source": [
    "epochs_all_evs = {f'{x}': np.nan for x in evs}"
   ]
  },
  {
   "cell_type": "code",
   "execution_count": 51,
   "metadata": {},
   "outputs": [
    {
     "name": "stderr",
     "output_type": "stream",
     "text": [
      "[Parallel(n_jobs=-1)]: Using backend LokyBackend with 8 concurrent workers.\n",
      "[Parallel(n_jobs=-1)]: Done  10 tasks      | elapsed:    2.2s\n",
      "[Parallel(n_jobs=-1)]: Done 272 tasks      | elapsed:    2.3s\n",
      "[Parallel(n_jobs=-1)]: Done 18100 tasks      | elapsed:    4.3s\n",
      "[Parallel(n_jobs=-1)]: Done 20413 out of 20413 | elapsed:    4.6s finished\n",
      "[Parallel(n_jobs=-1)]: Using backend LokyBackend with 8 concurrent workers.\n",
      "[Parallel(n_jobs=-1)]: Done  10 tasks      | elapsed:    0.7s\n",
      "[Parallel(n_jobs=-1)]: Done 137 out of 137 | elapsed:    1.6s finished\n",
      "[Parallel(n_jobs=-1)]: Using backend LokyBackend with 8 concurrent workers.\n",
      "[Parallel(n_jobs=-1)]: Done  12 tasks      | elapsed:    0.0s\n",
      "[Parallel(n_jobs=-1)]: Done 2040 tasks      | elapsed:    0.3s\n",
      "[Parallel(n_jobs=-1)]: Done 19276 tasks      | elapsed:    1.9s\n",
      "[Parallel(n_jobs=-1)]: Done 20413 out of 20413 | elapsed:    2.0s finished\n",
      "[Parallel(n_jobs=-1)]: Using backend LokyBackend with 8 concurrent workers.\n",
      "[Parallel(n_jobs=-1)]: Done  12 tasks      | elapsed:    0.2s\n",
      "[Parallel(n_jobs=-1)]: Done 137 out of 137 | elapsed:    3.2s finished\n"
     ]
    }
   ],
   "source": [
    "### WM\n",
    "for event in evs.keys():\n",
    "    # Make the epochs. \n",
    "    ev_epochs = lfp_preprocess_utils.make_epochs(load_path=f'{neural_dir}{subj_id}/wm_ref_ieeg.fif', \n",
    "    #ev_epochs = lfp_preprocess_utils.make_epochs(load_path=f'{neural_dir}{subj_id}/bp_ref_ieeg.fif', \n",
    "                 slope=slope, offset=offset,\n",
    "                 behav_name=event, behav_times=behav_df[event].values, \n",
    "                 ev_start_s=evs[event][0], ev_end_s=evs[event][1], buf_s = 1.0, IED_args=IED_args) #1.0 buf unsaved\n",
    "\n",
    "    epochs_all_evs[event] = ev_epochs\n",
    "    "
   ]
  },
  {
   "cell_type": "code",
   "execution_count": 52,
   "metadata": {},
   "outputs": [
    {
     "data": {
      "text/plain": [
       "{'TrialOnset': <Epochs |  149 events (all good), -2 - 1 sec, baseline off, ~234.0 MB, data loaded, with metadata,\n",
       "  'TrialOnset': 149>,\n",
       " 'DecisionOnset': <Epochs |  149 events (all good), -1 - 6 sec, baseline off, ~545.4 MB, data loaded, with metadata,\n",
       "  'DecisionOnset': 149>}"
      ]
     },
     "execution_count": 52,
     "metadata": {},
     "output_type": "execute_result"
    }
   ],
   "source": [
    "epochs_all_evs "
   ]
  },
  {
   "cell_type": "markdown",
   "metadata": {},
   "source": [
    "# Add behavioral metadata to epochs"
   ]
  },
  {
   "cell_type": "code",
   "execution_count": 53,
   "metadata": {},
   "outputs": [],
   "source": [
    "behav_params = ['SafeBet', 'LowBet', 'HighBet','GambleChoice', 'Outcome',\n",
    "                'Profit', 'TotalProfit', 'GambleEV', 'CR', 'choiceEV', 'RPE',\n",
    "                'totalCPE', 'decisionCPE', 'totalRegret', 'decisionRegret',\n",
    "                'totalRelief', 'decisionRelief', 'totalCF', 'decisionCF', 'pRPE','nRPE']"
   ]
  },
  {
   "cell_type": "code",
   "execution_count": 54,
   "metadata": {},
   "outputs": [],
   "source": [
    "for event in evs.keys():\n",
    "\n",
    "    event_metadata = epochs_all_evs[event].metadata.copy()\n",
    "    \n",
    "    #independent vars\n",
    "    for param in behav_params: \n",
    "        event_metadata[param] = behav_df[param].tolist()\n",
    "\n",
    "    epochs_all_evs[event].metadata = event_metadata \n",
    "    "
   ]
  },
  {
   "cell_type": "code",
   "execution_count": 55,
   "metadata": {},
   "outputs": [
    {
     "data": {
      "text/html": [
       "<div>\n",
       "<style scoped>\n",
       "    .dataframe tbody tr th:only-of-type {\n",
       "        vertical-align: middle;\n",
       "    }\n",
       "\n",
       "    .dataframe tbody tr th {\n",
       "        vertical-align: top;\n",
       "    }\n",
       "\n",
       "    .dataframe thead th {\n",
       "        text-align: right;\n",
       "    }\n",
       "</style>\n",
       "<table border=\"1\" class=\"dataframe\">\n",
       "  <thead>\n",
       "    <tr style=\"text-align: right;\">\n",
       "      <th></th>\n",
       "      <th>lloif10</th>\n",
       "      <th>lmoif3</th>\n",
       "      <th>lmoif4</th>\n",
       "      <th>lmoif8</th>\n",
       "      <th>lmoif14</th>\n",
       "      <th>rmoif5</th>\n",
       "      <th>rmoif11</th>\n",
       "      <th>rmoif12</th>\n",
       "      <th>lacas9</th>\n",
       "      <th>lacas11</th>\n",
       "      <th>...</th>\n",
       "      <th>totalCPE</th>\n",
       "      <th>decisionCPE</th>\n",
       "      <th>totalRegret</th>\n",
       "      <th>decisionRegret</th>\n",
       "      <th>totalRelief</th>\n",
       "      <th>decisionRelief</th>\n",
       "      <th>totalCF</th>\n",
       "      <th>decisionCF</th>\n",
       "      <th>pRPE</th>\n",
       "      <th>nRPE</th>\n",
       "    </tr>\n",
       "  </thead>\n",
       "  <tbody>\n",
       "    <tr>\n",
       "      <th>0</th>\n",
       "      <td>NaN</td>\n",
       "      <td>NaN</td>\n",
       "      <td>NaN</td>\n",
       "      <td>NaN</td>\n",
       "      <td>NaN</td>\n",
       "      <td>NaN</td>\n",
       "      <td>NaN</td>\n",
       "      <td>NaN</td>\n",
       "      <td>NaN</td>\n",
       "      <td>NaN</td>\n",
       "      <td>...</td>\n",
       "      <td>-0.57</td>\n",
       "      <td>-0.57</td>\n",
       "      <td>-0.57</td>\n",
       "      <td>-0.57</td>\n",
       "      <td>0.00</td>\n",
       "      <td>0.00</td>\n",
       "      <td>0.57</td>\n",
       "      <td>0.57</td>\n",
       "      <td>0.00</td>\n",
       "      <td>0.000</td>\n",
       "    </tr>\n",
       "    <tr>\n",
       "      <th>1</th>\n",
       "      <td>NaN</td>\n",
       "      <td>NaN</td>\n",
       "      <td>NaN</td>\n",
       "      <td>NaN</td>\n",
       "      <td>NaN</td>\n",
       "      <td>NaN</td>\n",
       "      <td>NaN</td>\n",
       "      <td>NaN</td>\n",
       "      <td>NaN</td>\n",
       "      <td>NaN</td>\n",
       "      <td>...</td>\n",
       "      <td>-0.95</td>\n",
       "      <td>-0.65</td>\n",
       "      <td>-0.95</td>\n",
       "      <td>-0.65</td>\n",
       "      <td>0.00</td>\n",
       "      <td>0.00</td>\n",
       "      <td>0.00</td>\n",
       "      <td>-0.30</td>\n",
       "      <td>0.00</td>\n",
       "      <td>-0.475</td>\n",
       "    </tr>\n",
       "    <tr>\n",
       "      <th>2</th>\n",
       "      <td>NaN</td>\n",
       "      <td>NaN</td>\n",
       "      <td>NaN</td>\n",
       "      <td>NaN</td>\n",
       "      <td>NaN</td>\n",
       "      <td>NaN</td>\n",
       "      <td>NaN</td>\n",
       "      <td>NaN</td>\n",
       "      <td>NaN</td>\n",
       "      <td>NaN</td>\n",
       "      <td>...</td>\n",
       "      <td>1.68</td>\n",
       "      <td>1.28</td>\n",
       "      <td>0.00</td>\n",
       "      <td>0.00</td>\n",
       "      <td>1.68</td>\n",
       "      <td>1.28</td>\n",
       "      <td>0.00</td>\n",
       "      <td>0.40</td>\n",
       "      <td>0.84</td>\n",
       "      <td>0.000</td>\n",
       "    </tr>\n",
       "    <tr>\n",
       "      <th>3</th>\n",
       "      <td>NaN</td>\n",
       "      <td>NaN</td>\n",
       "      <td>NaN</td>\n",
       "      <td>NaN</td>\n",
       "      <td>NaN</td>\n",
       "      <td>NaN</td>\n",
       "      <td>NaN</td>\n",
       "      <td>NaN</td>\n",
       "      <td>NaN</td>\n",
       "      <td>NaN</td>\n",
       "      <td>...</td>\n",
       "      <td>0.80</td>\n",
       "      <td>0.80</td>\n",
       "      <td>0.00</td>\n",
       "      <td>0.00</td>\n",
       "      <td>0.80</td>\n",
       "      <td>0.80</td>\n",
       "      <td>-0.80</td>\n",
       "      <td>-0.80</td>\n",
       "      <td>0.00</td>\n",
       "      <td>0.000</td>\n",
       "    </tr>\n",
       "    <tr>\n",
       "      <th>4</th>\n",
       "      <td>NaN</td>\n",
       "      <td>NaN</td>\n",
       "      <td>NaN</td>\n",
       "      <td>NaN</td>\n",
       "      <td>NaN</td>\n",
       "      <td>NaN</td>\n",
       "      <td>NaN</td>\n",
       "      <td>NaN</td>\n",
       "      <td>NaN</td>\n",
       "      <td>NaN</td>\n",
       "      <td>...</td>\n",
       "      <td>1.24</td>\n",
       "      <td>0.74</td>\n",
       "      <td>0.00</td>\n",
       "      <td>0.00</td>\n",
       "      <td>1.24</td>\n",
       "      <td>0.74</td>\n",
       "      <td>0.00</td>\n",
       "      <td>0.50</td>\n",
       "      <td>0.62</td>\n",
       "      <td>0.000</td>\n",
       "    </tr>\n",
       "    <tr>\n",
       "      <th>...</th>\n",
       "      <td>...</td>\n",
       "      <td>...</td>\n",
       "      <td>...</td>\n",
       "      <td>...</td>\n",
       "      <td>...</td>\n",
       "      <td>...</td>\n",
       "      <td>...</td>\n",
       "      <td>...</td>\n",
       "      <td>...</td>\n",
       "      <td>...</td>\n",
       "      <td>...</td>\n",
       "      <td>...</td>\n",
       "      <td>...</td>\n",
       "      <td>...</td>\n",
       "      <td>...</td>\n",
       "      <td>...</td>\n",
       "      <td>...</td>\n",
       "      <td>...</td>\n",
       "      <td>...</td>\n",
       "      <td>...</td>\n",
       "      <td>...</td>\n",
       "    </tr>\n",
       "    <tr>\n",
       "      <th>144</th>\n",
       "      <td>NaN</td>\n",
       "      <td>NaN</td>\n",
       "      <td>NaN</td>\n",
       "      <td>NaN</td>\n",
       "      <td>NaN</td>\n",
       "      <td>NaN</td>\n",
       "      <td>NaN</td>\n",
       "      <td>NaN</td>\n",
       "      <td>NaN</td>\n",
       "      <td>NaN</td>\n",
       "      <td>...</td>\n",
       "      <td>1.24</td>\n",
       "      <td>0.50</td>\n",
       "      <td>0.00</td>\n",
       "      <td>0.00</td>\n",
       "      <td>1.24</td>\n",
       "      <td>0.50</td>\n",
       "      <td>-1.24</td>\n",
       "      <td>-0.50</td>\n",
       "      <td>0.62</td>\n",
       "      <td>0.000</td>\n",
       "    </tr>\n",
       "    <tr>\n",
       "      <th>145</th>\n",
       "      <td>NaN</td>\n",
       "      <td>NaN</td>\n",
       "      <td>NaN</td>\n",
       "      <td>NaN</td>\n",
       "      <td>NaN</td>\n",
       "      <td>NaN</td>\n",
       "      <td>NaN</td>\n",
       "      <td>NaN</td>\n",
       "      <td>NaN</td>\n",
       "      <td>NaN</td>\n",
       "      <td>...</td>\n",
       "      <td>-0.16</td>\n",
       "      <td>-0.16</td>\n",
       "      <td>-0.16</td>\n",
       "      <td>-0.16</td>\n",
       "      <td>0.00</td>\n",
       "      <td>0.00</td>\n",
       "      <td>0.16</td>\n",
       "      <td>0.16</td>\n",
       "      <td>0.00</td>\n",
       "      <td>0.000</td>\n",
       "    </tr>\n",
       "    <tr>\n",
       "      <th>146</th>\n",
       "      <td>NaN</td>\n",
       "      <td>NaN</td>\n",
       "      <td>NaN</td>\n",
       "      <td>NaN</td>\n",
       "      <td>NaN</td>\n",
       "      <td>NaN</td>\n",
       "      <td>NaN</td>\n",
       "      <td>NaN</td>\n",
       "      <td>NaN</td>\n",
       "      <td>NaN</td>\n",
       "      <td>...</td>\n",
       "      <td>-1.40</td>\n",
       "      <td>-0.90</td>\n",
       "      <td>-1.40</td>\n",
       "      <td>-0.90</td>\n",
       "      <td>0.00</td>\n",
       "      <td>0.00</td>\n",
       "      <td>0.00</td>\n",
       "      <td>-0.50</td>\n",
       "      <td>0.00</td>\n",
       "      <td>-0.700</td>\n",
       "    </tr>\n",
       "    <tr>\n",
       "      <th>147</th>\n",
       "      <td>NaN</td>\n",
       "      <td>NaN</td>\n",
       "      <td>NaN</td>\n",
       "      <td>NaN</td>\n",
       "      <td>NaN</td>\n",
       "      <td>NaN</td>\n",
       "      <td>NaN</td>\n",
       "      <td>NaN</td>\n",
       "      <td>NaN</td>\n",
       "      <td>NaN</td>\n",
       "      <td>...</td>\n",
       "      <td>-0.84</td>\n",
       "      <td>-0.30</td>\n",
       "      <td>-0.84</td>\n",
       "      <td>-0.30</td>\n",
       "      <td>0.00</td>\n",
       "      <td>0.00</td>\n",
       "      <td>0.84</td>\n",
       "      <td>0.30</td>\n",
       "      <td>0.00</td>\n",
       "      <td>-0.420</td>\n",
       "    </tr>\n",
       "    <tr>\n",
       "      <th>148</th>\n",
       "      <td>NaN</td>\n",
       "      <td>NaN</td>\n",
       "      <td>NaN</td>\n",
       "      <td>NaN</td>\n",
       "      <td>NaN</td>\n",
       "      <td>NaN</td>\n",
       "      <td>NaN</td>\n",
       "      <td>NaN</td>\n",
       "      <td>NaN</td>\n",
       "      <td>NaN</td>\n",
       "      <td>...</td>\n",
       "      <td>1.10</td>\n",
       "      <td>1.10</td>\n",
       "      <td>0.00</td>\n",
       "      <td>0.00</td>\n",
       "      <td>1.10</td>\n",
       "      <td>1.10</td>\n",
       "      <td>-1.10</td>\n",
       "      <td>-1.10</td>\n",
       "      <td>0.00</td>\n",
       "      <td>0.000</td>\n",
       "    </tr>\n",
       "  </tbody>\n",
       "</table>\n",
       "<p>149 rows × 158 columns</p>\n",
       "</div>"
      ],
      "text/plain": [
       "    lloif10 lmoif3 lmoif4 lmoif8 lmoif14 rmoif5 rmoif11 rmoif12 lacas9  \\\n",
       "0       NaN    NaN    NaN    NaN     NaN    NaN     NaN     NaN    NaN   \n",
       "1       NaN    NaN    NaN    NaN     NaN    NaN     NaN     NaN    NaN   \n",
       "2       NaN    NaN    NaN    NaN     NaN    NaN     NaN     NaN    NaN   \n",
       "3       NaN    NaN    NaN    NaN     NaN    NaN     NaN     NaN    NaN   \n",
       "4       NaN    NaN    NaN    NaN     NaN    NaN     NaN     NaN    NaN   \n",
       "..      ...    ...    ...    ...     ...    ...     ...     ...    ...   \n",
       "144     NaN    NaN    NaN    NaN     NaN    NaN     NaN     NaN    NaN   \n",
       "145     NaN    NaN    NaN    NaN     NaN    NaN     NaN     NaN    NaN   \n",
       "146     NaN    NaN    NaN    NaN     NaN    NaN     NaN     NaN    NaN   \n",
       "147     NaN    NaN    NaN    NaN     NaN    NaN     NaN     NaN    NaN   \n",
       "148     NaN    NaN    NaN    NaN     NaN    NaN     NaN     NaN    NaN   \n",
       "\n",
       "    lacas11  ... totalCPE decisionCPE totalRegret decisionRegret totalRelief  \\\n",
       "0       NaN  ...    -0.57       -0.57       -0.57          -0.57        0.00   \n",
       "1       NaN  ...    -0.95       -0.65       -0.95          -0.65        0.00   \n",
       "2       NaN  ...     1.68        1.28        0.00           0.00        1.68   \n",
       "3       NaN  ...     0.80        0.80        0.00           0.00        0.80   \n",
       "4       NaN  ...     1.24        0.74        0.00           0.00        1.24   \n",
       "..      ...  ...      ...         ...         ...            ...         ...   \n",
       "144     NaN  ...     1.24        0.50        0.00           0.00        1.24   \n",
       "145     NaN  ...    -0.16       -0.16       -0.16          -0.16        0.00   \n",
       "146     NaN  ...    -1.40       -0.90       -1.40          -0.90        0.00   \n",
       "147     NaN  ...    -0.84       -0.30       -0.84          -0.30        0.00   \n",
       "148     NaN  ...     1.10        1.10        0.00           0.00        1.10   \n",
       "\n",
       "    decisionRelief totalCF decisionCF  pRPE   nRPE  \n",
       "0             0.00    0.57       0.57  0.00  0.000  \n",
       "1             0.00    0.00      -0.30  0.00 -0.475  \n",
       "2             1.28    0.00       0.40  0.84  0.000  \n",
       "3             0.80   -0.80      -0.80  0.00  0.000  \n",
       "4             0.74    0.00       0.50  0.62  0.000  \n",
       "..             ...     ...        ...   ...    ...  \n",
       "144           0.50   -1.24      -0.50  0.62  0.000  \n",
       "145           0.00    0.16       0.16  0.00  0.000  \n",
       "146           0.00    0.00      -0.50  0.00 -0.700  \n",
       "147           0.00    0.84       0.30  0.00 -0.420  \n",
       "148           1.10   -1.10      -1.10  0.00  0.000  \n",
       "\n",
       "[149 rows x 158 columns]"
      ]
     },
     "execution_count": 55,
     "metadata": {},
     "output_type": "execute_result"
    }
   ],
   "source": [
    "epochs_all_evs[event].metadata"
   ]
  },
  {
   "cell_type": "markdown",
   "metadata": {},
   "source": [
    "## Save raw epoched data"
   ]
  },
  {
   "cell_type": "code",
   "execution_count": 56,
   "metadata": {},
   "outputs": [],
   "source": [
    "#might not be necessary to save here\n",
    "for event in evs.keys():\n",
    "    epochs_all_evs[event].save(f'{neural_dir}{subj_id}/wm_epoch_{event}.fif', overwrite=True)\n",
    "    #epochs_all_evs[event].save(f'{neural_dir}{subj_id}/bp_epoch_{event}.fif', overwrite=True)"
   ]
  },
  {
   "cell_type": "markdown",
   "metadata": {},
   "source": [
    "# Baselining"
   ]
  },
  {
   "cell_type": "code",
   "execution_count": 57,
   "metadata": {},
   "outputs": [],
   "source": [
    "# Set some spectrogram parameters \n",
    "freqs = np.logspace(*np.log10([2, 200]), num=30)\n",
    "n_cycles = 3\n",
    "sr = 500.0 \n",
    "buf = 1.0\n",
    "buf_ix = int(buf*sr)"
   ]
  },
  {
   "cell_type": "code",
   "execution_count": 58,
   "metadata": {},
   "outputs": [],
   "source": [
    "# Explicitly define a list of analysis events and the baseline event. Should correspond to the dict\n",
    "analysis_evs = ['DecisionOnset']\n",
    "baseline_ev = 'TrialOnset'\n",
    "evs = {'TrialOnset': [-1.0, 0], #maybe increase to full second to take cycles up to 4\n",
    "       #ITI is always at least one second + 10ms buffer for wavelet padding (no horizontal smearing)\n",
    "       'DecisionOnset': [0, 5.0]} #1 sec decision period + 2 second outcome + 3 second counterfactual"
   ]
  },
  {
   "cell_type": "code",
   "execution_count": 59,
   "metadata": {},
   "outputs": [],
   "source": [
    "epochs_all_baseline = {} #removed unecessary 'decisiononset' empty key"
   ]
  },
  {
   "cell_type": "code",
   "execution_count": 60,
   "metadata": {},
   "outputs": [],
   "source": [
    "#baseline epoch - \n",
    "event = 'TrialOnset'\n",
    "epochs = epochs_all_evs[event]\n",
    "\n",
    "good_chans = [x for x in epochs.ch_names if x not in epochs.info['bads']]\n",
    "picks = [x for x in good_chans]\n",
    "\n",
    "pow_struct = np.nan * np.ones([epochs._data.shape[0], \n",
    "                       epochs._data.shape[1], len(freqs), \n",
    "                       epochs._data.shape[-1]])\n",
    "\n",
    "for ch_ix in np.arange(epochs._data.shape[1]): \n",
    "    ch_data = epochs._data[:, ch_ix:ch_ix+1, :]\n",
    "    bad_epochs  = np.where(epochs.metadata[epochs.ch_names[ch_ix]].notnull())[0]\n",
    "    good_epochs = np.delete(np.arange(ch_data.shape[0]), bad_epochs)\n",
    "    ch_data = np.delete(ch_data, bad_epochs, axis=0)\n",
    "    ch_pow = mne.time_frequency.tfr_array_morlet(ch_data, sfreq=epochs.info['sfreq'], \n",
    "                                        freqs=freqs, n_cycles=n_cycles, zero_mean=False, \n",
    "                                        use_fft=True, output='power', n_jobs=1)\n",
    "\n",
    "    pow_struct[good_epochs, ch_ix, :, :] = ch_pow[:, 0, :, :]\n",
    "\n",
    "temp_pow = mne.time_frequency.EpochsTFR(epochs.info, pow_struct, \n",
    "                                        epochs.times, freqs)\n",
    "temp_pow.crop(tmin=evs[event][0], tmax=evs[event][1])\n",
    "\n",
    "epochs_all_baseline[event] = temp_pow\n"
   ]
  },
  {
   "cell_type": "code",
   "execution_count": 61,
   "metadata": {},
   "outputs": [
    {
     "data": {
      "text/plain": [
       "{'TrialOnset': <EpochsTFR | time : [-1.000000, 0.000000], freq : [2.000000, 200.000000], epochs : 149, channels : 137, ~2.29 GB>}"
      ]
     },
     "execution_count": 61,
     "metadata": {},
     "output_type": "execute_result"
    }
   ],
   "source": [
    "epochs_all_baseline"
   ]
  },
  {
   "cell_type": "code",
   "execution_count": 62,
   "metadata": {},
   "outputs": [],
   "source": [
    "power_epochs = {}"
   ]
  },
  {
   "cell_type": "code",
   "execution_count": 63,
   "metadata": {},
   "outputs": [],
   "source": [
    "event = 'DecisionOnset'\n",
    "\n",
    "epochs = epochs_all_evs[event]\n",
    "\n",
    "# Let's make sure we only do this for good channels\n",
    "good_chans = [x for x in epochs.ch_names if x not in epochs.info['bads']]\n",
    "picks = [x for x in good_chans]\n",
    "\n",
    "pow_struct = np.nan * np.ones([epochs._data.shape[0], \n",
    "                       epochs._data.shape[1], len(freqs), \n",
    "                       epochs._data.shape[-1]])\n",
    "\n",
    "for ch_ix in np.arange(epochs._data.shape[1]): \n",
    "    ch_data = epochs._data[:, ch_ix:ch_ix+1, :]\n",
    "    bad_epochs  = np.where(epochs.metadata[epochs.ch_names[ch_ix]].notnull())[0] \n",
    "    good_epochs = np.delete(np.arange(ch_data.shape[0]), bad_epochs)\n",
    "    ch_data = np.delete(ch_data, bad_epochs, axis=0) #this is where bad epochs for ch are deleted!!\n",
    "    ch_pow = mne.time_frequency.tfr_array_morlet(ch_data, sfreq=epochs.info['sfreq'], \n",
    "                                        freqs=freqs, n_cycles=n_cycles, zero_mean=False, \n",
    "                                        use_fft=True, output='power', n_jobs=1)\n",
    "\n",
    "    pow_struct[good_epochs, ch_ix, :, :] = ch_pow[:, 0, :, :]\n",
    "\n",
    "temp_pow = mne.time_frequency.EpochsTFR(epochs.info, pow_struct, \n",
    "                                        epochs.times, freqs)\n",
    "\n",
    "temp_pow.crop(tmin=evs[event][0], tmax=evs[event][1])\n",
    "\n",
    "\n",
    "baseline_corrected_power = lfp_preprocess_utils.baseline_trialwise_TFR(data=temp_pow.data, \n",
    "                                                  baseline_mne=epochs_all_baseline['TrialOnset'], \n",
    "                                                  mode='zscore', \n",
    "                                                  trialwise=False, #discussed change with salman bc of small baseline time\n",
    "                                                  baseline_only=True) ### test trialwise true \n",
    "\n",
    "\n",
    "zpow = mne.time_frequency.EpochsTFR(epochs.info, baseline_corrected_power, \n",
    "                                temp_pow.times, freqs)\n",
    "\n",
    "zpow.metadata = epochs_all_evs[event].metadata\n",
    "\n",
    "power_epochs[event] = zpow\n",
    "\n"
   ]
  },
  {
   "cell_type": "code",
   "execution_count": 64,
   "metadata": {},
   "outputs": [
    {
     "data": {
      "text/plain": [
       "<EpochsTFR | time : [0.000000, 5.000000], freq : [2.000000, 200.000000], epochs : 149, channels : 137, ~11.41 GB>"
      ]
     },
     "execution_count": 64,
     "metadata": {},
     "output_type": "execute_result"
    }
   ],
   "source": [
    "power_epochs['DecisionOnset']"
   ]
  },
  {
   "cell_type": "code",
   "execution_count": 46,
   "metadata": {},
   "outputs": [],
   "source": [
    "#conda install -c conda-forge h5io must install to save tfr data\n",
    "#power_epochs['DecisionOnset'].save(f'{neural_dir}{subj_id}/bp_pow_epochs-tfr.h5', overwrite=True)\n",
    "power_epochs['DecisionOnset'].save(f'{neural_dir}/wm_pow_epochs-tfr.h5', overwrite=True)\n"
   ]
  },
  {
   "cell_type": "markdown",
   "metadata": {},
   "source": [
    "# Wavelet TFRs"
   ]
  },
  {
   "cell_type": "markdown",
   "metadata": {},
   "source": [
    "## All Trials Every Elec TFRs"
   ]
  },
  {
   "cell_type": "code",
   "execution_count": 47,
   "metadata": {},
   "outputs": [],
   "source": [
    "event = 'DecisionOnset'\n",
    "yticks = [4, 12, 30, 60, 90, 120, 150, 180, 200]\n",
    "good_ch = [x for x in power_epochs[event].ch_names if '-' in x]\n",
    "save_path = tfr_dir\n",
    "\n",
    "\n",
    "for ch in good_ch:\n",
    "    fig, ax = plt.subplots(1, 1, figsize=(6, 4))\n",
    "    times = power_epochs[event].times\n",
    "    plot_data = np.nanmean(np.nanmean(power_epochs[event].copy().pick_channels([ch]).data, axis=0), axis=0)\n",
    "\n",
    "    im = ax.imshow(plot_data,\n",
    "            extent=[times[0], times[-1], freqs[0], freqs[-1]], interpolation='Bicubic',\n",
    "            aspect='auto', origin='lower', cmap='RdBu_r',vmin = -np.nanmax(np.abs(plot_data)), vmax = np.nanmax(np.abs(plot_data)))\n",
    "    ax.set(yticks=yticks, xlabel='Time (s)', ylabel='Frequency',title=f'{ch} Encoding')\n",
    "    ax.yaxis.set_tick_params(labelsize=8)\n",
    "    fig.colorbar(im, ax=ax)\n",
    "    plt.savefig(f'{save_path}/{ch}_wmref_baselineonly.png', format='png', metadata=None,\n",
    "    #plt.savefig(f'{save_path}bp_ref_baselineonly/{ch}.png', format='png', metadata=None,\n",
    "    bbox_inches=None, pad_inches=0.1,\n",
    "    facecolor='auto', edgecolor='auto',\n",
    "    backend=None)\n",
    "    plt.close()\n"
   ]
  },
  {
   "cell_type": "markdown",
   "metadata": {},
   "source": [
    "## Single Electrode TFRs by condition"
   ]
  },
  {
   "cell_type": "code",
   "execution_count": null,
   "metadata": {},
   "outputs": [],
   "source": [
    "# ######## SINGLE ELEC \n",
    "\n",
    "# ofc_channels = ['lmolf2-lmolf1','lmolf3-lmolf1','lmolf4-lmolf6','rmolf3-rmolf2']\n",
    "\n",
    "# freqs = np.logspace(*np.log10([4, 200]), num=20)\n",
    "\n",
    "# yticks = np.arange(4,200,step=10)\n",
    "\n",
    "# conditions = [\"(tregret<0)\",\n",
    "#              \"(tregret==0)\"]\n",
    "\n",
    "# cond_name = 'regret'\n",
    "\n",
    "# for ch in ofc_channels:\n",
    "#     fig, ax = plt.subplots(1, 2, figsize=(25, 9), dpi=300)\n",
    "#     for ix, cond in enumerate(conditions):\n",
    "#         plot_title = ['Regret','Relief']\n",
    "#         # Set the times for \n",
    "#         times = power_epochs[event].times\n",
    "#         plot_data = np.nanmean(np.nanmean(power_epochs[event][cond].copy().pick_channels([ch]).data, axis=0), axis=0)\n",
    "\n",
    "#         im = ax[ix].imshow(plot_data,\n",
    "#                 extent=[times[0], times[-1], freqs[0], freqs[-1]], interpolation='Bicubic',\n",
    "#                 aspect='auto', origin='lower', cmap='RdBu_r',vmin = -np.nanmax(np.abs(plot_data)), vmax = np.nanmax(np.abs(plot_data)))\n",
    "#         ax[ix].set(yticks=yticks, xlabel='Time (s)', ylabel='Frequency',title=f'{ch} {plot_title[ix]} Encoding')\n",
    "#         fig.colorbar(im, ax=ax[ix])"
   ]
  },
  {
   "cell_type": "markdown",
   "metadata": {},
   "source": [
    "## ROI TFRs by condition"
   ]
  },
  {
   "cell_type": "code",
   "execution_count": null,
   "metadata": {},
   "outputs": [],
   "source": [
    "# ####### REGION AVERAGED\n",
    "# # rois = ['hippocampus', 'amygdala', 'insula', 'cingulate' ,'frontal']\n",
    "# region = 'hippocampus'\n",
    "\n",
    "# # band definitions for y-axis\n",
    "# yticks = [4, 8, 13, 30, 60, 120]\n",
    "\n",
    "# # task condition to contrast \n",
    "# conditions = [\"(rpe>0)\",\n",
    "#              \"(rpe<0)\"]\n",
    "\n",
    "# cond_name = 'rpe'\n",
    "\n",
    "\n",
    "# for subj_id in subj_ids:\n",
    "#     save_path = f'{base_dir}/work/qasims01/MemoryBanditData/EMU/Subjects/{subj_id}'\n",
    "#     # Get electrode df \n",
    "#     elec_path = f'{base_dir}/projects/guLab/Salman/EMU/{subj_id}/anat/'\n",
    "#     # electrode files could either be csv or excel\n",
    "#     elec_files = glob(f'{elec_path}/*.csv') + glob(f'{elec_path}/*.xlsx')\n",
    "#     # There should really only be one \n",
    "#     elec_file = elec_files[0]\n",
    "#     elec_data = lfp_preprocess_utils.load_elec(elec_file)\n",
    "\n",
    "#     anode_list = [x.split('-')[0] for x in epochs_all_subjs_all_evs[subj_id][event].ch_names]\n",
    "#     elec_df = elec_data[elec_data.label.str.lower().isin(anode_list)]\n",
    "#     # Shawn noticed the following would incorrectly label electrodes if they're not in the same order as .ch_names! \n",
    "#     # elec_df['label'] = epochs_all_subjs_all_evs[subj_id][event].ch_names\n",
    "#     # Fix: \n",
    "#     elec_df['label'] = elec_df['label'].apply(lambda x: next((string for string in epochs_all_subjs_all_evs[subj_id][event].ch_names if x in string), np.nan))\n",
    "    \n",
    "\n",
    "#     picks = analysis_utils.select_picks_rois(elec_df, region)\n",
    "    \n",
    "#     for event in analysis_evs:\n",
    "#         fig, ax = plt.subplots(1, 2, figsize=(20, 6), dpi=300)\n",
    "#         for ix, cond in enumerate(conditions):\n",
    "#             # Set the times for \n",
    "#             times = power_epochs[subj_id][event].times\n",
    "#             plot_data = np.nanmean(np.nanmean(power_epochs[subj_id][event][cond].copy().pick_channels(picks).data, axis=0), axis=0)\n",
    "\n",
    "#             im = ax[ix].imshow(plot_data,\n",
    "#                       extent=[times[0], times[-1], freqs[0], freqs[-1]], interpolation='Bicubic',\n",
    "#                       aspect='auto', origin='lower', cmap='RdBu_r', vmin = -np.nanmax(np.abs(plot_data)), vmax = np.nanmax(np.abs(plot_data)))\n",
    "#             ax[ix].set(yticks=yticks, xlabel='Time (s)', ylabel='Frequency', title=f'{subj_id}_{region}_{cond}_{event}')\n",
    "#             fig.colorbar(im, ax=ax[ix])\n"
   ]
  }
 ],
 "metadata": {
  "kernelspec": {
   "display_name": "Python [conda env:swb_ephys]",
   "language": "python",
   "name": "conda-env-swb_ephys-py"
  },
  "language_info": {
   "codemirror_mode": {
    "name": "ipython",
    "version": 3
   },
   "file_extension": ".py",
   "mimetype": "text/x-python",
   "name": "python",
   "nbconvert_exporter": "python",
   "pygments_lexer": "ipython3",
   "version": "3.10.11"
  }
 },
 "nbformat": 4,
 "nbformat_minor": 2
}
