{
 "cells": [
  {
   "cell_type": "code",
   "execution_count": 1,
   "id": "39ea35d1",
   "metadata": {},
   "outputs": [
    {
     "name": "stderr",
     "output_type": "stream",
     "text": [
      "OMP: Info #276: omp_set_nested routine deprecated, please use omp_set_max_active_levels instead.\n"
     ]
    }
   ],
   "source": [
    "import numpy as np\n",
    "import mne\n",
    "from glob import glob\n",
    "import matplotlib.pyplot as plt\n",
    "from matplotlib.backends.backend_pdf import PdfPages\n",
    "import seaborn as sns\n",
    "from scipy.stats import zscore, linregress, ttest_ind, ttest_rel, ttest_1samp\n",
    "import pandas as pd\n",
    "from mne.preprocessing.bads import _find_outliers\n",
    "import os \n",
    "import joblib\n",
    "import emd\n",
    "import re\n",
    "import scipy"
   ]
  },
  {
   "cell_type": "code",
   "execution_count": 2,
   "id": "44df59d5",
   "metadata": {},
   "outputs": [],
   "source": [
    "import sys\n",
    "sys.path.append('/Users/alexandrafink/Documents/GraduateSchool/SaezLab/SWB/ephys_analysis/scripts/saez_python_pipeline/LFPAnalysis')"
   ]
  },
  {
   "cell_type": "code",
   "execution_count": 3,
   "id": "61db22fa",
   "metadata": {},
   "outputs": [],
   "source": [
    "from LFPAnalysis import lfp_preprocess_utils, sync_utils, analysis_utils, nlx_utils"
   ]
  },
  {
   "cell_type": "markdown",
   "id": "0a08f155",
   "metadata": {},
   "source": [
    "# Wavelet Convolution Examination"
   ]
  },
  {
   "cell_type": "code",
   "execution_count": null,
   "id": "d4b5473f",
   "metadata": {},
   "outputs": [],
   "source": [
    "# Set some spectrogram parameters \n",
    "freqs = np.logspace(*np.log10([4, 120]), num=20)\n",
    "n_cycles = 4  \n",
    "sr = 500\n",
    "buf = 1.0\n",
    "buf_ix = int(buf*sr)\n"
   ]
  },
  {
   "cell_type": "code",
   "execution_count": 32,
   "id": "f7346817",
   "metadata": {
    "scrolled": true
   },
   "outputs": [],
   "source": [
    "freqs1 = np.logspace(*np.log10([4, 200]), num=20)\n",
    "freqs2 = np.logspace(*np.log10([4, 150]), num=20) #20 isn't enough\n",
    "freqs3 = np.logspace(*np.log10([4, 150]),num=30) #doesn't increase freq density in HGA - maybe consider log + linear?\n",
    "freqs4= np.logspace(4, 150,num=30) #not correct! need to input logarithmic numbers to get correct output\n",
    "#p.logspace(*np.log10([4, 150]),num=50) #not solution either - overrepresents lower freqs\n",
    "#p.logspace(*np.log10([4, 150]),num=40) #40 is good middle ground - still overrepresents lower but upper freqs have better spacing"
   ]
  },
  {
   "cell_type": "code",
   "execution_count": null,
   "id": "d95bec22",
   "metadata": {},
   "outputs": [],
   "source": [
    "#salman implementation\n",
    "ch_pow = mne.time_frequency.tfr_array_morlet(ch_data, sfreq=epochs.info['sfreq'], \n",
    "                                    freqs=freqs, n_cycles=n_cycles, zero_mean=False, \n",
    "                                    use_fft=True, output='power', n_jobs=1)\n",
    "\n",
    "#mne base function\n",
    "mne.time_frequency.tfr_morlet(inst, freqs, n_cycles, use_fft=False, \n",
    "                              return_itc=True, decim=1, n_jobs=None, picks=None, zero_mean=True, \n",
    "                              average=True, output='power', verbose=None)"
   ]
  },
  {
   "cell_type": "code",
   "execution_count": null,
   "id": "c875ede8",
   "metadata": {},
   "outputs": [],
   "source": [
    "#mne.time_frequency.tfr_morlet\n",
    "\n",
    "#gives entire TFR across input freqs\n",
    "\n",
    "#input ch data, freqs for morlet, num cycles, sampling freq, n_jobs =1 is just default/None \n",
    "##use fft = True for salman's pipeline, power output, zero_mean = False for salman (morlet wavelet not zero meaned)\n",
    "#decim to reduce memory use\n",
    "#if want TFR for each epoch set average = False\n",
    "#picks = should be good ch - maybe change this in salman's pipeline? \n",
    "\n",
    "\n",
    "#what is morlet wavelet conv using fft vs not using fft? "
   ]
  },
  {
   "cell_type": "code",
   "execution_count": 36,
   "id": "5db105a4",
   "metadata": {},
   "outputs": [],
   "source": [
    "# plot one wavelet with same input parameters salman gave: \n",
    "\n",
    "from scipy import signal\n",
    "#https://github.com/neurodsp-tools/neurodsp/blob/main/tutorials/timefreq/plot_MorletWavelet.py"
   ]
  },
  {
   "cell_type": "code",
   "execution_count": 51,
   "id": "96bf1c8a",
   "metadata": {},
   "outputs": [],
   "source": [
    "# Set some spectrogram parameters \n",
    "\n",
    "# Define settings for a new wavelet\n",
    "freq = 18 #just beta wavelet\n",
    "n_cycles = 4  \n",
    "omega = n_cycles\n",
    "scaling = 1.0 #this is the default \n",
    "fs = 500 #sampling rate - \n",
    "wavelet_len = int(n_cycles * fs / freq) #length of wavelet \n",
    "#f = 2*s*w*r / M gives freq in Hz, so solving for M(length) = 2*scaling*omega*samprate/f\n",
    "\n"
   ]
  },
  {
   "cell_type": "code",
   "execution_count": 52,
   "id": "cfc139de",
   "metadata": {},
   "outputs": [],
   "source": [
    "# Create wavelet\n",
    "wavelet = signal.morlet(wavelet_len, omega, scaling)\n",
    "\n",
    "# pi**-0.25 * exp(1j*w*x) * exp(-0.5*(x**2))\n",
    "# pi**-0.25 * (exp(1j*w*x) - exp(-0.5*(w**2))) * exp(-0.5*(x**2)) wavelet equations!\n"
   ]
  },
  {
   "cell_type": "code",
   "execution_count": 53,
   "id": "4e919245",
   "metadata": {},
   "outputs": [
    {
     "data": {
      "text/plain": [
       "array([ 2.00880304e-09+1.96871981e-24j,  3.67116626e-09+1.80566591e-09j,\n",
       "        5.02069142e-09+6.51452716e-09j,  3.23592038e-09+1.59969185e-08j,\n",
       "       -8.13668942e-09+3.09143830e-08j, -4.04823918e-08+4.66952503e-08j,\n",
       "       -1.08624965e-07+4.58885814e-08j, -2.21708091e-07-1.26734689e-08j,\n",
       "       -3.59439988e-07-2.02906925e-07j, -4.27563965e-07-6.24920962e-07j,\n",
       "       -1.95561274e-07-1.35695993e-06j,  7.56380500e-07-2.33042968e-06j,\n",
       "        3.01138386e-06-3.10013295e-06j,  7.08744282e-06-2.52969553e-06j,\n",
       "        1.28497389e-05+1.47486820e-06j,  1.84579245e-05+1.18669199e-05j,\n",
       "        1.89675528e-05+3.14746009e-05j,  5.17801060e-06+6.05237418e-05j,\n",
       "       -3.59868818e-05+9.23461699e-05j, -1.17613085e-04+1.07895185e-04j,\n",
       "       -2.43413944e-04+7.14478029e-05j, -3.92132513e-04-6.78381068e-05j,\n",
       "       -4.98544140e-04-3.62063388e-04j, -4.39633379e-04-8.32599397e-04j,\n",
       "       -4.10278620e-05-1.41948710e-03j,  8.77626008e-04-1.92328602e-03j,\n",
       "        2.40442936e-03-1.96694447e-03j,  4.38862384e-03-1.02088236e-03j,\n",
       "        6.28339480e-03+1.46164427e-03j,  7.05683547e-03+5.77284731e-03j,\n",
       "        5.28006703e-03+1.15710781e-02j, -5.05988699e-04+1.75062603e-02j,\n",
       "       -1.11143628e-02+2.10489290e-02j, -2.58362518e-02+1.87633553e-02j,\n",
       "       -4.16572623e-02+7.20661949e-03j, -5.30072540e-02-1.55588943e-02j,\n",
       "       -5.25021967e-02-4.81641496e-02j, -3.29304777e-02-8.45031116e-02j,\n",
       "        9.71289578e-03-1.13530242e-01j,  7.29338393e-02-1.21025812e-01j,\n",
       "        1.45489825e-01-9.35379326e-02j,  2.07623276e-01-2.38305983e-02j,\n",
       "        2.34748747e-01+8.37880279e-02j,  2.04461627e-01+2.10487357e-01j,\n",
       "        1.05273243e-01+3.24349833e-01j, -5.57946445e-02+3.87147697e-01j,\n",
       "       -2.50059140e-01+3.65482620e-01j, -4.30923331e-01+2.43259879e-01j,\n",
       "       -5.44862777e-01+3.11459155e-02j, -5.47226635e-01-2.31175715e-01j,\n",
       "       -4.18057214e-01-4.82216721e-01j, -1.72246052e-01-6.54428376e-01j,\n",
       "        1.40420769e-01-6.94176408e-01j,  4.46610603e-01-5.79493272e-01j,\n",
       "        6.69424392e-01-3.29256895e-01j,  7.50873570e-01+0.00000000e+00j,\n",
       "        6.69424392e-01+3.29256895e-01j,  4.46610603e-01+5.79493272e-01j,\n",
       "        1.40420769e-01+6.94176408e-01j, -1.72246052e-01+6.54428376e-01j,\n",
       "       -4.18057214e-01+4.82216721e-01j, -5.47226635e-01+2.31175715e-01j,\n",
       "       -5.44862777e-01-3.11459155e-02j, -4.30923331e-01-2.43259879e-01j,\n",
       "       -2.50059140e-01-3.65482620e-01j, -5.57946445e-02-3.87147697e-01j,\n",
       "        1.05273243e-01-3.24349833e-01j,  2.04461627e-01-2.10487357e-01j,\n",
       "        2.34748747e-01-8.37880279e-02j,  2.07623276e-01+2.38305983e-02j,\n",
       "        1.45489825e-01+9.35379326e-02j,  7.29338393e-02+1.21025812e-01j,\n",
       "        9.71289578e-03+1.13530242e-01j, -3.29304777e-02+8.45031116e-02j,\n",
       "       -5.25021967e-02+4.81641496e-02j, -5.30072540e-02+1.55588943e-02j,\n",
       "       -4.16572623e-02-7.20661949e-03j, -2.58362518e-02-1.87633553e-02j,\n",
       "       -1.11143628e-02-2.10489290e-02j, -5.05988699e-04-1.75062603e-02j,\n",
       "        5.28006703e-03-1.15710781e-02j,  7.05683547e-03-5.77284731e-03j,\n",
       "        6.28339480e-03-1.46164427e-03j,  4.38862384e-03+1.02088236e-03j,\n",
       "        2.40442936e-03+1.96694447e-03j,  8.77626008e-04+1.92328602e-03j,\n",
       "       -4.10278620e-05+1.41948710e-03j, -4.39633379e-04+8.32599397e-04j,\n",
       "       -4.98544140e-04+3.62063388e-04j, -3.92132513e-04+6.78381068e-05j,\n",
       "       -2.43413944e-04-7.14478029e-05j, -1.17613085e-04-1.07895185e-04j,\n",
       "       -3.59868818e-05-9.23461699e-05j,  5.17801060e-06-6.05237418e-05j,\n",
       "        1.89675528e-05-3.14746009e-05j,  1.84579245e-05-1.18669199e-05j,\n",
       "        1.28497389e-05-1.47486820e-06j,  7.08744282e-06+2.52969553e-06j,\n",
       "        3.01138386e-06+3.10013295e-06j,  7.56380500e-07+2.33042968e-06j,\n",
       "       -1.95561274e-07+1.35695993e-06j, -4.27563965e-07+6.24920962e-07j,\n",
       "       -3.59439988e-07+2.02906925e-07j, -2.21708091e-07+1.26734689e-08j,\n",
       "       -1.08624965e-07-4.58885814e-08j, -4.04823918e-08-4.66952503e-08j,\n",
       "       -8.13668942e-09-3.09143830e-08j,  3.23592038e-09-1.59969185e-08j,\n",
       "        5.02069142e-09-6.51452716e-09j,  3.67116626e-09-1.80566591e-09j,\n",
       "        2.00880304e-09-1.96871981e-24j])"
      ]
     },
     "execution_count": 53,
     "metadata": {},
     "output_type": "execute_result"
    }
   ],
   "source": [
    "wavelet"
   ]
  },
  {
   "cell_type": "code",
   "execution_count": 47,
   "id": "3c5ea332",
   "metadata": {},
   "outputs": [
    {
     "data": {
      "text/plain": [
       "Text(0.5, 1.0, 'Beta Freq Wavelet - 4 cycles')"
      ]
     },
     "execution_count": 47,
     "metadata": {},
     "output_type": "execute_result"
    },
    {
     "data": {
      "image/png": "[encoded data removed]",
      "text/plain": [
       "<Figure size 640x480 with 1 Axes>"
      ]
     },
     "metadata": {},
     "output_type": "display_data"
    }
   ],
   "source": [
    "# Plot wavelet\n",
    "_, ax = plt.subplots()\n",
    "ax.plot(np.real(wavelet))\n",
    "ax.plot(np.imag(wavelet))\n",
    "ax.set_axis_off()\n",
    "plt.title('Beta Freq Wavelet - 4 cycles')\n",
    "\n",
    "#this will have higher temporal resolution but worse freq resolution!\n"
   ]
  },
  {
   "cell_type": "code",
   "execution_count": 48,
   "id": "8e7b2376",
   "metadata": {
    "scrolled": true
   },
   "outputs": [
    {
     "data": {
      "text/plain": [
       "Text(0.5, 1.0, 'Beta Freq Wavelet - 10 cycles')"
      ]
     },
     "execution_count": 48,
     "metadata": {},
     "output_type": "execute_result"
    },
    {
     "data": {
      "image/png": "[encoded data removed]",
      "text/plain": [
       "<Figure size 640x480 with 1 Axes>"
      ]
     },
     "metadata": {},
     "output_type": "display_data"
    }
   ],
   "source": [
    "n_cycles = 10\n",
    "omega = n_cycles\n",
    "wavelet_len = int(n_cycles * fs / freq) #length of wavelet \n",
    "wavelet = signal.morlet(wavelet_len, omega, scaling)\n",
    "\n",
    "# Plot wavelet\n",
    "_, ax = plt.subplots()\n",
    "ax.plot(np.real(wavelet))\n",
    "ax.plot(np.imag(wavelet))\n",
    "ax.set_axis_off()\n",
    "plt.title('Beta Freq Wavelet - 10 cycles')\n",
    "\n",
    "#this will have higher frequency resolution but worse temporal resolution!\n"
   ]
  },
  {
   "cell_type": "code",
   "execution_count": null,
   "id": "6260c8fd",
   "metadata": {},
   "outputs": [],
   "source": []
  },
  {
   "cell_type": "code",
   "execution_count": null,
   "id": "d7d2b4a2",
   "metadata": {},
   "outputs": [],
   "source": []
  },
  {
   "cell_type": "code",
   "execution_count": null,
   "id": "6b05b78e",
   "metadata": {},
   "outputs": [],
   "source": [
    "lfp_preprocess_utils.make_mne\n",
    "lfp_preprocess_utils.ref_mne\n",
    "lfp_preprocess_utils.load_elec\n",
    "sync_utils.synchronize_data\n",
    "lfp_preprocess_utils.make_epochs\n",
    "lfp_preprocess_utils.zscore_TFR_across_trials\n",
    "analysis_utils.select_picks_rois"
   ]
  },
  {
   "cell_type": "code",
   "execution_count": null,
   "id": "e138f745",
   "metadata": {},
   "outputs": [],
   "source": [
    "lfp_preprocess_utils.detect_bad_elecs\n",
    "\n",
    "IED_args = {'peak_thresh':4,\n",
    "           'closeness_thresh':0.25, \n",
    "           'width_thresh':0.2}\n"
   ]
  },
  {
   "cell_type": "code",
   "execution_count": null,
   "id": "a8870696",
   "metadata": {},
   "outputs": [],
   "source": [
    "mne.time_frequency.tfr_morlet\n",
    "mne.time_frequency.EpochsTFR"
   ]
  },
  {
   "cell_type": "code",
   "execution_count": null,
   "id": "993a4825",
   "metadata": {},
   "outputs": [],
   "source": [
    "# In this library I want to write some functions that make certain statistical analyses easier to run\n",
    "\n",
    "import scipy as sp\n",
    "import numpy as np\n",
    "import pandas as pd\n",
    "import statsmodels.api as sm\n",
    "import statsmodels.formula.api as smf\n",
    "\n",
    "def time_resolved_regression(timeseries=None, regressors=None, win_len=200, slide_len=50):\n",
    "    \"\"\"\n",
    "    In this function, if you provide a 2D array of z-scored time-varying neural data and a sert of regressors,\n",
    "    this function will run a time-resolved generalized linear model with the provided regressor dataframe.\n",
    "\n",
    "    Typically, this timeseries will be HFA, and the default win_len and slide_len reflect this\n",
    "\n",
    "    timeseries: ndarray, trials x times\n",
    "    regressors: pandas df, index = trials, columns = regressors\n",
    "    \"\"\"\n",
    "\n",
    "    # Check the length of your time window:\n",
    "    if timeseries.shape[1] % slide_len > 0:\n",
    "        print('need to trim your timeseries or pick a neatly divisible window length')\n",
    "        return\n",
    "\n",
    "    # Smooth the timeseries\n",
    "    smoothed_data = np.zeros([timeseries.shape[0], (timeseries.shape[1] // slide_len) - (win_len//slide_len - 1)])\n",
    "    for trial in range(timeseries.shape[0]):\n",
    "        smoothed_data[trial, :] = [np.nanmean(timeseries[trial, i:i+win_len]) for i in range(0, timeseries.shape[1], slide_len) if i+win_len <= timeseries.shape[1]]\n",
    "\n",
    "    # Run the regression\n",
    "    models = []\n",
    "    for ts in range(smoothed_data.shape[1]):\n",
    "        model_df = regressors.copy()\n",
    "        model_df['dv'] = smoothed_data[:, ts]\n",
    "        formula = f'dv ~ 1+'+'+'.join(regressors.columns)\n",
    "        mod = smf.glm(formula=formula, data=model_df, family=sm.families.Gaussian()).fit()\n",
    "        models.append(pd.DataFrame(mod.params).T)\n",
    "\n",
    "    models = pd.concat(models)\n",
    "    return models #df every regressors weights at every time point one channel at a time \n",
    "\n",
    "def time_resolved_regression_perm(timeseries=None, regressors=None, win_len=200, slide_len=50):\n",
    "\n",
    "    models = time_resolved_regression(timeseries, regressors, win_len, slide_len, nsurr)\n",
    "\n",
    "    # Generate permuted timeseries\n",
    "    shuffles = np.random.randint(1, timeseries.shape[1], nsurr)\n",
    "    all_surrs = [] #same thing but suffling \n",
    "    for surr in range(nsurr):\n",
    "        # shuffle in time\n",
    "        surr_ts = np.roll(timeseries, shuffles[surr], axis=1)\n",
    "        # shuffle trials\n",
    "        np.random.shuffle(surr_ts)\n",
    "        # Re-run regression with permuted timeseries\n",
    "        surr_models = time_resolved_regression(surr_ts, regressors, win_len, slide_len)\n",
    "        all_surrs.append(surr_models)\n",
    "\n",
    "    all_surrs = pd.concat(all_surrs)\n",
    "\n",
    "    return all_surrs #compare permutation output to determine significance"
   ]
  },
  {
   "cell_type": "markdown",
   "id": "09c457e8",
   "metadata": {},
   "source": [
    "Notes:\n",
    "\n",
    "Check trial counts before comparing! \n",
    "multiple comparison testing\n"
   ]
  }
 ],
 "metadata": {
  "kernelspec": {
   "display_name": "Python [conda env:swb_ephys]",
   "language": "python",
   "name": "conda-env-swb_ephys-py"
  },
  "language_info": {
   "codemirror_mode": {
    "name": "ipython",
    "version": 3
   },
   "file_extension": ".py",
   "mimetype": "text/x-python",
   "name": "python",
   "nbconvert_exporter": "python",
   "pygments_lexer": "ipython3",
   "version": "3.10.11"
  }
 },
 "nbformat": 4,
 "nbformat_minor": 5
}
